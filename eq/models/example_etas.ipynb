{
 "cells": [
  {
   "cell_type": "code",
   "execution_count": null,
   "metadata": {},
   "outputs": [],
   "source": [
    "for batch in dl_val:\n",
    "    # train the model\n",
    "    # get the validation nll\n",
    "    # \"get the train loss\"\n",
    "\n",
    "\n",
    "dl_train[0], dl_val[0]"
   ]
  }
 ],
 "metadata": {
  "language_info": {
   "name": "python"
  }
 },
 "nbformat": 4,
 "nbformat_minor": 2
}
