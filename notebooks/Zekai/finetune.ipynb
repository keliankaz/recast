{
 "cells": [
  {
   "cell_type": "markdown",
   "metadata": {},
   "source": [
    "## Setup"
   ]
  },
  {
   "cell_type": "code",
   "execution_count": 4,
   "metadata": {},
   "outputs": [
    {
     "name": "stdout",
     "output_type": "stream",
     "text": [
      "The autoreload extension is already loaded. To reload it, use:\n",
      "  %reload_ext autoreload\n"
     ]
    }
   ],
   "source": [
    "%load_ext autoreload\n",
    "%autoreload 2\n",
    "\n",
    "import pytorch_lightning as pl\n",
    "import pytorch_lightning.callbacks as pl_callbacks\n",
    "import torch\n",
    "import numpy as np\n",
    "import matplotlib.pyplot as plt\n",
    "import pickle\n",
    "\n",
    "from tqdm import tqdm, trange\n",
    "\n",
    "import eq\n",
    "from eq.models import RecurrentTPP\n",
    "from eq.catalogs.Combined_Catalog import CombinedCatalog\n",
    "\n",
    "from eq.data import Catalog, InMemoryDataset, Sequence, default_catalogs_dir"
   ]
  },
  {
   "cell_type": "code",
   "execution_count": 5,
   "metadata": {},
   "outputs": [
    {
     "name": "stdout",
     "output_type": "stream",
     "text": [
      "/home/zekai/repos/recast/notebooks/Zekai\n"
     ]
    }
   ],
   "source": [
    "device=\"cuda\"\n",
    "!pwd"
   ]
  },
  {
   "cell_type": "code",
   "execution_count": 6,
   "metadata": {},
   "outputs": [
    {
     "name": "stdout",
     "output_type": "stream",
     "text": [
      "Loading existing catalog from /home/zekai/repos/recast/data/ANSS_MultiCatalog.\n"
     ]
    }
   ],
   "source": [
    "raise Exception(\"unpickle it!\")\n",
    "np.random.seed(42)\n",
    "test_catalog = eq.catalogs.ANSS_MultiCatalog(    \n",
    "    num_sequences=20000,\n",
    "    radius_kilometers = 200,\n",
    "    t_end_days=4*365,\n",
    "    mag_completeness=4.5,\n",
    "    minimum_mainshock_mag=6.0,\n",
    ")\n",
    "\n",
    "assert [len(seq.inter_times) for seq in test_catalog.test][:10] == [44, 22, 16, 54, 84, 8, 8, 201, 383, 30]\n",
    "with open(\"test_catalog\", \"wb\") as f:\n",
    "    pickle.dump(test_catalog, f)\n",
    "\n",
    "test_dl = test_catalog.test.get_dataloader()\n",
    "with open(\"test_dl\", \"wb\") as f:\n",
    "    pickle.dump(test_dl, f)"
   ]
  },
  {
   "cell_type": "code",
   "execution_count": 7,
   "metadata": {},
   "outputs": [],
   "source": [
    "with open(\"test_dl\", \"rb\") as f:\n",
    "    test_dl = pickle.load(f)"
   ]
  },
  {
   "cell_type": "code",
   "execution_count": 8,
   "metadata": {},
   "outputs": [],
   "source": [
    "def train(model, optimizer, dl_train, dl_val, epochs, best_model_path):\n",
    "    avg_train_loss_list = []\n",
    "    avg_val_loss_list = []\n",
    "    best_val_loss = float('inf')\n",
    "    for epoch in trange(epochs):\n",
    "        running_train_loss = []\n",
    "        model.train()\n",
    "        for i, data in enumerate(dl_train):\n",
    "            data = data.to(device)\n",
    "            optimizer.zero_grad()\n",
    "            nll = model.nll_loss(data).mean()\n",
    "            nll.backward()\n",
    "            optimizer.step()\n",
    "            running_train_loss.append(nll.item())\n",
    "                    \n",
    "        model.eval()\n",
    "        with torch.no_grad():\n",
    "            running_val_loss = []\n",
    "            for i, data in enumerate(dl_val):\n",
    "                data = data.to(device)\n",
    "                nll = model.nll_loss(data).mean()\n",
    "                running_val_loss.append(nll.item())\n",
    "\n",
    "        avg_val_loss = np.mean(running_val_loss)\n",
    "        avg_train_loss = np.mean(running_train_loss)\n",
    "        avg_train_loss_list.append(avg_train_loss)\n",
    "        avg_val_loss_list.append(avg_val_loss)\n",
    "\n",
    "        if avg_val_loss < best_val_loss:\n",
    "            best_val_loss = avg_val_loss\n",
    "            torch.save(model.state_dict(), best_model_path)\n",
    "    model.load_state_dict(torch.load(best_model_path))\n",
    "    return model, avg_train_loss_list, avg_val_loss_list\n",
    "\n",
    "def test(model, dl_test):\n",
    "    model.eval()\n",
    "    with torch.no_grad():\n",
    "        nll_loss_list = []\n",
    "        for i, data in enumerate(dl_test):\n",
    "            data = data.to(device)\n",
    "            nll = model.nll_loss(data).mean()\n",
    "            nll_loss_list.append(nll.item())\n",
    "        print(\"avg nll loss: \", np.mean(nll_loss_list))\n",
    "    return np.mean(nll_loss_list)"
   ]
  },
  {
   "cell_type": "code",
   "execution_count": 9,
   "metadata": {},
   "outputs": [
    {
     "name": "stdout",
     "output_type": "stream",
     "text": [
      "Loading existing catalog from /home/zekai/repos/recast/data/ANSS_MultiCatalog.\n",
      "Loading existing catalog from /home/zekai/repos/recast/data/SCEDC.\n",
      "Loading existing catalog from /home/zekai/repos/recast/data/White.\n"
     ]
    },
    {
     "name": "stderr",
     "output_type": "stream",
     "text": [
      "/home/zekai/repos/recast/eq/data/sequence.py:213: UserWarning: Found 1 zero inter-event times in the sequence. This violates fundamental assumptions of TPP models and may lead to incorrect log-likelihood values.\n",
      "  warnings.warn(\n"
     ]
    }
   ],
   "source": [
    "catalogs = []\n",
    "anss = eq.catalogs.ANSS_MultiCatalog(    \n",
    "    num_sequences=100,\n",
    "    t_end_days=1*365,\n",
    "    mag_completeness=4.5,\n",
    "    minimum_mainshock_mag=6.0,\n",
    "    include_depth=False\n",
    ")\n",
    "catalogs.append(anss)\n",
    "scedc = eq.catalogs.SCEDC(include_depth=False)\n",
    "catalogs.append(scedc)\n",
    "white = eq.catalogs.White()\n",
    "catalogs.append(white)"
   ]
  },
  {
   "cell_type": "markdown",
   "metadata": {},
   "source": [
    "## Sanity Check: train on the common test catalog"
   ]
  },
  {
   "cell_type": "code",
   "execution_count": 14,
   "metadata": {},
   "outputs": [],
   "source": [
    "with open(\"test_catalog\", \"rb\") as f:\n",
    "    test_catalog = pickle.load(f)\n",
    "\n",
    "batch_size = 32\n",
    "test_catalog_train_dl = test_catalog.train.get_dataloader(batch_size=batch_size)\n",
    "test_catalog_val_dl = test_catalog.val.get_dataloader(batch_size=batch_size)\n",
    "\n",
    "T = test_catalog.train.sequences[0].t_end\n",
    "N = np.mean([len(seq) for seq in test_catalog.train.sequences])\n",
    "tau_mean = T/N\n",
    "\n",
    "model = RecurrentTPP(\n",
    "    context_size=32,\n",
    "    num_components=32,\n",
    "    rnn_type=\"LSTM\",\n",
    "    dropout_proba=0.1,\n",
    "    tau_mean=tau_mean,\n",
    "    learning_rate=0.005\n",
    ")\n",
    "\n",
    "model = model.to(device)\n",
    "\n",
    "optimizer = torch.optim.AdamW(\n",
    "        model.parameters(), \n",
    "        lr=0.005, \n",
    "        betas=(0.99, 0.999), \n",
    "        weight_decay=0.005\n",
    "    )\n",
    "\n",
    "epochs = 50"
   ]
  },
  {
   "cell_type": "code",
   "execution_count": 15,
   "metadata": {},
   "outputs": [
    {
     "name": "stderr",
     "output_type": "stream",
     "text": [
      "  0%|          | 0/50 [00:00<?, ?it/s]"
     ]
    },
    {
     "name": "stderr",
     "output_type": "stream",
     "text": [
      "100%|██████████| 50/50 [01:52<00:00,  2.26s/it]\n"
     ]
    }
   ],
   "source": [
    "model, avg_train_loss_list, avg_val_loss_list = train(\n",
    "    model=model, \n",
    "    optimizer=optimizer, \n",
    "    dl_train=test_catalog_train_dl, \n",
    "    dl_val=test_catalog_val_dl,\n",
    "    epochs=epochs,\n",
    "    best_model_path=\"temp\"\n",
    ")"
   ]
  },
  {
   "cell_type": "code",
   "execution_count": 16,
   "metadata": {},
   "outputs": [
    {
     "data": {
      "image/png": "[encoded data removed]",
      "text/plain": [
       "<Figure size 640x480 with 1 Axes>"
      ]
     },
     "metadata": {},
     "output_type": "display_data"
    }
   ],
   "source": [
    "plt.plot(np.arange(epochs), avg_train_loss_list, label=\"train loss\")\n",
    "plt.plot(np.arange(epochs), avg_val_loss_list, label=\"val loss\")\n",
    "plt.legend()\n",
    "plt.show()"
   ]
  },
  {
   "cell_type": "code",
   "execution_count": 17,
   "metadata": {},
   "outputs": [
    {
     "name": "stdout",
     "output_type": "stream",
     "text": [
      "avg nll loss:  0.15860382818613925\n"
     ]
    }
   ],
   "source": [
    "avg_test_loss = test(model=model, dl_test=test_dl)"
   ]
  },
  {
   "cell_type": "markdown",
   "metadata": {},
   "source": [
    "## Direct Training"
   ]
  },
  {
   "cell_type": "code",
   "execution_count": 42,
   "metadata": {},
   "outputs": [],
   "source": [
    "batch_size = 32\n",
    "anss_train_dl = anss.train.get_dataloader(batch_size=batch_size)\n",
    "anss_val_dl = anss.val.get_dataloader(batch_size=batch_size)\n",
    "\n",
    "T = anss.train.sequences[0].t_end\n",
    "N = np.mean([len(seq) for seq in anss.train.sequences])\n",
    "tau_mean = T/N\n",
    "\n",
    "model = RecurrentTPP(\n",
    "    context_size=32,\n",
    "    num_components=32,\n",
    "    rnn_type=\"LSTM\",\n",
    "    dropout_proba=0.1,\n",
    "    tau_mean=tau_mean,\n",
    "    learning_rate=0.005\n",
    ")\n",
    "\n",
    "model = model.to(device)\n",
    "\n",
    "optimizer = torch.optim.AdamW(\n",
    "        model.parameters(), \n",
    "        lr=0.005, \n",
    "        betas=(0.99, 0.999), \n",
    "        weight_decay=0.005\n",
    "    )\n",
    "\n",
    "epochs = 200\n",
    "best_model_path = \"direct_training_best_model\""
   ]
  },
  {
   "cell_type": "code",
   "execution_count": 43,
   "metadata": {},
   "outputs": [
    {
     "name": "stderr",
     "output_type": "stream",
     "text": [
      "  0%|          | 0/200 [00:00<?, ?it/s]/home/zekai/miniconda3/envs/eq/lib/python3.11/site-packages/torch/autograd/__init__.py:251: UserWarning: An output with one or more elements was resized since it had shape [32, 1], which does not match the required output shape [32, 32]. This behavior is deprecated, and in a future PyTorch release outputs will not be resized unless they have zero elements. You can explicitly reuse an out tensor t by resizing it, inplace, to zero elements with t.resize_(0). (Triggered internally at /opt/conda/conda-bld/pytorch_1695392035891/work/aten/src/ATen/native/Resize.cpp:28.)\n",
      "  Variable._execution_engine.run_backward(  # Calls into the C++ engine to run the backward pass\n",
      "/home/zekai/miniconda3/envs/eq/lib/python3.11/site-packages/torch/autograd/__init__.py:251: UserWarning: An output with one or more elements was resized since it had shape [32, 1002, 1], which does not match the required output shape [32, 1002, 32]. This behavior is deprecated, and in a future PyTorch release outputs will not be resized unless they have zero elements. You can explicitly reuse an out tensor t by resizing it, inplace, to zero elements with t.resize_(0). (Triggered internally at /opt/conda/conda-bld/pytorch_1695392035891/work/aten/src/ATen/native/Resize.cpp:28.)\n",
      "  Variable._execution_engine.run_backward(  # Calls into the C++ engine to run the backward pass\n",
      "/home/zekai/miniconda3/envs/eq/lib/python3.11/site-packages/torch/autograd/__init__.py:251: UserWarning: An output with one or more elements was resized since it had shape [29, 1], which does not match the required output shape [29, 32]. This behavior is deprecated, and in a future PyTorch release outputs will not be resized unless they have zero elements. You can explicitly reuse an out tensor t by resizing it, inplace, to zero elements with t.resize_(0). (Triggered internally at /opt/conda/conda-bld/pytorch_1695392035891/work/aten/src/ATen/native/Resize.cpp:28.)\n",
      "  Variable._execution_engine.run_backward(  # Calls into the C++ engine to run the backward pass\n",
      "/home/zekai/miniconda3/envs/eq/lib/python3.11/site-packages/torch/autograd/__init__.py:251: UserWarning: An output with one or more elements was resized since it had shape [29, 840, 1], which does not match the required output shape [29, 840, 32]. This behavior is deprecated, and in a future PyTorch release outputs will not be resized unless they have zero elements. You can explicitly reuse an out tensor t by resizing it, inplace, to zero elements with t.resize_(0). (Triggered internally at /opt/conda/conda-bld/pytorch_1695392035891/work/aten/src/ATen/native/Resize.cpp:28.)\n",
      "  Variable._execution_engine.run_backward(  # Calls into the C++ engine to run the backward pass\n",
      "100%|██████████| 200/200 [00:02<00:00, 92.32it/s]\n"
     ]
    }
   ],
   "source": [
    "model, avg_train_loss_list, avg_val_loss_list = train(\n",
    "    model=model, \n",
    "    optimizer=optimizer, \n",
    "    dl_train=anss_train_dl, \n",
    "    dl_val=anss_val_dl,\n",
    "    epochs=epochs,\n",
    "    best_model_path=best_model_path\n",
    ")"
   ]
  },
  {
   "cell_type": "code",
   "execution_count": 44,
   "metadata": {},
   "outputs": [
    {
     "data": {
      "image/png": "[encoded data removed]",
      "text/plain": [
       "<Figure size 640x480 with 1 Axes>"
      ]
     },
     "metadata": {},
     "output_type": "display_data"
    }
   ],
   "source": [
    "plt.plot(np.arange(epochs), avg_train_loss_list, label=\"train loss\")\n",
    "plt.plot(np.arange(epochs), avg_val_loss_list, label=\"val loss\")\n",
    "plt.legend()\n",
    "plt.show()"
   ]
  },
  {
   "cell_type": "code",
   "execution_count": 45,
   "metadata": {},
   "outputs": [
    {
     "name": "stdout",
     "output_type": "stream",
     "text": [
      "avg nll loss:  0.17397633198005497\n"
     ]
    }
   ],
   "source": [
    "avg_test_loss = test(model=model, dl_test=test_dl)"
   ]
  },
  {
   "cell_type": "markdown",
   "metadata": {},
   "source": [
    "## Pretrain"
   ]
  },
  {
   "cell_type": "code",
   "execution_count": 52,
   "metadata": {},
   "outputs": [
    {
     "name": "stdout",
     "output_type": "stream",
     "text": [
      "Loading existing catalog from /home/zekai/repos/recast/notebooks/Zekai/combined.\n",
      "204\n",
      "69.0\n",
      "61\n",
      "67.0\n",
      "67\n",
      "67.0\n",
      "53\n"
     ]
    },
    {
     "name": "stderr",
     "output_type": "stream",
     "text": [
      "/home/zekai/repos/recast/eq/data/sequence.py:213: UserWarning: Found 2 zero inter-event times in the sequence. This violates fundamental assumptions of TPP models and may lead to incorrect log-likelihood values.\n",
      "  warnings.warn(\n"
     ]
    }
   ],
   "source": [
    "# pretrain on mixture dataset, 0.34 0.33 0.33 ratio\n",
    "batch_size = 32\n",
    "combined_catalog = CombinedCatalog(catalogs, [0.34, 0.33, 0.33])\n",
    "conbined_train_dl = combined_catalog.combined_info[\"combined_train\"].get_dataloader(batch_size=batch_size)\n",
    "combined_val_dl = combined_catalog.combined_info[\"combined_val\"].get_dataloader(batch_size=batch_size)\n",
    "\n",
    "T = combined_catalog.combined_info['combined_train'].sequences[0].t_end\n",
    "N = np.mean([len(seq) for seq in combined_catalog.combined_info['combined_train'].sequences])\n",
    "tau_mean = T/N\n",
    "\n",
    "model = RecurrentTPP(\n",
    "    context_size=32,\n",
    "    num_components=32,\n",
    "    rnn_type=\"LSTM\",\n",
    "    dropout_proba=0.1,\n",
    "    tau_mean=tau_mean,\n",
    "    learning_rate=0.005\n",
    ")\n",
    "\n",
    "model = model.to(device)\n",
    "\n",
    "optimizer = torch.optim.AdamW(\n",
    "        model.parameters(), \n",
    "        lr=0.005, \n",
    "        betas=(0.99, 0.999), \n",
    "        weight_decay=0.005\n",
    "    )\n",
    "\n",
    "epochs = 200\n",
    "best_model_path = \"pretrain_best_model\""
   ]
  },
  {
   "cell_type": "code",
   "execution_count": 53,
   "metadata": {},
   "outputs": [
    {
     "name": "stderr",
     "output_type": "stream",
     "text": [
      "  0%|          | 0/200 [00:00<?, ?it/s]/home/zekai/miniconda3/envs/eq/lib/python3.11/site-packages/torch/autograd/__init__.py:251: UserWarning: An output with one or more elements was resized since it had shape [32, 1003, 1], which does not match the required output shape [32, 1003, 32]. This behavior is deprecated, and in a future PyTorch release outputs will not be resized unless they have zero elements. You can explicitly reuse an out tensor t by resizing it, inplace, to zero elements with t.resize_(0). (Triggered internally at /opt/conda/conda-bld/pytorch_1695392035891/work/aten/src/ATen/native/Resize.cpp:28.)\n",
      "  Variable._execution_engine.run_backward(  # Calls into the C++ engine to run the backward pass\n",
      "/home/zekai/miniconda3/envs/eq/lib/python3.11/site-packages/torch/autograd/__init__.py:251: UserWarning: An output with one or more elements was resized since it had shape [21, 1], which does not match the required output shape [21, 32]. This behavior is deprecated, and in a future PyTorch release outputs will not be resized unless they have zero elements. You can explicitly reuse an out tensor t by resizing it, inplace, to zero elements with t.resize_(0). (Triggered internally at /opt/conda/conda-bld/pytorch_1695392035891/work/aten/src/ATen/native/Resize.cpp:28.)\n",
      "  Variable._execution_engine.run_backward(  # Calls into the C++ engine to run the backward pass\n",
      "/home/zekai/miniconda3/envs/eq/lib/python3.11/site-packages/torch/autograd/__init__.py:251: UserWarning: An output with one or more elements was resized since it had shape [21, 1002, 1], which does not match the required output shape [21, 1002, 32]. This behavior is deprecated, and in a future PyTorch release outputs will not be resized unless they have zero elements. You can explicitly reuse an out tensor t by resizing it, inplace, to zero elements with t.resize_(0). (Triggered internally at /opt/conda/conda-bld/pytorch_1695392035891/work/aten/src/ATen/native/Resize.cpp:28.)\n",
      "  Variable._execution_engine.run_backward(  # Calls into the C++ engine to run the backward pass\n",
      "100%|██████████| 200/200 [00:07<00:00, 25.03it/s]\n"
     ]
    }
   ],
   "source": [
    "model, avg_train_loss_list, avg_val_loss_list = train(\n",
    "    model=model, \n",
    "    optimizer=optimizer, \n",
    "    dl_train=conbined_train_dl, \n",
    "    dl_val=combined_val_dl,\n",
    "    epochs=epochs,\n",
    "    best_model_path=best_model_path\n",
    ")"
   ]
  },
  {
   "cell_type": "code",
   "execution_count": 54,
   "metadata": {},
   "outputs": [
    {
     "data": {
      "image/png": "[encoded data removed]",
      "text/plain": [
       "<Figure size 640x480 with 1 Axes>"
      ]
     },
     "metadata": {},
     "output_type": "display_data"
    }
   ],
   "source": [
    "plt.plot(np.arange(epochs), avg_train_loss_list, label=\"train loss\")\n",
    "plt.plot(np.arange(epochs), avg_val_loss_list, label=\"val loss\")\n",
    "plt.legend()\n",
    "plt.show()"
   ]
  },
  {
   "cell_type": "code",
   "execution_count": 55,
   "metadata": {},
   "outputs": [
    {
     "name": "stdout",
     "output_type": "stream",
     "text": [
      "avg nll loss:  0.22489078051072284\n"
     ]
    }
   ],
   "source": [
    "avg_test_loss = test(model=model, dl_test=test_dl)"
   ]
  },
  {
   "cell_type": "markdown",
   "metadata": {},
   "source": [
    "## Finetune"
   ]
  },
  {
   "cell_type": "code",
   "execution_count": 65,
   "metadata": {},
   "outputs": [],
   "source": [
    "batch_size = 32\n",
    "anss_train_dl = anss.train.get_dataloader(batch_size=batch_size)\n",
    "anss_val_dl = anss.val.get_dataloader(batch_size=batch_size)\n",
    "\n",
    "T = anss.train.sequences[0].t_end\n",
    "N = np.mean([len(seq) for seq in anss.train.sequences])\n",
    "tau_mean = T/N\n",
    "\n",
    "model = RecurrentTPP(\n",
    "    context_size=32,\n",
    "    num_components=32,\n",
    "    rnn_type=\"LSTM\",\n",
    "    dropout_proba=0.1,\n",
    "    tau_mean=tau_mean,\n",
    "    learning_rate=0.005\n",
    ")\n",
    "model.to(device)\n",
    "model.load_state_dict(torch.load(\"pretrain_best_model\"))\n",
    "model.tau_mean = torch.tensor(tau_mean)\n",
    "\n",
    "optimizer = torch.optim.AdamW(\n",
    "        model.parameters(), \n",
    "        lr=0.005, \n",
    "        betas=(0.99, 0.999), \n",
    "        weight_decay=0.005\n",
    "    )\n",
    "\n",
    "epochs = 200\n",
    "best_model_path = \"finetune_best_model\""
   ]
  },
  {
   "cell_type": "code",
   "execution_count": 66,
   "metadata": {},
   "outputs": [
    {
     "name": "stderr",
     "output_type": "stream",
     "text": [
      "  0%|          | 0/200 [00:00<?, ?it/s]"
     ]
    },
    {
     "name": "stderr",
     "output_type": "stream",
     "text": [
      "/home/zekai/miniconda3/envs/eq/lib/python3.11/site-packages/torch/autograd/__init__.py:251: UserWarning: An output with one or more elements was resized since it had shape [32, 1], which does not match the required output shape [32, 32]. This behavior is deprecated, and in a future PyTorch release outputs will not be resized unless they have zero elements. You can explicitly reuse an out tensor t by resizing it, inplace, to zero elements with t.resize_(0). (Triggered internally at /opt/conda/conda-bld/pytorch_1695392035891/work/aten/src/ATen/native/Resize.cpp:28.)\n",
      "  Variable._execution_engine.run_backward(  # Calls into the C++ engine to run the backward pass\n",
      "/home/zekai/miniconda3/envs/eq/lib/python3.11/site-packages/torch/autograd/__init__.py:251: UserWarning: An output with one or more elements was resized since it had shape [32, 1002, 1], which does not match the required output shape [32, 1002, 32]. This behavior is deprecated, and in a future PyTorch release outputs will not be resized unless they have zero elements. You can explicitly reuse an out tensor t by resizing it, inplace, to zero elements with t.resize_(0). (Triggered internally at /opt/conda/conda-bld/pytorch_1695392035891/work/aten/src/ATen/native/Resize.cpp:28.)\n",
      "  Variable._execution_engine.run_backward(  # Calls into the C++ engine to run the backward pass\n",
      "/home/zekai/miniconda3/envs/eq/lib/python3.11/site-packages/torch/autograd/__init__.py:251: UserWarning: An output with one or more elements was resized since it had shape [29, 1], which does not match the required output shape [29, 32]. This behavior is deprecated, and in a future PyTorch release outputs will not be resized unless they have zero elements. You can explicitly reuse an out tensor t by resizing it, inplace, to zero elements with t.resize_(0). (Triggered internally at /opt/conda/conda-bld/pytorch_1695392035891/work/aten/src/ATen/native/Resize.cpp:28.)\n",
      "  Variable._execution_engine.run_backward(  # Calls into the C++ engine to run the backward pass\n",
      "/home/zekai/miniconda3/envs/eq/lib/python3.11/site-packages/torch/autograd/__init__.py:251: UserWarning: An output with one or more elements was resized since it had shape [29, 840, 1], which does not match the required output shape [29, 840, 32]. This behavior is deprecated, and in a future PyTorch release outputs will not be resized unless they have zero elements. You can explicitly reuse an out tensor t by resizing it, inplace, to zero elements with t.resize_(0). (Triggered internally at /opt/conda/conda-bld/pytorch_1695392035891/work/aten/src/ATen/native/Resize.cpp:28.)\n",
      "  Variable._execution_engine.run_backward(  # Calls into the C++ engine to run the backward pass\n",
      "100%|██████████| 200/200 [00:02<00:00, 91.68it/s]\n"
     ]
    }
   ],
   "source": [
    "model, avg_train_loss_list, avg_val_loss_list = train(\n",
    "    model=model, \n",
    "    optimizer=optimizer, \n",
    "    dl_train=anss_train_dl, \n",
    "    dl_val=anss_val_dl,\n",
    "    epochs=epochs,\n",
    "    best_model_path=best_model_path\n",
    ")"
   ]
  },
  {
   "cell_type": "code",
   "execution_count": 67,
   "metadata": {},
   "outputs": [
    {
     "data": {
      "image/png": "[encoded data removed]",
      "text/plain": [
       "<Figure size 640x480 with 1 Axes>"
      ]
     },
     "metadata": {},
     "output_type": "display_data"
    }
   ],
   "source": [
    "plt.plot(np.arange(epochs), avg_train_loss_list, label=\"train loss\")\n",
    "plt.plot(np.arange(epochs), avg_val_loss_list, label=\"val loss\")\n",
    "plt.legend()\n",
    "plt.show()"
   ]
  },
  {
   "cell_type": "code",
   "execution_count": 68,
   "metadata": {},
   "outputs": [
    {
     "name": "stdout",
     "output_type": "stream",
     "text": [
      "avg nll loss:  0.17349250259921245\n"
     ]
    }
   ],
   "source": [
    "avg_test_loss = test(model=model, dl_test=test_dl)"
   ]
  },
  {
   "cell_type": "code",
   "execution_count": null,
   "metadata": {},
   "outputs": [],
   "source": []
  }
 ],
 "metadata": {
  "kernelspec": {
   "display_name": "eq",
   "language": "python",
   "name": "python3"
  },
  "language_info": {
   "codemirror_mode": {
    "name": "ipython",
    "version": 3
   },
   "file_extension": ".py",
   "mimetype": "text/x-python",
   "name": "python",
   "nbconvert_exporter": "python",
   "pygments_lexer": "ipython3",
   "version": "3.11.5"
  }
 },
 "nbformat": 4,
 "nbformat_minor": 2
}
