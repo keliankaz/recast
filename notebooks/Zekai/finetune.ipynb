{
 "cells": [
  {
   "cell_type": "markdown",
   "metadata": {},
   "source": [
    "## Setup"
   ]
  },
  {
   "cell_type": "code",
   "execution_count": 32,
   "metadata": {},
   "outputs": [
    {
     "name": "stdout",
     "output_type": "stream",
     "text": [
      "The autoreload extension is already loaded. To reload it, use:\n",
      "  %reload_ext autoreload\n"
     ]
    }
   ],
   "source": [
    "%load_ext autoreload\n",
    "%autoreload 2\n",
    "\n",
    "import pytorch_lightning as pl\n",
    "import pytorch_lightning.callbacks as pl_callbacks\n",
    "import torch\n",
    "import numpy as np\n",
    "import matplotlib.pyplot as plt\n",
    "import pickle\n",
    "\n",
    "from tqdm import tqdm, trange\n",
    "\n",
    "import eq\n",
    "from eq.models import RecurrentTPP\n",
    "from eq.catalogs.Combined_Catalog import CombinedCatalog\n",
    "\n",
    "from eq.data import Catalog, InMemoryDataset, Sequence, default_catalogs_dir"
   ]
  },
  {
   "cell_type": "code",
   "execution_count": 33,
   "metadata": {},
   "outputs": [
    {
     "name": "stdout",
     "output_type": "stream",
     "text": [
      "/home/zekai/repos/recast/notebooks/Zekai\n"
     ]
    }
   ],
   "source": [
    "device=\"cuda\"\n",
    "!pwd"
   ]
  },
  {
   "cell_type": "code",
   "execution_count": 34,
   "metadata": {},
   "outputs": [
    {
     "ename": "Exception",
     "evalue": "unpickle it!",
     "output_type": "error",
     "traceback": [
      "\u001b[0;31m---------------------------------------------------------------------------\u001b[0m",
      "\u001b[0;31mException\u001b[0m                                 Traceback (most recent call last)",
      "\u001b[1;32m/home/zekai/repos/recast/notebooks/Zekai/finetune.ipynb Cell 4\u001b[0m line \u001b[0;36m1\n\u001b[0;32m----> <a href='vscode-notebook-cell:/home/zekai/repos/recast/notebooks/Zekai/finetune.ipynb#W3sZmlsZQ%3D%3D?line=0'>1</a>\u001b[0m \u001b[39mraise\u001b[39;00m \u001b[39mException\u001b[39;00m(\u001b[39m\"\u001b[39m\u001b[39munpickle it!\u001b[39m\u001b[39m\"\u001b[39m)\n\u001b[1;32m      <a href='vscode-notebook-cell:/home/zekai/repos/recast/notebooks/Zekai/finetune.ipynb#W3sZmlsZQ%3D%3D?line=1'>2</a>\u001b[0m np\u001b[39m.\u001b[39mrandom\u001b[39m.\u001b[39mseed(\u001b[39m42\u001b[39m)\n\u001b[1;32m      <a href='vscode-notebook-cell:/home/zekai/repos/recast/notebooks/Zekai/finetune.ipynb#W3sZmlsZQ%3D%3D?line=2'>3</a>\u001b[0m test_catalog \u001b[39m=\u001b[39m eq\u001b[39m.\u001b[39mcatalogs\u001b[39m.\u001b[39mANSS_MultiCatalog(    \n\u001b[1;32m      <a href='vscode-notebook-cell:/home/zekai/repos/recast/notebooks/Zekai/finetune.ipynb#W3sZmlsZQ%3D%3D?line=3'>4</a>\u001b[0m     num_sequences\u001b[39m=\u001b[39m\u001b[39m20000\u001b[39m,\n\u001b[1;32m      <a href='vscode-notebook-cell:/home/zekai/repos/recast/notebooks/Zekai/finetune.ipynb#W3sZmlsZQ%3D%3D?line=4'>5</a>\u001b[0m     radius_kilometers \u001b[39m=\u001b[39m \u001b[39m200\u001b[39m,\n\u001b[0;32m   (...)\u001b[0m\n\u001b[1;32m      <a href='vscode-notebook-cell:/home/zekai/repos/recast/notebooks/Zekai/finetune.ipynb#W3sZmlsZQ%3D%3D?line=7'>8</a>\u001b[0m     minimum_mainshock_mag\u001b[39m=\u001b[39m\u001b[39m6.0\u001b[39m,\n\u001b[1;32m      <a href='vscode-notebook-cell:/home/zekai/repos/recast/notebooks/Zekai/finetune.ipynb#W3sZmlsZQ%3D%3D?line=8'>9</a>\u001b[0m )\n",
      "\u001b[0;31mException\u001b[0m: unpickle it!"
     ]
    }
   ],
   "source": [
    "raise Exception(\"unpickle it!\")\n",
    "np.random.seed(42)\n",
    "test_catalog = eq.catalogs.ANSS_MultiCatalog(    \n",
    "    num_sequences=20000,\n",
    "    radius_kilometers = 200,\n",
    "    t_end_days=4*365,\n",
    "    mag_completeness=4.5,\n",
    "    minimum_mainshock_mag=6.0,\n",
    ")\n",
    "\n",
    "assert [len(seq.inter_times) for seq in test_catalog.test][:10] == [44, 22, 16, 54, 84, 8, 8, 201, 383, 30]\n",
    "with open(\"test_catalog\", \"wb\") as f:\n",
    "    pickle.dump(test_catalog, f)\n",
    "\n",
    "test_dl = test_catalog.test.get_dataloader()\n",
    "with open(\"test_dl\", \"wb\") as f:\n",
    "    pickle.dump(test_dl, f)"
   ]
  },
  {
   "cell_type": "code",
   "execution_count": 35,
   "metadata": {},
   "outputs": [],
   "source": [
    "with open(\"test_dl\", \"rb\") as f:\n",
    "    test_dl = pickle.load(f)"
   ]
  },
  {
   "cell_type": "code",
   "execution_count": 36,
   "metadata": {},
   "outputs": [],
   "source": [
    "def train(model, optimizer, dl_train, dl_val, epochs, best_model_path):\n",
    "    avg_train_loss_list = []\n",
    "    avg_val_loss_list = []\n",
    "    best_val_loss = float('inf')\n",
    "    for epoch in trange(epochs):\n",
    "        running_train_loss = []\n",
    "        model.train()\n",
    "        for i, data in enumerate(dl_train):\n",
    "            data = data.to(device)\n",
    "            optimizer.zero_grad()\n",
    "            nll = model.nll_loss(data).mean()\n",
    "            nll.backward()\n",
    "            optimizer.step()\n",
    "            running_train_loss.append(nll.item())\n",
    "                    \n",
    "        model.eval()\n",
    "        with torch.no_grad():\n",
    "            running_val_loss = []\n",
    "            for i, data in enumerate(dl_val):\n",
    "                data = data.to(device)\n",
    "                nll = model.nll_loss(data).mean()\n",
    "                running_val_loss.append(nll.item())\n",
    "\n",
    "        avg_val_loss = np.mean(running_val_loss)\n",
    "        avg_train_loss = np.mean(running_train_loss)\n",
    "        avg_train_loss_list.append(avg_train_loss)\n",
    "        avg_val_loss_list.append(avg_val_loss)\n",
    "\n",
    "        if avg_val_loss < best_val_loss:\n",
    "            best_val_loss = avg_val_loss\n",
    "            torch.save(model.state_dict(), best_model_path)\n",
    "    model.load_state_dict(torch.load(best_model_path))\n",
    "    return model, avg_train_loss_list, avg_val_loss_list\n",
    "\n",
    "def test(model, dl_test):\n",
    "    model.eval()\n",
    "    with torch.no_grad():\n",
    "        nll_loss_list = []\n",
    "        for i, data in enumerate(dl_test):\n",
    "            data = data.to(device)\n",
    "            nll = model.nll_loss(data).mean()\n",
    "            nll_loss_list.append(nll.item())\n",
    "        print(\"avg nll loss: \", np.mean(nll_loss_list))\n",
    "    return np.mean(nll_loss_list)"
   ]
  },
  {
   "cell_type": "code",
   "execution_count": 37,
   "metadata": {},
   "outputs": [
    {
     "name": "stdout",
     "output_type": "stream",
     "text": [
      "Loading existing catalog from /home/zekai/repos/recast/data/SCEDC.\n",
      "Loading existing catalog from /home/zekai/repos/recast/data/White.\n"
     ]
    },
    {
     "name": "stderr",
     "output_type": "stream",
     "text": [
      "/home/zekai/repos/recast/eq/data/sequence.py:213: UserWarning: Found 1 zero inter-event times in the sequence. This violates fundamental assumptions of TPP models and may lead to incorrect log-likelihood values.\n",
      "  warnings.warn(\n"
     ]
    }
   ],
   "source": [
    "catalogs = []\n",
    "with open(\"test_catalog\", \"rb\") as f:\n",
    "    anss = pickle.load(f)\n",
    "catalogs.append(anss)\n",
    "scedc = eq.catalogs.SCEDC(\n",
    "    include_depth=False\n",
    ")\n",
    "catalogs.append(scedc)\n",
    "white = eq.catalogs.White()\n",
    "catalogs.append(white)"
   ]
  },
  {
   "cell_type": "code",
   "execution_count": 38,
   "metadata": {},
   "outputs": [
    {
     "name": "stdout",
     "output_type": "stream",
     "text": [
      "12000\n",
      "1\n",
      "1\n"
     ]
    }
   ],
   "source": [
    "print(len(anss.train.get_dataloader()))\n",
    "print(len(scedc.train.get_dataloader()))\n",
    "print(len(white.train.get_dataloader()))"
   ]
  },
  {
   "cell_type": "markdown",
   "metadata": {},
   "source": [
    "## Direct Training"
   ]
  },
  {
   "cell_type": "code",
   "execution_count": 27,
   "metadata": {},
   "outputs": [],
   "source": [
    "batch_size = 32\n",
    "anss_train_dl = anss.train.get_dataloader(batch_size=batch_size)\n",
    "anss_val_dl = anss.val.get_dataloader(batch_size=batch_size)\n",
    "\n",
    "T = anss.train.sequences[0].t_end\n",
    "N = np.mean([len(seq) for seq in anss.train.sequences])\n",
    "tau_mean = T/N\n",
    "\n",
    "model = RecurrentTPP(\n",
    "    context_size=32,\n",
    "    num_components=32,\n",
    "    rnn_type=\"LSTM\",\n",
    "    dropout_proba=0.1,\n",
    "    tau_mean=tau_mean,\n",
    "    learning_rate=0.005\n",
    ")\n",
    "\n",
    "model = model.to(device)\n",
    "\n",
    "optimizer = torch.optim.AdamW(\n",
    "        model.parameters(), \n",
    "        lr=0.005, \n",
    "        betas=(0.99, 0.999), \n",
    "        weight_decay=0.005\n",
    "    )\n",
    "\n",
    "epochs = 80\n",
    "best_model_path = \"direct_training_best_model\""
   ]
  },
  {
   "cell_type": "code",
   "execution_count": 28,
   "metadata": {},
   "outputs": [
    {
     "data": {
      "text/plain": [
       "375"
      ]
     },
     "execution_count": 28,
     "metadata": {},
     "output_type": "execute_result"
    }
   ],
   "source": [
    "len(anss_train_dl)"
   ]
  },
  {
   "cell_type": "code",
   "execution_count": 17,
   "metadata": {},
   "outputs": [
    {
     "name": "stderr",
     "output_type": "stream",
     "text": [
      "  0%|          | 0/80 [00:00<?, ?it/s]"
     ]
    },
    {
     "name": "stderr",
     "output_type": "stream",
     "text": [
      "100%|██████████| 80/80 [03:06<00:00,  2.33s/it]\n"
     ]
    }
   ],
   "source": [
    "model, avg_train_loss_list, avg_val_loss_list = train(\n",
    "    model=model, \n",
    "    optimizer=optimizer, \n",
    "    dl_train=anss_train_dl, \n",
    "    dl_val=anss_val_dl,\n",
    "    epochs=epochs,\n",
    "    best_model_path=best_model_path\n",
    ")"
   ]
  },
  {
   "cell_type": "code",
   "execution_count": 44,
   "metadata": {},
   "outputs": [
    {
     "data": {
      "image/png": "[encoded data removed]",
      "text/plain": [
       "<Figure size 640x480 with 1 Axes>"
      ]
     },
     "metadata": {},
     "output_type": "display_data"
    }
   ],
   "source": [
    "plt.plot(np.arange(epochs), avg_train_loss_list, label=\"train loss\")\n",
    "plt.plot(np.arange(epochs), avg_val_loss_list, label=\"val loss\")\n",
    "plt.legend()\n",
    "plt.show()"
   ]
  },
  {
   "cell_type": "code",
   "execution_count": 18,
   "metadata": {},
   "outputs": [
    {
     "name": "stdout",
     "output_type": "stream",
     "text": [
      "avg nll loss:  0.1602058417095468\n"
     ]
    }
   ],
   "source": [
    "avg_test_loss = test(model=model, dl_test=test_dl)"
   ]
  },
  {
   "cell_type": "markdown",
   "metadata": {},
   "source": [
    "## Pretrain"
   ]
  },
  {
   "cell_type": "code",
   "execution_count": 39,
   "metadata": {},
   "outputs": [
    {
     "name": "stdout",
     "output_type": "stream",
     "text": [
      "Loading existing catalog from /home/zekai/repos/recast/notebooks/Zekai/combined.\n",
      "12245\n",
      "11143.0\n",
      "11143\n",
      "735.0\n",
      "90\n",
      "367.0\n",
      "53\n"
     ]
    },
    {
     "name": "stderr",
     "output_type": "stream",
     "text": [
      "/home/zekai/repos/recast/eq/data/sequence.py:213: UserWarning: Found 2 zero inter-event times in the sequence. This violates fundamental assumptions of TPP models and may lead to incorrect log-likelihood values.\n",
      "  warnings.warn(\n"
     ]
    }
   ],
   "source": [
    "# pretrain on mixture dataset, 0.34 0.33 0.33 ratio\n",
    "batch_size = 32\n",
    "combined_catalog = CombinedCatalog(catalogs, [0.91, 0.06, 0.03])\n",
    "conbined_train_dl = combined_catalog.combined_info[\"combined_train\"].get_dataloader(batch_size=batch_size)\n",
    "combined_val_dl = combined_catalog.combined_info[\"combined_val\"].get_dataloader(batch_size=batch_size)\n",
    "\n",
    "T = combined_catalog.combined_info['combined_train'].sequences[0].t_end\n",
    "N = np.mean([len(seq) for seq in combined_catalog.combined_info['combined_train'].sequences])\n",
    "tau_mean = T/N\n",
    "\n",
    "model = RecurrentTPP(\n",
    "    context_size=32,\n",
    "    num_components=32,\n",
    "    rnn_type=\"LSTM\",\n",
    "    dropout_proba=0.1,\n",
    "    tau_mean=tau_mean,\n",
    "    learning_rate=0.005\n",
    ")\n",
    "\n",
    "model = model.to(device)\n",
    "\n",
    "optimizer = torch.optim.AdamW(\n",
    "        model.parameters(), \n",
    "        lr=0.005, \n",
    "        betas=(0.99, 0.999), \n",
    "        weight_decay=0.005\n",
    "    )\n",
    "\n",
    "epochs = 200\n",
    "best_model_path = \"pretrain_best_model\""
   ]
  },
  {
   "cell_type": "code",
   "execution_count": 41,
   "metadata": {},
   "outputs": [
    {
     "name": "stderr",
     "output_type": "stream",
     "text": [
      "  0%|          | 0/200 [00:00<?, ?it/s]"
     ]
    },
    {
     "name": "stderr",
     "output_type": "stream",
     "text": [
      "/home/zekai/miniconda3/envs/eq/lib/python3.11/site-packages/torch/autograd/__init__.py:251: UserWarning: An output with one or more elements was resized since it had shape [32, 1], which does not match the required output shape [32, 32]. This behavior is deprecated, and in a future PyTorch release outputs will not be resized unless they have zero elements. You can explicitly reuse an out tensor t by resizing it, inplace, to zero elements with t.resize_(0). (Triggered internally at /opt/conda/conda-bld/pytorch_1695392035891/work/aten/src/ATen/native/Resize.cpp:28.)\n",
      "  Variable._execution_engine.run_backward(  # Calls into the C++ engine to run the backward pass\n",
      "/home/zekai/miniconda3/envs/eq/lib/python3.11/site-packages/torch/autograd/__init__.py:251: UserWarning: An output with one or more elements was resized since it had shape [32, 783, 1], which does not match the required output shape [32, 783, 32]. This behavior is deprecated, and in a future PyTorch release outputs will not be resized unless they have zero elements. You can explicitly reuse an out tensor t by resizing it, inplace, to zero elements with t.resize_(0). (Triggered internally at /opt/conda/conda-bld/pytorch_1695392035891/work/aten/src/ATen/native/Resize.cpp:28.)\n",
      "  Variable._execution_engine.run_backward(  # Calls into the C++ engine to run the backward pass\n",
      "/home/zekai/miniconda3/envs/eq/lib/python3.11/site-packages/torch/autograd/__init__.py:251: UserWarning: An output with one or more elements was resized since it had shape [32, 831, 1], which does not match the required output shape [32, 831, 32]. This behavior is deprecated, and in a future PyTorch release outputs will not be resized unless they have zero elements. You can explicitly reuse an out tensor t by resizing it, inplace, to zero elements with t.resize_(0). (Triggered internally at /opt/conda/conda-bld/pytorch_1695392035891/work/aten/src/ATen/native/Resize.cpp:28.)\n",
      "  Variable._execution_engine.run_backward(  # Calls into the C++ engine to run the backward pass\n",
      "/home/zekai/miniconda3/envs/eq/lib/python3.11/site-packages/torch/autograd/__init__.py:251: UserWarning: An output with one or more elements was resized since it had shape [32, 486, 1], which does not match the required output shape [32, 486, 32]. This behavior is deprecated, and in a future PyTorch release outputs will not be resized unless they have zero elements. You can explicitly reuse an out tensor t by resizing it, inplace, to zero elements with t.resize_(0). (Triggered internally at /opt/conda/conda-bld/pytorch_1695392035891/work/aten/src/ATen/native/Resize.cpp:28.)\n",
      "  Variable._execution_engine.run_backward(  # Calls into the C++ engine to run the backward pass\n",
      "/home/zekai/miniconda3/envs/eq/lib/python3.11/site-packages/torch/autograd/__init__.py:251: UserWarning: An output with one or more elements was resized since it had shape [32, 1002, 1], which does not match the required output shape [32, 1002, 32]. This behavior is deprecated, and in a future PyTorch release outputs will not be resized unless they have zero elements. You can explicitly reuse an out tensor t by resizing it, inplace, to zero elements with t.resize_(0). (Triggered internally at /opt/conda/conda-bld/pytorch_1695392035891/work/aten/src/ATen/native/Resize.cpp:28.)\n",
      "  Variable._execution_engine.run_backward(  # Calls into the C++ engine to run the backward pass\n",
      "/home/zekai/miniconda3/envs/eq/lib/python3.11/site-packages/torch/autograd/__init__.py:251: UserWarning: An output with one or more elements was resized since it had shape [32, 570, 1], which does not match the required output shape [32, 570, 32]. This behavior is deprecated, and in a future PyTorch release outputs will not be resized unless they have zero elements. You can explicitly reuse an out tensor t by resizing it, inplace, to zero elements with t.resize_(0). (Triggered internally at /opt/conda/conda-bld/pytorch_1695392035891/work/aten/src/ATen/native/Resize.cpp:28.)\n",
      "  Variable._execution_engine.run_backward(  # Calls into the C++ engine to run the backward pass\n",
      "/home/zekai/miniconda3/envs/eq/lib/python3.11/site-packages/torch/autograd/__init__.py:251: UserWarning: An output with one or more elements was resized since it had shape [32, 718, 1], which does not match the required output shape [32, 718, 32]. This behavior is deprecated, and in a future PyTorch release outputs will not be resized unless they have zero elements. You can explicitly reuse an out tensor t by resizing it, inplace, to zero elements with t.resize_(0). (Triggered internally at /opt/conda/conda-bld/pytorch_1695392035891/work/aten/src/ATen/native/Resize.cpp:28.)\n",
      "  Variable._execution_engine.run_backward(  # Calls into the C++ engine to run the backward pass\n",
      "/home/zekai/miniconda3/envs/eq/lib/python3.11/site-packages/torch/autograd/__init__.py:251: UserWarning: An output with one or more elements was resized since it had shape [32, 954, 1], which does not match the required output shape [32, 954, 32]. This behavior is deprecated, and in a future PyTorch release outputs will not be resized unless they have zero elements. You can explicitly reuse an out tensor t by resizing it, inplace, to zero elements with t.resize_(0). (Triggered internally at /opt/conda/conda-bld/pytorch_1695392035891/work/aten/src/ATen/native/Resize.cpp:28.)\n",
      "  Variable._execution_engine.run_backward(  # Calls into the C++ engine to run the backward pass\n",
      "/home/zekai/miniconda3/envs/eq/lib/python3.11/site-packages/torch/autograd/__init__.py:251: UserWarning: An output with one or more elements was resized since it had shape [32, 620, 1], which does not match the required output shape [32, 620, 32]. This behavior is deprecated, and in a future PyTorch release outputs will not be resized unless they have zero elements. You can explicitly reuse an out tensor t by resizing it, inplace, to zero elements with t.resize_(0). (Triggered internally at /opt/conda/conda-bld/pytorch_1695392035891/work/aten/src/ATen/native/Resize.cpp:28.)\n",
      "  Variable._execution_engine.run_backward(  # Calls into the C++ engine to run the backward pass\n",
      "/home/zekai/miniconda3/envs/eq/lib/python3.11/site-packages/torch/autograd/__init__.py:251: UserWarning: An output with one or more elements was resized since it had shape [32, 903, 1], which does not match the required output shape [32, 903, 32]. This behavior is deprecated, and in a future PyTorch release outputs will not be resized unless they have zero elements. You can explicitly reuse an out tensor t by resizing it, inplace, to zero elements with t.resize_(0). (Triggered internally at /opt/conda/conda-bld/pytorch_1695392035891/work/aten/src/ATen/native/Resize.cpp:28.)\n",
      "  Variable._execution_engine.run_backward(  # Calls into the C++ engine to run the backward pass\n",
      "/home/zekai/miniconda3/envs/eq/lib/python3.11/site-packages/torch/autograd/__init__.py:251: UserWarning: An output with one or more elements was resized since it had shape [32, 433, 1], which does not match the required output shape [32, 433, 32]. This behavior is deprecated, and in a future PyTorch release outputs will not be resized unless they have zero elements. You can explicitly reuse an out tensor t by resizing it, inplace, to zero elements with t.resize_(0). (Triggered internally at /opt/conda/conda-bld/pytorch_1695392035891/work/aten/src/ATen/native/Resize.cpp:28.)\n",
      "  Variable._execution_engine.run_backward(  # Calls into the C++ engine to run the backward pass\n",
      "/home/zekai/miniconda3/envs/eq/lib/python3.11/site-packages/torch/autograd/__init__.py:251: UserWarning: An output with one or more elements was resized since it had shape [32, 504, 1], which does not match the required output shape [32, 504, 32]. This behavior is deprecated, and in a future PyTorch release outputs will not be resized unless they have zero elements. You can explicitly reuse an out tensor t by resizing it, inplace, to zero elements with t.resize_(0). (Triggered internally at /opt/conda/conda-bld/pytorch_1695392035891/work/aten/src/ATen/native/Resize.cpp:28.)\n",
      "  Variable._execution_engine.run_backward(  # Calls into the C++ engine to run the backward pass\n",
      "/home/zekai/miniconda3/envs/eq/lib/python3.11/site-packages/torch/autograd/__init__.py:251: UserWarning: An output with one or more elements was resized since it had shape [32, 897, 1], which does not match the required output shape [32, 897, 32]. This behavior is deprecated, and in a future PyTorch release outputs will not be resized unless they have zero elements. You can explicitly reuse an out tensor t by resizing it, inplace, to zero elements with t.resize_(0). (Triggered internally at /opt/conda/conda-bld/pytorch_1695392035891/work/aten/src/ATen/native/Resize.cpp:28.)\n",
      "  Variable._execution_engine.run_backward(  # Calls into the C++ engine to run the backward pass\n",
      "/home/zekai/miniconda3/envs/eq/lib/python3.11/site-packages/torch/autograd/__init__.py:251: UserWarning: An output with one or more elements was resized since it had shape [32, 793, 1], which does not match the required output shape [32, 793, 32]. This behavior is deprecated, and in a future PyTorch release outputs will not be resized unless they have zero elements. You can explicitly reuse an out tensor t by resizing it, inplace, to zero elements with t.resize_(0). (Triggered internally at /opt/conda/conda-bld/pytorch_1695392035891/work/aten/src/ATen/native/Resize.cpp:28.)\n",
      "  Variable._execution_engine.run_backward(  # Calls into the C++ engine to run the backward pass\n",
      "/home/zekai/miniconda3/envs/eq/lib/python3.11/site-packages/torch/autograd/__init__.py:251: UserWarning: An output with one or more elements was resized since it had shape [32, 906, 1], which does not match the required output shape [32, 906, 32]. This behavior is deprecated, and in a future PyTorch release outputs will not be resized unless they have zero elements. You can explicitly reuse an out tensor t by resizing it, inplace, to zero elements with t.resize_(0). (Triggered internally at /opt/conda/conda-bld/pytorch_1695392035891/work/aten/src/ATen/native/Resize.cpp:28.)\n",
      "  Variable._execution_engine.run_backward(  # Calls into the C++ engine to run the backward pass\n",
      "/home/zekai/miniconda3/envs/eq/lib/python3.11/site-packages/torch/autograd/__init__.py:251: UserWarning: An output with one or more elements was resized since it had shape [32, 881, 1], which does not match the required output shape [32, 881, 32]. This behavior is deprecated, and in a future PyTorch release outputs will not be resized unless they have zero elements. You can explicitly reuse an out tensor t by resizing it, inplace, to zero elements with t.resize_(0). (Triggered internally at /opt/conda/conda-bld/pytorch_1695392035891/work/aten/src/ATen/native/Resize.cpp:28.)\n",
      "  Variable._execution_engine.run_backward(  # Calls into the C++ engine to run the backward pass\n",
      "/home/zekai/miniconda3/envs/eq/lib/python3.11/site-packages/torch/autograd/__init__.py:251: UserWarning: An output with one or more elements was resized since it had shape [32, 394, 1], which does not match the required output shape [32, 394, 32]. This behavior is deprecated, and in a future PyTorch release outputs will not be resized unless they have zero elements. You can explicitly reuse an out tensor t by resizing it, inplace, to zero elements with t.resize_(0). (Triggered internally at /opt/conda/conda-bld/pytorch_1695392035891/work/aten/src/ATen/native/Resize.cpp:28.)\n",
      "  Variable._execution_engine.run_backward(  # Calls into the C++ engine to run the backward pass\n",
      "/home/zekai/miniconda3/envs/eq/lib/python3.11/site-packages/torch/autograd/__init__.py:251: UserWarning: An output with one or more elements was resized since it had shape [32, 549, 1], which does not match the required output shape [32, 549, 32]. This behavior is deprecated, and in a future PyTorch release outputs will not be resized unless they have zero elements. You can explicitly reuse an out tensor t by resizing it, inplace, to zero elements with t.resize_(0). (Triggered internally at /opt/conda/conda-bld/pytorch_1695392035891/work/aten/src/ATen/native/Resize.cpp:28.)\n",
      "  Variable._execution_engine.run_backward(  # Calls into the C++ engine to run the backward pass\n",
      "/home/zekai/miniconda3/envs/eq/lib/python3.11/site-packages/torch/autograd/__init__.py:251: UserWarning: An output with one or more elements was resized since it had shape [32, 485, 1], which does not match the required output shape [32, 485, 32]. This behavior is deprecated, and in a future PyTorch release outputs will not be resized unless they have zero elements. You can explicitly reuse an out tensor t by resizing it, inplace, to zero elements with t.resize_(0). (Triggered internally at /opt/conda/conda-bld/pytorch_1695392035891/work/aten/src/ATen/native/Resize.cpp:28.)\n",
      "  Variable._execution_engine.run_backward(  # Calls into the C++ engine to run the backward pass\n",
      "/home/zekai/miniconda3/envs/eq/lib/python3.11/site-packages/torch/autograd/__init__.py:251: UserWarning: An output with one or more elements was resized since it had shape [32, 571, 1], which does not match the required output shape [32, 571, 32]. This behavior is deprecated, and in a future PyTorch release outputs will not be resized unless they have zero elements. You can explicitly reuse an out tensor t by resizing it, inplace, to zero elements with t.resize_(0). (Triggered internally at /opt/conda/conda-bld/pytorch_1695392035891/work/aten/src/ATen/native/Resize.cpp:28.)\n",
      "  Variable._execution_engine.run_backward(  # Calls into the C++ engine to run the backward pass\n",
      "/home/zekai/miniconda3/envs/eq/lib/python3.11/site-packages/torch/autograd/__init__.py:251: UserWarning: An output with one or more elements was resized since it had shape [32, 470, 1], which does not match the required output shape [32, 470, 32]. This behavior is deprecated, and in a future PyTorch release outputs will not be resized unless they have zero elements. You can explicitly reuse an out tensor t by resizing it, inplace, to zero elements with t.resize_(0). (Triggered internally at /opt/conda/conda-bld/pytorch_1695392035891/work/aten/src/ATen/native/Resize.cpp:28.)\n",
      "  Variable._execution_engine.run_backward(  # Calls into the C++ engine to run the backward pass\n",
      "/home/zekai/miniconda3/envs/eq/lib/python3.11/site-packages/torch/autograd/__init__.py:251: UserWarning: An output with one or more elements was resized since it had shape [32, 710, 1], which does not match the required output shape [32, 710, 32]. This behavior is deprecated, and in a future PyTorch release outputs will not be resized unless they have zero elements. You can explicitly reuse an out tensor t by resizing it, inplace, to zero elements with t.resize_(0). (Triggered internally at /opt/conda/conda-bld/pytorch_1695392035891/work/aten/src/ATen/native/Resize.cpp:28.)\n",
      "  Variable._execution_engine.run_backward(  # Calls into the C++ engine to run the backward pass\n",
      "  0%|          | 0/200 [00:00<?, ?it/s]\n"
     ]
    },
    {
     "ename": "ValueError",
     "evalue": "Expected parameter scale (Tensor of shape (32, 1002, 32)) of distribution Weibull(scale: torch.Size([32, 1002, 32]), shape: torch.Size([32, 1002, 32])) to satisfy the constraint GreaterThan(lower_bound=0.0), but found invalid values:\ntensor([[[nan, nan, nan,  ..., nan, nan, nan],\n         [nan, nan, nan,  ..., nan, nan, nan],\n         [nan, nan, nan,  ..., nan, nan, nan],\n         ...,\n         [nan, nan, nan,  ..., nan, nan, nan],\n         [nan, nan, nan,  ..., nan, nan, nan],\n         [nan, nan, nan,  ..., nan, nan, nan]],\n\n        [[nan, nan, nan,  ..., nan, nan, nan],\n         [nan, nan, nan,  ..., nan, nan, nan],\n         [nan, nan, nan,  ..., nan, nan, nan],\n         ...,\n         [nan, nan, nan,  ..., nan, nan, nan],\n         [nan, nan, nan,  ..., nan, nan, nan],\n         [nan, nan, nan,  ..., nan, nan, nan]],\n\n        [[nan, nan, nan,  ..., nan, nan, nan],\n         [nan, nan, nan,  ..., nan, nan, nan],\n         [nan, nan, nan,  ..., nan, nan, nan],\n         ...,\n         [nan, nan, nan,  ..., nan, nan, nan],\n         [nan, nan, nan,  ..., nan, nan, nan],\n         [nan, nan, nan,  ..., nan, nan, nan]],\n\n        ...,\n\n        [[nan, nan, nan,  ..., nan, nan, nan],\n         [nan, nan, nan,  ..., nan, nan, nan],\n         [nan, nan, nan,  ..., nan, nan, nan],\n         ...,\n         [nan, nan, nan,  ..., nan, nan, nan],\n         [nan, nan, nan,  ..., nan, nan, nan],\n         [nan, nan, nan,  ..., nan, nan, nan]],\n\n        [[nan, nan, nan,  ..., nan, nan, nan],\n         [nan, nan, nan,  ..., nan, nan, nan],\n         [nan, nan, nan,  ..., nan, nan, nan],\n         ...,\n         [nan, nan, nan,  ..., nan, nan, nan],\n         [nan, nan, nan,  ..., nan, nan, nan],\n         [nan, nan, nan,  ..., nan, nan, nan]],\n\n        [[nan, nan, nan,  ..., nan, nan, nan],\n         [nan, nan, nan,  ..., nan, nan, nan],\n         [nan, nan, nan,  ..., nan, nan, nan],\n         ...,\n         [nan, nan, nan,  ..., nan, nan, nan],\n         [nan, nan, nan,  ..., nan, nan, nan],\n         [nan, nan, nan,  ..., nan, nan, nan]]], device='cuda:0',\n       grad_fn=<SoftplusBackward0>)",
     "output_type": "error",
     "traceback": [
      "\u001b[0;31m---------------------------------------------------------------------------\u001b[0m",
      "\u001b[0;31mValueError\u001b[0m                                Traceback (most recent call last)",
      "\u001b[1;32m/home/zekai/repos/recast/notebooks/Zekai/finetune.ipynb Cell 17\u001b[0m line \u001b[0;36m1\n\u001b[0;32m----> <a href='vscode-notebook-cell:/home/zekai/repos/recast/notebooks/Zekai/finetune.ipynb#X23sZmlsZQ%3D%3D?line=0'>1</a>\u001b[0m model, avg_train_loss_list, avg_val_loss_list \u001b[39m=\u001b[39m train(\n\u001b[1;32m      <a href='vscode-notebook-cell:/home/zekai/repos/recast/notebooks/Zekai/finetune.ipynb#X23sZmlsZQ%3D%3D?line=1'>2</a>\u001b[0m     model\u001b[39m=\u001b[39mmodel, \n\u001b[1;32m      <a href='vscode-notebook-cell:/home/zekai/repos/recast/notebooks/Zekai/finetune.ipynb#X23sZmlsZQ%3D%3D?line=2'>3</a>\u001b[0m     optimizer\u001b[39m=\u001b[39moptimizer, \n\u001b[1;32m      <a href='vscode-notebook-cell:/home/zekai/repos/recast/notebooks/Zekai/finetune.ipynb#X23sZmlsZQ%3D%3D?line=3'>4</a>\u001b[0m     dl_train\u001b[39m=\u001b[39mconbined_train_dl, \n\u001b[1;32m      <a href='vscode-notebook-cell:/home/zekai/repos/recast/notebooks/Zekai/finetune.ipynb#X23sZmlsZQ%3D%3D?line=4'>5</a>\u001b[0m     dl_val\u001b[39m=\u001b[39mcombined_val_dl,\n\u001b[1;32m      <a href='vscode-notebook-cell:/home/zekai/repos/recast/notebooks/Zekai/finetune.ipynb#X23sZmlsZQ%3D%3D?line=5'>6</a>\u001b[0m     epochs\u001b[39m=\u001b[39mepochs,\n\u001b[1;32m      <a href='vscode-notebook-cell:/home/zekai/repos/recast/notebooks/Zekai/finetune.ipynb#X23sZmlsZQ%3D%3D?line=6'>7</a>\u001b[0m     best_model_path\u001b[39m=\u001b[39mbest_model_path\n\u001b[1;32m      <a href='vscode-notebook-cell:/home/zekai/repos/recast/notebooks/Zekai/finetune.ipynb#X23sZmlsZQ%3D%3D?line=7'>8</a>\u001b[0m )\n",
      "\u001b[1;32m/home/zekai/repos/recast/notebooks/Zekai/finetune.ipynb Cell 17\u001b[0m line \u001b[0;36m1\n\u001b[1;32m      <a href='vscode-notebook-cell:/home/zekai/repos/recast/notebooks/Zekai/finetune.ipynb#X23sZmlsZQ%3D%3D?line=8'>9</a>\u001b[0m data \u001b[39m=\u001b[39m data\u001b[39m.\u001b[39mto(device)\n\u001b[1;32m     <a href='vscode-notebook-cell:/home/zekai/repos/recast/notebooks/Zekai/finetune.ipynb#X23sZmlsZQ%3D%3D?line=9'>10</a>\u001b[0m optimizer\u001b[39m.\u001b[39mzero_grad()\n\u001b[0;32m---> <a href='vscode-notebook-cell:/home/zekai/repos/recast/notebooks/Zekai/finetune.ipynb#X23sZmlsZQ%3D%3D?line=10'>11</a>\u001b[0m nll \u001b[39m=\u001b[39m model\u001b[39m.\u001b[39mnll_loss(data)\u001b[39m.\u001b[39mmean()\n\u001b[1;32m     <a href='vscode-notebook-cell:/home/zekai/repos/recast/notebooks/Zekai/finetune.ipynb#X23sZmlsZQ%3D%3D?line=11'>12</a>\u001b[0m nll\u001b[39m.\u001b[39mbackward()\n\u001b[1;32m     <a href='vscode-notebook-cell:/home/zekai/repos/recast/notebooks/Zekai/finetune.ipynb#X23sZmlsZQ%3D%3D?line=12'>13</a>\u001b[0m optimizer\u001b[39m.\u001b[39mstep()\n",
      "File \u001b[0;32m~/repos/recast/eq/models/recurrent.py:163\u001b[0m, in \u001b[0;36mRecurrentTPP.nll_loss\u001b[0;34m(self, batch)\u001b[0m\n\u001b[1;32m    161\u001b[0m context \u001b[39m=\u001b[39m \u001b[39mself\u001b[39m\u001b[39m.\u001b[39mget_context(batch)  \u001b[39m# (B, L, C)\u001b[39;00m\n\u001b[1;32m    162\u001b[0m \u001b[39m# Inter-event times\u001b[39;00m\n\u001b[0;32m--> 163\u001b[0m inter_time_dist \u001b[39m=\u001b[39m \u001b[39mself\u001b[39m\u001b[39m.\u001b[39mget_inter_time_dist(context)\n\u001b[1;32m    164\u001b[0m log_pdf \u001b[39m=\u001b[39m inter_time_dist\u001b[39m.\u001b[39mlog_prob(batch\u001b[39m.\u001b[39minter_times\u001b[39m.\u001b[39mclamp_min(\u001b[39m1e-10\u001b[39m))  \u001b[39m# (B, L)\u001b[39;00m\n\u001b[1;32m    165\u001b[0m log_like \u001b[39m=\u001b[39m (log_pdf \u001b[39m*\u001b[39m batch\u001b[39m.\u001b[39mmask)\u001b[39m.\u001b[39msum(\u001b[39m-\u001b[39m\u001b[39m1\u001b[39m)\n",
      "File \u001b[0;32m~/repos/recast/eq/models/recurrent.py:137\u001b[0m, in \u001b[0;36mRecurrentTPP.get_inter_time_dist\u001b[0;34m(self, context)\u001b[0m\n\u001b[1;32m    135\u001b[0m shape \u001b[39m=\u001b[39m F\u001b[39m.\u001b[39msoftplus(shape\u001b[39m.\u001b[39mclamp_min(\u001b[39m-\u001b[39m\u001b[39m5.0\u001b[39m))\n\u001b[1;32m    136\u001b[0m weight_logits \u001b[39m=\u001b[39m F\u001b[39m.\u001b[39mlog_softmax(weight_logits, dim\u001b[39m=\u001b[39m\u001b[39m-\u001b[39m\u001b[39m1\u001b[39m)\n\u001b[0;32m--> 137\u001b[0m component_dist \u001b[39m=\u001b[39m dist\u001b[39m.\u001b[39mWeibull(scale\u001b[39m=\u001b[39mscale, shape\u001b[39m=\u001b[39mshape)\n\u001b[1;32m    138\u001b[0m mixture_dist \u001b[39m=\u001b[39m Categorical(logits\u001b[39m=\u001b[39mweight_logits)\n\u001b[1;32m    139\u001b[0m \u001b[39mreturn\u001b[39;00m dist\u001b[39m.\u001b[39mMixtureSameFamily(\n\u001b[1;32m    140\u001b[0m     mixture_distribution\u001b[39m=\u001b[39mmixture_dist,\n\u001b[1;32m    141\u001b[0m     component_distribution\u001b[39m=\u001b[39mcomponent_dist,\n\u001b[1;32m    142\u001b[0m )\n",
      "File \u001b[0;32m~/repos/recast/eq/distributions/weibull.py:17\u001b[0m, in \u001b[0;36mWeibull.__init__\u001b[0;34m(self, scale, shape, eps, validate_args)\u001b[0m\n\u001b[1;32m     15\u001b[0m \u001b[39mself\u001b[39m\u001b[39m.\u001b[39meps \u001b[39m=\u001b[39m eps\n\u001b[1;32m     16\u001b[0m batch_shape \u001b[39m=\u001b[39m \u001b[39mself\u001b[39m\u001b[39m.\u001b[39mscale\u001b[39m.\u001b[39mshape\n\u001b[0;32m---> 17\u001b[0m \u001b[39msuper\u001b[39m()\u001b[39m.\u001b[39m\u001b[39m__init__\u001b[39m(batch_shape, validate_args\u001b[39m=\u001b[39mvalidate_args)\n",
      "File \u001b[0;32m~/miniconda3/envs/eq/lib/python3.11/site-packages/torch/distributions/distribution.py:68\u001b[0m, in \u001b[0;36mDistribution.__init__\u001b[0;34m(self, batch_shape, event_shape, validate_args)\u001b[0m\n\u001b[1;32m     66\u001b[0m         valid \u001b[39m=\u001b[39m constraint\u001b[39m.\u001b[39mcheck(value)\n\u001b[1;32m     67\u001b[0m         \u001b[39mif\u001b[39;00m \u001b[39mnot\u001b[39;00m valid\u001b[39m.\u001b[39mall():\n\u001b[0;32m---> 68\u001b[0m             \u001b[39mraise\u001b[39;00m \u001b[39mValueError\u001b[39;00m(\n\u001b[1;32m     69\u001b[0m                 \u001b[39mf\u001b[39m\u001b[39m\"\u001b[39m\u001b[39mExpected parameter \u001b[39m\u001b[39m{\u001b[39;00mparam\u001b[39m}\u001b[39;00m\u001b[39m \u001b[39m\u001b[39m\"\u001b[39m\n\u001b[1;32m     70\u001b[0m                 \u001b[39mf\u001b[39m\u001b[39m\"\u001b[39m\u001b[39m(\u001b[39m\u001b[39m{\u001b[39;00m\u001b[39mtype\u001b[39m(value)\u001b[39m.\u001b[39m\u001b[39m__name__\u001b[39m\u001b[39m}\u001b[39;00m\u001b[39m of shape \u001b[39m\u001b[39m{\u001b[39;00m\u001b[39mtuple\u001b[39m(value\u001b[39m.\u001b[39mshape)\u001b[39m}\u001b[39;00m\u001b[39m) \u001b[39m\u001b[39m\"\u001b[39m\n\u001b[1;32m     71\u001b[0m                 \u001b[39mf\u001b[39m\u001b[39m\"\u001b[39m\u001b[39mof distribution \u001b[39m\u001b[39m{\u001b[39;00m\u001b[39mrepr\u001b[39m(\u001b[39mself\u001b[39m)\u001b[39m}\u001b[39;00m\u001b[39m \u001b[39m\u001b[39m\"\u001b[39m\n\u001b[1;32m     72\u001b[0m                 \u001b[39mf\u001b[39m\u001b[39m\"\u001b[39m\u001b[39mto satisfy the constraint \u001b[39m\u001b[39m{\u001b[39;00m\u001b[39mrepr\u001b[39m(constraint)\u001b[39m}\u001b[39;00m\u001b[39m, \u001b[39m\u001b[39m\"\u001b[39m\n\u001b[1;32m     73\u001b[0m                 \u001b[39mf\u001b[39m\u001b[39m\"\u001b[39m\u001b[39mbut found invalid values:\u001b[39m\u001b[39m\\n\u001b[39;00m\u001b[39m{\u001b[39;00mvalue\u001b[39m}\u001b[39;00m\u001b[39m\"\u001b[39m\n\u001b[1;32m     74\u001b[0m             )\n\u001b[1;32m     75\u001b[0m \u001b[39msuper\u001b[39m()\u001b[39m.\u001b[39m\u001b[39m__init__\u001b[39m()\n",
      "\u001b[0;31mValueError\u001b[0m: Expected parameter scale (Tensor of shape (32, 1002, 32)) of distribution Weibull(scale: torch.Size([32, 1002, 32]), shape: torch.Size([32, 1002, 32])) to satisfy the constraint GreaterThan(lower_bound=0.0), but found invalid values:\ntensor([[[nan, nan, nan,  ..., nan, nan, nan],\n         [nan, nan, nan,  ..., nan, nan, nan],\n         [nan, nan, nan,  ..., nan, nan, nan],\n         ...,\n         [nan, nan, nan,  ..., nan, nan, nan],\n         [nan, nan, nan,  ..., nan, nan, nan],\n         [nan, nan, nan,  ..., nan, nan, nan]],\n\n        [[nan, nan, nan,  ..., nan, nan, nan],\n         [nan, nan, nan,  ..., nan, nan, nan],\n         [nan, nan, nan,  ..., nan, nan, nan],\n         ...,\n         [nan, nan, nan,  ..., nan, nan, nan],\n         [nan, nan, nan,  ..., nan, nan, nan],\n         [nan, nan, nan,  ..., nan, nan, nan]],\n\n        [[nan, nan, nan,  ..., nan, nan, nan],\n         [nan, nan, nan,  ..., nan, nan, nan],\n         [nan, nan, nan,  ..., nan, nan, nan],\n         ...,\n         [nan, nan, nan,  ..., nan, nan, nan],\n         [nan, nan, nan,  ..., nan, nan, nan],\n         [nan, nan, nan,  ..., nan, nan, nan]],\n\n        ...,\n\n        [[nan, nan, nan,  ..., nan, nan, nan],\n         [nan, nan, nan,  ..., nan, nan, nan],\n         [nan, nan, nan,  ..., nan, nan, nan],\n         ...,\n         [nan, nan, nan,  ..., nan, nan, nan],\n         [nan, nan, nan,  ..., nan, nan, nan],\n         [nan, nan, nan,  ..., nan, nan, nan]],\n\n        [[nan, nan, nan,  ..., nan, nan, nan],\n         [nan, nan, nan,  ..., nan, nan, nan],\n         [nan, nan, nan,  ..., nan, nan, nan],\n         ...,\n         [nan, nan, nan,  ..., nan, nan, nan],\n         [nan, nan, nan,  ..., nan, nan, nan],\n         [nan, nan, nan,  ..., nan, nan, nan]],\n\n        [[nan, nan, nan,  ..., nan, nan, nan],\n         [nan, nan, nan,  ..., nan, nan, nan],\n         [nan, nan, nan,  ..., nan, nan, nan],\n         ...,\n         [nan, nan, nan,  ..., nan, nan, nan],\n         [nan, nan, nan,  ..., nan, nan, nan],\n         [nan, nan, nan,  ..., nan, nan, nan]]], device='cuda:0',\n       grad_fn=<SoftplusBackward0>)"
     ]
    }
   ],
   "source": [
    "model, avg_train_loss_list, avg_val_loss_list = train(\n",
    "    model=model, \n",
    "    optimizer=optimizer, \n",
    "    dl_train=conbined_train_dl, \n",
    "    dl_val=combined_val_dl,\n",
    "    epochs=epochs,\n",
    "    best_model_path=best_model_path\n",
    ")"
   ]
  },
  {
   "cell_type": "code",
   "execution_count": 34,
   "metadata": {},
   "outputs": [],
   "source": [
    "iterator = iter(conbined_train_dl)"
   ]
  },
  {
   "cell_type": "code",
   "execution_count": 54,
   "metadata": {},
   "outputs": [
    {
     "data": {
      "image/png": "[encoded data removed]",
      "text/plain": [
       "<Figure size 640x480 with 1 Axes>"
      ]
     },
     "metadata": {},
     "output_type": "display_data"
    }
   ],
   "source": [
    "plt.plot(np.arange(epochs), avg_train_loss_list, label=\"train loss\")\n",
    "plt.plot(np.arange(epochs), avg_val_loss_list, label=\"val loss\")\n",
    "plt.legend()\n",
    "plt.show()"
   ]
  },
  {
   "cell_type": "code",
   "execution_count": 55,
   "metadata": {},
   "outputs": [
    {
     "name": "stdout",
     "output_type": "stream",
     "text": [
      "avg nll loss:  0.22489078051072284\n"
     ]
    }
   ],
   "source": [
    "avg_test_loss = test(model=model, dl_test=test_dl)"
   ]
  },
  {
   "cell_type": "markdown",
   "metadata": {},
   "source": [
    "## Finetune"
   ]
  },
  {
   "cell_type": "code",
   "execution_count": 65,
   "metadata": {},
   "outputs": [],
   "source": [
    "batch_size = 32\n",
    "anss_train_dl = anss.train.get_dataloader(batch_size=batch_size)\n",
    "anss_val_dl = anss.val.get_dataloader(batch_size=batch_size)\n",
    "\n",
    "T = anss.train.sequences[0].t_end\n",
    "N = np.mean([len(seq) for seq in anss.train.sequences])\n",
    "tau_mean = T/N\n",
    "\n",
    "model = RecurrentTPP(\n",
    "    context_size=32,\n",
    "    num_components=32,\n",
    "    rnn_type=\"LSTM\",\n",
    "    dropout_proba=0.1,\n",
    "    tau_mean=tau_mean,\n",
    "    learning_rate=0.005\n",
    ")\n",
    "model.to(device)\n",
    "model.load_state_dict(torch.load(\"pretrain_best_model\"))\n",
    "model.tau_mean = torch.tensor(tau_mean)\n",
    "\n",
    "optimizer = torch.optim.AdamW(\n",
    "        model.parameters(), \n",
    "        lr=0.005, \n",
    "        betas=(0.99, 0.999), \n",
    "        weight_decay=0.005\n",
    "    )\n",
    "\n",
    "epochs = 200\n",
    "best_model_path = \"finetune_best_model\""
   ]
  },
  {
   "cell_type": "code",
   "execution_count": 66,
   "metadata": {},
   "outputs": [
    {
     "name": "stderr",
     "output_type": "stream",
     "text": [
      "  0%|          | 0/200 [00:00<?, ?it/s]"
     ]
    },
    {
     "name": "stderr",
     "output_type": "stream",
     "text": [
      "/home/zekai/miniconda3/envs/eq/lib/python3.11/site-packages/torch/autograd/__init__.py:251: UserWarning: An output with one or more elements was resized since it had shape [32, 1], which does not match the required output shape [32, 32]. This behavior is deprecated, and in a future PyTorch release outputs will not be resized unless they have zero elements. You can explicitly reuse an out tensor t by resizing it, inplace, to zero elements with t.resize_(0). (Triggered internally at /opt/conda/conda-bld/pytorch_1695392035891/work/aten/src/ATen/native/Resize.cpp:28.)\n",
      "  Variable._execution_engine.run_backward(  # Calls into the C++ engine to run the backward pass\n",
      "/home/zekai/miniconda3/envs/eq/lib/python3.11/site-packages/torch/autograd/__init__.py:251: UserWarning: An output with one or more elements was resized since it had shape [32, 1002, 1], which does not match the required output shape [32, 1002, 32]. This behavior is deprecated, and in a future PyTorch release outputs will not be resized unless they have zero elements. You can explicitly reuse an out tensor t by resizing it, inplace, to zero elements with t.resize_(0). (Triggered internally at /opt/conda/conda-bld/pytorch_1695392035891/work/aten/src/ATen/native/Resize.cpp:28.)\n",
      "  Variable._execution_engine.run_backward(  # Calls into the C++ engine to run the backward pass\n",
      "/home/zekai/miniconda3/envs/eq/lib/python3.11/site-packages/torch/autograd/__init__.py:251: UserWarning: An output with one or more elements was resized since it had shape [29, 1], which does not match the required output shape [29, 32]. This behavior is deprecated, and in a future PyTorch release outputs will not be resized unless they have zero elements. You can explicitly reuse an out tensor t by resizing it, inplace, to zero elements with t.resize_(0). (Triggered internally at /opt/conda/conda-bld/pytorch_1695392035891/work/aten/src/ATen/native/Resize.cpp:28.)\n",
      "  Variable._execution_engine.run_backward(  # Calls into the C++ engine to run the backward pass\n",
      "/home/zekai/miniconda3/envs/eq/lib/python3.11/site-packages/torch/autograd/__init__.py:251: UserWarning: An output with one or more elements was resized since it had shape [29, 840, 1], which does not match the required output shape [29, 840, 32]. This behavior is deprecated, and in a future PyTorch release outputs will not be resized unless they have zero elements. You can explicitly reuse an out tensor t by resizing it, inplace, to zero elements with t.resize_(0). (Triggered internally at /opt/conda/conda-bld/pytorch_1695392035891/work/aten/src/ATen/native/Resize.cpp:28.)\n",
      "  Variable._execution_engine.run_backward(  # Calls into the C++ engine to run the backward pass\n",
      "100%|██████████| 200/200 [00:02<00:00, 91.68it/s]\n"
     ]
    }
   ],
   "source": [
    "model, avg_train_loss_list, avg_val_loss_list = train(\n",
    "    model=model, \n",
    "    optimizer=optimizer, \n",
    "    dl_train=anss_train_dl, \n",
    "    dl_val=anss_val_dl,\n",
    "    epochs=epochs,\n",
    "    best_model_path=best_model_path\n",
    ")"
   ]
  },
  {
   "cell_type": "code",
   "execution_count": 67,
   "metadata": {},
   "outputs": [
    {
     "data": {
      "image/png": "[encoded data removed]",
      "text/plain": [
       "<Figure size 640x480 with 1 Axes>"
      ]
     },
     "metadata": {},
     "output_type": "display_data"
    }
   ],
   "source": [
    "plt.plot(np.arange(epochs), avg_train_loss_list, label=\"train loss\")\n",
    "plt.plot(np.arange(epochs), avg_val_loss_list, label=\"val loss\")\n",
    "plt.legend()\n",
    "plt.show()"
   ]
  },
  {
   "cell_type": "code",
   "execution_count": 68,
   "metadata": {},
   "outputs": [
    {
     "name": "stdout",
     "output_type": "stream",
     "text": [
      "avg nll loss:  0.17349250259921245\n"
     ]
    }
   ],
   "source": [
    "avg_test_loss = test(model=model, dl_test=test_dl)"
   ]
  },
  {
   "cell_type": "code",
   "execution_count": null,
   "metadata": {},
   "outputs": [],
   "source": []
  }
 ],
 "metadata": {
  "kernelspec": {
   "display_name": "eq",
   "language": "python",
   "name": "python3"
  },
  "language_info": {
   "codemirror_mode": {
    "name": "ipython",
    "version": 3
   },
   "file_extension": ".py",
   "mimetype": "text/x-python",
   "name": "python",
   "nbconvert_exporter": "python",
   "pygments_lexer": "ipython3",
   "version": "3.11.5"
  }
 },
 "nbformat": 4,
 "nbformat_minor": 2
}
