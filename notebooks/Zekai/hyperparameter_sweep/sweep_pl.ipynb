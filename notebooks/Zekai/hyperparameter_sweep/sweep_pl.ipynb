{
 "cells": [
  {
   "cell_type": "code",
   "execution_count": 1,
   "metadata": {},
   "outputs": [],
   "source": [
    "%load_ext autoreload\n",
    "%autoreload 2\n",
    "import pytorch_lightning as pl\n",
    "import pytorch_lightning.callbacks as pl_callbacks\n",
    "import torch\n",
    "import eq\n",
    "import wandb"
   ]
  },
  {
   "cell_type": "code",
   "execution_count": 12,
   "metadata": {},
   "outputs": [
    {
     "name": "stderr",
     "output_type": "stream",
     "text": [
      "Failed to detect the name of this notebook, you can set it manually with the WANDB_NOTEBOOK_NAME environment variable to enable code saving.\n",
      "\u001b[34m\u001b[1mwandb\u001b[0m: Logging into wandb.ai. (Learn how to deploy a W&B server locally: https://wandb.me/wandb-server)\n",
      "\u001b[34m\u001b[1mwandb\u001b[0m: You can find your API key in your browser here: https://wandb.ai/authorize\n",
      "\u001b[34m\u001b[1mwandb\u001b[0m: Paste an API key from your profile and hit enter, or press ctrl+c to quit:\u001b[34m\u001b[1mwandb\u001b[0m: Appending key for api.wandb.ai to your netrc file: /home/zekai/.netrc\n"
     ]
    },
    {
     "data": {
      "text/plain": [
       "True"
      ]
     },
     "execution_count": 12,
     "metadata": {},
     "output_type": "execute_result"
    }
   ],
   "source": [
    "wandb.login()"
   ]
  },
  {
   "cell_type": "code",
   "execution_count": 18,
   "metadata": {},
   "outputs": [
    {
     "name": "stdout",
     "output_type": "stream",
     "text": [
      "Loading existing catalog from /home/zekai/repos/recast/data/ANSS_MultiCatalog.\n"
     ]
    }
   ],
   "source": [
    "catalog = eq.catalogs.ANSS_MultiCatalog(mag_completeness=4.5)"
   ]
  },
  {
   "cell_type": "code",
   "execution_count": 19,
   "metadata": {},
   "outputs": [],
   "source": [
    "def train(config):\n",
    "    dl_train = catalog.train.get_dataloader()\n",
    "    dl_val = catalog.val.get_dataloader()\n",
    "    dl_test = catalog.test.get_dataloader()\n",
    "\n",
    "    model = eq.models.RecurrentTPP(**config)\n",
    "\n",
    "    checkpoint = pl_callbacks.ModelCheckpoint(monitor=\"val_loss\")\n",
    "    early_stopping = pl_callbacks.EarlyStopping(monitor=\"val_loss\", patience=20, min_delta=1e-3)\n",
    "    progress_bar = pl_callbacks.RichProgressBar()\n",
    "    trainer = pl.Trainer(accelerator=\"gpu\", max_epochs=200, callbacks=[checkpoint, early_stopping, progress_bar])\n",
    "    \n",
    "    try:\n",
    "        trainer.fit(model, dl_train, dl_val)\n",
    "    except Exception:\n",
    "        return float(\"nan\")\n",
    "\n",
    "    model = eq.models.RecurrentTPP.load_from_checkpoint(checkpoint.best_model_path)\n",
    "    return trainer.test(model, dl_test)[0][\"test_loss\"]\n"
   ]
  },
  {
   "cell_type": "code",
   "execution_count": 20,
   "metadata": {},
   "outputs": [
    {
     "name": "stderr",
     "output_type": "stream",
     "text": [
      "GPU available: True (cuda), used: True\n",
      "TPU available: False, using: 0 TPU cores\n",
      "IPU available: False, using: 0 IPUs\n",
      "HPU available: False, using: 0 HPUs\n"
     ]
    },
    {
     "name": "stderr",
     "output_type": "stream",
     "text": [
      "LOCAL_RANK: 0 - CUDA_VISIBLE_DEVICES: [0]\n"
     ]
    },
    {
     "data": {
      "text/html": [
       "<pre style=\"white-space:pre;overflow-x:auto;line-height:normal;font-family:Menlo,'DejaVu Sans Mono',consolas,'Courier New',monospace\">┏━━━┳━━━━━━━━━━━━━━━┳━━━━━━━━━┳━━━━━━━━┓\n",
       "┃<span style=\"color: #800080; text-decoration-color: #800080; font-weight: bold\">   </span>┃<span style=\"color: #800080; text-decoration-color: #800080; font-weight: bold\"> Name          </span>┃<span style=\"color: #800080; text-decoration-color: #800080; font-weight: bold\"> Type    </span>┃<span style=\"color: #800080; text-decoration-color: #800080; font-weight: bold\"> Params </span>┃\n",
       "┡━━━╇━━━━━━━━━━━━━━━╇━━━━━━━━━╇━━━━━━━━┩\n",
       "│<span style=\"color: #7f7f7f; text-decoration-color: #7f7f7f\"> 0 </span>│ hypernet_time │ Linear  │  3.2 K │\n",
       "│<span style=\"color: #7f7f7f; text-decoration-color: #7f7f7f\"> 1 </span>│ hypernet_mag  │ Linear  │     33 │\n",
       "│<span style=\"color: #7f7f7f; text-decoration-color: #7f7f7f\"> 2 </span>│ rnn           │ GRU     │  3.5 K │\n",
       "│<span style=\"color: #7f7f7f; text-decoration-color: #7f7f7f\"> 3 </span>│ dropout       │ Dropout │      0 │\n",
       "└───┴───────────────┴─────────┴────────┘\n",
       "</pre>\n"
      ],
      "text/plain": [
       "┏━━━┳━━━━━━━━━━━━━━━┳━━━━━━━━━┳━━━━━━━━┓\n",
       "┃\u001b[1;35m \u001b[0m\u001b[1;35m \u001b[0m\u001b[1;35m \u001b[0m┃\u001b[1;35m \u001b[0m\u001b[1;35mName         \u001b[0m\u001b[1;35m \u001b[0m┃\u001b[1;35m \u001b[0m\u001b[1;35mType   \u001b[0m\u001b[1;35m \u001b[0m┃\u001b[1;35m \u001b[0m\u001b[1;35mParams\u001b[0m\u001b[1;35m \u001b[0m┃\n",
       "┡━━━╇━━━━━━━━━━━━━━━╇━━━━━━━━━╇━━━━━━━━┩\n",
       "│\u001b[2m \u001b[0m\u001b[2m0\u001b[0m\u001b[2m \u001b[0m│ hypernet_time │ Linear  │  3.2 K │\n",
       "│\u001b[2m \u001b[0m\u001b[2m1\u001b[0m\u001b[2m \u001b[0m│ hypernet_mag  │ Linear  │     33 │\n",
       "│\u001b[2m \u001b[0m\u001b[2m2\u001b[0m\u001b[2m \u001b[0m│ rnn           │ GRU     │  3.5 K │\n",
       "│\u001b[2m \u001b[0m\u001b[2m3\u001b[0m\u001b[2m \u001b[0m│ dropout       │ Dropout │      0 │\n",
       "└───┴───────────────┴─────────┴────────┘\n"
      ]
     },
     "metadata": {},
     "output_type": "display_data"
    },
    {
     "data": {
      "text/html": [
       "<pre style=\"white-space:pre;overflow-x:auto;line-height:normal;font-family:Menlo,'DejaVu Sans Mono',consolas,'Courier New',monospace\"><span style=\"font-weight: bold\">Trainable params</span>: 6.7 K                                                                                            \n",
       "<span style=\"font-weight: bold\">Non-trainable params</span>: 0                                                                                            \n",
       "<span style=\"font-weight: bold\">Total params</span>: 6.7 K                                                                                                \n",
       "<span style=\"font-weight: bold\">Total estimated model params size (MB)</span>: 0                                                                          \n",
       "</pre>\n"
      ],
      "text/plain": [
       "\u001b[1mTrainable params\u001b[0m: 6.7 K                                                                                            \n",
       "\u001b[1mNon-trainable params\u001b[0m: 0                                                                                            \n",
       "\u001b[1mTotal params\u001b[0m: 6.7 K                                                                                                \n",
       "\u001b[1mTotal estimated model params size (MB)\u001b[0m: 0                                                                          \n"
      ]
     },
     "metadata": {},
     "output_type": "display_data"
    },
    {
     "data": {
      "application/vnd.jupyter.widget-view+json": {
       "model_id": "14849fc3179f4a968ba770bb4d09d746",
       "version_major": 2,
       "version_minor": 0
      },
      "text/plain": [
       "Output()"
      ]
     },
     "metadata": {},
     "output_type": "display_data"
    },
    {
     "data": {
      "text/html": [
       "<pre style=\"white-space:pre;overflow-x:auto;line-height:normal;font-family:Menlo,'DejaVu Sans Mono',consolas,'Courier New',monospace\">/home/zekai/miniconda3/envs/eq/lib/python3.11/site-packages/pytorch_lightning/trainer/connectors/data_connector.py:\n",
       "441: The 'val_dataloader' does not have many workers which may be a bottleneck. Consider increasing the value of \n",
       "the `num_workers` argument` to `num_workers=23` in the `DataLoader` to improve performance.\n",
       "</pre>\n"
      ],
      "text/plain": [
       "/home/zekai/miniconda3/envs/eq/lib/python3.11/site-packages/pytorch_lightning/trainer/connectors/data_connector.py:\n",
       "441: The 'val_dataloader' does not have many workers which may be a bottleneck. Consider increasing the value of \n",
       "the `num_workers` argument` to `num_workers=23` in the `DataLoader` to improve performance.\n"
      ]
     },
     "metadata": {},
     "output_type": "display_data"
    },
    {
     "data": {
      "text/html": [
       "<pre style=\"white-space:pre;overflow-x:auto;line-height:normal;font-family:Menlo,'DejaVu Sans Mono',consolas,'Courier New',monospace\">/home/zekai/miniconda3/envs/eq/lib/python3.11/site-packages/pytorch_lightning/trainer/connectors/data_connector.py:\n",
       "441: The 'train_dataloader' does not have many workers which may be a bottleneck. Consider increasing the value of \n",
       "the `num_workers` argument` to `num_workers=23` in the `DataLoader` to improve performance.\n",
       "</pre>\n"
      ],
      "text/plain": [
       "/home/zekai/miniconda3/envs/eq/lib/python3.11/site-packages/pytorch_lightning/trainer/connectors/data_connector.py:\n",
       "441: The 'train_dataloader' does not have many workers which may be a bottleneck. Consider increasing the value of \n",
       "the `num_workers` argument` to `num_workers=23` in the `DataLoader` to improve performance.\n"
      ]
     },
     "metadata": {},
     "output_type": "display_data"
    },
    {
     "data": {
      "text/html": [
       "<pre style=\"white-space:pre;overflow-x:auto;line-height:normal;font-family:Menlo,'DejaVu Sans Mono',consolas,'Courier New',monospace\">/home/zekai/miniconda3/envs/eq/lib/python3.11/site-packages/torch/autograd/__init__.py:251: UserWarning: An output \n",
       "with one or more elements was resized since it had shape [1, 1], which does not match the required output shape [1,\n",
       "32]. This behavior is deprecated, and in a future PyTorch release outputs will not be resized unless they have zero\n",
       "elements. You can explicitly reuse an out tensor t by resizing it, inplace, to zero elements with t.resize_(0). \n",
       "(Triggered internally at /opt/conda/conda-bld/pytorch_1695392035891/work/aten/src/ATen/native/Resize.cpp:28.)\n",
       "  Variable._execution_engine.run_backward(  # Calls into the C++ engine to run the backward pass\n",
       "</pre>\n"
      ],
      "text/plain": [
       "/home/zekai/miniconda3/envs/eq/lib/python3.11/site-packages/torch/autograd/__init__.py:251: UserWarning: An output \n",
       "with one or more elements was resized since it had shape [1, 1], which does not match the required output shape [1,\n",
       "32]. This behavior is deprecated, and in a future PyTorch release outputs will not be resized unless they have zero\n",
       "elements. You can explicitly reuse an out tensor t by resizing it, inplace, to zero elements with t.resize_(0). \n",
       "(Triggered internally at /opt/conda/conda-bld/pytorch_1695392035891/work/aten/src/ATen/native/Resize.cpp:28.)\n",
       "  Variable._execution_engine.run_backward(  # Calls into the C++ engine to run the backward pass\n"
      ]
     },
     "metadata": {},
     "output_type": "display_data"
    },
    {
     "data": {
      "text/html": [
       "<pre style=\"white-space:pre;overflow-x:auto;line-height:normal;font-family:Menlo,'DejaVu Sans Mono',consolas,'Courier New',monospace\">/home/zekai/miniconda3/envs/eq/lib/python3.11/site-packages/torch/autograd/__init__.py:251: UserWarning: An output \n",
       "with one or more elements was resized since it had shape [1, 319, 1], which does not match the required output \n",
       "shape [1, 319, 32]. This behavior is deprecated, and in a future PyTorch release outputs will not be resized unless\n",
       "they have zero elements. You can explicitly reuse an out tensor t by resizing it, inplace, to zero elements with \n",
       "t.resize_(0). (Triggered internally at \n",
       "/opt/conda/conda-bld/pytorch_1695392035891/work/aten/src/ATen/native/Resize.cpp:28.)\n",
       "  Variable._execution_engine.run_backward(  # Calls into the C++ engine to run the backward pass\n",
       "</pre>\n"
      ],
      "text/plain": [
       "/home/zekai/miniconda3/envs/eq/lib/python3.11/site-packages/torch/autograd/__init__.py:251: UserWarning: An output \n",
       "with one or more elements was resized since it had shape [1, 319, 1], which does not match the required output \n",
       "shape [1, 319, 32]. This behavior is deprecated, and in a future PyTorch release outputs will not be resized unless\n",
       "they have zero elements. You can explicitly reuse an out tensor t by resizing it, inplace, to zero elements with \n",
       "t.resize_(0). (Triggered internally at \n",
       "/opt/conda/conda-bld/pytorch_1695392035891/work/aten/src/ATen/native/Resize.cpp:28.)\n",
       "  Variable._execution_engine.run_backward(  # Calls into the C++ engine to run the backward pass\n"
      ]
     },
     "metadata": {},
     "output_type": "display_data"
    },
    {
     "data": {
      "text/html": [
       "<pre style=\"white-space:pre;overflow-x:auto;line-height:normal;font-family:Menlo,'DejaVu Sans Mono',consolas,'Courier New',monospace\">/home/zekai/miniconda3/envs/eq/lib/python3.11/site-packages/torch/autograd/__init__.py:251: UserWarning: An output \n",
       "with one or more elements was resized since it had shape [1, 316, 1], which does not match the required output \n",
       "shape [1, 316, 32]. This behavior is deprecated, and in a future PyTorch release outputs will not be resized unless\n",
       "they have zero elements. You can explicitly reuse an out tensor t by resizing it, inplace, to zero elements with \n",
       "t.resize_(0). (Triggered internally at \n",
       "/opt/conda/conda-bld/pytorch_1695392035891/work/aten/src/ATen/native/Resize.cpp:28.)\n",
       "  Variable._execution_engine.run_backward(  # Calls into the C++ engine to run the backward pass\n",
       "</pre>\n"
      ],
      "text/plain": [
       "/home/zekai/miniconda3/envs/eq/lib/python3.11/site-packages/torch/autograd/__init__.py:251: UserWarning: An output \n",
       "with one or more elements was resized since it had shape [1, 316, 1], which does not match the required output \n",
       "shape [1, 316, 32]. This behavior is deprecated, and in a future PyTorch release outputs will not be resized unless\n",
       "they have zero elements. You can explicitly reuse an out tensor t by resizing it, inplace, to zero elements with \n",
       "t.resize_(0). (Triggered internally at \n",
       "/opt/conda/conda-bld/pytorch_1695392035891/work/aten/src/ATen/native/Resize.cpp:28.)\n",
       "  Variable._execution_engine.run_backward(  # Calls into the C++ engine to run the backward pass\n"
      ]
     },
     "metadata": {},
     "output_type": "display_data"
    },
    {
     "data": {
      "text/html": [
       "<pre style=\"white-space:pre;overflow-x:auto;line-height:normal;font-family:Menlo,'DejaVu Sans Mono',consolas,'Courier New',monospace\">/home/zekai/miniconda3/envs/eq/lib/python3.11/site-packages/torch/autograd/__init__.py:251: UserWarning: An output \n",
       "with one or more elements was resized since it had shape [1, 150, 1], which does not match the required output \n",
       "shape [1, 150, 32]. This behavior is deprecated, and in a future PyTorch release outputs will not be resized unless\n",
       "they have zero elements. You can explicitly reuse an out tensor t by resizing it, inplace, to zero elements with \n",
       "t.resize_(0). (Triggered internally at \n",
       "/opt/conda/conda-bld/pytorch_1695392035891/work/aten/src/ATen/native/Resize.cpp:28.)\n",
       "  Variable._execution_engine.run_backward(  # Calls into the C++ engine to run the backward pass\n",
       "</pre>\n"
      ],
      "text/plain": [
       "/home/zekai/miniconda3/envs/eq/lib/python3.11/site-packages/torch/autograd/__init__.py:251: UserWarning: An output \n",
       "with one or more elements was resized since it had shape [1, 150, 1], which does not match the required output \n",
       "shape [1, 150, 32]. This behavior is deprecated, and in a future PyTorch release outputs will not be resized unless\n",
       "they have zero elements. You can explicitly reuse an out tensor t by resizing it, inplace, to zero elements with \n",
       "t.resize_(0). (Triggered internally at \n",
       "/opt/conda/conda-bld/pytorch_1695392035891/work/aten/src/ATen/native/Resize.cpp:28.)\n",
       "  Variable._execution_engine.run_backward(  # Calls into the C++ engine to run the backward pass\n"
      ]
     },
     "metadata": {},
     "output_type": "display_data"
    },
    {
     "data": {
      "text/html": [
       "<pre style=\"white-space:pre;overflow-x:auto;line-height:normal;font-family:Menlo,'DejaVu Sans Mono',consolas,'Courier New',monospace\">/home/zekai/miniconda3/envs/eq/lib/python3.11/site-packages/torch/autograd/__init__.py:251: UserWarning: An output \n",
       "with one or more elements was resized since it had shape [1, 228, 1], which does not match the required output \n",
       "shape [1, 228, 32]. This behavior is deprecated, and in a future PyTorch release outputs will not be resized unless\n",
       "they have zero elements. You can explicitly reuse an out tensor t by resizing it, inplace, to zero elements with \n",
       "t.resize_(0). (Triggered internally at \n",
       "/opt/conda/conda-bld/pytorch_1695392035891/work/aten/src/ATen/native/Resize.cpp:28.)\n",
       "  Variable._execution_engine.run_backward(  # Calls into the C++ engine to run the backward pass\n",
       "</pre>\n"
      ],
      "text/plain": [
       "/home/zekai/miniconda3/envs/eq/lib/python3.11/site-packages/torch/autograd/__init__.py:251: UserWarning: An output \n",
       "with one or more elements was resized since it had shape [1, 228, 1], which does not match the required output \n",
       "shape [1, 228, 32]. This behavior is deprecated, and in a future PyTorch release outputs will not be resized unless\n",
       "they have zero elements. You can explicitly reuse an out tensor t by resizing it, inplace, to zero elements with \n",
       "t.resize_(0). (Triggered internally at \n",
       "/opt/conda/conda-bld/pytorch_1695392035891/work/aten/src/ATen/native/Resize.cpp:28.)\n",
       "  Variable._execution_engine.run_backward(  # Calls into the C++ engine to run the backward pass\n"
      ]
     },
     "metadata": {},
     "output_type": "display_data"
    },
    {
     "data": {
      "text/html": [
       "<pre style=\"white-space:pre;overflow-x:auto;line-height:normal;font-family:Menlo,'DejaVu Sans Mono',consolas,'Courier New',monospace\">/home/zekai/miniconda3/envs/eq/lib/python3.11/site-packages/torch/autograd/__init__.py:251: UserWarning: An output \n",
       "with one or more elements was resized since it had shape [1, 25, 1], which does not match the required output shape\n",
       "[1, 25, 32]. This behavior is deprecated, and in a future PyTorch release outputs will not be resized unless they \n",
       "have zero elements. You can explicitly reuse an out tensor t by resizing it, inplace, to zero elements with \n",
       "t.resize_(0). (Triggered internally at \n",
       "/opt/conda/conda-bld/pytorch_1695392035891/work/aten/src/ATen/native/Resize.cpp:28.)\n",
       "  Variable._execution_engine.run_backward(  # Calls into the C++ engine to run the backward pass\n",
       "</pre>\n"
      ],
      "text/plain": [
       "/home/zekai/miniconda3/envs/eq/lib/python3.11/site-packages/torch/autograd/__init__.py:251: UserWarning: An output \n",
       "with one or more elements was resized since it had shape [1, 25, 1], which does not match the required output shape\n",
       "[1, 25, 32]. This behavior is deprecated, and in a future PyTorch release outputs will not be resized unless they \n",
       "have zero elements. You can explicitly reuse an out tensor t by resizing it, inplace, to zero elements with \n",
       "t.resize_(0). (Triggered internally at \n",
       "/opt/conda/conda-bld/pytorch_1695392035891/work/aten/src/ATen/native/Resize.cpp:28.)\n",
       "  Variable._execution_engine.run_backward(  # Calls into the C++ engine to run the backward pass\n"
      ]
     },
     "metadata": {},
     "output_type": "display_data"
    },
    {
     "data": {
      "text/html": [
       "<pre style=\"white-space:pre;overflow-x:auto;line-height:normal;font-family:Menlo,'DejaVu Sans Mono',consolas,'Courier New',monospace\">/home/zekai/miniconda3/envs/eq/lib/python3.11/site-packages/torch/autograd/__init__.py:251: UserWarning: An output \n",
       "with one or more elements was resized since it had shape [1, 839, 1], which does not match the required output \n",
       "shape [1, 839, 32]. This behavior is deprecated, and in a future PyTorch release outputs will not be resized unless\n",
       "they have zero elements. You can explicitly reuse an out tensor t by resizing it, inplace, to zero elements with \n",
       "t.resize_(0). (Triggered internally at \n",
       "/opt/conda/conda-bld/pytorch_1695392035891/work/aten/src/ATen/native/Resize.cpp:28.)\n",
       "  Variable._execution_engine.run_backward(  # Calls into the C++ engine to run the backward pass\n",
       "</pre>\n"
      ],
      "text/plain": [
       "/home/zekai/miniconda3/envs/eq/lib/python3.11/site-packages/torch/autograd/__init__.py:251: UserWarning: An output \n",
       "with one or more elements was resized since it had shape [1, 839, 1], which does not match the required output \n",
       "shape [1, 839, 32]. This behavior is deprecated, and in a future PyTorch release outputs will not be resized unless\n",
       "they have zero elements. You can explicitly reuse an out tensor t by resizing it, inplace, to zero elements with \n",
       "t.resize_(0). (Triggered internally at \n",
       "/opt/conda/conda-bld/pytorch_1695392035891/work/aten/src/ATen/native/Resize.cpp:28.)\n",
       "  Variable._execution_engine.run_backward(  # Calls into the C++ engine to run the backward pass\n"
      ]
     },
     "metadata": {},
     "output_type": "display_data"
    },
    {
     "data": {
      "text/html": [
       "<pre style=\"white-space:pre;overflow-x:auto;line-height:normal;font-family:Menlo,'DejaVu Sans Mono',consolas,'Courier New',monospace\">/home/zekai/miniconda3/envs/eq/lib/python3.11/site-packages/torch/autograd/__init__.py:251: UserWarning: An output \n",
       "with one or more elements was resized since it had shape [1, 407, 1], which does not match the required output \n",
       "shape [1, 407, 32]. This behavior is deprecated, and in a future PyTorch release outputs will not be resized unless\n",
       "they have zero elements. You can explicitly reuse an out tensor t by resizing it, inplace, to zero elements with \n",
       "t.resize_(0). (Triggered internally at \n",
       "/opt/conda/conda-bld/pytorch_1695392035891/work/aten/src/ATen/native/Resize.cpp:28.)\n",
       "  Variable._execution_engine.run_backward(  # Calls into the C++ engine to run the backward pass\n",
       "</pre>\n"
      ],
      "text/plain": [
       "/home/zekai/miniconda3/envs/eq/lib/python3.11/site-packages/torch/autograd/__init__.py:251: UserWarning: An output \n",
       "with one or more elements was resized since it had shape [1, 407, 1], which does not match the required output \n",
       "shape [1, 407, 32]. This behavior is deprecated, and in a future PyTorch release outputs will not be resized unless\n",
       "they have zero elements. You can explicitly reuse an out tensor t by resizing it, inplace, to zero elements with \n",
       "t.resize_(0). (Triggered internally at \n",
       "/opt/conda/conda-bld/pytorch_1695392035891/work/aten/src/ATen/native/Resize.cpp:28.)\n",
       "  Variable._execution_engine.run_backward(  # Calls into the C++ engine to run the backward pass\n"
      ]
     },
     "metadata": {},
     "output_type": "display_data"
    },
    {
     "data": {
      "text/html": [
       "<pre style=\"white-space:pre;overflow-x:auto;line-height:normal;font-family:Menlo,'DejaVu Sans Mono',consolas,'Courier New',monospace\">/home/zekai/miniconda3/envs/eq/lib/python3.11/site-packages/torch/autograd/__init__.py:251: UserWarning: An output \n",
       "with one or more elements was resized since it had shape [1, 156, 1], which does not match the required output \n",
       "shape [1, 156, 32]. This behavior is deprecated, and in a future PyTorch release outputs will not be resized unless\n",
       "they have zero elements. You can explicitly reuse an out tensor t by resizing it, inplace, to zero elements with \n",
       "t.resize_(0). (Triggered internally at \n",
       "/opt/conda/conda-bld/pytorch_1695392035891/work/aten/src/ATen/native/Resize.cpp:28.)\n",
       "  Variable._execution_engine.run_backward(  # Calls into the C++ engine to run the backward pass\n",
       "</pre>\n"
      ],
      "text/plain": [
       "/home/zekai/miniconda3/envs/eq/lib/python3.11/site-packages/torch/autograd/__init__.py:251: UserWarning: An output \n",
       "with one or more elements was resized since it had shape [1, 156, 1], which does not match the required output \n",
       "shape [1, 156, 32]. This behavior is deprecated, and in a future PyTorch release outputs will not be resized unless\n",
       "they have zero elements. You can explicitly reuse an out tensor t by resizing it, inplace, to zero elements with \n",
       "t.resize_(0). (Triggered internally at \n",
       "/opt/conda/conda-bld/pytorch_1695392035891/work/aten/src/ATen/native/Resize.cpp:28.)\n",
       "  Variable._execution_engine.run_backward(  # Calls into the C++ engine to run the backward pass\n"
      ]
     },
     "metadata": {},
     "output_type": "display_data"
    },
    {
     "data": {
      "text/html": [
       "<pre style=\"white-space:pre;overflow-x:auto;line-height:normal;font-family:Menlo,'DejaVu Sans Mono',consolas,'Courier New',monospace\">/home/zekai/miniconda3/envs/eq/lib/python3.11/site-packages/torch/autograd/__init__.py:251: UserWarning: An output \n",
       "with one or more elements was resized since it had shape [1, 418, 1], which does not match the required output \n",
       "shape [1, 418, 32]. This behavior is deprecated, and in a future PyTorch release outputs will not be resized unless\n",
       "they have zero elements. You can explicitly reuse an out tensor t by resizing it, inplace, to zero elements with \n",
       "t.resize_(0). (Triggered internally at \n",
       "/opt/conda/conda-bld/pytorch_1695392035891/work/aten/src/ATen/native/Resize.cpp:28.)\n",
       "  Variable._execution_engine.run_backward(  # Calls into the C++ engine to run the backward pass\n",
       "</pre>\n"
      ],
      "text/plain": [
       "/home/zekai/miniconda3/envs/eq/lib/python3.11/site-packages/torch/autograd/__init__.py:251: UserWarning: An output \n",
       "with one or more elements was resized since it had shape [1, 418, 1], which does not match the required output \n",
       "shape [1, 418, 32]. This behavior is deprecated, and in a future PyTorch release outputs will not be resized unless\n",
       "they have zero elements. You can explicitly reuse an out tensor t by resizing it, inplace, to zero elements with \n",
       "t.resize_(0). (Triggered internally at \n",
       "/opt/conda/conda-bld/pytorch_1695392035891/work/aten/src/ATen/native/Resize.cpp:28.)\n",
       "  Variable._execution_engine.run_backward(  # Calls into the C++ engine to run the backward pass\n"
      ]
     },
     "metadata": {},
     "output_type": "display_data"
    },
    {
     "data": {
      "text/html": [
       "<pre style=\"white-space:pre;overflow-x:auto;line-height:normal;font-family:Menlo,'DejaVu Sans Mono',consolas,'Courier New',monospace\">/home/zekai/miniconda3/envs/eq/lib/python3.11/site-packages/torch/autograd/__init__.py:251: UserWarning: An output \n",
       "with one or more elements was resized since it had shape [1, 193, 1], which does not match the required output \n",
       "shape [1, 193, 32]. This behavior is deprecated, and in a future PyTorch release outputs will not be resized unless\n",
       "they have zero elements. You can explicitly reuse an out tensor t by resizing it, inplace, to zero elements with \n",
       "t.resize_(0). (Triggered internally at \n",
       "/opt/conda/conda-bld/pytorch_1695392035891/work/aten/src/ATen/native/Resize.cpp:28.)\n",
       "  Variable._execution_engine.run_backward(  # Calls into the C++ engine to run the backward pass\n",
       "</pre>\n"
      ],
      "text/plain": [
       "/home/zekai/miniconda3/envs/eq/lib/python3.11/site-packages/torch/autograd/__init__.py:251: UserWarning: An output \n",
       "with one or more elements was resized since it had shape [1, 193, 1], which does not match the required output \n",
       "shape [1, 193, 32]. This behavior is deprecated, and in a future PyTorch release outputs will not be resized unless\n",
       "they have zero elements. You can explicitly reuse an out tensor t by resizing it, inplace, to zero elements with \n",
       "t.resize_(0). (Triggered internally at \n",
       "/opt/conda/conda-bld/pytorch_1695392035891/work/aten/src/ATen/native/Resize.cpp:28.)\n",
       "  Variable._execution_engine.run_backward(  # Calls into the C++ engine to run the backward pass\n"
      ]
     },
     "metadata": {},
     "output_type": "display_data"
    },
    {
     "data": {
      "text/html": [
       "<pre style=\"white-space:pre;overflow-x:auto;line-height:normal;font-family:Menlo,'DejaVu Sans Mono',consolas,'Courier New',monospace\">/home/zekai/miniconda3/envs/eq/lib/python3.11/site-packages/torch/autograd/__init__.py:251: UserWarning: An output \n",
       "with one or more elements was resized since it had shape [1, 21, 1], which does not match the required output shape\n",
       "[1, 21, 32]. This behavior is deprecated, and in a future PyTorch release outputs will not be resized unless they \n",
       "have zero elements. You can explicitly reuse an out tensor t by resizing it, inplace, to zero elements with \n",
       "t.resize_(0). (Triggered internally at \n",
       "/opt/conda/conda-bld/pytorch_1695392035891/work/aten/src/ATen/native/Resize.cpp:28.)\n",
       "  Variable._execution_engine.run_backward(  # Calls into the C++ engine to run the backward pass\n",
       "</pre>\n"
      ],
      "text/plain": [
       "/home/zekai/miniconda3/envs/eq/lib/python3.11/site-packages/torch/autograd/__init__.py:251: UserWarning: An output \n",
       "with one or more elements was resized since it had shape [1, 21, 1], which does not match the required output shape\n",
       "[1, 21, 32]. This behavior is deprecated, and in a future PyTorch release outputs will not be resized unless they \n",
       "have zero elements. You can explicitly reuse an out tensor t by resizing it, inplace, to zero elements with \n",
       "t.resize_(0). (Triggered internally at \n",
       "/opt/conda/conda-bld/pytorch_1695392035891/work/aten/src/ATen/native/Resize.cpp:28.)\n",
       "  Variable._execution_engine.run_backward(  # Calls into the C++ engine to run the backward pass\n"
      ]
     },
     "metadata": {},
     "output_type": "display_data"
    },
    {
     "data": {
      "text/html": [
       "<pre style=\"white-space:pre;overflow-x:auto;line-height:normal;font-family:Menlo,'DejaVu Sans Mono',consolas,'Courier New',monospace\">/home/zekai/miniconda3/envs/eq/lib/python3.11/site-packages/torch/autograd/__init__.py:251: UserWarning: An output \n",
       "with one or more elements was resized since it had shape [1, 163, 1], which does not match the required output \n",
       "shape [1, 163, 32]. This behavior is deprecated, and in a future PyTorch release outputs will not be resized unless\n",
       "they have zero elements. You can explicitly reuse an out tensor t by resizing it, inplace, to zero elements with \n",
       "t.resize_(0). (Triggered internally at \n",
       "/opt/conda/conda-bld/pytorch_1695392035891/work/aten/src/ATen/native/Resize.cpp:28.)\n",
       "  Variable._execution_engine.run_backward(  # Calls into the C++ engine to run the backward pass\n",
       "</pre>\n"
      ],
      "text/plain": [
       "/home/zekai/miniconda3/envs/eq/lib/python3.11/site-packages/torch/autograd/__init__.py:251: UserWarning: An output \n",
       "with one or more elements was resized since it had shape [1, 163, 1], which does not match the required output \n",
       "shape [1, 163, 32]. This behavior is deprecated, and in a future PyTorch release outputs will not be resized unless\n",
       "they have zero elements. You can explicitly reuse an out tensor t by resizing it, inplace, to zero elements with \n",
       "t.resize_(0). (Triggered internally at \n",
       "/opt/conda/conda-bld/pytorch_1695392035891/work/aten/src/ATen/native/Resize.cpp:28.)\n",
       "  Variable._execution_engine.run_backward(  # Calls into the C++ engine to run the backward pass\n"
      ]
     },
     "metadata": {},
     "output_type": "display_data"
    },
    {
     "data": {
      "text/html": [
       "<pre style=\"white-space:pre;overflow-x:auto;line-height:normal;font-family:Menlo,'DejaVu Sans Mono',consolas,'Courier New',monospace\">/home/zekai/miniconda3/envs/eq/lib/python3.11/site-packages/torch/autograd/__init__.py:251: UserWarning: An output \n",
       "with one or more elements was resized since it had shape [1, 217, 1], which does not match the required output \n",
       "shape [1, 217, 32]. This behavior is deprecated, and in a future PyTorch release outputs will not be resized unless\n",
       "they have zero elements. You can explicitly reuse an out tensor t by resizing it, inplace, to zero elements with \n",
       "t.resize_(0). (Triggered internally at \n",
       "/opt/conda/conda-bld/pytorch_1695392035891/work/aten/src/ATen/native/Resize.cpp:28.)\n",
       "  Variable._execution_engine.run_backward(  # Calls into the C++ engine to run the backward pass\n",
       "</pre>\n"
      ],
      "text/plain": [
       "/home/zekai/miniconda3/envs/eq/lib/python3.11/site-packages/torch/autograd/__init__.py:251: UserWarning: An output \n",
       "with one or more elements was resized since it had shape [1, 217, 1], which does not match the required output \n",
       "shape [1, 217, 32]. This behavior is deprecated, and in a future PyTorch release outputs will not be resized unless\n",
       "they have zero elements. You can explicitly reuse an out tensor t by resizing it, inplace, to zero elements with \n",
       "t.resize_(0). (Triggered internally at \n",
       "/opt/conda/conda-bld/pytorch_1695392035891/work/aten/src/ATen/native/Resize.cpp:28.)\n",
       "  Variable._execution_engine.run_backward(  # Calls into the C++ engine to run the backward pass\n"
      ]
     },
     "metadata": {},
     "output_type": "display_data"
    },
    {
     "data": {
      "text/html": [
       "<pre style=\"white-space:pre;overflow-x:auto;line-height:normal;font-family:Menlo,'DejaVu Sans Mono',consolas,'Courier New',monospace\">/home/zekai/miniconda3/envs/eq/lib/python3.11/site-packages/torch/autograd/__init__.py:251: UserWarning: An output \n",
       "with one or more elements was resized since it had shape [1, 400, 1], which does not match the required output \n",
       "shape [1, 400, 32]. This behavior is deprecated, and in a future PyTorch release outputs will not be resized unless\n",
       "they have zero elements. You can explicitly reuse an out tensor t by resizing it, inplace, to zero elements with \n",
       "t.resize_(0). (Triggered internally at \n",
       "/opt/conda/conda-bld/pytorch_1695392035891/work/aten/src/ATen/native/Resize.cpp:28.)\n",
       "  Variable._execution_engine.run_backward(  # Calls into the C++ engine to run the backward pass\n",
       "</pre>\n"
      ],
      "text/plain": [
       "/home/zekai/miniconda3/envs/eq/lib/python3.11/site-packages/torch/autograd/__init__.py:251: UserWarning: An output \n",
       "with one or more elements was resized since it had shape [1, 400, 1], which does not match the required output \n",
       "shape [1, 400, 32]. This behavior is deprecated, and in a future PyTorch release outputs will not be resized unless\n",
       "they have zero elements. You can explicitly reuse an out tensor t by resizing it, inplace, to zero elements with \n",
       "t.resize_(0). (Triggered internally at \n",
       "/opt/conda/conda-bld/pytorch_1695392035891/work/aten/src/ATen/native/Resize.cpp:28.)\n",
       "  Variable._execution_engine.run_backward(  # Calls into the C++ engine to run the backward pass\n"
      ]
     },
     "metadata": {},
     "output_type": "display_data"
    },
    {
     "data": {
      "text/html": [
       "<pre style=\"white-space:pre;overflow-x:auto;line-height:normal;font-family:Menlo,'DejaVu Sans Mono',consolas,'Courier New',monospace\">/home/zekai/miniconda3/envs/eq/lib/python3.11/site-packages/torch/autograd/__init__.py:251: UserWarning: An output \n",
       "with one or more elements was resized since it had shape [1, 184, 1], which does not match the required output \n",
       "shape [1, 184, 32]. This behavior is deprecated, and in a future PyTorch release outputs will not be resized unless\n",
       "they have zero elements. You can explicitly reuse an out tensor t by resizing it, inplace, to zero elements with \n",
       "t.resize_(0). (Triggered internally at \n",
       "/opt/conda/conda-bld/pytorch_1695392035891/work/aten/src/ATen/native/Resize.cpp:28.)\n",
       "  Variable._execution_engine.run_backward(  # Calls into the C++ engine to run the backward pass\n",
       "</pre>\n"
      ],
      "text/plain": [
       "/home/zekai/miniconda3/envs/eq/lib/python3.11/site-packages/torch/autograd/__init__.py:251: UserWarning: An output \n",
       "with one or more elements was resized since it had shape [1, 184, 1], which does not match the required output \n",
       "shape [1, 184, 32]. This behavior is deprecated, and in a future PyTorch release outputs will not be resized unless\n",
       "they have zero elements. You can explicitly reuse an out tensor t by resizing it, inplace, to zero elements with \n",
       "t.resize_(0). (Triggered internally at \n",
       "/opt/conda/conda-bld/pytorch_1695392035891/work/aten/src/ATen/native/Resize.cpp:28.)\n",
       "  Variable._execution_engine.run_backward(  # Calls into the C++ engine to run the backward pass\n"
      ]
     },
     "metadata": {},
     "output_type": "display_data"
    },
    {
     "data": {
      "text/html": [
       "<pre style=\"white-space:pre;overflow-x:auto;line-height:normal;font-family:Menlo,'DejaVu Sans Mono',consolas,'Courier New',monospace\">/home/zekai/miniconda3/envs/eq/lib/python3.11/site-packages/torch/autograd/__init__.py:251: UserWarning: An output \n",
       "with one or more elements was resized since it had shape [1, 391, 1], which does not match the required output \n",
       "shape [1, 391, 32]. This behavior is deprecated, and in a future PyTorch release outputs will not be resized unless\n",
       "they have zero elements. You can explicitly reuse an out tensor t by resizing it, inplace, to zero elements with \n",
       "t.resize_(0). (Triggered internally at \n",
       "/opt/conda/conda-bld/pytorch_1695392035891/work/aten/src/ATen/native/Resize.cpp:28.)\n",
       "  Variable._execution_engine.run_backward(  # Calls into the C++ engine to run the backward pass\n",
       "</pre>\n"
      ],
      "text/plain": [
       "/home/zekai/miniconda3/envs/eq/lib/python3.11/site-packages/torch/autograd/__init__.py:251: UserWarning: An output \n",
       "with one or more elements was resized since it had shape [1, 391, 1], which does not match the required output \n",
       "shape [1, 391, 32]. This behavior is deprecated, and in a future PyTorch release outputs will not be resized unless\n",
       "they have zero elements. You can explicitly reuse an out tensor t by resizing it, inplace, to zero elements with \n",
       "t.resize_(0). (Triggered internally at \n",
       "/opt/conda/conda-bld/pytorch_1695392035891/work/aten/src/ATen/native/Resize.cpp:28.)\n",
       "  Variable._execution_engine.run_backward(  # Calls into the C++ engine to run the backward pass\n"
      ]
     },
     "metadata": {},
     "output_type": "display_data"
    },
    {
     "data": {
      "text/html": [
       "<pre style=\"white-space:pre;overflow-x:auto;line-height:normal;font-family:Menlo,'DejaVu Sans Mono',consolas,'Courier New',monospace\">/home/zekai/miniconda3/envs/eq/lib/python3.11/site-packages/torch/autograd/__init__.py:251: UserWarning: An output \n",
       "with one or more elements was resized since it had shape [1, 292, 1], which does not match the required output \n",
       "shape [1, 292, 32]. This behavior is deprecated, and in a future PyTorch release outputs will not be resized unless\n",
       "they have zero elements. You can explicitly reuse an out tensor t by resizing it, inplace, to zero elements with \n",
       "t.resize_(0). (Triggered internally at \n",
       "/opt/conda/conda-bld/pytorch_1695392035891/work/aten/src/ATen/native/Resize.cpp:28.)\n",
       "  Variable._execution_engine.run_backward(  # Calls into the C++ engine to run the backward pass\n",
       "</pre>\n"
      ],
      "text/plain": [
       "/home/zekai/miniconda3/envs/eq/lib/python3.11/site-packages/torch/autograd/__init__.py:251: UserWarning: An output \n",
       "with one or more elements was resized since it had shape [1, 292, 1], which does not match the required output \n",
       "shape [1, 292, 32]. This behavior is deprecated, and in a future PyTorch release outputs will not be resized unless\n",
       "they have zero elements. You can explicitly reuse an out tensor t by resizing it, inplace, to zero elements with \n",
       "t.resize_(0). (Triggered internally at \n",
       "/opt/conda/conda-bld/pytorch_1695392035891/work/aten/src/ATen/native/Resize.cpp:28.)\n",
       "  Variable._execution_engine.run_backward(  # Calls into the C++ engine to run the backward pass\n"
      ]
     },
     "metadata": {},
     "output_type": "display_data"
    },
    {
     "data": {
      "text/html": [
       "<pre style=\"white-space:pre;overflow-x:auto;line-height:normal;font-family:Menlo,'DejaVu Sans Mono',consolas,'Courier New',monospace\">/home/zekai/miniconda3/envs/eq/lib/python3.11/site-packages/torch/autograd/__init__.py:251: UserWarning: An output \n",
       "with one or more elements was resized since it had shape [1, 373, 1], which does not match the required output \n",
       "shape [1, 373, 32]. This behavior is deprecated, and in a future PyTorch release outputs will not be resized unless\n",
       "they have zero elements. You can explicitly reuse an out tensor t by resizing it, inplace, to zero elements with \n",
       "t.resize_(0). (Triggered internally at \n",
       "/opt/conda/conda-bld/pytorch_1695392035891/work/aten/src/ATen/native/Resize.cpp:28.)\n",
       "  Variable._execution_engine.run_backward(  # Calls into the C++ engine to run the backward pass\n",
       "</pre>\n"
      ],
      "text/plain": [
       "/home/zekai/miniconda3/envs/eq/lib/python3.11/site-packages/torch/autograd/__init__.py:251: UserWarning: An output \n",
       "with one or more elements was resized since it had shape [1, 373, 1], which does not match the required output \n",
       "shape [1, 373, 32]. This behavior is deprecated, and in a future PyTorch release outputs will not be resized unless\n",
       "they have zero elements. You can explicitly reuse an out tensor t by resizing it, inplace, to zero elements with \n",
       "t.resize_(0). (Triggered internally at \n",
       "/opt/conda/conda-bld/pytorch_1695392035891/work/aten/src/ATen/native/Resize.cpp:28.)\n",
       "  Variable._execution_engine.run_backward(  # Calls into the C++ engine to run the backward pass\n"
      ]
     },
     "metadata": {},
     "output_type": "display_data"
    },
    {
     "data": {
      "text/html": [
       "<pre style=\"white-space:pre;overflow-x:auto;line-height:normal;font-family:Menlo,'DejaVu Sans Mono',consolas,'Courier New',monospace\">/home/zekai/miniconda3/envs/eq/lib/python3.11/site-packages/torch/autograd/__init__.py:251: UserWarning: An output \n",
       "with one or more elements was resized since it had shape [1, 414, 1], which does not match the required output \n",
       "shape [1, 414, 32]. This behavior is deprecated, and in a future PyTorch release outputs will not be resized unless\n",
       "they have zero elements. You can explicitly reuse an out tensor t by resizing it, inplace, to zero elements with \n",
       "t.resize_(0). (Triggered internally at \n",
       "/opt/conda/conda-bld/pytorch_1695392035891/work/aten/src/ATen/native/Resize.cpp:28.)\n",
       "  Variable._execution_engine.run_backward(  # Calls into the C++ engine to run the backward pass\n",
       "</pre>\n"
      ],
      "text/plain": [
       "/home/zekai/miniconda3/envs/eq/lib/python3.11/site-packages/torch/autograd/__init__.py:251: UserWarning: An output \n",
       "with one or more elements was resized since it had shape [1, 414, 1], which does not match the required output \n",
       "shape [1, 414, 32]. This behavior is deprecated, and in a future PyTorch release outputs will not be resized unless\n",
       "they have zero elements. You can explicitly reuse an out tensor t by resizing it, inplace, to zero elements with \n",
       "t.resize_(0). (Triggered internally at \n",
       "/opt/conda/conda-bld/pytorch_1695392035891/work/aten/src/ATen/native/Resize.cpp:28.)\n",
       "  Variable._execution_engine.run_backward(  # Calls into the C++ engine to run the backward pass\n"
      ]
     },
     "metadata": {},
     "output_type": "display_data"
    },
    {
     "data": {
      "text/html": [
       "<pre style=\"white-space:pre;overflow-x:auto;line-height:normal;font-family:Menlo,'DejaVu Sans Mono',consolas,'Courier New',monospace\">/home/zekai/miniconda3/envs/eq/lib/python3.11/site-packages/torch/autograd/__init__.py:251: UserWarning: An output \n",
       "with one or more elements was resized since it had shape [1, 153, 1], which does not match the required output \n",
       "shape [1, 153, 32]. This behavior is deprecated, and in a future PyTorch release outputs will not be resized unless\n",
       "they have zero elements. You can explicitly reuse an out tensor t by resizing it, inplace, to zero elements with \n",
       "t.resize_(0). (Triggered internally at \n",
       "/opt/conda/conda-bld/pytorch_1695392035891/work/aten/src/ATen/native/Resize.cpp:28.)\n",
       "  Variable._execution_engine.run_backward(  # Calls into the C++ engine to run the backward pass\n",
       "</pre>\n"
      ],
      "text/plain": [
       "/home/zekai/miniconda3/envs/eq/lib/python3.11/site-packages/torch/autograd/__init__.py:251: UserWarning: An output \n",
       "with one or more elements was resized since it had shape [1, 153, 1], which does not match the required output \n",
       "shape [1, 153, 32]. This behavior is deprecated, and in a future PyTorch release outputs will not be resized unless\n",
       "they have zero elements. You can explicitly reuse an out tensor t by resizing it, inplace, to zero elements with \n",
       "t.resize_(0). (Triggered internally at \n",
       "/opt/conda/conda-bld/pytorch_1695392035891/work/aten/src/ATen/native/Resize.cpp:28.)\n",
       "  Variable._execution_engine.run_backward(  # Calls into the C++ engine to run the backward pass\n"
      ]
     },
     "metadata": {},
     "output_type": "display_data"
    },
    {
     "data": {
      "text/html": [
       "<pre style=\"white-space:pre;overflow-x:auto;line-height:normal;font-family:Menlo,'DejaVu Sans Mono',consolas,'Courier New',monospace\">/home/zekai/miniconda3/envs/eq/lib/python3.11/site-packages/torch/autograd/__init__.py:251: UserWarning: An output \n",
       "with one or more elements was resized since it had shape [1, 845, 1], which does not match the required output \n",
       "shape [1, 845, 32]. This behavior is deprecated, and in a future PyTorch release outputs will not be resized unless\n",
       "they have zero elements. You can explicitly reuse an out tensor t by resizing it, inplace, to zero elements with \n",
       "t.resize_(0). (Triggered internally at \n",
       "/opt/conda/conda-bld/pytorch_1695392035891/work/aten/src/ATen/native/Resize.cpp:28.)\n",
       "  Variable._execution_engine.run_backward(  # Calls into the C++ engine to run the backward pass\n",
       "</pre>\n"
      ],
      "text/plain": [
       "/home/zekai/miniconda3/envs/eq/lib/python3.11/site-packages/torch/autograd/__init__.py:251: UserWarning: An output \n",
       "with one or more elements was resized since it had shape [1, 845, 1], which does not match the required output \n",
       "shape [1, 845, 32]. This behavior is deprecated, and in a future PyTorch release outputs will not be resized unless\n",
       "they have zero elements. You can explicitly reuse an out tensor t by resizing it, inplace, to zero elements with \n",
       "t.resize_(0). (Triggered internally at \n",
       "/opt/conda/conda-bld/pytorch_1695392035891/work/aten/src/ATen/native/Resize.cpp:28.)\n",
       "  Variable._execution_engine.run_backward(  # Calls into the C++ engine to run the backward pass\n"
      ]
     },
     "metadata": {},
     "output_type": "display_data"
    },
    {
     "data": {
      "text/html": [
       "<pre style=\"white-space:pre;overflow-x:auto;line-height:normal;font-family:Menlo,'DejaVu Sans Mono',consolas,'Courier New',monospace\">/home/zekai/miniconda3/envs/eq/lib/python3.11/site-packages/torch/autograd/__init__.py:251: UserWarning: An output \n",
       "with one or more elements was resized since it had shape [1, 136, 1], which does not match the required output \n",
       "shape [1, 136, 32]. This behavior is deprecated, and in a future PyTorch release outputs will not be resized unless\n",
       "they have zero elements. You can explicitly reuse an out tensor t by resizing it, inplace, to zero elements with \n",
       "t.resize_(0). (Triggered internally at \n",
       "/opt/conda/conda-bld/pytorch_1695392035891/work/aten/src/ATen/native/Resize.cpp:28.)\n",
       "  Variable._execution_engine.run_backward(  # Calls into the C++ engine to run the backward pass\n",
       "</pre>\n"
      ],
      "text/plain": [
       "/home/zekai/miniconda3/envs/eq/lib/python3.11/site-packages/torch/autograd/__init__.py:251: UserWarning: An output \n",
       "with one or more elements was resized since it had shape [1, 136, 1], which does not match the required output \n",
       "shape [1, 136, 32]. This behavior is deprecated, and in a future PyTorch release outputs will not be resized unless\n",
       "they have zero elements. You can explicitly reuse an out tensor t by resizing it, inplace, to zero elements with \n",
       "t.resize_(0). (Triggered internally at \n",
       "/opt/conda/conda-bld/pytorch_1695392035891/work/aten/src/ATen/native/Resize.cpp:28.)\n",
       "  Variable._execution_engine.run_backward(  # Calls into the C++ engine to run the backward pass\n"
      ]
     },
     "metadata": {},
     "output_type": "display_data"
    },
    {
     "data": {
      "text/html": [
       "<pre style=\"white-space:pre;overflow-x:auto;line-height:normal;font-family:Menlo,'DejaVu Sans Mono',consolas,'Courier New',monospace\">/home/zekai/miniconda3/envs/eq/lib/python3.11/site-packages/torch/autograd/__init__.py:251: UserWarning: An output \n",
       "with one or more elements was resized since it had shape [1, 619, 1], which does not match the required output \n",
       "shape [1, 619, 32]. This behavior is deprecated, and in a future PyTorch release outputs will not be resized unless\n",
       "they have zero elements. You can explicitly reuse an out tensor t by resizing it, inplace, to zero elements with \n",
       "t.resize_(0). (Triggered internally at \n",
       "/opt/conda/conda-bld/pytorch_1695392035891/work/aten/src/ATen/native/Resize.cpp:28.)\n",
       "  Variable._execution_engine.run_backward(  # Calls into the C++ engine to run the backward pass\n",
       "</pre>\n"
      ],
      "text/plain": [
       "/home/zekai/miniconda3/envs/eq/lib/python3.11/site-packages/torch/autograd/__init__.py:251: UserWarning: An output \n",
       "with one or more elements was resized since it had shape [1, 619, 1], which does not match the required output \n",
       "shape [1, 619, 32]. This behavior is deprecated, and in a future PyTorch release outputs will not be resized unless\n",
       "they have zero elements. You can explicitly reuse an out tensor t by resizing it, inplace, to zero elements with \n",
       "t.resize_(0). (Triggered internally at \n",
       "/opt/conda/conda-bld/pytorch_1695392035891/work/aten/src/ATen/native/Resize.cpp:28.)\n",
       "  Variable._execution_engine.run_backward(  # Calls into the C++ engine to run the backward pass\n"
      ]
     },
     "metadata": {},
     "output_type": "display_data"
    },
    {
     "data": {
      "text/html": [
       "<pre style=\"white-space:pre;overflow-x:auto;line-height:normal;font-family:Menlo,'DejaVu Sans Mono',consolas,'Courier New',monospace\">/home/zekai/miniconda3/envs/eq/lib/python3.11/site-packages/torch/autograd/__init__.py:251: UserWarning: An output \n",
       "with one or more elements was resized since it had shape [1, 560, 1], which does not match the required output \n",
       "shape [1, 560, 32]. This behavior is deprecated, and in a future PyTorch release outputs will not be resized unless\n",
       "they have zero elements. You can explicitly reuse an out tensor t by resizing it, inplace, to zero elements with \n",
       "t.resize_(0). (Triggered internally at \n",
       "/opt/conda/conda-bld/pytorch_1695392035891/work/aten/src/ATen/native/Resize.cpp:28.)\n",
       "  Variable._execution_engine.run_backward(  # Calls into the C++ engine to run the backward pass\n",
       "</pre>\n"
      ],
      "text/plain": [
       "/home/zekai/miniconda3/envs/eq/lib/python3.11/site-packages/torch/autograd/__init__.py:251: UserWarning: An output \n",
       "with one or more elements was resized since it had shape [1, 560, 1], which does not match the required output \n",
       "shape [1, 560, 32]. This behavior is deprecated, and in a future PyTorch release outputs will not be resized unless\n",
       "they have zero elements. You can explicitly reuse an out tensor t by resizing it, inplace, to zero elements with \n",
       "t.resize_(0). (Triggered internally at \n",
       "/opt/conda/conda-bld/pytorch_1695392035891/work/aten/src/ATen/native/Resize.cpp:28.)\n",
       "  Variable._execution_engine.run_backward(  # Calls into the C++ engine to run the backward pass\n"
      ]
     },
     "metadata": {},
     "output_type": "display_data"
    },
    {
     "data": {
      "text/html": [
       "<pre style=\"white-space:pre;overflow-x:auto;line-height:normal;font-family:Menlo,'DejaVu Sans Mono',consolas,'Courier New',monospace\">/home/zekai/miniconda3/envs/eq/lib/python3.11/site-packages/torch/autograd/__init__.py:251: UserWarning: An output \n",
       "with one or more elements was resized since it had shape [1, 101, 1], which does not match the required output \n",
       "shape [1, 101, 32]. This behavior is deprecated, and in a future PyTorch release outputs will not be resized unless\n",
       "they have zero elements. You can explicitly reuse an out tensor t by resizing it, inplace, to zero elements with \n",
       "t.resize_(0). (Triggered internally at \n",
       "/opt/conda/conda-bld/pytorch_1695392035891/work/aten/src/ATen/native/Resize.cpp:28.)\n",
       "  Variable._execution_engine.run_backward(  # Calls into the C++ engine to run the backward pass\n",
       "</pre>\n"
      ],
      "text/plain": [
       "/home/zekai/miniconda3/envs/eq/lib/python3.11/site-packages/torch/autograd/__init__.py:251: UserWarning: An output \n",
       "with one or more elements was resized since it had shape [1, 101, 1], which does not match the required output \n",
       "shape [1, 101, 32]. This behavior is deprecated, and in a future PyTorch release outputs will not be resized unless\n",
       "they have zero elements. You can explicitly reuse an out tensor t by resizing it, inplace, to zero elements with \n",
       "t.resize_(0). (Triggered internally at \n",
       "/opt/conda/conda-bld/pytorch_1695392035891/work/aten/src/ATen/native/Resize.cpp:28.)\n",
       "  Variable._execution_engine.run_backward(  # Calls into the C++ engine to run the backward pass\n"
      ]
     },
     "metadata": {},
     "output_type": "display_data"
    },
    {
     "data": {
      "text/html": [
       "<pre style=\"white-space:pre;overflow-x:auto;line-height:normal;font-family:Menlo,'DejaVu Sans Mono',consolas,'Courier New',monospace\">/home/zekai/miniconda3/envs/eq/lib/python3.11/site-packages/torch/autograd/__init__.py:251: UserWarning: An output \n",
       "with one or more elements was resized since it had shape [1, 195, 1], which does not match the required output \n",
       "shape [1, 195, 32]. This behavior is deprecated, and in a future PyTorch release outputs will not be resized unless\n",
       "they have zero elements. You can explicitly reuse an out tensor t by resizing it, inplace, to zero elements with \n",
       "t.resize_(0). (Triggered internally at \n",
       "/opt/conda/conda-bld/pytorch_1695392035891/work/aten/src/ATen/native/Resize.cpp:28.)\n",
       "  Variable._execution_engine.run_backward(  # Calls into the C++ engine to run the backward pass\n",
       "</pre>\n"
      ],
      "text/plain": [
       "/home/zekai/miniconda3/envs/eq/lib/python3.11/site-packages/torch/autograd/__init__.py:251: UserWarning: An output \n",
       "with one or more elements was resized since it had shape [1, 195, 1], which does not match the required output \n",
       "shape [1, 195, 32]. This behavior is deprecated, and in a future PyTorch release outputs will not be resized unless\n",
       "they have zero elements. You can explicitly reuse an out tensor t by resizing it, inplace, to zero elements with \n",
       "t.resize_(0). (Triggered internally at \n",
       "/opt/conda/conda-bld/pytorch_1695392035891/work/aten/src/ATen/native/Resize.cpp:28.)\n",
       "  Variable._execution_engine.run_backward(  # Calls into the C++ engine to run the backward pass\n"
      ]
     },
     "metadata": {},
     "output_type": "display_data"
    },
    {
     "data": {
      "text/html": [
       "<pre style=\"white-space:pre;overflow-x:auto;line-height:normal;font-family:Menlo,'DejaVu Sans Mono',consolas,'Courier New',monospace\">/home/zekai/miniconda3/envs/eq/lib/python3.11/site-packages/torch/autograd/__init__.py:251: UserWarning: An output \n",
       "with one or more elements was resized since it had shape [1, 47, 1], which does not match the required output shape\n",
       "[1, 47, 32]. This behavior is deprecated, and in a future PyTorch release outputs will not be resized unless they \n",
       "have zero elements. You can explicitly reuse an out tensor t by resizing it, inplace, to zero elements with \n",
       "t.resize_(0). (Triggered internally at \n",
       "/opt/conda/conda-bld/pytorch_1695392035891/work/aten/src/ATen/native/Resize.cpp:28.)\n",
       "  Variable._execution_engine.run_backward(  # Calls into the C++ engine to run the backward pass\n",
       "</pre>\n"
      ],
      "text/plain": [
       "/home/zekai/miniconda3/envs/eq/lib/python3.11/site-packages/torch/autograd/__init__.py:251: UserWarning: An output \n",
       "with one or more elements was resized since it had shape [1, 47, 1], which does not match the required output shape\n",
       "[1, 47, 32]. This behavior is deprecated, and in a future PyTorch release outputs will not be resized unless they \n",
       "have zero elements. You can explicitly reuse an out tensor t by resizing it, inplace, to zero elements with \n",
       "t.resize_(0). (Triggered internally at \n",
       "/opt/conda/conda-bld/pytorch_1695392035891/work/aten/src/ATen/native/Resize.cpp:28.)\n",
       "  Variable._execution_engine.run_backward(  # Calls into the C++ engine to run the backward pass\n"
      ]
     },
     "metadata": {},
     "output_type": "display_data"
    },
    {
     "data": {
      "text/html": [
       "<pre style=\"white-space:pre;overflow-x:auto;line-height:normal;font-family:Menlo,'DejaVu Sans Mono',consolas,'Courier New',monospace\">/home/zekai/miniconda3/envs/eq/lib/python3.11/site-packages/torch/autograd/__init__.py:251: UserWarning: An output \n",
       "with one or more elements was resized since it had shape [1, 215, 1], which does not match the required output \n",
       "shape [1, 215, 32]. This behavior is deprecated, and in a future PyTorch release outputs will not be resized unless\n",
       "they have zero elements. You can explicitly reuse an out tensor t by resizing it, inplace, to zero elements with \n",
       "t.resize_(0). (Triggered internally at \n",
       "/opt/conda/conda-bld/pytorch_1695392035891/work/aten/src/ATen/native/Resize.cpp:28.)\n",
       "  Variable._execution_engine.run_backward(  # Calls into the C++ engine to run the backward pass\n",
       "</pre>\n"
      ],
      "text/plain": [
       "/home/zekai/miniconda3/envs/eq/lib/python3.11/site-packages/torch/autograd/__init__.py:251: UserWarning: An output \n",
       "with one or more elements was resized since it had shape [1, 215, 1], which does not match the required output \n",
       "shape [1, 215, 32]. This behavior is deprecated, and in a future PyTorch release outputs will not be resized unless\n",
       "they have zero elements. You can explicitly reuse an out tensor t by resizing it, inplace, to zero elements with \n",
       "t.resize_(0). (Triggered internally at \n",
       "/opt/conda/conda-bld/pytorch_1695392035891/work/aten/src/ATen/native/Resize.cpp:28.)\n",
       "  Variable._execution_engine.run_backward(  # Calls into the C++ engine to run the backward pass\n"
      ]
     },
     "metadata": {},
     "output_type": "display_data"
    },
    {
     "data": {
      "text/html": [
       "<pre style=\"white-space:pre;overflow-x:auto;line-height:normal;font-family:Menlo,'DejaVu Sans Mono',consolas,'Courier New',monospace\">/home/zekai/miniconda3/envs/eq/lib/python3.11/site-packages/torch/autograd/__init__.py:251: UserWarning: An output \n",
       "with one or more elements was resized since it had shape [1, 622, 1], which does not match the required output \n",
       "shape [1, 622, 32]. This behavior is deprecated, and in a future PyTorch release outputs will not be resized unless\n",
       "they have zero elements. You can explicitly reuse an out tensor t by resizing it, inplace, to zero elements with \n",
       "t.resize_(0). (Triggered internally at \n",
       "/opt/conda/conda-bld/pytorch_1695392035891/work/aten/src/ATen/native/Resize.cpp:28.)\n",
       "  Variable._execution_engine.run_backward(  # Calls into the C++ engine to run the backward pass\n",
       "</pre>\n"
      ],
      "text/plain": [
       "/home/zekai/miniconda3/envs/eq/lib/python3.11/site-packages/torch/autograd/__init__.py:251: UserWarning: An output \n",
       "with one or more elements was resized since it had shape [1, 622, 1], which does not match the required output \n",
       "shape [1, 622, 32]. This behavior is deprecated, and in a future PyTorch release outputs will not be resized unless\n",
       "they have zero elements. You can explicitly reuse an out tensor t by resizing it, inplace, to zero elements with \n",
       "t.resize_(0). (Triggered internally at \n",
       "/opt/conda/conda-bld/pytorch_1695392035891/work/aten/src/ATen/native/Resize.cpp:28.)\n",
       "  Variable._execution_engine.run_backward(  # Calls into the C++ engine to run the backward pass\n"
      ]
     },
     "metadata": {},
     "output_type": "display_data"
    },
    {
     "data": {
      "text/html": [
       "<pre style=\"white-space:pre;overflow-x:auto;line-height:normal;font-family:Menlo,'DejaVu Sans Mono',consolas,'Courier New',monospace\">/home/zekai/miniconda3/envs/eq/lib/python3.11/site-packages/torch/autograd/__init__.py:251: UserWarning: An output \n",
       "with one or more elements was resized since it had shape [1, 45, 1], which does not match the required output shape\n",
       "[1, 45, 32]. This behavior is deprecated, and in a future PyTorch release outputs will not be resized unless they \n",
       "have zero elements. You can explicitly reuse an out tensor t by resizing it, inplace, to zero elements with \n",
       "t.resize_(0). (Triggered internally at \n",
       "/opt/conda/conda-bld/pytorch_1695392035891/work/aten/src/ATen/native/Resize.cpp:28.)\n",
       "  Variable._execution_engine.run_backward(  # Calls into the C++ engine to run the backward pass\n",
       "</pre>\n"
      ],
      "text/plain": [
       "/home/zekai/miniconda3/envs/eq/lib/python3.11/site-packages/torch/autograd/__init__.py:251: UserWarning: An output \n",
       "with one or more elements was resized since it had shape [1, 45, 1], which does not match the required output shape\n",
       "[1, 45, 32]. This behavior is deprecated, and in a future PyTorch release outputs will not be resized unless they \n",
       "have zero elements. You can explicitly reuse an out tensor t by resizing it, inplace, to zero elements with \n",
       "t.resize_(0). (Triggered internally at \n",
       "/opt/conda/conda-bld/pytorch_1695392035891/work/aten/src/ATen/native/Resize.cpp:28.)\n",
       "  Variable._execution_engine.run_backward(  # Calls into the C++ engine to run the backward pass\n"
      ]
     },
     "metadata": {},
     "output_type": "display_data"
    },
    {
     "data": {
      "text/html": [
       "<pre style=\"white-space:pre;overflow-x:auto;line-height:normal;font-family:Menlo,'DejaVu Sans Mono',consolas,'Courier New',monospace\">/home/zekai/miniconda3/envs/eq/lib/python3.11/site-packages/torch/autograd/__init__.py:251: UserWarning: An output \n",
       "with one or more elements was resized since it had shape [1, 583, 1], which does not match the required output \n",
       "shape [1, 583, 32]. This behavior is deprecated, and in a future PyTorch release outputs will not be resized unless\n",
       "they have zero elements. You can explicitly reuse an out tensor t by resizing it, inplace, to zero elements with \n",
       "t.resize_(0). (Triggered internally at \n",
       "/opt/conda/conda-bld/pytorch_1695392035891/work/aten/src/ATen/native/Resize.cpp:28.)\n",
       "  Variable._execution_engine.run_backward(  # Calls into the C++ engine to run the backward pass\n",
       "</pre>\n"
      ],
      "text/plain": [
       "/home/zekai/miniconda3/envs/eq/lib/python3.11/site-packages/torch/autograd/__init__.py:251: UserWarning: An output \n",
       "with one or more elements was resized since it had shape [1, 583, 1], which does not match the required output \n",
       "shape [1, 583, 32]. This behavior is deprecated, and in a future PyTorch release outputs will not be resized unless\n",
       "they have zero elements. You can explicitly reuse an out tensor t by resizing it, inplace, to zero elements with \n",
       "t.resize_(0). (Triggered internally at \n",
       "/opt/conda/conda-bld/pytorch_1695392035891/work/aten/src/ATen/native/Resize.cpp:28.)\n",
       "  Variable._execution_engine.run_backward(  # Calls into the C++ engine to run the backward pass\n"
      ]
     },
     "metadata": {},
     "output_type": "display_data"
    },
    {
     "data": {
      "text/html": [
       "<pre style=\"white-space:pre;overflow-x:auto;line-height:normal;font-family:Menlo,'DejaVu Sans Mono',consolas,'Courier New',monospace\">/home/zekai/miniconda3/envs/eq/lib/python3.11/site-packages/torch/autograd/__init__.py:251: UserWarning: An output \n",
       "with one or more elements was resized since it had shape [1, 154, 1], which does not match the required output \n",
       "shape [1, 154, 32]. This behavior is deprecated, and in a future PyTorch release outputs will not be resized unless\n",
       "they have zero elements. You can explicitly reuse an out tensor t by resizing it, inplace, to zero elements with \n",
       "t.resize_(0). (Triggered internally at \n",
       "/opt/conda/conda-bld/pytorch_1695392035891/work/aten/src/ATen/native/Resize.cpp:28.)\n",
       "  Variable._execution_engine.run_backward(  # Calls into the C++ engine to run the backward pass\n",
       "</pre>\n"
      ],
      "text/plain": [
       "/home/zekai/miniconda3/envs/eq/lib/python3.11/site-packages/torch/autograd/__init__.py:251: UserWarning: An output \n",
       "with one or more elements was resized since it had shape [1, 154, 1], which does not match the required output \n",
       "shape [1, 154, 32]. This behavior is deprecated, and in a future PyTorch release outputs will not be resized unless\n",
       "they have zero elements. You can explicitly reuse an out tensor t by resizing it, inplace, to zero elements with \n",
       "t.resize_(0). (Triggered internally at \n",
       "/opt/conda/conda-bld/pytorch_1695392035891/work/aten/src/ATen/native/Resize.cpp:28.)\n",
       "  Variable._execution_engine.run_backward(  # Calls into the C++ engine to run the backward pass\n"
      ]
     },
     "metadata": {},
     "output_type": "display_data"
    },
    {
     "data": {
      "text/html": [
       "<pre style=\"white-space:pre;overflow-x:auto;line-height:normal;font-family:Menlo,'DejaVu Sans Mono',consolas,'Courier New',monospace\">/home/zekai/miniconda3/envs/eq/lib/python3.11/site-packages/torch/autograd/__init__.py:251: UserWarning: An output \n",
       "with one or more elements was resized since it had shape [1, 2864, 1], which does not match the required output \n",
       "shape [1, 2864, 32]. This behavior is deprecated, and in a future PyTorch release outputs will not be resized \n",
       "unless they have zero elements. You can explicitly reuse an out tensor t by resizing it, inplace, to zero elements \n",
       "with t.resize_(0). (Triggered internally at \n",
       "/opt/conda/conda-bld/pytorch_1695392035891/work/aten/src/ATen/native/Resize.cpp:28.)\n",
       "  Variable._execution_engine.run_backward(  # Calls into the C++ engine to run the backward pass\n",
       "</pre>\n"
      ],
      "text/plain": [
       "/home/zekai/miniconda3/envs/eq/lib/python3.11/site-packages/torch/autograd/__init__.py:251: UserWarning: An output \n",
       "with one or more elements was resized since it had shape [1, 2864, 1], which does not match the required output \n",
       "shape [1, 2864, 32]. This behavior is deprecated, and in a future PyTorch release outputs will not be resized \n",
       "unless they have zero elements. You can explicitly reuse an out tensor t by resizing it, inplace, to zero elements \n",
       "with t.resize_(0). (Triggered internally at \n",
       "/opt/conda/conda-bld/pytorch_1695392035891/work/aten/src/ATen/native/Resize.cpp:28.)\n",
       "  Variable._execution_engine.run_backward(  # Calls into the C++ engine to run the backward pass\n"
      ]
     },
     "metadata": {},
     "output_type": "display_data"
    },
    {
     "data": {
      "text/html": [
       "<pre style=\"white-space:pre;overflow-x:auto;line-height:normal;font-family:Menlo,'DejaVu Sans Mono',consolas,'Courier New',monospace\">/home/zekai/miniconda3/envs/eq/lib/python3.11/site-packages/torch/autograd/__init__.py:251: UserWarning: An output \n",
       "with one or more elements was resized since it had shape [1, 404, 1], which does not match the required output \n",
       "shape [1, 404, 32]. This behavior is deprecated, and in a future PyTorch release outputs will not be resized unless\n",
       "they have zero elements. You can explicitly reuse an out tensor t by resizing it, inplace, to zero elements with \n",
       "t.resize_(0). (Triggered internally at \n",
       "/opt/conda/conda-bld/pytorch_1695392035891/work/aten/src/ATen/native/Resize.cpp:28.)\n",
       "  Variable._execution_engine.run_backward(  # Calls into the C++ engine to run the backward pass\n",
       "</pre>\n"
      ],
      "text/plain": [
       "/home/zekai/miniconda3/envs/eq/lib/python3.11/site-packages/torch/autograd/__init__.py:251: UserWarning: An output \n",
       "with one or more elements was resized since it had shape [1, 404, 1], which does not match the required output \n",
       "shape [1, 404, 32]. This behavior is deprecated, and in a future PyTorch release outputs will not be resized unless\n",
       "they have zero elements. You can explicitly reuse an out tensor t by resizing it, inplace, to zero elements with \n",
       "t.resize_(0). (Triggered internally at \n",
       "/opt/conda/conda-bld/pytorch_1695392035891/work/aten/src/ATen/native/Resize.cpp:28.)\n",
       "  Variable._execution_engine.run_backward(  # Calls into the C++ engine to run the backward pass\n"
      ]
     },
     "metadata": {},
     "output_type": "display_data"
    },
    {
     "data": {
      "text/html": [
       "<pre style=\"white-space:pre;overflow-x:auto;line-height:normal;font-family:Menlo,'DejaVu Sans Mono',consolas,'Courier New',monospace\">/home/zekai/miniconda3/envs/eq/lib/python3.11/site-packages/torch/autograd/__init__.py:251: UserWarning: An output \n",
       "with one or more elements was resized since it had shape [1, 254, 1], which does not match the required output \n",
       "shape [1, 254, 32]. This behavior is deprecated, and in a future PyTorch release outputs will not be resized unless\n",
       "they have zero elements. You can explicitly reuse an out tensor t by resizing it, inplace, to zero elements with \n",
       "t.resize_(0). (Triggered internally at \n",
       "/opt/conda/conda-bld/pytorch_1695392035891/work/aten/src/ATen/native/Resize.cpp:28.)\n",
       "  Variable._execution_engine.run_backward(  # Calls into the C++ engine to run the backward pass\n",
       "</pre>\n"
      ],
      "text/plain": [
       "/home/zekai/miniconda3/envs/eq/lib/python3.11/site-packages/torch/autograd/__init__.py:251: UserWarning: An output \n",
       "with one or more elements was resized since it had shape [1, 254, 1], which does not match the required output \n",
       "shape [1, 254, 32]. This behavior is deprecated, and in a future PyTorch release outputs will not be resized unless\n",
       "they have zero elements. You can explicitly reuse an out tensor t by resizing it, inplace, to zero elements with \n",
       "t.resize_(0). (Triggered internally at \n",
       "/opt/conda/conda-bld/pytorch_1695392035891/work/aten/src/ATen/native/Resize.cpp:28.)\n",
       "  Variable._execution_engine.run_backward(  # Calls into the C++ engine to run the backward pass\n"
      ]
     },
     "metadata": {},
     "output_type": "display_data"
    },
    {
     "data": {
      "text/html": [
       "<pre style=\"white-space:pre;overflow-x:auto;line-height:normal;font-family:Menlo,'DejaVu Sans Mono',consolas,'Courier New',monospace\">/home/zekai/miniconda3/envs/eq/lib/python3.11/site-packages/torch/autograd/__init__.py:251: UserWarning: An output \n",
       "with one or more elements was resized since it had shape [1, 145, 1], which does not match the required output \n",
       "shape [1, 145, 32]. This behavior is deprecated, and in a future PyTorch release outputs will not be resized unless\n",
       "they have zero elements. You can explicitly reuse an out tensor t by resizing it, inplace, to zero elements with \n",
       "t.resize_(0). (Triggered internally at \n",
       "/opt/conda/conda-bld/pytorch_1695392035891/work/aten/src/ATen/native/Resize.cpp:28.)\n",
       "  Variable._execution_engine.run_backward(  # Calls into the C++ engine to run the backward pass\n",
       "</pre>\n"
      ],
      "text/plain": [
       "/home/zekai/miniconda3/envs/eq/lib/python3.11/site-packages/torch/autograd/__init__.py:251: UserWarning: An output \n",
       "with one or more elements was resized since it had shape [1, 145, 1], which does not match the required output \n",
       "shape [1, 145, 32]. This behavior is deprecated, and in a future PyTorch release outputs will not be resized unless\n",
       "they have zero elements. You can explicitly reuse an out tensor t by resizing it, inplace, to zero elements with \n",
       "t.resize_(0). (Triggered internally at \n",
       "/opt/conda/conda-bld/pytorch_1695392035891/work/aten/src/ATen/native/Resize.cpp:28.)\n",
       "  Variable._execution_engine.run_backward(  # Calls into the C++ engine to run the backward pass\n"
      ]
     },
     "metadata": {},
     "output_type": "display_data"
    },
    {
     "data": {
      "text/html": [
       "<pre style=\"white-space:pre;overflow-x:auto;line-height:normal;font-family:Menlo,'DejaVu Sans Mono',consolas,'Courier New',monospace\">/home/zekai/miniconda3/envs/eq/lib/python3.11/site-packages/torch/autograd/__init__.py:251: UserWarning: An output \n",
       "with one or more elements was resized since it had shape [1, 461, 1], which does not match the required output \n",
       "shape [1, 461, 32]. This behavior is deprecated, and in a future PyTorch release outputs will not be resized unless\n",
       "they have zero elements. You can explicitly reuse an out tensor t by resizing it, inplace, to zero elements with \n",
       "t.resize_(0). (Triggered internally at \n",
       "/opt/conda/conda-bld/pytorch_1695392035891/work/aten/src/ATen/native/Resize.cpp:28.)\n",
       "  Variable._execution_engine.run_backward(  # Calls into the C++ engine to run the backward pass\n",
       "</pre>\n"
      ],
      "text/plain": [
       "/home/zekai/miniconda3/envs/eq/lib/python3.11/site-packages/torch/autograd/__init__.py:251: UserWarning: An output \n",
       "with one or more elements was resized since it had shape [1, 461, 1], which does not match the required output \n",
       "shape [1, 461, 32]. This behavior is deprecated, and in a future PyTorch release outputs will not be resized unless\n",
       "they have zero elements. You can explicitly reuse an out tensor t by resizing it, inplace, to zero elements with \n",
       "t.resize_(0). (Triggered internally at \n",
       "/opt/conda/conda-bld/pytorch_1695392035891/work/aten/src/ATen/native/Resize.cpp:28.)\n",
       "  Variable._execution_engine.run_backward(  # Calls into the C++ engine to run the backward pass\n"
      ]
     },
     "metadata": {},
     "output_type": "display_data"
    },
    {
     "data": {
      "text/html": [
       "<pre style=\"white-space:pre;overflow-x:auto;line-height:normal;font-family:Menlo,'DejaVu Sans Mono',consolas,'Courier New',monospace\">/home/zekai/miniconda3/envs/eq/lib/python3.11/site-packages/torch/autograd/__init__.py:251: UserWarning: An output \n",
       "with one or more elements was resized since it had shape [1, 312, 1], which does not match the required output \n",
       "shape [1, 312, 32]. This behavior is deprecated, and in a future PyTorch release outputs will not be resized unless\n",
       "they have zero elements. You can explicitly reuse an out tensor t by resizing it, inplace, to zero elements with \n",
       "t.resize_(0). (Triggered internally at \n",
       "/opt/conda/conda-bld/pytorch_1695392035891/work/aten/src/ATen/native/Resize.cpp:28.)\n",
       "  Variable._execution_engine.run_backward(  # Calls into the C++ engine to run the backward pass\n",
       "</pre>\n"
      ],
      "text/plain": [
       "/home/zekai/miniconda3/envs/eq/lib/python3.11/site-packages/torch/autograd/__init__.py:251: UserWarning: An output \n",
       "with one or more elements was resized since it had shape [1, 312, 1], which does not match the required output \n",
       "shape [1, 312, 32]. This behavior is deprecated, and in a future PyTorch release outputs will not be resized unless\n",
       "they have zero elements. You can explicitly reuse an out tensor t by resizing it, inplace, to zero elements with \n",
       "t.resize_(0). (Triggered internally at \n",
       "/opt/conda/conda-bld/pytorch_1695392035891/work/aten/src/ATen/native/Resize.cpp:28.)\n",
       "  Variable._execution_engine.run_backward(  # Calls into the C++ engine to run the backward pass\n"
      ]
     },
     "metadata": {},
     "output_type": "display_data"
    },
    {
     "data": {
      "text/html": [
       "<pre style=\"white-space:pre;overflow-x:auto;line-height:normal;font-family:Menlo,'DejaVu Sans Mono',consolas,'Courier New',monospace\">/home/zekai/miniconda3/envs/eq/lib/python3.11/site-packages/torch/autograd/__init__.py:251: UserWarning: An output \n",
       "with one or more elements was resized since it had shape [1, 242, 1], which does not match the required output \n",
       "shape [1, 242, 32]. This behavior is deprecated, and in a future PyTorch release outputs will not be resized unless\n",
       "they have zero elements. You can explicitly reuse an out tensor t by resizing it, inplace, to zero elements with \n",
       "t.resize_(0). (Triggered internally at \n",
       "/opt/conda/conda-bld/pytorch_1695392035891/work/aten/src/ATen/native/Resize.cpp:28.)\n",
       "  Variable._execution_engine.run_backward(  # Calls into the C++ engine to run the backward pass\n",
       "</pre>\n"
      ],
      "text/plain": [
       "/home/zekai/miniconda3/envs/eq/lib/python3.11/site-packages/torch/autograd/__init__.py:251: UserWarning: An output \n",
       "with one or more elements was resized since it had shape [1, 242, 1], which does not match the required output \n",
       "shape [1, 242, 32]. This behavior is deprecated, and in a future PyTorch release outputs will not be resized unless\n",
       "they have zero elements. You can explicitly reuse an out tensor t by resizing it, inplace, to zero elements with \n",
       "t.resize_(0). (Triggered internally at \n",
       "/opt/conda/conda-bld/pytorch_1695392035891/work/aten/src/ATen/native/Resize.cpp:28.)\n",
       "  Variable._execution_engine.run_backward(  # Calls into the C++ engine to run the backward pass\n"
      ]
     },
     "metadata": {},
     "output_type": "display_data"
    },
    {
     "data": {
      "text/html": [
       "<pre style=\"white-space:pre;overflow-x:auto;line-height:normal;font-family:Menlo,'DejaVu Sans Mono',consolas,'Courier New',monospace\">/home/zekai/miniconda3/envs/eq/lib/python3.11/site-packages/torch/autograd/__init__.py:251: UserWarning: An output \n",
       "with one or more elements was resized since it had shape [1, 595, 1], which does not match the required output \n",
       "shape [1, 595, 32]. This behavior is deprecated, and in a future PyTorch release outputs will not be resized unless\n",
       "they have zero elements. You can explicitly reuse an out tensor t by resizing it, inplace, to zero elements with \n",
       "t.resize_(0). (Triggered internally at \n",
       "/opt/conda/conda-bld/pytorch_1695392035891/work/aten/src/ATen/native/Resize.cpp:28.)\n",
       "  Variable._execution_engine.run_backward(  # Calls into the C++ engine to run the backward pass\n",
       "</pre>\n"
      ],
      "text/plain": [
       "/home/zekai/miniconda3/envs/eq/lib/python3.11/site-packages/torch/autograd/__init__.py:251: UserWarning: An output \n",
       "with one or more elements was resized since it had shape [1, 595, 1], which does not match the required output \n",
       "shape [1, 595, 32]. This behavior is deprecated, and in a future PyTorch release outputs will not be resized unless\n",
       "they have zero elements. You can explicitly reuse an out tensor t by resizing it, inplace, to zero elements with \n",
       "t.resize_(0). (Triggered internally at \n",
       "/opt/conda/conda-bld/pytorch_1695392035891/work/aten/src/ATen/native/Resize.cpp:28.)\n",
       "  Variable._execution_engine.run_backward(  # Calls into the C++ engine to run the backward pass\n"
      ]
     },
     "metadata": {},
     "output_type": "display_data"
    },
    {
     "data": {
      "text/html": [
       "<pre style=\"white-space:pre;overflow-x:auto;line-height:normal;font-family:Menlo,'DejaVu Sans Mono',consolas,'Courier New',monospace\">/home/zekai/miniconda3/envs/eq/lib/python3.11/site-packages/torch/autograd/__init__.py:251: UserWarning: An output \n",
       "with one or more elements was resized since it had shape [1, 438, 1], which does not match the required output \n",
       "shape [1, 438, 32]. This behavior is deprecated, and in a future PyTorch release outputs will not be resized unless\n",
       "they have zero elements. You can explicitly reuse an out tensor t by resizing it, inplace, to zero elements with \n",
       "t.resize_(0). (Triggered internally at \n",
       "/opt/conda/conda-bld/pytorch_1695392035891/work/aten/src/ATen/native/Resize.cpp:28.)\n",
       "  Variable._execution_engine.run_backward(  # Calls into the C++ engine to run the backward pass\n",
       "</pre>\n"
      ],
      "text/plain": [
       "/home/zekai/miniconda3/envs/eq/lib/python3.11/site-packages/torch/autograd/__init__.py:251: UserWarning: An output \n",
       "with one or more elements was resized since it had shape [1, 438, 1], which does not match the required output \n",
       "shape [1, 438, 32]. This behavior is deprecated, and in a future PyTorch release outputs will not be resized unless\n",
       "they have zero elements. You can explicitly reuse an out tensor t by resizing it, inplace, to zero elements with \n",
       "t.resize_(0). (Triggered internally at \n",
       "/opt/conda/conda-bld/pytorch_1695392035891/work/aten/src/ATen/native/Resize.cpp:28.)\n",
       "  Variable._execution_engine.run_backward(  # Calls into the C++ engine to run the backward pass\n"
      ]
     },
     "metadata": {},
     "output_type": "display_data"
    },
    {
     "data": {
      "text/html": [
       "<pre style=\"white-space:pre;overflow-x:auto;line-height:normal;font-family:Menlo,'DejaVu Sans Mono',consolas,'Courier New',monospace\">/home/zekai/miniconda3/envs/eq/lib/python3.11/site-packages/torch/autograd/__init__.py:251: UserWarning: An output \n",
       "with one or more elements was resized since it had shape [1, 671, 1], which does not match the required output \n",
       "shape [1, 671, 32]. This behavior is deprecated, and in a future PyTorch release outputs will not be resized unless\n",
       "they have zero elements. You can explicitly reuse an out tensor t by resizing it, inplace, to zero elements with \n",
       "t.resize_(0). (Triggered internally at \n",
       "/opt/conda/conda-bld/pytorch_1695392035891/work/aten/src/ATen/native/Resize.cpp:28.)\n",
       "  Variable._execution_engine.run_backward(  # Calls into the C++ engine to run the backward pass\n",
       "</pre>\n"
      ],
      "text/plain": [
       "/home/zekai/miniconda3/envs/eq/lib/python3.11/site-packages/torch/autograd/__init__.py:251: UserWarning: An output \n",
       "with one or more elements was resized since it had shape [1, 671, 1], which does not match the required output \n",
       "shape [1, 671, 32]. This behavior is deprecated, and in a future PyTorch release outputs will not be resized unless\n",
       "they have zero elements. You can explicitly reuse an out tensor t by resizing it, inplace, to zero elements with \n",
       "t.resize_(0). (Triggered internally at \n",
       "/opt/conda/conda-bld/pytorch_1695392035891/work/aten/src/ATen/native/Resize.cpp:28.)\n",
       "  Variable._execution_engine.run_backward(  # Calls into the C++ engine to run the backward pass\n"
      ]
     },
     "metadata": {},
     "output_type": "display_data"
    },
    {
     "data": {
      "text/html": [
       "<pre style=\"white-space:pre;overflow-x:auto;line-height:normal;font-family:Menlo,'DejaVu Sans Mono',consolas,'Courier New',monospace\">/home/zekai/miniconda3/envs/eq/lib/python3.11/site-packages/torch/autograd/__init__.py:251: UserWarning: An output \n",
       "with one or more elements was resized since it had shape [1, 115, 1], which does not match the required output \n",
       "shape [1, 115, 32]. This behavior is deprecated, and in a future PyTorch release outputs will not be resized unless\n",
       "they have zero elements. You can explicitly reuse an out tensor t by resizing it, inplace, to zero elements with \n",
       "t.resize_(0). (Triggered internally at \n",
       "/opt/conda/conda-bld/pytorch_1695392035891/work/aten/src/ATen/native/Resize.cpp:28.)\n",
       "  Variable._execution_engine.run_backward(  # Calls into the C++ engine to run the backward pass\n",
       "</pre>\n"
      ],
      "text/plain": [
       "/home/zekai/miniconda3/envs/eq/lib/python3.11/site-packages/torch/autograd/__init__.py:251: UserWarning: An output \n",
       "with one or more elements was resized since it had shape [1, 115, 1], which does not match the required output \n",
       "shape [1, 115, 32]. This behavior is deprecated, and in a future PyTorch release outputs will not be resized unless\n",
       "they have zero elements. You can explicitly reuse an out tensor t by resizing it, inplace, to zero elements with \n",
       "t.resize_(0). (Triggered internally at \n",
       "/opt/conda/conda-bld/pytorch_1695392035891/work/aten/src/ATen/native/Resize.cpp:28.)\n",
       "  Variable._execution_engine.run_backward(  # Calls into the C++ engine to run the backward pass\n"
      ]
     },
     "metadata": {},
     "output_type": "display_data"
    },
    {
     "data": {
      "text/html": [
       "<pre style=\"white-space:pre;overflow-x:auto;line-height:normal;font-family:Menlo,'DejaVu Sans Mono',consolas,'Courier New',monospace\">/home/zekai/miniconda3/envs/eq/lib/python3.11/site-packages/torch/autograd/__init__.py:251: UserWarning: An output \n",
       "with one or more elements was resized since it had shape [1, 2949, 1], which does not match the required output \n",
       "shape [1, 2949, 32]. This behavior is deprecated, and in a future PyTorch release outputs will not be resized \n",
       "unless they have zero elements. You can explicitly reuse an out tensor t by resizing it, inplace, to zero elements \n",
       "with t.resize_(0). (Triggered internally at \n",
       "/opt/conda/conda-bld/pytorch_1695392035891/work/aten/src/ATen/native/Resize.cpp:28.)\n",
       "  Variable._execution_engine.run_backward(  # Calls into the C++ engine to run the backward pass\n",
       "</pre>\n"
      ],
      "text/plain": [
       "/home/zekai/miniconda3/envs/eq/lib/python3.11/site-packages/torch/autograd/__init__.py:251: UserWarning: An output \n",
       "with one or more elements was resized since it had shape [1, 2949, 1], which does not match the required output \n",
       "shape [1, 2949, 32]. This behavior is deprecated, and in a future PyTorch release outputs will not be resized \n",
       "unless they have zero elements. You can explicitly reuse an out tensor t by resizing it, inplace, to zero elements \n",
       "with t.resize_(0). (Triggered internally at \n",
       "/opt/conda/conda-bld/pytorch_1695392035891/work/aten/src/ATen/native/Resize.cpp:28.)\n",
       "  Variable._execution_engine.run_backward(  # Calls into the C++ engine to run the backward pass\n"
      ]
     },
     "metadata": {},
     "output_type": "display_data"
    },
    {
     "data": {
      "text/html": [
       "<pre style=\"white-space:pre;overflow-x:auto;line-height:normal;font-family:Menlo,'DejaVu Sans Mono',consolas,'Courier New',monospace\">/home/zekai/miniconda3/envs/eq/lib/python3.11/site-packages/torch/autograd/__init__.py:251: UserWarning: An output \n",
       "with one or more elements was resized since it had shape [1, 55, 1], which does not match the required output shape\n",
       "[1, 55, 32]. This behavior is deprecated, and in a future PyTorch release outputs will not be resized unless they \n",
       "have zero elements. You can explicitly reuse an out tensor t by resizing it, inplace, to zero elements with \n",
       "t.resize_(0). (Triggered internally at \n",
       "/opt/conda/conda-bld/pytorch_1695392035891/work/aten/src/ATen/native/Resize.cpp:28.)\n",
       "  Variable._execution_engine.run_backward(  # Calls into the C++ engine to run the backward pass\n",
       "</pre>\n"
      ],
      "text/plain": [
       "/home/zekai/miniconda3/envs/eq/lib/python3.11/site-packages/torch/autograd/__init__.py:251: UserWarning: An output \n",
       "with one or more elements was resized since it had shape [1, 55, 1], which does not match the required output shape\n",
       "[1, 55, 32]. This behavior is deprecated, and in a future PyTorch release outputs will not be resized unless they \n",
       "have zero elements. You can explicitly reuse an out tensor t by resizing it, inplace, to zero elements with \n",
       "t.resize_(0). (Triggered internally at \n",
       "/opt/conda/conda-bld/pytorch_1695392035891/work/aten/src/ATen/native/Resize.cpp:28.)\n",
       "  Variable._execution_engine.run_backward(  # Calls into the C++ engine to run the backward pass\n"
      ]
     },
     "metadata": {},
     "output_type": "display_data"
    },
    {
     "data": {
      "text/html": [
       "<pre style=\"white-space:pre;overflow-x:auto;line-height:normal;font-family:Menlo,'DejaVu Sans Mono',consolas,'Courier New',monospace\">/home/zekai/miniconda3/envs/eq/lib/python3.11/site-packages/torch/autograd/__init__.py:251: UserWarning: An output \n",
       "with one or more elements was resized since it had shape [1, 297, 1], which does not match the required output \n",
       "shape [1, 297, 32]. This behavior is deprecated, and in a future PyTorch release outputs will not be resized unless\n",
       "they have zero elements. You can explicitly reuse an out tensor t by resizing it, inplace, to zero elements with \n",
       "t.resize_(0). (Triggered internally at \n",
       "/opt/conda/conda-bld/pytorch_1695392035891/work/aten/src/ATen/native/Resize.cpp:28.)\n",
       "  Variable._execution_engine.run_backward(  # Calls into the C++ engine to run the backward pass\n",
       "</pre>\n"
      ],
      "text/plain": [
       "/home/zekai/miniconda3/envs/eq/lib/python3.11/site-packages/torch/autograd/__init__.py:251: UserWarning: An output \n",
       "with one or more elements was resized since it had shape [1, 297, 1], which does not match the required output \n",
       "shape [1, 297, 32]. This behavior is deprecated, and in a future PyTorch release outputs will not be resized unless\n",
       "they have zero elements. You can explicitly reuse an out tensor t by resizing it, inplace, to zero elements with \n",
       "t.resize_(0). (Triggered internally at \n",
       "/opt/conda/conda-bld/pytorch_1695392035891/work/aten/src/ATen/native/Resize.cpp:28.)\n",
       "  Variable._execution_engine.run_backward(  # Calls into the C++ engine to run the backward pass\n"
      ]
     },
     "metadata": {},
     "output_type": "display_data"
    },
    {
     "data": {
      "text/html": [
       "<pre style=\"white-space:pre;overflow-x:auto;line-height:normal;font-family:Menlo,'DejaVu Sans Mono',consolas,'Courier New',monospace\">/home/zekai/miniconda3/envs/eq/lib/python3.11/site-packages/torch/autograd/__init__.py:251: UserWarning: An output \n",
       "with one or more elements was resized since it had shape [1, 79, 1], which does not match the required output shape\n",
       "[1, 79, 32]. This behavior is deprecated, and in a future PyTorch release outputs will not be resized unless they \n",
       "have zero elements. You can explicitly reuse an out tensor t by resizing it, inplace, to zero elements with \n",
       "t.resize_(0). (Triggered internally at \n",
       "/opt/conda/conda-bld/pytorch_1695392035891/work/aten/src/ATen/native/Resize.cpp:28.)\n",
       "  Variable._execution_engine.run_backward(  # Calls into the C++ engine to run the backward pass\n",
       "</pre>\n"
      ],
      "text/plain": [
       "/home/zekai/miniconda3/envs/eq/lib/python3.11/site-packages/torch/autograd/__init__.py:251: UserWarning: An output \n",
       "with one or more elements was resized since it had shape [1, 79, 1], which does not match the required output shape\n",
       "[1, 79, 32]. This behavior is deprecated, and in a future PyTorch release outputs will not be resized unless they \n",
       "have zero elements. You can explicitly reuse an out tensor t by resizing it, inplace, to zero elements with \n",
       "t.resize_(0). (Triggered internally at \n",
       "/opt/conda/conda-bld/pytorch_1695392035891/work/aten/src/ATen/native/Resize.cpp:28.)\n",
       "  Variable._execution_engine.run_backward(  # Calls into the C++ engine to run the backward pass\n"
      ]
     },
     "metadata": {},
     "output_type": "display_data"
    },
    {
     "data": {
      "text/html": [
       "<pre style=\"white-space:pre;overflow-x:auto;line-height:normal;font-family:Menlo,'DejaVu Sans Mono',consolas,'Courier New',monospace\">/home/zekai/miniconda3/envs/eq/lib/python3.11/site-packages/torch/autograd/__init__.py:251: UserWarning: An output \n",
       "with one or more elements was resized since it had shape [1, 202, 1], which does not match the required output \n",
       "shape [1, 202, 32]. This behavior is deprecated, and in a future PyTorch release outputs will not be resized unless\n",
       "they have zero elements. You can explicitly reuse an out tensor t by resizing it, inplace, to zero elements with \n",
       "t.resize_(0). (Triggered internally at \n",
       "/opt/conda/conda-bld/pytorch_1695392035891/work/aten/src/ATen/native/Resize.cpp:28.)\n",
       "  Variable._execution_engine.run_backward(  # Calls into the C++ engine to run the backward pass\n",
       "</pre>\n"
      ],
      "text/plain": [
       "/home/zekai/miniconda3/envs/eq/lib/python3.11/site-packages/torch/autograd/__init__.py:251: UserWarning: An output \n",
       "with one or more elements was resized since it had shape [1, 202, 1], which does not match the required output \n",
       "shape [1, 202, 32]. This behavior is deprecated, and in a future PyTorch release outputs will not be resized unless\n",
       "they have zero elements. You can explicitly reuse an out tensor t by resizing it, inplace, to zero elements with \n",
       "t.resize_(0). (Triggered internally at \n",
       "/opt/conda/conda-bld/pytorch_1695392035891/work/aten/src/ATen/native/Resize.cpp:28.)\n",
       "  Variable._execution_engine.run_backward(  # Calls into the C++ engine to run the backward pass\n"
      ]
     },
     "metadata": {},
     "output_type": "display_data"
    },
    {
     "data": {
      "text/html": [
       "<pre style=\"white-space:pre;overflow-x:auto;line-height:normal;font-family:Menlo,'DejaVu Sans Mono',consolas,'Courier New',monospace\">/home/zekai/miniconda3/envs/eq/lib/python3.11/site-packages/torch/autograd/__init__.py:251: UserWarning: An output \n",
       "with one or more elements was resized since it had shape [1, 2959, 1], which does not match the required output \n",
       "shape [1, 2959, 32]. This behavior is deprecated, and in a future PyTorch release outputs will not be resized \n",
       "unless they have zero elements. You can explicitly reuse an out tensor t by resizing it, inplace, to zero elements \n",
       "with t.resize_(0). (Triggered internally at \n",
       "/opt/conda/conda-bld/pytorch_1695392035891/work/aten/src/ATen/native/Resize.cpp:28.)\n",
       "  Variable._execution_engine.run_backward(  # Calls into the C++ engine to run the backward pass\n",
       "</pre>\n"
      ],
      "text/plain": [
       "/home/zekai/miniconda3/envs/eq/lib/python3.11/site-packages/torch/autograd/__init__.py:251: UserWarning: An output \n",
       "with one or more elements was resized since it had shape [1, 2959, 1], which does not match the required output \n",
       "shape [1, 2959, 32]. This behavior is deprecated, and in a future PyTorch release outputs will not be resized \n",
       "unless they have zero elements. You can explicitly reuse an out tensor t by resizing it, inplace, to zero elements \n",
       "with t.resize_(0). (Triggered internally at \n",
       "/opt/conda/conda-bld/pytorch_1695392035891/work/aten/src/ATen/native/Resize.cpp:28.)\n",
       "  Variable._execution_engine.run_backward(  # Calls into the C++ engine to run the backward pass\n"
      ]
     },
     "metadata": {},
     "output_type": "display_data"
    },
    {
     "data": {
      "text/html": [
       "<pre style=\"white-space:pre;overflow-x:auto;line-height:normal;font-family:Menlo,'DejaVu Sans Mono',consolas,'Courier New',monospace\">/home/zekai/miniconda3/envs/eq/lib/python3.11/site-packages/torch/autograd/__init__.py:251: UserWarning: An output \n",
       "with one or more elements was resized since it had shape [1, 233, 1], which does not match the required output \n",
       "shape [1, 233, 32]. This behavior is deprecated, and in a future PyTorch release outputs will not be resized unless\n",
       "they have zero elements. You can explicitly reuse an out tensor t by resizing it, inplace, to zero elements with \n",
       "t.resize_(0). (Triggered internally at \n",
       "/opt/conda/conda-bld/pytorch_1695392035891/work/aten/src/ATen/native/Resize.cpp:28.)\n",
       "  Variable._execution_engine.run_backward(  # Calls into the C++ engine to run the backward pass\n",
       "</pre>\n"
      ],
      "text/plain": [
       "/home/zekai/miniconda3/envs/eq/lib/python3.11/site-packages/torch/autograd/__init__.py:251: UserWarning: An output \n",
       "with one or more elements was resized since it had shape [1, 233, 1], which does not match the required output \n",
       "shape [1, 233, 32]. This behavior is deprecated, and in a future PyTorch release outputs will not be resized unless\n",
       "they have zero elements. You can explicitly reuse an out tensor t by resizing it, inplace, to zero elements with \n",
       "t.resize_(0). (Triggered internally at \n",
       "/opt/conda/conda-bld/pytorch_1695392035891/work/aten/src/ATen/native/Resize.cpp:28.)\n",
       "  Variable._execution_engine.run_backward(  # Calls into the C++ engine to run the backward pass\n"
      ]
     },
     "metadata": {},
     "output_type": "display_data"
    },
    {
     "data": {
      "text/html": [
       "<pre style=\"white-space:pre;overflow-x:auto;line-height:normal;font-family:Menlo,'DejaVu Sans Mono',consolas,'Courier New',monospace\">/home/zekai/miniconda3/envs/eq/lib/python3.11/site-packages/torch/autograd/__init__.py:251: UserWarning: An output \n",
       "with one or more elements was resized since it had shape [1, 94, 1], which does not match the required output shape\n",
       "[1, 94, 32]. This behavior is deprecated, and in a future PyTorch release outputs will not be resized unless they \n",
       "have zero elements. You can explicitly reuse an out tensor t by resizing it, inplace, to zero elements with \n",
       "t.resize_(0). (Triggered internally at \n",
       "/opt/conda/conda-bld/pytorch_1695392035891/work/aten/src/ATen/native/Resize.cpp:28.)\n",
       "  Variable._execution_engine.run_backward(  # Calls into the C++ engine to run the backward pass\n",
       "</pre>\n"
      ],
      "text/plain": [
       "/home/zekai/miniconda3/envs/eq/lib/python3.11/site-packages/torch/autograd/__init__.py:251: UserWarning: An output \n",
       "with one or more elements was resized since it had shape [1, 94, 1], which does not match the required output shape\n",
       "[1, 94, 32]. This behavior is deprecated, and in a future PyTorch release outputs will not be resized unless they \n",
       "have zero elements. You can explicitly reuse an out tensor t by resizing it, inplace, to zero elements with \n",
       "t.resize_(0). (Triggered internally at \n",
       "/opt/conda/conda-bld/pytorch_1695392035891/work/aten/src/ATen/native/Resize.cpp:28.)\n",
       "  Variable._execution_engine.run_backward(  # Calls into the C++ engine to run the backward pass\n"
      ]
     },
     "metadata": {},
     "output_type": "display_data"
    },
    {
     "data": {
      "text/html": [
       "<pre style=\"white-space:pre;overflow-x:auto;line-height:normal;font-family:Menlo,'DejaVu Sans Mono',consolas,'Courier New',monospace\">/home/zekai/miniconda3/envs/eq/lib/python3.11/site-packages/torch/autograd/__init__.py:251: UserWarning: An output \n",
       "with one or more elements was resized since it had shape [1, 213, 1], which does not match the required output \n",
       "shape [1, 213, 32]. This behavior is deprecated, and in a future PyTorch release outputs will not be resized unless\n",
       "they have zero elements. You can explicitly reuse an out tensor t by resizing it, inplace, to zero elements with \n",
       "t.resize_(0). (Triggered internally at \n",
       "/opt/conda/conda-bld/pytorch_1695392035891/work/aten/src/ATen/native/Resize.cpp:28.)\n",
       "  Variable._execution_engine.run_backward(  # Calls into the C++ engine to run the backward pass\n",
       "</pre>\n"
      ],
      "text/plain": [
       "/home/zekai/miniconda3/envs/eq/lib/python3.11/site-packages/torch/autograd/__init__.py:251: UserWarning: An output \n",
       "with one or more elements was resized since it had shape [1, 213, 1], which does not match the required output \n",
       "shape [1, 213, 32]. This behavior is deprecated, and in a future PyTorch release outputs will not be resized unless\n",
       "they have zero elements. You can explicitly reuse an out tensor t by resizing it, inplace, to zero elements with \n",
       "t.resize_(0). (Triggered internally at \n",
       "/opt/conda/conda-bld/pytorch_1695392035891/work/aten/src/ATen/native/Resize.cpp:28.)\n",
       "  Variable._execution_engine.run_backward(  # Calls into the C++ engine to run the backward pass\n"
      ]
     },
     "metadata": {},
     "output_type": "display_data"
    },
    {
     "data": {
      "text/html": [
       "<pre style=\"white-space:pre;overflow-x:auto;line-height:normal;font-family:Menlo,'DejaVu Sans Mono',consolas,'Courier New',monospace\">/home/zekai/miniconda3/envs/eq/lib/python3.11/site-packages/torch/autograd/__init__.py:251: UserWarning: An output \n",
       "with one or more elements was resized since it had shape [1, 14, 1], which does not match the required output shape\n",
       "[1, 14, 32]. This behavior is deprecated, and in a future PyTorch release outputs will not be resized unless they \n",
       "have zero elements. You can explicitly reuse an out tensor t by resizing it, inplace, to zero elements with \n",
       "t.resize_(0). (Triggered internally at \n",
       "/opt/conda/conda-bld/pytorch_1695392035891/work/aten/src/ATen/native/Resize.cpp:28.)\n",
       "  Variable._execution_engine.run_backward(  # Calls into the C++ engine to run the backward pass\n",
       "</pre>\n"
      ],
      "text/plain": [
       "/home/zekai/miniconda3/envs/eq/lib/python3.11/site-packages/torch/autograd/__init__.py:251: UserWarning: An output \n",
       "with one or more elements was resized since it had shape [1, 14, 1], which does not match the required output shape\n",
       "[1, 14, 32]. This behavior is deprecated, and in a future PyTorch release outputs will not be resized unless they \n",
       "have zero elements. You can explicitly reuse an out tensor t by resizing it, inplace, to zero elements with \n",
       "t.resize_(0). (Triggered internally at \n",
       "/opt/conda/conda-bld/pytorch_1695392035891/work/aten/src/ATen/native/Resize.cpp:28.)\n",
       "  Variable._execution_engine.run_backward(  # Calls into the C++ engine to run the backward pass\n"
      ]
     },
     "metadata": {},
     "output_type": "display_data"
    },
    {
     "data": {
      "text/html": [
       "<pre style=\"white-space:pre;overflow-x:auto;line-height:normal;font-family:Menlo,'DejaVu Sans Mono',consolas,'Courier New',monospace\">/home/zekai/miniconda3/envs/eq/lib/python3.11/site-packages/torch/autograd/__init__.py:251: UserWarning: An output \n",
       "with one or more elements was resized since it had shape [1, 436, 1], which does not match the required output \n",
       "shape [1, 436, 32]. This behavior is deprecated, and in a future PyTorch release outputs will not be resized unless\n",
       "they have zero elements. You can explicitly reuse an out tensor t by resizing it, inplace, to zero elements with \n",
       "t.resize_(0). (Triggered internally at \n",
       "/opt/conda/conda-bld/pytorch_1695392035891/work/aten/src/ATen/native/Resize.cpp:28.)\n",
       "  Variable._execution_engine.run_backward(  # Calls into the C++ engine to run the backward pass\n",
       "</pre>\n"
      ],
      "text/plain": [
       "/home/zekai/miniconda3/envs/eq/lib/python3.11/site-packages/torch/autograd/__init__.py:251: UserWarning: An output \n",
       "with one or more elements was resized since it had shape [1, 436, 1], which does not match the required output \n",
       "shape [1, 436, 32]. This behavior is deprecated, and in a future PyTorch release outputs will not be resized unless\n",
       "they have zero elements. You can explicitly reuse an out tensor t by resizing it, inplace, to zero elements with \n",
       "t.resize_(0). (Triggered internally at \n",
       "/opt/conda/conda-bld/pytorch_1695392035891/work/aten/src/ATen/native/Resize.cpp:28.)\n",
       "  Variable._execution_engine.run_backward(  # Calls into the C++ engine to run the backward pass\n"
      ]
     },
     "metadata": {},
     "output_type": "display_data"
    },
    {
     "data": {
      "text/html": [
       "<pre style=\"white-space:pre;overflow-x:auto;line-height:normal;font-family:Menlo,'DejaVu Sans Mono',consolas,'Courier New',monospace\">/home/zekai/miniconda3/envs/eq/lib/python3.11/site-packages/torch/autograd/__init__.py:251: UserWarning: An output \n",
       "with one or more elements was resized since it had shape [1, 593, 1], which does not match the required output \n",
       "shape [1, 593, 32]. This behavior is deprecated, and in a future PyTorch release outputs will not be resized unless\n",
       "they have zero elements. You can explicitly reuse an out tensor t by resizing it, inplace, to zero elements with \n",
       "t.resize_(0). (Triggered internally at \n",
       "/opt/conda/conda-bld/pytorch_1695392035891/work/aten/src/ATen/native/Resize.cpp:28.)\n",
       "  Variable._execution_engine.run_backward(  # Calls into the C++ engine to run the backward pass\n",
       "</pre>\n"
      ],
      "text/plain": [
       "/home/zekai/miniconda3/envs/eq/lib/python3.11/site-packages/torch/autograd/__init__.py:251: UserWarning: An output \n",
       "with one or more elements was resized since it had shape [1, 593, 1], which does not match the required output \n",
       "shape [1, 593, 32]. This behavior is deprecated, and in a future PyTorch release outputs will not be resized unless\n",
       "they have zero elements. You can explicitly reuse an out tensor t by resizing it, inplace, to zero elements with \n",
       "t.resize_(0). (Triggered internally at \n",
       "/opt/conda/conda-bld/pytorch_1695392035891/work/aten/src/ATen/native/Resize.cpp:28.)\n",
       "  Variable._execution_engine.run_backward(  # Calls into the C++ engine to run the backward pass\n"
      ]
     },
     "metadata": {},
     "output_type": "display_data"
    },
    {
     "data": {
      "text/html": [
       "<pre style=\"white-space:pre;overflow-x:auto;line-height:normal;font-family:Menlo,'DejaVu Sans Mono',consolas,'Courier New',monospace\">/home/zekai/miniconda3/envs/eq/lib/python3.11/site-packages/torch/autograd/__init__.py:251: UserWarning: An output \n",
       "with one or more elements was resized since it had shape [1, 822, 1], which does not match the required output \n",
       "shape [1, 822, 32]. This behavior is deprecated, and in a future PyTorch release outputs will not be resized unless\n",
       "they have zero elements. You can explicitly reuse an out tensor t by resizing it, inplace, to zero elements with \n",
       "t.resize_(0). (Triggered internally at \n",
       "/opt/conda/conda-bld/pytorch_1695392035891/work/aten/src/ATen/native/Resize.cpp:28.)\n",
       "  Variable._execution_engine.run_backward(  # Calls into the C++ engine to run the backward pass\n",
       "</pre>\n"
      ],
      "text/plain": [
       "/home/zekai/miniconda3/envs/eq/lib/python3.11/site-packages/torch/autograd/__init__.py:251: UserWarning: An output \n",
       "with one or more elements was resized since it had shape [1, 822, 1], which does not match the required output \n",
       "shape [1, 822, 32]. This behavior is deprecated, and in a future PyTorch release outputs will not be resized unless\n",
       "they have zero elements. You can explicitly reuse an out tensor t by resizing it, inplace, to zero elements with \n",
       "t.resize_(0). (Triggered internally at \n",
       "/opt/conda/conda-bld/pytorch_1695392035891/work/aten/src/ATen/native/Resize.cpp:28.)\n",
       "  Variable._execution_engine.run_backward(  # Calls into the C++ engine to run the backward pass\n"
      ]
     },
     "metadata": {},
     "output_type": "display_data"
    },
    {
     "data": {
      "text/html": [
       "<pre style=\"white-space:pre;overflow-x:auto;line-height:normal;font-family:Menlo,'DejaVu Sans Mono',consolas,'Courier New',monospace\">/home/zekai/miniconda3/envs/eq/lib/python3.11/site-packages/torch/autograd/__init__.py:251: UserWarning: An output \n",
       "with one or more elements was resized since it had shape [1, 522, 1], which does not match the required output \n",
       "shape [1, 522, 32]. This behavior is deprecated, and in a future PyTorch release outputs will not be resized unless\n",
       "they have zero elements. You can explicitly reuse an out tensor t by resizing it, inplace, to zero elements with \n",
       "t.resize_(0). (Triggered internally at \n",
       "/opt/conda/conda-bld/pytorch_1695392035891/work/aten/src/ATen/native/Resize.cpp:28.)\n",
       "  Variable._execution_engine.run_backward(  # Calls into the C++ engine to run the backward pass\n",
       "</pre>\n"
      ],
      "text/plain": [
       "/home/zekai/miniconda3/envs/eq/lib/python3.11/site-packages/torch/autograd/__init__.py:251: UserWarning: An output \n",
       "with one or more elements was resized since it had shape [1, 522, 1], which does not match the required output \n",
       "shape [1, 522, 32]. This behavior is deprecated, and in a future PyTorch release outputs will not be resized unless\n",
       "they have zero elements. You can explicitly reuse an out tensor t by resizing it, inplace, to zero elements with \n",
       "t.resize_(0). (Triggered internally at \n",
       "/opt/conda/conda-bld/pytorch_1695392035891/work/aten/src/ATen/native/Resize.cpp:28.)\n",
       "  Variable._execution_engine.run_backward(  # Calls into the C++ engine to run the backward pass\n"
      ]
     },
     "metadata": {},
     "output_type": "display_data"
    },
    {
     "data": {
      "text/html": [
       "<pre style=\"white-space:pre;overflow-x:auto;line-height:normal;font-family:Menlo,'DejaVu Sans Mono',consolas,'Courier New',monospace\">/home/zekai/miniconda3/envs/eq/lib/python3.11/site-packages/torch/autograd/__init__.py:251: UserWarning: An output \n",
       "with one or more elements was resized since it had shape [1, 378, 1], which does not match the required output \n",
       "shape [1, 378, 32]. This behavior is deprecated, and in a future PyTorch release outputs will not be resized unless\n",
       "they have zero elements. You can explicitly reuse an out tensor t by resizing it, inplace, to zero elements with \n",
       "t.resize_(0). (Triggered internally at \n",
       "/opt/conda/conda-bld/pytorch_1695392035891/work/aten/src/ATen/native/Resize.cpp:28.)\n",
       "  Variable._execution_engine.run_backward(  # Calls into the C++ engine to run the backward pass\n",
       "</pre>\n"
      ],
      "text/plain": [
       "/home/zekai/miniconda3/envs/eq/lib/python3.11/site-packages/torch/autograd/__init__.py:251: UserWarning: An output \n",
       "with one or more elements was resized since it had shape [1, 378, 1], which does not match the required output \n",
       "shape [1, 378, 32]. This behavior is deprecated, and in a future PyTorch release outputs will not be resized unless\n",
       "they have zero elements. You can explicitly reuse an out tensor t by resizing it, inplace, to zero elements with \n",
       "t.resize_(0). (Triggered internally at \n",
       "/opt/conda/conda-bld/pytorch_1695392035891/work/aten/src/ATen/native/Resize.cpp:28.)\n",
       "  Variable._execution_engine.run_backward(  # Calls into the C++ engine to run the backward pass\n"
      ]
     },
     "metadata": {},
     "output_type": "display_data"
    },
    {
     "data": {
      "text/html": [
       "<pre style=\"white-space:pre;overflow-x:auto;line-height:normal;font-family:Menlo,'DejaVu Sans Mono',consolas,'Courier New',monospace\">/home/zekai/miniconda3/envs/eq/lib/python3.11/site-packages/torch/autograd/__init__.py:251: UserWarning: An output \n",
       "with one or more elements was resized since it had shape [1, 390, 1], which does not match the required output \n",
       "shape [1, 390, 32]. This behavior is deprecated, and in a future PyTorch release outputs will not be resized unless\n",
       "they have zero elements. You can explicitly reuse an out tensor t by resizing it, inplace, to zero elements with \n",
       "t.resize_(0). (Triggered internally at \n",
       "/opt/conda/conda-bld/pytorch_1695392035891/work/aten/src/ATen/native/Resize.cpp:28.)\n",
       "  Variable._execution_engine.run_backward(  # Calls into the C++ engine to run the backward pass\n",
       "</pre>\n"
      ],
      "text/plain": [
       "/home/zekai/miniconda3/envs/eq/lib/python3.11/site-packages/torch/autograd/__init__.py:251: UserWarning: An output \n",
       "with one or more elements was resized since it had shape [1, 390, 1], which does not match the required output \n",
       "shape [1, 390, 32]. This behavior is deprecated, and in a future PyTorch release outputs will not be resized unless\n",
       "they have zero elements. You can explicitly reuse an out tensor t by resizing it, inplace, to zero elements with \n",
       "t.resize_(0). (Triggered internally at \n",
       "/opt/conda/conda-bld/pytorch_1695392035891/work/aten/src/ATen/native/Resize.cpp:28.)\n",
       "  Variable._execution_engine.run_backward(  # Calls into the C++ engine to run the backward pass\n"
      ]
     },
     "metadata": {},
     "output_type": "display_data"
    },
    {
     "data": {
      "text/html": [
       "<pre style=\"white-space:pre;overflow-x:auto;line-height:normal;font-family:Menlo,'DejaVu Sans Mono',consolas,'Courier New',monospace\">/home/zekai/miniconda3/envs/eq/lib/python3.11/site-packages/torch/autograd/__init__.py:251: UserWarning: An output \n",
       "with one or more elements was resized since it had shape [1, 306, 1], which does not match the required output \n",
       "shape [1, 306, 32]. This behavior is deprecated, and in a future PyTorch release outputs will not be resized unless\n",
       "they have zero elements. You can explicitly reuse an out tensor t by resizing it, inplace, to zero elements with \n",
       "t.resize_(0). (Triggered internally at \n",
       "/opt/conda/conda-bld/pytorch_1695392035891/work/aten/src/ATen/native/Resize.cpp:28.)\n",
       "  Variable._execution_engine.run_backward(  # Calls into the C++ engine to run the backward pass\n",
       "</pre>\n"
      ],
      "text/plain": [
       "/home/zekai/miniconda3/envs/eq/lib/python3.11/site-packages/torch/autograd/__init__.py:251: UserWarning: An output \n",
       "with one or more elements was resized since it had shape [1, 306, 1], which does not match the required output \n",
       "shape [1, 306, 32]. This behavior is deprecated, and in a future PyTorch release outputs will not be resized unless\n",
       "they have zero elements. You can explicitly reuse an out tensor t by resizing it, inplace, to zero elements with \n",
       "t.resize_(0). (Triggered internally at \n",
       "/opt/conda/conda-bld/pytorch_1695392035891/work/aten/src/ATen/native/Resize.cpp:28.)\n",
       "  Variable._execution_engine.run_backward(  # Calls into the C++ engine to run the backward pass\n"
      ]
     },
     "metadata": {},
     "output_type": "display_data"
    },
    {
     "data": {
      "text/html": [
       "<pre style=\"white-space:pre;overflow-x:auto;line-height:normal;font-family:Menlo,'DejaVu Sans Mono',consolas,'Courier New',monospace\">/home/zekai/miniconda3/envs/eq/lib/python3.11/site-packages/torch/autograd/__init__.py:251: UserWarning: An output \n",
       "with one or more elements was resized since it had shape [1, 479, 1], which does not match the required output \n",
       "shape [1, 479, 32]. This behavior is deprecated, and in a future PyTorch release outputs will not be resized unless\n",
       "they have zero elements. You can explicitly reuse an out tensor t by resizing it, inplace, to zero elements with \n",
       "t.resize_(0). (Triggered internally at \n",
       "/opt/conda/conda-bld/pytorch_1695392035891/work/aten/src/ATen/native/Resize.cpp:28.)\n",
       "  Variable._execution_engine.run_backward(  # Calls into the C++ engine to run the backward pass\n",
       "</pre>\n"
      ],
      "text/plain": [
       "/home/zekai/miniconda3/envs/eq/lib/python3.11/site-packages/torch/autograd/__init__.py:251: UserWarning: An output \n",
       "with one or more elements was resized since it had shape [1, 479, 1], which does not match the required output \n",
       "shape [1, 479, 32]. This behavior is deprecated, and in a future PyTorch release outputs will not be resized unless\n",
       "they have zero elements. You can explicitly reuse an out tensor t by resizing it, inplace, to zero elements with \n",
       "t.resize_(0). (Triggered internally at \n",
       "/opt/conda/conda-bld/pytorch_1695392035891/work/aten/src/ATen/native/Resize.cpp:28.)\n",
       "  Variable._execution_engine.run_backward(  # Calls into the C++ engine to run the backward pass\n"
      ]
     },
     "metadata": {},
     "output_type": "display_data"
    },
    {
     "data": {
      "text/html": [
       "<pre style=\"white-space:pre;overflow-x:auto;line-height:normal;font-family:Menlo,'DejaVu Sans Mono',consolas,'Courier New',monospace\">/home/zekai/miniconda3/envs/eq/lib/python3.11/site-packages/torch/autograd/__init__.py:251: UserWarning: An output \n",
       "with one or more elements was resized since it had shape [1, 252, 1], which does not match the required output \n",
       "shape [1, 252, 32]. This behavior is deprecated, and in a future PyTorch release outputs will not be resized unless\n",
       "they have zero elements. You can explicitly reuse an out tensor t by resizing it, inplace, to zero elements with \n",
       "t.resize_(0). (Triggered internally at \n",
       "/opt/conda/conda-bld/pytorch_1695392035891/work/aten/src/ATen/native/Resize.cpp:28.)\n",
       "  Variable._execution_engine.run_backward(  # Calls into the C++ engine to run the backward pass\n",
       "</pre>\n"
      ],
      "text/plain": [
       "/home/zekai/miniconda3/envs/eq/lib/python3.11/site-packages/torch/autograd/__init__.py:251: UserWarning: An output \n",
       "with one or more elements was resized since it had shape [1, 252, 1], which does not match the required output \n",
       "shape [1, 252, 32]. This behavior is deprecated, and in a future PyTorch release outputs will not be resized unless\n",
       "they have zero elements. You can explicitly reuse an out tensor t by resizing it, inplace, to zero elements with \n",
       "t.resize_(0). (Triggered internally at \n",
       "/opt/conda/conda-bld/pytorch_1695392035891/work/aten/src/ATen/native/Resize.cpp:28.)\n",
       "  Variable._execution_engine.run_backward(  # Calls into the C++ engine to run the backward pass\n"
      ]
     },
     "metadata": {},
     "output_type": "display_data"
    },
    {
     "data": {
      "text/html": [
       "<pre style=\"white-space:pre;overflow-x:auto;line-height:normal;font-family:Menlo,'DejaVu Sans Mono',consolas,'Courier New',monospace\">/home/zekai/miniconda3/envs/eq/lib/python3.11/site-packages/torch/autograd/__init__.py:251: UserWarning: An output \n",
       "with one or more elements was resized since it had shape [1, 362, 1], which does not match the required output \n",
       "shape [1, 362, 32]. This behavior is deprecated, and in a future PyTorch release outputs will not be resized unless\n",
       "they have zero elements. You can explicitly reuse an out tensor t by resizing it, inplace, to zero elements with \n",
       "t.resize_(0). (Triggered internally at \n",
       "/opt/conda/conda-bld/pytorch_1695392035891/work/aten/src/ATen/native/Resize.cpp:28.)\n",
       "  Variable._execution_engine.run_backward(  # Calls into the C++ engine to run the backward pass\n",
       "</pre>\n"
      ],
      "text/plain": [
       "/home/zekai/miniconda3/envs/eq/lib/python3.11/site-packages/torch/autograd/__init__.py:251: UserWarning: An output \n",
       "with one or more elements was resized since it had shape [1, 362, 1], which does not match the required output \n",
       "shape [1, 362, 32]. This behavior is deprecated, and in a future PyTorch release outputs will not be resized unless\n",
       "they have zero elements. You can explicitly reuse an out tensor t by resizing it, inplace, to zero elements with \n",
       "t.resize_(0). (Triggered internally at \n",
       "/opt/conda/conda-bld/pytorch_1695392035891/work/aten/src/ATen/native/Resize.cpp:28.)\n",
       "  Variable._execution_engine.run_backward(  # Calls into the C++ engine to run the backward pass\n"
      ]
     },
     "metadata": {},
     "output_type": "display_data"
    },
    {
     "data": {
      "text/html": [
       "<pre style=\"white-space:pre;overflow-x:auto;line-height:normal;font-family:Menlo,'DejaVu Sans Mono',consolas,'Courier New',monospace\">/home/zekai/miniconda3/envs/eq/lib/python3.11/site-packages/torch/autograd/__init__.py:251: UserWarning: An output \n",
       "with one or more elements was resized since it had shape [1, 194, 1], which does not match the required output \n",
       "shape [1, 194, 32]. This behavior is deprecated, and in a future PyTorch release outputs will not be resized unless\n",
       "they have zero elements. You can explicitly reuse an out tensor t by resizing it, inplace, to zero elements with \n",
       "t.resize_(0). (Triggered internally at \n",
       "/opt/conda/conda-bld/pytorch_1695392035891/work/aten/src/ATen/native/Resize.cpp:28.)\n",
       "  Variable._execution_engine.run_backward(  # Calls into the C++ engine to run the backward pass\n",
       "</pre>\n"
      ],
      "text/plain": [
       "/home/zekai/miniconda3/envs/eq/lib/python3.11/site-packages/torch/autograd/__init__.py:251: UserWarning: An output \n",
       "with one or more elements was resized since it had shape [1, 194, 1], which does not match the required output \n",
       "shape [1, 194, 32]. This behavior is deprecated, and in a future PyTorch release outputs will not be resized unless\n",
       "they have zero elements. You can explicitly reuse an out tensor t by resizing it, inplace, to zero elements with \n",
       "t.resize_(0). (Triggered internally at \n",
       "/opt/conda/conda-bld/pytorch_1695392035891/work/aten/src/ATen/native/Resize.cpp:28.)\n",
       "  Variable._execution_engine.run_backward(  # Calls into the C++ engine to run the backward pass\n"
      ]
     },
     "metadata": {},
     "output_type": "display_data"
    },
    {
     "data": {
      "text/html": [
       "<pre style=\"white-space:pre;overflow-x:auto;line-height:normal;font-family:Menlo,'DejaVu Sans Mono',consolas,'Courier New',monospace\">/home/zekai/miniconda3/envs/eq/lib/python3.11/site-packages/torch/autograd/__init__.py:251: UserWarning: An output \n",
       "with one or more elements was resized since it had shape [1, 2872, 1], which does not match the required output \n",
       "shape [1, 2872, 32]. This behavior is deprecated, and in a future PyTorch release outputs will not be resized \n",
       "unless they have zero elements. You can explicitly reuse an out tensor t by resizing it, inplace, to zero elements \n",
       "with t.resize_(0). (Triggered internally at \n",
       "/opt/conda/conda-bld/pytorch_1695392035891/work/aten/src/ATen/native/Resize.cpp:28.)\n",
       "  Variable._execution_engine.run_backward(  # Calls into the C++ engine to run the backward pass\n",
       "</pre>\n"
      ],
      "text/plain": [
       "/home/zekai/miniconda3/envs/eq/lib/python3.11/site-packages/torch/autograd/__init__.py:251: UserWarning: An output \n",
       "with one or more elements was resized since it had shape [1, 2872, 1], which does not match the required output \n",
       "shape [1, 2872, 32]. This behavior is deprecated, and in a future PyTorch release outputs will not be resized \n",
       "unless they have zero elements. You can explicitly reuse an out tensor t by resizing it, inplace, to zero elements \n",
       "with t.resize_(0). (Triggered internally at \n",
       "/opt/conda/conda-bld/pytorch_1695392035891/work/aten/src/ATen/native/Resize.cpp:28.)\n",
       "  Variable._execution_engine.run_backward(  # Calls into the C++ engine to run the backward pass\n"
      ]
     },
     "metadata": {},
     "output_type": "display_data"
    },
    {
     "data": {
      "text/html": [
       "<pre style=\"white-space:pre;overflow-x:auto;line-height:normal;font-family:Menlo,'DejaVu Sans Mono',consolas,'Courier New',monospace\">/home/zekai/miniconda3/envs/eq/lib/python3.11/site-packages/torch/autograd/__init__.py:251: UserWarning: An output \n",
       "with one or more elements was resized since it had shape [1, 305, 1], which does not match the required output \n",
       "shape [1, 305, 32]. This behavior is deprecated, and in a future PyTorch release outputs will not be resized unless\n",
       "they have zero elements. You can explicitly reuse an out tensor t by resizing it, inplace, to zero elements with \n",
       "t.resize_(0). (Triggered internally at \n",
       "/opt/conda/conda-bld/pytorch_1695392035891/work/aten/src/ATen/native/Resize.cpp:28.)\n",
       "  Variable._execution_engine.run_backward(  # Calls into the C++ engine to run the backward pass\n",
       "</pre>\n"
      ],
      "text/plain": [
       "/home/zekai/miniconda3/envs/eq/lib/python3.11/site-packages/torch/autograd/__init__.py:251: UserWarning: An output \n",
       "with one or more elements was resized since it had shape [1, 305, 1], which does not match the required output \n",
       "shape [1, 305, 32]. This behavior is deprecated, and in a future PyTorch release outputs will not be resized unless\n",
       "they have zero elements. You can explicitly reuse an out tensor t by resizing it, inplace, to zero elements with \n",
       "t.resize_(0). (Triggered internally at \n",
       "/opt/conda/conda-bld/pytorch_1695392035891/work/aten/src/ATen/native/Resize.cpp:28.)\n",
       "  Variable._execution_engine.run_backward(  # Calls into the C++ engine to run the backward pass\n"
      ]
     },
     "metadata": {},
     "output_type": "display_data"
    },
    {
     "data": {
      "text/html": [
       "<pre style=\"white-space:pre;overflow-x:auto;line-height:normal;font-family:Menlo,'DejaVu Sans Mono',consolas,'Courier New',monospace\">/home/zekai/miniconda3/envs/eq/lib/python3.11/site-packages/torch/autograd/__init__.py:251: UserWarning: An output \n",
       "with one or more elements was resized since it had shape [1, 290, 1], which does not match the required output \n",
       "shape [1, 290, 32]. This behavior is deprecated, and in a future PyTorch release outputs will not be resized unless\n",
       "they have zero elements. You can explicitly reuse an out tensor t by resizing it, inplace, to zero elements with \n",
       "t.resize_(0). (Triggered internally at \n",
       "/opt/conda/conda-bld/pytorch_1695392035891/work/aten/src/ATen/native/Resize.cpp:28.)\n",
       "  Variable._execution_engine.run_backward(  # Calls into the C++ engine to run the backward pass\n",
       "</pre>\n"
      ],
      "text/plain": [
       "/home/zekai/miniconda3/envs/eq/lib/python3.11/site-packages/torch/autograd/__init__.py:251: UserWarning: An output \n",
       "with one or more elements was resized since it had shape [1, 290, 1], which does not match the required output \n",
       "shape [1, 290, 32]. This behavior is deprecated, and in a future PyTorch release outputs will not be resized unless\n",
       "they have zero elements. You can explicitly reuse an out tensor t by resizing it, inplace, to zero elements with \n",
       "t.resize_(0). (Triggered internally at \n",
       "/opt/conda/conda-bld/pytorch_1695392035891/work/aten/src/ATen/native/Resize.cpp:28.)\n",
       "  Variable._execution_engine.run_backward(  # Calls into the C++ engine to run the backward pass\n"
      ]
     },
     "metadata": {},
     "output_type": "display_data"
    },
    {
     "data": {
      "text/html": [
       "<pre style=\"white-space:pre;overflow-x:auto;line-height:normal;font-family:Menlo,'DejaVu Sans Mono',consolas,'Courier New',monospace\">/home/zekai/miniconda3/envs/eq/lib/python3.11/site-packages/torch/autograd/__init__.py:251: UserWarning: An output \n",
       "with one or more elements was resized since it had shape [1, 236, 1], which does not match the required output \n",
       "shape [1, 236, 32]. This behavior is deprecated, and in a future PyTorch release outputs will not be resized unless\n",
       "they have zero elements. You can explicitly reuse an out tensor t by resizing it, inplace, to zero elements with \n",
       "t.resize_(0). (Triggered internally at \n",
       "/opt/conda/conda-bld/pytorch_1695392035891/work/aten/src/ATen/native/Resize.cpp:28.)\n",
       "  Variable._execution_engine.run_backward(  # Calls into the C++ engine to run the backward pass\n",
       "</pre>\n"
      ],
      "text/plain": [
       "/home/zekai/miniconda3/envs/eq/lib/python3.11/site-packages/torch/autograd/__init__.py:251: UserWarning: An output \n",
       "with one or more elements was resized since it had shape [1, 236, 1], which does not match the required output \n",
       "shape [1, 236, 32]. This behavior is deprecated, and in a future PyTorch release outputs will not be resized unless\n",
       "they have zero elements. You can explicitly reuse an out tensor t by resizing it, inplace, to zero elements with \n",
       "t.resize_(0). (Triggered internally at \n",
       "/opt/conda/conda-bld/pytorch_1695392035891/work/aten/src/ATen/native/Resize.cpp:28.)\n",
       "  Variable._execution_engine.run_backward(  # Calls into the C++ engine to run the backward pass\n"
      ]
     },
     "metadata": {},
     "output_type": "display_data"
    },
    {
     "data": {
      "text/html": [
       "<pre style=\"white-space:pre;overflow-x:auto;line-height:normal;font-family:Menlo,'DejaVu Sans Mono',consolas,'Courier New',monospace\">/home/zekai/miniconda3/envs/eq/lib/python3.11/site-packages/torch/autograd/__init__.py:251: UserWarning: An output \n",
       "with one or more elements was resized since it had shape [1, 422, 1], which does not match the required output \n",
       "shape [1, 422, 32]. This behavior is deprecated, and in a future PyTorch release outputs will not be resized unless\n",
       "they have zero elements. You can explicitly reuse an out tensor t by resizing it, inplace, to zero elements with \n",
       "t.resize_(0). (Triggered internally at \n",
       "/opt/conda/conda-bld/pytorch_1695392035891/work/aten/src/ATen/native/Resize.cpp:28.)\n",
       "  Variable._execution_engine.run_backward(  # Calls into the C++ engine to run the backward pass\n",
       "</pre>\n"
      ],
      "text/plain": [
       "/home/zekai/miniconda3/envs/eq/lib/python3.11/site-packages/torch/autograd/__init__.py:251: UserWarning: An output \n",
       "with one or more elements was resized since it had shape [1, 422, 1], which does not match the required output \n",
       "shape [1, 422, 32]. This behavior is deprecated, and in a future PyTorch release outputs will not be resized unless\n",
       "they have zero elements. You can explicitly reuse an out tensor t by resizing it, inplace, to zero elements with \n",
       "t.resize_(0). (Triggered internally at \n",
       "/opt/conda/conda-bld/pytorch_1695392035891/work/aten/src/ATen/native/Resize.cpp:28.)\n",
       "  Variable._execution_engine.run_backward(  # Calls into the C++ engine to run the backward pass\n"
      ]
     },
     "metadata": {},
     "output_type": "display_data"
    },
    {
     "data": {
      "text/html": [
       "<pre style=\"white-space:pre;overflow-x:auto;line-height:normal;font-family:Menlo,'DejaVu Sans Mono',consolas,'Courier New',monospace\">/home/zekai/miniconda3/envs/eq/lib/python3.11/site-packages/torch/autograd/__init__.py:251: UserWarning: An output \n",
       "with one or more elements was resized since it had shape [1, 582, 1], which does not match the required output \n",
       "shape [1, 582, 32]. This behavior is deprecated, and in a future PyTorch release outputs will not be resized unless\n",
       "they have zero elements. You can explicitly reuse an out tensor t by resizing it, inplace, to zero elements with \n",
       "t.resize_(0). (Triggered internally at \n",
       "/opt/conda/conda-bld/pytorch_1695392035891/work/aten/src/ATen/native/Resize.cpp:28.)\n",
       "  Variable._execution_engine.run_backward(  # Calls into the C++ engine to run the backward pass\n",
       "</pre>\n"
      ],
      "text/plain": [
       "/home/zekai/miniconda3/envs/eq/lib/python3.11/site-packages/torch/autograd/__init__.py:251: UserWarning: An output \n",
       "with one or more elements was resized since it had shape [1, 582, 1], which does not match the required output \n",
       "shape [1, 582, 32]. This behavior is deprecated, and in a future PyTorch release outputs will not be resized unless\n",
       "they have zero elements. You can explicitly reuse an out tensor t by resizing it, inplace, to zero elements with \n",
       "t.resize_(0). (Triggered internally at \n",
       "/opt/conda/conda-bld/pytorch_1695392035891/work/aten/src/ATen/native/Resize.cpp:28.)\n",
       "  Variable._execution_engine.run_backward(  # Calls into the C++ engine to run the backward pass\n"
      ]
     },
     "metadata": {},
     "output_type": "display_data"
    },
    {
     "data": {
      "text/html": [
       "<pre style=\"white-space:pre;overflow-x:auto;line-height:normal;font-family:Menlo,'DejaVu Sans Mono',consolas,'Courier New',monospace\">/home/zekai/miniconda3/envs/eq/lib/python3.11/site-packages/torch/autograd/__init__.py:251: UserWarning: An output \n",
       "with one or more elements was resized since it had shape [1, 243, 1], which does not match the required output \n",
       "shape [1, 243, 32]. This behavior is deprecated, and in a future PyTorch release outputs will not be resized unless\n",
       "they have zero elements. You can explicitly reuse an out tensor t by resizing it, inplace, to zero elements with \n",
       "t.resize_(0). (Triggered internally at \n",
       "/opt/conda/conda-bld/pytorch_1695392035891/work/aten/src/ATen/native/Resize.cpp:28.)\n",
       "  Variable._execution_engine.run_backward(  # Calls into the C++ engine to run the backward pass\n",
       "</pre>\n"
      ],
      "text/plain": [
       "/home/zekai/miniconda3/envs/eq/lib/python3.11/site-packages/torch/autograd/__init__.py:251: UserWarning: An output \n",
       "with one or more elements was resized since it had shape [1, 243, 1], which does not match the required output \n",
       "shape [1, 243, 32]. This behavior is deprecated, and in a future PyTorch release outputs will not be resized unless\n",
       "they have zero elements. You can explicitly reuse an out tensor t by resizing it, inplace, to zero elements with \n",
       "t.resize_(0). (Triggered internally at \n",
       "/opt/conda/conda-bld/pytorch_1695392035891/work/aten/src/ATen/native/Resize.cpp:28.)\n",
       "  Variable._execution_engine.run_backward(  # Calls into the C++ engine to run the backward pass\n"
      ]
     },
     "metadata": {},
     "output_type": "display_data"
    },
    {
     "data": {
      "text/html": [
       "<pre style=\"white-space:pre;overflow-x:auto;line-height:normal;font-family:Menlo,'DejaVu Sans Mono',consolas,'Courier New',monospace\">/home/zekai/miniconda3/envs/eq/lib/python3.11/site-packages/torch/autograd/__init__.py:251: UserWarning: An output \n",
       "with one or more elements was resized since it had shape [1, 513, 1], which does not match the required output \n",
       "shape [1, 513, 32]. This behavior is deprecated, and in a future PyTorch release outputs will not be resized unless\n",
       "they have zero elements. You can explicitly reuse an out tensor t by resizing it, inplace, to zero elements with \n",
       "t.resize_(0). (Triggered internally at \n",
       "/opt/conda/conda-bld/pytorch_1695392035891/work/aten/src/ATen/native/Resize.cpp:28.)\n",
       "  Variable._execution_engine.run_backward(  # Calls into the C++ engine to run the backward pass\n",
       "</pre>\n"
      ],
      "text/plain": [
       "/home/zekai/miniconda3/envs/eq/lib/python3.11/site-packages/torch/autograd/__init__.py:251: UserWarning: An output \n",
       "with one or more elements was resized since it had shape [1, 513, 1], which does not match the required output \n",
       "shape [1, 513, 32]. This behavior is deprecated, and in a future PyTorch release outputs will not be resized unless\n",
       "they have zero elements. You can explicitly reuse an out tensor t by resizing it, inplace, to zero elements with \n",
       "t.resize_(0). (Triggered internally at \n",
       "/opt/conda/conda-bld/pytorch_1695392035891/work/aten/src/ATen/native/Resize.cpp:28.)\n",
       "  Variable._execution_engine.run_backward(  # Calls into the C++ engine to run the backward pass\n"
      ]
     },
     "metadata": {},
     "output_type": "display_data"
    },
    {
     "data": {
      "text/html": [
       "<pre style=\"white-space:pre;overflow-x:auto;line-height:normal;font-family:Menlo,'DejaVu Sans Mono',consolas,'Courier New',monospace\">/home/zekai/miniconda3/envs/eq/lib/python3.11/site-packages/torch/autograd/__init__.py:251: UserWarning: An output \n",
       "with one or more elements was resized since it had shape [1, 27, 1], which does not match the required output shape\n",
       "[1, 27, 32]. This behavior is deprecated, and in a future PyTorch release outputs will not be resized unless they \n",
       "have zero elements. You can explicitly reuse an out tensor t by resizing it, inplace, to zero elements with \n",
       "t.resize_(0). (Triggered internally at \n",
       "/opt/conda/conda-bld/pytorch_1695392035891/work/aten/src/ATen/native/Resize.cpp:28.)\n",
       "  Variable._execution_engine.run_backward(  # Calls into the C++ engine to run the backward pass\n",
       "</pre>\n"
      ],
      "text/plain": [
       "/home/zekai/miniconda3/envs/eq/lib/python3.11/site-packages/torch/autograd/__init__.py:251: UserWarning: An output \n",
       "with one or more elements was resized since it had shape [1, 27, 1], which does not match the required output shape\n",
       "[1, 27, 32]. This behavior is deprecated, and in a future PyTorch release outputs will not be resized unless they \n",
       "have zero elements. You can explicitly reuse an out tensor t by resizing it, inplace, to zero elements with \n",
       "t.resize_(0). (Triggered internally at \n",
       "/opt/conda/conda-bld/pytorch_1695392035891/work/aten/src/ATen/native/Resize.cpp:28.)\n",
       "  Variable._execution_engine.run_backward(  # Calls into the C++ engine to run the backward pass\n"
      ]
     },
     "metadata": {},
     "output_type": "display_data"
    },
    {
     "data": {
      "text/html": [
       "<pre style=\"white-space:pre;overflow-x:auto;line-height:normal;font-family:Menlo,'DejaVu Sans Mono',consolas,'Courier New',monospace\">/home/zekai/miniconda3/envs/eq/lib/python3.11/site-packages/torch/autograd/__init__.py:251: UserWarning: An output \n",
       "with one or more elements was resized since it had shape [1, 381, 1], which does not match the required output \n",
       "shape [1, 381, 32]. This behavior is deprecated, and in a future PyTorch release outputs will not be resized unless\n",
       "they have zero elements. You can explicitly reuse an out tensor t by resizing it, inplace, to zero elements with \n",
       "t.resize_(0). (Triggered internally at \n",
       "/opt/conda/conda-bld/pytorch_1695392035891/work/aten/src/ATen/native/Resize.cpp:28.)\n",
       "  Variable._execution_engine.run_backward(  # Calls into the C++ engine to run the backward pass\n",
       "</pre>\n"
      ],
      "text/plain": [
       "/home/zekai/miniconda3/envs/eq/lib/python3.11/site-packages/torch/autograd/__init__.py:251: UserWarning: An output \n",
       "with one or more elements was resized since it had shape [1, 381, 1], which does not match the required output \n",
       "shape [1, 381, 32]. This behavior is deprecated, and in a future PyTorch release outputs will not be resized unless\n",
       "they have zero elements. You can explicitly reuse an out tensor t by resizing it, inplace, to zero elements with \n",
       "t.resize_(0). (Triggered internally at \n",
       "/opt/conda/conda-bld/pytorch_1695392035891/work/aten/src/ATen/native/Resize.cpp:28.)\n",
       "  Variable._execution_engine.run_backward(  # Calls into the C++ engine to run the backward pass\n"
      ]
     },
     "metadata": {},
     "output_type": "display_data"
    },
    {
     "data": {
      "text/html": [
       "<pre style=\"white-space:pre;overflow-x:auto;line-height:normal;font-family:Menlo,'DejaVu Sans Mono',consolas,'Courier New',monospace\">/home/zekai/miniconda3/envs/eq/lib/python3.11/site-packages/torch/autograd/__init__.py:251: UserWarning: An output \n",
       "with one or more elements was resized since it had shape [1, 104, 1], which does not match the required output \n",
       "shape [1, 104, 32]. This behavior is deprecated, and in a future PyTorch release outputs will not be resized unless\n",
       "they have zero elements. You can explicitly reuse an out tensor t by resizing it, inplace, to zero elements with \n",
       "t.resize_(0). (Triggered internally at \n",
       "/opt/conda/conda-bld/pytorch_1695392035891/work/aten/src/ATen/native/Resize.cpp:28.)\n",
       "  Variable._execution_engine.run_backward(  # Calls into the C++ engine to run the backward pass\n",
       "</pre>\n"
      ],
      "text/plain": [
       "/home/zekai/miniconda3/envs/eq/lib/python3.11/site-packages/torch/autograd/__init__.py:251: UserWarning: An output \n",
       "with one or more elements was resized since it had shape [1, 104, 1], which does not match the required output \n",
       "shape [1, 104, 32]. This behavior is deprecated, and in a future PyTorch release outputs will not be resized unless\n",
       "they have zero elements. You can explicitly reuse an out tensor t by resizing it, inplace, to zero elements with \n",
       "t.resize_(0). (Triggered internally at \n",
       "/opt/conda/conda-bld/pytorch_1695392035891/work/aten/src/ATen/native/Resize.cpp:28.)\n",
       "  Variable._execution_engine.run_backward(  # Calls into the C++ engine to run the backward pass\n"
      ]
     },
     "metadata": {},
     "output_type": "display_data"
    },
    {
     "data": {
      "text/html": [
       "<pre style=\"white-space:pre;overflow-x:auto;line-height:normal;font-family:Menlo,'DejaVu Sans Mono',consolas,'Courier New',monospace\">/home/zekai/miniconda3/envs/eq/lib/python3.11/site-packages/torch/autograd/__init__.py:251: UserWarning: An output \n",
       "with one or more elements was resized since it had shape [1, 468, 1], which does not match the required output \n",
       "shape [1, 468, 32]. This behavior is deprecated, and in a future PyTorch release outputs will not be resized unless\n",
       "they have zero elements. You can explicitly reuse an out tensor t by resizing it, inplace, to zero elements with \n",
       "t.resize_(0). (Triggered internally at \n",
       "/opt/conda/conda-bld/pytorch_1695392035891/work/aten/src/ATen/native/Resize.cpp:28.)\n",
       "  Variable._execution_engine.run_backward(  # Calls into the C++ engine to run the backward pass\n",
       "</pre>\n"
      ],
      "text/plain": [
       "/home/zekai/miniconda3/envs/eq/lib/python3.11/site-packages/torch/autograd/__init__.py:251: UserWarning: An output \n",
       "with one or more elements was resized since it had shape [1, 468, 1], which does not match the required output \n",
       "shape [1, 468, 32]. This behavior is deprecated, and in a future PyTorch release outputs will not be resized unless\n",
       "they have zero elements. You can explicitly reuse an out tensor t by resizing it, inplace, to zero elements with \n",
       "t.resize_(0). (Triggered internally at \n",
       "/opt/conda/conda-bld/pytorch_1695392035891/work/aten/src/ATen/native/Resize.cpp:28.)\n",
       "  Variable._execution_engine.run_backward(  # Calls into the C++ engine to run the backward pass\n"
      ]
     },
     "metadata": {},
     "output_type": "display_data"
    },
    {
     "data": {
      "text/html": [
       "<pre style=\"white-space:pre;overflow-x:auto;line-height:normal;font-family:Menlo,'DejaVu Sans Mono',consolas,'Courier New',monospace\">/home/zekai/miniconda3/envs/eq/lib/python3.11/site-packages/torch/autograd/__init__.py:251: UserWarning: An output \n",
       "with one or more elements was resized since it had shape [1, 534, 1], which does not match the required output \n",
       "shape [1, 534, 32]. This behavior is deprecated, and in a future PyTorch release outputs will not be resized unless\n",
       "they have zero elements. You can explicitly reuse an out tensor t by resizing it, inplace, to zero elements with \n",
       "t.resize_(0). (Triggered internally at \n",
       "/opt/conda/conda-bld/pytorch_1695392035891/work/aten/src/ATen/native/Resize.cpp:28.)\n",
       "  Variable._execution_engine.run_backward(  # Calls into the C++ engine to run the backward pass\n",
       "</pre>\n"
      ],
      "text/plain": [
       "/home/zekai/miniconda3/envs/eq/lib/python3.11/site-packages/torch/autograd/__init__.py:251: UserWarning: An output \n",
       "with one or more elements was resized since it had shape [1, 534, 1], which does not match the required output \n",
       "shape [1, 534, 32]. This behavior is deprecated, and in a future PyTorch release outputs will not be resized unless\n",
       "they have zero elements. You can explicitly reuse an out tensor t by resizing it, inplace, to zero elements with \n",
       "t.resize_(0). (Triggered internally at \n",
       "/opt/conda/conda-bld/pytorch_1695392035891/work/aten/src/ATen/native/Resize.cpp:28.)\n",
       "  Variable._execution_engine.run_backward(  # Calls into the C++ engine to run the backward pass\n"
      ]
     },
     "metadata": {},
     "output_type": "display_data"
    },
    {
     "data": {
      "text/html": [
       "<pre style=\"white-space:pre;overflow-x:auto;line-height:normal;font-family:Menlo,'DejaVu Sans Mono',consolas,'Courier New',monospace\">/home/zekai/miniconda3/envs/eq/lib/python3.11/site-packages/torch/autograd/__init__.py:251: UserWarning: An output \n",
       "with one or more elements was resized since it had shape [1, 99, 1], which does not match the required output shape\n",
       "[1, 99, 32]. This behavior is deprecated, and in a future PyTorch release outputs will not be resized unless they \n",
       "have zero elements. You can explicitly reuse an out tensor t by resizing it, inplace, to zero elements with \n",
       "t.resize_(0). (Triggered internally at \n",
       "/opt/conda/conda-bld/pytorch_1695392035891/work/aten/src/ATen/native/Resize.cpp:28.)\n",
       "  Variable._execution_engine.run_backward(  # Calls into the C++ engine to run the backward pass\n",
       "</pre>\n"
      ],
      "text/plain": [
       "/home/zekai/miniconda3/envs/eq/lib/python3.11/site-packages/torch/autograd/__init__.py:251: UserWarning: An output \n",
       "with one or more elements was resized since it had shape [1, 99, 1], which does not match the required output shape\n",
       "[1, 99, 32]. This behavior is deprecated, and in a future PyTorch release outputs will not be resized unless they \n",
       "have zero elements. You can explicitly reuse an out tensor t by resizing it, inplace, to zero elements with \n",
       "t.resize_(0). (Triggered internally at \n",
       "/opt/conda/conda-bld/pytorch_1695392035891/work/aten/src/ATen/native/Resize.cpp:28.)\n",
       "  Variable._execution_engine.run_backward(  # Calls into the C++ engine to run the backward pass\n"
      ]
     },
     "metadata": {},
     "output_type": "display_data"
    },
    {
     "data": {
      "text/html": [
       "<pre style=\"white-space:pre;overflow-x:auto;line-height:normal;font-family:Menlo,'DejaVu Sans Mono',consolas,'Courier New',monospace\">/home/zekai/miniconda3/envs/eq/lib/python3.11/site-packages/torch/autograd/__init__.py:251: UserWarning: An output \n",
       "with one or more elements was resized since it had shape [1, 745, 1], which does not match the required output \n",
       "shape [1, 745, 32]. This behavior is deprecated, and in a future PyTorch release outputs will not be resized unless\n",
       "they have zero elements. You can explicitly reuse an out tensor t by resizing it, inplace, to zero elements with \n",
       "t.resize_(0). (Triggered internally at \n",
       "/opt/conda/conda-bld/pytorch_1695392035891/work/aten/src/ATen/native/Resize.cpp:28.)\n",
       "  Variable._execution_engine.run_backward(  # Calls into the C++ engine to run the backward pass\n",
       "</pre>\n"
      ],
      "text/plain": [
       "/home/zekai/miniconda3/envs/eq/lib/python3.11/site-packages/torch/autograd/__init__.py:251: UserWarning: An output \n",
       "with one or more elements was resized since it had shape [1, 745, 1], which does not match the required output \n",
       "shape [1, 745, 32]. This behavior is deprecated, and in a future PyTorch release outputs will not be resized unless\n",
       "they have zero elements. You can explicitly reuse an out tensor t by resizing it, inplace, to zero elements with \n",
       "t.resize_(0). (Triggered internally at \n",
       "/opt/conda/conda-bld/pytorch_1695392035891/work/aten/src/ATen/native/Resize.cpp:28.)\n",
       "  Variable._execution_engine.run_backward(  # Calls into the C++ engine to run the backward pass\n"
      ]
     },
     "metadata": {},
     "output_type": "display_data"
    },
    {
     "data": {
      "text/html": [
       "<pre style=\"white-space:pre;overflow-x:auto;line-height:normal;font-family:Menlo,'DejaVu Sans Mono',consolas,'Courier New',monospace\">/home/zekai/miniconda3/envs/eq/lib/python3.11/site-packages/torch/autograd/__init__.py:251: UserWarning: An output \n",
       "with one or more elements was resized since it had shape [1, 2915, 1], which does not match the required output \n",
       "shape [1, 2915, 32]. This behavior is deprecated, and in a future PyTorch release outputs will not be resized \n",
       "unless they have zero elements. You can explicitly reuse an out tensor t by resizing it, inplace, to zero elements \n",
       "with t.resize_(0). (Triggered internally at \n",
       "/opt/conda/conda-bld/pytorch_1695392035891/work/aten/src/ATen/native/Resize.cpp:28.)\n",
       "  Variable._execution_engine.run_backward(  # Calls into the C++ engine to run the backward pass\n",
       "</pre>\n"
      ],
      "text/plain": [
       "/home/zekai/miniconda3/envs/eq/lib/python3.11/site-packages/torch/autograd/__init__.py:251: UserWarning: An output \n",
       "with one or more elements was resized since it had shape [1, 2915, 1], which does not match the required output \n",
       "shape [1, 2915, 32]. This behavior is deprecated, and in a future PyTorch release outputs will not be resized \n",
       "unless they have zero elements. You can explicitly reuse an out tensor t by resizing it, inplace, to zero elements \n",
       "with t.resize_(0). (Triggered internally at \n",
       "/opt/conda/conda-bld/pytorch_1695392035891/work/aten/src/ATen/native/Resize.cpp:28.)\n",
       "  Variable._execution_engine.run_backward(  # Calls into the C++ engine to run the backward pass\n"
      ]
     },
     "metadata": {},
     "output_type": "display_data"
    },
    {
     "data": {
      "text/html": [
       "<pre style=\"white-space:pre;overflow-x:auto;line-height:normal;font-family:Menlo,'DejaVu Sans Mono',consolas,'Courier New',monospace\">/home/zekai/miniconda3/envs/eq/lib/python3.11/site-packages/torch/autograd/__init__.py:251: UserWarning: An output \n",
       "with one or more elements was resized since it had shape [1, 162, 1], which does not match the required output \n",
       "shape [1, 162, 32]. This behavior is deprecated, and in a future PyTorch release outputs will not be resized unless\n",
       "they have zero elements. You can explicitly reuse an out tensor t by resizing it, inplace, to zero elements with \n",
       "t.resize_(0). (Triggered internally at \n",
       "/opt/conda/conda-bld/pytorch_1695392035891/work/aten/src/ATen/native/Resize.cpp:28.)\n",
       "  Variable._execution_engine.run_backward(  # Calls into the C++ engine to run the backward pass\n",
       "</pre>\n"
      ],
      "text/plain": [
       "/home/zekai/miniconda3/envs/eq/lib/python3.11/site-packages/torch/autograd/__init__.py:251: UserWarning: An output \n",
       "with one or more elements was resized since it had shape [1, 162, 1], which does not match the required output \n",
       "shape [1, 162, 32]. This behavior is deprecated, and in a future PyTorch release outputs will not be resized unless\n",
       "they have zero elements. You can explicitly reuse an out tensor t by resizing it, inplace, to zero elements with \n",
       "t.resize_(0). (Triggered internally at \n",
       "/opt/conda/conda-bld/pytorch_1695392035891/work/aten/src/ATen/native/Resize.cpp:28.)\n",
       "  Variable._execution_engine.run_backward(  # Calls into the C++ engine to run the backward pass\n"
      ]
     },
     "metadata": {},
     "output_type": "display_data"
    },
    {
     "data": {
      "text/html": [
       "<pre style=\"white-space:pre;overflow-x:auto;line-height:normal;font-family:Menlo,'DejaVu Sans Mono',consolas,'Courier New',monospace\">/home/zekai/miniconda3/envs/eq/lib/python3.11/site-packages/torch/autograd/__init__.py:251: UserWarning: An output \n",
       "with one or more elements was resized since it had shape [1, 519, 1], which does not match the required output \n",
       "shape [1, 519, 32]. This behavior is deprecated, and in a future PyTorch release outputs will not be resized unless\n",
       "they have zero elements. You can explicitly reuse an out tensor t by resizing it, inplace, to zero elements with \n",
       "t.resize_(0). (Triggered internally at \n",
       "/opt/conda/conda-bld/pytorch_1695392035891/work/aten/src/ATen/native/Resize.cpp:28.)\n",
       "  Variable._execution_engine.run_backward(  # Calls into the C++ engine to run the backward pass\n",
       "</pre>\n"
      ],
      "text/plain": [
       "/home/zekai/miniconda3/envs/eq/lib/python3.11/site-packages/torch/autograd/__init__.py:251: UserWarning: An output \n",
       "with one or more elements was resized since it had shape [1, 519, 1], which does not match the required output \n",
       "shape [1, 519, 32]. This behavior is deprecated, and in a future PyTorch release outputs will not be resized unless\n",
       "they have zero elements. You can explicitly reuse an out tensor t by resizing it, inplace, to zero elements with \n",
       "t.resize_(0). (Triggered internally at \n",
       "/opt/conda/conda-bld/pytorch_1695392035891/work/aten/src/ATen/native/Resize.cpp:28.)\n",
       "  Variable._execution_engine.run_backward(  # Calls into the C++ engine to run the backward pass\n"
      ]
     },
     "metadata": {},
     "output_type": "display_data"
    },
    {
     "data": {
      "text/html": [
       "<pre style=\"white-space:pre;overflow-x:auto;line-height:normal;font-family:Menlo,'DejaVu Sans Mono',consolas,'Courier New',monospace\">/home/zekai/miniconda3/envs/eq/lib/python3.11/site-packages/torch/autograd/__init__.py:251: UserWarning: An output \n",
       "with one or more elements was resized since it had shape [1, 102, 1], which does not match the required output \n",
       "shape [1, 102, 32]. This behavior is deprecated, and in a future PyTorch release outputs will not be resized unless\n",
       "they have zero elements. You can explicitly reuse an out tensor t by resizing it, inplace, to zero elements with \n",
       "t.resize_(0). (Triggered internally at \n",
       "/opt/conda/conda-bld/pytorch_1695392035891/work/aten/src/ATen/native/Resize.cpp:28.)\n",
       "  Variable._execution_engine.run_backward(  # Calls into the C++ engine to run the backward pass\n",
       "</pre>\n"
      ],
      "text/plain": [
       "/home/zekai/miniconda3/envs/eq/lib/python3.11/site-packages/torch/autograd/__init__.py:251: UserWarning: An output \n",
       "with one or more elements was resized since it had shape [1, 102, 1], which does not match the required output \n",
       "shape [1, 102, 32]. This behavior is deprecated, and in a future PyTorch release outputs will not be resized unless\n",
       "they have zero elements. You can explicitly reuse an out tensor t by resizing it, inplace, to zero elements with \n",
       "t.resize_(0). (Triggered internally at \n",
       "/opt/conda/conda-bld/pytorch_1695392035891/work/aten/src/ATen/native/Resize.cpp:28.)\n",
       "  Variable._execution_engine.run_backward(  # Calls into the C++ engine to run the backward pass\n"
      ]
     },
     "metadata": {},
     "output_type": "display_data"
    },
    {
     "data": {
      "text/html": [
       "<pre style=\"white-space:pre;overflow-x:auto;line-height:normal;font-family:Menlo,'DejaVu Sans Mono',consolas,'Courier New',monospace\">/home/zekai/miniconda3/envs/eq/lib/python3.11/site-packages/torch/autograd/__init__.py:251: UserWarning: An output \n",
       "with one or more elements was resized since it had shape [1, 17, 1], which does not match the required output shape\n",
       "[1, 17, 32]. This behavior is deprecated, and in a future PyTorch release outputs will not be resized unless they \n",
       "have zero elements. You can explicitly reuse an out tensor t by resizing it, inplace, to zero elements with \n",
       "t.resize_(0). (Triggered internally at \n",
       "/opt/conda/conda-bld/pytorch_1695392035891/work/aten/src/ATen/native/Resize.cpp:28.)\n",
       "  Variable._execution_engine.run_backward(  # Calls into the C++ engine to run the backward pass\n",
       "</pre>\n"
      ],
      "text/plain": [
       "/home/zekai/miniconda3/envs/eq/lib/python3.11/site-packages/torch/autograd/__init__.py:251: UserWarning: An output \n",
       "with one or more elements was resized since it had shape [1, 17, 1], which does not match the required output shape\n",
       "[1, 17, 32]. This behavior is deprecated, and in a future PyTorch release outputs will not be resized unless they \n",
       "have zero elements. You can explicitly reuse an out tensor t by resizing it, inplace, to zero elements with \n",
       "t.resize_(0). (Triggered internally at \n",
       "/opt/conda/conda-bld/pytorch_1695392035891/work/aten/src/ATen/native/Resize.cpp:28.)\n",
       "  Variable._execution_engine.run_backward(  # Calls into the C++ engine to run the backward pass\n"
      ]
     },
     "metadata": {},
     "output_type": "display_data"
    },
    {
     "data": {
      "text/html": [
       "<pre style=\"white-space:pre;overflow-x:auto;line-height:normal;font-family:Menlo,'DejaVu Sans Mono',consolas,'Courier New',monospace\">/home/zekai/miniconda3/envs/eq/lib/python3.11/site-packages/torch/autograd/__init__.py:251: UserWarning: An output \n",
       "with one or more elements was resized since it had shape [1, 124, 1], which does not match the required output \n",
       "shape [1, 124, 32]. This behavior is deprecated, and in a future PyTorch release outputs will not be resized unless\n",
       "they have zero elements. You can explicitly reuse an out tensor t by resizing it, inplace, to zero elements with \n",
       "t.resize_(0). (Triggered internally at \n",
       "/opt/conda/conda-bld/pytorch_1695392035891/work/aten/src/ATen/native/Resize.cpp:28.)\n",
       "  Variable._execution_engine.run_backward(  # Calls into the C++ engine to run the backward pass\n",
       "</pre>\n"
      ],
      "text/plain": [
       "/home/zekai/miniconda3/envs/eq/lib/python3.11/site-packages/torch/autograd/__init__.py:251: UserWarning: An output \n",
       "with one or more elements was resized since it had shape [1, 124, 1], which does not match the required output \n",
       "shape [1, 124, 32]. This behavior is deprecated, and in a future PyTorch release outputs will not be resized unless\n",
       "they have zero elements. You can explicitly reuse an out tensor t by resizing it, inplace, to zero elements with \n",
       "t.resize_(0). (Triggered internally at \n",
       "/opt/conda/conda-bld/pytorch_1695392035891/work/aten/src/ATen/native/Resize.cpp:28.)\n",
       "  Variable._execution_engine.run_backward(  # Calls into the C++ engine to run the backward pass\n"
      ]
     },
     "metadata": {},
     "output_type": "display_data"
    },
    {
     "data": {
      "text/html": [
       "<pre style=\"white-space:pre;overflow-x:auto;line-height:normal;font-family:Menlo,'DejaVu Sans Mono',consolas,'Courier New',monospace\">/home/zekai/miniconda3/envs/eq/lib/python3.11/site-packages/torch/autograd/__init__.py:251: UserWarning: An output \n",
       "with one or more elements was resized since it had shape [1, 855, 1], which does not match the required output \n",
       "shape [1, 855, 32]. This behavior is deprecated, and in a future PyTorch release outputs will not be resized unless\n",
       "they have zero elements. You can explicitly reuse an out tensor t by resizing it, inplace, to zero elements with \n",
       "t.resize_(0). (Triggered internally at \n",
       "/opt/conda/conda-bld/pytorch_1695392035891/work/aten/src/ATen/native/Resize.cpp:28.)\n",
       "  Variable._execution_engine.run_backward(  # Calls into the C++ engine to run the backward pass\n",
       "</pre>\n"
      ],
      "text/plain": [
       "/home/zekai/miniconda3/envs/eq/lib/python3.11/site-packages/torch/autograd/__init__.py:251: UserWarning: An output \n",
       "with one or more elements was resized since it had shape [1, 855, 1], which does not match the required output \n",
       "shape [1, 855, 32]. This behavior is deprecated, and in a future PyTorch release outputs will not be resized unless\n",
       "they have zero elements. You can explicitly reuse an out tensor t by resizing it, inplace, to zero elements with \n",
       "t.resize_(0). (Triggered internally at \n",
       "/opt/conda/conda-bld/pytorch_1695392035891/work/aten/src/ATen/native/Resize.cpp:28.)\n",
       "  Variable._execution_engine.run_backward(  # Calls into the C++ engine to run the backward pass\n"
      ]
     },
     "metadata": {},
     "output_type": "display_data"
    },
    {
     "data": {
      "text/html": [
       "<pre style=\"white-space:pre;overflow-x:auto;line-height:normal;font-family:Menlo,'DejaVu Sans Mono',consolas,'Courier New',monospace\">/home/zekai/miniconda3/envs/eq/lib/python3.11/site-packages/torch/autograd/__init__.py:251: UserWarning: An output \n",
       "with one or more elements was resized since it had shape [1, 303, 1], which does not match the required output \n",
       "shape [1, 303, 32]. This behavior is deprecated, and in a future PyTorch release outputs will not be resized unless\n",
       "they have zero elements. You can explicitly reuse an out tensor t by resizing it, inplace, to zero elements with \n",
       "t.resize_(0). (Triggered internally at \n",
       "/opt/conda/conda-bld/pytorch_1695392035891/work/aten/src/ATen/native/Resize.cpp:28.)\n",
       "  Variable._execution_engine.run_backward(  # Calls into the C++ engine to run the backward pass\n",
       "</pre>\n"
      ],
      "text/plain": [
       "/home/zekai/miniconda3/envs/eq/lib/python3.11/site-packages/torch/autograd/__init__.py:251: UserWarning: An output \n",
       "with one or more elements was resized since it had shape [1, 303, 1], which does not match the required output \n",
       "shape [1, 303, 32]. This behavior is deprecated, and in a future PyTorch release outputs will not be resized unless\n",
       "they have zero elements. You can explicitly reuse an out tensor t by resizing it, inplace, to zero elements with \n",
       "t.resize_(0). (Triggered internally at \n",
       "/opt/conda/conda-bld/pytorch_1695392035891/work/aten/src/ATen/native/Resize.cpp:28.)\n",
       "  Variable._execution_engine.run_backward(  # Calls into the C++ engine to run the backward pass\n"
      ]
     },
     "metadata": {},
     "output_type": "display_data"
    },
    {
     "data": {
      "text/html": [
       "<pre style=\"white-space:pre;overflow-x:auto;line-height:normal;font-family:Menlo,'DejaVu Sans Mono',consolas,'Courier New',monospace\">/home/zekai/miniconda3/envs/eq/lib/python3.11/site-packages/torch/autograd/__init__.py:251: UserWarning: An output \n",
       "with one or more elements was resized since it had shape [1, 409, 1], which does not match the required output \n",
       "shape [1, 409, 32]. This behavior is deprecated, and in a future PyTorch release outputs will not be resized unless\n",
       "they have zero elements. You can explicitly reuse an out tensor t by resizing it, inplace, to zero elements with \n",
       "t.resize_(0). (Triggered internally at \n",
       "/opt/conda/conda-bld/pytorch_1695392035891/work/aten/src/ATen/native/Resize.cpp:28.)\n",
       "  Variable._execution_engine.run_backward(  # Calls into the C++ engine to run the backward pass\n",
       "</pre>\n"
      ],
      "text/plain": [
       "/home/zekai/miniconda3/envs/eq/lib/python3.11/site-packages/torch/autograd/__init__.py:251: UserWarning: An output \n",
       "with one or more elements was resized since it had shape [1, 409, 1], which does not match the required output \n",
       "shape [1, 409, 32]. This behavior is deprecated, and in a future PyTorch release outputs will not be resized unless\n",
       "they have zero elements. You can explicitly reuse an out tensor t by resizing it, inplace, to zero elements with \n",
       "t.resize_(0). (Triggered internally at \n",
       "/opt/conda/conda-bld/pytorch_1695392035891/work/aten/src/ATen/native/Resize.cpp:28.)\n",
       "  Variable._execution_engine.run_backward(  # Calls into the C++ engine to run the backward pass\n"
      ]
     },
     "metadata": {},
     "output_type": "display_data"
    },
    {
     "data": {
      "text/html": [
       "<pre style=\"white-space:pre;overflow-x:auto;line-height:normal;font-family:Menlo,'DejaVu Sans Mono',consolas,'Courier New',monospace\">/home/zekai/miniconda3/envs/eq/lib/python3.11/site-packages/torch/autograd/__init__.py:251: UserWarning: An output \n",
       "with one or more elements was resized since it had shape [1, 239, 1], which does not match the required output \n",
       "shape [1, 239, 32]. This behavior is deprecated, and in a future PyTorch release outputs will not be resized unless\n",
       "they have zero elements. You can explicitly reuse an out tensor t by resizing it, inplace, to zero elements with \n",
       "t.resize_(0). (Triggered internally at \n",
       "/opt/conda/conda-bld/pytorch_1695392035891/work/aten/src/ATen/native/Resize.cpp:28.)\n",
       "  Variable._execution_engine.run_backward(  # Calls into the C++ engine to run the backward pass\n",
       "</pre>\n"
      ],
      "text/plain": [
       "/home/zekai/miniconda3/envs/eq/lib/python3.11/site-packages/torch/autograd/__init__.py:251: UserWarning: An output \n",
       "with one or more elements was resized since it had shape [1, 239, 1], which does not match the required output \n",
       "shape [1, 239, 32]. This behavior is deprecated, and in a future PyTorch release outputs will not be resized unless\n",
       "they have zero elements. You can explicitly reuse an out tensor t by resizing it, inplace, to zero elements with \n",
       "t.resize_(0). (Triggered internally at \n",
       "/opt/conda/conda-bld/pytorch_1695392035891/work/aten/src/ATen/native/Resize.cpp:28.)\n",
       "  Variable._execution_engine.run_backward(  # Calls into the C++ engine to run the backward pass\n"
      ]
     },
     "metadata": {},
     "output_type": "display_data"
    },
    {
     "data": {
      "text/html": [
       "<pre style=\"white-space:pre;overflow-x:auto;line-height:normal;font-family:Menlo,'DejaVu Sans Mono',consolas,'Courier New',monospace\">/home/zekai/miniconda3/envs/eq/lib/python3.11/site-packages/torch/autograd/__init__.py:251: UserWarning: An output \n",
       "with one or more elements was resized since it had shape [1, 75, 1], which does not match the required output shape\n",
       "[1, 75, 32]. This behavior is deprecated, and in a future PyTorch release outputs will not be resized unless they \n",
       "have zero elements. You can explicitly reuse an out tensor t by resizing it, inplace, to zero elements with \n",
       "t.resize_(0). (Triggered internally at \n",
       "/opt/conda/conda-bld/pytorch_1695392035891/work/aten/src/ATen/native/Resize.cpp:28.)\n",
       "  Variable._execution_engine.run_backward(  # Calls into the C++ engine to run the backward pass\n",
       "</pre>\n"
      ],
      "text/plain": [
       "/home/zekai/miniconda3/envs/eq/lib/python3.11/site-packages/torch/autograd/__init__.py:251: UserWarning: An output \n",
       "with one or more elements was resized since it had shape [1, 75, 1], which does not match the required output shape\n",
       "[1, 75, 32]. This behavior is deprecated, and in a future PyTorch release outputs will not be resized unless they \n",
       "have zero elements. You can explicitly reuse an out tensor t by resizing it, inplace, to zero elements with \n",
       "t.resize_(0). (Triggered internally at \n",
       "/opt/conda/conda-bld/pytorch_1695392035891/work/aten/src/ATen/native/Resize.cpp:28.)\n",
       "  Variable._execution_engine.run_backward(  # Calls into the C++ engine to run the backward pass\n"
      ]
     },
     "metadata": {},
     "output_type": "display_data"
    },
    {
     "data": {
      "text/html": [
       "<pre style=\"white-space:pre;overflow-x:auto;line-height:normal;font-family:Menlo,'DejaVu Sans Mono',consolas,'Courier New',monospace\">/home/zekai/miniconda3/envs/eq/lib/python3.11/site-packages/torch/autograd/__init__.py:251: UserWarning: An output \n",
       "with one or more elements was resized since it had shape [1, 125, 1], which does not match the required output \n",
       "shape [1, 125, 32]. This behavior is deprecated, and in a future PyTorch release outputs will not be resized unless\n",
       "they have zero elements. You can explicitly reuse an out tensor t by resizing it, inplace, to zero elements with \n",
       "t.resize_(0). (Triggered internally at \n",
       "/opt/conda/conda-bld/pytorch_1695392035891/work/aten/src/ATen/native/Resize.cpp:28.)\n",
       "  Variable._execution_engine.run_backward(  # Calls into the C++ engine to run the backward pass\n",
       "</pre>\n"
      ],
      "text/plain": [
       "/home/zekai/miniconda3/envs/eq/lib/python3.11/site-packages/torch/autograd/__init__.py:251: UserWarning: An output \n",
       "with one or more elements was resized since it had shape [1, 125, 1], which does not match the required output \n",
       "shape [1, 125, 32]. This behavior is deprecated, and in a future PyTorch release outputs will not be resized unless\n",
       "they have zero elements. You can explicitly reuse an out tensor t by resizing it, inplace, to zero elements with \n",
       "t.resize_(0). (Triggered internally at \n",
       "/opt/conda/conda-bld/pytorch_1695392035891/work/aten/src/ATen/native/Resize.cpp:28.)\n",
       "  Variable._execution_engine.run_backward(  # Calls into the C++ engine to run the backward pass\n"
      ]
     },
     "metadata": {},
     "output_type": "display_data"
    },
    {
     "data": {
      "text/html": [
       "<pre style=\"white-space:pre;overflow-x:auto;line-height:normal;font-family:Menlo,'DejaVu Sans Mono',consolas,'Courier New',monospace\">/home/zekai/miniconda3/envs/eq/lib/python3.11/site-packages/torch/autograd/__init__.py:251: UserWarning: An output \n",
       "with one or more elements was resized since it had shape [1, 455, 1], which does not match the required output \n",
       "shape [1, 455, 32]. This behavior is deprecated, and in a future PyTorch release outputs will not be resized unless\n",
       "they have zero elements. You can explicitly reuse an out tensor t by resizing it, inplace, to zero elements with \n",
       "t.resize_(0). (Triggered internally at \n",
       "/opt/conda/conda-bld/pytorch_1695392035891/work/aten/src/ATen/native/Resize.cpp:28.)\n",
       "  Variable._execution_engine.run_backward(  # Calls into the C++ engine to run the backward pass\n",
       "</pre>\n"
      ],
      "text/plain": [
       "/home/zekai/miniconda3/envs/eq/lib/python3.11/site-packages/torch/autograd/__init__.py:251: UserWarning: An output \n",
       "with one or more elements was resized since it had shape [1, 455, 1], which does not match the required output \n",
       "shape [1, 455, 32]. This behavior is deprecated, and in a future PyTorch release outputs will not be resized unless\n",
       "they have zero elements. You can explicitly reuse an out tensor t by resizing it, inplace, to zero elements with \n",
       "t.resize_(0). (Triggered internally at \n",
       "/opt/conda/conda-bld/pytorch_1695392035891/work/aten/src/ATen/native/Resize.cpp:28.)\n",
       "  Variable._execution_engine.run_backward(  # Calls into the C++ engine to run the backward pass\n"
      ]
     },
     "metadata": {},
     "output_type": "display_data"
    },
    {
     "data": {
      "text/html": [
       "<pre style=\"white-space:pre;overflow-x:auto;line-height:normal;font-family:Menlo,'DejaVu Sans Mono',consolas,'Courier New',monospace\">/home/zekai/miniconda3/envs/eq/lib/python3.11/site-packages/torch/autograd/__init__.py:251: UserWarning: An output \n",
       "with one or more elements was resized since it had shape [1, 118, 1], which does not match the required output \n",
       "shape [1, 118, 32]. This behavior is deprecated, and in a future PyTorch release outputs will not be resized unless\n",
       "they have zero elements. You can explicitly reuse an out tensor t by resizing it, inplace, to zero elements with \n",
       "t.resize_(0). (Triggered internally at \n",
       "/opt/conda/conda-bld/pytorch_1695392035891/work/aten/src/ATen/native/Resize.cpp:28.)\n",
       "  Variable._execution_engine.run_backward(  # Calls into the C++ engine to run the backward pass\n",
       "</pre>\n"
      ],
      "text/plain": [
       "/home/zekai/miniconda3/envs/eq/lib/python3.11/site-packages/torch/autograd/__init__.py:251: UserWarning: An output \n",
       "with one or more elements was resized since it had shape [1, 118, 1], which does not match the required output \n",
       "shape [1, 118, 32]. This behavior is deprecated, and in a future PyTorch release outputs will not be resized unless\n",
       "they have zero elements. You can explicitly reuse an out tensor t by resizing it, inplace, to zero elements with \n",
       "t.resize_(0). (Triggered internally at \n",
       "/opt/conda/conda-bld/pytorch_1695392035891/work/aten/src/ATen/native/Resize.cpp:28.)\n",
       "  Variable._execution_engine.run_backward(  # Calls into the C++ engine to run the backward pass\n"
      ]
     },
     "metadata": {},
     "output_type": "display_data"
    },
    {
     "data": {
      "text/html": [
       "<pre style=\"white-space:pre;overflow-x:auto;line-height:normal;font-family:Menlo,'DejaVu Sans Mono',consolas,'Courier New',monospace\">/home/zekai/miniconda3/envs/eq/lib/python3.11/site-packages/torch/autograd/__init__.py:251: UserWarning: An output \n",
       "with one or more elements was resized since it had shape [1, 399, 1], which does not match the required output \n",
       "shape [1, 399, 32]. This behavior is deprecated, and in a future PyTorch release outputs will not be resized unless\n",
       "they have zero elements. You can explicitly reuse an out tensor t by resizing it, inplace, to zero elements with \n",
       "t.resize_(0). (Triggered internally at \n",
       "/opt/conda/conda-bld/pytorch_1695392035891/work/aten/src/ATen/native/Resize.cpp:28.)\n",
       "  Variable._execution_engine.run_backward(  # Calls into the C++ engine to run the backward pass\n",
       "</pre>\n"
      ],
      "text/plain": [
       "/home/zekai/miniconda3/envs/eq/lib/python3.11/site-packages/torch/autograd/__init__.py:251: UserWarning: An output \n",
       "with one or more elements was resized since it had shape [1, 399, 1], which does not match the required output \n",
       "shape [1, 399, 32]. This behavior is deprecated, and in a future PyTorch release outputs will not be resized unless\n",
       "they have zero elements. You can explicitly reuse an out tensor t by resizing it, inplace, to zero elements with \n",
       "t.resize_(0). (Triggered internally at \n",
       "/opt/conda/conda-bld/pytorch_1695392035891/work/aten/src/ATen/native/Resize.cpp:28.)\n",
       "  Variable._execution_engine.run_backward(  # Calls into the C++ engine to run the backward pass\n"
      ]
     },
     "metadata": {},
     "output_type": "display_data"
    },
    {
     "data": {
      "text/html": [
       "<pre style=\"white-space:pre;overflow-x:auto;line-height:normal;font-family:Menlo,'DejaVu Sans Mono',consolas,'Courier New',monospace\">/home/zekai/miniconda3/envs/eq/lib/python3.11/site-packages/torch/autograd/__init__.py:251: UserWarning: An output \n",
       "with one or more elements was resized since it had shape [1, 524, 1], which does not match the required output \n",
       "shape [1, 524, 32]. This behavior is deprecated, and in a future PyTorch release outputs will not be resized unless\n",
       "they have zero elements. You can explicitly reuse an out tensor t by resizing it, inplace, to zero elements with \n",
       "t.resize_(0). (Triggered internally at \n",
       "/opt/conda/conda-bld/pytorch_1695392035891/work/aten/src/ATen/native/Resize.cpp:28.)\n",
       "  Variable._execution_engine.run_backward(  # Calls into the C++ engine to run the backward pass\n",
       "</pre>\n"
      ],
      "text/plain": [
       "/home/zekai/miniconda3/envs/eq/lib/python3.11/site-packages/torch/autograd/__init__.py:251: UserWarning: An output \n",
       "with one or more elements was resized since it had shape [1, 524, 1], which does not match the required output \n",
       "shape [1, 524, 32]. This behavior is deprecated, and in a future PyTorch release outputs will not be resized unless\n",
       "they have zero elements. You can explicitly reuse an out tensor t by resizing it, inplace, to zero elements with \n",
       "t.resize_(0). (Triggered internally at \n",
       "/opt/conda/conda-bld/pytorch_1695392035891/work/aten/src/ATen/native/Resize.cpp:28.)\n",
       "  Variable._execution_engine.run_backward(  # Calls into the C++ engine to run the backward pass\n"
      ]
     },
     "metadata": {},
     "output_type": "display_data"
    },
    {
     "data": {
      "text/html": [
       "<pre style=\"white-space:pre;overflow-x:auto;line-height:normal;font-family:Menlo,'DejaVu Sans Mono',consolas,'Courier New',monospace\">/home/zekai/miniconda3/envs/eq/lib/python3.11/site-packages/torch/autograd/__init__.py:251: UserWarning: An output \n",
       "with one or more elements was resized since it had shape [1, 360, 1], which does not match the required output \n",
       "shape [1, 360, 32]. This behavior is deprecated, and in a future PyTorch release outputs will not be resized unless\n",
       "they have zero elements. You can explicitly reuse an out tensor t by resizing it, inplace, to zero elements with \n",
       "t.resize_(0). (Triggered internally at \n",
       "/opt/conda/conda-bld/pytorch_1695392035891/work/aten/src/ATen/native/Resize.cpp:28.)\n",
       "  Variable._execution_engine.run_backward(  # Calls into the C++ engine to run the backward pass\n",
       "</pre>\n"
      ],
      "text/plain": [
       "/home/zekai/miniconda3/envs/eq/lib/python3.11/site-packages/torch/autograd/__init__.py:251: UserWarning: An output \n",
       "with one or more elements was resized since it had shape [1, 360, 1], which does not match the required output \n",
       "shape [1, 360, 32]. This behavior is deprecated, and in a future PyTorch release outputs will not be resized unless\n",
       "they have zero elements. You can explicitly reuse an out tensor t by resizing it, inplace, to zero elements with \n",
       "t.resize_(0). (Triggered internally at \n",
       "/opt/conda/conda-bld/pytorch_1695392035891/work/aten/src/ATen/native/Resize.cpp:28.)\n",
       "  Variable._execution_engine.run_backward(  # Calls into the C++ engine to run the backward pass\n"
      ]
     },
     "metadata": {},
     "output_type": "display_data"
    },
    {
     "data": {
      "text/html": [
       "<pre style=\"white-space:pre;overflow-x:auto;line-height:normal;font-family:Menlo,'DejaVu Sans Mono',consolas,'Courier New',monospace\">/home/zekai/miniconda3/envs/eq/lib/python3.11/site-packages/torch/autograd/__init__.py:251: UserWarning: An output \n",
       "with one or more elements was resized since it had shape [1, 225, 1], which does not match the required output \n",
       "shape [1, 225, 32]. This behavior is deprecated, and in a future PyTorch release outputs will not be resized unless\n",
       "they have zero elements. You can explicitly reuse an out tensor t by resizing it, inplace, to zero elements with \n",
       "t.resize_(0). (Triggered internally at \n",
       "/opt/conda/conda-bld/pytorch_1695392035891/work/aten/src/ATen/native/Resize.cpp:28.)\n",
       "  Variable._execution_engine.run_backward(  # Calls into the C++ engine to run the backward pass\n",
       "</pre>\n"
      ],
      "text/plain": [
       "/home/zekai/miniconda3/envs/eq/lib/python3.11/site-packages/torch/autograd/__init__.py:251: UserWarning: An output \n",
       "with one or more elements was resized since it had shape [1, 225, 1], which does not match the required output \n",
       "shape [1, 225, 32]. This behavior is deprecated, and in a future PyTorch release outputs will not be resized unless\n",
       "they have zero elements. You can explicitly reuse an out tensor t by resizing it, inplace, to zero elements with \n",
       "t.resize_(0). (Triggered internally at \n",
       "/opt/conda/conda-bld/pytorch_1695392035891/work/aten/src/ATen/native/Resize.cpp:28.)\n",
       "  Variable._execution_engine.run_backward(  # Calls into the C++ engine to run the backward pass\n"
      ]
     },
     "metadata": {},
     "output_type": "display_data"
    },
    {
     "data": {
      "text/html": [
       "<pre style=\"white-space:pre;overflow-x:auto;line-height:normal;font-family:Menlo,'DejaVu Sans Mono',consolas,'Courier New',monospace\">/home/zekai/miniconda3/envs/eq/lib/python3.11/site-packages/torch/autograd/__init__.py:251: UserWarning: An output \n",
       "with one or more elements was resized since it had shape [1, 329, 1], which does not match the required output \n",
       "shape [1, 329, 32]. This behavior is deprecated, and in a future PyTorch release outputs will not be resized unless\n",
       "they have zero elements. You can explicitly reuse an out tensor t by resizing it, inplace, to zero elements with \n",
       "t.resize_(0). (Triggered internally at \n",
       "/opt/conda/conda-bld/pytorch_1695392035891/work/aten/src/ATen/native/Resize.cpp:28.)\n",
       "  Variable._execution_engine.run_backward(  # Calls into the C++ engine to run the backward pass\n",
       "</pre>\n"
      ],
      "text/plain": [
       "/home/zekai/miniconda3/envs/eq/lib/python3.11/site-packages/torch/autograd/__init__.py:251: UserWarning: An output \n",
       "with one or more elements was resized since it had shape [1, 329, 1], which does not match the required output \n",
       "shape [1, 329, 32]. This behavior is deprecated, and in a future PyTorch release outputs will not be resized unless\n",
       "they have zero elements. You can explicitly reuse an out tensor t by resizing it, inplace, to zero elements with \n",
       "t.resize_(0). (Triggered internally at \n",
       "/opt/conda/conda-bld/pytorch_1695392035891/work/aten/src/ATen/native/Resize.cpp:28.)\n",
       "  Variable._execution_engine.run_backward(  # Calls into the C++ engine to run the backward pass\n"
      ]
     },
     "metadata": {},
     "output_type": "display_data"
    },
    {
     "data": {
      "text/html": [
       "<pre style=\"white-space:pre;overflow-x:auto;line-height:normal;font-family:Menlo,'DejaVu Sans Mono',consolas,'Courier New',monospace\">/home/zekai/miniconda3/envs/eq/lib/python3.11/site-packages/torch/autograd/__init__.py:251: UserWarning: An output \n",
       "with one or more elements was resized since it had shape [1, 307, 1], which does not match the required output \n",
       "shape [1, 307, 32]. This behavior is deprecated, and in a future PyTorch release outputs will not be resized unless\n",
       "they have zero elements. You can explicitly reuse an out tensor t by resizing it, inplace, to zero elements with \n",
       "t.resize_(0). (Triggered internally at \n",
       "/opt/conda/conda-bld/pytorch_1695392035891/work/aten/src/ATen/native/Resize.cpp:28.)\n",
       "  Variable._execution_engine.run_backward(  # Calls into the C++ engine to run the backward pass\n",
       "</pre>\n"
      ],
      "text/plain": [
       "/home/zekai/miniconda3/envs/eq/lib/python3.11/site-packages/torch/autograd/__init__.py:251: UserWarning: An output \n",
       "with one or more elements was resized since it had shape [1, 307, 1], which does not match the required output \n",
       "shape [1, 307, 32]. This behavior is deprecated, and in a future PyTorch release outputs will not be resized unless\n",
       "they have zero elements. You can explicitly reuse an out tensor t by resizing it, inplace, to zero elements with \n",
       "t.resize_(0). (Triggered internally at \n",
       "/opt/conda/conda-bld/pytorch_1695392035891/work/aten/src/ATen/native/Resize.cpp:28.)\n",
       "  Variable._execution_engine.run_backward(  # Calls into the C++ engine to run the backward pass\n"
      ]
     },
     "metadata": {},
     "output_type": "display_data"
    },
    {
     "data": {
      "text/html": [
       "<pre style=\"white-space:pre;overflow-x:auto;line-height:normal;font-family:Menlo,'DejaVu Sans Mono',consolas,'Courier New',monospace\">/home/zekai/miniconda3/envs/eq/lib/python3.11/site-packages/torch/autograd/__init__.py:251: UserWarning: An output \n",
       "with one or more elements was resized since it had shape [1, 2935, 1], which does not match the required output \n",
       "shape [1, 2935, 32]. This behavior is deprecated, and in a future PyTorch release outputs will not be resized \n",
       "unless they have zero elements. You can explicitly reuse an out tensor t by resizing it, inplace, to zero elements \n",
       "with t.resize_(0). (Triggered internally at \n",
       "/opt/conda/conda-bld/pytorch_1695392035891/work/aten/src/ATen/native/Resize.cpp:28.)\n",
       "  Variable._execution_engine.run_backward(  # Calls into the C++ engine to run the backward pass\n",
       "</pre>\n"
      ],
      "text/plain": [
       "/home/zekai/miniconda3/envs/eq/lib/python3.11/site-packages/torch/autograd/__init__.py:251: UserWarning: An output \n",
       "with one or more elements was resized since it had shape [1, 2935, 1], which does not match the required output \n",
       "shape [1, 2935, 32]. This behavior is deprecated, and in a future PyTorch release outputs will not be resized \n",
       "unless they have zero elements. You can explicitly reuse an out tensor t by resizing it, inplace, to zero elements \n",
       "with t.resize_(0). (Triggered internally at \n",
       "/opt/conda/conda-bld/pytorch_1695392035891/work/aten/src/ATen/native/Resize.cpp:28.)\n",
       "  Variable._execution_engine.run_backward(  # Calls into the C++ engine to run the backward pass\n"
      ]
     },
     "metadata": {},
     "output_type": "display_data"
    },
    {
     "data": {
      "text/html": [
       "<pre style=\"white-space:pre;overflow-x:auto;line-height:normal;font-family:Menlo,'DejaVu Sans Mono',consolas,'Courier New',monospace\">/home/zekai/miniconda3/envs/eq/lib/python3.11/site-packages/torch/autograd/__init__.py:251: UserWarning: An output \n",
       "with one or more elements was resized since it had shape [1, 174, 1], which does not match the required output \n",
       "shape [1, 174, 32]. This behavior is deprecated, and in a future PyTorch release outputs will not be resized unless\n",
       "they have zero elements. You can explicitly reuse an out tensor t by resizing it, inplace, to zero elements with \n",
       "t.resize_(0). (Triggered internally at \n",
       "/opt/conda/conda-bld/pytorch_1695392035891/work/aten/src/ATen/native/Resize.cpp:28.)\n",
       "  Variable._execution_engine.run_backward(  # Calls into the C++ engine to run the backward pass\n",
       "</pre>\n"
      ],
      "text/plain": [
       "/home/zekai/miniconda3/envs/eq/lib/python3.11/site-packages/torch/autograd/__init__.py:251: UserWarning: An output \n",
       "with one or more elements was resized since it had shape [1, 174, 1], which does not match the required output \n",
       "shape [1, 174, 32]. This behavior is deprecated, and in a future PyTorch release outputs will not be resized unless\n",
       "they have zero elements. You can explicitly reuse an out tensor t by resizing it, inplace, to zero elements with \n",
       "t.resize_(0). (Triggered internally at \n",
       "/opt/conda/conda-bld/pytorch_1695392035891/work/aten/src/ATen/native/Resize.cpp:28.)\n",
       "  Variable._execution_engine.run_backward(  # Calls into the C++ engine to run the backward pass\n"
      ]
     },
     "metadata": {},
     "output_type": "display_data"
    },
    {
     "data": {
      "text/html": [
       "<pre style=\"white-space:pre;overflow-x:auto;line-height:normal;font-family:Menlo,'DejaVu Sans Mono',consolas,'Courier New',monospace\">/home/zekai/miniconda3/envs/eq/lib/python3.11/site-packages/torch/autograd/__init__.py:251: UserWarning: An output \n",
       "with one or more elements was resized since it had shape [1, 472, 1], which does not match the required output \n",
       "shape [1, 472, 32]. This behavior is deprecated, and in a future PyTorch release outputs will not be resized unless\n",
       "they have zero elements. You can explicitly reuse an out tensor t by resizing it, inplace, to zero elements with \n",
       "t.resize_(0). (Triggered internally at \n",
       "/opt/conda/conda-bld/pytorch_1695392035891/work/aten/src/ATen/native/Resize.cpp:28.)\n",
       "  Variable._execution_engine.run_backward(  # Calls into the C++ engine to run the backward pass\n",
       "</pre>\n"
      ],
      "text/plain": [
       "/home/zekai/miniconda3/envs/eq/lib/python3.11/site-packages/torch/autograd/__init__.py:251: UserWarning: An output \n",
       "with one or more elements was resized since it had shape [1, 472, 1], which does not match the required output \n",
       "shape [1, 472, 32]. This behavior is deprecated, and in a future PyTorch release outputs will not be resized unless\n",
       "they have zero elements. You can explicitly reuse an out tensor t by resizing it, inplace, to zero elements with \n",
       "t.resize_(0). (Triggered internally at \n",
       "/opt/conda/conda-bld/pytorch_1695392035891/work/aten/src/ATen/native/Resize.cpp:28.)\n",
       "  Variable._execution_engine.run_backward(  # Calls into the C++ engine to run the backward pass\n"
      ]
     },
     "metadata": {},
     "output_type": "display_data"
    },
    {
     "data": {
      "text/html": [
       "<pre style=\"white-space:pre;overflow-x:auto;line-height:normal;font-family:Menlo,'DejaVu Sans Mono',consolas,'Courier New',monospace\">/home/zekai/miniconda3/envs/eq/lib/python3.11/site-packages/torch/autograd/__init__.py:251: UserWarning: An output \n",
       "with one or more elements was resized since it had shape [1, 121, 1], which does not match the required output \n",
       "shape [1, 121, 32]. This behavior is deprecated, and in a future PyTorch release outputs will not be resized unless\n",
       "they have zero elements. You can explicitly reuse an out tensor t by resizing it, inplace, to zero elements with \n",
       "t.resize_(0). (Triggered internally at \n",
       "/opt/conda/conda-bld/pytorch_1695392035891/work/aten/src/ATen/native/Resize.cpp:28.)\n",
       "  Variable._execution_engine.run_backward(  # Calls into the C++ engine to run the backward pass\n",
       "</pre>\n"
      ],
      "text/plain": [
       "/home/zekai/miniconda3/envs/eq/lib/python3.11/site-packages/torch/autograd/__init__.py:251: UserWarning: An output \n",
       "with one or more elements was resized since it had shape [1, 121, 1], which does not match the required output \n",
       "shape [1, 121, 32]. This behavior is deprecated, and in a future PyTorch release outputs will not be resized unless\n",
       "they have zero elements. You can explicitly reuse an out tensor t by resizing it, inplace, to zero elements with \n",
       "t.resize_(0). (Triggered internally at \n",
       "/opt/conda/conda-bld/pytorch_1695392035891/work/aten/src/ATen/native/Resize.cpp:28.)\n",
       "  Variable._execution_engine.run_backward(  # Calls into the C++ engine to run the backward pass\n"
      ]
     },
     "metadata": {},
     "output_type": "display_data"
    },
    {
     "data": {
      "text/html": [
       "<pre style=\"white-space:pre;overflow-x:auto;line-height:normal;font-family:Menlo,'DejaVu Sans Mono',consolas,'Courier New',monospace\">/home/zekai/miniconda3/envs/eq/lib/python3.11/site-packages/torch/autograd/__init__.py:251: UserWarning: An output \n",
       "with one or more elements was resized since it had shape [1, 335, 1], which does not match the required output \n",
       "shape [1, 335, 32]. This behavior is deprecated, and in a future PyTorch release outputs will not be resized unless\n",
       "they have zero elements. You can explicitly reuse an out tensor t by resizing it, inplace, to zero elements with \n",
       "t.resize_(0). (Triggered internally at \n",
       "/opt/conda/conda-bld/pytorch_1695392035891/work/aten/src/ATen/native/Resize.cpp:28.)\n",
       "  Variable._execution_engine.run_backward(  # Calls into the C++ engine to run the backward pass\n",
       "</pre>\n"
      ],
      "text/plain": [
       "/home/zekai/miniconda3/envs/eq/lib/python3.11/site-packages/torch/autograd/__init__.py:251: UserWarning: An output \n",
       "with one or more elements was resized since it had shape [1, 335, 1], which does not match the required output \n",
       "shape [1, 335, 32]. This behavior is deprecated, and in a future PyTorch release outputs will not be resized unless\n",
       "they have zero elements. You can explicitly reuse an out tensor t by resizing it, inplace, to zero elements with \n",
       "t.resize_(0). (Triggered internally at \n",
       "/opt/conda/conda-bld/pytorch_1695392035891/work/aten/src/ATen/native/Resize.cpp:28.)\n",
       "  Variable._execution_engine.run_backward(  # Calls into the C++ engine to run the backward pass\n"
      ]
     },
     "metadata": {},
     "output_type": "display_data"
    },
    {
     "data": {
      "text/html": [
       "<pre style=\"white-space:pre;overflow-x:auto;line-height:normal;font-family:Menlo,'DejaVu Sans Mono',consolas,'Courier New',monospace\">/home/zekai/miniconda3/envs/eq/lib/python3.11/site-packages/torch/autograd/__init__.py:251: UserWarning: An output \n",
       "with one or more elements was resized since it had shape [1, 431, 1], which does not match the required output \n",
       "shape [1, 431, 32]. This behavior is deprecated, and in a future PyTorch release outputs will not be resized unless\n",
       "they have zero elements. You can explicitly reuse an out tensor t by resizing it, inplace, to zero elements with \n",
       "t.resize_(0). (Triggered internally at \n",
       "/opt/conda/conda-bld/pytorch_1695392035891/work/aten/src/ATen/native/Resize.cpp:28.)\n",
       "  Variable._execution_engine.run_backward(  # Calls into the C++ engine to run the backward pass\n",
       "</pre>\n"
      ],
      "text/plain": [
       "/home/zekai/miniconda3/envs/eq/lib/python3.11/site-packages/torch/autograd/__init__.py:251: UserWarning: An output \n",
       "with one or more elements was resized since it had shape [1, 431, 1], which does not match the required output \n",
       "shape [1, 431, 32]. This behavior is deprecated, and in a future PyTorch release outputs will not be resized unless\n",
       "they have zero elements. You can explicitly reuse an out tensor t by resizing it, inplace, to zero elements with \n",
       "t.resize_(0). (Triggered internally at \n",
       "/opt/conda/conda-bld/pytorch_1695392035891/work/aten/src/ATen/native/Resize.cpp:28.)\n",
       "  Variable._execution_engine.run_backward(  # Calls into the C++ engine to run the backward pass\n"
      ]
     },
     "metadata": {},
     "output_type": "display_data"
    },
    {
     "data": {
      "text/html": [
       "<pre style=\"white-space:pre;overflow-x:auto;line-height:normal;font-family:Menlo,'DejaVu Sans Mono',consolas,'Courier New',monospace\">/home/zekai/miniconda3/envs/eq/lib/python3.11/site-packages/torch/autograd/__init__.py:251: UserWarning: An output \n",
       "with one or more elements was resized since it had shape [1, 502, 1], which does not match the required output \n",
       "shape [1, 502, 32]. This behavior is deprecated, and in a future PyTorch release outputs will not be resized unless\n",
       "they have zero elements. You can explicitly reuse an out tensor t by resizing it, inplace, to zero elements with \n",
       "t.resize_(0). (Triggered internally at \n",
       "/opt/conda/conda-bld/pytorch_1695392035891/work/aten/src/ATen/native/Resize.cpp:28.)\n",
       "  Variable._execution_engine.run_backward(  # Calls into the C++ engine to run the backward pass\n",
       "</pre>\n"
      ],
      "text/plain": [
       "/home/zekai/miniconda3/envs/eq/lib/python3.11/site-packages/torch/autograd/__init__.py:251: UserWarning: An output \n",
       "with one or more elements was resized since it had shape [1, 502, 1], which does not match the required output \n",
       "shape [1, 502, 32]. This behavior is deprecated, and in a future PyTorch release outputs will not be resized unless\n",
       "they have zero elements. You can explicitly reuse an out tensor t by resizing it, inplace, to zero elements with \n",
       "t.resize_(0). (Triggered internally at \n",
       "/opt/conda/conda-bld/pytorch_1695392035891/work/aten/src/ATen/native/Resize.cpp:28.)\n",
       "  Variable._execution_engine.run_backward(  # Calls into the C++ engine to run the backward pass\n"
      ]
     },
     "metadata": {},
     "output_type": "display_data"
    },
    {
     "data": {
      "text/html": [
       "<pre style=\"white-space:pre;overflow-x:auto;line-height:normal;font-family:Menlo,'DejaVu Sans Mono',consolas,'Courier New',monospace\">/home/zekai/miniconda3/envs/eq/lib/python3.11/site-packages/torch/autograd/__init__.py:251: UserWarning: An output \n",
       "with one or more elements was resized since it had shape [1, 262, 1], which does not match the required output \n",
       "shape [1, 262, 32]. This behavior is deprecated, and in a future PyTorch release outputs will not be resized unless\n",
       "they have zero elements. You can explicitly reuse an out tensor t by resizing it, inplace, to zero elements with \n",
       "t.resize_(0). (Triggered internally at \n",
       "/opt/conda/conda-bld/pytorch_1695392035891/work/aten/src/ATen/native/Resize.cpp:28.)\n",
       "  Variable._execution_engine.run_backward(  # Calls into the C++ engine to run the backward pass\n",
       "</pre>\n"
      ],
      "text/plain": [
       "/home/zekai/miniconda3/envs/eq/lib/python3.11/site-packages/torch/autograd/__init__.py:251: UserWarning: An output \n",
       "with one or more elements was resized since it had shape [1, 262, 1], which does not match the required output \n",
       "shape [1, 262, 32]. This behavior is deprecated, and in a future PyTorch release outputs will not be resized unless\n",
       "they have zero elements. You can explicitly reuse an out tensor t by resizing it, inplace, to zero elements with \n",
       "t.resize_(0). (Triggered internally at \n",
       "/opt/conda/conda-bld/pytorch_1695392035891/work/aten/src/ATen/native/Resize.cpp:28.)\n",
       "  Variable._execution_engine.run_backward(  # Calls into the C++ engine to run the backward pass\n"
      ]
     },
     "metadata": {},
     "output_type": "display_data"
    },
    {
     "data": {
      "text/html": [
       "<pre style=\"white-space:pre;overflow-x:auto;line-height:normal;font-family:Menlo,'DejaVu Sans Mono',consolas,'Courier New',monospace\">/home/zekai/miniconda3/envs/eq/lib/python3.11/site-packages/torch/autograd/__init__.py:251: UserWarning: An output \n",
       "with one or more elements was resized since it had shape [1, 201, 1], which does not match the required output \n",
       "shape [1, 201, 32]. This behavior is deprecated, and in a future PyTorch release outputs will not be resized unless\n",
       "they have zero elements. You can explicitly reuse an out tensor t by resizing it, inplace, to zero elements with \n",
       "t.resize_(0). (Triggered internally at \n",
       "/opt/conda/conda-bld/pytorch_1695392035891/work/aten/src/ATen/native/Resize.cpp:28.)\n",
       "  Variable._execution_engine.run_backward(  # Calls into the C++ engine to run the backward pass\n",
       "</pre>\n"
      ],
      "text/plain": [
       "/home/zekai/miniconda3/envs/eq/lib/python3.11/site-packages/torch/autograd/__init__.py:251: UserWarning: An output \n",
       "with one or more elements was resized since it had shape [1, 201, 1], which does not match the required output \n",
       "shape [1, 201, 32]. This behavior is deprecated, and in a future PyTorch release outputs will not be resized unless\n",
       "they have zero elements. You can explicitly reuse an out tensor t by resizing it, inplace, to zero elements with \n",
       "t.resize_(0). (Triggered internally at \n",
       "/opt/conda/conda-bld/pytorch_1695392035891/work/aten/src/ATen/native/Resize.cpp:28.)\n",
       "  Variable._execution_engine.run_backward(  # Calls into the C++ engine to run the backward pass\n"
      ]
     },
     "metadata": {},
     "output_type": "display_data"
    },
    {
     "data": {
      "text/html": [
       "<pre style=\"white-space:pre;overflow-x:auto;line-height:normal;font-family:Menlo,'DejaVu Sans Mono',consolas,'Courier New',monospace\">/home/zekai/miniconda3/envs/eq/lib/python3.11/site-packages/torch/autograd/__init__.py:251: UserWarning: An output \n",
       "with one or more elements was resized since it had shape [1, 384, 1], which does not match the required output \n",
       "shape [1, 384, 32]. This behavior is deprecated, and in a future PyTorch release outputs will not be resized unless\n",
       "they have zero elements. You can explicitly reuse an out tensor t by resizing it, inplace, to zero elements with \n",
       "t.resize_(0). (Triggered internally at \n",
       "/opt/conda/conda-bld/pytorch_1695392035891/work/aten/src/ATen/native/Resize.cpp:28.)\n",
       "  Variable._execution_engine.run_backward(  # Calls into the C++ engine to run the backward pass\n",
       "</pre>\n"
      ],
      "text/plain": [
       "/home/zekai/miniconda3/envs/eq/lib/python3.11/site-packages/torch/autograd/__init__.py:251: UserWarning: An output \n",
       "with one or more elements was resized since it had shape [1, 384, 1], which does not match the required output \n",
       "shape [1, 384, 32]. This behavior is deprecated, and in a future PyTorch release outputs will not be resized unless\n",
       "they have zero elements. You can explicitly reuse an out tensor t by resizing it, inplace, to zero elements with \n",
       "t.resize_(0). (Triggered internally at \n",
       "/opt/conda/conda-bld/pytorch_1695392035891/work/aten/src/ATen/native/Resize.cpp:28.)\n",
       "  Variable._execution_engine.run_backward(  # Calls into the C++ engine to run the backward pass\n"
      ]
     },
     "metadata": {},
     "output_type": "display_data"
    },
    {
     "data": {
      "text/html": [
       "<pre style=\"white-space:pre;overflow-x:auto;line-height:normal;font-family:Menlo,'DejaVu Sans Mono',consolas,'Courier New',monospace\">/home/zekai/miniconda3/envs/eq/lib/python3.11/site-packages/torch/autograd/__init__.py:251: UserWarning: An output \n",
       "with one or more elements was resized since it had shape [1, 531, 1], which does not match the required output \n",
       "shape [1, 531, 32]. This behavior is deprecated, and in a future PyTorch release outputs will not be resized unless\n",
       "they have zero elements. You can explicitly reuse an out tensor t by resizing it, inplace, to zero elements with \n",
       "t.resize_(0). (Triggered internally at \n",
       "/opt/conda/conda-bld/pytorch_1695392035891/work/aten/src/ATen/native/Resize.cpp:28.)\n",
       "  Variable._execution_engine.run_backward(  # Calls into the C++ engine to run the backward pass\n",
       "</pre>\n"
      ],
      "text/plain": [
       "/home/zekai/miniconda3/envs/eq/lib/python3.11/site-packages/torch/autograd/__init__.py:251: UserWarning: An output \n",
       "with one or more elements was resized since it had shape [1, 531, 1], which does not match the required output \n",
       "shape [1, 531, 32]. This behavior is deprecated, and in a future PyTorch release outputs will not be resized unless\n",
       "they have zero elements. You can explicitly reuse an out tensor t by resizing it, inplace, to zero elements with \n",
       "t.resize_(0). (Triggered internally at \n",
       "/opt/conda/conda-bld/pytorch_1695392035891/work/aten/src/ATen/native/Resize.cpp:28.)\n",
       "  Variable._execution_engine.run_backward(  # Calls into the C++ engine to run the backward pass\n"
      ]
     },
     "metadata": {},
     "output_type": "display_data"
    },
    {
     "data": {
      "text/html": [
       "<pre style=\"white-space:pre;overflow-x:auto;line-height:normal;font-family:Menlo,'DejaVu Sans Mono',consolas,'Courier New',monospace\">/home/zekai/miniconda3/envs/eq/lib/python3.11/site-packages/torch/autograd/__init__.py:251: UserWarning: An output \n",
       "with one or more elements was resized since it had shape [1, 16, 1], which does not match the required output shape\n",
       "[1, 16, 32]. This behavior is deprecated, and in a future PyTorch release outputs will not be resized unless they \n",
       "have zero elements. You can explicitly reuse an out tensor t by resizing it, inplace, to zero elements with \n",
       "t.resize_(0). (Triggered internally at \n",
       "/opt/conda/conda-bld/pytorch_1695392035891/work/aten/src/ATen/native/Resize.cpp:28.)\n",
       "  Variable._execution_engine.run_backward(  # Calls into the C++ engine to run the backward pass\n",
       "</pre>\n"
      ],
      "text/plain": [
       "/home/zekai/miniconda3/envs/eq/lib/python3.11/site-packages/torch/autograd/__init__.py:251: UserWarning: An output \n",
       "with one or more elements was resized since it had shape [1, 16, 1], which does not match the required output shape\n",
       "[1, 16, 32]. This behavior is deprecated, and in a future PyTorch release outputs will not be resized unless they \n",
       "have zero elements. You can explicitly reuse an out tensor t by resizing it, inplace, to zero elements with \n",
       "t.resize_(0). (Triggered internally at \n",
       "/opt/conda/conda-bld/pytorch_1695392035891/work/aten/src/ATen/native/Resize.cpp:28.)\n",
       "  Variable._execution_engine.run_backward(  # Calls into the C++ engine to run the backward pass\n"
      ]
     },
     "metadata": {},
     "output_type": "display_data"
    },
    {
     "data": {
      "text/html": [
       "<pre style=\"white-space:pre;overflow-x:auto;line-height:normal;font-family:Menlo,'DejaVu Sans Mono',consolas,'Courier New',monospace\">/home/zekai/miniconda3/envs/eq/lib/python3.11/site-packages/torch/autograd/__init__.py:251: UserWarning: An output \n",
       "with one or more elements was resized since it had shape [1, 625, 1], which does not match the required output \n",
       "shape [1, 625, 32]. This behavior is deprecated, and in a future PyTorch release outputs will not be resized unless\n",
       "they have zero elements. You can explicitly reuse an out tensor t by resizing it, inplace, to zero elements with \n",
       "t.resize_(0). (Triggered internally at \n",
       "/opt/conda/conda-bld/pytorch_1695392035891/work/aten/src/ATen/native/Resize.cpp:28.)\n",
       "  Variable._execution_engine.run_backward(  # Calls into the C++ engine to run the backward pass\n",
       "</pre>\n"
      ],
      "text/plain": [
       "/home/zekai/miniconda3/envs/eq/lib/python3.11/site-packages/torch/autograd/__init__.py:251: UserWarning: An output \n",
       "with one or more elements was resized since it had shape [1, 625, 1], which does not match the required output \n",
       "shape [1, 625, 32]. This behavior is deprecated, and in a future PyTorch release outputs will not be resized unless\n",
       "they have zero elements. You can explicitly reuse an out tensor t by resizing it, inplace, to zero elements with \n",
       "t.resize_(0). (Triggered internally at \n",
       "/opt/conda/conda-bld/pytorch_1695392035891/work/aten/src/ATen/native/Resize.cpp:28.)\n",
       "  Variable._execution_engine.run_backward(  # Calls into the C++ engine to run the backward pass\n"
      ]
     },
     "metadata": {},
     "output_type": "display_data"
    },
    {
     "data": {
      "text/html": [
       "<pre style=\"white-space:pre;overflow-x:auto;line-height:normal;font-family:Menlo,'DejaVu Sans Mono',consolas,'Courier New',monospace\">/home/zekai/miniconda3/envs/eq/lib/python3.11/site-packages/torch/autograd/__init__.py:251: UserWarning: An output \n",
       "with one or more elements was resized since it had shape [1, 382, 1], which does not match the required output \n",
       "shape [1, 382, 32]. This behavior is deprecated, and in a future PyTorch release outputs will not be resized unless\n",
       "they have zero elements. You can explicitly reuse an out tensor t by resizing it, inplace, to zero elements with \n",
       "t.resize_(0). (Triggered internally at \n",
       "/opt/conda/conda-bld/pytorch_1695392035891/work/aten/src/ATen/native/Resize.cpp:28.)\n",
       "  Variable._execution_engine.run_backward(  # Calls into the C++ engine to run the backward pass\n",
       "</pre>\n"
      ],
      "text/plain": [
       "/home/zekai/miniconda3/envs/eq/lib/python3.11/site-packages/torch/autograd/__init__.py:251: UserWarning: An output \n",
       "with one or more elements was resized since it had shape [1, 382, 1], which does not match the required output \n",
       "shape [1, 382, 32]. This behavior is deprecated, and in a future PyTorch release outputs will not be resized unless\n",
       "they have zero elements. You can explicitly reuse an out tensor t by resizing it, inplace, to zero elements with \n",
       "t.resize_(0). (Triggered internally at \n",
       "/opt/conda/conda-bld/pytorch_1695392035891/work/aten/src/ATen/native/Resize.cpp:28.)\n",
       "  Variable._execution_engine.run_backward(  # Calls into the C++ engine to run the backward pass\n"
      ]
     },
     "metadata": {},
     "output_type": "display_data"
    },
    {
     "data": {
      "text/html": [
       "<pre style=\"white-space:pre;overflow-x:auto;line-height:normal;font-family:Menlo,'DejaVu Sans Mono',consolas,'Courier New',monospace\">/home/zekai/miniconda3/envs/eq/lib/python3.11/site-packages/torch/autograd/__init__.py:251: UserWarning: An output \n",
       "with one or more elements was resized since it had shape [1, 412, 1], which does not match the required output \n",
       "shape [1, 412, 32]. This behavior is deprecated, and in a future PyTorch release outputs will not be resized unless\n",
       "they have zero elements. You can explicitly reuse an out tensor t by resizing it, inplace, to zero elements with \n",
       "t.resize_(0). (Triggered internally at \n",
       "/opt/conda/conda-bld/pytorch_1695392035891/work/aten/src/ATen/native/Resize.cpp:28.)\n",
       "  Variable._execution_engine.run_backward(  # Calls into the C++ engine to run the backward pass\n",
       "</pre>\n"
      ],
      "text/plain": [
       "/home/zekai/miniconda3/envs/eq/lib/python3.11/site-packages/torch/autograd/__init__.py:251: UserWarning: An output \n",
       "with one or more elements was resized since it had shape [1, 412, 1], which does not match the required output \n",
       "shape [1, 412, 32]. This behavior is deprecated, and in a future PyTorch release outputs will not be resized unless\n",
       "they have zero elements. You can explicitly reuse an out tensor t by resizing it, inplace, to zero elements with \n",
       "t.resize_(0). (Triggered internally at \n",
       "/opt/conda/conda-bld/pytorch_1695392035891/work/aten/src/ATen/native/Resize.cpp:28.)\n",
       "  Variable._execution_engine.run_backward(  # Calls into the C++ engine to run the backward pass\n"
      ]
     },
     "metadata": {},
     "output_type": "display_data"
    },
    {
     "data": {
      "text/html": [
       "<pre style=\"white-space:pre;overflow-x:auto;line-height:normal;font-family:Menlo,'DejaVu Sans Mono',consolas,'Courier New',monospace\">/home/zekai/miniconda3/envs/eq/lib/python3.11/site-packages/torch/autograd/__init__.py:251: UserWarning: An output \n",
       "with one or more elements was resized since it had shape [1, 69, 1], which does not match the required output shape\n",
       "[1, 69, 32]. This behavior is deprecated, and in a future PyTorch release outputs will not be resized unless they \n",
       "have zero elements. You can explicitly reuse an out tensor t by resizing it, inplace, to zero elements with \n",
       "t.resize_(0). (Triggered internally at \n",
       "/opt/conda/conda-bld/pytorch_1695392035891/work/aten/src/ATen/native/Resize.cpp:28.)\n",
       "  Variable._execution_engine.run_backward(  # Calls into the C++ engine to run the backward pass\n",
       "</pre>\n"
      ],
      "text/plain": [
       "/home/zekai/miniconda3/envs/eq/lib/python3.11/site-packages/torch/autograd/__init__.py:251: UserWarning: An output \n",
       "with one or more elements was resized since it had shape [1, 69, 1], which does not match the required output shape\n",
       "[1, 69, 32]. This behavior is deprecated, and in a future PyTorch release outputs will not be resized unless they \n",
       "have zero elements. You can explicitly reuse an out tensor t by resizing it, inplace, to zero elements with \n",
       "t.resize_(0). (Triggered internally at \n",
       "/opt/conda/conda-bld/pytorch_1695392035891/work/aten/src/ATen/native/Resize.cpp:28.)\n",
       "  Variable._execution_engine.run_backward(  # Calls into the C++ engine to run the backward pass\n"
      ]
     },
     "metadata": {},
     "output_type": "display_data"
    },
    {
     "data": {
      "text/html": [
       "<pre style=\"white-space:pre;overflow-x:auto;line-height:normal;font-family:Menlo,'DejaVu Sans Mono',consolas,'Courier New',monospace\">/home/zekai/miniconda3/envs/eq/lib/python3.11/site-packages/torch/autograd/__init__.py:251: UserWarning: An output \n",
       "with one or more elements was resized since it had shape [1, 550, 1], which does not match the required output \n",
       "shape [1, 550, 32]. This behavior is deprecated, and in a future PyTorch release outputs will not be resized unless\n",
       "they have zero elements. You can explicitly reuse an out tensor t by resizing it, inplace, to zero elements with \n",
       "t.resize_(0). (Triggered internally at \n",
       "/opt/conda/conda-bld/pytorch_1695392035891/work/aten/src/ATen/native/Resize.cpp:28.)\n",
       "  Variable._execution_engine.run_backward(  # Calls into the C++ engine to run the backward pass\n",
       "</pre>\n"
      ],
      "text/plain": [
       "/home/zekai/miniconda3/envs/eq/lib/python3.11/site-packages/torch/autograd/__init__.py:251: UserWarning: An output \n",
       "with one or more elements was resized since it had shape [1, 550, 1], which does not match the required output \n",
       "shape [1, 550, 32]. This behavior is deprecated, and in a future PyTorch release outputs will not be resized unless\n",
       "they have zero elements. You can explicitly reuse an out tensor t by resizing it, inplace, to zero elements with \n",
       "t.resize_(0). (Triggered internally at \n",
       "/opt/conda/conda-bld/pytorch_1695392035891/work/aten/src/ATen/native/Resize.cpp:28.)\n",
       "  Variable._execution_engine.run_backward(  # Calls into the C++ engine to run the backward pass\n"
      ]
     },
     "metadata": {},
     "output_type": "display_data"
    },
    {
     "data": {
      "text/html": [
       "<pre style=\"white-space:pre;overflow-x:auto;line-height:normal;font-family:Menlo,'DejaVu Sans Mono',consolas,'Courier New',monospace\">/home/zekai/miniconda3/envs/eq/lib/python3.11/site-packages/torch/autograd/__init__.py:251: UserWarning: An output \n",
       "with one or more elements was resized since it had shape [1, 380, 1], which does not match the required output \n",
       "shape [1, 380, 32]. This behavior is deprecated, and in a future PyTorch release outputs will not be resized unless\n",
       "they have zero elements. You can explicitly reuse an out tensor t by resizing it, inplace, to zero elements with \n",
       "t.resize_(0). (Triggered internally at \n",
       "/opt/conda/conda-bld/pytorch_1695392035891/work/aten/src/ATen/native/Resize.cpp:28.)\n",
       "  Variable._execution_engine.run_backward(  # Calls into the C++ engine to run the backward pass\n",
       "</pre>\n"
      ],
      "text/plain": [
       "/home/zekai/miniconda3/envs/eq/lib/python3.11/site-packages/torch/autograd/__init__.py:251: UserWarning: An output \n",
       "with one or more elements was resized since it had shape [1, 380, 1], which does not match the required output \n",
       "shape [1, 380, 32]. This behavior is deprecated, and in a future PyTorch release outputs will not be resized unless\n",
       "they have zero elements. You can explicitly reuse an out tensor t by resizing it, inplace, to zero elements with \n",
       "t.resize_(0). (Triggered internally at \n",
       "/opt/conda/conda-bld/pytorch_1695392035891/work/aten/src/ATen/native/Resize.cpp:28.)\n",
       "  Variable._execution_engine.run_backward(  # Calls into the C++ engine to run the backward pass\n"
      ]
     },
     "metadata": {},
     "output_type": "display_data"
    },
    {
     "data": {
      "text/html": [
       "<pre style=\"white-space:pre;overflow-x:auto;line-height:normal;font-family:Menlo,'DejaVu Sans Mono',consolas,'Courier New',monospace\">/home/zekai/miniconda3/envs/eq/lib/python3.11/site-packages/torch/autograd/__init__.py:251: UserWarning: An output \n",
       "with one or more elements was resized since it had shape [1, 309, 1], which does not match the required output \n",
       "shape [1, 309, 32]. This behavior is deprecated, and in a future PyTorch release outputs will not be resized unless\n",
       "they have zero elements. You can explicitly reuse an out tensor t by resizing it, inplace, to zero elements with \n",
       "t.resize_(0). (Triggered internally at \n",
       "/opt/conda/conda-bld/pytorch_1695392035891/work/aten/src/ATen/native/Resize.cpp:28.)\n",
       "  Variable._execution_engine.run_backward(  # Calls into the C++ engine to run the backward pass\n",
       "</pre>\n"
      ],
      "text/plain": [
       "/home/zekai/miniconda3/envs/eq/lib/python3.11/site-packages/torch/autograd/__init__.py:251: UserWarning: An output \n",
       "with one or more elements was resized since it had shape [1, 309, 1], which does not match the required output \n",
       "shape [1, 309, 32]. This behavior is deprecated, and in a future PyTorch release outputs will not be resized unless\n",
       "they have zero elements. You can explicitly reuse an out tensor t by resizing it, inplace, to zero elements with \n",
       "t.resize_(0). (Triggered internally at \n",
       "/opt/conda/conda-bld/pytorch_1695392035891/work/aten/src/ATen/native/Resize.cpp:28.)\n",
       "  Variable._execution_engine.run_backward(  # Calls into the C++ engine to run the backward pass\n"
      ]
     },
     "metadata": {},
     "output_type": "display_data"
    },
    {
     "data": {
      "text/html": [
       "<pre style=\"white-space:pre;overflow-x:auto;line-height:normal;font-family:Menlo,'DejaVu Sans Mono',consolas,'Courier New',monospace\">/home/zekai/miniconda3/envs/eq/lib/python3.11/site-packages/torch/autograd/__init__.py:251: UserWarning: An output \n",
       "with one or more elements was resized since it had shape [1, 342, 1], which does not match the required output \n",
       "shape [1, 342, 32]. This behavior is deprecated, and in a future PyTorch release outputs will not be resized unless\n",
       "they have zero elements. You can explicitly reuse an out tensor t by resizing it, inplace, to zero elements with \n",
       "t.resize_(0). (Triggered internally at \n",
       "/opt/conda/conda-bld/pytorch_1695392035891/work/aten/src/ATen/native/Resize.cpp:28.)\n",
       "  Variable._execution_engine.run_backward(  # Calls into the C++ engine to run the backward pass\n",
       "</pre>\n"
      ],
      "text/plain": [
       "/home/zekai/miniconda3/envs/eq/lib/python3.11/site-packages/torch/autograd/__init__.py:251: UserWarning: An output \n",
       "with one or more elements was resized since it had shape [1, 342, 1], which does not match the required output \n",
       "shape [1, 342, 32]. This behavior is deprecated, and in a future PyTorch release outputs will not be resized unless\n",
       "they have zero elements. You can explicitly reuse an out tensor t by resizing it, inplace, to zero elements with \n",
       "t.resize_(0). (Triggered internally at \n",
       "/opt/conda/conda-bld/pytorch_1695392035891/work/aten/src/ATen/native/Resize.cpp:28.)\n",
       "  Variable._execution_engine.run_backward(  # Calls into the C++ engine to run the backward pass\n"
      ]
     },
     "metadata": {},
     "output_type": "display_data"
    },
    {
     "data": {
      "text/html": [
       "<pre style=\"white-space:pre;overflow-x:auto;line-height:normal;font-family:Menlo,'DejaVu Sans Mono',consolas,'Courier New',monospace\">/home/zekai/miniconda3/envs/eq/lib/python3.11/site-packages/torch/autograd/__init__.py:251: UserWarning: An output \n",
       "with one or more elements was resized since it had shape [1, 462, 1], which does not match the required output \n",
       "shape [1, 462, 32]. This behavior is deprecated, and in a future PyTorch release outputs will not be resized unless\n",
       "they have zero elements. You can explicitly reuse an out tensor t by resizing it, inplace, to zero elements with \n",
       "t.resize_(0). (Triggered internally at \n",
       "/opt/conda/conda-bld/pytorch_1695392035891/work/aten/src/ATen/native/Resize.cpp:28.)\n",
       "  Variable._execution_engine.run_backward(  # Calls into the C++ engine to run the backward pass\n",
       "</pre>\n"
      ],
      "text/plain": [
       "/home/zekai/miniconda3/envs/eq/lib/python3.11/site-packages/torch/autograd/__init__.py:251: UserWarning: An output \n",
       "with one or more elements was resized since it had shape [1, 462, 1], which does not match the required output \n",
       "shape [1, 462, 32]. This behavior is deprecated, and in a future PyTorch release outputs will not be resized unless\n",
       "they have zero elements. You can explicitly reuse an out tensor t by resizing it, inplace, to zero elements with \n",
       "t.resize_(0). (Triggered internally at \n",
       "/opt/conda/conda-bld/pytorch_1695392035891/work/aten/src/ATen/native/Resize.cpp:28.)\n",
       "  Variable._execution_engine.run_backward(  # Calls into the C++ engine to run the backward pass\n"
      ]
     },
     "metadata": {},
     "output_type": "display_data"
    },
    {
     "data": {
      "text/html": [
       "<pre style=\"white-space:pre;overflow-x:auto;line-height:normal;font-family:Menlo,'DejaVu Sans Mono',consolas,'Courier New',monospace\">/home/zekai/miniconda3/envs/eq/lib/python3.11/site-packages/torch/autograd/__init__.py:251: UserWarning: An output \n",
       "with one or more elements was resized since it had shape [1, 78, 1], which does not match the required output shape\n",
       "[1, 78, 32]. This behavior is deprecated, and in a future PyTorch release outputs will not be resized unless they \n",
       "have zero elements. You can explicitly reuse an out tensor t by resizing it, inplace, to zero elements with \n",
       "t.resize_(0). (Triggered internally at \n",
       "/opt/conda/conda-bld/pytorch_1695392035891/work/aten/src/ATen/native/Resize.cpp:28.)\n",
       "  Variable._execution_engine.run_backward(  # Calls into the C++ engine to run the backward pass\n",
       "</pre>\n"
      ],
      "text/plain": [
       "/home/zekai/miniconda3/envs/eq/lib/python3.11/site-packages/torch/autograd/__init__.py:251: UserWarning: An output \n",
       "with one or more elements was resized since it had shape [1, 78, 1], which does not match the required output shape\n",
       "[1, 78, 32]. This behavior is deprecated, and in a future PyTorch release outputs will not be resized unless they \n",
       "have zero elements. You can explicitly reuse an out tensor t by resizing it, inplace, to zero elements with \n",
       "t.resize_(0). (Triggered internally at \n",
       "/opt/conda/conda-bld/pytorch_1695392035891/work/aten/src/ATen/native/Resize.cpp:28.)\n",
       "  Variable._execution_engine.run_backward(  # Calls into the C++ engine to run the backward pass\n"
      ]
     },
     "metadata": {},
     "output_type": "display_data"
    },
    {
     "data": {
      "text/html": [
       "<pre style=\"white-space:pre;overflow-x:auto;line-height:normal;font-family:Menlo,'DejaVu Sans Mono',consolas,'Courier New',monospace\">/home/zekai/miniconda3/envs/eq/lib/python3.11/site-packages/torch/autograd/__init__.py:251: UserWarning: An output \n",
       "with one or more elements was resized since it had shape [1, 86, 1], which does not match the required output shape\n",
       "[1, 86, 32]. This behavior is deprecated, and in a future PyTorch release outputs will not be resized unless they \n",
       "have zero elements. You can explicitly reuse an out tensor t by resizing it, inplace, to zero elements with \n",
       "t.resize_(0). (Triggered internally at \n",
       "/opt/conda/conda-bld/pytorch_1695392035891/work/aten/src/ATen/native/Resize.cpp:28.)\n",
       "  Variable._execution_engine.run_backward(  # Calls into the C++ engine to run the backward pass\n",
       "</pre>\n"
      ],
      "text/plain": [
       "/home/zekai/miniconda3/envs/eq/lib/python3.11/site-packages/torch/autograd/__init__.py:251: UserWarning: An output \n",
       "with one or more elements was resized since it had shape [1, 86, 1], which does not match the required output shape\n",
       "[1, 86, 32]. This behavior is deprecated, and in a future PyTorch release outputs will not be resized unless they \n",
       "have zero elements. You can explicitly reuse an out tensor t by resizing it, inplace, to zero elements with \n",
       "t.resize_(0). (Triggered internally at \n",
       "/opt/conda/conda-bld/pytorch_1695392035891/work/aten/src/ATen/native/Resize.cpp:28.)\n",
       "  Variable._execution_engine.run_backward(  # Calls into the C++ engine to run the backward pass\n"
      ]
     },
     "metadata": {},
     "output_type": "display_data"
    },
    {
     "data": {
      "text/html": [
       "<pre style=\"white-space:pre;overflow-x:auto;line-height:normal;font-family:Menlo,'DejaVu Sans Mono',consolas,'Courier New',monospace\">/home/zekai/miniconda3/envs/eq/lib/python3.11/site-packages/torch/autograd/__init__.py:251: UserWarning: An output \n",
       "with one or more elements was resized since it had shape [1, 95, 1], which does not match the required output shape\n",
       "[1, 95, 32]. This behavior is deprecated, and in a future PyTorch release outputs will not be resized unless they \n",
       "have zero elements. You can explicitly reuse an out tensor t by resizing it, inplace, to zero elements with \n",
       "t.resize_(0). (Triggered internally at \n",
       "/opt/conda/conda-bld/pytorch_1695392035891/work/aten/src/ATen/native/Resize.cpp:28.)\n",
       "  Variable._execution_engine.run_backward(  # Calls into the C++ engine to run the backward pass\n",
       "</pre>\n"
      ],
      "text/plain": [
       "/home/zekai/miniconda3/envs/eq/lib/python3.11/site-packages/torch/autograd/__init__.py:251: UserWarning: An output \n",
       "with one or more elements was resized since it had shape [1, 95, 1], which does not match the required output shape\n",
       "[1, 95, 32]. This behavior is deprecated, and in a future PyTorch release outputs will not be resized unless they \n",
       "have zero elements. You can explicitly reuse an out tensor t by resizing it, inplace, to zero elements with \n",
       "t.resize_(0). (Triggered internally at \n",
       "/opt/conda/conda-bld/pytorch_1695392035891/work/aten/src/ATen/native/Resize.cpp:28.)\n",
       "  Variable._execution_engine.run_backward(  # Calls into the C++ engine to run the backward pass\n"
      ]
     },
     "metadata": {},
     "output_type": "display_data"
    },
    {
     "data": {
      "text/html": [
       "<pre style=\"white-space:pre;overflow-x:auto;line-height:normal;font-family:Menlo,'DejaVu Sans Mono',consolas,'Courier New',monospace\">/home/zekai/miniconda3/envs/eq/lib/python3.11/site-packages/torch/autograd/__init__.py:251: UserWarning: An output \n",
       "with one or more elements was resized since it had shape [1, 230, 1], which does not match the required output \n",
       "shape [1, 230, 32]. This behavior is deprecated, and in a future PyTorch release outputs will not be resized unless\n",
       "they have zero elements. You can explicitly reuse an out tensor t by resizing it, inplace, to zero elements with \n",
       "t.resize_(0). (Triggered internally at \n",
       "/opt/conda/conda-bld/pytorch_1695392035891/work/aten/src/ATen/native/Resize.cpp:28.)\n",
       "  Variable._execution_engine.run_backward(  # Calls into the C++ engine to run the backward pass\n",
       "</pre>\n"
      ],
      "text/plain": [
       "/home/zekai/miniconda3/envs/eq/lib/python3.11/site-packages/torch/autograd/__init__.py:251: UserWarning: An output \n",
       "with one or more elements was resized since it had shape [1, 230, 1], which does not match the required output \n",
       "shape [1, 230, 32]. This behavior is deprecated, and in a future PyTorch release outputs will not be resized unless\n",
       "they have zero elements. You can explicitly reuse an out tensor t by resizing it, inplace, to zero elements with \n",
       "t.resize_(0). (Triggered internally at \n",
       "/opt/conda/conda-bld/pytorch_1695392035891/work/aten/src/ATen/native/Resize.cpp:28.)\n",
       "  Variable._execution_engine.run_backward(  # Calls into the C++ engine to run the backward pass\n"
      ]
     },
     "metadata": {},
     "output_type": "display_data"
    },
    {
     "data": {
      "text/html": [
       "<pre style=\"white-space:pre;overflow-x:auto;line-height:normal;font-family:Menlo,'DejaVu Sans Mono',consolas,'Courier New',monospace\">/home/zekai/miniconda3/envs/eq/lib/python3.11/site-packages/torch/autograd/__init__.py:251: UserWarning: An output \n",
       "with one or more elements was resized since it had shape [1, 176, 1], which does not match the required output \n",
       "shape [1, 176, 32]. This behavior is deprecated, and in a future PyTorch release outputs will not be resized unless\n",
       "they have zero elements. You can explicitly reuse an out tensor t by resizing it, inplace, to zero elements with \n",
       "t.resize_(0). (Triggered internally at \n",
       "/opt/conda/conda-bld/pytorch_1695392035891/work/aten/src/ATen/native/Resize.cpp:28.)\n",
       "  Variable._execution_engine.run_backward(  # Calls into the C++ engine to run the backward pass\n",
       "</pre>\n"
      ],
      "text/plain": [
       "/home/zekai/miniconda3/envs/eq/lib/python3.11/site-packages/torch/autograd/__init__.py:251: UserWarning: An output \n",
       "with one or more elements was resized since it had shape [1, 176, 1], which does not match the required output \n",
       "shape [1, 176, 32]. This behavior is deprecated, and in a future PyTorch release outputs will not be resized unless\n",
       "they have zero elements. You can explicitly reuse an out tensor t by resizing it, inplace, to zero elements with \n",
       "t.resize_(0). (Triggered internally at \n",
       "/opt/conda/conda-bld/pytorch_1695392035891/work/aten/src/ATen/native/Resize.cpp:28.)\n",
       "  Variable._execution_engine.run_backward(  # Calls into the C++ engine to run the backward pass\n"
      ]
     },
     "metadata": {},
     "output_type": "display_data"
    },
    {
     "data": {
      "text/html": [
       "<pre style=\"white-space:pre;overflow-x:auto;line-height:normal;font-family:Menlo,'DejaVu Sans Mono',consolas,'Courier New',monospace\">/home/zekai/miniconda3/envs/eq/lib/python3.11/site-packages/torch/autograd/__init__.py:251: UserWarning: An output \n",
       "with one or more elements was resized since it had shape [1, 457, 1], which does not match the required output \n",
       "shape [1, 457, 32]. This behavior is deprecated, and in a future PyTorch release outputs will not be resized unless\n",
       "they have zero elements. You can explicitly reuse an out tensor t by resizing it, inplace, to zero elements with \n",
       "t.resize_(0). (Triggered internally at \n",
       "/opt/conda/conda-bld/pytorch_1695392035891/work/aten/src/ATen/native/Resize.cpp:28.)\n",
       "  Variable._execution_engine.run_backward(  # Calls into the C++ engine to run the backward pass\n",
       "</pre>\n"
      ],
      "text/plain": [
       "/home/zekai/miniconda3/envs/eq/lib/python3.11/site-packages/torch/autograd/__init__.py:251: UserWarning: An output \n",
       "with one or more elements was resized since it had shape [1, 457, 1], which does not match the required output \n",
       "shape [1, 457, 32]. This behavior is deprecated, and in a future PyTorch release outputs will not be resized unless\n",
       "they have zero elements. You can explicitly reuse an out tensor t by resizing it, inplace, to zero elements with \n",
       "t.resize_(0). (Triggered internally at \n",
       "/opt/conda/conda-bld/pytorch_1695392035891/work/aten/src/ATen/native/Resize.cpp:28.)\n",
       "  Variable._execution_engine.run_backward(  # Calls into the C++ engine to run the backward pass\n"
      ]
     },
     "metadata": {},
     "output_type": "display_data"
    },
    {
     "data": {
      "text/html": [
       "<pre style=\"white-space:pre;overflow-x:auto;line-height:normal;font-family:Menlo,'DejaVu Sans Mono',consolas,'Courier New',monospace\">/home/zekai/miniconda3/envs/eq/lib/python3.11/site-packages/torch/autograd/__init__.py:251: UserWarning: An output \n",
       "with one or more elements was resized since it had shape [1, 107, 1], which does not match the required output \n",
       "shape [1, 107, 32]. This behavior is deprecated, and in a future PyTorch release outputs will not be resized unless\n",
       "they have zero elements. You can explicitly reuse an out tensor t by resizing it, inplace, to zero elements with \n",
       "t.resize_(0). (Triggered internally at \n",
       "/opt/conda/conda-bld/pytorch_1695392035891/work/aten/src/ATen/native/Resize.cpp:28.)\n",
       "  Variable._execution_engine.run_backward(  # Calls into the C++ engine to run the backward pass\n",
       "</pre>\n"
      ],
      "text/plain": [
       "/home/zekai/miniconda3/envs/eq/lib/python3.11/site-packages/torch/autograd/__init__.py:251: UserWarning: An output \n",
       "with one or more elements was resized since it had shape [1, 107, 1], which does not match the required output \n",
       "shape [1, 107, 32]. This behavior is deprecated, and in a future PyTorch release outputs will not be resized unless\n",
       "they have zero elements. You can explicitly reuse an out tensor t by resizing it, inplace, to zero elements with \n",
       "t.resize_(0). (Triggered internally at \n",
       "/opt/conda/conda-bld/pytorch_1695392035891/work/aten/src/ATen/native/Resize.cpp:28.)\n",
       "  Variable._execution_engine.run_backward(  # Calls into the C++ engine to run the backward pass\n"
      ]
     },
     "metadata": {},
     "output_type": "display_data"
    },
    {
     "data": {
      "text/html": [
       "<pre style=\"white-space:pre;overflow-x:auto;line-height:normal;font-family:Menlo,'DejaVu Sans Mono',consolas,'Courier New',monospace\">/home/zekai/miniconda3/envs/eq/lib/python3.11/site-packages/torch/autograd/__init__.py:251: UserWarning: An output \n",
       "with one or more elements was resized since it had shape [1, 44, 1], which does not match the required output shape\n",
       "[1, 44, 32]. This behavior is deprecated, and in a future PyTorch release outputs will not be resized unless they \n",
       "have zero elements. You can explicitly reuse an out tensor t by resizing it, inplace, to zero elements with \n",
       "t.resize_(0). (Triggered internally at \n",
       "/opt/conda/conda-bld/pytorch_1695392035891/work/aten/src/ATen/native/Resize.cpp:28.)\n",
       "  Variable._execution_engine.run_backward(  # Calls into the C++ engine to run the backward pass\n",
       "</pre>\n"
      ],
      "text/plain": [
       "/home/zekai/miniconda3/envs/eq/lib/python3.11/site-packages/torch/autograd/__init__.py:251: UserWarning: An output \n",
       "with one or more elements was resized since it had shape [1, 44, 1], which does not match the required output shape\n",
       "[1, 44, 32]. This behavior is deprecated, and in a future PyTorch release outputs will not be resized unless they \n",
       "have zero elements. You can explicitly reuse an out tensor t by resizing it, inplace, to zero elements with \n",
       "t.resize_(0). (Triggered internally at \n",
       "/opt/conda/conda-bld/pytorch_1695392035891/work/aten/src/ATen/native/Resize.cpp:28.)\n",
       "  Variable._execution_engine.run_backward(  # Calls into the C++ engine to run the backward pass\n"
      ]
     },
     "metadata": {},
     "output_type": "display_data"
    },
    {
     "data": {
      "text/html": [
       "<pre style=\"white-space:pre;overflow-x:auto;line-height:normal;font-family:Menlo,'DejaVu Sans Mono',consolas,'Courier New',monospace\">/home/zekai/miniconda3/envs/eq/lib/python3.11/site-packages/torch/autograd/__init__.py:251: UserWarning: An output \n",
       "with one or more elements was resized since it had shape [1, 131, 1], which does not match the required output \n",
       "shape [1, 131, 32]. This behavior is deprecated, and in a future PyTorch release outputs will not be resized unless\n",
       "they have zero elements. You can explicitly reuse an out tensor t by resizing it, inplace, to zero elements with \n",
       "t.resize_(0). (Triggered internally at \n",
       "/opt/conda/conda-bld/pytorch_1695392035891/work/aten/src/ATen/native/Resize.cpp:28.)\n",
       "  Variable._execution_engine.run_backward(  # Calls into the C++ engine to run the backward pass\n",
       "</pre>\n"
      ],
      "text/plain": [
       "/home/zekai/miniconda3/envs/eq/lib/python3.11/site-packages/torch/autograd/__init__.py:251: UserWarning: An output \n",
       "with one or more elements was resized since it had shape [1, 131, 1], which does not match the required output \n",
       "shape [1, 131, 32]. This behavior is deprecated, and in a future PyTorch release outputs will not be resized unless\n",
       "they have zero elements. You can explicitly reuse an out tensor t by resizing it, inplace, to zero elements with \n",
       "t.resize_(0). (Triggered internally at \n",
       "/opt/conda/conda-bld/pytorch_1695392035891/work/aten/src/ATen/native/Resize.cpp:28.)\n",
       "  Variable._execution_engine.run_backward(  # Calls into the C++ engine to run the backward pass\n"
      ]
     },
     "metadata": {},
     "output_type": "display_data"
    },
    {
     "data": {
      "text/html": [
       "<pre style=\"white-space:pre;overflow-x:auto;line-height:normal;font-family:Menlo,'DejaVu Sans Mono',consolas,'Courier New',monospace\">/home/zekai/miniconda3/envs/eq/lib/python3.11/site-packages/torch/autograd/__init__.py:251: UserWarning: An output \n",
       "with one or more elements was resized since it had shape [1, 133, 1], which does not match the required output \n",
       "shape [1, 133, 32]. This behavior is deprecated, and in a future PyTorch release outputs will not be resized unless\n",
       "they have zero elements. You can explicitly reuse an out tensor t by resizing it, inplace, to zero elements with \n",
       "t.resize_(0). (Triggered internally at \n",
       "/opt/conda/conda-bld/pytorch_1695392035891/work/aten/src/ATen/native/Resize.cpp:28.)\n",
       "  Variable._execution_engine.run_backward(  # Calls into the C++ engine to run the backward pass\n",
       "</pre>\n"
      ],
      "text/plain": [
       "/home/zekai/miniconda3/envs/eq/lib/python3.11/site-packages/torch/autograd/__init__.py:251: UserWarning: An output \n",
       "with one or more elements was resized since it had shape [1, 133, 1], which does not match the required output \n",
       "shape [1, 133, 32]. This behavior is deprecated, and in a future PyTorch release outputs will not be resized unless\n",
       "they have zero elements. You can explicitly reuse an out tensor t by resizing it, inplace, to zero elements with \n",
       "t.resize_(0). (Triggered internally at \n",
       "/opt/conda/conda-bld/pytorch_1695392035891/work/aten/src/ATen/native/Resize.cpp:28.)\n",
       "  Variable._execution_engine.run_backward(  # Calls into the C++ engine to run the backward pass\n"
      ]
     },
     "metadata": {},
     "output_type": "display_data"
    },
    {
     "data": {
      "text/html": [
       "<pre style=\"white-space:pre;overflow-x:auto;line-height:normal;font-family:Menlo,'DejaVu Sans Mono',consolas,'Courier New',monospace\">/home/zekai/miniconda3/envs/eq/lib/python3.11/site-packages/torch/autograd/__init__.py:251: UserWarning: An output \n",
       "with one or more elements was resized since it had shape [1, 85, 1], which does not match the required output shape\n",
       "[1, 85, 32]. This behavior is deprecated, and in a future PyTorch release outputs will not be resized unless they \n",
       "have zero elements. You can explicitly reuse an out tensor t by resizing it, inplace, to zero elements with \n",
       "t.resize_(0). (Triggered internally at \n",
       "/opt/conda/conda-bld/pytorch_1695392035891/work/aten/src/ATen/native/Resize.cpp:28.)\n",
       "  Variable._execution_engine.run_backward(  # Calls into the C++ engine to run the backward pass\n",
       "</pre>\n"
      ],
      "text/plain": [
       "/home/zekai/miniconda3/envs/eq/lib/python3.11/site-packages/torch/autograd/__init__.py:251: UserWarning: An output \n",
       "with one or more elements was resized since it had shape [1, 85, 1], which does not match the required output shape\n",
       "[1, 85, 32]. This behavior is deprecated, and in a future PyTorch release outputs will not be resized unless they \n",
       "have zero elements. You can explicitly reuse an out tensor t by resizing it, inplace, to zero elements with \n",
       "t.resize_(0). (Triggered internally at \n",
       "/opt/conda/conda-bld/pytorch_1695392035891/work/aten/src/ATen/native/Resize.cpp:28.)\n",
       "  Variable._execution_engine.run_backward(  # Calls into the C++ engine to run the backward pass\n"
      ]
     },
     "metadata": {},
     "output_type": "display_data"
    },
    {
     "data": {
      "text/html": [
       "<pre style=\"white-space:pre;overflow-x:auto;line-height:normal;font-family:Menlo,'DejaVu Sans Mono',consolas,'Courier New',monospace\">/home/zekai/miniconda3/envs/eq/lib/python3.11/site-packages/torch/autograd/__init__.py:251: UserWarning: An output \n",
       "with one or more elements was resized since it had shape [1, 556, 1], which does not match the required output \n",
       "shape [1, 556, 32]. This behavior is deprecated, and in a future PyTorch release outputs will not be resized unless\n",
       "they have zero elements. You can explicitly reuse an out tensor t by resizing it, inplace, to zero elements with \n",
       "t.resize_(0). (Triggered internally at \n",
       "/opt/conda/conda-bld/pytorch_1695392035891/work/aten/src/ATen/native/Resize.cpp:28.)\n",
       "  Variable._execution_engine.run_backward(  # Calls into the C++ engine to run the backward pass\n",
       "</pre>\n"
      ],
      "text/plain": [
       "/home/zekai/miniconda3/envs/eq/lib/python3.11/site-packages/torch/autograd/__init__.py:251: UserWarning: An output \n",
       "with one or more elements was resized since it had shape [1, 556, 1], which does not match the required output \n",
       "shape [1, 556, 32]. This behavior is deprecated, and in a future PyTorch release outputs will not be resized unless\n",
       "they have zero elements. You can explicitly reuse an out tensor t by resizing it, inplace, to zero elements with \n",
       "t.resize_(0). (Triggered internally at \n",
       "/opt/conda/conda-bld/pytorch_1695392035891/work/aten/src/ATen/native/Resize.cpp:28.)\n",
       "  Variable._execution_engine.run_backward(  # Calls into the C++ engine to run the backward pass\n"
      ]
     },
     "metadata": {},
     "output_type": "display_data"
    },
    {
     "data": {
      "text/html": [
       "<pre style=\"white-space:pre;overflow-x:auto;line-height:normal;font-family:Menlo,'DejaVu Sans Mono',consolas,'Courier New',monospace\">/home/zekai/miniconda3/envs/eq/lib/python3.11/site-packages/torch/autograd/__init__.py:251: UserWarning: An output \n",
       "with one or more elements was resized since it had shape [1, 318, 1], which does not match the required output \n",
       "shape [1, 318, 32]. This behavior is deprecated, and in a future PyTorch release outputs will not be resized unless\n",
       "they have zero elements. You can explicitly reuse an out tensor t by resizing it, inplace, to zero elements with \n",
       "t.resize_(0). (Triggered internally at \n",
       "/opt/conda/conda-bld/pytorch_1695392035891/work/aten/src/ATen/native/Resize.cpp:28.)\n",
       "  Variable._execution_engine.run_backward(  # Calls into the C++ engine to run the backward pass\n",
       "</pre>\n"
      ],
      "text/plain": [
       "/home/zekai/miniconda3/envs/eq/lib/python3.11/site-packages/torch/autograd/__init__.py:251: UserWarning: An output \n",
       "with one or more elements was resized since it had shape [1, 318, 1], which does not match the required output \n",
       "shape [1, 318, 32]. This behavior is deprecated, and in a future PyTorch release outputs will not be resized unless\n",
       "they have zero elements. You can explicitly reuse an out tensor t by resizing it, inplace, to zero elements with \n",
       "t.resize_(0). (Triggered internally at \n",
       "/opt/conda/conda-bld/pytorch_1695392035891/work/aten/src/ATen/native/Resize.cpp:28.)\n",
       "  Variable._execution_engine.run_backward(  # Calls into the C++ engine to run the backward pass\n"
      ]
     },
     "metadata": {},
     "output_type": "display_data"
    },
    {
     "data": {
      "text/html": [
       "<pre style=\"white-space:pre;overflow-x:auto;line-height:normal;font-family:Menlo,'DejaVu Sans Mono',consolas,'Courier New',monospace\">/home/zekai/miniconda3/envs/eq/lib/python3.11/site-packages/torch/autograd/__init__.py:251: UserWarning: An output \n",
       "with one or more elements was resized since it had shape [1, 387, 1], which does not match the required output \n",
       "shape [1, 387, 32]. This behavior is deprecated, and in a future PyTorch release outputs will not be resized unless\n",
       "they have zero elements. You can explicitly reuse an out tensor t by resizing it, inplace, to zero elements with \n",
       "t.resize_(0). (Triggered internally at \n",
       "/opt/conda/conda-bld/pytorch_1695392035891/work/aten/src/ATen/native/Resize.cpp:28.)\n",
       "  Variable._execution_engine.run_backward(  # Calls into the C++ engine to run the backward pass\n",
       "</pre>\n"
      ],
      "text/plain": [
       "/home/zekai/miniconda3/envs/eq/lib/python3.11/site-packages/torch/autograd/__init__.py:251: UserWarning: An output \n",
       "with one or more elements was resized since it had shape [1, 387, 1], which does not match the required output \n",
       "shape [1, 387, 32]. This behavior is deprecated, and in a future PyTorch release outputs will not be resized unless\n",
       "they have zero elements. You can explicitly reuse an out tensor t by resizing it, inplace, to zero elements with \n",
       "t.resize_(0). (Triggered internally at \n",
       "/opt/conda/conda-bld/pytorch_1695392035891/work/aten/src/ATen/native/Resize.cpp:28.)\n",
       "  Variable._execution_engine.run_backward(  # Calls into the C++ engine to run the backward pass\n"
      ]
     },
     "metadata": {},
     "output_type": "display_data"
    },
    {
     "data": {
      "text/html": [
       "<pre style=\"white-space:pre;overflow-x:auto;line-height:normal;font-family:Menlo,'DejaVu Sans Mono',consolas,'Courier New',monospace\">/home/zekai/miniconda3/envs/eq/lib/python3.11/site-packages/torch/autograd/__init__.py:251: UserWarning: An output \n",
       "with one or more elements was resized since it had shape [1, 483, 1], which does not match the required output \n",
       "shape [1, 483, 32]. This behavior is deprecated, and in a future PyTorch release outputs will not be resized unless\n",
       "they have zero elements. You can explicitly reuse an out tensor t by resizing it, inplace, to zero elements with \n",
       "t.resize_(0). (Triggered internally at \n",
       "/opt/conda/conda-bld/pytorch_1695392035891/work/aten/src/ATen/native/Resize.cpp:28.)\n",
       "  Variable._execution_engine.run_backward(  # Calls into the C++ engine to run the backward pass\n",
       "</pre>\n"
      ],
      "text/plain": [
       "/home/zekai/miniconda3/envs/eq/lib/python3.11/site-packages/torch/autograd/__init__.py:251: UserWarning: An output \n",
       "with one or more elements was resized since it had shape [1, 483, 1], which does not match the required output \n",
       "shape [1, 483, 32]. This behavior is deprecated, and in a future PyTorch release outputs will not be resized unless\n",
       "they have zero elements. You can explicitly reuse an out tensor t by resizing it, inplace, to zero elements with \n",
       "t.resize_(0). (Triggered internally at \n",
       "/opt/conda/conda-bld/pytorch_1695392035891/work/aten/src/ATen/native/Resize.cpp:28.)\n",
       "  Variable._execution_engine.run_backward(  # Calls into the C++ engine to run the backward pass\n"
      ]
     },
     "metadata": {},
     "output_type": "display_data"
    },
    {
     "data": {
      "text/html": [
       "<pre style=\"white-space:pre;overflow-x:auto;line-height:normal;font-family:Menlo,'DejaVu Sans Mono',consolas,'Courier New',monospace\">/home/zekai/miniconda3/envs/eq/lib/python3.11/site-packages/torch/autograd/__init__.py:251: UserWarning: An output \n",
       "with one or more elements was resized since it had shape [1, 93, 1], which does not match the required output shape\n",
       "[1, 93, 32]. This behavior is deprecated, and in a future PyTorch release outputs will not be resized unless they \n",
       "have zero elements. You can explicitly reuse an out tensor t by resizing it, inplace, to zero elements with \n",
       "t.resize_(0). (Triggered internally at \n",
       "/opt/conda/conda-bld/pytorch_1695392035891/work/aten/src/ATen/native/Resize.cpp:28.)\n",
       "  Variable._execution_engine.run_backward(  # Calls into the C++ engine to run the backward pass\n",
       "</pre>\n"
      ],
      "text/plain": [
       "/home/zekai/miniconda3/envs/eq/lib/python3.11/site-packages/torch/autograd/__init__.py:251: UserWarning: An output \n",
       "with one or more elements was resized since it had shape [1, 93, 1], which does not match the required output shape\n",
       "[1, 93, 32]. This behavior is deprecated, and in a future PyTorch release outputs will not be resized unless they \n",
       "have zero elements. You can explicitly reuse an out tensor t by resizing it, inplace, to zero elements with \n",
       "t.resize_(0). (Triggered internally at \n",
       "/opt/conda/conda-bld/pytorch_1695392035891/work/aten/src/ATen/native/Resize.cpp:28.)\n",
       "  Variable._execution_engine.run_backward(  # Calls into the C++ engine to run the backward pass\n"
      ]
     },
     "metadata": {},
     "output_type": "display_data"
    },
    {
     "data": {
      "text/html": [
       "<pre style=\"white-space:pre;overflow-x:auto;line-height:normal;font-family:Menlo,'DejaVu Sans Mono',consolas,'Courier New',monospace\">/home/zekai/miniconda3/envs/eq/lib/python3.11/site-packages/torch/autograd/__init__.py:251: UserWarning: An output \n",
       "with one or more elements was resized since it had shape [1, 532, 1], which does not match the required output \n",
       "shape [1, 532, 32]. This behavior is deprecated, and in a future PyTorch release outputs will not be resized unless\n",
       "they have zero elements. You can explicitly reuse an out tensor t by resizing it, inplace, to zero elements with \n",
       "t.resize_(0). (Triggered internally at \n",
       "/opt/conda/conda-bld/pytorch_1695392035891/work/aten/src/ATen/native/Resize.cpp:28.)\n",
       "  Variable._execution_engine.run_backward(  # Calls into the C++ engine to run the backward pass\n",
       "</pre>\n"
      ],
      "text/plain": [
       "/home/zekai/miniconda3/envs/eq/lib/python3.11/site-packages/torch/autograd/__init__.py:251: UserWarning: An output \n",
       "with one or more elements was resized since it had shape [1, 532, 1], which does not match the required output \n",
       "shape [1, 532, 32]. This behavior is deprecated, and in a future PyTorch release outputs will not be resized unless\n",
       "they have zero elements. You can explicitly reuse an out tensor t by resizing it, inplace, to zero elements with \n",
       "t.resize_(0). (Triggered internally at \n",
       "/opt/conda/conda-bld/pytorch_1695392035891/work/aten/src/ATen/native/Resize.cpp:28.)\n",
       "  Variable._execution_engine.run_backward(  # Calls into the C++ engine to run the backward pass\n"
      ]
     },
     "metadata": {},
     "output_type": "display_data"
    },
    {
     "data": {
      "text/html": [
       "<pre style=\"white-space:pre;overflow-x:auto;line-height:normal;font-family:Menlo,'DejaVu Sans Mono',consolas,'Courier New',monospace\">/home/zekai/miniconda3/envs/eq/lib/python3.11/site-packages/torch/autograd/__init__.py:251: UserWarning: An output \n",
       "with one or more elements was resized since it had shape [1, 453, 1], which does not match the required output \n",
       "shape [1, 453, 32]. This behavior is deprecated, and in a future PyTorch release outputs will not be resized unless\n",
       "they have zero elements. You can explicitly reuse an out tensor t by resizing it, inplace, to zero elements with \n",
       "t.resize_(0). (Triggered internally at \n",
       "/opt/conda/conda-bld/pytorch_1695392035891/work/aten/src/ATen/native/Resize.cpp:28.)\n",
       "  Variable._execution_engine.run_backward(  # Calls into the C++ engine to run the backward pass\n",
       "</pre>\n"
      ],
      "text/plain": [
       "/home/zekai/miniconda3/envs/eq/lib/python3.11/site-packages/torch/autograd/__init__.py:251: UserWarning: An output \n",
       "with one or more elements was resized since it had shape [1, 453, 1], which does not match the required output \n",
       "shape [1, 453, 32]. This behavior is deprecated, and in a future PyTorch release outputs will not be resized unless\n",
       "they have zero elements. You can explicitly reuse an out tensor t by resizing it, inplace, to zero elements with \n",
       "t.resize_(0). (Triggered internally at \n",
       "/opt/conda/conda-bld/pytorch_1695392035891/work/aten/src/ATen/native/Resize.cpp:28.)\n",
       "  Variable._execution_engine.run_backward(  # Calls into the C++ engine to run the backward pass\n"
      ]
     },
     "metadata": {},
     "output_type": "display_data"
    },
    {
     "data": {
      "text/html": [
       "<pre style=\"white-space:pre;overflow-x:auto;line-height:normal;font-family:Menlo,'DejaVu Sans Mono',consolas,'Courier New',monospace\">/home/zekai/miniconda3/envs/eq/lib/python3.11/site-packages/torch/autograd/__init__.py:251: UserWarning: An output \n",
       "with one or more elements was resized since it had shape [1, 271, 1], which does not match the required output \n",
       "shape [1, 271, 32]. This behavior is deprecated, and in a future PyTorch release outputs will not be resized unless\n",
       "they have zero elements. You can explicitly reuse an out tensor t by resizing it, inplace, to zero elements with \n",
       "t.resize_(0). (Triggered internally at \n",
       "/opt/conda/conda-bld/pytorch_1695392035891/work/aten/src/ATen/native/Resize.cpp:28.)\n",
       "  Variable._execution_engine.run_backward(  # Calls into the C++ engine to run the backward pass\n",
       "</pre>\n"
      ],
      "text/plain": [
       "/home/zekai/miniconda3/envs/eq/lib/python3.11/site-packages/torch/autograd/__init__.py:251: UserWarning: An output \n",
       "with one or more elements was resized since it had shape [1, 271, 1], which does not match the required output \n",
       "shape [1, 271, 32]. This behavior is deprecated, and in a future PyTorch release outputs will not be resized unless\n",
       "they have zero elements. You can explicitly reuse an out tensor t by resizing it, inplace, to zero elements with \n",
       "t.resize_(0). (Triggered internally at \n",
       "/opt/conda/conda-bld/pytorch_1695392035891/work/aten/src/ATen/native/Resize.cpp:28.)\n",
       "  Variable._execution_engine.run_backward(  # Calls into the C++ engine to run the backward pass\n"
      ]
     },
     "metadata": {},
     "output_type": "display_data"
    },
    {
     "data": {
      "text/html": [
       "<pre style=\"white-space:pre;overflow-x:auto;line-height:normal;font-family:Menlo,'DejaVu Sans Mono',consolas,'Courier New',monospace\">/home/zekai/miniconda3/envs/eq/lib/python3.11/site-packages/torch/autograd/__init__.py:251: UserWarning: An output \n",
       "with one or more elements was resized since it had shape [1, 784, 1], which does not match the required output \n",
       "shape [1, 784, 32]. This behavior is deprecated, and in a future PyTorch release outputs will not be resized unless\n",
       "they have zero elements. You can explicitly reuse an out tensor t by resizing it, inplace, to zero elements with \n",
       "t.resize_(0). (Triggered internally at \n",
       "/opt/conda/conda-bld/pytorch_1695392035891/work/aten/src/ATen/native/Resize.cpp:28.)\n",
       "  Variable._execution_engine.run_backward(  # Calls into the C++ engine to run the backward pass\n",
       "</pre>\n"
      ],
      "text/plain": [
       "/home/zekai/miniconda3/envs/eq/lib/python3.11/site-packages/torch/autograd/__init__.py:251: UserWarning: An output \n",
       "with one or more elements was resized since it had shape [1, 784, 1], which does not match the required output \n",
       "shape [1, 784, 32]. This behavior is deprecated, and in a future PyTorch release outputs will not be resized unless\n",
       "they have zero elements. You can explicitly reuse an out tensor t by resizing it, inplace, to zero elements with \n",
       "t.resize_(0). (Triggered internally at \n",
       "/opt/conda/conda-bld/pytorch_1695392035891/work/aten/src/ATen/native/Resize.cpp:28.)\n",
       "  Variable._execution_engine.run_backward(  # Calls into the C++ engine to run the backward pass\n"
      ]
     },
     "metadata": {},
     "output_type": "display_data"
    },
    {
     "data": {
      "text/html": [
       "<pre style=\"white-space:pre;overflow-x:auto;line-height:normal;font-family:Menlo,'DejaVu Sans Mono',consolas,'Courier New',monospace\">/home/zekai/miniconda3/envs/eq/lib/python3.11/site-packages/torch/autograd/__init__.py:251: UserWarning: An output \n",
       "with one or more elements was resized since it had shape [1, 315, 1], which does not match the required output \n",
       "shape [1, 315, 32]. This behavior is deprecated, and in a future PyTorch release outputs will not be resized unless\n",
       "they have zero elements. You can explicitly reuse an out tensor t by resizing it, inplace, to zero elements with \n",
       "t.resize_(0). (Triggered internally at \n",
       "/opt/conda/conda-bld/pytorch_1695392035891/work/aten/src/ATen/native/Resize.cpp:28.)\n",
       "  Variable._execution_engine.run_backward(  # Calls into the C++ engine to run the backward pass\n",
       "</pre>\n"
      ],
      "text/plain": [
       "/home/zekai/miniconda3/envs/eq/lib/python3.11/site-packages/torch/autograd/__init__.py:251: UserWarning: An output \n",
       "with one or more elements was resized since it had shape [1, 315, 1], which does not match the required output \n",
       "shape [1, 315, 32]. This behavior is deprecated, and in a future PyTorch release outputs will not be resized unless\n",
       "they have zero elements. You can explicitly reuse an out tensor t by resizing it, inplace, to zero elements with \n",
       "t.resize_(0). (Triggered internally at \n",
       "/opt/conda/conda-bld/pytorch_1695392035891/work/aten/src/ATen/native/Resize.cpp:28.)\n",
       "  Variable._execution_engine.run_backward(  # Calls into the C++ engine to run the backward pass\n"
      ]
     },
     "metadata": {},
     "output_type": "display_data"
    },
    {
     "data": {
      "text/html": [
       "<pre style=\"white-space:pre;overflow-x:auto;line-height:normal;font-family:Menlo,'DejaVu Sans Mono',consolas,'Courier New',monospace\">/home/zekai/miniconda3/envs/eq/lib/python3.11/site-packages/torch/autograd/__init__.py:251: UserWarning: An output \n",
       "with one or more elements was resized since it had shape [1, 304, 1], which does not match the required output \n",
       "shape [1, 304, 32]. This behavior is deprecated, and in a future PyTorch release outputs will not be resized unless\n",
       "they have zero elements. You can explicitly reuse an out tensor t by resizing it, inplace, to zero elements with \n",
       "t.resize_(0). (Triggered internally at \n",
       "/opt/conda/conda-bld/pytorch_1695392035891/work/aten/src/ATen/native/Resize.cpp:28.)\n",
       "  Variable._execution_engine.run_backward(  # Calls into the C++ engine to run the backward pass\n",
       "</pre>\n"
      ],
      "text/plain": [
       "/home/zekai/miniconda3/envs/eq/lib/python3.11/site-packages/torch/autograd/__init__.py:251: UserWarning: An output \n",
       "with one or more elements was resized since it had shape [1, 304, 1], which does not match the required output \n",
       "shape [1, 304, 32]. This behavior is deprecated, and in a future PyTorch release outputs will not be resized unless\n",
       "they have zero elements. You can explicitly reuse an out tensor t by resizing it, inplace, to zero elements with \n",
       "t.resize_(0). (Triggered internally at \n",
       "/opt/conda/conda-bld/pytorch_1695392035891/work/aten/src/ATen/native/Resize.cpp:28.)\n",
       "  Variable._execution_engine.run_backward(  # Calls into the C++ engine to run the backward pass\n"
      ]
     },
     "metadata": {},
     "output_type": "display_data"
    },
    {
     "data": {
      "text/html": [
       "<pre style=\"white-space:pre;overflow-x:auto;line-height:normal;font-family:Menlo,'DejaVu Sans Mono',consolas,'Courier New',monospace\">/home/zekai/miniconda3/envs/eq/lib/python3.11/site-packages/torch/autograd/__init__.py:251: UserWarning: An output \n",
       "with one or more elements was resized since it had shape [1, 323, 1], which does not match the required output \n",
       "shape [1, 323, 32]. This behavior is deprecated, and in a future PyTorch release outputs will not be resized unless\n",
       "they have zero elements. You can explicitly reuse an out tensor t by resizing it, inplace, to zero elements with \n",
       "t.resize_(0). (Triggered internally at \n",
       "/opt/conda/conda-bld/pytorch_1695392035891/work/aten/src/ATen/native/Resize.cpp:28.)\n",
       "  Variable._execution_engine.run_backward(  # Calls into the C++ engine to run the backward pass\n",
       "</pre>\n"
      ],
      "text/plain": [
       "/home/zekai/miniconda3/envs/eq/lib/python3.11/site-packages/torch/autograd/__init__.py:251: UserWarning: An output \n",
       "with one or more elements was resized since it had shape [1, 323, 1], which does not match the required output \n",
       "shape [1, 323, 32]. This behavior is deprecated, and in a future PyTorch release outputs will not be resized unless\n",
       "they have zero elements. You can explicitly reuse an out tensor t by resizing it, inplace, to zero elements with \n",
       "t.resize_(0). (Triggered internally at \n",
       "/opt/conda/conda-bld/pytorch_1695392035891/work/aten/src/ATen/native/Resize.cpp:28.)\n",
       "  Variable._execution_engine.run_backward(  # Calls into the C++ engine to run the backward pass\n"
      ]
     },
     "metadata": {},
     "output_type": "display_data"
    },
    {
     "data": {
      "text/html": [
       "<pre style=\"white-space:pre;overflow-x:auto;line-height:normal;font-family:Menlo,'DejaVu Sans Mono',consolas,'Courier New',monospace\">/home/zekai/miniconda3/envs/eq/lib/python3.11/site-packages/torch/autograd/__init__.py:251: UserWarning: An output \n",
       "with one or more elements was resized since it had shape [1, 111, 1], which does not match the required output \n",
       "shape [1, 111, 32]. This behavior is deprecated, and in a future PyTorch release outputs will not be resized unless\n",
       "they have zero elements. You can explicitly reuse an out tensor t by resizing it, inplace, to zero elements with \n",
       "t.resize_(0). (Triggered internally at \n",
       "/opt/conda/conda-bld/pytorch_1695392035891/work/aten/src/ATen/native/Resize.cpp:28.)\n",
       "  Variable._execution_engine.run_backward(  # Calls into the C++ engine to run the backward pass\n",
       "</pre>\n"
      ],
      "text/plain": [
       "/home/zekai/miniconda3/envs/eq/lib/python3.11/site-packages/torch/autograd/__init__.py:251: UserWarning: An output \n",
       "with one or more elements was resized since it had shape [1, 111, 1], which does not match the required output \n",
       "shape [1, 111, 32]. This behavior is deprecated, and in a future PyTorch release outputs will not be resized unless\n",
       "they have zero elements. You can explicitly reuse an out tensor t by resizing it, inplace, to zero elements with \n",
       "t.resize_(0). (Triggered internally at \n",
       "/opt/conda/conda-bld/pytorch_1695392035891/work/aten/src/ATen/native/Resize.cpp:28.)\n",
       "  Variable._execution_engine.run_backward(  # Calls into the C++ engine to run the backward pass\n"
      ]
     },
     "metadata": {},
     "output_type": "display_data"
    },
    {
     "data": {
      "text/html": [
       "<pre style=\"white-space:pre;overflow-x:auto;line-height:normal;font-family:Menlo,'DejaVu Sans Mono',consolas,'Courier New',monospace\">/home/zekai/miniconda3/envs/eq/lib/python3.11/site-packages/torch/autograd/__init__.py:251: UserWarning: An output \n",
       "with one or more elements was resized since it had shape [1, 749, 1], which does not match the required output \n",
       "shape [1, 749, 32]. This behavior is deprecated, and in a future PyTorch release outputs will not be resized unless\n",
       "they have zero elements. You can explicitly reuse an out tensor t by resizing it, inplace, to zero elements with \n",
       "t.resize_(0). (Triggered internally at \n",
       "/opt/conda/conda-bld/pytorch_1695392035891/work/aten/src/ATen/native/Resize.cpp:28.)\n",
       "  Variable._execution_engine.run_backward(  # Calls into the C++ engine to run the backward pass\n",
       "</pre>\n"
      ],
      "text/plain": [
       "/home/zekai/miniconda3/envs/eq/lib/python3.11/site-packages/torch/autograd/__init__.py:251: UserWarning: An output \n",
       "with one or more elements was resized since it had shape [1, 749, 1], which does not match the required output \n",
       "shape [1, 749, 32]. This behavior is deprecated, and in a future PyTorch release outputs will not be resized unless\n",
       "they have zero elements. You can explicitly reuse an out tensor t by resizing it, inplace, to zero elements with \n",
       "t.resize_(0). (Triggered internally at \n",
       "/opt/conda/conda-bld/pytorch_1695392035891/work/aten/src/ATen/native/Resize.cpp:28.)\n",
       "  Variable._execution_engine.run_backward(  # Calls into the C++ engine to run the backward pass\n"
      ]
     },
     "metadata": {},
     "output_type": "display_data"
    },
    {
     "data": {
      "text/html": [
       "<pre style=\"white-space:pre;overflow-x:auto;line-height:normal;font-family:Menlo,'DejaVu Sans Mono',consolas,'Courier New',monospace\">/home/zekai/miniconda3/envs/eq/lib/python3.11/site-packages/torch/autograd/__init__.py:251: UserWarning: An output \n",
       "with one or more elements was resized since it had shape [1, 368, 1], which does not match the required output \n",
       "shape [1, 368, 32]. This behavior is deprecated, and in a future PyTorch release outputs will not be resized unless\n",
       "they have zero elements. You can explicitly reuse an out tensor t by resizing it, inplace, to zero elements with \n",
       "t.resize_(0). (Triggered internally at \n",
       "/opt/conda/conda-bld/pytorch_1695392035891/work/aten/src/ATen/native/Resize.cpp:28.)\n",
       "  Variable._execution_engine.run_backward(  # Calls into the C++ engine to run the backward pass\n",
       "</pre>\n"
      ],
      "text/plain": [
       "/home/zekai/miniconda3/envs/eq/lib/python3.11/site-packages/torch/autograd/__init__.py:251: UserWarning: An output \n",
       "with one or more elements was resized since it had shape [1, 368, 1], which does not match the required output \n",
       "shape [1, 368, 32]. This behavior is deprecated, and in a future PyTorch release outputs will not be resized unless\n",
       "they have zero elements. You can explicitly reuse an out tensor t by resizing it, inplace, to zero elements with \n",
       "t.resize_(0). (Triggered internally at \n",
       "/opt/conda/conda-bld/pytorch_1695392035891/work/aten/src/ATen/native/Resize.cpp:28.)\n",
       "  Variable._execution_engine.run_backward(  # Calls into the C++ engine to run the backward pass\n"
      ]
     },
     "metadata": {},
     "output_type": "display_data"
    },
    {
     "data": {
      "text/html": [
       "<pre style=\"white-space:pre;overflow-x:auto;line-height:normal;font-family:Menlo,'DejaVu Sans Mono',consolas,'Courier New',monospace\">/home/zekai/miniconda3/envs/eq/lib/python3.11/site-packages/torch/autograd/__init__.py:251: UserWarning: An output \n",
       "with one or more elements was resized since it had shape [1, 413, 1], which does not match the required output \n",
       "shape [1, 413, 32]. This behavior is deprecated, and in a future PyTorch release outputs will not be resized unless\n",
       "they have zero elements. You can explicitly reuse an out tensor t by resizing it, inplace, to zero elements with \n",
       "t.resize_(0). (Triggered internally at \n",
       "/opt/conda/conda-bld/pytorch_1695392035891/work/aten/src/ATen/native/Resize.cpp:28.)\n",
       "  Variable._execution_engine.run_backward(  # Calls into the C++ engine to run the backward pass\n",
       "</pre>\n"
      ],
      "text/plain": [
       "/home/zekai/miniconda3/envs/eq/lib/python3.11/site-packages/torch/autograd/__init__.py:251: UserWarning: An output \n",
       "with one or more elements was resized since it had shape [1, 413, 1], which does not match the required output \n",
       "shape [1, 413, 32]. This behavior is deprecated, and in a future PyTorch release outputs will not be resized unless\n",
       "they have zero elements. You can explicitly reuse an out tensor t by resizing it, inplace, to zero elements with \n",
       "t.resize_(0). (Triggered internally at \n",
       "/opt/conda/conda-bld/pytorch_1695392035891/work/aten/src/ATen/native/Resize.cpp:28.)\n",
       "  Variable._execution_engine.run_backward(  # Calls into the C++ engine to run the backward pass\n"
      ]
     },
     "metadata": {},
     "output_type": "display_data"
    },
    {
     "data": {
      "text/html": [
       "<pre style=\"white-space:pre;overflow-x:auto;line-height:normal;font-family:Menlo,'DejaVu Sans Mono',consolas,'Courier New',monospace\">/home/zekai/miniconda3/envs/eq/lib/python3.11/site-packages/torch/autograd/__init__.py:251: UserWarning: An output \n",
       "with one or more elements was resized since it had shape [1, 770, 1], which does not match the required output \n",
       "shape [1, 770, 32]. This behavior is deprecated, and in a future PyTorch release outputs will not be resized unless\n",
       "they have zero elements. You can explicitly reuse an out tensor t by resizing it, inplace, to zero elements with \n",
       "t.resize_(0). (Triggered internally at \n",
       "/opt/conda/conda-bld/pytorch_1695392035891/work/aten/src/ATen/native/Resize.cpp:28.)\n",
       "  Variable._execution_engine.run_backward(  # Calls into the C++ engine to run the backward pass\n",
       "</pre>\n"
      ],
      "text/plain": [
       "/home/zekai/miniconda3/envs/eq/lib/python3.11/site-packages/torch/autograd/__init__.py:251: UserWarning: An output \n",
       "with one or more elements was resized since it had shape [1, 770, 1], which does not match the required output \n",
       "shape [1, 770, 32]. This behavior is deprecated, and in a future PyTorch release outputs will not be resized unless\n",
       "they have zero elements. You can explicitly reuse an out tensor t by resizing it, inplace, to zero elements with \n",
       "t.resize_(0). (Triggered internally at \n",
       "/opt/conda/conda-bld/pytorch_1695392035891/work/aten/src/ATen/native/Resize.cpp:28.)\n",
       "  Variable._execution_engine.run_backward(  # Calls into the C++ engine to run the backward pass\n"
      ]
     },
     "metadata": {},
     "output_type": "display_data"
    },
    {
     "data": {
      "text/html": [
       "<pre style=\"white-space:pre;overflow-x:auto;line-height:normal;font-family:Menlo,'DejaVu Sans Mono',consolas,'Courier New',monospace\">/home/zekai/miniconda3/envs/eq/lib/python3.11/site-packages/torch/autograd/__init__.py:251: UserWarning: An output \n",
       "with one or more elements was resized since it had shape [1, 265, 1], which does not match the required output \n",
       "shape [1, 265, 32]. This behavior is deprecated, and in a future PyTorch release outputs will not be resized unless\n",
       "they have zero elements. You can explicitly reuse an out tensor t by resizing it, inplace, to zero elements with \n",
       "t.resize_(0). (Triggered internally at \n",
       "/opt/conda/conda-bld/pytorch_1695392035891/work/aten/src/ATen/native/Resize.cpp:28.)\n",
       "  Variable._execution_engine.run_backward(  # Calls into the C++ engine to run the backward pass\n",
       "</pre>\n"
      ],
      "text/plain": [
       "/home/zekai/miniconda3/envs/eq/lib/python3.11/site-packages/torch/autograd/__init__.py:251: UserWarning: An output \n",
       "with one or more elements was resized since it had shape [1, 265, 1], which does not match the required output \n",
       "shape [1, 265, 32]. This behavior is deprecated, and in a future PyTorch release outputs will not be resized unless\n",
       "they have zero elements. You can explicitly reuse an out tensor t by resizing it, inplace, to zero elements with \n",
       "t.resize_(0). (Triggered internally at \n",
       "/opt/conda/conda-bld/pytorch_1695392035891/work/aten/src/ATen/native/Resize.cpp:28.)\n",
       "  Variable._execution_engine.run_backward(  # Calls into the C++ engine to run the backward pass\n"
      ]
     },
     "metadata": {},
     "output_type": "display_data"
    },
    {
     "data": {
      "text/html": [
       "<pre style=\"white-space:pre;overflow-x:auto;line-height:normal;font-family:Menlo,'DejaVu Sans Mono',consolas,'Courier New',monospace\">/home/zekai/miniconda3/envs/eq/lib/python3.11/site-packages/torch/autograd/__init__.py:251: UserWarning: An output \n",
       "with one or more elements was resized since it had shape [1, 204, 1], which does not match the required output \n",
       "shape [1, 204, 32]. This behavior is deprecated, and in a future PyTorch release outputs will not be resized unless\n",
       "they have zero elements. You can explicitly reuse an out tensor t by resizing it, inplace, to zero elements with \n",
       "t.resize_(0). (Triggered internally at \n",
       "/opt/conda/conda-bld/pytorch_1695392035891/work/aten/src/ATen/native/Resize.cpp:28.)\n",
       "  Variable._execution_engine.run_backward(  # Calls into the C++ engine to run the backward pass\n",
       "</pre>\n"
      ],
      "text/plain": [
       "/home/zekai/miniconda3/envs/eq/lib/python3.11/site-packages/torch/autograd/__init__.py:251: UserWarning: An output \n",
       "with one or more elements was resized since it had shape [1, 204, 1], which does not match the required output \n",
       "shape [1, 204, 32]. This behavior is deprecated, and in a future PyTorch release outputs will not be resized unless\n",
       "they have zero elements. You can explicitly reuse an out tensor t by resizing it, inplace, to zero elements with \n",
       "t.resize_(0). (Triggered internally at \n",
       "/opt/conda/conda-bld/pytorch_1695392035891/work/aten/src/ATen/native/Resize.cpp:28.)\n",
       "  Variable._execution_engine.run_backward(  # Calls into the C++ engine to run the backward pass\n"
      ]
     },
     "metadata": {},
     "output_type": "display_data"
    },
    {
     "data": {
      "text/html": [
       "<pre style=\"white-space:pre;overflow-x:auto;line-height:normal;font-family:Menlo,'DejaVu Sans Mono',consolas,'Courier New',monospace\">/home/zekai/miniconda3/envs/eq/lib/python3.11/site-packages/torch/autograd/__init__.py:251: UserWarning: An output \n",
       "with one or more elements was resized since it had shape [1, 2273, 1], which does not match the required output \n",
       "shape [1, 2273, 32]. This behavior is deprecated, and in a future PyTorch release outputs will not be resized \n",
       "unless they have zero elements. You can explicitly reuse an out tensor t by resizing it, inplace, to zero elements \n",
       "with t.resize_(0). (Triggered internally at \n",
       "/opt/conda/conda-bld/pytorch_1695392035891/work/aten/src/ATen/native/Resize.cpp:28.)\n",
       "  Variable._execution_engine.run_backward(  # Calls into the C++ engine to run the backward pass\n",
       "</pre>\n"
      ],
      "text/plain": [
       "/home/zekai/miniconda3/envs/eq/lib/python3.11/site-packages/torch/autograd/__init__.py:251: UserWarning: An output \n",
       "with one or more elements was resized since it had shape [1, 2273, 1], which does not match the required output \n",
       "shape [1, 2273, 32]. This behavior is deprecated, and in a future PyTorch release outputs will not be resized \n",
       "unless they have zero elements. You can explicitly reuse an out tensor t by resizing it, inplace, to zero elements \n",
       "with t.resize_(0). (Triggered internally at \n",
       "/opt/conda/conda-bld/pytorch_1695392035891/work/aten/src/ATen/native/Resize.cpp:28.)\n",
       "  Variable._execution_engine.run_backward(  # Calls into the C++ engine to run the backward pass\n"
      ]
     },
     "metadata": {},
     "output_type": "display_data"
    },
    {
     "data": {
      "text/html": [
       "<pre style=\"white-space:pre;overflow-x:auto;line-height:normal;font-family:Menlo,'DejaVu Sans Mono',consolas,'Courier New',monospace\">/home/zekai/miniconda3/envs/eq/lib/python3.11/site-packages/torch/autograd/__init__.py:251: UserWarning: An output \n",
       "with one or more elements was resized since it had shape [1, 302, 1], which does not match the required output \n",
       "shape [1, 302, 32]. This behavior is deprecated, and in a future PyTorch release outputs will not be resized unless\n",
       "they have zero elements. You can explicitly reuse an out tensor t by resizing it, inplace, to zero elements with \n",
       "t.resize_(0). (Triggered internally at \n",
       "/opt/conda/conda-bld/pytorch_1695392035891/work/aten/src/ATen/native/Resize.cpp:28.)\n",
       "  Variable._execution_engine.run_backward(  # Calls into the C++ engine to run the backward pass\n",
       "</pre>\n"
      ],
      "text/plain": [
       "/home/zekai/miniconda3/envs/eq/lib/python3.11/site-packages/torch/autograd/__init__.py:251: UserWarning: An output \n",
       "with one or more elements was resized since it had shape [1, 302, 1], which does not match the required output \n",
       "shape [1, 302, 32]. This behavior is deprecated, and in a future PyTorch release outputs will not be resized unless\n",
       "they have zero elements. You can explicitly reuse an out tensor t by resizing it, inplace, to zero elements with \n",
       "t.resize_(0). (Triggered internally at \n",
       "/opt/conda/conda-bld/pytorch_1695392035891/work/aten/src/ATen/native/Resize.cpp:28.)\n",
       "  Variable._execution_engine.run_backward(  # Calls into the C++ engine to run the backward pass\n"
      ]
     },
     "metadata": {},
     "output_type": "display_data"
    },
    {
     "data": {
      "text/html": [
       "<pre style=\"white-space:pre;overflow-x:auto;line-height:normal;font-family:Menlo,'DejaVu Sans Mono',consolas,'Courier New',monospace\">/home/zekai/miniconda3/envs/eq/lib/python3.11/site-packages/torch/autograd/__init__.py:251: UserWarning: An output \n",
       "with one or more elements was resized since it had shape [1, 60, 1], which does not match the required output shape\n",
       "[1, 60, 32]. This behavior is deprecated, and in a future PyTorch release outputs will not be resized unless they \n",
       "have zero elements. You can explicitly reuse an out tensor t by resizing it, inplace, to zero elements with \n",
       "t.resize_(0). (Triggered internally at \n",
       "/opt/conda/conda-bld/pytorch_1695392035891/work/aten/src/ATen/native/Resize.cpp:28.)\n",
       "  Variable._execution_engine.run_backward(  # Calls into the C++ engine to run the backward pass\n",
       "</pre>\n"
      ],
      "text/plain": [
       "/home/zekai/miniconda3/envs/eq/lib/python3.11/site-packages/torch/autograd/__init__.py:251: UserWarning: An output \n",
       "with one or more elements was resized since it had shape [1, 60, 1], which does not match the required output shape\n",
       "[1, 60, 32]. This behavior is deprecated, and in a future PyTorch release outputs will not be resized unless they \n",
       "have zero elements. You can explicitly reuse an out tensor t by resizing it, inplace, to zero elements with \n",
       "t.resize_(0). (Triggered internally at \n",
       "/opt/conda/conda-bld/pytorch_1695392035891/work/aten/src/ATen/native/Resize.cpp:28.)\n",
       "  Variable._execution_engine.run_backward(  # Calls into the C++ engine to run the backward pass\n"
      ]
     },
     "metadata": {},
     "output_type": "display_data"
    },
    {
     "data": {
      "text/html": [
       "<pre style=\"white-space:pre;overflow-x:auto;line-height:normal;font-family:Menlo,'DejaVu Sans Mono',consolas,'Courier New',monospace\">/home/zekai/miniconda3/envs/eq/lib/python3.11/site-packages/torch/autograd/__init__.py:251: UserWarning: An output \n",
       "with one or more elements was resized since it had shape [1, 554, 1], which does not match the required output \n",
       "shape [1, 554, 32]. This behavior is deprecated, and in a future PyTorch release outputs will not be resized unless\n",
       "they have zero elements. You can explicitly reuse an out tensor t by resizing it, inplace, to zero elements with \n",
       "t.resize_(0). (Triggered internally at \n",
       "/opt/conda/conda-bld/pytorch_1695392035891/work/aten/src/ATen/native/Resize.cpp:28.)\n",
       "  Variable._execution_engine.run_backward(  # Calls into the C++ engine to run the backward pass\n",
       "</pre>\n"
      ],
      "text/plain": [
       "/home/zekai/miniconda3/envs/eq/lib/python3.11/site-packages/torch/autograd/__init__.py:251: UserWarning: An output \n",
       "with one or more elements was resized since it had shape [1, 554, 1], which does not match the required output \n",
       "shape [1, 554, 32]. This behavior is deprecated, and in a future PyTorch release outputs will not be resized unless\n",
       "they have zero elements. You can explicitly reuse an out tensor t by resizing it, inplace, to zero elements with \n",
       "t.resize_(0). (Triggered internally at \n",
       "/opt/conda/conda-bld/pytorch_1695392035891/work/aten/src/ATen/native/Resize.cpp:28.)\n",
       "  Variable._execution_engine.run_backward(  # Calls into the C++ engine to run the backward pass\n"
      ]
     },
     "metadata": {},
     "output_type": "display_data"
    },
    {
     "data": {
      "text/html": [
       "<pre style=\"white-space:pre;overflow-x:auto;line-height:normal;font-family:Menlo,'DejaVu Sans Mono',consolas,'Courier New',monospace\">/home/zekai/miniconda3/envs/eq/lib/python3.11/site-packages/torch/autograd/__init__.py:251: UserWarning: An output \n",
       "with one or more elements was resized since it had shape [1, 234, 1], which does not match the required output \n",
       "shape [1, 234, 32]. This behavior is deprecated, and in a future PyTorch release outputs will not be resized unless\n",
       "they have zero elements. You can explicitly reuse an out tensor t by resizing it, inplace, to zero elements with \n",
       "t.resize_(0). (Triggered internally at \n",
       "/opt/conda/conda-bld/pytorch_1695392035891/work/aten/src/ATen/native/Resize.cpp:28.)\n",
       "  Variable._execution_engine.run_backward(  # Calls into the C++ engine to run the backward pass\n",
       "</pre>\n"
      ],
      "text/plain": [
       "/home/zekai/miniconda3/envs/eq/lib/python3.11/site-packages/torch/autograd/__init__.py:251: UserWarning: An output \n",
       "with one or more elements was resized since it had shape [1, 234, 1], which does not match the required output \n",
       "shape [1, 234, 32]. This behavior is deprecated, and in a future PyTorch release outputs will not be resized unless\n",
       "they have zero elements. You can explicitly reuse an out tensor t by resizing it, inplace, to zero elements with \n",
       "t.resize_(0). (Triggered internally at \n",
       "/opt/conda/conda-bld/pytorch_1695392035891/work/aten/src/ATen/native/Resize.cpp:28.)\n",
       "  Variable._execution_engine.run_backward(  # Calls into the C++ engine to run the backward pass\n"
      ]
     },
     "metadata": {},
     "output_type": "display_data"
    },
    {
     "data": {
      "text/html": [
       "<pre style=\"white-space:pre;overflow-x:auto;line-height:normal;font-family:Menlo,'DejaVu Sans Mono',consolas,'Courier New',monospace\">/home/zekai/miniconda3/envs/eq/lib/python3.11/site-packages/torch/autograd/__init__.py:251: UserWarning: An output \n",
       "with one or more elements was resized since it had shape [1, 325, 1], which does not match the required output \n",
       "shape [1, 325, 32]. This behavior is deprecated, and in a future PyTorch release outputs will not be resized unless\n",
       "they have zero elements. You can explicitly reuse an out tensor t by resizing it, inplace, to zero elements with \n",
       "t.resize_(0). (Triggered internally at \n",
       "/opt/conda/conda-bld/pytorch_1695392035891/work/aten/src/ATen/native/Resize.cpp:28.)\n",
       "  Variable._execution_engine.run_backward(  # Calls into the C++ engine to run the backward pass\n",
       "</pre>\n"
      ],
      "text/plain": [
       "/home/zekai/miniconda3/envs/eq/lib/python3.11/site-packages/torch/autograd/__init__.py:251: UserWarning: An output \n",
       "with one or more elements was resized since it had shape [1, 325, 1], which does not match the required output \n",
       "shape [1, 325, 32]. This behavior is deprecated, and in a future PyTorch release outputs will not be resized unless\n",
       "they have zero elements. You can explicitly reuse an out tensor t by resizing it, inplace, to zero elements with \n",
       "t.resize_(0). (Triggered internally at \n",
       "/opt/conda/conda-bld/pytorch_1695392035891/work/aten/src/ATen/native/Resize.cpp:28.)\n",
       "  Variable._execution_engine.run_backward(  # Calls into the C++ engine to run the backward pass\n"
      ]
     },
     "metadata": {},
     "output_type": "display_data"
    },
    {
     "data": {
      "text/html": [
       "<pre style=\"white-space:pre;overflow-x:auto;line-height:normal;font-family:Menlo,'DejaVu Sans Mono',consolas,'Courier New',monospace\">/home/zekai/miniconda3/envs/eq/lib/python3.11/site-packages/torch/autograd/__init__.py:251: UserWarning: An output \n",
       "with one or more elements was resized since it had shape [1, 70, 1], which does not match the required output shape\n",
       "[1, 70, 32]. This behavior is deprecated, and in a future PyTorch release outputs will not be resized unless they \n",
       "have zero elements. You can explicitly reuse an out tensor t by resizing it, inplace, to zero elements with \n",
       "t.resize_(0). (Triggered internally at \n",
       "/opt/conda/conda-bld/pytorch_1695392035891/work/aten/src/ATen/native/Resize.cpp:28.)\n",
       "  Variable._execution_engine.run_backward(  # Calls into the C++ engine to run the backward pass\n",
       "</pre>\n"
      ],
      "text/plain": [
       "/home/zekai/miniconda3/envs/eq/lib/python3.11/site-packages/torch/autograd/__init__.py:251: UserWarning: An output \n",
       "with one or more elements was resized since it had shape [1, 70, 1], which does not match the required output shape\n",
       "[1, 70, 32]. This behavior is deprecated, and in a future PyTorch release outputs will not be resized unless they \n",
       "have zero elements. You can explicitly reuse an out tensor t by resizing it, inplace, to zero elements with \n",
       "t.resize_(0). (Triggered internally at \n",
       "/opt/conda/conda-bld/pytorch_1695392035891/work/aten/src/ATen/native/Resize.cpp:28.)\n",
       "  Variable._execution_engine.run_backward(  # Calls into the C++ engine to run the backward pass\n"
      ]
     },
     "metadata": {},
     "output_type": "display_data"
    },
    {
     "data": {
      "text/html": [
       "<pre style=\"white-space:pre;overflow-x:auto;line-height:normal;font-family:Menlo,'DejaVu Sans Mono',consolas,'Courier New',monospace\">/home/zekai/miniconda3/envs/eq/lib/python3.11/site-packages/torch/autograd/__init__.py:251: UserWarning: An output \n",
       "with one or more elements was resized since it had shape [1, 224, 1], which does not match the required output \n",
       "shape [1, 224, 32]. This behavior is deprecated, and in a future PyTorch release outputs will not be resized unless\n",
       "they have zero elements. You can explicitly reuse an out tensor t by resizing it, inplace, to zero elements with \n",
       "t.resize_(0). (Triggered internally at \n",
       "/opt/conda/conda-bld/pytorch_1695392035891/work/aten/src/ATen/native/Resize.cpp:28.)\n",
       "  Variable._execution_engine.run_backward(  # Calls into the C++ engine to run the backward pass\n",
       "</pre>\n"
      ],
      "text/plain": [
       "/home/zekai/miniconda3/envs/eq/lib/python3.11/site-packages/torch/autograd/__init__.py:251: UserWarning: An output \n",
       "with one or more elements was resized since it had shape [1, 224, 1], which does not match the required output \n",
       "shape [1, 224, 32]. This behavior is deprecated, and in a future PyTorch release outputs will not be resized unless\n",
       "they have zero elements. You can explicitly reuse an out tensor t by resizing it, inplace, to zero elements with \n",
       "t.resize_(0). (Triggered internally at \n",
       "/opt/conda/conda-bld/pytorch_1695392035891/work/aten/src/ATen/native/Resize.cpp:28.)\n",
       "  Variable._execution_engine.run_backward(  # Calls into the C++ engine to run the backward pass\n"
      ]
     },
     "metadata": {},
     "output_type": "display_data"
    },
    {
     "data": {
      "text/html": [
       "<pre style=\"white-space:pre;overflow-x:auto;line-height:normal;font-family:Menlo,'DejaVu Sans Mono',consolas,'Courier New',monospace\">/home/zekai/miniconda3/envs/eq/lib/python3.11/site-packages/torch/autograd/__init__.py:251: UserWarning: An output \n",
       "with one or more elements was resized since it had shape [1, 120, 1], which does not match the required output \n",
       "shape [1, 120, 32]. This behavior is deprecated, and in a future PyTorch release outputs will not be resized unless\n",
       "they have zero elements. You can explicitly reuse an out tensor t by resizing it, inplace, to zero elements with \n",
       "t.resize_(0). (Triggered internally at \n",
       "/opt/conda/conda-bld/pytorch_1695392035891/work/aten/src/ATen/native/Resize.cpp:28.)\n",
       "  Variable._execution_engine.run_backward(  # Calls into the C++ engine to run the backward pass\n",
       "</pre>\n"
      ],
      "text/plain": [
       "/home/zekai/miniconda3/envs/eq/lib/python3.11/site-packages/torch/autograd/__init__.py:251: UserWarning: An output \n",
       "with one or more elements was resized since it had shape [1, 120, 1], which does not match the required output \n",
       "shape [1, 120, 32]. This behavior is deprecated, and in a future PyTorch release outputs will not be resized unless\n",
       "they have zero elements. You can explicitly reuse an out tensor t by resizing it, inplace, to zero elements with \n",
       "t.resize_(0). (Triggered internally at \n",
       "/opt/conda/conda-bld/pytorch_1695392035891/work/aten/src/ATen/native/Resize.cpp:28.)\n",
       "  Variable._execution_engine.run_backward(  # Calls into the C++ engine to run the backward pass\n"
      ]
     },
     "metadata": {},
     "output_type": "display_data"
    },
    {
     "data": {
      "text/html": [
       "<pre style=\"white-space:pre;overflow-x:auto;line-height:normal;font-family:Menlo,'DejaVu Sans Mono',consolas,'Courier New',monospace\">/home/zekai/miniconda3/envs/eq/lib/python3.11/site-packages/torch/autograd/__init__.py:251: UserWarning: An output \n",
       "with one or more elements was resized since it had shape [1, 477, 1], which does not match the required output \n",
       "shape [1, 477, 32]. This behavior is deprecated, and in a future PyTorch release outputs will not be resized unless\n",
       "they have zero elements. You can explicitly reuse an out tensor t by resizing it, inplace, to zero elements with \n",
       "t.resize_(0). (Triggered internally at \n",
       "/opt/conda/conda-bld/pytorch_1695392035891/work/aten/src/ATen/native/Resize.cpp:28.)\n",
       "  Variable._execution_engine.run_backward(  # Calls into the C++ engine to run the backward pass\n",
       "</pre>\n"
      ],
      "text/plain": [
       "/home/zekai/miniconda3/envs/eq/lib/python3.11/site-packages/torch/autograd/__init__.py:251: UserWarning: An output \n",
       "with one or more elements was resized since it had shape [1, 477, 1], which does not match the required output \n",
       "shape [1, 477, 32]. This behavior is deprecated, and in a future PyTorch release outputs will not be resized unless\n",
       "they have zero elements. You can explicitly reuse an out tensor t by resizing it, inplace, to zero elements with \n",
       "t.resize_(0). (Triggered internally at \n",
       "/opt/conda/conda-bld/pytorch_1695392035891/work/aten/src/ATen/native/Resize.cpp:28.)\n",
       "  Variable._execution_engine.run_backward(  # Calls into the C++ engine to run the backward pass\n"
      ]
     },
     "metadata": {},
     "output_type": "display_data"
    },
    {
     "data": {
      "text/html": [
       "<pre style=\"white-space:pre;overflow-x:auto;line-height:normal;font-family:Menlo,'DejaVu Sans Mono',consolas,'Courier New',monospace\">/home/zekai/miniconda3/envs/eq/lib/python3.11/site-packages/torch/autograd/__init__.py:251: UserWarning: An output \n",
       "with one or more elements was resized since it had shape [1, 508, 1], which does not match the required output \n",
       "shape [1, 508, 32]. This behavior is deprecated, and in a future PyTorch release outputs will not be resized unless\n",
       "they have zero elements. You can explicitly reuse an out tensor t by resizing it, inplace, to zero elements with \n",
       "t.resize_(0). (Triggered internally at \n",
       "/opt/conda/conda-bld/pytorch_1695392035891/work/aten/src/ATen/native/Resize.cpp:28.)\n",
       "  Variable._execution_engine.run_backward(  # Calls into the C++ engine to run the backward pass\n",
       "</pre>\n"
      ],
      "text/plain": [
       "/home/zekai/miniconda3/envs/eq/lib/python3.11/site-packages/torch/autograd/__init__.py:251: UserWarning: An output \n",
       "with one or more elements was resized since it had shape [1, 508, 1], which does not match the required output \n",
       "shape [1, 508, 32]. This behavior is deprecated, and in a future PyTorch release outputs will not be resized unless\n",
       "they have zero elements. You can explicitly reuse an out tensor t by resizing it, inplace, to zero elements with \n",
       "t.resize_(0). (Triggered internally at \n",
       "/opt/conda/conda-bld/pytorch_1695392035891/work/aten/src/ATen/native/Resize.cpp:28.)\n",
       "  Variable._execution_engine.run_backward(  # Calls into the C++ engine to run the backward pass\n"
      ]
     },
     "metadata": {},
     "output_type": "display_data"
    },
    {
     "data": {
      "text/html": [
       "<pre style=\"white-space:pre;overflow-x:auto;line-height:normal;font-family:Menlo,'DejaVu Sans Mono',consolas,'Courier New',monospace\">/home/zekai/miniconda3/envs/eq/lib/python3.11/site-packages/torch/autograd/__init__.py:251: UserWarning: An output \n",
       "with one or more elements was resized since it had shape [1, 273, 1], which does not match the required output \n",
       "shape [1, 273, 32]. This behavior is deprecated, and in a future PyTorch release outputs will not be resized unless\n",
       "they have zero elements. You can explicitly reuse an out tensor t by resizing it, inplace, to zero elements with \n",
       "t.resize_(0). (Triggered internally at \n",
       "/opt/conda/conda-bld/pytorch_1695392035891/work/aten/src/ATen/native/Resize.cpp:28.)\n",
       "  Variable._execution_engine.run_backward(  # Calls into the C++ engine to run the backward pass\n",
       "</pre>\n"
      ],
      "text/plain": [
       "/home/zekai/miniconda3/envs/eq/lib/python3.11/site-packages/torch/autograd/__init__.py:251: UserWarning: An output \n",
       "with one or more elements was resized since it had shape [1, 273, 1], which does not match the required output \n",
       "shape [1, 273, 32]. This behavior is deprecated, and in a future PyTorch release outputs will not be resized unless\n",
       "they have zero elements. You can explicitly reuse an out tensor t by resizing it, inplace, to zero elements with \n",
       "t.resize_(0). (Triggered internally at \n",
       "/opt/conda/conda-bld/pytorch_1695392035891/work/aten/src/ATen/native/Resize.cpp:28.)\n",
       "  Variable._execution_engine.run_backward(  # Calls into the C++ engine to run the backward pass\n"
      ]
     },
     "metadata": {},
     "output_type": "display_data"
    },
    {
     "data": {
      "text/html": [
       "<pre style=\"white-space:pre;overflow-x:auto;line-height:normal;font-family:Menlo,'DejaVu Sans Mono',consolas,'Courier New',monospace\">/home/zekai/miniconda3/envs/eq/lib/python3.11/site-packages/torch/autograd/__init__.py:251: UserWarning: An output \n",
       "with one or more elements was resized since it had shape [1, 247, 1], which does not match the required output \n",
       "shape [1, 247, 32]. This behavior is deprecated, and in a future PyTorch release outputs will not be resized unless\n",
       "they have zero elements. You can explicitly reuse an out tensor t by resizing it, inplace, to zero elements with \n",
       "t.resize_(0). (Triggered internally at \n",
       "/opt/conda/conda-bld/pytorch_1695392035891/work/aten/src/ATen/native/Resize.cpp:28.)\n",
       "  Variable._execution_engine.run_backward(  # Calls into the C++ engine to run the backward pass\n",
       "</pre>\n"
      ],
      "text/plain": [
       "/home/zekai/miniconda3/envs/eq/lib/python3.11/site-packages/torch/autograd/__init__.py:251: UserWarning: An output \n",
       "with one or more elements was resized since it had shape [1, 247, 1], which does not match the required output \n",
       "shape [1, 247, 32]. This behavior is deprecated, and in a future PyTorch release outputs will not be resized unless\n",
       "they have zero elements. You can explicitly reuse an out tensor t by resizing it, inplace, to zero elements with \n",
       "t.resize_(0). (Triggered internally at \n",
       "/opt/conda/conda-bld/pytorch_1695392035891/work/aten/src/ATen/native/Resize.cpp:28.)\n",
       "  Variable._execution_engine.run_backward(  # Calls into the C++ engine to run the backward pass\n"
      ]
     },
     "metadata": {},
     "output_type": "display_data"
    },
    {
     "data": {
      "text/html": [
       "<pre style=\"white-space:pre;overflow-x:auto;line-height:normal;font-family:Menlo,'DejaVu Sans Mono',consolas,'Courier New',monospace\">/home/zekai/miniconda3/envs/eq/lib/python3.11/site-packages/torch/autograd/__init__.py:251: UserWarning: An output \n",
       "with one or more elements was resized since it had shape [1, 100, 1], which does not match the required output \n",
       "shape [1, 100, 32]. This behavior is deprecated, and in a future PyTorch release outputs will not be resized unless\n",
       "they have zero elements. You can explicitly reuse an out tensor t by resizing it, inplace, to zero elements with \n",
       "t.resize_(0). (Triggered internally at \n",
       "/opt/conda/conda-bld/pytorch_1695392035891/work/aten/src/ATen/native/Resize.cpp:28.)\n",
       "  Variable._execution_engine.run_backward(  # Calls into the C++ engine to run the backward pass\n",
       "</pre>\n"
      ],
      "text/plain": [
       "/home/zekai/miniconda3/envs/eq/lib/python3.11/site-packages/torch/autograd/__init__.py:251: UserWarning: An output \n",
       "with one or more elements was resized since it had shape [1, 100, 1], which does not match the required output \n",
       "shape [1, 100, 32]. This behavior is deprecated, and in a future PyTorch release outputs will not be resized unless\n",
       "they have zero elements. You can explicitly reuse an out tensor t by resizing it, inplace, to zero elements with \n",
       "t.resize_(0). (Triggered internally at \n",
       "/opt/conda/conda-bld/pytorch_1695392035891/work/aten/src/ATen/native/Resize.cpp:28.)\n",
       "  Variable._execution_engine.run_backward(  # Calls into the C++ engine to run the backward pass\n"
      ]
     },
     "metadata": {},
     "output_type": "display_data"
    },
    {
     "data": {
      "text/html": [
       "<pre style=\"white-space:pre;overflow-x:auto;line-height:normal;font-family:Menlo,'DejaVu Sans Mono',consolas,'Courier New',monospace\">/home/zekai/miniconda3/envs/eq/lib/python3.11/site-packages/torch/autograd/__init__.py:251: UserWarning: An output \n",
       "with one or more elements was resized since it had shape [1, 777, 1], which does not match the required output \n",
       "shape [1, 777, 32]. This behavior is deprecated, and in a future PyTorch release outputs will not be resized unless\n",
       "they have zero elements. You can explicitly reuse an out tensor t by resizing it, inplace, to zero elements with \n",
       "t.resize_(0). (Triggered internally at \n",
       "/opt/conda/conda-bld/pytorch_1695392035891/work/aten/src/ATen/native/Resize.cpp:28.)\n",
       "  Variable._execution_engine.run_backward(  # Calls into the C++ engine to run the backward pass\n",
       "</pre>\n"
      ],
      "text/plain": [
       "/home/zekai/miniconda3/envs/eq/lib/python3.11/site-packages/torch/autograd/__init__.py:251: UserWarning: An output \n",
       "with one or more elements was resized since it had shape [1, 777, 1], which does not match the required output \n",
       "shape [1, 777, 32]. This behavior is deprecated, and in a future PyTorch release outputs will not be resized unless\n",
       "they have zero elements. You can explicitly reuse an out tensor t by resizing it, inplace, to zero elements with \n",
       "t.resize_(0). (Triggered internally at \n",
       "/opt/conda/conda-bld/pytorch_1695392035891/work/aten/src/ATen/native/Resize.cpp:28.)\n",
       "  Variable._execution_engine.run_backward(  # Calls into the C++ engine to run the backward pass\n"
      ]
     },
     "metadata": {},
     "output_type": "display_data"
    },
    {
     "data": {
      "text/html": [
       "<pre style=\"white-space:pre;overflow-x:auto;line-height:normal;font-family:Menlo,'DejaVu Sans Mono',consolas,'Courier New',monospace\">/home/zekai/miniconda3/envs/eq/lib/python3.11/site-packages/torch/autograd/__init__.py:251: UserWarning: An output \n",
       "with one or more elements was resized since it had shape [1, 157, 1], which does not match the required output \n",
       "shape [1, 157, 32]. This behavior is deprecated, and in a future PyTorch release outputs will not be resized unless\n",
       "they have zero elements. You can explicitly reuse an out tensor t by resizing it, inplace, to zero elements with \n",
       "t.resize_(0). (Triggered internally at \n",
       "/opt/conda/conda-bld/pytorch_1695392035891/work/aten/src/ATen/native/Resize.cpp:28.)\n",
       "  Variable._execution_engine.run_backward(  # Calls into the C++ engine to run the backward pass\n",
       "</pre>\n"
      ],
      "text/plain": [
       "/home/zekai/miniconda3/envs/eq/lib/python3.11/site-packages/torch/autograd/__init__.py:251: UserWarning: An output \n",
       "with one or more elements was resized since it had shape [1, 157, 1], which does not match the required output \n",
       "shape [1, 157, 32]. This behavior is deprecated, and in a future PyTorch release outputs will not be resized unless\n",
       "they have zero elements. You can explicitly reuse an out tensor t by resizing it, inplace, to zero elements with \n",
       "t.resize_(0). (Triggered internally at \n",
       "/opt/conda/conda-bld/pytorch_1695392035891/work/aten/src/ATen/native/Resize.cpp:28.)\n",
       "  Variable._execution_engine.run_backward(  # Calls into the C++ engine to run the backward pass\n"
      ]
     },
     "metadata": {},
     "output_type": "display_data"
    },
    {
     "data": {
      "text/html": [
       "<pre style=\"white-space:pre;overflow-x:auto;line-height:normal;font-family:Menlo,'DejaVu Sans Mono',consolas,'Courier New',monospace\">/home/zekai/miniconda3/envs/eq/lib/python3.11/site-packages/torch/autograd/__init__.py:251: UserWarning: An output \n",
       "with one or more elements was resized since it had shape [1, 370, 1], which does not match the required output \n",
       "shape [1, 370, 32]. This behavior is deprecated, and in a future PyTorch release outputs will not be resized unless\n",
       "they have zero elements. You can explicitly reuse an out tensor t by resizing it, inplace, to zero elements with \n",
       "t.resize_(0). (Triggered internally at \n",
       "/opt/conda/conda-bld/pytorch_1695392035891/work/aten/src/ATen/native/Resize.cpp:28.)\n",
       "  Variable._execution_engine.run_backward(  # Calls into the C++ engine to run the backward pass\n",
       "</pre>\n"
      ],
      "text/plain": [
       "/home/zekai/miniconda3/envs/eq/lib/python3.11/site-packages/torch/autograd/__init__.py:251: UserWarning: An output \n",
       "with one or more elements was resized since it had shape [1, 370, 1], which does not match the required output \n",
       "shape [1, 370, 32]. This behavior is deprecated, and in a future PyTorch release outputs will not be resized unless\n",
       "they have zero elements. You can explicitly reuse an out tensor t by resizing it, inplace, to zero elements with \n",
       "t.resize_(0). (Triggered internally at \n",
       "/opt/conda/conda-bld/pytorch_1695392035891/work/aten/src/ATen/native/Resize.cpp:28.)\n",
       "  Variable._execution_engine.run_backward(  # Calls into the C++ engine to run the backward pass\n"
      ]
     },
     "metadata": {},
     "output_type": "display_data"
    },
    {
     "data": {
      "text/html": [
       "<pre style=\"white-space:pre;overflow-x:auto;line-height:normal;font-family:Menlo,'DejaVu Sans Mono',consolas,'Courier New',monospace\">/home/zekai/miniconda3/envs/eq/lib/python3.11/site-packages/torch/autograd/__init__.py:251: UserWarning: An output \n",
       "with one or more elements was resized since it had shape [1, 283, 1], which does not match the required output \n",
       "shape [1, 283, 32]. This behavior is deprecated, and in a future PyTorch release outputs will not be resized unless\n",
       "they have zero elements. You can explicitly reuse an out tensor t by resizing it, inplace, to zero elements with \n",
       "t.resize_(0). (Triggered internally at \n",
       "/opt/conda/conda-bld/pytorch_1695392035891/work/aten/src/ATen/native/Resize.cpp:28.)\n",
       "  Variable._execution_engine.run_backward(  # Calls into the C++ engine to run the backward pass\n",
       "</pre>\n"
      ],
      "text/plain": [
       "/home/zekai/miniconda3/envs/eq/lib/python3.11/site-packages/torch/autograd/__init__.py:251: UserWarning: An output \n",
       "with one or more elements was resized since it had shape [1, 283, 1], which does not match the required output \n",
       "shape [1, 283, 32]. This behavior is deprecated, and in a future PyTorch release outputs will not be resized unless\n",
       "they have zero elements. You can explicitly reuse an out tensor t by resizing it, inplace, to zero elements with \n",
       "t.resize_(0). (Triggered internally at \n",
       "/opt/conda/conda-bld/pytorch_1695392035891/work/aten/src/ATen/native/Resize.cpp:28.)\n",
       "  Variable._execution_engine.run_backward(  # Calls into the C++ engine to run the backward pass\n"
      ]
     },
     "metadata": {},
     "output_type": "display_data"
    },
    {
     "data": {
      "text/html": [
       "<pre style=\"white-space:pre;overflow-x:auto;line-height:normal;font-family:Menlo,'DejaVu Sans Mono',consolas,'Courier New',monospace\">/home/zekai/miniconda3/envs/eq/lib/python3.11/site-packages/torch/autograd/__init__.py:251: UserWarning: An output \n",
       "with one or more elements was resized since it had shape [1, 96, 1], which does not match the required output shape\n",
       "[1, 96, 32]. This behavior is deprecated, and in a future PyTorch release outputs will not be resized unless they \n",
       "have zero elements. You can explicitly reuse an out tensor t by resizing it, inplace, to zero elements with \n",
       "t.resize_(0). (Triggered internally at \n",
       "/opt/conda/conda-bld/pytorch_1695392035891/work/aten/src/ATen/native/Resize.cpp:28.)\n",
       "  Variable._execution_engine.run_backward(  # Calls into the C++ engine to run the backward pass\n",
       "</pre>\n"
      ],
      "text/plain": [
       "/home/zekai/miniconda3/envs/eq/lib/python3.11/site-packages/torch/autograd/__init__.py:251: UserWarning: An output \n",
       "with one or more elements was resized since it had shape [1, 96, 1], which does not match the required output shape\n",
       "[1, 96, 32]. This behavior is deprecated, and in a future PyTorch release outputs will not be resized unless they \n",
       "have zero elements. You can explicitly reuse an out tensor t by resizing it, inplace, to zero elements with \n",
       "t.resize_(0). (Triggered internally at \n",
       "/opt/conda/conda-bld/pytorch_1695392035891/work/aten/src/ATen/native/Resize.cpp:28.)\n",
       "  Variable._execution_engine.run_backward(  # Calls into the C++ engine to run the backward pass\n"
      ]
     },
     "metadata": {},
     "output_type": "display_data"
    },
    {
     "data": {
      "text/html": [
       "<pre style=\"white-space:pre;overflow-x:auto;line-height:normal;font-family:Menlo,'DejaVu Sans Mono',consolas,'Courier New',monospace\">/home/zekai/miniconda3/envs/eq/lib/python3.11/site-packages/torch/autograd/__init__.py:251: UserWarning: An output \n",
       "with one or more elements was resized since it had shape [1, 756, 1], which does not match the required output \n",
       "shape [1, 756, 32]. This behavior is deprecated, and in a future PyTorch release outputs will not be resized unless\n",
       "they have zero elements. You can explicitly reuse an out tensor t by resizing it, inplace, to zero elements with \n",
       "t.resize_(0). (Triggered internally at \n",
       "/opt/conda/conda-bld/pytorch_1695392035891/work/aten/src/ATen/native/Resize.cpp:28.)\n",
       "  Variable._execution_engine.run_backward(  # Calls into the C++ engine to run the backward pass\n",
       "</pre>\n"
      ],
      "text/plain": [
       "/home/zekai/miniconda3/envs/eq/lib/python3.11/site-packages/torch/autograd/__init__.py:251: UserWarning: An output \n",
       "with one or more elements was resized since it had shape [1, 756, 1], which does not match the required output \n",
       "shape [1, 756, 32]. This behavior is deprecated, and in a future PyTorch release outputs will not be resized unless\n",
       "they have zero elements. You can explicitly reuse an out tensor t by resizing it, inplace, to zero elements with \n",
       "t.resize_(0). (Triggered internally at \n",
       "/opt/conda/conda-bld/pytorch_1695392035891/work/aten/src/ATen/native/Resize.cpp:28.)\n",
       "  Variable._execution_engine.run_backward(  # Calls into the C++ engine to run the backward pass\n"
      ]
     },
     "metadata": {},
     "output_type": "display_data"
    },
    {
     "data": {
      "text/html": [
       "<pre style=\"white-space:pre;overflow-x:auto;line-height:normal;font-family:Menlo,'DejaVu Sans Mono',consolas,'Courier New',monospace\">/home/zekai/miniconda3/envs/eq/lib/python3.11/site-packages/torch/autograd/__init__.py:251: UserWarning: An output \n",
       "with one or more elements was resized since it had shape [1, 185, 1], which does not match the required output \n",
       "shape [1, 185, 32]. This behavior is deprecated, and in a future PyTorch release outputs will not be resized unless\n",
       "they have zero elements. You can explicitly reuse an out tensor t by resizing it, inplace, to zero elements with \n",
       "t.resize_(0). (Triggered internally at \n",
       "/opt/conda/conda-bld/pytorch_1695392035891/work/aten/src/ATen/native/Resize.cpp:28.)\n",
       "  Variable._execution_engine.run_backward(  # Calls into the C++ engine to run the backward pass\n",
       "</pre>\n"
      ],
      "text/plain": [
       "/home/zekai/miniconda3/envs/eq/lib/python3.11/site-packages/torch/autograd/__init__.py:251: UserWarning: An output \n",
       "with one or more elements was resized since it had shape [1, 185, 1], which does not match the required output \n",
       "shape [1, 185, 32]. This behavior is deprecated, and in a future PyTorch release outputs will not be resized unless\n",
       "they have zero elements. You can explicitly reuse an out tensor t by resizing it, inplace, to zero elements with \n",
       "t.resize_(0). (Triggered internally at \n",
       "/opt/conda/conda-bld/pytorch_1695392035891/work/aten/src/ATen/native/Resize.cpp:28.)\n",
       "  Variable._execution_engine.run_backward(  # Calls into the C++ engine to run the backward pass\n"
      ]
     },
     "metadata": {},
     "output_type": "display_data"
    },
    {
     "data": {
      "text/html": [
       "<pre style=\"white-space:pre;overflow-x:auto;line-height:normal;font-family:Menlo,'DejaVu Sans Mono',consolas,'Courier New',monospace\">/home/zekai/miniconda3/envs/eq/lib/python3.11/site-packages/torch/autograd/__init__.py:251: UserWarning: An output \n",
       "with one or more elements was resized since it had shape [1, 392, 1], which does not match the required output \n",
       "shape [1, 392, 32]. This behavior is deprecated, and in a future PyTorch release outputs will not be resized unless\n",
       "they have zero elements. You can explicitly reuse an out tensor t by resizing it, inplace, to zero elements with \n",
       "t.resize_(0). (Triggered internally at \n",
       "/opt/conda/conda-bld/pytorch_1695392035891/work/aten/src/ATen/native/Resize.cpp:28.)\n",
       "  Variable._execution_engine.run_backward(  # Calls into the C++ engine to run the backward pass\n",
       "</pre>\n"
      ],
      "text/plain": [
       "/home/zekai/miniconda3/envs/eq/lib/python3.11/site-packages/torch/autograd/__init__.py:251: UserWarning: An output \n",
       "with one or more elements was resized since it had shape [1, 392, 1], which does not match the required output \n",
       "shape [1, 392, 32]. This behavior is deprecated, and in a future PyTorch release outputs will not be resized unless\n",
       "they have zero elements. You can explicitly reuse an out tensor t by resizing it, inplace, to zero elements with \n",
       "t.resize_(0). (Triggered internally at \n",
       "/opt/conda/conda-bld/pytorch_1695392035891/work/aten/src/ATen/native/Resize.cpp:28.)\n",
       "  Variable._execution_engine.run_backward(  # Calls into the C++ engine to run the backward pass\n"
      ]
     },
     "metadata": {},
     "output_type": "display_data"
    },
    {
     "data": {
      "text/html": [
       "<pre style=\"white-space:pre;overflow-x:auto;line-height:normal;font-family:Menlo,'DejaVu Sans Mono',consolas,'Courier New',monospace\">/home/zekai/miniconda3/envs/eq/lib/python3.11/site-packages/torch/autograd/__init__.py:251: UserWarning: An output \n",
       "with one or more elements was resized since it had shape [1, 571, 1], which does not match the required output \n",
       "shape [1, 571, 32]. This behavior is deprecated, and in a future PyTorch release outputs will not be resized unless\n",
       "they have zero elements. You can explicitly reuse an out tensor t by resizing it, inplace, to zero elements with \n",
       "t.resize_(0). (Triggered internally at \n",
       "/opt/conda/conda-bld/pytorch_1695392035891/work/aten/src/ATen/native/Resize.cpp:28.)\n",
       "  Variable._execution_engine.run_backward(  # Calls into the C++ engine to run the backward pass\n",
       "</pre>\n"
      ],
      "text/plain": [
       "/home/zekai/miniconda3/envs/eq/lib/python3.11/site-packages/torch/autograd/__init__.py:251: UserWarning: An output \n",
       "with one or more elements was resized since it had shape [1, 571, 1], which does not match the required output \n",
       "shape [1, 571, 32]. This behavior is deprecated, and in a future PyTorch release outputs will not be resized unless\n",
       "they have zero elements. You can explicitly reuse an out tensor t by resizing it, inplace, to zero elements with \n",
       "t.resize_(0). (Triggered internally at \n",
       "/opt/conda/conda-bld/pytorch_1695392035891/work/aten/src/ATen/native/Resize.cpp:28.)\n",
       "  Variable._execution_engine.run_backward(  # Calls into the C++ engine to run the backward pass\n"
      ]
     },
     "metadata": {},
     "output_type": "display_data"
    },
    {
     "data": {
      "text/html": [
       "<pre style=\"white-space:pre;overflow-x:auto;line-height:normal;font-family:Menlo,'DejaVu Sans Mono',consolas,'Courier New',monospace\">/home/zekai/miniconda3/envs/eq/lib/python3.11/site-packages/torch/autograd/__init__.py:251: UserWarning: An output \n",
       "with one or more elements was resized since it had shape [1, 592, 1], which does not match the required output \n",
       "shape [1, 592, 32]. This behavior is deprecated, and in a future PyTorch release outputs will not be resized unless\n",
       "they have zero elements. You can explicitly reuse an out tensor t by resizing it, inplace, to zero elements with \n",
       "t.resize_(0). (Triggered internally at \n",
       "/opt/conda/conda-bld/pytorch_1695392035891/work/aten/src/ATen/native/Resize.cpp:28.)\n",
       "  Variable._execution_engine.run_backward(  # Calls into the C++ engine to run the backward pass\n",
       "</pre>\n"
      ],
      "text/plain": [
       "/home/zekai/miniconda3/envs/eq/lib/python3.11/site-packages/torch/autograd/__init__.py:251: UserWarning: An output \n",
       "with one or more elements was resized since it had shape [1, 592, 1], which does not match the required output \n",
       "shape [1, 592, 32]. This behavior is deprecated, and in a future PyTorch release outputs will not be resized unless\n",
       "they have zero elements. You can explicitly reuse an out tensor t by resizing it, inplace, to zero elements with \n",
       "t.resize_(0). (Triggered internally at \n",
       "/opt/conda/conda-bld/pytorch_1695392035891/work/aten/src/ATen/native/Resize.cpp:28.)\n",
       "  Variable._execution_engine.run_backward(  # Calls into the C++ engine to run the backward pass\n"
      ]
     },
     "metadata": {},
     "output_type": "display_data"
    },
    {
     "data": {
      "text/html": [
       "<pre style=\"white-space:pre;overflow-x:auto;line-height:normal;font-family:Menlo,'DejaVu Sans Mono',consolas,'Courier New',monospace\">/home/zekai/miniconda3/envs/eq/lib/python3.11/site-packages/torch/autograd/__init__.py:251: UserWarning: An output \n",
       "with one or more elements was resized since it had shape [1, 237, 1], which does not match the required output \n",
       "shape [1, 237, 32]. This behavior is deprecated, and in a future PyTorch release outputs will not be resized unless\n",
       "they have zero elements. You can explicitly reuse an out tensor t by resizing it, inplace, to zero elements with \n",
       "t.resize_(0). (Triggered internally at \n",
       "/opt/conda/conda-bld/pytorch_1695392035891/work/aten/src/ATen/native/Resize.cpp:28.)\n",
       "  Variable._execution_engine.run_backward(  # Calls into the C++ engine to run the backward pass\n",
       "</pre>\n"
      ],
      "text/plain": [
       "/home/zekai/miniconda3/envs/eq/lib/python3.11/site-packages/torch/autograd/__init__.py:251: UserWarning: An output \n",
       "with one or more elements was resized since it had shape [1, 237, 1], which does not match the required output \n",
       "shape [1, 237, 32]. This behavior is deprecated, and in a future PyTorch release outputs will not be resized unless\n",
       "they have zero elements. You can explicitly reuse an out tensor t by resizing it, inplace, to zero elements with \n",
       "t.resize_(0). (Triggered internally at \n",
       "/opt/conda/conda-bld/pytorch_1695392035891/work/aten/src/ATen/native/Resize.cpp:28.)\n",
       "  Variable._execution_engine.run_backward(  # Calls into the C++ engine to run the backward pass\n"
      ]
     },
     "metadata": {},
     "output_type": "display_data"
    },
    {
     "data": {
      "text/html": [
       "<pre style=\"white-space:pre;overflow-x:auto;line-height:normal;font-family:Menlo,'DejaVu Sans Mono',consolas,'Courier New',monospace\">/home/zekai/miniconda3/envs/eq/lib/python3.11/site-packages/torch/autograd/__init__.py:251: UserWarning: An output \n",
       "with one or more elements was resized since it had shape [1, 300, 1], which does not match the required output \n",
       "shape [1, 300, 32]. This behavior is deprecated, and in a future PyTorch release outputs will not be resized unless\n",
       "they have zero elements. You can explicitly reuse an out tensor t by resizing it, inplace, to zero elements with \n",
       "t.resize_(0). (Triggered internally at \n",
       "/opt/conda/conda-bld/pytorch_1695392035891/work/aten/src/ATen/native/Resize.cpp:28.)\n",
       "  Variable._execution_engine.run_backward(  # Calls into the C++ engine to run the backward pass\n",
       "</pre>\n"
      ],
      "text/plain": [
       "/home/zekai/miniconda3/envs/eq/lib/python3.11/site-packages/torch/autograd/__init__.py:251: UserWarning: An output \n",
       "with one or more elements was resized since it had shape [1, 300, 1], which does not match the required output \n",
       "shape [1, 300, 32]. This behavior is deprecated, and in a future PyTorch release outputs will not be resized unless\n",
       "they have zero elements. You can explicitly reuse an out tensor t by resizing it, inplace, to zero elements with \n",
       "t.resize_(0). (Triggered internally at \n",
       "/opt/conda/conda-bld/pytorch_1695392035891/work/aten/src/ATen/native/Resize.cpp:28.)\n",
       "  Variable._execution_engine.run_backward(  # Calls into the C++ engine to run the backward pass\n"
      ]
     },
     "metadata": {},
     "output_type": "display_data"
    },
    {
     "data": {
      "text/html": [
       "<pre style=\"white-space:pre;overflow-x:auto;line-height:normal;font-family:Menlo,'DejaVu Sans Mono',consolas,'Courier New',monospace\">/home/zekai/miniconda3/envs/eq/lib/python3.11/site-packages/torch/autograd/__init__.py:251: UserWarning: An output \n",
       "with one or more elements was resized since it had shape [1, 676, 1], which does not match the required output \n",
       "shape [1, 676, 32]. This behavior is deprecated, and in a future PyTorch release outputs will not be resized unless\n",
       "they have zero elements. You can explicitly reuse an out tensor t by resizing it, inplace, to zero elements with \n",
       "t.resize_(0). (Triggered internally at \n",
       "/opt/conda/conda-bld/pytorch_1695392035891/work/aten/src/ATen/native/Resize.cpp:28.)\n",
       "  Variable._execution_engine.run_backward(  # Calls into the C++ engine to run the backward pass\n",
       "</pre>\n"
      ],
      "text/plain": [
       "/home/zekai/miniconda3/envs/eq/lib/python3.11/site-packages/torch/autograd/__init__.py:251: UserWarning: An output \n",
       "with one or more elements was resized since it had shape [1, 676, 1], which does not match the required output \n",
       "shape [1, 676, 32]. This behavior is deprecated, and in a future PyTorch release outputs will not be resized unless\n",
       "they have zero elements. You can explicitly reuse an out tensor t by resizing it, inplace, to zero elements with \n",
       "t.resize_(0). (Triggered internally at \n",
       "/opt/conda/conda-bld/pytorch_1695392035891/work/aten/src/ATen/native/Resize.cpp:28.)\n",
       "  Variable._execution_engine.run_backward(  # Calls into the C++ engine to run the backward pass\n"
      ]
     },
     "metadata": {},
     "output_type": "display_data"
    },
    {
     "data": {
      "text/html": [
       "<pre style=\"white-space:pre;overflow-x:auto;line-height:normal;font-family:Menlo,'DejaVu Sans Mono',consolas,'Courier New',monospace\">/home/zekai/miniconda3/envs/eq/lib/python3.11/site-packages/torch/autograd/__init__.py:251: UserWarning: An output \n",
       "with one or more elements was resized since it had shape [1, 65, 1], which does not match the required output shape\n",
       "[1, 65, 32]. This behavior is deprecated, and in a future PyTorch release outputs will not be resized unless they \n",
       "have zero elements. You can explicitly reuse an out tensor t by resizing it, inplace, to zero elements with \n",
       "t.resize_(0). (Triggered internally at \n",
       "/opt/conda/conda-bld/pytorch_1695392035891/work/aten/src/ATen/native/Resize.cpp:28.)\n",
       "  Variable._execution_engine.run_backward(  # Calls into the C++ engine to run the backward pass\n",
       "</pre>\n"
      ],
      "text/plain": [
       "/home/zekai/miniconda3/envs/eq/lib/python3.11/site-packages/torch/autograd/__init__.py:251: UserWarning: An output \n",
       "with one or more elements was resized since it had shape [1, 65, 1], which does not match the required output shape\n",
       "[1, 65, 32]. This behavior is deprecated, and in a future PyTorch release outputs will not be resized unless they \n",
       "have zero elements. You can explicitly reuse an out tensor t by resizing it, inplace, to zero elements with \n",
       "t.resize_(0). (Triggered internally at \n",
       "/opt/conda/conda-bld/pytorch_1695392035891/work/aten/src/ATen/native/Resize.cpp:28.)\n",
       "  Variable._execution_engine.run_backward(  # Calls into the C++ engine to run the backward pass\n"
      ]
     },
     "metadata": {},
     "output_type": "display_data"
    },
    {
     "data": {
      "text/html": [
       "<pre style=\"white-space:pre;overflow-x:auto;line-height:normal;font-family:Menlo,'DejaVu Sans Mono',consolas,'Courier New',monospace\">/home/zekai/miniconda3/envs/eq/lib/python3.11/site-packages/torch/autograd/__init__.py:251: UserWarning: An output \n",
       "with one or more elements was resized since it had shape [1, 467, 1], which does not match the required output \n",
       "shape [1, 467, 32]. This behavior is deprecated, and in a future PyTorch release outputs will not be resized unless\n",
       "they have zero elements. You can explicitly reuse an out tensor t by resizing it, inplace, to zero elements with \n",
       "t.resize_(0). (Triggered internally at \n",
       "/opt/conda/conda-bld/pytorch_1695392035891/work/aten/src/ATen/native/Resize.cpp:28.)\n",
       "  Variable._execution_engine.run_backward(  # Calls into the C++ engine to run the backward pass\n",
       "</pre>\n"
      ],
      "text/plain": [
       "/home/zekai/miniconda3/envs/eq/lib/python3.11/site-packages/torch/autograd/__init__.py:251: UserWarning: An output \n",
       "with one or more elements was resized since it had shape [1, 467, 1], which does not match the required output \n",
       "shape [1, 467, 32]. This behavior is deprecated, and in a future PyTorch release outputs will not be resized unless\n",
       "they have zero elements. You can explicitly reuse an out tensor t by resizing it, inplace, to zero elements with \n",
       "t.resize_(0). (Triggered internally at \n",
       "/opt/conda/conda-bld/pytorch_1695392035891/work/aten/src/ATen/native/Resize.cpp:28.)\n",
       "  Variable._execution_engine.run_backward(  # Calls into the C++ engine to run the backward pass\n"
      ]
     },
     "metadata": {},
     "output_type": "display_data"
    },
    {
     "data": {
      "text/html": [
       "<pre style=\"white-space:pre;overflow-x:auto;line-height:normal;font-family:Menlo,'DejaVu Sans Mono',consolas,'Courier New',monospace\">/home/zekai/miniconda3/envs/eq/lib/python3.11/site-packages/torch/autograd/__init__.py:251: UserWarning: An output \n",
       "with one or more elements was resized since it had shape [1, 298, 1], which does not match the required output \n",
       "shape [1, 298, 32]. This behavior is deprecated, and in a future PyTorch release outputs will not be resized unless\n",
       "they have zero elements. You can explicitly reuse an out tensor t by resizing it, inplace, to zero elements with \n",
       "t.resize_(0). (Triggered internally at \n",
       "/opt/conda/conda-bld/pytorch_1695392035891/work/aten/src/ATen/native/Resize.cpp:28.)\n",
       "  Variable._execution_engine.run_backward(  # Calls into the C++ engine to run the backward pass\n",
       "</pre>\n"
      ],
      "text/plain": [
       "/home/zekai/miniconda3/envs/eq/lib/python3.11/site-packages/torch/autograd/__init__.py:251: UserWarning: An output \n",
       "with one or more elements was resized since it had shape [1, 298, 1], which does not match the required output \n",
       "shape [1, 298, 32]. This behavior is deprecated, and in a future PyTorch release outputs will not be resized unless\n",
       "they have zero elements. You can explicitly reuse an out tensor t by resizing it, inplace, to zero elements with \n",
       "t.resize_(0). (Triggered internally at \n",
       "/opt/conda/conda-bld/pytorch_1695392035891/work/aten/src/ATen/native/Resize.cpp:28.)\n",
       "  Variable._execution_engine.run_backward(  # Calls into the C++ engine to run the backward pass\n"
      ]
     },
     "metadata": {},
     "output_type": "display_data"
    },
    {
     "data": {
      "text/html": [
       "<pre style=\"white-space:pre;overflow-x:auto;line-height:normal;font-family:Menlo,'DejaVu Sans Mono',consolas,'Courier New',monospace\">/home/zekai/miniconda3/envs/eq/lib/python3.11/site-packages/torch/autograd/__init__.py:251: UserWarning: An output \n",
       "with one or more elements was resized since it had shape [1, 172, 1], which does not match the required output \n",
       "shape [1, 172, 32]. This behavior is deprecated, and in a future PyTorch release outputs will not be resized unless\n",
       "they have zero elements. You can explicitly reuse an out tensor t by resizing it, inplace, to zero elements with \n",
       "t.resize_(0). (Triggered internally at \n",
       "/opt/conda/conda-bld/pytorch_1695392035891/work/aten/src/ATen/native/Resize.cpp:28.)\n",
       "  Variable._execution_engine.run_backward(  # Calls into the C++ engine to run the backward pass\n",
       "</pre>\n"
      ],
      "text/plain": [
       "/home/zekai/miniconda3/envs/eq/lib/python3.11/site-packages/torch/autograd/__init__.py:251: UserWarning: An output \n",
       "with one or more elements was resized since it had shape [1, 172, 1], which does not match the required output \n",
       "shape [1, 172, 32]. This behavior is deprecated, and in a future PyTorch release outputs will not be resized unless\n",
       "they have zero elements. You can explicitly reuse an out tensor t by resizing it, inplace, to zero elements with \n",
       "t.resize_(0). (Triggered internally at \n",
       "/opt/conda/conda-bld/pytorch_1695392035891/work/aten/src/ATen/native/Resize.cpp:28.)\n",
       "  Variable._execution_engine.run_backward(  # Calls into the C++ engine to run the backward pass\n"
      ]
     },
     "metadata": {},
     "output_type": "display_data"
    },
    {
     "data": {
      "text/html": [
       "<pre style=\"white-space:pre;overflow-x:auto;line-height:normal;font-family:Menlo,'DejaVu Sans Mono',consolas,'Courier New',monospace\">/home/zekai/miniconda3/envs/eq/lib/python3.11/site-packages/torch/autograd/__init__.py:251: UserWarning: An output \n",
       "with one or more elements was resized since it had shape [1, 427, 1], which does not match the required output \n",
       "shape [1, 427, 32]. This behavior is deprecated, and in a future PyTorch release outputs will not be resized unless\n",
       "they have zero elements. You can explicitly reuse an out tensor t by resizing it, inplace, to zero elements with \n",
       "t.resize_(0). (Triggered internally at \n",
       "/opt/conda/conda-bld/pytorch_1695392035891/work/aten/src/ATen/native/Resize.cpp:28.)\n",
       "  Variable._execution_engine.run_backward(  # Calls into the C++ engine to run the backward pass\n",
       "</pre>\n"
      ],
      "text/plain": [
       "/home/zekai/miniconda3/envs/eq/lib/python3.11/site-packages/torch/autograd/__init__.py:251: UserWarning: An output \n",
       "with one or more elements was resized since it had shape [1, 427, 1], which does not match the required output \n",
       "shape [1, 427, 32]. This behavior is deprecated, and in a future PyTorch release outputs will not be resized unless\n",
       "they have zero elements. You can explicitly reuse an out tensor t by resizing it, inplace, to zero elements with \n",
       "t.resize_(0). (Triggered internally at \n",
       "/opt/conda/conda-bld/pytorch_1695392035891/work/aten/src/ATen/native/Resize.cpp:28.)\n",
       "  Variable._execution_engine.run_backward(  # Calls into the C++ engine to run the backward pass\n"
      ]
     },
     "metadata": {},
     "output_type": "display_data"
    },
    {
     "data": {
      "text/html": [
       "<pre style=\"white-space:pre;overflow-x:auto;line-height:normal;font-family:Menlo,'DejaVu Sans Mono',consolas,'Courier New',monospace\">/home/zekai/miniconda3/envs/eq/lib/python3.11/site-packages/torch/autograd/__init__.py:251: UserWarning: An output \n",
       "with one or more elements was resized since it had shape [1, 205, 1], which does not match the required output \n",
       "shape [1, 205, 32]. This behavior is deprecated, and in a future PyTorch release outputs will not be resized unless\n",
       "they have zero elements. You can explicitly reuse an out tensor t by resizing it, inplace, to zero elements with \n",
       "t.resize_(0). (Triggered internally at \n",
       "/opt/conda/conda-bld/pytorch_1695392035891/work/aten/src/ATen/native/Resize.cpp:28.)\n",
       "  Variable._execution_engine.run_backward(  # Calls into the C++ engine to run the backward pass\n",
       "</pre>\n"
      ],
      "text/plain": [
       "/home/zekai/miniconda3/envs/eq/lib/python3.11/site-packages/torch/autograd/__init__.py:251: UserWarning: An output \n",
       "with one or more elements was resized since it had shape [1, 205, 1], which does not match the required output \n",
       "shape [1, 205, 32]. This behavior is deprecated, and in a future PyTorch release outputs will not be resized unless\n",
       "they have zero elements. You can explicitly reuse an out tensor t by resizing it, inplace, to zero elements with \n",
       "t.resize_(0). (Triggered internally at \n",
       "/opt/conda/conda-bld/pytorch_1695392035891/work/aten/src/ATen/native/Resize.cpp:28.)\n",
       "  Variable._execution_engine.run_backward(  # Calls into the C++ engine to run the backward pass\n"
      ]
     },
     "metadata": {},
     "output_type": "display_data"
    },
    {
     "data": {
      "text/html": [
       "<pre style=\"white-space:pre;overflow-x:auto;line-height:normal;font-family:Menlo,'DejaVu Sans Mono',consolas,'Courier New',monospace\">/home/zekai/miniconda3/envs/eq/lib/python3.11/site-packages/torch/autograd/__init__.py:251: UserWarning: An output \n",
       "with one or more elements was resized since it had shape [1, 296, 1], which does not match the required output \n",
       "shape [1, 296, 32]. This behavior is deprecated, and in a future PyTorch release outputs will not be resized unless\n",
       "they have zero elements. You can explicitly reuse an out tensor t by resizing it, inplace, to zero elements with \n",
       "t.resize_(0). (Triggered internally at \n",
       "/opt/conda/conda-bld/pytorch_1695392035891/work/aten/src/ATen/native/Resize.cpp:28.)\n",
       "  Variable._execution_engine.run_backward(  # Calls into the C++ engine to run the backward pass\n",
       "</pre>\n"
      ],
      "text/plain": [
       "/home/zekai/miniconda3/envs/eq/lib/python3.11/site-packages/torch/autograd/__init__.py:251: UserWarning: An output \n",
       "with one or more elements was resized since it had shape [1, 296, 1], which does not match the required output \n",
       "shape [1, 296, 32]. This behavior is deprecated, and in a future PyTorch release outputs will not be resized unless\n",
       "they have zero elements. You can explicitly reuse an out tensor t by resizing it, inplace, to zero elements with \n",
       "t.resize_(0). (Triggered internally at \n",
       "/opt/conda/conda-bld/pytorch_1695392035891/work/aten/src/ATen/native/Resize.cpp:28.)\n",
       "  Variable._execution_engine.run_backward(  # Calls into the C++ engine to run the backward pass\n"
      ]
     },
     "metadata": {},
     "output_type": "display_data"
    },
    {
     "data": {
      "text/html": [
       "<pre style=\"white-space:pre;overflow-x:auto;line-height:normal;font-family:Menlo,'DejaVu Sans Mono',consolas,'Courier New',monospace\">/home/zekai/miniconda3/envs/eq/lib/python3.11/site-packages/torch/autograd/__init__.py:251: UserWarning: An output \n",
       "with one or more elements was resized since it had shape [1, 197, 1], which does not match the required output \n",
       "shape [1, 197, 32]. This behavior is deprecated, and in a future PyTorch release outputs will not be resized unless\n",
       "they have zero elements. You can explicitly reuse an out tensor t by resizing it, inplace, to zero elements with \n",
       "t.resize_(0). (Triggered internally at \n",
       "/opt/conda/conda-bld/pytorch_1695392035891/work/aten/src/ATen/native/Resize.cpp:28.)\n",
       "  Variable._execution_engine.run_backward(  # Calls into the C++ engine to run the backward pass\n",
       "</pre>\n"
      ],
      "text/plain": [
       "/home/zekai/miniconda3/envs/eq/lib/python3.11/site-packages/torch/autograd/__init__.py:251: UserWarning: An output \n",
       "with one or more elements was resized since it had shape [1, 197, 1], which does not match the required output \n",
       "shape [1, 197, 32]. This behavior is deprecated, and in a future PyTorch release outputs will not be resized unless\n",
       "they have zero elements. You can explicitly reuse an out tensor t by resizing it, inplace, to zero elements with \n",
       "t.resize_(0). (Triggered internally at \n",
       "/opt/conda/conda-bld/pytorch_1695392035891/work/aten/src/ATen/native/Resize.cpp:28.)\n",
       "  Variable._execution_engine.run_backward(  # Calls into the C++ engine to run the backward pass\n"
      ]
     },
     "metadata": {},
     "output_type": "display_data"
    },
    {
     "data": {
      "text/html": [
       "<pre style=\"white-space:pre;overflow-x:auto;line-height:normal;font-family:Menlo,'DejaVu Sans Mono',consolas,'Courier New',monospace\">/home/zekai/miniconda3/envs/eq/lib/python3.11/site-packages/torch/autograd/__init__.py:251: UserWarning: An output \n",
       "with one or more elements was resized since it had shape [1, 178, 1], which does not match the required output \n",
       "shape [1, 178, 32]. This behavior is deprecated, and in a future PyTorch release outputs will not be resized unless\n",
       "they have zero elements. You can explicitly reuse an out tensor t by resizing it, inplace, to zero elements with \n",
       "t.resize_(0). (Triggered internally at \n",
       "/opt/conda/conda-bld/pytorch_1695392035891/work/aten/src/ATen/native/Resize.cpp:28.)\n",
       "  Variable._execution_engine.run_backward(  # Calls into the C++ engine to run the backward pass\n",
       "</pre>\n"
      ],
      "text/plain": [
       "/home/zekai/miniconda3/envs/eq/lib/python3.11/site-packages/torch/autograd/__init__.py:251: UserWarning: An output \n",
       "with one or more elements was resized since it had shape [1, 178, 1], which does not match the required output \n",
       "shape [1, 178, 32]. This behavior is deprecated, and in a future PyTorch release outputs will not be resized unless\n",
       "they have zero elements. You can explicitly reuse an out tensor t by resizing it, inplace, to zero elements with \n",
       "t.resize_(0). (Triggered internally at \n",
       "/opt/conda/conda-bld/pytorch_1695392035891/work/aten/src/ATen/native/Resize.cpp:28.)\n",
       "  Variable._execution_engine.run_backward(  # Calls into the C++ engine to run the backward pass\n"
      ]
     },
     "metadata": {},
     "output_type": "display_data"
    },
    {
     "data": {
      "text/html": [
       "<pre style=\"white-space:pre;overflow-x:auto;line-height:normal;font-family:Menlo,'DejaVu Sans Mono',consolas,'Courier New',monospace\">/home/zekai/miniconda3/envs/eq/lib/python3.11/site-packages/torch/autograd/__init__.py:251: UserWarning: An output \n",
       "with one or more elements was resized since it had shape [1, 778, 1], which does not match the required output \n",
       "shape [1, 778, 32]. This behavior is deprecated, and in a future PyTorch release outputs will not be resized unless\n",
       "they have zero elements. You can explicitly reuse an out tensor t by resizing it, inplace, to zero elements with \n",
       "t.resize_(0). (Triggered internally at \n",
       "/opt/conda/conda-bld/pytorch_1695392035891/work/aten/src/ATen/native/Resize.cpp:28.)\n",
       "  Variable._execution_engine.run_backward(  # Calls into the C++ engine to run the backward pass\n",
       "</pre>\n"
      ],
      "text/plain": [
       "/home/zekai/miniconda3/envs/eq/lib/python3.11/site-packages/torch/autograd/__init__.py:251: UserWarning: An output \n",
       "with one or more elements was resized since it had shape [1, 778, 1], which does not match the required output \n",
       "shape [1, 778, 32]. This behavior is deprecated, and in a future PyTorch release outputs will not be resized unless\n",
       "they have zero elements. You can explicitly reuse an out tensor t by resizing it, inplace, to zero elements with \n",
       "t.resize_(0). (Triggered internally at \n",
       "/opt/conda/conda-bld/pytorch_1695392035891/work/aten/src/ATen/native/Resize.cpp:28.)\n",
       "  Variable._execution_engine.run_backward(  # Calls into the C++ engine to run the backward pass\n"
      ]
     },
     "metadata": {},
     "output_type": "display_data"
    },
    {
     "data": {
      "text/html": [
       "<pre style=\"white-space:pre;overflow-x:auto;line-height:normal;font-family:Menlo,'DejaVu Sans Mono',consolas,'Courier New',monospace\">/home/zekai/miniconda3/envs/eq/lib/python3.11/site-packages/torch/autograd/__init__.py:251: UserWarning: An output \n",
       "with one or more elements was resized since it had shape [1, 848, 1], which does not match the required output \n",
       "shape [1, 848, 32]. This behavior is deprecated, and in a future PyTorch release outputs will not be resized unless\n",
       "they have zero elements. You can explicitly reuse an out tensor t by resizing it, inplace, to zero elements with \n",
       "t.resize_(0). (Triggered internally at \n",
       "/opt/conda/conda-bld/pytorch_1695392035891/work/aten/src/ATen/native/Resize.cpp:28.)\n",
       "  Variable._execution_engine.run_backward(  # Calls into the C++ engine to run the backward pass\n",
       "</pre>\n"
      ],
      "text/plain": [
       "/home/zekai/miniconda3/envs/eq/lib/python3.11/site-packages/torch/autograd/__init__.py:251: UserWarning: An output \n",
       "with one or more elements was resized since it had shape [1, 848, 1], which does not match the required output \n",
       "shape [1, 848, 32]. This behavior is deprecated, and in a future PyTorch release outputs will not be resized unless\n",
       "they have zero elements. You can explicitly reuse an out tensor t by resizing it, inplace, to zero elements with \n",
       "t.resize_(0). (Triggered internally at \n",
       "/opt/conda/conda-bld/pytorch_1695392035891/work/aten/src/ATen/native/Resize.cpp:28.)\n",
       "  Variable._execution_engine.run_backward(  # Calls into the C++ engine to run the backward pass\n"
      ]
     },
     "metadata": {},
     "output_type": "display_data"
    },
    {
     "data": {
      "text/html": [
       "<pre style=\"white-space:pre;overflow-x:auto;line-height:normal;font-family:Menlo,'DejaVu Sans Mono',consolas,'Courier New',monospace\">/home/zekai/miniconda3/envs/eq/lib/python3.11/site-packages/torch/autograd/__init__.py:251: UserWarning: An output \n",
       "with one or more elements was resized since it had shape [1, 129, 1], which does not match the required output \n",
       "shape [1, 129, 32]. This behavior is deprecated, and in a future PyTorch release outputs will not be resized unless\n",
       "they have zero elements. You can explicitly reuse an out tensor t by resizing it, inplace, to zero elements with \n",
       "t.resize_(0). (Triggered internally at \n",
       "/opt/conda/conda-bld/pytorch_1695392035891/work/aten/src/ATen/native/Resize.cpp:28.)\n",
       "  Variable._execution_engine.run_backward(  # Calls into the C++ engine to run the backward pass\n",
       "</pre>\n"
      ],
      "text/plain": [
       "/home/zekai/miniconda3/envs/eq/lib/python3.11/site-packages/torch/autograd/__init__.py:251: UserWarning: An output \n",
       "with one or more elements was resized since it had shape [1, 129, 1], which does not match the required output \n",
       "shape [1, 129, 32]. This behavior is deprecated, and in a future PyTorch release outputs will not be resized unless\n",
       "they have zero elements. You can explicitly reuse an out tensor t by resizing it, inplace, to zero elements with \n",
       "t.resize_(0). (Triggered internally at \n",
       "/opt/conda/conda-bld/pytorch_1695392035891/work/aten/src/ATen/native/Resize.cpp:28.)\n",
       "  Variable._execution_engine.run_backward(  # Calls into the C++ engine to run the backward pass\n"
      ]
     },
     "metadata": {},
     "output_type": "display_data"
    },
    {
     "data": {
      "text/html": [
       "<pre style=\"white-space:pre;overflow-x:auto;line-height:normal;font-family:Menlo,'DejaVu Sans Mono',consolas,'Courier New',monospace\">/home/zekai/miniconda3/envs/eq/lib/python3.11/site-packages/torch/autograd/__init__.py:251: UserWarning: An output \n",
       "with one or more elements was resized since it had shape [1, 139, 1], which does not match the required output \n",
       "shape [1, 139, 32]. This behavior is deprecated, and in a future PyTorch release outputs will not be resized unless\n",
       "they have zero elements. You can explicitly reuse an out tensor t by resizing it, inplace, to zero elements with \n",
       "t.resize_(0). (Triggered internally at \n",
       "/opt/conda/conda-bld/pytorch_1695392035891/work/aten/src/ATen/native/Resize.cpp:28.)\n",
       "  Variable._execution_engine.run_backward(  # Calls into the C++ engine to run the backward pass\n",
       "</pre>\n"
      ],
      "text/plain": [
       "/home/zekai/miniconda3/envs/eq/lib/python3.11/site-packages/torch/autograd/__init__.py:251: UserWarning: An output \n",
       "with one or more elements was resized since it had shape [1, 139, 1], which does not match the required output \n",
       "shape [1, 139, 32]. This behavior is deprecated, and in a future PyTorch release outputs will not be resized unless\n",
       "they have zero elements. You can explicitly reuse an out tensor t by resizing it, inplace, to zero elements with \n",
       "t.resize_(0). (Triggered internally at \n",
       "/opt/conda/conda-bld/pytorch_1695392035891/work/aten/src/ATen/native/Resize.cpp:28.)\n",
       "  Variable._execution_engine.run_backward(  # Calls into the C++ engine to run the backward pass\n"
      ]
     },
     "metadata": {},
     "output_type": "display_data"
    },
    {
     "data": {
      "text/html": [
       "<pre style=\"white-space:pre;overflow-x:auto;line-height:normal;font-family:Menlo,'DejaVu Sans Mono',consolas,'Courier New',monospace\">/home/zekai/miniconda3/envs/eq/lib/python3.11/site-packages/torch/autograd/__init__.py:251: UserWarning: An output \n",
       "with one or more elements was resized since it had shape [1, 574, 1], which does not match the required output \n",
       "shape [1, 574, 32]. This behavior is deprecated, and in a future PyTorch release outputs will not be resized unless\n",
       "they have zero elements. You can explicitly reuse an out tensor t by resizing it, inplace, to zero elements with \n",
       "t.resize_(0). (Triggered internally at \n",
       "/opt/conda/conda-bld/pytorch_1695392035891/work/aten/src/ATen/native/Resize.cpp:28.)\n",
       "  Variable._execution_engine.run_backward(  # Calls into the C++ engine to run the backward pass\n",
       "</pre>\n"
      ],
      "text/plain": [
       "/home/zekai/miniconda3/envs/eq/lib/python3.11/site-packages/torch/autograd/__init__.py:251: UserWarning: An output \n",
       "with one or more elements was resized since it had shape [1, 574, 1], which does not match the required output \n",
       "shape [1, 574, 32]. This behavior is deprecated, and in a future PyTorch release outputs will not be resized unless\n",
       "they have zero elements. You can explicitly reuse an out tensor t by resizing it, inplace, to zero elements with \n",
       "t.resize_(0). (Triggered internally at \n",
       "/opt/conda/conda-bld/pytorch_1695392035891/work/aten/src/ATen/native/Resize.cpp:28.)\n",
       "  Variable._execution_engine.run_backward(  # Calls into the C++ engine to run the backward pass\n"
      ]
     },
     "metadata": {},
     "output_type": "display_data"
    },
    {
     "data": {
      "text/html": [
       "<pre style=\"white-space:pre;overflow-x:auto;line-height:normal;font-family:Menlo,'DejaVu Sans Mono',consolas,'Courier New',monospace\">/home/zekai/miniconda3/envs/eq/lib/python3.11/site-packages/torch/autograd/__init__.py:251: UserWarning: An output \n",
       "with one or more elements was resized since it had shape [1, 109, 1], which does not match the required output \n",
       "shape [1, 109, 32]. This behavior is deprecated, and in a future PyTorch release outputs will not be resized unless\n",
       "they have zero elements. You can explicitly reuse an out tensor t by resizing it, inplace, to zero elements with \n",
       "t.resize_(0). (Triggered internally at \n",
       "/opt/conda/conda-bld/pytorch_1695392035891/work/aten/src/ATen/native/Resize.cpp:28.)\n",
       "  Variable._execution_engine.run_backward(  # Calls into the C++ engine to run the backward pass\n",
       "</pre>\n"
      ],
      "text/plain": [
       "/home/zekai/miniconda3/envs/eq/lib/python3.11/site-packages/torch/autograd/__init__.py:251: UserWarning: An output \n",
       "with one or more elements was resized since it had shape [1, 109, 1], which does not match the required output \n",
       "shape [1, 109, 32]. This behavior is deprecated, and in a future PyTorch release outputs will not be resized unless\n",
       "they have zero elements. You can explicitly reuse an out tensor t by resizing it, inplace, to zero elements with \n",
       "t.resize_(0). (Triggered internally at \n",
       "/opt/conda/conda-bld/pytorch_1695392035891/work/aten/src/ATen/native/Resize.cpp:28.)\n",
       "  Variable._execution_engine.run_backward(  # Calls into the C++ engine to run the backward pass\n"
      ]
     },
     "metadata": {},
     "output_type": "display_data"
    },
    {
     "data": {
      "text/html": [
       "<pre style=\"white-space:pre;overflow-x:auto;line-height:normal;font-family:Menlo,'DejaVu Sans Mono',consolas,'Courier New',monospace\">/home/zekai/miniconda3/envs/eq/lib/python3.11/site-packages/torch/autograd/__init__.py:251: UserWarning: An output \n",
       "with one or more elements was resized since it had shape [1, 37, 1], which does not match the required output shape\n",
       "[1, 37, 32]. This behavior is deprecated, and in a future PyTorch release outputs will not be resized unless they \n",
       "have zero elements. You can explicitly reuse an out tensor t by resizing it, inplace, to zero elements with \n",
       "t.resize_(0). (Triggered internally at \n",
       "/opt/conda/conda-bld/pytorch_1695392035891/work/aten/src/ATen/native/Resize.cpp:28.)\n",
       "  Variable._execution_engine.run_backward(  # Calls into the C++ engine to run the backward pass\n",
       "</pre>\n"
      ],
      "text/plain": [
       "/home/zekai/miniconda3/envs/eq/lib/python3.11/site-packages/torch/autograd/__init__.py:251: UserWarning: An output \n",
       "with one or more elements was resized since it had shape [1, 37, 1], which does not match the required output shape\n",
       "[1, 37, 32]. This behavior is deprecated, and in a future PyTorch release outputs will not be resized unless they \n",
       "have zero elements. You can explicitly reuse an out tensor t by resizing it, inplace, to zero elements with \n",
       "t.resize_(0). (Triggered internally at \n",
       "/opt/conda/conda-bld/pytorch_1695392035891/work/aten/src/ATen/native/Resize.cpp:28.)\n",
       "  Variable._execution_engine.run_backward(  # Calls into the C++ engine to run the backward pass\n"
      ]
     },
     "metadata": {},
     "output_type": "display_data"
    },
    {
     "data": {
      "text/html": [
       "<pre style=\"white-space:pre;overflow-x:auto;line-height:normal;font-family:Menlo,'DejaVu Sans Mono',consolas,'Courier New',monospace\">/home/zekai/miniconda3/envs/eq/lib/python3.11/site-packages/torch/autograd/__init__.py:251: UserWarning: An output \n",
       "with one or more elements was resized since it had shape [1, 348, 1], which does not match the required output \n",
       "shape [1, 348, 32]. This behavior is deprecated, and in a future PyTorch release outputs will not be resized unless\n",
       "they have zero elements. You can explicitly reuse an out tensor t by resizing it, inplace, to zero elements with \n",
       "t.resize_(0). (Triggered internally at \n",
       "/opt/conda/conda-bld/pytorch_1695392035891/work/aten/src/ATen/native/Resize.cpp:28.)\n",
       "  Variable._execution_engine.run_backward(  # Calls into the C++ engine to run the backward pass\n",
       "</pre>\n"
      ],
      "text/plain": [
       "/home/zekai/miniconda3/envs/eq/lib/python3.11/site-packages/torch/autograd/__init__.py:251: UserWarning: An output \n",
       "with one or more elements was resized since it had shape [1, 348, 1], which does not match the required output \n",
       "shape [1, 348, 32]. This behavior is deprecated, and in a future PyTorch release outputs will not be resized unless\n",
       "they have zero elements. You can explicitly reuse an out tensor t by resizing it, inplace, to zero elements with \n",
       "t.resize_(0). (Triggered internally at \n",
       "/opt/conda/conda-bld/pytorch_1695392035891/work/aten/src/ATen/native/Resize.cpp:28.)\n",
       "  Variable._execution_engine.run_backward(  # Calls into the C++ engine to run the backward pass\n"
      ]
     },
     "metadata": {},
     "output_type": "display_data"
    },
    {
     "data": {
      "text/html": [
       "<pre style=\"white-space:pre;overflow-x:auto;line-height:normal;font-family:Menlo,'DejaVu Sans Mono',consolas,'Courier New',monospace\">/home/zekai/miniconda3/envs/eq/lib/python3.11/site-packages/torch/autograd/__init__.py:251: UserWarning: An output \n",
       "with one or more elements was resized since it had shape [1, 389, 1], which does not match the required output \n",
       "shape [1, 389, 32]. This behavior is deprecated, and in a future PyTorch release outputs will not be resized unless\n",
       "they have zero elements. You can explicitly reuse an out tensor t by resizing it, inplace, to zero elements with \n",
       "t.resize_(0). (Triggered internally at \n",
       "/opt/conda/conda-bld/pytorch_1695392035891/work/aten/src/ATen/native/Resize.cpp:28.)\n",
       "  Variable._execution_engine.run_backward(  # Calls into the C++ engine to run the backward pass\n",
       "</pre>\n"
      ],
      "text/plain": [
       "/home/zekai/miniconda3/envs/eq/lib/python3.11/site-packages/torch/autograd/__init__.py:251: UserWarning: An output \n",
       "with one or more elements was resized since it had shape [1, 389, 1], which does not match the required output \n",
       "shape [1, 389, 32]. This behavior is deprecated, and in a future PyTorch release outputs will not be resized unless\n",
       "they have zero elements. You can explicitly reuse an out tensor t by resizing it, inplace, to zero elements with \n",
       "t.resize_(0). (Triggered internally at \n",
       "/opt/conda/conda-bld/pytorch_1695392035891/work/aten/src/ATen/native/Resize.cpp:28.)\n",
       "  Variable._execution_engine.run_backward(  # Calls into the C++ engine to run the backward pass\n"
      ]
     },
     "metadata": {},
     "output_type": "display_data"
    },
    {
     "data": {
      "text/html": [
       "<pre style=\"white-space:pre;overflow-x:auto;line-height:normal;font-family:Menlo,'DejaVu Sans Mono',consolas,'Courier New',monospace\">/home/zekai/miniconda3/envs/eq/lib/python3.11/site-packages/torch/autograd/__init__.py:251: UserWarning: An output \n",
       "with one or more elements was resized since it had shape [1, 270, 1], which does not match the required output \n",
       "shape [1, 270, 32]. This behavior is deprecated, and in a future PyTorch release outputs will not be resized unless\n",
       "they have zero elements. You can explicitly reuse an out tensor t by resizing it, inplace, to zero elements with \n",
       "t.resize_(0). (Triggered internally at \n",
       "/opt/conda/conda-bld/pytorch_1695392035891/work/aten/src/ATen/native/Resize.cpp:28.)\n",
       "  Variable._execution_engine.run_backward(  # Calls into the C++ engine to run the backward pass\n",
       "</pre>\n"
      ],
      "text/plain": [
       "/home/zekai/miniconda3/envs/eq/lib/python3.11/site-packages/torch/autograd/__init__.py:251: UserWarning: An output \n",
       "with one or more elements was resized since it had shape [1, 270, 1], which does not match the required output \n",
       "shape [1, 270, 32]. This behavior is deprecated, and in a future PyTorch release outputs will not be resized unless\n",
       "they have zero elements. You can explicitly reuse an out tensor t by resizing it, inplace, to zero elements with \n",
       "t.resize_(0). (Triggered internally at \n",
       "/opt/conda/conda-bld/pytorch_1695392035891/work/aten/src/ATen/native/Resize.cpp:28.)\n",
       "  Variable._execution_engine.run_backward(  # Calls into the C++ engine to run the backward pass\n"
      ]
     },
     "metadata": {},
     "output_type": "display_data"
    },
    {
     "data": {
      "text/html": [
       "<pre style=\"white-space:pre;overflow-x:auto;line-height:normal;font-family:Menlo,'DejaVu Sans Mono',consolas,'Courier New',monospace\">/home/zekai/miniconda3/envs/eq/lib/python3.11/site-packages/torch/autograd/__init__.py:251: UserWarning: An output \n",
       "with one or more elements was resized since it had shape [1, 291, 1], which does not match the required output \n",
       "shape [1, 291, 32]. This behavior is deprecated, and in a future PyTorch release outputs will not be resized unless\n",
       "they have zero elements. You can explicitly reuse an out tensor t by resizing it, inplace, to zero elements with \n",
       "t.resize_(0). (Triggered internally at \n",
       "/opt/conda/conda-bld/pytorch_1695392035891/work/aten/src/ATen/native/Resize.cpp:28.)\n",
       "  Variable._execution_engine.run_backward(  # Calls into the C++ engine to run the backward pass\n",
       "</pre>\n"
      ],
      "text/plain": [
       "/home/zekai/miniconda3/envs/eq/lib/python3.11/site-packages/torch/autograd/__init__.py:251: UserWarning: An output \n",
       "with one or more elements was resized since it had shape [1, 291, 1], which does not match the required output \n",
       "shape [1, 291, 32]. This behavior is deprecated, and in a future PyTorch release outputs will not be resized unless\n",
       "they have zero elements. You can explicitly reuse an out tensor t by resizing it, inplace, to zero elements with \n",
       "t.resize_(0). (Triggered internally at \n",
       "/opt/conda/conda-bld/pytorch_1695392035891/work/aten/src/ATen/native/Resize.cpp:28.)\n",
       "  Variable._execution_engine.run_backward(  # Calls into the C++ engine to run the backward pass\n"
      ]
     },
     "metadata": {},
     "output_type": "display_data"
    },
    {
     "data": {
      "text/html": [
       "<pre style=\"white-space:pre;overflow-x:auto;line-height:normal;font-family:Menlo,'DejaVu Sans Mono',consolas,'Courier New',monospace\">/home/zekai/miniconda3/envs/eq/lib/python3.11/site-packages/torch/autograd/__init__.py:251: UserWarning: An output \n",
       "with one or more elements was resized since it had shape [1, 119, 1], which does not match the required output \n",
       "shape [1, 119, 32]. This behavior is deprecated, and in a future PyTorch release outputs will not be resized unless\n",
       "they have zero elements. You can explicitly reuse an out tensor t by resizing it, inplace, to zero elements with \n",
       "t.resize_(0). (Triggered internally at \n",
       "/opt/conda/conda-bld/pytorch_1695392035891/work/aten/src/ATen/native/Resize.cpp:28.)\n",
       "  Variable._execution_engine.run_backward(  # Calls into the C++ engine to run the backward pass\n",
       "</pre>\n"
      ],
      "text/plain": [
       "/home/zekai/miniconda3/envs/eq/lib/python3.11/site-packages/torch/autograd/__init__.py:251: UserWarning: An output \n",
       "with one or more elements was resized since it had shape [1, 119, 1], which does not match the required output \n",
       "shape [1, 119, 32]. This behavior is deprecated, and in a future PyTorch release outputs will not be resized unless\n",
       "they have zero elements. You can explicitly reuse an out tensor t by resizing it, inplace, to zero elements with \n",
       "t.resize_(0). (Triggered internally at \n",
       "/opt/conda/conda-bld/pytorch_1695392035891/work/aten/src/ATen/native/Resize.cpp:28.)\n",
       "  Variable._execution_engine.run_backward(  # Calls into the C++ engine to run the backward pass\n"
      ]
     },
     "metadata": {},
     "output_type": "display_data"
    },
    {
     "data": {
      "text/html": [
       "<pre style=\"white-space:pre;overflow-x:auto;line-height:normal;font-family:Menlo,'DejaVu Sans Mono',consolas,'Courier New',monospace\">/home/zekai/miniconda3/envs/eq/lib/python3.11/site-packages/torch/autograd/__init__.py:251: UserWarning: An output \n",
       "with one or more elements was resized since it had shape [1, 56, 1], which does not match the required output shape\n",
       "[1, 56, 32]. This behavior is deprecated, and in a future PyTorch release outputs will not be resized unless they \n",
       "have zero elements. You can explicitly reuse an out tensor t by resizing it, inplace, to zero elements with \n",
       "t.resize_(0). (Triggered internally at \n",
       "/opt/conda/conda-bld/pytorch_1695392035891/work/aten/src/ATen/native/Resize.cpp:28.)\n",
       "  Variable._execution_engine.run_backward(  # Calls into the C++ engine to run the backward pass\n",
       "</pre>\n"
      ],
      "text/plain": [
       "/home/zekai/miniconda3/envs/eq/lib/python3.11/site-packages/torch/autograd/__init__.py:251: UserWarning: An output \n",
       "with one or more elements was resized since it had shape [1, 56, 1], which does not match the required output shape\n",
       "[1, 56, 32]. This behavior is deprecated, and in a future PyTorch release outputs will not be resized unless they \n",
       "have zero elements. You can explicitly reuse an out tensor t by resizing it, inplace, to zero elements with \n",
       "t.resize_(0). (Triggered internally at \n",
       "/opt/conda/conda-bld/pytorch_1695392035891/work/aten/src/ATen/native/Resize.cpp:28.)\n",
       "  Variable._execution_engine.run_backward(  # Calls into the C++ engine to run the backward pass\n"
      ]
     },
     "metadata": {},
     "output_type": "display_data"
    },
    {
     "data": {
      "text/html": [
       "<pre style=\"white-space:pre;overflow-x:auto;line-height:normal;font-family:Menlo,'DejaVu Sans Mono',consolas,'Courier New',monospace\">/home/zekai/miniconda3/envs/eq/lib/python3.11/site-packages/torch/autograd/__init__.py:251: UserWarning: An output \n",
       "with one or more elements was resized since it had shape [1, 138, 1], which does not match the required output \n",
       "shape [1, 138, 32]. This behavior is deprecated, and in a future PyTorch release outputs will not be resized unless\n",
       "they have zero elements. You can explicitly reuse an out tensor t by resizing it, inplace, to zero elements with \n",
       "t.resize_(0). (Triggered internally at \n",
       "/opt/conda/conda-bld/pytorch_1695392035891/work/aten/src/ATen/native/Resize.cpp:28.)\n",
       "  Variable._execution_engine.run_backward(  # Calls into the C++ engine to run the backward pass\n",
       "</pre>\n"
      ],
      "text/plain": [
       "/home/zekai/miniconda3/envs/eq/lib/python3.11/site-packages/torch/autograd/__init__.py:251: UserWarning: An output \n",
       "with one or more elements was resized since it had shape [1, 138, 1], which does not match the required output \n",
       "shape [1, 138, 32]. This behavior is deprecated, and in a future PyTorch release outputs will not be resized unless\n",
       "they have zero elements. You can explicitly reuse an out tensor t by resizing it, inplace, to zero elements with \n",
       "t.resize_(0). (Triggered internally at \n",
       "/opt/conda/conda-bld/pytorch_1695392035891/work/aten/src/ATen/native/Resize.cpp:28.)\n",
       "  Variable._execution_engine.run_backward(  # Calls into the C++ engine to run the backward pass\n"
      ]
     },
     "metadata": {},
     "output_type": "display_data"
    },
    {
     "data": {
      "text/html": [
       "<pre style=\"white-space:pre;overflow-x:auto;line-height:normal;font-family:Menlo,'DejaVu Sans Mono',consolas,'Courier New',monospace\">/home/zekai/miniconda3/envs/eq/lib/python3.11/site-packages/torch/autograd/__init__.py:251: UserWarning: An output \n",
       "with one or more elements was resized since it had shape [1, 54, 1], which does not match the required output shape\n",
       "[1, 54, 32]. This behavior is deprecated, and in a future PyTorch release outputs will not be resized unless they \n",
       "have zero elements. You can explicitly reuse an out tensor t by resizing it, inplace, to zero elements with \n",
       "t.resize_(0). (Triggered internally at \n",
       "/opt/conda/conda-bld/pytorch_1695392035891/work/aten/src/ATen/native/Resize.cpp:28.)\n",
       "  Variable._execution_engine.run_backward(  # Calls into the C++ engine to run the backward pass\n",
       "</pre>\n"
      ],
      "text/plain": [
       "/home/zekai/miniconda3/envs/eq/lib/python3.11/site-packages/torch/autograd/__init__.py:251: UserWarning: An output \n",
       "with one or more elements was resized since it had shape [1, 54, 1], which does not match the required output shape\n",
       "[1, 54, 32]. This behavior is deprecated, and in a future PyTorch release outputs will not be resized unless they \n",
       "have zero elements. You can explicitly reuse an out tensor t by resizing it, inplace, to zero elements with \n",
       "t.resize_(0). (Triggered internally at \n",
       "/opt/conda/conda-bld/pytorch_1695392035891/work/aten/src/ATen/native/Resize.cpp:28.)\n",
       "  Variable._execution_engine.run_backward(  # Calls into the C++ engine to run the backward pass\n"
      ]
     },
     "metadata": {},
     "output_type": "display_data"
    },
    {
     "data": {
      "text/html": [
       "<pre style=\"white-space:pre;overflow-x:auto;line-height:normal;font-family:Menlo,'DejaVu Sans Mono',consolas,'Courier New',monospace\">/home/zekai/miniconda3/envs/eq/lib/python3.11/site-packages/torch/autograd/__init__.py:251: UserWarning: An output \n",
       "with one or more elements was resized since it had shape [1, 2256, 1], which does not match the required output \n",
       "shape [1, 2256, 32]. This behavior is deprecated, and in a future PyTorch release outputs will not be resized \n",
       "unless they have zero elements. You can explicitly reuse an out tensor t by resizing it, inplace, to zero elements \n",
       "with t.resize_(0). (Triggered internally at \n",
       "/opt/conda/conda-bld/pytorch_1695392035891/work/aten/src/ATen/native/Resize.cpp:28.)\n",
       "  Variable._execution_engine.run_backward(  # Calls into the C++ engine to run the backward pass\n",
       "</pre>\n"
      ],
      "text/plain": [
       "/home/zekai/miniconda3/envs/eq/lib/python3.11/site-packages/torch/autograd/__init__.py:251: UserWarning: An output \n",
       "with one or more elements was resized since it had shape [1, 2256, 1], which does not match the required output \n",
       "shape [1, 2256, 32]. This behavior is deprecated, and in a future PyTorch release outputs will not be resized \n",
       "unless they have zero elements. You can explicitly reuse an out tensor t by resizing it, inplace, to zero elements \n",
       "with t.resize_(0). (Triggered internally at \n",
       "/opt/conda/conda-bld/pytorch_1695392035891/work/aten/src/ATen/native/Resize.cpp:28.)\n",
       "  Variable._execution_engine.run_backward(  # Calls into the C++ engine to run the backward pass\n"
      ]
     },
     "metadata": {},
     "output_type": "display_data"
    },
    {
     "data": {
      "text/html": [
       "<pre style=\"white-space:pre;overflow-x:auto;line-height:normal;font-family:Menlo,'DejaVu Sans Mono',consolas,'Courier New',monospace\">/home/zekai/miniconda3/envs/eq/lib/python3.11/site-packages/torch/autograd/__init__.py:251: UserWarning: An output \n",
       "with one or more elements was resized since it had shape [1, 791, 1], which does not match the required output \n",
       "shape [1, 791, 32]. This behavior is deprecated, and in a future PyTorch release outputs will not be resized unless\n",
       "they have zero elements. You can explicitly reuse an out tensor t by resizing it, inplace, to zero elements with \n",
       "t.resize_(0). (Triggered internally at \n",
       "/opt/conda/conda-bld/pytorch_1695392035891/work/aten/src/ATen/native/Resize.cpp:28.)\n",
       "  Variable._execution_engine.run_backward(  # Calls into the C++ engine to run the backward pass\n",
       "</pre>\n"
      ],
      "text/plain": [
       "/home/zekai/miniconda3/envs/eq/lib/python3.11/site-packages/torch/autograd/__init__.py:251: UserWarning: An output \n",
       "with one or more elements was resized since it had shape [1, 791, 1], which does not match the required output \n",
       "shape [1, 791, 32]. This behavior is deprecated, and in a future PyTorch release outputs will not be resized unless\n",
       "they have zero elements. You can explicitly reuse an out tensor t by resizing it, inplace, to zero elements with \n",
       "t.resize_(0). (Triggered internally at \n",
       "/opt/conda/conda-bld/pytorch_1695392035891/work/aten/src/ATen/native/Resize.cpp:28.)\n",
       "  Variable._execution_engine.run_backward(  # Calls into the C++ engine to run the backward pass\n"
      ]
     },
     "metadata": {},
     "output_type": "display_data"
    },
    {
     "data": {
      "text/html": [
       "<pre style=\"white-space:pre;overflow-x:auto;line-height:normal;font-family:Menlo,'DejaVu Sans Mono',consolas,'Courier New',monospace\">/home/zekai/miniconda3/envs/eq/lib/python3.11/site-packages/torch/autograd/__init__.py:251: UserWarning: An output \n",
       "with one or more elements was resized since it had shape [1, 823, 1], which does not match the required output \n",
       "shape [1, 823, 32]. This behavior is deprecated, and in a future PyTorch release outputs will not be resized unless\n",
       "they have zero elements. You can explicitly reuse an out tensor t by resizing it, inplace, to zero elements with \n",
       "t.resize_(0). (Triggered internally at \n",
       "/opt/conda/conda-bld/pytorch_1695392035891/work/aten/src/ATen/native/Resize.cpp:28.)\n",
       "  Variable._execution_engine.run_backward(  # Calls into the C++ engine to run the backward pass\n",
       "</pre>\n"
      ],
      "text/plain": [
       "/home/zekai/miniconda3/envs/eq/lib/python3.11/site-packages/torch/autograd/__init__.py:251: UserWarning: An output \n",
       "with one or more elements was resized since it had shape [1, 823, 1], which does not match the required output \n",
       "shape [1, 823, 32]. This behavior is deprecated, and in a future PyTorch release outputs will not be resized unless\n",
       "they have zero elements. You can explicitly reuse an out tensor t by resizing it, inplace, to zero elements with \n",
       "t.resize_(0). (Triggered internally at \n",
       "/opt/conda/conda-bld/pytorch_1695392035891/work/aten/src/ATen/native/Resize.cpp:28.)\n",
       "  Variable._execution_engine.run_backward(  # Calls into the C++ engine to run the backward pass\n"
      ]
     },
     "metadata": {},
     "output_type": "display_data"
    },
    {
     "data": {
      "text/html": [
       "<pre style=\"white-space:pre;overflow-x:auto;line-height:normal;font-family:Menlo,'DejaVu Sans Mono',consolas,'Courier New',monospace\">/home/zekai/miniconda3/envs/eq/lib/python3.11/site-packages/torch/autograd/__init__.py:251: UserWarning: An output \n",
       "with one or more elements was resized since it had shape [1, 221, 1], which does not match the required output \n",
       "shape [1, 221, 32]. This behavior is deprecated, and in a future PyTorch release outputs will not be resized unless\n",
       "they have zero elements. You can explicitly reuse an out tensor t by resizing it, inplace, to zero elements with \n",
       "t.resize_(0). (Triggered internally at \n",
       "/opt/conda/conda-bld/pytorch_1695392035891/work/aten/src/ATen/native/Resize.cpp:28.)\n",
       "  Variable._execution_engine.run_backward(  # Calls into the C++ engine to run the backward pass\n",
       "</pre>\n"
      ],
      "text/plain": [
       "/home/zekai/miniconda3/envs/eq/lib/python3.11/site-packages/torch/autograd/__init__.py:251: UserWarning: An output \n",
       "with one or more elements was resized since it had shape [1, 221, 1], which does not match the required output \n",
       "shape [1, 221, 32]. This behavior is deprecated, and in a future PyTorch release outputs will not be resized unless\n",
       "they have zero elements. You can explicitly reuse an out tensor t by resizing it, inplace, to zero elements with \n",
       "t.resize_(0). (Triggered internally at \n",
       "/opt/conda/conda-bld/pytorch_1695392035891/work/aten/src/ATen/native/Resize.cpp:28.)\n",
       "  Variable._execution_engine.run_backward(  # Calls into the C++ engine to run the backward pass\n"
      ]
     },
     "metadata": {},
     "output_type": "display_data"
    },
    {
     "data": {
      "text/html": [
       "<pre style=\"white-space:pre;overflow-x:auto;line-height:normal;font-family:Menlo,'DejaVu Sans Mono',consolas,'Courier New',monospace\">/home/zekai/miniconda3/envs/eq/lib/python3.11/site-packages/torch/autograd/__init__.py:251: UserWarning: An output \n",
       "with one or more elements was resized since it had shape [1, 110, 1], which does not match the required output \n",
       "shape [1, 110, 32]. This behavior is deprecated, and in a future PyTorch release outputs will not be resized unless\n",
       "they have zero elements. You can explicitly reuse an out tensor t by resizing it, inplace, to zero elements with \n",
       "t.resize_(0). (Triggered internally at \n",
       "/opt/conda/conda-bld/pytorch_1695392035891/work/aten/src/ATen/native/Resize.cpp:28.)\n",
       "  Variable._execution_engine.run_backward(  # Calls into the C++ engine to run the backward pass\n",
       "</pre>\n"
      ],
      "text/plain": [
       "/home/zekai/miniconda3/envs/eq/lib/python3.11/site-packages/torch/autograd/__init__.py:251: UserWarning: An output \n",
       "with one or more elements was resized since it had shape [1, 110, 1], which does not match the required output \n",
       "shape [1, 110, 32]. This behavior is deprecated, and in a future PyTorch release outputs will not be resized unless\n",
       "they have zero elements. You can explicitly reuse an out tensor t by resizing it, inplace, to zero elements with \n",
       "t.resize_(0). (Triggered internally at \n",
       "/opt/conda/conda-bld/pytorch_1695392035891/work/aten/src/ATen/native/Resize.cpp:28.)\n",
       "  Variable._execution_engine.run_backward(  # Calls into the C++ engine to run the backward pass\n"
      ]
     },
     "metadata": {},
     "output_type": "display_data"
    },
    {
     "data": {
      "text/html": [
       "<pre style=\"white-space:pre;overflow-x:auto;line-height:normal;font-family:Menlo,'DejaVu Sans Mono',consolas,'Courier New',monospace\">/home/zekai/miniconda3/envs/eq/lib/python3.11/site-packages/torch/autograd/__init__.py:251: UserWarning: An output \n",
       "with one or more elements was resized since it had shape [1, 505, 1], which does not match the required output \n",
       "shape [1, 505, 32]. This behavior is deprecated, and in a future PyTorch release outputs will not be resized unless\n",
       "they have zero elements. You can explicitly reuse an out tensor t by resizing it, inplace, to zero elements with \n",
       "t.resize_(0). (Triggered internally at \n",
       "/opt/conda/conda-bld/pytorch_1695392035891/work/aten/src/ATen/native/Resize.cpp:28.)\n",
       "  Variable._execution_engine.run_backward(  # Calls into the C++ engine to run the backward pass\n",
       "</pre>\n"
      ],
      "text/plain": [
       "/home/zekai/miniconda3/envs/eq/lib/python3.11/site-packages/torch/autograd/__init__.py:251: UserWarning: An output \n",
       "with one or more elements was resized since it had shape [1, 505, 1], which does not match the required output \n",
       "shape [1, 505, 32]. This behavior is deprecated, and in a future PyTorch release outputs will not be resized unless\n",
       "they have zero elements. You can explicitly reuse an out tensor t by resizing it, inplace, to zero elements with \n",
       "t.resize_(0). (Triggered internally at \n",
       "/opt/conda/conda-bld/pytorch_1695392035891/work/aten/src/ATen/native/Resize.cpp:28.)\n",
       "  Variable._execution_engine.run_backward(  # Calls into the C++ engine to run the backward pass\n"
      ]
     },
     "metadata": {},
     "output_type": "display_data"
    },
    {
     "data": {
      "text/html": [
       "<pre style=\"white-space:pre;overflow-x:auto;line-height:normal;font-family:Menlo,'DejaVu Sans Mono',consolas,'Courier New',monospace\">/home/zekai/miniconda3/envs/eq/lib/python3.11/site-packages/torch/autograd/__init__.py:251: UserWarning: An output \n",
       "with one or more elements was resized since it had shape [1, 117, 1], which does not match the required output \n",
       "shape [1, 117, 32]. This behavior is deprecated, and in a future PyTorch release outputs will not be resized unless\n",
       "they have zero elements. You can explicitly reuse an out tensor t by resizing it, inplace, to zero elements with \n",
       "t.resize_(0). (Triggered internally at \n",
       "/opt/conda/conda-bld/pytorch_1695392035891/work/aten/src/ATen/native/Resize.cpp:28.)\n",
       "  Variable._execution_engine.run_backward(  # Calls into the C++ engine to run the backward pass\n",
       "</pre>\n"
      ],
      "text/plain": [
       "/home/zekai/miniconda3/envs/eq/lib/python3.11/site-packages/torch/autograd/__init__.py:251: UserWarning: An output \n",
       "with one or more elements was resized since it had shape [1, 117, 1], which does not match the required output \n",
       "shape [1, 117, 32]. This behavior is deprecated, and in a future PyTorch release outputs will not be resized unless\n",
       "they have zero elements. You can explicitly reuse an out tensor t by resizing it, inplace, to zero elements with \n",
       "t.resize_(0). (Triggered internally at \n",
       "/opt/conda/conda-bld/pytorch_1695392035891/work/aten/src/ATen/native/Resize.cpp:28.)\n",
       "  Variable._execution_engine.run_backward(  # Calls into the C++ engine to run the backward pass\n"
      ]
     },
     "metadata": {},
     "output_type": "display_data"
    },
    {
     "data": {
      "text/html": [
       "<pre style=\"white-space:pre;overflow-x:auto;line-height:normal;font-family:Menlo,'DejaVu Sans Mono',consolas,'Courier New',monospace\">/home/zekai/miniconda3/envs/eq/lib/python3.11/site-packages/torch/autograd/__init__.py:251: UserWarning: An output \n",
       "with one or more elements was resized since it had shape [1, 445, 1], which does not match the required output \n",
       "shape [1, 445, 32]. This behavior is deprecated, and in a future PyTorch release outputs will not be resized unless\n",
       "they have zero elements. You can explicitly reuse an out tensor t by resizing it, inplace, to zero elements with \n",
       "t.resize_(0). (Triggered internally at \n",
       "/opt/conda/conda-bld/pytorch_1695392035891/work/aten/src/ATen/native/Resize.cpp:28.)\n",
       "  Variable._execution_engine.run_backward(  # Calls into the C++ engine to run the backward pass\n",
       "</pre>\n"
      ],
      "text/plain": [
       "/home/zekai/miniconda3/envs/eq/lib/python3.11/site-packages/torch/autograd/__init__.py:251: UserWarning: An output \n",
       "with one or more elements was resized since it had shape [1, 445, 1], which does not match the required output \n",
       "shape [1, 445, 32]. This behavior is deprecated, and in a future PyTorch release outputs will not be resized unless\n",
       "they have zero elements. You can explicitly reuse an out tensor t by resizing it, inplace, to zero elements with \n",
       "t.resize_(0). (Triggered internally at \n",
       "/opt/conda/conda-bld/pytorch_1695392035891/work/aten/src/ATen/native/Resize.cpp:28.)\n",
       "  Variable._execution_engine.run_backward(  # Calls into the C++ engine to run the backward pass\n"
      ]
     },
     "metadata": {},
     "output_type": "display_data"
    },
    {
     "data": {
      "text/html": [
       "<pre style=\"white-space:pre;overflow-x:auto;line-height:normal;font-family:Menlo,'DejaVu Sans Mono',consolas,'Courier New',monospace\">/home/zekai/miniconda3/envs/eq/lib/python3.11/site-packages/torch/autograd/__init__.py:251: UserWarning: An output \n",
       "with one or more elements was resized since it had shape [1, 851, 1], which does not match the required output \n",
       "shape [1, 851, 32]. This behavior is deprecated, and in a future PyTorch release outputs will not be resized unless\n",
       "they have zero elements. You can explicitly reuse an out tensor t by resizing it, inplace, to zero elements with \n",
       "t.resize_(0). (Triggered internally at \n",
       "/opt/conda/conda-bld/pytorch_1695392035891/work/aten/src/ATen/native/Resize.cpp:28.)\n",
       "  Variable._execution_engine.run_backward(  # Calls into the C++ engine to run the backward pass\n",
       "</pre>\n"
      ],
      "text/plain": [
       "/home/zekai/miniconda3/envs/eq/lib/python3.11/site-packages/torch/autograd/__init__.py:251: UserWarning: An output \n",
       "with one or more elements was resized since it had shape [1, 851, 1], which does not match the required output \n",
       "shape [1, 851, 32]. This behavior is deprecated, and in a future PyTorch release outputs will not be resized unless\n",
       "they have zero elements. You can explicitly reuse an out tensor t by resizing it, inplace, to zero elements with \n",
       "t.resize_(0). (Triggered internally at \n",
       "/opt/conda/conda-bld/pytorch_1695392035891/work/aten/src/ATen/native/Resize.cpp:28.)\n",
       "  Variable._execution_engine.run_backward(  # Calls into the C++ engine to run the backward pass\n"
      ]
     },
     "metadata": {},
     "output_type": "display_data"
    },
    {
     "data": {
      "text/html": [
       "<pre style=\"white-space:pre;overflow-x:auto;line-height:normal;font-family:Menlo,'DejaVu Sans Mono',consolas,'Courier New',monospace\">/home/zekai/miniconda3/envs/eq/lib/python3.11/site-packages/torch/autograd/__init__.py:251: UserWarning: An output \n",
       "with one or more elements was resized since it had shape [1, 405, 1], which does not match the required output \n",
       "shape [1, 405, 32]. This behavior is deprecated, and in a future PyTorch release outputs will not be resized unless\n",
       "they have zero elements. You can explicitly reuse an out tensor t by resizing it, inplace, to zero elements with \n",
       "t.resize_(0). (Triggered internally at \n",
       "/opt/conda/conda-bld/pytorch_1695392035891/work/aten/src/ATen/native/Resize.cpp:28.)\n",
       "  Variable._execution_engine.run_backward(  # Calls into the C++ engine to run the backward pass\n",
       "</pre>\n"
      ],
      "text/plain": [
       "/home/zekai/miniconda3/envs/eq/lib/python3.11/site-packages/torch/autograd/__init__.py:251: UserWarning: An output \n",
       "with one or more elements was resized since it had shape [1, 405, 1], which does not match the required output \n",
       "shape [1, 405, 32]. This behavior is deprecated, and in a future PyTorch release outputs will not be resized unless\n",
       "they have zero elements. You can explicitly reuse an out tensor t by resizing it, inplace, to zero elements with \n",
       "t.resize_(0). (Triggered internally at \n",
       "/opt/conda/conda-bld/pytorch_1695392035891/work/aten/src/ATen/native/Resize.cpp:28.)\n",
       "  Variable._execution_engine.run_backward(  # Calls into the C++ engine to run the backward pass\n"
      ]
     },
     "metadata": {},
     "output_type": "display_data"
    },
    {
     "data": {
      "text/html": [
       "<pre style=\"white-space:pre;overflow-x:auto;line-height:normal;font-family:Menlo,'DejaVu Sans Mono',consolas,'Courier New',monospace\">/home/zekai/miniconda3/envs/eq/lib/python3.11/site-packages/torch/autograd/__init__.py:251: UserWarning: An output \n",
       "with one or more elements was resized since it had shape [1, 512, 1], which does not match the required output \n",
       "shape [1, 512, 32]. This behavior is deprecated, and in a future PyTorch release outputs will not be resized unless\n",
       "they have zero elements. You can explicitly reuse an out tensor t by resizing it, inplace, to zero elements with \n",
       "t.resize_(0). (Triggered internally at \n",
       "/opt/conda/conda-bld/pytorch_1695392035891/work/aten/src/ATen/native/Resize.cpp:28.)\n",
       "  Variable._execution_engine.run_backward(  # Calls into the C++ engine to run the backward pass\n",
       "</pre>\n"
      ],
      "text/plain": [
       "/home/zekai/miniconda3/envs/eq/lib/python3.11/site-packages/torch/autograd/__init__.py:251: UserWarning: An output \n",
       "with one or more elements was resized since it had shape [1, 512, 1], which does not match the required output \n",
       "shape [1, 512, 32]. This behavior is deprecated, and in a future PyTorch release outputs will not be resized unless\n",
       "they have zero elements. You can explicitly reuse an out tensor t by resizing it, inplace, to zero elements with \n",
       "t.resize_(0). (Triggered internally at \n",
       "/opt/conda/conda-bld/pytorch_1695392035891/work/aten/src/ATen/native/Resize.cpp:28.)\n",
       "  Variable._execution_engine.run_backward(  # Calls into the C++ engine to run the backward pass\n"
      ]
     },
     "metadata": {},
     "output_type": "display_data"
    },
    {
     "data": {
      "text/html": [
       "<pre style=\"white-space:pre;overflow-x:auto;line-height:normal;font-family:Menlo,'DejaVu Sans Mono',consolas,'Courier New',monospace\">/home/zekai/miniconda3/envs/eq/lib/python3.11/site-packages/torch/autograd/__init__.py:251: UserWarning: An output \n",
       "with one or more elements was resized since it had shape [1, 268, 1], which does not match the required output \n",
       "shape [1, 268, 32]. This behavior is deprecated, and in a future PyTorch release outputs will not be resized unless\n",
       "they have zero elements. You can explicitly reuse an out tensor t by resizing it, inplace, to zero elements with \n",
       "t.resize_(0). (Triggered internally at \n",
       "/opt/conda/conda-bld/pytorch_1695392035891/work/aten/src/ATen/native/Resize.cpp:28.)\n",
       "  Variable._execution_engine.run_backward(  # Calls into the C++ engine to run the backward pass\n",
       "</pre>\n"
      ],
      "text/plain": [
       "/home/zekai/miniconda3/envs/eq/lib/python3.11/site-packages/torch/autograd/__init__.py:251: UserWarning: An output \n",
       "with one or more elements was resized since it had shape [1, 268, 1], which does not match the required output \n",
       "shape [1, 268, 32]. This behavior is deprecated, and in a future PyTorch release outputs will not be resized unless\n",
       "they have zero elements. You can explicitly reuse an out tensor t by resizing it, inplace, to zero elements with \n",
       "t.resize_(0). (Triggered internally at \n",
       "/opt/conda/conda-bld/pytorch_1695392035891/work/aten/src/ATen/native/Resize.cpp:28.)\n",
       "  Variable._execution_engine.run_backward(  # Calls into the C++ engine to run the backward pass\n"
      ]
     },
     "metadata": {},
     "output_type": "display_data"
    },
    {
     "data": {
      "text/html": [
       "<pre style=\"white-space:pre;overflow-x:auto;line-height:normal;font-family:Menlo,'DejaVu Sans Mono',consolas,'Courier New',monospace\">/home/zekai/miniconda3/envs/eq/lib/python3.11/site-packages/torch/autograd/__init__.py:251: UserWarning: An output \n",
       "with one or more elements was resized since it had shape [1, 30, 1], which does not match the required output shape\n",
       "[1, 30, 32]. This behavior is deprecated, and in a future PyTorch release outputs will not be resized unless they \n",
       "have zero elements. You can explicitly reuse an out tensor t by resizing it, inplace, to zero elements with \n",
       "t.resize_(0). (Triggered internally at \n",
       "/opt/conda/conda-bld/pytorch_1695392035891/work/aten/src/ATen/native/Resize.cpp:28.)\n",
       "  Variable._execution_engine.run_backward(  # Calls into the C++ engine to run the backward pass\n",
       "</pre>\n"
      ],
      "text/plain": [
       "/home/zekai/miniconda3/envs/eq/lib/python3.11/site-packages/torch/autograd/__init__.py:251: UserWarning: An output \n",
       "with one or more elements was resized since it had shape [1, 30, 1], which does not match the required output shape\n",
       "[1, 30, 32]. This behavior is deprecated, and in a future PyTorch release outputs will not be resized unless they \n",
       "have zero elements. You can explicitly reuse an out tensor t by resizing it, inplace, to zero elements with \n",
       "t.resize_(0). (Triggered internally at \n",
       "/opt/conda/conda-bld/pytorch_1695392035891/work/aten/src/ATen/native/Resize.cpp:28.)\n",
       "  Variable._execution_engine.run_backward(  # Calls into the C++ engine to run the backward pass\n"
      ]
     },
     "metadata": {},
     "output_type": "display_data"
    },
    {
     "data": {
      "text/html": [
       "<pre style=\"white-space:pre;overflow-x:auto;line-height:normal;font-family:Menlo,'DejaVu Sans Mono',consolas,'Courier New',monospace\">/home/zekai/miniconda3/envs/eq/lib/python3.11/site-packages/torch/autograd/__init__.py:251: UserWarning: An output \n",
       "with one or more elements was resized since it had shape [1, 852, 1], which does not match the required output \n",
       "shape [1, 852, 32]. This behavior is deprecated, and in a future PyTorch release outputs will not be resized unless\n",
       "they have zero elements. You can explicitly reuse an out tensor t by resizing it, inplace, to zero elements with \n",
       "t.resize_(0). (Triggered internally at \n",
       "/opt/conda/conda-bld/pytorch_1695392035891/work/aten/src/ATen/native/Resize.cpp:28.)\n",
       "  Variable._execution_engine.run_backward(  # Calls into the C++ engine to run the backward pass\n",
       "</pre>\n"
      ],
      "text/plain": [
       "/home/zekai/miniconda3/envs/eq/lib/python3.11/site-packages/torch/autograd/__init__.py:251: UserWarning: An output \n",
       "with one or more elements was resized since it had shape [1, 852, 1], which does not match the required output \n",
       "shape [1, 852, 32]. This behavior is deprecated, and in a future PyTorch release outputs will not be resized unless\n",
       "they have zero elements. You can explicitly reuse an out tensor t by resizing it, inplace, to zero elements with \n",
       "t.resize_(0). (Triggered internally at \n",
       "/opt/conda/conda-bld/pytorch_1695392035891/work/aten/src/ATen/native/Resize.cpp:28.)\n",
       "  Variable._execution_engine.run_backward(  # Calls into the C++ engine to run the backward pass\n"
      ]
     },
     "metadata": {},
     "output_type": "display_data"
    },
    {
     "data": {
      "text/html": [
       "<pre style=\"white-space:pre;overflow-x:auto;line-height:normal;font-family:Menlo,'DejaVu Sans Mono',consolas,'Courier New',monospace\">/home/zekai/miniconda3/envs/eq/lib/python3.11/site-packages/torch/autograd/__init__.py:251: UserWarning: An output \n",
       "with one or more elements was resized since it had shape [1, 36, 1], which does not match the required output shape\n",
       "[1, 36, 32]. This behavior is deprecated, and in a future PyTorch release outputs will not be resized unless they \n",
       "have zero elements. You can explicitly reuse an out tensor t by resizing it, inplace, to zero elements with \n",
       "t.resize_(0). (Triggered internally at \n",
       "/opt/conda/conda-bld/pytorch_1695392035891/work/aten/src/ATen/native/Resize.cpp:28.)\n",
       "  Variable._execution_engine.run_backward(  # Calls into the C++ engine to run the backward pass\n",
       "</pre>\n"
      ],
      "text/plain": [
       "/home/zekai/miniconda3/envs/eq/lib/python3.11/site-packages/torch/autograd/__init__.py:251: UserWarning: An output \n",
       "with one or more elements was resized since it had shape [1, 36, 1], which does not match the required output shape\n",
       "[1, 36, 32]. This behavior is deprecated, and in a future PyTorch release outputs will not be resized unless they \n",
       "have zero elements. You can explicitly reuse an out tensor t by resizing it, inplace, to zero elements with \n",
       "t.resize_(0). (Triggered internally at \n",
       "/opt/conda/conda-bld/pytorch_1695392035891/work/aten/src/ATen/native/Resize.cpp:28.)\n",
       "  Variable._execution_engine.run_backward(  # Calls into the C++ engine to run the backward pass\n"
      ]
     },
     "metadata": {},
     "output_type": "display_data"
    },
    {
     "data": {
      "text/html": [
       "<pre style=\"white-space:pre;overflow-x:auto;line-height:normal;font-family:Menlo,'DejaVu Sans Mono',consolas,'Courier New',monospace\">/home/zekai/miniconda3/envs/eq/lib/python3.11/site-packages/torch/autograd/__init__.py:251: UserWarning: An output \n",
       "with one or more elements was resized since it had shape [1, 208, 1], which does not match the required output \n",
       "shape [1, 208, 32]. This behavior is deprecated, and in a future PyTorch release outputs will not be resized unless\n",
       "they have zero elements. You can explicitly reuse an out tensor t by resizing it, inplace, to zero elements with \n",
       "t.resize_(0). (Triggered internally at \n",
       "/opt/conda/conda-bld/pytorch_1695392035891/work/aten/src/ATen/native/Resize.cpp:28.)\n",
       "  Variable._execution_engine.run_backward(  # Calls into the C++ engine to run the backward pass\n",
       "</pre>\n"
      ],
      "text/plain": [
       "/home/zekai/miniconda3/envs/eq/lib/python3.11/site-packages/torch/autograd/__init__.py:251: UserWarning: An output \n",
       "with one or more elements was resized since it had shape [1, 208, 1], which does not match the required output \n",
       "shape [1, 208, 32]. This behavior is deprecated, and in a future PyTorch release outputs will not be resized unless\n",
       "they have zero elements. You can explicitly reuse an out tensor t by resizing it, inplace, to zero elements with \n",
       "t.resize_(0). (Triggered internally at \n",
       "/opt/conda/conda-bld/pytorch_1695392035891/work/aten/src/ATen/native/Resize.cpp:28.)\n",
       "  Variable._execution_engine.run_backward(  # Calls into the C++ engine to run the backward pass\n"
      ]
     },
     "metadata": {},
     "output_type": "display_data"
    },
    {
     "data": {
      "text/html": [
       "<pre style=\"white-space:pre;overflow-x:auto;line-height:normal;font-family:Menlo,'DejaVu Sans Mono',consolas,'Courier New',monospace\">/home/zekai/miniconda3/envs/eq/lib/python3.11/site-packages/torch/autograd/__init__.py:251: UserWarning: An output \n",
       "with one or more elements was resized since it had shape [1, 317, 1], which does not match the required output \n",
       "shape [1, 317, 32]. This behavior is deprecated, and in a future PyTorch release outputs will not be resized unless\n",
       "they have zero elements. You can explicitly reuse an out tensor t by resizing it, inplace, to zero elements with \n",
       "t.resize_(0). (Triggered internally at \n",
       "/opt/conda/conda-bld/pytorch_1695392035891/work/aten/src/ATen/native/Resize.cpp:28.)\n",
       "  Variable._execution_engine.run_backward(  # Calls into the C++ engine to run the backward pass\n",
       "</pre>\n"
      ],
      "text/plain": [
       "/home/zekai/miniconda3/envs/eq/lib/python3.11/site-packages/torch/autograd/__init__.py:251: UserWarning: An output \n",
       "with one or more elements was resized since it had shape [1, 317, 1], which does not match the required output \n",
       "shape [1, 317, 32]. This behavior is deprecated, and in a future PyTorch release outputs will not be resized unless\n",
       "they have zero elements. You can explicitly reuse an out tensor t by resizing it, inplace, to zero elements with \n",
       "t.resize_(0). (Triggered internally at \n",
       "/opt/conda/conda-bld/pytorch_1695392035891/work/aten/src/ATen/native/Resize.cpp:28.)\n",
       "  Variable._execution_engine.run_backward(  # Calls into the C++ engine to run the backward pass\n"
      ]
     },
     "metadata": {},
     "output_type": "display_data"
    },
    {
     "data": {
      "text/html": [
       "<pre style=\"white-space:pre;overflow-x:auto;line-height:normal;font-family:Menlo,'DejaVu Sans Mono',consolas,'Courier New',monospace\">/home/zekai/miniconda3/envs/eq/lib/python3.11/site-packages/torch/autograd/__init__.py:251: UserWarning: An output \n",
       "with one or more elements was resized since it had shape [1, 122, 1], which does not match the required output \n",
       "shape [1, 122, 32]. This behavior is deprecated, and in a future PyTorch release outputs will not be resized unless\n",
       "they have zero elements. You can explicitly reuse an out tensor t by resizing it, inplace, to zero elements with \n",
       "t.resize_(0). (Triggered internally at \n",
       "/opt/conda/conda-bld/pytorch_1695392035891/work/aten/src/ATen/native/Resize.cpp:28.)\n",
       "  Variable._execution_engine.run_backward(  # Calls into the C++ engine to run the backward pass\n",
       "</pre>\n"
      ],
      "text/plain": [
       "/home/zekai/miniconda3/envs/eq/lib/python3.11/site-packages/torch/autograd/__init__.py:251: UserWarning: An output \n",
       "with one or more elements was resized since it had shape [1, 122, 1], which does not match the required output \n",
       "shape [1, 122, 32]. This behavior is deprecated, and in a future PyTorch release outputs will not be resized unless\n",
       "they have zero elements. You can explicitly reuse an out tensor t by resizing it, inplace, to zero elements with \n",
       "t.resize_(0). (Triggered internally at \n",
       "/opt/conda/conda-bld/pytorch_1695392035891/work/aten/src/ATen/native/Resize.cpp:28.)\n",
       "  Variable._execution_engine.run_backward(  # Calls into the C++ engine to run the backward pass\n"
      ]
     },
     "metadata": {},
     "output_type": "display_data"
    },
    {
     "data": {
      "text/html": [
       "<pre style=\"white-space:pre;overflow-x:auto;line-height:normal;font-family:Menlo,'DejaVu Sans Mono',consolas,'Courier New',monospace\">/home/zekai/miniconda3/envs/eq/lib/python3.11/site-packages/torch/autograd/__init__.py:251: UserWarning: An output \n",
       "with one or more elements was resized since it had shape [1, 355, 1], which does not match the required output \n",
       "shape [1, 355, 32]. This behavior is deprecated, and in a future PyTorch release outputs will not be resized unless\n",
       "they have zero elements. You can explicitly reuse an out tensor t by resizing it, inplace, to zero elements with \n",
       "t.resize_(0). (Triggered internally at \n",
       "/opt/conda/conda-bld/pytorch_1695392035891/work/aten/src/ATen/native/Resize.cpp:28.)\n",
       "  Variable._execution_engine.run_backward(  # Calls into the C++ engine to run the backward pass\n",
       "</pre>\n"
      ],
      "text/plain": [
       "/home/zekai/miniconda3/envs/eq/lib/python3.11/site-packages/torch/autograd/__init__.py:251: UserWarning: An output \n",
       "with one or more elements was resized since it had shape [1, 355, 1], which does not match the required output \n",
       "shape [1, 355, 32]. This behavior is deprecated, and in a future PyTorch release outputs will not be resized unless\n",
       "they have zero elements. You can explicitly reuse an out tensor t by resizing it, inplace, to zero elements with \n",
       "t.resize_(0). (Triggered internally at \n",
       "/opt/conda/conda-bld/pytorch_1695392035891/work/aten/src/ATen/native/Resize.cpp:28.)\n",
       "  Variable._execution_engine.run_backward(  # Calls into the C++ engine to run the backward pass\n"
      ]
     },
     "metadata": {},
     "output_type": "display_data"
    },
    {
     "data": {
      "text/html": [
       "<pre style=\"white-space:pre;overflow-x:auto;line-height:normal;font-family:Menlo,'DejaVu Sans Mono',consolas,'Courier New',monospace\">/home/zekai/miniconda3/envs/eq/lib/python3.11/site-packages/torch/autograd/__init__.py:251: UserWarning: An output \n",
       "with one or more elements was resized since it had shape [1, 108, 1], which does not match the required output \n",
       "shape [1, 108, 32]. This behavior is deprecated, and in a future PyTorch release outputs will not be resized unless\n",
       "they have zero elements. You can explicitly reuse an out tensor t by resizing it, inplace, to zero elements with \n",
       "t.resize_(0). (Triggered internally at \n",
       "/opt/conda/conda-bld/pytorch_1695392035891/work/aten/src/ATen/native/Resize.cpp:28.)\n",
       "  Variable._execution_engine.run_backward(  # Calls into the C++ engine to run the backward pass\n",
       "</pre>\n"
      ],
      "text/plain": [
       "/home/zekai/miniconda3/envs/eq/lib/python3.11/site-packages/torch/autograd/__init__.py:251: UserWarning: An output \n",
       "with one or more elements was resized since it had shape [1, 108, 1], which does not match the required output \n",
       "shape [1, 108, 32]. This behavior is deprecated, and in a future PyTorch release outputs will not be resized unless\n",
       "they have zero elements. You can explicitly reuse an out tensor t by resizing it, inplace, to zero elements with \n",
       "t.resize_(0). (Triggered internally at \n",
       "/opt/conda/conda-bld/pytorch_1695392035891/work/aten/src/ATen/native/Resize.cpp:28.)\n",
       "  Variable._execution_engine.run_backward(  # Calls into the C++ engine to run the backward pass\n"
      ]
     },
     "metadata": {},
     "output_type": "display_data"
    },
    {
     "data": {
      "text/html": [
       "<pre style=\"white-space:pre;overflow-x:auto;line-height:normal;font-family:Menlo,'DejaVu Sans Mono',consolas,'Courier New',monospace\">/home/zekai/miniconda3/envs/eq/lib/python3.11/site-packages/torch/autograd/__init__.py:251: UserWarning: An output \n",
       "with one or more elements was resized since it had shape [1, 39, 1], which does not match the required output shape\n",
       "[1, 39, 32]. This behavior is deprecated, and in a future PyTorch release outputs will not be resized unless they \n",
       "have zero elements. You can explicitly reuse an out tensor t by resizing it, inplace, to zero elements with \n",
       "t.resize_(0). (Triggered internally at \n",
       "/opt/conda/conda-bld/pytorch_1695392035891/work/aten/src/ATen/native/Resize.cpp:28.)\n",
       "  Variable._execution_engine.run_backward(  # Calls into the C++ engine to run the backward pass\n",
       "</pre>\n"
      ],
      "text/plain": [
       "/home/zekai/miniconda3/envs/eq/lib/python3.11/site-packages/torch/autograd/__init__.py:251: UserWarning: An output \n",
       "with one or more elements was resized since it had shape [1, 39, 1], which does not match the required output shape\n",
       "[1, 39, 32]. This behavior is deprecated, and in a future PyTorch release outputs will not be resized unless they \n",
       "have zero elements. You can explicitly reuse an out tensor t by resizing it, inplace, to zero elements with \n",
       "t.resize_(0). (Triggered internally at \n",
       "/opt/conda/conda-bld/pytorch_1695392035891/work/aten/src/ATen/native/Resize.cpp:28.)\n",
       "  Variable._execution_engine.run_backward(  # Calls into the C++ engine to run the backward pass\n"
      ]
     },
     "metadata": {},
     "output_type": "display_data"
    },
    {
     "data": {
      "text/html": [
       "<pre style=\"white-space:pre;overflow-x:auto;line-height:normal;font-family:Menlo,'DejaVu Sans Mono',consolas,'Courier New',monospace\">/home/zekai/miniconda3/envs/eq/lib/python3.11/site-packages/torch/autograd/__init__.py:251: UserWarning: An output \n",
       "with one or more elements was resized since it had shape [1, 561, 1], which does not match the required output \n",
       "shape [1, 561, 32]. This behavior is deprecated, and in a future PyTorch release outputs will not be resized unless\n",
       "they have zero elements. You can explicitly reuse an out tensor t by resizing it, inplace, to zero elements with \n",
       "t.resize_(0). (Triggered internally at \n",
       "/opt/conda/conda-bld/pytorch_1695392035891/work/aten/src/ATen/native/Resize.cpp:28.)\n",
       "  Variable._execution_engine.run_backward(  # Calls into the C++ engine to run the backward pass\n",
       "</pre>\n"
      ],
      "text/plain": [
       "/home/zekai/miniconda3/envs/eq/lib/python3.11/site-packages/torch/autograd/__init__.py:251: UserWarning: An output \n",
       "with one or more elements was resized since it had shape [1, 561, 1], which does not match the required output \n",
       "shape [1, 561, 32]. This behavior is deprecated, and in a future PyTorch release outputs will not be resized unless\n",
       "they have zero elements. You can explicitly reuse an out tensor t by resizing it, inplace, to zero elements with \n",
       "t.resize_(0). (Triggered internally at \n",
       "/opt/conda/conda-bld/pytorch_1695392035891/work/aten/src/ATen/native/Resize.cpp:28.)\n",
       "  Variable._execution_engine.run_backward(  # Calls into the C++ engine to run the backward pass\n"
      ]
     },
     "metadata": {},
     "output_type": "display_data"
    },
    {
     "data": {
      "text/html": [
       "<pre style=\"white-space:pre;overflow-x:auto;line-height:normal;font-family:Menlo,'DejaVu Sans Mono',consolas,'Courier New',monospace\">/home/zekai/miniconda3/envs/eq/lib/python3.11/site-packages/torch/autograd/__init__.py:251: UserWarning: An output \n",
       "with one or more elements was resized since it had shape [1, 42, 1], which does not match the required output shape\n",
       "[1, 42, 32]. This behavior is deprecated, and in a future PyTorch release outputs will not be resized unless they \n",
       "have zero elements. You can explicitly reuse an out tensor t by resizing it, inplace, to zero elements with \n",
       "t.resize_(0). (Triggered internally at \n",
       "/opt/conda/conda-bld/pytorch_1695392035891/work/aten/src/ATen/native/Resize.cpp:28.)\n",
       "  Variable._execution_engine.run_backward(  # Calls into the C++ engine to run the backward pass\n",
       "</pre>\n"
      ],
      "text/plain": [
       "/home/zekai/miniconda3/envs/eq/lib/python3.11/site-packages/torch/autograd/__init__.py:251: UserWarning: An output \n",
       "with one or more elements was resized since it had shape [1, 42, 1], which does not match the required output shape\n",
       "[1, 42, 32]. This behavior is deprecated, and in a future PyTorch release outputs will not be resized unless they \n",
       "have zero elements. You can explicitly reuse an out tensor t by resizing it, inplace, to zero elements with \n",
       "t.resize_(0). (Triggered internally at \n",
       "/opt/conda/conda-bld/pytorch_1695392035891/work/aten/src/ATen/native/Resize.cpp:28.)\n",
       "  Variable._execution_engine.run_backward(  # Calls into the C++ engine to run the backward pass\n"
      ]
     },
     "metadata": {},
     "output_type": "display_data"
    },
    {
     "data": {
      "text/html": [
       "<pre style=\"white-space:pre;overflow-x:auto;line-height:normal;font-family:Menlo,'DejaVu Sans Mono',consolas,'Courier New',monospace\">/home/zekai/miniconda3/envs/eq/lib/python3.11/site-packages/torch/autograd/__init__.py:251: UserWarning: An output \n",
       "with one or more elements was resized since it had shape [1, 347, 1], which does not match the required output \n",
       "shape [1, 347, 32]. This behavior is deprecated, and in a future PyTorch release outputs will not be resized unless\n",
       "they have zero elements. You can explicitly reuse an out tensor t by resizing it, inplace, to zero elements with \n",
       "t.resize_(0). (Triggered internally at \n",
       "/opt/conda/conda-bld/pytorch_1695392035891/work/aten/src/ATen/native/Resize.cpp:28.)\n",
       "  Variable._execution_engine.run_backward(  # Calls into the C++ engine to run the backward pass\n",
       "</pre>\n"
      ],
      "text/plain": [
       "/home/zekai/miniconda3/envs/eq/lib/python3.11/site-packages/torch/autograd/__init__.py:251: UserWarning: An output \n",
       "with one or more elements was resized since it had shape [1, 347, 1], which does not match the required output \n",
       "shape [1, 347, 32]. This behavior is deprecated, and in a future PyTorch release outputs will not be resized unless\n",
       "they have zero elements. You can explicitly reuse an out tensor t by resizing it, inplace, to zero elements with \n",
       "t.resize_(0). (Triggered internally at \n",
       "/opt/conda/conda-bld/pytorch_1695392035891/work/aten/src/ATen/native/Resize.cpp:28.)\n",
       "  Variable._execution_engine.run_backward(  # Calls into the C++ engine to run the backward pass\n"
      ]
     },
     "metadata": {},
     "output_type": "display_data"
    },
    {
     "data": {
      "text/html": [
       "<pre style=\"white-space:pre;overflow-x:auto;line-height:normal;font-family:Menlo,'DejaVu Sans Mono',consolas,'Courier New',monospace\">/home/zekai/miniconda3/envs/eq/lib/python3.11/site-packages/torch/autograd/__init__.py:251: UserWarning: An output \n",
       "with one or more elements was resized since it had shape [1, 442, 1], which does not match the required output \n",
       "shape [1, 442, 32]. This behavior is deprecated, and in a future PyTorch release outputs will not be resized unless\n",
       "they have zero elements. You can explicitly reuse an out tensor t by resizing it, inplace, to zero elements with \n",
       "t.resize_(0). (Triggered internally at \n",
       "/opt/conda/conda-bld/pytorch_1695392035891/work/aten/src/ATen/native/Resize.cpp:28.)\n",
       "  Variable._execution_engine.run_backward(  # Calls into the C++ engine to run the backward pass\n",
       "</pre>\n"
      ],
      "text/plain": [
       "/home/zekai/miniconda3/envs/eq/lib/python3.11/site-packages/torch/autograd/__init__.py:251: UserWarning: An output \n",
       "with one or more elements was resized since it had shape [1, 442, 1], which does not match the required output \n",
       "shape [1, 442, 32]. This behavior is deprecated, and in a future PyTorch release outputs will not be resized unless\n",
       "they have zero elements. You can explicitly reuse an out tensor t by resizing it, inplace, to zero elements with \n",
       "t.resize_(0). (Triggered internally at \n",
       "/opt/conda/conda-bld/pytorch_1695392035891/work/aten/src/ATen/native/Resize.cpp:28.)\n",
       "  Variable._execution_engine.run_backward(  # Calls into the C++ engine to run the backward pass\n"
      ]
     },
     "metadata": {},
     "output_type": "display_data"
    },
    {
     "data": {
      "text/html": [
       "<pre style=\"white-space:pre;overflow-x:auto;line-height:normal;font-family:Menlo,'DejaVu Sans Mono',consolas,'Courier New',monospace\">/home/zekai/miniconda3/envs/eq/lib/python3.11/site-packages/torch/autograd/__init__.py:251: UserWarning: An output \n",
       "with one or more elements was resized since it had shape [1, 507, 1], which does not match the required output \n",
       "shape [1, 507, 32]. This behavior is deprecated, and in a future PyTorch release outputs will not be resized unless\n",
       "they have zero elements. You can explicitly reuse an out tensor t by resizing it, inplace, to zero elements with \n",
       "t.resize_(0). (Triggered internally at \n",
       "/opt/conda/conda-bld/pytorch_1695392035891/work/aten/src/ATen/native/Resize.cpp:28.)\n",
       "  Variable._execution_engine.run_backward(  # Calls into the C++ engine to run the backward pass\n",
       "</pre>\n"
      ],
      "text/plain": [
       "/home/zekai/miniconda3/envs/eq/lib/python3.11/site-packages/torch/autograd/__init__.py:251: UserWarning: An output \n",
       "with one or more elements was resized since it had shape [1, 507, 1], which does not match the required output \n",
       "shape [1, 507, 32]. This behavior is deprecated, and in a future PyTorch release outputs will not be resized unless\n",
       "they have zero elements. You can explicitly reuse an out tensor t by resizing it, inplace, to zero elements with \n",
       "t.resize_(0). (Triggered internally at \n",
       "/opt/conda/conda-bld/pytorch_1695392035891/work/aten/src/ATen/native/Resize.cpp:28.)\n",
       "  Variable._execution_engine.run_backward(  # Calls into the C++ engine to run the backward pass\n"
      ]
     },
     "metadata": {},
     "output_type": "display_data"
    },
    {
     "data": {
      "text/html": [
       "<pre style=\"white-space:pre;overflow-x:auto;line-height:normal;font-family:Menlo,'DejaVu Sans Mono',consolas,'Courier New',monospace\">/home/zekai/miniconda3/envs/eq/lib/python3.11/site-packages/torch/autograd/__init__.py:251: UserWarning: An output \n",
       "with one or more elements was resized since it had shape [1, 241, 1], which does not match the required output \n",
       "shape [1, 241, 32]. This behavior is deprecated, and in a future PyTorch release outputs will not be resized unless\n",
       "they have zero elements. You can explicitly reuse an out tensor t by resizing it, inplace, to zero elements with \n",
       "t.resize_(0). (Triggered internally at \n",
       "/opt/conda/conda-bld/pytorch_1695392035891/work/aten/src/ATen/native/Resize.cpp:28.)\n",
       "  Variable._execution_engine.run_backward(  # Calls into the C++ engine to run the backward pass\n",
       "</pre>\n"
      ],
      "text/plain": [
       "/home/zekai/miniconda3/envs/eq/lib/python3.11/site-packages/torch/autograd/__init__.py:251: UserWarning: An output \n",
       "with one or more elements was resized since it had shape [1, 241, 1], which does not match the required output \n",
       "shape [1, 241, 32]. This behavior is deprecated, and in a future PyTorch release outputs will not be resized unless\n",
       "they have zero elements. You can explicitly reuse an out tensor t by resizing it, inplace, to zero elements with \n",
       "t.resize_(0). (Triggered internally at \n",
       "/opt/conda/conda-bld/pytorch_1695392035891/work/aten/src/ATen/native/Resize.cpp:28.)\n",
       "  Variable._execution_engine.run_backward(  # Calls into the C++ engine to run the backward pass\n"
      ]
     },
     "metadata": {},
     "output_type": "display_data"
    },
    {
     "data": {
      "text/html": [
       "<pre style=\"white-space:pre;overflow-x:auto;line-height:normal;font-family:Menlo,'DejaVu Sans Mono',consolas,'Courier New',monospace\">/home/zekai/miniconda3/envs/eq/lib/python3.11/site-packages/torch/autograd/__init__.py:251: UserWarning: An output \n",
       "with one or more elements was resized since it had shape [1, 63, 1], which does not match the required output shape\n",
       "[1, 63, 32]. This behavior is deprecated, and in a future PyTorch release outputs will not be resized unless they \n",
       "have zero elements. You can explicitly reuse an out tensor t by resizing it, inplace, to zero elements with \n",
       "t.resize_(0). (Triggered internally at \n",
       "/opt/conda/conda-bld/pytorch_1695392035891/work/aten/src/ATen/native/Resize.cpp:28.)\n",
       "  Variable._execution_engine.run_backward(  # Calls into the C++ engine to run the backward pass\n",
       "</pre>\n"
      ],
      "text/plain": [
       "/home/zekai/miniconda3/envs/eq/lib/python3.11/site-packages/torch/autograd/__init__.py:251: UserWarning: An output \n",
       "with one or more elements was resized since it had shape [1, 63, 1], which does not match the required output shape\n",
       "[1, 63, 32]. This behavior is deprecated, and in a future PyTorch release outputs will not be resized unless they \n",
       "have zero elements. You can explicitly reuse an out tensor t by resizing it, inplace, to zero elements with \n",
       "t.resize_(0). (Triggered internally at \n",
       "/opt/conda/conda-bld/pytorch_1695392035891/work/aten/src/ATen/native/Resize.cpp:28.)\n",
       "  Variable._execution_engine.run_backward(  # Calls into the C++ engine to run the backward pass\n"
      ]
     },
     "metadata": {},
     "output_type": "display_data"
    },
    {
     "data": {
      "text/html": [
       "<pre style=\"white-space:pre;overflow-x:auto;line-height:normal;font-family:Menlo,'DejaVu Sans Mono',consolas,'Courier New',monospace\">/home/zekai/miniconda3/envs/eq/lib/python3.11/site-packages/torch/autograd/__init__.py:251: UserWarning: An output \n",
       "with one or more elements was resized since it had shape [1, 1054, 1], which does not match the required output \n",
       "shape [1, 1054, 32]. This behavior is deprecated, and in a future PyTorch release outputs will not be resized \n",
       "unless they have zero elements. You can explicitly reuse an out tensor t by resizing it, inplace, to zero elements \n",
       "with t.resize_(0). (Triggered internally at \n",
       "/opt/conda/conda-bld/pytorch_1695392035891/work/aten/src/ATen/native/Resize.cpp:28.)\n",
       "  Variable._execution_engine.run_backward(  # Calls into the C++ engine to run the backward pass\n",
       "</pre>\n"
      ],
      "text/plain": [
       "/home/zekai/miniconda3/envs/eq/lib/python3.11/site-packages/torch/autograd/__init__.py:251: UserWarning: An output \n",
       "with one or more elements was resized since it had shape [1, 1054, 1], which does not match the required output \n",
       "shape [1, 1054, 32]. This behavior is deprecated, and in a future PyTorch release outputs will not be resized \n",
       "unless they have zero elements. You can explicitly reuse an out tensor t by resizing it, inplace, to zero elements \n",
       "with t.resize_(0). (Triggered internally at \n",
       "/opt/conda/conda-bld/pytorch_1695392035891/work/aten/src/ATen/native/Resize.cpp:28.)\n",
       "  Variable._execution_engine.run_backward(  # Calls into the C++ engine to run the backward pass\n"
      ]
     },
     "metadata": {},
     "output_type": "display_data"
    },
    {
     "data": {
      "text/html": [
       "<pre style=\"white-space:pre;overflow-x:auto;line-height:normal;font-family:Menlo,'DejaVu Sans Mono',consolas,'Courier New',monospace\">/home/zekai/miniconda3/envs/eq/lib/python3.11/site-packages/torch/autograd/__init__.py:251: UserWarning: An output \n",
       "with one or more elements was resized since it had shape [1, 285, 1], which does not match the required output \n",
       "shape [1, 285, 32]. This behavior is deprecated, and in a future PyTorch release outputs will not be resized unless\n",
       "they have zero elements. You can explicitly reuse an out tensor t by resizing it, inplace, to zero elements with \n",
       "t.resize_(0). (Triggered internally at \n",
       "/opt/conda/conda-bld/pytorch_1695392035891/work/aten/src/ATen/native/Resize.cpp:28.)\n",
       "  Variable._execution_engine.run_backward(  # Calls into the C++ engine to run the backward pass\n",
       "</pre>\n"
      ],
      "text/plain": [
       "/home/zekai/miniconda3/envs/eq/lib/python3.11/site-packages/torch/autograd/__init__.py:251: UserWarning: An output \n",
       "with one or more elements was resized since it had shape [1, 285, 1], which does not match the required output \n",
       "shape [1, 285, 32]. This behavior is deprecated, and in a future PyTorch release outputs will not be resized unless\n",
       "they have zero elements. You can explicitly reuse an out tensor t by resizing it, inplace, to zero elements with \n",
       "t.resize_(0). (Triggered internally at \n",
       "/opt/conda/conda-bld/pytorch_1695392035891/work/aten/src/ATen/native/Resize.cpp:28.)\n",
       "  Variable._execution_engine.run_backward(  # Calls into the C++ engine to run the backward pass\n"
      ]
     },
     "metadata": {},
     "output_type": "display_data"
    },
    {
     "data": {
      "text/html": [
       "<pre style=\"white-space:pre;overflow-x:auto;line-height:normal;font-family:Menlo,'DejaVu Sans Mono',consolas,'Courier New',monospace\">/home/zekai/miniconda3/envs/eq/lib/python3.11/site-packages/torch/autograd/__init__.py:251: UserWarning: An output \n",
       "with one or more elements was resized since it had shape [1, 621, 1], which does not match the required output \n",
       "shape [1, 621, 32]. This behavior is deprecated, and in a future PyTorch release outputs will not be resized unless\n",
       "they have zero elements. You can explicitly reuse an out tensor t by resizing it, inplace, to zero elements with \n",
       "t.resize_(0). (Triggered internally at \n",
       "/opt/conda/conda-bld/pytorch_1695392035891/work/aten/src/ATen/native/Resize.cpp:28.)\n",
       "  Variable._execution_engine.run_backward(  # Calls into the C++ engine to run the backward pass\n",
       "</pre>\n"
      ],
      "text/plain": [
       "/home/zekai/miniconda3/envs/eq/lib/python3.11/site-packages/torch/autograd/__init__.py:251: UserWarning: An output \n",
       "with one or more elements was resized since it had shape [1, 621, 1], which does not match the required output \n",
       "shape [1, 621, 32]. This behavior is deprecated, and in a future PyTorch release outputs will not be resized unless\n",
       "they have zero elements. You can explicitly reuse an out tensor t by resizing it, inplace, to zero elements with \n",
       "t.resize_(0). (Triggered internally at \n",
       "/opt/conda/conda-bld/pytorch_1695392035891/work/aten/src/ATen/native/Resize.cpp:28.)\n",
       "  Variable._execution_engine.run_backward(  # Calls into the C++ engine to run the backward pass\n"
      ]
     },
     "metadata": {},
     "output_type": "display_data"
    },
    {
     "data": {
      "text/html": [
       "<pre style=\"white-space:pre;overflow-x:auto;line-height:normal;font-family:Menlo,'DejaVu Sans Mono',consolas,'Courier New',monospace\">/home/zekai/miniconda3/envs/eq/lib/python3.11/site-packages/torch/autograd/__init__.py:251: UserWarning: An output \n",
       "with one or more elements was resized since it had shape [1, 80, 1], which does not match the required output shape\n",
       "[1, 80, 32]. This behavior is deprecated, and in a future PyTorch release outputs will not be resized unless they \n",
       "have zero elements. You can explicitly reuse an out tensor t by resizing it, inplace, to zero elements with \n",
       "t.resize_(0). (Triggered internally at \n",
       "/opt/conda/conda-bld/pytorch_1695392035891/work/aten/src/ATen/native/Resize.cpp:28.)\n",
       "  Variable._execution_engine.run_backward(  # Calls into the C++ engine to run the backward pass\n",
       "</pre>\n"
      ],
      "text/plain": [
       "/home/zekai/miniconda3/envs/eq/lib/python3.11/site-packages/torch/autograd/__init__.py:251: UserWarning: An output \n",
       "with one or more elements was resized since it had shape [1, 80, 1], which does not match the required output shape\n",
       "[1, 80, 32]. This behavior is deprecated, and in a future PyTorch release outputs will not be resized unless they \n",
       "have zero elements. You can explicitly reuse an out tensor t by resizing it, inplace, to zero elements with \n",
       "t.resize_(0). (Triggered internally at \n",
       "/opt/conda/conda-bld/pytorch_1695392035891/work/aten/src/ATen/native/Resize.cpp:28.)\n",
       "  Variable._execution_engine.run_backward(  # Calls into the C++ engine to run the backward pass\n"
      ]
     },
     "metadata": {},
     "output_type": "display_data"
    },
    {
     "data": {
      "text/html": [
       "<pre style=\"white-space:pre;overflow-x:auto;line-height:normal;font-family:Menlo,'DejaVu Sans Mono',consolas,'Courier New',monospace\">/home/zekai/miniconda3/envs/eq/lib/python3.11/site-packages/torch/autograd/__init__.py:251: UserWarning: An output \n",
       "with one or more elements was resized since it had shape [1, 277, 1], which does not match the required output \n",
       "shape [1, 277, 32]. This behavior is deprecated, and in a future PyTorch release outputs will not be resized unless\n",
       "they have zero elements. You can explicitly reuse an out tensor t by resizing it, inplace, to zero elements with \n",
       "t.resize_(0). (Triggered internally at \n",
       "/opt/conda/conda-bld/pytorch_1695392035891/work/aten/src/ATen/native/Resize.cpp:28.)\n",
       "  Variable._execution_engine.run_backward(  # Calls into the C++ engine to run the backward pass\n",
       "</pre>\n"
      ],
      "text/plain": [
       "/home/zekai/miniconda3/envs/eq/lib/python3.11/site-packages/torch/autograd/__init__.py:251: UserWarning: An output \n",
       "with one or more elements was resized since it had shape [1, 277, 1], which does not match the required output \n",
       "shape [1, 277, 32]. This behavior is deprecated, and in a future PyTorch release outputs will not be resized unless\n",
       "they have zero elements. You can explicitly reuse an out tensor t by resizing it, inplace, to zero elements with \n",
       "t.resize_(0). (Triggered internally at \n",
       "/opt/conda/conda-bld/pytorch_1695392035891/work/aten/src/ATen/native/Resize.cpp:28.)\n",
       "  Variable._execution_engine.run_backward(  # Calls into the C++ engine to run the backward pass\n"
      ]
     },
     "metadata": {},
     "output_type": "display_data"
    },
    {
     "data": {
      "text/html": [
       "<pre style=\"white-space:pre;overflow-x:auto;line-height:normal;font-family:Menlo,'DejaVu Sans Mono',consolas,'Courier New',monospace\">/home/zekai/miniconda3/envs/eq/lib/python3.11/site-packages/torch/autograd/__init__.py:251: UserWarning: An output \n",
       "with one or more elements was resized since it had shape [1, 547, 1], which does not match the required output \n",
       "shape [1, 547, 32]. This behavior is deprecated, and in a future PyTorch release outputs will not be resized unless\n",
       "they have zero elements. You can explicitly reuse an out tensor t by resizing it, inplace, to zero elements with \n",
       "t.resize_(0). (Triggered internally at \n",
       "/opt/conda/conda-bld/pytorch_1695392035891/work/aten/src/ATen/native/Resize.cpp:28.)\n",
       "  Variable._execution_engine.run_backward(  # Calls into the C++ engine to run the backward pass\n",
       "</pre>\n"
      ],
      "text/plain": [
       "/home/zekai/miniconda3/envs/eq/lib/python3.11/site-packages/torch/autograd/__init__.py:251: UserWarning: An output \n",
       "with one or more elements was resized since it had shape [1, 547, 1], which does not match the required output \n",
       "shape [1, 547, 32]. This behavior is deprecated, and in a future PyTorch release outputs will not be resized unless\n",
       "they have zero elements. You can explicitly reuse an out tensor t by resizing it, inplace, to zero elements with \n",
       "t.resize_(0). (Triggered internally at \n",
       "/opt/conda/conda-bld/pytorch_1695392035891/work/aten/src/ATen/native/Resize.cpp:28.)\n",
       "  Variable._execution_engine.run_backward(  # Calls into the C++ engine to run the backward pass\n"
      ]
     },
     "metadata": {},
     "output_type": "display_data"
    },
    {
     "data": {
      "text/html": [
       "<pre style=\"white-space:pre;overflow-x:auto;line-height:normal;font-family:Menlo,'DejaVu Sans Mono',consolas,'Courier New',monospace\">/home/zekai/miniconda3/envs/eq/lib/python3.11/site-packages/torch/autograd/__init__.py:251: UserWarning: An output \n",
       "with one or more elements was resized since it had shape [1, 539, 1], which does not match the required output \n",
       "shape [1, 539, 32]. This behavior is deprecated, and in a future PyTorch release outputs will not be resized unless\n",
       "they have zero elements. You can explicitly reuse an out tensor t by resizing it, inplace, to zero elements with \n",
       "t.resize_(0). (Triggered internally at \n",
       "/opt/conda/conda-bld/pytorch_1695392035891/work/aten/src/ATen/native/Resize.cpp:28.)\n",
       "  Variable._execution_engine.run_backward(  # Calls into the C++ engine to run the backward pass\n",
       "</pre>\n"
      ],
      "text/plain": [
       "/home/zekai/miniconda3/envs/eq/lib/python3.11/site-packages/torch/autograd/__init__.py:251: UserWarning: An output \n",
       "with one or more elements was resized since it had shape [1, 539, 1], which does not match the required output \n",
       "shape [1, 539, 32]. This behavior is deprecated, and in a future PyTorch release outputs will not be resized unless\n",
       "they have zero elements. You can explicitly reuse an out tensor t by resizing it, inplace, to zero elements with \n",
       "t.resize_(0). (Triggered internally at \n",
       "/opt/conda/conda-bld/pytorch_1695392035891/work/aten/src/ATen/native/Resize.cpp:28.)\n",
       "  Variable._execution_engine.run_backward(  # Calls into the C++ engine to run the backward pass\n"
      ]
     },
     "metadata": {},
     "output_type": "display_data"
    },
    {
     "data": {
      "text/html": [
       "<pre style=\"white-space:pre;overflow-x:auto;line-height:normal;font-family:Menlo,'DejaVu Sans Mono',consolas,'Courier New',monospace\">/home/zekai/miniconda3/envs/eq/lib/python3.11/site-packages/torch/autograd/__init__.py:251: UserWarning: An output \n",
       "with one or more elements was resized since it had shape [1, 330, 1], which does not match the required output \n",
       "shape [1, 330, 32]. This behavior is deprecated, and in a future PyTorch release outputs will not be resized unless\n",
       "they have zero elements. You can explicitly reuse an out tensor t by resizing it, inplace, to zero elements with \n",
       "t.resize_(0). (Triggered internally at \n",
       "/opt/conda/conda-bld/pytorch_1695392035891/work/aten/src/ATen/native/Resize.cpp:28.)\n",
       "  Variable._execution_engine.run_backward(  # Calls into the C++ engine to run the backward pass\n",
       "</pre>\n"
      ],
      "text/plain": [
       "/home/zekai/miniconda3/envs/eq/lib/python3.11/site-packages/torch/autograd/__init__.py:251: UserWarning: An output \n",
       "with one or more elements was resized since it had shape [1, 330, 1], which does not match the required output \n",
       "shape [1, 330, 32]. This behavior is deprecated, and in a future PyTorch release outputs will not be resized unless\n",
       "they have zero elements. You can explicitly reuse an out tensor t by resizing it, inplace, to zero elements with \n",
       "t.resize_(0). (Triggered internally at \n",
       "/opt/conda/conda-bld/pytorch_1695392035891/work/aten/src/ATen/native/Resize.cpp:28.)\n",
       "  Variable._execution_engine.run_backward(  # Calls into the C++ engine to run the backward pass\n"
      ]
     },
     "metadata": {},
     "output_type": "display_data"
    },
    {
     "data": {
      "text/html": [
       "<pre style=\"white-space:pre;overflow-x:auto;line-height:normal;font-family:Menlo,'DejaVu Sans Mono',consolas,'Courier New',monospace\">/home/zekai/miniconda3/envs/eq/lib/python3.11/site-packages/torch/autograd/__init__.py:251: UserWarning: An output \n",
       "with one or more elements was resized since it had shape [1, 209, 1], which does not match the required output \n",
       "shape [1, 209, 32]. This behavior is deprecated, and in a future PyTorch release outputs will not be resized unless\n",
       "they have zero elements. You can explicitly reuse an out tensor t by resizing it, inplace, to zero elements with \n",
       "t.resize_(0). (Triggered internally at \n",
       "/opt/conda/conda-bld/pytorch_1695392035891/work/aten/src/ATen/native/Resize.cpp:28.)\n",
       "  Variable._execution_engine.run_backward(  # Calls into the C++ engine to run the backward pass\n",
       "</pre>\n"
      ],
      "text/plain": [
       "/home/zekai/miniconda3/envs/eq/lib/python3.11/site-packages/torch/autograd/__init__.py:251: UserWarning: An output \n",
       "with one or more elements was resized since it had shape [1, 209, 1], which does not match the required output \n",
       "shape [1, 209, 32]. This behavior is deprecated, and in a future PyTorch release outputs will not be resized unless\n",
       "they have zero elements. You can explicitly reuse an out tensor t by resizing it, inplace, to zero elements with \n",
       "t.resize_(0). (Triggered internally at \n",
       "/opt/conda/conda-bld/pytorch_1695392035891/work/aten/src/ATen/native/Resize.cpp:28.)\n",
       "  Variable._execution_engine.run_backward(  # Calls into the C++ engine to run the backward pass\n"
      ]
     },
     "metadata": {},
     "output_type": "display_data"
    },
    {
     "data": {
      "text/html": [
       "<pre style=\"white-space:pre;overflow-x:auto;line-height:normal;font-family:Menlo,'DejaVu Sans Mono',consolas,'Courier New',monospace\">/home/zekai/miniconda3/envs/eq/lib/python3.11/site-packages/torch/autograd/__init__.py:251: UserWarning: An output \n",
       "with one or more elements was resized since it had shape [1, 51, 1], which does not match the required output shape\n",
       "[1, 51, 32]. This behavior is deprecated, and in a future PyTorch release outputs will not be resized unless they \n",
       "have zero elements. You can explicitly reuse an out tensor t by resizing it, inplace, to zero elements with \n",
       "t.resize_(0). (Triggered internally at \n",
       "/opt/conda/conda-bld/pytorch_1695392035891/work/aten/src/ATen/native/Resize.cpp:28.)\n",
       "  Variable._execution_engine.run_backward(  # Calls into the C++ engine to run the backward pass\n",
       "</pre>\n"
      ],
      "text/plain": [
       "/home/zekai/miniconda3/envs/eq/lib/python3.11/site-packages/torch/autograd/__init__.py:251: UserWarning: An output \n",
       "with one or more elements was resized since it had shape [1, 51, 1], which does not match the required output shape\n",
       "[1, 51, 32]. This behavior is deprecated, and in a future PyTorch release outputs will not be resized unless they \n",
       "have zero elements. You can explicitly reuse an out tensor t by resizing it, inplace, to zero elements with \n",
       "t.resize_(0). (Triggered internally at \n",
       "/opt/conda/conda-bld/pytorch_1695392035891/work/aten/src/ATen/native/Resize.cpp:28.)\n",
       "  Variable._execution_engine.run_backward(  # Calls into the C++ engine to run the backward pass\n"
      ]
     },
     "metadata": {},
     "output_type": "display_data"
    },
    {
     "data": {
      "text/html": [
       "<pre style=\"white-space:pre;overflow-x:auto;line-height:normal;font-family:Menlo,'DejaVu Sans Mono',consolas,'Courier New',monospace\">/home/zekai/miniconda3/envs/eq/lib/python3.11/site-packages/torch/autograd/__init__.py:251: UserWarning: An output \n",
       "with one or more elements was resized since it had shape [1, 549, 1], which does not match the required output \n",
       "shape [1, 549, 32]. This behavior is deprecated, and in a future PyTorch release outputs will not be resized unless\n",
       "they have zero elements. You can explicitly reuse an out tensor t by resizing it, inplace, to zero elements with \n",
       "t.resize_(0). (Triggered internally at \n",
       "/opt/conda/conda-bld/pytorch_1695392035891/work/aten/src/ATen/native/Resize.cpp:28.)\n",
       "  Variable._execution_engine.run_backward(  # Calls into the C++ engine to run the backward pass\n",
       "</pre>\n"
      ],
      "text/plain": [
       "/home/zekai/miniconda3/envs/eq/lib/python3.11/site-packages/torch/autograd/__init__.py:251: UserWarning: An output \n",
       "with one or more elements was resized since it had shape [1, 549, 1], which does not match the required output \n",
       "shape [1, 549, 32]. This behavior is deprecated, and in a future PyTorch release outputs will not be resized unless\n",
       "they have zero elements. You can explicitly reuse an out tensor t by resizing it, inplace, to zero elements with \n",
       "t.resize_(0). (Triggered internally at \n",
       "/opt/conda/conda-bld/pytorch_1695392035891/work/aten/src/ATen/native/Resize.cpp:28.)\n",
       "  Variable._execution_engine.run_backward(  # Calls into the C++ engine to run the backward pass\n"
      ]
     },
     "metadata": {},
     "output_type": "display_data"
    },
    {
     "data": {
      "text/html": [
       "<pre style=\"white-space:pre;overflow-x:auto;line-height:normal;font-family:Menlo,'DejaVu Sans Mono',consolas,'Courier New',monospace\">/home/zekai/miniconda3/envs/eq/lib/python3.11/site-packages/torch/autograd/__init__.py:251: UserWarning: An output \n",
       "with one or more elements was resized since it had shape [1, 411, 1], which does not match the required output \n",
       "shape [1, 411, 32]. This behavior is deprecated, and in a future PyTorch release outputs will not be resized unless\n",
       "they have zero elements. You can explicitly reuse an out tensor t by resizing it, inplace, to zero elements with \n",
       "t.resize_(0). (Triggered internally at \n",
       "/opt/conda/conda-bld/pytorch_1695392035891/work/aten/src/ATen/native/Resize.cpp:28.)\n",
       "  Variable._execution_engine.run_backward(  # Calls into the C++ engine to run the backward pass\n",
       "</pre>\n"
      ],
      "text/plain": [
       "/home/zekai/miniconda3/envs/eq/lib/python3.11/site-packages/torch/autograd/__init__.py:251: UserWarning: An output \n",
       "with one or more elements was resized since it had shape [1, 411, 1], which does not match the required output \n",
       "shape [1, 411, 32]. This behavior is deprecated, and in a future PyTorch release outputs will not be resized unless\n",
       "they have zero elements. You can explicitly reuse an out tensor t by resizing it, inplace, to zero elements with \n",
       "t.resize_(0). (Triggered internally at \n",
       "/opt/conda/conda-bld/pytorch_1695392035891/work/aten/src/ATen/native/Resize.cpp:28.)\n",
       "  Variable._execution_engine.run_backward(  # Calls into the C++ engine to run the backward pass\n"
      ]
     },
     "metadata": {},
     "output_type": "display_data"
    },
    {
     "data": {
      "text/html": [
       "<pre style=\"white-space:pre;overflow-x:auto;line-height:normal;font-family:Menlo,'DejaVu Sans Mono',consolas,'Courier New',monospace\">/home/zekai/miniconda3/envs/eq/lib/python3.11/site-packages/torch/autograd/__init__.py:251: UserWarning: An output \n",
       "with one or more elements was resized since it had shape [1, 248, 1], which does not match the required output \n",
       "shape [1, 248, 32]. This behavior is deprecated, and in a future PyTorch release outputs will not be resized unless\n",
       "they have zero elements. You can explicitly reuse an out tensor t by resizing it, inplace, to zero elements with \n",
       "t.resize_(0). (Triggered internally at \n",
       "/opt/conda/conda-bld/pytorch_1695392035891/work/aten/src/ATen/native/Resize.cpp:28.)\n",
       "  Variable._execution_engine.run_backward(  # Calls into the C++ engine to run the backward pass\n",
       "</pre>\n"
      ],
      "text/plain": [
       "/home/zekai/miniconda3/envs/eq/lib/python3.11/site-packages/torch/autograd/__init__.py:251: UserWarning: An output \n",
       "with one or more elements was resized since it had shape [1, 248, 1], which does not match the required output \n",
       "shape [1, 248, 32]. This behavior is deprecated, and in a future PyTorch release outputs will not be resized unless\n",
       "they have zero elements. You can explicitly reuse an out tensor t by resizing it, inplace, to zero elements with \n",
       "t.resize_(0). (Triggered internally at \n",
       "/opt/conda/conda-bld/pytorch_1695392035891/work/aten/src/ATen/native/Resize.cpp:28.)\n",
       "  Variable._execution_engine.run_backward(  # Calls into the C++ engine to run the backward pass\n"
      ]
     },
     "metadata": {},
     "output_type": "display_data"
    },
    {
     "data": {
      "text/html": [
       "<pre style=\"white-space:pre;overflow-x:auto;line-height:normal;font-family:Menlo,'DejaVu Sans Mono',consolas,'Courier New',monospace\">/home/zekai/miniconda3/envs/eq/lib/python3.11/site-packages/torch/autograd/__init__.py:251: UserWarning: An output \n",
       "with one or more elements was resized since it had shape [1, 28, 1], which does not match the required output shape\n",
       "[1, 28, 32]. This behavior is deprecated, and in a future PyTorch release outputs will not be resized unless they \n",
       "have zero elements. You can explicitly reuse an out tensor t by resizing it, inplace, to zero elements with \n",
       "t.resize_(0). (Triggered internally at \n",
       "/opt/conda/conda-bld/pytorch_1695392035891/work/aten/src/ATen/native/Resize.cpp:28.)\n",
       "  Variable._execution_engine.run_backward(  # Calls into the C++ engine to run the backward pass\n",
       "</pre>\n"
      ],
      "text/plain": [
       "/home/zekai/miniconda3/envs/eq/lib/python3.11/site-packages/torch/autograd/__init__.py:251: UserWarning: An output \n",
       "with one or more elements was resized since it had shape [1, 28, 1], which does not match the required output shape\n",
       "[1, 28, 32]. This behavior is deprecated, and in a future PyTorch release outputs will not be resized unless they \n",
       "have zero elements. You can explicitly reuse an out tensor t by resizing it, inplace, to zero elements with \n",
       "t.resize_(0). (Triggered internally at \n",
       "/opt/conda/conda-bld/pytorch_1695392035891/work/aten/src/ATen/native/Resize.cpp:28.)\n",
       "  Variable._execution_engine.run_backward(  # Calls into the C++ engine to run the backward pass\n"
      ]
     },
     "metadata": {},
     "output_type": "display_data"
    },
    {
     "data": {
      "text/html": [
       "<pre style=\"white-space:pre;overflow-x:auto;line-height:normal;font-family:Menlo,'DejaVu Sans Mono',consolas,'Courier New',monospace\">/home/zekai/miniconda3/envs/eq/lib/python3.11/site-packages/torch/autograd/__init__.py:251: UserWarning: An output \n",
       "with one or more elements was resized since it had shape [1, 278, 1], which does not match the required output \n",
       "shape [1, 278, 32]. This behavior is deprecated, and in a future PyTorch release outputs will not be resized unless\n",
       "they have zero elements. You can explicitly reuse an out tensor t by resizing it, inplace, to zero elements with \n",
       "t.resize_(0). (Triggered internally at \n",
       "/opt/conda/conda-bld/pytorch_1695392035891/work/aten/src/ATen/native/Resize.cpp:28.)\n",
       "  Variable._execution_engine.run_backward(  # Calls into the C++ engine to run the backward pass\n",
       "</pre>\n"
      ],
      "text/plain": [
       "/home/zekai/miniconda3/envs/eq/lib/python3.11/site-packages/torch/autograd/__init__.py:251: UserWarning: An output \n",
       "with one or more elements was resized since it had shape [1, 278, 1], which does not match the required output \n",
       "shape [1, 278, 32]. This behavior is deprecated, and in a future PyTorch release outputs will not be resized unless\n",
       "they have zero elements. You can explicitly reuse an out tensor t by resizing it, inplace, to zero elements with \n",
       "t.resize_(0). (Triggered internally at \n",
       "/opt/conda/conda-bld/pytorch_1695392035891/work/aten/src/ATen/native/Resize.cpp:28.)\n",
       "  Variable._execution_engine.run_backward(  # Calls into the C++ engine to run the backward pass\n"
      ]
     },
     "metadata": {},
     "output_type": "display_data"
    },
    {
     "data": {
      "text/html": [
       "<pre style=\"white-space:pre;overflow-x:auto;line-height:normal;font-family:Menlo,'DejaVu Sans Mono',consolas,'Courier New',monospace\">/home/zekai/miniconda3/envs/eq/lib/python3.11/site-packages/torch/autograd/__init__.py:251: UserWarning: An output \n",
       "with one or more elements was resized since it had shape [1, 311, 1], which does not match the required output \n",
       "shape [1, 311, 32]. This behavior is deprecated, and in a future PyTorch release outputs will not be resized unless\n",
       "they have zero elements. You can explicitly reuse an out tensor t by resizing it, inplace, to zero elements with \n",
       "t.resize_(0). (Triggered internally at \n",
       "/opt/conda/conda-bld/pytorch_1695392035891/work/aten/src/ATen/native/Resize.cpp:28.)\n",
       "  Variable._execution_engine.run_backward(  # Calls into the C++ engine to run the backward pass\n",
       "</pre>\n"
      ],
      "text/plain": [
       "/home/zekai/miniconda3/envs/eq/lib/python3.11/site-packages/torch/autograd/__init__.py:251: UserWarning: An output \n",
       "with one or more elements was resized since it had shape [1, 311, 1], which does not match the required output \n",
       "shape [1, 311, 32]. This behavior is deprecated, and in a future PyTorch release outputs will not be resized unless\n",
       "they have zero elements. You can explicitly reuse an out tensor t by resizing it, inplace, to zero elements with \n",
       "t.resize_(0). (Triggered internally at \n",
       "/opt/conda/conda-bld/pytorch_1695392035891/work/aten/src/ATen/native/Resize.cpp:28.)\n",
       "  Variable._execution_engine.run_backward(  # Calls into the C++ engine to run the backward pass\n"
      ]
     },
     "metadata": {},
     "output_type": "display_data"
    },
    {
     "data": {
      "text/html": [
       "<pre style=\"white-space:pre;overflow-x:auto;line-height:normal;font-family:Menlo,'DejaVu Sans Mono',consolas,'Courier New',monospace\">/home/zekai/miniconda3/envs/eq/lib/python3.11/site-packages/torch/autograd/__init__.py:251: UserWarning: An output \n",
       "with one or more elements was resized since it had shape [1, 417, 1], which does not match the required output \n",
       "shape [1, 417, 32]. This behavior is deprecated, and in a future PyTorch release outputs will not be resized unless\n",
       "they have zero elements. You can explicitly reuse an out tensor t by resizing it, inplace, to zero elements with \n",
       "t.resize_(0). (Triggered internally at \n",
       "/opt/conda/conda-bld/pytorch_1695392035891/work/aten/src/ATen/native/Resize.cpp:28.)\n",
       "  Variable._execution_engine.run_backward(  # Calls into the C++ engine to run the backward pass\n",
       "</pre>\n"
      ],
      "text/plain": [
       "/home/zekai/miniconda3/envs/eq/lib/python3.11/site-packages/torch/autograd/__init__.py:251: UserWarning: An output \n",
       "with one or more elements was resized since it had shape [1, 417, 1], which does not match the required output \n",
       "shape [1, 417, 32]. This behavior is deprecated, and in a future PyTorch release outputs will not be resized unless\n",
       "they have zero elements. You can explicitly reuse an out tensor t by resizing it, inplace, to zero elements with \n",
       "t.resize_(0). (Triggered internally at \n",
       "/opt/conda/conda-bld/pytorch_1695392035891/work/aten/src/ATen/native/Resize.cpp:28.)\n",
       "  Variable._execution_engine.run_backward(  # Calls into the C++ engine to run the backward pass\n"
      ]
     },
     "metadata": {},
     "output_type": "display_data"
    },
    {
     "data": {
      "text/html": [
       "<pre style=\"white-space:pre;overflow-x:auto;line-height:normal;font-family:Menlo,'DejaVu Sans Mono',consolas,'Courier New',monospace\">/home/zekai/miniconda3/envs/eq/lib/python3.11/site-packages/torch/autograd/__init__.py:251: UserWarning: An output \n",
       "with one or more elements was resized since it had shape [1, 480, 1], which does not match the required output \n",
       "shape [1, 480, 32]. This behavior is deprecated, and in a future PyTorch release outputs will not be resized unless\n",
       "they have zero elements. You can explicitly reuse an out tensor t by resizing it, inplace, to zero elements with \n",
       "t.resize_(0). (Triggered internally at \n",
       "/opt/conda/conda-bld/pytorch_1695392035891/work/aten/src/ATen/native/Resize.cpp:28.)\n",
       "  Variable._execution_engine.run_backward(  # Calls into the C++ engine to run the backward pass\n",
       "</pre>\n"
      ],
      "text/plain": [
       "/home/zekai/miniconda3/envs/eq/lib/python3.11/site-packages/torch/autograd/__init__.py:251: UserWarning: An output \n",
       "with one or more elements was resized since it had shape [1, 480, 1], which does not match the required output \n",
       "shape [1, 480, 32]. This behavior is deprecated, and in a future PyTorch release outputs will not be resized unless\n",
       "they have zero elements. You can explicitly reuse an out tensor t by resizing it, inplace, to zero elements with \n",
       "t.resize_(0). (Triggered internally at \n",
       "/opt/conda/conda-bld/pytorch_1695392035891/work/aten/src/ATen/native/Resize.cpp:28.)\n",
       "  Variable._execution_engine.run_backward(  # Calls into the C++ engine to run the backward pass\n"
      ]
     },
     "metadata": {},
     "output_type": "display_data"
    },
    {
     "data": {
      "text/html": [
       "<pre style=\"white-space:pre;overflow-x:auto;line-height:normal;font-family:Menlo,'DejaVu Sans Mono',consolas,'Courier New',monospace\">/home/zekai/miniconda3/envs/eq/lib/python3.11/site-packages/torch/autograd/__init__.py:251: UserWarning: An output \n",
       "with one or more elements was resized since it had shape [1, 403, 1], which does not match the required output \n",
       "shape [1, 403, 32]. This behavior is deprecated, and in a future PyTorch release outputs will not be resized unless\n",
       "they have zero elements. You can explicitly reuse an out tensor t by resizing it, inplace, to zero elements with \n",
       "t.resize_(0). (Triggered internally at \n",
       "/opt/conda/conda-bld/pytorch_1695392035891/work/aten/src/ATen/native/Resize.cpp:28.)\n",
       "  Variable._execution_engine.run_backward(  # Calls into the C++ engine to run the backward pass\n",
       "</pre>\n"
      ],
      "text/plain": [
       "/home/zekai/miniconda3/envs/eq/lib/python3.11/site-packages/torch/autograd/__init__.py:251: UserWarning: An output \n",
       "with one or more elements was resized since it had shape [1, 403, 1], which does not match the required output \n",
       "shape [1, 403, 32]. This behavior is deprecated, and in a future PyTorch release outputs will not be resized unless\n",
       "they have zero elements. You can explicitly reuse an out tensor t by resizing it, inplace, to zero elements with \n",
       "t.resize_(0). (Triggered internally at \n",
       "/opt/conda/conda-bld/pytorch_1695392035891/work/aten/src/ATen/native/Resize.cpp:28.)\n",
       "  Variable._execution_engine.run_backward(  # Calls into the C++ engine to run the backward pass\n"
      ]
     },
     "metadata": {},
     "output_type": "display_data"
    },
    {
     "data": {
      "text/html": [
       "<pre style=\"white-space:pre;overflow-x:auto;line-height:normal;font-family:Menlo,'DejaVu Sans Mono',consolas,'Courier New',monospace\">/home/zekai/miniconda3/envs/eq/lib/python3.11/site-packages/torch/autograd/__init__.py:251: UserWarning: An output \n",
       "with one or more elements was resized since it had shape [1, 573, 1], which does not match the required output \n",
       "shape [1, 573, 32]. This behavior is deprecated, and in a future PyTorch release outputs will not be resized unless\n",
       "they have zero elements. You can explicitly reuse an out tensor t by resizing it, inplace, to zero elements with \n",
       "t.resize_(0). (Triggered internally at \n",
       "/opt/conda/conda-bld/pytorch_1695392035891/work/aten/src/ATen/native/Resize.cpp:28.)\n",
       "  Variable._execution_engine.run_backward(  # Calls into the C++ engine to run the backward pass\n",
       "</pre>\n"
      ],
      "text/plain": [
       "/home/zekai/miniconda3/envs/eq/lib/python3.11/site-packages/torch/autograd/__init__.py:251: UserWarning: An output \n",
       "with one or more elements was resized since it had shape [1, 573, 1], which does not match the required output \n",
       "shape [1, 573, 32]. This behavior is deprecated, and in a future PyTorch release outputs will not be resized unless\n",
       "they have zero elements. You can explicitly reuse an out tensor t by resizing it, inplace, to zero elements with \n",
       "t.resize_(0). (Triggered internally at \n",
       "/opt/conda/conda-bld/pytorch_1695392035891/work/aten/src/ATen/native/Resize.cpp:28.)\n",
       "  Variable._execution_engine.run_backward(  # Calls into the C++ engine to run the backward pass\n"
      ]
     },
     "metadata": {},
     "output_type": "display_data"
    },
    {
     "data": {
      "text/html": [
       "<pre style=\"white-space:pre;overflow-x:auto;line-height:normal;font-family:Menlo,'DejaVu Sans Mono',consolas,'Courier New',monospace\">/home/zekai/miniconda3/envs/eq/lib/python3.11/site-packages/torch/autograd/__init__.py:251: UserWarning: An output \n",
       "with one or more elements was resized since it had shape [1, 68, 1], which does not match the required output shape\n",
       "[1, 68, 32]. This behavior is deprecated, and in a future PyTorch release outputs will not be resized unless they \n",
       "have zero elements. You can explicitly reuse an out tensor t by resizing it, inplace, to zero elements with \n",
       "t.resize_(0). (Triggered internally at \n",
       "/opt/conda/conda-bld/pytorch_1695392035891/work/aten/src/ATen/native/Resize.cpp:28.)\n",
       "  Variable._execution_engine.run_backward(  # Calls into the C++ engine to run the backward pass\n",
       "</pre>\n"
      ],
      "text/plain": [
       "/home/zekai/miniconda3/envs/eq/lib/python3.11/site-packages/torch/autograd/__init__.py:251: UserWarning: An output \n",
       "with one or more elements was resized since it had shape [1, 68, 1], which does not match the required output shape\n",
       "[1, 68, 32]. This behavior is deprecated, and in a future PyTorch release outputs will not be resized unless they \n",
       "have zero elements. You can explicitly reuse an out tensor t by resizing it, inplace, to zero elements with \n",
       "t.resize_(0). (Triggered internally at \n",
       "/opt/conda/conda-bld/pytorch_1695392035891/work/aten/src/ATen/native/Resize.cpp:28.)\n",
       "  Variable._execution_engine.run_backward(  # Calls into the C++ engine to run the backward pass\n"
      ]
     },
     "metadata": {},
     "output_type": "display_data"
    },
    {
     "data": {
      "text/html": [
       "<pre style=\"white-space:pre;overflow-x:auto;line-height:normal;font-family:Menlo,'DejaVu Sans Mono',consolas,'Courier New',monospace\">/home/zekai/miniconda3/envs/eq/lib/python3.11/site-packages/torch/autograd/__init__.py:251: UserWarning: An output \n",
       "with one or more elements was resized since it had shape [1, 31, 1], which does not match the required output shape\n",
       "[1, 31, 32]. This behavior is deprecated, and in a future PyTorch release outputs will not be resized unless they \n",
       "have zero elements. You can explicitly reuse an out tensor t by resizing it, inplace, to zero elements with \n",
       "t.resize_(0). (Triggered internally at \n",
       "/opt/conda/conda-bld/pytorch_1695392035891/work/aten/src/ATen/native/Resize.cpp:28.)\n",
       "  Variable._execution_engine.run_backward(  # Calls into the C++ engine to run the backward pass\n",
       "</pre>\n"
      ],
      "text/plain": [
       "/home/zekai/miniconda3/envs/eq/lib/python3.11/site-packages/torch/autograd/__init__.py:251: UserWarning: An output \n",
       "with one or more elements was resized since it had shape [1, 31, 1], which does not match the required output shape\n",
       "[1, 31, 32]. This behavior is deprecated, and in a future PyTorch release outputs will not be resized unless they \n",
       "have zero elements. You can explicitly reuse an out tensor t by resizing it, inplace, to zero elements with \n",
       "t.resize_(0). (Triggered internally at \n",
       "/opt/conda/conda-bld/pytorch_1695392035891/work/aten/src/ATen/native/Resize.cpp:28.)\n",
       "  Variable._execution_engine.run_backward(  # Calls into the C++ engine to run the backward pass\n"
      ]
     },
     "metadata": {},
     "output_type": "display_data"
    },
    {
     "data": {
      "text/html": [
       "<pre style=\"white-space:pre;overflow-x:auto;line-height:normal;font-family:Menlo,'DejaVu Sans Mono',consolas,'Courier New',monospace\">/home/zekai/miniconda3/envs/eq/lib/python3.11/site-packages/torch/autograd/__init__.py:251: UserWarning: An output \n",
       "with one or more elements was resized since it had shape [1, 34, 1], which does not match the required output shape\n",
       "[1, 34, 32]. This behavior is deprecated, and in a future PyTorch release outputs will not be resized unless they \n",
       "have zero elements. You can explicitly reuse an out tensor t by resizing it, inplace, to zero elements with \n",
       "t.resize_(0). (Triggered internally at \n",
       "/opt/conda/conda-bld/pytorch_1695392035891/work/aten/src/ATen/native/Resize.cpp:28.)\n",
       "  Variable._execution_engine.run_backward(  # Calls into the C++ engine to run the backward pass\n",
       "</pre>\n"
      ],
      "text/plain": [
       "/home/zekai/miniconda3/envs/eq/lib/python3.11/site-packages/torch/autograd/__init__.py:251: UserWarning: An output \n",
       "with one or more elements was resized since it had shape [1, 34, 1], which does not match the required output shape\n",
       "[1, 34, 32]. This behavior is deprecated, and in a future PyTorch release outputs will not be resized unless they \n",
       "have zero elements. You can explicitly reuse an out tensor t by resizing it, inplace, to zero elements with \n",
       "t.resize_(0). (Triggered internally at \n",
       "/opt/conda/conda-bld/pytorch_1695392035891/work/aten/src/ATen/native/Resize.cpp:28.)\n",
       "  Variable._execution_engine.run_backward(  # Calls into the C++ engine to run the backward pass\n"
      ]
     },
     "metadata": {},
     "output_type": "display_data"
    },
    {
     "data": {
      "text/html": [
       "<pre style=\"white-space:pre;overflow-x:auto;line-height:normal;font-family:Menlo,'DejaVu Sans Mono',consolas,'Courier New',monospace\">/home/zekai/miniconda3/envs/eq/lib/python3.11/site-packages/torch/autograd/__init__.py:251: UserWarning: An output \n",
       "with one or more elements was resized since it had shape [1, 314, 1], which does not match the required output \n",
       "shape [1, 314, 32]. This behavior is deprecated, and in a future PyTorch release outputs will not be resized unless\n",
       "they have zero elements. You can explicitly reuse an out tensor t by resizing it, inplace, to zero elements with \n",
       "t.resize_(0). (Triggered internally at \n",
       "/opt/conda/conda-bld/pytorch_1695392035891/work/aten/src/ATen/native/Resize.cpp:28.)\n",
       "  Variable._execution_engine.run_backward(  # Calls into the C++ engine to run the backward pass\n",
       "</pre>\n"
      ],
      "text/plain": [
       "/home/zekai/miniconda3/envs/eq/lib/python3.11/site-packages/torch/autograd/__init__.py:251: UserWarning: An output \n",
       "with one or more elements was resized since it had shape [1, 314, 1], which does not match the required output \n",
       "shape [1, 314, 32]. This behavior is deprecated, and in a future PyTorch release outputs will not be resized unless\n",
       "they have zero elements. You can explicitly reuse an out tensor t by resizing it, inplace, to zero elements with \n",
       "t.resize_(0). (Triggered internally at \n",
       "/opt/conda/conda-bld/pytorch_1695392035891/work/aten/src/ATen/native/Resize.cpp:28.)\n",
       "  Variable._execution_engine.run_backward(  # Calls into the C++ engine to run the backward pass\n"
      ]
     },
     "metadata": {},
     "output_type": "display_data"
    },
    {
     "data": {
      "text/html": [
       "<pre style=\"white-space:pre;overflow-x:auto;line-height:normal;font-family:Menlo,'DejaVu Sans Mono',consolas,'Courier New',monospace\">/home/zekai/miniconda3/envs/eq/lib/python3.11/site-packages/torch/autograd/__init__.py:251: UserWarning: An output \n",
       "with one or more elements was resized since it had shape [1, 2869, 1], which does not match the required output \n",
       "shape [1, 2869, 32]. This behavior is deprecated, and in a future PyTorch release outputs will not be resized \n",
       "unless they have zero elements. You can explicitly reuse an out tensor t by resizing it, inplace, to zero elements \n",
       "with t.resize_(0). (Triggered internally at \n",
       "/opt/conda/conda-bld/pytorch_1695392035891/work/aten/src/ATen/native/Resize.cpp:28.)\n",
       "  Variable._execution_engine.run_backward(  # Calls into the C++ engine to run the backward pass\n",
       "</pre>\n"
      ],
      "text/plain": [
       "/home/zekai/miniconda3/envs/eq/lib/python3.11/site-packages/torch/autograd/__init__.py:251: UserWarning: An output \n",
       "with one or more elements was resized since it had shape [1, 2869, 1], which does not match the required output \n",
       "shape [1, 2869, 32]. This behavior is deprecated, and in a future PyTorch release outputs will not be resized \n",
       "unless they have zero elements. You can explicitly reuse an out tensor t by resizing it, inplace, to zero elements \n",
       "with t.resize_(0). (Triggered internally at \n",
       "/opt/conda/conda-bld/pytorch_1695392035891/work/aten/src/ATen/native/Resize.cpp:28.)\n",
       "  Variable._execution_engine.run_backward(  # Calls into the C++ engine to run the backward pass\n"
      ]
     },
     "metadata": {},
     "output_type": "display_data"
    },
    {
     "data": {
      "text/html": [
       "<pre style=\"white-space:pre;overflow-x:auto;line-height:normal;font-family:Menlo,'DejaVu Sans Mono',consolas,'Courier New',monospace\">/home/zekai/miniconda3/envs/eq/lib/python3.11/site-packages/torch/autograd/__init__.py:251: UserWarning: An output \n",
       "with one or more elements was resized since it had shape [1, 144, 1], which does not match the required output \n",
       "shape [1, 144, 32]. This behavior is deprecated, and in a future PyTorch release outputs will not be resized unless\n",
       "they have zero elements. You can explicitly reuse an out tensor t by resizing it, inplace, to zero elements with \n",
       "t.resize_(0). (Triggered internally at \n",
       "/opt/conda/conda-bld/pytorch_1695392035891/work/aten/src/ATen/native/Resize.cpp:28.)\n",
       "  Variable._execution_engine.run_backward(  # Calls into the C++ engine to run the backward pass\n",
       "</pre>\n"
      ],
      "text/plain": [
       "/home/zekai/miniconda3/envs/eq/lib/python3.11/site-packages/torch/autograd/__init__.py:251: UserWarning: An output \n",
       "with one or more elements was resized since it had shape [1, 144, 1], which does not match the required output \n",
       "shape [1, 144, 32]. This behavior is deprecated, and in a future PyTorch release outputs will not be resized unless\n",
       "they have zero elements. You can explicitly reuse an out tensor t by resizing it, inplace, to zero elements with \n",
       "t.resize_(0). (Triggered internally at \n",
       "/opt/conda/conda-bld/pytorch_1695392035891/work/aten/src/ATen/native/Resize.cpp:28.)\n",
       "  Variable._execution_engine.run_backward(  # Calls into the C++ engine to run the backward pass\n"
      ]
     },
     "metadata": {},
     "output_type": "display_data"
    },
    {
     "data": {
      "text/html": [
       "<pre style=\"white-space:pre;overflow-x:auto;line-height:normal;font-family:Menlo,'DejaVu Sans Mono',consolas,'Courier New',monospace\">/home/zekai/miniconda3/envs/eq/lib/python3.11/site-packages/torch/autograd/__init__.py:251: UserWarning: An output \n",
       "with one or more elements was resized since it had shape [1, 885, 1], which does not match the required output \n",
       "shape [1, 885, 32]. This behavior is deprecated, and in a future PyTorch release outputs will not be resized unless\n",
       "they have zero elements. You can explicitly reuse an out tensor t by resizing it, inplace, to zero elements with \n",
       "t.resize_(0). (Triggered internally at \n",
       "/opt/conda/conda-bld/pytorch_1695392035891/work/aten/src/ATen/native/Resize.cpp:28.)\n",
       "  Variable._execution_engine.run_backward(  # Calls into the C++ engine to run the backward pass\n",
       "</pre>\n"
      ],
      "text/plain": [
       "/home/zekai/miniconda3/envs/eq/lib/python3.11/site-packages/torch/autograd/__init__.py:251: UserWarning: An output \n",
       "with one or more elements was resized since it had shape [1, 885, 1], which does not match the required output \n",
       "shape [1, 885, 32]. This behavior is deprecated, and in a future PyTorch release outputs will not be resized unless\n",
       "they have zero elements. You can explicitly reuse an out tensor t by resizing it, inplace, to zero elements with \n",
       "t.resize_(0). (Triggered internally at \n",
       "/opt/conda/conda-bld/pytorch_1695392035891/work/aten/src/ATen/native/Resize.cpp:28.)\n",
       "  Variable._execution_engine.run_backward(  # Calls into the C++ engine to run the backward pass\n"
      ]
     },
     "metadata": {},
     "output_type": "display_data"
    },
    {
     "data": {
      "text/html": [
       "<pre style=\"white-space:pre;overflow-x:auto;line-height:normal;font-family:Menlo,'DejaVu Sans Mono',consolas,'Courier New',monospace\">/home/zekai/miniconda3/envs/eq/lib/python3.11/site-packages/torch/autograd/__init__.py:251: UserWarning: An output \n",
       "with one or more elements was resized since it had shape [1, 965, 1], which does not match the required output \n",
       "shape [1, 965, 32]. This behavior is deprecated, and in a future PyTorch release outputs will not be resized unless\n",
       "they have zero elements. You can explicitly reuse an out tensor t by resizing it, inplace, to zero elements with \n",
       "t.resize_(0). (Triggered internally at \n",
       "/opt/conda/conda-bld/pytorch_1695392035891/work/aten/src/ATen/native/Resize.cpp:28.)\n",
       "  Variable._execution_engine.run_backward(  # Calls into the C++ engine to run the backward pass\n",
       "</pre>\n"
      ],
      "text/plain": [
       "/home/zekai/miniconda3/envs/eq/lib/python3.11/site-packages/torch/autograd/__init__.py:251: UserWarning: An output \n",
       "with one or more elements was resized since it had shape [1, 965, 1], which does not match the required output \n",
       "shape [1, 965, 32]. This behavior is deprecated, and in a future PyTorch release outputs will not be resized unless\n",
       "they have zero elements. You can explicitly reuse an out tensor t by resizing it, inplace, to zero elements with \n",
       "t.resize_(0). (Triggered internally at \n",
       "/opt/conda/conda-bld/pytorch_1695392035891/work/aten/src/ATen/native/Resize.cpp:28.)\n",
       "  Variable._execution_engine.run_backward(  # Calls into the C++ engine to run the backward pass\n"
      ]
     },
     "metadata": {},
     "output_type": "display_data"
    },
    {
     "data": {
      "text/html": [
       "<pre style=\"white-space:pre;overflow-x:auto;line-height:normal;font-family:Menlo,'DejaVu Sans Mono',consolas,'Courier New',monospace\">/home/zekai/miniconda3/envs/eq/lib/python3.11/site-packages/torch/autograd/__init__.py:251: UserWarning: An output \n",
       "with one or more elements was resized since it had shape [1, 832, 1], which does not match the required output \n",
       "shape [1, 832, 32]. This behavior is deprecated, and in a future PyTorch release outputs will not be resized unless\n",
       "they have zero elements. You can explicitly reuse an out tensor t by resizing it, inplace, to zero elements with \n",
       "t.resize_(0). (Triggered internally at \n",
       "/opt/conda/conda-bld/pytorch_1695392035891/work/aten/src/ATen/native/Resize.cpp:28.)\n",
       "  Variable._execution_engine.run_backward(  # Calls into the C++ engine to run the backward pass\n",
       "</pre>\n"
      ],
      "text/plain": [
       "/home/zekai/miniconda3/envs/eq/lib/python3.11/site-packages/torch/autograd/__init__.py:251: UserWarning: An output \n",
       "with one or more elements was resized since it had shape [1, 832, 1], which does not match the required output \n",
       "shape [1, 832, 32]. This behavior is deprecated, and in a future PyTorch release outputs will not be resized unless\n",
       "they have zero elements. You can explicitly reuse an out tensor t by resizing it, inplace, to zero elements with \n",
       "t.resize_(0). (Triggered internally at \n",
       "/opt/conda/conda-bld/pytorch_1695392035891/work/aten/src/ATen/native/Resize.cpp:28.)\n",
       "  Variable._execution_engine.run_backward(  # Calls into the C++ engine to run the backward pass\n"
      ]
     },
     "metadata": {},
     "output_type": "display_data"
    },
    {
     "data": {
      "text/html": [
       "<pre style=\"white-space:pre;overflow-x:auto;line-height:normal;font-family:Menlo,'DejaVu Sans Mono',consolas,'Courier New',monospace\">/home/zekai/miniconda3/envs/eq/lib/python3.11/site-packages/torch/autograd/__init__.py:251: UserWarning: An output \n",
       "with one or more elements was resized since it had shape [1, 388, 1], which does not match the required output \n",
       "shape [1, 388, 32]. This behavior is deprecated, and in a future PyTorch release outputs will not be resized unless\n",
       "they have zero elements. You can explicitly reuse an out tensor t by resizing it, inplace, to zero elements with \n",
       "t.resize_(0). (Triggered internally at \n",
       "/opt/conda/conda-bld/pytorch_1695392035891/work/aten/src/ATen/native/Resize.cpp:28.)\n",
       "  Variable._execution_engine.run_backward(  # Calls into the C++ engine to run the backward pass\n",
       "</pre>\n"
      ],
      "text/plain": [
       "/home/zekai/miniconda3/envs/eq/lib/python3.11/site-packages/torch/autograd/__init__.py:251: UserWarning: An output \n",
       "with one or more elements was resized since it had shape [1, 388, 1], which does not match the required output \n",
       "shape [1, 388, 32]. This behavior is deprecated, and in a future PyTorch release outputs will not be resized unless\n",
       "they have zero elements. You can explicitly reuse an out tensor t by resizing it, inplace, to zero elements with \n",
       "t.resize_(0). (Triggered internally at \n",
       "/opt/conda/conda-bld/pytorch_1695392035891/work/aten/src/ATen/native/Resize.cpp:28.)\n",
       "  Variable._execution_engine.run_backward(  # Calls into the C++ engine to run the backward pass\n"
      ]
     },
     "metadata": {},
     "output_type": "display_data"
    },
    {
     "data": {
      "text/html": [
       "<pre style=\"white-space:pre;overflow-x:auto;line-height:normal;font-family:Menlo,'DejaVu Sans Mono',consolas,'Courier New',monospace\">/home/zekai/miniconda3/envs/eq/lib/python3.11/site-packages/torch/autograd/__init__.py:251: UserWarning: An output \n",
       "with one or more elements was resized since it had shape [1, 447, 1], which does not match the required output \n",
       "shape [1, 447, 32]. This behavior is deprecated, and in a future PyTorch release outputs will not be resized unless\n",
       "they have zero elements. You can explicitly reuse an out tensor t by resizing it, inplace, to zero elements with \n",
       "t.resize_(0). (Triggered internally at \n",
       "/opt/conda/conda-bld/pytorch_1695392035891/work/aten/src/ATen/native/Resize.cpp:28.)\n",
       "  Variable._execution_engine.run_backward(  # Calls into the C++ engine to run the backward pass\n",
       "</pre>\n"
      ],
      "text/plain": [
       "/home/zekai/miniconda3/envs/eq/lib/python3.11/site-packages/torch/autograd/__init__.py:251: UserWarning: An output \n",
       "with one or more elements was resized since it had shape [1, 447, 1], which does not match the required output \n",
       "shape [1, 447, 32]. This behavior is deprecated, and in a future PyTorch release outputs will not be resized unless\n",
       "they have zero elements. You can explicitly reuse an out tensor t by resizing it, inplace, to zero elements with \n",
       "t.resize_(0). (Triggered internally at \n",
       "/opt/conda/conda-bld/pytorch_1695392035891/work/aten/src/ATen/native/Resize.cpp:28.)\n",
       "  Variable._execution_engine.run_backward(  # Calls into the C++ engine to run the backward pass\n"
      ]
     },
     "metadata": {},
     "output_type": "display_data"
    },
    {
     "data": {
      "text/html": [
       "<pre style=\"white-space:pre;overflow-x:auto;line-height:normal;font-family:Menlo,'DejaVu Sans Mono',consolas,'Courier New',monospace\">/home/zekai/miniconda3/envs/eq/lib/python3.11/site-packages/torch/autograd/__init__.py:251: UserWarning: An output \n",
       "with one or more elements was resized since it had shape [1, 396, 1], which does not match the required output \n",
       "shape [1, 396, 32]. This behavior is deprecated, and in a future PyTorch release outputs will not be resized unless\n",
       "they have zero elements. You can explicitly reuse an out tensor t by resizing it, inplace, to zero elements with \n",
       "t.resize_(0). (Triggered internally at \n",
       "/opt/conda/conda-bld/pytorch_1695392035891/work/aten/src/ATen/native/Resize.cpp:28.)\n",
       "  Variable._execution_engine.run_backward(  # Calls into the C++ engine to run the backward pass\n",
       "</pre>\n"
      ],
      "text/plain": [
       "/home/zekai/miniconda3/envs/eq/lib/python3.11/site-packages/torch/autograd/__init__.py:251: UserWarning: An output \n",
       "with one or more elements was resized since it had shape [1, 396, 1], which does not match the required output \n",
       "shape [1, 396, 32]. This behavior is deprecated, and in a future PyTorch release outputs will not be resized unless\n",
       "they have zero elements. You can explicitly reuse an out tensor t by resizing it, inplace, to zero elements with \n",
       "t.resize_(0). (Triggered internally at \n",
       "/opt/conda/conda-bld/pytorch_1695392035891/work/aten/src/ATen/native/Resize.cpp:28.)\n",
       "  Variable._execution_engine.run_backward(  # Calls into the C++ engine to run the backward pass\n"
      ]
     },
     "metadata": {},
     "output_type": "display_data"
    },
    {
     "data": {
      "text/html": [
       "<pre style=\"white-space:pre;overflow-x:auto;line-height:normal;font-family:Menlo,'DejaVu Sans Mono',consolas,'Courier New',monospace\">/home/zekai/miniconda3/envs/eq/lib/python3.11/site-packages/torch/autograd/__init__.py:251: UserWarning: An output \n",
       "with one or more elements was resized since it had shape [1, 584, 1], which does not match the required output \n",
       "shape [1, 584, 32]. This behavior is deprecated, and in a future PyTorch release outputs will not be resized unless\n",
       "they have zero elements. You can explicitly reuse an out tensor t by resizing it, inplace, to zero elements with \n",
       "t.resize_(0). (Triggered internally at \n",
       "/opt/conda/conda-bld/pytorch_1695392035891/work/aten/src/ATen/native/Resize.cpp:28.)\n",
       "  Variable._execution_engine.run_backward(  # Calls into the C++ engine to run the backward pass\n",
       "</pre>\n"
      ],
      "text/plain": [
       "/home/zekai/miniconda3/envs/eq/lib/python3.11/site-packages/torch/autograd/__init__.py:251: UserWarning: An output \n",
       "with one or more elements was resized since it had shape [1, 584, 1], which does not match the required output \n",
       "shape [1, 584, 32]. This behavior is deprecated, and in a future PyTorch release outputs will not be resized unless\n",
       "they have zero elements. You can explicitly reuse an out tensor t by resizing it, inplace, to zero elements with \n",
       "t.resize_(0). (Triggered internally at \n",
       "/opt/conda/conda-bld/pytorch_1695392035891/work/aten/src/ATen/native/Resize.cpp:28.)\n",
       "  Variable._execution_engine.run_backward(  # Calls into the C++ engine to run the backward pass\n"
      ]
     },
     "metadata": {},
     "output_type": "display_data"
    },
    {
     "data": {
      "text/html": [
       "<pre style=\"white-space:pre;overflow-x:auto;line-height:normal;font-family:Menlo,'DejaVu Sans Mono',consolas,'Courier New',monospace\">/home/zekai/miniconda3/envs/eq/lib/python3.11/site-packages/torch/autograd/__init__.py:251: UserWarning: An output \n",
       "with one or more elements was resized since it had shape [1, 24, 1], which does not match the required output shape\n",
       "[1, 24, 32]. This behavior is deprecated, and in a future PyTorch release outputs will not be resized unless they \n",
       "have zero elements. You can explicitly reuse an out tensor t by resizing it, inplace, to zero elements with \n",
       "t.resize_(0). (Triggered internally at \n",
       "/opt/conda/conda-bld/pytorch_1695392035891/work/aten/src/ATen/native/Resize.cpp:28.)\n",
       "  Variable._execution_engine.run_backward(  # Calls into the C++ engine to run the backward pass\n",
       "</pre>\n"
      ],
      "text/plain": [
       "/home/zekai/miniconda3/envs/eq/lib/python3.11/site-packages/torch/autograd/__init__.py:251: UserWarning: An output \n",
       "with one or more elements was resized since it had shape [1, 24, 1], which does not match the required output shape\n",
       "[1, 24, 32]. This behavior is deprecated, and in a future PyTorch release outputs will not be resized unless they \n",
       "have zero elements. You can explicitly reuse an out tensor t by resizing it, inplace, to zero elements with \n",
       "t.resize_(0). (Triggered internally at \n",
       "/opt/conda/conda-bld/pytorch_1695392035891/work/aten/src/ATen/native/Resize.cpp:28.)\n",
       "  Variable._execution_engine.run_backward(  # Calls into the C++ engine to run the backward pass\n"
      ]
     },
     "metadata": {},
     "output_type": "display_data"
    },
    {
     "data": {
      "text/html": [
       "<pre style=\"white-space:pre;overflow-x:auto;line-height:normal;font-family:Menlo,'DejaVu Sans Mono',consolas,'Courier New',monospace\">/home/zekai/miniconda3/envs/eq/lib/python3.11/site-packages/torch/autograd/__init__.py:251: UserWarning: An output \n",
       "with one or more elements was resized since it had shape [1, 735, 1], which does not match the required output \n",
       "shape [1, 735, 32]. This behavior is deprecated, and in a future PyTorch release outputs will not be resized unless\n",
       "they have zero elements. You can explicitly reuse an out tensor t by resizing it, inplace, to zero elements with \n",
       "t.resize_(0). (Triggered internally at \n",
       "/opt/conda/conda-bld/pytorch_1695392035891/work/aten/src/ATen/native/Resize.cpp:28.)\n",
       "  Variable._execution_engine.run_backward(  # Calls into the C++ engine to run the backward pass\n",
       "</pre>\n"
      ],
      "text/plain": [
       "/home/zekai/miniconda3/envs/eq/lib/python3.11/site-packages/torch/autograd/__init__.py:251: UserWarning: An output \n",
       "with one or more elements was resized since it had shape [1, 735, 1], which does not match the required output \n",
       "shape [1, 735, 32]. This behavior is deprecated, and in a future PyTorch release outputs will not be resized unless\n",
       "they have zero elements. You can explicitly reuse an out tensor t by resizing it, inplace, to zero elements with \n",
       "t.resize_(0). (Triggered internally at \n",
       "/opt/conda/conda-bld/pytorch_1695392035891/work/aten/src/ATen/native/Resize.cpp:28.)\n",
       "  Variable._execution_engine.run_backward(  # Calls into the C++ engine to run the backward pass\n"
      ]
     },
     "metadata": {},
     "output_type": "display_data"
    },
    {
     "data": {
      "text/html": [
       "<pre style=\"white-space:pre;overflow-x:auto;line-height:normal;font-family:Menlo,'DejaVu Sans Mono',consolas,'Courier New',monospace\">/home/zekai/miniconda3/envs/eq/lib/python3.11/site-packages/torch/autograd/__init__.py:251: UserWarning: An output \n",
       "with one or more elements was resized since it had shape [1, 1076, 1], which does not match the required output \n",
       "shape [1, 1076, 32]. This behavior is deprecated, and in a future PyTorch release outputs will not be resized \n",
       "unless they have zero elements. You can explicitly reuse an out tensor t by resizing it, inplace, to zero elements \n",
       "with t.resize_(0). (Triggered internally at \n",
       "/opt/conda/conda-bld/pytorch_1695392035891/work/aten/src/ATen/native/Resize.cpp:28.)\n",
       "  Variable._execution_engine.run_backward(  # Calls into the C++ engine to run the backward pass\n",
       "</pre>\n"
      ],
      "text/plain": [
       "/home/zekai/miniconda3/envs/eq/lib/python3.11/site-packages/torch/autograd/__init__.py:251: UserWarning: An output \n",
       "with one or more elements was resized since it had shape [1, 1076, 1], which does not match the required output \n",
       "shape [1, 1076, 32]. This behavior is deprecated, and in a future PyTorch release outputs will not be resized \n",
       "unless they have zero elements. You can explicitly reuse an out tensor t by resizing it, inplace, to zero elements \n",
       "with t.resize_(0). (Triggered internally at \n",
       "/opt/conda/conda-bld/pytorch_1695392035891/work/aten/src/ATen/native/Resize.cpp:28.)\n",
       "  Variable._execution_engine.run_backward(  # Calls into the C++ engine to run the backward pass\n"
      ]
     },
     "metadata": {},
     "output_type": "display_data"
    },
    {
     "data": {
      "text/html": [
       "<pre style=\"white-space:pre;overflow-x:auto;line-height:normal;font-family:Menlo,'DejaVu Sans Mono',consolas,'Courier New',monospace\">/home/zekai/miniconda3/envs/eq/lib/python3.11/site-packages/torch/autograd/__init__.py:251: UserWarning: An output \n",
       "with one or more elements was resized since it had shape [1, 346, 1], which does not match the required output \n",
       "shape [1, 346, 32]. This behavior is deprecated, and in a future PyTorch release outputs will not be resized unless\n",
       "they have zero elements. You can explicitly reuse an out tensor t by resizing it, inplace, to zero elements with \n",
       "t.resize_(0). (Triggered internally at \n",
       "/opt/conda/conda-bld/pytorch_1695392035891/work/aten/src/ATen/native/Resize.cpp:28.)\n",
       "  Variable._execution_engine.run_backward(  # Calls into the C++ engine to run the backward pass\n",
       "</pre>\n"
      ],
      "text/plain": [
       "/home/zekai/miniconda3/envs/eq/lib/python3.11/site-packages/torch/autograd/__init__.py:251: UserWarning: An output \n",
       "with one or more elements was resized since it had shape [1, 346, 1], which does not match the required output \n",
       "shape [1, 346, 32]. This behavior is deprecated, and in a future PyTorch release outputs will not be resized unless\n",
       "they have zero elements. You can explicitly reuse an out tensor t by resizing it, inplace, to zero elements with \n",
       "t.resize_(0). (Triggered internally at \n",
       "/opt/conda/conda-bld/pytorch_1695392035891/work/aten/src/ATen/native/Resize.cpp:28.)\n",
       "  Variable._execution_engine.run_backward(  # Calls into the C++ engine to run the backward pass\n"
      ]
     },
     "metadata": {},
     "output_type": "display_data"
    },
    {
     "data": {
      "text/html": [
       "<pre style=\"white-space:pre;overflow-x:auto;line-height:normal;font-family:Menlo,'DejaVu Sans Mono',consolas,'Courier New',monospace\">/home/zekai/miniconda3/envs/eq/lib/python3.11/site-packages/torch/autograd/__init__.py:251: UserWarning: An output \n",
       "with one or more elements was resized since it had shape [1, 416, 1], which does not match the required output \n",
       "shape [1, 416, 32]. This behavior is deprecated, and in a future PyTorch release outputs will not be resized unless\n",
       "they have zero elements. You can explicitly reuse an out tensor t by resizing it, inplace, to zero elements with \n",
       "t.resize_(0). (Triggered internally at \n",
       "/opt/conda/conda-bld/pytorch_1695392035891/work/aten/src/ATen/native/Resize.cpp:28.)\n",
       "  Variable._execution_engine.run_backward(  # Calls into the C++ engine to run the backward pass\n",
       "</pre>\n"
      ],
      "text/plain": [
       "/home/zekai/miniconda3/envs/eq/lib/python3.11/site-packages/torch/autograd/__init__.py:251: UserWarning: An output \n",
       "with one or more elements was resized since it had shape [1, 416, 1], which does not match the required output \n",
       "shape [1, 416, 32]. This behavior is deprecated, and in a future PyTorch release outputs will not be resized unless\n",
       "they have zero elements. You can explicitly reuse an out tensor t by resizing it, inplace, to zero elements with \n",
       "t.resize_(0). (Triggered internally at \n",
       "/opt/conda/conda-bld/pytorch_1695392035891/work/aten/src/ATen/native/Resize.cpp:28.)\n",
       "  Variable._execution_engine.run_backward(  # Calls into the C++ engine to run the backward pass\n"
      ]
     },
     "metadata": {},
     "output_type": "display_data"
    },
    {
     "data": {
      "text/html": [
       "<pre style=\"white-space:pre;overflow-x:auto;line-height:normal;font-family:Menlo,'DejaVu Sans Mono',consolas,'Courier New',monospace\">/home/zekai/miniconda3/envs/eq/lib/python3.11/site-packages/torch/autograd/__init__.py:251: UserWarning: An output \n",
       "with one or more elements was resized since it had shape [1, 295, 1], which does not match the required output \n",
       "shape [1, 295, 32]. This behavior is deprecated, and in a future PyTorch release outputs will not be resized unless\n",
       "they have zero elements. You can explicitly reuse an out tensor t by resizing it, inplace, to zero elements with \n",
       "t.resize_(0). (Triggered internally at \n",
       "/opt/conda/conda-bld/pytorch_1695392035891/work/aten/src/ATen/native/Resize.cpp:28.)\n",
       "  Variable._execution_engine.run_backward(  # Calls into the C++ engine to run the backward pass\n",
       "</pre>\n"
      ],
      "text/plain": [
       "/home/zekai/miniconda3/envs/eq/lib/python3.11/site-packages/torch/autograd/__init__.py:251: UserWarning: An output \n",
       "with one or more elements was resized since it had shape [1, 295, 1], which does not match the required output \n",
       "shape [1, 295, 32]. This behavior is deprecated, and in a future PyTorch release outputs will not be resized unless\n",
       "they have zero elements. You can explicitly reuse an out tensor t by resizing it, inplace, to zero elements with \n",
       "t.resize_(0). (Triggered internally at \n",
       "/opt/conda/conda-bld/pytorch_1695392035891/work/aten/src/ATen/native/Resize.cpp:28.)\n",
       "  Variable._execution_engine.run_backward(  # Calls into the C++ engine to run the backward pass\n"
      ]
     },
     "metadata": {},
     "output_type": "display_data"
    },
    {
     "data": {
      "text/html": [
       "<pre style=\"white-space:pre;overflow-x:auto;line-height:normal;font-family:Menlo,'DejaVu Sans Mono',consolas,'Courier New',monospace\">/home/zekai/miniconda3/envs/eq/lib/python3.11/site-packages/torch/autograd/__init__.py:251: UserWarning: An output \n",
       "with one or more elements was resized since it had shape [1, 158, 1], which does not match the required output \n",
       "shape [1, 158, 32]. This behavior is deprecated, and in a future PyTorch release outputs will not be resized unless\n",
       "they have zero elements. You can explicitly reuse an out tensor t by resizing it, inplace, to zero elements with \n",
       "t.resize_(0). (Triggered internally at \n",
       "/opt/conda/conda-bld/pytorch_1695392035891/work/aten/src/ATen/native/Resize.cpp:28.)\n",
       "  Variable._execution_engine.run_backward(  # Calls into the C++ engine to run the backward pass\n",
       "</pre>\n"
      ],
      "text/plain": [
       "/home/zekai/miniconda3/envs/eq/lib/python3.11/site-packages/torch/autograd/__init__.py:251: UserWarning: An output \n",
       "with one or more elements was resized since it had shape [1, 158, 1], which does not match the required output \n",
       "shape [1, 158, 32]. This behavior is deprecated, and in a future PyTorch release outputs will not be resized unless\n",
       "they have zero elements. You can explicitly reuse an out tensor t by resizing it, inplace, to zero elements with \n",
       "t.resize_(0). (Triggered internally at \n",
       "/opt/conda/conda-bld/pytorch_1695392035891/work/aten/src/ATen/native/Resize.cpp:28.)\n",
       "  Variable._execution_engine.run_backward(  # Calls into the C++ engine to run the backward pass\n"
      ]
     },
     "metadata": {},
     "output_type": "display_data"
    },
    {
     "data": {
      "text/html": [
       "<pre style=\"white-space:pre;overflow-x:auto;line-height:normal;font-family:Menlo,'DejaVu Sans Mono',consolas,'Courier New',monospace\">/home/zekai/miniconda3/envs/eq/lib/python3.11/site-packages/torch/autograd/__init__.py:251: UserWarning: An output \n",
       "with one or more elements was resized since it had shape [1, 83, 1], which does not match the required output shape\n",
       "[1, 83, 32]. This behavior is deprecated, and in a future PyTorch release outputs will not be resized unless they \n",
       "have zero elements. You can explicitly reuse an out tensor t by resizing it, inplace, to zero elements with \n",
       "t.resize_(0). (Triggered internally at \n",
       "/opt/conda/conda-bld/pytorch_1695392035891/work/aten/src/ATen/native/Resize.cpp:28.)\n",
       "  Variable._execution_engine.run_backward(  # Calls into the C++ engine to run the backward pass\n",
       "</pre>\n"
      ],
      "text/plain": [
       "/home/zekai/miniconda3/envs/eq/lib/python3.11/site-packages/torch/autograd/__init__.py:251: UserWarning: An output \n",
       "with one or more elements was resized since it had shape [1, 83, 1], which does not match the required output shape\n",
       "[1, 83, 32]. This behavior is deprecated, and in a future PyTorch release outputs will not be resized unless they \n",
       "have zero elements. You can explicitly reuse an out tensor t by resizing it, inplace, to zero elements with \n",
       "t.resize_(0). (Triggered internally at \n",
       "/opt/conda/conda-bld/pytorch_1695392035891/work/aten/src/ATen/native/Resize.cpp:28.)\n",
       "  Variable._execution_engine.run_backward(  # Calls into the C++ engine to run the backward pass\n"
      ]
     },
     "metadata": {},
     "output_type": "display_data"
    },
    {
     "data": {
      "text/html": [
       "<pre style=\"white-space:pre;overflow-x:auto;line-height:normal;font-family:Menlo,'DejaVu Sans Mono',consolas,'Courier New',monospace\">/home/zekai/miniconda3/envs/eq/lib/python3.11/site-packages/torch/autograd/__init__.py:251: UserWarning: An output \n",
       "with one or more elements was resized since it had shape [1, 344, 1], which does not match the required output \n",
       "shape [1, 344, 32]. This behavior is deprecated, and in a future PyTorch release outputs will not be resized unless\n",
       "they have zero elements. You can explicitly reuse an out tensor t by resizing it, inplace, to zero elements with \n",
       "t.resize_(0). (Triggered internally at \n",
       "/opt/conda/conda-bld/pytorch_1695392035891/work/aten/src/ATen/native/Resize.cpp:28.)\n",
       "  Variable._execution_engine.run_backward(  # Calls into the C++ engine to run the backward pass\n",
       "</pre>\n"
      ],
      "text/plain": [
       "/home/zekai/miniconda3/envs/eq/lib/python3.11/site-packages/torch/autograd/__init__.py:251: UserWarning: An output \n",
       "with one or more elements was resized since it had shape [1, 344, 1], which does not match the required output \n",
       "shape [1, 344, 32]. This behavior is deprecated, and in a future PyTorch release outputs will not be resized unless\n",
       "they have zero elements. You can explicitly reuse an out tensor t by resizing it, inplace, to zero elements with \n",
       "t.resize_(0). (Triggered internally at \n",
       "/opt/conda/conda-bld/pytorch_1695392035891/work/aten/src/ATen/native/Resize.cpp:28.)\n",
       "  Variable._execution_engine.run_backward(  # Calls into the C++ engine to run the backward pass\n"
      ]
     },
     "metadata": {},
     "output_type": "display_data"
    },
    {
     "data": {
      "text/html": [
       "<pre style=\"white-space:pre;overflow-x:auto;line-height:normal;font-family:Menlo,'DejaVu Sans Mono',consolas,'Courier New',monospace\">/home/zekai/miniconda3/envs/eq/lib/python3.11/site-packages/torch/autograd/__init__.py:251: UserWarning: An output \n",
       "with one or more elements was resized since it had shape [1, 293, 1], which does not match the required output \n",
       "shape [1, 293, 32]. This behavior is deprecated, and in a future PyTorch release outputs will not be resized unless\n",
       "they have zero elements. You can explicitly reuse an out tensor t by resizing it, inplace, to zero elements with \n",
       "t.resize_(0). (Triggered internally at \n",
       "/opt/conda/conda-bld/pytorch_1695392035891/work/aten/src/ATen/native/Resize.cpp:28.)\n",
       "  Variable._execution_engine.run_backward(  # Calls into the C++ engine to run the backward pass\n",
       "</pre>\n"
      ],
      "text/plain": [
       "/home/zekai/miniconda3/envs/eq/lib/python3.11/site-packages/torch/autograd/__init__.py:251: UserWarning: An output \n",
       "with one or more elements was resized since it had shape [1, 293, 1], which does not match the required output \n",
       "shape [1, 293, 32]. This behavior is deprecated, and in a future PyTorch release outputs will not be resized unless\n",
       "they have zero elements. You can explicitly reuse an out tensor t by resizing it, inplace, to zero elements with \n",
       "t.resize_(0). (Triggered internally at \n",
       "/opt/conda/conda-bld/pytorch_1695392035891/work/aten/src/ATen/native/Resize.cpp:28.)\n",
       "  Variable._execution_engine.run_backward(  # Calls into the C++ engine to run the backward pass\n"
      ]
     },
     "metadata": {},
     "output_type": "display_data"
    },
    {
     "data": {
      "text/html": [
       "<pre style=\"white-space:pre;overflow-x:auto;line-height:normal;font-family:Menlo,'DejaVu Sans Mono',consolas,'Courier New',monospace\">/home/zekai/miniconda3/envs/eq/lib/python3.11/site-packages/torch/autograd/__init__.py:251: UserWarning: An output \n",
       "with one or more elements was resized since it had shape [1, 126, 1], which does not match the required output \n",
       "shape [1, 126, 32]. This behavior is deprecated, and in a future PyTorch release outputs will not be resized unless\n",
       "they have zero elements. You can explicitly reuse an out tensor t by resizing it, inplace, to zero elements with \n",
       "t.resize_(0). (Triggered internally at \n",
       "/opt/conda/conda-bld/pytorch_1695392035891/work/aten/src/ATen/native/Resize.cpp:28.)\n",
       "  Variable._execution_engine.run_backward(  # Calls into the C++ engine to run the backward pass\n",
       "</pre>\n"
      ],
      "text/plain": [
       "/home/zekai/miniconda3/envs/eq/lib/python3.11/site-packages/torch/autograd/__init__.py:251: UserWarning: An output \n",
       "with one or more elements was resized since it had shape [1, 126, 1], which does not match the required output \n",
       "shape [1, 126, 32]. This behavior is deprecated, and in a future PyTorch release outputs will not be resized unless\n",
       "they have zero elements. You can explicitly reuse an out tensor t by resizing it, inplace, to zero elements with \n",
       "t.resize_(0). (Triggered internally at \n",
       "/opt/conda/conda-bld/pytorch_1695392035891/work/aten/src/ATen/native/Resize.cpp:28.)\n",
       "  Variable._execution_engine.run_backward(  # Calls into the C++ engine to run the backward pass\n"
      ]
     },
     "metadata": {},
     "output_type": "display_data"
    },
    {
     "data": {
      "text/html": [
       "<pre style=\"white-space:pre;overflow-x:auto;line-height:normal;font-family:Menlo,'DejaVu Sans Mono',consolas,'Courier New',monospace\">/home/zekai/miniconda3/envs/eq/lib/python3.11/site-packages/torch/autograd/__init__.py:251: UserWarning: An output \n",
       "with one or more elements was resized since it had shape [1, 166, 1], which does not match the required output \n",
       "shape [1, 166, 32]. This behavior is deprecated, and in a future PyTorch release outputs will not be resized unless\n",
       "they have zero elements. You can explicitly reuse an out tensor t by resizing it, inplace, to zero elements with \n",
       "t.resize_(0). (Triggered internally at \n",
       "/opt/conda/conda-bld/pytorch_1695392035891/work/aten/src/ATen/native/Resize.cpp:28.)\n",
       "  Variable._execution_engine.run_backward(  # Calls into the C++ engine to run the backward pass\n",
       "</pre>\n"
      ],
      "text/plain": [
       "/home/zekai/miniconda3/envs/eq/lib/python3.11/site-packages/torch/autograd/__init__.py:251: UserWarning: An output \n",
       "with one or more elements was resized since it had shape [1, 166, 1], which does not match the required output \n",
       "shape [1, 166, 32]. This behavior is deprecated, and in a future PyTorch release outputs will not be resized unless\n",
       "they have zero elements. You can explicitly reuse an out tensor t by resizing it, inplace, to zero elements with \n",
       "t.resize_(0). (Triggered internally at \n",
       "/opt/conda/conda-bld/pytorch_1695392035891/work/aten/src/ATen/native/Resize.cpp:28.)\n",
       "  Variable._execution_engine.run_backward(  # Calls into the C++ engine to run the backward pass\n"
      ]
     },
     "metadata": {},
     "output_type": "display_data"
    },
    {
     "data": {
      "text/html": [
       "<pre style=\"white-space:pre;overflow-x:auto;line-height:normal;font-family:Menlo,'DejaVu Sans Mono',consolas,'Courier New',monospace\">/home/zekai/miniconda3/envs/eq/lib/python3.11/site-packages/torch/autograd/__init__.py:251: UserWarning: An output \n",
       "with one or more elements was resized since it had shape [1, 588, 1], which does not match the required output \n",
       "shape [1, 588, 32]. This behavior is deprecated, and in a future PyTorch release outputs will not be resized unless\n",
       "they have zero elements. You can explicitly reuse an out tensor t by resizing it, inplace, to zero elements with \n",
       "t.resize_(0). (Triggered internally at \n",
       "/opt/conda/conda-bld/pytorch_1695392035891/work/aten/src/ATen/native/Resize.cpp:28.)\n",
       "  Variable._execution_engine.run_backward(  # Calls into the C++ engine to run the backward pass\n",
       "</pre>\n"
      ],
      "text/plain": [
       "/home/zekai/miniconda3/envs/eq/lib/python3.11/site-packages/torch/autograd/__init__.py:251: UserWarning: An output \n",
       "with one or more elements was resized since it had shape [1, 588, 1], which does not match the required output \n",
       "shape [1, 588, 32]. This behavior is deprecated, and in a future PyTorch release outputs will not be resized unless\n",
       "they have zero elements. You can explicitly reuse an out tensor t by resizing it, inplace, to zero elements with \n",
       "t.resize_(0). (Triggered internally at \n",
       "/opt/conda/conda-bld/pytorch_1695392035891/work/aten/src/ATen/native/Resize.cpp:28.)\n",
       "  Variable._execution_engine.run_backward(  # Calls into the C++ engine to run the backward pass\n"
      ]
     },
     "metadata": {},
     "output_type": "display_data"
    },
    {
     "data": {
      "text/html": [
       "<pre style=\"white-space:pre;overflow-x:auto;line-height:normal;font-family:Menlo,'DejaVu Sans Mono',consolas,'Courier New',monospace\">/home/zekai/miniconda3/envs/eq/lib/python3.11/site-packages/torch/autograd/__init__.py:251: UserWarning: An output \n",
       "with one or more elements was resized since it had shape [1, 567, 1], which does not match the required output \n",
       "shape [1, 567, 32]. This behavior is deprecated, and in a future PyTorch release outputs will not be resized unless\n",
       "they have zero elements. You can explicitly reuse an out tensor t by resizing it, inplace, to zero elements with \n",
       "t.resize_(0). (Triggered internally at \n",
       "/opt/conda/conda-bld/pytorch_1695392035891/work/aten/src/ATen/native/Resize.cpp:28.)\n",
       "  Variable._execution_engine.run_backward(  # Calls into the C++ engine to run the backward pass\n",
       "</pre>\n"
      ],
      "text/plain": [
       "/home/zekai/miniconda3/envs/eq/lib/python3.11/site-packages/torch/autograd/__init__.py:251: UserWarning: An output \n",
       "with one or more elements was resized since it had shape [1, 567, 1], which does not match the required output \n",
       "shape [1, 567, 32]. This behavior is deprecated, and in a future PyTorch release outputs will not be resized unless\n",
       "they have zero elements. You can explicitly reuse an out tensor t by resizing it, inplace, to zero elements with \n",
       "t.resize_(0). (Triggered internally at \n",
       "/opt/conda/conda-bld/pytorch_1695392035891/work/aten/src/ATen/native/Resize.cpp:28.)\n",
       "  Variable._execution_engine.run_backward(  # Calls into the C++ engine to run the backward pass\n"
      ]
     },
     "metadata": {},
     "output_type": "display_data"
    },
    {
     "data": {
      "text/html": [
       "<pre style=\"white-space:pre;overflow-x:auto;line-height:normal;font-family:Menlo,'DejaVu Sans Mono',consolas,'Courier New',monospace\">/home/zekai/miniconda3/envs/eq/lib/python3.11/site-packages/torch/autograd/__init__.py:251: UserWarning: An output \n",
       "with one or more elements was resized since it had shape [1, 1070, 1], which does not match the required output \n",
       "shape [1, 1070, 32]. This behavior is deprecated, and in a future PyTorch release outputs will not be resized \n",
       "unless they have zero elements. You can explicitly reuse an out tensor t by resizing it, inplace, to zero elements \n",
       "with t.resize_(0). (Triggered internally at \n",
       "/opt/conda/conda-bld/pytorch_1695392035891/work/aten/src/ATen/native/Resize.cpp:28.)\n",
       "  Variable._execution_engine.run_backward(  # Calls into the C++ engine to run the backward pass\n",
       "</pre>\n"
      ],
      "text/plain": [
       "/home/zekai/miniconda3/envs/eq/lib/python3.11/site-packages/torch/autograd/__init__.py:251: UserWarning: An output \n",
       "with one or more elements was resized since it had shape [1, 1070, 1], which does not match the required output \n",
       "shape [1, 1070, 32]. This behavior is deprecated, and in a future PyTorch release outputs will not be resized \n",
       "unless they have zero elements. You can explicitly reuse an out tensor t by resizing it, inplace, to zero elements \n",
       "with t.resize_(0). (Triggered internally at \n",
       "/opt/conda/conda-bld/pytorch_1695392035891/work/aten/src/ATen/native/Resize.cpp:28.)\n",
       "  Variable._execution_engine.run_backward(  # Calls into the C++ engine to run the backward pass\n"
      ]
     },
     "metadata": {},
     "output_type": "display_data"
    },
    {
     "data": {
      "text/html": [
       "<pre style=\"white-space:pre;overflow-x:auto;line-height:normal;font-family:Menlo,'DejaVu Sans Mono',consolas,'Courier New',monospace\">/home/zekai/miniconda3/envs/eq/lib/python3.11/site-packages/torch/autograd/__init__.py:251: UserWarning: An output \n",
       "with one or more elements was resized since it had shape [1, 64, 1], which does not match the required output shape\n",
       "[1, 64, 32]. This behavior is deprecated, and in a future PyTorch release outputs will not be resized unless they \n",
       "have zero elements. You can explicitly reuse an out tensor t by resizing it, inplace, to zero elements with \n",
       "t.resize_(0). (Triggered internally at \n",
       "/opt/conda/conda-bld/pytorch_1695392035891/work/aten/src/ATen/native/Resize.cpp:28.)\n",
       "  Variable._execution_engine.run_backward(  # Calls into the C++ engine to run the backward pass\n",
       "</pre>\n"
      ],
      "text/plain": [
       "/home/zekai/miniconda3/envs/eq/lib/python3.11/site-packages/torch/autograd/__init__.py:251: UserWarning: An output \n",
       "with one or more elements was resized since it had shape [1, 64, 1], which does not match the required output shape\n",
       "[1, 64, 32]. This behavior is deprecated, and in a future PyTorch release outputs will not be resized unless they \n",
       "have zero elements. You can explicitly reuse an out tensor t by resizing it, inplace, to zero elements with \n",
       "t.resize_(0). (Triggered internally at \n",
       "/opt/conda/conda-bld/pytorch_1695392035891/work/aten/src/ATen/native/Resize.cpp:28.)\n",
       "  Variable._execution_engine.run_backward(  # Calls into the C++ engine to run the backward pass\n"
      ]
     },
     "metadata": {},
     "output_type": "display_data"
    },
    {
     "data": {
      "text/html": [
       "<pre style=\"white-space:pre;overflow-x:auto;line-height:normal;font-family:Menlo,'DejaVu Sans Mono',consolas,'Courier New',monospace\">/home/zekai/miniconda3/envs/eq/lib/python3.11/site-packages/torch/autograd/__init__.py:251: UserWarning: An output \n",
       "with one or more elements was resized since it had shape [1, 521, 1], which does not match the required output \n",
       "shape [1, 521, 32]. This behavior is deprecated, and in a future PyTorch release outputs will not be resized unless\n",
       "they have zero elements. You can explicitly reuse an out tensor t by resizing it, inplace, to zero elements with \n",
       "t.resize_(0). (Triggered internally at \n",
       "/opt/conda/conda-bld/pytorch_1695392035891/work/aten/src/ATen/native/Resize.cpp:28.)\n",
       "  Variable._execution_engine.run_backward(  # Calls into the C++ engine to run the backward pass\n",
       "</pre>\n"
      ],
      "text/plain": [
       "/home/zekai/miniconda3/envs/eq/lib/python3.11/site-packages/torch/autograd/__init__.py:251: UserWarning: An output \n",
       "with one or more elements was resized since it had shape [1, 521, 1], which does not match the required output \n",
       "shape [1, 521, 32]. This behavior is deprecated, and in a future PyTorch release outputs will not be resized unless\n",
       "they have zero elements. You can explicitly reuse an out tensor t by resizing it, inplace, to zero elements with \n",
       "t.resize_(0). (Triggered internally at \n",
       "/opt/conda/conda-bld/pytorch_1695392035891/work/aten/src/ATen/native/Resize.cpp:28.)\n",
       "  Variable._execution_engine.run_backward(  # Calls into the C++ engine to run the backward pass\n"
      ]
     },
     "metadata": {},
     "output_type": "display_data"
    },
    {
     "data": {
      "text/html": [
       "<pre style=\"white-space:pre;overflow-x:auto;line-height:normal;font-family:Menlo,'DejaVu Sans Mono',consolas,'Courier New',monospace\">/home/zekai/miniconda3/envs/eq/lib/python3.11/site-packages/torch/autograd/__init__.py:251: UserWarning: An output \n",
       "with one or more elements was resized since it had shape [1, 572, 1], which does not match the required output \n",
       "shape [1, 572, 32]. This behavior is deprecated, and in a future PyTorch release outputs will not be resized unless\n",
       "they have zero elements. You can explicitly reuse an out tensor t by resizing it, inplace, to zero elements with \n",
       "t.resize_(0). (Triggered internally at \n",
       "/opt/conda/conda-bld/pytorch_1695392035891/work/aten/src/ATen/native/Resize.cpp:28.)\n",
       "  Variable._execution_engine.run_backward(  # Calls into the C++ engine to run the backward pass\n",
       "</pre>\n"
      ],
      "text/plain": [
       "/home/zekai/miniconda3/envs/eq/lib/python3.11/site-packages/torch/autograd/__init__.py:251: UserWarning: An output \n",
       "with one or more elements was resized since it had shape [1, 572, 1], which does not match the required output \n",
       "shape [1, 572, 32]. This behavior is deprecated, and in a future PyTorch release outputs will not be resized unless\n",
       "they have zero elements. You can explicitly reuse an out tensor t by resizing it, inplace, to zero elements with \n",
       "t.resize_(0). (Triggered internally at \n",
       "/opt/conda/conda-bld/pytorch_1695392035891/work/aten/src/ATen/native/Resize.cpp:28.)\n",
       "  Variable._execution_engine.run_backward(  # Calls into the C++ engine to run the backward pass\n"
      ]
     },
     "metadata": {},
     "output_type": "display_data"
    },
    {
     "data": {
      "text/html": [
       "<pre style=\"white-space:pre;overflow-x:auto;line-height:normal;font-family:Menlo,'DejaVu Sans Mono',consolas,'Courier New',monospace\">/home/zekai/miniconda3/envs/eq/lib/python3.11/site-packages/torch/autograd/__init__.py:251: UserWarning: An output \n",
       "with one or more elements was resized since it had shape [1, 90, 1], which does not match the required output shape\n",
       "[1, 90, 32]. This behavior is deprecated, and in a future PyTorch release outputs will not be resized unless they \n",
       "have zero elements. You can explicitly reuse an out tensor t by resizing it, inplace, to zero elements with \n",
       "t.resize_(0). (Triggered internally at \n",
       "/opt/conda/conda-bld/pytorch_1695392035891/work/aten/src/ATen/native/Resize.cpp:28.)\n",
       "  Variable._execution_engine.run_backward(  # Calls into the C++ engine to run the backward pass\n",
       "</pre>\n"
      ],
      "text/plain": [
       "/home/zekai/miniconda3/envs/eq/lib/python3.11/site-packages/torch/autograd/__init__.py:251: UserWarning: An output \n",
       "with one or more elements was resized since it had shape [1, 90, 1], which does not match the required output shape\n",
       "[1, 90, 32]. This behavior is deprecated, and in a future PyTorch release outputs will not be resized unless they \n",
       "have zero elements. You can explicitly reuse an out tensor t by resizing it, inplace, to zero elements with \n",
       "t.resize_(0). (Triggered internally at \n",
       "/opt/conda/conda-bld/pytorch_1695392035891/work/aten/src/ATen/native/Resize.cpp:28.)\n",
       "  Variable._execution_engine.run_backward(  # Calls into the C++ engine to run the backward pass\n"
      ]
     },
     "metadata": {},
     "output_type": "display_data"
    },
    {
     "data": {
      "text/html": [
       "<pre style=\"white-space:pre;overflow-x:auto;line-height:normal;font-family:Menlo,'DejaVu Sans Mono',consolas,'Courier New',monospace\">/home/zekai/miniconda3/envs/eq/lib/python3.11/site-packages/torch/autograd/__init__.py:251: UserWarning: An output \n",
       "with one or more elements was resized since it had shape [1, 361, 1], which does not match the required output \n",
       "shape [1, 361, 32]. This behavior is deprecated, and in a future PyTorch release outputs will not be resized unless\n",
       "they have zero elements. You can explicitly reuse an out tensor t by resizing it, inplace, to zero elements with \n",
       "t.resize_(0). (Triggered internally at \n",
       "/opt/conda/conda-bld/pytorch_1695392035891/work/aten/src/ATen/native/Resize.cpp:28.)\n",
       "  Variable._execution_engine.run_backward(  # Calls into the C++ engine to run the backward pass\n",
       "</pre>\n"
      ],
      "text/plain": [
       "/home/zekai/miniconda3/envs/eq/lib/python3.11/site-packages/torch/autograd/__init__.py:251: UserWarning: An output \n",
       "with one or more elements was resized since it had shape [1, 361, 1], which does not match the required output \n",
       "shape [1, 361, 32]. This behavior is deprecated, and in a future PyTorch release outputs will not be resized unless\n",
       "they have zero elements. You can explicitly reuse an out tensor t by resizing it, inplace, to zero elements with \n",
       "t.resize_(0). (Triggered internally at \n",
       "/opt/conda/conda-bld/pytorch_1695392035891/work/aten/src/ATen/native/Resize.cpp:28.)\n",
       "  Variable._execution_engine.run_backward(  # Calls into the C++ engine to run the backward pass\n"
      ]
     },
     "metadata": {},
     "output_type": "display_data"
    },
    {
     "data": {
      "text/html": [
       "<pre style=\"white-space:pre;overflow-x:auto;line-height:normal;font-family:Menlo,'DejaVu Sans Mono',consolas,'Courier New',monospace\">/home/zekai/miniconda3/envs/eq/lib/python3.11/site-packages/torch/autograd/__init__.py:251: UserWarning: An output \n",
       "with one or more elements was resized since it had shape [1, 299, 1], which does not match the required output \n",
       "shape [1, 299, 32]. This behavior is deprecated, and in a future PyTorch release outputs will not be resized unless\n",
       "they have zero elements. You can explicitly reuse an out tensor t by resizing it, inplace, to zero elements with \n",
       "t.resize_(0). (Triggered internally at \n",
       "/opt/conda/conda-bld/pytorch_1695392035891/work/aten/src/ATen/native/Resize.cpp:28.)\n",
       "  Variable._execution_engine.run_backward(  # Calls into the C++ engine to run the backward pass\n",
       "</pre>\n"
      ],
      "text/plain": [
       "/home/zekai/miniconda3/envs/eq/lib/python3.11/site-packages/torch/autograd/__init__.py:251: UserWarning: An output \n",
       "with one or more elements was resized since it had shape [1, 299, 1], which does not match the required output \n",
       "shape [1, 299, 32]. This behavior is deprecated, and in a future PyTorch release outputs will not be resized unless\n",
       "they have zero elements. You can explicitly reuse an out tensor t by resizing it, inplace, to zero elements with \n",
       "t.resize_(0). (Triggered internally at \n",
       "/opt/conda/conda-bld/pytorch_1695392035891/work/aten/src/ATen/native/Resize.cpp:28.)\n",
       "  Variable._execution_engine.run_backward(  # Calls into the C++ engine to run the backward pass\n"
      ]
     },
     "metadata": {},
     "output_type": "display_data"
    },
    {
     "data": {
      "text/html": [
       "<pre style=\"white-space:pre;overflow-x:auto;line-height:normal;font-family:Menlo,'DejaVu Sans Mono',consolas,'Courier New',monospace\">/home/zekai/miniconda3/envs/eq/lib/python3.11/site-packages/torch/autograd/__init__.py:251: UserWarning: An output \n",
       "with one or more elements was resized since it had shape [1, 1048, 1], which does not match the required output \n",
       "shape [1, 1048, 32]. This behavior is deprecated, and in a future PyTorch release outputs will not be resized \n",
       "unless they have zero elements. You can explicitly reuse an out tensor t by resizing it, inplace, to zero elements \n",
       "with t.resize_(0). (Triggered internally at \n",
       "/opt/conda/conda-bld/pytorch_1695392035891/work/aten/src/ATen/native/Resize.cpp:28.)\n",
       "  Variable._execution_engine.run_backward(  # Calls into the C++ engine to run the backward pass\n",
       "</pre>\n"
      ],
      "text/plain": [
       "/home/zekai/miniconda3/envs/eq/lib/python3.11/site-packages/torch/autograd/__init__.py:251: UserWarning: An output \n",
       "with one or more elements was resized since it had shape [1, 1048, 1], which does not match the required output \n",
       "shape [1, 1048, 32]. This behavior is deprecated, and in a future PyTorch release outputs will not be resized \n",
       "unless they have zero elements. You can explicitly reuse an out tensor t by resizing it, inplace, to zero elements \n",
       "with t.resize_(0). (Triggered internally at \n",
       "/opt/conda/conda-bld/pytorch_1695392035891/work/aten/src/ATen/native/Resize.cpp:28.)\n",
       "  Variable._execution_engine.run_backward(  # Calls into the C++ engine to run the backward pass\n"
      ]
     },
     "metadata": {},
     "output_type": "display_data"
    },
    {
     "data": {
      "text/html": [
       "<pre style=\"white-space:pre;overflow-x:auto;line-height:normal;font-family:Menlo,'DejaVu Sans Mono',consolas,'Courier New',monospace\">/home/zekai/miniconda3/envs/eq/lib/python3.11/site-packages/torch/autograd/__init__.py:251: UserWarning: An output \n",
       "with one or more elements was resized since it had shape [1, 469, 1], which does not match the required output \n",
       "shape [1, 469, 32]. This behavior is deprecated, and in a future PyTorch release outputs will not be resized unless\n",
       "they have zero elements. You can explicitly reuse an out tensor t by resizing it, inplace, to zero elements with \n",
       "t.resize_(0). (Triggered internally at \n",
       "/opt/conda/conda-bld/pytorch_1695392035891/work/aten/src/ATen/native/Resize.cpp:28.)\n",
       "  Variable._execution_engine.run_backward(  # Calls into the C++ engine to run the backward pass\n",
       "</pre>\n"
      ],
      "text/plain": [
       "/home/zekai/miniconda3/envs/eq/lib/python3.11/site-packages/torch/autograd/__init__.py:251: UserWarning: An output \n",
       "with one or more elements was resized since it had shape [1, 469, 1], which does not match the required output \n",
       "shape [1, 469, 32]. This behavior is deprecated, and in a future PyTorch release outputs will not be resized unless\n",
       "they have zero elements. You can explicitly reuse an out tensor t by resizing it, inplace, to zero elements with \n",
       "t.resize_(0). (Triggered internally at \n",
       "/opt/conda/conda-bld/pytorch_1695392035891/work/aten/src/ATen/native/Resize.cpp:28.)\n",
       "  Variable._execution_engine.run_backward(  # Calls into the C++ engine to run the backward pass\n"
      ]
     },
     "metadata": {},
     "output_type": "display_data"
    },
    {
     "data": {
      "text/html": [
       "<pre style=\"white-space:pre;overflow-x:auto;line-height:normal;font-family:Menlo,'DejaVu Sans Mono',consolas,'Courier New',monospace\">/home/zekai/miniconda3/envs/eq/lib/python3.11/site-packages/torch/autograd/__init__.py:251: UserWarning: An output \n",
       "with one or more elements was resized since it had shape [1, 460, 1], which does not match the required output \n",
       "shape [1, 460, 32]. This behavior is deprecated, and in a future PyTorch release outputs will not be resized unless\n",
       "they have zero elements. You can explicitly reuse an out tensor t by resizing it, inplace, to zero elements with \n",
       "t.resize_(0). (Triggered internally at \n",
       "/opt/conda/conda-bld/pytorch_1695392035891/work/aten/src/ATen/native/Resize.cpp:28.)\n",
       "  Variable._execution_engine.run_backward(  # Calls into the C++ engine to run the backward pass\n",
       "</pre>\n"
      ],
      "text/plain": [
       "/home/zekai/miniconda3/envs/eq/lib/python3.11/site-packages/torch/autograd/__init__.py:251: UserWarning: An output \n",
       "with one or more elements was resized since it had shape [1, 460, 1], which does not match the required output \n",
       "shape [1, 460, 32]. This behavior is deprecated, and in a future PyTorch release outputs will not be resized unless\n",
       "they have zero elements. You can explicitly reuse an out tensor t by resizing it, inplace, to zero elements with \n",
       "t.resize_(0). (Triggered internally at \n",
       "/opt/conda/conda-bld/pytorch_1695392035891/work/aten/src/ATen/native/Resize.cpp:28.)\n",
       "  Variable._execution_engine.run_backward(  # Calls into the C++ engine to run the backward pass\n"
      ]
     },
     "metadata": {},
     "output_type": "display_data"
    },
    {
     "data": {
      "text/html": [
       "<pre style=\"white-space:pre;overflow-x:auto;line-height:normal;font-family:Menlo,'DejaVu Sans Mono',consolas,'Courier New',monospace\">/home/zekai/miniconda3/envs/eq/lib/python3.11/site-packages/torch/autograd/__init__.py:251: UserWarning: An output \n",
       "with one or more elements was resized since it had shape [1, 186, 1], which does not match the required output \n",
       "shape [1, 186, 32]. This behavior is deprecated, and in a future PyTorch release outputs will not be resized unless\n",
       "they have zero elements. You can explicitly reuse an out tensor t by resizing it, inplace, to zero elements with \n",
       "t.resize_(0). (Triggered internally at \n",
       "/opt/conda/conda-bld/pytorch_1695392035891/work/aten/src/ATen/native/Resize.cpp:28.)\n",
       "  Variable._execution_engine.run_backward(  # Calls into the C++ engine to run the backward pass\n",
       "</pre>\n"
      ],
      "text/plain": [
       "/home/zekai/miniconda3/envs/eq/lib/python3.11/site-packages/torch/autograd/__init__.py:251: UserWarning: An output \n",
       "with one or more elements was resized since it had shape [1, 186, 1], which does not match the required output \n",
       "shape [1, 186, 32]. This behavior is deprecated, and in a future PyTorch release outputs will not be resized unless\n",
       "they have zero elements. You can explicitly reuse an out tensor t by resizing it, inplace, to zero elements with \n",
       "t.resize_(0). (Triggered internally at \n",
       "/opt/conda/conda-bld/pytorch_1695392035891/work/aten/src/ATen/native/Resize.cpp:28.)\n",
       "  Variable._execution_engine.run_backward(  # Calls into the C++ engine to run the backward pass\n"
      ]
     },
     "metadata": {},
     "output_type": "display_data"
    },
    {
     "data": {
      "text/html": [
       "<pre style=\"white-space:pre;overflow-x:auto;line-height:normal;font-family:Menlo,'DejaVu Sans Mono',consolas,'Courier New',monospace\">/home/zekai/miniconda3/envs/eq/lib/python3.11/site-packages/torch/autograd/__init__.py:251: UserWarning: An output \n",
       "with one or more elements was resized since it had shape [1, 32, 1], which does not match the required output shape\n",
       "[1, 32, 32]. This behavior is deprecated, and in a future PyTorch release outputs will not be resized unless they \n",
       "have zero elements. You can explicitly reuse an out tensor t by resizing it, inplace, to zero elements with \n",
       "t.resize_(0). (Triggered internally at \n",
       "/opt/conda/conda-bld/pytorch_1695392035891/work/aten/src/ATen/native/Resize.cpp:28.)\n",
       "  Variable._execution_engine.run_backward(  # Calls into the C++ engine to run the backward pass\n",
       "</pre>\n"
      ],
      "text/plain": [
       "/home/zekai/miniconda3/envs/eq/lib/python3.11/site-packages/torch/autograd/__init__.py:251: UserWarning: An output \n",
       "with one or more elements was resized since it had shape [1, 32, 1], which does not match the required output shape\n",
       "[1, 32, 32]. This behavior is deprecated, and in a future PyTorch release outputs will not be resized unless they \n",
       "have zero elements. You can explicitly reuse an out tensor t by resizing it, inplace, to zero elements with \n",
       "t.resize_(0). (Triggered internally at \n",
       "/opt/conda/conda-bld/pytorch_1695392035891/work/aten/src/ATen/native/Resize.cpp:28.)\n",
       "  Variable._execution_engine.run_backward(  # Calls into the C++ engine to run the backward pass\n"
      ]
     },
     "metadata": {},
     "output_type": "display_data"
    },
    {
     "data": {
      "text/html": [
       "<pre style=\"white-space:pre;overflow-x:auto;line-height:normal;font-family:Menlo,'DejaVu Sans Mono',consolas,'Courier New',monospace\">/home/zekai/miniconda3/envs/eq/lib/python3.11/site-packages/torch/autograd/__init__.py:251: UserWarning: An output \n",
       "with one or more elements was resized since it had shape [1, 397, 1], which does not match the required output \n",
       "shape [1, 397, 32]. This behavior is deprecated, and in a future PyTorch release outputs will not be resized unless\n",
       "they have zero elements. You can explicitly reuse an out tensor t by resizing it, inplace, to zero elements with \n",
       "t.resize_(0). (Triggered internally at \n",
       "/opt/conda/conda-bld/pytorch_1695392035891/work/aten/src/ATen/native/Resize.cpp:28.)\n",
       "  Variable._execution_engine.run_backward(  # Calls into the C++ engine to run the backward pass\n",
       "</pre>\n"
      ],
      "text/plain": [
       "/home/zekai/miniconda3/envs/eq/lib/python3.11/site-packages/torch/autograd/__init__.py:251: UserWarning: An output \n",
       "with one or more elements was resized since it had shape [1, 397, 1], which does not match the required output \n",
       "shape [1, 397, 32]. This behavior is deprecated, and in a future PyTorch release outputs will not be resized unless\n",
       "they have zero elements. You can explicitly reuse an out tensor t by resizing it, inplace, to zero elements with \n",
       "t.resize_(0). (Triggered internally at \n",
       "/opt/conda/conda-bld/pytorch_1695392035891/work/aten/src/ATen/native/Resize.cpp:28.)\n",
       "  Variable._execution_engine.run_backward(  # Calls into the C++ engine to run the backward pass\n"
      ]
     },
     "metadata": {},
     "output_type": "display_data"
    },
    {
     "data": {
      "text/html": [
       "<pre style=\"white-space:pre;overflow-x:auto;line-height:normal;font-family:Menlo,'DejaVu Sans Mono',consolas,'Courier New',monospace\">/home/zekai/miniconda3/envs/eq/lib/python3.11/site-packages/torch/autograd/__init__.py:251: UserWarning: An output \n",
       "with one or more elements was resized since it had shape [1, 631, 1], which does not match the required output \n",
       "shape [1, 631, 32]. This behavior is deprecated, and in a future PyTorch release outputs will not be resized unless\n",
       "they have zero elements. You can explicitly reuse an out tensor t by resizing it, inplace, to zero elements with \n",
       "t.resize_(0). (Triggered internally at \n",
       "/opt/conda/conda-bld/pytorch_1695392035891/work/aten/src/ATen/native/Resize.cpp:28.)\n",
       "  Variable._execution_engine.run_backward(  # Calls into the C++ engine to run the backward pass\n",
       "</pre>\n"
      ],
      "text/plain": [
       "/home/zekai/miniconda3/envs/eq/lib/python3.11/site-packages/torch/autograd/__init__.py:251: UserWarning: An output \n",
       "with one or more elements was resized since it had shape [1, 631, 1], which does not match the required output \n",
       "shape [1, 631, 32]. This behavior is deprecated, and in a future PyTorch release outputs will not be resized unless\n",
       "they have zero elements. You can explicitly reuse an out tensor t by resizing it, inplace, to zero elements with \n",
       "t.resize_(0). (Triggered internally at \n",
       "/opt/conda/conda-bld/pytorch_1695392035891/work/aten/src/ATen/native/Resize.cpp:28.)\n",
       "  Variable._execution_engine.run_backward(  # Calls into the C++ engine to run the backward pass\n"
      ]
     },
     "metadata": {},
     "output_type": "display_data"
    },
    {
     "data": {
      "text/html": [
       "<pre style=\"white-space:pre;overflow-x:auto;line-height:normal;font-family:Menlo,'DejaVu Sans Mono',consolas,'Courier New',monospace\">/home/zekai/miniconda3/envs/eq/lib/python3.11/site-packages/torch/autograd/__init__.py:251: UserWarning: An output \n",
       "with one or more elements was resized since it had shape [1, 288, 1], which does not match the required output \n",
       "shape [1, 288, 32]. This behavior is deprecated, and in a future PyTorch release outputs will not be resized unless\n",
       "they have zero elements. You can explicitly reuse an out tensor t by resizing it, inplace, to zero elements with \n",
       "t.resize_(0). (Triggered internally at \n",
       "/opt/conda/conda-bld/pytorch_1695392035891/work/aten/src/ATen/native/Resize.cpp:28.)\n",
       "  Variable._execution_engine.run_backward(  # Calls into the C++ engine to run the backward pass\n",
       "</pre>\n"
      ],
      "text/plain": [
       "/home/zekai/miniconda3/envs/eq/lib/python3.11/site-packages/torch/autograd/__init__.py:251: UserWarning: An output \n",
       "with one or more elements was resized since it had shape [1, 288, 1], which does not match the required output \n",
       "shape [1, 288, 32]. This behavior is deprecated, and in a future PyTorch release outputs will not be resized unless\n",
       "they have zero elements. You can explicitly reuse an out tensor t by resizing it, inplace, to zero elements with \n",
       "t.resize_(0). (Triggered internally at \n",
       "/opt/conda/conda-bld/pytorch_1695392035891/work/aten/src/ATen/native/Resize.cpp:28.)\n",
       "  Variable._execution_engine.run_backward(  # Calls into the C++ engine to run the backward pass\n"
      ]
     },
     "metadata": {},
     "output_type": "display_data"
    },
    {
     "data": {
      "text/html": [
       "<pre style=\"white-space:pre;overflow-x:auto;line-height:normal;font-family:Menlo,'DejaVu Sans Mono',consolas,'Courier New',monospace\">/home/zekai/miniconda3/envs/eq/lib/python3.11/site-packages/torch/autograd/__init__.py:251: UserWarning: An output \n",
       "with one or more elements was resized since it had shape [1, 551, 1], which does not match the required output \n",
       "shape [1, 551, 32]. This behavior is deprecated, and in a future PyTorch release outputs will not be resized unless\n",
       "they have zero elements. You can explicitly reuse an out tensor t by resizing it, inplace, to zero elements with \n",
       "t.resize_(0). (Triggered internally at \n",
       "/opt/conda/conda-bld/pytorch_1695392035891/work/aten/src/ATen/native/Resize.cpp:28.)\n",
       "  Variable._execution_engine.run_backward(  # Calls into the C++ engine to run the backward pass\n",
       "</pre>\n"
      ],
      "text/plain": [
       "/home/zekai/miniconda3/envs/eq/lib/python3.11/site-packages/torch/autograd/__init__.py:251: UserWarning: An output \n",
       "with one or more elements was resized since it had shape [1, 551, 1], which does not match the required output \n",
       "shape [1, 551, 32]. This behavior is deprecated, and in a future PyTorch release outputs will not be resized unless\n",
       "they have zero elements. You can explicitly reuse an out tensor t by resizing it, inplace, to zero elements with \n",
       "t.resize_(0). (Triggered internally at \n",
       "/opt/conda/conda-bld/pytorch_1695392035891/work/aten/src/ATen/native/Resize.cpp:28.)\n",
       "  Variable._execution_engine.run_backward(  # Calls into the C++ engine to run the backward pass\n"
      ]
     },
     "metadata": {},
     "output_type": "display_data"
    },
    {
     "data": {
      "text/html": [
       "<pre style=\"white-space:pre;overflow-x:auto;line-height:normal;font-family:Menlo,'DejaVu Sans Mono',consolas,'Courier New',monospace\">/home/zekai/miniconda3/envs/eq/lib/python3.11/site-packages/torch/autograd/__init__.py:251: UserWarning: An output \n",
       "with one or more elements was resized since it had shape [1, 97, 1], which does not match the required output shape\n",
       "[1, 97, 32]. This behavior is deprecated, and in a future PyTorch release outputs will not be resized unless they \n",
       "have zero elements. You can explicitly reuse an out tensor t by resizing it, inplace, to zero elements with \n",
       "t.resize_(0). (Triggered internally at \n",
       "/opt/conda/conda-bld/pytorch_1695392035891/work/aten/src/ATen/native/Resize.cpp:28.)\n",
       "  Variable._execution_engine.run_backward(  # Calls into the C++ engine to run the backward pass\n",
       "</pre>\n"
      ],
      "text/plain": [
       "/home/zekai/miniconda3/envs/eq/lib/python3.11/site-packages/torch/autograd/__init__.py:251: UserWarning: An output \n",
       "with one or more elements was resized since it had shape [1, 97, 1], which does not match the required output shape\n",
       "[1, 97, 32]. This behavior is deprecated, and in a future PyTorch release outputs will not be resized unless they \n",
       "have zero elements. You can explicitly reuse an out tensor t by resizing it, inplace, to zero elements with \n",
       "t.resize_(0). (Triggered internally at \n",
       "/opt/conda/conda-bld/pytorch_1695392035891/work/aten/src/ATen/native/Resize.cpp:28.)\n",
       "  Variable._execution_engine.run_backward(  # Calls into the C++ engine to run the backward pass\n"
      ]
     },
     "metadata": {},
     "output_type": "display_data"
    },
    {
     "data": {
      "text/html": [
       "<pre style=\"white-space:pre;overflow-x:auto;line-height:normal;font-family:Menlo,'DejaVu Sans Mono',consolas,'Courier New',monospace\">/home/zekai/miniconda3/envs/eq/lib/python3.11/site-packages/torch/autograd/__init__.py:251: UserWarning: An output \n",
       "with one or more elements was resized since it had shape [1, 833, 1], which does not match the required output \n",
       "shape [1, 833, 32]. This behavior is deprecated, and in a future PyTorch release outputs will not be resized unless\n",
       "they have zero elements. You can explicitly reuse an out tensor t by resizing it, inplace, to zero elements with \n",
       "t.resize_(0). (Triggered internally at \n",
       "/opt/conda/conda-bld/pytorch_1695392035891/work/aten/src/ATen/native/Resize.cpp:28.)\n",
       "  Variable._execution_engine.run_backward(  # Calls into the C++ engine to run the backward pass\n",
       "</pre>\n"
      ],
      "text/plain": [
       "/home/zekai/miniconda3/envs/eq/lib/python3.11/site-packages/torch/autograd/__init__.py:251: UserWarning: An output \n",
       "with one or more elements was resized since it had shape [1, 833, 1], which does not match the required output \n",
       "shape [1, 833, 32]. This behavior is deprecated, and in a future PyTorch release outputs will not be resized unless\n",
       "they have zero elements. You can explicitly reuse an out tensor t by resizing it, inplace, to zero elements with \n",
       "t.resize_(0). (Triggered internally at \n",
       "/opt/conda/conda-bld/pytorch_1695392035891/work/aten/src/ATen/native/Resize.cpp:28.)\n",
       "  Variable._execution_engine.run_backward(  # Calls into the C++ engine to run the backward pass\n"
      ]
     },
     "metadata": {},
     "output_type": "display_data"
    },
    {
     "data": {
      "text/html": [
       "<pre style=\"white-space:pre;overflow-x:auto;line-height:normal;font-family:Menlo,'DejaVu Sans Mono',consolas,'Courier New',monospace\">/home/zekai/miniconda3/envs/eq/lib/python3.11/site-packages/torch/autograd/__init__.py:251: UserWarning: An output \n",
       "with one or more elements was resized since it had shape [1, 165, 1], which does not match the required output \n",
       "shape [1, 165, 32]. This behavior is deprecated, and in a future PyTorch release outputs will not be resized unless\n",
       "they have zero elements. You can explicitly reuse an out tensor t by resizing it, inplace, to zero elements with \n",
       "t.resize_(0). (Triggered internally at \n",
       "/opt/conda/conda-bld/pytorch_1695392035891/work/aten/src/ATen/native/Resize.cpp:28.)\n",
       "  Variable._execution_engine.run_backward(  # Calls into the C++ engine to run the backward pass\n",
       "</pre>\n"
      ],
      "text/plain": [
       "/home/zekai/miniconda3/envs/eq/lib/python3.11/site-packages/torch/autograd/__init__.py:251: UserWarning: An output \n",
       "with one or more elements was resized since it had shape [1, 165, 1], which does not match the required output \n",
       "shape [1, 165, 32]. This behavior is deprecated, and in a future PyTorch release outputs will not be resized unless\n",
       "they have zero elements. You can explicitly reuse an out tensor t by resizing it, inplace, to zero elements with \n",
       "t.resize_(0). (Triggered internally at \n",
       "/opt/conda/conda-bld/pytorch_1695392035891/work/aten/src/ATen/native/Resize.cpp:28.)\n",
       "  Variable._execution_engine.run_backward(  # Calls into the C++ engine to run the backward pass\n"
      ]
     },
     "metadata": {},
     "output_type": "display_data"
    },
    {
     "data": {
      "text/html": [
       "<pre style=\"white-space:pre;overflow-x:auto;line-height:normal;font-family:Menlo,'DejaVu Sans Mono',consolas,'Courier New',monospace\">/home/zekai/miniconda3/envs/eq/lib/python3.11/site-packages/torch/autograd/__init__.py:251: UserWarning: An output \n",
       "with one or more elements was resized since it had shape [1, 116, 1], which does not match the required output \n",
       "shape [1, 116, 32]. This behavior is deprecated, and in a future PyTorch release outputs will not be resized unless\n",
       "they have zero elements. You can explicitly reuse an out tensor t by resizing it, inplace, to zero elements with \n",
       "t.resize_(0). (Triggered internally at \n",
       "/opt/conda/conda-bld/pytorch_1695392035891/work/aten/src/ATen/native/Resize.cpp:28.)\n",
       "  Variable._execution_engine.run_backward(  # Calls into the C++ engine to run the backward pass\n",
       "</pre>\n"
      ],
      "text/plain": [
       "/home/zekai/miniconda3/envs/eq/lib/python3.11/site-packages/torch/autograd/__init__.py:251: UserWarning: An output \n",
       "with one or more elements was resized since it had shape [1, 116, 1], which does not match the required output \n",
       "shape [1, 116, 32]. This behavior is deprecated, and in a future PyTorch release outputs will not be resized unless\n",
       "they have zero elements. You can explicitly reuse an out tensor t by resizing it, inplace, to zero elements with \n",
       "t.resize_(0). (Triggered internally at \n",
       "/opt/conda/conda-bld/pytorch_1695392035891/work/aten/src/ATen/native/Resize.cpp:28.)\n",
       "  Variable._execution_engine.run_backward(  # Calls into the C++ engine to run the backward pass\n"
      ]
     },
     "metadata": {},
     "output_type": "display_data"
    },
    {
     "data": {
      "text/html": [
       "<pre style=\"white-space:pre;overflow-x:auto;line-height:normal;font-family:Menlo,'DejaVu Sans Mono',consolas,'Courier New',monospace\">/home/zekai/miniconda3/envs/eq/lib/python3.11/site-packages/torch/autograd/__init__.py:251: UserWarning: An output \n",
       "with one or more elements was resized since it had shape [1, 332, 1], which does not match the required output \n",
       "shape [1, 332, 32]. This behavior is deprecated, and in a future PyTorch release outputs will not be resized unless\n",
       "they have zero elements. You can explicitly reuse an out tensor t by resizing it, inplace, to zero elements with \n",
       "t.resize_(0). (Triggered internally at \n",
       "/opt/conda/conda-bld/pytorch_1695392035891/work/aten/src/ATen/native/Resize.cpp:28.)\n",
       "  Variable._execution_engine.run_backward(  # Calls into the C++ engine to run the backward pass\n",
       "</pre>\n"
      ],
      "text/plain": [
       "/home/zekai/miniconda3/envs/eq/lib/python3.11/site-packages/torch/autograd/__init__.py:251: UserWarning: An output \n",
       "with one or more elements was resized since it had shape [1, 332, 1], which does not match the required output \n",
       "shape [1, 332, 32]. This behavior is deprecated, and in a future PyTorch release outputs will not be resized unless\n",
       "they have zero elements. You can explicitly reuse an out tensor t by resizing it, inplace, to zero elements with \n",
       "t.resize_(0). (Triggered internally at \n",
       "/opt/conda/conda-bld/pytorch_1695392035891/work/aten/src/ATen/native/Resize.cpp:28.)\n",
       "  Variable._execution_engine.run_backward(  # Calls into the C++ engine to run the backward pass\n"
      ]
     },
     "metadata": {},
     "output_type": "display_data"
    },
    {
     "data": {
      "text/html": [
       "<pre style=\"white-space:pre;overflow-x:auto;line-height:normal;font-family:Menlo,'DejaVu Sans Mono',consolas,'Courier New',monospace\">/home/zekai/miniconda3/envs/eq/lib/python3.11/site-packages/torch/autograd/__init__.py:251: UserWarning: An output \n",
       "with one or more elements was resized since it had shape [1, 48, 1], which does not match the required output shape\n",
       "[1, 48, 32]. This behavior is deprecated, and in a future PyTorch release outputs will not be resized unless they \n",
       "have zero elements. You can explicitly reuse an out tensor t by resizing it, inplace, to zero elements with \n",
       "t.resize_(0). (Triggered internally at \n",
       "/opt/conda/conda-bld/pytorch_1695392035891/work/aten/src/ATen/native/Resize.cpp:28.)\n",
       "  Variable._execution_engine.run_backward(  # Calls into the C++ engine to run the backward pass\n",
       "</pre>\n"
      ],
      "text/plain": [
       "/home/zekai/miniconda3/envs/eq/lib/python3.11/site-packages/torch/autograd/__init__.py:251: UserWarning: An output \n",
       "with one or more elements was resized since it had shape [1, 48, 1], which does not match the required output shape\n",
       "[1, 48, 32]. This behavior is deprecated, and in a future PyTorch release outputs will not be resized unless they \n",
       "have zero elements. You can explicitly reuse an out tensor t by resizing it, inplace, to zero elements with \n",
       "t.resize_(0). (Triggered internally at \n",
       "/opt/conda/conda-bld/pytorch_1695392035891/work/aten/src/ATen/native/Resize.cpp:28.)\n",
       "  Variable._execution_engine.run_backward(  # Calls into the C++ engine to run the backward pass\n"
      ]
     },
     "metadata": {},
     "output_type": "display_data"
    },
    {
     "data": {
      "text/html": [
       "<pre style=\"white-space:pre;overflow-x:auto;line-height:normal;font-family:Menlo,'DejaVu Sans Mono',consolas,'Courier New',monospace\">/home/zekai/miniconda3/envs/eq/lib/python3.11/site-packages/torch/autograd/__init__.py:251: UserWarning: An output \n",
       "with one or more elements was resized since it had shape [1, 249, 1], which does not match the required output \n",
       "shape [1, 249, 32]. This behavior is deprecated, and in a future PyTorch release outputs will not be resized unless\n",
       "they have zero elements. You can explicitly reuse an out tensor t by resizing it, inplace, to zero elements with \n",
       "t.resize_(0). (Triggered internally at \n",
       "/opt/conda/conda-bld/pytorch_1695392035891/work/aten/src/ATen/native/Resize.cpp:28.)\n",
       "  Variable._execution_engine.run_backward(  # Calls into the C++ engine to run the backward pass\n",
       "</pre>\n"
      ],
      "text/plain": [
       "/home/zekai/miniconda3/envs/eq/lib/python3.11/site-packages/torch/autograd/__init__.py:251: UserWarning: An output \n",
       "with one or more elements was resized since it had shape [1, 249, 1], which does not match the required output \n",
       "shape [1, 249, 32]. This behavior is deprecated, and in a future PyTorch release outputs will not be resized unless\n",
       "they have zero elements. You can explicitly reuse an out tensor t by resizing it, inplace, to zero elements with \n",
       "t.resize_(0). (Triggered internally at \n",
       "/opt/conda/conda-bld/pytorch_1695392035891/work/aten/src/ATen/native/Resize.cpp:28.)\n",
       "  Variable._execution_engine.run_backward(  # Calls into the C++ engine to run the backward pass\n"
      ]
     },
     "metadata": {},
     "output_type": "display_data"
    },
    {
     "data": {
      "text/html": [
       "<pre style=\"white-space:pre;overflow-x:auto;line-height:normal;font-family:Menlo,'DejaVu Sans Mono',consolas,'Courier New',monospace\">/home/zekai/miniconda3/envs/eq/lib/python3.11/site-packages/torch/autograd/__init__.py:251: UserWarning: An output \n",
       "with one or more elements was resized since it had shape [1, 173, 1], which does not match the required output \n",
       "shape [1, 173, 32]. This behavior is deprecated, and in a future PyTorch release outputs will not be resized unless\n",
       "they have zero elements. You can explicitly reuse an out tensor t by resizing it, inplace, to zero elements with \n",
       "t.resize_(0). (Triggered internally at \n",
       "/opt/conda/conda-bld/pytorch_1695392035891/work/aten/src/ATen/native/Resize.cpp:28.)\n",
       "  Variable._execution_engine.run_backward(  # Calls into the C++ engine to run the backward pass\n",
       "</pre>\n"
      ],
      "text/plain": [
       "/home/zekai/miniconda3/envs/eq/lib/python3.11/site-packages/torch/autograd/__init__.py:251: UserWarning: An output \n",
       "with one or more elements was resized since it had shape [1, 173, 1], which does not match the required output \n",
       "shape [1, 173, 32]. This behavior is deprecated, and in a future PyTorch release outputs will not be resized unless\n",
       "they have zero elements. You can explicitly reuse an out tensor t by resizing it, inplace, to zero elements with \n",
       "t.resize_(0). (Triggered internally at \n",
       "/opt/conda/conda-bld/pytorch_1695392035891/work/aten/src/ATen/native/Resize.cpp:28.)\n",
       "  Variable._execution_engine.run_backward(  # Calls into the C++ engine to run the backward pass\n"
      ]
     },
     "metadata": {},
     "output_type": "display_data"
    },
    {
     "data": {
      "text/html": [
       "<pre style=\"white-space:pre;overflow-x:auto;line-height:normal;font-family:Menlo,'DejaVu Sans Mono',consolas,'Courier New',monospace\">/home/zekai/miniconda3/envs/eq/lib/python3.11/site-packages/torch/autograd/__init__.py:251: UserWarning: An output \n",
       "with one or more elements was resized since it had shape [1, 849, 1], which does not match the required output \n",
       "shape [1, 849, 32]. This behavior is deprecated, and in a future PyTorch release outputs will not be resized unless\n",
       "they have zero elements. You can explicitly reuse an out tensor t by resizing it, inplace, to zero elements with \n",
       "t.resize_(0). (Triggered internally at \n",
       "/opt/conda/conda-bld/pytorch_1695392035891/work/aten/src/ATen/native/Resize.cpp:28.)\n",
       "  Variable._execution_engine.run_backward(  # Calls into the C++ engine to run the backward pass\n",
       "</pre>\n"
      ],
      "text/plain": [
       "/home/zekai/miniconda3/envs/eq/lib/python3.11/site-packages/torch/autograd/__init__.py:251: UserWarning: An output \n",
       "with one or more elements was resized since it had shape [1, 849, 1], which does not match the required output \n",
       "shape [1, 849, 32]. This behavior is deprecated, and in a future PyTorch release outputs will not be resized unless\n",
       "they have zero elements. You can explicitly reuse an out tensor t by resizing it, inplace, to zero elements with \n",
       "t.resize_(0). (Triggered internally at \n",
       "/opt/conda/conda-bld/pytorch_1695392035891/work/aten/src/ATen/native/Resize.cpp:28.)\n",
       "  Variable._execution_engine.run_backward(  # Calls into the C++ engine to run the backward pass\n"
      ]
     },
     "metadata": {},
     "output_type": "display_data"
    },
    {
     "data": {
      "text/html": [
       "<pre style=\"white-space:pre;overflow-x:auto;line-height:normal;font-family:Menlo,'DejaVu Sans Mono',consolas,'Courier New',monospace\">/home/zekai/miniconda3/envs/eq/lib/python3.11/site-packages/torch/autograd/__init__.py:251: UserWarning: An output \n",
       "with one or more elements was resized since it had shape [1, 171, 1], which does not match the required output \n",
       "shape [1, 171, 32]. This behavior is deprecated, and in a future PyTorch release outputs will not be resized unless\n",
       "they have zero elements. You can explicitly reuse an out tensor t by resizing it, inplace, to zero elements with \n",
       "t.resize_(0). (Triggered internally at \n",
       "/opt/conda/conda-bld/pytorch_1695392035891/work/aten/src/ATen/native/Resize.cpp:28.)\n",
       "  Variable._execution_engine.run_backward(  # Calls into the C++ engine to run the backward pass\n",
       "</pre>\n"
      ],
      "text/plain": [
       "/home/zekai/miniconda3/envs/eq/lib/python3.11/site-packages/torch/autograd/__init__.py:251: UserWarning: An output \n",
       "with one or more elements was resized since it had shape [1, 171, 1], which does not match the required output \n",
       "shape [1, 171, 32]. This behavior is deprecated, and in a future PyTorch release outputs will not be resized unless\n",
       "they have zero elements. You can explicitly reuse an out tensor t by resizing it, inplace, to zero elements with \n",
       "t.resize_(0). (Triggered internally at \n",
       "/opt/conda/conda-bld/pytorch_1695392035891/work/aten/src/ATen/native/Resize.cpp:28.)\n",
       "  Variable._execution_engine.run_backward(  # Calls into the C++ engine to run the backward pass\n"
      ]
     },
     "metadata": {},
     "output_type": "display_data"
    },
    {
     "data": {
      "text/html": [
       "<pre style=\"white-space:pre;overflow-x:auto;line-height:normal;font-family:Menlo,'DejaVu Sans Mono',consolas,'Courier New',monospace\">/home/zekai/miniconda3/envs/eq/lib/python3.11/site-packages/torch/autograd/__init__.py:251: UserWarning: An output \n",
       "with one or more elements was resized since it had shape [1, 284, 1], which does not match the required output \n",
       "shape [1, 284, 32]. This behavior is deprecated, and in a future PyTorch release outputs will not be resized unless\n",
       "they have zero elements. You can explicitly reuse an out tensor t by resizing it, inplace, to zero elements with \n",
       "t.resize_(0). (Triggered internally at \n",
       "/opt/conda/conda-bld/pytorch_1695392035891/work/aten/src/ATen/native/Resize.cpp:28.)\n",
       "  Variable._execution_engine.run_backward(  # Calls into the C++ engine to run the backward pass\n",
       "</pre>\n"
      ],
      "text/plain": [
       "/home/zekai/miniconda3/envs/eq/lib/python3.11/site-packages/torch/autograd/__init__.py:251: UserWarning: An output \n",
       "with one or more elements was resized since it had shape [1, 284, 1], which does not match the required output \n",
       "shape [1, 284, 32]. This behavior is deprecated, and in a future PyTorch release outputs will not be resized unless\n",
       "they have zero elements. You can explicitly reuse an out tensor t by resizing it, inplace, to zero elements with \n",
       "t.resize_(0). (Triggered internally at \n",
       "/opt/conda/conda-bld/pytorch_1695392035891/work/aten/src/ATen/native/Resize.cpp:28.)\n",
       "  Variable._execution_engine.run_backward(  # Calls into the C++ engine to run the backward pass\n"
      ]
     },
     "metadata": {},
     "output_type": "display_data"
    },
    {
     "data": {
      "text/html": [
       "<pre style=\"white-space:pre;overflow-x:auto;line-height:normal;font-family:Menlo,'DejaVu Sans Mono',consolas,'Courier New',monospace\">/home/zekai/miniconda3/envs/eq/lib/python3.11/site-packages/torch/autograd/__init__.py:251: UserWarning: An output \n",
       "with one or more elements was resized since it had shape [1, 755, 1], which does not match the required output \n",
       "shape [1, 755, 32]. This behavior is deprecated, and in a future PyTorch release outputs will not be resized unless\n",
       "they have zero elements. You can explicitly reuse an out tensor t by resizing it, inplace, to zero elements with \n",
       "t.resize_(0). (Triggered internally at \n",
       "/opt/conda/conda-bld/pytorch_1695392035891/work/aten/src/ATen/native/Resize.cpp:28.)\n",
       "  Variable._execution_engine.run_backward(  # Calls into the C++ engine to run the backward pass\n",
       "</pre>\n"
      ],
      "text/plain": [
       "/home/zekai/miniconda3/envs/eq/lib/python3.11/site-packages/torch/autograd/__init__.py:251: UserWarning: An output \n",
       "with one or more elements was resized since it had shape [1, 755, 1], which does not match the required output \n",
       "shape [1, 755, 32]. This behavior is deprecated, and in a future PyTorch release outputs will not be resized unless\n",
       "they have zero elements. You can explicitly reuse an out tensor t by resizing it, inplace, to zero elements with \n",
       "t.resize_(0). (Triggered internally at \n",
       "/opt/conda/conda-bld/pytorch_1695392035891/work/aten/src/ATen/native/Resize.cpp:28.)\n",
       "  Variable._execution_engine.run_backward(  # Calls into the C++ engine to run the backward pass\n"
      ]
     },
     "metadata": {},
     "output_type": "display_data"
    },
    {
     "data": {
      "text/html": [
       "<pre style=\"white-space:pre;overflow-x:auto;line-height:normal;font-family:Menlo,'DejaVu Sans Mono',consolas,'Courier New',monospace\">/home/zekai/miniconda3/envs/eq/lib/python3.11/site-packages/torch/autograd/__init__.py:251: UserWarning: An output \n",
       "with one or more elements was resized since it had shape [1, 488, 1], which does not match the required output \n",
       "shape [1, 488, 32]. This behavior is deprecated, and in a future PyTorch release outputs will not be resized unless\n",
       "they have zero elements. You can explicitly reuse an out tensor t by resizing it, inplace, to zero elements with \n",
       "t.resize_(0). (Triggered internally at \n",
       "/opt/conda/conda-bld/pytorch_1695392035891/work/aten/src/ATen/native/Resize.cpp:28.)\n",
       "  Variable._execution_engine.run_backward(  # Calls into the C++ engine to run the backward pass\n",
       "</pre>\n"
      ],
      "text/plain": [
       "/home/zekai/miniconda3/envs/eq/lib/python3.11/site-packages/torch/autograd/__init__.py:251: UserWarning: An output \n",
       "with one or more elements was resized since it had shape [1, 488, 1], which does not match the required output \n",
       "shape [1, 488, 32]. This behavior is deprecated, and in a future PyTorch release outputs will not be resized unless\n",
       "they have zero elements. You can explicitly reuse an out tensor t by resizing it, inplace, to zero elements with \n",
       "t.resize_(0). (Triggered internally at \n",
       "/opt/conda/conda-bld/pytorch_1695392035891/work/aten/src/ATen/native/Resize.cpp:28.)\n",
       "  Variable._execution_engine.run_backward(  # Calls into the C++ engine to run the backward pass\n"
      ]
     },
     "metadata": {},
     "output_type": "display_data"
    },
    {
     "data": {
      "text/html": [
       "<pre style=\"white-space:pre;overflow-x:auto;line-height:normal;font-family:Menlo,'DejaVu Sans Mono',consolas,'Courier New',monospace\">/home/zekai/miniconda3/envs/eq/lib/python3.11/site-packages/torch/autograd/__init__.py:251: UserWarning: An output \n",
       "with one or more elements was resized since it had shape [1, 3025, 1], which does not match the required output \n",
       "shape [1, 3025, 32]. This behavior is deprecated, and in a future PyTorch release outputs will not be resized \n",
       "unless they have zero elements. You can explicitly reuse an out tensor t by resizing it, inplace, to zero elements \n",
       "with t.resize_(0). (Triggered internally at \n",
       "/opt/conda/conda-bld/pytorch_1695392035891/work/aten/src/ATen/native/Resize.cpp:28.)\n",
       "  Variable._execution_engine.run_backward(  # Calls into the C++ engine to run the backward pass\n",
       "</pre>\n"
      ],
      "text/plain": [
       "/home/zekai/miniconda3/envs/eq/lib/python3.11/site-packages/torch/autograd/__init__.py:251: UserWarning: An output \n",
       "with one or more elements was resized since it had shape [1, 3025, 1], which does not match the required output \n",
       "shape [1, 3025, 32]. This behavior is deprecated, and in a future PyTorch release outputs will not be resized \n",
       "unless they have zero elements. You can explicitly reuse an out tensor t by resizing it, inplace, to zero elements \n",
       "with t.resize_(0). (Triggered internally at \n",
       "/opt/conda/conda-bld/pytorch_1695392035891/work/aten/src/ATen/native/Resize.cpp:28.)\n",
       "  Variable._execution_engine.run_backward(  # Calls into the C++ engine to run the backward pass\n"
      ]
     },
     "metadata": {},
     "output_type": "display_data"
    },
    {
     "data": {
      "text/html": [
       "<pre style=\"white-space:pre;overflow-x:auto;line-height:normal;font-family:Menlo,'DejaVu Sans Mono',consolas,'Courier New',monospace\">/home/zekai/miniconda3/envs/eq/lib/python3.11/site-packages/torch/autograd/__init__.py:251: UserWarning: An output \n",
       "with one or more elements was resized since it had shape [1, 261, 1], which does not match the required output \n",
       "shape [1, 261, 32]. This behavior is deprecated, and in a future PyTorch release outputs will not be resized unless\n",
       "they have zero elements. You can explicitly reuse an out tensor t by resizing it, inplace, to zero elements with \n",
       "t.resize_(0). (Triggered internally at \n",
       "/opt/conda/conda-bld/pytorch_1695392035891/work/aten/src/ATen/native/Resize.cpp:28.)\n",
       "  Variable._execution_engine.run_backward(  # Calls into the C++ engine to run the backward pass\n",
       "</pre>\n"
      ],
      "text/plain": [
       "/home/zekai/miniconda3/envs/eq/lib/python3.11/site-packages/torch/autograd/__init__.py:251: UserWarning: An output \n",
       "with one or more elements was resized since it had shape [1, 261, 1], which does not match the required output \n",
       "shape [1, 261, 32]. This behavior is deprecated, and in a future PyTorch release outputs will not be resized unless\n",
       "they have zero elements. You can explicitly reuse an out tensor t by resizing it, inplace, to zero elements with \n",
       "t.resize_(0). (Triggered internally at \n",
       "/opt/conda/conda-bld/pytorch_1695392035891/work/aten/src/ATen/native/Resize.cpp:28.)\n",
       "  Variable._execution_engine.run_backward(  # Calls into the C++ engine to run the backward pass\n"
      ]
     },
     "metadata": {},
     "output_type": "display_data"
    },
    {
     "data": {
      "text/html": [
       "<pre style=\"white-space:pre;overflow-x:auto;line-height:normal;font-family:Menlo,'DejaVu Sans Mono',consolas,'Courier New',monospace\">/home/zekai/miniconda3/envs/eq/lib/python3.11/site-packages/torch/autograd/__init__.py:251: UserWarning: An output \n",
       "with one or more elements was resized since it had shape [1, 518, 1], which does not match the required output \n",
       "shape [1, 518, 32]. This behavior is deprecated, and in a future PyTorch release outputs will not be resized unless\n",
       "they have zero elements. You can explicitly reuse an out tensor t by resizing it, inplace, to zero elements with \n",
       "t.resize_(0). (Triggered internally at \n",
       "/opt/conda/conda-bld/pytorch_1695392035891/work/aten/src/ATen/native/Resize.cpp:28.)\n",
       "  Variable._execution_engine.run_backward(  # Calls into the C++ engine to run the backward pass\n",
       "</pre>\n"
      ],
      "text/plain": [
       "/home/zekai/miniconda3/envs/eq/lib/python3.11/site-packages/torch/autograd/__init__.py:251: UserWarning: An output \n",
       "with one or more elements was resized since it had shape [1, 518, 1], which does not match the required output \n",
       "shape [1, 518, 32]. This behavior is deprecated, and in a future PyTorch release outputs will not be resized unless\n",
       "they have zero elements. You can explicitly reuse an out tensor t by resizing it, inplace, to zero elements with \n",
       "t.resize_(0). (Triggered internally at \n",
       "/opt/conda/conda-bld/pytorch_1695392035891/work/aten/src/ATen/native/Resize.cpp:28.)\n",
       "  Variable._execution_engine.run_backward(  # Calls into the C++ engine to run the backward pass\n"
      ]
     },
     "metadata": {},
     "output_type": "display_data"
    },
    {
     "data": {
      "text/html": [
       "<pre style=\"white-space:pre;overflow-x:auto;line-height:normal;font-family:Menlo,'DejaVu Sans Mono',consolas,'Courier New',monospace\">/home/zekai/miniconda3/envs/eq/lib/python3.11/site-packages/torch/autograd/__init__.py:251: UserWarning: An output \n",
       "with one or more elements was resized since it had shape [1, 363, 1], which does not match the required output \n",
       "shape [1, 363, 32]. This behavior is deprecated, and in a future PyTorch release outputs will not be resized unless\n",
       "they have zero elements. You can explicitly reuse an out tensor t by resizing it, inplace, to zero elements with \n",
       "t.resize_(0). (Triggered internally at \n",
       "/opt/conda/conda-bld/pytorch_1695392035891/work/aten/src/ATen/native/Resize.cpp:28.)\n",
       "  Variable._execution_engine.run_backward(  # Calls into the C++ engine to run the backward pass\n",
       "</pre>\n"
      ],
      "text/plain": [
       "/home/zekai/miniconda3/envs/eq/lib/python3.11/site-packages/torch/autograd/__init__.py:251: UserWarning: An output \n",
       "with one or more elements was resized since it had shape [1, 363, 1], which does not match the required output \n",
       "shape [1, 363, 32]. This behavior is deprecated, and in a future PyTorch release outputs will not be resized unless\n",
       "they have zero elements. You can explicitly reuse an out tensor t by resizing it, inplace, to zero elements with \n",
       "t.resize_(0). (Triggered internally at \n",
       "/opt/conda/conda-bld/pytorch_1695392035891/work/aten/src/ATen/native/Resize.cpp:28.)\n",
       "  Variable._execution_engine.run_backward(  # Calls into the C++ engine to run the backward pass\n"
      ]
     },
     "metadata": {},
     "output_type": "display_data"
    },
    {
     "data": {
      "text/html": [
       "<pre style=\"white-space:pre;overflow-x:auto;line-height:normal;font-family:Menlo,'DejaVu Sans Mono',consolas,'Courier New',monospace\">/home/zekai/miniconda3/envs/eq/lib/python3.11/site-packages/torch/autograd/__init__.py:251: UserWarning: An output \n",
       "with one or more elements was resized since it had shape [1, 343, 1], which does not match the required output \n",
       "shape [1, 343, 32]. This behavior is deprecated, and in a future PyTorch release outputs will not be resized unless\n",
       "they have zero elements. You can explicitly reuse an out tensor t by resizing it, inplace, to zero elements with \n",
       "t.resize_(0). (Triggered internally at \n",
       "/opt/conda/conda-bld/pytorch_1695392035891/work/aten/src/ATen/native/Resize.cpp:28.)\n",
       "  Variable._execution_engine.run_backward(  # Calls into the C++ engine to run the backward pass\n",
       "</pre>\n"
      ],
      "text/plain": [
       "/home/zekai/miniconda3/envs/eq/lib/python3.11/site-packages/torch/autograd/__init__.py:251: UserWarning: An output \n",
       "with one or more elements was resized since it had shape [1, 343, 1], which does not match the required output \n",
       "shape [1, 343, 32]. This behavior is deprecated, and in a future PyTorch release outputs will not be resized unless\n",
       "they have zero elements. You can explicitly reuse an out tensor t by resizing it, inplace, to zero elements with \n",
       "t.resize_(0). (Triggered internally at \n",
       "/opt/conda/conda-bld/pytorch_1695392035891/work/aten/src/ATen/native/Resize.cpp:28.)\n",
       "  Variable._execution_engine.run_backward(  # Calls into the C++ engine to run the backward pass\n"
      ]
     },
     "metadata": {},
     "output_type": "display_data"
    },
    {
     "data": {
      "text/html": [
       "<pre style=\"white-space:pre;overflow-x:auto;line-height:normal;font-family:Menlo,'DejaVu Sans Mono',consolas,'Courier New',monospace\">/home/zekai/miniconda3/envs/eq/lib/python3.11/site-packages/torch/autograd/__init__.py:251: UserWarning: An output \n",
       "with one or more elements was resized since it had shape [1, 1023, 1], which does not match the required output \n",
       "shape [1, 1023, 32]. This behavior is deprecated, and in a future PyTorch release outputs will not be resized \n",
       "unless they have zero elements. You can explicitly reuse an out tensor t by resizing it, inplace, to zero elements \n",
       "with t.resize_(0). (Triggered internally at \n",
       "/opt/conda/conda-bld/pytorch_1695392035891/work/aten/src/ATen/native/Resize.cpp:28.)\n",
       "  Variable._execution_engine.run_backward(  # Calls into the C++ engine to run the backward pass\n",
       "</pre>\n"
      ],
      "text/plain": [
       "/home/zekai/miniconda3/envs/eq/lib/python3.11/site-packages/torch/autograd/__init__.py:251: UserWarning: An output \n",
       "with one or more elements was resized since it had shape [1, 1023, 1], which does not match the required output \n",
       "shape [1, 1023, 32]. This behavior is deprecated, and in a future PyTorch release outputs will not be resized \n",
       "unless they have zero elements. You can explicitly reuse an out tensor t by resizing it, inplace, to zero elements \n",
       "with t.resize_(0). (Triggered internally at \n",
       "/opt/conda/conda-bld/pytorch_1695392035891/work/aten/src/ATen/native/Resize.cpp:28.)\n",
       "  Variable._execution_engine.run_backward(  # Calls into the C++ engine to run the backward pass\n"
      ]
     },
     "metadata": {},
     "output_type": "display_data"
    },
    {
     "data": {
      "text/html": [
       "<pre style=\"white-space:pre;overflow-x:auto;line-height:normal;font-family:Menlo,'DejaVu Sans Mono',consolas,'Courier New',monospace\">/home/zekai/miniconda3/envs/eq/lib/python3.11/site-packages/torch/autograd/__init__.py:251: UserWarning: An output \n",
       "with one or more elements was resized since it had shape [1, 333, 1], which does not match the required output \n",
       "shape [1, 333, 32]. This behavior is deprecated, and in a future PyTorch release outputs will not be resized unless\n",
       "they have zero elements. You can explicitly reuse an out tensor t by resizing it, inplace, to zero elements with \n",
       "t.resize_(0). (Triggered internally at \n",
       "/opt/conda/conda-bld/pytorch_1695392035891/work/aten/src/ATen/native/Resize.cpp:28.)\n",
       "  Variable._execution_engine.run_backward(  # Calls into the C++ engine to run the backward pass\n",
       "</pre>\n"
      ],
      "text/plain": [
       "/home/zekai/miniconda3/envs/eq/lib/python3.11/site-packages/torch/autograd/__init__.py:251: UserWarning: An output \n",
       "with one or more elements was resized since it had shape [1, 333, 1], which does not match the required output \n",
       "shape [1, 333, 32]. This behavior is deprecated, and in a future PyTorch release outputs will not be resized unless\n",
       "they have zero elements. You can explicitly reuse an out tensor t by resizing it, inplace, to zero elements with \n",
       "t.resize_(0). (Triggered internally at \n",
       "/opt/conda/conda-bld/pytorch_1695392035891/work/aten/src/ATen/native/Resize.cpp:28.)\n",
       "  Variable._execution_engine.run_backward(  # Calls into the C++ engine to run the backward pass\n"
      ]
     },
     "metadata": {},
     "output_type": "display_data"
    },
    {
     "data": {
      "text/html": [
       "<pre style=\"white-space:pre;overflow-x:auto;line-height:normal;font-family:Menlo,'DejaVu Sans Mono',consolas,'Courier New',monospace\">/home/zekai/miniconda3/envs/eq/lib/python3.11/site-packages/torch/autograd/__init__.py:251: UserWarning: An output \n",
       "with one or more elements was resized since it had shape [1, 989, 1], which does not match the required output \n",
       "shape [1, 989, 32]. This behavior is deprecated, and in a future PyTorch release outputs will not be resized unless\n",
       "they have zero elements. You can explicitly reuse an out tensor t by resizing it, inplace, to zero elements with \n",
       "t.resize_(0). (Triggered internally at \n",
       "/opt/conda/conda-bld/pytorch_1695392035891/work/aten/src/ATen/native/Resize.cpp:28.)\n",
       "  Variable._execution_engine.run_backward(  # Calls into the C++ engine to run the backward pass\n",
       "</pre>\n"
      ],
      "text/plain": [
       "/home/zekai/miniconda3/envs/eq/lib/python3.11/site-packages/torch/autograd/__init__.py:251: UserWarning: An output \n",
       "with one or more elements was resized since it had shape [1, 989, 1], which does not match the required output \n",
       "shape [1, 989, 32]. This behavior is deprecated, and in a future PyTorch release outputs will not be resized unless\n",
       "they have zero elements. You can explicitly reuse an out tensor t by resizing it, inplace, to zero elements with \n",
       "t.resize_(0). (Triggered internally at \n",
       "/opt/conda/conda-bld/pytorch_1695392035891/work/aten/src/ATen/native/Resize.cpp:28.)\n",
       "  Variable._execution_engine.run_backward(  # Calls into the C++ engine to run the backward pass\n"
      ]
     },
     "metadata": {},
     "output_type": "display_data"
    },
    {
     "data": {
      "text/html": [
       "<pre style=\"white-space:pre;overflow-x:auto;line-height:normal;font-family:Menlo,'DejaVu Sans Mono',consolas,'Courier New',monospace\">/home/zekai/miniconda3/envs/eq/lib/python3.11/site-packages/torch/autograd/__init__.py:251: UserWarning: An output \n",
       "with one or more elements was resized since it had shape [1, 324, 1], which does not match the required output \n",
       "shape [1, 324, 32]. This behavior is deprecated, and in a future PyTorch release outputs will not be resized unless\n",
       "they have zero elements. You can explicitly reuse an out tensor t by resizing it, inplace, to zero elements with \n",
       "t.resize_(0). (Triggered internally at \n",
       "/opt/conda/conda-bld/pytorch_1695392035891/work/aten/src/ATen/native/Resize.cpp:28.)\n",
       "  Variable._execution_engine.run_backward(  # Calls into the C++ engine to run the backward pass\n",
       "</pre>\n"
      ],
      "text/plain": [
       "/home/zekai/miniconda3/envs/eq/lib/python3.11/site-packages/torch/autograd/__init__.py:251: UserWarning: An output \n",
       "with one or more elements was resized since it had shape [1, 324, 1], which does not match the required output \n",
       "shape [1, 324, 32]. This behavior is deprecated, and in a future PyTorch release outputs will not be resized unless\n",
       "they have zero elements. You can explicitly reuse an out tensor t by resizing it, inplace, to zero elements with \n",
       "t.resize_(0). (Triggered internally at \n",
       "/opt/conda/conda-bld/pytorch_1695392035891/work/aten/src/ATen/native/Resize.cpp:28.)\n",
       "  Variable._execution_engine.run_backward(  # Calls into the C++ engine to run the backward pass\n"
      ]
     },
     "metadata": {},
     "output_type": "display_data"
    },
    {
     "data": {
      "text/html": [
       "<pre style=\"white-space:pre;overflow-x:auto;line-height:normal;font-family:Menlo,'DejaVu Sans Mono',consolas,'Courier New',monospace\">/home/zekai/miniconda3/envs/eq/lib/python3.11/site-packages/torch/autograd/__init__.py:251: UserWarning: An output \n",
       "with one or more elements was resized since it had shape [1, 244, 1], which does not match the required output \n",
       "shape [1, 244, 32]. This behavior is deprecated, and in a future PyTorch release outputs will not be resized unless\n",
       "they have zero elements. You can explicitly reuse an out tensor t by resizing it, inplace, to zero elements with \n",
       "t.resize_(0). (Triggered internally at \n",
       "/opt/conda/conda-bld/pytorch_1695392035891/work/aten/src/ATen/native/Resize.cpp:28.)\n",
       "  Variable._execution_engine.run_backward(  # Calls into the C++ engine to run the backward pass\n",
       "</pre>\n"
      ],
      "text/plain": [
       "/home/zekai/miniconda3/envs/eq/lib/python3.11/site-packages/torch/autograd/__init__.py:251: UserWarning: An output \n",
       "with one or more elements was resized since it had shape [1, 244, 1], which does not match the required output \n",
       "shape [1, 244, 32]. This behavior is deprecated, and in a future PyTorch release outputs will not be resized unless\n",
       "they have zero elements. You can explicitly reuse an out tensor t by resizing it, inplace, to zero elements with \n",
       "t.resize_(0). (Triggered internally at \n",
       "/opt/conda/conda-bld/pytorch_1695392035891/work/aten/src/ATen/native/Resize.cpp:28.)\n",
       "  Variable._execution_engine.run_backward(  # Calls into the C++ engine to run the backward pass\n"
      ]
     },
     "metadata": {},
     "output_type": "display_data"
    },
    {
     "data": {
      "text/html": [
       "<pre style=\"white-space:pre;overflow-x:auto;line-height:normal;font-family:Menlo,'DejaVu Sans Mono',consolas,'Courier New',monospace\">/home/zekai/miniconda3/envs/eq/lib/python3.11/site-packages/torch/autograd/__init__.py:251: UserWarning: An output \n",
       "with one or more elements was resized since it had shape [1, 371, 1], which does not match the required output \n",
       "shape [1, 371, 32]. This behavior is deprecated, and in a future PyTorch release outputs will not be resized unless\n",
       "they have zero elements. You can explicitly reuse an out tensor t by resizing it, inplace, to zero elements with \n",
       "t.resize_(0). (Triggered internally at \n",
       "/opt/conda/conda-bld/pytorch_1695392035891/work/aten/src/ATen/native/Resize.cpp:28.)\n",
       "  Variable._execution_engine.run_backward(  # Calls into the C++ engine to run the backward pass\n",
       "</pre>\n"
      ],
      "text/plain": [
       "/home/zekai/miniconda3/envs/eq/lib/python3.11/site-packages/torch/autograd/__init__.py:251: UserWarning: An output \n",
       "with one or more elements was resized since it had shape [1, 371, 1], which does not match the required output \n",
       "shape [1, 371, 32]. This behavior is deprecated, and in a future PyTorch release outputs will not be resized unless\n",
       "they have zero elements. You can explicitly reuse an out tensor t by resizing it, inplace, to zero elements with \n",
       "t.resize_(0). (Triggered internally at \n",
       "/opt/conda/conda-bld/pytorch_1695392035891/work/aten/src/ATen/native/Resize.cpp:28.)\n",
       "  Variable._execution_engine.run_backward(  # Calls into the C++ engine to run the backward pass\n"
      ]
     },
     "metadata": {},
     "output_type": "display_data"
    },
    {
     "data": {
      "text/html": [
       "<pre style=\"white-space:pre;overflow-x:auto;line-height:normal;font-family:Menlo,'DejaVu Sans Mono',consolas,'Courier New',monospace\">/home/zekai/miniconda3/envs/eq/lib/python3.11/site-packages/torch/autograd/__init__.py:251: UserWarning: An output \n",
       "with one or more elements was resized since it had shape [1, 250, 1], which does not match the required output \n",
       "shape [1, 250, 32]. This behavior is deprecated, and in a future PyTorch release outputs will not be resized unless\n",
       "they have zero elements. You can explicitly reuse an out tensor t by resizing it, inplace, to zero elements with \n",
       "t.resize_(0). (Triggered internally at \n",
       "/opt/conda/conda-bld/pytorch_1695392035891/work/aten/src/ATen/native/Resize.cpp:28.)\n",
       "  Variable._execution_engine.run_backward(  # Calls into the C++ engine to run the backward pass\n",
       "</pre>\n"
      ],
      "text/plain": [
       "/home/zekai/miniconda3/envs/eq/lib/python3.11/site-packages/torch/autograd/__init__.py:251: UserWarning: An output \n",
       "with one or more elements was resized since it had shape [1, 250, 1], which does not match the required output \n",
       "shape [1, 250, 32]. This behavior is deprecated, and in a future PyTorch release outputs will not be resized unless\n",
       "they have zero elements. You can explicitly reuse an out tensor t by resizing it, inplace, to zero elements with \n",
       "t.resize_(0). (Triggered internally at \n",
       "/opt/conda/conda-bld/pytorch_1695392035891/work/aten/src/ATen/native/Resize.cpp:28.)\n",
       "  Variable._execution_engine.run_backward(  # Calls into the C++ engine to run the backward pass\n"
      ]
     },
     "metadata": {},
     "output_type": "display_data"
    },
    {
     "data": {
      "text/html": [
       "<pre style=\"white-space:pre;overflow-x:auto;line-height:normal;font-family:Menlo,'DejaVu Sans Mono',consolas,'Courier New',monospace\">/home/zekai/miniconda3/envs/eq/lib/python3.11/site-packages/torch/autograd/__init__.py:251: UserWarning: An output \n",
       "with one or more elements was resized since it had shape [1, 828, 1], which does not match the required output \n",
       "shape [1, 828, 32]. This behavior is deprecated, and in a future PyTorch release outputs will not be resized unless\n",
       "they have zero elements. You can explicitly reuse an out tensor t by resizing it, inplace, to zero elements with \n",
       "t.resize_(0). (Triggered internally at \n",
       "/opt/conda/conda-bld/pytorch_1695392035891/work/aten/src/ATen/native/Resize.cpp:28.)\n",
       "  Variable._execution_engine.run_backward(  # Calls into the C++ engine to run the backward pass\n",
       "</pre>\n"
      ],
      "text/plain": [
       "/home/zekai/miniconda3/envs/eq/lib/python3.11/site-packages/torch/autograd/__init__.py:251: UserWarning: An output \n",
       "with one or more elements was resized since it had shape [1, 828, 1], which does not match the required output \n",
       "shape [1, 828, 32]. This behavior is deprecated, and in a future PyTorch release outputs will not be resized unless\n",
       "they have zero elements. You can explicitly reuse an out tensor t by resizing it, inplace, to zero elements with \n",
       "t.resize_(0). (Triggered internally at \n",
       "/opt/conda/conda-bld/pytorch_1695392035891/work/aten/src/ATen/native/Resize.cpp:28.)\n",
       "  Variable._execution_engine.run_backward(  # Calls into the C++ engine to run the backward pass\n"
      ]
     },
     "metadata": {},
     "output_type": "display_data"
    },
    {
     "data": {
      "text/html": [
       "<pre style=\"white-space:pre;overflow-x:auto;line-height:normal;font-family:Menlo,'DejaVu Sans Mono',consolas,'Courier New',monospace\">/home/zekai/miniconda3/envs/eq/lib/python3.11/site-packages/torch/autograd/__init__.py:251: UserWarning: An output \n",
       "with one or more elements was resized since it had shape [1, 786, 1], which does not match the required output \n",
       "shape [1, 786, 32]. This behavior is deprecated, and in a future PyTorch release outputs will not be resized unless\n",
       "they have zero elements. You can explicitly reuse an out tensor t by resizing it, inplace, to zero elements with \n",
       "t.resize_(0). (Triggered internally at \n",
       "/opt/conda/conda-bld/pytorch_1695392035891/work/aten/src/ATen/native/Resize.cpp:28.)\n",
       "  Variable._execution_engine.run_backward(  # Calls into the C++ engine to run the backward pass\n",
       "</pre>\n"
      ],
      "text/plain": [
       "/home/zekai/miniconda3/envs/eq/lib/python3.11/site-packages/torch/autograd/__init__.py:251: UserWarning: An output \n",
       "with one or more elements was resized since it had shape [1, 786, 1], which does not match the required output \n",
       "shape [1, 786, 32]. This behavior is deprecated, and in a future PyTorch release outputs will not be resized unless\n",
       "they have zero elements. You can explicitly reuse an out tensor t by resizing it, inplace, to zero elements with \n",
       "t.resize_(0). (Triggered internally at \n",
       "/opt/conda/conda-bld/pytorch_1695392035891/work/aten/src/ATen/native/Resize.cpp:28.)\n",
       "  Variable._execution_engine.run_backward(  # Calls into the C++ engine to run the backward pass\n"
      ]
     },
     "metadata": {},
     "output_type": "display_data"
    },
    {
     "data": {
      "text/html": [
       "<pre style=\"white-space:pre;overflow-x:auto;line-height:normal;font-family:Menlo,'DejaVu Sans Mono',consolas,'Courier New',monospace\">/home/zekai/miniconda3/envs/eq/lib/python3.11/site-packages/torch/autograd/__init__.py:251: UserWarning: An output \n",
       "with one or more elements was resized since it had shape [1, 206, 1], which does not match the required output \n",
       "shape [1, 206, 32]. This behavior is deprecated, and in a future PyTorch release outputs will not be resized unless\n",
       "they have zero elements. You can explicitly reuse an out tensor t by resizing it, inplace, to zero elements with \n",
       "t.resize_(0). (Triggered internally at \n",
       "/opt/conda/conda-bld/pytorch_1695392035891/work/aten/src/ATen/native/Resize.cpp:28.)\n",
       "  Variable._execution_engine.run_backward(  # Calls into the C++ engine to run the backward pass\n",
       "</pre>\n"
      ],
      "text/plain": [
       "/home/zekai/miniconda3/envs/eq/lib/python3.11/site-packages/torch/autograd/__init__.py:251: UserWarning: An output \n",
       "with one or more elements was resized since it had shape [1, 206, 1], which does not match the required output \n",
       "shape [1, 206, 32]. This behavior is deprecated, and in a future PyTorch release outputs will not be resized unless\n",
       "they have zero elements. You can explicitly reuse an out tensor t by resizing it, inplace, to zero elements with \n",
       "t.resize_(0). (Triggered internally at \n",
       "/opt/conda/conda-bld/pytorch_1695392035891/work/aten/src/ATen/native/Resize.cpp:28.)\n",
       "  Variable._execution_engine.run_backward(  # Calls into the C++ engine to run the backward pass\n"
      ]
     },
     "metadata": {},
     "output_type": "display_data"
    },
    {
     "data": {
      "text/html": [
       "<pre style=\"white-space:pre;overflow-x:auto;line-height:normal;font-family:Menlo,'DejaVu Sans Mono',consolas,'Courier New',monospace\">/home/zekai/miniconda3/envs/eq/lib/python3.11/site-packages/torch/autograd/__init__.py:251: UserWarning: An output \n",
       "with one or more elements was resized since it had shape [1, 140, 1], which does not match the required output \n",
       "shape [1, 140, 32]. This behavior is deprecated, and in a future PyTorch release outputs will not be resized unless\n",
       "they have zero elements. You can explicitly reuse an out tensor t by resizing it, inplace, to zero elements with \n",
       "t.resize_(0). (Triggered internally at \n",
       "/opt/conda/conda-bld/pytorch_1695392035891/work/aten/src/ATen/native/Resize.cpp:28.)\n",
       "  Variable._execution_engine.run_backward(  # Calls into the C++ engine to run the backward pass\n",
       "</pre>\n"
      ],
      "text/plain": [
       "/home/zekai/miniconda3/envs/eq/lib/python3.11/site-packages/torch/autograd/__init__.py:251: UserWarning: An output \n",
       "with one or more elements was resized since it had shape [1, 140, 1], which does not match the required output \n",
       "shape [1, 140, 32]. This behavior is deprecated, and in a future PyTorch release outputs will not be resized unless\n",
       "they have zero elements. You can explicitly reuse an out tensor t by resizing it, inplace, to zero elements with \n",
       "t.resize_(0). (Triggered internally at \n",
       "/opt/conda/conda-bld/pytorch_1695392035891/work/aten/src/ATen/native/Resize.cpp:28.)\n",
       "  Variable._execution_engine.run_backward(  # Calls into the C++ engine to run the backward pass\n"
      ]
     },
     "metadata": {},
     "output_type": "display_data"
    },
    {
     "data": {
      "text/html": [
       "<pre style=\"white-space:pre;overflow-x:auto;line-height:normal;font-family:Menlo,'DejaVu Sans Mono',consolas,'Courier New',monospace\">/home/zekai/miniconda3/envs/eq/lib/python3.11/site-packages/torch/autograd/__init__.py:251: UserWarning: An output \n",
       "with one or more elements was resized since it had shape [1, 127, 1], which does not match the required output \n",
       "shape [1, 127, 32]. This behavior is deprecated, and in a future PyTorch release outputs will not be resized unless\n",
       "they have zero elements. You can explicitly reuse an out tensor t by resizing it, inplace, to zero elements with \n",
       "t.resize_(0). (Triggered internally at \n",
       "/opt/conda/conda-bld/pytorch_1695392035891/work/aten/src/ATen/native/Resize.cpp:28.)\n",
       "  Variable._execution_engine.run_backward(  # Calls into the C++ engine to run the backward pass\n",
       "</pre>\n"
      ],
      "text/plain": [
       "/home/zekai/miniconda3/envs/eq/lib/python3.11/site-packages/torch/autograd/__init__.py:251: UserWarning: An output \n",
       "with one or more elements was resized since it had shape [1, 127, 1], which does not match the required output \n",
       "shape [1, 127, 32]. This behavior is deprecated, and in a future PyTorch release outputs will not be resized unless\n",
       "they have zero elements. You can explicitly reuse an out tensor t by resizing it, inplace, to zero elements with \n",
       "t.resize_(0). (Triggered internally at \n",
       "/opt/conda/conda-bld/pytorch_1695392035891/work/aten/src/ATen/native/Resize.cpp:28.)\n",
       "  Variable._execution_engine.run_backward(  # Calls into the C++ engine to run the backward pass\n"
      ]
     },
     "metadata": {},
     "output_type": "display_data"
    },
    {
     "data": {
      "text/html": [
       "<pre style=\"white-space:pre;overflow-x:auto;line-height:normal;font-family:Menlo,'DejaVu Sans Mono',consolas,'Courier New',monospace\">/home/zekai/miniconda3/envs/eq/lib/python3.11/site-packages/torch/autograd/__init__.py:251: UserWarning: An output \n",
       "with one or more elements was resized since it had shape [1, 464, 1], which does not match the required output \n",
       "shape [1, 464, 32]. This behavior is deprecated, and in a future PyTorch release outputs will not be resized unless\n",
       "they have zero elements. You can explicitly reuse an out tensor t by resizing it, inplace, to zero elements with \n",
       "t.resize_(0). (Triggered internally at \n",
       "/opt/conda/conda-bld/pytorch_1695392035891/work/aten/src/ATen/native/Resize.cpp:28.)\n",
       "  Variable._execution_engine.run_backward(  # Calls into the C++ engine to run the backward pass\n",
       "</pre>\n"
      ],
      "text/plain": [
       "/home/zekai/miniconda3/envs/eq/lib/python3.11/site-packages/torch/autograd/__init__.py:251: UserWarning: An output \n",
       "with one or more elements was resized since it had shape [1, 464, 1], which does not match the required output \n",
       "shape [1, 464, 32]. This behavior is deprecated, and in a future PyTorch release outputs will not be resized unless\n",
       "they have zero elements. You can explicitly reuse an out tensor t by resizing it, inplace, to zero elements with \n",
       "t.resize_(0). (Triggered internally at \n",
       "/opt/conda/conda-bld/pytorch_1695392035891/work/aten/src/ATen/native/Resize.cpp:28.)\n",
       "  Variable._execution_engine.run_backward(  # Calls into the C++ engine to run the backward pass\n"
      ]
     },
     "metadata": {},
     "output_type": "display_data"
    },
    {
     "data": {
      "text/html": [
       "<pre style=\"white-space:pre;overflow-x:auto;line-height:normal;font-family:Menlo,'DejaVu Sans Mono',consolas,'Courier New',monospace\">/home/zekai/miniconda3/envs/eq/lib/python3.11/site-packages/torch/autograd/__init__.py:251: UserWarning: An output \n",
       "with one or more elements was resized since it had shape [1, 132, 1], which does not match the required output \n",
       "shape [1, 132, 32]. This behavior is deprecated, and in a future PyTorch release outputs will not be resized unless\n",
       "they have zero elements. You can explicitly reuse an out tensor t by resizing it, inplace, to zero elements with \n",
       "t.resize_(0). (Triggered internally at \n",
       "/opt/conda/conda-bld/pytorch_1695392035891/work/aten/src/ATen/native/Resize.cpp:28.)\n",
       "  Variable._execution_engine.run_backward(  # Calls into the C++ engine to run the backward pass\n",
       "</pre>\n"
      ],
      "text/plain": [
       "/home/zekai/miniconda3/envs/eq/lib/python3.11/site-packages/torch/autograd/__init__.py:251: UserWarning: An output \n",
       "with one or more elements was resized since it had shape [1, 132, 1], which does not match the required output \n",
       "shape [1, 132, 32]. This behavior is deprecated, and in a future PyTorch release outputs will not be resized unless\n",
       "they have zero elements. You can explicitly reuse an out tensor t by resizing it, inplace, to zero elements with \n",
       "t.resize_(0). (Triggered internally at \n",
       "/opt/conda/conda-bld/pytorch_1695392035891/work/aten/src/ATen/native/Resize.cpp:28.)\n",
       "  Variable._execution_engine.run_backward(  # Calls into the C++ engine to run the backward pass\n"
      ]
     },
     "metadata": {},
     "output_type": "display_data"
    },
    {
     "data": {
      "text/html": [
       "<pre style=\"white-space:pre;overflow-x:auto;line-height:normal;font-family:Menlo,'DejaVu Sans Mono',consolas,'Courier New',monospace\">/home/zekai/miniconda3/envs/eq/lib/python3.11/site-packages/torch/autograd/__init__.py:251: UserWarning: An output \n",
       "with one or more elements was resized since it had shape [1, 633, 1], which does not match the required output \n",
       "shape [1, 633, 32]. This behavior is deprecated, and in a future PyTorch release outputs will not be resized unless\n",
       "they have zero elements. You can explicitly reuse an out tensor t by resizing it, inplace, to zero elements with \n",
       "t.resize_(0). (Triggered internally at \n",
       "/opt/conda/conda-bld/pytorch_1695392035891/work/aten/src/ATen/native/Resize.cpp:28.)\n",
       "  Variable._execution_engine.run_backward(  # Calls into the C++ engine to run the backward pass\n",
       "</pre>\n"
      ],
      "text/plain": [
       "/home/zekai/miniconda3/envs/eq/lib/python3.11/site-packages/torch/autograd/__init__.py:251: UserWarning: An output \n",
       "with one or more elements was resized since it had shape [1, 633, 1], which does not match the required output \n",
       "shape [1, 633, 32]. This behavior is deprecated, and in a future PyTorch release outputs will not be resized unless\n",
       "they have zero elements. You can explicitly reuse an out tensor t by resizing it, inplace, to zero elements with \n",
       "t.resize_(0). (Triggered internally at \n",
       "/opt/conda/conda-bld/pytorch_1695392035891/work/aten/src/ATen/native/Resize.cpp:28.)\n",
       "  Variable._execution_engine.run_backward(  # Calls into the C++ engine to run the backward pass\n"
      ]
     },
     "metadata": {},
     "output_type": "display_data"
    },
    {
     "data": {
      "text/html": [
       "<pre style=\"white-space:pre;overflow-x:auto;line-height:normal;font-family:Menlo,'DejaVu Sans Mono',consolas,'Courier New',monospace\">/home/zekai/miniconda3/envs/eq/lib/python3.11/site-packages/torch/autograd/__init__.py:251: UserWarning: An output \n",
       "with one or more elements was resized since it had shape [1, 114, 1], which does not match the required output \n",
       "shape [1, 114, 32]. This behavior is deprecated, and in a future PyTorch release outputs will not be resized unless\n",
       "they have zero elements. You can explicitly reuse an out tensor t by resizing it, inplace, to zero elements with \n",
       "t.resize_(0). (Triggered internally at \n",
       "/opt/conda/conda-bld/pytorch_1695392035891/work/aten/src/ATen/native/Resize.cpp:28.)\n",
       "  Variable._execution_engine.run_backward(  # Calls into the C++ engine to run the backward pass\n",
       "</pre>\n"
      ],
      "text/plain": [
       "/home/zekai/miniconda3/envs/eq/lib/python3.11/site-packages/torch/autograd/__init__.py:251: UserWarning: An output \n",
       "with one or more elements was resized since it had shape [1, 114, 1], which does not match the required output \n",
       "shape [1, 114, 32]. This behavior is deprecated, and in a future PyTorch release outputs will not be resized unless\n",
       "they have zero elements. You can explicitly reuse an out tensor t by resizing it, inplace, to zero elements with \n",
       "t.resize_(0). (Triggered internally at \n",
       "/opt/conda/conda-bld/pytorch_1695392035891/work/aten/src/ATen/native/Resize.cpp:28.)\n",
       "  Variable._execution_engine.run_backward(  # Calls into the C++ engine to run the backward pass\n"
      ]
     },
     "metadata": {},
     "output_type": "display_data"
    },
    {
     "data": {
      "text/html": [
       "<pre style=\"white-space:pre;overflow-x:auto;line-height:normal;font-family:Menlo,'DejaVu Sans Mono',consolas,'Courier New',monospace\">/home/zekai/miniconda3/envs/eq/lib/python3.11/site-packages/torch/autograd/__init__.py:251: UserWarning: An output \n",
       "with one or more elements was resized since it had shape [1, 214, 1], which does not match the required output \n",
       "shape [1, 214, 32]. This behavior is deprecated, and in a future PyTorch release outputs will not be resized unless\n",
       "they have zero elements. You can explicitly reuse an out tensor t by resizing it, inplace, to zero elements with \n",
       "t.resize_(0). (Triggered internally at \n",
       "/opt/conda/conda-bld/pytorch_1695392035891/work/aten/src/ATen/native/Resize.cpp:28.)\n",
       "  Variable._execution_engine.run_backward(  # Calls into the C++ engine to run the backward pass\n",
       "</pre>\n"
      ],
      "text/plain": [
       "/home/zekai/miniconda3/envs/eq/lib/python3.11/site-packages/torch/autograd/__init__.py:251: UserWarning: An output \n",
       "with one or more elements was resized since it had shape [1, 214, 1], which does not match the required output \n",
       "shape [1, 214, 32]. This behavior is deprecated, and in a future PyTorch release outputs will not be resized unless\n",
       "they have zero elements. You can explicitly reuse an out tensor t by resizing it, inplace, to zero elements with \n",
       "t.resize_(0). (Triggered internally at \n",
       "/opt/conda/conda-bld/pytorch_1695392035891/work/aten/src/ATen/native/Resize.cpp:28.)\n",
       "  Variable._execution_engine.run_backward(  # Calls into the C++ engine to run the backward pass\n"
      ]
     },
     "metadata": {},
     "output_type": "display_data"
    },
    {
     "data": {
      "text/html": [
       "<pre style=\"white-space:pre;overflow-x:auto;line-height:normal;font-family:Menlo,'DejaVu Sans Mono',consolas,'Courier New',monospace\">/home/zekai/miniconda3/envs/eq/lib/python3.11/site-packages/torch/autograd/__init__.py:251: UserWarning: An output \n",
       "with one or more elements was resized since it had shape [1, 767, 1], which does not match the required output \n",
       "shape [1, 767, 32]. This behavior is deprecated, and in a future PyTorch release outputs will not be resized unless\n",
       "they have zero elements. You can explicitly reuse an out tensor t by resizing it, inplace, to zero elements with \n",
       "t.resize_(0). (Triggered internally at \n",
       "/opt/conda/conda-bld/pytorch_1695392035891/work/aten/src/ATen/native/Resize.cpp:28.)\n",
       "  Variable._execution_engine.run_backward(  # Calls into the C++ engine to run the backward pass\n",
       "</pre>\n"
      ],
      "text/plain": [
       "/home/zekai/miniconda3/envs/eq/lib/python3.11/site-packages/torch/autograd/__init__.py:251: UserWarning: An output \n",
       "with one or more elements was resized since it had shape [1, 767, 1], which does not match the required output \n",
       "shape [1, 767, 32]. This behavior is deprecated, and in a future PyTorch release outputs will not be resized unless\n",
       "they have zero elements. You can explicitly reuse an out tensor t by resizing it, inplace, to zero elements with \n",
       "t.resize_(0). (Triggered internally at \n",
       "/opt/conda/conda-bld/pytorch_1695392035891/work/aten/src/ATen/native/Resize.cpp:28.)\n",
       "  Variable._execution_engine.run_backward(  # Calls into the C++ engine to run the backward pass\n"
      ]
     },
     "metadata": {},
     "output_type": "display_data"
    },
    {
     "data": {
      "text/html": [
       "<pre style=\"white-space:pre;overflow-x:auto;line-height:normal;font-family:Menlo,'DejaVu Sans Mono',consolas,'Courier New',monospace\">/home/zekai/miniconda3/envs/eq/lib/python3.11/site-packages/torch/autograd/__init__.py:251: UserWarning: An output \n",
       "with one or more elements was resized since it had shape [1, 482, 1], which does not match the required output \n",
       "shape [1, 482, 32]. This behavior is deprecated, and in a future PyTorch release outputs will not be resized unless\n",
       "they have zero elements. You can explicitly reuse an out tensor t by resizing it, inplace, to zero elements with \n",
       "t.resize_(0). (Triggered internally at \n",
       "/opt/conda/conda-bld/pytorch_1695392035891/work/aten/src/ATen/native/Resize.cpp:28.)\n",
       "  Variable._execution_engine.run_backward(  # Calls into the C++ engine to run the backward pass\n",
       "</pre>\n"
      ],
      "text/plain": [
       "/home/zekai/miniconda3/envs/eq/lib/python3.11/site-packages/torch/autograd/__init__.py:251: UserWarning: An output \n",
       "with one or more elements was resized since it had shape [1, 482, 1], which does not match the required output \n",
       "shape [1, 482, 32]. This behavior is deprecated, and in a future PyTorch release outputs will not be resized unless\n",
       "they have zero elements. You can explicitly reuse an out tensor t by resizing it, inplace, to zero elements with \n",
       "t.resize_(0). (Triggered internally at \n",
       "/opt/conda/conda-bld/pytorch_1695392035891/work/aten/src/ATen/native/Resize.cpp:28.)\n",
       "  Variable._execution_engine.run_backward(  # Calls into the C++ engine to run the backward pass\n"
      ]
     },
     "metadata": {},
     "output_type": "display_data"
    },
    {
     "data": {
      "text/html": [
       "<pre style=\"white-space:pre;overflow-x:auto;line-height:normal;font-family:Menlo,'DejaVu Sans Mono',consolas,'Courier New',monospace\">/home/zekai/miniconda3/envs/eq/lib/python3.11/site-packages/torch/autograd/__init__.py:251: UserWarning: An output \n",
       "with one or more elements was resized since it had shape [1, 441, 1], which does not match the required output \n",
       "shape [1, 441, 32]. This behavior is deprecated, and in a future PyTorch release outputs will not be resized unless\n",
       "they have zero elements. You can explicitly reuse an out tensor t by resizing it, inplace, to zero elements with \n",
       "t.resize_(0). (Triggered internally at \n",
       "/opt/conda/conda-bld/pytorch_1695392035891/work/aten/src/ATen/native/Resize.cpp:28.)\n",
       "  Variable._execution_engine.run_backward(  # Calls into the C++ engine to run the backward pass\n",
       "</pre>\n"
      ],
      "text/plain": [
       "/home/zekai/miniconda3/envs/eq/lib/python3.11/site-packages/torch/autograd/__init__.py:251: UserWarning: An output \n",
       "with one or more elements was resized since it had shape [1, 441, 1], which does not match the required output \n",
       "shape [1, 441, 32]. This behavior is deprecated, and in a future PyTorch release outputs will not be resized unless\n",
       "they have zero elements. You can explicitly reuse an out tensor t by resizing it, inplace, to zero elements with \n",
       "t.resize_(0). (Triggered internally at \n",
       "/opt/conda/conda-bld/pytorch_1695392035891/work/aten/src/ATen/native/Resize.cpp:28.)\n",
       "  Variable._execution_engine.run_backward(  # Calls into the C++ engine to run the backward pass\n"
      ]
     },
     "metadata": {},
     "output_type": "display_data"
    },
    {
     "data": {
      "text/html": [
       "<pre style=\"white-space:pre;overflow-x:auto;line-height:normal;font-family:Menlo,'DejaVu Sans Mono',consolas,'Courier New',monospace\">/home/zekai/miniconda3/envs/eq/lib/python3.11/site-packages/torch/autograd/__init__.py:251: UserWarning: An output \n",
       "with one or more elements was resized since it had shape [1, 46, 1], which does not match the required output shape\n",
       "[1, 46, 32]. This behavior is deprecated, and in a future PyTorch release outputs will not be resized unless they \n",
       "have zero elements. You can explicitly reuse an out tensor t by resizing it, inplace, to zero elements with \n",
       "t.resize_(0). (Triggered internally at \n",
       "/opt/conda/conda-bld/pytorch_1695392035891/work/aten/src/ATen/native/Resize.cpp:28.)\n",
       "  Variable._execution_engine.run_backward(  # Calls into the C++ engine to run the backward pass\n",
       "</pre>\n"
      ],
      "text/plain": [
       "/home/zekai/miniconda3/envs/eq/lib/python3.11/site-packages/torch/autograd/__init__.py:251: UserWarning: An output \n",
       "with one or more elements was resized since it had shape [1, 46, 1], which does not match the required output shape\n",
       "[1, 46, 32]. This behavior is deprecated, and in a future PyTorch release outputs will not be resized unless they \n",
       "have zero elements. You can explicitly reuse an out tensor t by resizing it, inplace, to zero elements with \n",
       "t.resize_(0). (Triggered internally at \n",
       "/opt/conda/conda-bld/pytorch_1695392035891/work/aten/src/ATen/native/Resize.cpp:28.)\n",
       "  Variable._execution_engine.run_backward(  # Calls into the C++ engine to run the backward pass\n"
      ]
     },
     "metadata": {},
     "output_type": "display_data"
    },
    {
     "data": {
      "text/html": [
       "<pre style=\"white-space:pre;overflow-x:auto;line-height:normal;font-family:Menlo,'DejaVu Sans Mono',consolas,'Courier New',monospace\">/home/zekai/miniconda3/envs/eq/lib/python3.11/site-packages/torch/autograd/__init__.py:251: UserWarning: An output \n",
       "with one or more elements was resized since it had shape [1, 393, 1], which does not match the required output \n",
       "shape [1, 393, 32]. This behavior is deprecated, and in a future PyTorch release outputs will not be resized unless\n",
       "they have zero elements. You can explicitly reuse an out tensor t by resizing it, inplace, to zero elements with \n",
       "t.resize_(0). (Triggered internally at \n",
       "/opt/conda/conda-bld/pytorch_1695392035891/work/aten/src/ATen/native/Resize.cpp:28.)\n",
       "  Variable._execution_engine.run_backward(  # Calls into the C++ engine to run the backward pass\n",
       "</pre>\n"
      ],
      "text/plain": [
       "/home/zekai/miniconda3/envs/eq/lib/python3.11/site-packages/torch/autograd/__init__.py:251: UserWarning: An output \n",
       "with one or more elements was resized since it had shape [1, 393, 1], which does not match the required output \n",
       "shape [1, 393, 32]. This behavior is deprecated, and in a future PyTorch release outputs will not be resized unless\n",
       "they have zero elements. You can explicitly reuse an out tensor t by resizing it, inplace, to zero elements with \n",
       "t.resize_(0). (Triggered internally at \n",
       "/opt/conda/conda-bld/pytorch_1695392035891/work/aten/src/ATen/native/Resize.cpp:28.)\n",
       "  Variable._execution_engine.run_backward(  # Calls into the C++ engine to run the backward pass\n"
      ]
     },
     "metadata": {},
     "output_type": "display_data"
    },
    {
     "data": {
      "text/html": [
       "<pre style=\"white-space:pre;overflow-x:auto;line-height:normal;font-family:Menlo,'DejaVu Sans Mono',consolas,'Courier New',monospace\">/home/zekai/miniconda3/envs/eq/lib/python3.11/site-packages/torch/autograd/__init__.py:251: UserWarning: An output \n",
       "with one or more elements was resized since it had shape [1, 53, 1], which does not match the required output shape\n",
       "[1, 53, 32]. This behavior is deprecated, and in a future PyTorch release outputs will not be resized unless they \n",
       "have zero elements. You can explicitly reuse an out tensor t by resizing it, inplace, to zero elements with \n",
       "t.resize_(0). (Triggered internally at \n",
       "/opt/conda/conda-bld/pytorch_1695392035891/work/aten/src/ATen/native/Resize.cpp:28.)\n",
       "  Variable._execution_engine.run_backward(  # Calls into the C++ engine to run the backward pass\n",
       "</pre>\n"
      ],
      "text/plain": [
       "/home/zekai/miniconda3/envs/eq/lib/python3.11/site-packages/torch/autograd/__init__.py:251: UserWarning: An output \n",
       "with one or more elements was resized since it had shape [1, 53, 1], which does not match the required output shape\n",
       "[1, 53, 32]. This behavior is deprecated, and in a future PyTorch release outputs will not be resized unless they \n",
       "have zero elements. You can explicitly reuse an out tensor t by resizing it, inplace, to zero elements with \n",
       "t.resize_(0). (Triggered internally at \n",
       "/opt/conda/conda-bld/pytorch_1695392035891/work/aten/src/ATen/native/Resize.cpp:28.)\n",
       "  Variable._execution_engine.run_backward(  # Calls into the C++ engine to run the backward pass\n"
      ]
     },
     "metadata": {},
     "output_type": "display_data"
    },
    {
     "data": {
      "text/html": [
       "<pre style=\"white-space:pre;overflow-x:auto;line-height:normal;font-family:Menlo,'DejaVu Sans Mono',consolas,'Courier New',monospace\">/home/zekai/miniconda3/envs/eq/lib/python3.11/site-packages/torch/autograd/__init__.py:251: UserWarning: An output \n",
       "with one or more elements was resized since it had shape [1, 737, 1], which does not match the required output \n",
       "shape [1, 737, 32]. This behavior is deprecated, and in a future PyTorch release outputs will not be resized unless\n",
       "they have zero elements. You can explicitly reuse an out tensor t by resizing it, inplace, to zero elements with \n",
       "t.resize_(0). (Triggered internally at \n",
       "/opt/conda/conda-bld/pytorch_1695392035891/work/aten/src/ATen/native/Resize.cpp:28.)\n",
       "  Variable._execution_engine.run_backward(  # Calls into the C++ engine to run the backward pass\n",
       "</pre>\n"
      ],
      "text/plain": [
       "/home/zekai/miniconda3/envs/eq/lib/python3.11/site-packages/torch/autograd/__init__.py:251: UserWarning: An output \n",
       "with one or more elements was resized since it had shape [1, 737, 1], which does not match the required output \n",
       "shape [1, 737, 32]. This behavior is deprecated, and in a future PyTorch release outputs will not be resized unless\n",
       "they have zero elements. You can explicitly reuse an out tensor t by resizing it, inplace, to zero elements with \n",
       "t.resize_(0). (Triggered internally at \n",
       "/opt/conda/conda-bld/pytorch_1695392035891/work/aten/src/ATen/native/Resize.cpp:28.)\n",
       "  Variable._execution_engine.run_backward(  # Calls into the C++ engine to run the backward pass\n"
      ]
     },
     "metadata": {},
     "output_type": "display_data"
    },
    {
     "data": {
      "text/html": [
       "<pre style=\"white-space:pre;overflow-x:auto;line-height:normal;font-family:Menlo,'DejaVu Sans Mono',consolas,'Courier New',monospace\">/home/zekai/miniconda3/envs/eq/lib/python3.11/site-packages/torch/autograd/__init__.py:251: UserWarning: An output \n",
       "with one or more elements was resized since it had shape [1, 402, 1], which does not match the required output \n",
       "shape [1, 402, 32]. This behavior is deprecated, and in a future PyTorch release outputs will not be resized unless\n",
       "they have zero elements. You can explicitly reuse an out tensor t by resizing it, inplace, to zero elements with \n",
       "t.resize_(0). (Triggered internally at \n",
       "/opt/conda/conda-bld/pytorch_1695392035891/work/aten/src/ATen/native/Resize.cpp:28.)\n",
       "  Variable._execution_engine.run_backward(  # Calls into the C++ engine to run the backward pass\n",
       "</pre>\n"
      ],
      "text/plain": [
       "/home/zekai/miniconda3/envs/eq/lib/python3.11/site-packages/torch/autograd/__init__.py:251: UserWarning: An output \n",
       "with one or more elements was resized since it had shape [1, 402, 1], which does not match the required output \n",
       "shape [1, 402, 32]. This behavior is deprecated, and in a future PyTorch release outputs will not be resized unless\n",
       "they have zero elements. You can explicitly reuse an out tensor t by resizing it, inplace, to zero elements with \n",
       "t.resize_(0). (Triggered internally at \n",
       "/opt/conda/conda-bld/pytorch_1695392035891/work/aten/src/ATen/native/Resize.cpp:28.)\n",
       "  Variable._execution_engine.run_backward(  # Calls into the C++ engine to run the backward pass\n"
      ]
     },
     "metadata": {},
     "output_type": "display_data"
    },
    {
     "data": {
      "text/html": [
       "<pre style=\"white-space:pre;overflow-x:auto;line-height:normal;font-family:Menlo,'DejaVu Sans Mono',consolas,'Courier New',monospace\">/home/zekai/miniconda3/envs/eq/lib/python3.11/site-packages/torch/autograd/__init__.py:251: UserWarning: An output \n",
       "with one or more elements was resized since it had shape [1, 226, 1], which does not match the required output \n",
       "shape [1, 226, 32]. This behavior is deprecated, and in a future PyTorch release outputs will not be resized unless\n",
       "they have zero elements. You can explicitly reuse an out tensor t by resizing it, inplace, to zero elements with \n",
       "t.resize_(0). (Triggered internally at \n",
       "/opt/conda/conda-bld/pytorch_1695392035891/work/aten/src/ATen/native/Resize.cpp:28.)\n",
       "  Variable._execution_engine.run_backward(  # Calls into the C++ engine to run the backward pass\n",
       "</pre>\n"
      ],
      "text/plain": [
       "/home/zekai/miniconda3/envs/eq/lib/python3.11/site-packages/torch/autograd/__init__.py:251: UserWarning: An output \n",
       "with one or more elements was resized since it had shape [1, 226, 1], which does not match the required output \n",
       "shape [1, 226, 32]. This behavior is deprecated, and in a future PyTorch release outputs will not be resized unless\n",
       "they have zero elements. You can explicitly reuse an out tensor t by resizing it, inplace, to zero elements with \n",
       "t.resize_(0). (Triggered internally at \n",
       "/opt/conda/conda-bld/pytorch_1695392035891/work/aten/src/ATen/native/Resize.cpp:28.)\n",
       "  Variable._execution_engine.run_backward(  # Calls into the C++ engine to run the backward pass\n"
      ]
     },
     "metadata": {},
     "output_type": "display_data"
    },
    {
     "data": {
      "text/html": [
       "<pre style=\"white-space:pre;overflow-x:auto;line-height:normal;font-family:Menlo,'DejaVu Sans Mono',consolas,'Courier New',monospace\">/home/zekai/miniconda3/envs/eq/lib/python3.11/site-packages/torch/autograd/__init__.py:251: UserWarning: An output \n",
       "with one or more elements was resized since it had shape [1, 327, 1], which does not match the required output \n",
       "shape [1, 327, 32]. This behavior is deprecated, and in a future PyTorch release outputs will not be resized unless\n",
       "they have zero elements. You can explicitly reuse an out tensor t by resizing it, inplace, to zero elements with \n",
       "t.resize_(0). (Triggered internally at \n",
       "/opt/conda/conda-bld/pytorch_1695392035891/work/aten/src/ATen/native/Resize.cpp:28.)\n",
       "  Variable._execution_engine.run_backward(  # Calls into the C++ engine to run the backward pass\n",
       "</pre>\n"
      ],
      "text/plain": [
       "/home/zekai/miniconda3/envs/eq/lib/python3.11/site-packages/torch/autograd/__init__.py:251: UserWarning: An output \n",
       "with one or more elements was resized since it had shape [1, 327, 1], which does not match the required output \n",
       "shape [1, 327, 32]. This behavior is deprecated, and in a future PyTorch release outputs will not be resized unless\n",
       "they have zero elements. You can explicitly reuse an out tensor t by resizing it, inplace, to zero elements with \n",
       "t.resize_(0). (Triggered internally at \n",
       "/opt/conda/conda-bld/pytorch_1695392035891/work/aten/src/ATen/native/Resize.cpp:28.)\n",
       "  Variable._execution_engine.run_backward(  # Calls into the C++ engine to run the backward pass\n"
      ]
     },
     "metadata": {},
     "output_type": "display_data"
    },
    {
     "data": {
      "text/html": [
       "<pre style=\"white-space:pre;overflow-x:auto;line-height:normal;font-family:Menlo,'DejaVu Sans Mono',consolas,'Courier New',monospace\">/home/zekai/miniconda3/envs/eq/lib/python3.11/site-packages/torch/autograd/__init__.py:251: UserWarning: An output \n",
       "with one or more elements was resized since it had shape [1, 609, 1], which does not match the required output \n",
       "shape [1, 609, 32]. This behavior is deprecated, and in a future PyTorch release outputs will not be resized unless\n",
       "they have zero elements. You can explicitly reuse an out tensor t by resizing it, inplace, to zero elements with \n",
       "t.resize_(0). (Triggered internally at \n",
       "/opt/conda/conda-bld/pytorch_1695392035891/work/aten/src/ATen/native/Resize.cpp:28.)\n",
       "  Variable._execution_engine.run_backward(  # Calls into the C++ engine to run the backward pass\n",
       "</pre>\n"
      ],
      "text/plain": [
       "/home/zekai/miniconda3/envs/eq/lib/python3.11/site-packages/torch/autograd/__init__.py:251: UserWarning: An output \n",
       "with one or more elements was resized since it had shape [1, 609, 1], which does not match the required output \n",
       "shape [1, 609, 32]. This behavior is deprecated, and in a future PyTorch release outputs will not be resized unless\n",
       "they have zero elements. You can explicitly reuse an out tensor t by resizing it, inplace, to zero elements with \n",
       "t.resize_(0). (Triggered internally at \n",
       "/opt/conda/conda-bld/pytorch_1695392035891/work/aten/src/ATen/native/Resize.cpp:28.)\n",
       "  Variable._execution_engine.run_backward(  # Calls into the C++ engine to run the backward pass\n"
      ]
     },
     "metadata": {},
     "output_type": "display_data"
    },
    {
     "data": {
      "text/html": [
       "<pre style=\"white-space:pre;overflow-x:auto;line-height:normal;font-family:Menlo,'DejaVu Sans Mono',consolas,'Courier New',monospace\">/home/zekai/miniconda3/envs/eq/lib/python3.11/site-packages/torch/autograd/__init__.py:251: UserWarning: An output \n",
       "with one or more elements was resized since it had shape [1, 61, 1], which does not match the required output shape\n",
       "[1, 61, 32]. This behavior is deprecated, and in a future PyTorch release outputs will not be resized unless they \n",
       "have zero elements. You can explicitly reuse an out tensor t by resizing it, inplace, to zero elements with \n",
       "t.resize_(0). (Triggered internally at \n",
       "/opt/conda/conda-bld/pytorch_1695392035891/work/aten/src/ATen/native/Resize.cpp:28.)\n",
       "  Variable._execution_engine.run_backward(  # Calls into the C++ engine to run the backward pass\n",
       "</pre>\n"
      ],
      "text/plain": [
       "/home/zekai/miniconda3/envs/eq/lib/python3.11/site-packages/torch/autograd/__init__.py:251: UserWarning: An output \n",
       "with one or more elements was resized since it had shape [1, 61, 1], which does not match the required output shape\n",
       "[1, 61, 32]. This behavior is deprecated, and in a future PyTorch release outputs will not be resized unless they \n",
       "have zero elements. You can explicitly reuse an out tensor t by resizing it, inplace, to zero elements with \n",
       "t.resize_(0). (Triggered internally at \n",
       "/opt/conda/conda-bld/pytorch_1695392035891/work/aten/src/ATen/native/Resize.cpp:28.)\n",
       "  Variable._execution_engine.run_backward(  # Calls into the C++ engine to run the backward pass\n"
      ]
     },
     "metadata": {},
     "output_type": "display_data"
    },
    {
     "data": {
      "text/html": [
       "<pre style=\"white-space:pre;overflow-x:auto;line-height:normal;font-family:Menlo,'DejaVu Sans Mono',consolas,'Courier New',monospace\">/home/zekai/miniconda3/envs/eq/lib/python3.11/site-packages/torch/autograd/__init__.py:251: UserWarning: An output \n",
       "with one or more elements was resized since it had shape [1, 240, 1], which does not match the required output \n",
       "shape [1, 240, 32]. This behavior is deprecated, and in a future PyTorch release outputs will not be resized unless\n",
       "they have zero elements. You can explicitly reuse an out tensor t by resizing it, inplace, to zero elements with \n",
       "t.resize_(0). (Triggered internally at \n",
       "/opt/conda/conda-bld/pytorch_1695392035891/work/aten/src/ATen/native/Resize.cpp:28.)\n",
       "  Variable._execution_engine.run_backward(  # Calls into the C++ engine to run the backward pass\n",
       "</pre>\n"
      ],
      "text/plain": [
       "/home/zekai/miniconda3/envs/eq/lib/python3.11/site-packages/torch/autograd/__init__.py:251: UserWarning: An output \n",
       "with one or more elements was resized since it had shape [1, 240, 1], which does not match the required output \n",
       "shape [1, 240, 32]. This behavior is deprecated, and in a future PyTorch release outputs will not be resized unless\n",
       "they have zero elements. You can explicitly reuse an out tensor t by resizing it, inplace, to zero elements with \n",
       "t.resize_(0). (Triggered internally at \n",
       "/opt/conda/conda-bld/pytorch_1695392035891/work/aten/src/ATen/native/Resize.cpp:28.)\n",
       "  Variable._execution_engine.run_backward(  # Calls into the C++ engine to run the backward pass\n"
      ]
     },
     "metadata": {},
     "output_type": "display_data"
    },
    {
     "data": {
      "text/html": [
       "<pre style=\"white-space:pre;overflow-x:auto;line-height:normal;font-family:Menlo,'DejaVu Sans Mono',consolas,'Courier New',monospace\">/home/zekai/miniconda3/envs/eq/lib/python3.11/site-packages/torch/autograd/__init__.py:251: UserWarning: An output \n",
       "with one or more elements was resized since it had shape [1, 286, 1], which does not match the required output \n",
       "shape [1, 286, 32]. This behavior is deprecated, and in a future PyTorch release outputs will not be resized unless\n",
       "they have zero elements. You can explicitly reuse an out tensor t by resizing it, inplace, to zero elements with \n",
       "t.resize_(0). (Triggered internally at \n",
       "/opt/conda/conda-bld/pytorch_1695392035891/work/aten/src/ATen/native/Resize.cpp:28.)\n",
       "  Variable._execution_engine.run_backward(  # Calls into the C++ engine to run the backward pass\n",
       "</pre>\n"
      ],
      "text/plain": [
       "/home/zekai/miniconda3/envs/eq/lib/python3.11/site-packages/torch/autograd/__init__.py:251: UserWarning: An output \n",
       "with one or more elements was resized since it had shape [1, 286, 1], which does not match the required output \n",
       "shape [1, 286, 32]. This behavior is deprecated, and in a future PyTorch release outputs will not be resized unless\n",
       "they have zero elements. You can explicitly reuse an out tensor t by resizing it, inplace, to zero elements with \n",
       "t.resize_(0). (Triggered internally at \n",
       "/opt/conda/conda-bld/pytorch_1695392035891/work/aten/src/ATen/native/Resize.cpp:28.)\n",
       "  Variable._execution_engine.run_backward(  # Calls into the C++ engine to run the backward pass\n"
      ]
     },
     "metadata": {},
     "output_type": "display_data"
    },
    {
     "data": {
      "text/html": [
       "<pre style=\"white-space:pre;overflow-x:auto;line-height:normal;font-family:Menlo,'DejaVu Sans Mono',consolas,'Courier New',monospace\">/home/zekai/miniconda3/envs/eq/lib/python3.11/site-packages/torch/autograd/__init__.py:251: UserWarning: An output \n",
       "with one or more elements was resized since it had shape [1, 123, 1], which does not match the required output \n",
       "shape [1, 123, 32]. This behavior is deprecated, and in a future PyTorch release outputs will not be resized unless\n",
       "they have zero elements. You can explicitly reuse an out tensor t by resizing it, inplace, to zero elements with \n",
       "t.resize_(0). (Triggered internally at \n",
       "/opt/conda/conda-bld/pytorch_1695392035891/work/aten/src/ATen/native/Resize.cpp:28.)\n",
       "  Variable._execution_engine.run_backward(  # Calls into the C++ engine to run the backward pass\n",
       "</pre>\n"
      ],
      "text/plain": [
       "/home/zekai/miniconda3/envs/eq/lib/python3.11/site-packages/torch/autograd/__init__.py:251: UserWarning: An output \n",
       "with one or more elements was resized since it had shape [1, 123, 1], which does not match the required output \n",
       "shape [1, 123, 32]. This behavior is deprecated, and in a future PyTorch release outputs will not be resized unless\n",
       "they have zero elements. You can explicitly reuse an out tensor t by resizing it, inplace, to zero elements with \n",
       "t.resize_(0). (Triggered internally at \n",
       "/opt/conda/conda-bld/pytorch_1695392035891/work/aten/src/ATen/native/Resize.cpp:28.)\n",
       "  Variable._execution_engine.run_backward(  # Calls into the C++ engine to run the backward pass\n"
      ]
     },
     "metadata": {},
     "output_type": "display_data"
    },
    {
     "data": {
      "text/html": [
       "<pre style=\"white-space:pre;overflow-x:auto;line-height:normal;font-family:Menlo,'DejaVu Sans Mono',consolas,'Courier New',monospace\">/home/zekai/miniconda3/envs/eq/lib/python3.11/site-packages/torch/autograd/__init__.py:251: UserWarning: An output \n",
       "with one or more elements was resized since it had shape [1, 836, 1], which does not match the required output \n",
       "shape [1, 836, 32]. This behavior is deprecated, and in a future PyTorch release outputs will not be resized unless\n",
       "they have zero elements. You can explicitly reuse an out tensor t by resizing it, inplace, to zero elements with \n",
       "t.resize_(0). (Triggered internally at \n",
       "/opt/conda/conda-bld/pytorch_1695392035891/work/aten/src/ATen/native/Resize.cpp:28.)\n",
       "  Variable._execution_engine.run_backward(  # Calls into the C++ engine to run the backward pass\n",
       "</pre>\n"
      ],
      "text/plain": [
       "/home/zekai/miniconda3/envs/eq/lib/python3.11/site-packages/torch/autograd/__init__.py:251: UserWarning: An output \n",
       "with one or more elements was resized since it had shape [1, 836, 1], which does not match the required output \n",
       "shape [1, 836, 32]. This behavior is deprecated, and in a future PyTorch release outputs will not be resized unless\n",
       "they have zero elements. You can explicitly reuse an out tensor t by resizing it, inplace, to zero elements with \n",
       "t.resize_(0). (Triggered internally at \n",
       "/opt/conda/conda-bld/pytorch_1695392035891/work/aten/src/ATen/native/Resize.cpp:28.)\n",
       "  Variable._execution_engine.run_backward(  # Calls into the C++ engine to run the backward pass\n"
      ]
     },
     "metadata": {},
     "output_type": "display_data"
    },
    {
     "data": {
      "text/html": [
       "<pre style=\"white-space:pre;overflow-x:auto;line-height:normal;font-family:Menlo,'DejaVu Sans Mono',consolas,'Courier New',monospace\">/home/zekai/miniconda3/envs/eq/lib/python3.11/site-packages/torch/autograd/__init__.py:251: UserWarning: An output \n",
       "with one or more elements was resized since it had shape [1, 395, 1], which does not match the required output \n",
       "shape [1, 395, 32]. This behavior is deprecated, and in a future PyTorch release outputs will not be resized unless\n",
       "they have zero elements. You can explicitly reuse an out tensor t by resizing it, inplace, to zero elements with \n",
       "t.resize_(0). (Triggered internally at \n",
       "/opt/conda/conda-bld/pytorch_1695392035891/work/aten/src/ATen/native/Resize.cpp:28.)\n",
       "  Variable._execution_engine.run_backward(  # Calls into the C++ engine to run the backward pass\n",
       "</pre>\n"
      ],
      "text/plain": [
       "/home/zekai/miniconda3/envs/eq/lib/python3.11/site-packages/torch/autograd/__init__.py:251: UserWarning: An output \n",
       "with one or more elements was resized since it had shape [1, 395, 1], which does not match the required output \n",
       "shape [1, 395, 32]. This behavior is deprecated, and in a future PyTorch release outputs will not be resized unless\n",
       "they have zero elements. You can explicitly reuse an out tensor t by resizing it, inplace, to zero elements with \n",
       "t.resize_(0). (Triggered internally at \n",
       "/opt/conda/conda-bld/pytorch_1695392035891/work/aten/src/ATen/native/Resize.cpp:28.)\n",
       "  Variable._execution_engine.run_backward(  # Calls into the C++ engine to run the backward pass\n"
      ]
     },
     "metadata": {},
     "output_type": "display_data"
    },
    {
     "data": {
      "text/html": [
       "<pre style=\"white-space:pre;overflow-x:auto;line-height:normal;font-family:Menlo,'DejaVu Sans Mono',consolas,'Courier New',monospace\">/home/zekai/miniconda3/envs/eq/lib/python3.11/site-packages/torch/autograd/__init__.py:251: UserWarning: An output \n",
       "with one or more elements was resized since it had shape [1, 374, 1], which does not match the required output \n",
       "shape [1, 374, 32]. This behavior is deprecated, and in a future PyTorch release outputs will not be resized unless\n",
       "they have zero elements. You can explicitly reuse an out tensor t by resizing it, inplace, to zero elements with \n",
       "t.resize_(0). (Triggered internally at \n",
       "/opt/conda/conda-bld/pytorch_1695392035891/work/aten/src/ATen/native/Resize.cpp:28.)\n",
       "  Variable._execution_engine.run_backward(  # Calls into the C++ engine to run the backward pass\n",
       "</pre>\n"
      ],
      "text/plain": [
       "/home/zekai/miniconda3/envs/eq/lib/python3.11/site-packages/torch/autograd/__init__.py:251: UserWarning: An output \n",
       "with one or more elements was resized since it had shape [1, 374, 1], which does not match the required output \n",
       "shape [1, 374, 32]. This behavior is deprecated, and in a future PyTorch release outputs will not be resized unless\n",
       "they have zero elements. You can explicitly reuse an out tensor t by resizing it, inplace, to zero elements with \n",
       "t.resize_(0). (Triggered internally at \n",
       "/opt/conda/conda-bld/pytorch_1695392035891/work/aten/src/ATen/native/Resize.cpp:28.)\n",
       "  Variable._execution_engine.run_backward(  # Calls into the C++ engine to run the backward pass\n"
      ]
     },
     "metadata": {},
     "output_type": "display_data"
    },
    {
     "data": {
      "text/html": [
       "<pre style=\"white-space:pre;overflow-x:auto;line-height:normal;font-family:Menlo,'DejaVu Sans Mono',consolas,'Courier New',monospace\">/home/zekai/miniconda3/envs/eq/lib/python3.11/site-packages/torch/autograd/__init__.py:251: UserWarning: An output \n",
       "with one or more elements was resized since it had shape [1, 105, 1], which does not match the required output \n",
       "shape [1, 105, 32]. This behavior is deprecated, and in a future PyTorch release outputs will not be resized unless\n",
       "they have zero elements. You can explicitly reuse an out tensor t by resizing it, inplace, to zero elements with \n",
       "t.resize_(0). (Triggered internally at \n",
       "/opt/conda/conda-bld/pytorch_1695392035891/work/aten/src/ATen/native/Resize.cpp:28.)\n",
       "  Variable._execution_engine.run_backward(  # Calls into the C++ engine to run the backward pass\n",
       "</pre>\n"
      ],
      "text/plain": [
       "/home/zekai/miniconda3/envs/eq/lib/python3.11/site-packages/torch/autograd/__init__.py:251: UserWarning: An output \n",
       "with one or more elements was resized since it had shape [1, 105, 1], which does not match the required output \n",
       "shape [1, 105, 32]. This behavior is deprecated, and in a future PyTorch release outputs will not be resized unless\n",
       "they have zero elements. You can explicitly reuse an out tensor t by resizing it, inplace, to zero elements with \n",
       "t.resize_(0). (Triggered internally at \n",
       "/opt/conda/conda-bld/pytorch_1695392035891/work/aten/src/ATen/native/Resize.cpp:28.)\n",
       "  Variable._execution_engine.run_backward(  # Calls into the C++ engine to run the backward pass\n"
      ]
     },
     "metadata": {},
     "output_type": "display_data"
    },
    {
     "data": {
      "text/html": [
       "<pre style=\"white-space:pre;overflow-x:auto;line-height:normal;font-family:Menlo,'DejaVu Sans Mono',consolas,'Courier New',monospace\">/home/zekai/miniconda3/envs/eq/lib/python3.11/site-packages/torch/autograd/__init__.py:251: UserWarning: An output \n",
       "with one or more elements was resized since it had shape [1, 663, 1], which does not match the required output \n",
       "shape [1, 663, 32]. This behavior is deprecated, and in a future PyTorch release outputs will not be resized unless\n",
       "they have zero elements. You can explicitly reuse an out tensor t by resizing it, inplace, to zero elements with \n",
       "t.resize_(0). (Triggered internally at \n",
       "/opt/conda/conda-bld/pytorch_1695392035891/work/aten/src/ATen/native/Resize.cpp:28.)\n",
       "  Variable._execution_engine.run_backward(  # Calls into the C++ engine to run the backward pass\n",
       "</pre>\n"
      ],
      "text/plain": [
       "/home/zekai/miniconda3/envs/eq/lib/python3.11/site-packages/torch/autograd/__init__.py:251: UserWarning: An output \n",
       "with one or more elements was resized since it had shape [1, 663, 1], which does not match the required output \n",
       "shape [1, 663, 32]. This behavior is deprecated, and in a future PyTorch release outputs will not be resized unless\n",
       "they have zero elements. You can explicitly reuse an out tensor t by resizing it, inplace, to zero elements with \n",
       "t.resize_(0). (Triggered internally at \n",
       "/opt/conda/conda-bld/pytorch_1695392035891/work/aten/src/ATen/native/Resize.cpp:28.)\n",
       "  Variable._execution_engine.run_backward(  # Calls into the C++ engine to run the backward pass\n"
      ]
     },
     "metadata": {},
     "output_type": "display_data"
    },
    {
     "data": {
      "text/html": [
       "<pre style=\"white-space:pre;overflow-x:auto;line-height:normal;font-family:Menlo,'DejaVu Sans Mono',consolas,'Courier New',monospace\">/home/zekai/miniconda3/envs/eq/lib/python3.11/site-packages/torch/autograd/__init__.py:251: UserWarning: An output \n",
       "with one or more elements was resized since it had shape [1, 611, 1], which does not match the required output \n",
       "shape [1, 611, 32]. This behavior is deprecated, and in a future PyTorch release outputs will not be resized unless\n",
       "they have zero elements. You can explicitly reuse an out tensor t by resizing it, inplace, to zero elements with \n",
       "t.resize_(0). (Triggered internally at \n",
       "/opt/conda/conda-bld/pytorch_1695392035891/work/aten/src/ATen/native/Resize.cpp:28.)\n",
       "  Variable._execution_engine.run_backward(  # Calls into the C++ engine to run the backward pass\n",
       "</pre>\n"
      ],
      "text/plain": [
       "/home/zekai/miniconda3/envs/eq/lib/python3.11/site-packages/torch/autograd/__init__.py:251: UserWarning: An output \n",
       "with one or more elements was resized since it had shape [1, 611, 1], which does not match the required output \n",
       "shape [1, 611, 32]. This behavior is deprecated, and in a future PyTorch release outputs will not be resized unless\n",
       "they have zero elements. You can explicitly reuse an out tensor t by resizing it, inplace, to zero elements with \n",
       "t.resize_(0). (Triggered internally at \n",
       "/opt/conda/conda-bld/pytorch_1695392035891/work/aten/src/ATen/native/Resize.cpp:28.)\n",
       "  Variable._execution_engine.run_backward(  # Calls into the C++ engine to run the backward pass\n"
      ]
     },
     "metadata": {},
     "output_type": "display_data"
    },
    {
     "data": {
      "text/html": [
       "<pre style=\"white-space:pre;overflow-x:auto;line-height:normal;font-family:Menlo,'DejaVu Sans Mono',consolas,'Courier New',monospace\">/home/zekai/miniconda3/envs/eq/lib/python3.11/site-packages/torch/autograd/__init__.py:251: UserWarning: An output \n",
       "with one or more elements was resized since it had shape [1, 434, 1], which does not match the required output \n",
       "shape [1, 434, 32]. This behavior is deprecated, and in a future PyTorch release outputs will not be resized unless\n",
       "they have zero elements. You can explicitly reuse an out tensor t by resizing it, inplace, to zero elements with \n",
       "t.resize_(0). (Triggered internally at \n",
       "/opt/conda/conda-bld/pytorch_1695392035891/work/aten/src/ATen/native/Resize.cpp:28.)\n",
       "  Variable._execution_engine.run_backward(  # Calls into the C++ engine to run the backward pass\n",
       "</pre>\n"
      ],
      "text/plain": [
       "/home/zekai/miniconda3/envs/eq/lib/python3.11/site-packages/torch/autograd/__init__.py:251: UserWarning: An output \n",
       "with one or more elements was resized since it had shape [1, 434, 1], which does not match the required output \n",
       "shape [1, 434, 32]. This behavior is deprecated, and in a future PyTorch release outputs will not be resized unless\n",
       "they have zero elements. You can explicitly reuse an out tensor t by resizing it, inplace, to zero elements with \n",
       "t.resize_(0). (Triggered internally at \n",
       "/opt/conda/conda-bld/pytorch_1695392035891/work/aten/src/ATen/native/Resize.cpp:28.)\n",
       "  Variable._execution_engine.run_backward(  # Calls into the C++ engine to run the backward pass\n"
      ]
     },
     "metadata": {},
     "output_type": "display_data"
    },
    {
     "data": {
      "text/html": [
       "<pre style=\"white-space:pre;overflow-x:auto;line-height:normal;font-family:Menlo,'DejaVu Sans Mono',consolas,'Courier New',monospace\">/home/zekai/miniconda3/envs/eq/lib/python3.11/site-packages/torch/autograd/__init__.py:251: UserWarning: An output \n",
       "with one or more elements was resized since it had shape [1, 260, 1], which does not match the required output \n",
       "shape [1, 260, 32]. This behavior is deprecated, and in a future PyTorch release outputs will not be resized unless\n",
       "they have zero elements. You can explicitly reuse an out tensor t by resizing it, inplace, to zero elements with \n",
       "t.resize_(0). (Triggered internally at \n",
       "/opt/conda/conda-bld/pytorch_1695392035891/work/aten/src/ATen/native/Resize.cpp:28.)\n",
       "  Variable._execution_engine.run_backward(  # Calls into the C++ engine to run the backward pass\n",
       "</pre>\n"
      ],
      "text/plain": [
       "/home/zekai/miniconda3/envs/eq/lib/python3.11/site-packages/torch/autograd/__init__.py:251: UserWarning: An output \n",
       "with one or more elements was resized since it had shape [1, 260, 1], which does not match the required output \n",
       "shape [1, 260, 32]. This behavior is deprecated, and in a future PyTorch release outputs will not be resized unless\n",
       "they have zero elements. You can explicitly reuse an out tensor t by resizing it, inplace, to zero elements with \n",
       "t.resize_(0). (Triggered internally at \n",
       "/opt/conda/conda-bld/pytorch_1695392035891/work/aten/src/ATen/native/Resize.cpp:28.)\n",
       "  Variable._execution_engine.run_backward(  # Calls into the C++ engine to run the backward pass\n"
      ]
     },
     "metadata": {},
     "output_type": "display_data"
    },
    {
     "data": {
      "text/html": [
       "<pre style=\"white-space:pre;overflow-x:auto;line-height:normal;font-family:Menlo,'DejaVu Sans Mono',consolas,'Courier New',monospace\">/home/zekai/miniconda3/envs/eq/lib/python3.11/site-packages/torch/autograd/__init__.py:251: UserWarning: An output \n",
       "with one or more elements was resized since it had shape [1, 337, 1], which does not match the required output \n",
       "shape [1, 337, 32]. This behavior is deprecated, and in a future PyTorch release outputs will not be resized unless\n",
       "they have zero elements. You can explicitly reuse an out tensor t by resizing it, inplace, to zero elements with \n",
       "t.resize_(0). (Triggered internally at \n",
       "/opt/conda/conda-bld/pytorch_1695392035891/work/aten/src/ATen/native/Resize.cpp:28.)\n",
       "  Variable._execution_engine.run_backward(  # Calls into the C++ engine to run the backward pass\n",
       "</pre>\n"
      ],
      "text/plain": [
       "/home/zekai/miniconda3/envs/eq/lib/python3.11/site-packages/torch/autograd/__init__.py:251: UserWarning: An output \n",
       "with one or more elements was resized since it had shape [1, 337, 1], which does not match the required output \n",
       "shape [1, 337, 32]. This behavior is deprecated, and in a future PyTorch release outputs will not be resized unless\n",
       "they have zero elements. You can explicitly reuse an out tensor t by resizing it, inplace, to zero elements with \n",
       "t.resize_(0). (Triggered internally at \n",
       "/opt/conda/conda-bld/pytorch_1695392035891/work/aten/src/ATen/native/Resize.cpp:28.)\n",
       "  Variable._execution_engine.run_backward(  # Calls into the C++ engine to run the backward pass\n"
      ]
     },
     "metadata": {},
     "output_type": "display_data"
    },
    {
     "data": {
      "text/html": [
       "<pre style=\"white-space:pre;overflow-x:auto;line-height:normal;font-family:Menlo,'DejaVu Sans Mono',consolas,'Courier New',monospace\">/home/zekai/miniconda3/envs/eq/lib/python3.11/site-packages/torch/autograd/__init__.py:251: UserWarning: An output \n",
       "with one or more elements was resized since it had shape [1, 84, 1], which does not match the required output shape\n",
       "[1, 84, 32]. This behavior is deprecated, and in a future PyTorch release outputs will not be resized unless they \n",
       "have zero elements. You can explicitly reuse an out tensor t by resizing it, inplace, to zero elements with \n",
       "t.resize_(0). (Triggered internally at \n",
       "/opt/conda/conda-bld/pytorch_1695392035891/work/aten/src/ATen/native/Resize.cpp:28.)\n",
       "  Variable._execution_engine.run_backward(  # Calls into the C++ engine to run the backward pass\n",
       "</pre>\n"
      ],
      "text/plain": [
       "/home/zekai/miniconda3/envs/eq/lib/python3.11/site-packages/torch/autograd/__init__.py:251: UserWarning: An output \n",
       "with one or more elements was resized since it had shape [1, 84, 1], which does not match the required output shape\n",
       "[1, 84, 32]. This behavior is deprecated, and in a future PyTorch release outputs will not be resized unless they \n",
       "have zero elements. You can explicitly reuse an out tensor t by resizing it, inplace, to zero elements with \n",
       "t.resize_(0). (Triggered internally at \n",
       "/opt/conda/conda-bld/pytorch_1695392035891/work/aten/src/ATen/native/Resize.cpp:28.)\n",
       "  Variable._execution_engine.run_backward(  # Calls into the C++ engine to run the backward pass\n"
      ]
     },
     "metadata": {},
     "output_type": "display_data"
    },
    {
     "data": {
      "text/html": [
       "<pre style=\"white-space:pre;overflow-x:auto;line-height:normal;font-family:Menlo,'DejaVu Sans Mono',consolas,'Courier New',monospace\">/home/zekai/miniconda3/envs/eq/lib/python3.11/site-packages/torch/autograd/__init__.py:251: UserWarning: An output \n",
       "with one or more elements was resized since it had shape [1, 763, 1], which does not match the required output \n",
       "shape [1, 763, 32]. This behavior is deprecated, and in a future PyTorch release outputs will not be resized unless\n",
       "they have zero elements. You can explicitly reuse an out tensor t by resizing it, inplace, to zero elements with \n",
       "t.resize_(0). (Triggered internally at \n",
       "/opt/conda/conda-bld/pytorch_1695392035891/work/aten/src/ATen/native/Resize.cpp:28.)\n",
       "  Variable._execution_engine.run_backward(  # Calls into the C++ engine to run the backward pass\n",
       "</pre>\n"
      ],
      "text/plain": [
       "/home/zekai/miniconda3/envs/eq/lib/python3.11/site-packages/torch/autograd/__init__.py:251: UserWarning: An output \n",
       "with one or more elements was resized since it had shape [1, 763, 1], which does not match the required output \n",
       "shape [1, 763, 32]. This behavior is deprecated, and in a future PyTorch release outputs will not be resized unless\n",
       "they have zero elements. You can explicitly reuse an out tensor t by resizing it, inplace, to zero elements with \n",
       "t.resize_(0). (Triggered internally at \n",
       "/opt/conda/conda-bld/pytorch_1695392035891/work/aten/src/ATen/native/Resize.cpp:28.)\n",
       "  Variable._execution_engine.run_backward(  # Calls into the C++ engine to run the backward pass\n"
      ]
     },
     "metadata": {},
     "output_type": "display_data"
    },
    {
     "data": {
      "text/html": [
       "<pre style=\"white-space:pre;overflow-x:auto;line-height:normal;font-family:Menlo,'DejaVu Sans Mono',consolas,'Courier New',monospace\">/home/zekai/miniconda3/envs/eq/lib/python3.11/site-packages/torch/autograd/__init__.py:251: UserWarning: An output \n",
       "with one or more elements was resized since it had shape [1, 220, 1], which does not match the required output \n",
       "shape [1, 220, 32]. This behavior is deprecated, and in a future PyTorch release outputs will not be resized unless\n",
       "they have zero elements. You can explicitly reuse an out tensor t by resizing it, inplace, to zero elements with \n",
       "t.resize_(0). (Triggered internally at \n",
       "/opt/conda/conda-bld/pytorch_1695392035891/work/aten/src/ATen/native/Resize.cpp:28.)\n",
       "  Variable._execution_engine.run_backward(  # Calls into the C++ engine to run the backward pass\n",
       "</pre>\n"
      ],
      "text/plain": [
       "/home/zekai/miniconda3/envs/eq/lib/python3.11/site-packages/torch/autograd/__init__.py:251: UserWarning: An output \n",
       "with one or more elements was resized since it had shape [1, 220, 1], which does not match the required output \n",
       "shape [1, 220, 32]. This behavior is deprecated, and in a future PyTorch release outputs will not be resized unless\n",
       "they have zero elements. You can explicitly reuse an out tensor t by resizing it, inplace, to zero elements with \n",
       "t.resize_(0). (Triggered internally at \n",
       "/opt/conda/conda-bld/pytorch_1695392035891/work/aten/src/ATen/native/Resize.cpp:28.)\n",
       "  Variable._execution_engine.run_backward(  # Calls into the C++ engine to run the backward pass\n"
      ]
     },
     "metadata": {},
     "output_type": "display_data"
    },
    {
     "data": {
      "text/html": [
       "<pre style=\"white-space:pre;overflow-x:auto;line-height:normal;font-family:Menlo,'DejaVu Sans Mono',consolas,'Courier New',monospace\">/home/zekai/miniconda3/envs/eq/lib/python3.11/site-packages/torch/autograd/__init__.py:251: UserWarning: An output \n",
       "with one or more elements was resized since it had shape [1, 2765, 1], which does not match the required output \n",
       "shape [1, 2765, 32]. This behavior is deprecated, and in a future PyTorch release outputs will not be resized \n",
       "unless they have zero elements. You can explicitly reuse an out tensor t by resizing it, inplace, to zero elements \n",
       "with t.resize_(0). (Triggered internally at \n",
       "/opt/conda/conda-bld/pytorch_1695392035891/work/aten/src/ATen/native/Resize.cpp:28.)\n",
       "  Variable._execution_engine.run_backward(  # Calls into the C++ engine to run the backward pass\n",
       "</pre>\n"
      ],
      "text/plain": [
       "/home/zekai/miniconda3/envs/eq/lib/python3.11/site-packages/torch/autograd/__init__.py:251: UserWarning: An output \n",
       "with one or more elements was resized since it had shape [1, 2765, 1], which does not match the required output \n",
       "shape [1, 2765, 32]. This behavior is deprecated, and in a future PyTorch release outputs will not be resized \n",
       "unless they have zero elements. You can explicitly reuse an out tensor t by resizing it, inplace, to zero elements \n",
       "with t.resize_(0). (Triggered internally at \n",
       "/opt/conda/conda-bld/pytorch_1695392035891/work/aten/src/ATen/native/Resize.cpp:28.)\n",
       "  Variable._execution_engine.run_backward(  # Calls into the C++ engine to run the backward pass\n"
      ]
     },
     "metadata": {},
     "output_type": "display_data"
    },
    {
     "data": {
      "text/html": [
       "<pre style=\"white-space:pre;overflow-x:auto;line-height:normal;font-family:Menlo,'DejaVu Sans Mono',consolas,'Courier New',monospace\">/home/zekai/miniconda3/envs/eq/lib/python3.11/site-packages/torch/autograd/__init__.py:251: UserWarning: An output \n",
       "with one or more elements was resized since it had shape [1, 189, 1], which does not match the required output \n",
       "shape [1, 189, 32]. This behavior is deprecated, and in a future PyTorch release outputs will not be resized unless\n",
       "they have zero elements. You can explicitly reuse an out tensor t by resizing it, inplace, to zero elements with \n",
       "t.resize_(0). (Triggered internally at \n",
       "/opt/conda/conda-bld/pytorch_1695392035891/work/aten/src/ATen/native/Resize.cpp:28.)\n",
       "  Variable._execution_engine.run_backward(  # Calls into the C++ engine to run the backward pass\n",
       "</pre>\n"
      ],
      "text/plain": [
       "/home/zekai/miniconda3/envs/eq/lib/python3.11/site-packages/torch/autograd/__init__.py:251: UserWarning: An output \n",
       "with one or more elements was resized since it had shape [1, 189, 1], which does not match the required output \n",
       "shape [1, 189, 32]. This behavior is deprecated, and in a future PyTorch release outputs will not be resized unless\n",
       "they have zero elements. You can explicitly reuse an out tensor t by resizing it, inplace, to zero elements with \n",
       "t.resize_(0). (Triggered internally at \n",
       "/opt/conda/conda-bld/pytorch_1695392035891/work/aten/src/ATen/native/Resize.cpp:28.)\n",
       "  Variable._execution_engine.run_backward(  # Calls into the C++ engine to run the backward pass\n"
      ]
     },
     "metadata": {},
     "output_type": "display_data"
    },
    {
     "data": {
      "text/html": [
       "<pre style=\"white-space:pre;overflow-x:auto;line-height:normal;font-family:Menlo,'DejaVu Sans Mono',consolas,'Courier New',monospace\">/home/zekai/miniconda3/envs/eq/lib/python3.11/site-packages/torch/autograd/__init__.py:251: UserWarning: An output \n",
       "with one or more elements was resized since it had shape [1, 379, 1], which does not match the required output \n",
       "shape [1, 379, 32]. This behavior is deprecated, and in a future PyTorch release outputs will not be resized unless\n",
       "they have zero elements. You can explicitly reuse an out tensor t by resizing it, inplace, to zero elements with \n",
       "t.resize_(0). (Triggered internally at \n",
       "/opt/conda/conda-bld/pytorch_1695392035891/work/aten/src/ATen/native/Resize.cpp:28.)\n",
       "  Variable._execution_engine.run_backward(  # Calls into the C++ engine to run the backward pass\n",
       "</pre>\n"
      ],
      "text/plain": [
       "/home/zekai/miniconda3/envs/eq/lib/python3.11/site-packages/torch/autograd/__init__.py:251: UserWarning: An output \n",
       "with one or more elements was resized since it had shape [1, 379, 1], which does not match the required output \n",
       "shape [1, 379, 32]. This behavior is deprecated, and in a future PyTorch release outputs will not be resized unless\n",
       "they have zero elements. You can explicitly reuse an out tensor t by resizing it, inplace, to zero elements with \n",
       "t.resize_(0). (Triggered internally at \n",
       "/opt/conda/conda-bld/pytorch_1695392035891/work/aten/src/ATen/native/Resize.cpp:28.)\n",
       "  Variable._execution_engine.run_backward(  # Calls into the C++ engine to run the backward pass\n"
      ]
     },
     "metadata": {},
     "output_type": "display_data"
    },
    {
     "data": {
      "text/html": [
       "<pre style=\"white-space:pre;overflow-x:auto;line-height:normal;font-family:Menlo,'DejaVu Sans Mono',consolas,'Courier New',monospace\">/home/zekai/miniconda3/envs/eq/lib/python3.11/site-packages/torch/autograd/__init__.py:251: UserWarning: An output \n",
       "with one or more elements was resized since it had shape [1, 66, 1], which does not match the required output shape\n",
       "[1, 66, 32]. This behavior is deprecated, and in a future PyTorch release outputs will not be resized unless they \n",
       "have zero elements. You can explicitly reuse an out tensor t by resizing it, inplace, to zero elements with \n",
       "t.resize_(0). (Triggered internally at \n",
       "/opt/conda/conda-bld/pytorch_1695392035891/work/aten/src/ATen/native/Resize.cpp:28.)\n",
       "  Variable._execution_engine.run_backward(  # Calls into the C++ engine to run the backward pass\n",
       "</pre>\n"
      ],
      "text/plain": [
       "/home/zekai/miniconda3/envs/eq/lib/python3.11/site-packages/torch/autograd/__init__.py:251: UserWarning: An output \n",
       "with one or more elements was resized since it had shape [1, 66, 1], which does not match the required output shape\n",
       "[1, 66, 32]. This behavior is deprecated, and in a future PyTorch release outputs will not be resized unless they \n",
       "have zero elements. You can explicitly reuse an out tensor t by resizing it, inplace, to zero elements with \n",
       "t.resize_(0). (Triggered internally at \n",
       "/opt/conda/conda-bld/pytorch_1695392035891/work/aten/src/ATen/native/Resize.cpp:28.)\n",
       "  Variable._execution_engine.run_backward(  # Calls into the C++ engine to run the backward pass\n"
      ]
     },
     "metadata": {},
     "output_type": "display_data"
    },
    {
     "data": {
      "text/html": [
       "<pre style=\"white-space:pre;overflow-x:auto;line-height:normal;font-family:Menlo,'DejaVu Sans Mono',consolas,'Courier New',monospace\">/home/zekai/miniconda3/envs/eq/lib/python3.11/site-packages/torch/autograd/__init__.py:251: UserWarning: An output \n",
       "with one or more elements was resized since it had shape [1, 494, 1], which does not match the required output \n",
       "shape [1, 494, 32]. This behavior is deprecated, and in a future PyTorch release outputs will not be resized unless\n",
       "they have zero elements. You can explicitly reuse an out tensor t by resizing it, inplace, to zero elements with \n",
       "t.resize_(0). (Triggered internally at \n",
       "/opt/conda/conda-bld/pytorch_1695392035891/work/aten/src/ATen/native/Resize.cpp:28.)\n",
       "  Variable._execution_engine.run_backward(  # Calls into the C++ engine to run the backward pass\n",
       "</pre>\n"
      ],
      "text/plain": [
       "/home/zekai/miniconda3/envs/eq/lib/python3.11/site-packages/torch/autograd/__init__.py:251: UserWarning: An output \n",
       "with one or more elements was resized since it had shape [1, 494, 1], which does not match the required output \n",
       "shape [1, 494, 32]. This behavior is deprecated, and in a future PyTorch release outputs will not be resized unless\n",
       "they have zero elements. You can explicitly reuse an out tensor t by resizing it, inplace, to zero elements with \n",
       "t.resize_(0). (Triggered internally at \n",
       "/opt/conda/conda-bld/pytorch_1695392035891/work/aten/src/ATen/native/Resize.cpp:28.)\n",
       "  Variable._execution_engine.run_backward(  # Calls into the C++ engine to run the backward pass\n"
      ]
     },
     "metadata": {},
     "output_type": "display_data"
    },
    {
     "data": {
      "text/html": [
       "<pre style=\"white-space:pre;overflow-x:auto;line-height:normal;font-family:Menlo,'DejaVu Sans Mono',consolas,'Courier New',monospace\">/home/zekai/miniconda3/envs/eq/lib/python3.11/site-packages/torch/autograd/__init__.py:251: UserWarning: An output \n",
       "with one or more elements was resized since it had shape [1, 377, 1], which does not match the required output \n",
       "shape [1, 377, 32]. This behavior is deprecated, and in a future PyTorch release outputs will not be resized unless\n",
       "they have zero elements. You can explicitly reuse an out tensor t by resizing it, inplace, to zero elements with \n",
       "t.resize_(0). (Triggered internally at \n",
       "/opt/conda/conda-bld/pytorch_1695392035891/work/aten/src/ATen/native/Resize.cpp:28.)\n",
       "  Variable._execution_engine.run_backward(  # Calls into the C++ engine to run the backward pass\n",
       "</pre>\n"
      ],
      "text/plain": [
       "/home/zekai/miniconda3/envs/eq/lib/python3.11/site-packages/torch/autograd/__init__.py:251: UserWarning: An output \n",
       "with one or more elements was resized since it had shape [1, 377, 1], which does not match the required output \n",
       "shape [1, 377, 32]. This behavior is deprecated, and in a future PyTorch release outputs will not be resized unless\n",
       "they have zero elements. You can explicitly reuse an out tensor t by resizing it, inplace, to zero elements with \n",
       "t.resize_(0). (Triggered internally at \n",
       "/opt/conda/conda-bld/pytorch_1695392035891/work/aten/src/ATen/native/Resize.cpp:28.)\n",
       "  Variable._execution_engine.run_backward(  # Calls into the C++ engine to run the backward pass\n"
      ]
     },
     "metadata": {},
     "output_type": "display_data"
    },
    {
     "data": {
      "text/html": [
       "<pre style=\"white-space:pre;overflow-x:auto;line-height:normal;font-family:Menlo,'DejaVu Sans Mono',consolas,'Courier New',monospace\">/home/zekai/miniconda3/envs/eq/lib/python3.11/site-packages/torch/autograd/__init__.py:251: UserWarning: An output \n",
       "with one or more elements was resized since it had shape [1, 603, 1], which does not match the required output \n",
       "shape [1, 603, 32]. This behavior is deprecated, and in a future PyTorch release outputs will not be resized unless\n",
       "they have zero elements. You can explicitly reuse an out tensor t by resizing it, inplace, to zero elements with \n",
       "t.resize_(0). (Triggered internally at \n",
       "/opt/conda/conda-bld/pytorch_1695392035891/work/aten/src/ATen/native/Resize.cpp:28.)\n",
       "  Variable._execution_engine.run_backward(  # Calls into the C++ engine to run the backward pass\n",
       "</pre>\n"
      ],
      "text/plain": [
       "/home/zekai/miniconda3/envs/eq/lib/python3.11/site-packages/torch/autograd/__init__.py:251: UserWarning: An output \n",
       "with one or more elements was resized since it had shape [1, 603, 1], which does not match the required output \n",
       "shape [1, 603, 32]. This behavior is deprecated, and in a future PyTorch release outputs will not be resized unless\n",
       "they have zero elements. You can explicitly reuse an out tensor t by resizing it, inplace, to zero elements with \n",
       "t.resize_(0). (Triggered internally at \n",
       "/opt/conda/conda-bld/pytorch_1695392035891/work/aten/src/ATen/native/Resize.cpp:28.)\n",
       "  Variable._execution_engine.run_backward(  # Calls into the C++ engine to run the backward pass\n"
      ]
     },
     "metadata": {},
     "output_type": "display_data"
    },
    {
     "data": {
      "text/html": [
       "<pre style=\"white-space:pre;overflow-x:auto;line-height:normal;font-family:Menlo,'DejaVu Sans Mono',consolas,'Courier New',monospace\">/home/zekai/miniconda3/envs/eq/lib/python3.11/site-packages/torch/autograd/__init__.py:251: UserWarning: An output \n",
       "with one or more elements was resized since it had shape [1, 167, 1], which does not match the required output \n",
       "shape [1, 167, 32]. This behavior is deprecated, and in a future PyTorch release outputs will not be resized unless\n",
       "they have zero elements. You can explicitly reuse an out tensor t by resizing it, inplace, to zero elements with \n",
       "t.resize_(0). (Triggered internally at \n",
       "/opt/conda/conda-bld/pytorch_1695392035891/work/aten/src/ATen/native/Resize.cpp:28.)\n",
       "  Variable._execution_engine.run_backward(  # Calls into the C++ engine to run the backward pass\n",
       "</pre>\n"
      ],
      "text/plain": [
       "/home/zekai/miniconda3/envs/eq/lib/python3.11/site-packages/torch/autograd/__init__.py:251: UserWarning: An output \n",
       "with one or more elements was resized since it had shape [1, 167, 1], which does not match the required output \n",
       "shape [1, 167, 32]. This behavior is deprecated, and in a future PyTorch release outputs will not be resized unless\n",
       "they have zero elements. You can explicitly reuse an out tensor t by resizing it, inplace, to zero elements with \n",
       "t.resize_(0). (Triggered internally at \n",
       "/opt/conda/conda-bld/pytorch_1695392035891/work/aten/src/ATen/native/Resize.cpp:28.)\n",
       "  Variable._execution_engine.run_backward(  # Calls into the C++ engine to run the backward pass\n"
      ]
     },
     "metadata": {},
     "output_type": "display_data"
    },
    {
     "data": {
      "text/html": [
       "<pre style=\"white-space:pre;overflow-x:auto;line-height:normal;font-family:Menlo,'DejaVu Sans Mono',consolas,'Courier New',monospace\">/home/zekai/miniconda3/envs/eq/lib/python3.11/site-packages/torch/autograd/__init__.py:251: UserWarning: An output \n",
       "with one or more elements was resized since it had shape [1, 2851, 1], which does not match the required output \n",
       "shape [1, 2851, 32]. This behavior is deprecated, and in a future PyTorch release outputs will not be resized \n",
       "unless they have zero elements. You can explicitly reuse an out tensor t by resizing it, inplace, to zero elements \n",
       "with t.resize_(0). (Triggered internally at \n",
       "/opt/conda/conda-bld/pytorch_1695392035891/work/aten/src/ATen/native/Resize.cpp:28.)\n",
       "  Variable._execution_engine.run_backward(  # Calls into the C++ engine to run the backward pass\n",
       "</pre>\n"
      ],
      "text/plain": [
       "/home/zekai/miniconda3/envs/eq/lib/python3.11/site-packages/torch/autograd/__init__.py:251: UserWarning: An output \n",
       "with one or more elements was resized since it had shape [1, 2851, 1], which does not match the required output \n",
       "shape [1, 2851, 32]. This behavior is deprecated, and in a future PyTorch release outputs will not be resized \n",
       "unless they have zero elements. You can explicitly reuse an out tensor t by resizing it, inplace, to zero elements \n",
       "with t.resize_(0). (Triggered internally at \n",
       "/opt/conda/conda-bld/pytorch_1695392035891/work/aten/src/ATen/native/Resize.cpp:28.)\n",
       "  Variable._execution_engine.run_backward(  # Calls into the C++ engine to run the backward pass\n"
      ]
     },
     "metadata": {},
     "output_type": "display_data"
    },
    {
     "data": {
      "text/html": [
       "<pre style=\"white-space:pre;overflow-x:auto;line-height:normal;font-family:Menlo,'DejaVu Sans Mono',consolas,'Courier New',monospace\">/home/zekai/miniconda3/envs/eq/lib/python3.11/site-packages/torch/autograd/__init__.py:251: UserWarning: An output \n",
       "with one or more elements was resized since it had shape [1, 256, 1], which does not match the required output \n",
       "shape [1, 256, 32]. This behavior is deprecated, and in a future PyTorch release outputs will not be resized unless\n",
       "they have zero elements. You can explicitly reuse an out tensor t by resizing it, inplace, to zero elements with \n",
       "t.resize_(0). (Triggered internally at \n",
       "/opt/conda/conda-bld/pytorch_1695392035891/work/aten/src/ATen/native/Resize.cpp:28.)\n",
       "  Variable._execution_engine.run_backward(  # Calls into the C++ engine to run the backward pass\n",
       "</pre>\n"
      ],
      "text/plain": [
       "/home/zekai/miniconda3/envs/eq/lib/python3.11/site-packages/torch/autograd/__init__.py:251: UserWarning: An output \n",
       "with one or more elements was resized since it had shape [1, 256, 1], which does not match the required output \n",
       "shape [1, 256, 32]. This behavior is deprecated, and in a future PyTorch release outputs will not be resized unless\n",
       "they have zero elements. You can explicitly reuse an out tensor t by resizing it, inplace, to zero elements with \n",
       "t.resize_(0). (Triggered internally at \n",
       "/opt/conda/conda-bld/pytorch_1695392035891/work/aten/src/ATen/native/Resize.cpp:28.)\n",
       "  Variable._execution_engine.run_backward(  # Calls into the C++ engine to run the backward pass\n"
      ]
     },
     "metadata": {},
     "output_type": "display_data"
    },
    {
     "data": {
      "text/html": [
       "<pre style=\"white-space:pre;overflow-x:auto;line-height:normal;font-family:Menlo,'DejaVu Sans Mono',consolas,'Courier New',monospace\">/home/zekai/miniconda3/envs/eq/lib/python3.11/site-packages/torch/autograd/__init__.py:251: UserWarning: An output \n",
       "with one or more elements was resized since it had shape [1, 20, 1], which does not match the required output shape\n",
       "[1, 20, 32]. This behavior is deprecated, and in a future PyTorch release outputs will not be resized unless they \n",
       "have zero elements. You can explicitly reuse an out tensor t by resizing it, inplace, to zero elements with \n",
       "t.resize_(0). (Triggered internally at \n",
       "/opt/conda/conda-bld/pytorch_1695392035891/work/aten/src/ATen/native/Resize.cpp:28.)\n",
       "  Variable._execution_engine.run_backward(  # Calls into the C++ engine to run the backward pass\n",
       "</pre>\n"
      ],
      "text/plain": [
       "/home/zekai/miniconda3/envs/eq/lib/python3.11/site-packages/torch/autograd/__init__.py:251: UserWarning: An output \n",
       "with one or more elements was resized since it had shape [1, 20, 1], which does not match the required output shape\n",
       "[1, 20, 32]. This behavior is deprecated, and in a future PyTorch release outputs will not be resized unless they \n",
       "have zero elements. You can explicitly reuse an out tensor t by resizing it, inplace, to zero elements with \n",
       "t.resize_(0). (Triggered internally at \n",
       "/opt/conda/conda-bld/pytorch_1695392035891/work/aten/src/ATen/native/Resize.cpp:28.)\n",
       "  Variable._execution_engine.run_backward(  # Calls into the C++ engine to run the backward pass\n"
      ]
     },
     "metadata": {},
     "output_type": "display_data"
    },
    {
     "data": {
      "text/html": [
       "<pre style=\"white-space:pre;overflow-x:auto;line-height:normal;font-family:Menlo,'DejaVu Sans Mono',consolas,'Courier New',monospace\">/home/zekai/miniconda3/envs/eq/lib/python3.11/site-packages/torch/autograd/__init__.py:251: UserWarning: An output \n",
       "with one or more elements was resized since it had shape [1, 893, 1], which does not match the required output \n",
       "shape [1, 893, 32]. This behavior is deprecated, and in a future PyTorch release outputs will not be resized unless\n",
       "they have zero elements. You can explicitly reuse an out tensor t by resizing it, inplace, to zero elements with \n",
       "t.resize_(0). (Triggered internally at \n",
       "/opt/conda/conda-bld/pytorch_1695392035891/work/aten/src/ATen/native/Resize.cpp:28.)\n",
       "  Variable._execution_engine.run_backward(  # Calls into the C++ engine to run the backward pass\n",
       "</pre>\n"
      ],
      "text/plain": [
       "/home/zekai/miniconda3/envs/eq/lib/python3.11/site-packages/torch/autograd/__init__.py:251: UserWarning: An output \n",
       "with one or more elements was resized since it had shape [1, 893, 1], which does not match the required output \n",
       "shape [1, 893, 32]. This behavior is deprecated, and in a future PyTorch release outputs will not be resized unless\n",
       "they have zero elements. You can explicitly reuse an out tensor t by resizing it, inplace, to zero elements with \n",
       "t.resize_(0). (Triggered internally at \n",
       "/opt/conda/conda-bld/pytorch_1695392035891/work/aten/src/ATen/native/Resize.cpp:28.)\n",
       "  Variable._execution_engine.run_backward(  # Calls into the C++ engine to run the backward pass\n"
      ]
     },
     "metadata": {},
     "output_type": "display_data"
    },
    {
     "data": {
      "text/html": [
       "<pre style=\"white-space:pre;overflow-x:auto;line-height:normal;font-family:Menlo,'DejaVu Sans Mono',consolas,'Courier New',monospace\">/home/zekai/miniconda3/envs/eq/lib/python3.11/site-packages/torch/autograd/__init__.py:251: UserWarning: An output \n",
       "with one or more elements was resized since it had shape [1, 858, 1], which does not match the required output \n",
       "shape [1, 858, 32]. This behavior is deprecated, and in a future PyTorch release outputs will not be resized unless\n",
       "they have zero elements. You can explicitly reuse an out tensor t by resizing it, inplace, to zero elements with \n",
       "t.resize_(0). (Triggered internally at \n",
       "/opt/conda/conda-bld/pytorch_1695392035891/work/aten/src/ATen/native/Resize.cpp:28.)\n",
       "  Variable._execution_engine.run_backward(  # Calls into the C++ engine to run the backward pass\n",
       "</pre>\n"
      ],
      "text/plain": [
       "/home/zekai/miniconda3/envs/eq/lib/python3.11/site-packages/torch/autograd/__init__.py:251: UserWarning: An output \n",
       "with one or more elements was resized since it had shape [1, 858, 1], which does not match the required output \n",
       "shape [1, 858, 32]. This behavior is deprecated, and in a future PyTorch release outputs will not be resized unless\n",
       "they have zero elements. You can explicitly reuse an out tensor t by resizing it, inplace, to zero elements with \n",
       "t.resize_(0). (Triggered internally at \n",
       "/opt/conda/conda-bld/pytorch_1695392035891/work/aten/src/ATen/native/Resize.cpp:28.)\n",
       "  Variable._execution_engine.run_backward(  # Calls into the C++ engine to run the backward pass\n"
      ]
     },
     "metadata": {},
     "output_type": "display_data"
    },
    {
     "data": {
      "text/html": [
       "<pre style=\"white-space:pre;overflow-x:auto;line-height:normal;font-family:Menlo,'DejaVu Sans Mono',consolas,'Courier New',monospace\">/home/zekai/miniconda3/envs/eq/lib/python3.11/site-packages/torch/autograd/__init__.py:251: UserWarning: An output \n",
       "with one or more elements was resized since it had shape [1, 586, 1], which does not match the required output \n",
       "shape [1, 586, 32]. This behavior is deprecated, and in a future PyTorch release outputs will not be resized unless\n",
       "they have zero elements. You can explicitly reuse an out tensor t by resizing it, inplace, to zero elements with \n",
       "t.resize_(0). (Triggered internally at \n",
       "/opt/conda/conda-bld/pytorch_1695392035891/work/aten/src/ATen/native/Resize.cpp:28.)\n",
       "  Variable._execution_engine.run_backward(  # Calls into the C++ engine to run the backward pass\n",
       "</pre>\n"
      ],
      "text/plain": [
       "/home/zekai/miniconda3/envs/eq/lib/python3.11/site-packages/torch/autograd/__init__.py:251: UserWarning: An output \n",
       "with one or more elements was resized since it had shape [1, 586, 1], which does not match the required output \n",
       "shape [1, 586, 32]. This behavior is deprecated, and in a future PyTorch release outputs will not be resized unless\n",
       "they have zero elements. You can explicitly reuse an out tensor t by resizing it, inplace, to zero elements with \n",
       "t.resize_(0). (Triggered internally at \n",
       "/opt/conda/conda-bld/pytorch_1695392035891/work/aten/src/ATen/native/Resize.cpp:28.)\n",
       "  Variable._execution_engine.run_backward(  # Calls into the C++ engine to run the backward pass\n"
      ]
     },
     "metadata": {},
     "output_type": "display_data"
    },
    {
     "data": {
      "text/html": [
       "<pre style=\"white-space:pre;overflow-x:auto;line-height:normal;font-family:Menlo,'DejaVu Sans Mono',consolas,'Courier New',monospace\">/home/zekai/miniconda3/envs/eq/lib/python3.11/site-packages/torch/autograd/__init__.py:251: UserWarning: An output \n",
       "with one or more elements was resized since it had shape [1, 443, 1], which does not match the required output \n",
       "shape [1, 443, 32]. This behavior is deprecated, and in a future PyTorch release outputs will not be resized unless\n",
       "they have zero elements. You can explicitly reuse an out tensor t by resizing it, inplace, to zero elements with \n",
       "t.resize_(0). (Triggered internally at \n",
       "/opt/conda/conda-bld/pytorch_1695392035891/work/aten/src/ATen/native/Resize.cpp:28.)\n",
       "  Variable._execution_engine.run_backward(  # Calls into the C++ engine to run the backward pass\n",
       "</pre>\n"
      ],
      "text/plain": [
       "/home/zekai/miniconda3/envs/eq/lib/python3.11/site-packages/torch/autograd/__init__.py:251: UserWarning: An output \n",
       "with one or more elements was resized since it had shape [1, 443, 1], which does not match the required output \n",
       "shape [1, 443, 32]. This behavior is deprecated, and in a future PyTorch release outputs will not be resized unless\n",
       "they have zero elements. You can explicitly reuse an out tensor t by resizing it, inplace, to zero elements with \n",
       "t.resize_(0). (Triggered internally at \n",
       "/opt/conda/conda-bld/pytorch_1695392035891/work/aten/src/ATen/native/Resize.cpp:28.)\n",
       "  Variable._execution_engine.run_backward(  # Calls into the C++ engine to run the backward pass\n"
      ]
     },
     "metadata": {},
     "output_type": "display_data"
    },
    {
     "data": {
      "text/html": [
       "<pre style=\"white-space:pre;overflow-x:auto;line-height:normal;font-family:Menlo,'DejaVu Sans Mono',consolas,'Courier New',monospace\">/home/zekai/miniconda3/envs/eq/lib/python3.11/site-packages/torch/autograd/__init__.py:251: UserWarning: An output \n",
       "with one or more elements was resized since it had shape [1, 643, 1], which does not match the required output \n",
       "shape [1, 643, 32]. This behavior is deprecated, and in a future PyTorch release outputs will not be resized unless\n",
       "they have zero elements. You can explicitly reuse an out tensor t by resizing it, inplace, to zero elements with \n",
       "t.resize_(0). (Triggered internally at \n",
       "/opt/conda/conda-bld/pytorch_1695392035891/work/aten/src/ATen/native/Resize.cpp:28.)\n",
       "  Variable._execution_engine.run_backward(  # Calls into the C++ engine to run the backward pass\n",
       "</pre>\n"
      ],
      "text/plain": [
       "/home/zekai/miniconda3/envs/eq/lib/python3.11/site-packages/torch/autograd/__init__.py:251: UserWarning: An output \n",
       "with one or more elements was resized since it had shape [1, 643, 1], which does not match the required output \n",
       "shape [1, 643, 32]. This behavior is deprecated, and in a future PyTorch release outputs will not be resized unless\n",
       "they have zero elements. You can explicitly reuse an out tensor t by resizing it, inplace, to zero elements with \n",
       "t.resize_(0). (Triggered internally at \n",
       "/opt/conda/conda-bld/pytorch_1695392035891/work/aten/src/ATen/native/Resize.cpp:28.)\n",
       "  Variable._execution_engine.run_backward(  # Calls into the C++ engine to run the backward pass\n"
      ]
     },
     "metadata": {},
     "output_type": "display_data"
    },
    {
     "data": {
      "text/html": [
       "<pre style=\"white-space:pre;overflow-x:auto;line-height:normal;font-family:Menlo,'DejaVu Sans Mono',consolas,'Courier New',monospace\">/home/zekai/miniconda3/envs/eq/lib/python3.11/site-packages/torch/autograd/__init__.py:251: UserWarning: An output \n",
       "with one or more elements was resized since it had shape [1, 67, 1], which does not match the required output shape\n",
       "[1, 67, 32]. This behavior is deprecated, and in a future PyTorch release outputs will not be resized unless they \n",
       "have zero elements. You can explicitly reuse an out tensor t by resizing it, inplace, to zero elements with \n",
       "t.resize_(0). (Triggered internally at \n",
       "/opt/conda/conda-bld/pytorch_1695392035891/work/aten/src/ATen/native/Resize.cpp:28.)\n",
       "  Variable._execution_engine.run_backward(  # Calls into the C++ engine to run the backward pass\n",
       "</pre>\n"
      ],
      "text/plain": [
       "/home/zekai/miniconda3/envs/eq/lib/python3.11/site-packages/torch/autograd/__init__.py:251: UserWarning: An output \n",
       "with one or more elements was resized since it had shape [1, 67, 1], which does not match the required output shape\n",
       "[1, 67, 32]. This behavior is deprecated, and in a future PyTorch release outputs will not be resized unless they \n",
       "have zero elements. You can explicitly reuse an out tensor t by resizing it, inplace, to zero elements with \n",
       "t.resize_(0). (Triggered internally at \n",
       "/opt/conda/conda-bld/pytorch_1695392035891/work/aten/src/ATen/native/Resize.cpp:28.)\n",
       "  Variable._execution_engine.run_backward(  # Calls into the C++ engine to run the backward pass\n"
      ]
     },
     "metadata": {},
     "output_type": "display_data"
    },
    {
     "data": {
      "text/html": [
       "<pre style=\"white-space:pre;overflow-x:auto;line-height:normal;font-family:Menlo,'DejaVu Sans Mono',consolas,'Courier New',monospace\">/home/zekai/miniconda3/envs/eq/lib/python3.11/site-packages/torch/autograd/__init__.py:251: UserWarning: An output \n",
       "with one or more elements was resized since it had shape [1, 356, 1], which does not match the required output \n",
       "shape [1, 356, 32]. This behavior is deprecated, and in a future PyTorch release outputs will not be resized unless\n",
       "they have zero elements. You can explicitly reuse an out tensor t by resizing it, inplace, to zero elements with \n",
       "t.resize_(0). (Triggered internally at \n",
       "/opt/conda/conda-bld/pytorch_1695392035891/work/aten/src/ATen/native/Resize.cpp:28.)\n",
       "  Variable._execution_engine.run_backward(  # Calls into the C++ engine to run the backward pass\n",
       "</pre>\n"
      ],
      "text/plain": [
       "/home/zekai/miniconda3/envs/eq/lib/python3.11/site-packages/torch/autograd/__init__.py:251: UserWarning: An output \n",
       "with one or more elements was resized since it had shape [1, 356, 1], which does not match the required output \n",
       "shape [1, 356, 32]. This behavior is deprecated, and in a future PyTorch release outputs will not be resized unless\n",
       "they have zero elements. You can explicitly reuse an out tensor t by resizing it, inplace, to zero elements with \n",
       "t.resize_(0). (Triggered internally at \n",
       "/opt/conda/conda-bld/pytorch_1695392035891/work/aten/src/ATen/native/Resize.cpp:28.)\n",
       "  Variable._execution_engine.run_backward(  # Calls into the C++ engine to run the backward pass\n"
      ]
     },
     "metadata": {},
     "output_type": "display_data"
    },
    {
     "data": {
      "text/html": [
       "<pre style=\"white-space:pre;overflow-x:auto;line-height:normal;font-family:Menlo,'DejaVu Sans Mono',consolas,'Courier New',monospace\">/home/zekai/miniconda3/envs/eq/lib/python3.11/site-packages/torch/autograd/__init__.py:251: UserWarning: An output \n",
       "with one or more elements was resized since it had shape [1, 498, 1], which does not match the required output \n",
       "shape [1, 498, 32]. This behavior is deprecated, and in a future PyTorch release outputs will not be resized unless\n",
       "they have zero elements. You can explicitly reuse an out tensor t by resizing it, inplace, to zero elements with \n",
       "t.resize_(0). (Triggered internally at \n",
       "/opt/conda/conda-bld/pytorch_1695392035891/work/aten/src/ATen/native/Resize.cpp:28.)\n",
       "  Variable._execution_engine.run_backward(  # Calls into the C++ engine to run the backward pass\n",
       "</pre>\n"
      ],
      "text/plain": [
       "/home/zekai/miniconda3/envs/eq/lib/python3.11/site-packages/torch/autograd/__init__.py:251: UserWarning: An output \n",
       "with one or more elements was resized since it had shape [1, 498, 1], which does not match the required output \n",
       "shape [1, 498, 32]. This behavior is deprecated, and in a future PyTorch release outputs will not be resized unless\n",
       "they have zero elements. You can explicitly reuse an out tensor t by resizing it, inplace, to zero elements with \n",
       "t.resize_(0). (Triggered internally at \n",
       "/opt/conda/conda-bld/pytorch_1695392035891/work/aten/src/ATen/native/Resize.cpp:28.)\n",
       "  Variable._execution_engine.run_backward(  # Calls into the C++ engine to run the backward pass\n"
      ]
     },
     "metadata": {},
     "output_type": "display_data"
    },
    {
     "data": {
      "text/html": [
       "<pre style=\"white-space:pre;overflow-x:auto;line-height:normal;font-family:Menlo,'DejaVu Sans Mono',consolas,'Courier New',monospace\">/home/zekai/miniconda3/envs/eq/lib/python3.11/site-packages/torch/autograd/__init__.py:251: UserWarning: An output \n",
       "with one or more elements was resized since it had shape [1, 565, 1], which does not match the required output \n",
       "shape [1, 565, 32]. This behavior is deprecated, and in a future PyTorch release outputs will not be resized unless\n",
       "they have zero elements. You can explicitly reuse an out tensor t by resizing it, inplace, to zero elements with \n",
       "t.resize_(0). (Triggered internally at \n",
       "/opt/conda/conda-bld/pytorch_1695392035891/work/aten/src/ATen/native/Resize.cpp:28.)\n",
       "  Variable._execution_engine.run_backward(  # Calls into the C++ engine to run the backward pass\n",
       "</pre>\n"
      ],
      "text/plain": [
       "/home/zekai/miniconda3/envs/eq/lib/python3.11/site-packages/torch/autograd/__init__.py:251: UserWarning: An output \n",
       "with one or more elements was resized since it had shape [1, 565, 1], which does not match the required output \n",
       "shape [1, 565, 32]. This behavior is deprecated, and in a future PyTorch release outputs will not be resized unless\n",
       "they have zero elements. You can explicitly reuse an out tensor t by resizing it, inplace, to zero elements with \n",
       "t.resize_(0). (Triggered internally at \n",
       "/opt/conda/conda-bld/pytorch_1695392035891/work/aten/src/ATen/native/Resize.cpp:28.)\n",
       "  Variable._execution_engine.run_backward(  # Calls into the C++ engine to run the backward pass\n"
      ]
     },
     "metadata": {},
     "output_type": "display_data"
    },
    {
     "data": {
      "text/html": [
       "<pre style=\"white-space:pre;overflow-x:auto;line-height:normal;font-family:Menlo,'DejaVu Sans Mono',consolas,'Courier New',monospace\">/home/zekai/miniconda3/envs/eq/lib/python3.11/site-packages/torch/autograd/__init__.py:251: UserWarning: An output \n",
       "with one or more elements was resized since it had shape [1, 909, 1], which does not match the required output \n",
       "shape [1, 909, 32]. This behavior is deprecated, and in a future PyTorch release outputs will not be resized unless\n",
       "they have zero elements. You can explicitly reuse an out tensor t by resizing it, inplace, to zero elements with \n",
       "t.resize_(0). (Triggered internally at \n",
       "/opt/conda/conda-bld/pytorch_1695392035891/work/aten/src/ATen/native/Resize.cpp:28.)\n",
       "  Variable._execution_engine.run_backward(  # Calls into the C++ engine to run the backward pass\n",
       "</pre>\n"
      ],
      "text/plain": [
       "/home/zekai/miniconda3/envs/eq/lib/python3.11/site-packages/torch/autograd/__init__.py:251: UserWarning: An output \n",
       "with one or more elements was resized since it had shape [1, 909, 1], which does not match the required output \n",
       "shape [1, 909, 32]. This behavior is deprecated, and in a future PyTorch release outputs will not be resized unless\n",
       "they have zero elements. You can explicitly reuse an out tensor t by resizing it, inplace, to zero elements with \n",
       "t.resize_(0). (Triggered internally at \n",
       "/opt/conda/conda-bld/pytorch_1695392035891/work/aten/src/ATen/native/Resize.cpp:28.)\n",
       "  Variable._execution_engine.run_backward(  # Calls into the C++ engine to run the backward pass\n"
      ]
     },
     "metadata": {},
     "output_type": "display_data"
    },
    {
     "data": {
      "text/html": [
       "<pre style=\"white-space:pre;overflow-x:auto;line-height:normal;font-family:Menlo,'DejaVu Sans Mono',consolas,'Courier New',monospace\">/home/zekai/miniconda3/envs/eq/lib/python3.11/site-packages/torch/autograd/__init__.py:251: UserWarning: An output \n",
       "with one or more elements was resized since it had shape [1, 301, 1], which does not match the required output \n",
       "shape [1, 301, 32]. This behavior is deprecated, and in a future PyTorch release outputs will not be resized unless\n",
       "they have zero elements. You can explicitly reuse an out tensor t by resizing it, inplace, to zero elements with \n",
       "t.resize_(0). (Triggered internally at \n",
       "/opt/conda/conda-bld/pytorch_1695392035891/work/aten/src/ATen/native/Resize.cpp:28.)\n",
       "  Variable._execution_engine.run_backward(  # Calls into the C++ engine to run the backward pass\n",
       "</pre>\n"
      ],
      "text/plain": [
       "/home/zekai/miniconda3/envs/eq/lib/python3.11/site-packages/torch/autograd/__init__.py:251: UserWarning: An output \n",
       "with one or more elements was resized since it had shape [1, 301, 1], which does not match the required output \n",
       "shape [1, 301, 32]. This behavior is deprecated, and in a future PyTorch release outputs will not be resized unless\n",
       "they have zero elements. You can explicitly reuse an out tensor t by resizing it, inplace, to zero elements with \n",
       "t.resize_(0). (Triggered internally at \n",
       "/opt/conda/conda-bld/pytorch_1695392035891/work/aten/src/ATen/native/Resize.cpp:28.)\n",
       "  Variable._execution_engine.run_backward(  # Calls into the C++ engine to run the backward pass\n"
      ]
     },
     "metadata": {},
     "output_type": "display_data"
    },
    {
     "data": {
      "text/html": [
       "<pre style=\"white-space:pre;overflow-x:auto;line-height:normal;font-family:Menlo,'DejaVu Sans Mono',consolas,'Courier New',monospace\">/home/zekai/miniconda3/envs/eq/lib/python3.11/site-packages/torch/autograd/__init__.py:251: UserWarning: An output \n",
       "with one or more elements was resized since it had shape [1, 1539, 1], which does not match the required output \n",
       "shape [1, 1539, 32]. This behavior is deprecated, and in a future PyTorch release outputs will not be resized \n",
       "unless they have zero elements. You can explicitly reuse an out tensor t by resizing it, inplace, to zero elements \n",
       "with t.resize_(0). (Triggered internally at \n",
       "/opt/conda/conda-bld/pytorch_1695392035891/work/aten/src/ATen/native/Resize.cpp:28.)\n",
       "  Variable._execution_engine.run_backward(  # Calls into the C++ engine to run the backward pass\n",
       "</pre>\n"
      ],
      "text/plain": [
       "/home/zekai/miniconda3/envs/eq/lib/python3.11/site-packages/torch/autograd/__init__.py:251: UserWarning: An output \n",
       "with one or more elements was resized since it had shape [1, 1539, 1], which does not match the required output \n",
       "shape [1, 1539, 32]. This behavior is deprecated, and in a future PyTorch release outputs will not be resized \n",
       "unless they have zero elements. You can explicitly reuse an out tensor t by resizing it, inplace, to zero elements \n",
       "with t.resize_(0). (Triggered internally at \n",
       "/opt/conda/conda-bld/pytorch_1695392035891/work/aten/src/ATen/native/Resize.cpp:28.)\n",
       "  Variable._execution_engine.run_backward(  # Calls into the C++ engine to run the backward pass\n"
      ]
     },
     "metadata": {},
     "output_type": "display_data"
    },
    {
     "data": {
      "text/html": [
       "<pre style=\"white-space:pre;overflow-x:auto;line-height:normal;font-family:Menlo,'DejaVu Sans Mono',consolas,'Courier New',monospace\">/home/zekai/miniconda3/envs/eq/lib/python3.11/site-packages/torch/autograd/__init__.py:251: UserWarning: An output \n",
       "with one or more elements was resized since it had shape [1, 359, 1], which does not match the required output \n",
       "shape [1, 359, 32]. This behavior is deprecated, and in a future PyTorch release outputs will not be resized unless\n",
       "they have zero elements. You can explicitly reuse an out tensor t by resizing it, inplace, to zero elements with \n",
       "t.resize_(0). (Triggered internally at \n",
       "/opt/conda/conda-bld/pytorch_1695392035891/work/aten/src/ATen/native/Resize.cpp:28.)\n",
       "  Variable._execution_engine.run_backward(  # Calls into the C++ engine to run the backward pass\n",
       "</pre>\n"
      ],
      "text/plain": [
       "/home/zekai/miniconda3/envs/eq/lib/python3.11/site-packages/torch/autograd/__init__.py:251: UserWarning: An output \n",
       "with one or more elements was resized since it had shape [1, 359, 1], which does not match the required output \n",
       "shape [1, 359, 32]. This behavior is deprecated, and in a future PyTorch release outputs will not be resized unless\n",
       "they have zero elements. You can explicitly reuse an out tensor t by resizing it, inplace, to zero elements with \n",
       "t.resize_(0). (Triggered internally at \n",
       "/opt/conda/conda-bld/pytorch_1695392035891/work/aten/src/ATen/native/Resize.cpp:28.)\n",
       "  Variable._execution_engine.run_backward(  # Calls into the C++ engine to run the backward pass\n"
      ]
     },
     "metadata": {},
     "output_type": "display_data"
    },
    {
     "data": {
      "text/html": [
       "<pre style=\"white-space:pre;overflow-x:auto;line-height:normal;font-family:Menlo,'DejaVu Sans Mono',consolas,'Courier New',monospace\">/home/zekai/miniconda3/envs/eq/lib/python3.11/site-packages/torch/autograd/__init__.py:251: UserWarning: An output \n",
       "with one or more elements was resized since it had shape [1, 18, 1], which does not match the required output shape\n",
       "[1, 18, 32]. This behavior is deprecated, and in a future PyTorch release outputs will not be resized unless they \n",
       "have zero elements. You can explicitly reuse an out tensor t by resizing it, inplace, to zero elements with \n",
       "t.resize_(0). (Triggered internally at \n",
       "/opt/conda/conda-bld/pytorch_1695392035891/work/aten/src/ATen/native/Resize.cpp:28.)\n",
       "  Variable._execution_engine.run_backward(  # Calls into the C++ engine to run the backward pass\n",
       "</pre>\n"
      ],
      "text/plain": [
       "/home/zekai/miniconda3/envs/eq/lib/python3.11/site-packages/torch/autograd/__init__.py:251: UserWarning: An output \n",
       "with one or more elements was resized since it had shape [1, 18, 1], which does not match the required output shape\n",
       "[1, 18, 32]. This behavior is deprecated, and in a future PyTorch release outputs will not be resized unless they \n",
       "have zero elements. You can explicitly reuse an out tensor t by resizing it, inplace, to zero elements with \n",
       "t.resize_(0). (Triggered internally at \n",
       "/opt/conda/conda-bld/pytorch_1695392035891/work/aten/src/ATen/native/Resize.cpp:28.)\n",
       "  Variable._execution_engine.run_backward(  # Calls into the C++ engine to run the backward pass\n"
      ]
     },
     "metadata": {},
     "output_type": "display_data"
    },
    {
     "data": {
      "text/html": [
       "<pre style=\"white-space:pre;overflow-x:auto;line-height:normal;font-family:Menlo,'DejaVu Sans Mono',consolas,'Courier New',monospace\">/home/zekai/miniconda3/envs/eq/lib/python3.11/site-packages/torch/autograd/__init__.py:251: UserWarning: An output \n",
       "with one or more elements was resized since it had shape [1, 50, 1], which does not match the required output shape\n",
       "[1, 50, 32]. This behavior is deprecated, and in a future PyTorch release outputs will not be resized unless they \n",
       "have zero elements. You can explicitly reuse an out tensor t by resizing it, inplace, to zero elements with \n",
       "t.resize_(0). (Triggered internally at \n",
       "/opt/conda/conda-bld/pytorch_1695392035891/work/aten/src/ATen/native/Resize.cpp:28.)\n",
       "  Variable._execution_engine.run_backward(  # Calls into the C++ engine to run the backward pass\n",
       "</pre>\n"
      ],
      "text/plain": [
       "/home/zekai/miniconda3/envs/eq/lib/python3.11/site-packages/torch/autograd/__init__.py:251: UserWarning: An output \n",
       "with one or more elements was resized since it had shape [1, 50, 1], which does not match the required output shape\n",
       "[1, 50, 32]. This behavior is deprecated, and in a future PyTorch release outputs will not be resized unless they \n",
       "have zero elements. You can explicitly reuse an out tensor t by resizing it, inplace, to zero elements with \n",
       "t.resize_(0). (Triggered internally at \n",
       "/opt/conda/conda-bld/pytorch_1695392035891/work/aten/src/ATen/native/Resize.cpp:28.)\n",
       "  Variable._execution_engine.run_backward(  # Calls into the C++ engine to run the backward pass\n"
      ]
     },
     "metadata": {},
     "output_type": "display_data"
    },
    {
     "data": {
      "text/html": [
       "<pre style=\"white-space:pre;overflow-x:auto;line-height:normal;font-family:Menlo,'DejaVu Sans Mono',consolas,'Courier New',monospace\">/home/zekai/miniconda3/envs/eq/lib/python3.11/site-packages/torch/autograd/__init__.py:251: UserWarning: An output \n",
       "with one or more elements was resized since it had shape [1, 857, 1], which does not match the required output \n",
       "shape [1, 857, 32]. This behavior is deprecated, and in a future PyTorch release outputs will not be resized unless\n",
       "they have zero elements. You can explicitly reuse an out tensor t by resizing it, inplace, to zero elements with \n",
       "t.resize_(0). (Triggered internally at \n",
       "/opt/conda/conda-bld/pytorch_1695392035891/work/aten/src/ATen/native/Resize.cpp:28.)\n",
       "  Variable._execution_engine.run_backward(  # Calls into the C++ engine to run the backward pass\n",
       "</pre>\n"
      ],
      "text/plain": [
       "/home/zekai/miniconda3/envs/eq/lib/python3.11/site-packages/torch/autograd/__init__.py:251: UserWarning: An output \n",
       "with one or more elements was resized since it had shape [1, 857, 1], which does not match the required output \n",
       "shape [1, 857, 32]. This behavior is deprecated, and in a future PyTorch release outputs will not be resized unless\n",
       "they have zero elements. You can explicitly reuse an out tensor t by resizing it, inplace, to zero elements with \n",
       "t.resize_(0). (Triggered internally at \n",
       "/opt/conda/conda-bld/pytorch_1695392035891/work/aten/src/ATen/native/Resize.cpp:28.)\n",
       "  Variable._execution_engine.run_backward(  # Calls into the C++ engine to run the backward pass\n"
      ]
     },
     "metadata": {},
     "output_type": "display_data"
    },
    {
     "data": {
      "text/html": [
       "<pre style=\"white-space:pre;overflow-x:auto;line-height:normal;font-family:Menlo,'DejaVu Sans Mono',consolas,'Courier New',monospace\">/home/zekai/miniconda3/envs/eq/lib/python3.11/site-packages/torch/autograd/__init__.py:251: UserWarning: An output \n",
       "with one or more elements was resized since it had shape [1, 1032, 1], which does not match the required output \n",
       "shape [1, 1032, 32]. This behavior is deprecated, and in a future PyTorch release outputs will not be resized \n",
       "unless they have zero elements. You can explicitly reuse an out tensor t by resizing it, inplace, to zero elements \n",
       "with t.resize_(0). (Triggered internally at \n",
       "/opt/conda/conda-bld/pytorch_1695392035891/work/aten/src/ATen/native/Resize.cpp:28.)\n",
       "  Variable._execution_engine.run_backward(  # Calls into the C++ engine to run the backward pass\n",
       "</pre>\n"
      ],
      "text/plain": [
       "/home/zekai/miniconda3/envs/eq/lib/python3.11/site-packages/torch/autograd/__init__.py:251: UserWarning: An output \n",
       "with one or more elements was resized since it had shape [1, 1032, 1], which does not match the required output \n",
       "shape [1, 1032, 32]. This behavior is deprecated, and in a future PyTorch release outputs will not be resized \n",
       "unless they have zero elements. You can explicitly reuse an out tensor t by resizing it, inplace, to zero elements \n",
       "with t.resize_(0). (Triggered internally at \n",
       "/opt/conda/conda-bld/pytorch_1695392035891/work/aten/src/ATen/native/Resize.cpp:28.)\n",
       "  Variable._execution_engine.run_backward(  # Calls into the C++ engine to run the backward pass\n"
      ]
     },
     "metadata": {},
     "output_type": "display_data"
    },
    {
     "data": {
      "text/html": [
       "<pre style=\"white-space:pre;overflow-x:auto;line-height:normal;font-family:Menlo,'DejaVu Sans Mono',consolas,'Courier New',monospace\">/home/zekai/miniconda3/envs/eq/lib/python3.11/site-packages/torch/autograd/__init__.py:251: UserWarning: An output \n",
       "with one or more elements was resized since it had shape [1, 474, 1], which does not match the required output \n",
       "shape [1, 474, 32]. This behavior is deprecated, and in a future PyTorch release outputs will not be resized unless\n",
       "they have zero elements. You can explicitly reuse an out tensor t by resizing it, inplace, to zero elements with \n",
       "t.resize_(0). (Triggered internally at \n",
       "/opt/conda/conda-bld/pytorch_1695392035891/work/aten/src/ATen/native/Resize.cpp:28.)\n",
       "  Variable._execution_engine.run_backward(  # Calls into the C++ engine to run the backward pass\n",
       "</pre>\n"
      ],
      "text/plain": [
       "/home/zekai/miniconda3/envs/eq/lib/python3.11/site-packages/torch/autograd/__init__.py:251: UserWarning: An output \n",
       "with one or more elements was resized since it had shape [1, 474, 1], which does not match the required output \n",
       "shape [1, 474, 32]. This behavior is deprecated, and in a future PyTorch release outputs will not be resized unless\n",
       "they have zero elements. You can explicitly reuse an out tensor t by resizing it, inplace, to zero elements with \n",
       "t.resize_(0). (Triggered internally at \n",
       "/opt/conda/conda-bld/pytorch_1695392035891/work/aten/src/ATen/native/Resize.cpp:28.)\n",
       "  Variable._execution_engine.run_backward(  # Calls into the C++ engine to run the backward pass\n"
      ]
     },
     "metadata": {},
     "output_type": "display_data"
    },
    {
     "data": {
      "text/html": [
       "<pre style=\"white-space:pre;overflow-x:auto;line-height:normal;font-family:Menlo,'DejaVu Sans Mono',consolas,'Courier New',monospace\">/home/zekai/miniconda3/envs/eq/lib/python3.11/site-packages/torch/autograd/__init__.py:251: UserWarning: An output \n",
       "with one or more elements was resized since it had shape [1, 490, 1], which does not match the required output \n",
       "shape [1, 490, 32]. This behavior is deprecated, and in a future PyTorch release outputs will not be resized unless\n",
       "they have zero elements. You can explicitly reuse an out tensor t by resizing it, inplace, to zero elements with \n",
       "t.resize_(0). (Triggered internally at \n",
       "/opt/conda/conda-bld/pytorch_1695392035891/work/aten/src/ATen/native/Resize.cpp:28.)\n",
       "  Variable._execution_engine.run_backward(  # Calls into the C++ engine to run the backward pass\n",
       "</pre>\n"
      ],
      "text/plain": [
       "/home/zekai/miniconda3/envs/eq/lib/python3.11/site-packages/torch/autograd/__init__.py:251: UserWarning: An output \n",
       "with one or more elements was resized since it had shape [1, 490, 1], which does not match the required output \n",
       "shape [1, 490, 32]. This behavior is deprecated, and in a future PyTorch release outputs will not be resized unless\n",
       "they have zero elements. You can explicitly reuse an out tensor t by resizing it, inplace, to zero elements with \n",
       "t.resize_(0). (Triggered internally at \n",
       "/opt/conda/conda-bld/pytorch_1695392035891/work/aten/src/ATen/native/Resize.cpp:28.)\n",
       "  Variable._execution_engine.run_backward(  # Calls into the C++ engine to run the backward pass\n"
      ]
     },
     "metadata": {},
     "output_type": "display_data"
    },
    {
     "data": {
      "text/html": [
       "<pre style=\"white-space:pre;overflow-x:auto;line-height:normal;font-family:Menlo,'DejaVu Sans Mono',consolas,'Courier New',monospace\">/home/zekai/miniconda3/envs/eq/lib/python3.11/site-packages/torch/autograd/__init__.py:251: UserWarning: An output \n",
       "with one or more elements was resized since it had shape [1, 33, 1], which does not match the required output shape\n",
       "[1, 33, 32]. This behavior is deprecated, and in a future PyTorch release outputs will not be resized unless they \n",
       "have zero elements. You can explicitly reuse an out tensor t by resizing it, inplace, to zero elements with \n",
       "t.resize_(0). (Triggered internally at \n",
       "/opt/conda/conda-bld/pytorch_1695392035891/work/aten/src/ATen/native/Resize.cpp:28.)\n",
       "  Variable._execution_engine.run_backward(  # Calls into the C++ engine to run the backward pass\n",
       "</pre>\n"
      ],
      "text/plain": [
       "/home/zekai/miniconda3/envs/eq/lib/python3.11/site-packages/torch/autograd/__init__.py:251: UserWarning: An output \n",
       "with one or more elements was resized since it had shape [1, 33, 1], which does not match the required output shape\n",
       "[1, 33, 32]. This behavior is deprecated, and in a future PyTorch release outputs will not be resized unless they \n",
       "have zero elements. You can explicitly reuse an out tensor t by resizing it, inplace, to zero elements with \n",
       "t.resize_(0). (Triggered internally at \n",
       "/opt/conda/conda-bld/pytorch_1695392035891/work/aten/src/ATen/native/Resize.cpp:28.)\n",
       "  Variable._execution_engine.run_backward(  # Calls into the C++ engine to run the backward pass\n"
      ]
     },
     "metadata": {},
     "output_type": "display_data"
    },
    {
     "data": {
      "text/html": [
       "<pre style=\"white-space:pre;overflow-x:auto;line-height:normal;font-family:Menlo,'DejaVu Sans Mono',consolas,'Courier New',monospace\">/home/zekai/miniconda3/envs/eq/lib/python3.11/site-packages/torch/autograd/__init__.py:251: UserWarning: An output \n",
       "with one or more elements was resized since it had shape [1, 26, 1], which does not match the required output shape\n",
       "[1, 26, 32]. This behavior is deprecated, and in a future PyTorch release outputs will not be resized unless they \n",
       "have zero elements. You can explicitly reuse an out tensor t by resizing it, inplace, to zero elements with \n",
       "t.resize_(0). (Triggered internally at \n",
       "/opt/conda/conda-bld/pytorch_1695392035891/work/aten/src/ATen/native/Resize.cpp:28.)\n",
       "  Variable._execution_engine.run_backward(  # Calls into the C++ engine to run the backward pass\n",
       "</pre>\n"
      ],
      "text/plain": [
       "/home/zekai/miniconda3/envs/eq/lib/python3.11/site-packages/torch/autograd/__init__.py:251: UserWarning: An output \n",
       "with one or more elements was resized since it had shape [1, 26, 1], which does not match the required output shape\n",
       "[1, 26, 32]. This behavior is deprecated, and in a future PyTorch release outputs will not be resized unless they \n",
       "have zero elements. You can explicitly reuse an out tensor t by resizing it, inplace, to zero elements with \n",
       "t.resize_(0). (Triggered internally at \n",
       "/opt/conda/conda-bld/pytorch_1695392035891/work/aten/src/ATen/native/Resize.cpp:28.)\n",
       "  Variable._execution_engine.run_backward(  # Calls into the C++ engine to run the backward pass\n"
      ]
     },
     "metadata": {},
     "output_type": "display_data"
    },
    {
     "data": {
      "text/html": [
       "<pre style=\"white-space:pre;overflow-x:auto;line-height:normal;font-family:Menlo,'DejaVu Sans Mono',consolas,'Courier New',monospace\">/home/zekai/miniconda3/envs/eq/lib/python3.11/site-packages/torch/autograd/__init__.py:251: UserWarning: An output \n",
       "with one or more elements was resized since it had shape [1, 420, 1], which does not match the required output \n",
       "shape [1, 420, 32]. This behavior is deprecated, and in a future PyTorch release outputs will not be resized unless\n",
       "they have zero elements. You can explicitly reuse an out tensor t by resizing it, inplace, to zero elements with \n",
       "t.resize_(0). (Triggered internally at \n",
       "/opt/conda/conda-bld/pytorch_1695392035891/work/aten/src/ATen/native/Resize.cpp:28.)\n",
       "  Variable._execution_engine.run_backward(  # Calls into the C++ engine to run the backward pass\n",
       "</pre>\n"
      ],
      "text/plain": [
       "/home/zekai/miniconda3/envs/eq/lib/python3.11/site-packages/torch/autograd/__init__.py:251: UserWarning: An output \n",
       "with one or more elements was resized since it had shape [1, 420, 1], which does not match the required output \n",
       "shape [1, 420, 32]. This behavior is deprecated, and in a future PyTorch release outputs will not be resized unless\n",
       "they have zero elements. You can explicitly reuse an out tensor t by resizing it, inplace, to zero elements with \n",
       "t.resize_(0). (Triggered internally at \n",
       "/opt/conda/conda-bld/pytorch_1695392035891/work/aten/src/ATen/native/Resize.cpp:28.)\n",
       "  Variable._execution_engine.run_backward(  # Calls into the C++ engine to run the backward pass\n"
      ]
     },
     "metadata": {},
     "output_type": "display_data"
    },
    {
     "data": {
      "text/html": [
       "<pre style=\"white-space:pre;overflow-x:auto;line-height:normal;font-family:Menlo,'DejaVu Sans Mono',consolas,'Courier New',monospace\">/home/zekai/miniconda3/envs/eq/lib/python3.11/site-packages/torch/autograd/__init__.py:251: UserWarning: An output \n",
       "with one or more elements was resized since it had shape [1, 72, 1], which does not match the required output shape\n",
       "[1, 72, 32]. This behavior is deprecated, and in a future PyTorch release outputs will not be resized unless they \n",
       "have zero elements. You can explicitly reuse an out tensor t by resizing it, inplace, to zero elements with \n",
       "t.resize_(0). (Triggered internally at \n",
       "/opt/conda/conda-bld/pytorch_1695392035891/work/aten/src/ATen/native/Resize.cpp:28.)\n",
       "  Variable._execution_engine.run_backward(  # Calls into the C++ engine to run the backward pass\n",
       "</pre>\n"
      ],
      "text/plain": [
       "/home/zekai/miniconda3/envs/eq/lib/python3.11/site-packages/torch/autograd/__init__.py:251: UserWarning: An output \n",
       "with one or more elements was resized since it had shape [1, 72, 1], which does not match the required output shape\n",
       "[1, 72, 32]. This behavior is deprecated, and in a future PyTorch release outputs will not be resized unless they \n",
       "have zero elements. You can explicitly reuse an out tensor t by resizing it, inplace, to zero elements with \n",
       "t.resize_(0). (Triggered internally at \n",
       "/opt/conda/conda-bld/pytorch_1695392035891/work/aten/src/ATen/native/Resize.cpp:28.)\n",
       "  Variable._execution_engine.run_backward(  # Calls into the C++ engine to run the backward pass\n"
      ]
     },
     "metadata": {},
     "output_type": "display_data"
    },
    {
     "data": {
      "text/html": [
       "<pre style=\"white-space:pre;overflow-x:auto;line-height:normal;font-family:Menlo,'DejaVu Sans Mono',consolas,'Courier New',monospace\">/home/zekai/miniconda3/envs/eq/lib/python3.11/site-packages/torch/autograd/__init__.py:251: UserWarning: An output \n",
       "with one or more elements was resized since it had shape [1, 587, 1], which does not match the required output \n",
       "shape [1, 587, 32]. This behavior is deprecated, and in a future PyTorch release outputs will not be resized unless\n",
       "they have zero elements. You can explicitly reuse an out tensor t by resizing it, inplace, to zero elements with \n",
       "t.resize_(0). (Triggered internally at \n",
       "/opt/conda/conda-bld/pytorch_1695392035891/work/aten/src/ATen/native/Resize.cpp:28.)\n",
       "  Variable._execution_engine.run_backward(  # Calls into the C++ engine to run the backward pass\n",
       "</pre>\n"
      ],
      "text/plain": [
       "/home/zekai/miniconda3/envs/eq/lib/python3.11/site-packages/torch/autograd/__init__.py:251: UserWarning: An output \n",
       "with one or more elements was resized since it had shape [1, 587, 1], which does not match the required output \n",
       "shape [1, 587, 32]. This behavior is deprecated, and in a future PyTorch release outputs will not be resized unless\n",
       "they have zero elements. You can explicitly reuse an out tensor t by resizing it, inplace, to zero elements with \n",
       "t.resize_(0). (Triggered internally at \n",
       "/opt/conda/conda-bld/pytorch_1695392035891/work/aten/src/ATen/native/Resize.cpp:28.)\n",
       "  Variable._execution_engine.run_backward(  # Calls into the C++ engine to run the backward pass\n"
      ]
     },
     "metadata": {},
     "output_type": "display_data"
    },
    {
     "data": {
      "text/html": [
       "<pre style=\"white-space:pre;overflow-x:auto;line-height:normal;font-family:Menlo,'DejaVu Sans Mono',consolas,'Courier New',monospace\">/home/zekai/miniconda3/envs/eq/lib/python3.11/site-packages/torch/autograd/__init__.py:251: UserWarning: An output \n",
       "with one or more elements was resized since it had shape [1, 276, 1], which does not match the required output \n",
       "shape [1, 276, 32]. This behavior is deprecated, and in a future PyTorch release outputs will not be resized unless\n",
       "they have zero elements. You can explicitly reuse an out tensor t by resizing it, inplace, to zero elements with \n",
       "t.resize_(0). (Triggered internally at \n",
       "/opt/conda/conda-bld/pytorch_1695392035891/work/aten/src/ATen/native/Resize.cpp:28.)\n",
       "  Variable._execution_engine.run_backward(  # Calls into the C++ engine to run the backward pass\n",
       "</pre>\n"
      ],
      "text/plain": [
       "/home/zekai/miniconda3/envs/eq/lib/python3.11/site-packages/torch/autograd/__init__.py:251: UserWarning: An output \n",
       "with one or more elements was resized since it had shape [1, 276, 1], which does not match the required output \n",
       "shape [1, 276, 32]. This behavior is deprecated, and in a future PyTorch release outputs will not be resized unless\n",
       "they have zero elements. You can explicitly reuse an out tensor t by resizing it, inplace, to zero elements with \n",
       "t.resize_(0). (Triggered internally at \n",
       "/opt/conda/conda-bld/pytorch_1695392035891/work/aten/src/ATen/native/Resize.cpp:28.)\n",
       "  Variable._execution_engine.run_backward(  # Calls into the C++ engine to run the backward pass\n"
      ]
     },
     "metadata": {},
     "output_type": "display_data"
    },
    {
     "data": {
      "text/html": [
       "<pre style=\"white-space:pre;overflow-x:auto;line-height:normal;font-family:Menlo,'DejaVu Sans Mono',consolas,'Courier New',monospace\">/home/zekai/miniconda3/envs/eq/lib/python3.11/site-packages/torch/autograd/__init__.py:251: UserWarning: An output \n",
       "with one or more elements was resized since it had shape [1, 495, 1], which does not match the required output \n",
       "shape [1, 495, 32]. This behavior is deprecated, and in a future PyTorch release outputs will not be resized unless\n",
       "they have zero elements. You can explicitly reuse an out tensor t by resizing it, inplace, to zero elements with \n",
       "t.resize_(0). (Triggered internally at \n",
       "/opt/conda/conda-bld/pytorch_1695392035891/work/aten/src/ATen/native/Resize.cpp:28.)\n",
       "  Variable._execution_engine.run_backward(  # Calls into the C++ engine to run the backward pass\n",
       "</pre>\n"
      ],
      "text/plain": [
       "/home/zekai/miniconda3/envs/eq/lib/python3.11/site-packages/torch/autograd/__init__.py:251: UserWarning: An output \n",
       "with one or more elements was resized since it had shape [1, 495, 1], which does not match the required output \n",
       "shape [1, 495, 32]. This behavior is deprecated, and in a future PyTorch release outputs will not be resized unless\n",
       "they have zero elements. You can explicitly reuse an out tensor t by resizing it, inplace, to zero elements with \n",
       "t.resize_(0). (Triggered internally at \n",
       "/opt/conda/conda-bld/pytorch_1695392035891/work/aten/src/ATen/native/Resize.cpp:28.)\n",
       "  Variable._execution_engine.run_backward(  # Calls into the C++ engine to run the backward pass\n"
      ]
     },
     "metadata": {},
     "output_type": "display_data"
    },
    {
     "name": "stderr",
     "output_type": "stream",
     "text": [
      "`Trainer.fit` stopped: `max_epochs=200` reached.\n"
     ]
    },
    {
     "data": {
      "text/html": [
       "<pre style=\"white-space:pre;overflow-x:auto;line-height:normal;font-family:Menlo,'DejaVu Sans Mono',consolas,'Courier New',monospace\"></pre>\n"
      ],
      "text/plain": []
     },
     "metadata": {},
     "output_type": "display_data"
    },
    {
     "data": {
      "text/html": [
       "<pre style=\"white-space:pre;overflow-x:auto;line-height:normal;font-family:Menlo,'DejaVu Sans Mono',consolas,'Courier New',monospace\">\n",
       "</pre>\n"
      ],
      "text/plain": [
       "\n"
      ]
     },
     "metadata": {},
     "output_type": "display_data"
    },
    {
     "name": "stderr",
     "output_type": "stream",
     "text": [
      "LOCAL_RANK: 0 - CUDA_VISIBLE_DEVICES: [0]\n"
     ]
    },
    {
     "data": {
      "application/vnd.jupyter.widget-view+json": {
       "model_id": "10bebd6e2b374770a2f67ab51513b997",
       "version_major": 2,
       "version_minor": 0
      },
      "text/plain": [
       "Output()"
      ]
     },
     "metadata": {},
     "output_type": "display_data"
    },
    {
     "name": "stderr",
     "output_type": "stream",
     "text": [
      "/home/zekai/miniconda3/envs/eq/lib/python3.11/site-packages/pytorch_lightning/trainer/connectors/data_connector.py:441: The 'test_dataloader' does not have many workers which may be a bottleneck. Consider increasing the value of the `num_workers` argument` to `num_workers=23` in the `DataLoader` to improve performance.\n"
     ]
    },
    {
     "data": {
      "text/html": [
       "<pre style=\"white-space:pre;overflow-x:auto;line-height:normal;font-family:Menlo,'DejaVu Sans Mono',consolas,'Courier New',monospace\">┏━━━━━━━━━━━━━━━━━━━━━━━━━━━┳━━━━━━━━━━━━━━━━━━━━━━━━━━━┓\n",
       "┃<span style=\"font-weight: bold\">        Test metric        </span>┃<span style=\"font-weight: bold\">       DataLoader 0        </span>┃\n",
       "┡━━━━━━━━━━━━━━━━━━━━━━━━━━━╇━━━━━━━━━━━━━━━━━━━━━━━━━━━┩\n",
       "│<span style=\"color: #008080; text-decoration-color: #008080\">         test_loss         </span>│<span style=\"color: #800080; text-decoration-color: #800080\">    0.16295114159584045    </span>│\n",
       "│<span style=\"color: #008080; text-decoration-color: #008080\">      total_test_loss      </span>│<span style=\"color: #800080; text-decoration-color: #800080\">    0.16295114159584045    </span>│\n",
       "└───────────────────────────┴───────────────────────────┘\n",
       "</pre>\n"
      ],
      "text/plain": [
       "┏━━━━━━━━━━━━━━━━━━━━━━━━━━━┳━━━━━━━━━━━━━━━━━━━━━━━━━━━┓\n",
       "┃\u001b[1m \u001b[0m\u001b[1m       Test metric       \u001b[0m\u001b[1m \u001b[0m┃\u001b[1m \u001b[0m\u001b[1m      DataLoader 0       \u001b[0m\u001b[1m \u001b[0m┃\n",
       "┡━━━━━━━━━━━━━━━━━━━━━━━━━━━╇━━━━━━━━━━━━━━━━━━━━━━━━━━━┩\n",
       "│\u001b[36m \u001b[0m\u001b[36m        test_loss        \u001b[0m\u001b[36m \u001b[0m│\u001b[35m \u001b[0m\u001b[35m   0.16295114159584045   \u001b[0m\u001b[35m \u001b[0m│\n",
       "│\u001b[36m \u001b[0m\u001b[36m     total_test_loss     \u001b[0m\u001b[36m \u001b[0m│\u001b[35m \u001b[0m\u001b[35m   0.16295114159584045   \u001b[0m\u001b[35m \u001b[0m│\n",
       "└───────────────────────────┴───────────────────────────┘\n"
      ]
     },
     "metadata": {},
     "output_type": "display_data"
    },
    {
     "data": {
      "text/html": [
       "<pre style=\"white-space:pre;overflow-x:auto;line-height:normal;font-family:Menlo,'DejaVu Sans Mono',consolas,'Courier New',monospace\"></pre>\n"
      ],
      "text/plain": []
     },
     "metadata": {},
     "output_type": "display_data"
    },
    {
     "data": {
      "text/html": [
       "<pre style=\"white-space:pre;overflow-x:auto;line-height:normal;font-family:Menlo,'DejaVu Sans Mono',consolas,'Courier New',monospace\">\n",
       "</pre>\n"
      ],
      "text/plain": [
       "\n"
      ]
     },
     "metadata": {},
     "output_type": "display_data"
    }
   ],
   "source": [
    "res = train({\"learning_rate\":1e-4})"
   ]
  },
  {
   "cell_type": "code",
   "execution_count": null,
   "metadata": {},
   "outputs": [],
   "source": []
  }
 ],
 "metadata": {
  "kernelspec": {
   "display_name": "eq",
   "language": "python",
   "name": "python3"
  },
  "language_info": {
   "codemirror_mode": {
    "name": "ipython",
    "version": 3
   },
   "file_extension": ".py",
   "mimetype": "text/x-python",
   "name": "python",
   "nbconvert_exporter": "python",
   "pygments_lexer": "ipython3",
   "version": "3.11.5"
  }
 },
 "nbformat": 4,
 "nbformat_minor": 2
}
