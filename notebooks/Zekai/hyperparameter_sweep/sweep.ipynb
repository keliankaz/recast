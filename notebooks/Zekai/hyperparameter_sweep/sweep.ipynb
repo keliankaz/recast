{
 "cells": [
  {
   "cell_type": "code",
   "execution_count": 10,
   "metadata": {},
   "outputs": [
    {
     "name": "stdout",
     "output_type": "stream",
     "text": [
      "The autoreload extension is already loaded. To reload it, use:\n",
      "  %reload_ext autoreload\n"
     ]
    }
   ],
   "source": [
    "%load_ext autoreload\n",
    "%autoreload 2\n",
    "import torch\n",
    "import eq\n",
    "import wandb\n",
    "from tqdm.notebook import trange\n",
    "import numpy as np\n",
    "import warnings\n",
    "warnings.filterwarnings('ignore')"
   ]
  },
  {
   "cell_type": "code",
   "execution_count": 11,
   "metadata": {},
   "outputs": [
    {
     "name": "stdout",
     "output_type": "stream",
     "text": [
      "Loading existing catalog from /home/zekai/repos/recast/data/ANSS_MultiCatalog.\n"
     ]
    }
   ],
   "source": [
    "device = \"cuda\"\n",
    "catalog = eq.catalogs.ANSS_MultiCatalog(mag_completeness=4.5)"
   ]
  },
  {
   "cell_type": "code",
   "execution_count": 12,
   "metadata": {},
   "outputs": [],
   "source": [
    "def train(config=None):\n",
    "    with wandb.init(config=config):\n",
    "        config = wandb.config\n",
    "        try:\n",
    "            dl_train = catalog.train.get_dataloader(batch_size=config.batch_size)\n",
    "            dl_val = catalog.val.get_dataloader(batch_size=1)\n",
    "            dl_test = catalog.test.get_dataloader(batch_size=1)\n",
    "\n",
    "            model = eq.models.RecurrentTPP(context_size=config.context_size,\n",
    "                                           num_components=config.num_components,\n",
    "                                           rnn_type=config.rnn_type,\n",
    "                                           dropout_proba=config.dropout_proba,\n",
    "                                           learning_rate=config.lr)\n",
    "            model = model.to(device)\n",
    "\n",
    "            epochs = 200\n",
    "            avg_train_loss_list = []\n",
    "            avg_val_loss_list = []\n",
    "\n",
    "            optimizer = torch.optim.AdamW(model.parameters(), \n",
    "                                          lr=config.lr, \n",
    "                                          betas=config.betas, \n",
    "                                          weight_decay=config.weight_decay)\n",
    "            \n",
    "            best_model_path = \"temp_best_model\"\n",
    "            best_val_loss = float('inf')\n",
    "\n",
    "            for epoch in trange(epochs):\n",
    "                running_training_loss = []\n",
    "                model.train()\n",
    "                for i, data in enumerate(dl_train):\n",
    "                    data = data.to(device)\n",
    "                    optimizer.zero_grad()\n",
    "                    nll = model.nll_loss(data).mean()\n",
    "                    nll.backward()\n",
    "                    optimizer.step()\n",
    "                    running_training_loss.append(nll.item())\n",
    "                \n",
    "                model.eval()\n",
    "                with torch.no_grad():\n",
    "                    running_val_loss = []\n",
    "                    for i, data in enumerate(dl_val):\n",
    "                        data = data.to(device)\n",
    "                        nll = model.nll_loss(data).mean()\n",
    "                        running_val_loss.append(nll.item())\n",
    "\n",
    "                avg_val_loss = np.mean(running_val_loss)\n",
    "\n",
    "                avg_train_loss_list.append(np.mean(running_training_loss))\n",
    "                avg_val_loss_list.append(avg_val_loss)\n",
    "\n",
    "                if avg_val_loss < best_val_loss:\n",
    "                    best_val_loss = avg_val_loss\n",
    "                    torch.save(model.state_dict(), best_model_path)\n",
    "\n",
    "            best_model = eq.models.RecurrentTPP(context_size=config.context_size,\n",
    "                                                num_components=config.num_components,\n",
    "                                                rnn_type=config.rnn_type,\n",
    "                                                dropout_proba=config.dropout_proba,\n",
    "                                                learning_rate=config.lr)\n",
    "            best_model.load_state_dict(torch.load(best_model_path))\n",
    "            best_model = best_model.to(device)\n",
    "            best_model.eval()\n",
    "            with torch.no_grad():\n",
    "                running_test_loss = []\n",
    "                for i, data in enumerate(dl_test):\n",
    "                    data = data.to(device)\n",
    "                    nll = best_model.nll_loss(data).mean()\n",
    "                    running_test_loss.append(nll.item())\n",
    "            avg_test_loss = np.mean(running_test_loss)\n",
    "\n",
    "        except Exception as e:\n",
    "            print(e)\n",
    "            avg_test_loss = float(\"nan\")\n",
    "\n",
    "        wandb.log({\"avg_test_loss\": avg_test_loss})\n"
   ]
  },
  {
   "cell_type": "code",
   "execution_count": 13,
   "metadata": {},
   "outputs": [
    {
     "name": "stderr",
     "output_type": "stream",
     "text": [
      "\u001b[34m\u001b[1mwandb\u001b[0m: \u001b[33mWARNING\u001b[0m Calling wandb.login() after wandb.init() has no effect.\n"
     ]
    },
    {
     "data": {
      "text/plain": [
       "True"
      ]
     },
     "execution_count": 13,
     "metadata": {},
     "output_type": "execute_result"
    }
   ],
   "source": [
    "import os\n",
    "os.environ[\"WANDB_NOTEBOOK_NAME\"] = \"sweep.ipynb\"\n",
    "wandb.login()"
   ]
  },
  {
   "cell_type": "code",
   "execution_count": 14,
   "metadata": {},
   "outputs": [],
   "source": [
    "sweep_config = {'method': \"random\"}\n",
    "metric = {\"name\": \"avg_test_loss\",\n",
    "          \"goal\": \"minimize\"}\n",
    "sweep_config[\"metric\"] = metric\n",
    "\n",
    "parameter_dict = {\"context_size\": {'values': [8, 16, 32, 64, 128]},\n",
    "                  \"num_components\": {\"values\": [8, 16, 32, 64, 128]},\n",
    "                  \"rnn_type\": {\"values\": [\"RNN\", \"GRU\", \"LSTM\"]},\n",
    "                  \"dropout_proba\": {\"values\": [0, 0.1, 0.2, 0.3, 0.4, 0.5]},\n",
    "                  \"lr\": {\"values\": [1e-3, 2e-3, 5e-3, 1e-2, 2e-2, 5e-2]},\n",
    "                  \"betas\": {\"value\": (0.9, 0.999)},\n",
    "                  \"weight_decay\": {\"values\": [0, 1e-3, 2e-3, 5e-3, 1e-2, 2e-2, 5e-2]},\n",
    "                  \"batch_size\": {\"values\": [8, 16, 32, 64, 128]}}\n",
    "\n",
    "sweep_config[\"parameters\"] = parameter_dict"
   ]
  },
  {
   "cell_type": "code",
   "execution_count": 15,
   "metadata": {},
   "outputs": [
    {
     "name": "stdout",
     "output_type": "stream",
     "text": [
      "Create sweep with ID: 27ca0onv\n",
      "Sweep URL: https://wandb.ai/zekai-wang/RecurrentTPP%20on%20ANSS%20Nov%205/sweeps/27ca0onv\n"
     ]
    }
   ],
   "source": [
    "sweep_id = wandb.sweep(sweep_config, project=\"RecurrentTPP on ANSS Nov 5\")"
   ]
  },
  {
   "cell_type": "code",
   "execution_count": 16,
   "metadata": {},
   "outputs": [
    {
     "name": "stderr",
     "output_type": "stream",
     "text": [
      "\u001b[34m\u001b[1mwandb\u001b[0m: \u001b[33mWARNING\u001b[0m Calling wandb.login() after wandb.init() has no effect.\n"
     ]
    },
    {
     "name": "stdout",
     "output_type": "stream",
     "text": [
      "<IPython.core.display.HTML object>\n"
     ]
    },
    {
     "name": "stderr",
     "output_type": "stream",
     "text": [
      "wandb: ERROR Dropped streaming file chunk (see wandb/debug-internal.log)\n",
      "wandb: ERROR Dropped streaming file chunk (see wandb/debug-internal.log)\n"
     ]
    },
    {
     "name": "stdout",
     "output_type": "stream",
     "text": [
      "<IPython.core.display.HTML object>\n",
      "<IPython.core.display.HTML object>\n"
     ]
    },
    {
     "name": "stderr",
     "output_type": "stream",
     "text": [
      "\u001b[34m\u001b[1mwandb\u001b[0m: Agent Starting Run: tdq51qjk with config:\n",
      "\u001b[34m\u001b[1mwandb\u001b[0m: \tbatch_size: 128\n",
      "\u001b[34m\u001b[1mwandb\u001b[0m: \tbetas: [0.9, 0.999]\n",
      "\u001b[34m\u001b[1mwandb\u001b[0m: \tcontext_size: 8\n",
      "\u001b[34m\u001b[1mwandb\u001b[0m: \tdropout_proba: 0\n",
      "\u001b[34m\u001b[1mwandb\u001b[0m: \tlr: 0.01\n",
      "\u001b[34m\u001b[1mwandb\u001b[0m: \tnum_components: 128\n",
      "\u001b[34m\u001b[1mwandb\u001b[0m: \trnn_type: GRU\n",
      "\u001b[34m\u001b[1mwandb\u001b[0m: \tweight_decay: 0.05\n"
     ]
    },
    {
     "data": {
      "text/html": [
       "Tracking run with wandb version 0.15.12"
      ],
      "text/plain": [
       "<IPython.core.display.HTML object>"
      ]
     },
     "metadata": {},
     "output_type": "display_data"
    },
    {
     "data": {
      "text/html": [
       "Run data is saved locally in <code>/home/zekai/repos/recast/notebooks/Zekai/hyperparameter_sweep/wandb/run-20231105_221654-tdq51qjk</code>"
      ],
      "text/plain": [
       "<IPython.core.display.HTML object>"
      ]
     },
     "metadata": {},
     "output_type": "display_data"
    },
    {
     "data": {
      "text/html": [
       "Syncing run <strong><a href='https://wandb.ai/zekai-wang/RecurrentTPP%20on%20ANSS%20Nov%205/runs/tdq51qjk' target=\"_blank\">tough-sweep-1</a></strong> to <a href='https://wandb.ai/zekai-wang/RecurrentTPP%20on%20ANSS%20Nov%205' target=\"_blank\">Weights & Biases</a> (<a href='https://wandb.me/run' target=\"_blank\">docs</a>)<br/>Sweep page: <a href='https://wandb.ai/zekai-wang/RecurrentTPP%20on%20ANSS%20Nov%205/sweeps/27ca0onv' target=\"_blank\">https://wandb.ai/zekai-wang/RecurrentTPP%20on%20ANSS%20Nov%205/sweeps/27ca0onv</a>"
      ],
      "text/plain": [
       "<IPython.core.display.HTML object>"
      ]
     },
     "metadata": {},
     "output_type": "display_data"
    },
    {
     "data": {
      "text/html": [
       " View project at <a href='https://wandb.ai/zekai-wang/RecurrentTPP%20on%20ANSS%20Nov%205' target=\"_blank\">https://wandb.ai/zekai-wang/RecurrentTPP%20on%20ANSS%20Nov%205</a>"
      ],
      "text/plain": [
       "<IPython.core.display.HTML object>"
      ]
     },
     "metadata": {},
     "output_type": "display_data"
    },
    {
     "data": {
      "text/html": [
       " View sweep at <a href='https://wandb.ai/zekai-wang/RecurrentTPP%20on%20ANSS%20Nov%205/sweeps/27ca0onv' target=\"_blank\">https://wandb.ai/zekai-wang/RecurrentTPP%20on%20ANSS%20Nov%205/sweeps/27ca0onv</a>"
      ],
      "text/plain": [
       "<IPython.core.display.HTML object>"
      ]
     },
     "metadata": {},
     "output_type": "display_data"
    },
    {
     "data": {
      "text/html": [
       " View run at <a href='https://wandb.ai/zekai-wang/RecurrentTPP%20on%20ANSS%20Nov%205/runs/tdq51qjk' target=\"_blank\">https://wandb.ai/zekai-wang/RecurrentTPP%20on%20ANSS%20Nov%205/runs/tdq51qjk</a>"
      ],
      "text/plain": [
       "<IPython.core.display.HTML object>"
      ]
     },
     "metadata": {},
     "output_type": "display_data"
    },
    {
     "data": {
      "application/vnd.jupyter.widget-view+json": {
       "model_id": "e68200c3f49241b6a2735fd6dffe95d8",
       "version_major": 2,
       "version_minor": 0
      },
      "text/plain": [
       "  0%|          | 0/200 [00:00<?, ?it/s]"
      ]
     },
     "metadata": {},
     "output_type": "display_data"
    },
    {
     "name": "stderr",
     "output_type": "stream",
     "text": [
      "Exception in thread Thread-20 (_run_job):\n",
      "Traceback (most recent call last):\n",
      "  File \"/home/zekai/miniconda3/envs/eq/lib/python3.11/site-packages/wandb/agents/pyagent.py\", line 298, in _run_job\n",
      "    self._function()\n",
      "  File \"/tmp/ipykernel_15643/1366785928.py\", line 2, in train\n",
      "  File \"/home/zekai/miniconda3/envs/eq/lib/python3.11/site-packages/wandb/sdk/wandb_run.py\", line 3120, in __exit__\n",
      "    self._finish(exit_code=exit_code)\n",
      "  File \"/home/zekai/miniconda3/envs/eq/lib/python3.11/site-packages/wandb/sdk/wandb_run.py\", line 1938, in _finish\n",
      "    hook.call()\n",
      "  File \"/home/zekai/miniconda3/envs/eq/lib/python3.11/site-packages/wandb/sdk/wandb_init.py\", line 464, in _jupyter_teardown\n",
      "    ipython.display_pub.publish = ipython.display_pub._orig_publish\n",
      "                                  ^^^^^^^^^^^^^^^^^^^^^^^^^^^^^^^^^\n",
      "AttributeError: 'ZMQDisplayPublisher' object has no attribute '_orig_publish'\n",
      "\n",
      "During handling of the above exception, another exception occurred:\n",
      "\n",
      "Traceback (most recent call last):\n",
      "  File \"/home/zekai/miniconda3/envs/eq/lib/python3.11/threading.py\", line 1038, in _bootstrap_inner\n",
      "    self.run()\n",
      "  File \"/home/zekai/miniconda3/envs/eq/lib/python3.11/threading.py\", line 975, in run\n",
      "    self._target(*self._args, **self._kwargs)\n",
      "  File \"/home/zekai/miniconda3/envs/eq/lib/python3.11/site-packages/wandb/agents/pyagent.py\", line 303, in _run_job\n",
      "    wandb.finish(exit_code=1)\n",
      "  File \"/home/zekai/miniconda3/envs/eq/lib/python3.11/site-packages/wandb/sdk/wandb_run.py\", line 3852, in finish\n",
      "    wandb.run.finish(exit_code=exit_code, quiet=quiet)\n",
      "  File \"/home/zekai/miniconda3/envs/eq/lib/python3.11/site-packages/wandb/sdk/wandb_run.py\", line 419, in wrapper\n",
      "    return func(self, *args, **kwargs)\n",
      "           ^^^^^^^^^^^^^^^^^^^^^^^^^^^\n",
      "  File \"/home/zekai/miniconda3/envs/eq/lib/python3.11/site-packages/wandb/sdk/wandb_run.py\", line 360, in wrapper\n",
      "    return func(self, *args, **kwargs)\n",
      "           ^^^^^^^^^^^^^^^^^^^^^^^^^^^\n",
      "  File \"/home/zekai/miniconda3/envs/eq/lib/python3.11/site-packages/wandb/sdk/wandb_run.py\", line 1925, in finish\n",
      "    return self._finish(exit_code, quiet)\n",
      "           ^^^^^^^^^^^^^^^^^^^^^^^^^^^^^^\n",
      "  File \"/home/zekai/miniconda3/envs/eq/lib/python3.11/site-packages/wandb/sdk/wandb_run.py\", line 1938, in _finish\n",
      "    hook.call()\n",
      "  File \"/home/zekai/miniconda3/envs/eq/lib/python3.11/site-packages/wandb/sdk/wandb_init.py\", line 464, in _jupyter_teardown\n",
      "    ipython.display_pub.publish = ipython.display_pub._orig_publish\n",
      "                                  ^^^^^^^^^^^^^^^^^^^^^^^^^^^^^^^^^\n",
      "AttributeError: 'ZMQDisplayPublisher' object has no attribute '_orig_publish'\n"
     ]
    },
    {
     "name": "stdout",
     "output_type": "stream",
     "text": [
      "<IPython.core.display.HTML object>\n",
      "VBox(children=(Label(value='0.003 MB of 0.003 MB uploaded (0.000 MB deduped)\\r'), FloatProgress(value=1.0, max=1.0)))\n",
      "<IPython.core.display.HTML object>\n",
      "<IPython.core.display.HTML object>\n",
      "<IPython.core.display.HTML object>\n"
     ]
    },
    {
     "name": "stderr",
     "output_type": "stream",
     "text": [
      "\u001b[34m\u001b[1mwandb\u001b[0m: Agent Starting Run: exm3zv6a with config:\n",
      "\u001b[34m\u001b[1mwandb\u001b[0m: \tbatch_size: 128\n",
      "\u001b[34m\u001b[1mwandb\u001b[0m: \tbetas: [0.9, 0.999]\n",
      "\u001b[34m\u001b[1mwandb\u001b[0m: \tcontext_size: 8\n",
      "\u001b[34m\u001b[1mwandb\u001b[0m: \tdropout_proba: 0.1\n",
      "\u001b[34m\u001b[1mwandb\u001b[0m: \tlr: 0.02\n",
      "\u001b[34m\u001b[1mwandb\u001b[0m: \tnum_components: 128\n",
      "\u001b[34m\u001b[1mwandb\u001b[0m: \trnn_type: LSTM\n",
      "\u001b[34m\u001b[1mwandb\u001b[0m: \tweight_decay: 0.02\n"
     ]
    },
    {
     "data": {
      "text/html": [
       "Tracking run with wandb version 0.15.12"
      ],
      "text/plain": [
       "<IPython.core.display.HTML object>"
      ]
     },
     "metadata": {},
     "output_type": "display_data"
    },
    {
     "data": {
      "text/html": [
       "Run data is saved locally in <code>/home/zekai/repos/recast/notebooks/Zekai/hyperparameter_sweep/wandb/run-20231105_221835-exm3zv6a</code>"
      ],
      "text/plain": [
       "<IPython.core.display.HTML object>"
      ]
     },
     "metadata": {},
     "output_type": "display_data"
    },
    {
     "data": {
      "text/html": [
       "Syncing run <strong><a href='https://wandb.ai/zekai-wang/RecurrentTPP%20on%20ANSS%20Nov%205/runs/exm3zv6a' target=\"_blank\">bumbling-sweep-2</a></strong> to <a href='https://wandb.ai/zekai-wang/RecurrentTPP%20on%20ANSS%20Nov%205' target=\"_blank\">Weights & Biases</a> (<a href='https://wandb.me/run' target=\"_blank\">docs</a>)<br/>Sweep page: <a href='https://wandb.ai/zekai-wang/RecurrentTPP%20on%20ANSS%20Nov%205/sweeps/27ca0onv' target=\"_blank\">https://wandb.ai/zekai-wang/RecurrentTPP%20on%20ANSS%20Nov%205/sweeps/27ca0onv</a>"
      ],
      "text/plain": [
       "<IPython.core.display.HTML object>"
      ]
     },
     "metadata": {},
     "output_type": "display_data"
    },
    {
     "data": {
      "text/html": [
       " View project at <a href='https://wandb.ai/zekai-wang/RecurrentTPP%20on%20ANSS%20Nov%205' target=\"_blank\">https://wandb.ai/zekai-wang/RecurrentTPP%20on%20ANSS%20Nov%205</a>"
      ],
      "text/plain": [
       "<IPython.core.display.HTML object>"
      ]
     },
     "metadata": {},
     "output_type": "display_data"
    },
    {
     "data": {
      "text/html": [
       " View sweep at <a href='https://wandb.ai/zekai-wang/RecurrentTPP%20on%20ANSS%20Nov%205/sweeps/27ca0onv' target=\"_blank\">https://wandb.ai/zekai-wang/RecurrentTPP%20on%20ANSS%20Nov%205/sweeps/27ca0onv</a>"
      ],
      "text/plain": [
       "<IPython.core.display.HTML object>"
      ]
     },
     "metadata": {},
     "output_type": "display_data"
    },
    {
     "data": {
      "text/html": [
       " View run at <a href='https://wandb.ai/zekai-wang/RecurrentTPP%20on%20ANSS%20Nov%205/runs/exm3zv6a' target=\"_blank\">https://wandb.ai/zekai-wang/RecurrentTPP%20on%20ANSS%20Nov%205/runs/exm3zv6a</a>"
      ],
      "text/plain": [
       "<IPython.core.display.HTML object>"
      ]
     },
     "metadata": {},
     "output_type": "display_data"
    },
    {
     "data": {
      "application/vnd.jupyter.widget-view+json": {
       "model_id": "6dd064cce5a0466a815dc18ac2f3858f",
       "version_major": 2,
       "version_minor": 0
      },
      "text/plain": [
       "  0%|          | 0/200 [00:00<?, ?it/s]"
      ]
     },
     "metadata": {},
     "output_type": "display_data"
    },
    {
     "name": "stderr",
     "output_type": "stream",
     "text": [
      "Exception in thread Exception in thread ChkStopThr:\n",
      "NetStatThr:\n",
      "Traceback (most recent call last):\n",
      "Exception in thread Traceback (most recent call last):\n",
      "IntMsgThr  File \"/home/zekai/miniconda3/envs/eq/lib/python3.11/threading.py\", line 1038, in _bootstrap_inner\n",
      ":\n",
      "  File \"/home/zekai/miniconda3/envs/eq/lib/python3.11/threading.py\", line 1038, in _bootstrap_inner\n",
      "Traceback (most recent call last):\n",
      "  File \"/home/zekai/miniconda3/envs/eq/lib/python3.11/threading.py\", line 1038, in _bootstrap_inner\n",
      "        self.run()self.run()\n",
      "    \n",
      "self.run()  File \"/home/zekai/miniconda3/envs/eq/lib/python3.11/threading.py\", line 975, in run\n",
      "\n",
      "  File \"/home/zekai/miniconda3/envs/eq/lib/python3.11/threading.py\", line 975, in run\n",
      "  File \"/home/zekai/miniconda3/envs/eq/lib/python3.11/threading.py\", line 975, in run\n",
      "    self._target(*self._args, **self._kwargs)\n",
      "          File \"/home/zekai/miniconda3/envs/eq/lib/python3.11/site-packages/wandb/sdk/wandb_run.py\", line 267, in check_network_status\n",
      "self._target(*self._args, **self._kwargs)self._target(*self._args, **self._kwargs)\n",
      "\n",
      "  File \"/home/zekai/miniconda3/envs/eq/lib/python3.11/site-packages/wandb/sdk/wandb_run.py\", line 285, in check_stop_status\n",
      "  File \"/home/zekai/miniconda3/envs/eq/lib/python3.11/site-packages/wandb/sdk/wandb_run.py\", line 299, in check_internal_messages\n",
      "    self._loop_check_status(\n",
      "  File \"/home/zekai/miniconda3/envs/eq/lib/python3.11/site-packages/wandb/sdk/wandb_run.py\", line 223, in _loop_check_status\n",
      "    self._loop_check_status(\n",
      "  File \"/home/zekai/miniconda3/envs/eq/lib/python3.11/site-packages/wandb/sdk/wandb_run.py\", line 223, in _loop_check_status\n",
      "    local_handle = request()\n",
      "                   ^^^^^^^^^\n",
      "  File \"/home/zekai/miniconda3/envs/eq/lib/python3.11/site-packages/wandb/sdk/interface/interface.py\", line 743, in deliver_internal_messages\n",
      "        local_handle = request()    self._loop_check_status(\n",
      "return self._deliver_internal_messages(internal_message)\n",
      "\n",
      "   File \"/home/zekai/miniconda3/envs/eq/lib/python3.11/site-packages/wandb/sdk/wandb_run.py\", line 223, in _loop_check_status\n",
      "          local_handle = request()  \n",
      "                     ^  ^  ^  ^  ^  ^  ^ ^^ ^^ ^^ ^^ ^^ ^^ ^^^^^^^^^\n",
      "^^^^  File \"/home/zekai/miniconda3/envs/eq/lib/python3.11/site-packages/wandb/sdk/interface/interface.py\", line 735, in deliver_network_status\n",
      "^^^^    ^^return self._deliver_network_status(status)^^\n",
      "^\n",
      "^ ^  File \"/home/zekai/miniconda3/envs/eq/lib/python3.11/site-packages/wandb/sdk/interface/interface.py\", line 727, in deliver_stop_status\n",
      " ^ ^ ^ ^     ^return self._deliver_stop_status(status) ^\n",
      " ^ ^  ^  ^ ^^ ^^ ^^ ^^ ^^ ^^ ^^ ^^ ^^^^^^^^^^^^^^^^^^^\n",
      "^^^^  File \"/home/zekai/miniconda3/envs/eq/lib/python3.11/site-packages/wandb/sdk/interface/interface_shared.py\", line 481, in _deliver_internal_messages\n",
      "^^^^^^^^^^^^^^^^    ^^return self._deliver_record(record)^^\n",
      "^^^^ ^^ ^^ ^^ ^^ ^^ ^^ ^^ ^\n",
      " ^ ^  File \"/home/zekai/miniconda3/envs/eq/lib/python3.11/site-packages/wandb/sdk/interface/interface_shared.py\", line 475, in _deliver_network_status\n",
      " ^^^^^    ^\n",
      "return self._deliver_record(record)^\n",
      "^  File \"/home/zekai/miniconda3/envs/eq/lib/python3.11/site-packages/wandb/sdk/interface/interface_shared.py\", line 459, in _deliver_stop_status\n",
      "^ ^     ^ return self._deliver_record(record)^ \n",
      "^ ^  ^  ^  ^  ^  ^  ^^ ^^ ^^ ^^ ^^ ^^^^^^^^^^^^^^^^^^^^^\n",
      "^^^^  File \"/home/zekai/miniconda3/envs/eq/lib/python3.11/site-packages/wandb/sdk/interface/interface_shared.py\", line 428, in _deliver_record\n",
      "^^^^^^^^    ^^handle = mailbox._deliver_record(record, interface=self)^^\n",
      "^^^^ ^^ ^^ ^^ ^^ ^^ ^^ \n",
      "^ ^   File \"/home/zekai/miniconda3/envs/eq/lib/python3.11/site-packages/wandb/sdk/interface/interface_shared.py\", line 428, in _deliver_record\n",
      "^ ^ ^ \n",
      "     handle = mailbox._deliver_record(record, interface=self)^  File \"/home/zekai/miniconda3/envs/eq/lib/python3.11/site-packages/wandb/sdk/interface/interface_shared.py\", line 428, in _deliver_record\n",
      "\n",
      "^^ ^     ^handle = mailbox._deliver_record(record, interface=self) ^\n",
      " ^ ^  ^  ^  ^  ^  ^  ^  ^  ^ ^^ ^^ ^^ ^^ ^^^^^^^^^^^^^^^^^^^^^^^^^^^^^^^^^^^^^^^^^^^^^^^^^^^^^^^^^^^^^^^^^^^^^^^^^^^^^^^^^^\n",
      "^^^^  File \"/home/zekai/miniconda3/envs/eq/lib/python3.11/site-packages/wandb/sdk/lib/mailbox.py\", line 455, in _deliver_record\n",
      "^^^^^^^^    ^^interface._publish(record)^^\n",
      "^^^^  File \"/home/zekai/miniconda3/envs/eq/lib/python3.11/site-packages/wandb/sdk/interface/interface_sock.py\", line 51, in _publish\n",
      "^^^^^    ^^self._sock_client.send_record_publish(record)^^\n",
      "^^\n",
      "^  File \"/home/zekai/miniconda3/envs/eq/lib/python3.11/site-packages/wandb/sdk/lib/sock_client.py\", line 221, in send_record_publish\n",
      "^  File \"/home/zekai/miniconda3/envs/eq/lib/python3.11/site-packages/wandb/sdk/lib/mailbox.py\", line 455, in _deliver_record\n",
      "^    ^self.send_server_request(server_req)    \n",
      "\n",
      "interface._publish(record)\n",
      "  File \"/home/zekai/miniconda3/envs/eq/lib/python3.11/site-packages/wandb/sdk/lib/mailbox.py\", line 455, in _deliver_record\n",
      "  File \"/home/zekai/miniconda3/envs/eq/lib/python3.11/site-packages/wandb/sdk/lib/sock_client.py\", line 155, in send_server_request\n",
      "  File \"/home/zekai/miniconda3/envs/eq/lib/python3.11/site-packages/wandb/sdk/interface/interface_sock.py\", line 51, in _publish\n",
      "        interface._publish(record)self._send_message(msg)\n",
      "\n",
      "    self._sock_client.send_record_publish(record)  File \"/home/zekai/miniconda3/envs/eq/lib/python3.11/site-packages/wandb/sdk/interface/interface_sock.py\", line 51, in _publish\n",
      "  File \"/home/zekai/miniconda3/envs/eq/lib/python3.11/site-packages/wandb/sdk/lib/sock_client.py\", line 152, in _send_message\n",
      "\n",
      "          File \"/home/zekai/miniconda3/envs/eq/lib/python3.11/site-packages/wandb/sdk/lib/sock_client.py\", line 221, in send_record_publish\n",
      "self._sendall_with_error_handle(header + data)self._sock_client.send_record_publish(record)\n",
      "\n",
      "  File \"/home/zekai/miniconda3/envs/eq/lib/python3.11/site-packages/wandb/sdk/lib/sock_client.py\", line 130, in _sendall_with_error_handle\n",
      "  File \"/home/zekai/miniconda3/envs/eq/lib/python3.11/site-packages/wandb/sdk/lib/sock_client.py\", line 221, in send_record_publish\n",
      "    sent = self._sock.send(data)\n",
      "           ^^^^^^^^^^^^^^^^^^^^^\n",
      "BrokenPipeError: [Errno 32] Broken pipe\n",
      "    self.send_server_request(server_req)\n",
      "  File \"/home/zekai/miniconda3/envs/eq/lib/python3.11/site-packages/wandb/sdk/lib/sock_client.py\", line 155, in send_server_request\n",
      "    self.send_server_request(server_req)\n",
      "  File \"/home/zekai/miniconda3/envs/eq/lib/python3.11/site-packages/wandb/sdk/lib/sock_client.py\", line 155, in send_server_request\n",
      "        self._send_message(msg)self._send_message(msg)\n",
      "\n",
      "  File \"/home/zekai/miniconda3/envs/eq/lib/python3.11/site-packages/wandb/sdk/lib/sock_client.py\", line 152, in _send_message\n",
      "  File \"/home/zekai/miniconda3/envs/eq/lib/python3.11/site-packages/wandb/sdk/lib/sock_client.py\", line 152, in _send_message\n",
      "    self._sendall_with_error_handle(header + data)\n",
      "  File \"/home/zekai/miniconda3/envs/eq/lib/python3.11/site-packages/wandb/sdk/lib/sock_client.py\", line 130, in _sendall_with_error_handle\n",
      "    self._sendall_with_error_handle(header + data)\n",
      "  File \"/home/zekai/miniconda3/envs/eq/lib/python3.11/site-packages/wandb/sdk/lib/sock_client.py\", line 130, in _sendall_with_error_handle\n",
      "    sent = self._sock.send(data)\n",
      "           ^^^^^^^^^^^^^^^^^^^^^\n",
      "BrokenPipeError: [Errno 32] Broken pipe\n",
      "    sent = self._sock.send(data)\n",
      "           ^^^^^^^^^^^^^^^^^^^^^\n",
      "BrokenPipeError: [Errno 32] Broken pipe\n"
     ]
    },
    {
     "data": {
      "text/html": [
       "Waiting for W&B process to finish... <strong style=\"color:green\">(success).</strong>"
      ],
      "text/plain": [
       "<IPython.core.display.HTML object>"
      ]
     },
     "metadata": {},
     "output_type": "display_data"
    },
    {
     "data": {
      "application/vnd.jupyter.widget-view+json": {
       "model_id": "d676626ce5e94a92a880bd76425b1e65",
       "version_major": 2,
       "version_minor": 0
      },
      "text/plain": [
       "VBox(children=(Label(value='0.003 MB of 0.003 MB uploaded (0.000 MB deduped)\\r'), FloatProgress(value=1.0, max…"
      ]
     },
     "metadata": {},
     "output_type": "display_data"
    },
    {
     "data": {
      "text/html": [
       "<style>\n",
       "    table.wandb td:nth-child(1) { padding: 0 10px; text-align: left ; width: auto;} td:nth-child(2) {text-align: left ; width: 100%}\n",
       "    .wandb-row { display: flex; flex-direction: row; flex-wrap: wrap; justify-content: flex-start; width: 100% }\n",
       "    .wandb-col { display: flex; flex-direction: column; flex-basis: 100%; flex: 1; padding: 10px; }\n",
       "    </style>\n",
       "<div class=\"wandb-row\"><div class=\"wandb-col\"><h3>Run history:</h3><br/><table class=\"wandb\"><tr><td>avg_test_loss</td><td>▁</td></tr></table><br/></div><div class=\"wandb-col\"><h3>Run summary:</h3><br/><table class=\"wandb\"><tr><td>avg_test_loss</td><td>0.16265</td></tr></table><br/></div></div>"
      ],
      "text/plain": [
       "<IPython.core.display.HTML object>"
      ]
     },
     "metadata": {},
     "output_type": "display_data"
    },
    {
     "data": {
      "text/html": [
       " View run <strong style=\"color:#cdcd00\">bumbling-sweep-2</strong> at: <a href='https://wandb.ai/zekai-wang/RecurrentTPP%20on%20ANSS%20Nov%205/runs/exm3zv6a' target=\"_blank\">https://wandb.ai/zekai-wang/RecurrentTPP%20on%20ANSS%20Nov%205/runs/exm3zv6a</a><br/>Synced 6 W&B file(s), 0 media file(s), 0 artifact file(s) and 0 other file(s)"
      ],
      "text/plain": [
       "<IPython.core.display.HTML object>"
      ]
     },
     "metadata": {},
     "output_type": "display_data"
    },
    {
     "data": {
      "text/html": [
       "Find logs at: <code>./wandb/run-20231105_221835-exm3zv6a/logs</code>"
      ],
      "text/plain": [
       "<IPython.core.display.HTML object>"
      ]
     },
     "metadata": {},
     "output_type": "display_data"
    },
    {
     "name": "stderr",
     "output_type": "stream",
     "text": [
      "\u001b[34m\u001b[1mwandb\u001b[0m: Agent Starting Run: hqe7mqof with config:\n",
      "\u001b[34m\u001b[1mwandb\u001b[0m: \tbatch_size: 8\n",
      "\u001b[34m\u001b[1mwandb\u001b[0m: \tbetas: [0.9, 0.999]\n",
      "\u001b[34m\u001b[1mwandb\u001b[0m: \tcontext_size: 128\n",
      "\u001b[34m\u001b[1mwandb\u001b[0m: \tdropout_proba: 0.1\n",
      "\u001b[34m\u001b[1mwandb\u001b[0m: \tlr: 0.05\n",
      "\u001b[34m\u001b[1mwandb\u001b[0m: \tnum_components: 32\n",
      "\u001b[34m\u001b[1mwandb\u001b[0m: \trnn_type: RNN\n",
      "\u001b[34m\u001b[1mwandb\u001b[0m: \tweight_decay: 0.001\n"
     ]
    },
    {
     "data": {
      "text/html": [
       "Tracking run with wandb version 0.15.12"
      ],
      "text/plain": [
       "<IPython.core.display.HTML object>"
      ]
     },
     "metadata": {},
     "output_type": "display_data"
    },
    {
     "data": {
      "text/html": [
       "Run data is saved locally in <code>/home/zekai/repos/recast/notebooks/Zekai/hyperparameter_sweep/wandb/run-20231105_222018-hqe7mqof</code>"
      ],
      "text/plain": [
       "<IPython.core.display.HTML object>"
      ]
     },
     "metadata": {},
     "output_type": "display_data"
    },
    {
     "data": {
      "text/html": [
       "Syncing run <strong><a href='https://wandb.ai/zekai-wang/RecurrentTPP%20on%20ANSS%20Nov%205/runs/hqe7mqof' target=\"_blank\">proud-sweep-3</a></strong> to <a href='https://wandb.ai/zekai-wang/RecurrentTPP%20on%20ANSS%20Nov%205' target=\"_blank\">Weights & Biases</a> (<a href='https://wandb.me/run' target=\"_blank\">docs</a>)<br/>Sweep page: <a href='https://wandb.ai/zekai-wang/RecurrentTPP%20on%20ANSS%20Nov%205/sweeps/27ca0onv' target=\"_blank\">https://wandb.ai/zekai-wang/RecurrentTPP%20on%20ANSS%20Nov%205/sweeps/27ca0onv</a>"
      ],
      "text/plain": [
       "<IPython.core.display.HTML object>"
      ]
     },
     "metadata": {},
     "output_type": "display_data"
    },
    {
     "data": {
      "text/html": [
       " View project at <a href='https://wandb.ai/zekai-wang/RecurrentTPP%20on%20ANSS%20Nov%205' target=\"_blank\">https://wandb.ai/zekai-wang/RecurrentTPP%20on%20ANSS%20Nov%205</a>"
      ],
      "text/plain": [
       "<IPython.core.display.HTML object>"
      ]
     },
     "metadata": {},
     "output_type": "display_data"
    },
    {
     "data": {
      "text/html": [
       " View sweep at <a href='https://wandb.ai/zekai-wang/RecurrentTPP%20on%20ANSS%20Nov%205/sweeps/27ca0onv' target=\"_blank\">https://wandb.ai/zekai-wang/RecurrentTPP%20on%20ANSS%20Nov%205/sweeps/27ca0onv</a>"
      ],
      "text/plain": [
       "<IPython.core.display.HTML object>"
      ]
     },
     "metadata": {},
     "output_type": "display_data"
    },
    {
     "data": {
      "text/html": [
       " View run at <a href='https://wandb.ai/zekai-wang/RecurrentTPP%20on%20ANSS%20Nov%205/runs/hqe7mqof' target=\"_blank\">https://wandb.ai/zekai-wang/RecurrentTPP%20on%20ANSS%20Nov%205/runs/hqe7mqof</a>"
      ],
      "text/plain": [
       "<IPython.core.display.HTML object>"
      ]
     },
     "metadata": {},
     "output_type": "display_data"
    },
    {
     "data": {
      "application/vnd.jupyter.widget-view+json": {
       "model_id": "f3d731739b834e8a84d6fadc0b0f4299",
       "version_major": 2,
       "version_minor": 0
      },
      "text/plain": [
       "  0%|          | 0/200 [00:00<?, ?it/s]"
      ]
     },
     "metadata": {},
     "output_type": "display_data"
    },
    {
     "name": "stdout",
     "output_type": "stream",
     "text": [
      "Expected parameter scale (Tensor of shape (8, 462, 32)) of distribution Weibull(scale: torch.Size([8, 462, 32]), shape: torch.Size([8, 462, 32])) to satisfy the constraint GreaterThan(lower_bound=0.0), but found invalid values:\n",
      "tensor([[[   nan, 0.7629, 0.7606,  ..., 0.7818, 0.8243, 0.8388],\n",
      "         [   nan,    nan,    nan,  ...,    nan,    nan,    nan],\n",
      "         [   nan,    nan,    nan,  ...,    nan,    nan,    nan],\n",
      "         ...,\n",
      "         [   nan,    nan,    nan,  ...,    nan,    nan,    nan],\n",
      "         [   nan,    nan,    nan,  ...,    nan,    nan,    nan],\n",
      "         [   nan,    nan,    nan,  ...,    nan,    nan,    nan]],\n",
      "\n",
      "        [[   nan, 0.7629, 0.7606,  ..., 0.7818, 0.8243, 0.8388],\n",
      "         [   nan,    nan,    nan,  ...,    nan,    nan,    nan],\n",
      "         [   nan,    nan,    nan,  ...,    nan,    nan,    nan],\n",
      "         ...,\n",
      "         [   nan,    nan,    nan,  ...,    nan,    nan,    nan],\n",
      "         [   nan,    nan,    nan,  ...,    nan,    nan,    nan],\n",
      "         [   nan,    nan,    nan,  ...,    nan,    nan,    nan]],\n",
      "\n",
      "        [[   nan, 0.7629, 0.7606,  ..., 0.7818, 0.8243, 0.8388],\n",
      "         [   nan,    nan,    nan,  ...,    nan,    nan,    nan],\n",
      "         [   nan,    nan,    nan,  ...,    nan,    nan,    nan],\n",
      "         ...,\n",
      "         [   nan,    nan,    nan,  ...,    nan,    nan,    nan],\n",
      "         [   nan,    nan,    nan,  ...,    nan,    nan,    nan],\n",
      "         [   nan,    nan,    nan,  ...,    nan,    nan,    nan]],\n",
      "\n",
      "        ...,\n",
      "\n",
      "        [[   nan, 0.7629, 0.7606,  ..., 0.7818, 0.8243, 0.8388],\n",
      "         [   nan,    nan,    nan,  ...,    nan,    nan,    nan],\n",
      "         [   nan,    nan,    nan,  ...,    nan,    nan,    nan],\n",
      "         ...,\n",
      "         [   nan,    nan,    nan,  ...,    nan,    nan,    nan],\n",
      "         [   nan,    nan,    nan,  ...,    nan,    nan,    nan],\n",
      "         [   nan,    nan,    nan,  ...,    nan,    nan,    nan]],\n",
      "\n",
      "        [[   nan, 0.7629, 0.7606,  ..., 0.7818, 0.8243, 0.8388],\n",
      "         [   nan,    nan,    nan,  ...,    nan,    nan,    nan],\n",
      "         [   nan,    nan,    nan,  ...,    nan,    nan,    nan],\n",
      "         ...,\n",
      "         [   nan,    nan,    nan,  ...,    nan,    nan,    nan],\n",
      "         [   nan,    nan,    nan,  ...,    nan,    nan,    nan],\n",
      "         [   nan,    nan,    nan,  ...,    nan,    nan,    nan]],\n",
      "\n",
      "        [[   nan, 0.7629, 0.7606,  ..., 0.7818, 0.8243, 0.8388],\n",
      "         [   nan,    nan,    nan,  ...,    nan,    nan,    nan],\n",
      "         [   nan,    nan,    nan,  ...,    nan,    nan,    nan],\n",
      "         ...,\n",
      "         [   nan,    nan,    nan,  ...,    nan,    nan,    nan],\n",
      "         [   nan,    nan,    nan,  ...,    nan,    nan,    nan],\n",
      "         [   nan,    nan,    nan,  ...,    nan,    nan,    nan]]],\n",
      "       device='cuda:0', grad_fn=<SoftplusBackward0>)\n"
     ]
    },
    {
     "data": {
      "text/html": [
       "Waiting for W&B process to finish... <strong style=\"color:green\">(success).</strong>"
      ],
      "text/plain": [
       "<IPython.core.display.HTML object>"
      ]
     },
     "metadata": {},
     "output_type": "display_data"
    },
    {
     "data": {
      "text/html": [
       "<style>\n",
       "    table.wandb td:nth-child(1) { padding: 0 10px; text-align: left ; width: auto;} td:nth-child(2) {text-align: left ; width: 100%}\n",
       "    .wandb-row { display: flex; flex-direction: row; flex-wrap: wrap; justify-content: flex-start; width: 100% }\n",
       "    .wandb-col { display: flex; flex-direction: column; flex-basis: 100%; flex: 1; padding: 10px; }\n",
       "    </style>\n",
       "<div class=\"wandb-row\"><div class=\"wandb-col\"><h3>Run summary:</h3><br/><table class=\"wandb\"><tr><td>avg_test_loss</td><td>nan</td></tr></table><br/></div></div>"
      ],
      "text/plain": [
       "<IPython.core.display.HTML object>"
      ]
     },
     "metadata": {},
     "output_type": "display_data"
    },
    {
     "data": {
      "text/html": [
       " View run <strong style=\"color:#cdcd00\">proud-sweep-3</strong> at: <a href='https://wandb.ai/zekai-wang/RecurrentTPP%20on%20ANSS%20Nov%205/runs/hqe7mqof' target=\"_blank\">https://wandb.ai/zekai-wang/RecurrentTPP%20on%20ANSS%20Nov%205/runs/hqe7mqof</a><br/>Synced 6 W&B file(s), 0 media file(s), 0 artifact file(s) and 0 other file(s)"
      ],
      "text/plain": [
       "<IPython.core.display.HTML object>"
      ]
     },
     "metadata": {},
     "output_type": "display_data"
    },
    {
     "data": {
      "text/html": [
       "Find logs at: <code>./wandb/run-20231105_222018-hqe7mqof/logs</code>"
      ],
      "text/plain": [
       "<IPython.core.display.HTML object>"
      ]
     },
     "metadata": {},
     "output_type": "display_data"
    },
    {
     "name": "stderr",
     "output_type": "stream",
     "text": [
      "\u001b[34m\u001b[1mwandb\u001b[0m: Agent Starting Run: 3f23ig8i with config:\n",
      "\u001b[34m\u001b[1mwandb\u001b[0m: \tbatch_size: 8\n",
      "\u001b[34m\u001b[1mwandb\u001b[0m: \tbetas: [0.9, 0.999]\n",
      "\u001b[34m\u001b[1mwandb\u001b[0m: \tcontext_size: 32\n",
      "\u001b[34m\u001b[1mwandb\u001b[0m: \tdropout_proba: 0.4\n",
      "\u001b[34m\u001b[1mwandb\u001b[0m: \tlr: 0.01\n",
      "\u001b[34m\u001b[1mwandb\u001b[0m: \tnum_components: 64\n",
      "\u001b[34m\u001b[1mwandb\u001b[0m: \trnn_type: GRU\n",
      "\u001b[34m\u001b[1mwandb\u001b[0m: \tweight_decay: 0\n"
     ]
    },
    {
     "data": {
      "text/html": [
       "Tracking run with wandb version 0.15.12"
      ],
      "text/plain": [
       "<IPython.core.display.HTML object>"
      ]
     },
     "metadata": {},
     "output_type": "display_data"
    },
    {
     "data": {
      "text/html": [
       "Run data is saved locally in <code>/home/zekai/repos/recast/notebooks/Zekai/hyperparameter_sweep/wandb/run-20231105_222028-3f23ig8i</code>"
      ],
      "text/plain": [
       "<IPython.core.display.HTML object>"
      ]
     },
     "metadata": {},
     "output_type": "display_data"
    },
    {
     "data": {
      "text/html": [
       "Syncing run <strong><a href='https://wandb.ai/zekai-wang/RecurrentTPP%20on%20ANSS%20Nov%205/runs/3f23ig8i' target=\"_blank\">revived-sweep-4</a></strong> to <a href='https://wandb.ai/zekai-wang/RecurrentTPP%20on%20ANSS%20Nov%205' target=\"_blank\">Weights & Biases</a> (<a href='https://wandb.me/run' target=\"_blank\">docs</a>)<br/>Sweep page: <a href='https://wandb.ai/zekai-wang/RecurrentTPP%20on%20ANSS%20Nov%205/sweeps/27ca0onv' target=\"_blank\">https://wandb.ai/zekai-wang/RecurrentTPP%20on%20ANSS%20Nov%205/sweeps/27ca0onv</a>"
      ],
      "text/plain": [
       "<IPython.core.display.HTML object>"
      ]
     },
     "metadata": {},
     "output_type": "display_data"
    },
    {
     "data": {
      "text/html": [
       " View project at <a href='https://wandb.ai/zekai-wang/RecurrentTPP%20on%20ANSS%20Nov%205' target=\"_blank\">https://wandb.ai/zekai-wang/RecurrentTPP%20on%20ANSS%20Nov%205</a>"
      ],
      "text/plain": [
       "<IPython.core.display.HTML object>"
      ]
     },
     "metadata": {},
     "output_type": "display_data"
    },
    {
     "data": {
      "text/html": [
       " View sweep at <a href='https://wandb.ai/zekai-wang/RecurrentTPP%20on%20ANSS%20Nov%205/sweeps/27ca0onv' target=\"_blank\">https://wandb.ai/zekai-wang/RecurrentTPP%20on%20ANSS%20Nov%205/sweeps/27ca0onv</a>"
      ],
      "text/plain": [
       "<IPython.core.display.HTML object>"
      ]
     },
     "metadata": {},
     "output_type": "display_data"
    },
    {
     "data": {
      "text/html": [
       " View run at <a href='https://wandb.ai/zekai-wang/RecurrentTPP%20on%20ANSS%20Nov%205/runs/3f23ig8i' target=\"_blank\">https://wandb.ai/zekai-wang/RecurrentTPP%20on%20ANSS%20Nov%205/runs/3f23ig8i</a>"
      ],
      "text/plain": [
       "<IPython.core.display.HTML object>"
      ]
     },
     "metadata": {},
     "output_type": "display_data"
    },
    {
     "data": {
      "application/vnd.jupyter.widget-view+json": {
       "model_id": "98b82acb203943d29dfebefffdbedb16",
       "version_major": 2,
       "version_minor": 0
      },
      "text/plain": [
       "  0%|          | 0/200 [00:00<?, ?it/s]"
      ]
     },
     "metadata": {},
     "output_type": "display_data"
    },
    {
     "data": {
      "text/html": [
       "Waiting for W&B process to finish... <strong style=\"color:green\">(success).</strong>"
      ],
      "text/plain": [
       "<IPython.core.display.HTML object>"
      ]
     },
     "metadata": {},
     "output_type": "display_data"
    },
    {
     "data": {
      "text/html": [
       "<style>\n",
       "    table.wandb td:nth-child(1) { padding: 0 10px; text-align: left ; width: auto;} td:nth-child(2) {text-align: left ; width: 100%}\n",
       "    .wandb-row { display: flex; flex-direction: row; flex-wrap: wrap; justify-content: flex-start; width: 100% }\n",
       "    .wandb-col { display: flex; flex-direction: column; flex-basis: 100%; flex: 1; padding: 10px; }\n",
       "    </style>\n",
       "<div class=\"wandb-row\"><div class=\"wandb-col\"><h3>Run history:</h3><br/><table class=\"wandb\"><tr><td>avg_test_loss</td><td>▁</td></tr></table><br/></div><div class=\"wandb-col\"><h3>Run summary:</h3><br/><table class=\"wandb\"><tr><td>avg_test_loss</td><td>0.18022</td></tr></table><br/></div></div>"
      ],
      "text/plain": [
       "<IPython.core.display.HTML object>"
      ]
     },
     "metadata": {},
     "output_type": "display_data"
    },
    {
     "data": {
      "text/html": [
       " View run <strong style=\"color:#cdcd00\">revived-sweep-4</strong> at: <a href='https://wandb.ai/zekai-wang/RecurrentTPP%20on%20ANSS%20Nov%205/runs/3f23ig8i' target=\"_blank\">https://wandb.ai/zekai-wang/RecurrentTPP%20on%20ANSS%20Nov%205/runs/3f23ig8i</a><br/>Synced 5 W&B file(s), 0 media file(s), 0 artifact file(s) and 0 other file(s)"
      ],
      "text/plain": [
       "<IPython.core.display.HTML object>"
      ]
     },
     "metadata": {},
     "output_type": "display_data"
    },
    {
     "data": {
      "text/html": [
       "Find logs at: <code>./wandb/run-20231105_222028-3f23ig8i/logs</code>"
      ],
      "text/plain": [
       "<IPython.core.display.HTML object>"
      ]
     },
     "metadata": {},
     "output_type": "display_data"
    },
    {
     "name": "stderr",
     "output_type": "stream",
     "text": [
      "\u001b[34m\u001b[1mwandb\u001b[0m: Agent Starting Run: mozsxwej with config:\n",
      "\u001b[34m\u001b[1mwandb\u001b[0m: \tbatch_size: 8\n",
      "\u001b[34m\u001b[1mwandb\u001b[0m: \tbetas: [0.9, 0.999]\n",
      "\u001b[34m\u001b[1mwandb\u001b[0m: \tcontext_size: 32\n",
      "\u001b[34m\u001b[1mwandb\u001b[0m: \tdropout_proba: 0.3\n",
      "\u001b[34m\u001b[1mwandb\u001b[0m: \tlr: 0.005\n",
      "\u001b[34m\u001b[1mwandb\u001b[0m: \tnum_components: 32\n",
      "\u001b[34m\u001b[1mwandb\u001b[0m: \trnn_type: RNN\n",
      "\u001b[34m\u001b[1mwandb\u001b[0m: \tweight_decay: 0\n"
     ]
    },
    {
     "data": {
      "text/html": [
       "Tracking run with wandb version 0.15.12"
      ],
      "text/plain": [
       "<IPython.core.display.HTML object>"
      ]
     },
     "metadata": {},
     "output_type": "display_data"
    },
    {
     "data": {
      "text/html": [
       "Run data is saved locally in <code>/home/zekai/repos/recast/notebooks/Zekai/hyperparameter_sweep/wandb/run-20231105_222215-mozsxwej</code>"
      ],
      "text/plain": [
       "<IPython.core.display.HTML object>"
      ]
     },
     "metadata": {},
     "output_type": "display_data"
    },
    {
     "data": {
      "text/html": [
       "Syncing run <strong><a href='https://wandb.ai/zekai-wang/RecurrentTPP%20on%20ANSS%20Nov%205/runs/mozsxwej' target=\"_blank\">volcanic-sweep-5</a></strong> to <a href='https://wandb.ai/zekai-wang/RecurrentTPP%20on%20ANSS%20Nov%205' target=\"_blank\">Weights & Biases</a> (<a href='https://wandb.me/run' target=\"_blank\">docs</a>)<br/>Sweep page: <a href='https://wandb.ai/zekai-wang/RecurrentTPP%20on%20ANSS%20Nov%205/sweeps/27ca0onv' target=\"_blank\">https://wandb.ai/zekai-wang/RecurrentTPP%20on%20ANSS%20Nov%205/sweeps/27ca0onv</a>"
      ],
      "text/plain": [
       "<IPython.core.display.HTML object>"
      ]
     },
     "metadata": {},
     "output_type": "display_data"
    },
    {
     "data": {
      "text/html": [
       " View project at <a href='https://wandb.ai/zekai-wang/RecurrentTPP%20on%20ANSS%20Nov%205' target=\"_blank\">https://wandb.ai/zekai-wang/RecurrentTPP%20on%20ANSS%20Nov%205</a>"
      ],
      "text/plain": [
       "<IPython.core.display.HTML object>"
      ]
     },
     "metadata": {},
     "output_type": "display_data"
    },
    {
     "data": {
      "text/html": [
       " View sweep at <a href='https://wandb.ai/zekai-wang/RecurrentTPP%20on%20ANSS%20Nov%205/sweeps/27ca0onv' target=\"_blank\">https://wandb.ai/zekai-wang/RecurrentTPP%20on%20ANSS%20Nov%205/sweeps/27ca0onv</a>"
      ],
      "text/plain": [
       "<IPython.core.display.HTML object>"
      ]
     },
     "metadata": {},
     "output_type": "display_data"
    },
    {
     "data": {
      "text/html": [
       " View run at <a href='https://wandb.ai/zekai-wang/RecurrentTPP%20on%20ANSS%20Nov%205/runs/mozsxwej' target=\"_blank\">https://wandb.ai/zekai-wang/RecurrentTPP%20on%20ANSS%20Nov%205/runs/mozsxwej</a>"
      ],
      "text/plain": [
       "<IPython.core.display.HTML object>"
      ]
     },
     "metadata": {},
     "output_type": "display_data"
    },
    {
     "data": {
      "application/vnd.jupyter.widget-view+json": {
       "model_id": "00c16be138c34974a76f965b0621b206",
       "version_major": 2,
       "version_minor": 0
      },
      "text/plain": [
       "  0%|          | 0/200 [00:00<?, ?it/s]"
      ]
     },
     "metadata": {},
     "output_type": "display_data"
    },
    {
     "data": {
      "text/html": [
       "Waiting for W&B process to finish... <strong style=\"color:green\">(success).</strong>"
      ],
      "text/plain": [
       "<IPython.core.display.HTML object>"
      ]
     },
     "metadata": {},
     "output_type": "display_data"
    },
    {
     "data": {
      "application/vnd.jupyter.widget-view+json": {
       "model_id": "f42e8f18c67f4e46acc4f5e4ccd5ebbe",
       "version_major": 2,
       "version_minor": 0
      },
      "text/plain": [
       "VBox(children=(Label(value='0.003 MB of 0.019 MB uploaded (0.000 MB deduped)\\r'), FloatProgress(value=0.184864…"
      ]
     },
     "metadata": {},
     "output_type": "display_data"
    },
    {
     "data": {
      "text/html": [
       "<style>\n",
       "    table.wandb td:nth-child(1) { padding: 0 10px; text-align: left ; width: auto;} td:nth-child(2) {text-align: left ; width: 100%}\n",
       "    .wandb-row { display: flex; flex-direction: row; flex-wrap: wrap; justify-content: flex-start; width: 100% }\n",
       "    .wandb-col { display: flex; flex-direction: column; flex-basis: 100%; flex: 1; padding: 10px; }\n",
       "    </style>\n",
       "<div class=\"wandb-row\"><div class=\"wandb-col\"><h3>Run history:</h3><br/><table class=\"wandb\"><tr><td>avg_test_loss</td><td>▁</td></tr></table><br/></div><div class=\"wandb-col\"><h3>Run summary:</h3><br/><table class=\"wandb\"><tr><td>avg_test_loss</td><td>0.17367</td></tr></table><br/></div></div>"
      ],
      "text/plain": [
       "<IPython.core.display.HTML object>"
      ]
     },
     "metadata": {},
     "output_type": "display_data"
    },
    {
     "data": {
      "text/html": [
       " View run <strong style=\"color:#cdcd00\">volcanic-sweep-5</strong> at: <a href='https://wandb.ai/zekai-wang/RecurrentTPP%20on%20ANSS%20Nov%205/runs/mozsxwej' target=\"_blank\">https://wandb.ai/zekai-wang/RecurrentTPP%20on%20ANSS%20Nov%205/runs/mozsxwej</a><br/>Synced 5 W&B file(s), 0 media file(s), 0 artifact file(s) and 0 other file(s)"
      ],
      "text/plain": [
       "<IPython.core.display.HTML object>"
      ]
     },
     "metadata": {},
     "output_type": "display_data"
    },
    {
     "data": {
      "text/html": [
       "Find logs at: <code>./wandb/run-20231105_222215-mozsxwej/logs</code>"
      ],
      "text/plain": [
       "<IPython.core.display.HTML object>"
      ]
     },
     "metadata": {},
     "output_type": "display_data"
    },
    {
     "name": "stderr",
     "output_type": "stream",
     "text": [
      "\u001b[34m\u001b[1mwandb\u001b[0m: Agent Starting Run: u688d0ul with config:\n",
      "\u001b[34m\u001b[1mwandb\u001b[0m: \tbatch_size: 32\n",
      "\u001b[34m\u001b[1mwandb\u001b[0m: \tbetas: [0.9, 0.999]\n",
      "\u001b[34m\u001b[1mwandb\u001b[0m: \tcontext_size: 32\n",
      "\u001b[34m\u001b[1mwandb\u001b[0m: \tdropout_proba: 0\n",
      "\u001b[34m\u001b[1mwandb\u001b[0m: \tlr: 0.01\n",
      "\u001b[34m\u001b[1mwandb\u001b[0m: \tnum_components: 64\n",
      "\u001b[34m\u001b[1mwandb\u001b[0m: \trnn_type: LSTM\n",
      "\u001b[34m\u001b[1mwandb\u001b[0m: \tweight_decay: 0.02\n"
     ]
    },
    {
     "data": {
      "text/html": [
       "Tracking run with wandb version 0.15.12"
      ],
      "text/plain": [
       "<IPython.core.display.HTML object>"
      ]
     },
     "metadata": {},
     "output_type": "display_data"
    },
    {
     "data": {
      "text/html": [
       "Run data is saved locally in <code>/home/zekai/repos/recast/notebooks/Zekai/hyperparameter_sweep/wandb/run-20231105_222403-u688d0ul</code>"
      ],
      "text/plain": [
       "<IPython.core.display.HTML object>"
      ]
     },
     "metadata": {},
     "output_type": "display_data"
    },
    {
     "data": {
      "text/html": [
       "Syncing run <strong><a href='https://wandb.ai/zekai-wang/RecurrentTPP%20on%20ANSS%20Nov%205/runs/u688d0ul' target=\"_blank\">brisk-sweep-6</a></strong> to <a href='https://wandb.ai/zekai-wang/RecurrentTPP%20on%20ANSS%20Nov%205' target=\"_blank\">Weights & Biases</a> (<a href='https://wandb.me/run' target=\"_blank\">docs</a>)<br/>Sweep page: <a href='https://wandb.ai/zekai-wang/RecurrentTPP%20on%20ANSS%20Nov%205/sweeps/27ca0onv' target=\"_blank\">https://wandb.ai/zekai-wang/RecurrentTPP%20on%20ANSS%20Nov%205/sweeps/27ca0onv</a>"
      ],
      "text/plain": [
       "<IPython.core.display.HTML object>"
      ]
     },
     "metadata": {},
     "output_type": "display_data"
    },
    {
     "data": {
      "text/html": [
       " View project at <a href='https://wandb.ai/zekai-wang/RecurrentTPP%20on%20ANSS%20Nov%205' target=\"_blank\">https://wandb.ai/zekai-wang/RecurrentTPP%20on%20ANSS%20Nov%205</a>"
      ],
      "text/plain": [
       "<IPython.core.display.HTML object>"
      ]
     },
     "metadata": {},
     "output_type": "display_data"
    },
    {
     "data": {
      "text/html": [
       " View sweep at <a href='https://wandb.ai/zekai-wang/RecurrentTPP%20on%20ANSS%20Nov%205/sweeps/27ca0onv' target=\"_blank\">https://wandb.ai/zekai-wang/RecurrentTPP%20on%20ANSS%20Nov%205/sweeps/27ca0onv</a>"
      ],
      "text/plain": [
       "<IPython.core.display.HTML object>"
      ]
     },
     "metadata": {},
     "output_type": "display_data"
    },
    {
     "data": {
      "text/html": [
       " View run at <a href='https://wandb.ai/zekai-wang/RecurrentTPP%20on%20ANSS%20Nov%205/runs/u688d0ul' target=\"_blank\">https://wandb.ai/zekai-wang/RecurrentTPP%20on%20ANSS%20Nov%205/runs/u688d0ul</a>"
      ],
      "text/plain": [
       "<IPython.core.display.HTML object>"
      ]
     },
     "metadata": {},
     "output_type": "display_data"
    },
    {
     "data": {
      "application/vnd.jupyter.widget-view+json": {
       "model_id": "28c7cc630bae405a92781a81ddb5fb8d",
       "version_major": 2,
       "version_minor": 0
      },
      "text/plain": [
       "  0%|          | 0/200 [00:00<?, ?it/s]"
      ]
     },
     "metadata": {},
     "output_type": "display_data"
    },
    {
     "data": {
      "text/html": [
       "Waiting for W&B process to finish... <strong style=\"color:green\">(success).</strong>"
      ],
      "text/plain": [
       "<IPython.core.display.HTML object>"
      ]
     },
     "metadata": {},
     "output_type": "display_data"
    },
    {
     "data": {
      "application/vnd.jupyter.widget-view+json": {
       "model_id": "5fd968a79880476ebb71d1b3f9e37950",
       "version_major": 2,
       "version_minor": 0
      },
      "text/plain": [
       "VBox(children=(Label(value='0.003 MB of 0.014 MB uploaded (0.000 MB deduped)\\r'), FloatProgress(value=0.246308…"
      ]
     },
     "metadata": {},
     "output_type": "display_data"
    },
    {
     "data": {
      "text/html": [
       "<style>\n",
       "    table.wandb td:nth-child(1) { padding: 0 10px; text-align: left ; width: auto;} td:nth-child(2) {text-align: left ; width: 100%}\n",
       "    .wandb-row { display: flex; flex-direction: row; flex-wrap: wrap; justify-content: flex-start; width: 100% }\n",
       "    .wandb-col { display: flex; flex-direction: column; flex-basis: 100%; flex: 1; padding: 10px; }\n",
       "    </style>\n",
       "<div class=\"wandb-row\"><div class=\"wandb-col\"><h3>Run history:</h3><br/><table class=\"wandb\"><tr><td>avg_test_loss</td><td>▁</td></tr></table><br/></div><div class=\"wandb-col\"><h3>Run summary:</h3><br/><table class=\"wandb\"><tr><td>avg_test_loss</td><td>0.16217</td></tr></table><br/></div></div>"
      ],
      "text/plain": [
       "<IPython.core.display.HTML object>"
      ]
     },
     "metadata": {},
     "output_type": "display_data"
    },
    {
     "data": {
      "text/html": [
       " View run <strong style=\"color:#cdcd00\">brisk-sweep-6</strong> at: <a href='https://wandb.ai/zekai-wang/RecurrentTPP%20on%20ANSS%20Nov%205/runs/u688d0ul' target=\"_blank\">https://wandb.ai/zekai-wang/RecurrentTPP%20on%20ANSS%20Nov%205/runs/u688d0ul</a><br/>Synced 5 W&B file(s), 0 media file(s), 0 artifact file(s) and 0 other file(s)"
      ],
      "text/plain": [
       "<IPython.core.display.HTML object>"
      ]
     },
     "metadata": {},
     "output_type": "display_data"
    },
    {
     "data": {
      "text/html": [
       "Find logs at: <code>./wandb/run-20231105_222403-u688d0ul/logs</code>"
      ],
      "text/plain": [
       "<IPython.core.display.HTML object>"
      ]
     },
     "metadata": {},
     "output_type": "display_data"
    },
    {
     "name": "stderr",
     "output_type": "stream",
     "text": [
      "\u001b[34m\u001b[1mwandb\u001b[0m: Agent Starting Run: j0h7zq2i with config:\n",
      "\u001b[34m\u001b[1mwandb\u001b[0m: \tbatch_size: 64\n",
      "\u001b[34m\u001b[1mwandb\u001b[0m: \tbetas: [0.9, 0.999]\n",
      "\u001b[34m\u001b[1mwandb\u001b[0m: \tcontext_size: 64\n",
      "\u001b[34m\u001b[1mwandb\u001b[0m: \tdropout_proba: 0.4\n",
      "\u001b[34m\u001b[1mwandb\u001b[0m: \tlr: 0.001\n",
      "\u001b[34m\u001b[1mwandb\u001b[0m: \tnum_components: 16\n",
      "\u001b[34m\u001b[1mwandb\u001b[0m: \trnn_type: RNN\n",
      "\u001b[34m\u001b[1mwandb\u001b[0m: \tweight_decay: 0.001\n"
     ]
    },
    {
     "data": {
      "text/html": [
       "Tracking run with wandb version 0.15.12"
      ],
      "text/plain": [
       "<IPython.core.display.HTML object>"
      ]
     },
     "metadata": {},
     "output_type": "display_data"
    },
    {
     "data": {
      "text/html": [
       "Run data is saved locally in <code>/home/zekai/repos/recast/notebooks/Zekai/hyperparameter_sweep/wandb/run-20231105_222535-j0h7zq2i</code>"
      ],
      "text/plain": [
       "<IPython.core.display.HTML object>"
      ]
     },
     "metadata": {},
     "output_type": "display_data"
    },
    {
     "data": {
      "text/html": [
       "Syncing run <strong><a href='https://wandb.ai/zekai-wang/RecurrentTPP%20on%20ANSS%20Nov%205/runs/j0h7zq2i' target=\"_blank\">eager-sweep-7</a></strong> to <a href='https://wandb.ai/zekai-wang/RecurrentTPP%20on%20ANSS%20Nov%205' target=\"_blank\">Weights & Biases</a> (<a href='https://wandb.me/run' target=\"_blank\">docs</a>)<br/>Sweep page: <a href='https://wandb.ai/zekai-wang/RecurrentTPP%20on%20ANSS%20Nov%205/sweeps/27ca0onv' target=\"_blank\">https://wandb.ai/zekai-wang/RecurrentTPP%20on%20ANSS%20Nov%205/sweeps/27ca0onv</a>"
      ],
      "text/plain": [
       "<IPython.core.display.HTML object>"
      ]
     },
     "metadata": {},
     "output_type": "display_data"
    },
    {
     "data": {
      "text/html": [
       " View project at <a href='https://wandb.ai/zekai-wang/RecurrentTPP%20on%20ANSS%20Nov%205' target=\"_blank\">https://wandb.ai/zekai-wang/RecurrentTPP%20on%20ANSS%20Nov%205</a>"
      ],
      "text/plain": [
       "<IPython.core.display.HTML object>"
      ]
     },
     "metadata": {},
     "output_type": "display_data"
    },
    {
     "data": {
      "text/html": [
       " View sweep at <a href='https://wandb.ai/zekai-wang/RecurrentTPP%20on%20ANSS%20Nov%205/sweeps/27ca0onv' target=\"_blank\">https://wandb.ai/zekai-wang/RecurrentTPP%20on%20ANSS%20Nov%205/sweeps/27ca0onv</a>"
      ],
      "text/plain": [
       "<IPython.core.display.HTML object>"
      ]
     },
     "metadata": {},
     "output_type": "display_data"
    },
    {
     "data": {
      "text/html": [
       " View run at <a href='https://wandb.ai/zekai-wang/RecurrentTPP%20on%20ANSS%20Nov%205/runs/j0h7zq2i' target=\"_blank\">https://wandb.ai/zekai-wang/RecurrentTPP%20on%20ANSS%20Nov%205/runs/j0h7zq2i</a>"
      ],
      "text/plain": [
       "<IPython.core.display.HTML object>"
      ]
     },
     "metadata": {},
     "output_type": "display_data"
    },
    {
     "data": {
      "application/vnd.jupyter.widget-view+json": {
       "model_id": "f52f86dea0494bd59e4de710f15a7416",
       "version_major": 2,
       "version_minor": 0
      },
      "text/plain": [
       "  0%|          | 0/200 [00:00<?, ?it/s]"
      ]
     },
     "metadata": {},
     "output_type": "display_data"
    },
    {
     "data": {
      "text/html": [
       "Waiting for W&B process to finish... <strong style=\"color:green\">(success).</strong>"
      ],
      "text/plain": [
       "<IPython.core.display.HTML object>"
      ]
     },
     "metadata": {},
     "output_type": "display_data"
    },
    {
     "data": {
      "text/html": [
       "<style>\n",
       "    table.wandb td:nth-child(1) { padding: 0 10px; text-align: left ; width: auto;} td:nth-child(2) {text-align: left ; width: 100%}\n",
       "    .wandb-row { display: flex; flex-direction: row; flex-wrap: wrap; justify-content: flex-start; width: 100% }\n",
       "    .wandb-col { display: flex; flex-direction: column; flex-basis: 100%; flex: 1; padding: 10px; }\n",
       "    </style>\n",
       "<div class=\"wandb-row\"><div class=\"wandb-col\"><h3>Run history:</h3><br/><table class=\"wandb\"><tr><td>avg_test_loss</td><td>▁</td></tr></table><br/></div><div class=\"wandb-col\"><h3>Run summary:</h3><br/><table class=\"wandb\"><tr><td>avg_test_loss</td><td>0.17515</td></tr></table><br/></div></div>"
      ],
      "text/plain": [
       "<IPython.core.display.HTML object>"
      ]
     },
     "metadata": {},
     "output_type": "display_data"
    },
    {
     "data": {
      "text/html": [
       " View run <strong style=\"color:#cdcd00\">eager-sweep-7</strong> at: <a href='https://wandb.ai/zekai-wang/RecurrentTPP%20on%20ANSS%20Nov%205/runs/j0h7zq2i' target=\"_blank\">https://wandb.ai/zekai-wang/RecurrentTPP%20on%20ANSS%20Nov%205/runs/j0h7zq2i</a><br/>Synced 5 W&B file(s), 0 media file(s), 0 artifact file(s) and 0 other file(s)"
      ],
      "text/plain": [
       "<IPython.core.display.HTML object>"
      ]
     },
     "metadata": {},
     "output_type": "display_data"
    },
    {
     "data": {
      "text/html": [
       "Find logs at: <code>./wandb/run-20231105_222535-j0h7zq2i/logs</code>"
      ],
      "text/plain": [
       "<IPython.core.display.HTML object>"
      ]
     },
     "metadata": {},
     "output_type": "display_data"
    },
    {
     "name": "stderr",
     "output_type": "stream",
     "text": [
      "\u001b[34m\u001b[1mwandb\u001b[0m: Agent Starting Run: 21wsc8e7 with config:\n",
      "\u001b[34m\u001b[1mwandb\u001b[0m: \tbatch_size: 8\n",
      "\u001b[34m\u001b[1mwandb\u001b[0m: \tbetas: [0.9, 0.999]\n",
      "\u001b[34m\u001b[1mwandb\u001b[0m: \tcontext_size: 16\n",
      "\u001b[34m\u001b[1mwandb\u001b[0m: \tdropout_proba: 0.4\n",
      "\u001b[34m\u001b[1mwandb\u001b[0m: \tlr: 0.05\n",
      "\u001b[34m\u001b[1mwandb\u001b[0m: \tnum_components: 8\n",
      "\u001b[34m\u001b[1mwandb\u001b[0m: \trnn_type: GRU\n",
      "\u001b[34m\u001b[1mwandb\u001b[0m: \tweight_decay: 0.01\n"
     ]
    },
    {
     "data": {
      "text/html": [
       "Tracking run with wandb version 0.15.12"
      ],
      "text/plain": [
       "<IPython.core.display.HTML object>"
      ]
     },
     "metadata": {},
     "output_type": "display_data"
    },
    {
     "data": {
      "text/html": [
       "Run data is saved locally in <code>/home/zekai/repos/recast/notebooks/Zekai/hyperparameter_sweep/wandb/run-20231105_222652-21wsc8e7</code>"
      ],
      "text/plain": [
       "<IPython.core.display.HTML object>"
      ]
     },
     "metadata": {},
     "output_type": "display_data"
    },
    {
     "data": {
      "text/html": [
       "Syncing run <strong><a href='https://wandb.ai/zekai-wang/RecurrentTPP%20on%20ANSS%20Nov%205/runs/21wsc8e7' target=\"_blank\">light-sweep-8</a></strong> to <a href='https://wandb.ai/zekai-wang/RecurrentTPP%20on%20ANSS%20Nov%205' target=\"_blank\">Weights & Biases</a> (<a href='https://wandb.me/run' target=\"_blank\">docs</a>)<br/>Sweep page: <a href='https://wandb.ai/zekai-wang/RecurrentTPP%20on%20ANSS%20Nov%205/sweeps/27ca0onv' target=\"_blank\">https://wandb.ai/zekai-wang/RecurrentTPP%20on%20ANSS%20Nov%205/sweeps/27ca0onv</a>"
      ],
      "text/plain": [
       "<IPython.core.display.HTML object>"
      ]
     },
     "metadata": {},
     "output_type": "display_data"
    },
    {
     "data": {
      "text/html": [
       " View project at <a href='https://wandb.ai/zekai-wang/RecurrentTPP%20on%20ANSS%20Nov%205' target=\"_blank\">https://wandb.ai/zekai-wang/RecurrentTPP%20on%20ANSS%20Nov%205</a>"
      ],
      "text/plain": [
       "<IPython.core.display.HTML object>"
      ]
     },
     "metadata": {},
     "output_type": "display_data"
    },
    {
     "data": {
      "text/html": [
       " View sweep at <a href='https://wandb.ai/zekai-wang/RecurrentTPP%20on%20ANSS%20Nov%205/sweeps/27ca0onv' target=\"_blank\">https://wandb.ai/zekai-wang/RecurrentTPP%20on%20ANSS%20Nov%205/sweeps/27ca0onv</a>"
      ],
      "text/plain": [
       "<IPython.core.display.HTML object>"
      ]
     },
     "metadata": {},
     "output_type": "display_data"
    },
    {
     "data": {
      "text/html": [
       " View run at <a href='https://wandb.ai/zekai-wang/RecurrentTPP%20on%20ANSS%20Nov%205/runs/21wsc8e7' target=\"_blank\">https://wandb.ai/zekai-wang/RecurrentTPP%20on%20ANSS%20Nov%205/runs/21wsc8e7</a>"
      ],
      "text/plain": [
       "<IPython.core.display.HTML object>"
      ]
     },
     "metadata": {},
     "output_type": "display_data"
    },
    {
     "data": {
      "application/vnd.jupyter.widget-view+json": {
       "model_id": "d37ac2a242514173be92120a5357efcc",
       "version_major": 2,
       "version_minor": 0
      },
      "text/plain": [
       "  0%|          | 0/200 [00:00<?, ?it/s]"
      ]
     },
     "metadata": {},
     "output_type": "display_data"
    },
    {
     "name": "stdout",
     "output_type": "stream",
     "text": [
      "Expected parameter scale (Tensor of shape (8, 582, 8)) of distribution Weibull(scale: torch.Size([8, 582, 8]), shape: torch.Size([8, 582, 8])) to satisfy the constraint GreaterThan(lower_bound=0.0), but found invalid values:\n",
      "tensor([[[0.8988, 3.6720, 0.7561,  ..., 1.1632, 8.1114, 2.0297],\n",
      "         [   nan,    nan,    nan,  ...,    nan,    nan,    nan],\n",
      "         [   nan,    nan,    nan,  ...,    nan,    nan,    nan],\n",
      "         ...,\n",
      "         [   nan,    nan,    nan,  ...,    nan,    nan,    nan],\n",
      "         [   nan,    nan,    nan,  ...,    nan,    nan,    nan],\n",
      "         [   nan,    nan,    nan,  ...,    nan,    nan,    nan]],\n",
      "\n",
      "        [[0.8988, 3.6720, 0.7561,  ..., 1.1632, 8.1114, 2.0297],\n",
      "         [   nan,    nan,    nan,  ...,    nan,    nan,    nan],\n",
      "         [   nan,    nan,    nan,  ...,    nan,    nan,    nan],\n",
      "         ...,\n",
      "         [   nan,    nan,    nan,  ...,    nan,    nan,    nan],\n",
      "         [   nan,    nan,    nan,  ...,    nan,    nan,    nan],\n",
      "         [   nan,    nan,    nan,  ...,    nan,    nan,    nan]],\n",
      "\n",
      "        [[0.8988, 3.6720, 0.7561,  ..., 1.1632, 8.1114, 2.0297],\n",
      "         [   nan,    nan,    nan,  ...,    nan,    nan,    nan],\n",
      "         [   nan,    nan,    nan,  ...,    nan,    nan,    nan],\n",
      "         ...,\n",
      "         [   nan,    nan,    nan,  ...,    nan,    nan,    nan],\n",
      "         [   nan,    nan,    nan,  ...,    nan,    nan,    nan],\n",
      "         [   nan,    nan,    nan,  ...,    nan,    nan,    nan]],\n",
      "\n",
      "        ...,\n",
      "\n",
      "        [[0.8988, 3.6720, 0.7561,  ..., 1.1632, 8.1114, 2.0297],\n",
      "         [   nan,    nan,    nan,  ...,    nan,    nan,    nan],\n",
      "         [   nan,    nan,    nan,  ...,    nan,    nan,    nan],\n",
      "         ...,\n",
      "         [   nan,    nan,    nan,  ...,    nan,    nan,    nan],\n",
      "         [   nan,    nan,    nan,  ...,    nan,    nan,    nan],\n",
      "         [   nan,    nan,    nan,  ...,    nan,    nan,    nan]],\n",
      "\n",
      "        [[0.8988, 3.6720, 0.7561,  ..., 1.1632, 8.1114, 2.0297],\n",
      "         [   nan,    nan,    nan,  ...,    nan,    nan,    nan],\n",
      "         [   nan,    nan,    nan,  ...,    nan,    nan,    nan],\n",
      "         ...,\n",
      "         [   nan,    nan,    nan,  ...,    nan,    nan,    nan],\n",
      "         [   nan,    nan,    nan,  ...,    nan,    nan,    nan],\n",
      "         [   nan,    nan,    nan,  ...,    nan,    nan,    nan]],\n",
      "\n",
      "        [[0.8988, 3.6720, 0.7561,  ..., 1.1632, 8.1114, 2.0297],\n",
      "         [   nan,    nan,    nan,  ...,    nan,    nan,    nan],\n",
      "         [   nan,    nan,    nan,  ...,    nan,    nan,    nan],\n",
      "         ...,\n",
      "         [   nan,    nan,    nan,  ...,    nan,    nan,    nan],\n",
      "         [   nan,    nan,    nan,  ...,    nan,    nan,    nan],\n",
      "         [   nan,    nan,    nan,  ...,    nan,    nan,    nan]]],\n",
      "       device='cuda:0', grad_fn=<SoftplusBackward0>)\n"
     ]
    },
    {
     "data": {
      "text/html": [
       "Waiting for W&B process to finish... <strong style=\"color:green\">(success).</strong>"
      ],
      "text/plain": [
       "<IPython.core.display.HTML object>"
      ]
     },
     "metadata": {},
     "output_type": "display_data"
    },
    {
     "data": {
      "text/html": [
       "<style>\n",
       "    table.wandb td:nth-child(1) { padding: 0 10px; text-align: left ; width: auto;} td:nth-child(2) {text-align: left ; width: 100%}\n",
       "    .wandb-row { display: flex; flex-direction: row; flex-wrap: wrap; justify-content: flex-start; width: 100% }\n",
       "    .wandb-col { display: flex; flex-direction: column; flex-basis: 100%; flex: 1; padding: 10px; }\n",
       "    </style>\n",
       "<div class=\"wandb-row\"><div class=\"wandb-col\"><h3>Run summary:</h3><br/><table class=\"wandb\"><tr><td>avg_test_loss</td><td>nan</td></tr></table><br/></div></div>"
      ],
      "text/plain": [
       "<IPython.core.display.HTML object>"
      ]
     },
     "metadata": {},
     "output_type": "display_data"
    },
    {
     "data": {
      "text/html": [
       " View run <strong style=\"color:#cdcd00\">light-sweep-8</strong> at: <a href='https://wandb.ai/zekai-wang/RecurrentTPP%20on%20ANSS%20Nov%205/runs/21wsc8e7' target=\"_blank\">https://wandb.ai/zekai-wang/RecurrentTPP%20on%20ANSS%20Nov%205/runs/21wsc8e7</a><br/>Synced 6 W&B file(s), 0 media file(s), 0 artifact file(s) and 0 other file(s)"
      ],
      "text/plain": [
       "<IPython.core.display.HTML object>"
      ]
     },
     "metadata": {},
     "output_type": "display_data"
    },
    {
     "data": {
      "text/html": [
       "Find logs at: <code>./wandb/run-20231105_222652-21wsc8e7/logs</code>"
      ],
      "text/plain": [
       "<IPython.core.display.HTML object>"
      ]
     },
     "metadata": {},
     "output_type": "display_data"
    },
    {
     "name": "stderr",
     "output_type": "stream",
     "text": [
      "\u001b[34m\u001b[1mwandb\u001b[0m: Agent Starting Run: sw1p9aoi with config:\n",
      "\u001b[34m\u001b[1mwandb\u001b[0m: \tbatch_size: 8\n",
      "\u001b[34m\u001b[1mwandb\u001b[0m: \tbetas: [0.9, 0.999]\n",
      "\u001b[34m\u001b[1mwandb\u001b[0m: \tcontext_size: 128\n",
      "\u001b[34m\u001b[1mwandb\u001b[0m: \tdropout_proba: 0.4\n",
      "\u001b[34m\u001b[1mwandb\u001b[0m: \tlr: 0.05\n",
      "\u001b[34m\u001b[1mwandb\u001b[0m: \tnum_components: 16\n",
      "\u001b[34m\u001b[1mwandb\u001b[0m: \trnn_type: LSTM\n",
      "\u001b[34m\u001b[1mwandb\u001b[0m: \tweight_decay: 0.01\n"
     ]
    },
    {
     "data": {
      "text/html": [
       "Tracking run with wandb version 0.15.12"
      ],
      "text/plain": [
       "<IPython.core.display.HTML object>"
      ]
     },
     "metadata": {},
     "output_type": "display_data"
    },
    {
     "data": {
      "text/html": [
       "Run data is saved locally in <code>/home/zekai/repos/recast/notebooks/Zekai/hyperparameter_sweep/wandb/run-20231105_222728-sw1p9aoi</code>"
      ],
      "text/plain": [
       "<IPython.core.display.HTML object>"
      ]
     },
     "metadata": {},
     "output_type": "display_data"
    },
    {
     "data": {
      "text/html": [
       "Syncing run <strong><a href='https://wandb.ai/zekai-wang/RecurrentTPP%20on%20ANSS%20Nov%205/runs/sw1p9aoi' target=\"_blank\">neat-sweep-9</a></strong> to <a href='https://wandb.ai/zekai-wang/RecurrentTPP%20on%20ANSS%20Nov%205' target=\"_blank\">Weights & Biases</a> (<a href='https://wandb.me/run' target=\"_blank\">docs</a>)<br/>Sweep page: <a href='https://wandb.ai/zekai-wang/RecurrentTPP%20on%20ANSS%20Nov%205/sweeps/27ca0onv' target=\"_blank\">https://wandb.ai/zekai-wang/RecurrentTPP%20on%20ANSS%20Nov%205/sweeps/27ca0onv</a>"
      ],
      "text/plain": [
       "<IPython.core.display.HTML object>"
      ]
     },
     "metadata": {},
     "output_type": "display_data"
    },
    {
     "data": {
      "text/html": [
       " View project at <a href='https://wandb.ai/zekai-wang/RecurrentTPP%20on%20ANSS%20Nov%205' target=\"_blank\">https://wandb.ai/zekai-wang/RecurrentTPP%20on%20ANSS%20Nov%205</a>"
      ],
      "text/plain": [
       "<IPython.core.display.HTML object>"
      ]
     },
     "metadata": {},
     "output_type": "display_data"
    },
    {
     "data": {
      "text/html": [
       " View sweep at <a href='https://wandb.ai/zekai-wang/RecurrentTPP%20on%20ANSS%20Nov%205/sweeps/27ca0onv' target=\"_blank\">https://wandb.ai/zekai-wang/RecurrentTPP%20on%20ANSS%20Nov%205/sweeps/27ca0onv</a>"
      ],
      "text/plain": [
       "<IPython.core.display.HTML object>"
      ]
     },
     "metadata": {},
     "output_type": "display_data"
    },
    {
     "data": {
      "text/html": [
       " View run at <a href='https://wandb.ai/zekai-wang/RecurrentTPP%20on%20ANSS%20Nov%205/runs/sw1p9aoi' target=\"_blank\">https://wandb.ai/zekai-wang/RecurrentTPP%20on%20ANSS%20Nov%205/runs/sw1p9aoi</a>"
      ],
      "text/plain": [
       "<IPython.core.display.HTML object>"
      ]
     },
     "metadata": {},
     "output_type": "display_data"
    },
    {
     "data": {
      "application/vnd.jupyter.widget-view+json": {
       "model_id": "10b32889d7b342ce89f184ae4a4136bb",
       "version_major": 2,
       "version_minor": 0
      },
      "text/plain": [
       "  0%|          | 0/200 [00:00<?, ?it/s]"
      ]
     },
     "metadata": {},
     "output_type": "display_data"
    },
    {
     "name": "stdout",
     "output_type": "stream",
     "text": [
      "Expected parameter scale (Tensor of shape (8, 767, 16)) of distribution Weibull(scale: torch.Size([8, 767, 16]), shape: torch.Size([8, 767, 16])) to satisfy the constraint GreaterThan(lower_bound=0.0), but found invalid values:\n",
      "tensor([[[0.6533, 0.7147, 0.8922,  ..., 0.6525, 0.9216, 0.9456],\n",
      "         [   nan,    nan,    nan,  ...,    nan,    nan,    nan],\n",
      "         [   nan,    nan,    nan,  ...,    nan,    nan,    nan],\n",
      "         ...,\n",
      "         [   nan,    nan,    nan,  ...,    nan,    nan,    nan],\n",
      "         [   nan,    nan,    nan,  ...,    nan,    nan,    nan],\n",
      "         [   nan,    nan,    nan,  ...,    nan,    nan,    nan]],\n",
      "\n",
      "        [[0.6533, 0.7147, 0.8922,  ..., 0.6525, 0.9216, 0.9456],\n",
      "         [   nan,    nan,    nan,  ...,    nan,    nan,    nan],\n",
      "         [   nan,    nan,    nan,  ...,    nan,    nan,    nan],\n",
      "         ...,\n",
      "         [   nan,    nan,    nan,  ...,    nan,    nan,    nan],\n",
      "         [   nan,    nan,    nan,  ...,    nan,    nan,    nan],\n",
      "         [   nan,    nan,    nan,  ...,    nan,    nan,    nan]],\n",
      "\n",
      "        [[0.6533, 0.7147, 0.8922,  ..., 0.6525, 0.9216, 0.9456],\n",
      "         [   nan,    nan,    nan,  ...,    nan,    nan,    nan],\n",
      "         [   nan,    nan,    nan,  ...,    nan,    nan,    nan],\n",
      "         ...,\n",
      "         [   nan,    nan,    nan,  ...,    nan,    nan,    nan],\n",
      "         [   nan,    nan,    nan,  ...,    nan,    nan,    nan],\n",
      "         [   nan,    nan,    nan,  ...,    nan,    nan,    nan]],\n",
      "\n",
      "        ...,\n",
      "\n",
      "        [[0.6533, 0.7147, 0.8922,  ..., 0.6525, 0.9216, 0.9456],\n",
      "         [   nan,    nan,    nan,  ...,    nan,    nan,    nan],\n",
      "         [   nan,    nan,    nan,  ...,    nan,    nan,    nan],\n",
      "         ...,\n",
      "         [   nan,    nan,    nan,  ...,    nan,    nan,    nan],\n",
      "         [   nan,    nan,    nan,  ...,    nan,    nan,    nan],\n",
      "         [   nan,    nan,    nan,  ...,    nan,    nan,    nan]],\n",
      "\n",
      "        [[0.6533, 0.7147, 0.8922,  ..., 0.6525, 0.9216, 0.9456],\n",
      "         [   nan,    nan,    nan,  ...,    nan,    nan,    nan],\n",
      "         [   nan,    nan,    nan,  ...,    nan,    nan,    nan],\n",
      "         ...,\n",
      "         [   nan,    nan,    nan,  ...,    nan,    nan,    nan],\n",
      "         [   nan,    nan,    nan,  ...,    nan,    nan,    nan],\n",
      "         [   nan,    nan,    nan,  ...,    nan,    nan,    nan]],\n",
      "\n",
      "        [[0.6533, 0.7147, 0.8922,  ..., 0.6525, 0.9216, 0.9456],\n",
      "         [   nan,    nan,    nan,  ...,    nan,    nan,    nan],\n",
      "         [   nan,    nan,    nan,  ...,    nan,    nan,    nan],\n",
      "         ...,\n",
      "         [   nan,    nan,    nan,  ...,    nan,    nan,    nan],\n",
      "         [   nan,    nan,    nan,  ...,    nan,    nan,    nan],\n",
      "         [   nan,    nan,    nan,  ...,    nan,    nan,    nan]]],\n",
      "       device='cuda:0', grad_fn=<SoftplusBackward0>)\n"
     ]
    },
    {
     "data": {
      "text/html": [
       "Waiting for W&B process to finish... <strong style=\"color:green\">(success).</strong>"
      ],
      "text/plain": [
       "<IPython.core.display.HTML object>"
      ]
     },
     "metadata": {},
     "output_type": "display_data"
    },
    {
     "data": {
      "text/html": [
       "<style>\n",
       "    table.wandb td:nth-child(1) { padding: 0 10px; text-align: left ; width: auto;} td:nth-child(2) {text-align: left ; width: 100%}\n",
       "    .wandb-row { display: flex; flex-direction: row; flex-wrap: wrap; justify-content: flex-start; width: 100% }\n",
       "    .wandb-col { display: flex; flex-direction: column; flex-basis: 100%; flex: 1; padding: 10px; }\n",
       "    </style>\n",
       "<div class=\"wandb-row\"><div class=\"wandb-col\"><h3>Run summary:</h3><br/><table class=\"wandb\"><tr><td>avg_test_loss</td><td>nan</td></tr></table><br/></div></div>"
      ],
      "text/plain": [
       "<IPython.core.display.HTML object>"
      ]
     },
     "metadata": {},
     "output_type": "display_data"
    },
    {
     "data": {
      "text/html": [
       " View run <strong style=\"color:#cdcd00\">neat-sweep-9</strong> at: <a href='https://wandb.ai/zekai-wang/RecurrentTPP%20on%20ANSS%20Nov%205/runs/sw1p9aoi' target=\"_blank\">https://wandb.ai/zekai-wang/RecurrentTPP%20on%20ANSS%20Nov%205/runs/sw1p9aoi</a><br/>Synced 6 W&B file(s), 0 media file(s), 0 artifact file(s) and 0 other file(s)"
      ],
      "text/plain": [
       "<IPython.core.display.HTML object>"
      ]
     },
     "metadata": {},
     "output_type": "display_data"
    },
    {
     "data": {
      "text/html": [
       "Find logs at: <code>./wandb/run-20231105_222728-sw1p9aoi/logs</code>"
      ],
      "text/plain": [
       "<IPython.core.display.HTML object>"
      ]
     },
     "metadata": {},
     "output_type": "display_data"
    },
    {
     "name": "stderr",
     "output_type": "stream",
     "text": [
      "\u001b[34m\u001b[1mwandb\u001b[0m: Agent Starting Run: e5tlwvam with config:\n",
      "\u001b[34m\u001b[1mwandb\u001b[0m: \tbatch_size: 16\n",
      "\u001b[34m\u001b[1mwandb\u001b[0m: \tbetas: [0.9, 0.999]\n",
      "\u001b[34m\u001b[1mwandb\u001b[0m: \tcontext_size: 128\n",
      "\u001b[34m\u001b[1mwandb\u001b[0m: \tdropout_proba: 0.5\n",
      "\u001b[34m\u001b[1mwandb\u001b[0m: \tlr: 0.005\n",
      "\u001b[34m\u001b[1mwandb\u001b[0m: \tnum_components: 64\n",
      "\u001b[34m\u001b[1mwandb\u001b[0m: \trnn_type: RNN\n",
      "\u001b[34m\u001b[1mwandb\u001b[0m: \tweight_decay: 0.001\n"
     ]
    },
    {
     "data": {
      "text/html": [
       "Tracking run with wandb version 0.15.12"
      ],
      "text/plain": [
       "<IPython.core.display.HTML object>"
      ]
     },
     "metadata": {},
     "output_type": "display_data"
    },
    {
     "data": {
      "text/html": [
       "Run data is saved locally in <code>/home/zekai/repos/recast/notebooks/Zekai/hyperparameter_sweep/wandb/run-20231105_222738-e5tlwvam</code>"
      ],
      "text/plain": [
       "<IPython.core.display.HTML object>"
      ]
     },
     "metadata": {},
     "output_type": "display_data"
    },
    {
     "data": {
      "text/html": [
       "Syncing run <strong><a href='https://wandb.ai/zekai-wang/RecurrentTPP%20on%20ANSS%20Nov%205/runs/e5tlwvam' target=\"_blank\">gallant-sweep-10</a></strong> to <a href='https://wandb.ai/zekai-wang/RecurrentTPP%20on%20ANSS%20Nov%205' target=\"_blank\">Weights & Biases</a> (<a href='https://wandb.me/run' target=\"_blank\">docs</a>)<br/>Sweep page: <a href='https://wandb.ai/zekai-wang/RecurrentTPP%20on%20ANSS%20Nov%205/sweeps/27ca0onv' target=\"_blank\">https://wandb.ai/zekai-wang/RecurrentTPP%20on%20ANSS%20Nov%205/sweeps/27ca0onv</a>"
      ],
      "text/plain": [
       "<IPython.core.display.HTML object>"
      ]
     },
     "metadata": {},
     "output_type": "display_data"
    },
    {
     "data": {
      "text/html": [
       " View project at <a href='https://wandb.ai/zekai-wang/RecurrentTPP%20on%20ANSS%20Nov%205' target=\"_blank\">https://wandb.ai/zekai-wang/RecurrentTPP%20on%20ANSS%20Nov%205</a>"
      ],
      "text/plain": [
       "<IPython.core.display.HTML object>"
      ]
     },
     "metadata": {},
     "output_type": "display_data"
    },
    {
     "data": {
      "text/html": [
       " View sweep at <a href='https://wandb.ai/zekai-wang/RecurrentTPP%20on%20ANSS%20Nov%205/sweeps/27ca0onv' target=\"_blank\">https://wandb.ai/zekai-wang/RecurrentTPP%20on%20ANSS%20Nov%205/sweeps/27ca0onv</a>"
      ],
      "text/plain": [
       "<IPython.core.display.HTML object>"
      ]
     },
     "metadata": {},
     "output_type": "display_data"
    },
    {
     "data": {
      "text/html": [
       " View run at <a href='https://wandb.ai/zekai-wang/RecurrentTPP%20on%20ANSS%20Nov%205/runs/e5tlwvam' target=\"_blank\">https://wandb.ai/zekai-wang/RecurrentTPP%20on%20ANSS%20Nov%205/runs/e5tlwvam</a>"
      ],
      "text/plain": [
       "<IPython.core.display.HTML object>"
      ]
     },
     "metadata": {},
     "output_type": "display_data"
    },
    {
     "data": {
      "application/vnd.jupyter.widget-view+json": {
       "model_id": "c37b6249de3e44f4b1f1597da764aa91",
       "version_major": 2,
       "version_minor": 0
      },
      "text/plain": [
       "  0%|          | 0/200 [00:00<?, ?it/s]"
      ]
     },
     "metadata": {},
     "output_type": "display_data"
    },
    {
     "data": {
      "text/html": [
       "Waiting for W&B process to finish... <strong style=\"color:green\">(success).</strong>"
      ],
      "text/plain": [
       "<IPython.core.display.HTML object>"
      ]
     },
     "metadata": {},
     "output_type": "display_data"
    },
    {
     "data": {
      "application/vnd.jupyter.widget-view+json": {
       "model_id": "3de99a3b5b8a4336906b9cf29f4f6836",
       "version_major": 2,
       "version_minor": 0
      },
      "text/plain": [
       "VBox(children=(Label(value='0.014 MB of 0.019 MB uploaded (0.000 MB deduped)\\r'), FloatProgress(value=0.757529…"
      ]
     },
     "metadata": {},
     "output_type": "display_data"
    },
    {
     "data": {
      "text/html": [
       "<style>\n",
       "    table.wandb td:nth-child(1) { padding: 0 10px; text-align: left ; width: auto;} td:nth-child(2) {text-align: left ; width: 100%}\n",
       "    .wandb-row { display: flex; flex-direction: row; flex-wrap: wrap; justify-content: flex-start; width: 100% }\n",
       "    .wandb-col { display: flex; flex-direction: column; flex-basis: 100%; flex: 1; padding: 10px; }\n",
       "    </style>\n",
       "<div class=\"wandb-row\"><div class=\"wandb-col\"><h3>Run history:</h3><br/><table class=\"wandb\"><tr><td>avg_test_loss</td><td>▁</td></tr></table><br/></div><div class=\"wandb-col\"><h3>Run summary:</h3><br/><table class=\"wandb\"><tr><td>avg_test_loss</td><td>0.18658</td></tr></table><br/></div></div>"
      ],
      "text/plain": [
       "<IPython.core.display.HTML object>"
      ]
     },
     "metadata": {},
     "output_type": "display_data"
    },
    {
     "data": {
      "text/html": [
       " View run <strong style=\"color:#cdcd00\">gallant-sweep-10</strong> at: <a href='https://wandb.ai/zekai-wang/RecurrentTPP%20on%20ANSS%20Nov%205/runs/e5tlwvam' target=\"_blank\">https://wandb.ai/zekai-wang/RecurrentTPP%20on%20ANSS%20Nov%205/runs/e5tlwvam</a><br/>Synced 5 W&B file(s), 0 media file(s), 0 artifact file(s) and 0 other file(s)"
      ],
      "text/plain": [
       "<IPython.core.display.HTML object>"
      ]
     },
     "metadata": {},
     "output_type": "display_data"
    },
    {
     "data": {
      "text/html": [
       "Find logs at: <code>./wandb/run-20231105_222738-e5tlwvam/logs</code>"
      ],
      "text/plain": [
       "<IPython.core.display.HTML object>"
      ]
     },
     "metadata": {},
     "output_type": "display_data"
    },
    {
     "name": "stderr",
     "output_type": "stream",
     "text": [
      "\u001b[34m\u001b[1mwandb\u001b[0m: Agent Starting Run: 3d69ednq with config:\n",
      "\u001b[34m\u001b[1mwandb\u001b[0m: \tbatch_size: 16\n",
      "\u001b[34m\u001b[1mwandb\u001b[0m: \tbetas: [0.9, 0.999]\n",
      "\u001b[34m\u001b[1mwandb\u001b[0m: \tcontext_size: 64\n",
      "\u001b[34m\u001b[1mwandb\u001b[0m: \tdropout_proba: 0.4\n",
      "\u001b[34m\u001b[1mwandb\u001b[0m: \tlr: 0.01\n",
      "\u001b[34m\u001b[1mwandb\u001b[0m: \tnum_components: 16\n",
      "\u001b[34m\u001b[1mwandb\u001b[0m: \trnn_type: LSTM\n",
      "\u001b[34m\u001b[1mwandb\u001b[0m: \tweight_decay: 0.002\n"
     ]
    },
    {
     "data": {
      "text/html": [
       "Tracking run with wandb version 0.15.12"
      ],
      "text/plain": [
       "<IPython.core.display.HTML object>"
      ]
     },
     "metadata": {},
     "output_type": "display_data"
    },
    {
     "data": {
      "text/html": [
       "Run data is saved locally in <code>/home/zekai/repos/recast/notebooks/Zekai/hyperparameter_sweep/wandb/run-20231105_222916-3d69ednq</code>"
      ],
      "text/plain": [
       "<IPython.core.display.HTML object>"
      ]
     },
     "metadata": {},
     "output_type": "display_data"
    },
    {
     "data": {
      "text/html": [
       "Syncing run <strong><a href='https://wandb.ai/zekai-wang/RecurrentTPP%20on%20ANSS%20Nov%205/runs/3d69ednq' target=\"_blank\">azure-sweep-11</a></strong> to <a href='https://wandb.ai/zekai-wang/RecurrentTPP%20on%20ANSS%20Nov%205' target=\"_blank\">Weights & Biases</a> (<a href='https://wandb.me/run' target=\"_blank\">docs</a>)<br/>Sweep page: <a href='https://wandb.ai/zekai-wang/RecurrentTPP%20on%20ANSS%20Nov%205/sweeps/27ca0onv' target=\"_blank\">https://wandb.ai/zekai-wang/RecurrentTPP%20on%20ANSS%20Nov%205/sweeps/27ca0onv</a>"
      ],
      "text/plain": [
       "<IPython.core.display.HTML object>"
      ]
     },
     "metadata": {},
     "output_type": "display_data"
    },
    {
     "data": {
      "text/html": [
       " View project at <a href='https://wandb.ai/zekai-wang/RecurrentTPP%20on%20ANSS%20Nov%205' target=\"_blank\">https://wandb.ai/zekai-wang/RecurrentTPP%20on%20ANSS%20Nov%205</a>"
      ],
      "text/plain": [
       "<IPython.core.display.HTML object>"
      ]
     },
     "metadata": {},
     "output_type": "display_data"
    },
    {
     "data": {
      "text/html": [
       " View sweep at <a href='https://wandb.ai/zekai-wang/RecurrentTPP%20on%20ANSS%20Nov%205/sweeps/27ca0onv' target=\"_blank\">https://wandb.ai/zekai-wang/RecurrentTPP%20on%20ANSS%20Nov%205/sweeps/27ca0onv</a>"
      ],
      "text/plain": [
       "<IPython.core.display.HTML object>"
      ]
     },
     "metadata": {},
     "output_type": "display_data"
    },
    {
     "data": {
      "text/html": [
       " View run at <a href='https://wandb.ai/zekai-wang/RecurrentTPP%20on%20ANSS%20Nov%205/runs/3d69ednq' target=\"_blank\">https://wandb.ai/zekai-wang/RecurrentTPP%20on%20ANSS%20Nov%205/runs/3d69ednq</a>"
      ],
      "text/plain": [
       "<IPython.core.display.HTML object>"
      ]
     },
     "metadata": {},
     "output_type": "display_data"
    },
    {
     "data": {
      "application/vnd.jupyter.widget-view+json": {
       "model_id": "ba1afc930695456d8ebc6e011555627d",
       "version_major": 2,
       "version_minor": 0
      },
      "text/plain": [
       "  0%|          | 0/200 [00:00<?, ?it/s]"
      ]
     },
     "metadata": {},
     "output_type": "display_data"
    },
    {
     "data": {
      "text/html": [
       "Waiting for W&B process to finish... <strong style=\"color:green\">(success).</strong>"
      ],
      "text/plain": [
       "<IPython.core.display.HTML object>"
      ]
     },
     "metadata": {},
     "output_type": "display_data"
    },
    {
     "data": {
      "text/html": [
       "<style>\n",
       "    table.wandb td:nth-child(1) { padding: 0 10px; text-align: left ; width: auto;} td:nth-child(2) {text-align: left ; width: 100%}\n",
       "    .wandb-row { display: flex; flex-direction: row; flex-wrap: wrap; justify-content: flex-start; width: 100% }\n",
       "    .wandb-col { display: flex; flex-direction: column; flex-basis: 100%; flex: 1; padding: 10px; }\n",
       "    </style>\n",
       "<div class=\"wandb-row\"><div class=\"wandb-col\"><h3>Run history:</h3><br/><table class=\"wandb\"><tr><td>avg_test_loss</td><td>▁</td></tr></table><br/></div><div class=\"wandb-col\"><h3>Run summary:</h3><br/><table class=\"wandb\"><tr><td>avg_test_loss</td><td>0.18031</td></tr></table><br/></div></div>"
      ],
      "text/plain": [
       "<IPython.core.display.HTML object>"
      ]
     },
     "metadata": {},
     "output_type": "display_data"
    },
    {
     "data": {
      "text/html": [
       " View run <strong style=\"color:#cdcd00\">azure-sweep-11</strong> at: <a href='https://wandb.ai/zekai-wang/RecurrentTPP%20on%20ANSS%20Nov%205/runs/3d69ednq' target=\"_blank\">https://wandb.ai/zekai-wang/RecurrentTPP%20on%20ANSS%20Nov%205/runs/3d69ednq</a><br/>Synced 5 W&B file(s), 0 media file(s), 0 artifact file(s) and 0 other file(s)"
      ],
      "text/plain": [
       "<IPython.core.display.HTML object>"
      ]
     },
     "metadata": {},
     "output_type": "display_data"
    },
    {
     "data": {
      "text/html": [
       "Find logs at: <code>./wandb/run-20231105_222916-3d69ednq/logs</code>"
      ],
      "text/plain": [
       "<IPython.core.display.HTML object>"
      ]
     },
     "metadata": {},
     "output_type": "display_data"
    },
    {
     "name": "stderr",
     "output_type": "stream",
     "text": [
      "\u001b[34m\u001b[1mwandb\u001b[0m: Agent Starting Run: j9ifcthf with config:\n",
      "\u001b[34m\u001b[1mwandb\u001b[0m: \tbatch_size: 128\n",
      "\u001b[34m\u001b[1mwandb\u001b[0m: \tbetas: [0.9, 0.999]\n",
      "\u001b[34m\u001b[1mwandb\u001b[0m: \tcontext_size: 64\n",
      "\u001b[34m\u001b[1mwandb\u001b[0m: \tdropout_proba: 0.2\n",
      "\u001b[34m\u001b[1mwandb\u001b[0m: \tlr: 0.002\n",
      "\u001b[34m\u001b[1mwandb\u001b[0m: \tnum_components: 16\n",
      "\u001b[34m\u001b[1mwandb\u001b[0m: \trnn_type: GRU\n",
      "\u001b[34m\u001b[1mwandb\u001b[0m: \tweight_decay: 0.05\n"
     ]
    },
    {
     "data": {
      "text/html": [
       "Tracking run with wandb version 0.15.12"
      ],
      "text/plain": [
       "<IPython.core.display.HTML object>"
      ]
     },
     "metadata": {},
     "output_type": "display_data"
    },
    {
     "data": {
      "text/html": [
       "Run data is saved locally in <code>/home/zekai/repos/recast/notebooks/Zekai/hyperparameter_sweep/wandb/run-20231105_223057-j9ifcthf</code>"
      ],
      "text/plain": [
       "<IPython.core.display.HTML object>"
      ]
     },
     "metadata": {},
     "output_type": "display_data"
    },
    {
     "data": {
      "text/html": [
       "Syncing run <strong><a href='https://wandb.ai/zekai-wang/RecurrentTPP%20on%20ANSS%20Nov%205/runs/j9ifcthf' target=\"_blank\">fresh-sweep-12</a></strong> to <a href='https://wandb.ai/zekai-wang/RecurrentTPP%20on%20ANSS%20Nov%205' target=\"_blank\">Weights & Biases</a> (<a href='https://wandb.me/run' target=\"_blank\">docs</a>)<br/>Sweep page: <a href='https://wandb.ai/zekai-wang/RecurrentTPP%20on%20ANSS%20Nov%205/sweeps/27ca0onv' target=\"_blank\">https://wandb.ai/zekai-wang/RecurrentTPP%20on%20ANSS%20Nov%205/sweeps/27ca0onv</a>"
      ],
      "text/plain": [
       "<IPython.core.display.HTML object>"
      ]
     },
     "metadata": {},
     "output_type": "display_data"
    },
    {
     "data": {
      "text/html": [
       " View project at <a href='https://wandb.ai/zekai-wang/RecurrentTPP%20on%20ANSS%20Nov%205' target=\"_blank\">https://wandb.ai/zekai-wang/RecurrentTPP%20on%20ANSS%20Nov%205</a>"
      ],
      "text/plain": [
       "<IPython.core.display.HTML object>"
      ]
     },
     "metadata": {},
     "output_type": "display_data"
    },
    {
     "data": {
      "text/html": [
       " View sweep at <a href='https://wandb.ai/zekai-wang/RecurrentTPP%20on%20ANSS%20Nov%205/sweeps/27ca0onv' target=\"_blank\">https://wandb.ai/zekai-wang/RecurrentTPP%20on%20ANSS%20Nov%205/sweeps/27ca0onv</a>"
      ],
      "text/plain": [
       "<IPython.core.display.HTML object>"
      ]
     },
     "metadata": {},
     "output_type": "display_data"
    },
    {
     "data": {
      "text/html": [
       " View run at <a href='https://wandb.ai/zekai-wang/RecurrentTPP%20on%20ANSS%20Nov%205/runs/j9ifcthf' target=\"_blank\">https://wandb.ai/zekai-wang/RecurrentTPP%20on%20ANSS%20Nov%205/runs/j9ifcthf</a>"
      ],
      "text/plain": [
       "<IPython.core.display.HTML object>"
      ]
     },
     "metadata": {},
     "output_type": "display_data"
    },
    {
     "data": {
      "application/vnd.jupyter.widget-view+json": {
       "model_id": "a9947a2e5f8e4b4080b935397a1e282a",
       "version_major": 2,
       "version_minor": 0
      },
      "text/plain": [
       "  0%|          | 0/200 [00:00<?, ?it/s]"
      ]
     },
     "metadata": {},
     "output_type": "display_data"
    },
    {
     "data": {
      "text/html": [
       "Waiting for W&B process to finish... <strong style=\"color:green\">(success).</strong>"
      ],
      "text/plain": [
       "<IPython.core.display.HTML object>"
      ]
     },
     "metadata": {},
     "output_type": "display_data"
    },
    {
     "data": {
      "text/html": [
       "<style>\n",
       "    table.wandb td:nth-child(1) { padding: 0 10px; text-align: left ; width: auto;} td:nth-child(2) {text-align: left ; width: 100%}\n",
       "    .wandb-row { display: flex; flex-direction: row; flex-wrap: wrap; justify-content: flex-start; width: 100% }\n",
       "    .wandb-col { display: flex; flex-direction: column; flex-basis: 100%; flex: 1; padding: 10px; }\n",
       "    </style>\n",
       "<div class=\"wandb-row\"><div class=\"wandb-col\"><h3>Run history:</h3><br/><table class=\"wandb\"><tr><td>avg_test_loss</td><td>▁</td></tr></table><br/></div><div class=\"wandb-col\"><h3>Run summary:</h3><br/><table class=\"wandb\"><tr><td>avg_test_loss</td><td>0.16392</td></tr></table><br/></div></div>"
      ],
      "text/plain": [
       "<IPython.core.display.HTML object>"
      ]
     },
     "metadata": {},
     "output_type": "display_data"
    },
    {
     "data": {
      "text/html": [
       " View run <strong style=\"color:#cdcd00\">fresh-sweep-12</strong> at: <a href='https://wandb.ai/zekai-wang/RecurrentTPP%20on%20ANSS%20Nov%205/runs/j9ifcthf' target=\"_blank\">https://wandb.ai/zekai-wang/RecurrentTPP%20on%20ANSS%20Nov%205/runs/j9ifcthf</a><br/>Synced 5 W&B file(s), 0 media file(s), 0 artifact file(s) and 0 other file(s)"
      ],
      "text/plain": [
       "<IPython.core.display.HTML object>"
      ]
     },
     "metadata": {},
     "output_type": "display_data"
    },
    {
     "data": {
      "text/html": [
       "Find logs at: <code>./wandb/run-20231105_223057-j9ifcthf/logs</code>"
      ],
      "text/plain": [
       "<IPython.core.display.HTML object>"
      ]
     },
     "metadata": {},
     "output_type": "display_data"
    },
    {
     "name": "stderr",
     "output_type": "stream",
     "text": [
      "\u001b[34m\u001b[1mwandb\u001b[0m: Agent Starting Run: y9wv6zrt with config:\n",
      "\u001b[34m\u001b[1mwandb\u001b[0m: \tbatch_size: 32\n",
      "\u001b[34m\u001b[1mwandb\u001b[0m: \tbetas: [0.9, 0.999]\n",
      "\u001b[34m\u001b[1mwandb\u001b[0m: \tcontext_size: 8\n",
      "\u001b[34m\u001b[1mwandb\u001b[0m: \tdropout_proba: 0.4\n",
      "\u001b[34m\u001b[1mwandb\u001b[0m: \tlr: 0.001\n",
      "\u001b[34m\u001b[1mwandb\u001b[0m: \tnum_components: 64\n",
      "\u001b[34m\u001b[1mwandb\u001b[0m: \trnn_type: RNN\n",
      "\u001b[34m\u001b[1mwandb\u001b[0m: \tweight_decay: 0.002\n"
     ]
    },
    {
     "data": {
      "text/html": [
       "Tracking run with wandb version 0.15.12"
      ],
      "text/plain": [
       "<IPython.core.display.HTML object>"
      ]
     },
     "metadata": {},
     "output_type": "display_data"
    },
    {
     "data": {
      "text/html": [
       "Run data is saved locally in <code>/home/zekai/repos/recast/notebooks/Zekai/hyperparameter_sweep/wandb/run-20231105_223220-y9wv6zrt</code>"
      ],
      "text/plain": [
       "<IPython.core.display.HTML object>"
      ]
     },
     "metadata": {},
     "output_type": "display_data"
    },
    {
     "data": {
      "text/html": [
       "Syncing run <strong><a href='https://wandb.ai/zekai-wang/RecurrentTPP%20on%20ANSS%20Nov%205/runs/y9wv6zrt' target=\"_blank\">dulcet-sweep-13</a></strong> to <a href='https://wandb.ai/zekai-wang/RecurrentTPP%20on%20ANSS%20Nov%205' target=\"_blank\">Weights & Biases</a> (<a href='https://wandb.me/run' target=\"_blank\">docs</a>)<br/>Sweep page: <a href='https://wandb.ai/zekai-wang/RecurrentTPP%20on%20ANSS%20Nov%205/sweeps/27ca0onv' target=\"_blank\">https://wandb.ai/zekai-wang/RecurrentTPP%20on%20ANSS%20Nov%205/sweeps/27ca0onv</a>"
      ],
      "text/plain": [
       "<IPython.core.display.HTML object>"
      ]
     },
     "metadata": {},
     "output_type": "display_data"
    },
    {
     "data": {
      "text/html": [
       " View project at <a href='https://wandb.ai/zekai-wang/RecurrentTPP%20on%20ANSS%20Nov%205' target=\"_blank\">https://wandb.ai/zekai-wang/RecurrentTPP%20on%20ANSS%20Nov%205</a>"
      ],
      "text/plain": [
       "<IPython.core.display.HTML object>"
      ]
     },
     "metadata": {},
     "output_type": "display_data"
    },
    {
     "data": {
      "text/html": [
       " View sweep at <a href='https://wandb.ai/zekai-wang/RecurrentTPP%20on%20ANSS%20Nov%205/sweeps/27ca0onv' target=\"_blank\">https://wandb.ai/zekai-wang/RecurrentTPP%20on%20ANSS%20Nov%205/sweeps/27ca0onv</a>"
      ],
      "text/plain": [
       "<IPython.core.display.HTML object>"
      ]
     },
     "metadata": {},
     "output_type": "display_data"
    },
    {
     "data": {
      "text/html": [
       " View run at <a href='https://wandb.ai/zekai-wang/RecurrentTPP%20on%20ANSS%20Nov%205/runs/y9wv6zrt' target=\"_blank\">https://wandb.ai/zekai-wang/RecurrentTPP%20on%20ANSS%20Nov%205/runs/y9wv6zrt</a>"
      ],
      "text/plain": [
       "<IPython.core.display.HTML object>"
      ]
     },
     "metadata": {},
     "output_type": "display_data"
    },
    {
     "data": {
      "application/vnd.jupyter.widget-view+json": {
       "model_id": "7a5fed2c641d4710995604243fea7f0a",
       "version_major": 2,
       "version_minor": 0
      },
      "text/plain": [
       "  0%|          | 0/200 [00:00<?, ?it/s]"
      ]
     },
     "metadata": {},
     "output_type": "display_data"
    },
    {
     "data": {
      "text/html": [
       "Waiting for W&B process to finish... <strong style=\"color:green\">(success).</strong>"
      ],
      "text/plain": [
       "<IPython.core.display.HTML object>"
      ]
     },
     "metadata": {},
     "output_type": "display_data"
    },
    {
     "data": {
      "text/html": [
       "<style>\n",
       "    table.wandb td:nth-child(1) { padding: 0 10px; text-align: left ; width: auto;} td:nth-child(2) {text-align: left ; width: 100%}\n",
       "    .wandb-row { display: flex; flex-direction: row; flex-wrap: wrap; justify-content: flex-start; width: 100% }\n",
       "    .wandb-col { display: flex; flex-direction: column; flex-basis: 100%; flex: 1; padding: 10px; }\n",
       "    </style>\n",
       "<div class=\"wandb-row\"><div class=\"wandb-col\"><h3>Run history:</h3><br/><table class=\"wandb\"><tr><td>avg_test_loss</td><td>▁</td></tr></table><br/></div><div class=\"wandb-col\"><h3>Run summary:</h3><br/><table class=\"wandb\"><tr><td>avg_test_loss</td><td>0.22648</td></tr></table><br/></div></div>"
      ],
      "text/plain": [
       "<IPython.core.display.HTML object>"
      ]
     },
     "metadata": {},
     "output_type": "display_data"
    },
    {
     "data": {
      "text/html": [
       " View run <strong style=\"color:#cdcd00\">dulcet-sweep-13</strong> at: <a href='https://wandb.ai/zekai-wang/RecurrentTPP%20on%20ANSS%20Nov%205/runs/y9wv6zrt' target=\"_blank\">https://wandb.ai/zekai-wang/RecurrentTPP%20on%20ANSS%20Nov%205/runs/y9wv6zrt</a><br/>Synced 5 W&B file(s), 0 media file(s), 0 artifact file(s) and 0 other file(s)"
      ],
      "text/plain": [
       "<IPython.core.display.HTML object>"
      ]
     },
     "metadata": {},
     "output_type": "display_data"
    },
    {
     "data": {
      "text/html": [
       "Find logs at: <code>./wandb/run-20231105_223220-y9wv6zrt/logs</code>"
      ],
      "text/plain": [
       "<IPython.core.display.HTML object>"
      ]
     },
     "metadata": {},
     "output_type": "display_data"
    },
    {
     "name": "stderr",
     "output_type": "stream",
     "text": [
      "\u001b[34m\u001b[1mwandb\u001b[0m: Agent Starting Run: 257wzujr with config:\n",
      "\u001b[34m\u001b[1mwandb\u001b[0m: \tbatch_size: 128\n",
      "\u001b[34m\u001b[1mwandb\u001b[0m: \tbetas: [0.9, 0.999]\n",
      "\u001b[34m\u001b[1mwandb\u001b[0m: \tcontext_size: 128\n",
      "\u001b[34m\u001b[1mwandb\u001b[0m: \tdropout_proba: 0\n",
      "\u001b[34m\u001b[1mwandb\u001b[0m: \tlr: 0.001\n",
      "\u001b[34m\u001b[1mwandb\u001b[0m: \tnum_components: 32\n",
      "\u001b[34m\u001b[1mwandb\u001b[0m: \trnn_type: LSTM\n",
      "\u001b[34m\u001b[1mwandb\u001b[0m: \tweight_decay: 0.002\n"
     ]
    },
    {
     "data": {
      "text/html": [
       "Tracking run with wandb version 0.15.12"
      ],
      "text/plain": [
       "<IPython.core.display.HTML object>"
      ]
     },
     "metadata": {},
     "output_type": "display_data"
    },
    {
     "data": {
      "text/html": [
       "Run data is saved locally in <code>/home/zekai/repos/recast/notebooks/Zekai/hyperparameter_sweep/wandb/run-20231105_223342-257wzujr</code>"
      ],
      "text/plain": [
       "<IPython.core.display.HTML object>"
      ]
     },
     "metadata": {},
     "output_type": "display_data"
    },
    {
     "data": {
      "text/html": [
       "Syncing run <strong><a href='https://wandb.ai/zekai-wang/RecurrentTPP%20on%20ANSS%20Nov%205/runs/257wzujr' target=\"_blank\">young-sweep-14</a></strong> to <a href='https://wandb.ai/zekai-wang/RecurrentTPP%20on%20ANSS%20Nov%205' target=\"_blank\">Weights & Biases</a> (<a href='https://wandb.me/run' target=\"_blank\">docs</a>)<br/>Sweep page: <a href='https://wandb.ai/zekai-wang/RecurrentTPP%20on%20ANSS%20Nov%205/sweeps/27ca0onv' target=\"_blank\">https://wandb.ai/zekai-wang/RecurrentTPP%20on%20ANSS%20Nov%205/sweeps/27ca0onv</a>"
      ],
      "text/plain": [
       "<IPython.core.display.HTML object>"
      ]
     },
     "metadata": {},
     "output_type": "display_data"
    },
    {
     "data": {
      "text/html": [
       " View project at <a href='https://wandb.ai/zekai-wang/RecurrentTPP%20on%20ANSS%20Nov%205' target=\"_blank\">https://wandb.ai/zekai-wang/RecurrentTPP%20on%20ANSS%20Nov%205</a>"
      ],
      "text/plain": [
       "<IPython.core.display.HTML object>"
      ]
     },
     "metadata": {},
     "output_type": "display_data"
    },
    {
     "data": {
      "text/html": [
       " View sweep at <a href='https://wandb.ai/zekai-wang/RecurrentTPP%20on%20ANSS%20Nov%205/sweeps/27ca0onv' target=\"_blank\">https://wandb.ai/zekai-wang/RecurrentTPP%20on%20ANSS%20Nov%205/sweeps/27ca0onv</a>"
      ],
      "text/plain": [
       "<IPython.core.display.HTML object>"
      ]
     },
     "metadata": {},
     "output_type": "display_data"
    },
    {
     "data": {
      "text/html": [
       " View run at <a href='https://wandb.ai/zekai-wang/RecurrentTPP%20on%20ANSS%20Nov%205/runs/257wzujr' target=\"_blank\">https://wandb.ai/zekai-wang/RecurrentTPP%20on%20ANSS%20Nov%205/runs/257wzujr</a>"
      ],
      "text/plain": [
       "<IPython.core.display.HTML object>"
      ]
     },
     "metadata": {},
     "output_type": "display_data"
    },
    {
     "data": {
      "application/vnd.jupyter.widget-view+json": {
       "model_id": "2ba51a1d77a54a3db4eeb48b1408715c",
       "version_major": 2,
       "version_minor": 0
      },
      "text/plain": [
       "  0%|          | 0/200 [00:00<?, ?it/s]"
      ]
     },
     "metadata": {},
     "output_type": "display_data"
    },
    {
     "data": {
      "text/html": [
       "Waiting for W&B process to finish... <strong style=\"color:green\">(success).</strong>"
      ],
      "text/plain": [
       "<IPython.core.display.HTML object>"
      ]
     },
     "metadata": {},
     "output_type": "display_data"
    },
    {
     "data": {
      "text/html": [
       "<style>\n",
       "    table.wandb td:nth-child(1) { padding: 0 10px; text-align: left ; width: auto;} td:nth-child(2) {text-align: left ; width: 100%}\n",
       "    .wandb-row { display: flex; flex-direction: row; flex-wrap: wrap; justify-content: flex-start; width: 100% }\n",
       "    .wandb-col { display: flex; flex-direction: column; flex-basis: 100%; flex: 1; padding: 10px; }\n",
       "    </style>\n",
       "<div class=\"wandb-row\"><div class=\"wandb-col\"><h3>Run history:</h3><br/><table class=\"wandb\"><tr><td>avg_test_loss</td><td>▁</td></tr></table><br/></div><div class=\"wandb-col\"><h3>Run summary:</h3><br/><table class=\"wandb\"><tr><td>avg_test_loss</td><td>0.17032</td></tr></table><br/></div></div>"
      ],
      "text/plain": [
       "<IPython.core.display.HTML object>"
      ]
     },
     "metadata": {},
     "output_type": "display_data"
    },
    {
     "data": {
      "text/html": [
       " View run <strong style=\"color:#cdcd00\">young-sweep-14</strong> at: <a href='https://wandb.ai/zekai-wang/RecurrentTPP%20on%20ANSS%20Nov%205/runs/257wzujr' target=\"_blank\">https://wandb.ai/zekai-wang/RecurrentTPP%20on%20ANSS%20Nov%205/runs/257wzujr</a><br/>Synced 5 W&B file(s), 0 media file(s), 0 artifact file(s) and 0 other file(s)"
      ],
      "text/plain": [
       "<IPython.core.display.HTML object>"
      ]
     },
     "metadata": {},
     "output_type": "display_data"
    },
    {
     "data": {
      "text/html": [
       "Find logs at: <code>./wandb/run-20231105_223342-257wzujr/logs</code>"
      ],
      "text/plain": [
       "<IPython.core.display.HTML object>"
      ]
     },
     "metadata": {},
     "output_type": "display_data"
    },
    {
     "name": "stderr",
     "output_type": "stream",
     "text": [
      "\u001b[34m\u001b[1mwandb\u001b[0m: Agent Starting Run: 7i8chsrd with config:\n",
      "\u001b[34m\u001b[1mwandb\u001b[0m: \tbatch_size: 128\n",
      "\u001b[34m\u001b[1mwandb\u001b[0m: \tbetas: [0.9, 0.999]\n",
      "\u001b[34m\u001b[1mwandb\u001b[0m: \tcontext_size: 16\n",
      "\u001b[34m\u001b[1mwandb\u001b[0m: \tdropout_proba: 0\n",
      "\u001b[34m\u001b[1mwandb\u001b[0m: \tlr: 0.002\n",
      "\u001b[34m\u001b[1mwandb\u001b[0m: \tnum_components: 16\n",
      "\u001b[34m\u001b[1mwandb\u001b[0m: \trnn_type: GRU\n",
      "\u001b[34m\u001b[1mwandb\u001b[0m: \tweight_decay: 0.005\n"
     ]
    },
    {
     "data": {
      "text/html": [
       "Tracking run with wandb version 0.15.12"
      ],
      "text/plain": [
       "<IPython.core.display.HTML object>"
      ]
     },
     "metadata": {},
     "output_type": "display_data"
    },
    {
     "data": {
      "text/html": [
       "Run data is saved locally in <code>/home/zekai/repos/recast/notebooks/Zekai/hyperparameter_sweep/wandb/run-20231105_223550-7i8chsrd</code>"
      ],
      "text/plain": [
       "<IPython.core.display.HTML object>"
      ]
     },
     "metadata": {},
     "output_type": "display_data"
    },
    {
     "data": {
      "text/html": [
       "Syncing run <strong><a href='https://wandb.ai/zekai-wang/RecurrentTPP%20on%20ANSS%20Nov%205/runs/7i8chsrd' target=\"_blank\">vague-sweep-15</a></strong> to <a href='https://wandb.ai/zekai-wang/RecurrentTPP%20on%20ANSS%20Nov%205' target=\"_blank\">Weights & Biases</a> (<a href='https://wandb.me/run' target=\"_blank\">docs</a>)<br/>Sweep page: <a href='https://wandb.ai/zekai-wang/RecurrentTPP%20on%20ANSS%20Nov%205/sweeps/27ca0onv' target=\"_blank\">https://wandb.ai/zekai-wang/RecurrentTPP%20on%20ANSS%20Nov%205/sweeps/27ca0onv</a>"
      ],
      "text/plain": [
       "<IPython.core.display.HTML object>"
      ]
     },
     "metadata": {},
     "output_type": "display_data"
    },
    {
     "data": {
      "text/html": [
       " View project at <a href='https://wandb.ai/zekai-wang/RecurrentTPP%20on%20ANSS%20Nov%205' target=\"_blank\">https://wandb.ai/zekai-wang/RecurrentTPP%20on%20ANSS%20Nov%205</a>"
      ],
      "text/plain": [
       "<IPython.core.display.HTML object>"
      ]
     },
     "metadata": {},
     "output_type": "display_data"
    },
    {
     "data": {
      "text/html": [
       " View sweep at <a href='https://wandb.ai/zekai-wang/RecurrentTPP%20on%20ANSS%20Nov%205/sweeps/27ca0onv' target=\"_blank\">https://wandb.ai/zekai-wang/RecurrentTPP%20on%20ANSS%20Nov%205/sweeps/27ca0onv</a>"
      ],
      "text/plain": [
       "<IPython.core.display.HTML object>"
      ]
     },
     "metadata": {},
     "output_type": "display_data"
    },
    {
     "data": {
      "text/html": [
       " View run at <a href='https://wandb.ai/zekai-wang/RecurrentTPP%20on%20ANSS%20Nov%205/runs/7i8chsrd' target=\"_blank\">https://wandb.ai/zekai-wang/RecurrentTPP%20on%20ANSS%20Nov%205/runs/7i8chsrd</a>"
      ],
      "text/plain": [
       "<IPython.core.display.HTML object>"
      ]
     },
     "metadata": {},
     "output_type": "display_data"
    },
    {
     "data": {
      "application/vnd.jupyter.widget-view+json": {
       "model_id": "a99ddbe586434b1584f752e6f4148fa5",
       "version_major": 2,
       "version_minor": 0
      },
      "text/plain": [
       "  0%|          | 0/200 [00:00<?, ?it/s]"
      ]
     },
     "metadata": {},
     "output_type": "display_data"
    },
    {
     "data": {
      "text/html": [
       "Waiting for W&B process to finish... <strong style=\"color:green\">(success).</strong>"
      ],
      "text/plain": [
       "<IPython.core.display.HTML object>"
      ]
     },
     "metadata": {},
     "output_type": "display_data"
    },
    {
     "data": {
      "application/vnd.jupyter.widget-view+json": {
       "model_id": "92ac6390653041bc89b7ae409117bb2d",
       "version_major": 2,
       "version_minor": 0
      },
      "text/plain": [
       "VBox(children=(Label(value='0.003 MB of 0.019 MB uploaded (0.000 MB deduped)\\r'), FloatProgress(value=0.184621…"
      ]
     },
     "metadata": {},
     "output_type": "display_data"
    },
    {
     "data": {
      "text/html": [
       "<style>\n",
       "    table.wandb td:nth-child(1) { padding: 0 10px; text-align: left ; width: auto;} td:nth-child(2) {text-align: left ; width: 100%}\n",
       "    .wandb-row { display: flex; flex-direction: row; flex-wrap: wrap; justify-content: flex-start; width: 100% }\n",
       "    .wandb-col { display: flex; flex-direction: column; flex-basis: 100%; flex: 1; padding: 10px; }\n",
       "    </style>\n",
       "<div class=\"wandb-row\"><div class=\"wandb-col\"><h3>Run history:</h3><br/><table class=\"wandb\"><tr><td>avg_test_loss</td><td>▁</td></tr></table><br/></div><div class=\"wandb-col\"><h3>Run summary:</h3><br/><table class=\"wandb\"><tr><td>avg_test_loss</td><td>0.17476</td></tr></table><br/></div></div>"
      ],
      "text/plain": [
       "<IPython.core.display.HTML object>"
      ]
     },
     "metadata": {},
     "output_type": "display_data"
    },
    {
     "data": {
      "text/html": [
       " View run <strong style=\"color:#cdcd00\">vague-sweep-15</strong> at: <a href='https://wandb.ai/zekai-wang/RecurrentTPP%20on%20ANSS%20Nov%205/runs/7i8chsrd' target=\"_blank\">https://wandb.ai/zekai-wang/RecurrentTPP%20on%20ANSS%20Nov%205/runs/7i8chsrd</a><br/>Synced 5 W&B file(s), 0 media file(s), 0 artifact file(s) and 0 other file(s)"
      ],
      "text/plain": [
       "<IPython.core.display.HTML object>"
      ]
     },
     "metadata": {},
     "output_type": "display_data"
    },
    {
     "data": {
      "text/html": [
       "Find logs at: <code>./wandb/run-20231105_223550-7i8chsrd/logs</code>"
      ],
      "text/plain": [
       "<IPython.core.display.HTML object>"
      ]
     },
     "metadata": {},
     "output_type": "display_data"
    },
    {
     "name": "stderr",
     "output_type": "stream",
     "text": [
      "\u001b[34m\u001b[1mwandb\u001b[0m: Sweep Agent: Waiting for job.\n",
      "\u001b[34m\u001b[1mwandb\u001b[0m: Job received.\n",
      "\u001b[34m\u001b[1mwandb\u001b[0m: Agent Starting Run: q18o6yyc with config:\n",
      "\u001b[34m\u001b[1mwandb\u001b[0m: \tbatch_size: 8\n",
      "\u001b[34m\u001b[1mwandb\u001b[0m: \tbetas: [0.9, 0.999]\n",
      "\u001b[34m\u001b[1mwandb\u001b[0m: \tcontext_size: 128\n",
      "\u001b[34m\u001b[1mwandb\u001b[0m: \tdropout_proba: 0.3\n",
      "\u001b[34m\u001b[1mwandb\u001b[0m: \tlr: 0.001\n",
      "\u001b[34m\u001b[1mwandb\u001b[0m: \tnum_components: 8\n",
      "\u001b[34m\u001b[1mwandb\u001b[0m: \trnn_type: LSTM\n",
      "\u001b[34m\u001b[1mwandb\u001b[0m: \tweight_decay: 0.02\n"
     ]
    },
    {
     "data": {
      "text/html": [
       "Tracking run with wandb version 0.15.12"
      ],
      "text/plain": [
       "<IPython.core.display.HTML object>"
      ]
     },
     "metadata": {},
     "output_type": "display_data"
    },
    {
     "data": {
      "text/html": [
       "Run data is saved locally in <code>/home/zekai/repos/recast/notebooks/Zekai/hyperparameter_sweep/wandb/run-20231105_223712-q18o6yyc</code>"
      ],
      "text/plain": [
       "<IPython.core.display.HTML object>"
      ]
     },
     "metadata": {},
     "output_type": "display_data"
    },
    {
     "data": {
      "text/html": [
       "Syncing run <strong><a href='https://wandb.ai/zekai-wang/RecurrentTPP%20on%20ANSS%20Nov%205/runs/q18o6yyc' target=\"_blank\">rich-sweep-16</a></strong> to <a href='https://wandb.ai/zekai-wang/RecurrentTPP%20on%20ANSS%20Nov%205' target=\"_blank\">Weights & Biases</a> (<a href='https://wandb.me/run' target=\"_blank\">docs</a>)<br/>Sweep page: <a href='https://wandb.ai/zekai-wang/RecurrentTPP%20on%20ANSS%20Nov%205/sweeps/27ca0onv' target=\"_blank\">https://wandb.ai/zekai-wang/RecurrentTPP%20on%20ANSS%20Nov%205/sweeps/27ca0onv</a>"
      ],
      "text/plain": [
       "<IPython.core.display.HTML object>"
      ]
     },
     "metadata": {},
     "output_type": "display_data"
    },
    {
     "data": {
      "text/html": [
       " View project at <a href='https://wandb.ai/zekai-wang/RecurrentTPP%20on%20ANSS%20Nov%205' target=\"_blank\">https://wandb.ai/zekai-wang/RecurrentTPP%20on%20ANSS%20Nov%205</a>"
      ],
      "text/plain": [
       "<IPython.core.display.HTML object>"
      ]
     },
     "metadata": {},
     "output_type": "display_data"
    },
    {
     "data": {
      "text/html": [
       " View sweep at <a href='https://wandb.ai/zekai-wang/RecurrentTPP%20on%20ANSS%20Nov%205/sweeps/27ca0onv' target=\"_blank\">https://wandb.ai/zekai-wang/RecurrentTPP%20on%20ANSS%20Nov%205/sweeps/27ca0onv</a>"
      ],
      "text/plain": [
       "<IPython.core.display.HTML object>"
      ]
     },
     "metadata": {},
     "output_type": "display_data"
    },
    {
     "data": {
      "text/html": [
       " View run at <a href='https://wandb.ai/zekai-wang/RecurrentTPP%20on%20ANSS%20Nov%205/runs/q18o6yyc' target=\"_blank\">https://wandb.ai/zekai-wang/RecurrentTPP%20on%20ANSS%20Nov%205/runs/q18o6yyc</a>"
      ],
      "text/plain": [
       "<IPython.core.display.HTML object>"
      ]
     },
     "metadata": {},
     "output_type": "display_data"
    },
    {
     "data": {
      "application/vnd.jupyter.widget-view+json": {
       "model_id": "d96cad8970284525a899d039c3add697",
       "version_major": 2,
       "version_minor": 0
      },
      "text/plain": [
       "  0%|          | 0/200 [00:00<?, ?it/s]"
      ]
     },
     "metadata": {},
     "output_type": "display_data"
    },
    {
     "data": {
      "text/html": [
       "Waiting for W&B process to finish... <strong style=\"color:green\">(success).</strong>"
      ],
      "text/plain": [
       "<IPython.core.display.HTML object>"
      ]
     },
     "metadata": {},
     "output_type": "display_data"
    },
    {
     "data": {
      "text/html": [
       "<style>\n",
       "    table.wandb td:nth-child(1) { padding: 0 10px; text-align: left ; width: auto;} td:nth-child(2) {text-align: left ; width: 100%}\n",
       "    .wandb-row { display: flex; flex-direction: row; flex-wrap: wrap; justify-content: flex-start; width: 100% }\n",
       "    .wandb-col { display: flex; flex-direction: column; flex-basis: 100%; flex: 1; padding: 10px; }\n",
       "    </style>\n",
       "<div class=\"wandb-row\"><div class=\"wandb-col\"><h3>Run history:</h3><br/><table class=\"wandb\"><tr><td>avg_test_loss</td><td>▁</td></tr></table><br/></div><div class=\"wandb-col\"><h3>Run summary:</h3><br/><table class=\"wandb\"><tr><td>avg_test_loss</td><td>0.16572</td></tr></table><br/></div></div>"
      ],
      "text/plain": [
       "<IPython.core.display.HTML object>"
      ]
     },
     "metadata": {},
     "output_type": "display_data"
    },
    {
     "data": {
      "text/html": [
       " View run <strong style=\"color:#cdcd00\">rich-sweep-16</strong> at: <a href='https://wandb.ai/zekai-wang/RecurrentTPP%20on%20ANSS%20Nov%205/runs/q18o6yyc' target=\"_blank\">https://wandb.ai/zekai-wang/RecurrentTPP%20on%20ANSS%20Nov%205/runs/q18o6yyc</a><br/>Synced 5 W&B file(s), 0 media file(s), 0 artifact file(s) and 0 other file(s)"
      ],
      "text/plain": [
       "<IPython.core.display.HTML object>"
      ]
     },
     "metadata": {},
     "output_type": "display_data"
    },
    {
     "data": {
      "text/html": [
       "Find logs at: <code>./wandb/run-20231105_223712-q18o6yyc/logs</code>"
      ],
      "text/plain": [
       "<IPython.core.display.HTML object>"
      ]
     },
     "metadata": {},
     "output_type": "display_data"
    },
    {
     "name": "stderr",
     "output_type": "stream",
     "text": [
      "\u001b[34m\u001b[1mwandb\u001b[0m: Agent Starting Run: e8dapfta with config:\n",
      "\u001b[34m\u001b[1mwandb\u001b[0m: \tbatch_size: 128\n",
      "\u001b[34m\u001b[1mwandb\u001b[0m: \tbetas: [0.9, 0.999]\n",
      "\u001b[34m\u001b[1mwandb\u001b[0m: \tcontext_size: 32\n",
      "\u001b[34m\u001b[1mwandb\u001b[0m: \tdropout_proba: 0.2\n",
      "\u001b[34m\u001b[1mwandb\u001b[0m: \tlr: 0.002\n",
      "\u001b[34m\u001b[1mwandb\u001b[0m: \tnum_components: 32\n",
      "\u001b[34m\u001b[1mwandb\u001b[0m: \trnn_type: RNN\n",
      "\u001b[34m\u001b[1mwandb\u001b[0m: \tweight_decay: 0.001\n"
     ]
    },
    {
     "data": {
      "text/html": [
       "Tracking run with wandb version 0.15.12"
      ],
      "text/plain": [
       "<IPython.core.display.HTML object>"
      ]
     },
     "metadata": {},
     "output_type": "display_data"
    },
    {
     "data": {
      "text/html": [
       "Run data is saved locally in <code>/home/zekai/repos/recast/notebooks/Zekai/hyperparameter_sweep/wandb/run-20231105_224021-e8dapfta</code>"
      ],
      "text/plain": [
       "<IPython.core.display.HTML object>"
      ]
     },
     "metadata": {},
     "output_type": "display_data"
    },
    {
     "data": {
      "text/html": [
       "Syncing run <strong><a href='https://wandb.ai/zekai-wang/RecurrentTPP%20on%20ANSS%20Nov%205/runs/e8dapfta' target=\"_blank\">logical-sweep-17</a></strong> to <a href='https://wandb.ai/zekai-wang/RecurrentTPP%20on%20ANSS%20Nov%205' target=\"_blank\">Weights & Biases</a> (<a href='https://wandb.me/run' target=\"_blank\">docs</a>)<br/>Sweep page: <a href='https://wandb.ai/zekai-wang/RecurrentTPP%20on%20ANSS%20Nov%205/sweeps/27ca0onv' target=\"_blank\">https://wandb.ai/zekai-wang/RecurrentTPP%20on%20ANSS%20Nov%205/sweeps/27ca0onv</a>"
      ],
      "text/plain": [
       "<IPython.core.display.HTML object>"
      ]
     },
     "metadata": {},
     "output_type": "display_data"
    },
    {
     "data": {
      "text/html": [
       " View project at <a href='https://wandb.ai/zekai-wang/RecurrentTPP%20on%20ANSS%20Nov%205' target=\"_blank\">https://wandb.ai/zekai-wang/RecurrentTPP%20on%20ANSS%20Nov%205</a>"
      ],
      "text/plain": [
       "<IPython.core.display.HTML object>"
      ]
     },
     "metadata": {},
     "output_type": "display_data"
    },
    {
     "data": {
      "text/html": [
       " View sweep at <a href='https://wandb.ai/zekai-wang/RecurrentTPP%20on%20ANSS%20Nov%205/sweeps/27ca0onv' target=\"_blank\">https://wandb.ai/zekai-wang/RecurrentTPP%20on%20ANSS%20Nov%205/sweeps/27ca0onv</a>"
      ],
      "text/plain": [
       "<IPython.core.display.HTML object>"
      ]
     },
     "metadata": {},
     "output_type": "display_data"
    },
    {
     "data": {
      "text/html": [
       " View run at <a href='https://wandb.ai/zekai-wang/RecurrentTPP%20on%20ANSS%20Nov%205/runs/e8dapfta' target=\"_blank\">https://wandb.ai/zekai-wang/RecurrentTPP%20on%20ANSS%20Nov%205/runs/e8dapfta</a>"
      ],
      "text/plain": [
       "<IPython.core.display.HTML object>"
      ]
     },
     "metadata": {},
     "output_type": "display_data"
    },
    {
     "data": {
      "application/vnd.jupyter.widget-view+json": {
       "model_id": "09f9153bb7464bc59c78dc8fc89c3459",
       "version_major": 2,
       "version_minor": 0
      },
      "text/plain": [
       "  0%|          | 0/200 [00:00<?, ?it/s]"
      ]
     },
     "metadata": {},
     "output_type": "display_data"
    },
    {
     "data": {
      "text/html": [
       "Waiting for W&B process to finish... <strong style=\"color:green\">(success).</strong>"
      ],
      "text/plain": [
       "<IPython.core.display.HTML object>"
      ]
     },
     "metadata": {},
     "output_type": "display_data"
    },
    {
     "data": {
      "application/vnd.jupyter.widget-view+json": {
       "model_id": "5a3fb09ca96245009cdbae205aa536d7",
       "version_major": 2,
       "version_minor": 0
      },
      "text/plain": [
       "VBox(children=(Label(value='0.003 MB of 0.003 MB uploaded (0.000 MB deduped)\\r'), FloatProgress(value=1.0, max…"
      ]
     },
     "metadata": {},
     "output_type": "display_data"
    },
    {
     "data": {
      "text/html": [
       "<style>\n",
       "    table.wandb td:nth-child(1) { padding: 0 10px; text-align: left ; width: auto;} td:nth-child(2) {text-align: left ; width: 100%}\n",
       "    .wandb-row { display: flex; flex-direction: row; flex-wrap: wrap; justify-content: flex-start; width: 100% }\n",
       "    .wandb-col { display: flex; flex-direction: column; flex-basis: 100%; flex: 1; padding: 10px; }\n",
       "    </style>\n",
       "<div class=\"wandb-row\"><div class=\"wandb-col\"><h3>Run history:</h3><br/><table class=\"wandb\"><tr><td>avg_test_loss</td><td>▁</td></tr></table><br/></div><div class=\"wandb-col\"><h3>Run summary:</h3><br/><table class=\"wandb\"><tr><td>avg_test_loss</td><td>0.17972</td></tr></table><br/></div></div>"
      ],
      "text/plain": [
       "<IPython.core.display.HTML object>"
      ]
     },
     "metadata": {},
     "output_type": "display_data"
    },
    {
     "data": {
      "text/html": [
       " View run <strong style=\"color:#cdcd00\">logical-sweep-17</strong> at: <a href='https://wandb.ai/zekai-wang/RecurrentTPP%20on%20ANSS%20Nov%205/runs/e8dapfta' target=\"_blank\">https://wandb.ai/zekai-wang/RecurrentTPP%20on%20ANSS%20Nov%205/runs/e8dapfta</a><br/>Synced 5 W&B file(s), 0 media file(s), 0 artifact file(s) and 0 other file(s)"
      ],
      "text/plain": [
       "<IPython.core.display.HTML object>"
      ]
     },
     "metadata": {},
     "output_type": "display_data"
    },
    {
     "data": {
      "text/html": [
       "Find logs at: <code>./wandb/run-20231105_224021-e8dapfta/logs</code>"
      ],
      "text/plain": [
       "<IPython.core.display.HTML object>"
      ]
     },
     "metadata": {},
     "output_type": "display_data"
    },
    {
     "name": "stderr",
     "output_type": "stream",
     "text": [
      "\u001b[34m\u001b[1mwandb\u001b[0m: Agent Starting Run: e2f7bwjk with config:\n",
      "\u001b[34m\u001b[1mwandb\u001b[0m: \tbatch_size: 32\n",
      "\u001b[34m\u001b[1mwandb\u001b[0m: \tbetas: [0.9, 0.999]\n",
      "\u001b[34m\u001b[1mwandb\u001b[0m: \tcontext_size: 8\n",
      "\u001b[34m\u001b[1mwandb\u001b[0m: \tdropout_proba: 0.3\n",
      "\u001b[34m\u001b[1mwandb\u001b[0m: \tlr: 0.001\n",
      "\u001b[34m\u001b[1mwandb\u001b[0m: \tnum_components: 32\n",
      "\u001b[34m\u001b[1mwandb\u001b[0m: \trnn_type: GRU\n",
      "\u001b[34m\u001b[1mwandb\u001b[0m: \tweight_decay: 0.01\n"
     ]
    },
    {
     "data": {
      "text/html": [
       "Tracking run with wandb version 0.15.12"
      ],
      "text/plain": [
       "<IPython.core.display.HTML object>"
      ]
     },
     "metadata": {},
     "output_type": "display_data"
    },
    {
     "data": {
      "text/html": [
       "Run data is saved locally in <code>/home/zekai/repos/recast/notebooks/Zekai/hyperparameter_sweep/wandb/run-20231105_224133-e2f7bwjk</code>"
      ],
      "text/plain": [
       "<IPython.core.display.HTML object>"
      ]
     },
     "metadata": {},
     "output_type": "display_data"
    },
    {
     "data": {
      "text/html": [
       "Syncing run <strong><a href='https://wandb.ai/zekai-wang/RecurrentTPP%20on%20ANSS%20Nov%205/runs/e2f7bwjk' target=\"_blank\">good-sweep-18</a></strong> to <a href='https://wandb.ai/zekai-wang/RecurrentTPP%20on%20ANSS%20Nov%205' target=\"_blank\">Weights & Biases</a> (<a href='https://wandb.me/run' target=\"_blank\">docs</a>)<br/>Sweep page: <a href='https://wandb.ai/zekai-wang/RecurrentTPP%20on%20ANSS%20Nov%205/sweeps/27ca0onv' target=\"_blank\">https://wandb.ai/zekai-wang/RecurrentTPP%20on%20ANSS%20Nov%205/sweeps/27ca0onv</a>"
      ],
      "text/plain": [
       "<IPython.core.display.HTML object>"
      ]
     },
     "metadata": {},
     "output_type": "display_data"
    },
    {
     "data": {
      "text/html": [
       " View project at <a href='https://wandb.ai/zekai-wang/RecurrentTPP%20on%20ANSS%20Nov%205' target=\"_blank\">https://wandb.ai/zekai-wang/RecurrentTPP%20on%20ANSS%20Nov%205</a>"
      ],
      "text/plain": [
       "<IPython.core.display.HTML object>"
      ]
     },
     "metadata": {},
     "output_type": "display_data"
    },
    {
     "data": {
      "text/html": [
       " View sweep at <a href='https://wandb.ai/zekai-wang/RecurrentTPP%20on%20ANSS%20Nov%205/sweeps/27ca0onv' target=\"_blank\">https://wandb.ai/zekai-wang/RecurrentTPP%20on%20ANSS%20Nov%205/sweeps/27ca0onv</a>"
      ],
      "text/plain": [
       "<IPython.core.display.HTML object>"
      ]
     },
     "metadata": {},
     "output_type": "display_data"
    },
    {
     "data": {
      "text/html": [
       " View run at <a href='https://wandb.ai/zekai-wang/RecurrentTPP%20on%20ANSS%20Nov%205/runs/e2f7bwjk' target=\"_blank\">https://wandb.ai/zekai-wang/RecurrentTPP%20on%20ANSS%20Nov%205/runs/e2f7bwjk</a>"
      ],
      "text/plain": [
       "<IPython.core.display.HTML object>"
      ]
     },
     "metadata": {},
     "output_type": "display_data"
    },
    {
     "data": {
      "application/vnd.jupyter.widget-view+json": {
       "model_id": "2a63dbef9bcb49c1a8951f90479e80ba",
       "version_major": 2,
       "version_minor": 0
      },
      "text/plain": [
       "  0%|          | 0/200 [00:00<?, ?it/s]"
      ]
     },
     "metadata": {},
     "output_type": "display_data"
    },
    {
     "data": {
      "text/html": [
       "Waiting for W&B process to finish... <strong style=\"color:green\">(success).</strong>"
      ],
      "text/plain": [
       "<IPython.core.display.HTML object>"
      ]
     },
     "metadata": {},
     "output_type": "display_data"
    },
    {
     "data": {
      "application/vnd.jupyter.widget-view+json": {
       "model_id": "a5182ce447144eb786b94bd23f95b8e5",
       "version_major": 2,
       "version_minor": 0
      },
      "text/plain": [
       "VBox(children=(Label(value='0.003 MB of 0.018 MB uploaded (0.000 MB deduped)\\r'), FloatProgress(value=0.192881…"
      ]
     },
     "metadata": {},
     "output_type": "display_data"
    },
    {
     "data": {
      "text/html": [
       "<style>\n",
       "    table.wandb td:nth-child(1) { padding: 0 10px; text-align: left ; width: auto;} td:nth-child(2) {text-align: left ; width: 100%}\n",
       "    .wandb-row { display: flex; flex-direction: row; flex-wrap: wrap; justify-content: flex-start; width: 100% }\n",
       "    .wandb-col { display: flex; flex-direction: column; flex-basis: 100%; flex: 1; padding: 10px; }\n",
       "    </style>\n",
       "<div class=\"wandb-row\"><div class=\"wandb-col\"><h3>Run history:</h3><br/><table class=\"wandb\"><tr><td>avg_test_loss</td><td>▁</td></tr></table><br/></div><div class=\"wandb-col\"><h3>Run summary:</h3><br/><table class=\"wandb\"><tr><td>avg_test_loss</td><td>0.18373</td></tr></table><br/></div></div>"
      ],
      "text/plain": [
       "<IPython.core.display.HTML object>"
      ]
     },
     "metadata": {},
     "output_type": "display_data"
    },
    {
     "data": {
      "text/html": [
       " View run <strong style=\"color:#cdcd00\">good-sweep-18</strong> at: <a href='https://wandb.ai/zekai-wang/RecurrentTPP%20on%20ANSS%20Nov%205/runs/e2f7bwjk' target=\"_blank\">https://wandb.ai/zekai-wang/RecurrentTPP%20on%20ANSS%20Nov%205/runs/e2f7bwjk</a><br/>Synced 5 W&B file(s), 0 media file(s), 0 artifact file(s) and 0 other file(s)"
      ],
      "text/plain": [
       "<IPython.core.display.HTML object>"
      ]
     },
     "metadata": {},
     "output_type": "display_data"
    },
    {
     "data": {
      "text/html": [
       "Find logs at: <code>./wandb/run-20231105_224133-e2f7bwjk/logs</code>"
      ],
      "text/plain": [
       "<IPython.core.display.HTML object>"
      ]
     },
     "metadata": {},
     "output_type": "display_data"
    },
    {
     "name": "stderr",
     "output_type": "stream",
     "text": [
      "\u001b[34m\u001b[1mwandb\u001b[0m: Sweep Agent: Waiting for job.\n",
      "\u001b[34m\u001b[1mwandb\u001b[0m: Job received.\n",
      "\u001b[34m\u001b[1mwandb\u001b[0m: Agent Starting Run: wbmunmus with config:\n",
      "\u001b[34m\u001b[1mwandb\u001b[0m: \tbatch_size: 16\n",
      "\u001b[34m\u001b[1mwandb\u001b[0m: \tbetas: [0.9, 0.999]\n",
      "\u001b[34m\u001b[1mwandb\u001b[0m: \tcontext_size: 64\n",
      "\u001b[34m\u001b[1mwandb\u001b[0m: \tdropout_proba: 0\n",
      "\u001b[34m\u001b[1mwandb\u001b[0m: \tlr: 0.002\n",
      "\u001b[34m\u001b[1mwandb\u001b[0m: \tnum_components: 64\n",
      "\u001b[34m\u001b[1mwandb\u001b[0m: \trnn_type: LSTM\n",
      "\u001b[34m\u001b[1mwandb\u001b[0m: \tweight_decay: 0.01\n"
     ]
    },
    {
     "data": {
      "text/html": [
       "Tracking run with wandb version 0.15.12"
      ],
      "text/plain": [
       "<IPython.core.display.HTML object>"
      ]
     },
     "metadata": {},
     "output_type": "display_data"
    },
    {
     "data": {
      "text/html": [
       "Run data is saved locally in <code>/home/zekai/repos/recast/notebooks/Zekai/hyperparameter_sweep/wandb/run-20231105_224305-wbmunmus</code>"
      ],
      "text/plain": [
       "<IPython.core.display.HTML object>"
      ]
     },
     "metadata": {},
     "output_type": "display_data"
    },
    {
     "data": {
      "text/html": [
       "Syncing run <strong><a href='https://wandb.ai/zekai-wang/RecurrentTPP%20on%20ANSS%20Nov%205/runs/wbmunmus' target=\"_blank\">skilled-sweep-19</a></strong> to <a href='https://wandb.ai/zekai-wang/RecurrentTPP%20on%20ANSS%20Nov%205' target=\"_blank\">Weights & Biases</a> (<a href='https://wandb.me/run' target=\"_blank\">docs</a>)<br/>Sweep page: <a href='https://wandb.ai/zekai-wang/RecurrentTPP%20on%20ANSS%20Nov%205/sweeps/27ca0onv' target=\"_blank\">https://wandb.ai/zekai-wang/RecurrentTPP%20on%20ANSS%20Nov%205/sweeps/27ca0onv</a>"
      ],
      "text/plain": [
       "<IPython.core.display.HTML object>"
      ]
     },
     "metadata": {},
     "output_type": "display_data"
    },
    {
     "data": {
      "text/html": [
       " View project at <a href='https://wandb.ai/zekai-wang/RecurrentTPP%20on%20ANSS%20Nov%205' target=\"_blank\">https://wandb.ai/zekai-wang/RecurrentTPP%20on%20ANSS%20Nov%205</a>"
      ],
      "text/plain": [
       "<IPython.core.display.HTML object>"
      ]
     },
     "metadata": {},
     "output_type": "display_data"
    },
    {
     "data": {
      "text/html": [
       " View sweep at <a href='https://wandb.ai/zekai-wang/RecurrentTPP%20on%20ANSS%20Nov%205/sweeps/27ca0onv' target=\"_blank\">https://wandb.ai/zekai-wang/RecurrentTPP%20on%20ANSS%20Nov%205/sweeps/27ca0onv</a>"
      ],
      "text/plain": [
       "<IPython.core.display.HTML object>"
      ]
     },
     "metadata": {},
     "output_type": "display_data"
    },
    {
     "data": {
      "text/html": [
       " View run at <a href='https://wandb.ai/zekai-wang/RecurrentTPP%20on%20ANSS%20Nov%205/runs/wbmunmus' target=\"_blank\">https://wandb.ai/zekai-wang/RecurrentTPP%20on%20ANSS%20Nov%205/runs/wbmunmus</a>"
      ],
      "text/plain": [
       "<IPython.core.display.HTML object>"
      ]
     },
     "metadata": {},
     "output_type": "display_data"
    },
    {
     "data": {
      "application/vnd.jupyter.widget-view+json": {
       "model_id": "a5dec474e05a46eca5a4f1cba8fb9dfe",
       "version_major": 2,
       "version_minor": 0
      },
      "text/plain": [
       "  0%|          | 0/200 [00:00<?, ?it/s]"
      ]
     },
     "metadata": {},
     "output_type": "display_data"
    },
    {
     "data": {
      "text/html": [
       "Waiting for W&B process to finish... <strong style=\"color:green\">(success).</strong>"
      ],
      "text/plain": [
       "<IPython.core.display.HTML object>"
      ]
     },
     "metadata": {},
     "output_type": "display_data"
    },
    {
     "data": {
      "application/vnd.jupyter.widget-view+json": {
       "model_id": "c8ed74be8fb84be2a18fd3e204d52eda",
       "version_major": 2,
       "version_minor": 0
      },
      "text/plain": [
       "VBox(children=(Label(value='0.004 MB of 0.018 MB uploaded (0.000 MB deduped)\\r'), FloatProgress(value=0.192978…"
      ]
     },
     "metadata": {},
     "output_type": "display_data"
    },
    {
     "data": {
      "text/html": [
       "<style>\n",
       "    table.wandb td:nth-child(1) { padding: 0 10px; text-align: left ; width: auto;} td:nth-child(2) {text-align: left ; width: 100%}\n",
       "    .wandb-row { display: flex; flex-direction: row; flex-wrap: wrap; justify-content: flex-start; width: 100% }\n",
       "    .wandb-col { display: flex; flex-direction: column; flex-basis: 100%; flex: 1; padding: 10px; }\n",
       "    </style>\n",
       "<div class=\"wandb-row\"><div class=\"wandb-col\"><h3>Run history:</h3><br/><table class=\"wandb\"><tr><td>avg_test_loss</td><td>▁</td></tr></table><br/></div><div class=\"wandb-col\"><h3>Run summary:</h3><br/><table class=\"wandb\"><tr><td>avg_test_loss</td><td>0.1621</td></tr></table><br/></div></div>"
      ],
      "text/plain": [
       "<IPython.core.display.HTML object>"
      ]
     },
     "metadata": {},
     "output_type": "display_data"
    },
    {
     "data": {
      "text/html": [
       " View run <strong style=\"color:#cdcd00\">skilled-sweep-19</strong> at: <a href='https://wandb.ai/zekai-wang/RecurrentTPP%20on%20ANSS%20Nov%205/runs/wbmunmus' target=\"_blank\">https://wandb.ai/zekai-wang/RecurrentTPP%20on%20ANSS%20Nov%205/runs/wbmunmus</a><br/>Synced 5 W&B file(s), 0 media file(s), 0 artifact file(s) and 0 other file(s)"
      ],
      "text/plain": [
       "<IPython.core.display.HTML object>"
      ]
     },
     "metadata": {},
     "output_type": "display_data"
    },
    {
     "data": {
      "text/html": [
       "Find logs at: <code>./wandb/run-20231105_224305-wbmunmus/logs</code>"
      ],
      "text/plain": [
       "<IPython.core.display.HTML object>"
      ]
     },
     "metadata": {},
     "output_type": "display_data"
    },
    {
     "name": "stderr",
     "output_type": "stream",
     "text": [
      "\u001b[34m\u001b[1mwandb\u001b[0m: Agent Starting Run: 8g9gzltt with config:\n",
      "\u001b[34m\u001b[1mwandb\u001b[0m: \tbatch_size: 16\n",
      "\u001b[34m\u001b[1mwandb\u001b[0m: \tbetas: [0.9, 0.999]\n",
      "\u001b[34m\u001b[1mwandb\u001b[0m: \tcontext_size: 8\n",
      "\u001b[34m\u001b[1mwandb\u001b[0m: \tdropout_proba: 0.2\n",
      "\u001b[34m\u001b[1mwandb\u001b[0m: \tlr: 0.01\n",
      "\u001b[34m\u001b[1mwandb\u001b[0m: \tnum_components: 128\n",
      "\u001b[34m\u001b[1mwandb\u001b[0m: \trnn_type: LSTM\n",
      "\u001b[34m\u001b[1mwandb\u001b[0m: \tweight_decay: 0.001\n"
     ]
    },
    {
     "data": {
      "text/html": [
       "Tracking run with wandb version 0.15.12"
      ],
      "text/plain": [
       "<IPython.core.display.HTML object>"
      ]
     },
     "metadata": {},
     "output_type": "display_data"
    },
    {
     "data": {
      "text/html": [
       "Run data is saved locally in <code>/home/zekai/repos/recast/notebooks/Zekai/hyperparameter_sweep/wandb/run-20231105_224443-8g9gzltt</code>"
      ],
      "text/plain": [
       "<IPython.core.display.HTML object>"
      ]
     },
     "metadata": {},
     "output_type": "display_data"
    },
    {
     "data": {
      "text/html": [
       "Syncing run <strong><a href='https://wandb.ai/zekai-wang/RecurrentTPP%20on%20ANSS%20Nov%205/runs/8g9gzltt' target=\"_blank\">worthy-sweep-20</a></strong> to <a href='https://wandb.ai/zekai-wang/RecurrentTPP%20on%20ANSS%20Nov%205' target=\"_blank\">Weights & Biases</a> (<a href='https://wandb.me/run' target=\"_blank\">docs</a>)<br/>Sweep page: <a href='https://wandb.ai/zekai-wang/RecurrentTPP%20on%20ANSS%20Nov%205/sweeps/27ca0onv' target=\"_blank\">https://wandb.ai/zekai-wang/RecurrentTPP%20on%20ANSS%20Nov%205/sweeps/27ca0onv</a>"
      ],
      "text/plain": [
       "<IPython.core.display.HTML object>"
      ]
     },
     "metadata": {},
     "output_type": "display_data"
    },
    {
     "data": {
      "text/html": [
       " View project at <a href='https://wandb.ai/zekai-wang/RecurrentTPP%20on%20ANSS%20Nov%205' target=\"_blank\">https://wandb.ai/zekai-wang/RecurrentTPP%20on%20ANSS%20Nov%205</a>"
      ],
      "text/plain": [
       "<IPython.core.display.HTML object>"
      ]
     },
     "metadata": {},
     "output_type": "display_data"
    },
    {
     "data": {
      "text/html": [
       " View sweep at <a href='https://wandb.ai/zekai-wang/RecurrentTPP%20on%20ANSS%20Nov%205/sweeps/27ca0onv' target=\"_blank\">https://wandb.ai/zekai-wang/RecurrentTPP%20on%20ANSS%20Nov%205/sweeps/27ca0onv</a>"
      ],
      "text/plain": [
       "<IPython.core.display.HTML object>"
      ]
     },
     "metadata": {},
     "output_type": "display_data"
    },
    {
     "data": {
      "text/html": [
       " View run at <a href='https://wandb.ai/zekai-wang/RecurrentTPP%20on%20ANSS%20Nov%205/runs/8g9gzltt' target=\"_blank\">https://wandb.ai/zekai-wang/RecurrentTPP%20on%20ANSS%20Nov%205/runs/8g9gzltt</a>"
      ],
      "text/plain": [
       "<IPython.core.display.HTML object>"
      ]
     },
     "metadata": {},
     "output_type": "display_data"
    },
    {
     "data": {
      "application/vnd.jupyter.widget-view+json": {
       "model_id": "7ee0476fc5d74fe1b09034ae42121d97",
       "version_major": 2,
       "version_minor": 0
      },
      "text/plain": [
       "  0%|          | 0/200 [00:00<?, ?it/s]"
      ]
     },
     "metadata": {},
     "output_type": "display_data"
    },
    {
     "data": {
      "text/html": [
       "Waiting for W&B process to finish... <strong style=\"color:green\">(success).</strong>"
      ],
      "text/plain": [
       "<IPython.core.display.HTML object>"
      ]
     },
     "metadata": {},
     "output_type": "display_data"
    },
    {
     "data": {
      "application/vnd.jupyter.widget-view+json": {
       "model_id": "0950abd2697049329d11f32621ff5fb8",
       "version_major": 2,
       "version_minor": 0
      },
      "text/plain": [
       "VBox(children=(Label(value='0.003 MB of 0.014 MB uploaded (0.000 MB deduped)\\r'), FloatProgress(value=0.243329…"
      ]
     },
     "metadata": {},
     "output_type": "display_data"
    },
    {
     "data": {
      "text/html": [
       "<style>\n",
       "    table.wandb td:nth-child(1) { padding: 0 10px; text-align: left ; width: auto;} td:nth-child(2) {text-align: left ; width: 100%}\n",
       "    .wandb-row { display: flex; flex-direction: row; flex-wrap: wrap; justify-content: flex-start; width: 100% }\n",
       "    .wandb-col { display: flex; flex-direction: column; flex-basis: 100%; flex: 1; padding: 10px; }\n",
       "    </style>\n",
       "<div class=\"wandb-row\"><div class=\"wandb-col\"><h3>Run history:</h3><br/><table class=\"wandb\"><tr><td>avg_test_loss</td><td>▁</td></tr></table><br/></div><div class=\"wandb-col\"><h3>Run summary:</h3><br/><table class=\"wandb\"><tr><td>avg_test_loss</td><td>0.16696</td></tr></table><br/></div></div>"
      ],
      "text/plain": [
       "<IPython.core.display.HTML object>"
      ]
     },
     "metadata": {},
     "output_type": "display_data"
    },
    {
     "data": {
      "text/html": [
       " View run <strong style=\"color:#cdcd00\">worthy-sweep-20</strong> at: <a href='https://wandb.ai/zekai-wang/RecurrentTPP%20on%20ANSS%20Nov%205/runs/8g9gzltt' target=\"_blank\">https://wandb.ai/zekai-wang/RecurrentTPP%20on%20ANSS%20Nov%205/runs/8g9gzltt</a><br/>Synced 5 W&B file(s), 0 media file(s), 0 artifact file(s) and 0 other file(s)"
      ],
      "text/plain": [
       "<IPython.core.display.HTML object>"
      ]
     },
     "metadata": {},
     "output_type": "display_data"
    },
    {
     "data": {
      "text/html": [
       "Find logs at: <code>./wandb/run-20231105_224443-8g9gzltt/logs</code>"
      ],
      "text/plain": [
       "<IPython.core.display.HTML object>"
      ]
     },
     "metadata": {},
     "output_type": "display_data"
    },
    {
     "name": "stderr",
     "output_type": "stream",
     "text": [
      "\u001b[34m\u001b[1mwandb\u001b[0m: Agent Starting Run: e0qxo8kd with config:\n",
      "\u001b[34m\u001b[1mwandb\u001b[0m: \tbatch_size: 128\n",
      "\u001b[34m\u001b[1mwandb\u001b[0m: \tbetas: [0.9, 0.999]\n",
      "\u001b[34m\u001b[1mwandb\u001b[0m: \tcontext_size: 32\n",
      "\u001b[34m\u001b[1mwandb\u001b[0m: \tdropout_proba: 0.1\n",
      "\u001b[34m\u001b[1mwandb\u001b[0m: \tlr: 0.02\n",
      "\u001b[34m\u001b[1mwandb\u001b[0m: \tnum_components: 128\n",
      "\u001b[34m\u001b[1mwandb\u001b[0m: \trnn_type: LSTM\n",
      "\u001b[34m\u001b[1mwandb\u001b[0m: \tweight_decay: 0.02\n"
     ]
    },
    {
     "data": {
      "text/html": [
       "Tracking run with wandb version 0.15.12"
      ],
      "text/plain": [
       "<IPython.core.display.HTML object>"
      ]
     },
     "metadata": {},
     "output_type": "display_data"
    },
    {
     "data": {
      "text/html": [
       "Run data is saved locally in <code>/home/zekai/repos/recast/notebooks/Zekai/hyperparameter_sweep/wandb/run-20231105_224620-e0qxo8kd</code>"
      ],
      "text/plain": [
       "<IPython.core.display.HTML object>"
      ]
     },
     "metadata": {},
     "output_type": "display_data"
    },
    {
     "data": {
      "text/html": [
       "Syncing run <strong><a href='https://wandb.ai/zekai-wang/RecurrentTPP%20on%20ANSS%20Nov%205/runs/e0qxo8kd' target=\"_blank\">playful-sweep-21</a></strong> to <a href='https://wandb.ai/zekai-wang/RecurrentTPP%20on%20ANSS%20Nov%205' target=\"_blank\">Weights & Biases</a> (<a href='https://wandb.me/run' target=\"_blank\">docs</a>)<br/>Sweep page: <a href='https://wandb.ai/zekai-wang/RecurrentTPP%20on%20ANSS%20Nov%205/sweeps/27ca0onv' target=\"_blank\">https://wandb.ai/zekai-wang/RecurrentTPP%20on%20ANSS%20Nov%205/sweeps/27ca0onv</a>"
      ],
      "text/plain": [
       "<IPython.core.display.HTML object>"
      ]
     },
     "metadata": {},
     "output_type": "display_data"
    },
    {
     "data": {
      "text/html": [
       " View project at <a href='https://wandb.ai/zekai-wang/RecurrentTPP%20on%20ANSS%20Nov%205' target=\"_blank\">https://wandb.ai/zekai-wang/RecurrentTPP%20on%20ANSS%20Nov%205</a>"
      ],
      "text/plain": [
       "<IPython.core.display.HTML object>"
      ]
     },
     "metadata": {},
     "output_type": "display_data"
    },
    {
     "data": {
      "text/html": [
       " View sweep at <a href='https://wandb.ai/zekai-wang/RecurrentTPP%20on%20ANSS%20Nov%205/sweeps/27ca0onv' target=\"_blank\">https://wandb.ai/zekai-wang/RecurrentTPP%20on%20ANSS%20Nov%205/sweeps/27ca0onv</a>"
      ],
      "text/plain": [
       "<IPython.core.display.HTML object>"
      ]
     },
     "metadata": {},
     "output_type": "display_data"
    },
    {
     "data": {
      "text/html": [
       " View run at <a href='https://wandb.ai/zekai-wang/RecurrentTPP%20on%20ANSS%20Nov%205/runs/e0qxo8kd' target=\"_blank\">https://wandb.ai/zekai-wang/RecurrentTPP%20on%20ANSS%20Nov%205/runs/e0qxo8kd</a>"
      ],
      "text/plain": [
       "<IPython.core.display.HTML object>"
      ]
     },
     "metadata": {},
     "output_type": "display_data"
    },
    {
     "data": {
      "application/vnd.jupyter.widget-view+json": {
       "model_id": "658660fcb90a448896141edf99422763",
       "version_major": 2,
       "version_minor": 0
      },
      "text/plain": [
       "  0%|          | 0/200 [00:00<?, ?it/s]"
      ]
     },
     "metadata": {},
     "output_type": "display_data"
    },
    {
     "data": {
      "text/html": [
       "Waiting for W&B process to finish... <strong style=\"color:green\">(success).</strong>"
      ],
      "text/plain": [
       "<IPython.core.display.HTML object>"
      ]
     },
     "metadata": {},
     "output_type": "display_data"
    },
    {
     "data": {
      "text/html": [
       "<style>\n",
       "    table.wandb td:nth-child(1) { padding: 0 10px; text-align: left ; width: auto;} td:nth-child(2) {text-align: left ; width: 100%}\n",
       "    .wandb-row { display: flex; flex-direction: row; flex-wrap: wrap; justify-content: flex-start; width: 100% }\n",
       "    .wandb-col { display: flex; flex-direction: column; flex-basis: 100%; flex: 1; padding: 10px; }\n",
       "    </style>\n",
       "<div class=\"wandb-row\"><div class=\"wandb-col\"><h3>Run history:</h3><br/><table class=\"wandb\"><tr><td>avg_test_loss</td><td>▁</td></tr></table><br/></div><div class=\"wandb-col\"><h3>Run summary:</h3><br/><table class=\"wandb\"><tr><td>avg_test_loss</td><td>0.16191</td></tr></table><br/></div></div>"
      ],
      "text/plain": [
       "<IPython.core.display.HTML object>"
      ]
     },
     "metadata": {},
     "output_type": "display_data"
    },
    {
     "data": {
      "text/html": [
       " View run <strong style=\"color:#cdcd00\">playful-sweep-21</strong> at: <a href='https://wandb.ai/zekai-wang/RecurrentTPP%20on%20ANSS%20Nov%205/runs/e0qxo8kd' target=\"_blank\">https://wandb.ai/zekai-wang/RecurrentTPP%20on%20ANSS%20Nov%205/runs/e0qxo8kd</a><br/>Synced 5 W&B file(s), 0 media file(s), 0 artifact file(s) and 0 other file(s)"
      ],
      "text/plain": [
       "<IPython.core.display.HTML object>"
      ]
     },
     "metadata": {},
     "output_type": "display_data"
    },
    {
     "data": {
      "text/html": [
       "Find logs at: <code>./wandb/run-20231105_224620-e0qxo8kd/logs</code>"
      ],
      "text/plain": [
       "<IPython.core.display.HTML object>"
      ]
     },
     "metadata": {},
     "output_type": "display_data"
    },
    {
     "name": "stderr",
     "output_type": "stream",
     "text": [
      "\u001b[34m\u001b[1mwandb\u001b[0m: Agent Starting Run: magsdlci with config:\n",
      "\u001b[34m\u001b[1mwandb\u001b[0m: \tbatch_size: 16\n",
      "\u001b[34m\u001b[1mwandb\u001b[0m: \tbetas: [0.9, 0.999]\n",
      "\u001b[34m\u001b[1mwandb\u001b[0m: \tcontext_size: 64\n",
      "\u001b[34m\u001b[1mwandb\u001b[0m: \tdropout_proba: 0\n",
      "\u001b[34m\u001b[1mwandb\u001b[0m: \tlr: 0.05\n",
      "\u001b[34m\u001b[1mwandb\u001b[0m: \tnum_components: 16\n",
      "\u001b[34m\u001b[1mwandb\u001b[0m: \trnn_type: GRU\n",
      "\u001b[34m\u001b[1mwandb\u001b[0m: \tweight_decay: 0.01\n"
     ]
    },
    {
     "data": {
      "text/html": [
       "Tracking run with wandb version 0.15.12"
      ],
      "text/plain": [
       "<IPython.core.display.HTML object>"
      ]
     },
     "metadata": {},
     "output_type": "display_data"
    },
    {
     "data": {
      "text/html": [
       "Run data is saved locally in <code>/home/zekai/repos/recast/notebooks/Zekai/hyperparameter_sweep/wandb/run-20231105_224758-magsdlci</code>"
      ],
      "text/plain": [
       "<IPython.core.display.HTML object>"
      ]
     },
     "metadata": {},
     "output_type": "display_data"
    },
    {
     "data": {
      "text/html": [
       "Syncing run <strong><a href='https://wandb.ai/zekai-wang/RecurrentTPP%20on%20ANSS%20Nov%205/runs/magsdlci' target=\"_blank\">azure-sweep-22</a></strong> to <a href='https://wandb.ai/zekai-wang/RecurrentTPP%20on%20ANSS%20Nov%205' target=\"_blank\">Weights & Biases</a> (<a href='https://wandb.me/run' target=\"_blank\">docs</a>)<br/>Sweep page: <a href='https://wandb.ai/zekai-wang/RecurrentTPP%20on%20ANSS%20Nov%205/sweeps/27ca0onv' target=\"_blank\">https://wandb.ai/zekai-wang/RecurrentTPP%20on%20ANSS%20Nov%205/sweeps/27ca0onv</a>"
      ],
      "text/plain": [
       "<IPython.core.display.HTML object>"
      ]
     },
     "metadata": {},
     "output_type": "display_data"
    },
    {
     "data": {
      "text/html": [
       " View project at <a href='https://wandb.ai/zekai-wang/RecurrentTPP%20on%20ANSS%20Nov%205' target=\"_blank\">https://wandb.ai/zekai-wang/RecurrentTPP%20on%20ANSS%20Nov%205</a>"
      ],
      "text/plain": [
       "<IPython.core.display.HTML object>"
      ]
     },
     "metadata": {},
     "output_type": "display_data"
    },
    {
     "data": {
      "text/html": [
       " View sweep at <a href='https://wandb.ai/zekai-wang/RecurrentTPP%20on%20ANSS%20Nov%205/sweeps/27ca0onv' target=\"_blank\">https://wandb.ai/zekai-wang/RecurrentTPP%20on%20ANSS%20Nov%205/sweeps/27ca0onv</a>"
      ],
      "text/plain": [
       "<IPython.core.display.HTML object>"
      ]
     },
     "metadata": {},
     "output_type": "display_data"
    },
    {
     "data": {
      "text/html": [
       " View run at <a href='https://wandb.ai/zekai-wang/RecurrentTPP%20on%20ANSS%20Nov%205/runs/magsdlci' target=\"_blank\">https://wandb.ai/zekai-wang/RecurrentTPP%20on%20ANSS%20Nov%205/runs/magsdlci</a>"
      ],
      "text/plain": [
       "<IPython.core.display.HTML object>"
      ]
     },
     "metadata": {},
     "output_type": "display_data"
    },
    {
     "data": {
      "application/vnd.jupyter.widget-view+json": {
       "model_id": "bc0a0b7b7e91436497a71e4c77e1d04c",
       "version_major": 2,
       "version_minor": 0
      },
      "text/plain": [
       "  0%|          | 0/200 [00:00<?, ?it/s]"
      ]
     },
     "metadata": {},
     "output_type": "display_data"
    },
    {
     "name": "stdout",
     "output_type": "stream",
     "text": [
      "Expected parameter scale (Tensor of shape (16, 777, 16)) of distribution Weibull(scale: torch.Size([16, 777, 16]), shape: torch.Size([16, 777, 16])) to satisfy the constraint GreaterThan(lower_bound=0.0), but found invalid values:\n",
      "tensor([[[0.4928, 0.7050, 0.7236,  ..., 0.5647, 0.5160, 0.6274],\n",
      "         [   nan,    nan,    nan,  ...,    nan,    nan,    nan],\n",
      "         [   nan,    nan,    nan,  ...,    nan,    nan,    nan],\n",
      "         ...,\n",
      "         [   nan,    nan,    nan,  ...,    nan,    nan,    nan],\n",
      "         [   nan,    nan,    nan,  ...,    nan,    nan,    nan],\n",
      "         [   nan,    nan,    nan,  ...,    nan,    nan,    nan]],\n",
      "\n",
      "        [[0.4928, 0.7050, 0.7236,  ..., 0.5647, 0.5160, 0.6274],\n",
      "         [   nan,    nan,    nan,  ...,    nan,    nan,    nan],\n",
      "         [   nan,    nan,    nan,  ...,    nan,    nan,    nan],\n",
      "         ...,\n",
      "         [   nan,    nan,    nan,  ...,    nan,    nan,    nan],\n",
      "         [   nan,    nan,    nan,  ...,    nan,    nan,    nan],\n",
      "         [   nan,    nan,    nan,  ...,    nan,    nan,    nan]],\n",
      "\n",
      "        [[0.4928, 0.7050, 0.7236,  ..., 0.5647, 0.5160, 0.6274],\n",
      "         [   nan,    nan,    nan,  ...,    nan,    nan,    nan],\n",
      "         [   nan,    nan,    nan,  ...,    nan,    nan,    nan],\n",
      "         ...,\n",
      "         [   nan,    nan,    nan,  ...,    nan,    nan,    nan],\n",
      "         [   nan,    nan,    nan,  ...,    nan,    nan,    nan],\n",
      "         [   nan,    nan,    nan,  ...,    nan,    nan,    nan]],\n",
      "\n",
      "        ...,\n",
      "\n",
      "        [[0.4928, 0.7050, 0.7236,  ..., 0.5647, 0.5160, 0.6274],\n",
      "         [   nan,    nan,    nan,  ...,    nan,    nan,    nan],\n",
      "         [   nan,    nan,    nan,  ...,    nan,    nan,    nan],\n",
      "         ...,\n",
      "         [   nan,    nan,    nan,  ...,    nan,    nan,    nan],\n",
      "         [   nan,    nan,    nan,  ...,    nan,    nan,    nan],\n",
      "         [   nan,    nan,    nan,  ...,    nan,    nan,    nan]],\n",
      "\n",
      "        [[0.4928, 0.7050, 0.7236,  ..., 0.5647, 0.5160, 0.6274],\n",
      "         [   nan,    nan,    nan,  ...,    nan,    nan,    nan],\n",
      "         [   nan,    nan,    nan,  ...,    nan,    nan,    nan],\n",
      "         ...,\n",
      "         [   nan,    nan,    nan,  ...,    nan,    nan,    nan],\n",
      "         [   nan,    nan,    nan,  ...,    nan,    nan,    nan],\n",
      "         [   nan,    nan,    nan,  ...,    nan,    nan,    nan]],\n",
      "\n",
      "        [[0.4928, 0.7050, 0.7236,  ..., 0.5647, 0.5160, 0.6274],\n",
      "         [   nan,    nan,    nan,  ...,    nan,    nan,    nan],\n",
      "         [   nan,    nan,    nan,  ...,    nan,    nan,    nan],\n",
      "         ...,\n",
      "         [   nan,    nan,    nan,  ...,    nan,    nan,    nan],\n",
      "         [   nan,    nan,    nan,  ...,    nan,    nan,    nan],\n",
      "         [   nan,    nan,    nan,  ...,    nan,    nan,    nan]]],\n",
      "       device='cuda:0', grad_fn=<SoftplusBackward0>)\n"
     ]
    },
    {
     "data": {
      "text/html": [
       "Waiting for W&B process to finish... <strong style=\"color:green\">(success).</strong>"
      ],
      "text/plain": [
       "<IPython.core.display.HTML object>"
      ]
     },
     "metadata": {},
     "output_type": "display_data"
    },
    {
     "data": {
      "text/html": [
       "<style>\n",
       "    table.wandb td:nth-child(1) { padding: 0 10px; text-align: left ; width: auto;} td:nth-child(2) {text-align: left ; width: 100%}\n",
       "    .wandb-row { display: flex; flex-direction: row; flex-wrap: wrap; justify-content: flex-start; width: 100% }\n",
       "    .wandb-col { display: flex; flex-direction: column; flex-basis: 100%; flex: 1; padding: 10px; }\n",
       "    </style>\n",
       "<div class=\"wandb-row\"><div class=\"wandb-col\"><h3>Run summary:</h3><br/><table class=\"wandb\"><tr><td>avg_test_loss</td><td>nan</td></tr></table><br/></div></div>"
      ],
      "text/plain": [
       "<IPython.core.display.HTML object>"
      ]
     },
     "metadata": {},
     "output_type": "display_data"
    },
    {
     "data": {
      "text/html": [
       " View run <strong style=\"color:#cdcd00\">azure-sweep-22</strong> at: <a href='https://wandb.ai/zekai-wang/RecurrentTPP%20on%20ANSS%20Nov%205/runs/magsdlci' target=\"_blank\">https://wandb.ai/zekai-wang/RecurrentTPP%20on%20ANSS%20Nov%205/runs/magsdlci</a><br/>Synced 6 W&B file(s), 0 media file(s), 0 artifact file(s) and 0 other file(s)"
      ],
      "text/plain": [
       "<IPython.core.display.HTML object>"
      ]
     },
     "metadata": {},
     "output_type": "display_data"
    },
    {
     "data": {
      "text/html": [
       "Find logs at: <code>./wandb/run-20231105_224758-magsdlci/logs</code>"
      ],
      "text/plain": [
       "<IPython.core.display.HTML object>"
      ]
     },
     "metadata": {},
     "output_type": "display_data"
    },
    {
     "name": "stderr",
     "output_type": "stream",
     "text": [
      "\u001b[34m\u001b[1mwandb\u001b[0m: Agent Starting Run: q33obwz6 with config:\n",
      "\u001b[34m\u001b[1mwandb\u001b[0m: \tbatch_size: 16\n",
      "\u001b[34m\u001b[1mwandb\u001b[0m: \tbetas: [0.9, 0.999]\n",
      "\u001b[34m\u001b[1mwandb\u001b[0m: \tcontext_size: 32\n",
      "\u001b[34m\u001b[1mwandb\u001b[0m: \tdropout_proba: 0.3\n",
      "\u001b[34m\u001b[1mwandb\u001b[0m: \tlr: 0.005\n",
      "\u001b[34m\u001b[1mwandb\u001b[0m: \tnum_components: 16\n",
      "\u001b[34m\u001b[1mwandb\u001b[0m: \trnn_type: LSTM\n",
      "\u001b[34m\u001b[1mwandb\u001b[0m: \tweight_decay: 0\n"
     ]
    },
    {
     "data": {
      "text/html": [
       "Tracking run with wandb version 0.15.12"
      ],
      "text/plain": [
       "<IPython.core.display.HTML object>"
      ]
     },
     "metadata": {},
     "output_type": "display_data"
    },
    {
     "data": {
      "text/html": [
       "Run data is saved locally in <code>/home/zekai/repos/recast/notebooks/Zekai/hyperparameter_sweep/wandb/run-20231105_224914-q33obwz6</code>"
      ],
      "text/plain": [
       "<IPython.core.display.HTML object>"
      ]
     },
     "metadata": {},
     "output_type": "display_data"
    },
    {
     "data": {
      "text/html": [
       "Syncing run <strong><a href='https://wandb.ai/zekai-wang/RecurrentTPP%20on%20ANSS%20Nov%205/runs/q33obwz6' target=\"_blank\">flowing-sweep-23</a></strong> to <a href='https://wandb.ai/zekai-wang/RecurrentTPP%20on%20ANSS%20Nov%205' target=\"_blank\">Weights & Biases</a> (<a href='https://wandb.me/run' target=\"_blank\">docs</a>)<br/>Sweep page: <a href='https://wandb.ai/zekai-wang/RecurrentTPP%20on%20ANSS%20Nov%205/sweeps/27ca0onv' target=\"_blank\">https://wandb.ai/zekai-wang/RecurrentTPP%20on%20ANSS%20Nov%205/sweeps/27ca0onv</a>"
      ],
      "text/plain": [
       "<IPython.core.display.HTML object>"
      ]
     },
     "metadata": {},
     "output_type": "display_data"
    },
    {
     "data": {
      "text/html": [
       " View project at <a href='https://wandb.ai/zekai-wang/RecurrentTPP%20on%20ANSS%20Nov%205' target=\"_blank\">https://wandb.ai/zekai-wang/RecurrentTPP%20on%20ANSS%20Nov%205</a>"
      ],
      "text/plain": [
       "<IPython.core.display.HTML object>"
      ]
     },
     "metadata": {},
     "output_type": "display_data"
    },
    {
     "data": {
      "text/html": [
       " View sweep at <a href='https://wandb.ai/zekai-wang/RecurrentTPP%20on%20ANSS%20Nov%205/sweeps/27ca0onv' target=\"_blank\">https://wandb.ai/zekai-wang/RecurrentTPP%20on%20ANSS%20Nov%205/sweeps/27ca0onv</a>"
      ],
      "text/plain": [
       "<IPython.core.display.HTML object>"
      ]
     },
     "metadata": {},
     "output_type": "display_data"
    },
    {
     "data": {
      "text/html": [
       " View run at <a href='https://wandb.ai/zekai-wang/RecurrentTPP%20on%20ANSS%20Nov%205/runs/q33obwz6' target=\"_blank\">https://wandb.ai/zekai-wang/RecurrentTPP%20on%20ANSS%20Nov%205/runs/q33obwz6</a>"
      ],
      "text/plain": [
       "<IPython.core.display.HTML object>"
      ]
     },
     "metadata": {},
     "output_type": "display_data"
    },
    {
     "data": {
      "application/vnd.jupyter.widget-view+json": {
       "model_id": "b0e76fe28a2549e2b89f08c6f7161db7",
       "version_major": 2,
       "version_minor": 0
      },
      "text/plain": [
       "  0%|          | 0/200 [00:00<?, ?it/s]"
      ]
     },
     "metadata": {},
     "output_type": "display_data"
    },
    {
     "data": {
      "text/html": [
       "Waiting for W&B process to finish... <strong style=\"color:green\">(success).</strong>"
      ],
      "text/plain": [
       "<IPython.core.display.HTML object>"
      ]
     },
     "metadata": {},
     "output_type": "display_data"
    },
    {
     "data": {
      "text/html": [
       "<style>\n",
       "    table.wandb td:nth-child(1) { padding: 0 10px; text-align: left ; width: auto;} td:nth-child(2) {text-align: left ; width: 100%}\n",
       "    .wandb-row { display: flex; flex-direction: row; flex-wrap: wrap; justify-content: flex-start; width: 100% }\n",
       "    .wandb-col { display: flex; flex-direction: column; flex-basis: 100%; flex: 1; padding: 10px; }\n",
       "    </style>\n",
       "<div class=\"wandb-row\"><div class=\"wandb-col\"><h3>Run history:</h3><br/><table class=\"wandb\"><tr><td>avg_test_loss</td><td>▁</td></tr></table><br/></div><div class=\"wandb-col\"><h3>Run summary:</h3><br/><table class=\"wandb\"><tr><td>avg_test_loss</td><td>0.17879</td></tr></table><br/></div></div>"
      ],
      "text/plain": [
       "<IPython.core.display.HTML object>"
      ]
     },
     "metadata": {},
     "output_type": "display_data"
    },
    {
     "data": {
      "text/html": [
       " View run <strong style=\"color:#cdcd00\">flowing-sweep-23</strong> at: <a href='https://wandb.ai/zekai-wang/RecurrentTPP%20on%20ANSS%20Nov%205/runs/q33obwz6' target=\"_blank\">https://wandb.ai/zekai-wang/RecurrentTPP%20on%20ANSS%20Nov%205/runs/q33obwz6</a><br/>Synced 5 W&B file(s), 0 media file(s), 0 artifact file(s) and 0 other file(s)"
      ],
      "text/plain": [
       "<IPython.core.display.HTML object>"
      ]
     },
     "metadata": {},
     "output_type": "display_data"
    },
    {
     "data": {
      "text/html": [
       "Find logs at: <code>./wandb/run-20231105_224914-q33obwz6/logs</code>"
      ],
      "text/plain": [
       "<IPython.core.display.HTML object>"
      ]
     },
     "metadata": {},
     "output_type": "display_data"
    },
    {
     "name": "stderr",
     "output_type": "stream",
     "text": [
      "\u001b[34m\u001b[1mwandb\u001b[0m: Sweep Agent: Waiting for job.\n",
      "\u001b[34m\u001b[1mwandb\u001b[0m: Job received.\n",
      "\u001b[34m\u001b[1mwandb\u001b[0m: Agent Starting Run: 285wxp5u with config:\n",
      "\u001b[34m\u001b[1mwandb\u001b[0m: \tbatch_size: 16\n",
      "\u001b[34m\u001b[1mwandb\u001b[0m: \tbetas: [0.9, 0.999]\n",
      "\u001b[34m\u001b[1mwandb\u001b[0m: \tcontext_size: 16\n",
      "\u001b[34m\u001b[1mwandb\u001b[0m: \tdropout_proba: 0.5\n",
      "\u001b[34m\u001b[1mwandb\u001b[0m: \tlr: 0.002\n",
      "\u001b[34m\u001b[1mwandb\u001b[0m: \tnum_components: 64\n",
      "\u001b[34m\u001b[1mwandb\u001b[0m: \trnn_type: GRU\n",
      "\u001b[34m\u001b[1mwandb\u001b[0m: \tweight_decay: 0.02\n"
     ]
    },
    {
     "data": {
      "text/html": [
       "Tracking run with wandb version 0.15.12"
      ],
      "text/plain": [
       "<IPython.core.display.HTML object>"
      ]
     },
     "metadata": {},
     "output_type": "display_data"
    },
    {
     "data": {
      "text/html": [
       "Run data is saved locally in <code>/home/zekai/repos/recast/notebooks/Zekai/hyperparameter_sweep/wandb/run-20231105_225058-285wxp5u</code>"
      ],
      "text/plain": [
       "<IPython.core.display.HTML object>"
      ]
     },
     "metadata": {},
     "output_type": "display_data"
    },
    {
     "data": {
      "text/html": [
       "Syncing run <strong><a href='https://wandb.ai/zekai-wang/RecurrentTPP%20on%20ANSS%20Nov%205/runs/285wxp5u' target=\"_blank\">sandy-sweep-24</a></strong> to <a href='https://wandb.ai/zekai-wang/RecurrentTPP%20on%20ANSS%20Nov%205' target=\"_blank\">Weights & Biases</a> (<a href='https://wandb.me/run' target=\"_blank\">docs</a>)<br/>Sweep page: <a href='https://wandb.ai/zekai-wang/RecurrentTPP%20on%20ANSS%20Nov%205/sweeps/27ca0onv' target=\"_blank\">https://wandb.ai/zekai-wang/RecurrentTPP%20on%20ANSS%20Nov%205/sweeps/27ca0onv</a>"
      ],
      "text/plain": [
       "<IPython.core.display.HTML object>"
      ]
     },
     "metadata": {},
     "output_type": "display_data"
    },
    {
     "data": {
      "text/html": [
       " View project at <a href='https://wandb.ai/zekai-wang/RecurrentTPP%20on%20ANSS%20Nov%205' target=\"_blank\">https://wandb.ai/zekai-wang/RecurrentTPP%20on%20ANSS%20Nov%205</a>"
      ],
      "text/plain": [
       "<IPython.core.display.HTML object>"
      ]
     },
     "metadata": {},
     "output_type": "display_data"
    },
    {
     "data": {
      "text/html": [
       " View sweep at <a href='https://wandb.ai/zekai-wang/RecurrentTPP%20on%20ANSS%20Nov%205/sweeps/27ca0onv' target=\"_blank\">https://wandb.ai/zekai-wang/RecurrentTPP%20on%20ANSS%20Nov%205/sweeps/27ca0onv</a>"
      ],
      "text/plain": [
       "<IPython.core.display.HTML object>"
      ]
     },
     "metadata": {},
     "output_type": "display_data"
    },
    {
     "data": {
      "text/html": [
       " View run at <a href='https://wandb.ai/zekai-wang/RecurrentTPP%20on%20ANSS%20Nov%205/runs/285wxp5u' target=\"_blank\">https://wandb.ai/zekai-wang/RecurrentTPP%20on%20ANSS%20Nov%205/runs/285wxp5u</a>"
      ],
      "text/plain": [
       "<IPython.core.display.HTML object>"
      ]
     },
     "metadata": {},
     "output_type": "display_data"
    },
    {
     "data": {
      "application/vnd.jupyter.widget-view+json": {
       "model_id": "444abe4fd61b4afb85205c56163e7516",
       "version_major": 2,
       "version_minor": 0
      },
      "text/plain": [
       "  0%|          | 0/200 [00:00<?, ?it/s]"
      ]
     },
     "metadata": {},
     "output_type": "display_data"
    },
    {
     "data": {
      "text/html": [
       "Waiting for W&B process to finish... <strong style=\"color:green\">(success).</strong>"
      ],
      "text/plain": [
       "<IPython.core.display.HTML object>"
      ]
     },
     "metadata": {},
     "output_type": "display_data"
    },
    {
     "data": {
      "text/html": [
       "<style>\n",
       "    table.wandb td:nth-child(1) { padding: 0 10px; text-align: left ; width: auto;} td:nth-child(2) {text-align: left ; width: 100%}\n",
       "    .wandb-row { display: flex; flex-direction: row; flex-wrap: wrap; justify-content: flex-start; width: 100% }\n",
       "    .wandb-col { display: flex; flex-direction: column; flex-basis: 100%; flex: 1; padding: 10px; }\n",
       "    </style>\n",
       "<div class=\"wandb-row\"><div class=\"wandb-col\"><h3>Run history:</h3><br/><table class=\"wandb\"><tr><td>avg_test_loss</td><td>▁</td></tr></table><br/></div><div class=\"wandb-col\"><h3>Run summary:</h3><br/><table class=\"wandb\"><tr><td>avg_test_loss</td><td>0.19858</td></tr></table><br/></div></div>"
      ],
      "text/plain": [
       "<IPython.core.display.HTML object>"
      ]
     },
     "metadata": {},
     "output_type": "display_data"
    },
    {
     "data": {
      "text/html": [
       " View run <strong style=\"color:#cdcd00\">sandy-sweep-24</strong> at: <a href='https://wandb.ai/zekai-wang/RecurrentTPP%20on%20ANSS%20Nov%205/runs/285wxp5u' target=\"_blank\">https://wandb.ai/zekai-wang/RecurrentTPP%20on%20ANSS%20Nov%205/runs/285wxp5u</a><br/>Synced 5 W&B file(s), 0 media file(s), 0 artifact file(s) and 0 other file(s)"
      ],
      "text/plain": [
       "<IPython.core.display.HTML object>"
      ]
     },
     "metadata": {},
     "output_type": "display_data"
    },
    {
     "data": {
      "text/html": [
       "Find logs at: <code>./wandb/run-20231105_225058-285wxp5u/logs</code>"
      ],
      "text/plain": [
       "<IPython.core.display.HTML object>"
      ]
     },
     "metadata": {},
     "output_type": "display_data"
    },
    {
     "name": "stderr",
     "output_type": "stream",
     "text": [
      "\u001b[34m\u001b[1mwandb\u001b[0m: Agent Starting Run: a63fxrk7 with config:\n",
      "\u001b[34m\u001b[1mwandb\u001b[0m: \tbatch_size: 16\n",
      "\u001b[34m\u001b[1mwandb\u001b[0m: \tbetas: [0.9, 0.999]\n",
      "\u001b[34m\u001b[1mwandb\u001b[0m: \tcontext_size: 32\n",
      "\u001b[34m\u001b[1mwandb\u001b[0m: \tdropout_proba: 0\n",
      "\u001b[34m\u001b[1mwandb\u001b[0m: \tlr: 0.05\n",
      "\u001b[34m\u001b[1mwandb\u001b[0m: \tnum_components: 16\n",
      "\u001b[34m\u001b[1mwandb\u001b[0m: \trnn_type: LSTM\n",
      "\u001b[34m\u001b[1mwandb\u001b[0m: \tweight_decay: 0.002\n"
     ]
    },
    {
     "data": {
      "text/html": [
       "Tracking run with wandb version 0.15.12"
      ],
      "text/plain": [
       "<IPython.core.display.HTML object>"
      ]
     },
     "metadata": {},
     "output_type": "display_data"
    },
    {
     "data": {
      "text/html": [
       "Run data is saved locally in <code>/home/zekai/repos/recast/notebooks/Zekai/hyperparameter_sweep/wandb/run-20231105_225234-a63fxrk7</code>"
      ],
      "text/plain": [
       "<IPython.core.display.HTML object>"
      ]
     },
     "metadata": {},
     "output_type": "display_data"
    },
    {
     "data": {
      "text/html": [
       "Syncing run <strong><a href='https://wandb.ai/zekai-wang/RecurrentTPP%20on%20ANSS%20Nov%205/runs/a63fxrk7' target=\"_blank\">zesty-sweep-25</a></strong> to <a href='https://wandb.ai/zekai-wang/RecurrentTPP%20on%20ANSS%20Nov%205' target=\"_blank\">Weights & Biases</a> (<a href='https://wandb.me/run' target=\"_blank\">docs</a>)<br/>Sweep page: <a href='https://wandb.ai/zekai-wang/RecurrentTPP%20on%20ANSS%20Nov%205/sweeps/27ca0onv' target=\"_blank\">https://wandb.ai/zekai-wang/RecurrentTPP%20on%20ANSS%20Nov%205/sweeps/27ca0onv</a>"
      ],
      "text/plain": [
       "<IPython.core.display.HTML object>"
      ]
     },
     "metadata": {},
     "output_type": "display_data"
    },
    {
     "data": {
      "text/html": [
       " View project at <a href='https://wandb.ai/zekai-wang/RecurrentTPP%20on%20ANSS%20Nov%205' target=\"_blank\">https://wandb.ai/zekai-wang/RecurrentTPP%20on%20ANSS%20Nov%205</a>"
      ],
      "text/plain": [
       "<IPython.core.display.HTML object>"
      ]
     },
     "metadata": {},
     "output_type": "display_data"
    },
    {
     "data": {
      "text/html": [
       " View sweep at <a href='https://wandb.ai/zekai-wang/RecurrentTPP%20on%20ANSS%20Nov%205/sweeps/27ca0onv' target=\"_blank\">https://wandb.ai/zekai-wang/RecurrentTPP%20on%20ANSS%20Nov%205/sweeps/27ca0onv</a>"
      ],
      "text/plain": [
       "<IPython.core.display.HTML object>"
      ]
     },
     "metadata": {},
     "output_type": "display_data"
    },
    {
     "data": {
      "text/html": [
       " View run at <a href='https://wandb.ai/zekai-wang/RecurrentTPP%20on%20ANSS%20Nov%205/runs/a63fxrk7' target=\"_blank\">https://wandb.ai/zekai-wang/RecurrentTPP%20on%20ANSS%20Nov%205/runs/a63fxrk7</a>"
      ],
      "text/plain": [
       "<IPython.core.display.HTML object>"
      ]
     },
     "metadata": {},
     "output_type": "display_data"
    },
    {
     "data": {
      "application/vnd.jupyter.widget-view+json": {
       "model_id": "d11542cc663245d6b1311061cce694f3",
       "version_major": 2,
       "version_minor": 0
      },
      "text/plain": [
       "  0%|          | 0/200 [00:00<?, ?it/s]"
      ]
     },
     "metadata": {},
     "output_type": "display_data"
    },
    {
     "data": {
      "text/html": [
       "Waiting for W&B process to finish... <strong style=\"color:green\">(success).</strong>"
      ],
      "text/plain": [
       "<IPython.core.display.HTML object>"
      ]
     },
     "metadata": {},
     "output_type": "display_data"
    },
    {
     "data": {
      "text/html": [
       "<style>\n",
       "    table.wandb td:nth-child(1) { padding: 0 10px; text-align: left ; width: auto;} td:nth-child(2) {text-align: left ; width: 100%}\n",
       "    .wandb-row { display: flex; flex-direction: row; flex-wrap: wrap; justify-content: flex-start; width: 100% }\n",
       "    .wandb-col { display: flex; flex-direction: column; flex-basis: 100%; flex: 1; padding: 10px; }\n",
       "    </style>\n",
       "<div class=\"wandb-row\"><div class=\"wandb-col\"><h3>Run history:</h3><br/><table class=\"wandb\"><tr><td>avg_test_loss</td><td>▁</td></tr></table><br/></div><div class=\"wandb-col\"><h3>Run summary:</h3><br/><table class=\"wandb\"><tr><td>avg_test_loss</td><td>0.16507</td></tr></table><br/></div></div>"
      ],
      "text/plain": [
       "<IPython.core.display.HTML object>"
      ]
     },
     "metadata": {},
     "output_type": "display_data"
    },
    {
     "data": {
      "text/html": [
       " View run <strong style=\"color:#cdcd00\">zesty-sweep-25</strong> at: <a href='https://wandb.ai/zekai-wang/RecurrentTPP%20on%20ANSS%20Nov%205/runs/a63fxrk7' target=\"_blank\">https://wandb.ai/zekai-wang/RecurrentTPP%20on%20ANSS%20Nov%205/runs/a63fxrk7</a><br/>Synced 5 W&B file(s), 0 media file(s), 0 artifact file(s) and 0 other file(s)"
      ],
      "text/plain": [
       "<IPython.core.display.HTML object>"
      ]
     },
     "metadata": {},
     "output_type": "display_data"
    },
    {
     "data": {
      "text/html": [
       "Find logs at: <code>./wandb/run-20231105_225234-a63fxrk7/logs</code>"
      ],
      "text/plain": [
       "<IPython.core.display.HTML object>"
      ]
     },
     "metadata": {},
     "output_type": "display_data"
    },
    {
     "name": "stderr",
     "output_type": "stream",
     "text": [
      "\u001b[34m\u001b[1mwandb\u001b[0m: Agent Starting Run: p0z13sye with config:\n",
      "\u001b[34m\u001b[1mwandb\u001b[0m: \tbatch_size: 8\n",
      "\u001b[34m\u001b[1mwandb\u001b[0m: \tbetas: [0.9, 0.999]\n",
      "\u001b[34m\u001b[1mwandb\u001b[0m: \tcontext_size: 64\n",
      "\u001b[34m\u001b[1mwandb\u001b[0m: \tdropout_proba: 0.2\n",
      "\u001b[34m\u001b[1mwandb\u001b[0m: \tlr: 0.02\n",
      "\u001b[34m\u001b[1mwandb\u001b[0m: \tnum_components: 64\n",
      "\u001b[34m\u001b[1mwandb\u001b[0m: \trnn_type: RNN\n",
      "\u001b[34m\u001b[1mwandb\u001b[0m: \tweight_decay: 0.001\n"
     ]
    },
    {
     "data": {
      "text/html": [
       "Tracking run with wandb version 0.15.12"
      ],
      "text/plain": [
       "<IPython.core.display.HTML object>"
      ]
     },
     "metadata": {},
     "output_type": "display_data"
    },
    {
     "data": {
      "text/html": [
       "Run data is saved locally in <code>/home/zekai/repos/recast/notebooks/Zekai/hyperparameter_sweep/wandb/run-20231105_225411-p0z13sye</code>"
      ],
      "text/plain": [
       "<IPython.core.display.HTML object>"
      ]
     },
     "metadata": {},
     "output_type": "display_data"
    },
    {
     "data": {
      "text/html": [
       "Syncing run <strong><a href='https://wandb.ai/zekai-wang/RecurrentTPP%20on%20ANSS%20Nov%205/runs/p0z13sye' target=\"_blank\">dulcet-sweep-26</a></strong> to <a href='https://wandb.ai/zekai-wang/RecurrentTPP%20on%20ANSS%20Nov%205' target=\"_blank\">Weights & Biases</a> (<a href='https://wandb.me/run' target=\"_blank\">docs</a>)<br/>Sweep page: <a href='https://wandb.ai/zekai-wang/RecurrentTPP%20on%20ANSS%20Nov%205/sweeps/27ca0onv' target=\"_blank\">https://wandb.ai/zekai-wang/RecurrentTPP%20on%20ANSS%20Nov%205/sweeps/27ca0onv</a>"
      ],
      "text/plain": [
       "<IPython.core.display.HTML object>"
      ]
     },
     "metadata": {},
     "output_type": "display_data"
    },
    {
     "data": {
      "text/html": [
       " View project at <a href='https://wandb.ai/zekai-wang/RecurrentTPP%20on%20ANSS%20Nov%205' target=\"_blank\">https://wandb.ai/zekai-wang/RecurrentTPP%20on%20ANSS%20Nov%205</a>"
      ],
      "text/plain": [
       "<IPython.core.display.HTML object>"
      ]
     },
     "metadata": {},
     "output_type": "display_data"
    },
    {
     "data": {
      "text/html": [
       " View sweep at <a href='https://wandb.ai/zekai-wang/RecurrentTPP%20on%20ANSS%20Nov%205/sweeps/27ca0onv' target=\"_blank\">https://wandb.ai/zekai-wang/RecurrentTPP%20on%20ANSS%20Nov%205/sweeps/27ca0onv</a>"
      ],
      "text/plain": [
       "<IPython.core.display.HTML object>"
      ]
     },
     "metadata": {},
     "output_type": "display_data"
    },
    {
     "data": {
      "text/html": [
       " View run at <a href='https://wandb.ai/zekai-wang/RecurrentTPP%20on%20ANSS%20Nov%205/runs/p0z13sye' target=\"_blank\">https://wandb.ai/zekai-wang/RecurrentTPP%20on%20ANSS%20Nov%205/runs/p0z13sye</a>"
      ],
      "text/plain": [
       "<IPython.core.display.HTML object>"
      ]
     },
     "metadata": {},
     "output_type": "display_data"
    },
    {
     "data": {
      "application/vnd.jupyter.widget-view+json": {
       "model_id": "c733c8f18d1040dfa32c86a0178460f2",
       "version_major": 2,
       "version_minor": 0
      },
      "text/plain": [
       "  0%|          | 0/200 [00:00<?, ?it/s]"
      ]
     },
     "metadata": {},
     "output_type": "display_data"
    },
    {
     "name": "stdout",
     "output_type": "stream",
     "text": [
      "Expected parameter scale (Tensor of shape (8, 909, 64)) of distribution Weibull(scale: torch.Size([8, 909, 64]), shape: torch.Size([8, 909, 64])) to satisfy the constraint GreaterThan(lower_bound=0.0), but found invalid values:\n",
      "tensor([[[0.5295, 0.5086, 0.6147,  ..., 0.7090, 0.8108, 0.6590],\n",
      "         [   nan,    nan,    nan,  ...,    nan,    nan,    nan],\n",
      "         [   nan,    nan,    nan,  ...,    nan,    nan,    nan],\n",
      "         ...,\n",
      "         [   nan,    nan,    nan,  ...,    nan,    nan,    nan],\n",
      "         [   nan,    nan,    nan,  ...,    nan,    nan,    nan],\n",
      "         [   nan,    nan,    nan,  ...,    nan,    nan,    nan]],\n",
      "\n",
      "        [[0.5295, 0.5086, 0.6147,  ..., 0.7090, 0.8108, 0.6590],\n",
      "         [   nan,    nan,    nan,  ...,    nan,    nan,    nan],\n",
      "         [   nan,    nan,    nan,  ...,    nan,    nan,    nan],\n",
      "         ...,\n",
      "         [   nan,    nan,    nan,  ...,    nan,    nan,    nan],\n",
      "         [   nan,    nan,    nan,  ...,    nan,    nan,    nan],\n",
      "         [   nan,    nan,    nan,  ...,    nan,    nan,    nan]],\n",
      "\n",
      "        [[0.5295, 0.5086, 0.6147,  ..., 0.7090, 0.8108, 0.6590],\n",
      "         [   nan,    nan,    nan,  ...,    nan,    nan,    nan],\n",
      "         [   nan,    nan,    nan,  ...,    nan,    nan,    nan],\n",
      "         ...,\n",
      "         [   nan,    nan,    nan,  ...,    nan,    nan,    nan],\n",
      "         [   nan,    nan,    nan,  ...,    nan,    nan,    nan],\n",
      "         [   nan,    nan,    nan,  ...,    nan,    nan,    nan]],\n",
      "\n",
      "        ...,\n",
      "\n",
      "        [[0.5295, 0.5086, 0.6147,  ..., 0.7090, 0.8108, 0.6590],\n",
      "         [   nan,    nan,    nan,  ...,    nan,    nan,    nan],\n",
      "         [   nan,    nan,    nan,  ...,    nan,    nan,    nan],\n",
      "         ...,\n",
      "         [   nan,    nan,    nan,  ...,    nan,    nan,    nan],\n",
      "         [   nan,    nan,    nan,  ...,    nan,    nan,    nan],\n",
      "         [   nan,    nan,    nan,  ...,    nan,    nan,    nan]],\n",
      "\n",
      "        [[0.5295, 0.5086, 0.6147,  ..., 0.7090, 0.8108, 0.6590],\n",
      "         [   nan,    nan,    nan,  ...,    nan,    nan,    nan],\n",
      "         [   nan,    nan,    nan,  ...,    nan,    nan,    nan],\n",
      "         ...,\n",
      "         [   nan,    nan,    nan,  ...,    nan,    nan,    nan],\n",
      "         [   nan,    nan,    nan,  ...,    nan,    nan,    nan],\n",
      "         [   nan,    nan,    nan,  ...,    nan,    nan,    nan]],\n",
      "\n",
      "        [[0.5295, 0.5086, 0.6147,  ..., 0.7090, 0.8108, 0.6590],\n",
      "         [   nan,    nan,    nan,  ...,    nan,    nan,    nan],\n",
      "         [   nan,    nan,    nan,  ...,    nan,    nan,    nan],\n",
      "         ...,\n",
      "         [   nan,    nan,    nan,  ...,    nan,    nan,    nan],\n",
      "         [   nan,    nan,    nan,  ...,    nan,    nan,    nan],\n",
      "         [   nan,    nan,    nan,  ...,    nan,    nan,    nan]]],\n",
      "       device='cuda:0', grad_fn=<SoftplusBackward0>)\n"
     ]
    },
    {
     "data": {
      "text/html": [
       "Waiting for W&B process to finish... <strong style=\"color:green\">(success).</strong>"
      ],
      "text/plain": [
       "<IPython.core.display.HTML object>"
      ]
     },
     "metadata": {},
     "output_type": "display_data"
    },
    {
     "data": {
      "text/html": [
       "<style>\n",
       "    table.wandb td:nth-child(1) { padding: 0 10px; text-align: left ; width: auto;} td:nth-child(2) {text-align: left ; width: 100%}\n",
       "    .wandb-row { display: flex; flex-direction: row; flex-wrap: wrap; justify-content: flex-start; width: 100% }\n",
       "    .wandb-col { display: flex; flex-direction: column; flex-basis: 100%; flex: 1; padding: 10px; }\n",
       "    </style>\n",
       "<div class=\"wandb-row\"><div class=\"wandb-col\"><h3>Run summary:</h3><br/><table class=\"wandb\"><tr><td>avg_test_loss</td><td>nan</td></tr></table><br/></div></div>"
      ],
      "text/plain": [
       "<IPython.core.display.HTML object>"
      ]
     },
     "metadata": {},
     "output_type": "display_data"
    },
    {
     "data": {
      "text/html": [
       " View run <strong style=\"color:#cdcd00\">dulcet-sweep-26</strong> at: <a href='https://wandb.ai/zekai-wang/RecurrentTPP%20on%20ANSS%20Nov%205/runs/p0z13sye' target=\"_blank\">https://wandb.ai/zekai-wang/RecurrentTPP%20on%20ANSS%20Nov%205/runs/p0z13sye</a><br/>Synced 6 W&B file(s), 0 media file(s), 0 artifact file(s) and 0 other file(s)"
      ],
      "text/plain": [
       "<IPython.core.display.HTML object>"
      ]
     },
     "metadata": {},
     "output_type": "display_data"
    },
    {
     "data": {
      "text/html": [
       "Find logs at: <code>./wandb/run-20231105_225411-p0z13sye/logs</code>"
      ],
      "text/plain": [
       "<IPython.core.display.HTML object>"
      ]
     },
     "metadata": {},
     "output_type": "display_data"
    },
    {
     "name": "stderr",
     "output_type": "stream",
     "text": [
      "\u001b[34m\u001b[1mwandb\u001b[0m: Agent Starting Run: 1f6s6pyl with config:\n",
      "\u001b[34m\u001b[1mwandb\u001b[0m: \tbatch_size: 16\n",
      "\u001b[34m\u001b[1mwandb\u001b[0m: \tbetas: [0.9, 0.999]\n",
      "\u001b[34m\u001b[1mwandb\u001b[0m: \tcontext_size: 64\n",
      "\u001b[34m\u001b[1mwandb\u001b[0m: \tdropout_proba: 0.4\n",
      "\u001b[34m\u001b[1mwandb\u001b[0m: \tlr: 0.02\n",
      "\u001b[34m\u001b[1mwandb\u001b[0m: \tnum_components: 128\n",
      "\u001b[34m\u001b[1mwandb\u001b[0m: \trnn_type: LSTM\n",
      "\u001b[34m\u001b[1mwandb\u001b[0m: \tweight_decay: 0.002\n"
     ]
    },
    {
     "data": {
      "text/html": [
       "Tracking run with wandb version 0.15.12"
      ],
      "text/plain": [
       "<IPython.core.display.HTML object>"
      ]
     },
     "metadata": {},
     "output_type": "display_data"
    },
    {
     "data": {
      "text/html": [
       "Run data is saved locally in <code>/home/zekai/repos/recast/notebooks/Zekai/hyperparameter_sweep/wandb/run-20231105_225436-1f6s6pyl</code>"
      ],
      "text/plain": [
       "<IPython.core.display.HTML object>"
      ]
     },
     "metadata": {},
     "output_type": "display_data"
    },
    {
     "data": {
      "text/html": [
       "Syncing run <strong><a href='https://wandb.ai/zekai-wang/RecurrentTPP%20on%20ANSS%20Nov%205/runs/1f6s6pyl' target=\"_blank\">rich-sweep-27</a></strong> to <a href='https://wandb.ai/zekai-wang/RecurrentTPP%20on%20ANSS%20Nov%205' target=\"_blank\">Weights & Biases</a> (<a href='https://wandb.me/run' target=\"_blank\">docs</a>)<br/>Sweep page: <a href='https://wandb.ai/zekai-wang/RecurrentTPP%20on%20ANSS%20Nov%205/sweeps/27ca0onv' target=\"_blank\">https://wandb.ai/zekai-wang/RecurrentTPP%20on%20ANSS%20Nov%205/sweeps/27ca0onv</a>"
      ],
      "text/plain": [
       "<IPython.core.display.HTML object>"
      ]
     },
     "metadata": {},
     "output_type": "display_data"
    },
    {
     "data": {
      "text/html": [
       " View project at <a href='https://wandb.ai/zekai-wang/RecurrentTPP%20on%20ANSS%20Nov%205' target=\"_blank\">https://wandb.ai/zekai-wang/RecurrentTPP%20on%20ANSS%20Nov%205</a>"
      ],
      "text/plain": [
       "<IPython.core.display.HTML object>"
      ]
     },
     "metadata": {},
     "output_type": "display_data"
    },
    {
     "data": {
      "text/html": [
       " View sweep at <a href='https://wandb.ai/zekai-wang/RecurrentTPP%20on%20ANSS%20Nov%205/sweeps/27ca0onv' target=\"_blank\">https://wandb.ai/zekai-wang/RecurrentTPP%20on%20ANSS%20Nov%205/sweeps/27ca0onv</a>"
      ],
      "text/plain": [
       "<IPython.core.display.HTML object>"
      ]
     },
     "metadata": {},
     "output_type": "display_data"
    },
    {
     "data": {
      "text/html": [
       " View run at <a href='https://wandb.ai/zekai-wang/RecurrentTPP%20on%20ANSS%20Nov%205/runs/1f6s6pyl' target=\"_blank\">https://wandb.ai/zekai-wang/RecurrentTPP%20on%20ANSS%20Nov%205/runs/1f6s6pyl</a>"
      ],
      "text/plain": [
       "<IPython.core.display.HTML object>"
      ]
     },
     "metadata": {},
     "output_type": "display_data"
    },
    {
     "data": {
      "application/vnd.jupyter.widget-view+json": {
       "model_id": "58fe5c9562924a76ae872bfcaad70ad8",
       "version_major": 2,
       "version_minor": 0
      },
      "text/plain": [
       "  0%|          | 0/200 [00:00<?, ?it/s]"
      ]
     },
     "metadata": {},
     "output_type": "display_data"
    },
    {
     "name": "stdout",
     "output_type": "stream",
     "text": [
      "Expected parameter scale (Tensor of shape (16, 2935, 128)) of distribution Weibull(scale: torch.Size([16, 2935, 128]), shape: torch.Size([16, 2935, 128])) to satisfy the constraint GreaterThan(lower_bound=0.0), but found invalid values:\n",
      "tensor([[[1.3437, 0.5140, 0.4770,  ..., 0.0596, 0.0463, 1.0146],\n",
      "         [   nan,    nan,    nan,  ...,    nan,    nan,    nan],\n",
      "         [   nan,    nan,    nan,  ...,    nan,    nan,    nan],\n",
      "         ...,\n",
      "         [   nan,    nan,    nan,  ...,    nan,    nan,    nan],\n",
      "         [   nan,    nan,    nan,  ...,    nan,    nan,    nan],\n",
      "         [   nan,    nan,    nan,  ...,    nan,    nan,    nan]],\n",
      "\n",
      "        [[1.3437, 0.5140, 0.4770,  ..., 0.0596, 0.0463, 1.0146],\n",
      "         [   nan,    nan,    nan,  ...,    nan,    nan,    nan],\n",
      "         [   nan,    nan,    nan,  ...,    nan,    nan,    nan],\n",
      "         ...,\n",
      "         [   nan,    nan,    nan,  ...,    nan,    nan,    nan],\n",
      "         [   nan,    nan,    nan,  ...,    nan,    nan,    nan],\n",
      "         [   nan,    nan,    nan,  ...,    nan,    nan,    nan]],\n",
      "\n",
      "        [[1.3437, 0.5140, 0.4770,  ..., 0.0596, 0.0463, 1.0146],\n",
      "         [   nan,    nan,    nan,  ...,    nan,    nan,    nan],\n",
      "         [   nan,    nan,    nan,  ...,    nan,    nan,    nan],\n",
      "         ...,\n",
      "         [   nan,    nan,    nan,  ...,    nan,    nan,    nan],\n",
      "         [   nan,    nan,    nan,  ...,    nan,    nan,    nan],\n",
      "         [   nan,    nan,    nan,  ...,    nan,    nan,    nan]],\n",
      "\n",
      "        ...,\n",
      "\n",
      "        [[1.3437, 0.5140, 0.4770,  ..., 0.0596, 0.0463, 1.0146],\n",
      "         [   nan,    nan,    nan,  ...,    nan,    nan,    nan],\n",
      "         [   nan,    nan,    nan,  ...,    nan,    nan,    nan],\n",
      "         ...,\n",
      "         [   nan,    nan,    nan,  ...,    nan,    nan,    nan],\n",
      "         [   nan,    nan,    nan,  ...,    nan,    nan,    nan],\n",
      "         [   nan,    nan,    nan,  ...,    nan,    nan,    nan]],\n",
      "\n",
      "        [[1.3437, 0.5140, 0.4770,  ..., 0.0596, 0.0463, 1.0146],\n",
      "         [   nan,    nan,    nan,  ...,    nan,    nan,    nan],\n",
      "         [   nan,    nan,    nan,  ...,    nan,    nan,    nan],\n",
      "         ...,\n",
      "         [   nan,    nan,    nan,  ...,    nan,    nan,    nan],\n",
      "         [   nan,    nan,    nan,  ...,    nan,    nan,    nan],\n",
      "         [   nan,    nan,    nan,  ...,    nan,    nan,    nan]],\n",
      "\n",
      "        [[1.3437, 0.5140, 0.4770,  ..., 0.0596, 0.0463, 1.0146],\n",
      "         [   nan,    nan,    nan,  ...,    nan,    nan,    nan],\n",
      "         [   nan,    nan,    nan,  ...,    nan,    nan,    nan],\n",
      "         ...,\n",
      "         [   nan,    nan,    nan,  ...,    nan,    nan,    nan],\n",
      "         [   nan,    nan,    nan,  ...,    nan,    nan,    nan],\n",
      "         [   nan,    nan,    nan,  ...,    nan,    nan,    nan]]],\n",
      "       device='cuda:0', grad_fn=<SoftplusBackward0>)\n"
     ]
    },
    {
     "data": {
      "text/html": [
       "Waiting for W&B process to finish... <strong style=\"color:green\">(success).</strong>"
      ],
      "text/plain": [
       "<IPython.core.display.HTML object>"
      ]
     },
     "metadata": {},
     "output_type": "display_data"
    },
    {
     "data": {
      "text/html": [
       "<style>\n",
       "    table.wandb td:nth-child(1) { padding: 0 10px; text-align: left ; width: auto;} td:nth-child(2) {text-align: left ; width: 100%}\n",
       "    .wandb-row { display: flex; flex-direction: row; flex-wrap: wrap; justify-content: flex-start; width: 100% }\n",
       "    .wandb-col { display: flex; flex-direction: column; flex-basis: 100%; flex: 1; padding: 10px; }\n",
       "    </style>\n",
       "<div class=\"wandb-row\"><div class=\"wandb-col\"><h3>Run summary:</h3><br/><table class=\"wandb\"><tr><td>avg_test_loss</td><td>nan</td></tr></table><br/></div></div>"
      ],
      "text/plain": [
       "<IPython.core.display.HTML object>"
      ]
     },
     "metadata": {},
     "output_type": "display_data"
    },
    {
     "data": {
      "text/html": [
       " View run <strong style=\"color:#cdcd00\">rich-sweep-27</strong> at: <a href='https://wandb.ai/zekai-wang/RecurrentTPP%20on%20ANSS%20Nov%205/runs/1f6s6pyl' target=\"_blank\">https://wandb.ai/zekai-wang/RecurrentTPP%20on%20ANSS%20Nov%205/runs/1f6s6pyl</a><br/>Synced 6 W&B file(s), 0 media file(s), 0 artifact file(s) and 0 other file(s)"
      ],
      "text/plain": [
       "<IPython.core.display.HTML object>"
      ]
     },
     "metadata": {},
     "output_type": "display_data"
    },
    {
     "data": {
      "text/html": [
       "Find logs at: <code>./wandb/run-20231105_225436-1f6s6pyl/logs</code>"
      ],
      "text/plain": [
       "<IPython.core.display.HTML object>"
      ]
     },
     "metadata": {},
     "output_type": "display_data"
    },
    {
     "name": "stderr",
     "output_type": "stream",
     "text": [
      "\u001b[34m\u001b[1mwandb\u001b[0m: Agent Starting Run: 978kaz97 with config:\n",
      "\u001b[34m\u001b[1mwandb\u001b[0m: \tbatch_size: 8\n",
      "\u001b[34m\u001b[1mwandb\u001b[0m: \tbetas: [0.9, 0.999]\n",
      "\u001b[34m\u001b[1mwandb\u001b[0m: \tcontext_size: 8\n",
      "\u001b[34m\u001b[1mwandb\u001b[0m: \tdropout_proba: 0.4\n",
      "\u001b[34m\u001b[1mwandb\u001b[0m: \tlr: 0.01\n",
      "\u001b[34m\u001b[1mwandb\u001b[0m: \tnum_components: 16\n",
      "\u001b[34m\u001b[1mwandb\u001b[0m: \trnn_type: LSTM\n",
      "\u001b[34m\u001b[1mwandb\u001b[0m: \tweight_decay: 0.001\n"
     ]
    },
    {
     "data": {
      "text/html": [
       "Tracking run with wandb version 0.15.12"
      ],
      "text/plain": [
       "<IPython.core.display.HTML object>"
      ]
     },
     "metadata": {},
     "output_type": "display_data"
    },
    {
     "data": {
      "text/html": [
       "Run data is saved locally in <code>/home/zekai/repos/recast/notebooks/Zekai/hyperparameter_sweep/wandb/run-20231105_225542-978kaz97</code>"
      ],
      "text/plain": [
       "<IPython.core.display.HTML object>"
      ]
     },
     "metadata": {},
     "output_type": "display_data"
    },
    {
     "data": {
      "text/html": [
       "Syncing run <strong><a href='https://wandb.ai/zekai-wang/RecurrentTPP%20on%20ANSS%20Nov%205/runs/978kaz97' target=\"_blank\">dashing-sweep-28</a></strong> to <a href='https://wandb.ai/zekai-wang/RecurrentTPP%20on%20ANSS%20Nov%205' target=\"_blank\">Weights & Biases</a> (<a href='https://wandb.me/run' target=\"_blank\">docs</a>)<br/>Sweep page: <a href='https://wandb.ai/zekai-wang/RecurrentTPP%20on%20ANSS%20Nov%205/sweeps/27ca0onv' target=\"_blank\">https://wandb.ai/zekai-wang/RecurrentTPP%20on%20ANSS%20Nov%205/sweeps/27ca0onv</a>"
      ],
      "text/plain": [
       "<IPython.core.display.HTML object>"
      ]
     },
     "metadata": {},
     "output_type": "display_data"
    },
    {
     "data": {
      "text/html": [
       " View project at <a href='https://wandb.ai/zekai-wang/RecurrentTPP%20on%20ANSS%20Nov%205' target=\"_blank\">https://wandb.ai/zekai-wang/RecurrentTPP%20on%20ANSS%20Nov%205</a>"
      ],
      "text/plain": [
       "<IPython.core.display.HTML object>"
      ]
     },
     "metadata": {},
     "output_type": "display_data"
    },
    {
     "data": {
      "text/html": [
       " View sweep at <a href='https://wandb.ai/zekai-wang/RecurrentTPP%20on%20ANSS%20Nov%205/sweeps/27ca0onv' target=\"_blank\">https://wandb.ai/zekai-wang/RecurrentTPP%20on%20ANSS%20Nov%205/sweeps/27ca0onv</a>"
      ],
      "text/plain": [
       "<IPython.core.display.HTML object>"
      ]
     },
     "metadata": {},
     "output_type": "display_data"
    },
    {
     "data": {
      "text/html": [
       " View run at <a href='https://wandb.ai/zekai-wang/RecurrentTPP%20on%20ANSS%20Nov%205/runs/978kaz97' target=\"_blank\">https://wandb.ai/zekai-wang/RecurrentTPP%20on%20ANSS%20Nov%205/runs/978kaz97</a>"
      ],
      "text/plain": [
       "<IPython.core.display.HTML object>"
      ]
     },
     "metadata": {},
     "output_type": "display_data"
    },
    {
     "data": {
      "application/vnd.jupyter.widget-view+json": {
       "model_id": "b098c7bbf1994f8cb320e6f390f9dc58",
       "version_major": 2,
       "version_minor": 0
      },
      "text/plain": [
       "  0%|          | 0/200 [00:00<?, ?it/s]"
      ]
     },
     "metadata": {},
     "output_type": "display_data"
    },
    {
     "data": {
      "text/html": [
       "Waiting for W&B process to finish... <strong style=\"color:green\">(success).</strong>"
      ],
      "text/plain": [
       "<IPython.core.display.HTML object>"
      ]
     },
     "metadata": {},
     "output_type": "display_data"
    },
    {
     "data": {
      "text/html": [
       "<style>\n",
       "    table.wandb td:nth-child(1) { padding: 0 10px; text-align: left ; width: auto;} td:nth-child(2) {text-align: left ; width: 100%}\n",
       "    .wandb-row { display: flex; flex-direction: row; flex-wrap: wrap; justify-content: flex-start; width: 100% }\n",
       "    .wandb-col { display: flex; flex-direction: column; flex-basis: 100%; flex: 1; padding: 10px; }\n",
       "    </style>\n",
       "<div class=\"wandb-row\"><div class=\"wandb-col\"><h3>Run history:</h3><br/><table class=\"wandb\"><tr><td>avg_test_loss</td><td>▁</td></tr></table><br/></div><div class=\"wandb-col\"><h3>Run summary:</h3><br/><table class=\"wandb\"><tr><td>avg_test_loss</td><td>0.1928</td></tr></table><br/></div></div>"
      ],
      "text/plain": [
       "<IPython.core.display.HTML object>"
      ]
     },
     "metadata": {},
     "output_type": "display_data"
    },
    {
     "data": {
      "text/html": [
       " View run <strong style=\"color:#cdcd00\">dashing-sweep-28</strong> at: <a href='https://wandb.ai/zekai-wang/RecurrentTPP%20on%20ANSS%20Nov%205/runs/978kaz97' target=\"_blank\">https://wandb.ai/zekai-wang/RecurrentTPP%20on%20ANSS%20Nov%205/runs/978kaz97</a><br/>Synced 5 W&B file(s), 0 media file(s), 0 artifact file(s) and 0 other file(s)"
      ],
      "text/plain": [
       "<IPython.core.display.HTML object>"
      ]
     },
     "metadata": {},
     "output_type": "display_data"
    },
    {
     "data": {
      "text/html": [
       "Find logs at: <code>./wandb/run-20231105_225542-978kaz97/logs</code>"
      ],
      "text/plain": [
       "<IPython.core.display.HTML object>"
      ]
     },
     "metadata": {},
     "output_type": "display_data"
    },
    {
     "name": "stderr",
     "output_type": "stream",
     "text": [
      "\u001b[34m\u001b[1mwandb\u001b[0m: Agent Starting Run: ax13ohnn with config:\n",
      "\u001b[34m\u001b[1mwandb\u001b[0m: \tbatch_size: 16\n",
      "\u001b[34m\u001b[1mwandb\u001b[0m: \tbetas: [0.9, 0.999]\n",
      "\u001b[34m\u001b[1mwandb\u001b[0m: \tcontext_size: 64\n",
      "\u001b[34m\u001b[1mwandb\u001b[0m: \tdropout_proba: 0.5\n",
      "\u001b[34m\u001b[1mwandb\u001b[0m: \tlr: 0.02\n",
      "\u001b[34m\u001b[1mwandb\u001b[0m: \tnum_components: 32\n",
      "\u001b[34m\u001b[1mwandb\u001b[0m: \trnn_type: GRU\n",
      "\u001b[34m\u001b[1mwandb\u001b[0m: \tweight_decay: 0.001\n"
     ]
    },
    {
     "data": {
      "text/html": [
       "Tracking run with wandb version 0.15.12"
      ],
      "text/plain": [
       "<IPython.core.display.HTML object>"
      ]
     },
     "metadata": {},
     "output_type": "display_data"
    },
    {
     "data": {
      "text/html": [
       "Run data is saved locally in <code>/home/zekai/repos/recast/notebooks/Zekai/hyperparameter_sweep/wandb/run-20231105_225725-ax13ohnn</code>"
      ],
      "text/plain": [
       "<IPython.core.display.HTML object>"
      ]
     },
     "metadata": {},
     "output_type": "display_data"
    },
    {
     "data": {
      "text/html": [
       "Syncing run <strong><a href='https://wandb.ai/zekai-wang/RecurrentTPP%20on%20ANSS%20Nov%205/runs/ax13ohnn' target=\"_blank\">stellar-sweep-29</a></strong> to <a href='https://wandb.ai/zekai-wang/RecurrentTPP%20on%20ANSS%20Nov%205' target=\"_blank\">Weights & Biases</a> (<a href='https://wandb.me/run' target=\"_blank\">docs</a>)<br/>Sweep page: <a href='https://wandb.ai/zekai-wang/RecurrentTPP%20on%20ANSS%20Nov%205/sweeps/27ca0onv' target=\"_blank\">https://wandb.ai/zekai-wang/RecurrentTPP%20on%20ANSS%20Nov%205/sweeps/27ca0onv</a>"
      ],
      "text/plain": [
       "<IPython.core.display.HTML object>"
      ]
     },
     "metadata": {},
     "output_type": "display_data"
    },
    {
     "data": {
      "text/html": [
       " View project at <a href='https://wandb.ai/zekai-wang/RecurrentTPP%20on%20ANSS%20Nov%205' target=\"_blank\">https://wandb.ai/zekai-wang/RecurrentTPP%20on%20ANSS%20Nov%205</a>"
      ],
      "text/plain": [
       "<IPython.core.display.HTML object>"
      ]
     },
     "metadata": {},
     "output_type": "display_data"
    },
    {
     "data": {
      "text/html": [
       " View sweep at <a href='https://wandb.ai/zekai-wang/RecurrentTPP%20on%20ANSS%20Nov%205/sweeps/27ca0onv' target=\"_blank\">https://wandb.ai/zekai-wang/RecurrentTPP%20on%20ANSS%20Nov%205/sweeps/27ca0onv</a>"
      ],
      "text/plain": [
       "<IPython.core.display.HTML object>"
      ]
     },
     "metadata": {},
     "output_type": "display_data"
    },
    {
     "data": {
      "text/html": [
       " View run at <a href='https://wandb.ai/zekai-wang/RecurrentTPP%20on%20ANSS%20Nov%205/runs/ax13ohnn' target=\"_blank\">https://wandb.ai/zekai-wang/RecurrentTPP%20on%20ANSS%20Nov%205/runs/ax13ohnn</a>"
      ],
      "text/plain": [
       "<IPython.core.display.HTML object>"
      ]
     },
     "metadata": {},
     "output_type": "display_data"
    },
    {
     "data": {
      "application/vnd.jupyter.widget-view+json": {
       "model_id": "fc25b744e24c4ce8980b0f0c083a0feb",
       "version_major": 2,
       "version_minor": 0
      },
      "text/plain": [
       "  0%|          | 0/200 [00:00<?, ?it/s]"
      ]
     },
     "metadata": {},
     "output_type": "display_data"
    },
    {
     "name": "stdout",
     "output_type": "stream",
     "text": [
      "Expected parameter scale (Tensor of shape (16, 1076, 32)) of distribution Weibull(scale: torch.Size([16, 1076, 32]), shape: torch.Size([16, 1076, 32])) to satisfy the constraint GreaterThan(lower_bound=0.0), but found invalid values:\n",
      "tensor([[[5.7141, 1.5932, 2.4905,  ..., 0.6599, 0.7428, 1.3132],\n",
      "         [   nan,    nan,    nan,  ...,    nan,    nan,    nan],\n",
      "         [   nan,    nan,    nan,  ...,    nan,    nan,    nan],\n",
      "         ...,\n",
      "         [   nan,    nan,    nan,  ...,    nan,    nan,    nan],\n",
      "         [   nan,    nan,    nan,  ...,    nan,    nan,    nan],\n",
      "         [   nan,    nan,    nan,  ...,    nan,    nan,    nan]],\n",
      "\n",
      "        [[5.7141, 1.5932, 2.4905,  ..., 0.6599, 0.7428, 1.3132],\n",
      "         [   nan,    nan,    nan,  ...,    nan,    nan,    nan],\n",
      "         [   nan,    nan,    nan,  ...,    nan,    nan,    nan],\n",
      "         ...,\n",
      "         [   nan,    nan,    nan,  ...,    nan,    nan,    nan],\n",
      "         [   nan,    nan,    nan,  ...,    nan,    nan,    nan],\n",
      "         [   nan,    nan,    nan,  ...,    nan,    nan,    nan]],\n",
      "\n",
      "        [[5.7141, 1.5932, 2.4905,  ..., 0.6599, 0.7428, 1.3132],\n",
      "         [   nan,    nan,    nan,  ...,    nan,    nan,    nan],\n",
      "         [   nan,    nan,    nan,  ...,    nan,    nan,    nan],\n",
      "         ...,\n",
      "         [   nan,    nan,    nan,  ...,    nan,    nan,    nan],\n",
      "         [   nan,    nan,    nan,  ...,    nan,    nan,    nan],\n",
      "         [   nan,    nan,    nan,  ...,    nan,    nan,    nan]],\n",
      "\n",
      "        ...,\n",
      "\n",
      "        [[5.7141, 1.5932, 2.4905,  ..., 0.6599, 0.7428, 1.3132],\n",
      "         [   nan,    nan,    nan,  ...,    nan,    nan,    nan],\n",
      "         [   nan,    nan,    nan,  ...,    nan,    nan,    nan],\n",
      "         ...,\n",
      "         [   nan,    nan,    nan,  ...,    nan,    nan,    nan],\n",
      "         [   nan,    nan,    nan,  ...,    nan,    nan,    nan],\n",
      "         [   nan,    nan,    nan,  ...,    nan,    nan,    nan]],\n",
      "\n",
      "        [[5.7141, 1.5932, 2.4905,  ..., 0.6599, 0.7428, 1.3132],\n",
      "         [   nan,    nan,    nan,  ...,    nan,    nan,    nan],\n",
      "         [   nan,    nan,    nan,  ...,    nan,    nan,    nan],\n",
      "         ...,\n",
      "         [   nan,    nan,    nan,  ...,    nan,    nan,    nan],\n",
      "         [   nan,    nan,    nan,  ...,    nan,    nan,    nan],\n",
      "         [   nan,    nan,    nan,  ...,    nan,    nan,    nan]],\n",
      "\n",
      "        [[5.7141, 1.5932, 2.4905,  ..., 0.6599, 0.7428, 1.3132],\n",
      "         [   nan,    nan,    nan,  ...,    nan,    nan,    nan],\n",
      "         [   nan,    nan,    nan,  ...,    nan,    nan,    nan],\n",
      "         ...,\n",
      "         [   nan,    nan,    nan,  ...,    nan,    nan,    nan],\n",
      "         [   nan,    nan,    nan,  ...,    nan,    nan,    nan],\n",
      "         [   nan,    nan,    nan,  ...,    nan,    nan,    nan]]],\n",
      "       device='cuda:0', grad_fn=<SoftplusBackward0>)\n"
     ]
    },
    {
     "data": {
      "text/html": [
       "Waiting for W&B process to finish... <strong style=\"color:green\">(success).</strong>"
      ],
      "text/plain": [
       "<IPython.core.display.HTML object>"
      ]
     },
     "metadata": {},
     "output_type": "display_data"
    },
    {
     "data": {
      "text/html": [
       "<style>\n",
       "    table.wandb td:nth-child(1) { padding: 0 10px; text-align: left ; width: auto;} td:nth-child(2) {text-align: left ; width: 100%}\n",
       "    .wandb-row { display: flex; flex-direction: row; flex-wrap: wrap; justify-content: flex-start; width: 100% }\n",
       "    .wandb-col { display: flex; flex-direction: column; flex-basis: 100%; flex: 1; padding: 10px; }\n",
       "    </style>\n",
       "<div class=\"wandb-row\"><div class=\"wandb-col\"><h3>Run summary:</h3><br/><table class=\"wandb\"><tr><td>avg_test_loss</td><td>nan</td></tr></table><br/></div></div>"
      ],
      "text/plain": [
       "<IPython.core.display.HTML object>"
      ]
     },
     "metadata": {},
     "output_type": "display_data"
    },
    {
     "data": {
      "text/html": [
       " View run <strong style=\"color:#cdcd00\">stellar-sweep-29</strong> at: <a href='https://wandb.ai/zekai-wang/RecurrentTPP%20on%20ANSS%20Nov%205/runs/ax13ohnn' target=\"_blank\">https://wandb.ai/zekai-wang/RecurrentTPP%20on%20ANSS%20Nov%205/runs/ax13ohnn</a><br/>Synced 6 W&B file(s), 0 media file(s), 0 artifact file(s) and 0 other file(s)"
      ],
      "text/plain": [
       "<IPython.core.display.HTML object>"
      ]
     },
     "metadata": {},
     "output_type": "display_data"
    },
    {
     "data": {
      "text/html": [
       "Find logs at: <code>./wandb/run-20231105_225725-ax13ohnn/logs</code>"
      ],
      "text/plain": [
       "<IPython.core.display.HTML object>"
      ]
     },
     "metadata": {},
     "output_type": "display_data"
    },
    {
     "name": "stderr",
     "output_type": "stream",
     "text": [
      "\u001b[34m\u001b[1mwandb\u001b[0m: Agent Starting Run: da1t41ed with config:\n",
      "\u001b[34m\u001b[1mwandb\u001b[0m: \tbatch_size: 32\n",
      "\u001b[34m\u001b[1mwandb\u001b[0m: \tbetas: [0.9, 0.999]\n",
      "\u001b[34m\u001b[1mwandb\u001b[0m: \tcontext_size: 64\n",
      "\u001b[34m\u001b[1mwandb\u001b[0m: \tdropout_proba: 0.1\n",
      "\u001b[34m\u001b[1mwandb\u001b[0m: \tlr: 0.005\n",
      "\u001b[34m\u001b[1mwandb\u001b[0m: \tnum_components: 128\n",
      "\u001b[34m\u001b[1mwandb\u001b[0m: \trnn_type: LSTM\n",
      "\u001b[34m\u001b[1mwandb\u001b[0m: \tweight_decay: 0.01\n"
     ]
    },
    {
     "data": {
      "text/html": [
       "Tracking run with wandb version 0.15.12"
      ],
      "text/plain": [
       "<IPython.core.display.HTML object>"
      ]
     },
     "metadata": {},
     "output_type": "display_data"
    },
    {
     "data": {
      "text/html": [
       "Run data is saved locally in <code>/home/zekai/repos/recast/notebooks/Zekai/hyperparameter_sweep/wandb/run-20231105_225815-da1t41ed</code>"
      ],
      "text/plain": [
       "<IPython.core.display.HTML object>"
      ]
     },
     "metadata": {},
     "output_type": "display_data"
    },
    {
     "data": {
      "text/html": [
       "Syncing run <strong><a href='https://wandb.ai/zekai-wang/RecurrentTPP%20on%20ANSS%20Nov%205/runs/da1t41ed' target=\"_blank\">fine-sweep-30</a></strong> to <a href='https://wandb.ai/zekai-wang/RecurrentTPP%20on%20ANSS%20Nov%205' target=\"_blank\">Weights & Biases</a> (<a href='https://wandb.me/run' target=\"_blank\">docs</a>)<br/>Sweep page: <a href='https://wandb.ai/zekai-wang/RecurrentTPP%20on%20ANSS%20Nov%205/sweeps/27ca0onv' target=\"_blank\">https://wandb.ai/zekai-wang/RecurrentTPP%20on%20ANSS%20Nov%205/sweeps/27ca0onv</a>"
      ],
      "text/plain": [
       "<IPython.core.display.HTML object>"
      ]
     },
     "metadata": {},
     "output_type": "display_data"
    },
    {
     "data": {
      "text/html": [
       " View project at <a href='https://wandb.ai/zekai-wang/RecurrentTPP%20on%20ANSS%20Nov%205' target=\"_blank\">https://wandb.ai/zekai-wang/RecurrentTPP%20on%20ANSS%20Nov%205</a>"
      ],
      "text/plain": [
       "<IPython.core.display.HTML object>"
      ]
     },
     "metadata": {},
     "output_type": "display_data"
    },
    {
     "data": {
      "text/html": [
       " View sweep at <a href='https://wandb.ai/zekai-wang/RecurrentTPP%20on%20ANSS%20Nov%205/sweeps/27ca0onv' target=\"_blank\">https://wandb.ai/zekai-wang/RecurrentTPP%20on%20ANSS%20Nov%205/sweeps/27ca0onv</a>"
      ],
      "text/plain": [
       "<IPython.core.display.HTML object>"
      ]
     },
     "metadata": {},
     "output_type": "display_data"
    },
    {
     "data": {
      "text/html": [
       " View run at <a href='https://wandb.ai/zekai-wang/RecurrentTPP%20on%20ANSS%20Nov%205/runs/da1t41ed' target=\"_blank\">https://wandb.ai/zekai-wang/RecurrentTPP%20on%20ANSS%20Nov%205/runs/da1t41ed</a>"
      ],
      "text/plain": [
       "<IPython.core.display.HTML object>"
      ]
     },
     "metadata": {},
     "output_type": "display_data"
    },
    {
     "data": {
      "application/vnd.jupyter.widget-view+json": {
       "model_id": "afbdc2a23ee643808e0bc42189e98e65",
       "version_major": 2,
       "version_minor": 0
      },
      "text/plain": [
       "  0%|          | 0/200 [00:00<?, ?it/s]"
      ]
     },
     "metadata": {},
     "output_type": "display_data"
    },
    {
     "data": {
      "text/html": [
       "Waiting for W&B process to finish... <strong style=\"color:green\">(success).</strong>"
      ],
      "text/plain": [
       "<IPython.core.display.HTML object>"
      ]
     },
     "metadata": {},
     "output_type": "display_data"
    },
    {
     "data": {
      "application/vnd.jupyter.widget-view+json": {
       "model_id": "28c47514ac9d4eae86c29aaeec850586",
       "version_major": 2,
       "version_minor": 0
      },
      "text/plain": [
       "VBox(children=(Label(value='0.003 MB of 0.018 MB uploaded (0.000 MB deduped)\\r'), FloatProgress(value=0.192629…"
      ]
     },
     "metadata": {},
     "output_type": "display_data"
    },
    {
     "data": {
      "text/html": [
       "<style>\n",
       "    table.wandb td:nth-child(1) { padding: 0 10px; text-align: left ; width: auto;} td:nth-child(2) {text-align: left ; width: 100%}\n",
       "    .wandb-row { display: flex; flex-direction: row; flex-wrap: wrap; justify-content: flex-start; width: 100% }\n",
       "    .wandb-col { display: flex; flex-direction: column; flex-basis: 100%; flex: 1; padding: 10px; }\n",
       "    </style>\n",
       "<div class=\"wandb-row\"><div class=\"wandb-col\"><h3>Run history:</h3><br/><table class=\"wandb\"><tr><td>avg_test_loss</td><td>▁</td></tr></table><br/></div><div class=\"wandb-col\"><h3>Run summary:</h3><br/><table class=\"wandb\"><tr><td>avg_test_loss</td><td>0.17188</td></tr></table><br/></div></div>"
      ],
      "text/plain": [
       "<IPython.core.display.HTML object>"
      ]
     },
     "metadata": {},
     "output_type": "display_data"
    },
    {
     "data": {
      "text/html": [
       " View run <strong style=\"color:#cdcd00\">fine-sweep-30</strong> at: <a href='https://wandb.ai/zekai-wang/RecurrentTPP%20on%20ANSS%20Nov%205/runs/da1t41ed' target=\"_blank\">https://wandb.ai/zekai-wang/RecurrentTPP%20on%20ANSS%20Nov%205/runs/da1t41ed</a><br/>Synced 5 W&B file(s), 0 media file(s), 0 artifact file(s) and 0 other file(s)"
      ],
      "text/plain": [
       "<IPython.core.display.HTML object>"
      ]
     },
     "metadata": {},
     "output_type": "display_data"
    },
    {
     "data": {
      "text/html": [
       "Find logs at: <code>./wandb/run-20231105_225815-da1t41ed/logs</code>"
      ],
      "text/plain": [
       "<IPython.core.display.HTML object>"
      ]
     },
     "metadata": {},
     "output_type": "display_data"
    },
    {
     "name": "stderr",
     "output_type": "stream",
     "text": [
      "\u001b[34m\u001b[1mwandb\u001b[0m: Agent Starting Run: xd43yx3g with config:\n",
      "\u001b[34m\u001b[1mwandb\u001b[0m: \tbatch_size: 8\n",
      "\u001b[34m\u001b[1mwandb\u001b[0m: \tbetas: [0.9, 0.999]\n",
      "\u001b[34m\u001b[1mwandb\u001b[0m: \tcontext_size: 32\n",
      "\u001b[34m\u001b[1mwandb\u001b[0m: \tdropout_proba: 0\n",
      "\u001b[34m\u001b[1mwandb\u001b[0m: \tlr: 0.001\n",
      "\u001b[34m\u001b[1mwandb\u001b[0m: \tnum_components: 8\n",
      "\u001b[34m\u001b[1mwandb\u001b[0m: \trnn_type: RNN\n",
      "\u001b[34m\u001b[1mwandb\u001b[0m: \tweight_decay: 0.002\n"
     ]
    },
    {
     "data": {
      "text/html": [
       "Tracking run with wandb version 0.15.12"
      ],
      "text/plain": [
       "<IPython.core.display.HTML object>"
      ]
     },
     "metadata": {},
     "output_type": "display_data"
    },
    {
     "data": {
      "text/html": [
       "Run data is saved locally in <code>/home/zekai/repos/recast/notebooks/Zekai/hyperparameter_sweep/wandb/run-20231105_225951-xd43yx3g</code>"
      ],
      "text/plain": [
       "<IPython.core.display.HTML object>"
      ]
     },
     "metadata": {},
     "output_type": "display_data"
    },
    {
     "data": {
      "text/html": [
       "Syncing run <strong><a href='https://wandb.ai/zekai-wang/RecurrentTPP%20on%20ANSS%20Nov%205/runs/xd43yx3g' target=\"_blank\">expert-sweep-31</a></strong> to <a href='https://wandb.ai/zekai-wang/RecurrentTPP%20on%20ANSS%20Nov%205' target=\"_blank\">Weights & Biases</a> (<a href='https://wandb.me/run' target=\"_blank\">docs</a>)<br/>Sweep page: <a href='https://wandb.ai/zekai-wang/RecurrentTPP%20on%20ANSS%20Nov%205/sweeps/27ca0onv' target=\"_blank\">https://wandb.ai/zekai-wang/RecurrentTPP%20on%20ANSS%20Nov%205/sweeps/27ca0onv</a>"
      ],
      "text/plain": [
       "<IPython.core.display.HTML object>"
      ]
     },
     "metadata": {},
     "output_type": "display_data"
    },
    {
     "data": {
      "text/html": [
       " View project at <a href='https://wandb.ai/zekai-wang/RecurrentTPP%20on%20ANSS%20Nov%205' target=\"_blank\">https://wandb.ai/zekai-wang/RecurrentTPP%20on%20ANSS%20Nov%205</a>"
      ],
      "text/plain": [
       "<IPython.core.display.HTML object>"
      ]
     },
     "metadata": {},
     "output_type": "display_data"
    },
    {
     "data": {
      "text/html": [
       " View sweep at <a href='https://wandb.ai/zekai-wang/RecurrentTPP%20on%20ANSS%20Nov%205/sweeps/27ca0onv' target=\"_blank\">https://wandb.ai/zekai-wang/RecurrentTPP%20on%20ANSS%20Nov%205/sweeps/27ca0onv</a>"
      ],
      "text/plain": [
       "<IPython.core.display.HTML object>"
      ]
     },
     "metadata": {},
     "output_type": "display_data"
    },
    {
     "data": {
      "text/html": [
       " View run at <a href='https://wandb.ai/zekai-wang/RecurrentTPP%20on%20ANSS%20Nov%205/runs/xd43yx3g' target=\"_blank\">https://wandb.ai/zekai-wang/RecurrentTPP%20on%20ANSS%20Nov%205/runs/xd43yx3g</a>"
      ],
      "text/plain": [
       "<IPython.core.display.HTML object>"
      ]
     },
     "metadata": {},
     "output_type": "display_data"
    },
    {
     "data": {
      "application/vnd.jupyter.widget-view+json": {
       "model_id": "73d4b4f904524f97821cbb95a70ceeac",
       "version_major": 2,
       "version_minor": 0
      },
      "text/plain": [
       "  0%|          | 0/200 [00:00<?, ?it/s]"
      ]
     },
     "metadata": {},
     "output_type": "display_data"
    },
    {
     "data": {
      "text/html": [
       "Waiting for W&B process to finish... <strong style=\"color:green\">(success).</strong>"
      ],
      "text/plain": [
       "<IPython.core.display.HTML object>"
      ]
     },
     "metadata": {},
     "output_type": "display_data"
    },
    {
     "data": {
      "application/vnd.jupyter.widget-view+json": {
       "model_id": "749d1c1bfbea4449930fa1b349b4bc91",
       "version_major": 2,
       "version_minor": 0
      },
      "text/plain": [
       "VBox(children=(Label(value='0.019 MB of 0.019 MB uploaded (0.000 MB deduped)\\r'), FloatProgress(value=1.0, max…"
      ]
     },
     "metadata": {},
     "output_type": "display_data"
    },
    {
     "data": {
      "text/html": [
       "<style>\n",
       "    table.wandb td:nth-child(1) { padding: 0 10px; text-align: left ; width: auto;} td:nth-child(2) {text-align: left ; width: 100%}\n",
       "    .wandb-row { display: flex; flex-direction: row; flex-wrap: wrap; justify-content: flex-start; width: 100% }\n",
       "    .wandb-col { display: flex; flex-direction: column; flex-basis: 100%; flex: 1; padding: 10px; }\n",
       "    </style>\n",
       "<div class=\"wandb-row\"><div class=\"wandb-col\"><h3>Run history:</h3><br/><table class=\"wandb\"><tr><td>avg_test_loss</td><td>▁</td></tr></table><br/></div><div class=\"wandb-col\"><h3>Run summary:</h3><br/><table class=\"wandb\"><tr><td>avg_test_loss</td><td>0.16582</td></tr></table><br/></div></div>"
      ],
      "text/plain": [
       "<IPython.core.display.HTML object>"
      ]
     },
     "metadata": {},
     "output_type": "display_data"
    },
    {
     "data": {
      "text/html": [
       " View run <strong style=\"color:#cdcd00\">expert-sweep-31</strong> at: <a href='https://wandb.ai/zekai-wang/RecurrentTPP%20on%20ANSS%20Nov%205/runs/xd43yx3g' target=\"_blank\">https://wandb.ai/zekai-wang/RecurrentTPP%20on%20ANSS%20Nov%205/runs/xd43yx3g</a><br/>Synced 5 W&B file(s), 0 media file(s), 0 artifact file(s) and 0 other file(s)"
      ],
      "text/plain": [
       "<IPython.core.display.HTML object>"
      ]
     },
     "metadata": {},
     "output_type": "display_data"
    },
    {
     "data": {
      "text/html": [
       "Find logs at: <code>./wandb/run-20231105_225951-xd43yx3g/logs</code>"
      ],
      "text/plain": [
       "<IPython.core.display.HTML object>"
      ]
     },
     "metadata": {},
     "output_type": "display_data"
    },
    {
     "name": "stderr",
     "output_type": "stream",
     "text": [
      "\u001b[34m\u001b[1mwandb\u001b[0m: Agent Starting Run: hsyf2nip with config:\n",
      "\u001b[34m\u001b[1mwandb\u001b[0m: \tbatch_size: 16\n",
      "\u001b[34m\u001b[1mwandb\u001b[0m: \tbetas: [0.9, 0.999]\n",
      "\u001b[34m\u001b[1mwandb\u001b[0m: \tcontext_size: 16\n",
      "\u001b[34m\u001b[1mwandb\u001b[0m: \tdropout_proba: 0.5\n",
      "\u001b[34m\u001b[1mwandb\u001b[0m: \tlr: 0.002\n",
      "\u001b[34m\u001b[1mwandb\u001b[0m: \tnum_components: 32\n",
      "\u001b[34m\u001b[1mwandb\u001b[0m: \trnn_type: LSTM\n",
      "\u001b[34m\u001b[1mwandb\u001b[0m: \tweight_decay: 0\n"
     ]
    },
    {
     "data": {
      "text/html": [
       "Tracking run with wandb version 0.15.12"
      ],
      "text/plain": [
       "<IPython.core.display.HTML object>"
      ]
     },
     "metadata": {},
     "output_type": "display_data"
    },
    {
     "data": {
      "text/html": [
       "Run data is saved locally in <code>/home/zekai/repos/recast/notebooks/Zekai/hyperparameter_sweep/wandb/run-20231105_230133-hsyf2nip</code>"
      ],
      "text/plain": [
       "<IPython.core.display.HTML object>"
      ]
     },
     "metadata": {},
     "output_type": "display_data"
    },
    {
     "data": {
      "text/html": [
       "Syncing run <strong><a href='https://wandb.ai/zekai-wang/RecurrentTPP%20on%20ANSS%20Nov%205/runs/hsyf2nip' target=\"_blank\">avid-sweep-32</a></strong> to <a href='https://wandb.ai/zekai-wang/RecurrentTPP%20on%20ANSS%20Nov%205' target=\"_blank\">Weights & Biases</a> (<a href='https://wandb.me/run' target=\"_blank\">docs</a>)<br/>Sweep page: <a href='https://wandb.ai/zekai-wang/RecurrentTPP%20on%20ANSS%20Nov%205/sweeps/27ca0onv' target=\"_blank\">https://wandb.ai/zekai-wang/RecurrentTPP%20on%20ANSS%20Nov%205/sweeps/27ca0onv</a>"
      ],
      "text/plain": [
       "<IPython.core.display.HTML object>"
      ]
     },
     "metadata": {},
     "output_type": "display_data"
    },
    {
     "data": {
      "text/html": [
       " View project at <a href='https://wandb.ai/zekai-wang/RecurrentTPP%20on%20ANSS%20Nov%205' target=\"_blank\">https://wandb.ai/zekai-wang/RecurrentTPP%20on%20ANSS%20Nov%205</a>"
      ],
      "text/plain": [
       "<IPython.core.display.HTML object>"
      ]
     },
     "metadata": {},
     "output_type": "display_data"
    },
    {
     "data": {
      "text/html": [
       " View sweep at <a href='https://wandb.ai/zekai-wang/RecurrentTPP%20on%20ANSS%20Nov%205/sweeps/27ca0onv' target=\"_blank\">https://wandb.ai/zekai-wang/RecurrentTPP%20on%20ANSS%20Nov%205/sweeps/27ca0onv</a>"
      ],
      "text/plain": [
       "<IPython.core.display.HTML object>"
      ]
     },
     "metadata": {},
     "output_type": "display_data"
    },
    {
     "data": {
      "text/html": [
       " View run at <a href='https://wandb.ai/zekai-wang/RecurrentTPP%20on%20ANSS%20Nov%205/runs/hsyf2nip' target=\"_blank\">https://wandb.ai/zekai-wang/RecurrentTPP%20on%20ANSS%20Nov%205/runs/hsyf2nip</a>"
      ],
      "text/plain": [
       "<IPython.core.display.HTML object>"
      ]
     },
     "metadata": {},
     "output_type": "display_data"
    },
    {
     "data": {
      "application/vnd.jupyter.widget-view+json": {
       "model_id": "fed76380b41d498e94fa492a2153a2be",
       "version_major": 2,
       "version_minor": 0
      },
      "text/plain": [
       "  0%|          | 0/200 [00:00<?, ?it/s]"
      ]
     },
     "metadata": {},
     "output_type": "display_data"
    },
    {
     "data": {
      "text/html": [
       "Waiting for W&B process to finish... <strong style=\"color:green\">(success).</strong>"
      ],
      "text/plain": [
       "<IPython.core.display.HTML object>"
      ]
     },
     "metadata": {},
     "output_type": "display_data"
    },
    {
     "data": {
      "text/html": [
       "<style>\n",
       "    table.wandb td:nth-child(1) { padding: 0 10px; text-align: left ; width: auto;} td:nth-child(2) {text-align: left ; width: 100%}\n",
       "    .wandb-row { display: flex; flex-direction: row; flex-wrap: wrap; justify-content: flex-start; width: 100% }\n",
       "    .wandb-col { display: flex; flex-direction: column; flex-basis: 100%; flex: 1; padding: 10px; }\n",
       "    </style>\n",
       "<div class=\"wandb-row\"><div class=\"wandb-col\"><h3>Run history:</h3><br/><table class=\"wandb\"><tr><td>avg_test_loss</td><td>▁</td></tr></table><br/></div><div class=\"wandb-col\"><h3>Run summary:</h3><br/><table class=\"wandb\"><tr><td>avg_test_loss</td><td>0.18377</td></tr></table><br/></div></div>"
      ],
      "text/plain": [
       "<IPython.core.display.HTML object>"
      ]
     },
     "metadata": {},
     "output_type": "display_data"
    },
    {
     "data": {
      "text/html": [
       " View run <strong style=\"color:#cdcd00\">avid-sweep-32</strong> at: <a href='https://wandb.ai/zekai-wang/RecurrentTPP%20on%20ANSS%20Nov%205/runs/hsyf2nip' target=\"_blank\">https://wandb.ai/zekai-wang/RecurrentTPP%20on%20ANSS%20Nov%205/runs/hsyf2nip</a><br/>Synced 5 W&B file(s), 0 media file(s), 0 artifact file(s) and 0 other file(s)"
      ],
      "text/plain": [
       "<IPython.core.display.HTML object>"
      ]
     },
     "metadata": {},
     "output_type": "display_data"
    },
    {
     "data": {
      "text/html": [
       "Find logs at: <code>./wandb/run-20231105_230133-hsyf2nip/logs</code>"
      ],
      "text/plain": [
       "<IPython.core.display.HTML object>"
      ]
     },
     "metadata": {},
     "output_type": "display_data"
    },
    {
     "name": "stderr",
     "output_type": "stream",
     "text": [
      "\u001b[34m\u001b[1mwandb\u001b[0m: Agent Starting Run: y47dxakf with config:\n",
      "\u001b[34m\u001b[1mwandb\u001b[0m: \tbatch_size: 16\n",
      "\u001b[34m\u001b[1mwandb\u001b[0m: \tbetas: [0.9, 0.999]\n",
      "\u001b[34m\u001b[1mwandb\u001b[0m: \tcontext_size: 16\n",
      "\u001b[34m\u001b[1mwandb\u001b[0m: \tdropout_proba: 0.4\n",
      "\u001b[34m\u001b[1mwandb\u001b[0m: \tlr: 0.02\n",
      "\u001b[34m\u001b[1mwandb\u001b[0m: \tnum_components: 32\n",
      "\u001b[34m\u001b[1mwandb\u001b[0m: \trnn_type: RNN\n",
      "\u001b[34m\u001b[1mwandb\u001b[0m: \tweight_decay: 0.02\n"
     ]
    },
    {
     "data": {
      "text/html": [
       "Tracking run with wandb version 0.15.12"
      ],
      "text/plain": [
       "<IPython.core.display.HTML object>"
      ]
     },
     "metadata": {},
     "output_type": "display_data"
    },
    {
     "data": {
      "text/html": [
       "Run data is saved locally in <code>/home/zekai/repos/recast/notebooks/Zekai/hyperparameter_sweep/wandb/run-20231105_230305-y47dxakf</code>"
      ],
      "text/plain": [
       "<IPython.core.display.HTML object>"
      ]
     },
     "metadata": {},
     "output_type": "display_data"
    },
    {
     "data": {
      "text/html": [
       "Syncing run <strong><a href='https://wandb.ai/zekai-wang/RecurrentTPP%20on%20ANSS%20Nov%205/runs/y47dxakf' target=\"_blank\">hearty-sweep-33</a></strong> to <a href='https://wandb.ai/zekai-wang/RecurrentTPP%20on%20ANSS%20Nov%205' target=\"_blank\">Weights & Biases</a> (<a href='https://wandb.me/run' target=\"_blank\">docs</a>)<br/>Sweep page: <a href='https://wandb.ai/zekai-wang/RecurrentTPP%20on%20ANSS%20Nov%205/sweeps/27ca0onv' target=\"_blank\">https://wandb.ai/zekai-wang/RecurrentTPP%20on%20ANSS%20Nov%205/sweeps/27ca0onv</a>"
      ],
      "text/plain": [
       "<IPython.core.display.HTML object>"
      ]
     },
     "metadata": {},
     "output_type": "display_data"
    },
    {
     "data": {
      "text/html": [
       " View project at <a href='https://wandb.ai/zekai-wang/RecurrentTPP%20on%20ANSS%20Nov%205' target=\"_blank\">https://wandb.ai/zekai-wang/RecurrentTPP%20on%20ANSS%20Nov%205</a>"
      ],
      "text/plain": [
       "<IPython.core.display.HTML object>"
      ]
     },
     "metadata": {},
     "output_type": "display_data"
    },
    {
     "data": {
      "text/html": [
       " View sweep at <a href='https://wandb.ai/zekai-wang/RecurrentTPP%20on%20ANSS%20Nov%205/sweeps/27ca0onv' target=\"_blank\">https://wandb.ai/zekai-wang/RecurrentTPP%20on%20ANSS%20Nov%205/sweeps/27ca0onv</a>"
      ],
      "text/plain": [
       "<IPython.core.display.HTML object>"
      ]
     },
     "metadata": {},
     "output_type": "display_data"
    },
    {
     "data": {
      "text/html": [
       " View run at <a href='https://wandb.ai/zekai-wang/RecurrentTPP%20on%20ANSS%20Nov%205/runs/y47dxakf' target=\"_blank\">https://wandb.ai/zekai-wang/RecurrentTPP%20on%20ANSS%20Nov%205/runs/y47dxakf</a>"
      ],
      "text/plain": [
       "<IPython.core.display.HTML object>"
      ]
     },
     "metadata": {},
     "output_type": "display_data"
    },
    {
     "data": {
      "application/vnd.jupyter.widget-view+json": {
       "model_id": "cee4fc8aff4f4f69a55a9af2b05ab32e",
       "version_major": 2,
       "version_minor": 0
      },
      "text/plain": [
       "  0%|          | 0/200 [00:00<?, ?it/s]"
      ]
     },
     "metadata": {},
     "output_type": "display_data"
    },
    {
     "data": {
      "text/html": [
       "Waiting for W&B process to finish... <strong style=\"color:green\">(success).</strong>"
      ],
      "text/plain": [
       "<IPython.core.display.HTML object>"
      ]
     },
     "metadata": {},
     "output_type": "display_data"
    },
    {
     "data": {
      "text/html": [
       "<style>\n",
       "    table.wandb td:nth-child(1) { padding: 0 10px; text-align: left ; width: auto;} td:nth-child(2) {text-align: left ; width: 100%}\n",
       "    .wandb-row { display: flex; flex-direction: row; flex-wrap: wrap; justify-content: flex-start; width: 100% }\n",
       "    .wandb-col { display: flex; flex-direction: column; flex-basis: 100%; flex: 1; padding: 10px; }\n",
       "    </style>\n",
       "<div class=\"wandb-row\"><div class=\"wandb-col\"><h3>Run history:</h3><br/><table class=\"wandb\"><tr><td>avg_test_loss</td><td>▁</td></tr></table><br/></div><div class=\"wandb-col\"><h3>Run summary:</h3><br/><table class=\"wandb\"><tr><td>avg_test_loss</td><td>0.20111</td></tr></table><br/></div></div>"
      ],
      "text/plain": [
       "<IPython.core.display.HTML object>"
      ]
     },
     "metadata": {},
     "output_type": "display_data"
    },
    {
     "data": {
      "text/html": [
       " View run <strong style=\"color:#cdcd00\">hearty-sweep-33</strong> at: <a href='https://wandb.ai/zekai-wang/RecurrentTPP%20on%20ANSS%20Nov%205/runs/y47dxakf' target=\"_blank\">https://wandb.ai/zekai-wang/RecurrentTPP%20on%20ANSS%20Nov%205/runs/y47dxakf</a><br/>Synced 5 W&B file(s), 0 media file(s), 0 artifact file(s) and 0 other file(s)"
      ],
      "text/plain": [
       "<IPython.core.display.HTML object>"
      ]
     },
     "metadata": {},
     "output_type": "display_data"
    },
    {
     "data": {
      "text/html": [
       "Find logs at: <code>./wandb/run-20231105_230305-y47dxakf/logs</code>"
      ],
      "text/plain": [
       "<IPython.core.display.HTML object>"
      ]
     },
     "metadata": {},
     "output_type": "display_data"
    },
    {
     "name": "stderr",
     "output_type": "stream",
     "text": [
      "\u001b[34m\u001b[1mwandb\u001b[0m: Agent Starting Run: qqvuf2fq with config:\n",
      "\u001b[34m\u001b[1mwandb\u001b[0m: \tbatch_size: 64\n",
      "\u001b[34m\u001b[1mwandb\u001b[0m: \tbetas: [0.9, 0.999]\n",
      "\u001b[34m\u001b[1mwandb\u001b[0m: \tcontext_size: 128\n",
      "\u001b[34m\u001b[1mwandb\u001b[0m: \tdropout_proba: 0\n",
      "\u001b[34m\u001b[1mwandb\u001b[0m: \tlr: 0.02\n",
      "\u001b[34m\u001b[1mwandb\u001b[0m: \tnum_components: 16\n",
      "\u001b[34m\u001b[1mwandb\u001b[0m: \trnn_type: GRU\n",
      "\u001b[34m\u001b[1mwandb\u001b[0m: \tweight_decay: 0.002\n"
     ]
    },
    {
     "data": {
      "text/html": [
       "Tracking run with wandb version 0.15.12"
      ],
      "text/plain": [
       "<IPython.core.display.HTML object>"
      ]
     },
     "metadata": {},
     "output_type": "display_data"
    },
    {
     "data": {
      "text/html": [
       "Run data is saved locally in <code>/home/zekai/repos/recast/notebooks/Zekai/hyperparameter_sweep/wandb/run-20231105_230432-qqvuf2fq</code>"
      ],
      "text/plain": [
       "<IPython.core.display.HTML object>"
      ]
     },
     "metadata": {},
     "output_type": "display_data"
    },
    {
     "data": {
      "text/html": [
       "Syncing run <strong><a href='https://wandb.ai/zekai-wang/RecurrentTPP%20on%20ANSS%20Nov%205/runs/qqvuf2fq' target=\"_blank\">glowing-sweep-34</a></strong> to <a href='https://wandb.ai/zekai-wang/RecurrentTPP%20on%20ANSS%20Nov%205' target=\"_blank\">Weights & Biases</a> (<a href='https://wandb.me/run' target=\"_blank\">docs</a>)<br/>Sweep page: <a href='https://wandb.ai/zekai-wang/RecurrentTPP%20on%20ANSS%20Nov%205/sweeps/27ca0onv' target=\"_blank\">https://wandb.ai/zekai-wang/RecurrentTPP%20on%20ANSS%20Nov%205/sweeps/27ca0onv</a>"
      ],
      "text/plain": [
       "<IPython.core.display.HTML object>"
      ]
     },
     "metadata": {},
     "output_type": "display_data"
    },
    {
     "data": {
      "text/html": [
       " View project at <a href='https://wandb.ai/zekai-wang/RecurrentTPP%20on%20ANSS%20Nov%205' target=\"_blank\">https://wandb.ai/zekai-wang/RecurrentTPP%20on%20ANSS%20Nov%205</a>"
      ],
      "text/plain": [
       "<IPython.core.display.HTML object>"
      ]
     },
     "metadata": {},
     "output_type": "display_data"
    },
    {
     "data": {
      "text/html": [
       " View sweep at <a href='https://wandb.ai/zekai-wang/RecurrentTPP%20on%20ANSS%20Nov%205/sweeps/27ca0onv' target=\"_blank\">https://wandb.ai/zekai-wang/RecurrentTPP%20on%20ANSS%20Nov%205/sweeps/27ca0onv</a>"
      ],
      "text/plain": [
       "<IPython.core.display.HTML object>"
      ]
     },
     "metadata": {},
     "output_type": "display_data"
    },
    {
     "data": {
      "text/html": [
       " View run at <a href='https://wandb.ai/zekai-wang/RecurrentTPP%20on%20ANSS%20Nov%205/runs/qqvuf2fq' target=\"_blank\">https://wandb.ai/zekai-wang/RecurrentTPP%20on%20ANSS%20Nov%205/runs/qqvuf2fq</a>"
      ],
      "text/plain": [
       "<IPython.core.display.HTML object>"
      ]
     },
     "metadata": {},
     "output_type": "display_data"
    },
    {
     "data": {
      "application/vnd.jupyter.widget-view+json": {
       "model_id": "b27b8034de9141559281dda1d4c1c195",
       "version_major": 2,
       "version_minor": 0
      },
      "text/plain": [
       "  0%|          | 0/200 [00:00<?, ?it/s]"
      ]
     },
     "metadata": {},
     "output_type": "display_data"
    },
    {
     "data": {
      "text/html": [
       "Waiting for W&B process to finish... <strong style=\"color:green\">(success).</strong>"
      ],
      "text/plain": [
       "<IPython.core.display.HTML object>"
      ]
     },
     "metadata": {},
     "output_type": "display_data"
    },
    {
     "data": {
      "application/vnd.jupyter.widget-view+json": {
       "model_id": "c411a1dda71b4afc91e18f2fe95a834d",
       "version_major": 2,
       "version_minor": 0
      },
      "text/plain": [
       "VBox(children=(Label(value='0.014 MB of 0.019 MB uploaded (0.000 MB deduped)\\r'), FloatProgress(value=0.750453…"
      ]
     },
     "metadata": {},
     "output_type": "display_data"
    },
    {
     "data": {
      "text/html": [
       "<style>\n",
       "    table.wandb td:nth-child(1) { padding: 0 10px; text-align: left ; width: auto;} td:nth-child(2) {text-align: left ; width: 100%}\n",
       "    .wandb-row { display: flex; flex-direction: row; flex-wrap: wrap; justify-content: flex-start; width: 100% }\n",
       "    .wandb-col { display: flex; flex-direction: column; flex-basis: 100%; flex: 1; padding: 10px; }\n",
       "    </style>\n",
       "<div class=\"wandb-row\"><div class=\"wandb-col\"><h3>Run history:</h3><br/><table class=\"wandb\"><tr><td>avg_test_loss</td><td>▁</td></tr></table><br/></div><div class=\"wandb-col\"><h3>Run summary:</h3><br/><table class=\"wandb\"><tr><td>avg_test_loss</td><td>0.17617</td></tr></table><br/></div></div>"
      ],
      "text/plain": [
       "<IPython.core.display.HTML object>"
      ]
     },
     "metadata": {},
     "output_type": "display_data"
    },
    {
     "data": {
      "text/html": [
       " View run <strong style=\"color:#cdcd00\">glowing-sweep-34</strong> at: <a href='https://wandb.ai/zekai-wang/RecurrentTPP%20on%20ANSS%20Nov%205/runs/qqvuf2fq' target=\"_blank\">https://wandb.ai/zekai-wang/RecurrentTPP%20on%20ANSS%20Nov%205/runs/qqvuf2fq</a><br/>Synced 5 W&B file(s), 0 media file(s), 0 artifact file(s) and 0 other file(s)"
      ],
      "text/plain": [
       "<IPython.core.display.HTML object>"
      ]
     },
     "metadata": {},
     "output_type": "display_data"
    },
    {
     "data": {
      "text/html": [
       "Find logs at: <code>./wandb/run-20231105_230432-qqvuf2fq/logs</code>"
      ],
      "text/plain": [
       "<IPython.core.display.HTML object>"
      ]
     },
     "metadata": {},
     "output_type": "display_data"
    },
    {
     "name": "stderr",
     "output_type": "stream",
     "text": [
      "\u001b[34m\u001b[1mwandb\u001b[0m: Agent Starting Run: htvq44lb with config:\n",
      "\u001b[34m\u001b[1mwandb\u001b[0m: \tbatch_size: 16\n",
      "\u001b[34m\u001b[1mwandb\u001b[0m: \tbetas: [0.9, 0.999]\n",
      "\u001b[34m\u001b[1mwandb\u001b[0m: \tcontext_size: 64\n",
      "\u001b[34m\u001b[1mwandb\u001b[0m: \tdropout_proba: 0\n",
      "\u001b[34m\u001b[1mwandb\u001b[0m: \tlr: 0.05\n",
      "\u001b[34m\u001b[1mwandb\u001b[0m: \tnum_components: 64\n",
      "\u001b[34m\u001b[1mwandb\u001b[0m: \trnn_type: RNN\n",
      "\u001b[34m\u001b[1mwandb\u001b[0m: \tweight_decay: 0\n"
     ]
    },
    {
     "data": {
      "text/html": [
       "Tracking run with wandb version 0.15.12"
      ],
      "text/plain": [
       "<IPython.core.display.HTML object>"
      ]
     },
     "metadata": {},
     "output_type": "display_data"
    },
    {
     "data": {
      "text/html": [
       "Run data is saved locally in <code>/home/zekai/repos/recast/notebooks/Zekai/hyperparameter_sweep/wandb/run-20231105_230623-htvq44lb</code>"
      ],
      "text/plain": [
       "<IPython.core.display.HTML object>"
      ]
     },
     "metadata": {},
     "output_type": "display_data"
    },
    {
     "data": {
      "text/html": [
       "Syncing run <strong><a href='https://wandb.ai/zekai-wang/RecurrentTPP%20on%20ANSS%20Nov%205/runs/htvq44lb' target=\"_blank\">likely-sweep-35</a></strong> to <a href='https://wandb.ai/zekai-wang/RecurrentTPP%20on%20ANSS%20Nov%205' target=\"_blank\">Weights & Biases</a> (<a href='https://wandb.me/run' target=\"_blank\">docs</a>)<br/>Sweep page: <a href='https://wandb.ai/zekai-wang/RecurrentTPP%20on%20ANSS%20Nov%205/sweeps/27ca0onv' target=\"_blank\">https://wandb.ai/zekai-wang/RecurrentTPP%20on%20ANSS%20Nov%205/sweeps/27ca0onv</a>"
      ],
      "text/plain": [
       "<IPython.core.display.HTML object>"
      ]
     },
     "metadata": {},
     "output_type": "display_data"
    },
    {
     "data": {
      "text/html": [
       " View project at <a href='https://wandb.ai/zekai-wang/RecurrentTPP%20on%20ANSS%20Nov%205' target=\"_blank\">https://wandb.ai/zekai-wang/RecurrentTPP%20on%20ANSS%20Nov%205</a>"
      ],
      "text/plain": [
       "<IPython.core.display.HTML object>"
      ]
     },
     "metadata": {},
     "output_type": "display_data"
    },
    {
     "data": {
      "text/html": [
       " View sweep at <a href='https://wandb.ai/zekai-wang/RecurrentTPP%20on%20ANSS%20Nov%205/sweeps/27ca0onv' target=\"_blank\">https://wandb.ai/zekai-wang/RecurrentTPP%20on%20ANSS%20Nov%205/sweeps/27ca0onv</a>"
      ],
      "text/plain": [
       "<IPython.core.display.HTML object>"
      ]
     },
     "metadata": {},
     "output_type": "display_data"
    },
    {
     "data": {
      "text/html": [
       " View run at <a href='https://wandb.ai/zekai-wang/RecurrentTPP%20on%20ANSS%20Nov%205/runs/htvq44lb' target=\"_blank\">https://wandb.ai/zekai-wang/RecurrentTPP%20on%20ANSS%20Nov%205/runs/htvq44lb</a>"
      ],
      "text/plain": [
       "<IPython.core.display.HTML object>"
      ]
     },
     "metadata": {},
     "output_type": "display_data"
    },
    {
     "data": {
      "application/vnd.jupyter.widget-view+json": {
       "model_id": "cafb0849252e406e8d24a05e710207b6",
       "version_major": 2,
       "version_minor": 0
      },
      "text/plain": [
       "  0%|          | 0/200 [00:00<?, ?it/s]"
      ]
     },
     "metadata": {},
     "output_type": "display_data"
    },
    {
     "name": "stdout",
     "output_type": "stream",
     "text": [
      "Expected parameter scale (Tensor of shape (16, 3025, 64)) of distribution Weibull(scale: torch.Size([16, 3025, 64]), shape: torch.Size([16, 3025, 64])) to satisfy the constraint GreaterThan(lower_bound=0.0), but found invalid values:\n",
      "tensor([[[0.9346, 0.9200, 0.7018,  ..., 0.5013, 0.9179, 0.1993],\n",
      "         [   nan,    nan,    nan,  ...,    nan,    nan,    nan],\n",
      "         [   nan,    nan,    nan,  ...,    nan,    nan,    nan],\n",
      "         ...,\n",
      "         [   nan,    nan,    nan,  ...,    nan,    nan,    nan],\n",
      "         [   nan,    nan,    nan,  ...,    nan,    nan,    nan],\n",
      "         [   nan,    nan,    nan,  ...,    nan,    nan,    nan]],\n",
      "\n",
      "        [[0.9346, 0.9200, 0.7018,  ..., 0.5013, 0.9179, 0.1993],\n",
      "         [   nan,    nan,    nan,  ...,    nan,    nan,    nan],\n",
      "         [   nan,    nan,    nan,  ...,    nan,    nan,    nan],\n",
      "         ...,\n",
      "         [   nan,    nan,    nan,  ...,    nan,    nan,    nan],\n",
      "         [   nan,    nan,    nan,  ...,    nan,    nan,    nan],\n",
      "         [   nan,    nan,    nan,  ...,    nan,    nan,    nan]],\n",
      "\n",
      "        [[0.9346, 0.9200, 0.7018,  ..., 0.5013, 0.9179, 0.1993],\n",
      "         [   nan,    nan,    nan,  ...,    nan,    nan,    nan],\n",
      "         [   nan,    nan,    nan,  ...,    nan,    nan,    nan],\n",
      "         ...,\n",
      "         [   nan,    nan,    nan,  ...,    nan,    nan,    nan],\n",
      "         [   nan,    nan,    nan,  ...,    nan,    nan,    nan],\n",
      "         [   nan,    nan,    nan,  ...,    nan,    nan,    nan]],\n",
      "\n",
      "        ...,\n",
      "\n",
      "        [[0.9346, 0.9200, 0.7018,  ..., 0.5013, 0.9179, 0.1993],\n",
      "         [   nan,    nan,    nan,  ...,    nan,    nan,    nan],\n",
      "         [   nan,    nan,    nan,  ...,    nan,    nan,    nan],\n",
      "         ...,\n",
      "         [   nan,    nan,    nan,  ...,    nan,    nan,    nan],\n",
      "         [   nan,    nan,    nan,  ...,    nan,    nan,    nan],\n",
      "         [   nan,    nan,    nan,  ...,    nan,    nan,    nan]],\n",
      "\n",
      "        [[0.9346, 0.9200, 0.7018,  ..., 0.5013, 0.9179, 0.1993],\n",
      "         [   nan,    nan,    nan,  ...,    nan,    nan,    nan],\n",
      "         [   nan,    nan,    nan,  ...,    nan,    nan,    nan],\n",
      "         ...,\n",
      "         [   nan,    nan,    nan,  ...,    nan,    nan,    nan],\n",
      "         [   nan,    nan,    nan,  ...,    nan,    nan,    nan],\n",
      "         [   nan,    nan,    nan,  ...,    nan,    nan,    nan]],\n",
      "\n",
      "        [[0.9346, 0.9200, 0.7018,  ..., 0.5013, 0.9179, 0.1993],\n",
      "         [   nan,    nan,    nan,  ...,    nan,    nan,    nan],\n",
      "         [   nan,    nan,    nan,  ...,    nan,    nan,    nan],\n",
      "         ...,\n",
      "         [   nan,    nan,    nan,  ...,    nan,    nan,    nan],\n",
      "         [   nan,    nan,    nan,  ...,    nan,    nan,    nan],\n",
      "         [   nan,    nan,    nan,  ...,    nan,    nan,    nan]]],\n",
      "       device='cuda:0', grad_fn=<SoftplusBackward0>)\n"
     ]
    },
    {
     "data": {
      "text/html": [
       "Waiting for W&B process to finish... <strong style=\"color:green\">(success).</strong>"
      ],
      "text/plain": [
       "<IPython.core.display.HTML object>"
      ]
     },
     "metadata": {},
     "output_type": "display_data"
    },
    {
     "data": {
      "text/html": [
       "<style>\n",
       "    table.wandb td:nth-child(1) { padding: 0 10px; text-align: left ; width: auto;} td:nth-child(2) {text-align: left ; width: 100%}\n",
       "    .wandb-row { display: flex; flex-direction: row; flex-wrap: wrap; justify-content: flex-start; width: 100% }\n",
       "    .wandb-col { display: flex; flex-direction: column; flex-basis: 100%; flex: 1; padding: 10px; }\n",
       "    </style>\n",
       "<div class=\"wandb-row\"><div class=\"wandb-col\"><h3>Run summary:</h3><br/><table class=\"wandb\"><tr><td>avg_test_loss</td><td>nan</td></tr></table><br/></div></div>"
      ],
      "text/plain": [
       "<IPython.core.display.HTML object>"
      ]
     },
     "metadata": {},
     "output_type": "display_data"
    },
    {
     "data": {
      "text/html": [
       " View run <strong style=\"color:#cdcd00\">likely-sweep-35</strong> at: <a href='https://wandb.ai/zekai-wang/RecurrentTPP%20on%20ANSS%20Nov%205/runs/htvq44lb' target=\"_blank\">https://wandb.ai/zekai-wang/RecurrentTPP%20on%20ANSS%20Nov%205/runs/htvq44lb</a><br/>Synced 6 W&B file(s), 0 media file(s), 0 artifact file(s) and 0 other file(s)"
      ],
      "text/plain": [
       "<IPython.core.display.HTML object>"
      ]
     },
     "metadata": {},
     "output_type": "display_data"
    },
    {
     "data": {
      "text/html": [
       "Find logs at: <code>./wandb/run-20231105_230623-htvq44lb/logs</code>"
      ],
      "text/plain": [
       "<IPython.core.display.HTML object>"
      ]
     },
     "metadata": {},
     "output_type": "display_data"
    },
    {
     "name": "stderr",
     "output_type": "stream",
     "text": [
      "\u001b[34m\u001b[1mwandb\u001b[0m: Agent Starting Run: 4cwbpw6e with config:\n",
      "\u001b[34m\u001b[1mwandb\u001b[0m: \tbatch_size: 32\n",
      "\u001b[34m\u001b[1mwandb\u001b[0m: \tbetas: [0.9, 0.999]\n",
      "\u001b[34m\u001b[1mwandb\u001b[0m: \tcontext_size: 128\n",
      "\u001b[34m\u001b[1mwandb\u001b[0m: \tdropout_proba: 0\n",
      "\u001b[34m\u001b[1mwandb\u001b[0m: \tlr: 0.01\n",
      "\u001b[34m\u001b[1mwandb\u001b[0m: \tnum_components: 16\n",
      "\u001b[34m\u001b[1mwandb\u001b[0m: \trnn_type: RNN\n",
      "\u001b[34m\u001b[1mwandb\u001b[0m: \tweight_decay: 0\n"
     ]
    },
    {
     "data": {
      "text/html": [
       "Tracking run with wandb version 0.15.12"
      ],
      "text/plain": [
       "<IPython.core.display.HTML object>"
      ]
     },
     "metadata": {},
     "output_type": "display_data"
    },
    {
     "data": {
      "text/html": [
       "Run data is saved locally in <code>/home/zekai/repos/recast/notebooks/Zekai/hyperparameter_sweep/wandb/run-20231105_230638-4cwbpw6e</code>"
      ],
      "text/plain": [
       "<IPython.core.display.HTML object>"
      ]
     },
     "metadata": {},
     "output_type": "display_data"
    },
    {
     "data": {
      "text/html": [
       "Syncing run <strong><a href='https://wandb.ai/zekai-wang/RecurrentTPP%20on%20ANSS%20Nov%205/runs/4cwbpw6e' target=\"_blank\">jolly-sweep-36</a></strong> to <a href='https://wandb.ai/zekai-wang/RecurrentTPP%20on%20ANSS%20Nov%205' target=\"_blank\">Weights & Biases</a> (<a href='https://wandb.me/run' target=\"_blank\">docs</a>)<br/>Sweep page: <a href='https://wandb.ai/zekai-wang/RecurrentTPP%20on%20ANSS%20Nov%205/sweeps/27ca0onv' target=\"_blank\">https://wandb.ai/zekai-wang/RecurrentTPP%20on%20ANSS%20Nov%205/sweeps/27ca0onv</a>"
      ],
      "text/plain": [
       "<IPython.core.display.HTML object>"
      ]
     },
     "metadata": {},
     "output_type": "display_data"
    },
    {
     "data": {
      "text/html": [
       " View project at <a href='https://wandb.ai/zekai-wang/RecurrentTPP%20on%20ANSS%20Nov%205' target=\"_blank\">https://wandb.ai/zekai-wang/RecurrentTPP%20on%20ANSS%20Nov%205</a>"
      ],
      "text/plain": [
       "<IPython.core.display.HTML object>"
      ]
     },
     "metadata": {},
     "output_type": "display_data"
    },
    {
     "data": {
      "text/html": [
       " View sweep at <a href='https://wandb.ai/zekai-wang/RecurrentTPP%20on%20ANSS%20Nov%205/sweeps/27ca0onv' target=\"_blank\">https://wandb.ai/zekai-wang/RecurrentTPP%20on%20ANSS%20Nov%205/sweeps/27ca0onv</a>"
      ],
      "text/plain": [
       "<IPython.core.display.HTML object>"
      ]
     },
     "metadata": {},
     "output_type": "display_data"
    },
    {
     "data": {
      "text/html": [
       " View run at <a href='https://wandb.ai/zekai-wang/RecurrentTPP%20on%20ANSS%20Nov%205/runs/4cwbpw6e' target=\"_blank\">https://wandb.ai/zekai-wang/RecurrentTPP%20on%20ANSS%20Nov%205/runs/4cwbpw6e</a>"
      ],
      "text/plain": [
       "<IPython.core.display.HTML object>"
      ]
     },
     "metadata": {},
     "output_type": "display_data"
    },
    {
     "data": {
      "application/vnd.jupyter.widget-view+json": {
       "model_id": "e9482c78a9c34bde9aa4752784200a4f",
       "version_major": 2,
       "version_minor": 0
      },
      "text/plain": [
       "  0%|          | 0/200 [00:00<?, ?it/s]"
      ]
     },
     "metadata": {},
     "output_type": "display_data"
    },
    {
     "name": "stdout",
     "output_type": "stream",
     "text": [
      "Expected parameter scale (Tensor of shape (32, 1539, 16)) of distribution Weibull(scale: torch.Size([32, 1539, 16]), shape: torch.Size([32, 1539, 16])) to satisfy the constraint GreaterThan(lower_bound=0.0), but found invalid values:\n",
      "tensor([[[0.7473, 0.7565, 0.5851,  ..., 0.6824, 0.9054, 0.7894],\n",
      "         [   nan,    nan,    nan,  ...,    nan,    nan,    nan],\n",
      "         [   nan,    nan,    nan,  ...,    nan,    nan,    nan],\n",
      "         ...,\n",
      "         [   nan,    nan,    nan,  ...,    nan,    nan,    nan],\n",
      "         [   nan,    nan,    nan,  ...,    nan,    nan,    nan],\n",
      "         [   nan,    nan,    nan,  ...,    nan,    nan,    nan]],\n",
      "\n",
      "        [[0.7473, 0.7565, 0.5851,  ..., 0.6824, 0.9054, 0.7894],\n",
      "         [   nan,    nan,    nan,  ...,    nan,    nan,    nan],\n",
      "         [   nan,    nan,    nan,  ...,    nan,    nan,    nan],\n",
      "         ...,\n",
      "         [   nan,    nan,    nan,  ...,    nan,    nan,    nan],\n",
      "         [   nan,    nan,    nan,  ...,    nan,    nan,    nan],\n",
      "         [   nan,    nan,    nan,  ...,    nan,    nan,    nan]],\n",
      "\n",
      "        [[0.7473, 0.7565, 0.5851,  ..., 0.6824, 0.9054, 0.7894],\n",
      "         [   nan,    nan,    nan,  ...,    nan,    nan,    nan],\n",
      "         [   nan,    nan,    nan,  ...,    nan,    nan,    nan],\n",
      "         ...,\n",
      "         [   nan,    nan,    nan,  ...,    nan,    nan,    nan],\n",
      "         [   nan,    nan,    nan,  ...,    nan,    nan,    nan],\n",
      "         [   nan,    nan,    nan,  ...,    nan,    nan,    nan]],\n",
      "\n",
      "        ...,\n",
      "\n",
      "        [[0.7473, 0.7565, 0.5851,  ..., 0.6824, 0.9054, 0.7894],\n",
      "         [   nan,    nan,    nan,  ...,    nan,    nan,    nan],\n",
      "         [   nan,    nan,    nan,  ...,    nan,    nan,    nan],\n",
      "         ...,\n",
      "         [   nan,    nan,    nan,  ...,    nan,    nan,    nan],\n",
      "         [   nan,    nan,    nan,  ...,    nan,    nan,    nan],\n",
      "         [   nan,    nan,    nan,  ...,    nan,    nan,    nan]],\n",
      "\n",
      "        [[0.7473, 0.7565, 0.5851,  ..., 0.6824, 0.9054, 0.7894],\n",
      "         [   nan,    nan,    nan,  ...,    nan,    nan,    nan],\n",
      "         [   nan,    nan,    nan,  ...,    nan,    nan,    nan],\n",
      "         ...,\n",
      "         [   nan,    nan,    nan,  ...,    nan,    nan,    nan],\n",
      "         [   nan,    nan,    nan,  ...,    nan,    nan,    nan],\n",
      "         [   nan,    nan,    nan,  ...,    nan,    nan,    nan]],\n",
      "\n",
      "        [[0.7473, 0.7565, 0.5851,  ..., 0.6824, 0.9054, 0.7894],\n",
      "         [   nan,    nan,    nan,  ...,    nan,    nan,    nan],\n",
      "         [   nan,    nan,    nan,  ...,    nan,    nan,    nan],\n",
      "         ...,\n",
      "         [   nan,    nan,    nan,  ...,    nan,    nan,    nan],\n",
      "         [   nan,    nan,    nan,  ...,    nan,    nan,    nan],\n",
      "         [   nan,    nan,    nan,  ...,    nan,    nan,    nan]]],\n",
      "       device='cuda:0', grad_fn=<SoftplusBackward0>)\n"
     ]
    },
    {
     "data": {
      "text/html": [
       "Waiting for W&B process to finish... <strong style=\"color:green\">(success).</strong>"
      ],
      "text/plain": [
       "<IPython.core.display.HTML object>"
      ]
     },
     "metadata": {},
     "output_type": "display_data"
    },
    {
     "data": {
      "text/html": [
       "<style>\n",
       "    table.wandb td:nth-child(1) { padding: 0 10px; text-align: left ; width: auto;} td:nth-child(2) {text-align: left ; width: 100%}\n",
       "    .wandb-row { display: flex; flex-direction: row; flex-wrap: wrap; justify-content: flex-start; width: 100% }\n",
       "    .wandb-col { display: flex; flex-direction: column; flex-basis: 100%; flex: 1; padding: 10px; }\n",
       "    </style>\n",
       "<div class=\"wandb-row\"><div class=\"wandb-col\"><h3>Run summary:</h3><br/><table class=\"wandb\"><tr><td>avg_test_loss</td><td>nan</td></tr></table><br/></div></div>"
      ],
      "text/plain": [
       "<IPython.core.display.HTML object>"
      ]
     },
     "metadata": {},
     "output_type": "display_data"
    },
    {
     "data": {
      "text/html": [
       " View run <strong style=\"color:#cdcd00\">jolly-sweep-36</strong> at: <a href='https://wandb.ai/zekai-wang/RecurrentTPP%20on%20ANSS%20Nov%205/runs/4cwbpw6e' target=\"_blank\">https://wandb.ai/zekai-wang/RecurrentTPP%20on%20ANSS%20Nov%205/runs/4cwbpw6e</a><br/>Synced 6 W&B file(s), 0 media file(s), 0 artifact file(s) and 0 other file(s)"
      ],
      "text/plain": [
       "<IPython.core.display.HTML object>"
      ]
     },
     "metadata": {},
     "output_type": "display_data"
    },
    {
     "data": {
      "text/html": [
       "Find logs at: <code>./wandb/run-20231105_230638-4cwbpw6e/logs</code>"
      ],
      "text/plain": [
       "<IPython.core.display.HTML object>"
      ]
     },
     "metadata": {},
     "output_type": "display_data"
    },
    {
     "name": "stderr",
     "output_type": "stream",
     "text": [
      "\u001b[34m\u001b[1mwandb\u001b[0m: Sweep Agent: Waiting for job.\n",
      "\u001b[34m\u001b[1mwandb\u001b[0m: Job received.\n",
      "\u001b[34m\u001b[1mwandb\u001b[0m: Agent Starting Run: h8c9yvez with config:\n",
      "\u001b[34m\u001b[1mwandb\u001b[0m: \tbatch_size: 64\n",
      "\u001b[34m\u001b[1mwandb\u001b[0m: \tbetas: [0.9, 0.999]\n",
      "\u001b[34m\u001b[1mwandb\u001b[0m: \tcontext_size: 128\n",
      "\u001b[34m\u001b[1mwandb\u001b[0m: \tdropout_proba: 0.2\n",
      "\u001b[34m\u001b[1mwandb\u001b[0m: \tlr: 0.02\n",
      "\u001b[34m\u001b[1mwandb\u001b[0m: \tnum_components: 8\n",
      "\u001b[34m\u001b[1mwandb\u001b[0m: \trnn_type: RNN\n",
      "\u001b[34m\u001b[1mwandb\u001b[0m: \tweight_decay: 0.05\n"
     ]
    },
    {
     "data": {
      "application/vnd.jupyter.widget-view+json": {
       "model_id": "f690af82849e49a487185fb275c87dbc",
       "version_major": 2,
       "version_minor": 0
      },
      "text/plain": [
       "VBox(children=(Label(value='Waiting for wandb.init()...\\r'), FloatProgress(value=0.01111233204444741, max=1.0)…"
      ]
     },
     "metadata": {},
     "output_type": "display_data"
    },
    {
     "data": {
      "text/html": [
       "Tracking run with wandb version 0.15.12"
      ],
      "text/plain": [
       "<IPython.core.display.HTML object>"
      ]
     },
     "metadata": {},
     "output_type": "display_data"
    },
    {
     "data": {
      "text/html": [
       "Run data is saved locally in <code>/home/zekai/repos/recast/notebooks/Zekai/hyperparameter_sweep/wandb/run-20231105_230739-h8c9yvez</code>"
      ],
      "text/plain": [
       "<IPython.core.display.HTML object>"
      ]
     },
     "metadata": {},
     "output_type": "display_data"
    },
    {
     "data": {
      "text/html": [
       "Syncing run <strong><a href='https://wandb.ai/zekai-wang/RecurrentTPP%20on%20ANSS%20Nov%205/runs/h8c9yvez' target=\"_blank\">atomic-sweep-37</a></strong> to <a href='https://wandb.ai/zekai-wang/RecurrentTPP%20on%20ANSS%20Nov%205' target=\"_blank\">Weights & Biases</a> (<a href='https://wandb.me/run' target=\"_blank\">docs</a>)<br/>Sweep page: <a href='https://wandb.ai/zekai-wang/RecurrentTPP%20on%20ANSS%20Nov%205/sweeps/27ca0onv' target=\"_blank\">https://wandb.ai/zekai-wang/RecurrentTPP%20on%20ANSS%20Nov%205/sweeps/27ca0onv</a>"
      ],
      "text/plain": [
       "<IPython.core.display.HTML object>"
      ]
     },
     "metadata": {},
     "output_type": "display_data"
    },
    {
     "data": {
      "text/html": [
       " View project at <a href='https://wandb.ai/zekai-wang/RecurrentTPP%20on%20ANSS%20Nov%205' target=\"_blank\">https://wandb.ai/zekai-wang/RecurrentTPP%20on%20ANSS%20Nov%205</a>"
      ],
      "text/plain": [
       "<IPython.core.display.HTML object>"
      ]
     },
     "metadata": {},
     "output_type": "display_data"
    },
    {
     "data": {
      "text/html": [
       " View sweep at <a href='https://wandb.ai/zekai-wang/RecurrentTPP%20on%20ANSS%20Nov%205/sweeps/27ca0onv' target=\"_blank\">https://wandb.ai/zekai-wang/RecurrentTPP%20on%20ANSS%20Nov%205/sweeps/27ca0onv</a>"
      ],
      "text/plain": [
       "<IPython.core.display.HTML object>"
      ]
     },
     "metadata": {},
     "output_type": "display_data"
    },
    {
     "data": {
      "text/html": [
       " View run at <a href='https://wandb.ai/zekai-wang/RecurrentTPP%20on%20ANSS%20Nov%205/runs/h8c9yvez' target=\"_blank\">https://wandb.ai/zekai-wang/RecurrentTPP%20on%20ANSS%20Nov%205/runs/h8c9yvez</a>"
      ],
      "text/plain": [
       "<IPython.core.display.HTML object>"
      ]
     },
     "metadata": {},
     "output_type": "display_data"
    },
    {
     "data": {
      "application/vnd.jupyter.widget-view+json": {
       "model_id": "6f500e88d7d24056862bcc6c766f7878",
       "version_major": 2,
       "version_minor": 0
      },
      "text/plain": [
       "  0%|          | 0/200 [00:00<?, ?it/s]"
      ]
     },
     "metadata": {},
     "output_type": "display_data"
    },
    {
     "name": "stdout",
     "output_type": "stream",
     "text": [
      "Expected parameter scale (Tensor of shape (24, 587, 8)) of distribution Weibull(scale: torch.Size([24, 587, 8]), shape: torch.Size([24, 587, 8])) to satisfy the constraint GreaterThan(lower_bound=0.0), but found invalid values:\n",
      "tensor([[[   nan, 0.6734, 0.7205,  ..., 0.6174, 0.6912, 0.3787],\n",
      "         [   nan,    nan,    nan,  ...,    nan,    nan,    nan],\n",
      "         [   nan,    nan,    nan,  ...,    nan,    nan,    nan],\n",
      "         ...,\n",
      "         [   nan,    nan,    nan,  ...,    nan,    nan,    nan],\n",
      "         [   nan,    nan,    nan,  ...,    nan,    nan,    nan],\n",
      "         [   nan,    nan,    nan,  ...,    nan,    nan,    nan]],\n",
      "\n",
      "        [[   nan, 0.6734, 0.7205,  ..., 0.6174, 0.6912, 0.3787],\n",
      "         [   nan,    nan,    nan,  ...,    nan,    nan,    nan],\n",
      "         [   nan,    nan,    nan,  ...,    nan,    nan,    nan],\n",
      "         ...,\n",
      "         [   nan,    nan,    nan,  ...,    nan,    nan,    nan],\n",
      "         [   nan,    nan,    nan,  ...,    nan,    nan,    nan],\n",
      "         [   nan,    nan,    nan,  ...,    nan,    nan,    nan]],\n",
      "\n",
      "        [[   nan, 0.6734, 0.7205,  ..., 0.6174, 0.6912, 0.3787],\n",
      "         [   nan,    nan,    nan,  ...,    nan,    nan,    nan],\n",
      "         [   nan,    nan,    nan,  ...,    nan,    nan,    nan],\n",
      "         ...,\n",
      "         [   nan,    nan,    nan,  ...,    nan,    nan,    nan],\n",
      "         [   nan,    nan,    nan,  ...,    nan,    nan,    nan],\n",
      "         [   nan,    nan,    nan,  ...,    nan,    nan,    nan]],\n",
      "\n",
      "        ...,\n",
      "\n",
      "        [[   nan, 0.6734, 0.7205,  ..., 0.6174, 0.6912, 0.3787],\n",
      "         [   nan,    nan,    nan,  ...,    nan,    nan,    nan],\n",
      "         [   nan,    nan,    nan,  ...,    nan,    nan,    nan],\n",
      "         ...,\n",
      "         [   nan,    nan,    nan,  ...,    nan,    nan,    nan],\n",
      "         [   nan,    nan,    nan,  ...,    nan,    nan,    nan],\n",
      "         [   nan,    nan,    nan,  ...,    nan,    nan,    nan]],\n",
      "\n",
      "        [[   nan, 0.6734, 0.7205,  ..., 0.6174, 0.6912, 0.3787],\n",
      "         [   nan,    nan,    nan,  ...,    nan,    nan,    nan],\n",
      "         [   nan,    nan,    nan,  ...,    nan,    nan,    nan],\n",
      "         ...,\n",
      "         [   nan,    nan,    nan,  ...,    nan,    nan,    nan],\n",
      "         [   nan,    nan,    nan,  ...,    nan,    nan,    nan],\n",
      "         [   nan,    nan,    nan,  ...,    nan,    nan,    nan]],\n",
      "\n",
      "        [[   nan, 0.6734, 0.7205,  ..., 0.6174, 0.6912, 0.3787],\n",
      "         [   nan,    nan,    nan,  ...,    nan,    nan,    nan],\n",
      "         [   nan,    nan,    nan,  ...,    nan,    nan,    nan],\n",
      "         ...,\n",
      "         [   nan,    nan,    nan,  ...,    nan,    nan,    nan],\n",
      "         [   nan,    nan,    nan,  ...,    nan,    nan,    nan],\n",
      "         [   nan,    nan,    nan,  ...,    nan,    nan,    nan]]],\n",
      "       device='cuda:0', grad_fn=<SoftplusBackward0>)\n"
     ]
    },
    {
     "data": {
      "text/html": [
       "Waiting for W&B process to finish... <strong style=\"color:green\">(success).</strong>"
      ],
      "text/plain": [
       "<IPython.core.display.HTML object>"
      ]
     },
     "metadata": {},
     "output_type": "display_data"
    },
    {
     "data": {
      "text/html": [
       "<style>\n",
       "    table.wandb td:nth-child(1) { padding: 0 10px; text-align: left ; width: auto;} td:nth-child(2) {text-align: left ; width: 100%}\n",
       "    .wandb-row { display: flex; flex-direction: row; flex-wrap: wrap; justify-content: flex-start; width: 100% }\n",
       "    .wandb-col { display: flex; flex-direction: column; flex-basis: 100%; flex: 1; padding: 10px; }\n",
       "    </style>\n",
       "<div class=\"wandb-row\"><div class=\"wandb-col\"><h3>Run summary:</h3><br/><table class=\"wandb\"><tr><td>avg_test_loss</td><td>nan</td></tr></table><br/></div></div>"
      ],
      "text/plain": [
       "<IPython.core.display.HTML object>"
      ]
     },
     "metadata": {},
     "output_type": "display_data"
    },
    {
     "data": {
      "text/html": [
       " View run <strong style=\"color:#cdcd00\">atomic-sweep-37</strong> at: <a href='https://wandb.ai/zekai-wang/RecurrentTPP%20on%20ANSS%20Nov%205/runs/h8c9yvez' target=\"_blank\">https://wandb.ai/zekai-wang/RecurrentTPP%20on%20ANSS%20Nov%205/runs/h8c9yvez</a><br/>Synced 6 W&B file(s), 0 media file(s), 0 artifact file(s) and 0 other file(s)"
      ],
      "text/plain": [
       "<IPython.core.display.HTML object>"
      ]
     },
     "metadata": {},
     "output_type": "display_data"
    },
    {
     "data": {
      "text/html": [
       "Find logs at: <code>./wandb/run-20231105_230739-h8c9yvez/logs</code>"
      ],
      "text/plain": [
       "<IPython.core.display.HTML object>"
      ]
     },
     "metadata": {},
     "output_type": "display_data"
    },
    {
     "name": "stderr",
     "output_type": "stream",
     "text": [
      "\u001b[34m\u001b[1mwandb\u001b[0m: Agent Starting Run: qtvne1dj with config:\n",
      "\u001b[34m\u001b[1mwandb\u001b[0m: \tbatch_size: 16\n",
      "\u001b[34m\u001b[1mwandb\u001b[0m: \tbetas: [0.9, 0.999]\n",
      "\u001b[34m\u001b[1mwandb\u001b[0m: \tcontext_size: 128\n",
      "\u001b[34m\u001b[1mwandb\u001b[0m: \tdropout_proba: 0.2\n",
      "\u001b[34m\u001b[1mwandb\u001b[0m: \tlr: 0.01\n",
      "\u001b[34m\u001b[1mwandb\u001b[0m: \tnum_components: 64\n",
      "\u001b[34m\u001b[1mwandb\u001b[0m: \trnn_type: LSTM\n",
      "\u001b[34m\u001b[1mwandb\u001b[0m: \tweight_decay: 0.01\n"
     ]
    },
    {
     "data": {
      "text/html": [
       "Tracking run with wandb version 0.15.12"
      ],
      "text/plain": [
       "<IPython.core.display.HTML object>"
      ]
     },
     "metadata": {},
     "output_type": "display_data"
    },
    {
     "data": {
      "text/html": [
       "Run data is saved locally in <code>/home/zekai/repos/recast/notebooks/Zekai/hyperparameter_sweep/wandb/run-20231105_230842-qtvne1dj</code>"
      ],
      "text/plain": [
       "<IPython.core.display.HTML object>"
      ]
     },
     "metadata": {},
     "output_type": "display_data"
    },
    {
     "data": {
      "text/html": [
       "Syncing run <strong><a href='https://wandb.ai/zekai-wang/RecurrentTPP%20on%20ANSS%20Nov%205/runs/qtvne1dj' target=\"_blank\">serene-sweep-38</a></strong> to <a href='https://wandb.ai/zekai-wang/RecurrentTPP%20on%20ANSS%20Nov%205' target=\"_blank\">Weights & Biases</a> (<a href='https://wandb.me/run' target=\"_blank\">docs</a>)<br/>Sweep page: <a href='https://wandb.ai/zekai-wang/RecurrentTPP%20on%20ANSS%20Nov%205/sweeps/27ca0onv' target=\"_blank\">https://wandb.ai/zekai-wang/RecurrentTPP%20on%20ANSS%20Nov%205/sweeps/27ca0onv</a>"
      ],
      "text/plain": [
       "<IPython.core.display.HTML object>"
      ]
     },
     "metadata": {},
     "output_type": "display_data"
    },
    {
     "data": {
      "text/html": [
       " View project at <a href='https://wandb.ai/zekai-wang/RecurrentTPP%20on%20ANSS%20Nov%205' target=\"_blank\">https://wandb.ai/zekai-wang/RecurrentTPP%20on%20ANSS%20Nov%205</a>"
      ],
      "text/plain": [
       "<IPython.core.display.HTML object>"
      ]
     },
     "metadata": {},
     "output_type": "display_data"
    },
    {
     "data": {
      "text/html": [
       " View sweep at <a href='https://wandb.ai/zekai-wang/RecurrentTPP%20on%20ANSS%20Nov%205/sweeps/27ca0onv' target=\"_blank\">https://wandb.ai/zekai-wang/RecurrentTPP%20on%20ANSS%20Nov%205/sweeps/27ca0onv</a>"
      ],
      "text/plain": [
       "<IPython.core.display.HTML object>"
      ]
     },
     "metadata": {},
     "output_type": "display_data"
    },
    {
     "data": {
      "text/html": [
       " View run at <a href='https://wandb.ai/zekai-wang/RecurrentTPP%20on%20ANSS%20Nov%205/runs/qtvne1dj' target=\"_blank\">https://wandb.ai/zekai-wang/RecurrentTPP%20on%20ANSS%20Nov%205/runs/qtvne1dj</a>"
      ],
      "text/plain": [
       "<IPython.core.display.HTML object>"
      ]
     },
     "metadata": {},
     "output_type": "display_data"
    },
    {
     "data": {
      "application/vnd.jupyter.widget-view+json": {
       "model_id": "0962b4fe7b854535a589b09753dad8b2",
       "version_major": 2,
       "version_minor": 0
      },
      "text/plain": [
       "  0%|          | 0/200 [00:00<?, ?it/s]"
      ]
     },
     "metadata": {},
     "output_type": "display_data"
    },
    {
     "data": {
      "text/html": [
       "Waiting for W&B process to finish... <strong style=\"color:green\">(success).</strong>"
      ],
      "text/plain": [
       "<IPython.core.display.HTML object>"
      ]
     },
     "metadata": {},
     "output_type": "display_data"
    },
    {
     "data": {
      "text/html": [
       "<style>\n",
       "    table.wandb td:nth-child(1) { padding: 0 10px; text-align: left ; width: auto;} td:nth-child(2) {text-align: left ; width: 100%}\n",
       "    .wandb-row { display: flex; flex-direction: row; flex-wrap: wrap; justify-content: flex-start; width: 100% }\n",
       "    .wandb-col { display: flex; flex-direction: column; flex-basis: 100%; flex: 1; padding: 10px; }\n",
       "    </style>\n",
       "<div class=\"wandb-row\"><div class=\"wandb-col\"><h3>Run history:</h3><br/><table class=\"wandb\"><tr><td>avg_test_loss</td><td>▁</td></tr></table><br/></div><div class=\"wandb-col\"><h3>Run summary:</h3><br/><table class=\"wandb\"><tr><td>avg_test_loss</td><td>0.16446</td></tr></table><br/></div></div>"
      ],
      "text/plain": [
       "<IPython.core.display.HTML object>"
      ]
     },
     "metadata": {},
     "output_type": "display_data"
    },
    {
     "data": {
      "text/html": [
       " View run <strong style=\"color:#cdcd00\">serene-sweep-38</strong> at: <a href='https://wandb.ai/zekai-wang/RecurrentTPP%20on%20ANSS%20Nov%205/runs/qtvne1dj' target=\"_blank\">https://wandb.ai/zekai-wang/RecurrentTPP%20on%20ANSS%20Nov%205/runs/qtvne1dj</a><br/>Synced 5 W&B file(s), 0 media file(s), 0 artifact file(s) and 0 other file(s)"
      ],
      "text/plain": [
       "<IPython.core.display.HTML object>"
      ]
     },
     "metadata": {},
     "output_type": "display_data"
    },
    {
     "data": {
      "text/html": [
       "Find logs at: <code>./wandb/run-20231105_230842-qtvne1dj/logs</code>"
      ],
      "text/plain": [
       "<IPython.core.display.HTML object>"
      ]
     },
     "metadata": {},
     "output_type": "display_data"
    },
    {
     "name": "stderr",
     "output_type": "stream",
     "text": [
      "\u001b[34m\u001b[1mwandb\u001b[0m: Agent Starting Run: tay9ad36 with config:\n",
      "\u001b[34m\u001b[1mwandb\u001b[0m: \tbatch_size: 16\n",
      "\u001b[34m\u001b[1mwandb\u001b[0m: \tbetas: [0.9, 0.999]\n",
      "\u001b[34m\u001b[1mwandb\u001b[0m: \tcontext_size: 16\n",
      "\u001b[34m\u001b[1mwandb\u001b[0m: \tdropout_proba: 0.4\n",
      "\u001b[34m\u001b[1mwandb\u001b[0m: \tlr: 0.001\n",
      "\u001b[34m\u001b[1mwandb\u001b[0m: \tnum_components: 16\n",
      "\u001b[34m\u001b[1mwandb\u001b[0m: \trnn_type: GRU\n",
      "\u001b[34m\u001b[1mwandb\u001b[0m: \tweight_decay: 0.02\n"
     ]
    },
    {
     "data": {
      "text/html": [
       "Tracking run with wandb version 0.15.12"
      ],
      "text/plain": [
       "<IPython.core.display.HTML object>"
      ]
     },
     "metadata": {},
     "output_type": "display_data"
    },
    {
     "data": {
      "text/html": [
       "Run data is saved locally in <code>/home/zekai/repos/recast/notebooks/Zekai/hyperparameter_sweep/wandb/run-20231105_231124-tay9ad36</code>"
      ],
      "text/plain": [
       "<IPython.core.display.HTML object>"
      ]
     },
     "metadata": {},
     "output_type": "display_data"
    },
    {
     "data": {
      "text/html": [
       "Syncing run <strong><a href='https://wandb.ai/zekai-wang/RecurrentTPP%20on%20ANSS%20Nov%205/runs/tay9ad36' target=\"_blank\">golden-sweep-39</a></strong> to <a href='https://wandb.ai/zekai-wang/RecurrentTPP%20on%20ANSS%20Nov%205' target=\"_blank\">Weights & Biases</a> (<a href='https://wandb.me/run' target=\"_blank\">docs</a>)<br/>Sweep page: <a href='https://wandb.ai/zekai-wang/RecurrentTPP%20on%20ANSS%20Nov%205/sweeps/27ca0onv' target=\"_blank\">https://wandb.ai/zekai-wang/RecurrentTPP%20on%20ANSS%20Nov%205/sweeps/27ca0onv</a>"
      ],
      "text/plain": [
       "<IPython.core.display.HTML object>"
      ]
     },
     "metadata": {},
     "output_type": "display_data"
    },
    {
     "data": {
      "text/html": [
       " View project at <a href='https://wandb.ai/zekai-wang/RecurrentTPP%20on%20ANSS%20Nov%205' target=\"_blank\">https://wandb.ai/zekai-wang/RecurrentTPP%20on%20ANSS%20Nov%205</a>"
      ],
      "text/plain": [
       "<IPython.core.display.HTML object>"
      ]
     },
     "metadata": {},
     "output_type": "display_data"
    },
    {
     "data": {
      "text/html": [
       " View sweep at <a href='https://wandb.ai/zekai-wang/RecurrentTPP%20on%20ANSS%20Nov%205/sweeps/27ca0onv' target=\"_blank\">https://wandb.ai/zekai-wang/RecurrentTPP%20on%20ANSS%20Nov%205/sweeps/27ca0onv</a>"
      ],
      "text/plain": [
       "<IPython.core.display.HTML object>"
      ]
     },
     "metadata": {},
     "output_type": "display_data"
    },
    {
     "data": {
      "text/html": [
       " View run at <a href='https://wandb.ai/zekai-wang/RecurrentTPP%20on%20ANSS%20Nov%205/runs/tay9ad36' target=\"_blank\">https://wandb.ai/zekai-wang/RecurrentTPP%20on%20ANSS%20Nov%205/runs/tay9ad36</a>"
      ],
      "text/plain": [
       "<IPython.core.display.HTML object>"
      ]
     },
     "metadata": {},
     "output_type": "display_data"
    },
    {
     "data": {
      "application/vnd.jupyter.widget-view+json": {
       "model_id": "a3f130212a4846ac9ddf28a8cffd6d7c",
       "version_major": 2,
       "version_minor": 0
      },
      "text/plain": [
       "  0%|          | 0/200 [00:00<?, ?it/s]"
      ]
     },
     "metadata": {},
     "output_type": "display_data"
    },
    {
     "data": {
      "text/html": [
       "Waiting for W&B process to finish... <strong style=\"color:green\">(success).</strong>"
      ],
      "text/plain": [
       "<IPython.core.display.HTML object>"
      ]
     },
     "metadata": {},
     "output_type": "display_data"
    },
    {
     "data": {
      "text/html": [
       "<style>\n",
       "    table.wandb td:nth-child(1) { padding: 0 10px; text-align: left ; width: auto;} td:nth-child(2) {text-align: left ; width: 100%}\n",
       "    .wandb-row { display: flex; flex-direction: row; flex-wrap: wrap; justify-content: flex-start; width: 100% }\n",
       "    .wandb-col { display: flex; flex-direction: column; flex-basis: 100%; flex: 1; padding: 10px; }\n",
       "    </style>\n",
       "<div class=\"wandb-row\"><div class=\"wandb-col\"><h3>Run history:</h3><br/><table class=\"wandb\"><tr><td>avg_test_loss</td><td>▁</td></tr></table><br/></div><div class=\"wandb-col\"><h3>Run summary:</h3><br/><table class=\"wandb\"><tr><td>avg_test_loss</td><td>0.16904</td></tr></table><br/></div></div>"
      ],
      "text/plain": [
       "<IPython.core.display.HTML object>"
      ]
     },
     "metadata": {},
     "output_type": "display_data"
    },
    {
     "data": {
      "text/html": [
       " View run <strong style=\"color:#cdcd00\">golden-sweep-39</strong> at: <a href='https://wandb.ai/zekai-wang/RecurrentTPP%20on%20ANSS%20Nov%205/runs/tay9ad36' target=\"_blank\">https://wandb.ai/zekai-wang/RecurrentTPP%20on%20ANSS%20Nov%205/runs/tay9ad36</a><br/>Synced 5 W&B file(s), 0 media file(s), 0 artifact file(s) and 0 other file(s)"
      ],
      "text/plain": [
       "<IPython.core.display.HTML object>"
      ]
     },
     "metadata": {},
     "output_type": "display_data"
    },
    {
     "data": {
      "text/html": [
       "Find logs at: <code>./wandb/run-20231105_231124-tay9ad36/logs</code>"
      ],
      "text/plain": [
       "<IPython.core.display.HTML object>"
      ]
     },
     "metadata": {},
     "output_type": "display_data"
    },
    {
     "name": "stderr",
     "output_type": "stream",
     "text": [
      "\u001b[34m\u001b[1mwandb\u001b[0m: Agent Starting Run: fdhl65z7 with config:\n",
      "\u001b[34m\u001b[1mwandb\u001b[0m: \tbatch_size: 8\n",
      "\u001b[34m\u001b[1mwandb\u001b[0m: \tbetas: [0.9, 0.999]\n",
      "\u001b[34m\u001b[1mwandb\u001b[0m: \tcontext_size: 32\n",
      "\u001b[34m\u001b[1mwandb\u001b[0m: \tdropout_proba: 0.2\n",
      "\u001b[34m\u001b[1mwandb\u001b[0m: \tlr: 0.01\n",
      "\u001b[34m\u001b[1mwandb\u001b[0m: \tnum_components: 8\n",
      "\u001b[34m\u001b[1mwandb\u001b[0m: \trnn_type: LSTM\n",
      "\u001b[34m\u001b[1mwandb\u001b[0m: \tweight_decay: 0.05\n"
     ]
    },
    {
     "data": {
      "text/html": [
       "Tracking run with wandb version 0.15.12"
      ],
      "text/plain": [
       "<IPython.core.display.HTML object>"
      ]
     },
     "metadata": {},
     "output_type": "display_data"
    },
    {
     "data": {
      "text/html": [
       "Run data is saved locally in <code>/home/zekai/repos/recast/notebooks/Zekai/hyperparameter_sweep/wandb/run-20231105_231256-fdhl65z7</code>"
      ],
      "text/plain": [
       "<IPython.core.display.HTML object>"
      ]
     },
     "metadata": {},
     "output_type": "display_data"
    },
    {
     "data": {
      "text/html": [
       "Syncing run <strong><a href='https://wandb.ai/zekai-wang/RecurrentTPP%20on%20ANSS%20Nov%205/runs/fdhl65z7' target=\"_blank\">autumn-sweep-40</a></strong> to <a href='https://wandb.ai/zekai-wang/RecurrentTPP%20on%20ANSS%20Nov%205' target=\"_blank\">Weights & Biases</a> (<a href='https://wandb.me/run' target=\"_blank\">docs</a>)<br/>Sweep page: <a href='https://wandb.ai/zekai-wang/RecurrentTPP%20on%20ANSS%20Nov%205/sweeps/27ca0onv' target=\"_blank\">https://wandb.ai/zekai-wang/RecurrentTPP%20on%20ANSS%20Nov%205/sweeps/27ca0onv</a>"
      ],
      "text/plain": [
       "<IPython.core.display.HTML object>"
      ]
     },
     "metadata": {},
     "output_type": "display_data"
    },
    {
     "data": {
      "text/html": [
       " View project at <a href='https://wandb.ai/zekai-wang/RecurrentTPP%20on%20ANSS%20Nov%205' target=\"_blank\">https://wandb.ai/zekai-wang/RecurrentTPP%20on%20ANSS%20Nov%205</a>"
      ],
      "text/plain": [
       "<IPython.core.display.HTML object>"
      ]
     },
     "metadata": {},
     "output_type": "display_data"
    },
    {
     "data": {
      "text/html": [
       " View sweep at <a href='https://wandb.ai/zekai-wang/RecurrentTPP%20on%20ANSS%20Nov%205/sweeps/27ca0onv' target=\"_blank\">https://wandb.ai/zekai-wang/RecurrentTPP%20on%20ANSS%20Nov%205/sweeps/27ca0onv</a>"
      ],
      "text/plain": [
       "<IPython.core.display.HTML object>"
      ]
     },
     "metadata": {},
     "output_type": "display_data"
    },
    {
     "data": {
      "text/html": [
       " View run at <a href='https://wandb.ai/zekai-wang/RecurrentTPP%20on%20ANSS%20Nov%205/runs/fdhl65z7' target=\"_blank\">https://wandb.ai/zekai-wang/RecurrentTPP%20on%20ANSS%20Nov%205/runs/fdhl65z7</a>"
      ],
      "text/plain": [
       "<IPython.core.display.HTML object>"
      ]
     },
     "metadata": {},
     "output_type": "display_data"
    },
    {
     "data": {
      "application/vnd.jupyter.widget-view+json": {
       "model_id": "36a6879b19454ebc968325a4666f16f2",
       "version_major": 2,
       "version_minor": 0
      },
      "text/plain": [
       "  0%|          | 0/200 [00:00<?, ?it/s]"
      ]
     },
     "metadata": {},
     "output_type": "display_data"
    },
    {
     "data": {
      "text/html": [
       "Waiting for W&B process to finish... <strong style=\"color:green\">(success).</strong>"
      ],
      "text/plain": [
       "<IPython.core.display.HTML object>"
      ]
     },
     "metadata": {},
     "output_type": "display_data"
    },
    {
     "data": {
      "application/vnd.jupyter.widget-view+json": {
       "model_id": "f1030432f9fb477ba553318c5b262137",
       "version_major": 2,
       "version_minor": 0
      },
      "text/plain": [
       "VBox(children=(Label(value='0.003 MB of 0.018 MB uploaded (0.000 MB deduped)\\r'), FloatProgress(value=0.192756…"
      ]
     },
     "metadata": {},
     "output_type": "display_data"
    },
    {
     "data": {
      "text/html": [
       "<style>\n",
       "    table.wandb td:nth-child(1) { padding: 0 10px; text-align: left ; width: auto;} td:nth-child(2) {text-align: left ; width: 100%}\n",
       "    .wandb-row { display: flex; flex-direction: row; flex-wrap: wrap; justify-content: flex-start; width: 100% }\n",
       "    .wandb-col { display: flex; flex-direction: column; flex-basis: 100%; flex: 1; padding: 10px; }\n",
       "    </style>\n",
       "<div class=\"wandb-row\"><div class=\"wandb-col\"><h3>Run history:</h3><br/><table class=\"wandb\"><tr><td>avg_test_loss</td><td>▁</td></tr></table><br/></div><div class=\"wandb-col\"><h3>Run summary:</h3><br/><table class=\"wandb\"><tr><td>avg_test_loss</td><td>0.1782</td></tr></table><br/></div></div>"
      ],
      "text/plain": [
       "<IPython.core.display.HTML object>"
      ]
     },
     "metadata": {},
     "output_type": "display_data"
    },
    {
     "data": {
      "text/html": [
       " View run <strong style=\"color:#cdcd00\">autumn-sweep-40</strong> at: <a href='https://wandb.ai/zekai-wang/RecurrentTPP%20on%20ANSS%20Nov%205/runs/fdhl65z7' target=\"_blank\">https://wandb.ai/zekai-wang/RecurrentTPP%20on%20ANSS%20Nov%205/runs/fdhl65z7</a><br/>Synced 5 W&B file(s), 0 media file(s), 0 artifact file(s) and 0 other file(s)"
      ],
      "text/plain": [
       "<IPython.core.display.HTML object>"
      ]
     },
     "metadata": {},
     "output_type": "display_data"
    },
    {
     "data": {
      "text/html": [
       "Find logs at: <code>./wandb/run-20231105_231256-fdhl65z7/logs</code>"
      ],
      "text/plain": [
       "<IPython.core.display.HTML object>"
      ]
     },
     "metadata": {},
     "output_type": "display_data"
    },
    {
     "name": "stderr",
     "output_type": "stream",
     "text": [
      "\u001b[34m\u001b[1mwandb\u001b[0m: Agent Starting Run: sb3drlqw with config:\n",
      "\u001b[34m\u001b[1mwandb\u001b[0m: \tbatch_size: 16\n",
      "\u001b[34m\u001b[1mwandb\u001b[0m: \tbetas: [0.9, 0.999]\n",
      "\u001b[34m\u001b[1mwandb\u001b[0m: \tcontext_size: 64\n",
      "\u001b[34m\u001b[1mwandb\u001b[0m: \tdropout_proba: 0.5\n",
      "\u001b[34m\u001b[1mwandb\u001b[0m: \tlr: 0.02\n",
      "\u001b[34m\u001b[1mwandb\u001b[0m: \tnum_components: 64\n",
      "\u001b[34m\u001b[1mwandb\u001b[0m: \trnn_type: LSTM\n",
      "\u001b[34m\u001b[1mwandb\u001b[0m: \tweight_decay: 0\n"
     ]
    },
    {
     "data": {
      "text/html": [
       "Tracking run with wandb version 0.15.12"
      ],
      "text/plain": [
       "<IPython.core.display.HTML object>"
      ]
     },
     "metadata": {},
     "output_type": "display_data"
    },
    {
     "data": {
      "text/html": [
       "Run data is saved locally in <code>/home/zekai/repos/recast/notebooks/Zekai/hyperparameter_sweep/wandb/run-20231105_231738-sb3drlqw</code>"
      ],
      "text/plain": [
       "<IPython.core.display.HTML object>"
      ]
     },
     "metadata": {},
     "output_type": "display_data"
    },
    {
     "data": {
      "text/html": [
       "Syncing run <strong><a href='https://wandb.ai/zekai-wang/RecurrentTPP%20on%20ANSS%20Nov%205/runs/sb3drlqw' target=\"_blank\">ruby-sweep-41</a></strong> to <a href='https://wandb.ai/zekai-wang/RecurrentTPP%20on%20ANSS%20Nov%205' target=\"_blank\">Weights & Biases</a> (<a href='https://wandb.me/run' target=\"_blank\">docs</a>)<br/>Sweep page: <a href='https://wandb.ai/zekai-wang/RecurrentTPP%20on%20ANSS%20Nov%205/sweeps/27ca0onv' target=\"_blank\">https://wandb.ai/zekai-wang/RecurrentTPP%20on%20ANSS%20Nov%205/sweeps/27ca0onv</a>"
      ],
      "text/plain": [
       "<IPython.core.display.HTML object>"
      ]
     },
     "metadata": {},
     "output_type": "display_data"
    },
    {
     "data": {
      "text/html": [
       " View project at <a href='https://wandb.ai/zekai-wang/RecurrentTPP%20on%20ANSS%20Nov%205' target=\"_blank\">https://wandb.ai/zekai-wang/RecurrentTPP%20on%20ANSS%20Nov%205</a>"
      ],
      "text/plain": [
       "<IPython.core.display.HTML object>"
      ]
     },
     "metadata": {},
     "output_type": "display_data"
    },
    {
     "data": {
      "text/html": [
       " View sweep at <a href='https://wandb.ai/zekai-wang/RecurrentTPP%20on%20ANSS%20Nov%205/sweeps/27ca0onv' target=\"_blank\">https://wandb.ai/zekai-wang/RecurrentTPP%20on%20ANSS%20Nov%205/sweeps/27ca0onv</a>"
      ],
      "text/plain": [
       "<IPython.core.display.HTML object>"
      ]
     },
     "metadata": {},
     "output_type": "display_data"
    },
    {
     "data": {
      "text/html": [
       " View run at <a href='https://wandb.ai/zekai-wang/RecurrentTPP%20on%20ANSS%20Nov%205/runs/sb3drlqw' target=\"_blank\">https://wandb.ai/zekai-wang/RecurrentTPP%20on%20ANSS%20Nov%205/runs/sb3drlqw</a>"
      ],
      "text/plain": [
       "<IPython.core.display.HTML object>"
      ]
     },
     "metadata": {},
     "output_type": "display_data"
    },
    {
     "data": {
      "application/vnd.jupyter.widget-view+json": {
       "model_id": "a4a1e97b1fde41f0bc7390ed3d26299b",
       "version_major": 2,
       "version_minor": 0
      },
      "text/plain": [
       "  0%|          | 0/200 [00:00<?, ?it/s]"
      ]
     },
     "metadata": {},
     "output_type": "display_data"
    },
    {
     "name": "stdout",
     "output_type": "stream",
     "text": [
      "Expected parameter scale (Tensor of shape (16, 1539, 64)) of distribution Weibull(scale: torch.Size([16, 1539, 64]), shape: torch.Size([16, 1539, 64])) to satisfy the constraint GreaterThan(lower_bound=0.0), but found invalid values:\n",
      "tensor([[[1.1582, 2.9449, 0.2962,  ..., 0.4086, 0.4235, 0.1571],\n",
      "         [   nan,    nan,    nan,  ...,    nan,    nan,    nan],\n",
      "         [   nan,    nan,    nan,  ...,    nan,    nan,    nan],\n",
      "         ...,\n",
      "         [   nan,    nan,    nan,  ...,    nan,    nan,    nan],\n",
      "         [   nan,    nan,    nan,  ...,    nan,    nan,    nan],\n",
      "         [   nan,    nan,    nan,  ...,    nan,    nan,    nan]],\n",
      "\n",
      "        [[1.1582, 2.9449, 0.2962,  ..., 0.4086, 0.4235, 0.1571],\n",
      "         [   nan,    nan,    nan,  ...,    nan,    nan,    nan],\n",
      "         [   nan,    nan,    nan,  ...,    nan,    nan,    nan],\n",
      "         ...,\n",
      "         [   nan,    nan,    nan,  ...,    nan,    nan,    nan],\n",
      "         [   nan,    nan,    nan,  ...,    nan,    nan,    nan],\n",
      "         [   nan,    nan,    nan,  ...,    nan,    nan,    nan]],\n",
      "\n",
      "        [[1.1582, 2.9449, 0.2962,  ..., 0.4086, 0.4235, 0.1571],\n",
      "         [   nan,    nan,    nan,  ...,    nan,    nan,    nan],\n",
      "         [   nan,    nan,    nan,  ...,    nan,    nan,    nan],\n",
      "         ...,\n",
      "         [   nan,    nan,    nan,  ...,    nan,    nan,    nan],\n",
      "         [   nan,    nan,    nan,  ...,    nan,    nan,    nan],\n",
      "         [   nan,    nan,    nan,  ...,    nan,    nan,    nan]],\n",
      "\n",
      "        ...,\n",
      "\n",
      "        [[1.1582, 2.9449, 0.2962,  ..., 0.4086, 0.4235, 0.1571],\n",
      "         [   nan,    nan,    nan,  ...,    nan,    nan,    nan],\n",
      "         [   nan,    nan,    nan,  ...,    nan,    nan,    nan],\n",
      "         ...,\n",
      "         [   nan,    nan,    nan,  ...,    nan,    nan,    nan],\n",
      "         [   nan,    nan,    nan,  ...,    nan,    nan,    nan],\n",
      "         [   nan,    nan,    nan,  ...,    nan,    nan,    nan]],\n",
      "\n",
      "        [[1.1582, 2.9449, 0.2962,  ..., 0.4086, 0.4235, 0.1571],\n",
      "         [   nan,    nan,    nan,  ...,    nan,    nan,    nan],\n",
      "         [   nan,    nan,    nan,  ...,    nan,    nan,    nan],\n",
      "         ...,\n",
      "         [   nan,    nan,    nan,  ...,    nan,    nan,    nan],\n",
      "         [   nan,    nan,    nan,  ...,    nan,    nan,    nan],\n",
      "         [   nan,    nan,    nan,  ...,    nan,    nan,    nan]],\n",
      "\n",
      "        [[1.1582, 2.9449, 0.2962,  ..., 0.4086, 0.4235, 0.1571],\n",
      "         [   nan,    nan,    nan,  ...,    nan,    nan,    nan],\n",
      "         [   nan,    nan,    nan,  ...,    nan,    nan,    nan],\n",
      "         ...,\n",
      "         [   nan,    nan,    nan,  ...,    nan,    nan,    nan],\n",
      "         [   nan,    nan,    nan,  ...,    nan,    nan,    nan],\n",
      "         [   nan,    nan,    nan,  ...,    nan,    nan,    nan]]],\n",
      "       device='cuda:0', grad_fn=<SoftplusBackward0>)\n"
     ]
    },
    {
     "data": {
      "text/html": [
       "Waiting for W&B process to finish... <strong style=\"color:green\">(success).</strong>"
      ],
      "text/plain": [
       "<IPython.core.display.HTML object>"
      ]
     },
     "metadata": {},
     "output_type": "display_data"
    },
    {
     "data": {
      "text/html": [
       "<style>\n",
       "    table.wandb td:nth-child(1) { padding: 0 10px; text-align: left ; width: auto;} td:nth-child(2) {text-align: left ; width: 100%}\n",
       "    .wandb-row { display: flex; flex-direction: row; flex-wrap: wrap; justify-content: flex-start; width: 100% }\n",
       "    .wandb-col { display: flex; flex-direction: column; flex-basis: 100%; flex: 1; padding: 10px; }\n",
       "    </style>\n",
       "<div class=\"wandb-row\"><div class=\"wandb-col\"><h3>Run summary:</h3><br/><table class=\"wandb\"><tr><td>avg_test_loss</td><td>nan</td></tr></table><br/></div></div>"
      ],
      "text/plain": [
       "<IPython.core.display.HTML object>"
      ]
     },
     "metadata": {},
     "output_type": "display_data"
    },
    {
     "data": {
      "text/html": [
       " View run <strong style=\"color:#cdcd00\">ruby-sweep-41</strong> at: <a href='https://wandb.ai/zekai-wang/RecurrentTPP%20on%20ANSS%20Nov%205/runs/sb3drlqw' target=\"_blank\">https://wandb.ai/zekai-wang/RecurrentTPP%20on%20ANSS%20Nov%205/runs/sb3drlqw</a><br/>Synced 6 W&B file(s), 0 media file(s), 0 artifact file(s) and 0 other file(s)"
      ],
      "text/plain": [
       "<IPython.core.display.HTML object>"
      ]
     },
     "metadata": {},
     "output_type": "display_data"
    },
    {
     "data": {
      "text/html": [
       "Find logs at: <code>./wandb/run-20231105_231738-sb3drlqw/logs</code>"
      ],
      "text/plain": [
       "<IPython.core.display.HTML object>"
      ]
     },
     "metadata": {},
     "output_type": "display_data"
    },
    {
     "name": "stderr",
     "output_type": "stream",
     "text": [
      "\u001b[34m\u001b[1mwandb\u001b[0m: Agent Starting Run: wfb0gnkh with config:\n",
      "\u001b[34m\u001b[1mwandb\u001b[0m: \tbatch_size: 128\n",
      "\u001b[34m\u001b[1mwandb\u001b[0m: \tbetas: [0.9, 0.999]\n",
      "\u001b[34m\u001b[1mwandb\u001b[0m: \tcontext_size: 64\n",
      "\u001b[34m\u001b[1mwandb\u001b[0m: \tdropout_proba: 0.4\n",
      "\u001b[34m\u001b[1mwandb\u001b[0m: \tlr: 0.002\n",
      "\u001b[34m\u001b[1mwandb\u001b[0m: \tnum_components: 32\n",
      "\u001b[34m\u001b[1mwandb\u001b[0m: \trnn_type: RNN\n",
      "\u001b[34m\u001b[1mwandb\u001b[0m: \tweight_decay: 0.005\n"
     ]
    },
    {
     "data": {
      "text/html": [
       "Tracking run with wandb version 0.15.12"
      ],
      "text/plain": [
       "<IPython.core.display.HTML object>"
      ]
     },
     "metadata": {},
     "output_type": "display_data"
    },
    {
     "data": {
      "text/html": [
       "Run data is saved locally in <code>/home/zekai/repos/recast/notebooks/Zekai/hyperparameter_sweep/wandb/run-20231105_231829-wfb0gnkh</code>"
      ],
      "text/plain": [
       "<IPython.core.display.HTML object>"
      ]
     },
     "metadata": {},
     "output_type": "display_data"
    },
    {
     "data": {
      "text/html": [
       "Syncing run <strong><a href='https://wandb.ai/zekai-wang/RecurrentTPP%20on%20ANSS%20Nov%205/runs/wfb0gnkh' target=\"_blank\">kind-sweep-42</a></strong> to <a href='https://wandb.ai/zekai-wang/RecurrentTPP%20on%20ANSS%20Nov%205' target=\"_blank\">Weights & Biases</a> (<a href='https://wandb.me/run' target=\"_blank\">docs</a>)<br/>Sweep page: <a href='https://wandb.ai/zekai-wang/RecurrentTPP%20on%20ANSS%20Nov%205/sweeps/27ca0onv' target=\"_blank\">https://wandb.ai/zekai-wang/RecurrentTPP%20on%20ANSS%20Nov%205/sweeps/27ca0onv</a>"
      ],
      "text/plain": [
       "<IPython.core.display.HTML object>"
      ]
     },
     "metadata": {},
     "output_type": "display_data"
    },
    {
     "data": {
      "text/html": [
       " View project at <a href='https://wandb.ai/zekai-wang/RecurrentTPP%20on%20ANSS%20Nov%205' target=\"_blank\">https://wandb.ai/zekai-wang/RecurrentTPP%20on%20ANSS%20Nov%205</a>"
      ],
      "text/plain": [
       "<IPython.core.display.HTML object>"
      ]
     },
     "metadata": {},
     "output_type": "display_data"
    },
    {
     "data": {
      "text/html": [
       " View sweep at <a href='https://wandb.ai/zekai-wang/RecurrentTPP%20on%20ANSS%20Nov%205/sweeps/27ca0onv' target=\"_blank\">https://wandb.ai/zekai-wang/RecurrentTPP%20on%20ANSS%20Nov%205/sweeps/27ca0onv</a>"
      ],
      "text/plain": [
       "<IPython.core.display.HTML object>"
      ]
     },
     "metadata": {},
     "output_type": "display_data"
    },
    {
     "data": {
      "text/html": [
       " View run at <a href='https://wandb.ai/zekai-wang/RecurrentTPP%20on%20ANSS%20Nov%205/runs/wfb0gnkh' target=\"_blank\">https://wandb.ai/zekai-wang/RecurrentTPP%20on%20ANSS%20Nov%205/runs/wfb0gnkh</a>"
      ],
      "text/plain": [
       "<IPython.core.display.HTML object>"
      ]
     },
     "metadata": {},
     "output_type": "display_data"
    },
    {
     "data": {
      "application/vnd.jupyter.widget-view+json": {
       "model_id": "0805524e04ba403aab198933c8256979",
       "version_major": 2,
       "version_minor": 0
      },
      "text/plain": [
       "  0%|          | 0/200 [00:00<?, ?it/s]"
      ]
     },
     "metadata": {},
     "output_type": "display_data"
    },
    {
     "data": {
      "text/html": [
       "Waiting for W&B process to finish... <strong style=\"color:green\">(success).</strong>"
      ],
      "text/plain": [
       "<IPython.core.display.HTML object>"
      ]
     },
     "metadata": {},
     "output_type": "display_data"
    },
    {
     "data": {
      "text/html": [
       "<style>\n",
       "    table.wandb td:nth-child(1) { padding: 0 10px; text-align: left ; width: auto;} td:nth-child(2) {text-align: left ; width: 100%}\n",
       "    .wandb-row { display: flex; flex-direction: row; flex-wrap: wrap; justify-content: flex-start; width: 100% }\n",
       "    .wandb-col { display: flex; flex-direction: column; flex-basis: 100%; flex: 1; padding: 10px; }\n",
       "    </style>\n",
       "<div class=\"wandb-row\"><div class=\"wandb-col\"><h3>Run history:</h3><br/><table class=\"wandb\"><tr><td>avg_test_loss</td><td>▁</td></tr></table><br/></div><div class=\"wandb-col\"><h3>Run summary:</h3><br/><table class=\"wandb\"><tr><td>avg_test_loss</td><td>0.17601</td></tr></table><br/></div></div>"
      ],
      "text/plain": [
       "<IPython.core.display.HTML object>"
      ]
     },
     "metadata": {},
     "output_type": "display_data"
    },
    {
     "data": {
      "text/html": [
       " View run <strong style=\"color:#cdcd00\">kind-sweep-42</strong> at: <a href='https://wandb.ai/zekai-wang/RecurrentTPP%20on%20ANSS%20Nov%205/runs/wfb0gnkh' target=\"_blank\">https://wandb.ai/zekai-wang/RecurrentTPP%20on%20ANSS%20Nov%205/runs/wfb0gnkh</a><br/>Synced 5 W&B file(s), 0 media file(s), 0 artifact file(s) and 0 other file(s)"
      ],
      "text/plain": [
       "<IPython.core.display.HTML object>"
      ]
     },
     "metadata": {},
     "output_type": "display_data"
    },
    {
     "data": {
      "text/html": [
       "Find logs at: <code>./wandb/run-20231105_231829-wfb0gnkh/logs</code>"
      ],
      "text/plain": [
       "<IPython.core.display.HTML object>"
      ]
     },
     "metadata": {},
     "output_type": "display_data"
    },
    {
     "name": "stderr",
     "output_type": "stream",
     "text": [
      "\u001b[34m\u001b[1mwandb\u001b[0m: Agent Starting Run: cmibrula with config:\n",
      "\u001b[34m\u001b[1mwandb\u001b[0m: \tbatch_size: 16\n",
      "\u001b[34m\u001b[1mwandb\u001b[0m: \tbetas: [0.9, 0.999]\n",
      "\u001b[34m\u001b[1mwandb\u001b[0m: \tcontext_size: 8\n",
      "\u001b[34m\u001b[1mwandb\u001b[0m: \tdropout_proba: 0\n",
      "\u001b[34m\u001b[1mwandb\u001b[0m: \tlr: 0.005\n",
      "\u001b[34m\u001b[1mwandb\u001b[0m: \tnum_components: 64\n",
      "\u001b[34m\u001b[1mwandb\u001b[0m: \trnn_type: LSTM\n",
      "\u001b[34m\u001b[1mwandb\u001b[0m: \tweight_decay: 0.005\n"
     ]
    },
    {
     "data": {
      "text/html": [
       "Tracking run with wandb version 0.15.12"
      ],
      "text/plain": [
       "<IPython.core.display.HTML object>"
      ]
     },
     "metadata": {},
     "output_type": "display_data"
    },
    {
     "data": {
      "text/html": [
       "Run data is saved locally in <code>/home/zekai/repos/recast/notebooks/Zekai/hyperparameter_sweep/wandb/run-20231105_231940-cmibrula</code>"
      ],
      "text/plain": [
       "<IPython.core.display.HTML object>"
      ]
     },
     "metadata": {},
     "output_type": "display_data"
    },
    {
     "data": {
      "text/html": [
       "Syncing run <strong><a href='https://wandb.ai/zekai-wang/RecurrentTPP%20on%20ANSS%20Nov%205/runs/cmibrula' target=\"_blank\">peach-sweep-43</a></strong> to <a href='https://wandb.ai/zekai-wang/RecurrentTPP%20on%20ANSS%20Nov%205' target=\"_blank\">Weights & Biases</a> (<a href='https://wandb.me/run' target=\"_blank\">docs</a>)<br/>Sweep page: <a href='https://wandb.ai/zekai-wang/RecurrentTPP%20on%20ANSS%20Nov%205/sweeps/27ca0onv' target=\"_blank\">https://wandb.ai/zekai-wang/RecurrentTPP%20on%20ANSS%20Nov%205/sweeps/27ca0onv</a>"
      ],
      "text/plain": [
       "<IPython.core.display.HTML object>"
      ]
     },
     "metadata": {},
     "output_type": "display_data"
    },
    {
     "data": {
      "text/html": [
       " View project at <a href='https://wandb.ai/zekai-wang/RecurrentTPP%20on%20ANSS%20Nov%205' target=\"_blank\">https://wandb.ai/zekai-wang/RecurrentTPP%20on%20ANSS%20Nov%205</a>"
      ],
      "text/plain": [
       "<IPython.core.display.HTML object>"
      ]
     },
     "metadata": {},
     "output_type": "display_data"
    },
    {
     "data": {
      "text/html": [
       " View sweep at <a href='https://wandb.ai/zekai-wang/RecurrentTPP%20on%20ANSS%20Nov%205/sweeps/27ca0onv' target=\"_blank\">https://wandb.ai/zekai-wang/RecurrentTPP%20on%20ANSS%20Nov%205/sweeps/27ca0onv</a>"
      ],
      "text/plain": [
       "<IPython.core.display.HTML object>"
      ]
     },
     "metadata": {},
     "output_type": "display_data"
    },
    {
     "data": {
      "text/html": [
       " View run at <a href='https://wandb.ai/zekai-wang/RecurrentTPP%20on%20ANSS%20Nov%205/runs/cmibrula' target=\"_blank\">https://wandb.ai/zekai-wang/RecurrentTPP%20on%20ANSS%20Nov%205/runs/cmibrula</a>"
      ],
      "text/plain": [
       "<IPython.core.display.HTML object>"
      ]
     },
     "metadata": {},
     "output_type": "display_data"
    },
    {
     "data": {
      "application/vnd.jupyter.widget-view+json": {
       "model_id": "00a732c09e564af28dbce67d700017e9",
       "version_major": 2,
       "version_minor": 0
      },
      "text/plain": [
       "  0%|          | 0/200 [00:00<?, ?it/s]"
      ]
     },
     "metadata": {},
     "output_type": "display_data"
    },
    {
     "data": {
      "text/html": [
       "Waiting for W&B process to finish... <strong style=\"color:green\">(success).</strong>"
      ],
      "text/plain": [
       "<IPython.core.display.HTML object>"
      ]
     },
     "metadata": {},
     "output_type": "display_data"
    },
    {
     "data": {
      "text/html": [
       "<style>\n",
       "    table.wandb td:nth-child(1) { padding: 0 10px; text-align: left ; width: auto;} td:nth-child(2) {text-align: left ; width: 100%}\n",
       "    .wandb-row { display: flex; flex-direction: row; flex-wrap: wrap; justify-content: flex-start; width: 100% }\n",
       "    .wandb-col { display: flex; flex-direction: column; flex-basis: 100%; flex: 1; padding: 10px; }\n",
       "    </style>\n",
       "<div class=\"wandb-row\"><div class=\"wandb-col\"><h3>Run history:</h3><br/><table class=\"wandb\"><tr><td>avg_test_loss</td><td>▁</td></tr></table><br/></div><div class=\"wandb-col\"><h3>Run summary:</h3><br/><table class=\"wandb\"><tr><td>avg_test_loss</td><td>0.15735</td></tr></table><br/></div></div>"
      ],
      "text/plain": [
       "<IPython.core.display.HTML object>"
      ]
     },
     "metadata": {},
     "output_type": "display_data"
    },
    {
     "data": {
      "text/html": [
       " View run <strong style=\"color:#cdcd00\">peach-sweep-43</strong> at: <a href='https://wandb.ai/zekai-wang/RecurrentTPP%20on%20ANSS%20Nov%205/runs/cmibrula' target=\"_blank\">https://wandb.ai/zekai-wang/RecurrentTPP%20on%20ANSS%20Nov%205/runs/cmibrula</a><br/>Synced 5 W&B file(s), 0 media file(s), 0 artifact file(s) and 0 other file(s)"
      ],
      "text/plain": [
       "<IPython.core.display.HTML object>"
      ]
     },
     "metadata": {},
     "output_type": "display_data"
    },
    {
     "data": {
      "text/html": [
       "Find logs at: <code>./wandb/run-20231105_231940-cmibrula/logs</code>"
      ],
      "text/plain": [
       "<IPython.core.display.HTML object>"
      ]
     },
     "metadata": {},
     "output_type": "display_data"
    },
    {
     "name": "stderr",
     "output_type": "stream",
     "text": [
      "\u001b[34m\u001b[1mwandb\u001b[0m: Agent Starting Run: xbnoikwn with config:\n",
      "\u001b[34m\u001b[1mwandb\u001b[0m: \tbatch_size: 64\n",
      "\u001b[34m\u001b[1mwandb\u001b[0m: \tbetas: [0.9, 0.999]\n",
      "\u001b[34m\u001b[1mwandb\u001b[0m: \tcontext_size: 128\n",
      "\u001b[34m\u001b[1mwandb\u001b[0m: \tdropout_proba: 0.5\n",
      "\u001b[34m\u001b[1mwandb\u001b[0m: \tlr: 0.05\n",
      "\u001b[34m\u001b[1mwandb\u001b[0m: \tnum_components: 64\n",
      "\u001b[34m\u001b[1mwandb\u001b[0m: \trnn_type: LSTM\n",
      "\u001b[34m\u001b[1mwandb\u001b[0m: \tweight_decay: 0.02\n"
     ]
    },
    {
     "data": {
      "text/html": [
       "Tracking run with wandb version 0.15.12"
      ],
      "text/plain": [
       "<IPython.core.display.HTML object>"
      ]
     },
     "metadata": {},
     "output_type": "display_data"
    },
    {
     "data": {
      "text/html": [
       "Run data is saved locally in <code>/home/zekai/repos/recast/notebooks/Zekai/hyperparameter_sweep/wandb/run-20231105_232117-xbnoikwn</code>"
      ],
      "text/plain": [
       "<IPython.core.display.HTML object>"
      ]
     },
     "metadata": {},
     "output_type": "display_data"
    },
    {
     "data": {
      "text/html": [
       "Syncing run <strong><a href='https://wandb.ai/zekai-wang/RecurrentTPP%20on%20ANSS%20Nov%205/runs/xbnoikwn' target=\"_blank\">misty-sweep-44</a></strong> to <a href='https://wandb.ai/zekai-wang/RecurrentTPP%20on%20ANSS%20Nov%205' target=\"_blank\">Weights & Biases</a> (<a href='https://wandb.me/run' target=\"_blank\">docs</a>)<br/>Sweep page: <a href='https://wandb.ai/zekai-wang/RecurrentTPP%20on%20ANSS%20Nov%205/sweeps/27ca0onv' target=\"_blank\">https://wandb.ai/zekai-wang/RecurrentTPP%20on%20ANSS%20Nov%205/sweeps/27ca0onv</a>"
      ],
      "text/plain": [
       "<IPython.core.display.HTML object>"
      ]
     },
     "metadata": {},
     "output_type": "display_data"
    },
    {
     "data": {
      "text/html": [
       " View project at <a href='https://wandb.ai/zekai-wang/RecurrentTPP%20on%20ANSS%20Nov%205' target=\"_blank\">https://wandb.ai/zekai-wang/RecurrentTPP%20on%20ANSS%20Nov%205</a>"
      ],
      "text/plain": [
       "<IPython.core.display.HTML object>"
      ]
     },
     "metadata": {},
     "output_type": "display_data"
    },
    {
     "data": {
      "text/html": [
       " View sweep at <a href='https://wandb.ai/zekai-wang/RecurrentTPP%20on%20ANSS%20Nov%205/sweeps/27ca0onv' target=\"_blank\">https://wandb.ai/zekai-wang/RecurrentTPP%20on%20ANSS%20Nov%205/sweeps/27ca0onv</a>"
      ],
      "text/plain": [
       "<IPython.core.display.HTML object>"
      ]
     },
     "metadata": {},
     "output_type": "display_data"
    },
    {
     "data": {
      "text/html": [
       " View run at <a href='https://wandb.ai/zekai-wang/RecurrentTPP%20on%20ANSS%20Nov%205/runs/xbnoikwn' target=\"_blank\">https://wandb.ai/zekai-wang/RecurrentTPP%20on%20ANSS%20Nov%205/runs/xbnoikwn</a>"
      ],
      "text/plain": [
       "<IPython.core.display.HTML object>"
      ]
     },
     "metadata": {},
     "output_type": "display_data"
    },
    {
     "data": {
      "application/vnd.jupyter.widget-view+json": {
       "model_id": "b051178c42704dfdb7a484045760f2c2",
       "version_major": 2,
       "version_minor": 0
      },
      "text/plain": [
       "  0%|          | 0/200 [00:00<?, ?it/s]"
      ]
     },
     "metadata": {},
     "output_type": "display_data"
    },
    {
     "name": "stdout",
     "output_type": "stream",
     "text": [
      "Expected parameter scale (Tensor of shape (64, 2935, 64)) of distribution Weibull(scale: torch.Size([64, 2935, 64]), shape: torch.Size([64, 2935, 64])) to satisfy the constraint GreaterThan(lower_bound=0.0), but found invalid values:\n",
      "tensor([[[0.7034, 0.8726, 0.8387,  ..., 0.7350, 0.6769, 0.8187],\n",
      "         [   nan,    nan,    nan,  ...,    nan,    nan,    nan],\n",
      "         [   nan,    nan,    nan,  ...,    nan,    nan,    nan],\n",
      "         ...,\n",
      "         [   nan,    nan,    nan,  ...,    nan,    nan,    nan],\n",
      "         [   nan,    nan,    nan,  ...,    nan,    nan,    nan],\n",
      "         [   nan,    nan,    nan,  ...,    nan,    nan,    nan]],\n",
      "\n",
      "        [[0.7034, 0.8726, 0.8387,  ..., 0.7350, 0.6769, 0.8187],\n",
      "         [   nan,    nan,    nan,  ...,    nan,    nan,    nan],\n",
      "         [   nan,    nan,    nan,  ...,    nan,    nan,    nan],\n",
      "         ...,\n",
      "         [   nan,    nan,    nan,  ...,    nan,    nan,    nan],\n",
      "         [   nan,    nan,    nan,  ...,    nan,    nan,    nan],\n",
      "         [   nan,    nan,    nan,  ...,    nan,    nan,    nan]],\n",
      "\n",
      "        [[0.7034, 0.8726, 0.8387,  ..., 0.7350, 0.6769, 0.8187],\n",
      "         [   nan,    nan,    nan,  ...,    nan,    nan,    nan],\n",
      "         [   nan,    nan,    nan,  ...,    nan,    nan,    nan],\n",
      "         ...,\n",
      "         [   nan,    nan,    nan,  ...,    nan,    nan,    nan],\n",
      "         [   nan,    nan,    nan,  ...,    nan,    nan,    nan],\n",
      "         [   nan,    nan,    nan,  ...,    nan,    nan,    nan]],\n",
      "\n",
      "        ...,\n",
      "\n",
      "        [[0.7034, 0.8726, 0.8387,  ..., 0.7350, 0.6769, 0.8187],\n",
      "         [   nan,    nan,    nan,  ...,    nan,    nan,    nan],\n",
      "         [   nan,    nan,    nan,  ...,    nan,    nan,    nan],\n",
      "         ...,\n",
      "         [   nan,    nan,    nan,  ...,    nan,    nan,    nan],\n",
      "         [   nan,    nan,    nan,  ...,    nan,    nan,    nan],\n",
      "         [   nan,    nan,    nan,  ...,    nan,    nan,    nan]],\n",
      "\n",
      "        [[0.7034, 0.8726, 0.8387,  ..., 0.7350, 0.6769, 0.8187],\n",
      "         [   nan,    nan,    nan,  ...,    nan,    nan,    nan],\n",
      "         [   nan,    nan,    nan,  ...,    nan,    nan,    nan],\n",
      "         ...,\n",
      "         [   nan,    nan,    nan,  ...,    nan,    nan,    nan],\n",
      "         [   nan,    nan,    nan,  ...,    nan,    nan,    nan],\n",
      "         [   nan,    nan,    nan,  ...,    nan,    nan,    nan]],\n",
      "\n",
      "        [[0.7034, 0.8726, 0.8387,  ..., 0.7350, 0.6769, 0.8187],\n",
      "         [   nan,    nan,    nan,  ...,    nan,    nan,    nan],\n",
      "         [   nan,    nan,    nan,  ...,    nan,    nan,    nan],\n",
      "         ...,\n",
      "         [   nan,    nan,    nan,  ...,    nan,    nan,    nan],\n",
      "         [   nan,    nan,    nan,  ...,    nan,    nan,    nan],\n",
      "         [   nan,    nan,    nan,  ...,    nan,    nan,    nan]]],\n",
      "       device='cuda:0', grad_fn=<SoftplusBackward0>)\n"
     ]
    },
    {
     "data": {
      "text/html": [
       "Waiting for W&B process to finish... <strong style=\"color:green\">(success).</strong>"
      ],
      "text/plain": [
       "<IPython.core.display.HTML object>"
      ]
     },
     "metadata": {},
     "output_type": "display_data"
    },
    {
     "data": {
      "text/html": [
       "<style>\n",
       "    table.wandb td:nth-child(1) { padding: 0 10px; text-align: left ; width: auto;} td:nth-child(2) {text-align: left ; width: 100%}\n",
       "    .wandb-row { display: flex; flex-direction: row; flex-wrap: wrap; justify-content: flex-start; width: 100% }\n",
       "    .wandb-col { display: flex; flex-direction: column; flex-basis: 100%; flex: 1; padding: 10px; }\n",
       "    </style>\n",
       "<div class=\"wandb-row\"><div class=\"wandb-col\"><h3>Run summary:</h3><br/><table class=\"wandb\"><tr><td>avg_test_loss</td><td>nan</td></tr></table><br/></div></div>"
      ],
      "text/plain": [
       "<IPython.core.display.HTML object>"
      ]
     },
     "metadata": {},
     "output_type": "display_data"
    },
    {
     "data": {
      "text/html": [
       " View run <strong style=\"color:#cdcd00\">misty-sweep-44</strong> at: <a href='https://wandb.ai/zekai-wang/RecurrentTPP%20on%20ANSS%20Nov%205/runs/xbnoikwn' target=\"_blank\">https://wandb.ai/zekai-wang/RecurrentTPP%20on%20ANSS%20Nov%205/runs/xbnoikwn</a><br/>Synced 6 W&B file(s), 0 media file(s), 0 artifact file(s) and 0 other file(s)"
      ],
      "text/plain": [
       "<IPython.core.display.HTML object>"
      ]
     },
     "metadata": {},
     "output_type": "display_data"
    },
    {
     "data": {
      "text/html": [
       "Find logs at: <code>./wandb/run-20231105_232117-xbnoikwn/logs</code>"
      ],
      "text/plain": [
       "<IPython.core.display.HTML object>"
      ]
     },
     "metadata": {},
     "output_type": "display_data"
    },
    {
     "name": "stderr",
     "output_type": "stream",
     "text": [
      "\u001b[34m\u001b[1mwandb\u001b[0m: Agent Starting Run: euw5br61 with config:\n",
      "\u001b[34m\u001b[1mwandb\u001b[0m: \tbatch_size: 128\n",
      "\u001b[34m\u001b[1mwandb\u001b[0m: \tbetas: [0.9, 0.999]\n",
      "\u001b[34m\u001b[1mwandb\u001b[0m: \tcontext_size: 8\n",
      "\u001b[34m\u001b[1mwandb\u001b[0m: \tdropout_proba: 0.3\n",
      "\u001b[34m\u001b[1mwandb\u001b[0m: \tlr: 0.01\n",
      "\u001b[34m\u001b[1mwandb\u001b[0m: \tnum_components: 32\n",
      "\u001b[34m\u001b[1mwandb\u001b[0m: \trnn_type: LSTM\n",
      "\u001b[34m\u001b[1mwandb\u001b[0m: \tweight_decay: 0.001\n"
     ]
    },
    {
     "data": {
      "text/html": [
       "Tracking run with wandb version 0.15.12"
      ],
      "text/plain": [
       "<IPython.core.display.HTML object>"
      ]
     },
     "metadata": {},
     "output_type": "display_data"
    },
    {
     "data": {
      "text/html": [
       "Run data is saved locally in <code>/home/zekai/repos/recast/notebooks/Zekai/hyperparameter_sweep/wandb/run-20231105_232132-euw5br61</code>"
      ],
      "text/plain": [
       "<IPython.core.display.HTML object>"
      ]
     },
     "metadata": {},
     "output_type": "display_data"
    },
    {
     "data": {
      "text/html": [
       "Syncing run <strong><a href='https://wandb.ai/zekai-wang/RecurrentTPP%20on%20ANSS%20Nov%205/runs/euw5br61' target=\"_blank\">splendid-sweep-45</a></strong> to <a href='https://wandb.ai/zekai-wang/RecurrentTPP%20on%20ANSS%20Nov%205' target=\"_blank\">Weights & Biases</a> (<a href='https://wandb.me/run' target=\"_blank\">docs</a>)<br/>Sweep page: <a href='https://wandb.ai/zekai-wang/RecurrentTPP%20on%20ANSS%20Nov%205/sweeps/27ca0onv' target=\"_blank\">https://wandb.ai/zekai-wang/RecurrentTPP%20on%20ANSS%20Nov%205/sweeps/27ca0onv</a>"
      ],
      "text/plain": [
       "<IPython.core.display.HTML object>"
      ]
     },
     "metadata": {},
     "output_type": "display_data"
    },
    {
     "data": {
      "text/html": [
       " View project at <a href='https://wandb.ai/zekai-wang/RecurrentTPP%20on%20ANSS%20Nov%205' target=\"_blank\">https://wandb.ai/zekai-wang/RecurrentTPP%20on%20ANSS%20Nov%205</a>"
      ],
      "text/plain": [
       "<IPython.core.display.HTML object>"
      ]
     },
     "metadata": {},
     "output_type": "display_data"
    },
    {
     "data": {
      "text/html": [
       " View sweep at <a href='https://wandb.ai/zekai-wang/RecurrentTPP%20on%20ANSS%20Nov%205/sweeps/27ca0onv' target=\"_blank\">https://wandb.ai/zekai-wang/RecurrentTPP%20on%20ANSS%20Nov%205/sweeps/27ca0onv</a>"
      ],
      "text/plain": [
       "<IPython.core.display.HTML object>"
      ]
     },
     "metadata": {},
     "output_type": "display_data"
    },
    {
     "data": {
      "text/html": [
       " View run at <a href='https://wandb.ai/zekai-wang/RecurrentTPP%20on%20ANSS%20Nov%205/runs/euw5br61' target=\"_blank\">https://wandb.ai/zekai-wang/RecurrentTPP%20on%20ANSS%20Nov%205/runs/euw5br61</a>"
      ],
      "text/plain": [
       "<IPython.core.display.HTML object>"
      ]
     },
     "metadata": {},
     "output_type": "display_data"
    },
    {
     "data": {
      "application/vnd.jupyter.widget-view+json": {
       "model_id": "ebf2fe8992f741cbafe2b6b74ab3cf4e",
       "version_major": 2,
       "version_minor": 0
      },
      "text/plain": [
       "  0%|          | 0/200 [00:00<?, ?it/s]"
      ]
     },
     "metadata": {},
     "output_type": "display_data"
    },
    {
     "data": {
      "text/html": [
       "Waiting for W&B process to finish... <strong style=\"color:green\">(success).</strong>"
      ],
      "text/plain": [
       "<IPython.core.display.HTML object>"
      ]
     },
     "metadata": {},
     "output_type": "display_data"
    },
    {
     "data": {
      "text/html": [
       "<style>\n",
       "    table.wandb td:nth-child(1) { padding: 0 10px; text-align: left ; width: auto;} td:nth-child(2) {text-align: left ; width: 100%}\n",
       "    .wandb-row { display: flex; flex-direction: row; flex-wrap: wrap; justify-content: flex-start; width: 100% }\n",
       "    .wandb-col { display: flex; flex-direction: column; flex-basis: 100%; flex: 1; padding: 10px; }\n",
       "    </style>\n",
       "<div class=\"wandb-row\"><div class=\"wandb-col\"><h3>Run history:</h3><br/><table class=\"wandb\"><tr><td>avg_test_loss</td><td>▁</td></tr></table><br/></div><div class=\"wandb-col\"><h3>Run summary:</h3><br/><table class=\"wandb\"><tr><td>avg_test_loss</td><td>0.17486</td></tr></table><br/></div></div>"
      ],
      "text/plain": [
       "<IPython.core.display.HTML object>"
      ]
     },
     "metadata": {},
     "output_type": "display_data"
    },
    {
     "data": {
      "text/html": [
       " View run <strong style=\"color:#cdcd00\">splendid-sweep-45</strong> at: <a href='https://wandb.ai/zekai-wang/RecurrentTPP%20on%20ANSS%20Nov%205/runs/euw5br61' target=\"_blank\">https://wandb.ai/zekai-wang/RecurrentTPP%20on%20ANSS%20Nov%205/runs/euw5br61</a><br/>Synced 5 W&B file(s), 0 media file(s), 0 artifact file(s) and 0 other file(s)"
      ],
      "text/plain": [
       "<IPython.core.display.HTML object>"
      ]
     },
     "metadata": {},
     "output_type": "display_data"
    },
    {
     "data": {
      "text/html": [
       "Find logs at: <code>./wandb/run-20231105_232132-euw5br61/logs</code>"
      ],
      "text/plain": [
       "<IPython.core.display.HTML object>"
      ]
     },
     "metadata": {},
     "output_type": "display_data"
    },
    {
     "name": "stderr",
     "output_type": "stream",
     "text": [
      "\u001b[34m\u001b[1mwandb\u001b[0m: Agent Starting Run: clhwfk4h with config:\n",
      "\u001b[34m\u001b[1mwandb\u001b[0m: \tbatch_size: 8\n",
      "\u001b[34m\u001b[1mwandb\u001b[0m: \tbetas: [0.9, 0.999]\n",
      "\u001b[34m\u001b[1mwandb\u001b[0m: \tcontext_size: 16\n",
      "\u001b[34m\u001b[1mwandb\u001b[0m: \tdropout_proba: 0.3\n",
      "\u001b[34m\u001b[1mwandb\u001b[0m: \tlr: 0.01\n",
      "\u001b[34m\u001b[1mwandb\u001b[0m: \tnum_components: 16\n",
      "\u001b[34m\u001b[1mwandb\u001b[0m: \trnn_type: LSTM\n",
      "\u001b[34m\u001b[1mwandb\u001b[0m: \tweight_decay: 0.05\n"
     ]
    },
    {
     "data": {
      "text/html": [
       "Tracking run with wandb version 0.15.12"
      ],
      "text/plain": [
       "<IPython.core.display.HTML object>"
      ]
     },
     "metadata": {},
     "output_type": "display_data"
    },
    {
     "data": {
      "text/html": [
       "Run data is saved locally in <code>/home/zekai/repos/recast/notebooks/Zekai/hyperparameter_sweep/wandb/run-20231105_232244-clhwfk4h</code>"
      ],
      "text/plain": [
       "<IPython.core.display.HTML object>"
      ]
     },
     "metadata": {},
     "output_type": "display_data"
    },
    {
     "data": {
      "text/html": [
       "Syncing run <strong><a href='https://wandb.ai/zekai-wang/RecurrentTPP%20on%20ANSS%20Nov%205/runs/clhwfk4h' target=\"_blank\">sleek-sweep-46</a></strong> to <a href='https://wandb.ai/zekai-wang/RecurrentTPP%20on%20ANSS%20Nov%205' target=\"_blank\">Weights & Biases</a> (<a href='https://wandb.me/run' target=\"_blank\">docs</a>)<br/>Sweep page: <a href='https://wandb.ai/zekai-wang/RecurrentTPP%20on%20ANSS%20Nov%205/sweeps/27ca0onv' target=\"_blank\">https://wandb.ai/zekai-wang/RecurrentTPP%20on%20ANSS%20Nov%205/sweeps/27ca0onv</a>"
      ],
      "text/plain": [
       "<IPython.core.display.HTML object>"
      ]
     },
     "metadata": {},
     "output_type": "display_data"
    },
    {
     "data": {
      "text/html": [
       " View project at <a href='https://wandb.ai/zekai-wang/RecurrentTPP%20on%20ANSS%20Nov%205' target=\"_blank\">https://wandb.ai/zekai-wang/RecurrentTPP%20on%20ANSS%20Nov%205</a>"
      ],
      "text/plain": [
       "<IPython.core.display.HTML object>"
      ]
     },
     "metadata": {},
     "output_type": "display_data"
    },
    {
     "data": {
      "text/html": [
       " View sweep at <a href='https://wandb.ai/zekai-wang/RecurrentTPP%20on%20ANSS%20Nov%205/sweeps/27ca0onv' target=\"_blank\">https://wandb.ai/zekai-wang/RecurrentTPP%20on%20ANSS%20Nov%205/sweeps/27ca0onv</a>"
      ],
      "text/plain": [
       "<IPython.core.display.HTML object>"
      ]
     },
     "metadata": {},
     "output_type": "display_data"
    },
    {
     "data": {
      "text/html": [
       " View run at <a href='https://wandb.ai/zekai-wang/RecurrentTPP%20on%20ANSS%20Nov%205/runs/clhwfk4h' target=\"_blank\">https://wandb.ai/zekai-wang/RecurrentTPP%20on%20ANSS%20Nov%205/runs/clhwfk4h</a>"
      ],
      "text/plain": [
       "<IPython.core.display.HTML object>"
      ]
     },
     "metadata": {},
     "output_type": "display_data"
    },
    {
     "data": {
      "application/vnd.jupyter.widget-view+json": {
       "model_id": "da990ace2f0f4973bc9f0dea1e89ea48",
       "version_major": 2,
       "version_minor": 0
      },
      "text/plain": [
       "  0%|          | 0/200 [00:00<?, ?it/s]"
      ]
     },
     "metadata": {},
     "output_type": "display_data"
    },
    {
     "data": {
      "text/html": [
       "Waiting for W&B process to finish... <strong style=\"color:green\">(success).</strong>"
      ],
      "text/plain": [
       "<IPython.core.display.HTML object>"
      ]
     },
     "metadata": {},
     "output_type": "display_data"
    },
    {
     "data": {
      "text/html": [
       "<style>\n",
       "    table.wandb td:nth-child(1) { padding: 0 10px; text-align: left ; width: auto;} td:nth-child(2) {text-align: left ; width: 100%}\n",
       "    .wandb-row { display: flex; flex-direction: row; flex-wrap: wrap; justify-content: flex-start; width: 100% }\n",
       "    .wandb-col { display: flex; flex-direction: column; flex-basis: 100%; flex: 1; padding: 10px; }\n",
       "    </style>\n",
       "<div class=\"wandb-row\"><div class=\"wandb-col\"><h3>Run history:</h3><br/><table class=\"wandb\"><tr><td>avg_test_loss</td><td>▁</td></tr></table><br/></div><div class=\"wandb-col\"><h3>Run summary:</h3><br/><table class=\"wandb\"><tr><td>avg_test_loss</td><td>0.16567</td></tr></table><br/></div></div>"
      ],
      "text/plain": [
       "<IPython.core.display.HTML object>"
      ]
     },
     "metadata": {},
     "output_type": "display_data"
    },
    {
     "data": {
      "text/html": [
       " View run <strong style=\"color:#cdcd00\">sleek-sweep-46</strong> at: <a href='https://wandb.ai/zekai-wang/RecurrentTPP%20on%20ANSS%20Nov%205/runs/clhwfk4h' target=\"_blank\">https://wandb.ai/zekai-wang/RecurrentTPP%20on%20ANSS%20Nov%205/runs/clhwfk4h</a><br/>Synced 5 W&B file(s), 0 media file(s), 0 artifact file(s) and 0 other file(s)"
      ],
      "text/plain": [
       "<IPython.core.display.HTML object>"
      ]
     },
     "metadata": {},
     "output_type": "display_data"
    },
    {
     "data": {
      "text/html": [
       "Find logs at: <code>./wandb/run-20231105_232244-clhwfk4h/logs</code>"
      ],
      "text/plain": [
       "<IPython.core.display.HTML object>"
      ]
     },
     "metadata": {},
     "output_type": "display_data"
    },
    {
     "name": "stderr",
     "output_type": "stream",
     "text": [
      "\u001b[34m\u001b[1mwandb\u001b[0m: Agent Starting Run: smkr3n9o with config:\n",
      "\u001b[34m\u001b[1mwandb\u001b[0m: \tbatch_size: 64\n",
      "\u001b[34m\u001b[1mwandb\u001b[0m: \tbetas: [0.9, 0.999]\n",
      "\u001b[34m\u001b[1mwandb\u001b[0m: \tcontext_size: 128\n",
      "\u001b[34m\u001b[1mwandb\u001b[0m: \tdropout_proba: 0.4\n",
      "\u001b[34m\u001b[1mwandb\u001b[0m: \tlr: 0.002\n",
      "\u001b[34m\u001b[1mwandb\u001b[0m: \tnum_components: 64\n",
      "\u001b[34m\u001b[1mwandb\u001b[0m: \trnn_type: GRU\n",
      "\u001b[34m\u001b[1mwandb\u001b[0m: \tweight_decay: 0.002\n"
     ]
    },
    {
     "data": {
      "text/html": [
       "Tracking run with wandb version 0.15.12"
      ],
      "text/plain": [
       "<IPython.core.display.HTML object>"
      ]
     },
     "metadata": {},
     "output_type": "display_data"
    },
    {
     "data": {
      "text/html": [
       "Run data is saved locally in <code>/home/zekai/repos/recast/notebooks/Zekai/hyperparameter_sweep/wandb/run-20231105_232430-smkr3n9o</code>"
      ],
      "text/plain": [
       "<IPython.core.display.HTML object>"
      ]
     },
     "metadata": {},
     "output_type": "display_data"
    },
    {
     "data": {
      "text/html": [
       "Syncing run <strong><a href='https://wandb.ai/zekai-wang/RecurrentTPP%20on%20ANSS%20Nov%205/runs/smkr3n9o' target=\"_blank\">efficient-sweep-47</a></strong> to <a href='https://wandb.ai/zekai-wang/RecurrentTPP%20on%20ANSS%20Nov%205' target=\"_blank\">Weights & Biases</a> (<a href='https://wandb.me/run' target=\"_blank\">docs</a>)<br/>Sweep page: <a href='https://wandb.ai/zekai-wang/RecurrentTPP%20on%20ANSS%20Nov%205/sweeps/27ca0onv' target=\"_blank\">https://wandb.ai/zekai-wang/RecurrentTPP%20on%20ANSS%20Nov%205/sweeps/27ca0onv</a>"
      ],
      "text/plain": [
       "<IPython.core.display.HTML object>"
      ]
     },
     "metadata": {},
     "output_type": "display_data"
    },
    {
     "data": {
      "text/html": [
       " View project at <a href='https://wandb.ai/zekai-wang/RecurrentTPP%20on%20ANSS%20Nov%205' target=\"_blank\">https://wandb.ai/zekai-wang/RecurrentTPP%20on%20ANSS%20Nov%205</a>"
      ],
      "text/plain": [
       "<IPython.core.display.HTML object>"
      ]
     },
     "metadata": {},
     "output_type": "display_data"
    },
    {
     "data": {
      "text/html": [
       " View sweep at <a href='https://wandb.ai/zekai-wang/RecurrentTPP%20on%20ANSS%20Nov%205/sweeps/27ca0onv' target=\"_blank\">https://wandb.ai/zekai-wang/RecurrentTPP%20on%20ANSS%20Nov%205/sweeps/27ca0onv</a>"
      ],
      "text/plain": [
       "<IPython.core.display.HTML object>"
      ]
     },
     "metadata": {},
     "output_type": "display_data"
    },
    {
     "data": {
      "text/html": [
       " View run at <a href='https://wandb.ai/zekai-wang/RecurrentTPP%20on%20ANSS%20Nov%205/runs/smkr3n9o' target=\"_blank\">https://wandb.ai/zekai-wang/RecurrentTPP%20on%20ANSS%20Nov%205/runs/smkr3n9o</a>"
      ],
      "text/plain": [
       "<IPython.core.display.HTML object>"
      ]
     },
     "metadata": {},
     "output_type": "display_data"
    },
    {
     "data": {
      "application/vnd.jupyter.widget-view+json": {
       "model_id": "5a497622f71a4169bf22c2c519470502",
       "version_major": 2,
       "version_minor": 0
      },
      "text/plain": [
       "  0%|          | 0/200 [00:00<?, ?it/s]"
      ]
     },
     "metadata": {},
     "output_type": "display_data"
    },
    {
     "data": {
      "text/html": [
       "Waiting for W&B process to finish... <strong style=\"color:green\">(success).</strong>"
      ],
      "text/plain": [
       "<IPython.core.display.HTML object>"
      ]
     },
     "metadata": {},
     "output_type": "display_data"
    },
    {
     "data": {
      "text/html": [
       "<style>\n",
       "    table.wandb td:nth-child(1) { padding: 0 10px; text-align: left ; width: auto;} td:nth-child(2) {text-align: left ; width: 100%}\n",
       "    .wandb-row { display: flex; flex-direction: row; flex-wrap: wrap; justify-content: flex-start; width: 100% }\n",
       "    .wandb-col { display: flex; flex-direction: column; flex-basis: 100%; flex: 1; padding: 10px; }\n",
       "    </style>\n",
       "<div class=\"wandb-row\"><div class=\"wandb-col\"><h3>Run history:</h3><br/><table class=\"wandb\"><tr><td>avg_test_loss</td><td>▁</td></tr></table><br/></div><div class=\"wandb-col\"><h3>Run summary:</h3><br/><table class=\"wandb\"><tr><td>avg_test_loss</td><td>0.16302</td></tr></table><br/></div></div>"
      ],
      "text/plain": [
       "<IPython.core.display.HTML object>"
      ]
     },
     "metadata": {},
     "output_type": "display_data"
    },
    {
     "data": {
      "text/html": [
       " View run <strong style=\"color:#cdcd00\">efficient-sweep-47</strong> at: <a href='https://wandb.ai/zekai-wang/RecurrentTPP%20on%20ANSS%20Nov%205/runs/smkr3n9o' target=\"_blank\">https://wandb.ai/zekai-wang/RecurrentTPP%20on%20ANSS%20Nov%205/runs/smkr3n9o</a><br/>Synced 5 W&B file(s), 0 media file(s), 0 artifact file(s) and 0 other file(s)"
      ],
      "text/plain": [
       "<IPython.core.display.HTML object>"
      ]
     },
     "metadata": {},
     "output_type": "display_data"
    },
    {
     "data": {
      "text/html": [
       "Find logs at: <code>./wandb/run-20231105_232430-smkr3n9o/logs</code>"
      ],
      "text/plain": [
       "<IPython.core.display.HTML object>"
      ]
     },
     "metadata": {},
     "output_type": "display_data"
    },
    {
     "name": "stderr",
     "output_type": "stream",
     "text": [
      "\u001b[34m\u001b[1mwandb\u001b[0m: Agent Starting Run: ojyvgp68 with config:\n",
      "\u001b[34m\u001b[1mwandb\u001b[0m: \tbatch_size: 16\n",
      "\u001b[34m\u001b[1mwandb\u001b[0m: \tbetas: [0.9, 0.999]\n",
      "\u001b[34m\u001b[1mwandb\u001b[0m: \tcontext_size: 8\n",
      "\u001b[34m\u001b[1mwandb\u001b[0m: \tdropout_proba: 0.3\n",
      "\u001b[34m\u001b[1mwandb\u001b[0m: \tlr: 0.01\n",
      "\u001b[34m\u001b[1mwandb\u001b[0m: \tnum_components: 8\n",
      "\u001b[34m\u001b[1mwandb\u001b[0m: \trnn_type: RNN\n",
      "\u001b[34m\u001b[1mwandb\u001b[0m: \tweight_decay: 0.002\n"
     ]
    },
    {
     "data": {
      "text/html": [
       "Tracking run with wandb version 0.15.12"
      ],
      "text/plain": [
       "<IPython.core.display.HTML object>"
      ]
     },
     "metadata": {},
     "output_type": "display_data"
    },
    {
     "data": {
      "text/html": [
       "Run data is saved locally in <code>/home/zekai/repos/recast/notebooks/Zekai/hyperparameter_sweep/wandb/run-20231105_232607-ojyvgp68</code>"
      ],
      "text/plain": [
       "<IPython.core.display.HTML object>"
      ]
     },
     "metadata": {},
     "output_type": "display_data"
    },
    {
     "data": {
      "text/html": [
       "Syncing run <strong><a href='https://wandb.ai/zekai-wang/RecurrentTPP%20on%20ANSS%20Nov%205/runs/ojyvgp68' target=\"_blank\">sweet-sweep-48</a></strong> to <a href='https://wandb.ai/zekai-wang/RecurrentTPP%20on%20ANSS%20Nov%205' target=\"_blank\">Weights & Biases</a> (<a href='https://wandb.me/run' target=\"_blank\">docs</a>)<br/>Sweep page: <a href='https://wandb.ai/zekai-wang/RecurrentTPP%20on%20ANSS%20Nov%205/sweeps/27ca0onv' target=\"_blank\">https://wandb.ai/zekai-wang/RecurrentTPP%20on%20ANSS%20Nov%205/sweeps/27ca0onv</a>"
      ],
      "text/plain": [
       "<IPython.core.display.HTML object>"
      ]
     },
     "metadata": {},
     "output_type": "display_data"
    },
    {
     "data": {
      "text/html": [
       " View project at <a href='https://wandb.ai/zekai-wang/RecurrentTPP%20on%20ANSS%20Nov%205' target=\"_blank\">https://wandb.ai/zekai-wang/RecurrentTPP%20on%20ANSS%20Nov%205</a>"
      ],
      "text/plain": [
       "<IPython.core.display.HTML object>"
      ]
     },
     "metadata": {},
     "output_type": "display_data"
    },
    {
     "data": {
      "text/html": [
       " View sweep at <a href='https://wandb.ai/zekai-wang/RecurrentTPP%20on%20ANSS%20Nov%205/sweeps/27ca0onv' target=\"_blank\">https://wandb.ai/zekai-wang/RecurrentTPP%20on%20ANSS%20Nov%205/sweeps/27ca0onv</a>"
      ],
      "text/plain": [
       "<IPython.core.display.HTML object>"
      ]
     },
     "metadata": {},
     "output_type": "display_data"
    },
    {
     "data": {
      "text/html": [
       " View run at <a href='https://wandb.ai/zekai-wang/RecurrentTPP%20on%20ANSS%20Nov%205/runs/ojyvgp68' target=\"_blank\">https://wandb.ai/zekai-wang/RecurrentTPP%20on%20ANSS%20Nov%205/runs/ojyvgp68</a>"
      ],
      "text/plain": [
       "<IPython.core.display.HTML object>"
      ]
     },
     "metadata": {},
     "output_type": "display_data"
    },
    {
     "data": {
      "application/vnd.jupyter.widget-view+json": {
       "model_id": "9a16871be02c43919fe9dab05e944ec5",
       "version_major": 2,
       "version_minor": 0
      },
      "text/plain": [
       "  0%|          | 0/200 [00:00<?, ?it/s]"
      ]
     },
     "metadata": {},
     "output_type": "display_data"
    },
    {
     "data": {
      "text/html": [
       "Waiting for W&B process to finish... <strong style=\"color:green\">(success).</strong>"
      ],
      "text/plain": [
       "<IPython.core.display.HTML object>"
      ]
     },
     "metadata": {},
     "output_type": "display_data"
    },
    {
     "data": {
      "text/html": [
       "<style>\n",
       "    table.wandb td:nth-child(1) { padding: 0 10px; text-align: left ; width: auto;} td:nth-child(2) {text-align: left ; width: 100%}\n",
       "    .wandb-row { display: flex; flex-direction: row; flex-wrap: wrap; justify-content: flex-start; width: 100% }\n",
       "    .wandb-col { display: flex; flex-direction: column; flex-basis: 100%; flex: 1; padding: 10px; }\n",
       "    </style>\n",
       "<div class=\"wandb-row\"><div class=\"wandb-col\"><h3>Run history:</h3><br/><table class=\"wandb\"><tr><td>avg_test_loss</td><td>▁</td></tr></table><br/></div><div class=\"wandb-col\"><h3>Run summary:</h3><br/><table class=\"wandb\"><tr><td>avg_test_loss</td><td>0.21251</td></tr></table><br/></div></div>"
      ],
      "text/plain": [
       "<IPython.core.display.HTML object>"
      ]
     },
     "metadata": {},
     "output_type": "display_data"
    },
    {
     "data": {
      "text/html": [
       " View run <strong style=\"color:#cdcd00\">sweet-sweep-48</strong> at: <a href='https://wandb.ai/zekai-wang/RecurrentTPP%20on%20ANSS%20Nov%205/runs/ojyvgp68' target=\"_blank\">https://wandb.ai/zekai-wang/RecurrentTPP%20on%20ANSS%20Nov%205/runs/ojyvgp68</a><br/>Synced 5 W&B file(s), 0 media file(s), 0 artifact file(s) and 0 other file(s)"
      ],
      "text/plain": [
       "<IPython.core.display.HTML object>"
      ]
     },
     "metadata": {},
     "output_type": "display_data"
    },
    {
     "data": {
      "text/html": [
       "Find logs at: <code>./wandb/run-20231105_232607-ojyvgp68/logs</code>"
      ],
      "text/plain": [
       "<IPython.core.display.HTML object>"
      ]
     },
     "metadata": {},
     "output_type": "display_data"
    },
    {
     "name": "stderr",
     "output_type": "stream",
     "text": [
      "\u001b[34m\u001b[1mwandb\u001b[0m: Agent Starting Run: fym91ruh with config:\n",
      "\u001b[34m\u001b[1mwandb\u001b[0m: \tbatch_size: 32\n",
      "\u001b[34m\u001b[1mwandb\u001b[0m: \tbetas: [0.9, 0.999]\n",
      "\u001b[34m\u001b[1mwandb\u001b[0m: \tcontext_size: 32\n",
      "\u001b[34m\u001b[1mwandb\u001b[0m: \tdropout_proba: 0.4\n",
      "\u001b[34m\u001b[1mwandb\u001b[0m: \tlr: 0.001\n",
      "\u001b[34m\u001b[1mwandb\u001b[0m: \tnum_components: 32\n",
      "\u001b[34m\u001b[1mwandb\u001b[0m: \trnn_type: LSTM\n",
      "\u001b[34m\u001b[1mwandb\u001b[0m: \tweight_decay: 0.002\n"
     ]
    },
    {
     "data": {
      "text/html": [
       "Tracking run with wandb version 0.15.12"
      ],
      "text/plain": [
       "<IPython.core.display.HTML object>"
      ]
     },
     "metadata": {},
     "output_type": "display_data"
    },
    {
     "data": {
      "text/html": [
       "Run data is saved locally in <code>/home/zekai/repos/recast/notebooks/Zekai/hyperparameter_sweep/wandb/run-20231105_232733-fym91ruh</code>"
      ],
      "text/plain": [
       "<IPython.core.display.HTML object>"
      ]
     },
     "metadata": {},
     "output_type": "display_data"
    },
    {
     "data": {
      "text/html": [
       "Syncing run <strong><a href='https://wandb.ai/zekai-wang/RecurrentTPP%20on%20ANSS%20Nov%205/runs/fym91ruh' target=\"_blank\">fluent-sweep-49</a></strong> to <a href='https://wandb.ai/zekai-wang/RecurrentTPP%20on%20ANSS%20Nov%205' target=\"_blank\">Weights & Biases</a> (<a href='https://wandb.me/run' target=\"_blank\">docs</a>)<br/>Sweep page: <a href='https://wandb.ai/zekai-wang/RecurrentTPP%20on%20ANSS%20Nov%205/sweeps/27ca0onv' target=\"_blank\">https://wandb.ai/zekai-wang/RecurrentTPP%20on%20ANSS%20Nov%205/sweeps/27ca0onv</a>"
      ],
      "text/plain": [
       "<IPython.core.display.HTML object>"
      ]
     },
     "metadata": {},
     "output_type": "display_data"
    },
    {
     "data": {
      "text/html": [
       " View project at <a href='https://wandb.ai/zekai-wang/RecurrentTPP%20on%20ANSS%20Nov%205' target=\"_blank\">https://wandb.ai/zekai-wang/RecurrentTPP%20on%20ANSS%20Nov%205</a>"
      ],
      "text/plain": [
       "<IPython.core.display.HTML object>"
      ]
     },
     "metadata": {},
     "output_type": "display_data"
    },
    {
     "data": {
      "text/html": [
       " View sweep at <a href='https://wandb.ai/zekai-wang/RecurrentTPP%20on%20ANSS%20Nov%205/sweeps/27ca0onv' target=\"_blank\">https://wandb.ai/zekai-wang/RecurrentTPP%20on%20ANSS%20Nov%205/sweeps/27ca0onv</a>"
      ],
      "text/plain": [
       "<IPython.core.display.HTML object>"
      ]
     },
     "metadata": {},
     "output_type": "display_data"
    },
    {
     "data": {
      "text/html": [
       " View run at <a href='https://wandb.ai/zekai-wang/RecurrentTPP%20on%20ANSS%20Nov%205/runs/fym91ruh' target=\"_blank\">https://wandb.ai/zekai-wang/RecurrentTPP%20on%20ANSS%20Nov%205/runs/fym91ruh</a>"
      ],
      "text/plain": [
       "<IPython.core.display.HTML object>"
      ]
     },
     "metadata": {},
     "output_type": "display_data"
    },
    {
     "data": {
      "application/vnd.jupyter.widget-view+json": {
       "model_id": "0ed7532a34bd4120b5039564e26e6b4a",
       "version_major": 2,
       "version_minor": 0
      },
      "text/plain": [
       "  0%|          | 0/200 [00:00<?, ?it/s]"
      ]
     },
     "metadata": {},
     "output_type": "display_data"
    },
    {
     "data": {
      "text/html": [
       "Waiting for W&B process to finish... <strong style=\"color:green\">(success).</strong>"
      ],
      "text/plain": [
       "<IPython.core.display.HTML object>"
      ]
     },
     "metadata": {},
     "output_type": "display_data"
    },
    {
     "data": {
      "text/html": [
       "<style>\n",
       "    table.wandb td:nth-child(1) { padding: 0 10px; text-align: left ; width: auto;} td:nth-child(2) {text-align: left ; width: 100%}\n",
       "    .wandb-row { display: flex; flex-direction: row; flex-wrap: wrap; justify-content: flex-start; width: 100% }\n",
       "    .wandb-col { display: flex; flex-direction: column; flex-basis: 100%; flex: 1; padding: 10px; }\n",
       "    </style>\n",
       "<div class=\"wandb-row\"><div class=\"wandb-col\"><h3>Run history:</h3><br/><table class=\"wandb\"><tr><td>avg_test_loss</td><td>▁</td></tr></table><br/></div><div class=\"wandb-col\"><h3>Run summary:</h3><br/><table class=\"wandb\"><tr><td>avg_test_loss</td><td>0.16782</td></tr></table><br/></div></div>"
      ],
      "text/plain": [
       "<IPython.core.display.HTML object>"
      ]
     },
     "metadata": {},
     "output_type": "display_data"
    },
    {
     "data": {
      "text/html": [
       " View run <strong style=\"color:#cdcd00\">fluent-sweep-49</strong> at: <a href='https://wandb.ai/zekai-wang/RecurrentTPP%20on%20ANSS%20Nov%205/runs/fym91ruh' target=\"_blank\">https://wandb.ai/zekai-wang/RecurrentTPP%20on%20ANSS%20Nov%205/runs/fym91ruh</a><br/>Synced 5 W&B file(s), 0 media file(s), 0 artifact file(s) and 0 other file(s)"
      ],
      "text/plain": [
       "<IPython.core.display.HTML object>"
      ]
     },
     "metadata": {},
     "output_type": "display_data"
    },
    {
     "data": {
      "text/html": [
       "Find logs at: <code>./wandb/run-20231105_232733-fym91ruh/logs</code>"
      ],
      "text/plain": [
       "<IPython.core.display.HTML object>"
      ]
     },
     "metadata": {},
     "output_type": "display_data"
    },
    {
     "name": "stderr",
     "output_type": "stream",
     "text": [
      "\u001b[34m\u001b[1mwandb\u001b[0m: Agent Starting Run: o6f2rhjm with config:\n",
      "\u001b[34m\u001b[1mwandb\u001b[0m: \tbatch_size: 8\n",
      "\u001b[34m\u001b[1mwandb\u001b[0m: \tbetas: [0.9, 0.999]\n",
      "\u001b[34m\u001b[1mwandb\u001b[0m: \tcontext_size: 8\n",
      "\u001b[34m\u001b[1mwandb\u001b[0m: \tdropout_proba: 0.2\n",
      "\u001b[34m\u001b[1mwandb\u001b[0m: \tlr: 0.02\n",
      "\u001b[34m\u001b[1mwandb\u001b[0m: \tnum_components: 8\n",
      "\u001b[34m\u001b[1mwandb\u001b[0m: \trnn_type: GRU\n",
      "\u001b[34m\u001b[1mwandb\u001b[0m: \tweight_decay: 0\n"
     ]
    },
    {
     "data": {
      "text/html": [
       "Tracking run with wandb version 0.15.12"
      ],
      "text/plain": [
       "<IPython.core.display.HTML object>"
      ]
     },
     "metadata": {},
     "output_type": "display_data"
    },
    {
     "data": {
      "text/html": [
       "Run data is saved locally in <code>/home/zekai/repos/recast/notebooks/Zekai/hyperparameter_sweep/wandb/run-20231105_232855-o6f2rhjm</code>"
      ],
      "text/plain": [
       "<IPython.core.display.HTML object>"
      ]
     },
     "metadata": {},
     "output_type": "display_data"
    },
    {
     "data": {
      "text/html": [
       "Syncing run <strong><a href='https://wandb.ai/zekai-wang/RecurrentTPP%20on%20ANSS%20Nov%205/runs/o6f2rhjm' target=\"_blank\">sparkling-sweep-50</a></strong> to <a href='https://wandb.ai/zekai-wang/RecurrentTPP%20on%20ANSS%20Nov%205' target=\"_blank\">Weights & Biases</a> (<a href='https://wandb.me/run' target=\"_blank\">docs</a>)<br/>Sweep page: <a href='https://wandb.ai/zekai-wang/RecurrentTPP%20on%20ANSS%20Nov%205/sweeps/27ca0onv' target=\"_blank\">https://wandb.ai/zekai-wang/RecurrentTPP%20on%20ANSS%20Nov%205/sweeps/27ca0onv</a>"
      ],
      "text/plain": [
       "<IPython.core.display.HTML object>"
      ]
     },
     "metadata": {},
     "output_type": "display_data"
    },
    {
     "data": {
      "text/html": [
       " View project at <a href='https://wandb.ai/zekai-wang/RecurrentTPP%20on%20ANSS%20Nov%205' target=\"_blank\">https://wandb.ai/zekai-wang/RecurrentTPP%20on%20ANSS%20Nov%205</a>"
      ],
      "text/plain": [
       "<IPython.core.display.HTML object>"
      ]
     },
     "metadata": {},
     "output_type": "display_data"
    },
    {
     "data": {
      "text/html": [
       " View sweep at <a href='https://wandb.ai/zekai-wang/RecurrentTPP%20on%20ANSS%20Nov%205/sweeps/27ca0onv' target=\"_blank\">https://wandb.ai/zekai-wang/RecurrentTPP%20on%20ANSS%20Nov%205/sweeps/27ca0onv</a>"
      ],
      "text/plain": [
       "<IPython.core.display.HTML object>"
      ]
     },
     "metadata": {},
     "output_type": "display_data"
    },
    {
     "data": {
      "text/html": [
       " View run at <a href='https://wandb.ai/zekai-wang/RecurrentTPP%20on%20ANSS%20Nov%205/runs/o6f2rhjm' target=\"_blank\">https://wandb.ai/zekai-wang/RecurrentTPP%20on%20ANSS%20Nov%205/runs/o6f2rhjm</a>"
      ],
      "text/plain": [
       "<IPython.core.display.HTML object>"
      ]
     },
     "metadata": {},
     "output_type": "display_data"
    },
    {
     "data": {
      "application/vnd.jupyter.widget-view+json": {
       "model_id": "80323eb1c94b4057a07c4b0674d85eb2",
       "version_major": 2,
       "version_minor": 0
      },
      "text/plain": [
       "  0%|          | 0/200 [00:00<?, ?it/s]"
      ]
     },
     "metadata": {},
     "output_type": "display_data"
    },
    {
     "data": {
      "text/html": [
       "Waiting for W&B process to finish... <strong style=\"color:green\">(success).</strong>"
      ],
      "text/plain": [
       "<IPython.core.display.HTML object>"
      ]
     },
     "metadata": {},
     "output_type": "display_data"
    },
    {
     "data": {
      "application/vnd.jupyter.widget-view+json": {
       "model_id": "fe7c04aef2a44c78af6c91d682a4bc41",
       "version_major": 2,
       "version_minor": 0
      },
      "text/plain": [
       "VBox(children=(Label(value='0.003 MB of 0.003 MB uploaded (0.000 MB deduped)\\r'), FloatProgress(value=1.0, max…"
      ]
     },
     "metadata": {},
     "output_type": "display_data"
    },
    {
     "data": {
      "text/html": [
       "<style>\n",
       "    table.wandb td:nth-child(1) { padding: 0 10px; text-align: left ; width: auto;} td:nth-child(2) {text-align: left ; width: 100%}\n",
       "    .wandb-row { display: flex; flex-direction: row; flex-wrap: wrap; justify-content: flex-start; width: 100% }\n",
       "    .wandb-col { display: flex; flex-direction: column; flex-basis: 100%; flex: 1; padding: 10px; }\n",
       "    </style>\n",
       "<div class=\"wandb-row\"><div class=\"wandb-col\"><h3>Run history:</h3><br/><table class=\"wandb\"><tr><td>avg_test_loss</td><td>▁</td></tr></table><br/></div><div class=\"wandb-col\"><h3>Run summary:</h3><br/><table class=\"wandb\"><tr><td>avg_test_loss</td><td>0.1722</td></tr></table><br/></div></div>"
      ],
      "text/plain": [
       "<IPython.core.display.HTML object>"
      ]
     },
     "metadata": {},
     "output_type": "display_data"
    },
    {
     "data": {
      "text/html": [
       " View run <strong style=\"color:#cdcd00\">sparkling-sweep-50</strong> at: <a href='https://wandb.ai/zekai-wang/RecurrentTPP%20on%20ANSS%20Nov%205/runs/o6f2rhjm' target=\"_blank\">https://wandb.ai/zekai-wang/RecurrentTPP%20on%20ANSS%20Nov%205/runs/o6f2rhjm</a><br/>Synced 5 W&B file(s), 0 media file(s), 0 artifact file(s) and 0 other file(s)"
      ],
      "text/plain": [
       "<IPython.core.display.HTML object>"
      ]
     },
     "metadata": {},
     "output_type": "display_data"
    },
    {
     "data": {
      "text/html": [
       "Find logs at: <code>./wandb/run-20231105_232855-o6f2rhjm/logs</code>"
      ],
      "text/plain": [
       "<IPython.core.display.HTML object>"
      ]
     },
     "metadata": {},
     "output_type": "display_data"
    },
    {
     "name": "stderr",
     "output_type": "stream",
     "text": [
      "\u001b[34m\u001b[1mwandb\u001b[0m: Agent Starting Run: ksnhj8wm with config:\n",
      "\u001b[34m\u001b[1mwandb\u001b[0m: \tbatch_size: 32\n",
      "\u001b[34m\u001b[1mwandb\u001b[0m: \tbetas: [0.9, 0.999]\n",
      "\u001b[34m\u001b[1mwandb\u001b[0m: \tcontext_size: 128\n",
      "\u001b[34m\u001b[1mwandb\u001b[0m: \tdropout_proba: 0.2\n",
      "\u001b[34m\u001b[1mwandb\u001b[0m: \tlr: 0.001\n",
      "\u001b[34m\u001b[1mwandb\u001b[0m: \tnum_components: 32\n",
      "\u001b[34m\u001b[1mwandb\u001b[0m: \trnn_type: RNN\n",
      "\u001b[34m\u001b[1mwandb\u001b[0m: \tweight_decay: 0.02\n"
     ]
    },
    {
     "data": {
      "text/html": [
       "Tracking run with wandb version 0.15.12"
      ],
      "text/plain": [
       "<IPython.core.display.HTML object>"
      ]
     },
     "metadata": {},
     "output_type": "display_data"
    },
    {
     "data": {
      "text/html": [
       "Run data is saved locally in <code>/home/zekai/repos/recast/notebooks/Zekai/hyperparameter_sweep/wandb/run-20231105_233036-ksnhj8wm</code>"
      ],
      "text/plain": [
       "<IPython.core.display.HTML object>"
      ]
     },
     "metadata": {},
     "output_type": "display_data"
    },
    {
     "data": {
      "text/html": [
       "Syncing run <strong><a href='https://wandb.ai/zekai-wang/RecurrentTPP%20on%20ANSS%20Nov%205/runs/ksnhj8wm' target=\"_blank\">still-sweep-51</a></strong> to <a href='https://wandb.ai/zekai-wang/RecurrentTPP%20on%20ANSS%20Nov%205' target=\"_blank\">Weights & Biases</a> (<a href='https://wandb.me/run' target=\"_blank\">docs</a>)<br/>Sweep page: <a href='https://wandb.ai/zekai-wang/RecurrentTPP%20on%20ANSS%20Nov%205/sweeps/27ca0onv' target=\"_blank\">https://wandb.ai/zekai-wang/RecurrentTPP%20on%20ANSS%20Nov%205/sweeps/27ca0onv</a>"
      ],
      "text/plain": [
       "<IPython.core.display.HTML object>"
      ]
     },
     "metadata": {},
     "output_type": "display_data"
    },
    {
     "data": {
      "text/html": [
       " View project at <a href='https://wandb.ai/zekai-wang/RecurrentTPP%20on%20ANSS%20Nov%205' target=\"_blank\">https://wandb.ai/zekai-wang/RecurrentTPP%20on%20ANSS%20Nov%205</a>"
      ],
      "text/plain": [
       "<IPython.core.display.HTML object>"
      ]
     },
     "metadata": {},
     "output_type": "display_data"
    },
    {
     "data": {
      "text/html": [
       " View sweep at <a href='https://wandb.ai/zekai-wang/RecurrentTPP%20on%20ANSS%20Nov%205/sweeps/27ca0onv' target=\"_blank\">https://wandb.ai/zekai-wang/RecurrentTPP%20on%20ANSS%20Nov%205/sweeps/27ca0onv</a>"
      ],
      "text/plain": [
       "<IPython.core.display.HTML object>"
      ]
     },
     "metadata": {},
     "output_type": "display_data"
    },
    {
     "data": {
      "text/html": [
       " View run at <a href='https://wandb.ai/zekai-wang/RecurrentTPP%20on%20ANSS%20Nov%205/runs/ksnhj8wm' target=\"_blank\">https://wandb.ai/zekai-wang/RecurrentTPP%20on%20ANSS%20Nov%205/runs/ksnhj8wm</a>"
      ],
      "text/plain": [
       "<IPython.core.display.HTML object>"
      ]
     },
     "metadata": {},
     "output_type": "display_data"
    },
    {
     "data": {
      "application/vnd.jupyter.widget-view+json": {
       "model_id": "b11d39eea078476196f849a0a5273ed6",
       "version_major": 2,
       "version_minor": 0
      },
      "text/plain": [
       "  0%|          | 0/200 [00:00<?, ?it/s]"
      ]
     },
     "metadata": {},
     "output_type": "display_data"
    },
    {
     "data": {
      "text/html": [
       "Waiting for W&B process to finish... <strong style=\"color:green\">(success).</strong>"
      ],
      "text/plain": [
       "<IPython.core.display.HTML object>"
      ]
     },
     "metadata": {},
     "output_type": "display_data"
    },
    {
     "data": {
      "text/html": [
       "<style>\n",
       "    table.wandb td:nth-child(1) { padding: 0 10px; text-align: left ; width: auto;} td:nth-child(2) {text-align: left ; width: 100%}\n",
       "    .wandb-row { display: flex; flex-direction: row; flex-wrap: wrap; justify-content: flex-start; width: 100% }\n",
       "    .wandb-col { display: flex; flex-direction: column; flex-basis: 100%; flex: 1; padding: 10px; }\n",
       "    </style>\n",
       "<div class=\"wandb-row\"><div class=\"wandb-col\"><h3>Run history:</h3><br/><table class=\"wandb\"><tr><td>avg_test_loss</td><td>▁</td></tr></table><br/></div><div class=\"wandb-col\"><h3>Run summary:</h3><br/><table class=\"wandb\"><tr><td>avg_test_loss</td><td>0.17094</td></tr></table><br/></div></div>"
      ],
      "text/plain": [
       "<IPython.core.display.HTML object>"
      ]
     },
     "metadata": {},
     "output_type": "display_data"
    },
    {
     "data": {
      "text/html": [
       " View run <strong style=\"color:#cdcd00\">still-sweep-51</strong> at: <a href='https://wandb.ai/zekai-wang/RecurrentTPP%20on%20ANSS%20Nov%205/runs/ksnhj8wm' target=\"_blank\">https://wandb.ai/zekai-wang/RecurrentTPP%20on%20ANSS%20Nov%205/runs/ksnhj8wm</a><br/>Synced 5 W&B file(s), 0 media file(s), 0 artifact file(s) and 0 other file(s)"
      ],
      "text/plain": [
       "<IPython.core.display.HTML object>"
      ]
     },
     "metadata": {},
     "output_type": "display_data"
    },
    {
     "data": {
      "text/html": [
       "Find logs at: <code>./wandb/run-20231105_233036-ksnhj8wm/logs</code>"
      ],
      "text/plain": [
       "<IPython.core.display.HTML object>"
      ]
     },
     "metadata": {},
     "output_type": "display_data"
    },
    {
     "name": "stderr",
     "output_type": "stream",
     "text": [
      "\u001b[34m\u001b[1mwandb\u001b[0m: Agent Starting Run: e2bu8q1b with config:\n",
      "\u001b[34m\u001b[1mwandb\u001b[0m: \tbatch_size: 16\n",
      "\u001b[34m\u001b[1mwandb\u001b[0m: \tbetas: [0.9, 0.999]\n",
      "\u001b[34m\u001b[1mwandb\u001b[0m: \tcontext_size: 32\n",
      "\u001b[34m\u001b[1mwandb\u001b[0m: \tdropout_proba: 0.4\n",
      "\u001b[34m\u001b[1mwandb\u001b[0m: \tlr: 0.02\n",
      "\u001b[34m\u001b[1mwandb\u001b[0m: \tnum_components: 32\n",
      "\u001b[34m\u001b[1mwandb\u001b[0m: \trnn_type: RNN\n",
      "\u001b[34m\u001b[1mwandb\u001b[0m: \tweight_decay: 0.001\n"
     ]
    },
    {
     "data": {
      "text/html": [
       "Tracking run with wandb version 0.15.12"
      ],
      "text/plain": [
       "<IPython.core.display.HTML object>"
      ]
     },
     "metadata": {},
     "output_type": "display_data"
    },
    {
     "data": {
      "text/html": [
       "Run data is saved locally in <code>/home/zekai/repos/recast/notebooks/Zekai/hyperparameter_sweep/wandb/run-20231105_233158-e2bu8q1b</code>"
      ],
      "text/plain": [
       "<IPython.core.display.HTML object>"
      ]
     },
     "metadata": {},
     "output_type": "display_data"
    },
    {
     "data": {
      "text/html": [
       "Syncing run <strong><a href='https://wandb.ai/zekai-wang/RecurrentTPP%20on%20ANSS%20Nov%205/runs/e2bu8q1b' target=\"_blank\">giddy-sweep-52</a></strong> to <a href='https://wandb.ai/zekai-wang/RecurrentTPP%20on%20ANSS%20Nov%205' target=\"_blank\">Weights & Biases</a> (<a href='https://wandb.me/run' target=\"_blank\">docs</a>)<br/>Sweep page: <a href='https://wandb.ai/zekai-wang/RecurrentTPP%20on%20ANSS%20Nov%205/sweeps/27ca0onv' target=\"_blank\">https://wandb.ai/zekai-wang/RecurrentTPP%20on%20ANSS%20Nov%205/sweeps/27ca0onv</a>"
      ],
      "text/plain": [
       "<IPython.core.display.HTML object>"
      ]
     },
     "metadata": {},
     "output_type": "display_data"
    },
    {
     "data": {
      "text/html": [
       " View project at <a href='https://wandb.ai/zekai-wang/RecurrentTPP%20on%20ANSS%20Nov%205' target=\"_blank\">https://wandb.ai/zekai-wang/RecurrentTPP%20on%20ANSS%20Nov%205</a>"
      ],
      "text/plain": [
       "<IPython.core.display.HTML object>"
      ]
     },
     "metadata": {},
     "output_type": "display_data"
    },
    {
     "data": {
      "text/html": [
       " View sweep at <a href='https://wandb.ai/zekai-wang/RecurrentTPP%20on%20ANSS%20Nov%205/sweeps/27ca0onv' target=\"_blank\">https://wandb.ai/zekai-wang/RecurrentTPP%20on%20ANSS%20Nov%205/sweeps/27ca0onv</a>"
      ],
      "text/plain": [
       "<IPython.core.display.HTML object>"
      ]
     },
     "metadata": {},
     "output_type": "display_data"
    },
    {
     "data": {
      "text/html": [
       " View run at <a href='https://wandb.ai/zekai-wang/RecurrentTPP%20on%20ANSS%20Nov%205/runs/e2bu8q1b' target=\"_blank\">https://wandb.ai/zekai-wang/RecurrentTPP%20on%20ANSS%20Nov%205/runs/e2bu8q1b</a>"
      ],
      "text/plain": [
       "<IPython.core.display.HTML object>"
      ]
     },
     "metadata": {},
     "output_type": "display_data"
    },
    {
     "data": {
      "application/vnd.jupyter.widget-view+json": {
       "model_id": "92c28ef98f2d4e1082dbf9eada337282",
       "version_major": 2,
       "version_minor": 0
      },
      "text/plain": [
       "  0%|          | 0/200 [00:00<?, ?it/s]"
      ]
     },
     "metadata": {},
     "output_type": "display_data"
    },
    {
     "name": "stdout",
     "output_type": "stream",
     "text": [
      "Expected parameter scale (Tensor of shape (16, 2935, 32)) of distribution Weibull(scale: torch.Size([16, 2935, 32]), shape: torch.Size([16, 2935, 32])) to satisfy the constraint GreaterThan(lower_bound=0.0), but found invalid values:\n",
      "tensor([[[0.8626, 0.9293, 0.8911,  ..., 1.3364, 1.3425, 2.0519],\n",
      "         [   nan,    nan,    nan,  ...,    nan,    nan,    nan],\n",
      "         [   nan,    nan,    nan,  ...,    nan,    nan,    nan],\n",
      "         ...,\n",
      "         [   nan,    nan,    nan,  ...,    nan,    nan,    nan],\n",
      "         [   nan,    nan,    nan,  ...,    nan,    nan,    nan],\n",
      "         [   nan,    nan,    nan,  ...,    nan,    nan,    nan]],\n",
      "\n",
      "        [[0.8626, 0.9293, 0.8911,  ..., 1.3364, 1.3425, 2.0519],\n",
      "         [   nan,    nan,    nan,  ...,    nan,    nan,    nan],\n",
      "         [   nan,    nan,    nan,  ...,    nan,    nan,    nan],\n",
      "         ...,\n",
      "         [   nan,    nan,    nan,  ...,    nan,    nan,    nan],\n",
      "         [   nan,    nan,    nan,  ...,    nan,    nan,    nan],\n",
      "         [   nan,    nan,    nan,  ...,    nan,    nan,    nan]],\n",
      "\n",
      "        [[0.8626, 0.9293, 0.8911,  ..., 1.3364, 1.3425, 2.0519],\n",
      "         [   nan,    nan,    nan,  ...,    nan,    nan,    nan],\n",
      "         [   nan,    nan,    nan,  ...,    nan,    nan,    nan],\n",
      "         ...,\n",
      "         [   nan,    nan,    nan,  ...,    nan,    nan,    nan],\n",
      "         [   nan,    nan,    nan,  ...,    nan,    nan,    nan],\n",
      "         [   nan,    nan,    nan,  ...,    nan,    nan,    nan]],\n",
      "\n",
      "        ...,\n",
      "\n",
      "        [[0.8626, 0.9293, 0.8911,  ..., 1.3364, 1.3425, 2.0519],\n",
      "         [   nan,    nan,    nan,  ...,    nan,    nan,    nan],\n",
      "         [   nan,    nan,    nan,  ...,    nan,    nan,    nan],\n",
      "         ...,\n",
      "         [   nan,    nan,    nan,  ...,    nan,    nan,    nan],\n",
      "         [   nan,    nan,    nan,  ...,    nan,    nan,    nan],\n",
      "         [   nan,    nan,    nan,  ...,    nan,    nan,    nan]],\n",
      "\n",
      "        [[0.8626, 0.9293, 0.8911,  ..., 1.3364, 1.3425, 2.0519],\n",
      "         [   nan,    nan,    nan,  ...,    nan,    nan,    nan],\n",
      "         [   nan,    nan,    nan,  ...,    nan,    nan,    nan],\n",
      "         ...,\n",
      "         [   nan,    nan,    nan,  ...,    nan,    nan,    nan],\n",
      "         [   nan,    nan,    nan,  ...,    nan,    nan,    nan],\n",
      "         [   nan,    nan,    nan,  ...,    nan,    nan,    nan]],\n",
      "\n",
      "        [[0.8626, 0.9293, 0.8911,  ..., 1.3364, 1.3425, 2.0519],\n",
      "         [   nan,    nan,    nan,  ...,    nan,    nan,    nan],\n",
      "         [   nan,    nan,    nan,  ...,    nan,    nan,    nan],\n",
      "         ...,\n",
      "         [   nan,    nan,    nan,  ...,    nan,    nan,    nan],\n",
      "         [   nan,    nan,    nan,  ...,    nan,    nan,    nan],\n",
      "         [   nan,    nan,    nan,  ...,    nan,    nan,    nan]]],\n",
      "       device='cuda:0', grad_fn=<SoftplusBackward0>)\n"
     ]
    },
    {
     "data": {
      "text/html": [
       "Waiting for W&B process to finish... <strong style=\"color:green\">(success).</strong>"
      ],
      "text/plain": [
       "<IPython.core.display.HTML object>"
      ]
     },
     "metadata": {},
     "output_type": "display_data"
    },
    {
     "data": {
      "text/html": [
       "<style>\n",
       "    table.wandb td:nth-child(1) { padding: 0 10px; text-align: left ; width: auto;} td:nth-child(2) {text-align: left ; width: 100%}\n",
       "    .wandb-row { display: flex; flex-direction: row; flex-wrap: wrap; justify-content: flex-start; width: 100% }\n",
       "    .wandb-col { display: flex; flex-direction: column; flex-basis: 100%; flex: 1; padding: 10px; }\n",
       "    </style>\n",
       "<div class=\"wandb-row\"><div class=\"wandb-col\"><h3>Run summary:</h3><br/><table class=\"wandb\"><tr><td>avg_test_loss</td><td>nan</td></tr></table><br/></div></div>"
      ],
      "text/plain": [
       "<IPython.core.display.HTML object>"
      ]
     },
     "metadata": {},
     "output_type": "display_data"
    },
    {
     "data": {
      "text/html": [
       " View run <strong style=\"color:#cdcd00\">giddy-sweep-52</strong> at: <a href='https://wandb.ai/zekai-wang/RecurrentTPP%20on%20ANSS%20Nov%205/runs/e2bu8q1b' target=\"_blank\">https://wandb.ai/zekai-wang/RecurrentTPP%20on%20ANSS%20Nov%205/runs/e2bu8q1b</a><br/>Synced 6 W&B file(s), 0 media file(s), 0 artifact file(s) and 0 other file(s)"
      ],
      "text/plain": [
       "<IPython.core.display.HTML object>"
      ]
     },
     "metadata": {},
     "output_type": "display_data"
    },
    {
     "data": {
      "text/html": [
       "Find logs at: <code>./wandb/run-20231105_233158-e2bu8q1b/logs</code>"
      ],
      "text/plain": [
       "<IPython.core.display.HTML object>"
      ]
     },
     "metadata": {},
     "output_type": "display_data"
    },
    {
     "name": "stderr",
     "output_type": "stream",
     "text": [
      "\u001b[34m\u001b[1mwandb\u001b[0m: Sweep Agent: Waiting for job.\n",
      "\u001b[34m\u001b[1mwandb\u001b[0m: Job received.\n",
      "\u001b[34m\u001b[1mwandb\u001b[0m: Agent Starting Run: bwkunbmj with config:\n",
      "\u001b[34m\u001b[1mwandb\u001b[0m: \tbatch_size: 128\n",
      "\u001b[34m\u001b[1mwandb\u001b[0m: \tbetas: [0.9, 0.999]\n",
      "\u001b[34m\u001b[1mwandb\u001b[0m: \tcontext_size: 64\n",
      "\u001b[34m\u001b[1mwandb\u001b[0m: \tdropout_proba: 0.5\n",
      "\u001b[34m\u001b[1mwandb\u001b[0m: \tlr: 0.02\n",
      "\u001b[34m\u001b[1mwandb\u001b[0m: \tnum_components: 16\n",
      "\u001b[34m\u001b[1mwandb\u001b[0m: \trnn_type: LSTM\n",
      "\u001b[34m\u001b[1mwandb\u001b[0m: \tweight_decay: 0.01\n"
     ]
    },
    {
     "data": {
      "text/html": [
       "Tracking run with wandb version 0.15.12"
      ],
      "text/plain": [
       "<IPython.core.display.HTML object>"
      ]
     },
     "metadata": {},
     "output_type": "display_data"
    },
    {
     "data": {
      "text/html": [
       "Run data is saved locally in <code>/home/zekai/repos/recast/notebooks/Zekai/hyperparameter_sweep/wandb/run-20231105_233314-bwkunbmj</code>"
      ],
      "text/plain": [
       "<IPython.core.display.HTML object>"
      ]
     },
     "metadata": {},
     "output_type": "display_data"
    },
    {
     "data": {
      "text/html": [
       "Syncing run <strong><a href='https://wandb.ai/zekai-wang/RecurrentTPP%20on%20ANSS%20Nov%205/runs/bwkunbmj' target=\"_blank\">wandering-sweep-53</a></strong> to <a href='https://wandb.ai/zekai-wang/RecurrentTPP%20on%20ANSS%20Nov%205' target=\"_blank\">Weights & Biases</a> (<a href='https://wandb.me/run' target=\"_blank\">docs</a>)<br/>Sweep page: <a href='https://wandb.ai/zekai-wang/RecurrentTPP%20on%20ANSS%20Nov%205/sweeps/27ca0onv' target=\"_blank\">https://wandb.ai/zekai-wang/RecurrentTPP%20on%20ANSS%20Nov%205/sweeps/27ca0onv</a>"
      ],
      "text/plain": [
       "<IPython.core.display.HTML object>"
      ]
     },
     "metadata": {},
     "output_type": "display_data"
    },
    {
     "data": {
      "text/html": [
       " View project at <a href='https://wandb.ai/zekai-wang/RecurrentTPP%20on%20ANSS%20Nov%205' target=\"_blank\">https://wandb.ai/zekai-wang/RecurrentTPP%20on%20ANSS%20Nov%205</a>"
      ],
      "text/plain": [
       "<IPython.core.display.HTML object>"
      ]
     },
     "metadata": {},
     "output_type": "display_data"
    },
    {
     "data": {
      "text/html": [
       " View sweep at <a href='https://wandb.ai/zekai-wang/RecurrentTPP%20on%20ANSS%20Nov%205/sweeps/27ca0onv' target=\"_blank\">https://wandb.ai/zekai-wang/RecurrentTPP%20on%20ANSS%20Nov%205/sweeps/27ca0onv</a>"
      ],
      "text/plain": [
       "<IPython.core.display.HTML object>"
      ]
     },
     "metadata": {},
     "output_type": "display_data"
    },
    {
     "data": {
      "text/html": [
       " View run at <a href='https://wandb.ai/zekai-wang/RecurrentTPP%20on%20ANSS%20Nov%205/runs/bwkunbmj' target=\"_blank\">https://wandb.ai/zekai-wang/RecurrentTPP%20on%20ANSS%20Nov%205/runs/bwkunbmj</a>"
      ],
      "text/plain": [
       "<IPython.core.display.HTML object>"
      ]
     },
     "metadata": {},
     "output_type": "display_data"
    },
    {
     "data": {
      "application/vnd.jupyter.widget-view+json": {
       "model_id": "664ea192c5ed4a5d920fccbc0311519a",
       "version_major": 2,
       "version_minor": 0
      },
      "text/plain": [
       "  0%|          | 0/200 [00:00<?, ?it/s]"
      ]
     },
     "metadata": {},
     "output_type": "display_data"
    },
    {
     "data": {
      "text/html": [
       "Waiting for W&B process to finish... <strong style=\"color:green\">(success).</strong>"
      ],
      "text/plain": [
       "<IPython.core.display.HTML object>"
      ]
     },
     "metadata": {},
     "output_type": "display_data"
    },
    {
     "data": {
      "application/vnd.jupyter.widget-view+json": {
       "model_id": "7025e9327b7445c9a4e2a3de8168fa98",
       "version_major": 2,
       "version_minor": 0
      },
      "text/plain": [
       "VBox(children=(Label(value='0.003 MB of 0.003 MB uploaded (0.000 MB deduped)\\r'), FloatProgress(value=1.0, max…"
      ]
     },
     "metadata": {},
     "output_type": "display_data"
    },
    {
     "data": {
      "text/html": [
       "<style>\n",
       "    table.wandb td:nth-child(1) { padding: 0 10px; text-align: left ; width: auto;} td:nth-child(2) {text-align: left ; width: 100%}\n",
       "    .wandb-row { display: flex; flex-direction: row; flex-wrap: wrap; justify-content: flex-start; width: 100% }\n",
       "    .wandb-col { display: flex; flex-direction: column; flex-basis: 100%; flex: 1; padding: 10px; }\n",
       "    </style>\n",
       "<div class=\"wandb-row\"><div class=\"wandb-col\"><h3>Run history:</h3><br/><table class=\"wandb\"><tr><td>avg_test_loss</td><td>▁</td></tr></table><br/></div><div class=\"wandb-col\"><h3>Run summary:</h3><br/><table class=\"wandb\"><tr><td>avg_test_loss</td><td>0.16801</td></tr></table><br/></div></div>"
      ],
      "text/plain": [
       "<IPython.core.display.HTML object>"
      ]
     },
     "metadata": {},
     "output_type": "display_data"
    },
    {
     "data": {
      "text/html": [
       " View run <strong style=\"color:#cdcd00\">wandering-sweep-53</strong> at: <a href='https://wandb.ai/zekai-wang/RecurrentTPP%20on%20ANSS%20Nov%205/runs/bwkunbmj' target=\"_blank\">https://wandb.ai/zekai-wang/RecurrentTPP%20on%20ANSS%20Nov%205/runs/bwkunbmj</a><br/>Synced 5 W&B file(s), 0 media file(s), 0 artifact file(s) and 0 other file(s)"
      ],
      "text/plain": [
       "<IPython.core.display.HTML object>"
      ]
     },
     "metadata": {},
     "output_type": "display_data"
    },
    {
     "data": {
      "text/html": [
       "Find logs at: <code>./wandb/run-20231105_233314-bwkunbmj/logs</code>"
      ],
      "text/plain": [
       "<IPython.core.display.HTML object>"
      ]
     },
     "metadata": {},
     "output_type": "display_data"
    },
    {
     "name": "stderr",
     "output_type": "stream",
     "text": [
      "\u001b[34m\u001b[1mwandb\u001b[0m: Agent Starting Run: 01jldty5 with config:\n",
      "\u001b[34m\u001b[1mwandb\u001b[0m: \tbatch_size: 64\n",
      "\u001b[34m\u001b[1mwandb\u001b[0m: \tbetas: [0.9, 0.999]\n",
      "\u001b[34m\u001b[1mwandb\u001b[0m: \tcontext_size: 8\n",
      "\u001b[34m\u001b[1mwandb\u001b[0m: \tdropout_proba: 0.3\n",
      "\u001b[34m\u001b[1mwandb\u001b[0m: \tlr: 0.01\n",
      "\u001b[34m\u001b[1mwandb\u001b[0m: \tnum_components: 128\n",
      "\u001b[34m\u001b[1mwandb\u001b[0m: \trnn_type: RNN\n",
      "\u001b[34m\u001b[1mwandb\u001b[0m: \tweight_decay: 0.05\n"
     ]
    },
    {
     "data": {
      "text/html": [
       "Tracking run with wandb version 0.15.12"
      ],
      "text/plain": [
       "<IPython.core.display.HTML object>"
      ]
     },
     "metadata": {},
     "output_type": "display_data"
    },
    {
     "data": {
      "text/html": [
       "Run data is saved locally in <code>/home/zekai/repos/recast/notebooks/Zekai/hyperparameter_sweep/wandb/run-20231105_233431-01jldty5</code>"
      ],
      "text/plain": [
       "<IPython.core.display.HTML object>"
      ]
     },
     "metadata": {},
     "output_type": "display_data"
    },
    {
     "data": {
      "text/html": [
       "Syncing run <strong><a href='https://wandb.ai/zekai-wang/RecurrentTPP%20on%20ANSS%20Nov%205/runs/01jldty5' target=\"_blank\">summer-sweep-54</a></strong> to <a href='https://wandb.ai/zekai-wang/RecurrentTPP%20on%20ANSS%20Nov%205' target=\"_blank\">Weights & Biases</a> (<a href='https://wandb.me/run' target=\"_blank\">docs</a>)<br/>Sweep page: <a href='https://wandb.ai/zekai-wang/RecurrentTPP%20on%20ANSS%20Nov%205/sweeps/27ca0onv' target=\"_blank\">https://wandb.ai/zekai-wang/RecurrentTPP%20on%20ANSS%20Nov%205/sweeps/27ca0onv</a>"
      ],
      "text/plain": [
       "<IPython.core.display.HTML object>"
      ]
     },
     "metadata": {},
     "output_type": "display_data"
    },
    {
     "data": {
      "text/html": [
       " View project at <a href='https://wandb.ai/zekai-wang/RecurrentTPP%20on%20ANSS%20Nov%205' target=\"_blank\">https://wandb.ai/zekai-wang/RecurrentTPP%20on%20ANSS%20Nov%205</a>"
      ],
      "text/plain": [
       "<IPython.core.display.HTML object>"
      ]
     },
     "metadata": {},
     "output_type": "display_data"
    },
    {
     "data": {
      "text/html": [
       " View sweep at <a href='https://wandb.ai/zekai-wang/RecurrentTPP%20on%20ANSS%20Nov%205/sweeps/27ca0onv' target=\"_blank\">https://wandb.ai/zekai-wang/RecurrentTPP%20on%20ANSS%20Nov%205/sweeps/27ca0onv</a>"
      ],
      "text/plain": [
       "<IPython.core.display.HTML object>"
      ]
     },
     "metadata": {},
     "output_type": "display_data"
    },
    {
     "data": {
      "text/html": [
       " View run at <a href='https://wandb.ai/zekai-wang/RecurrentTPP%20on%20ANSS%20Nov%205/runs/01jldty5' target=\"_blank\">https://wandb.ai/zekai-wang/RecurrentTPP%20on%20ANSS%20Nov%205/runs/01jldty5</a>"
      ],
      "text/plain": [
       "<IPython.core.display.HTML object>"
      ]
     },
     "metadata": {},
     "output_type": "display_data"
    },
    {
     "data": {
      "application/vnd.jupyter.widget-view+json": {
       "model_id": "c260e0a401c4430aaabe9f5c8ba3e673",
       "version_major": 2,
       "version_minor": 0
      },
      "text/plain": [
       "  0%|          | 0/200 [00:00<?, ?it/s]"
      ]
     },
     "metadata": {},
     "output_type": "display_data"
    },
    {
     "data": {
      "text/html": [
       "Waiting for W&B process to finish... <strong style=\"color:green\">(success).</strong>"
      ],
      "text/plain": [
       "<IPython.core.display.HTML object>"
      ]
     },
     "metadata": {},
     "output_type": "display_data"
    },
    {
     "data": {
      "text/html": [
       "<style>\n",
       "    table.wandb td:nth-child(1) { padding: 0 10px; text-align: left ; width: auto;} td:nth-child(2) {text-align: left ; width: 100%}\n",
       "    .wandb-row { display: flex; flex-direction: row; flex-wrap: wrap; justify-content: flex-start; width: 100% }\n",
       "    .wandb-col { display: flex; flex-direction: column; flex-basis: 100%; flex: 1; padding: 10px; }\n",
       "    </style>\n",
       "<div class=\"wandb-row\"><div class=\"wandb-col\"><h3>Run history:</h3><br/><table class=\"wandb\"><tr><td>avg_test_loss</td><td>▁</td></tr></table><br/></div><div class=\"wandb-col\"><h3>Run summary:</h3><br/><table class=\"wandb\"><tr><td>avg_test_loss</td><td>0.21786</td></tr></table><br/></div></div>"
      ],
      "text/plain": [
       "<IPython.core.display.HTML object>"
      ]
     },
     "metadata": {},
     "output_type": "display_data"
    },
    {
     "data": {
      "text/html": [
       " View run <strong style=\"color:#cdcd00\">summer-sweep-54</strong> at: <a href='https://wandb.ai/zekai-wang/RecurrentTPP%20on%20ANSS%20Nov%205/runs/01jldty5' target=\"_blank\">https://wandb.ai/zekai-wang/RecurrentTPP%20on%20ANSS%20Nov%205/runs/01jldty5</a><br/>Synced 5 W&B file(s), 0 media file(s), 0 artifact file(s) and 0 other file(s)"
      ],
      "text/plain": [
       "<IPython.core.display.HTML object>"
      ]
     },
     "metadata": {},
     "output_type": "display_data"
    },
    {
     "data": {
      "text/html": [
       "Find logs at: <code>./wandb/run-20231105_233431-01jldty5/logs</code>"
      ],
      "text/plain": [
       "<IPython.core.display.HTML object>"
      ]
     },
     "metadata": {},
     "output_type": "display_data"
    },
    {
     "name": "stderr",
     "output_type": "stream",
     "text": [
      "\u001b[34m\u001b[1mwandb\u001b[0m: Agent Starting Run: d30arbq6 with config:\n",
      "\u001b[34m\u001b[1mwandb\u001b[0m: \tbatch_size: 128\n",
      "\u001b[34m\u001b[1mwandb\u001b[0m: \tbetas: [0.9, 0.999]\n",
      "\u001b[34m\u001b[1mwandb\u001b[0m: \tcontext_size: 8\n",
      "\u001b[34m\u001b[1mwandb\u001b[0m: \tdropout_proba: 0.3\n",
      "\u001b[34m\u001b[1mwandb\u001b[0m: \tlr: 0.05\n",
      "\u001b[34m\u001b[1mwandb\u001b[0m: \tnum_components: 8\n",
      "\u001b[34m\u001b[1mwandb\u001b[0m: \trnn_type: LSTM\n",
      "\u001b[34m\u001b[1mwandb\u001b[0m: \tweight_decay: 0\n"
     ]
    },
    {
     "data": {
      "text/html": [
       "Tracking run with wandb version 0.15.12"
      ],
      "text/plain": [
       "<IPython.core.display.HTML object>"
      ]
     },
     "metadata": {},
     "output_type": "display_data"
    },
    {
     "data": {
      "text/html": [
       "Run data is saved locally in <code>/home/zekai/repos/recast/notebooks/Zekai/hyperparameter_sweep/wandb/run-20231105_233557-d30arbq6</code>"
      ],
      "text/plain": [
       "<IPython.core.display.HTML object>"
      ]
     },
     "metadata": {},
     "output_type": "display_data"
    },
    {
     "data": {
      "text/html": [
       "Syncing run <strong><a href='https://wandb.ai/zekai-wang/RecurrentTPP%20on%20ANSS%20Nov%205/runs/d30arbq6' target=\"_blank\">vivid-sweep-55</a></strong> to <a href='https://wandb.ai/zekai-wang/RecurrentTPP%20on%20ANSS%20Nov%205' target=\"_blank\">Weights & Biases</a> (<a href='https://wandb.me/run' target=\"_blank\">docs</a>)<br/>Sweep page: <a href='https://wandb.ai/zekai-wang/RecurrentTPP%20on%20ANSS%20Nov%205/sweeps/27ca0onv' target=\"_blank\">https://wandb.ai/zekai-wang/RecurrentTPP%20on%20ANSS%20Nov%205/sweeps/27ca0onv</a>"
      ],
      "text/plain": [
       "<IPython.core.display.HTML object>"
      ]
     },
     "metadata": {},
     "output_type": "display_data"
    },
    {
     "data": {
      "text/html": [
       " View project at <a href='https://wandb.ai/zekai-wang/RecurrentTPP%20on%20ANSS%20Nov%205' target=\"_blank\">https://wandb.ai/zekai-wang/RecurrentTPP%20on%20ANSS%20Nov%205</a>"
      ],
      "text/plain": [
       "<IPython.core.display.HTML object>"
      ]
     },
     "metadata": {},
     "output_type": "display_data"
    },
    {
     "data": {
      "text/html": [
       " View sweep at <a href='https://wandb.ai/zekai-wang/RecurrentTPP%20on%20ANSS%20Nov%205/sweeps/27ca0onv' target=\"_blank\">https://wandb.ai/zekai-wang/RecurrentTPP%20on%20ANSS%20Nov%205/sweeps/27ca0onv</a>"
      ],
      "text/plain": [
       "<IPython.core.display.HTML object>"
      ]
     },
     "metadata": {},
     "output_type": "display_data"
    },
    {
     "data": {
      "text/html": [
       " View run at <a href='https://wandb.ai/zekai-wang/RecurrentTPP%20on%20ANSS%20Nov%205/runs/d30arbq6' target=\"_blank\">https://wandb.ai/zekai-wang/RecurrentTPP%20on%20ANSS%20Nov%205/runs/d30arbq6</a>"
      ],
      "text/plain": [
       "<IPython.core.display.HTML object>"
      ]
     },
     "metadata": {},
     "output_type": "display_data"
    },
    {
     "data": {
      "application/vnd.jupyter.widget-view+json": {
       "model_id": "62f162f8bc97451396a9ec0f728d6bbf",
       "version_major": 2,
       "version_minor": 0
      },
      "text/plain": [
       "  0%|          | 0/200 [00:00<?, ?it/s]"
      ]
     },
     "metadata": {},
     "output_type": "display_data"
    },
    {
     "data": {
      "text/html": [
       "Waiting for W&B process to finish... <strong style=\"color:green\">(success).</strong>"
      ],
      "text/plain": [
       "<IPython.core.display.HTML object>"
      ]
     },
     "metadata": {},
     "output_type": "display_data"
    },
    {
     "data": {
      "text/html": [
       "<style>\n",
       "    table.wandb td:nth-child(1) { padding: 0 10px; text-align: left ; width: auto;} td:nth-child(2) {text-align: left ; width: 100%}\n",
       "    .wandb-row { display: flex; flex-direction: row; flex-wrap: wrap; justify-content: flex-start; width: 100% }\n",
       "    .wandb-col { display: flex; flex-direction: column; flex-basis: 100%; flex: 1; padding: 10px; }\n",
       "    </style>\n",
       "<div class=\"wandb-row\"><div class=\"wandb-col\"><h3>Run history:</h3><br/><table class=\"wandb\"><tr><td>avg_test_loss</td><td>▁</td></tr></table><br/></div><div class=\"wandb-col\"><h3>Run summary:</h3><br/><table class=\"wandb\"><tr><td>avg_test_loss</td><td>0.17425</td></tr></table><br/></div></div>"
      ],
      "text/plain": [
       "<IPython.core.display.HTML object>"
      ]
     },
     "metadata": {},
     "output_type": "display_data"
    },
    {
     "data": {
      "text/html": [
       " View run <strong style=\"color:#cdcd00\">vivid-sweep-55</strong> at: <a href='https://wandb.ai/zekai-wang/RecurrentTPP%20on%20ANSS%20Nov%205/runs/d30arbq6' target=\"_blank\">https://wandb.ai/zekai-wang/RecurrentTPP%20on%20ANSS%20Nov%205/runs/d30arbq6</a><br/>Synced 5 W&B file(s), 0 media file(s), 0 artifact file(s) and 0 other file(s)"
      ],
      "text/plain": [
       "<IPython.core.display.HTML object>"
      ]
     },
     "metadata": {},
     "output_type": "display_data"
    },
    {
     "data": {
      "text/html": [
       "Find logs at: <code>./wandb/run-20231105_233557-d30arbq6/logs</code>"
      ],
      "text/plain": [
       "<IPython.core.display.HTML object>"
      ]
     },
     "metadata": {},
     "output_type": "display_data"
    },
    {
     "name": "stderr",
     "output_type": "stream",
     "text": [
      "\u001b[34m\u001b[1mwandb\u001b[0m: Agent Starting Run: cnbop7dm with config:\n",
      "\u001b[34m\u001b[1mwandb\u001b[0m: \tbatch_size: 8\n",
      "\u001b[34m\u001b[1mwandb\u001b[0m: \tbetas: [0.9, 0.999]\n",
      "\u001b[34m\u001b[1mwandb\u001b[0m: \tcontext_size: 128\n",
      "\u001b[34m\u001b[1mwandb\u001b[0m: \tdropout_proba: 0\n",
      "\u001b[34m\u001b[1mwandb\u001b[0m: \tlr: 0.005\n",
      "\u001b[34m\u001b[1mwandb\u001b[0m: \tnum_components: 128\n",
      "\u001b[34m\u001b[1mwandb\u001b[0m: \trnn_type: RNN\n",
      "\u001b[34m\u001b[1mwandb\u001b[0m: \tweight_decay: 0.005\n"
     ]
    },
    {
     "data": {
      "text/html": [
       "Tracking run with wandb version 0.15.12"
      ],
      "text/plain": [
       "<IPython.core.display.HTML object>"
      ]
     },
     "metadata": {},
     "output_type": "display_data"
    },
    {
     "data": {
      "text/html": [
       "Run data is saved locally in <code>/home/zekai/repos/recast/notebooks/Zekai/hyperparameter_sweep/wandb/run-20231105_233704-cnbop7dm</code>"
      ],
      "text/plain": [
       "<IPython.core.display.HTML object>"
      ]
     },
     "metadata": {},
     "output_type": "display_data"
    },
    {
     "data": {
      "text/html": [
       "Syncing run <strong><a href='https://wandb.ai/zekai-wang/RecurrentTPP%20on%20ANSS%20Nov%205/runs/cnbop7dm' target=\"_blank\">valiant-sweep-56</a></strong> to <a href='https://wandb.ai/zekai-wang/RecurrentTPP%20on%20ANSS%20Nov%205' target=\"_blank\">Weights & Biases</a> (<a href='https://wandb.me/run' target=\"_blank\">docs</a>)<br/>Sweep page: <a href='https://wandb.ai/zekai-wang/RecurrentTPP%20on%20ANSS%20Nov%205/sweeps/27ca0onv' target=\"_blank\">https://wandb.ai/zekai-wang/RecurrentTPP%20on%20ANSS%20Nov%205/sweeps/27ca0onv</a>"
      ],
      "text/plain": [
       "<IPython.core.display.HTML object>"
      ]
     },
     "metadata": {},
     "output_type": "display_data"
    },
    {
     "data": {
      "text/html": [
       " View project at <a href='https://wandb.ai/zekai-wang/RecurrentTPP%20on%20ANSS%20Nov%205' target=\"_blank\">https://wandb.ai/zekai-wang/RecurrentTPP%20on%20ANSS%20Nov%205</a>"
      ],
      "text/plain": [
       "<IPython.core.display.HTML object>"
      ]
     },
     "metadata": {},
     "output_type": "display_data"
    },
    {
     "data": {
      "text/html": [
       " View sweep at <a href='https://wandb.ai/zekai-wang/RecurrentTPP%20on%20ANSS%20Nov%205/sweeps/27ca0onv' target=\"_blank\">https://wandb.ai/zekai-wang/RecurrentTPP%20on%20ANSS%20Nov%205/sweeps/27ca0onv</a>"
      ],
      "text/plain": [
       "<IPython.core.display.HTML object>"
      ]
     },
     "metadata": {},
     "output_type": "display_data"
    },
    {
     "data": {
      "text/html": [
       " View run at <a href='https://wandb.ai/zekai-wang/RecurrentTPP%20on%20ANSS%20Nov%205/runs/cnbop7dm' target=\"_blank\">https://wandb.ai/zekai-wang/RecurrentTPP%20on%20ANSS%20Nov%205/runs/cnbop7dm</a>"
      ],
      "text/plain": [
       "<IPython.core.display.HTML object>"
      ]
     },
     "metadata": {},
     "output_type": "display_data"
    },
    {
     "data": {
      "application/vnd.jupyter.widget-view+json": {
       "model_id": "f8cdec007c80497b8a6977f5dffa1223",
       "version_major": 2,
       "version_minor": 0
      },
      "text/plain": [
       "  0%|          | 0/200 [00:00<?, ?it/s]"
      ]
     },
     "metadata": {},
     "output_type": "display_data"
    },
    {
     "name": "stdout",
     "output_type": "stream",
     "text": [
      "Expected parameter scale (Tensor of shape (8, 643, 128)) of distribution Weibull(scale: torch.Size([8, 643, 128]), shape: torch.Size([8, 643, 128])) to satisfy the constraint GreaterThan(lower_bound=0.0), but found invalid values:\n",
      "tensor([[[0.8074, 0.5551, 0.4743,  ..., 0.7552, 0.6703, 1.6492],\n",
      "         [   nan,    nan,    nan,  ...,    nan,    nan,    nan],\n",
      "         [   nan,    nan,    nan,  ...,    nan,    nan,    nan],\n",
      "         ...,\n",
      "         [   nan,    nan,    nan,  ...,    nan,    nan,    nan],\n",
      "         [   nan,    nan,    nan,  ...,    nan,    nan,    nan],\n",
      "         [   nan,    nan,    nan,  ...,    nan,    nan,    nan]],\n",
      "\n",
      "        [[0.8074, 0.5551, 0.4743,  ..., 0.7552, 0.6703, 1.6492],\n",
      "         [   nan,    nan,    nan,  ...,    nan,    nan,    nan],\n",
      "         [   nan,    nan,    nan,  ...,    nan,    nan,    nan],\n",
      "         ...,\n",
      "         [   nan,    nan,    nan,  ...,    nan,    nan,    nan],\n",
      "         [   nan,    nan,    nan,  ...,    nan,    nan,    nan],\n",
      "         [   nan,    nan,    nan,  ...,    nan,    nan,    nan]],\n",
      "\n",
      "        [[0.8074, 0.5551, 0.4743,  ..., 0.7552, 0.6703, 1.6492],\n",
      "         [   nan,    nan,    nan,  ...,    nan,    nan,    nan],\n",
      "         [   nan,    nan,    nan,  ...,    nan,    nan,    nan],\n",
      "         ...,\n",
      "         [   nan,    nan,    nan,  ...,    nan,    nan,    nan],\n",
      "         [   nan,    nan,    nan,  ...,    nan,    nan,    nan],\n",
      "         [   nan,    nan,    nan,  ...,    nan,    nan,    nan]],\n",
      "\n",
      "        ...,\n",
      "\n",
      "        [[0.8074, 0.5551, 0.4743,  ..., 0.7552, 0.6703, 1.6492],\n",
      "         [   nan,    nan,    nan,  ...,    nan,    nan,    nan],\n",
      "         [   nan,    nan,    nan,  ...,    nan,    nan,    nan],\n",
      "         ...,\n",
      "         [   nan,    nan,    nan,  ...,    nan,    nan,    nan],\n",
      "         [   nan,    nan,    nan,  ...,    nan,    nan,    nan],\n",
      "         [   nan,    nan,    nan,  ...,    nan,    nan,    nan]],\n",
      "\n",
      "        [[0.8074, 0.5551, 0.4743,  ..., 0.7552, 0.6703, 1.6492],\n",
      "         [   nan,    nan,    nan,  ...,    nan,    nan,    nan],\n",
      "         [   nan,    nan,    nan,  ...,    nan,    nan,    nan],\n",
      "         ...,\n",
      "         [   nan,    nan,    nan,  ...,    nan,    nan,    nan],\n",
      "         [   nan,    nan,    nan,  ...,    nan,    nan,    nan],\n",
      "         [   nan,    nan,    nan,  ...,    nan,    nan,    nan]],\n",
      "\n",
      "        [[0.8074, 0.5551, 0.4743,  ..., 0.7552, 0.6703, 1.6492],\n",
      "         [   nan,    nan,    nan,  ...,    nan,    nan,    nan],\n",
      "         [   nan,    nan,    nan,  ...,    nan,    nan,    nan],\n",
      "         ...,\n",
      "         [   nan,    nan,    nan,  ...,    nan,    nan,    nan],\n",
      "         [   nan,    nan,    nan,  ...,    nan,    nan,    nan],\n",
      "         [   nan,    nan,    nan,  ...,    nan,    nan,    nan]]],\n",
      "       device='cuda:0', grad_fn=<SoftplusBackward0>)\n"
     ]
    },
    {
     "data": {
      "text/html": [
       "Waiting for W&B process to finish... <strong style=\"color:green\">(success).</strong>"
      ],
      "text/plain": [
       "<IPython.core.display.HTML object>"
      ]
     },
     "metadata": {},
     "output_type": "display_data"
    },
    {
     "data": {
      "text/html": [
       "<style>\n",
       "    table.wandb td:nth-child(1) { padding: 0 10px; text-align: left ; width: auto;} td:nth-child(2) {text-align: left ; width: 100%}\n",
       "    .wandb-row { display: flex; flex-direction: row; flex-wrap: wrap; justify-content: flex-start; width: 100% }\n",
       "    .wandb-col { display: flex; flex-direction: column; flex-basis: 100%; flex: 1; padding: 10px; }\n",
       "    </style>\n",
       "<div class=\"wandb-row\"><div class=\"wandb-col\"><h3>Run summary:</h3><br/><table class=\"wandb\"><tr><td>avg_test_loss</td><td>nan</td></tr></table><br/></div></div>"
      ],
      "text/plain": [
       "<IPython.core.display.HTML object>"
      ]
     },
     "metadata": {},
     "output_type": "display_data"
    },
    {
     "data": {
      "text/html": [
       " View run <strong style=\"color:#cdcd00\">valiant-sweep-56</strong> at: <a href='https://wandb.ai/zekai-wang/RecurrentTPP%20on%20ANSS%20Nov%205/runs/cnbop7dm' target=\"_blank\">https://wandb.ai/zekai-wang/RecurrentTPP%20on%20ANSS%20Nov%205/runs/cnbop7dm</a><br/>Synced 6 W&B file(s), 0 media file(s), 0 artifact file(s) and 0 other file(s)"
      ],
      "text/plain": [
       "<IPython.core.display.HTML object>"
      ]
     },
     "metadata": {},
     "output_type": "display_data"
    },
    {
     "data": {
      "text/html": [
       "Find logs at: <code>./wandb/run-20231105_233704-cnbop7dm/logs</code>"
      ],
      "text/plain": [
       "<IPython.core.display.HTML object>"
      ]
     },
     "metadata": {},
     "output_type": "display_data"
    },
    {
     "name": "stderr",
     "output_type": "stream",
     "text": [
      "\u001b[34m\u001b[1mwandb\u001b[0m: Agent Starting Run: ezuae5jm with config:\n",
      "\u001b[34m\u001b[1mwandb\u001b[0m: \tbatch_size: 128\n",
      "\u001b[34m\u001b[1mwandb\u001b[0m: \tbetas: [0.9, 0.999]\n",
      "\u001b[34m\u001b[1mwandb\u001b[0m: \tcontext_size: 32\n",
      "\u001b[34m\u001b[1mwandb\u001b[0m: \tdropout_proba: 0.4\n",
      "\u001b[34m\u001b[1mwandb\u001b[0m: \tlr: 0.05\n",
      "\u001b[34m\u001b[1mwandb\u001b[0m: \tnum_components: 32\n",
      "\u001b[34m\u001b[1mwandb\u001b[0m: \trnn_type: GRU\n",
      "\u001b[34m\u001b[1mwandb\u001b[0m: \tweight_decay: 0.01\n"
     ]
    },
    {
     "data": {
      "text/html": [
       "Tracking run with wandb version 0.15.12"
      ],
      "text/plain": [
       "<IPython.core.display.HTML object>"
      ]
     },
     "metadata": {},
     "output_type": "display_data"
    },
    {
     "data": {
      "text/html": [
       "Run data is saved locally in <code>/home/zekai/repos/recast/notebooks/Zekai/hyperparameter_sweep/wandb/run-20231105_233755-ezuae5jm</code>"
      ],
      "text/plain": [
       "<IPython.core.display.HTML object>"
      ]
     },
     "metadata": {},
     "output_type": "display_data"
    },
    {
     "data": {
      "text/html": [
       "Syncing run <strong><a href='https://wandb.ai/zekai-wang/RecurrentTPP%20on%20ANSS%20Nov%205/runs/ezuae5jm' target=\"_blank\">wise-sweep-57</a></strong> to <a href='https://wandb.ai/zekai-wang/RecurrentTPP%20on%20ANSS%20Nov%205' target=\"_blank\">Weights & Biases</a> (<a href='https://wandb.me/run' target=\"_blank\">docs</a>)<br/>Sweep page: <a href='https://wandb.ai/zekai-wang/RecurrentTPP%20on%20ANSS%20Nov%205/sweeps/27ca0onv' target=\"_blank\">https://wandb.ai/zekai-wang/RecurrentTPP%20on%20ANSS%20Nov%205/sweeps/27ca0onv</a>"
      ],
      "text/plain": [
       "<IPython.core.display.HTML object>"
      ]
     },
     "metadata": {},
     "output_type": "display_data"
    },
    {
     "data": {
      "text/html": [
       " View project at <a href='https://wandb.ai/zekai-wang/RecurrentTPP%20on%20ANSS%20Nov%205' target=\"_blank\">https://wandb.ai/zekai-wang/RecurrentTPP%20on%20ANSS%20Nov%205</a>"
      ],
      "text/plain": [
       "<IPython.core.display.HTML object>"
      ]
     },
     "metadata": {},
     "output_type": "display_data"
    },
    {
     "data": {
      "text/html": [
       " View sweep at <a href='https://wandb.ai/zekai-wang/RecurrentTPP%20on%20ANSS%20Nov%205/sweeps/27ca0onv' target=\"_blank\">https://wandb.ai/zekai-wang/RecurrentTPP%20on%20ANSS%20Nov%205/sweeps/27ca0onv</a>"
      ],
      "text/plain": [
       "<IPython.core.display.HTML object>"
      ]
     },
     "metadata": {},
     "output_type": "display_data"
    },
    {
     "data": {
      "text/html": [
       " View run at <a href='https://wandb.ai/zekai-wang/RecurrentTPP%20on%20ANSS%20Nov%205/runs/ezuae5jm' target=\"_blank\">https://wandb.ai/zekai-wang/RecurrentTPP%20on%20ANSS%20Nov%205/runs/ezuae5jm</a>"
      ],
      "text/plain": [
       "<IPython.core.display.HTML object>"
      ]
     },
     "metadata": {},
     "output_type": "display_data"
    },
    {
     "data": {
      "application/vnd.jupyter.widget-view+json": {
       "model_id": "871b24bd36d8410fac727e348b64321f",
       "version_major": 2,
       "version_minor": 0
      },
      "text/plain": [
       "  0%|          | 0/200 [00:00<?, ?it/s]"
      ]
     },
     "metadata": {},
     "output_type": "display_data"
    },
    {
     "data": {
      "text/html": [
       "Waiting for W&B process to finish... <strong style=\"color:green\">(success).</strong>"
      ],
      "text/plain": [
       "<IPython.core.display.HTML object>"
      ]
     },
     "metadata": {},
     "output_type": "display_data"
    },
    {
     "data": {
      "text/html": [
       "<style>\n",
       "    table.wandb td:nth-child(1) { padding: 0 10px; text-align: left ; width: auto;} td:nth-child(2) {text-align: left ; width: 100%}\n",
       "    .wandb-row { display: flex; flex-direction: row; flex-wrap: wrap; justify-content: flex-start; width: 100% }\n",
       "    .wandb-col { display: flex; flex-direction: column; flex-basis: 100%; flex: 1; padding: 10px; }\n",
       "    </style>\n",
       "<div class=\"wandb-row\"><div class=\"wandb-col\"><h3>Run history:</h3><br/><table class=\"wandb\"><tr><td>avg_test_loss</td><td>▁</td></tr></table><br/></div><div class=\"wandb-col\"><h3>Run summary:</h3><br/><table class=\"wandb\"><tr><td>avg_test_loss</td><td>0.16574</td></tr></table><br/></div></div>"
      ],
      "text/plain": [
       "<IPython.core.display.HTML object>"
      ]
     },
     "metadata": {},
     "output_type": "display_data"
    },
    {
     "data": {
      "text/html": [
       " View run <strong style=\"color:#cdcd00\">wise-sweep-57</strong> at: <a href='https://wandb.ai/zekai-wang/RecurrentTPP%20on%20ANSS%20Nov%205/runs/ezuae5jm' target=\"_blank\">https://wandb.ai/zekai-wang/RecurrentTPP%20on%20ANSS%20Nov%205/runs/ezuae5jm</a><br/>Synced 5 W&B file(s), 0 media file(s), 0 artifact file(s) and 0 other file(s)"
      ],
      "text/plain": [
       "<IPython.core.display.HTML object>"
      ]
     },
     "metadata": {},
     "output_type": "display_data"
    },
    {
     "data": {
      "text/html": [
       "Find logs at: <code>./wandb/run-20231105_233755-ezuae5jm/logs</code>"
      ],
      "text/plain": [
       "<IPython.core.display.HTML object>"
      ]
     },
     "metadata": {},
     "output_type": "display_data"
    },
    {
     "name": "stderr",
     "output_type": "stream",
     "text": [
      "\u001b[34m\u001b[1mwandb\u001b[0m: Agent Starting Run: yj0x8u64 with config:\n",
      "\u001b[34m\u001b[1mwandb\u001b[0m: \tbatch_size: 32\n",
      "\u001b[34m\u001b[1mwandb\u001b[0m: \tbetas: [0.9, 0.999]\n",
      "\u001b[34m\u001b[1mwandb\u001b[0m: \tcontext_size: 128\n",
      "\u001b[34m\u001b[1mwandb\u001b[0m: \tdropout_proba: 0.4\n",
      "\u001b[34m\u001b[1mwandb\u001b[0m: \tlr: 0.002\n",
      "\u001b[34m\u001b[1mwandb\u001b[0m: \tnum_components: 64\n",
      "\u001b[34m\u001b[1mwandb\u001b[0m: \trnn_type: LSTM\n",
      "\u001b[34m\u001b[1mwandb\u001b[0m: \tweight_decay: 0\n"
     ]
    },
    {
     "data": {
      "text/html": [
       "Tracking run with wandb version 0.15.12"
      ],
      "text/plain": [
       "<IPython.core.display.HTML object>"
      ]
     },
     "metadata": {},
     "output_type": "display_data"
    },
    {
     "data": {
      "text/html": [
       "Run data is saved locally in <code>/home/zekai/repos/recast/notebooks/Zekai/hyperparameter_sweep/wandb/run-20231105_233910-yj0x8u64</code>"
      ],
      "text/plain": [
       "<IPython.core.display.HTML object>"
      ]
     },
     "metadata": {},
     "output_type": "display_data"
    },
    {
     "data": {
      "text/html": [
       "Syncing run <strong><a href='https://wandb.ai/zekai-wang/RecurrentTPP%20on%20ANSS%20Nov%205/runs/yj0x8u64' target=\"_blank\">sleek-sweep-58</a></strong> to <a href='https://wandb.ai/zekai-wang/RecurrentTPP%20on%20ANSS%20Nov%205' target=\"_blank\">Weights & Biases</a> (<a href='https://wandb.me/run' target=\"_blank\">docs</a>)<br/>Sweep page: <a href='https://wandb.ai/zekai-wang/RecurrentTPP%20on%20ANSS%20Nov%205/sweeps/27ca0onv' target=\"_blank\">https://wandb.ai/zekai-wang/RecurrentTPP%20on%20ANSS%20Nov%205/sweeps/27ca0onv</a>"
      ],
      "text/plain": [
       "<IPython.core.display.HTML object>"
      ]
     },
     "metadata": {},
     "output_type": "display_data"
    },
    {
     "data": {
      "text/html": [
       " View project at <a href='https://wandb.ai/zekai-wang/RecurrentTPP%20on%20ANSS%20Nov%205' target=\"_blank\">https://wandb.ai/zekai-wang/RecurrentTPP%20on%20ANSS%20Nov%205</a>"
      ],
      "text/plain": [
       "<IPython.core.display.HTML object>"
      ]
     },
     "metadata": {},
     "output_type": "display_data"
    },
    {
     "data": {
      "text/html": [
       " View sweep at <a href='https://wandb.ai/zekai-wang/RecurrentTPP%20on%20ANSS%20Nov%205/sweeps/27ca0onv' target=\"_blank\">https://wandb.ai/zekai-wang/RecurrentTPP%20on%20ANSS%20Nov%205/sweeps/27ca0onv</a>"
      ],
      "text/plain": [
       "<IPython.core.display.HTML object>"
      ]
     },
     "metadata": {},
     "output_type": "display_data"
    },
    {
     "data": {
      "text/html": [
       " View run at <a href='https://wandb.ai/zekai-wang/RecurrentTPP%20on%20ANSS%20Nov%205/runs/yj0x8u64' target=\"_blank\">https://wandb.ai/zekai-wang/RecurrentTPP%20on%20ANSS%20Nov%205/runs/yj0x8u64</a>"
      ],
      "text/plain": [
       "<IPython.core.display.HTML object>"
      ]
     },
     "metadata": {},
     "output_type": "display_data"
    },
    {
     "data": {
      "application/vnd.jupyter.widget-view+json": {
       "model_id": "02aa06a63998468f8a74528649bae65a",
       "version_major": 2,
       "version_minor": 0
      },
      "text/plain": [
       "  0%|          | 0/200 [00:00<?, ?it/s]"
      ]
     },
     "metadata": {},
     "output_type": "display_data"
    },
    {
     "data": {
      "text/html": [
       "Waiting for W&B process to finish... <strong style=\"color:green\">(success).</strong>"
      ],
      "text/plain": [
       "<IPython.core.display.HTML object>"
      ]
     },
     "metadata": {},
     "output_type": "display_data"
    },
    {
     "data": {
      "text/html": [
       "<style>\n",
       "    table.wandb td:nth-child(1) { padding: 0 10px; text-align: left ; width: auto;} td:nth-child(2) {text-align: left ; width: 100%}\n",
       "    .wandb-row { display: flex; flex-direction: row; flex-wrap: wrap; justify-content: flex-start; width: 100% }\n",
       "    .wandb-col { display: flex; flex-direction: column; flex-basis: 100%; flex: 1; padding: 10px; }\n",
       "    </style>\n",
       "<div class=\"wandb-row\"><div class=\"wandb-col\"><h3>Run history:</h3><br/><table class=\"wandb\"><tr><td>avg_test_loss</td><td>▁</td></tr></table><br/></div><div class=\"wandb-col\"><h3>Run summary:</h3><br/><table class=\"wandb\"><tr><td>avg_test_loss</td><td>0.16338</td></tr></table><br/></div></div>"
      ],
      "text/plain": [
       "<IPython.core.display.HTML object>"
      ]
     },
     "metadata": {},
     "output_type": "display_data"
    },
    {
     "data": {
      "text/html": [
       " View run <strong style=\"color:#cdcd00\">sleek-sweep-58</strong> at: <a href='https://wandb.ai/zekai-wang/RecurrentTPP%20on%20ANSS%20Nov%205/runs/yj0x8u64' target=\"_blank\">https://wandb.ai/zekai-wang/RecurrentTPP%20on%20ANSS%20Nov%205/runs/yj0x8u64</a><br/>Synced 5 W&B file(s), 0 media file(s), 0 artifact file(s) and 0 other file(s)"
      ],
      "text/plain": [
       "<IPython.core.display.HTML object>"
      ]
     },
     "metadata": {},
     "output_type": "display_data"
    },
    {
     "data": {
      "text/html": [
       "Find logs at: <code>./wandb/run-20231105_233910-yj0x8u64/logs</code>"
      ],
      "text/plain": [
       "<IPython.core.display.HTML object>"
      ]
     },
     "metadata": {},
     "output_type": "display_data"
    },
    {
     "name": "stderr",
     "output_type": "stream",
     "text": [
      "\u001b[34m\u001b[1mwandb\u001b[0m: Agent Starting Run: iq68nn2z with config:\n",
      "\u001b[34m\u001b[1mwandb\u001b[0m: \tbatch_size: 128\n",
      "\u001b[34m\u001b[1mwandb\u001b[0m: \tbetas: [0.9, 0.999]\n",
      "\u001b[34m\u001b[1mwandb\u001b[0m: \tcontext_size: 128\n",
      "\u001b[34m\u001b[1mwandb\u001b[0m: \tdropout_proba: 0.3\n",
      "\u001b[34m\u001b[1mwandb\u001b[0m: \tlr: 0.02\n",
      "\u001b[34m\u001b[1mwandb\u001b[0m: \tnum_components: 8\n",
      "\u001b[34m\u001b[1mwandb\u001b[0m: \trnn_type: RNN\n",
      "\u001b[34m\u001b[1mwandb\u001b[0m: \tweight_decay: 0.001\n"
     ]
    },
    {
     "data": {
      "text/html": [
       "Tracking run with wandb version 0.15.12"
      ],
      "text/plain": [
       "<IPython.core.display.HTML object>"
      ]
     },
     "metadata": {},
     "output_type": "display_data"
    },
    {
     "data": {
      "text/html": [
       "Run data is saved locally in <code>/home/zekai/repos/recast/notebooks/Zekai/hyperparameter_sweep/wandb/run-20231105_234128-iq68nn2z</code>"
      ],
      "text/plain": [
       "<IPython.core.display.HTML object>"
      ]
     },
     "metadata": {},
     "output_type": "display_data"
    },
    {
     "data": {
      "text/html": [
       "Syncing run <strong><a href='https://wandb.ai/zekai-wang/RecurrentTPP%20on%20ANSS%20Nov%205/runs/iq68nn2z' target=\"_blank\">good-sweep-59</a></strong> to <a href='https://wandb.ai/zekai-wang/RecurrentTPP%20on%20ANSS%20Nov%205' target=\"_blank\">Weights & Biases</a> (<a href='https://wandb.me/run' target=\"_blank\">docs</a>)<br/>Sweep page: <a href='https://wandb.ai/zekai-wang/RecurrentTPP%20on%20ANSS%20Nov%205/sweeps/27ca0onv' target=\"_blank\">https://wandb.ai/zekai-wang/RecurrentTPP%20on%20ANSS%20Nov%205/sweeps/27ca0onv</a>"
      ],
      "text/plain": [
       "<IPython.core.display.HTML object>"
      ]
     },
     "metadata": {},
     "output_type": "display_data"
    },
    {
     "data": {
      "text/html": [
       " View project at <a href='https://wandb.ai/zekai-wang/RecurrentTPP%20on%20ANSS%20Nov%205' target=\"_blank\">https://wandb.ai/zekai-wang/RecurrentTPP%20on%20ANSS%20Nov%205</a>"
      ],
      "text/plain": [
       "<IPython.core.display.HTML object>"
      ]
     },
     "metadata": {},
     "output_type": "display_data"
    },
    {
     "data": {
      "text/html": [
       " View sweep at <a href='https://wandb.ai/zekai-wang/RecurrentTPP%20on%20ANSS%20Nov%205/sweeps/27ca0onv' target=\"_blank\">https://wandb.ai/zekai-wang/RecurrentTPP%20on%20ANSS%20Nov%205/sweeps/27ca0onv</a>"
      ],
      "text/plain": [
       "<IPython.core.display.HTML object>"
      ]
     },
     "metadata": {},
     "output_type": "display_data"
    },
    {
     "data": {
      "text/html": [
       " View run at <a href='https://wandb.ai/zekai-wang/RecurrentTPP%20on%20ANSS%20Nov%205/runs/iq68nn2z' target=\"_blank\">https://wandb.ai/zekai-wang/RecurrentTPP%20on%20ANSS%20Nov%205/runs/iq68nn2z</a>"
      ],
      "text/plain": [
       "<IPython.core.display.HTML object>"
      ]
     },
     "metadata": {},
     "output_type": "display_data"
    },
    {
     "data": {
      "application/vnd.jupyter.widget-view+json": {
       "model_id": "9e775316e53c4128b9bdc785989b3413",
       "version_major": 2,
       "version_minor": 0
      },
      "text/plain": [
       "  0%|          | 0/200 [00:00<?, ?it/s]"
      ]
     },
     "metadata": {},
     "output_type": "display_data"
    },
    {
     "data": {
      "text/html": [
       "Waiting for W&B process to finish... <strong style=\"color:green\">(success).</strong>"
      ],
      "text/plain": [
       "<IPython.core.display.HTML object>"
      ]
     },
     "metadata": {},
     "output_type": "display_data"
    },
    {
     "data": {
      "text/html": [
       "<style>\n",
       "    table.wandb td:nth-child(1) { padding: 0 10px; text-align: left ; width: auto;} td:nth-child(2) {text-align: left ; width: 100%}\n",
       "    .wandb-row { display: flex; flex-direction: row; flex-wrap: wrap; justify-content: flex-start; width: 100% }\n",
       "    .wandb-col { display: flex; flex-direction: column; flex-basis: 100%; flex: 1; padding: 10px; }\n",
       "    </style>\n",
       "<div class=\"wandb-row\"><div class=\"wandb-col\"><h3>Run history:</h3><br/><table class=\"wandb\"><tr><td>avg_test_loss</td><td>▁</td></tr></table><br/></div><div class=\"wandb-col\"><h3>Run summary:</h3><br/><table class=\"wandb\"><tr><td>avg_test_loss</td><td>0.20307</td></tr></table><br/></div></div>"
      ],
      "text/plain": [
       "<IPython.core.display.HTML object>"
      ]
     },
     "metadata": {},
     "output_type": "display_data"
    },
    {
     "data": {
      "text/html": [
       " View run <strong style=\"color:#cdcd00\">good-sweep-59</strong> at: <a href='https://wandb.ai/zekai-wang/RecurrentTPP%20on%20ANSS%20Nov%205/runs/iq68nn2z' target=\"_blank\">https://wandb.ai/zekai-wang/RecurrentTPP%20on%20ANSS%20Nov%205/runs/iq68nn2z</a><br/>Synced 5 W&B file(s), 0 media file(s), 0 artifact file(s) and 0 other file(s)"
      ],
      "text/plain": [
       "<IPython.core.display.HTML object>"
      ]
     },
     "metadata": {},
     "output_type": "display_data"
    },
    {
     "data": {
      "text/html": [
       "Find logs at: <code>./wandb/run-20231105_234128-iq68nn2z/logs</code>"
      ],
      "text/plain": [
       "<IPython.core.display.HTML object>"
      ]
     },
     "metadata": {},
     "output_type": "display_data"
    },
    {
     "name": "stderr",
     "output_type": "stream",
     "text": [
      "\u001b[34m\u001b[1mwandb\u001b[0m: Sweep Agent: Waiting for job.\n",
      "\u001b[34m\u001b[1mwandb\u001b[0m: Job received.\n",
      "\u001b[34m\u001b[1mwandb\u001b[0m: Agent Starting Run: 4i6g08fg with config:\n",
      "\u001b[34m\u001b[1mwandb\u001b[0m: \tbatch_size: 8\n",
      "\u001b[34m\u001b[1mwandb\u001b[0m: \tbetas: [0.9, 0.999]\n",
      "\u001b[34m\u001b[1mwandb\u001b[0m: \tcontext_size: 32\n",
      "\u001b[34m\u001b[1mwandb\u001b[0m: \tdropout_proba: 0.3\n",
      "\u001b[34m\u001b[1mwandb\u001b[0m: \tlr: 0.005\n",
      "\u001b[34m\u001b[1mwandb\u001b[0m: \tnum_components: 16\n",
      "\u001b[34m\u001b[1mwandb\u001b[0m: \trnn_type: GRU\n",
      "\u001b[34m\u001b[1mwandb\u001b[0m: \tweight_decay: 0.02\n"
     ]
    },
    {
     "data": {
      "text/html": [
       "Tracking run with wandb version 0.15.12"
      ],
      "text/plain": [
       "<IPython.core.display.HTML object>"
      ]
     },
     "metadata": {},
     "output_type": "display_data"
    },
    {
     "data": {
      "text/html": [
       "Run data is saved locally in <code>/home/zekai/repos/recast/notebooks/Zekai/hyperparameter_sweep/wandb/run-20231105_234249-4i6g08fg</code>"
      ],
      "text/plain": [
       "<IPython.core.display.HTML object>"
      ]
     },
     "metadata": {},
     "output_type": "display_data"
    },
    {
     "data": {
      "text/html": [
       "Syncing run <strong><a href='https://wandb.ai/zekai-wang/RecurrentTPP%20on%20ANSS%20Nov%205/runs/4i6g08fg' target=\"_blank\">gallant-sweep-60</a></strong> to <a href='https://wandb.ai/zekai-wang/RecurrentTPP%20on%20ANSS%20Nov%205' target=\"_blank\">Weights & Biases</a> (<a href='https://wandb.me/run' target=\"_blank\">docs</a>)<br/>Sweep page: <a href='https://wandb.ai/zekai-wang/RecurrentTPP%20on%20ANSS%20Nov%205/sweeps/27ca0onv' target=\"_blank\">https://wandb.ai/zekai-wang/RecurrentTPP%20on%20ANSS%20Nov%205/sweeps/27ca0onv</a>"
      ],
      "text/plain": [
       "<IPython.core.display.HTML object>"
      ]
     },
     "metadata": {},
     "output_type": "display_data"
    },
    {
     "data": {
      "text/html": [
       " View project at <a href='https://wandb.ai/zekai-wang/RecurrentTPP%20on%20ANSS%20Nov%205' target=\"_blank\">https://wandb.ai/zekai-wang/RecurrentTPP%20on%20ANSS%20Nov%205</a>"
      ],
      "text/plain": [
       "<IPython.core.display.HTML object>"
      ]
     },
     "metadata": {},
     "output_type": "display_data"
    },
    {
     "data": {
      "text/html": [
       " View sweep at <a href='https://wandb.ai/zekai-wang/RecurrentTPP%20on%20ANSS%20Nov%205/sweeps/27ca0onv' target=\"_blank\">https://wandb.ai/zekai-wang/RecurrentTPP%20on%20ANSS%20Nov%205/sweeps/27ca0onv</a>"
      ],
      "text/plain": [
       "<IPython.core.display.HTML object>"
      ]
     },
     "metadata": {},
     "output_type": "display_data"
    },
    {
     "data": {
      "text/html": [
       " View run at <a href='https://wandb.ai/zekai-wang/RecurrentTPP%20on%20ANSS%20Nov%205/runs/4i6g08fg' target=\"_blank\">https://wandb.ai/zekai-wang/RecurrentTPP%20on%20ANSS%20Nov%205/runs/4i6g08fg</a>"
      ],
      "text/plain": [
       "<IPython.core.display.HTML object>"
      ]
     },
     "metadata": {},
     "output_type": "display_data"
    },
    {
     "data": {
      "application/vnd.jupyter.widget-view+json": {
       "model_id": "76cc360637c9412c8a2fd7b4c5382dc0",
       "version_major": 2,
       "version_minor": 0
      },
      "text/plain": [
       "  0%|          | 0/200 [00:00<?, ?it/s]"
      ]
     },
     "metadata": {},
     "output_type": "display_data"
    },
    {
     "data": {
      "text/html": [
       "Waiting for W&B process to finish... <strong style=\"color:green\">(success).</strong>"
      ],
      "text/plain": [
       "<IPython.core.display.HTML object>"
      ]
     },
     "metadata": {},
     "output_type": "display_data"
    },
    {
     "data": {
      "application/vnd.jupyter.widget-view+json": {
       "model_id": "9d7ad758e6b44c28b893cbef9c7b992b",
       "version_major": 2,
       "version_minor": 0
      },
      "text/plain": [
       "VBox(children=(Label(value='0.003 MB of 0.003 MB uploaded (0.000 MB deduped)\\r'), FloatProgress(value=1.0, max…"
      ]
     },
     "metadata": {},
     "output_type": "display_data"
    },
    {
     "data": {
      "text/html": [
       "<style>\n",
       "    table.wandb td:nth-child(1) { padding: 0 10px; text-align: left ; width: auto;} td:nth-child(2) {text-align: left ; width: 100%}\n",
       "    .wandb-row { display: flex; flex-direction: row; flex-wrap: wrap; justify-content: flex-start; width: 100% }\n",
       "    .wandb-col { display: flex; flex-direction: column; flex-basis: 100%; flex: 1; padding: 10px; }\n",
       "    </style>\n",
       "<div class=\"wandb-row\"><div class=\"wandb-col\"><h3>Run history:</h3><br/><table class=\"wandb\"><tr><td>avg_test_loss</td><td>▁</td></tr></table><br/></div><div class=\"wandb-col\"><h3>Run summary:</h3><br/><table class=\"wandb\"><tr><td>avg_test_loss</td><td>0.16533</td></tr></table><br/></div></div>"
      ],
      "text/plain": [
       "<IPython.core.display.HTML object>"
      ]
     },
     "metadata": {},
     "output_type": "display_data"
    },
    {
     "data": {
      "text/html": [
       " View run <strong style=\"color:#cdcd00\">gallant-sweep-60</strong> at: <a href='https://wandb.ai/zekai-wang/RecurrentTPP%20on%20ANSS%20Nov%205/runs/4i6g08fg' target=\"_blank\">https://wandb.ai/zekai-wang/RecurrentTPP%20on%20ANSS%20Nov%205/runs/4i6g08fg</a><br/>Synced 5 W&B file(s), 0 media file(s), 0 artifact file(s) and 0 other file(s)"
      ],
      "text/plain": [
       "<IPython.core.display.HTML object>"
      ]
     },
     "metadata": {},
     "output_type": "display_data"
    },
    {
     "data": {
      "text/html": [
       "Find logs at: <code>./wandb/run-20231105_234249-4i6g08fg/logs</code>"
      ],
      "text/plain": [
       "<IPython.core.display.HTML object>"
      ]
     },
     "metadata": {},
     "output_type": "display_data"
    },
    {
     "name": "stderr",
     "output_type": "stream",
     "text": [
      "\u001b[34m\u001b[1mwandb\u001b[0m: Agent Starting Run: k8d6jy9q with config:\n",
      "\u001b[34m\u001b[1mwandb\u001b[0m: \tbatch_size: 128\n",
      "\u001b[34m\u001b[1mwandb\u001b[0m: \tbetas: [0.9, 0.999]\n",
      "\u001b[34m\u001b[1mwandb\u001b[0m: \tcontext_size: 8\n",
      "\u001b[34m\u001b[1mwandb\u001b[0m: \tdropout_proba: 0.4\n",
      "\u001b[34m\u001b[1mwandb\u001b[0m: \tlr: 0.005\n",
      "\u001b[34m\u001b[1mwandb\u001b[0m: \tnum_components: 128\n",
      "\u001b[34m\u001b[1mwandb\u001b[0m: \trnn_type: GRU\n",
      "\u001b[34m\u001b[1mwandb\u001b[0m: \tweight_decay: 0.05\n"
     ]
    },
    {
     "data": {
      "text/html": [
       "Tracking run with wandb version 0.15.12"
      ],
      "text/plain": [
       "<IPython.core.display.HTML object>"
      ]
     },
     "metadata": {},
     "output_type": "display_data"
    },
    {
     "data": {
      "text/html": [
       "Run data is saved locally in <code>/home/zekai/repos/recast/notebooks/Zekai/hyperparameter_sweep/wandb/run-20231105_234431-k8d6jy9q</code>"
      ],
      "text/plain": [
       "<IPython.core.display.HTML object>"
      ]
     },
     "metadata": {},
     "output_type": "display_data"
    },
    {
     "data": {
      "text/html": [
       "Syncing run <strong><a href='https://wandb.ai/zekai-wang/RecurrentTPP%20on%20ANSS%20Nov%205/runs/k8d6jy9q' target=\"_blank\">glad-sweep-61</a></strong> to <a href='https://wandb.ai/zekai-wang/RecurrentTPP%20on%20ANSS%20Nov%205' target=\"_blank\">Weights & Biases</a> (<a href='https://wandb.me/run' target=\"_blank\">docs</a>)<br/>Sweep page: <a href='https://wandb.ai/zekai-wang/RecurrentTPP%20on%20ANSS%20Nov%205/sweeps/27ca0onv' target=\"_blank\">https://wandb.ai/zekai-wang/RecurrentTPP%20on%20ANSS%20Nov%205/sweeps/27ca0onv</a>"
      ],
      "text/plain": [
       "<IPython.core.display.HTML object>"
      ]
     },
     "metadata": {},
     "output_type": "display_data"
    },
    {
     "data": {
      "text/html": [
       " View project at <a href='https://wandb.ai/zekai-wang/RecurrentTPP%20on%20ANSS%20Nov%205' target=\"_blank\">https://wandb.ai/zekai-wang/RecurrentTPP%20on%20ANSS%20Nov%205</a>"
      ],
      "text/plain": [
       "<IPython.core.display.HTML object>"
      ]
     },
     "metadata": {},
     "output_type": "display_data"
    },
    {
     "data": {
      "text/html": [
       " View sweep at <a href='https://wandb.ai/zekai-wang/RecurrentTPP%20on%20ANSS%20Nov%205/sweeps/27ca0onv' target=\"_blank\">https://wandb.ai/zekai-wang/RecurrentTPP%20on%20ANSS%20Nov%205/sweeps/27ca0onv</a>"
      ],
      "text/plain": [
       "<IPython.core.display.HTML object>"
      ]
     },
     "metadata": {},
     "output_type": "display_data"
    },
    {
     "data": {
      "text/html": [
       " View run at <a href='https://wandb.ai/zekai-wang/RecurrentTPP%20on%20ANSS%20Nov%205/runs/k8d6jy9q' target=\"_blank\">https://wandb.ai/zekai-wang/RecurrentTPP%20on%20ANSS%20Nov%205/runs/k8d6jy9q</a>"
      ],
      "text/plain": [
       "<IPython.core.display.HTML object>"
      ]
     },
     "metadata": {},
     "output_type": "display_data"
    },
    {
     "data": {
      "application/vnd.jupyter.widget-view+json": {
       "model_id": "c9b9e7b2fc7441859a14ee0266b906a3",
       "version_major": 2,
       "version_minor": 0
      },
      "text/plain": [
       "  0%|          | 0/200 [00:00<?, ?it/s]"
      ]
     },
     "metadata": {},
     "output_type": "display_data"
    },
    {
     "data": {
      "text/html": [
       "Waiting for W&B process to finish... <strong style=\"color:green\">(success).</strong>"
      ],
      "text/plain": [
       "<IPython.core.display.HTML object>"
      ]
     },
     "metadata": {},
     "output_type": "display_data"
    },
    {
     "data": {
      "text/html": [
       "<style>\n",
       "    table.wandb td:nth-child(1) { padding: 0 10px; text-align: left ; width: auto;} td:nth-child(2) {text-align: left ; width: 100%}\n",
       "    .wandb-row { display: flex; flex-direction: row; flex-wrap: wrap; justify-content: flex-start; width: 100% }\n",
       "    .wandb-col { display: flex; flex-direction: column; flex-basis: 100%; flex: 1; padding: 10px; }\n",
       "    </style>\n",
       "<div class=\"wandb-row\"><div class=\"wandb-col\"><h3>Run history:</h3><br/><table class=\"wandb\"><tr><td>avg_test_loss</td><td>▁</td></tr></table><br/></div><div class=\"wandb-col\"><h3>Run summary:</h3><br/><table class=\"wandb\"><tr><td>avg_test_loss</td><td>0.20021</td></tr></table><br/></div></div>"
      ],
      "text/plain": [
       "<IPython.core.display.HTML object>"
      ]
     },
     "metadata": {},
     "output_type": "display_data"
    },
    {
     "data": {
      "text/html": [
       " View run <strong style=\"color:#cdcd00\">glad-sweep-61</strong> at: <a href='https://wandb.ai/zekai-wang/RecurrentTPP%20on%20ANSS%20Nov%205/runs/k8d6jy9q' target=\"_blank\">https://wandb.ai/zekai-wang/RecurrentTPP%20on%20ANSS%20Nov%205/runs/k8d6jy9q</a><br/>Synced 5 W&B file(s), 0 media file(s), 0 artifact file(s) and 0 other file(s)"
      ],
      "text/plain": [
       "<IPython.core.display.HTML object>"
      ]
     },
     "metadata": {},
     "output_type": "display_data"
    },
    {
     "data": {
      "text/html": [
       "Find logs at: <code>./wandb/run-20231105_234431-k8d6jy9q/logs</code>"
      ],
      "text/plain": [
       "<IPython.core.display.HTML object>"
      ]
     },
     "metadata": {},
     "output_type": "display_data"
    },
    {
     "name": "stderr",
     "output_type": "stream",
     "text": [
      "\u001b[34m\u001b[1mwandb\u001b[0m: Agent Starting Run: o8433rik with config:\n",
      "\u001b[34m\u001b[1mwandb\u001b[0m: \tbatch_size: 128\n",
      "\u001b[34m\u001b[1mwandb\u001b[0m: \tbetas: [0.9, 0.999]\n",
      "\u001b[34m\u001b[1mwandb\u001b[0m: \tcontext_size: 16\n",
      "\u001b[34m\u001b[1mwandb\u001b[0m: \tdropout_proba: 0.3\n",
      "\u001b[34m\u001b[1mwandb\u001b[0m: \tlr: 0.01\n",
      "\u001b[34m\u001b[1mwandb\u001b[0m: \tnum_components: 64\n",
      "\u001b[34m\u001b[1mwandb\u001b[0m: \trnn_type: RNN\n",
      "\u001b[34m\u001b[1mwandb\u001b[0m: \tweight_decay: 0.02\n"
     ]
    },
    {
     "data": {
      "text/html": [
       "Tracking run with wandb version 0.15.12"
      ],
      "text/plain": [
       "<IPython.core.display.HTML object>"
      ]
     },
     "metadata": {},
     "output_type": "display_data"
    },
    {
     "data": {
      "text/html": [
       "Run data is saved locally in <code>/home/zekai/repos/recast/notebooks/Zekai/hyperparameter_sweep/wandb/run-20231105_234603-o8433rik</code>"
      ],
      "text/plain": [
       "<IPython.core.display.HTML object>"
      ]
     },
     "metadata": {},
     "output_type": "display_data"
    },
    {
     "data": {
      "text/html": [
       "Syncing run <strong><a href='https://wandb.ai/zekai-wang/RecurrentTPP%20on%20ANSS%20Nov%205/runs/o8433rik' target=\"_blank\">fast-sweep-62</a></strong> to <a href='https://wandb.ai/zekai-wang/RecurrentTPP%20on%20ANSS%20Nov%205' target=\"_blank\">Weights & Biases</a> (<a href='https://wandb.me/run' target=\"_blank\">docs</a>)<br/>Sweep page: <a href='https://wandb.ai/zekai-wang/RecurrentTPP%20on%20ANSS%20Nov%205/sweeps/27ca0onv' target=\"_blank\">https://wandb.ai/zekai-wang/RecurrentTPP%20on%20ANSS%20Nov%205/sweeps/27ca0onv</a>"
      ],
      "text/plain": [
       "<IPython.core.display.HTML object>"
      ]
     },
     "metadata": {},
     "output_type": "display_data"
    },
    {
     "data": {
      "text/html": [
       " View project at <a href='https://wandb.ai/zekai-wang/RecurrentTPP%20on%20ANSS%20Nov%205' target=\"_blank\">https://wandb.ai/zekai-wang/RecurrentTPP%20on%20ANSS%20Nov%205</a>"
      ],
      "text/plain": [
       "<IPython.core.display.HTML object>"
      ]
     },
     "metadata": {},
     "output_type": "display_data"
    },
    {
     "data": {
      "text/html": [
       " View sweep at <a href='https://wandb.ai/zekai-wang/RecurrentTPP%20on%20ANSS%20Nov%205/sweeps/27ca0onv' target=\"_blank\">https://wandb.ai/zekai-wang/RecurrentTPP%20on%20ANSS%20Nov%205/sweeps/27ca0onv</a>"
      ],
      "text/plain": [
       "<IPython.core.display.HTML object>"
      ]
     },
     "metadata": {},
     "output_type": "display_data"
    },
    {
     "data": {
      "text/html": [
       " View run at <a href='https://wandb.ai/zekai-wang/RecurrentTPP%20on%20ANSS%20Nov%205/runs/o8433rik' target=\"_blank\">https://wandb.ai/zekai-wang/RecurrentTPP%20on%20ANSS%20Nov%205/runs/o8433rik</a>"
      ],
      "text/plain": [
       "<IPython.core.display.HTML object>"
      ]
     },
     "metadata": {},
     "output_type": "display_data"
    },
    {
     "data": {
      "application/vnd.jupyter.widget-view+json": {
       "model_id": "8d3fba1b175848c0b94367db589b10e5",
       "version_major": 2,
       "version_minor": 0
      },
      "text/plain": [
       "  0%|          | 0/200 [00:00<?, ?it/s]"
      ]
     },
     "metadata": {},
     "output_type": "display_data"
    },
    {
     "data": {
      "text/html": [
       "Waiting for W&B process to finish... <strong style=\"color:green\">(success).</strong>"
      ],
      "text/plain": [
       "<IPython.core.display.HTML object>"
      ]
     },
     "metadata": {},
     "output_type": "display_data"
    },
    {
     "data": {
      "application/vnd.jupyter.widget-view+json": {
       "model_id": "6b5f631070754486a33081792fe2e371",
       "version_major": 2,
       "version_minor": 0
      },
      "text/plain": [
       "VBox(children=(Label(value='0.014 MB of 0.019 MB uploaded (0.000 MB deduped)\\r'), FloatProgress(value=0.750554…"
      ]
     },
     "metadata": {},
     "output_type": "display_data"
    },
    {
     "data": {
      "text/html": [
       "<style>\n",
       "    table.wandb td:nth-child(1) { padding: 0 10px; text-align: left ; width: auto;} td:nth-child(2) {text-align: left ; width: 100%}\n",
       "    .wandb-row { display: flex; flex-direction: row; flex-wrap: wrap; justify-content: flex-start; width: 100% }\n",
       "    .wandb-col { display: flex; flex-direction: column; flex-basis: 100%; flex: 1; padding: 10px; }\n",
       "    </style>\n",
       "<div class=\"wandb-row\"><div class=\"wandb-col\"><h3>Run history:</h3><br/><table class=\"wandb\"><tr><td>avg_test_loss</td><td>▁</td></tr></table><br/></div><div class=\"wandb-col\"><h3>Run summary:</h3><br/><table class=\"wandb\"><tr><td>avg_test_loss</td><td>0.18612</td></tr></table><br/></div></div>"
      ],
      "text/plain": [
       "<IPython.core.display.HTML object>"
      ]
     },
     "metadata": {},
     "output_type": "display_data"
    },
    {
     "data": {
      "text/html": [
       " View run <strong style=\"color:#cdcd00\">fast-sweep-62</strong> at: <a href='https://wandb.ai/zekai-wang/RecurrentTPP%20on%20ANSS%20Nov%205/runs/o8433rik' target=\"_blank\">https://wandb.ai/zekai-wang/RecurrentTPP%20on%20ANSS%20Nov%205/runs/o8433rik</a><br/>Synced 5 W&B file(s), 0 media file(s), 0 artifact file(s) and 0 other file(s)"
      ],
      "text/plain": [
       "<IPython.core.display.HTML object>"
      ]
     },
     "metadata": {},
     "output_type": "display_data"
    },
    {
     "data": {
      "text/html": [
       "Find logs at: <code>./wandb/run-20231105_234603-o8433rik/logs</code>"
      ],
      "text/plain": [
       "<IPython.core.display.HTML object>"
      ]
     },
     "metadata": {},
     "output_type": "display_data"
    },
    {
     "name": "stderr",
     "output_type": "stream",
     "text": [
      "\u001b[34m\u001b[1mwandb\u001b[0m: Agent Starting Run: xdhh77fu with config:\n",
      "\u001b[34m\u001b[1mwandb\u001b[0m: \tbatch_size: 8\n",
      "\u001b[34m\u001b[1mwandb\u001b[0m: \tbetas: [0.9, 0.999]\n",
      "\u001b[34m\u001b[1mwandb\u001b[0m: \tcontext_size: 64\n",
      "\u001b[34m\u001b[1mwandb\u001b[0m: \tdropout_proba: 0.5\n",
      "\u001b[34m\u001b[1mwandb\u001b[0m: \tlr: 0.01\n",
      "\u001b[34m\u001b[1mwandb\u001b[0m: \tnum_components: 16\n",
      "\u001b[34m\u001b[1mwandb\u001b[0m: \trnn_type: LSTM\n",
      "\u001b[34m\u001b[1mwandb\u001b[0m: \tweight_decay: 0.02\n"
     ]
    },
    {
     "data": {
      "text/html": [
       "Tracking run with wandb version 0.15.12"
      ],
      "text/plain": [
       "<IPython.core.display.HTML object>"
      ]
     },
     "metadata": {},
     "output_type": "display_data"
    },
    {
     "data": {
      "text/html": [
       "Run data is saved locally in <code>/home/zekai/repos/recast/notebooks/Zekai/hyperparameter_sweep/wandb/run-20231105_234719-xdhh77fu</code>"
      ],
      "text/plain": [
       "<IPython.core.display.HTML object>"
      ]
     },
     "metadata": {},
     "output_type": "display_data"
    },
    {
     "data": {
      "text/html": [
       "Syncing run <strong><a href='https://wandb.ai/zekai-wang/RecurrentTPP%20on%20ANSS%20Nov%205/runs/xdhh77fu' target=\"_blank\">tough-sweep-63</a></strong> to <a href='https://wandb.ai/zekai-wang/RecurrentTPP%20on%20ANSS%20Nov%205' target=\"_blank\">Weights & Biases</a> (<a href='https://wandb.me/run' target=\"_blank\">docs</a>)<br/>Sweep page: <a href='https://wandb.ai/zekai-wang/RecurrentTPP%20on%20ANSS%20Nov%205/sweeps/27ca0onv' target=\"_blank\">https://wandb.ai/zekai-wang/RecurrentTPP%20on%20ANSS%20Nov%205/sweeps/27ca0onv</a>"
      ],
      "text/plain": [
       "<IPython.core.display.HTML object>"
      ]
     },
     "metadata": {},
     "output_type": "display_data"
    },
    {
     "data": {
      "text/html": [
       " View project at <a href='https://wandb.ai/zekai-wang/RecurrentTPP%20on%20ANSS%20Nov%205' target=\"_blank\">https://wandb.ai/zekai-wang/RecurrentTPP%20on%20ANSS%20Nov%205</a>"
      ],
      "text/plain": [
       "<IPython.core.display.HTML object>"
      ]
     },
     "metadata": {},
     "output_type": "display_data"
    },
    {
     "data": {
      "text/html": [
       " View sweep at <a href='https://wandb.ai/zekai-wang/RecurrentTPP%20on%20ANSS%20Nov%205/sweeps/27ca0onv' target=\"_blank\">https://wandb.ai/zekai-wang/RecurrentTPP%20on%20ANSS%20Nov%205/sweeps/27ca0onv</a>"
      ],
      "text/plain": [
       "<IPython.core.display.HTML object>"
      ]
     },
     "metadata": {},
     "output_type": "display_data"
    },
    {
     "data": {
      "text/html": [
       " View run at <a href='https://wandb.ai/zekai-wang/RecurrentTPP%20on%20ANSS%20Nov%205/runs/xdhh77fu' target=\"_blank\">https://wandb.ai/zekai-wang/RecurrentTPP%20on%20ANSS%20Nov%205/runs/xdhh77fu</a>"
      ],
      "text/plain": [
       "<IPython.core.display.HTML object>"
      ]
     },
     "metadata": {},
     "output_type": "display_data"
    },
    {
     "data": {
      "application/vnd.jupyter.widget-view+json": {
       "model_id": "72a2b852216c44649b982bbb042c18d5",
       "version_major": 2,
       "version_minor": 0
      },
      "text/plain": [
       "  0%|          | 0/200 [00:00<?, ?it/s]"
      ]
     },
     "metadata": {},
     "output_type": "display_data"
    },
    {
     "data": {
      "text/html": [
       "Waiting for W&B process to finish... <strong style=\"color:green\">(success).</strong>"
      ],
      "text/plain": [
       "<IPython.core.display.HTML object>"
      ]
     },
     "metadata": {},
     "output_type": "display_data"
    },
    {
     "data": {
      "application/vnd.jupyter.widget-view+json": {
       "model_id": "ddaa915e96984192b5bfb0d1cd1db06b",
       "version_major": 2,
       "version_minor": 0
      },
      "text/plain": [
       "VBox(children=(Label(value='0.003 MB of 0.003 MB uploaded (0.000 MB deduped)\\r'), FloatProgress(value=1.0, max…"
      ]
     },
     "metadata": {},
     "output_type": "display_data"
    },
    {
     "data": {
      "text/html": [
       "<style>\n",
       "    table.wandb td:nth-child(1) { padding: 0 10px; text-align: left ; width: auto;} td:nth-child(2) {text-align: left ; width: 100%}\n",
       "    .wandb-row { display: flex; flex-direction: row; flex-wrap: wrap; justify-content: flex-start; width: 100% }\n",
       "    .wandb-col { display: flex; flex-direction: column; flex-basis: 100%; flex: 1; padding: 10px; }\n",
       "    </style>\n",
       "<div class=\"wandb-row\"><div class=\"wandb-col\"><h3>Run history:</h3><br/><table class=\"wandb\"><tr><td>avg_test_loss</td><td>▁</td></tr></table><br/></div><div class=\"wandb-col\"><h3>Run summary:</h3><br/><table class=\"wandb\"><tr><td>avg_test_loss</td><td>0.16902</td></tr></table><br/></div></div>"
      ],
      "text/plain": [
       "<IPython.core.display.HTML object>"
      ]
     },
     "metadata": {},
     "output_type": "display_data"
    },
    {
     "data": {
      "text/html": [
       " View run <strong style=\"color:#cdcd00\">tough-sweep-63</strong> at: <a href='https://wandb.ai/zekai-wang/RecurrentTPP%20on%20ANSS%20Nov%205/runs/xdhh77fu' target=\"_blank\">https://wandb.ai/zekai-wang/RecurrentTPP%20on%20ANSS%20Nov%205/runs/xdhh77fu</a><br/>Synced 5 W&B file(s), 0 media file(s), 0 artifact file(s) and 0 other file(s)"
      ],
      "text/plain": [
       "<IPython.core.display.HTML object>"
      ]
     },
     "metadata": {},
     "output_type": "display_data"
    },
    {
     "data": {
      "text/html": [
       "Find logs at: <code>./wandb/run-20231105_234719-xdhh77fu/logs</code>"
      ],
      "text/plain": [
       "<IPython.core.display.HTML object>"
      ]
     },
     "metadata": {},
     "output_type": "display_data"
    },
    {
     "name": "stderr",
     "output_type": "stream",
     "text": [
      "\u001b[34m\u001b[1mwandb\u001b[0m: Agent Starting Run: w10itsx7 with config:\n",
      "\u001b[34m\u001b[1mwandb\u001b[0m: \tbatch_size: 64\n",
      "\u001b[34m\u001b[1mwandb\u001b[0m: \tbetas: [0.9, 0.999]\n",
      "\u001b[34m\u001b[1mwandb\u001b[0m: \tcontext_size: 8\n",
      "\u001b[34m\u001b[1mwandb\u001b[0m: \tdropout_proba: 0.4\n",
      "\u001b[34m\u001b[1mwandb\u001b[0m: \tlr: 0.001\n",
      "\u001b[34m\u001b[1mwandb\u001b[0m: \tnum_components: 16\n",
      "\u001b[34m\u001b[1mwandb\u001b[0m: \trnn_type: LSTM\n",
      "\u001b[34m\u001b[1mwandb\u001b[0m: \tweight_decay: 0.002\n"
     ]
    },
    {
     "data": {
      "text/html": [
       "Tracking run with wandb version 0.15.12"
      ],
      "text/plain": [
       "<IPython.core.display.HTML object>"
      ]
     },
     "metadata": {},
     "output_type": "display_data"
    },
    {
     "data": {
      "text/html": [
       "Run data is saved locally in <code>/home/zekai/repos/recast/notebooks/Zekai/hyperparameter_sweep/wandb/run-20231105_234906-w10itsx7</code>"
      ],
      "text/plain": [
       "<IPython.core.display.HTML object>"
      ]
     },
     "metadata": {},
     "output_type": "display_data"
    },
    {
     "data": {
      "text/html": [
       "Syncing run <strong><a href='https://wandb.ai/zekai-wang/RecurrentTPP%20on%20ANSS%20Nov%205/runs/w10itsx7' target=\"_blank\">sleek-sweep-64</a></strong> to <a href='https://wandb.ai/zekai-wang/RecurrentTPP%20on%20ANSS%20Nov%205' target=\"_blank\">Weights & Biases</a> (<a href='https://wandb.me/run' target=\"_blank\">docs</a>)<br/>Sweep page: <a href='https://wandb.ai/zekai-wang/RecurrentTPP%20on%20ANSS%20Nov%205/sweeps/27ca0onv' target=\"_blank\">https://wandb.ai/zekai-wang/RecurrentTPP%20on%20ANSS%20Nov%205/sweeps/27ca0onv</a>"
      ],
      "text/plain": [
       "<IPython.core.display.HTML object>"
      ]
     },
     "metadata": {},
     "output_type": "display_data"
    },
    {
     "data": {
      "text/html": [
       " View project at <a href='https://wandb.ai/zekai-wang/RecurrentTPP%20on%20ANSS%20Nov%205' target=\"_blank\">https://wandb.ai/zekai-wang/RecurrentTPP%20on%20ANSS%20Nov%205</a>"
      ],
      "text/plain": [
       "<IPython.core.display.HTML object>"
      ]
     },
     "metadata": {},
     "output_type": "display_data"
    },
    {
     "data": {
      "text/html": [
       " View sweep at <a href='https://wandb.ai/zekai-wang/RecurrentTPP%20on%20ANSS%20Nov%205/sweeps/27ca0onv' target=\"_blank\">https://wandb.ai/zekai-wang/RecurrentTPP%20on%20ANSS%20Nov%205/sweeps/27ca0onv</a>"
      ],
      "text/plain": [
       "<IPython.core.display.HTML object>"
      ]
     },
     "metadata": {},
     "output_type": "display_data"
    },
    {
     "data": {
      "text/html": [
       " View run at <a href='https://wandb.ai/zekai-wang/RecurrentTPP%20on%20ANSS%20Nov%205/runs/w10itsx7' target=\"_blank\">https://wandb.ai/zekai-wang/RecurrentTPP%20on%20ANSS%20Nov%205/runs/w10itsx7</a>"
      ],
      "text/plain": [
       "<IPython.core.display.HTML object>"
      ]
     },
     "metadata": {},
     "output_type": "display_data"
    },
    {
     "data": {
      "application/vnd.jupyter.widget-view+json": {
       "model_id": "3a0de675b4914cf4804da7336f5b583e",
       "version_major": 2,
       "version_minor": 0
      },
      "text/plain": [
       "  0%|          | 0/200 [00:00<?, ?it/s]"
      ]
     },
     "metadata": {},
     "output_type": "display_data"
    },
    {
     "data": {
      "text/html": [
       "Waiting for W&B process to finish... <strong style=\"color:green\">(success).</strong>"
      ],
      "text/plain": [
       "<IPython.core.display.HTML object>"
      ]
     },
     "metadata": {},
     "output_type": "display_data"
    },
    {
     "data": {
      "application/vnd.jupyter.widget-view+json": {
       "model_id": "9d0f29a5165048ffbd79d462e01d60e6",
       "version_major": 2,
       "version_minor": 0
      },
      "text/plain": [
       "VBox(children=(Label(value='0.019 MB of 0.019 MB uploaded (0.000 MB deduped)\\r'), FloatProgress(value=1.0, max…"
      ]
     },
     "metadata": {},
     "output_type": "display_data"
    },
    {
     "data": {
      "text/html": [
       "<style>\n",
       "    table.wandb td:nth-child(1) { padding: 0 10px; text-align: left ; width: auto;} td:nth-child(2) {text-align: left ; width: 100%}\n",
       "    .wandb-row { display: flex; flex-direction: row; flex-wrap: wrap; justify-content: flex-start; width: 100% }\n",
       "    .wandb-col { display: flex; flex-direction: column; flex-basis: 100%; flex: 1; padding: 10px; }\n",
       "    </style>\n",
       "<div class=\"wandb-row\"><div class=\"wandb-col\"><h3>Run history:</h3><br/><table class=\"wandb\"><tr><td>avg_test_loss</td><td>▁</td></tr></table><br/></div><div class=\"wandb-col\"><h3>Run summary:</h3><br/><table class=\"wandb\"><tr><td>avg_test_loss</td><td>0.20303</td></tr></table><br/></div></div>"
      ],
      "text/plain": [
       "<IPython.core.display.HTML object>"
      ]
     },
     "metadata": {},
     "output_type": "display_data"
    },
    {
     "data": {
      "text/html": [
       " View run <strong style=\"color:#cdcd00\">sleek-sweep-64</strong> at: <a href='https://wandb.ai/zekai-wang/RecurrentTPP%20on%20ANSS%20Nov%205/runs/w10itsx7' target=\"_blank\">https://wandb.ai/zekai-wang/RecurrentTPP%20on%20ANSS%20Nov%205/runs/w10itsx7</a><br/>Synced 5 W&B file(s), 0 media file(s), 0 artifact file(s) and 0 other file(s)"
      ],
      "text/plain": [
       "<IPython.core.display.HTML object>"
      ]
     },
     "metadata": {},
     "output_type": "display_data"
    },
    {
     "data": {
      "text/html": [
       "Find logs at: <code>./wandb/run-20231105_234906-w10itsx7/logs</code>"
      ],
      "text/plain": [
       "<IPython.core.display.HTML object>"
      ]
     },
     "metadata": {},
     "output_type": "display_data"
    },
    {
     "name": "stderr",
     "output_type": "stream",
     "text": [
      "\u001b[34m\u001b[1mwandb\u001b[0m: Sweep Agent: Waiting for job.\n",
      "\u001b[34m\u001b[1mwandb\u001b[0m: Job received.\n",
      "\u001b[34m\u001b[1mwandb\u001b[0m: Agent Starting Run: ssem0b9q with config:\n",
      "\u001b[34m\u001b[1mwandb\u001b[0m: \tbatch_size: 32\n",
      "\u001b[34m\u001b[1mwandb\u001b[0m: \tbetas: [0.9, 0.999]\n",
      "\u001b[34m\u001b[1mwandb\u001b[0m: \tcontext_size: 16\n",
      "\u001b[34m\u001b[1mwandb\u001b[0m: \tdropout_proba: 0.4\n",
      "\u001b[34m\u001b[1mwandb\u001b[0m: \tlr: 0.02\n",
      "\u001b[34m\u001b[1mwandb\u001b[0m: \tnum_components: 16\n",
      "\u001b[34m\u001b[1mwandb\u001b[0m: \trnn_type: GRU\n",
      "\u001b[34m\u001b[1mwandb\u001b[0m: \tweight_decay: 0.005\n"
     ]
    },
    {
     "data": {
      "text/html": [
       "Tracking run with wandb version 0.15.12"
      ],
      "text/plain": [
       "<IPython.core.display.HTML object>"
      ]
     },
     "metadata": {},
     "output_type": "display_data"
    },
    {
     "data": {
      "text/html": [
       "Run data is saved locally in <code>/home/zekai/repos/recast/notebooks/Zekai/hyperparameter_sweep/wandb/run-20231105_235033-ssem0b9q</code>"
      ],
      "text/plain": [
       "<IPython.core.display.HTML object>"
      ]
     },
     "metadata": {},
     "output_type": "display_data"
    },
    {
     "data": {
      "text/html": [
       "Syncing run <strong><a href='https://wandb.ai/zekai-wang/RecurrentTPP%20on%20ANSS%20Nov%205/runs/ssem0b9q' target=\"_blank\">crimson-sweep-65</a></strong> to <a href='https://wandb.ai/zekai-wang/RecurrentTPP%20on%20ANSS%20Nov%205' target=\"_blank\">Weights & Biases</a> (<a href='https://wandb.me/run' target=\"_blank\">docs</a>)<br/>Sweep page: <a href='https://wandb.ai/zekai-wang/RecurrentTPP%20on%20ANSS%20Nov%205/sweeps/27ca0onv' target=\"_blank\">https://wandb.ai/zekai-wang/RecurrentTPP%20on%20ANSS%20Nov%205/sweeps/27ca0onv</a>"
      ],
      "text/plain": [
       "<IPython.core.display.HTML object>"
      ]
     },
     "metadata": {},
     "output_type": "display_data"
    },
    {
     "data": {
      "text/html": [
       " View project at <a href='https://wandb.ai/zekai-wang/RecurrentTPP%20on%20ANSS%20Nov%205' target=\"_blank\">https://wandb.ai/zekai-wang/RecurrentTPP%20on%20ANSS%20Nov%205</a>"
      ],
      "text/plain": [
       "<IPython.core.display.HTML object>"
      ]
     },
     "metadata": {},
     "output_type": "display_data"
    },
    {
     "data": {
      "text/html": [
       " View sweep at <a href='https://wandb.ai/zekai-wang/RecurrentTPP%20on%20ANSS%20Nov%205/sweeps/27ca0onv' target=\"_blank\">https://wandb.ai/zekai-wang/RecurrentTPP%20on%20ANSS%20Nov%205/sweeps/27ca0onv</a>"
      ],
      "text/plain": [
       "<IPython.core.display.HTML object>"
      ]
     },
     "metadata": {},
     "output_type": "display_data"
    },
    {
     "data": {
      "text/html": [
       " View run at <a href='https://wandb.ai/zekai-wang/RecurrentTPP%20on%20ANSS%20Nov%205/runs/ssem0b9q' target=\"_blank\">https://wandb.ai/zekai-wang/RecurrentTPP%20on%20ANSS%20Nov%205/runs/ssem0b9q</a>"
      ],
      "text/plain": [
       "<IPython.core.display.HTML object>"
      ]
     },
     "metadata": {},
     "output_type": "display_data"
    },
    {
     "data": {
      "application/vnd.jupyter.widget-view+json": {
       "model_id": "20bdbf7055ab42ca968f90ebaab77cbb",
       "version_major": 2,
       "version_minor": 0
      },
      "text/plain": [
       "  0%|          | 0/200 [00:00<?, ?it/s]"
      ]
     },
     "metadata": {},
     "output_type": "display_data"
    },
    {
     "data": {
      "text/html": [
       "Waiting for W&B process to finish... <strong style=\"color:green\">(success).</strong>"
      ],
      "text/plain": [
       "<IPython.core.display.HTML object>"
      ]
     },
     "metadata": {},
     "output_type": "display_data"
    },
    {
     "data": {
      "text/html": [
       "<style>\n",
       "    table.wandb td:nth-child(1) { padding: 0 10px; text-align: left ; width: auto;} td:nth-child(2) {text-align: left ; width: 100%}\n",
       "    .wandb-row { display: flex; flex-direction: row; flex-wrap: wrap; justify-content: flex-start; width: 100% }\n",
       "    .wandb-col { display: flex; flex-direction: column; flex-basis: 100%; flex: 1; padding: 10px; }\n",
       "    </style>\n",
       "<div class=\"wandb-row\"><div class=\"wandb-col\"><h3>Run history:</h3><br/><table class=\"wandb\"><tr><td>avg_test_loss</td><td>▁</td></tr></table><br/></div><div class=\"wandb-col\"><h3>Run summary:</h3><br/><table class=\"wandb\"><tr><td>avg_test_loss</td><td>0.20087</td></tr></table><br/></div></div>"
      ],
      "text/plain": [
       "<IPython.core.display.HTML object>"
      ]
     },
     "metadata": {},
     "output_type": "display_data"
    },
    {
     "data": {
      "text/html": [
       " View run <strong style=\"color:#cdcd00\">crimson-sweep-65</strong> at: <a href='https://wandb.ai/zekai-wang/RecurrentTPP%20on%20ANSS%20Nov%205/runs/ssem0b9q' target=\"_blank\">https://wandb.ai/zekai-wang/RecurrentTPP%20on%20ANSS%20Nov%205/runs/ssem0b9q</a><br/>Synced 5 W&B file(s), 0 media file(s), 0 artifact file(s) and 0 other file(s)"
      ],
      "text/plain": [
       "<IPython.core.display.HTML object>"
      ]
     },
     "metadata": {},
     "output_type": "display_data"
    },
    {
     "data": {
      "text/html": [
       "Find logs at: <code>./wandb/run-20231105_235033-ssem0b9q/logs</code>"
      ],
      "text/plain": [
       "<IPython.core.display.HTML object>"
      ]
     },
     "metadata": {},
     "output_type": "display_data"
    },
    {
     "name": "stderr",
     "output_type": "stream",
     "text": [
      "\u001b[34m\u001b[1mwandb\u001b[0m: Sweep Agent: Waiting for job.\n",
      "\u001b[34m\u001b[1mwandb\u001b[0m: Job received.\n",
      "\u001b[34m\u001b[1mwandb\u001b[0m: Agent Starting Run: qljupd3g with config:\n",
      "\u001b[34m\u001b[1mwandb\u001b[0m: \tbatch_size: 8\n",
      "\u001b[34m\u001b[1mwandb\u001b[0m: \tbetas: [0.9, 0.999]\n",
      "\u001b[34m\u001b[1mwandb\u001b[0m: \tcontext_size: 64\n",
      "\u001b[34m\u001b[1mwandb\u001b[0m: \tdropout_proba: 0.2\n",
      "\u001b[34m\u001b[1mwandb\u001b[0m: \tlr: 0.002\n",
      "\u001b[34m\u001b[1mwandb\u001b[0m: \tnum_components: 64\n",
      "\u001b[34m\u001b[1mwandb\u001b[0m: \trnn_type: LSTM\n",
      "\u001b[34m\u001b[1mwandb\u001b[0m: \tweight_decay: 0.001\n"
     ]
    },
    {
     "data": {
      "text/html": [
       "Tracking run with wandb version 0.15.12"
      ],
      "text/plain": [
       "<IPython.core.display.HTML object>"
      ]
     },
     "metadata": {},
     "output_type": "display_data"
    },
    {
     "data": {
      "text/html": [
       "Run data is saved locally in <code>/home/zekai/repos/recast/notebooks/Zekai/hyperparameter_sweep/wandb/run-20231105_235159-qljupd3g</code>"
      ],
      "text/plain": [
       "<IPython.core.display.HTML object>"
      ]
     },
     "metadata": {},
     "output_type": "display_data"
    },
    {
     "data": {
      "text/html": [
       "Syncing run <strong><a href='https://wandb.ai/zekai-wang/RecurrentTPP%20on%20ANSS%20Nov%205/runs/qljupd3g' target=\"_blank\">amber-sweep-66</a></strong> to <a href='https://wandb.ai/zekai-wang/RecurrentTPP%20on%20ANSS%20Nov%205' target=\"_blank\">Weights & Biases</a> (<a href='https://wandb.me/run' target=\"_blank\">docs</a>)<br/>Sweep page: <a href='https://wandb.ai/zekai-wang/RecurrentTPP%20on%20ANSS%20Nov%205/sweeps/27ca0onv' target=\"_blank\">https://wandb.ai/zekai-wang/RecurrentTPP%20on%20ANSS%20Nov%205/sweeps/27ca0onv</a>"
      ],
      "text/plain": [
       "<IPython.core.display.HTML object>"
      ]
     },
     "metadata": {},
     "output_type": "display_data"
    },
    {
     "data": {
      "text/html": [
       " View project at <a href='https://wandb.ai/zekai-wang/RecurrentTPP%20on%20ANSS%20Nov%205' target=\"_blank\">https://wandb.ai/zekai-wang/RecurrentTPP%20on%20ANSS%20Nov%205</a>"
      ],
      "text/plain": [
       "<IPython.core.display.HTML object>"
      ]
     },
     "metadata": {},
     "output_type": "display_data"
    },
    {
     "data": {
      "text/html": [
       " View sweep at <a href='https://wandb.ai/zekai-wang/RecurrentTPP%20on%20ANSS%20Nov%205/sweeps/27ca0onv' target=\"_blank\">https://wandb.ai/zekai-wang/RecurrentTPP%20on%20ANSS%20Nov%205/sweeps/27ca0onv</a>"
      ],
      "text/plain": [
       "<IPython.core.display.HTML object>"
      ]
     },
     "metadata": {},
     "output_type": "display_data"
    },
    {
     "data": {
      "text/html": [
       " View run at <a href='https://wandb.ai/zekai-wang/RecurrentTPP%20on%20ANSS%20Nov%205/runs/qljupd3g' target=\"_blank\">https://wandb.ai/zekai-wang/RecurrentTPP%20on%20ANSS%20Nov%205/runs/qljupd3g</a>"
      ],
      "text/plain": [
       "<IPython.core.display.HTML object>"
      ]
     },
     "metadata": {},
     "output_type": "display_data"
    },
    {
     "data": {
      "application/vnd.jupyter.widget-view+json": {
       "model_id": "bbe294a5b74e481b9c0316af1bbf2e2c",
       "version_major": 2,
       "version_minor": 0
      },
      "text/plain": [
       "  0%|          | 0/200 [00:00<?, ?it/s]"
      ]
     },
     "metadata": {},
     "output_type": "display_data"
    },
    {
     "name": "stdout",
     "output_type": "stream",
     "text": [
      "Expected parameter scale (Tensor of shape (8, 909, 64)) of distribution Weibull(scale: torch.Size([8, 909, 64]), shape: torch.Size([8, 909, 64])) to satisfy the constraint GreaterThan(lower_bound=0.0), but found invalid values:\n",
      "tensor([[[1.2155, 0.7746, 1.8103,  ..., 2.1707, 1.5183, 0.7188],\n",
      "         [   nan,    nan,    nan,  ...,    nan,    nan,    nan],\n",
      "         [   nan,    nan,    nan,  ...,    nan,    nan,    nan],\n",
      "         ...,\n",
      "         [   nan,    nan,    nan,  ...,    nan,    nan,    nan],\n",
      "         [   nan,    nan,    nan,  ...,    nan,    nan,    nan],\n",
      "         [   nan,    nan,    nan,  ...,    nan,    nan,    nan]],\n",
      "\n",
      "        [[1.2155, 0.7746, 1.8103,  ..., 2.1707, 1.5183, 0.7188],\n",
      "         [   nan,    nan,    nan,  ...,    nan,    nan,    nan],\n",
      "         [   nan,    nan,    nan,  ...,    nan,    nan,    nan],\n",
      "         ...,\n",
      "         [   nan,    nan,    nan,  ...,    nan,    nan,    nan],\n",
      "         [   nan,    nan,    nan,  ...,    nan,    nan,    nan],\n",
      "         [   nan,    nan,    nan,  ...,    nan,    nan,    nan]],\n",
      "\n",
      "        [[1.2155, 0.7746, 1.8103,  ..., 2.1707, 1.5183, 0.7188],\n",
      "         [   nan,    nan,    nan,  ...,    nan,    nan,    nan],\n",
      "         [   nan,    nan,    nan,  ...,    nan,    nan,    nan],\n",
      "         ...,\n",
      "         [   nan,    nan,    nan,  ...,    nan,    nan,    nan],\n",
      "         [   nan,    nan,    nan,  ...,    nan,    nan,    nan],\n",
      "         [   nan,    nan,    nan,  ...,    nan,    nan,    nan]],\n",
      "\n",
      "        ...,\n",
      "\n",
      "        [[1.2155, 0.7746, 1.8103,  ..., 2.1707, 1.5183, 0.7188],\n",
      "         [   nan,    nan,    nan,  ...,    nan,    nan,    nan],\n",
      "         [   nan,    nan,    nan,  ...,    nan,    nan,    nan],\n",
      "         ...,\n",
      "         [   nan,    nan,    nan,  ...,    nan,    nan,    nan],\n",
      "         [   nan,    nan,    nan,  ...,    nan,    nan,    nan],\n",
      "         [   nan,    nan,    nan,  ...,    nan,    nan,    nan]],\n",
      "\n",
      "        [[1.2155, 0.7746, 1.8103,  ..., 2.1707, 1.5183, 0.7188],\n",
      "         [   nan,    nan,    nan,  ...,    nan,    nan,    nan],\n",
      "         [   nan,    nan,    nan,  ...,    nan,    nan,    nan],\n",
      "         ...,\n",
      "         [   nan,    nan,    nan,  ...,    nan,    nan,    nan],\n",
      "         [   nan,    nan,    nan,  ...,    nan,    nan,    nan],\n",
      "         [   nan,    nan,    nan,  ...,    nan,    nan,    nan]],\n",
      "\n",
      "        [[1.2155, 0.7746, 1.8103,  ..., 2.1707, 1.5183, 0.7188],\n",
      "         [   nan,    nan,    nan,  ...,    nan,    nan,    nan],\n",
      "         [   nan,    nan,    nan,  ...,    nan,    nan,    nan],\n",
      "         ...,\n",
      "         [   nan,    nan,    nan,  ...,    nan,    nan,    nan],\n",
      "         [   nan,    nan,    nan,  ...,    nan,    nan,    nan],\n",
      "         [   nan,    nan,    nan,  ...,    nan,    nan,    nan]]],\n",
      "       device='cuda:0', grad_fn=<SoftplusBackward0>)\n"
     ]
    },
    {
     "data": {
      "text/html": [
       "Waiting for W&B process to finish... <strong style=\"color:green\">(success).</strong>"
      ],
      "text/plain": [
       "<IPython.core.display.HTML object>"
      ]
     },
     "metadata": {},
     "output_type": "display_data"
    },
    {
     "data": {
      "text/html": [
       "<style>\n",
       "    table.wandb td:nth-child(1) { padding: 0 10px; text-align: left ; width: auto;} td:nth-child(2) {text-align: left ; width: 100%}\n",
       "    .wandb-row { display: flex; flex-direction: row; flex-wrap: wrap; justify-content: flex-start; width: 100% }\n",
       "    .wandb-col { display: flex; flex-direction: column; flex-basis: 100%; flex: 1; padding: 10px; }\n",
       "    </style>\n",
       "<div class=\"wandb-row\"><div class=\"wandb-col\"><h3>Run summary:</h3><br/><table class=\"wandb\"><tr><td>avg_test_loss</td><td>nan</td></tr></table><br/></div></div>"
      ],
      "text/plain": [
       "<IPython.core.display.HTML object>"
      ]
     },
     "metadata": {},
     "output_type": "display_data"
    },
    {
     "data": {
      "text/html": [
       " View run <strong style=\"color:#cdcd00\">amber-sweep-66</strong> at: <a href='https://wandb.ai/zekai-wang/RecurrentTPP%20on%20ANSS%20Nov%205/runs/qljupd3g' target=\"_blank\">https://wandb.ai/zekai-wang/RecurrentTPP%20on%20ANSS%20Nov%205/runs/qljupd3g</a><br/>Synced 6 W&B file(s), 0 media file(s), 0 artifact file(s) and 0 other file(s)"
      ],
      "text/plain": [
       "<IPython.core.display.HTML object>"
      ]
     },
     "metadata": {},
     "output_type": "display_data"
    },
    {
     "data": {
      "text/html": [
       "Find logs at: <code>./wandb/run-20231105_235159-qljupd3g/logs</code>"
      ],
      "text/plain": [
       "<IPython.core.display.HTML object>"
      ]
     },
     "metadata": {},
     "output_type": "display_data"
    },
    {
     "name": "stderr",
     "output_type": "stream",
     "text": [
      "\u001b[34m\u001b[1mwandb\u001b[0m: Agent Starting Run: od2ihz98 with config:\n",
      "\u001b[34m\u001b[1mwandb\u001b[0m: \tbatch_size: 8\n",
      "\u001b[34m\u001b[1mwandb\u001b[0m: \tbetas: [0.9, 0.999]\n",
      "\u001b[34m\u001b[1mwandb\u001b[0m: \tcontext_size: 64\n",
      "\u001b[34m\u001b[1mwandb\u001b[0m: \tdropout_proba: 0\n",
      "\u001b[34m\u001b[1mwandb\u001b[0m: \tlr: 0.02\n",
      "\u001b[34m\u001b[1mwandb\u001b[0m: \tnum_components: 16\n",
      "\u001b[34m\u001b[1mwandb\u001b[0m: \trnn_type: RNN\n",
      "\u001b[34m\u001b[1mwandb\u001b[0m: \tweight_decay: 0.01\n"
     ]
    },
    {
     "data": {
      "application/vnd.jupyter.widget-view+json": {
       "model_id": "961864b0642c42cf99dda376a6d4113f",
       "version_major": 2,
       "version_minor": 0
      },
      "text/plain": [
       "VBox(children=(Label(value='Waiting for wandb.init()...\\r'), FloatProgress(value=0.011112390255584614, max=1.0…"
      ]
     },
     "metadata": {},
     "output_type": "display_data"
    },
    {
     "data": {
      "text/html": [
       "Tracking run with wandb version 0.15.12"
      ],
      "text/plain": [
       "<IPython.core.display.HTML object>"
      ]
     },
     "metadata": {},
     "output_type": "display_data"
    },
    {
     "data": {
      "text/html": [
       "Run data is saved locally in <code>/home/zekai/repos/recast/notebooks/Zekai/hyperparameter_sweep/wandb/run-20231105_235340-od2ihz98</code>"
      ],
      "text/plain": [
       "<IPython.core.display.HTML object>"
      ]
     },
     "metadata": {},
     "output_type": "display_data"
    },
    {
     "data": {
      "text/html": [
       "Syncing run <strong><a href='https://wandb.ai/zekai-wang/RecurrentTPP%20on%20ANSS%20Nov%205/runs/od2ihz98' target=\"_blank\">woven-sweep-67</a></strong> to <a href='https://wandb.ai/zekai-wang/RecurrentTPP%20on%20ANSS%20Nov%205' target=\"_blank\">Weights & Biases</a> (<a href='https://wandb.me/run' target=\"_blank\">docs</a>)<br/>Sweep page: <a href='https://wandb.ai/zekai-wang/RecurrentTPP%20on%20ANSS%20Nov%205/sweeps/27ca0onv' target=\"_blank\">https://wandb.ai/zekai-wang/RecurrentTPP%20on%20ANSS%20Nov%205/sweeps/27ca0onv</a>"
      ],
      "text/plain": [
       "<IPython.core.display.HTML object>"
      ]
     },
     "metadata": {},
     "output_type": "display_data"
    },
    {
     "data": {
      "text/html": [
       " View project at <a href='https://wandb.ai/zekai-wang/RecurrentTPP%20on%20ANSS%20Nov%205' target=\"_blank\">https://wandb.ai/zekai-wang/RecurrentTPP%20on%20ANSS%20Nov%205</a>"
      ],
      "text/plain": [
       "<IPython.core.display.HTML object>"
      ]
     },
     "metadata": {},
     "output_type": "display_data"
    },
    {
     "data": {
      "text/html": [
       " View sweep at <a href='https://wandb.ai/zekai-wang/RecurrentTPP%20on%20ANSS%20Nov%205/sweeps/27ca0onv' target=\"_blank\">https://wandb.ai/zekai-wang/RecurrentTPP%20on%20ANSS%20Nov%205/sweeps/27ca0onv</a>"
      ],
      "text/plain": [
       "<IPython.core.display.HTML object>"
      ]
     },
     "metadata": {},
     "output_type": "display_data"
    },
    {
     "data": {
      "text/html": [
       " View run at <a href='https://wandb.ai/zekai-wang/RecurrentTPP%20on%20ANSS%20Nov%205/runs/od2ihz98' target=\"_blank\">https://wandb.ai/zekai-wang/RecurrentTPP%20on%20ANSS%20Nov%205/runs/od2ihz98</a>"
      ],
      "text/plain": [
       "<IPython.core.display.HTML object>"
      ]
     },
     "metadata": {},
     "output_type": "display_data"
    },
    {
     "data": {
      "application/vnd.jupyter.widget-view+json": {
       "model_id": "89b42d5770c8433db367675129f48a2d",
       "version_major": 2,
       "version_minor": 0
      },
      "text/plain": [
       "  0%|          | 0/200 [00:00<?, ?it/s]"
      ]
     },
     "metadata": {},
     "output_type": "display_data"
    },
    {
     "name": "stdout",
     "output_type": "stream",
     "text": [
      "Expected parameter scale (Tensor of shape (8, 498, 16)) of distribution Weibull(scale: torch.Size([8, 498, 16]), shape: torch.Size([8, 498, 16])) to satisfy the constraint GreaterThan(lower_bound=0.0), but found invalid values:\n",
      "tensor([[[0.8190, 0.6556, 0.5395,  ..., 0.5743, 0.5324, 0.8049],\n",
      "         [   nan,    nan,    nan,  ...,    nan,    nan,    nan],\n",
      "         [   nan,    nan,    nan,  ...,    nan,    nan,    nan],\n",
      "         ...,\n",
      "         [   nan,    nan,    nan,  ...,    nan,    nan,    nan],\n",
      "         [   nan,    nan,    nan,  ...,    nan,    nan,    nan],\n",
      "         [   nan,    nan,    nan,  ...,    nan,    nan,    nan]],\n",
      "\n",
      "        [[0.8190, 0.6556, 0.5395,  ..., 0.5743, 0.5324, 0.8049],\n",
      "         [   nan,    nan,    nan,  ...,    nan,    nan,    nan],\n",
      "         [   nan,    nan,    nan,  ...,    nan,    nan,    nan],\n",
      "         ...,\n",
      "         [   nan,    nan,    nan,  ...,    nan,    nan,    nan],\n",
      "         [   nan,    nan,    nan,  ...,    nan,    nan,    nan],\n",
      "         [   nan,    nan,    nan,  ...,    nan,    nan,    nan]],\n",
      "\n",
      "        [[0.8190, 0.6556, 0.5395,  ..., 0.5743, 0.5324, 0.8049],\n",
      "         [   nan,    nan,    nan,  ...,    nan,    nan,    nan],\n",
      "         [   nan,    nan,    nan,  ...,    nan,    nan,    nan],\n",
      "         ...,\n",
      "         [   nan,    nan,    nan,  ...,    nan,    nan,    nan],\n",
      "         [   nan,    nan,    nan,  ...,    nan,    nan,    nan],\n",
      "         [   nan,    nan,    nan,  ...,    nan,    nan,    nan]],\n",
      "\n",
      "        ...,\n",
      "\n",
      "        [[0.8190, 0.6556, 0.5395,  ..., 0.5743, 0.5324, 0.8049],\n",
      "         [   nan,    nan,    nan,  ...,    nan,    nan,    nan],\n",
      "         [   nan,    nan,    nan,  ...,    nan,    nan,    nan],\n",
      "         ...,\n",
      "         [   nan,    nan,    nan,  ...,    nan,    nan,    nan],\n",
      "         [   nan,    nan,    nan,  ...,    nan,    nan,    nan],\n",
      "         [   nan,    nan,    nan,  ...,    nan,    nan,    nan]],\n",
      "\n",
      "        [[0.8190, 0.6556, 0.5395,  ..., 0.5743, 0.5324, 0.8049],\n",
      "         [   nan,    nan,    nan,  ...,    nan,    nan,    nan],\n",
      "         [   nan,    nan,    nan,  ...,    nan,    nan,    nan],\n",
      "         ...,\n",
      "         [   nan,    nan,    nan,  ...,    nan,    nan,    nan],\n",
      "         [   nan,    nan,    nan,  ...,    nan,    nan,    nan],\n",
      "         [   nan,    nan,    nan,  ...,    nan,    nan,    nan]],\n",
      "\n",
      "        [[0.8190, 0.6556, 0.5395,  ..., 0.5743, 0.5324, 0.8049],\n",
      "         [   nan,    nan,    nan,  ...,    nan,    nan,    nan],\n",
      "         [   nan,    nan,    nan,  ...,    nan,    nan,    nan],\n",
      "         ...,\n",
      "         [   nan,    nan,    nan,  ...,    nan,    nan,    nan],\n",
      "         [   nan,    nan,    nan,  ...,    nan,    nan,    nan],\n",
      "         [   nan,    nan,    nan,  ...,    nan,    nan,    nan]]],\n",
      "       device='cuda:0', grad_fn=<SoftplusBackward0>)\n"
     ]
    },
    {
     "data": {
      "text/html": [
       "Waiting for W&B process to finish... <strong style=\"color:green\">(success).</strong>"
      ],
      "text/plain": [
       "<IPython.core.display.HTML object>"
      ]
     },
     "metadata": {},
     "output_type": "display_data"
    },
    {
     "data": {
      "text/html": [
       "<style>\n",
       "    table.wandb td:nth-child(1) { padding: 0 10px; text-align: left ; width: auto;} td:nth-child(2) {text-align: left ; width: 100%}\n",
       "    .wandb-row { display: flex; flex-direction: row; flex-wrap: wrap; justify-content: flex-start; width: 100% }\n",
       "    .wandb-col { display: flex; flex-direction: column; flex-basis: 100%; flex: 1; padding: 10px; }\n",
       "    </style>\n",
       "<div class=\"wandb-row\"><div class=\"wandb-col\"><h3>Run summary:</h3><br/><table class=\"wandb\"><tr><td>avg_test_loss</td><td>nan</td></tr></table><br/></div></div>"
      ],
      "text/plain": [
       "<IPython.core.display.HTML object>"
      ]
     },
     "metadata": {},
     "output_type": "display_data"
    },
    {
     "data": {
      "text/html": [
       " View run <strong style=\"color:#cdcd00\">woven-sweep-67</strong> at: <a href='https://wandb.ai/zekai-wang/RecurrentTPP%20on%20ANSS%20Nov%205/runs/od2ihz98' target=\"_blank\">https://wandb.ai/zekai-wang/RecurrentTPP%20on%20ANSS%20Nov%205/runs/od2ihz98</a><br/>Synced 6 W&B file(s), 0 media file(s), 0 artifact file(s) and 0 other file(s)"
      ],
      "text/plain": [
       "<IPython.core.display.HTML object>"
      ]
     },
     "metadata": {},
     "output_type": "display_data"
    },
    {
     "data": {
      "text/html": [
       "Find logs at: <code>./wandb/run-20231105_235340-od2ihz98/logs</code>"
      ],
      "text/plain": [
       "<IPython.core.display.HTML object>"
      ]
     },
     "metadata": {},
     "output_type": "display_data"
    },
    {
     "name": "stderr",
     "output_type": "stream",
     "text": [
      "\u001b[34m\u001b[1mwandb\u001b[0m: Agent Starting Run: 9o25i4hs with config:\n",
      "\u001b[34m\u001b[1mwandb\u001b[0m: \tbatch_size: 128\n",
      "\u001b[34m\u001b[1mwandb\u001b[0m: \tbetas: [0.9, 0.999]\n",
      "\u001b[34m\u001b[1mwandb\u001b[0m: \tcontext_size: 128\n",
      "\u001b[34m\u001b[1mwandb\u001b[0m: \tdropout_proba: 0.2\n",
      "\u001b[34m\u001b[1mwandb\u001b[0m: \tlr: 0.001\n",
      "\u001b[34m\u001b[1mwandb\u001b[0m: \tnum_components: 64\n",
      "\u001b[34m\u001b[1mwandb\u001b[0m: \trnn_type: LSTM\n",
      "\u001b[34m\u001b[1mwandb\u001b[0m: \tweight_decay: 0\n"
     ]
    },
    {
     "data": {
      "text/html": [
       "Tracking run with wandb version 0.15.12"
      ],
      "text/plain": [
       "<IPython.core.display.HTML object>"
      ]
     },
     "metadata": {},
     "output_type": "display_data"
    },
    {
     "data": {
      "text/html": [
       "Run data is saved locally in <code>/home/zekai/repos/recast/notebooks/Zekai/hyperparameter_sweep/wandb/run-20231105_235428-9o25i4hs</code>"
      ],
      "text/plain": [
       "<IPython.core.display.HTML object>"
      ]
     },
     "metadata": {},
     "output_type": "display_data"
    },
    {
     "data": {
      "text/html": [
       "Syncing run <strong><a href='https://wandb.ai/zekai-wang/RecurrentTPP%20on%20ANSS%20Nov%205/runs/9o25i4hs' target=\"_blank\">breezy-sweep-68</a></strong> to <a href='https://wandb.ai/zekai-wang/RecurrentTPP%20on%20ANSS%20Nov%205' target=\"_blank\">Weights & Biases</a> (<a href='https://wandb.me/run' target=\"_blank\">docs</a>)<br/>Sweep page: <a href='https://wandb.ai/zekai-wang/RecurrentTPP%20on%20ANSS%20Nov%205/sweeps/27ca0onv' target=\"_blank\">https://wandb.ai/zekai-wang/RecurrentTPP%20on%20ANSS%20Nov%205/sweeps/27ca0onv</a>"
      ],
      "text/plain": [
       "<IPython.core.display.HTML object>"
      ]
     },
     "metadata": {},
     "output_type": "display_data"
    },
    {
     "data": {
      "text/html": [
       " View project at <a href='https://wandb.ai/zekai-wang/RecurrentTPP%20on%20ANSS%20Nov%205' target=\"_blank\">https://wandb.ai/zekai-wang/RecurrentTPP%20on%20ANSS%20Nov%205</a>"
      ],
      "text/plain": [
       "<IPython.core.display.HTML object>"
      ]
     },
     "metadata": {},
     "output_type": "display_data"
    },
    {
     "data": {
      "text/html": [
       " View sweep at <a href='https://wandb.ai/zekai-wang/RecurrentTPP%20on%20ANSS%20Nov%205/sweeps/27ca0onv' target=\"_blank\">https://wandb.ai/zekai-wang/RecurrentTPP%20on%20ANSS%20Nov%205/sweeps/27ca0onv</a>"
      ],
      "text/plain": [
       "<IPython.core.display.HTML object>"
      ]
     },
     "metadata": {},
     "output_type": "display_data"
    },
    {
     "data": {
      "text/html": [
       " View run at <a href='https://wandb.ai/zekai-wang/RecurrentTPP%20on%20ANSS%20Nov%205/runs/9o25i4hs' target=\"_blank\">https://wandb.ai/zekai-wang/RecurrentTPP%20on%20ANSS%20Nov%205/runs/9o25i4hs</a>"
      ],
      "text/plain": [
       "<IPython.core.display.HTML object>"
      ]
     },
     "metadata": {},
     "output_type": "display_data"
    },
    {
     "data": {
      "application/vnd.jupyter.widget-view+json": {
       "model_id": "aca7dc8a3903470d872bd8e21c2d4c2d",
       "version_major": 2,
       "version_minor": 0
      },
      "text/plain": [
       "  0%|          | 0/200 [00:00<?, ?it/s]"
      ]
     },
     "metadata": {},
     "output_type": "display_data"
    },
    {
     "data": {
      "text/html": [
       "Waiting for W&B process to finish... <strong style=\"color:green\">(success).</strong>"
      ],
      "text/plain": [
       "<IPython.core.display.HTML object>"
      ]
     },
     "metadata": {},
     "output_type": "display_data"
    },
    {
     "data": {
      "application/vnd.jupyter.widget-view+json": {
       "model_id": "0ef6936fbd7441daa977f0cee985f9ce",
       "version_major": 2,
       "version_minor": 0
      },
      "text/plain": [
       "VBox(children=(Label(value='0.014 MB of 0.019 MB uploaded (0.000 MB deduped)\\r'), FloatProgress(value=0.757595…"
      ]
     },
     "metadata": {},
     "output_type": "display_data"
    },
    {
     "data": {
      "text/html": [
       "<style>\n",
       "    table.wandb td:nth-child(1) { padding: 0 10px; text-align: left ; width: auto;} td:nth-child(2) {text-align: left ; width: 100%}\n",
       "    .wandb-row { display: flex; flex-direction: row; flex-wrap: wrap; justify-content: flex-start; width: 100% }\n",
       "    .wandb-col { display: flex; flex-direction: column; flex-basis: 100%; flex: 1; padding: 10px; }\n",
       "    </style>\n",
       "<div class=\"wandb-row\"><div class=\"wandb-col\"><h3>Run history:</h3><br/><table class=\"wandb\"><tr><td>avg_test_loss</td><td>▁</td></tr></table><br/></div><div class=\"wandb-col\"><h3>Run summary:</h3><br/><table class=\"wandb\"><tr><td>avg_test_loss</td><td>0.16853</td></tr></table><br/></div></div>"
      ],
      "text/plain": [
       "<IPython.core.display.HTML object>"
      ]
     },
     "metadata": {},
     "output_type": "display_data"
    },
    {
     "data": {
      "text/html": [
       " View run <strong style=\"color:#cdcd00\">breezy-sweep-68</strong> at: <a href='https://wandb.ai/zekai-wang/RecurrentTPP%20on%20ANSS%20Nov%205/runs/9o25i4hs' target=\"_blank\">https://wandb.ai/zekai-wang/RecurrentTPP%20on%20ANSS%20Nov%205/runs/9o25i4hs</a><br/>Synced 5 W&B file(s), 0 media file(s), 0 artifact file(s) and 0 other file(s)"
      ],
      "text/plain": [
       "<IPython.core.display.HTML object>"
      ]
     },
     "metadata": {},
     "output_type": "display_data"
    },
    {
     "data": {
      "text/html": [
       "Find logs at: <code>./wandb/run-20231105_235428-9o25i4hs/logs</code>"
      ],
      "text/plain": [
       "<IPython.core.display.HTML object>"
      ]
     },
     "metadata": {},
     "output_type": "display_data"
    },
    {
     "name": "stderr",
     "output_type": "stream",
     "text": [
      "\u001b[34m\u001b[1mwandb\u001b[0m: Sweep Agent: Waiting for job.\n",
      "\u001b[34m\u001b[1mwandb\u001b[0m: Job received.\n",
      "\u001b[34m\u001b[1mwandb\u001b[0m: Agent Starting Run: gpnr89i9 with config:\n",
      "\u001b[34m\u001b[1mwandb\u001b[0m: \tbatch_size: 64\n",
      "\u001b[34m\u001b[1mwandb\u001b[0m: \tbetas: [0.9, 0.999]\n",
      "\u001b[34m\u001b[1mwandb\u001b[0m: \tcontext_size: 64\n",
      "\u001b[34m\u001b[1mwandb\u001b[0m: \tdropout_proba: 0.5\n",
      "\u001b[34m\u001b[1mwandb\u001b[0m: \tlr: 0.05\n",
      "\u001b[34m\u001b[1mwandb\u001b[0m: \tnum_components: 32\n",
      "\u001b[34m\u001b[1mwandb\u001b[0m: \trnn_type: RNN\n",
      "\u001b[34m\u001b[1mwandb\u001b[0m: \tweight_decay: 0.002\n"
     ]
    },
    {
     "data": {
      "text/html": [
       "Tracking run with wandb version 0.15.12"
      ],
      "text/plain": [
       "<IPython.core.display.HTML object>"
      ]
     },
     "metadata": {},
     "output_type": "display_data"
    },
    {
     "data": {
      "text/html": [
       "Run data is saved locally in <code>/home/zekai/repos/recast/notebooks/Zekai/hyperparameter_sweep/wandb/run-20231105_235647-gpnr89i9</code>"
      ],
      "text/plain": [
       "<IPython.core.display.HTML object>"
      ]
     },
     "metadata": {},
     "output_type": "display_data"
    },
    {
     "data": {
      "text/html": [
       "Syncing run <strong><a href='https://wandb.ai/zekai-wang/RecurrentTPP%20on%20ANSS%20Nov%205/runs/gpnr89i9' target=\"_blank\">stilted-sweep-69</a></strong> to <a href='https://wandb.ai/zekai-wang/RecurrentTPP%20on%20ANSS%20Nov%205' target=\"_blank\">Weights & Biases</a> (<a href='https://wandb.me/run' target=\"_blank\">docs</a>)<br/>Sweep page: <a href='https://wandb.ai/zekai-wang/RecurrentTPP%20on%20ANSS%20Nov%205/sweeps/27ca0onv' target=\"_blank\">https://wandb.ai/zekai-wang/RecurrentTPP%20on%20ANSS%20Nov%205/sweeps/27ca0onv</a>"
      ],
      "text/plain": [
       "<IPython.core.display.HTML object>"
      ]
     },
     "metadata": {},
     "output_type": "display_data"
    },
    {
     "data": {
      "text/html": [
       " View project at <a href='https://wandb.ai/zekai-wang/RecurrentTPP%20on%20ANSS%20Nov%205' target=\"_blank\">https://wandb.ai/zekai-wang/RecurrentTPP%20on%20ANSS%20Nov%205</a>"
      ],
      "text/plain": [
       "<IPython.core.display.HTML object>"
      ]
     },
     "metadata": {},
     "output_type": "display_data"
    },
    {
     "data": {
      "text/html": [
       " View sweep at <a href='https://wandb.ai/zekai-wang/RecurrentTPP%20on%20ANSS%20Nov%205/sweeps/27ca0onv' target=\"_blank\">https://wandb.ai/zekai-wang/RecurrentTPP%20on%20ANSS%20Nov%205/sweeps/27ca0onv</a>"
      ],
      "text/plain": [
       "<IPython.core.display.HTML object>"
      ]
     },
     "metadata": {},
     "output_type": "display_data"
    },
    {
     "data": {
      "text/html": [
       " View run at <a href='https://wandb.ai/zekai-wang/RecurrentTPP%20on%20ANSS%20Nov%205/runs/gpnr89i9' target=\"_blank\">https://wandb.ai/zekai-wang/RecurrentTPP%20on%20ANSS%20Nov%205/runs/gpnr89i9</a>"
      ],
      "text/plain": [
       "<IPython.core.display.HTML object>"
      ]
     },
     "metadata": {},
     "output_type": "display_data"
    },
    {
     "data": {
      "application/vnd.jupyter.widget-view+json": {
       "model_id": "d67c134a02b742ea9c7fe31448a96b8e",
       "version_major": 2,
       "version_minor": 0
      },
      "text/plain": [
       "  0%|          | 0/200 [00:00<?, ?it/s]"
      ]
     },
     "metadata": {},
     "output_type": "display_data"
    },
    {
     "name": "stdout",
     "output_type": "stream",
     "text": [
      "Expected parameter scale (Tensor of shape (64, 3025, 32)) of distribution Weibull(scale: torch.Size([64, 3025, 32]), shape: torch.Size([64, 3025, 32])) to satisfy the constraint GreaterThan(lower_bound=0.0), but found invalid values:\n",
      "tensor([[[0.7264, 0.1865, 0.9606,  ..., 1.1829, 1.0140, 0.7858],\n",
      "         [   nan,    nan,    nan,  ...,    nan,    nan,    nan],\n",
      "         [   nan,    nan,    nan,  ...,    nan,    nan,    nan],\n",
      "         ...,\n",
      "         [   nan,    nan,    nan,  ...,    nan,    nan,    nan],\n",
      "         [   nan,    nan,    nan,  ...,    nan,    nan,    nan],\n",
      "         [   nan,    nan,    nan,  ...,    nan,    nan,    nan]],\n",
      "\n",
      "        [[0.7264, 0.1865, 0.9606,  ..., 1.1829, 1.0140, 0.7858],\n",
      "         [   nan,    nan,    nan,  ...,    nan,    nan,    nan],\n",
      "         [   nan,    nan,    nan,  ...,    nan,    nan,    nan],\n",
      "         ...,\n",
      "         [   nan,    nan,    nan,  ...,    nan,    nan,    nan],\n",
      "         [   nan,    nan,    nan,  ...,    nan,    nan,    nan],\n",
      "         [   nan,    nan,    nan,  ...,    nan,    nan,    nan]],\n",
      "\n",
      "        [[0.7264, 0.1865, 0.9606,  ..., 1.1829, 1.0140, 0.7858],\n",
      "         [   nan,    nan,    nan,  ...,    nan,    nan,    nan],\n",
      "         [   nan,    nan,    nan,  ...,    nan,    nan,    nan],\n",
      "         ...,\n",
      "         [   nan,    nan,    nan,  ...,    nan,    nan,    nan],\n",
      "         [   nan,    nan,    nan,  ...,    nan,    nan,    nan],\n",
      "         [   nan,    nan,    nan,  ...,    nan,    nan,    nan]],\n",
      "\n",
      "        ...,\n",
      "\n",
      "        [[0.7264, 0.1865, 0.9606,  ..., 1.1829, 1.0140, 0.7858],\n",
      "         [   nan,    nan,    nan,  ...,    nan,    nan,    nan],\n",
      "         [   nan,    nan,    nan,  ...,    nan,    nan,    nan],\n",
      "         ...,\n",
      "         [   nan,    nan,    nan,  ...,    nan,    nan,    nan],\n",
      "         [   nan,    nan,    nan,  ...,    nan,    nan,    nan],\n",
      "         [   nan,    nan,    nan,  ...,    nan,    nan,    nan]],\n",
      "\n",
      "        [[0.7264, 0.1865, 0.9606,  ..., 1.1829, 1.0140, 0.7858],\n",
      "         [   nan,    nan,    nan,  ...,    nan,    nan,    nan],\n",
      "         [   nan,    nan,    nan,  ...,    nan,    nan,    nan],\n",
      "         ...,\n",
      "         [   nan,    nan,    nan,  ...,    nan,    nan,    nan],\n",
      "         [   nan,    nan,    nan,  ...,    nan,    nan,    nan],\n",
      "         [   nan,    nan,    nan,  ...,    nan,    nan,    nan]],\n",
      "\n",
      "        [[0.7264, 0.1865, 0.9606,  ..., 1.1829, 1.0140, 0.7858],\n",
      "         [   nan,    nan,    nan,  ...,    nan,    nan,    nan],\n",
      "         [   nan,    nan,    nan,  ...,    nan,    nan,    nan],\n",
      "         ...,\n",
      "         [   nan,    nan,    nan,  ...,    nan,    nan,    nan],\n",
      "         [   nan,    nan,    nan,  ...,    nan,    nan,    nan],\n",
      "         [   nan,    nan,    nan,  ...,    nan,    nan,    nan]]],\n",
      "       device='cuda:0', grad_fn=<SoftplusBackward0>)\n"
     ]
    },
    {
     "data": {
      "text/html": [
       "Waiting for W&B process to finish... <strong style=\"color:green\">(success).</strong>"
      ],
      "text/plain": [
       "<IPython.core.display.HTML object>"
      ]
     },
     "metadata": {},
     "output_type": "display_data"
    },
    {
     "data": {
      "text/html": [
       "<style>\n",
       "    table.wandb td:nth-child(1) { padding: 0 10px; text-align: left ; width: auto;} td:nth-child(2) {text-align: left ; width: 100%}\n",
       "    .wandb-row { display: flex; flex-direction: row; flex-wrap: wrap; justify-content: flex-start; width: 100% }\n",
       "    .wandb-col { display: flex; flex-direction: column; flex-basis: 100%; flex: 1; padding: 10px; }\n",
       "    </style>\n",
       "<div class=\"wandb-row\"><div class=\"wandb-col\"><h3>Run summary:</h3><br/><table class=\"wandb\"><tr><td>avg_test_loss</td><td>nan</td></tr></table><br/></div></div>"
      ],
      "text/plain": [
       "<IPython.core.display.HTML object>"
      ]
     },
     "metadata": {},
     "output_type": "display_data"
    },
    {
     "data": {
      "text/html": [
       " View run <strong style=\"color:#cdcd00\">stilted-sweep-69</strong> at: <a href='https://wandb.ai/zekai-wang/RecurrentTPP%20on%20ANSS%20Nov%205/runs/gpnr89i9' target=\"_blank\">https://wandb.ai/zekai-wang/RecurrentTPP%20on%20ANSS%20Nov%205/runs/gpnr89i9</a><br/>Synced 6 W&B file(s), 0 media file(s), 0 artifact file(s) and 0 other file(s)"
      ],
      "text/plain": [
       "<IPython.core.display.HTML object>"
      ]
     },
     "metadata": {},
     "output_type": "display_data"
    },
    {
     "data": {
      "text/html": [
       "Find logs at: <code>./wandb/run-20231105_235647-gpnr89i9/logs</code>"
      ],
      "text/plain": [
       "<IPython.core.display.HTML object>"
      ]
     },
     "metadata": {},
     "output_type": "display_data"
    },
    {
     "name": "stderr",
     "output_type": "stream",
     "text": [
      "\u001b[34m\u001b[1mwandb\u001b[0m: Agent Starting Run: scb9rhnz with config:\n",
      "\u001b[34m\u001b[1mwandb\u001b[0m: \tbatch_size: 16\n",
      "\u001b[34m\u001b[1mwandb\u001b[0m: \tbetas: [0.9, 0.999]\n",
      "\u001b[34m\u001b[1mwandb\u001b[0m: \tcontext_size: 8\n",
      "\u001b[34m\u001b[1mwandb\u001b[0m: \tdropout_proba: 0.1\n",
      "\u001b[34m\u001b[1mwandb\u001b[0m: \tlr: 0.05\n",
      "\u001b[34m\u001b[1mwandb\u001b[0m: \tnum_components: 32\n",
      "\u001b[34m\u001b[1mwandb\u001b[0m: \trnn_type: GRU\n",
      "\u001b[34m\u001b[1mwandb\u001b[0m: \tweight_decay: 0.02\n"
     ]
    },
    {
     "data": {
      "text/html": [
       "Tracking run with wandb version 0.15.12"
      ],
      "text/plain": [
       "<IPython.core.display.HTML object>"
      ]
     },
     "metadata": {},
     "output_type": "display_data"
    },
    {
     "data": {
      "text/html": [
       "Run data is saved locally in <code>/home/zekai/repos/recast/notebooks/Zekai/hyperparameter_sweep/wandb/run-20231105_235713-scb9rhnz</code>"
      ],
      "text/plain": [
       "<IPython.core.display.HTML object>"
      ]
     },
     "metadata": {},
     "output_type": "display_data"
    },
    {
     "data": {
      "text/html": [
       "Syncing run <strong><a href='https://wandb.ai/zekai-wang/RecurrentTPP%20on%20ANSS%20Nov%205/runs/scb9rhnz' target=\"_blank\">ethereal-sweep-70</a></strong> to <a href='https://wandb.ai/zekai-wang/RecurrentTPP%20on%20ANSS%20Nov%205' target=\"_blank\">Weights & Biases</a> (<a href='https://wandb.me/run' target=\"_blank\">docs</a>)<br/>Sweep page: <a href='https://wandb.ai/zekai-wang/RecurrentTPP%20on%20ANSS%20Nov%205/sweeps/27ca0onv' target=\"_blank\">https://wandb.ai/zekai-wang/RecurrentTPP%20on%20ANSS%20Nov%205/sweeps/27ca0onv</a>"
      ],
      "text/plain": [
       "<IPython.core.display.HTML object>"
      ]
     },
     "metadata": {},
     "output_type": "display_data"
    },
    {
     "data": {
      "text/html": [
       " View project at <a href='https://wandb.ai/zekai-wang/RecurrentTPP%20on%20ANSS%20Nov%205' target=\"_blank\">https://wandb.ai/zekai-wang/RecurrentTPP%20on%20ANSS%20Nov%205</a>"
      ],
      "text/plain": [
       "<IPython.core.display.HTML object>"
      ]
     },
     "metadata": {},
     "output_type": "display_data"
    },
    {
     "data": {
      "text/html": [
       " View sweep at <a href='https://wandb.ai/zekai-wang/RecurrentTPP%20on%20ANSS%20Nov%205/sweeps/27ca0onv' target=\"_blank\">https://wandb.ai/zekai-wang/RecurrentTPP%20on%20ANSS%20Nov%205/sweeps/27ca0onv</a>"
      ],
      "text/plain": [
       "<IPython.core.display.HTML object>"
      ]
     },
     "metadata": {},
     "output_type": "display_data"
    },
    {
     "data": {
      "text/html": [
       " View run at <a href='https://wandb.ai/zekai-wang/RecurrentTPP%20on%20ANSS%20Nov%205/runs/scb9rhnz' target=\"_blank\">https://wandb.ai/zekai-wang/RecurrentTPP%20on%20ANSS%20Nov%205/runs/scb9rhnz</a>"
      ],
      "text/plain": [
       "<IPython.core.display.HTML object>"
      ]
     },
     "metadata": {},
     "output_type": "display_data"
    },
    {
     "data": {
      "application/vnd.jupyter.widget-view+json": {
       "model_id": "bc2cb8d9f0d647d78e2ef3e45516132c",
       "version_major": 2,
       "version_minor": 0
      },
      "text/plain": [
       "  0%|          | 0/200 [00:00<?, ?it/s]"
      ]
     },
     "metadata": {},
     "output_type": "display_data"
    },
    {
     "data": {
      "text/html": [
       "Waiting for W&B process to finish... <strong style=\"color:green\">(success).</strong>"
      ],
      "text/plain": [
       "<IPython.core.display.HTML object>"
      ]
     },
     "metadata": {},
     "output_type": "display_data"
    },
    {
     "data": {
      "text/html": [
       "<style>\n",
       "    table.wandb td:nth-child(1) { padding: 0 10px; text-align: left ; width: auto;} td:nth-child(2) {text-align: left ; width: 100%}\n",
       "    .wandb-row { display: flex; flex-direction: row; flex-wrap: wrap; justify-content: flex-start; width: 100% }\n",
       "    .wandb-col { display: flex; flex-direction: column; flex-basis: 100%; flex: 1; padding: 10px; }\n",
       "    </style>\n",
       "<div class=\"wandb-row\"><div class=\"wandb-col\"><h3>Run history:</h3><br/><table class=\"wandb\"><tr><td>avg_test_loss</td><td>▁</td></tr></table><br/></div><div class=\"wandb-col\"><h3>Run summary:</h3><br/><table class=\"wandb\"><tr><td>avg_test_loss</td><td>0.1708</td></tr></table><br/></div></div>"
      ],
      "text/plain": [
       "<IPython.core.display.HTML object>"
      ]
     },
     "metadata": {},
     "output_type": "display_data"
    },
    {
     "data": {
      "text/html": [
       " View run <strong style=\"color:#cdcd00\">ethereal-sweep-70</strong> at: <a href='https://wandb.ai/zekai-wang/RecurrentTPP%20on%20ANSS%20Nov%205/runs/scb9rhnz' target=\"_blank\">https://wandb.ai/zekai-wang/RecurrentTPP%20on%20ANSS%20Nov%205/runs/scb9rhnz</a><br/>Synced 5 W&B file(s), 0 media file(s), 0 artifact file(s) and 0 other file(s)"
      ],
      "text/plain": [
       "<IPython.core.display.HTML object>"
      ]
     },
     "metadata": {},
     "output_type": "display_data"
    },
    {
     "data": {
      "text/html": [
       "Find logs at: <code>./wandb/run-20231105_235713-scb9rhnz/logs</code>"
      ],
      "text/plain": [
       "<IPython.core.display.HTML object>"
      ]
     },
     "metadata": {},
     "output_type": "display_data"
    },
    {
     "name": "stderr",
     "output_type": "stream",
     "text": [
      "\u001b[34m\u001b[1mwandb\u001b[0m: Sweep Agent: Waiting for job.\n",
      "\u001b[34m\u001b[1mwandb\u001b[0m: Job received.\n",
      "\u001b[34m\u001b[1mwandb\u001b[0m: Agent Starting Run: jtnm76hf with config:\n",
      "\u001b[34m\u001b[1mwandb\u001b[0m: \tbatch_size: 64\n",
      "\u001b[34m\u001b[1mwandb\u001b[0m: \tbetas: [0.9, 0.999]\n",
      "\u001b[34m\u001b[1mwandb\u001b[0m: \tcontext_size: 8\n",
      "\u001b[34m\u001b[1mwandb\u001b[0m: \tdropout_proba: 0.5\n",
      "\u001b[34m\u001b[1mwandb\u001b[0m: \tlr: 0.01\n",
      "\u001b[34m\u001b[1mwandb\u001b[0m: \tnum_components: 32\n",
      "\u001b[34m\u001b[1mwandb\u001b[0m: \trnn_type: GRU\n",
      "\u001b[34m\u001b[1mwandb\u001b[0m: \tweight_decay: 0\n"
     ]
    },
    {
     "data": {
      "text/html": [
       "Tracking run with wandb version 0.15.12"
      ],
      "text/plain": [
       "<IPython.core.display.HTML object>"
      ]
     },
     "metadata": {},
     "output_type": "display_data"
    },
    {
     "data": {
      "text/html": [
       "Run data is saved locally in <code>/home/zekai/repos/recast/notebooks/Zekai/hyperparameter_sweep/wandb/run-20231105_235850-jtnm76hf</code>"
      ],
      "text/plain": [
       "<IPython.core.display.HTML object>"
      ]
     },
     "metadata": {},
     "output_type": "display_data"
    },
    {
     "data": {
      "text/html": [
       "Syncing run <strong><a href='https://wandb.ai/zekai-wang/RecurrentTPP%20on%20ANSS%20Nov%205/runs/jtnm76hf' target=\"_blank\">northern-sweep-71</a></strong> to <a href='https://wandb.ai/zekai-wang/RecurrentTPP%20on%20ANSS%20Nov%205' target=\"_blank\">Weights & Biases</a> (<a href='https://wandb.me/run' target=\"_blank\">docs</a>)<br/>Sweep page: <a href='https://wandb.ai/zekai-wang/RecurrentTPP%20on%20ANSS%20Nov%205/sweeps/27ca0onv' target=\"_blank\">https://wandb.ai/zekai-wang/RecurrentTPP%20on%20ANSS%20Nov%205/sweeps/27ca0onv</a>"
      ],
      "text/plain": [
       "<IPython.core.display.HTML object>"
      ]
     },
     "metadata": {},
     "output_type": "display_data"
    },
    {
     "data": {
      "text/html": [
       " View project at <a href='https://wandb.ai/zekai-wang/RecurrentTPP%20on%20ANSS%20Nov%205' target=\"_blank\">https://wandb.ai/zekai-wang/RecurrentTPP%20on%20ANSS%20Nov%205</a>"
      ],
      "text/plain": [
       "<IPython.core.display.HTML object>"
      ]
     },
     "metadata": {},
     "output_type": "display_data"
    },
    {
     "data": {
      "text/html": [
       " View sweep at <a href='https://wandb.ai/zekai-wang/RecurrentTPP%20on%20ANSS%20Nov%205/sweeps/27ca0onv' target=\"_blank\">https://wandb.ai/zekai-wang/RecurrentTPP%20on%20ANSS%20Nov%205/sweeps/27ca0onv</a>"
      ],
      "text/plain": [
       "<IPython.core.display.HTML object>"
      ]
     },
     "metadata": {},
     "output_type": "display_data"
    },
    {
     "data": {
      "text/html": [
       " View run at <a href='https://wandb.ai/zekai-wang/RecurrentTPP%20on%20ANSS%20Nov%205/runs/jtnm76hf' target=\"_blank\">https://wandb.ai/zekai-wang/RecurrentTPP%20on%20ANSS%20Nov%205/runs/jtnm76hf</a>"
      ],
      "text/plain": [
       "<IPython.core.display.HTML object>"
      ]
     },
     "metadata": {},
     "output_type": "display_data"
    },
    {
     "data": {
      "application/vnd.jupyter.widget-view+json": {
       "model_id": "cf85ea6f6c7746c4986ecc8560a24522",
       "version_major": 2,
       "version_minor": 0
      },
      "text/plain": [
       "  0%|          | 0/200 [00:00<?, ?it/s]"
      ]
     },
     "metadata": {},
     "output_type": "display_data"
    },
    {
     "data": {
      "text/html": [
       "Waiting for W&B process to finish... <strong style=\"color:green\">(success).</strong>"
      ],
      "text/plain": [
       "<IPython.core.display.HTML object>"
      ]
     },
     "metadata": {},
     "output_type": "display_data"
    },
    {
     "data": {
      "application/vnd.jupyter.widget-view+json": {
       "model_id": "2dba0235228640458c69d5c984b8aaee",
       "version_major": 2,
       "version_minor": 0
      },
      "text/plain": [
       "VBox(children=(Label(value='0.014 MB of 0.019 MB uploaded (0.000 MB deduped)\\r'), FloatProgress(value=0.757711…"
      ]
     },
     "metadata": {},
     "output_type": "display_data"
    },
    {
     "data": {
      "text/html": [
       "<style>\n",
       "    table.wandb td:nth-child(1) { padding: 0 10px; text-align: left ; width: auto;} td:nth-child(2) {text-align: left ; width: 100%}\n",
       "    .wandb-row { display: flex; flex-direction: row; flex-wrap: wrap; justify-content: flex-start; width: 100% }\n",
       "    .wandb-col { display: flex; flex-direction: column; flex-basis: 100%; flex: 1; padding: 10px; }\n",
       "    </style>\n",
       "<div class=\"wandb-row\"><div class=\"wandb-col\"><h3>Run history:</h3><br/><table class=\"wandb\"><tr><td>avg_test_loss</td><td>▁</td></tr></table><br/></div><div class=\"wandb-col\"><h3>Run summary:</h3><br/><table class=\"wandb\"><tr><td>avg_test_loss</td><td>0.22122</td></tr></table><br/></div></div>"
      ],
      "text/plain": [
       "<IPython.core.display.HTML object>"
      ]
     },
     "metadata": {},
     "output_type": "display_data"
    },
    {
     "data": {
      "text/html": [
       " View run <strong style=\"color:#cdcd00\">northern-sweep-71</strong> at: <a href='https://wandb.ai/zekai-wang/RecurrentTPP%20on%20ANSS%20Nov%205/runs/jtnm76hf' target=\"_blank\">https://wandb.ai/zekai-wang/RecurrentTPP%20on%20ANSS%20Nov%205/runs/jtnm76hf</a><br/>Synced 5 W&B file(s), 0 media file(s), 0 artifact file(s) and 0 other file(s)"
      ],
      "text/plain": [
       "<IPython.core.display.HTML object>"
      ]
     },
     "metadata": {},
     "output_type": "display_data"
    },
    {
     "data": {
      "text/html": [
       "Find logs at: <code>./wandb/run-20231105_235850-jtnm76hf/logs</code>"
      ],
      "text/plain": [
       "<IPython.core.display.HTML object>"
      ]
     },
     "metadata": {},
     "output_type": "display_data"
    },
    {
     "name": "stderr",
     "output_type": "stream",
     "text": [
      "\u001b[34m\u001b[1mwandb\u001b[0m: Sweep Agent: Waiting for job.\n",
      "\u001b[34m\u001b[1mwandb\u001b[0m: Job received.\n",
      "\u001b[34m\u001b[1mwandb\u001b[0m: Agent Starting Run: vvp0uoqx with config:\n",
      "\u001b[34m\u001b[1mwandb\u001b[0m: \tbatch_size: 16\n",
      "\u001b[34m\u001b[1mwandb\u001b[0m: \tbetas: [0.9, 0.999]\n",
      "\u001b[34m\u001b[1mwandb\u001b[0m: \tcontext_size: 32\n",
      "\u001b[34m\u001b[1mwandb\u001b[0m: \tdropout_proba: 0.1\n",
      "\u001b[34m\u001b[1mwandb\u001b[0m: \tlr: 0.05\n",
      "\u001b[34m\u001b[1mwandb\u001b[0m: \tnum_components: 16\n",
      "\u001b[34m\u001b[1mwandb\u001b[0m: \trnn_type: GRU\n",
      "\u001b[34m\u001b[1mwandb\u001b[0m: \tweight_decay: 0.002\n"
     ]
    },
    {
     "data": {
      "text/html": [
       "Tracking run with wandb version 0.15.12"
      ],
      "text/plain": [
       "<IPython.core.display.HTML object>"
      ]
     },
     "metadata": {},
     "output_type": "display_data"
    },
    {
     "data": {
      "text/html": [
       "Run data is saved locally in <code>/home/zekai/repos/recast/notebooks/Zekai/hyperparameter_sweep/wandb/run-20231106_000012-vvp0uoqx</code>"
      ],
      "text/plain": [
       "<IPython.core.display.HTML object>"
      ]
     },
     "metadata": {},
     "output_type": "display_data"
    },
    {
     "data": {
      "text/html": [
       "Syncing run <strong><a href='https://wandb.ai/zekai-wang/RecurrentTPP%20on%20ANSS%20Nov%205/runs/vvp0uoqx' target=\"_blank\">morning-sweep-72</a></strong> to <a href='https://wandb.ai/zekai-wang/RecurrentTPP%20on%20ANSS%20Nov%205' target=\"_blank\">Weights & Biases</a> (<a href='https://wandb.me/run' target=\"_blank\">docs</a>)<br/>Sweep page: <a href='https://wandb.ai/zekai-wang/RecurrentTPP%20on%20ANSS%20Nov%205/sweeps/27ca0onv' target=\"_blank\">https://wandb.ai/zekai-wang/RecurrentTPP%20on%20ANSS%20Nov%205/sweeps/27ca0onv</a>"
      ],
      "text/plain": [
       "<IPython.core.display.HTML object>"
      ]
     },
     "metadata": {},
     "output_type": "display_data"
    },
    {
     "data": {
      "text/html": [
       " View project at <a href='https://wandb.ai/zekai-wang/RecurrentTPP%20on%20ANSS%20Nov%205' target=\"_blank\">https://wandb.ai/zekai-wang/RecurrentTPP%20on%20ANSS%20Nov%205</a>"
      ],
      "text/plain": [
       "<IPython.core.display.HTML object>"
      ]
     },
     "metadata": {},
     "output_type": "display_data"
    },
    {
     "data": {
      "text/html": [
       " View sweep at <a href='https://wandb.ai/zekai-wang/RecurrentTPP%20on%20ANSS%20Nov%205/sweeps/27ca0onv' target=\"_blank\">https://wandb.ai/zekai-wang/RecurrentTPP%20on%20ANSS%20Nov%205/sweeps/27ca0onv</a>"
      ],
      "text/plain": [
       "<IPython.core.display.HTML object>"
      ]
     },
     "metadata": {},
     "output_type": "display_data"
    },
    {
     "data": {
      "text/html": [
       " View run at <a href='https://wandb.ai/zekai-wang/RecurrentTPP%20on%20ANSS%20Nov%205/runs/vvp0uoqx' target=\"_blank\">https://wandb.ai/zekai-wang/RecurrentTPP%20on%20ANSS%20Nov%205/runs/vvp0uoqx</a>"
      ],
      "text/plain": [
       "<IPython.core.display.HTML object>"
      ]
     },
     "metadata": {},
     "output_type": "display_data"
    },
    {
     "data": {
      "application/vnd.jupyter.widget-view+json": {
       "model_id": "0e124b6d07b04fc0a1af0e56fdd885d9",
       "version_major": 2,
       "version_minor": 0
      },
      "text/plain": [
       "  0%|          | 0/200 [00:00<?, ?it/s]"
      ]
     },
     "metadata": {},
     "output_type": "display_data"
    },
    {
     "name": "stdout",
     "output_type": "stream",
     "text": [
      "Expected parameter scale (Tensor of shape (16, 851, 16)) of distribution Weibull(scale: torch.Size([16, 851, 16]), shape: torch.Size([16, 851, 16])) to satisfy the constraint GreaterThan(lower_bound=0.0), but found invalid values:\n",
      "tensor([[[1.0230, 0.9667, 0.9398,  ..., 1.9668, 6.0034, 0.4380],\n",
      "         [   nan,    nan,    nan,  ...,    nan,    nan,    nan],\n",
      "         [   nan,    nan,    nan,  ...,    nan,    nan,    nan],\n",
      "         ...,\n",
      "         [   nan,    nan,    nan,  ...,    nan,    nan,    nan],\n",
      "         [   nan,    nan,    nan,  ...,    nan,    nan,    nan],\n",
      "         [   nan,    nan,    nan,  ...,    nan,    nan,    nan]],\n",
      "\n",
      "        [[1.0230, 0.9667, 0.9398,  ..., 1.9668, 6.0034, 0.4380],\n",
      "         [   nan,    nan,    nan,  ...,    nan,    nan,    nan],\n",
      "         [   nan,    nan,    nan,  ...,    nan,    nan,    nan],\n",
      "         ...,\n",
      "         [   nan,    nan,    nan,  ...,    nan,    nan,    nan],\n",
      "         [   nan,    nan,    nan,  ...,    nan,    nan,    nan],\n",
      "         [   nan,    nan,    nan,  ...,    nan,    nan,    nan]],\n",
      "\n",
      "        [[1.0230, 0.9667, 0.9398,  ..., 1.9668, 6.0034, 0.4380],\n",
      "         [   nan,    nan,    nan,  ...,    nan,    nan,    nan],\n",
      "         [   nan,    nan,    nan,  ...,    nan,    nan,    nan],\n",
      "         ...,\n",
      "         [   nan,    nan,    nan,  ...,    nan,    nan,    nan],\n",
      "         [   nan,    nan,    nan,  ...,    nan,    nan,    nan],\n",
      "         [   nan,    nan,    nan,  ...,    nan,    nan,    nan]],\n",
      "\n",
      "        ...,\n",
      "\n",
      "        [[1.0230, 0.9667, 0.9398,  ..., 1.9668, 6.0034, 0.4380],\n",
      "         [   nan,    nan,    nan,  ...,    nan,    nan,    nan],\n",
      "         [   nan,    nan,    nan,  ...,    nan,    nan,    nan],\n",
      "         ...,\n",
      "         [   nan,    nan,    nan,  ...,    nan,    nan,    nan],\n",
      "         [   nan,    nan,    nan,  ...,    nan,    nan,    nan],\n",
      "         [   nan,    nan,    nan,  ...,    nan,    nan,    nan]],\n",
      "\n",
      "        [[1.0230, 0.9667, 0.9398,  ..., 1.9668, 6.0034, 0.4380],\n",
      "         [   nan,    nan,    nan,  ...,    nan,    nan,    nan],\n",
      "         [   nan,    nan,    nan,  ...,    nan,    nan,    nan],\n",
      "         ...,\n",
      "         [   nan,    nan,    nan,  ...,    nan,    nan,    nan],\n",
      "         [   nan,    nan,    nan,  ...,    nan,    nan,    nan],\n",
      "         [   nan,    nan,    nan,  ...,    nan,    nan,    nan]],\n",
      "\n",
      "        [[1.0230, 0.9667, 0.9398,  ..., 1.9668, 6.0034, 0.4380],\n",
      "         [   nan,    nan,    nan,  ...,    nan,    nan,    nan],\n",
      "         [   nan,    nan,    nan,  ...,    nan,    nan,    nan],\n",
      "         ...,\n",
      "         [   nan,    nan,    nan,  ...,    nan,    nan,    nan],\n",
      "         [   nan,    nan,    nan,  ...,    nan,    nan,    nan],\n",
      "         [   nan,    nan,    nan,  ...,    nan,    nan,    nan]]],\n",
      "       device='cuda:0', grad_fn=<SoftplusBackward0>)\n"
     ]
    },
    {
     "data": {
      "text/html": [
       "Waiting for W&B process to finish... <strong style=\"color:green\">(success).</strong>"
      ],
      "text/plain": [
       "<IPython.core.display.HTML object>"
      ]
     },
     "metadata": {},
     "output_type": "display_data"
    },
    {
     "data": {
      "text/html": [
       "<style>\n",
       "    table.wandb td:nth-child(1) { padding: 0 10px; text-align: left ; width: auto;} td:nth-child(2) {text-align: left ; width: 100%}\n",
       "    .wandb-row { display: flex; flex-direction: row; flex-wrap: wrap; justify-content: flex-start; width: 100% }\n",
       "    .wandb-col { display: flex; flex-direction: column; flex-basis: 100%; flex: 1; padding: 10px; }\n",
       "    </style>\n",
       "<div class=\"wandb-row\"><div class=\"wandb-col\"><h3>Run summary:</h3><br/><table class=\"wandb\"><tr><td>avg_test_loss</td><td>nan</td></tr></table><br/></div></div>"
      ],
      "text/plain": [
       "<IPython.core.display.HTML object>"
      ]
     },
     "metadata": {},
     "output_type": "display_data"
    },
    {
     "data": {
      "text/html": [
       " View run <strong style=\"color:#cdcd00\">morning-sweep-72</strong> at: <a href='https://wandb.ai/zekai-wang/RecurrentTPP%20on%20ANSS%20Nov%205/runs/vvp0uoqx' target=\"_blank\">https://wandb.ai/zekai-wang/RecurrentTPP%20on%20ANSS%20Nov%205/runs/vvp0uoqx</a><br/>Synced 6 W&B file(s), 0 media file(s), 0 artifact file(s) and 0 other file(s)"
      ],
      "text/plain": [
       "<IPython.core.display.HTML object>"
      ]
     },
     "metadata": {},
     "output_type": "display_data"
    },
    {
     "data": {
      "text/html": [
       "Find logs at: <code>./wandb/run-20231106_000012-vvp0uoqx/logs</code>"
      ],
      "text/plain": [
       "<IPython.core.display.HTML object>"
      ]
     },
     "metadata": {},
     "output_type": "display_data"
    },
    {
     "name": "stderr",
     "output_type": "stream",
     "text": [
      "\u001b[34m\u001b[1mwandb\u001b[0m: Agent Starting Run: sh7j8125 with config:\n",
      "\u001b[34m\u001b[1mwandb\u001b[0m: \tbatch_size: 16\n",
      "\u001b[34m\u001b[1mwandb\u001b[0m: \tbetas: [0.9, 0.999]\n",
      "\u001b[34m\u001b[1mwandb\u001b[0m: \tcontext_size: 64\n",
      "\u001b[34m\u001b[1mwandb\u001b[0m: \tdropout_proba: 0.1\n",
      "\u001b[34m\u001b[1mwandb\u001b[0m: \tlr: 0.05\n",
      "\u001b[34m\u001b[1mwandb\u001b[0m: \tnum_components: 32\n",
      "\u001b[34m\u001b[1mwandb\u001b[0m: \trnn_type: RNN\n",
      "\u001b[34m\u001b[1mwandb\u001b[0m: \tweight_decay: 0.01\n"
     ]
    },
    {
     "data": {
      "text/html": [
       "Tracking run with wandb version 0.15.12"
      ],
      "text/plain": [
       "<IPython.core.display.HTML object>"
      ]
     },
     "metadata": {},
     "output_type": "display_data"
    },
    {
     "data": {
      "text/html": [
       "Run data is saved locally in <code>/home/zekai/repos/recast/notebooks/Zekai/hyperparameter_sweep/wandb/run-20231106_000048-sh7j8125</code>"
      ],
      "text/plain": [
       "<IPython.core.display.HTML object>"
      ]
     },
     "metadata": {},
     "output_type": "display_data"
    },
    {
     "data": {
      "text/html": [
       "Syncing run <strong><a href='https://wandb.ai/zekai-wang/RecurrentTPP%20on%20ANSS%20Nov%205/runs/sh7j8125' target=\"_blank\">fluent-sweep-73</a></strong> to <a href='https://wandb.ai/zekai-wang/RecurrentTPP%20on%20ANSS%20Nov%205' target=\"_blank\">Weights & Biases</a> (<a href='https://wandb.me/run' target=\"_blank\">docs</a>)<br/>Sweep page: <a href='https://wandb.ai/zekai-wang/RecurrentTPP%20on%20ANSS%20Nov%205/sweeps/27ca0onv' target=\"_blank\">https://wandb.ai/zekai-wang/RecurrentTPP%20on%20ANSS%20Nov%205/sweeps/27ca0onv</a>"
      ],
      "text/plain": [
       "<IPython.core.display.HTML object>"
      ]
     },
     "metadata": {},
     "output_type": "display_data"
    },
    {
     "data": {
      "text/html": [
       " View project at <a href='https://wandb.ai/zekai-wang/RecurrentTPP%20on%20ANSS%20Nov%205' target=\"_blank\">https://wandb.ai/zekai-wang/RecurrentTPP%20on%20ANSS%20Nov%205</a>"
      ],
      "text/plain": [
       "<IPython.core.display.HTML object>"
      ]
     },
     "metadata": {},
     "output_type": "display_data"
    },
    {
     "data": {
      "text/html": [
       " View sweep at <a href='https://wandb.ai/zekai-wang/RecurrentTPP%20on%20ANSS%20Nov%205/sweeps/27ca0onv' target=\"_blank\">https://wandb.ai/zekai-wang/RecurrentTPP%20on%20ANSS%20Nov%205/sweeps/27ca0onv</a>"
      ],
      "text/plain": [
       "<IPython.core.display.HTML object>"
      ]
     },
     "metadata": {},
     "output_type": "display_data"
    },
    {
     "data": {
      "text/html": [
       " View run at <a href='https://wandb.ai/zekai-wang/RecurrentTPP%20on%20ANSS%20Nov%205/runs/sh7j8125' target=\"_blank\">https://wandb.ai/zekai-wang/RecurrentTPP%20on%20ANSS%20Nov%205/runs/sh7j8125</a>"
      ],
      "text/plain": [
       "<IPython.core.display.HTML object>"
      ]
     },
     "metadata": {},
     "output_type": "display_data"
    },
    {
     "data": {
      "application/vnd.jupyter.widget-view+json": {
       "model_id": "7a9b86d98e504fabb40bfffbb0e8bdfc",
       "version_major": 2,
       "version_minor": 0
      },
      "text/plain": [
       "  0%|          | 0/200 [00:00<?, ?it/s]"
      ]
     },
     "metadata": {},
     "output_type": "display_data"
    },
    {
     "name": "stdout",
     "output_type": "stream",
     "text": [
      "Expected parameter scale (Tensor of shape (16, 1539, 32)) of distribution Weibull(scale: torch.Size([16, 1539, 32]), shape: torch.Size([16, 1539, 32])) to satisfy the constraint GreaterThan(lower_bound=0.0), but found invalid values:\n",
      "tensor([[[0.7011, 0.9131, 0.5155,  ..., 0.5511, 0.3479, 0.8231],\n",
      "         [   nan,    nan,    nan,  ...,    nan,    nan,    nan],\n",
      "         [   nan,    nan,    nan,  ...,    nan,    nan,    nan],\n",
      "         ...,\n",
      "         [   nan,    nan,    nan,  ...,    nan,    nan,    nan],\n",
      "         [   nan,    nan,    nan,  ...,    nan,    nan,    nan],\n",
      "         [   nan,    nan,    nan,  ...,    nan,    nan,    nan]],\n",
      "\n",
      "        [[0.7011, 0.9131, 0.5155,  ..., 0.5511, 0.3479, 0.8231],\n",
      "         [   nan,    nan,    nan,  ...,    nan,    nan,    nan],\n",
      "         [   nan,    nan,    nan,  ...,    nan,    nan,    nan],\n",
      "         ...,\n",
      "         [   nan,    nan,    nan,  ...,    nan,    nan,    nan],\n",
      "         [   nan,    nan,    nan,  ...,    nan,    nan,    nan],\n",
      "         [   nan,    nan,    nan,  ...,    nan,    nan,    nan]],\n",
      "\n",
      "        [[0.7011, 0.9131, 0.5155,  ..., 0.5511, 0.3479, 0.8231],\n",
      "         [   nan,    nan,    nan,  ...,    nan,    nan,    nan],\n",
      "         [   nan,    nan,    nan,  ...,    nan,    nan,    nan],\n",
      "         ...,\n",
      "         [   nan,    nan,    nan,  ...,    nan,    nan,    nan],\n",
      "         [   nan,    nan,    nan,  ...,    nan,    nan,    nan],\n",
      "         [   nan,    nan,    nan,  ...,    nan,    nan,    nan]],\n",
      "\n",
      "        ...,\n",
      "\n",
      "        [[0.7011, 0.9131, 0.5155,  ..., 0.5511, 0.3479, 0.8231],\n",
      "         [   nan,    nan,    nan,  ...,    nan,    nan,    nan],\n",
      "         [   nan,    nan,    nan,  ...,    nan,    nan,    nan],\n",
      "         ...,\n",
      "         [   nan,    nan,    nan,  ...,    nan,    nan,    nan],\n",
      "         [   nan,    nan,    nan,  ...,    nan,    nan,    nan],\n",
      "         [   nan,    nan,    nan,  ...,    nan,    nan,    nan]],\n",
      "\n",
      "        [[0.7011, 0.9131, 0.5155,  ..., 0.5511, 0.3479, 0.8231],\n",
      "         [   nan,    nan,    nan,  ...,    nan,    nan,    nan],\n",
      "         [   nan,    nan,    nan,  ...,    nan,    nan,    nan],\n",
      "         ...,\n",
      "         [   nan,    nan,    nan,  ...,    nan,    nan,    nan],\n",
      "         [   nan,    nan,    nan,  ...,    nan,    nan,    nan],\n",
      "         [   nan,    nan,    nan,  ...,    nan,    nan,    nan]],\n",
      "\n",
      "        [[0.7011, 0.9131, 0.5155,  ..., 0.5511, 0.3479, 0.8231],\n",
      "         [   nan,    nan,    nan,  ...,    nan,    nan,    nan],\n",
      "         [   nan,    nan,    nan,  ...,    nan,    nan,    nan],\n",
      "         ...,\n",
      "         [   nan,    nan,    nan,  ...,    nan,    nan,    nan],\n",
      "         [   nan,    nan,    nan,  ...,    nan,    nan,    nan],\n",
      "         [   nan,    nan,    nan,  ...,    nan,    nan,    nan]]],\n",
      "       device='cuda:0', grad_fn=<SoftplusBackward0>)\n"
     ]
    },
    {
     "data": {
      "text/html": [
       "Waiting for W&B process to finish... <strong style=\"color:green\">(success).</strong>"
      ],
      "text/plain": [
       "<IPython.core.display.HTML object>"
      ]
     },
     "metadata": {},
     "output_type": "display_data"
    },
    {
     "data": {
      "text/html": [
       "<style>\n",
       "    table.wandb td:nth-child(1) { padding: 0 10px; text-align: left ; width: auto;} td:nth-child(2) {text-align: left ; width: 100%}\n",
       "    .wandb-row { display: flex; flex-direction: row; flex-wrap: wrap; justify-content: flex-start; width: 100% }\n",
       "    .wandb-col { display: flex; flex-direction: column; flex-basis: 100%; flex: 1; padding: 10px; }\n",
       "    </style>\n",
       "<div class=\"wandb-row\"><div class=\"wandb-col\"><h3>Run summary:</h3><br/><table class=\"wandb\"><tr><td>avg_test_loss</td><td>nan</td></tr></table><br/></div></div>"
      ],
      "text/plain": [
       "<IPython.core.display.HTML object>"
      ]
     },
     "metadata": {},
     "output_type": "display_data"
    },
    {
     "data": {
      "text/html": [
       " View run <strong style=\"color:#cdcd00\">fluent-sweep-73</strong> at: <a href='https://wandb.ai/zekai-wang/RecurrentTPP%20on%20ANSS%20Nov%205/runs/sh7j8125' target=\"_blank\">https://wandb.ai/zekai-wang/RecurrentTPP%20on%20ANSS%20Nov%205/runs/sh7j8125</a><br/>Synced 6 W&B file(s), 0 media file(s), 0 artifact file(s) and 0 other file(s)"
      ],
      "text/plain": [
       "<IPython.core.display.HTML object>"
      ]
     },
     "metadata": {},
     "output_type": "display_data"
    },
    {
     "data": {
      "text/html": [
       "Find logs at: <code>./wandb/run-20231106_000048-sh7j8125/logs</code>"
      ],
      "text/plain": [
       "<IPython.core.display.HTML object>"
      ]
     },
     "metadata": {},
     "output_type": "display_data"
    },
    {
     "name": "stderr",
     "output_type": "stream",
     "text": [
      "\u001b[34m\u001b[1mwandb\u001b[0m: Agent Starting Run: b6gmi060 with config:\n",
      "\u001b[34m\u001b[1mwandb\u001b[0m: \tbatch_size: 64\n",
      "\u001b[34m\u001b[1mwandb\u001b[0m: \tbetas: [0.9, 0.999]\n",
      "\u001b[34m\u001b[1mwandb\u001b[0m: \tcontext_size: 32\n",
      "\u001b[34m\u001b[1mwandb\u001b[0m: \tdropout_proba: 0.3\n",
      "\u001b[34m\u001b[1mwandb\u001b[0m: \tlr: 0.01\n",
      "\u001b[34m\u001b[1mwandb\u001b[0m: \tnum_components: 8\n",
      "\u001b[34m\u001b[1mwandb\u001b[0m: \trnn_type: RNN\n",
      "\u001b[34m\u001b[1mwandb\u001b[0m: \tweight_decay: 0.05\n"
     ]
    },
    {
     "data": {
      "text/html": [
       "Tracking run with wandb version 0.15.12"
      ],
      "text/plain": [
       "<IPython.core.display.HTML object>"
      ]
     },
     "metadata": {},
     "output_type": "display_data"
    },
    {
     "data": {
      "text/html": [
       "Run data is saved locally in <code>/home/zekai/repos/recast/notebooks/Zekai/hyperparameter_sweep/wandb/run-20231106_000103-b6gmi060</code>"
      ],
      "text/plain": [
       "<IPython.core.display.HTML object>"
      ]
     },
     "metadata": {},
     "output_type": "display_data"
    },
    {
     "data": {
      "text/html": [
       "Syncing run <strong><a href='https://wandb.ai/zekai-wang/RecurrentTPP%20on%20ANSS%20Nov%205/runs/b6gmi060' target=\"_blank\">happy-sweep-74</a></strong> to <a href='https://wandb.ai/zekai-wang/RecurrentTPP%20on%20ANSS%20Nov%205' target=\"_blank\">Weights & Biases</a> (<a href='https://wandb.me/run' target=\"_blank\">docs</a>)<br/>Sweep page: <a href='https://wandb.ai/zekai-wang/RecurrentTPP%20on%20ANSS%20Nov%205/sweeps/27ca0onv' target=\"_blank\">https://wandb.ai/zekai-wang/RecurrentTPP%20on%20ANSS%20Nov%205/sweeps/27ca0onv</a>"
      ],
      "text/plain": [
       "<IPython.core.display.HTML object>"
      ]
     },
     "metadata": {},
     "output_type": "display_data"
    },
    {
     "data": {
      "text/html": [
       " View project at <a href='https://wandb.ai/zekai-wang/RecurrentTPP%20on%20ANSS%20Nov%205' target=\"_blank\">https://wandb.ai/zekai-wang/RecurrentTPP%20on%20ANSS%20Nov%205</a>"
      ],
      "text/plain": [
       "<IPython.core.display.HTML object>"
      ]
     },
     "metadata": {},
     "output_type": "display_data"
    },
    {
     "data": {
      "text/html": [
       " View sweep at <a href='https://wandb.ai/zekai-wang/RecurrentTPP%20on%20ANSS%20Nov%205/sweeps/27ca0onv' target=\"_blank\">https://wandb.ai/zekai-wang/RecurrentTPP%20on%20ANSS%20Nov%205/sweeps/27ca0onv</a>"
      ],
      "text/plain": [
       "<IPython.core.display.HTML object>"
      ]
     },
     "metadata": {},
     "output_type": "display_data"
    },
    {
     "data": {
      "text/html": [
       " View run at <a href='https://wandb.ai/zekai-wang/RecurrentTPP%20on%20ANSS%20Nov%205/runs/b6gmi060' target=\"_blank\">https://wandb.ai/zekai-wang/RecurrentTPP%20on%20ANSS%20Nov%205/runs/b6gmi060</a>"
      ],
      "text/plain": [
       "<IPython.core.display.HTML object>"
      ]
     },
     "metadata": {},
     "output_type": "display_data"
    },
    {
     "data": {
      "application/vnd.jupyter.widget-view+json": {
       "model_id": "48aad2b8de104b0c876b91a57bb426d1",
       "version_major": 2,
       "version_minor": 0
      },
      "text/plain": [
       "  0%|          | 0/200 [00:00<?, ?it/s]"
      ]
     },
     "metadata": {},
     "output_type": "display_data"
    },
    {
     "data": {
      "text/html": [
       "Waiting for W&B process to finish... <strong style=\"color:green\">(success).</strong>"
      ],
      "text/plain": [
       "<IPython.core.display.HTML object>"
      ]
     },
     "metadata": {},
     "output_type": "display_data"
    },
    {
     "data": {
      "text/html": [
       "<style>\n",
       "    table.wandb td:nth-child(1) { padding: 0 10px; text-align: left ; width: auto;} td:nth-child(2) {text-align: left ; width: 100%}\n",
       "    .wandb-row { display: flex; flex-direction: row; flex-wrap: wrap; justify-content: flex-start; width: 100% }\n",
       "    .wandb-col { display: flex; flex-direction: column; flex-basis: 100%; flex: 1; padding: 10px; }\n",
       "    </style>\n",
       "<div class=\"wandb-row\"><div class=\"wandb-col\"><h3>Run history:</h3><br/><table class=\"wandb\"><tr><td>avg_test_loss</td><td>▁</td></tr></table><br/></div><div class=\"wandb-col\"><h3>Run summary:</h3><br/><table class=\"wandb\"><tr><td>avg_test_loss</td><td>0.17552</td></tr></table><br/></div></div>"
      ],
      "text/plain": [
       "<IPython.core.display.HTML object>"
      ]
     },
     "metadata": {},
     "output_type": "display_data"
    },
    {
     "data": {
      "text/html": [
       " View run <strong style=\"color:#cdcd00\">happy-sweep-74</strong> at: <a href='https://wandb.ai/zekai-wang/RecurrentTPP%20on%20ANSS%20Nov%205/runs/b6gmi060' target=\"_blank\">https://wandb.ai/zekai-wang/RecurrentTPP%20on%20ANSS%20Nov%205/runs/b6gmi060</a><br/>Synced 5 W&B file(s), 0 media file(s), 0 artifact file(s) and 0 other file(s)"
      ],
      "text/plain": [
       "<IPython.core.display.HTML object>"
      ]
     },
     "metadata": {},
     "output_type": "display_data"
    },
    {
     "data": {
      "text/html": [
       "Find logs at: <code>./wandb/run-20231106_000103-b6gmi060/logs</code>"
      ],
      "text/plain": [
       "<IPython.core.display.HTML object>"
      ]
     },
     "metadata": {},
     "output_type": "display_data"
    },
    {
     "name": "stderr",
     "output_type": "stream",
     "text": [
      "\u001b[34m\u001b[1mwandb\u001b[0m: Agent Starting Run: fvqsappg with config:\n",
      "\u001b[34m\u001b[1mwandb\u001b[0m: \tbatch_size: 8\n",
      "\u001b[34m\u001b[1mwandb\u001b[0m: \tbetas: [0.9, 0.999]\n",
      "\u001b[34m\u001b[1mwandb\u001b[0m: \tcontext_size: 64\n",
      "\u001b[34m\u001b[1mwandb\u001b[0m: \tdropout_proba: 0.2\n",
      "\u001b[34m\u001b[1mwandb\u001b[0m: \tlr: 0.01\n",
      "\u001b[34m\u001b[1mwandb\u001b[0m: \tnum_components: 16\n",
      "\u001b[34m\u001b[1mwandb\u001b[0m: \trnn_type: RNN\n",
      "\u001b[34m\u001b[1mwandb\u001b[0m: \tweight_decay: 0.01\n"
     ]
    },
    {
     "data": {
      "text/html": [
       "Tracking run with wandb version 0.15.12"
      ],
      "text/plain": [
       "<IPython.core.display.HTML object>"
      ]
     },
     "metadata": {},
     "output_type": "display_data"
    },
    {
     "data": {
      "text/html": [
       "Run data is saved locally in <code>/home/zekai/repos/recast/notebooks/Zekai/hyperparameter_sweep/wandb/run-20231106_000214-fvqsappg</code>"
      ],
      "text/plain": [
       "<IPython.core.display.HTML object>"
      ]
     },
     "metadata": {},
     "output_type": "display_data"
    },
    {
     "data": {
      "text/html": [
       "Syncing run <strong><a href='https://wandb.ai/zekai-wang/RecurrentTPP%20on%20ANSS%20Nov%205/runs/fvqsappg' target=\"_blank\">peachy-sweep-75</a></strong> to <a href='https://wandb.ai/zekai-wang/RecurrentTPP%20on%20ANSS%20Nov%205' target=\"_blank\">Weights & Biases</a> (<a href='https://wandb.me/run' target=\"_blank\">docs</a>)<br/>Sweep page: <a href='https://wandb.ai/zekai-wang/RecurrentTPP%20on%20ANSS%20Nov%205/sweeps/27ca0onv' target=\"_blank\">https://wandb.ai/zekai-wang/RecurrentTPP%20on%20ANSS%20Nov%205/sweeps/27ca0onv</a>"
      ],
      "text/plain": [
       "<IPython.core.display.HTML object>"
      ]
     },
     "metadata": {},
     "output_type": "display_data"
    },
    {
     "data": {
      "text/html": [
       " View project at <a href='https://wandb.ai/zekai-wang/RecurrentTPP%20on%20ANSS%20Nov%205' target=\"_blank\">https://wandb.ai/zekai-wang/RecurrentTPP%20on%20ANSS%20Nov%205</a>"
      ],
      "text/plain": [
       "<IPython.core.display.HTML object>"
      ]
     },
     "metadata": {},
     "output_type": "display_data"
    },
    {
     "data": {
      "text/html": [
       " View sweep at <a href='https://wandb.ai/zekai-wang/RecurrentTPP%20on%20ANSS%20Nov%205/sweeps/27ca0onv' target=\"_blank\">https://wandb.ai/zekai-wang/RecurrentTPP%20on%20ANSS%20Nov%205/sweeps/27ca0onv</a>"
      ],
      "text/plain": [
       "<IPython.core.display.HTML object>"
      ]
     },
     "metadata": {},
     "output_type": "display_data"
    },
    {
     "data": {
      "text/html": [
       " View run at <a href='https://wandb.ai/zekai-wang/RecurrentTPP%20on%20ANSS%20Nov%205/runs/fvqsappg' target=\"_blank\">https://wandb.ai/zekai-wang/RecurrentTPP%20on%20ANSS%20Nov%205/runs/fvqsappg</a>"
      ],
      "text/plain": [
       "<IPython.core.display.HTML object>"
      ]
     },
     "metadata": {},
     "output_type": "display_data"
    },
    {
     "data": {
      "application/vnd.jupyter.widget-view+json": {
       "model_id": "8355dd4408d54b14826700d0daee86e1",
       "version_major": 2,
       "version_minor": 0
      },
      "text/plain": [
       "  0%|          | 0/200 [00:00<?, ?it/s]"
      ]
     },
     "metadata": {},
     "output_type": "display_data"
    },
    {
     "name": "stdout",
     "output_type": "stream",
     "text": [
      "Expected parameter scale (Tensor of shape (8, 498, 16)) of distribution Weibull(scale: torch.Size([8, 498, 16]), shape: torch.Size([8, 498, 16])) to satisfy the constraint GreaterThan(lower_bound=0.0), but found invalid values:\n",
      "tensor([[[0.6898, 0.8705, 0.6010,  ..., 0.4162, 0.6519, 1.2935],\n",
      "         [   nan,    nan,    nan,  ...,    nan,    nan,    nan],\n",
      "         [   nan,    nan,    nan,  ...,    nan,    nan,    nan],\n",
      "         ...,\n",
      "         [   nan,    nan,    nan,  ...,    nan,    nan,    nan],\n",
      "         [   nan,    nan,    nan,  ...,    nan,    nan,    nan],\n",
      "         [   nan,    nan,    nan,  ...,    nan,    nan,    nan]],\n",
      "\n",
      "        [[0.6898, 0.8705, 0.6010,  ..., 0.4162, 0.6519, 1.2935],\n",
      "         [   nan,    nan,    nan,  ...,    nan,    nan,    nan],\n",
      "         [   nan,    nan,    nan,  ...,    nan,    nan,    nan],\n",
      "         ...,\n",
      "         [   nan,    nan,    nan,  ...,    nan,    nan,    nan],\n",
      "         [   nan,    nan,    nan,  ...,    nan,    nan,    nan],\n",
      "         [   nan,    nan,    nan,  ...,    nan,    nan,    nan]],\n",
      "\n",
      "        [[0.6898, 0.8705, 0.6010,  ..., 0.4162, 0.6519, 1.2935],\n",
      "         [   nan,    nan,    nan,  ...,    nan,    nan,    nan],\n",
      "         [   nan,    nan,    nan,  ...,    nan,    nan,    nan],\n",
      "         ...,\n",
      "         [   nan,    nan,    nan,  ...,    nan,    nan,    nan],\n",
      "         [   nan,    nan,    nan,  ...,    nan,    nan,    nan],\n",
      "         [   nan,    nan,    nan,  ...,    nan,    nan,    nan]],\n",
      "\n",
      "        ...,\n",
      "\n",
      "        [[0.6898, 0.8705, 0.6010,  ..., 0.4162, 0.6519, 1.2935],\n",
      "         [   nan,    nan,    nan,  ...,    nan,    nan,    nan],\n",
      "         [   nan,    nan,    nan,  ...,    nan,    nan,    nan],\n",
      "         ...,\n",
      "         [   nan,    nan,    nan,  ...,    nan,    nan,    nan],\n",
      "         [   nan,    nan,    nan,  ...,    nan,    nan,    nan],\n",
      "         [   nan,    nan,    nan,  ...,    nan,    nan,    nan]],\n",
      "\n",
      "        [[0.6898, 0.8705, 0.6010,  ..., 0.4162, 0.6519, 1.2935],\n",
      "         [   nan,    nan,    nan,  ...,    nan,    nan,    nan],\n",
      "         [   nan,    nan,    nan,  ...,    nan,    nan,    nan],\n",
      "         ...,\n",
      "         [   nan,    nan,    nan,  ...,    nan,    nan,    nan],\n",
      "         [   nan,    nan,    nan,  ...,    nan,    nan,    nan],\n",
      "         [   nan,    nan,    nan,  ...,    nan,    nan,    nan]],\n",
      "\n",
      "        [[0.6898, 0.8705, 0.6010,  ..., 0.4162, 0.6519, 1.2935],\n",
      "         [   nan,    nan,    nan,  ...,    nan,    nan,    nan],\n",
      "         [   nan,    nan,    nan,  ...,    nan,    nan,    nan],\n",
      "         ...,\n",
      "         [   nan,    nan,    nan,  ...,    nan,    nan,    nan],\n",
      "         [   nan,    nan,    nan,  ...,    nan,    nan,    nan],\n",
      "         [   nan,    nan,    nan,  ...,    nan,    nan,    nan]]],\n",
      "       device='cuda:0', grad_fn=<SoftplusBackward0>)\n"
     ]
    },
    {
     "data": {
      "text/html": [
       "Waiting for W&B process to finish... <strong style=\"color:green\">(success).</strong>"
      ],
      "text/plain": [
       "<IPython.core.display.HTML object>"
      ]
     },
     "metadata": {},
     "output_type": "display_data"
    },
    {
     "data": {
      "text/html": [
       "<style>\n",
       "    table.wandb td:nth-child(1) { padding: 0 10px; text-align: left ; width: auto;} td:nth-child(2) {text-align: left ; width: 100%}\n",
       "    .wandb-row { display: flex; flex-direction: row; flex-wrap: wrap; justify-content: flex-start; width: 100% }\n",
       "    .wandb-col { display: flex; flex-direction: column; flex-basis: 100%; flex: 1; padding: 10px; }\n",
       "    </style>\n",
       "<div class=\"wandb-row\"><div class=\"wandb-col\"><h3>Run summary:</h3><br/><table class=\"wandb\"><tr><td>avg_test_loss</td><td>nan</td></tr></table><br/></div></div>"
      ],
      "text/plain": [
       "<IPython.core.display.HTML object>"
      ]
     },
     "metadata": {},
     "output_type": "display_data"
    },
    {
     "data": {
      "text/html": [
       " View run <strong style=\"color:#cdcd00\">peachy-sweep-75</strong> at: <a href='https://wandb.ai/zekai-wang/RecurrentTPP%20on%20ANSS%20Nov%205/runs/fvqsappg' target=\"_blank\">https://wandb.ai/zekai-wang/RecurrentTPP%20on%20ANSS%20Nov%205/runs/fvqsappg</a><br/>Synced 6 W&B file(s), 0 media file(s), 0 artifact file(s) and 0 other file(s)"
      ],
      "text/plain": [
       "<IPython.core.display.HTML object>"
      ]
     },
     "metadata": {},
     "output_type": "display_data"
    },
    {
     "data": {
      "text/html": [
       "Find logs at: <code>./wandb/run-20231106_000214-fvqsappg/logs</code>"
      ],
      "text/plain": [
       "<IPython.core.display.HTML object>"
      ]
     },
     "metadata": {},
     "output_type": "display_data"
    },
    {
     "name": "stderr",
     "output_type": "stream",
     "text": [
      "\u001b[34m\u001b[1mwandb\u001b[0m: Agent Starting Run: iqee9up9 with config:\n",
      "\u001b[34m\u001b[1mwandb\u001b[0m: \tbatch_size: 128\n",
      "\u001b[34m\u001b[1mwandb\u001b[0m: \tbetas: [0.9, 0.999]\n",
      "\u001b[34m\u001b[1mwandb\u001b[0m: \tcontext_size: 128\n",
      "\u001b[34m\u001b[1mwandb\u001b[0m: \tdropout_proba: 0.3\n",
      "\u001b[34m\u001b[1mwandb\u001b[0m: \tlr: 0.002\n",
      "\u001b[34m\u001b[1mwandb\u001b[0m: \tnum_components: 32\n",
      "\u001b[34m\u001b[1mwandb\u001b[0m: \trnn_type: LSTM\n",
      "\u001b[34m\u001b[1mwandb\u001b[0m: \tweight_decay: 0.01\n"
     ]
    },
    {
     "data": {
      "text/html": [
       "Tracking run with wandb version 0.15.12"
      ],
      "text/plain": [
       "<IPython.core.display.HTML object>"
      ]
     },
     "metadata": {},
     "output_type": "display_data"
    },
    {
     "data": {
      "text/html": [
       "Run data is saved locally in <code>/home/zekai/repos/recast/notebooks/Zekai/hyperparameter_sweep/wandb/run-20231106_000316-iqee9up9</code>"
      ],
      "text/plain": [
       "<IPython.core.display.HTML object>"
      ]
     },
     "metadata": {},
     "output_type": "display_data"
    },
    {
     "data": {
      "text/html": [
       "Syncing run <strong><a href='https://wandb.ai/zekai-wang/RecurrentTPP%20on%20ANSS%20Nov%205/runs/iqee9up9' target=\"_blank\">devoted-sweep-76</a></strong> to <a href='https://wandb.ai/zekai-wang/RecurrentTPP%20on%20ANSS%20Nov%205' target=\"_blank\">Weights & Biases</a> (<a href='https://wandb.me/run' target=\"_blank\">docs</a>)<br/>Sweep page: <a href='https://wandb.ai/zekai-wang/RecurrentTPP%20on%20ANSS%20Nov%205/sweeps/27ca0onv' target=\"_blank\">https://wandb.ai/zekai-wang/RecurrentTPP%20on%20ANSS%20Nov%205/sweeps/27ca0onv</a>"
      ],
      "text/plain": [
       "<IPython.core.display.HTML object>"
      ]
     },
     "metadata": {},
     "output_type": "display_data"
    },
    {
     "data": {
      "text/html": [
       " View project at <a href='https://wandb.ai/zekai-wang/RecurrentTPP%20on%20ANSS%20Nov%205' target=\"_blank\">https://wandb.ai/zekai-wang/RecurrentTPP%20on%20ANSS%20Nov%205</a>"
      ],
      "text/plain": [
       "<IPython.core.display.HTML object>"
      ]
     },
     "metadata": {},
     "output_type": "display_data"
    },
    {
     "data": {
      "text/html": [
       " View sweep at <a href='https://wandb.ai/zekai-wang/RecurrentTPP%20on%20ANSS%20Nov%205/sweeps/27ca0onv' target=\"_blank\">https://wandb.ai/zekai-wang/RecurrentTPP%20on%20ANSS%20Nov%205/sweeps/27ca0onv</a>"
      ],
      "text/plain": [
       "<IPython.core.display.HTML object>"
      ]
     },
     "metadata": {},
     "output_type": "display_data"
    },
    {
     "data": {
      "text/html": [
       " View run at <a href='https://wandb.ai/zekai-wang/RecurrentTPP%20on%20ANSS%20Nov%205/runs/iqee9up9' target=\"_blank\">https://wandb.ai/zekai-wang/RecurrentTPP%20on%20ANSS%20Nov%205/runs/iqee9up9</a>"
      ],
      "text/plain": [
       "<IPython.core.display.HTML object>"
      ]
     },
     "metadata": {},
     "output_type": "display_data"
    },
    {
     "data": {
      "application/vnd.jupyter.widget-view+json": {
       "model_id": "ab08787b2cae41e18cfaa6122da0b3fb",
       "version_major": 2,
       "version_minor": 0
      },
      "text/plain": [
       "  0%|          | 0/200 [00:00<?, ?it/s]"
      ]
     },
     "metadata": {},
     "output_type": "display_data"
    },
    {
     "data": {
      "text/html": [
       "Waiting for W&B process to finish... <strong style=\"color:green\">(success).</strong>"
      ],
      "text/plain": [
       "<IPython.core.display.HTML object>"
      ]
     },
     "metadata": {},
     "output_type": "display_data"
    },
    {
     "data": {
      "text/html": [
       "<style>\n",
       "    table.wandb td:nth-child(1) { padding: 0 10px; text-align: left ; width: auto;} td:nth-child(2) {text-align: left ; width: 100%}\n",
       "    .wandb-row { display: flex; flex-direction: row; flex-wrap: wrap; justify-content: flex-start; width: 100% }\n",
       "    .wandb-col { display: flex; flex-direction: column; flex-basis: 100%; flex: 1; padding: 10px; }\n",
       "    </style>\n",
       "<div class=\"wandb-row\"><div class=\"wandb-col\"><h3>Run history:</h3><br/><table class=\"wandb\"><tr><td>avg_test_loss</td><td>▁</td></tr></table><br/></div><div class=\"wandb-col\"><h3>Run summary:</h3><br/><table class=\"wandb\"><tr><td>avg_test_loss</td><td>0.16555</td></tr></table><br/></div></div>"
      ],
      "text/plain": [
       "<IPython.core.display.HTML object>"
      ]
     },
     "metadata": {},
     "output_type": "display_data"
    },
    {
     "data": {
      "text/html": [
       " View run <strong style=\"color:#cdcd00\">devoted-sweep-76</strong> at: <a href='https://wandb.ai/zekai-wang/RecurrentTPP%20on%20ANSS%20Nov%205/runs/iqee9up9' target=\"_blank\">https://wandb.ai/zekai-wang/RecurrentTPP%20on%20ANSS%20Nov%205/runs/iqee9up9</a><br/>Synced 5 W&B file(s), 0 media file(s), 0 artifact file(s) and 0 other file(s)"
      ],
      "text/plain": [
       "<IPython.core.display.HTML object>"
      ]
     },
     "metadata": {},
     "output_type": "display_data"
    },
    {
     "data": {
      "text/html": [
       "Find logs at: <code>./wandb/run-20231106_000316-iqee9up9/logs</code>"
      ],
      "text/plain": [
       "<IPython.core.display.HTML object>"
      ]
     },
     "metadata": {},
     "output_type": "display_data"
    },
    {
     "name": "stderr",
     "output_type": "stream",
     "text": [
      "\u001b[34m\u001b[1mwandb\u001b[0m: Agent Starting Run: dkb3ha3m with config:\n",
      "\u001b[34m\u001b[1mwandb\u001b[0m: \tbatch_size: 16\n",
      "\u001b[34m\u001b[1mwandb\u001b[0m: \tbetas: [0.9, 0.999]\n",
      "\u001b[34m\u001b[1mwandb\u001b[0m: \tcontext_size: 8\n",
      "\u001b[34m\u001b[1mwandb\u001b[0m: \tdropout_proba: 0.2\n",
      "\u001b[34m\u001b[1mwandb\u001b[0m: \tlr: 0.001\n",
      "\u001b[34m\u001b[1mwandb\u001b[0m: \tnum_components: 128\n",
      "\u001b[34m\u001b[1mwandb\u001b[0m: \trnn_type: LSTM\n",
      "\u001b[34m\u001b[1mwandb\u001b[0m: \tweight_decay: 0\n"
     ]
    },
    {
     "data": {
      "text/html": [
       "Tracking run with wandb version 0.15.12"
      ],
      "text/plain": [
       "<IPython.core.display.HTML object>"
      ]
     },
     "metadata": {},
     "output_type": "display_data"
    },
    {
     "data": {
      "text/html": [
       "Run data is saved locally in <code>/home/zekai/repos/recast/notebooks/Zekai/hyperparameter_sweep/wandb/run-20231106_000517-dkb3ha3m</code>"
      ],
      "text/plain": [
       "<IPython.core.display.HTML object>"
      ]
     },
     "metadata": {},
     "output_type": "display_data"
    },
    {
     "data": {
      "text/html": [
       "Syncing run <strong><a href='https://wandb.ai/zekai-wang/RecurrentTPP%20on%20ANSS%20Nov%205/runs/dkb3ha3m' target=\"_blank\">fine-sweep-77</a></strong> to <a href='https://wandb.ai/zekai-wang/RecurrentTPP%20on%20ANSS%20Nov%205' target=\"_blank\">Weights & Biases</a> (<a href='https://wandb.me/run' target=\"_blank\">docs</a>)<br/>Sweep page: <a href='https://wandb.ai/zekai-wang/RecurrentTPP%20on%20ANSS%20Nov%205/sweeps/27ca0onv' target=\"_blank\">https://wandb.ai/zekai-wang/RecurrentTPP%20on%20ANSS%20Nov%205/sweeps/27ca0onv</a>"
      ],
      "text/plain": [
       "<IPython.core.display.HTML object>"
      ]
     },
     "metadata": {},
     "output_type": "display_data"
    },
    {
     "data": {
      "text/html": [
       " View project at <a href='https://wandb.ai/zekai-wang/RecurrentTPP%20on%20ANSS%20Nov%205' target=\"_blank\">https://wandb.ai/zekai-wang/RecurrentTPP%20on%20ANSS%20Nov%205</a>"
      ],
      "text/plain": [
       "<IPython.core.display.HTML object>"
      ]
     },
     "metadata": {},
     "output_type": "display_data"
    },
    {
     "data": {
      "text/html": [
       " View sweep at <a href='https://wandb.ai/zekai-wang/RecurrentTPP%20on%20ANSS%20Nov%205/sweeps/27ca0onv' target=\"_blank\">https://wandb.ai/zekai-wang/RecurrentTPP%20on%20ANSS%20Nov%205/sweeps/27ca0onv</a>"
      ],
      "text/plain": [
       "<IPython.core.display.HTML object>"
      ]
     },
     "metadata": {},
     "output_type": "display_data"
    },
    {
     "data": {
      "text/html": [
       " View run at <a href='https://wandb.ai/zekai-wang/RecurrentTPP%20on%20ANSS%20Nov%205/runs/dkb3ha3m' target=\"_blank\">https://wandb.ai/zekai-wang/RecurrentTPP%20on%20ANSS%20Nov%205/runs/dkb3ha3m</a>"
      ],
      "text/plain": [
       "<IPython.core.display.HTML object>"
      ]
     },
     "metadata": {},
     "output_type": "display_data"
    },
    {
     "data": {
      "application/vnd.jupyter.widget-view+json": {
       "model_id": "98a33092847f4a648395715320f6b3d2",
       "version_major": 2,
       "version_minor": 0
      },
      "text/plain": [
       "  0%|          | 0/200 [00:00<?, ?it/s]"
      ]
     },
     "metadata": {},
     "output_type": "display_data"
    },
    {
     "data": {
      "text/html": [
       "Waiting for W&B process to finish... <strong style=\"color:green\">(success).</strong>"
      ],
      "text/plain": [
       "<IPython.core.display.HTML object>"
      ]
     },
     "metadata": {},
     "output_type": "display_data"
    },
    {
     "data": {
      "text/html": [
       "<style>\n",
       "    table.wandb td:nth-child(1) { padding: 0 10px; text-align: left ; width: auto;} td:nth-child(2) {text-align: left ; width: 100%}\n",
       "    .wandb-row { display: flex; flex-direction: row; flex-wrap: wrap; justify-content: flex-start; width: 100% }\n",
       "    .wandb-col { display: flex; flex-direction: column; flex-basis: 100%; flex: 1; padding: 10px; }\n",
       "    </style>\n",
       "<div class=\"wandb-row\"><div class=\"wandb-col\"><h3>Run history:</h3><br/><table class=\"wandb\"><tr><td>avg_test_loss</td><td>▁</td></tr></table><br/></div><div class=\"wandb-col\"><h3>Run summary:</h3><br/><table class=\"wandb\"><tr><td>avg_test_loss</td><td>0.17043</td></tr></table><br/></div></div>"
      ],
      "text/plain": [
       "<IPython.core.display.HTML object>"
      ]
     },
     "metadata": {},
     "output_type": "display_data"
    },
    {
     "data": {
      "text/html": [
       " View run <strong style=\"color:#cdcd00\">fine-sweep-77</strong> at: <a href='https://wandb.ai/zekai-wang/RecurrentTPP%20on%20ANSS%20Nov%205/runs/dkb3ha3m' target=\"_blank\">https://wandb.ai/zekai-wang/RecurrentTPP%20on%20ANSS%20Nov%205/runs/dkb3ha3m</a><br/>Synced 5 W&B file(s), 0 media file(s), 0 artifact file(s) and 0 other file(s)"
      ],
      "text/plain": [
       "<IPython.core.display.HTML object>"
      ]
     },
     "metadata": {},
     "output_type": "display_data"
    },
    {
     "data": {
      "text/html": [
       "Find logs at: <code>./wandb/run-20231106_000517-dkb3ha3m/logs</code>"
      ],
      "text/plain": [
       "<IPython.core.display.HTML object>"
      ]
     },
     "metadata": {},
     "output_type": "display_data"
    },
    {
     "name": "stderr",
     "output_type": "stream",
     "text": [
      "\u001b[34m\u001b[1mwandb\u001b[0m: Agent Starting Run: tkb8jh8x with config:\n",
      "\u001b[34m\u001b[1mwandb\u001b[0m: \tbatch_size: 64\n",
      "\u001b[34m\u001b[1mwandb\u001b[0m: \tbetas: [0.9, 0.999]\n",
      "\u001b[34m\u001b[1mwandb\u001b[0m: \tcontext_size: 8\n",
      "\u001b[34m\u001b[1mwandb\u001b[0m: \tdropout_proba: 0.1\n",
      "\u001b[34m\u001b[1mwandb\u001b[0m: \tlr: 0.05\n",
      "\u001b[34m\u001b[1mwandb\u001b[0m: \tnum_components: 16\n",
      "\u001b[34m\u001b[1mwandb\u001b[0m: \trnn_type: LSTM\n",
      "\u001b[34m\u001b[1mwandb\u001b[0m: \tweight_decay: 0.05\n"
     ]
    },
    {
     "data": {
      "text/html": [
       "Tracking run with wandb version 0.15.12"
      ],
      "text/plain": [
       "<IPython.core.display.HTML object>"
      ]
     },
     "metadata": {},
     "output_type": "display_data"
    },
    {
     "data": {
      "text/html": [
       "Run data is saved locally in <code>/home/zekai/repos/recast/notebooks/Zekai/hyperparameter_sweep/wandb/run-20231106_000650-tkb8jh8x</code>"
      ],
      "text/plain": [
       "<IPython.core.display.HTML object>"
      ]
     },
     "metadata": {},
     "output_type": "display_data"
    },
    {
     "data": {
      "text/html": [
       "Syncing run <strong><a href='https://wandb.ai/zekai-wang/RecurrentTPP%20on%20ANSS%20Nov%205/runs/tkb8jh8x' target=\"_blank\">devout-sweep-78</a></strong> to <a href='https://wandb.ai/zekai-wang/RecurrentTPP%20on%20ANSS%20Nov%205' target=\"_blank\">Weights & Biases</a> (<a href='https://wandb.me/run' target=\"_blank\">docs</a>)<br/>Sweep page: <a href='https://wandb.ai/zekai-wang/RecurrentTPP%20on%20ANSS%20Nov%205/sweeps/27ca0onv' target=\"_blank\">https://wandb.ai/zekai-wang/RecurrentTPP%20on%20ANSS%20Nov%205/sweeps/27ca0onv</a>"
      ],
      "text/plain": [
       "<IPython.core.display.HTML object>"
      ]
     },
     "metadata": {},
     "output_type": "display_data"
    },
    {
     "data": {
      "text/html": [
       " View project at <a href='https://wandb.ai/zekai-wang/RecurrentTPP%20on%20ANSS%20Nov%205' target=\"_blank\">https://wandb.ai/zekai-wang/RecurrentTPP%20on%20ANSS%20Nov%205</a>"
      ],
      "text/plain": [
       "<IPython.core.display.HTML object>"
      ]
     },
     "metadata": {},
     "output_type": "display_data"
    },
    {
     "data": {
      "text/html": [
       " View sweep at <a href='https://wandb.ai/zekai-wang/RecurrentTPP%20on%20ANSS%20Nov%205/sweeps/27ca0onv' target=\"_blank\">https://wandb.ai/zekai-wang/RecurrentTPP%20on%20ANSS%20Nov%205/sweeps/27ca0onv</a>"
      ],
      "text/plain": [
       "<IPython.core.display.HTML object>"
      ]
     },
     "metadata": {},
     "output_type": "display_data"
    },
    {
     "data": {
      "text/html": [
       " View run at <a href='https://wandb.ai/zekai-wang/RecurrentTPP%20on%20ANSS%20Nov%205/runs/tkb8jh8x' target=\"_blank\">https://wandb.ai/zekai-wang/RecurrentTPP%20on%20ANSS%20Nov%205/runs/tkb8jh8x</a>"
      ],
      "text/plain": [
       "<IPython.core.display.HTML object>"
      ]
     },
     "metadata": {},
     "output_type": "display_data"
    },
    {
     "data": {
      "application/vnd.jupyter.widget-view+json": {
       "model_id": "edc48954bf2d473c9eec98181da406d9",
       "version_major": 2,
       "version_minor": 0
      },
      "text/plain": [
       "  0%|          | 0/200 [00:00<?, ?it/s]"
      ]
     },
     "metadata": {},
     "output_type": "display_data"
    },
    {
     "data": {
      "text/html": [
       "Waiting for W&B process to finish... <strong style=\"color:green\">(success).</strong>"
      ],
      "text/plain": [
       "<IPython.core.display.HTML object>"
      ]
     },
     "metadata": {},
     "output_type": "display_data"
    },
    {
     "data": {
      "application/vnd.jupyter.widget-view+json": {
       "model_id": "f5ad8ee6b4dc4b208d7f1f34f482b256",
       "version_major": 2,
       "version_minor": 0
      },
      "text/plain": [
       "VBox(children=(Label(value='0.003 MB of 0.019 MB uploaded (0.000 MB deduped)\\r'), FloatProgress(value=0.184703…"
      ]
     },
     "metadata": {},
     "output_type": "display_data"
    },
    {
     "data": {
      "text/html": [
       "<style>\n",
       "    table.wandb td:nth-child(1) { padding: 0 10px; text-align: left ; width: auto;} td:nth-child(2) {text-align: left ; width: 100%}\n",
       "    .wandb-row { display: flex; flex-direction: row; flex-wrap: wrap; justify-content: flex-start; width: 100% }\n",
       "    .wandb-col { display: flex; flex-direction: column; flex-basis: 100%; flex: 1; padding: 10px; }\n",
       "    </style>\n",
       "<div class=\"wandb-row\"><div class=\"wandb-col\"><h3>Run history:</h3><br/><table class=\"wandb\"><tr><td>avg_test_loss</td><td>▁</td></tr></table><br/></div><div class=\"wandb-col\"><h3>Run summary:</h3><br/><table class=\"wandb\"><tr><td>avg_test_loss</td><td>0.16199</td></tr></table><br/></div></div>"
      ],
      "text/plain": [
       "<IPython.core.display.HTML object>"
      ]
     },
     "metadata": {},
     "output_type": "display_data"
    },
    {
     "data": {
      "text/html": [
       " View run <strong style=\"color:#cdcd00\">devout-sweep-78</strong> at: <a href='https://wandb.ai/zekai-wang/RecurrentTPP%20on%20ANSS%20Nov%205/runs/tkb8jh8x' target=\"_blank\">https://wandb.ai/zekai-wang/RecurrentTPP%20on%20ANSS%20Nov%205/runs/tkb8jh8x</a><br/>Synced 5 W&B file(s), 0 media file(s), 0 artifact file(s) and 0 other file(s)"
      ],
      "text/plain": [
       "<IPython.core.display.HTML object>"
      ]
     },
     "metadata": {},
     "output_type": "display_data"
    },
    {
     "data": {
      "text/html": [
       "Find logs at: <code>./wandb/run-20231106_000650-tkb8jh8x/logs</code>"
      ],
      "text/plain": [
       "<IPython.core.display.HTML object>"
      ]
     },
     "metadata": {},
     "output_type": "display_data"
    },
    {
     "name": "stderr",
     "output_type": "stream",
     "text": [
      "\u001b[34m\u001b[1mwandb\u001b[0m: Agent Starting Run: g4sl7ptn with config:\n",
      "\u001b[34m\u001b[1mwandb\u001b[0m: \tbatch_size: 16\n",
      "\u001b[34m\u001b[1mwandb\u001b[0m: \tbetas: [0.9, 0.999]\n",
      "\u001b[34m\u001b[1mwandb\u001b[0m: \tcontext_size: 8\n",
      "\u001b[34m\u001b[1mwandb\u001b[0m: \tdropout_proba: 0.2\n",
      "\u001b[34m\u001b[1mwandb\u001b[0m: \tlr: 0.002\n",
      "\u001b[34m\u001b[1mwandb\u001b[0m: \tnum_components: 64\n",
      "\u001b[34m\u001b[1mwandb\u001b[0m: \trnn_type: LSTM\n",
      "\u001b[34m\u001b[1mwandb\u001b[0m: \tweight_decay: 0.01\n"
     ]
    },
    {
     "data": {
      "text/html": [
       "Tracking run with wandb version 0.15.12"
      ],
      "text/plain": [
       "<IPython.core.display.HTML object>"
      ]
     },
     "metadata": {},
     "output_type": "display_data"
    },
    {
     "data": {
      "text/html": [
       "Run data is saved locally in <code>/home/zekai/repos/recast/notebooks/Zekai/hyperparameter_sweep/wandb/run-20231106_000806-g4sl7ptn</code>"
      ],
      "text/plain": [
       "<IPython.core.display.HTML object>"
      ]
     },
     "metadata": {},
     "output_type": "display_data"
    },
    {
     "data": {
      "text/html": [
       "Syncing run <strong><a href='https://wandb.ai/zekai-wang/RecurrentTPP%20on%20ANSS%20Nov%205/runs/g4sl7ptn' target=\"_blank\">leafy-sweep-79</a></strong> to <a href='https://wandb.ai/zekai-wang/RecurrentTPP%20on%20ANSS%20Nov%205' target=\"_blank\">Weights & Biases</a> (<a href='https://wandb.me/run' target=\"_blank\">docs</a>)<br/>Sweep page: <a href='https://wandb.ai/zekai-wang/RecurrentTPP%20on%20ANSS%20Nov%205/sweeps/27ca0onv' target=\"_blank\">https://wandb.ai/zekai-wang/RecurrentTPP%20on%20ANSS%20Nov%205/sweeps/27ca0onv</a>"
      ],
      "text/plain": [
       "<IPython.core.display.HTML object>"
      ]
     },
     "metadata": {},
     "output_type": "display_data"
    },
    {
     "data": {
      "text/html": [
       " View project at <a href='https://wandb.ai/zekai-wang/RecurrentTPP%20on%20ANSS%20Nov%205' target=\"_blank\">https://wandb.ai/zekai-wang/RecurrentTPP%20on%20ANSS%20Nov%205</a>"
      ],
      "text/plain": [
       "<IPython.core.display.HTML object>"
      ]
     },
     "metadata": {},
     "output_type": "display_data"
    },
    {
     "data": {
      "text/html": [
       " View sweep at <a href='https://wandb.ai/zekai-wang/RecurrentTPP%20on%20ANSS%20Nov%205/sweeps/27ca0onv' target=\"_blank\">https://wandb.ai/zekai-wang/RecurrentTPP%20on%20ANSS%20Nov%205/sweeps/27ca0onv</a>"
      ],
      "text/plain": [
       "<IPython.core.display.HTML object>"
      ]
     },
     "metadata": {},
     "output_type": "display_data"
    },
    {
     "data": {
      "text/html": [
       " View run at <a href='https://wandb.ai/zekai-wang/RecurrentTPP%20on%20ANSS%20Nov%205/runs/g4sl7ptn' target=\"_blank\">https://wandb.ai/zekai-wang/RecurrentTPP%20on%20ANSS%20Nov%205/runs/g4sl7ptn</a>"
      ],
      "text/plain": [
       "<IPython.core.display.HTML object>"
      ]
     },
     "metadata": {},
     "output_type": "display_data"
    },
    {
     "data": {
      "application/vnd.jupyter.widget-view+json": {
       "model_id": "5244e197bd1f4a24af914a6fb7c3809e",
       "version_major": 2,
       "version_minor": 0
      },
      "text/plain": [
       "  0%|          | 0/200 [00:00<?, ?it/s]"
      ]
     },
     "metadata": {},
     "output_type": "display_data"
    },
    {
     "data": {
      "text/html": [
       "Waiting for W&B process to finish... <strong style=\"color:green\">(success).</strong>"
      ],
      "text/plain": [
       "<IPython.core.display.HTML object>"
      ]
     },
     "metadata": {},
     "output_type": "display_data"
    },
    {
     "data": {
      "text/html": [
       "<style>\n",
       "    table.wandb td:nth-child(1) { padding: 0 10px; text-align: left ; width: auto;} td:nth-child(2) {text-align: left ; width: 100%}\n",
       "    .wandb-row { display: flex; flex-direction: row; flex-wrap: wrap; justify-content: flex-start; width: 100% }\n",
       "    .wandb-col { display: flex; flex-direction: column; flex-basis: 100%; flex: 1; padding: 10px; }\n",
       "    </style>\n",
       "<div class=\"wandb-row\"><div class=\"wandb-col\"><h3>Run history:</h3><br/><table class=\"wandb\"><tr><td>avg_test_loss</td><td>▁</td></tr></table><br/></div><div class=\"wandb-col\"><h3>Run summary:</h3><br/><table class=\"wandb\"><tr><td>avg_test_loss</td><td>0.16567</td></tr></table><br/></div></div>"
      ],
      "text/plain": [
       "<IPython.core.display.HTML object>"
      ]
     },
     "metadata": {},
     "output_type": "display_data"
    },
    {
     "data": {
      "text/html": [
       " View run <strong style=\"color:#cdcd00\">leafy-sweep-79</strong> at: <a href='https://wandb.ai/zekai-wang/RecurrentTPP%20on%20ANSS%20Nov%205/runs/g4sl7ptn' target=\"_blank\">https://wandb.ai/zekai-wang/RecurrentTPP%20on%20ANSS%20Nov%205/runs/g4sl7ptn</a><br/>Synced 5 W&B file(s), 0 media file(s), 0 artifact file(s) and 0 other file(s)"
      ],
      "text/plain": [
       "<IPython.core.display.HTML object>"
      ]
     },
     "metadata": {},
     "output_type": "display_data"
    },
    {
     "data": {
      "text/html": [
       "Find logs at: <code>./wandb/run-20231106_000806-g4sl7ptn/logs</code>"
      ],
      "text/plain": [
       "<IPython.core.display.HTML object>"
      ]
     },
     "metadata": {},
     "output_type": "display_data"
    },
    {
     "name": "stderr",
     "output_type": "stream",
     "text": [
      "\u001b[34m\u001b[1mwandb\u001b[0m: Agent Starting Run: j1vrthf5 with config:\n",
      "\u001b[34m\u001b[1mwandb\u001b[0m: \tbatch_size: 128\n",
      "\u001b[34m\u001b[1mwandb\u001b[0m: \tbetas: [0.9, 0.999]\n",
      "\u001b[34m\u001b[1mwandb\u001b[0m: \tcontext_size: 16\n",
      "\u001b[34m\u001b[1mwandb\u001b[0m: \tdropout_proba: 0.1\n",
      "\u001b[34m\u001b[1mwandb\u001b[0m: \tlr: 0.002\n",
      "\u001b[34m\u001b[1mwandb\u001b[0m: \tnum_components: 16\n",
      "\u001b[34m\u001b[1mwandb\u001b[0m: \trnn_type: LSTM\n",
      "\u001b[34m\u001b[1mwandb\u001b[0m: \tweight_decay: 0.05\n"
     ]
    },
    {
     "data": {
      "text/html": [
       "Tracking run with wandb version 0.15.12"
      ],
      "text/plain": [
       "<IPython.core.display.HTML object>"
      ]
     },
     "metadata": {},
     "output_type": "display_data"
    },
    {
     "data": {
      "text/html": [
       "Run data is saved locally in <code>/home/zekai/repos/recast/notebooks/Zekai/hyperparameter_sweep/wandb/run-20231106_000937-j1vrthf5</code>"
      ],
      "text/plain": [
       "<IPython.core.display.HTML object>"
      ]
     },
     "metadata": {},
     "output_type": "display_data"
    },
    {
     "data": {
      "text/html": [
       "Syncing run <strong><a href='https://wandb.ai/zekai-wang/RecurrentTPP%20on%20ANSS%20Nov%205/runs/j1vrthf5' target=\"_blank\">skilled-sweep-80</a></strong> to <a href='https://wandb.ai/zekai-wang/RecurrentTPP%20on%20ANSS%20Nov%205' target=\"_blank\">Weights & Biases</a> (<a href='https://wandb.me/run' target=\"_blank\">docs</a>)<br/>Sweep page: <a href='https://wandb.ai/zekai-wang/RecurrentTPP%20on%20ANSS%20Nov%205/sweeps/27ca0onv' target=\"_blank\">https://wandb.ai/zekai-wang/RecurrentTPP%20on%20ANSS%20Nov%205/sweeps/27ca0onv</a>"
      ],
      "text/plain": [
       "<IPython.core.display.HTML object>"
      ]
     },
     "metadata": {},
     "output_type": "display_data"
    },
    {
     "data": {
      "text/html": [
       " View project at <a href='https://wandb.ai/zekai-wang/RecurrentTPP%20on%20ANSS%20Nov%205' target=\"_blank\">https://wandb.ai/zekai-wang/RecurrentTPP%20on%20ANSS%20Nov%205</a>"
      ],
      "text/plain": [
       "<IPython.core.display.HTML object>"
      ]
     },
     "metadata": {},
     "output_type": "display_data"
    },
    {
     "data": {
      "text/html": [
       " View sweep at <a href='https://wandb.ai/zekai-wang/RecurrentTPP%20on%20ANSS%20Nov%205/sweeps/27ca0onv' target=\"_blank\">https://wandb.ai/zekai-wang/RecurrentTPP%20on%20ANSS%20Nov%205/sweeps/27ca0onv</a>"
      ],
      "text/plain": [
       "<IPython.core.display.HTML object>"
      ]
     },
     "metadata": {},
     "output_type": "display_data"
    },
    {
     "data": {
      "text/html": [
       " View run at <a href='https://wandb.ai/zekai-wang/RecurrentTPP%20on%20ANSS%20Nov%205/runs/j1vrthf5' target=\"_blank\">https://wandb.ai/zekai-wang/RecurrentTPP%20on%20ANSS%20Nov%205/runs/j1vrthf5</a>"
      ],
      "text/plain": [
       "<IPython.core.display.HTML object>"
      ]
     },
     "metadata": {},
     "output_type": "display_data"
    },
    {
     "data": {
      "application/vnd.jupyter.widget-view+json": {
       "model_id": "8b0a019856e34586a8c6ebdba5e6feba",
       "version_major": 2,
       "version_minor": 0
      },
      "text/plain": [
       "  0%|          | 0/200 [00:00<?, ?it/s]"
      ]
     },
     "metadata": {},
     "output_type": "display_data"
    },
    {
     "data": {
      "text/html": [
       "Waiting for W&B process to finish... <strong style=\"color:green\">(success).</strong>"
      ],
      "text/plain": [
       "<IPython.core.display.HTML object>"
      ]
     },
     "metadata": {},
     "output_type": "display_data"
    },
    {
     "data": {
      "application/vnd.jupyter.widget-view+json": {
       "model_id": "88e0933da40e416292f238caf7eb69cf",
       "version_major": 2,
       "version_minor": 0
      },
      "text/plain": [
       "VBox(children=(Label(value='0.003 MB of 0.018 MB uploaded (0.000 MB deduped)\\r'), FloatProgress(value=0.192279…"
      ]
     },
     "metadata": {},
     "output_type": "display_data"
    },
    {
     "data": {
      "text/html": [
       "<style>\n",
       "    table.wandb td:nth-child(1) { padding: 0 10px; text-align: left ; width: auto;} td:nth-child(2) {text-align: left ; width: 100%}\n",
       "    .wandb-row { display: flex; flex-direction: row; flex-wrap: wrap; justify-content: flex-start; width: 100% }\n",
       "    .wandb-col { display: flex; flex-direction: column; flex-basis: 100%; flex: 1; padding: 10px; }\n",
       "    </style>\n",
       "<div class=\"wandb-row\"><div class=\"wandb-col\"><h3>Run history:</h3><br/><table class=\"wandb\"><tr><td>avg_test_loss</td><td>▁</td></tr></table><br/></div><div class=\"wandb-col\"><h3>Run summary:</h3><br/><table class=\"wandb\"><tr><td>avg_test_loss</td><td>0.17714</td></tr></table><br/></div></div>"
      ],
      "text/plain": [
       "<IPython.core.display.HTML object>"
      ]
     },
     "metadata": {},
     "output_type": "display_data"
    },
    {
     "data": {
      "text/html": [
       " View run <strong style=\"color:#cdcd00\">skilled-sweep-80</strong> at: <a href='https://wandb.ai/zekai-wang/RecurrentTPP%20on%20ANSS%20Nov%205/runs/j1vrthf5' target=\"_blank\">https://wandb.ai/zekai-wang/RecurrentTPP%20on%20ANSS%20Nov%205/runs/j1vrthf5</a><br/>Synced 5 W&B file(s), 0 media file(s), 0 artifact file(s) and 0 other file(s)"
      ],
      "text/plain": [
       "<IPython.core.display.HTML object>"
      ]
     },
     "metadata": {},
     "output_type": "display_data"
    },
    {
     "data": {
      "text/html": [
       "Find logs at: <code>./wandb/run-20231106_000937-j1vrthf5/logs</code>"
      ],
      "text/plain": [
       "<IPython.core.display.HTML object>"
      ]
     },
     "metadata": {},
     "output_type": "display_data"
    },
    {
     "name": "stderr",
     "output_type": "stream",
     "text": [
      "\u001b[34m\u001b[1mwandb\u001b[0m: Agent Starting Run: bllonq5z with config:\n",
      "\u001b[34m\u001b[1mwandb\u001b[0m: \tbatch_size: 128\n",
      "\u001b[34m\u001b[1mwandb\u001b[0m: \tbetas: [0.9, 0.999]\n",
      "\u001b[34m\u001b[1mwandb\u001b[0m: \tcontext_size: 64\n",
      "\u001b[34m\u001b[1mwandb\u001b[0m: \tdropout_proba: 0.1\n",
      "\u001b[34m\u001b[1mwandb\u001b[0m: \tlr: 0.001\n",
      "\u001b[34m\u001b[1mwandb\u001b[0m: \tnum_components: 8\n",
      "\u001b[34m\u001b[1mwandb\u001b[0m: \trnn_type: GRU\n",
      "\u001b[34m\u001b[1mwandb\u001b[0m: \tweight_decay: 0.01\n"
     ]
    },
    {
     "data": {
      "text/html": [
       "Tracking run with wandb version 0.15.12"
      ],
      "text/plain": [
       "<IPython.core.display.HTML object>"
      ]
     },
     "metadata": {},
     "output_type": "display_data"
    },
    {
     "data": {
      "text/html": [
       "Run data is saved locally in <code>/home/zekai/repos/recast/notebooks/Zekai/hyperparameter_sweep/wandb/run-20231106_001048-bllonq5z</code>"
      ],
      "text/plain": [
       "<IPython.core.display.HTML object>"
      ]
     },
     "metadata": {},
     "output_type": "display_data"
    },
    {
     "data": {
      "text/html": [
       "Syncing run <strong><a href='https://wandb.ai/zekai-wang/RecurrentTPP%20on%20ANSS%20Nov%205/runs/bllonq5z' target=\"_blank\">fearless-sweep-81</a></strong> to <a href='https://wandb.ai/zekai-wang/RecurrentTPP%20on%20ANSS%20Nov%205' target=\"_blank\">Weights & Biases</a> (<a href='https://wandb.me/run' target=\"_blank\">docs</a>)<br/>Sweep page: <a href='https://wandb.ai/zekai-wang/RecurrentTPP%20on%20ANSS%20Nov%205/sweeps/27ca0onv' target=\"_blank\">https://wandb.ai/zekai-wang/RecurrentTPP%20on%20ANSS%20Nov%205/sweeps/27ca0onv</a>"
      ],
      "text/plain": [
       "<IPython.core.display.HTML object>"
      ]
     },
     "metadata": {},
     "output_type": "display_data"
    },
    {
     "data": {
      "text/html": [
       " View project at <a href='https://wandb.ai/zekai-wang/RecurrentTPP%20on%20ANSS%20Nov%205' target=\"_blank\">https://wandb.ai/zekai-wang/RecurrentTPP%20on%20ANSS%20Nov%205</a>"
      ],
      "text/plain": [
       "<IPython.core.display.HTML object>"
      ]
     },
     "metadata": {},
     "output_type": "display_data"
    },
    {
     "data": {
      "text/html": [
       " View sweep at <a href='https://wandb.ai/zekai-wang/RecurrentTPP%20on%20ANSS%20Nov%205/sweeps/27ca0onv' target=\"_blank\">https://wandb.ai/zekai-wang/RecurrentTPP%20on%20ANSS%20Nov%205/sweeps/27ca0onv</a>"
      ],
      "text/plain": [
       "<IPython.core.display.HTML object>"
      ]
     },
     "metadata": {},
     "output_type": "display_data"
    },
    {
     "data": {
      "text/html": [
       " View run at <a href='https://wandb.ai/zekai-wang/RecurrentTPP%20on%20ANSS%20Nov%205/runs/bllonq5z' target=\"_blank\">https://wandb.ai/zekai-wang/RecurrentTPP%20on%20ANSS%20Nov%205/runs/bllonq5z</a>"
      ],
      "text/plain": [
       "<IPython.core.display.HTML object>"
      ]
     },
     "metadata": {},
     "output_type": "display_data"
    },
    {
     "data": {
      "application/vnd.jupyter.widget-view+json": {
       "model_id": "7eeb868ad86e4d7f86dfa73196f3706f",
       "version_major": 2,
       "version_minor": 0
      },
      "text/plain": [
       "  0%|          | 0/200 [00:00<?, ?it/s]"
      ]
     },
     "metadata": {},
     "output_type": "display_data"
    },
    {
     "data": {
      "text/html": [
       "Waiting for W&B process to finish... <strong style=\"color:green\">(success).</strong>"
      ],
      "text/plain": [
       "<IPython.core.display.HTML object>"
      ]
     },
     "metadata": {},
     "output_type": "display_data"
    },
    {
     "data": {
      "text/html": [
       "<style>\n",
       "    table.wandb td:nth-child(1) { padding: 0 10px; text-align: left ; width: auto;} td:nth-child(2) {text-align: left ; width: 100%}\n",
       "    .wandb-row { display: flex; flex-direction: row; flex-wrap: wrap; justify-content: flex-start; width: 100% }\n",
       "    .wandb-col { display: flex; flex-direction: column; flex-basis: 100%; flex: 1; padding: 10px; }\n",
       "    </style>\n",
       "<div class=\"wandb-row\"><div class=\"wandb-col\"><h3>Run history:</h3><br/><table class=\"wandb\"><tr><td>avg_test_loss</td><td>▁</td></tr></table><br/></div><div class=\"wandb-col\"><h3>Run summary:</h3><br/><table class=\"wandb\"><tr><td>avg_test_loss</td><td>0.16883</td></tr></table><br/></div></div>"
      ],
      "text/plain": [
       "<IPython.core.display.HTML object>"
      ]
     },
     "metadata": {},
     "output_type": "display_data"
    },
    {
     "data": {
      "text/html": [
       " View run <strong style=\"color:#cdcd00\">fearless-sweep-81</strong> at: <a href='https://wandb.ai/zekai-wang/RecurrentTPP%20on%20ANSS%20Nov%205/runs/bllonq5z' target=\"_blank\">https://wandb.ai/zekai-wang/RecurrentTPP%20on%20ANSS%20Nov%205/runs/bllonq5z</a><br/>Synced 5 W&B file(s), 0 media file(s), 0 artifact file(s) and 0 other file(s)"
      ],
      "text/plain": [
       "<IPython.core.display.HTML object>"
      ]
     },
     "metadata": {},
     "output_type": "display_data"
    },
    {
     "data": {
      "text/html": [
       "Find logs at: <code>./wandb/run-20231106_001048-bllonq5z/logs</code>"
      ],
      "text/plain": [
       "<IPython.core.display.HTML object>"
      ]
     },
     "metadata": {},
     "output_type": "display_data"
    },
    {
     "name": "stderr",
     "output_type": "stream",
     "text": [
      "\u001b[34m\u001b[1mwandb\u001b[0m: Agent Starting Run: 784mp7dk with config:\n",
      "\u001b[34m\u001b[1mwandb\u001b[0m: \tbatch_size: 16\n",
      "\u001b[34m\u001b[1mwandb\u001b[0m: \tbetas: [0.9, 0.999]\n",
      "\u001b[34m\u001b[1mwandb\u001b[0m: \tcontext_size: 64\n",
      "\u001b[34m\u001b[1mwandb\u001b[0m: \tdropout_proba: 0.3\n",
      "\u001b[34m\u001b[1mwandb\u001b[0m: \tlr: 0.002\n",
      "\u001b[34m\u001b[1mwandb\u001b[0m: \tnum_components: 64\n",
      "\u001b[34m\u001b[1mwandb\u001b[0m: \trnn_type: LSTM\n",
      "\u001b[34m\u001b[1mwandb\u001b[0m: \tweight_decay: 0.001\n"
     ]
    },
    {
     "data": {
      "text/html": [
       "Tracking run with wandb version 0.15.12"
      ],
      "text/plain": [
       "<IPython.core.display.HTML object>"
      ]
     },
     "metadata": {},
     "output_type": "display_data"
    },
    {
     "data": {
      "text/html": [
       "Run data is saved locally in <code>/home/zekai/repos/recast/notebooks/Zekai/hyperparameter_sweep/wandb/run-20231106_001200-784mp7dk</code>"
      ],
      "text/plain": [
       "<IPython.core.display.HTML object>"
      ]
     },
     "metadata": {},
     "output_type": "display_data"
    },
    {
     "data": {
      "text/html": [
       "Syncing run <strong><a href='https://wandb.ai/zekai-wang/RecurrentTPP%20on%20ANSS%20Nov%205/runs/784mp7dk' target=\"_blank\">youthful-sweep-82</a></strong> to <a href='https://wandb.ai/zekai-wang/RecurrentTPP%20on%20ANSS%20Nov%205' target=\"_blank\">Weights & Biases</a> (<a href='https://wandb.me/run' target=\"_blank\">docs</a>)<br/>Sweep page: <a href='https://wandb.ai/zekai-wang/RecurrentTPP%20on%20ANSS%20Nov%205/sweeps/27ca0onv' target=\"_blank\">https://wandb.ai/zekai-wang/RecurrentTPP%20on%20ANSS%20Nov%205/sweeps/27ca0onv</a>"
      ],
      "text/plain": [
       "<IPython.core.display.HTML object>"
      ]
     },
     "metadata": {},
     "output_type": "display_data"
    },
    {
     "data": {
      "text/html": [
       " View project at <a href='https://wandb.ai/zekai-wang/RecurrentTPP%20on%20ANSS%20Nov%205' target=\"_blank\">https://wandb.ai/zekai-wang/RecurrentTPP%20on%20ANSS%20Nov%205</a>"
      ],
      "text/plain": [
       "<IPython.core.display.HTML object>"
      ]
     },
     "metadata": {},
     "output_type": "display_data"
    },
    {
     "data": {
      "text/html": [
       " View sweep at <a href='https://wandb.ai/zekai-wang/RecurrentTPP%20on%20ANSS%20Nov%205/sweeps/27ca0onv' target=\"_blank\">https://wandb.ai/zekai-wang/RecurrentTPP%20on%20ANSS%20Nov%205/sweeps/27ca0onv</a>"
      ],
      "text/plain": [
       "<IPython.core.display.HTML object>"
      ]
     },
     "metadata": {},
     "output_type": "display_data"
    },
    {
     "data": {
      "text/html": [
       " View run at <a href='https://wandb.ai/zekai-wang/RecurrentTPP%20on%20ANSS%20Nov%205/runs/784mp7dk' target=\"_blank\">https://wandb.ai/zekai-wang/RecurrentTPP%20on%20ANSS%20Nov%205/runs/784mp7dk</a>"
      ],
      "text/plain": [
       "<IPython.core.display.HTML object>"
      ]
     },
     "metadata": {},
     "output_type": "display_data"
    },
    {
     "data": {
      "application/vnd.jupyter.widget-view+json": {
       "model_id": "b9b3844dd2844ebf9e79cf54a9a2c83c",
       "version_major": 2,
       "version_minor": 0
      },
      "text/plain": [
       "  0%|          | 0/200 [00:00<?, ?it/s]"
      ]
     },
     "metadata": {},
     "output_type": "display_data"
    },
    {
     "data": {
      "text/html": [
       "Waiting for W&B process to finish... <strong style=\"color:green\">(success).</strong>"
      ],
      "text/plain": [
       "<IPython.core.display.HTML object>"
      ]
     },
     "metadata": {},
     "output_type": "display_data"
    },
    {
     "data": {
      "text/html": [
       "<style>\n",
       "    table.wandb td:nth-child(1) { padding: 0 10px; text-align: left ; width: auto;} td:nth-child(2) {text-align: left ; width: 100%}\n",
       "    .wandb-row { display: flex; flex-direction: row; flex-wrap: wrap; justify-content: flex-start; width: 100% }\n",
       "    .wandb-col { display: flex; flex-direction: column; flex-basis: 100%; flex: 1; padding: 10px; }\n",
       "    </style>\n",
       "<div class=\"wandb-row\"><div class=\"wandb-col\"><h3>Run history:</h3><br/><table class=\"wandb\"><tr><td>avg_test_loss</td><td>▁</td></tr></table><br/></div><div class=\"wandb-col\"><h3>Run summary:</h3><br/><table class=\"wandb\"><tr><td>avg_test_loss</td><td>0.16852</td></tr></table><br/></div></div>"
      ],
      "text/plain": [
       "<IPython.core.display.HTML object>"
      ]
     },
     "metadata": {},
     "output_type": "display_data"
    },
    {
     "data": {
      "text/html": [
       " View run <strong style=\"color:#cdcd00\">youthful-sweep-82</strong> at: <a href='https://wandb.ai/zekai-wang/RecurrentTPP%20on%20ANSS%20Nov%205/runs/784mp7dk' target=\"_blank\">https://wandb.ai/zekai-wang/RecurrentTPP%20on%20ANSS%20Nov%205/runs/784mp7dk</a><br/>Synced 5 W&B file(s), 0 media file(s), 0 artifact file(s) and 0 other file(s)"
      ],
      "text/plain": [
       "<IPython.core.display.HTML object>"
      ]
     },
     "metadata": {},
     "output_type": "display_data"
    },
    {
     "data": {
      "text/html": [
       "Find logs at: <code>./wandb/run-20231106_001200-784mp7dk/logs</code>"
      ],
      "text/plain": [
       "<IPython.core.display.HTML object>"
      ]
     },
     "metadata": {},
     "output_type": "display_data"
    },
    {
     "name": "stderr",
     "output_type": "stream",
     "text": [
      "\u001b[34m\u001b[1mwandb\u001b[0m: Agent Starting Run: jt9uih09 with config:\n",
      "\u001b[34m\u001b[1mwandb\u001b[0m: \tbatch_size: 8\n",
      "\u001b[34m\u001b[1mwandb\u001b[0m: \tbetas: [0.9, 0.999]\n",
      "\u001b[34m\u001b[1mwandb\u001b[0m: \tcontext_size: 16\n",
      "\u001b[34m\u001b[1mwandb\u001b[0m: \tdropout_proba: 0.3\n",
      "\u001b[34m\u001b[1mwandb\u001b[0m: \tlr: 0.001\n",
      "\u001b[34m\u001b[1mwandb\u001b[0m: \tnum_components: 8\n",
      "\u001b[34m\u001b[1mwandb\u001b[0m: \trnn_type: LSTM\n",
      "\u001b[34m\u001b[1mwandb\u001b[0m: \tweight_decay: 0.005\n"
     ]
    },
    {
     "data": {
      "text/html": [
       "Tracking run with wandb version 0.15.12"
      ],
      "text/plain": [
       "<IPython.core.display.HTML object>"
      ]
     },
     "metadata": {},
     "output_type": "display_data"
    },
    {
     "data": {
      "text/html": [
       "Run data is saved locally in <code>/home/zekai/repos/recast/notebooks/Zekai/hyperparameter_sweep/wandb/run-20231106_001336-jt9uih09</code>"
      ],
      "text/plain": [
       "<IPython.core.display.HTML object>"
      ]
     },
     "metadata": {},
     "output_type": "display_data"
    },
    {
     "data": {
      "text/html": [
       "Syncing run <strong><a href='https://wandb.ai/zekai-wang/RecurrentTPP%20on%20ANSS%20Nov%205/runs/jt9uih09' target=\"_blank\">giddy-sweep-83</a></strong> to <a href='https://wandb.ai/zekai-wang/RecurrentTPP%20on%20ANSS%20Nov%205' target=\"_blank\">Weights & Biases</a> (<a href='https://wandb.me/run' target=\"_blank\">docs</a>)<br/>Sweep page: <a href='https://wandb.ai/zekai-wang/RecurrentTPP%20on%20ANSS%20Nov%205/sweeps/27ca0onv' target=\"_blank\">https://wandb.ai/zekai-wang/RecurrentTPP%20on%20ANSS%20Nov%205/sweeps/27ca0onv</a>"
      ],
      "text/plain": [
       "<IPython.core.display.HTML object>"
      ]
     },
     "metadata": {},
     "output_type": "display_data"
    },
    {
     "data": {
      "text/html": [
       " View project at <a href='https://wandb.ai/zekai-wang/RecurrentTPP%20on%20ANSS%20Nov%205' target=\"_blank\">https://wandb.ai/zekai-wang/RecurrentTPP%20on%20ANSS%20Nov%205</a>"
      ],
      "text/plain": [
       "<IPython.core.display.HTML object>"
      ]
     },
     "metadata": {},
     "output_type": "display_data"
    },
    {
     "data": {
      "text/html": [
       " View sweep at <a href='https://wandb.ai/zekai-wang/RecurrentTPP%20on%20ANSS%20Nov%205/sweeps/27ca0onv' target=\"_blank\">https://wandb.ai/zekai-wang/RecurrentTPP%20on%20ANSS%20Nov%205/sweeps/27ca0onv</a>"
      ],
      "text/plain": [
       "<IPython.core.display.HTML object>"
      ]
     },
     "metadata": {},
     "output_type": "display_data"
    },
    {
     "data": {
      "text/html": [
       " View run at <a href='https://wandb.ai/zekai-wang/RecurrentTPP%20on%20ANSS%20Nov%205/runs/jt9uih09' target=\"_blank\">https://wandb.ai/zekai-wang/RecurrentTPP%20on%20ANSS%20Nov%205/runs/jt9uih09</a>"
      ],
      "text/plain": [
       "<IPython.core.display.HTML object>"
      ]
     },
     "metadata": {},
     "output_type": "display_data"
    },
    {
     "data": {
      "application/vnd.jupyter.widget-view+json": {
       "model_id": "001f760899074cefa886dd78a2245db2",
       "version_major": 2,
       "version_minor": 0
      },
      "text/plain": [
       "  0%|          | 0/200 [00:00<?, ?it/s]"
      ]
     },
     "metadata": {},
     "output_type": "display_data"
    },
    {
     "data": {
      "text/html": [
       "Waiting for W&B process to finish... <strong style=\"color:green\">(success).</strong>"
      ],
      "text/plain": [
       "<IPython.core.display.HTML object>"
      ]
     },
     "metadata": {},
     "output_type": "display_data"
    },
    {
     "data": {
      "application/vnd.jupyter.widget-view+json": {
       "model_id": "ac6b1c645af542828718ad1a961d763a",
       "version_major": 2,
       "version_minor": 0
      },
      "text/plain": [
       "VBox(children=(Label(value='0.003 MB of 0.019 MB uploaded (0.000 MB deduped)\\r'), FloatProgress(value=0.184530…"
      ]
     },
     "metadata": {},
     "output_type": "display_data"
    },
    {
     "data": {
      "text/html": [
       "<style>\n",
       "    table.wandb td:nth-child(1) { padding: 0 10px; text-align: left ; width: auto;} td:nth-child(2) {text-align: left ; width: 100%}\n",
       "    .wandb-row { display: flex; flex-direction: row; flex-wrap: wrap; justify-content: flex-start; width: 100% }\n",
       "    .wandb-col { display: flex; flex-direction: column; flex-basis: 100%; flex: 1; padding: 10px; }\n",
       "    </style>\n",
       "<div class=\"wandb-row\"><div class=\"wandb-col\"><h3>Run history:</h3><br/><table class=\"wandb\"><tr><td>avg_test_loss</td><td>▁</td></tr></table><br/></div><div class=\"wandb-col\"><h3>Run summary:</h3><br/><table class=\"wandb\"><tr><td>avg_test_loss</td><td>0.16786</td></tr></table><br/></div></div>"
      ],
      "text/plain": [
       "<IPython.core.display.HTML object>"
      ]
     },
     "metadata": {},
     "output_type": "display_data"
    },
    {
     "data": {
      "text/html": [
       " View run <strong style=\"color:#cdcd00\">giddy-sweep-83</strong> at: <a href='https://wandb.ai/zekai-wang/RecurrentTPP%20on%20ANSS%20Nov%205/runs/jt9uih09' target=\"_blank\">https://wandb.ai/zekai-wang/RecurrentTPP%20on%20ANSS%20Nov%205/runs/jt9uih09</a><br/>Synced 5 W&B file(s), 0 media file(s), 0 artifact file(s) and 0 other file(s)"
      ],
      "text/plain": [
       "<IPython.core.display.HTML object>"
      ]
     },
     "metadata": {},
     "output_type": "display_data"
    },
    {
     "data": {
      "text/html": [
       "Find logs at: <code>./wandb/run-20231106_001336-jt9uih09/logs</code>"
      ],
      "text/plain": [
       "<IPython.core.display.HTML object>"
      ]
     },
     "metadata": {},
     "output_type": "display_data"
    },
    {
     "name": "stderr",
     "output_type": "stream",
     "text": [
      "\u001b[34m\u001b[1mwandb\u001b[0m: Sweep Agent: Waiting for job.\n",
      "\u001b[34m\u001b[1mwandb\u001b[0m: Job received.\n",
      "\u001b[34m\u001b[1mwandb\u001b[0m: Agent Starting Run: d4qh81br with config:\n",
      "\u001b[34m\u001b[1mwandb\u001b[0m: \tbatch_size: 32\n",
      "\u001b[34m\u001b[1mwandb\u001b[0m: \tbetas: [0.9, 0.999]\n",
      "\u001b[34m\u001b[1mwandb\u001b[0m: \tcontext_size: 16\n",
      "\u001b[34m\u001b[1mwandb\u001b[0m: \tdropout_proba: 0.2\n",
      "\u001b[34m\u001b[1mwandb\u001b[0m: \tlr: 0.05\n",
      "\u001b[34m\u001b[1mwandb\u001b[0m: \tnum_components: 64\n",
      "\u001b[34m\u001b[1mwandb\u001b[0m: \trnn_type: RNN\n",
      "\u001b[34m\u001b[1mwandb\u001b[0m: \tweight_decay: 0\n"
     ]
    },
    {
     "data": {
      "text/html": [
       "Tracking run with wandb version 0.15.12"
      ],
      "text/plain": [
       "<IPython.core.display.HTML object>"
      ]
     },
     "metadata": {},
     "output_type": "display_data"
    },
    {
     "data": {
      "text/html": [
       "Run data is saved locally in <code>/home/zekai/repos/recast/notebooks/Zekai/hyperparameter_sweep/wandb/run-20231106_001529-d4qh81br</code>"
      ],
      "text/plain": [
       "<IPython.core.display.HTML object>"
      ]
     },
     "metadata": {},
     "output_type": "display_data"
    },
    {
     "data": {
      "text/html": [
       "Syncing run <strong><a href='https://wandb.ai/zekai-wang/RecurrentTPP%20on%20ANSS%20Nov%205/runs/d4qh81br' target=\"_blank\">rose-sweep-84</a></strong> to <a href='https://wandb.ai/zekai-wang/RecurrentTPP%20on%20ANSS%20Nov%205' target=\"_blank\">Weights & Biases</a> (<a href='https://wandb.me/run' target=\"_blank\">docs</a>)<br/>Sweep page: <a href='https://wandb.ai/zekai-wang/RecurrentTPP%20on%20ANSS%20Nov%205/sweeps/27ca0onv' target=\"_blank\">https://wandb.ai/zekai-wang/RecurrentTPP%20on%20ANSS%20Nov%205/sweeps/27ca0onv</a>"
      ],
      "text/plain": [
       "<IPython.core.display.HTML object>"
      ]
     },
     "metadata": {},
     "output_type": "display_data"
    },
    {
     "data": {
      "text/html": [
       " View project at <a href='https://wandb.ai/zekai-wang/RecurrentTPP%20on%20ANSS%20Nov%205' target=\"_blank\">https://wandb.ai/zekai-wang/RecurrentTPP%20on%20ANSS%20Nov%205</a>"
      ],
      "text/plain": [
       "<IPython.core.display.HTML object>"
      ]
     },
     "metadata": {},
     "output_type": "display_data"
    },
    {
     "data": {
      "text/html": [
       " View sweep at <a href='https://wandb.ai/zekai-wang/RecurrentTPP%20on%20ANSS%20Nov%205/sweeps/27ca0onv' target=\"_blank\">https://wandb.ai/zekai-wang/RecurrentTPP%20on%20ANSS%20Nov%205/sweeps/27ca0onv</a>"
      ],
      "text/plain": [
       "<IPython.core.display.HTML object>"
      ]
     },
     "metadata": {},
     "output_type": "display_data"
    },
    {
     "data": {
      "text/html": [
       " View run at <a href='https://wandb.ai/zekai-wang/RecurrentTPP%20on%20ANSS%20Nov%205/runs/d4qh81br' target=\"_blank\">https://wandb.ai/zekai-wang/RecurrentTPP%20on%20ANSS%20Nov%205/runs/d4qh81br</a>"
      ],
      "text/plain": [
       "<IPython.core.display.HTML object>"
      ]
     },
     "metadata": {},
     "output_type": "display_data"
    },
    {
     "data": {
      "application/vnd.jupyter.widget-view+json": {
       "model_id": "601b570db9264b4d8f95461325dadf67",
       "version_major": 2,
       "version_minor": 0
      },
      "text/plain": [
       "  0%|          | 0/200 [00:00<?, ?it/s]"
      ]
     },
     "metadata": {},
     "output_type": "display_data"
    },
    {
     "name": "stdout",
     "output_type": "stream",
     "text": [
      "Expected parameter scale (Tensor of shape (32, 828, 64)) of distribution Weibull(scale: torch.Size([32, 828, 64]), shape: torch.Size([32, 828, 64])) to satisfy the constraint GreaterThan(lower_bound=0.0), but found invalid values:\n",
      "tensor([[[2.5099, 7.9285, 2.3087,  ..., 2.2299, 1.6062, 2.3115],\n",
      "         [   nan,    nan,    nan,  ...,    nan,    nan,    nan],\n",
      "         [   nan,    nan,    nan,  ...,    nan,    nan,    nan],\n",
      "         ...,\n",
      "         [   nan,    nan,    nan,  ...,    nan,    nan,    nan],\n",
      "         [   nan,    nan,    nan,  ...,    nan,    nan,    nan],\n",
      "         [   nan,    nan,    nan,  ...,    nan,    nan,    nan]],\n",
      "\n",
      "        [[2.5099, 7.9285, 2.3087,  ..., 2.2299, 1.6062, 2.3115],\n",
      "         [   nan,    nan,    nan,  ...,    nan,    nan,    nan],\n",
      "         [   nan,    nan,    nan,  ...,    nan,    nan,    nan],\n",
      "         ...,\n",
      "         [   nan,    nan,    nan,  ...,    nan,    nan,    nan],\n",
      "         [   nan,    nan,    nan,  ...,    nan,    nan,    nan],\n",
      "         [   nan,    nan,    nan,  ...,    nan,    nan,    nan]],\n",
      "\n",
      "        [[2.5099, 7.9285, 2.3087,  ..., 2.2299, 1.6062, 2.3115],\n",
      "         [   nan,    nan,    nan,  ...,    nan,    nan,    nan],\n",
      "         [   nan,    nan,    nan,  ...,    nan,    nan,    nan],\n",
      "         ...,\n",
      "         [   nan,    nan,    nan,  ...,    nan,    nan,    nan],\n",
      "         [   nan,    nan,    nan,  ...,    nan,    nan,    nan],\n",
      "         [   nan,    nan,    nan,  ...,    nan,    nan,    nan]],\n",
      "\n",
      "        ...,\n",
      "\n",
      "        [[2.5099, 7.9285, 2.3087,  ..., 2.2299, 1.6062, 2.3115],\n",
      "         [   nan,    nan,    nan,  ...,    nan,    nan,    nan],\n",
      "         [   nan,    nan,    nan,  ...,    nan,    nan,    nan],\n",
      "         ...,\n",
      "         [   nan,    nan,    nan,  ...,    nan,    nan,    nan],\n",
      "         [   nan,    nan,    nan,  ...,    nan,    nan,    nan],\n",
      "         [   nan,    nan,    nan,  ...,    nan,    nan,    nan]],\n",
      "\n",
      "        [[2.5099, 7.9285, 2.3087,  ..., 2.2299, 1.6062, 2.3115],\n",
      "         [   nan,    nan,    nan,  ...,    nan,    nan,    nan],\n",
      "         [   nan,    nan,    nan,  ...,    nan,    nan,    nan],\n",
      "         ...,\n",
      "         [   nan,    nan,    nan,  ...,    nan,    nan,    nan],\n",
      "         [   nan,    nan,    nan,  ...,    nan,    nan,    nan],\n",
      "         [   nan,    nan,    nan,  ...,    nan,    nan,    nan]],\n",
      "\n",
      "        [[2.5099, 7.9285, 2.3087,  ..., 2.2299, 1.6062, 2.3115],\n",
      "         [   nan,    nan,    nan,  ...,    nan,    nan,    nan],\n",
      "         [   nan,    nan,    nan,  ...,    nan,    nan,    nan],\n",
      "         ...,\n",
      "         [   nan,    nan,    nan,  ...,    nan,    nan,    nan],\n",
      "         [   nan,    nan,    nan,  ...,    nan,    nan,    nan],\n",
      "         [   nan,    nan,    nan,  ...,    nan,    nan,    nan]]],\n",
      "       device='cuda:0', grad_fn=<SoftplusBackward0>)\n"
     ]
    },
    {
     "data": {
      "text/html": [
       "Waiting for W&B process to finish... <strong style=\"color:green\">(success).</strong>"
      ],
      "text/plain": [
       "<IPython.core.display.HTML object>"
      ]
     },
     "metadata": {},
     "output_type": "display_data"
    },
    {
     "data": {
      "text/html": [
       "<style>\n",
       "    table.wandb td:nth-child(1) { padding: 0 10px; text-align: left ; width: auto;} td:nth-child(2) {text-align: left ; width: 100%}\n",
       "    .wandb-row { display: flex; flex-direction: row; flex-wrap: wrap; justify-content: flex-start; width: 100% }\n",
       "    .wandb-col { display: flex; flex-direction: column; flex-basis: 100%; flex: 1; padding: 10px; }\n",
       "    </style>\n",
       "<div class=\"wandb-row\"><div class=\"wandb-col\"><h3>Run summary:</h3><br/><table class=\"wandb\"><tr><td>avg_test_loss</td><td>nan</td></tr></table><br/></div></div>"
      ],
      "text/plain": [
       "<IPython.core.display.HTML object>"
      ]
     },
     "metadata": {},
     "output_type": "display_data"
    },
    {
     "data": {
      "text/html": [
       " View run <strong style=\"color:#cdcd00\">rose-sweep-84</strong> at: <a href='https://wandb.ai/zekai-wang/RecurrentTPP%20on%20ANSS%20Nov%205/runs/d4qh81br' target=\"_blank\">https://wandb.ai/zekai-wang/RecurrentTPP%20on%20ANSS%20Nov%205/runs/d4qh81br</a><br/>Synced 6 W&B file(s), 0 media file(s), 0 artifact file(s) and 0 other file(s)"
      ],
      "text/plain": [
       "<IPython.core.display.HTML object>"
      ]
     },
     "metadata": {},
     "output_type": "display_data"
    },
    {
     "data": {
      "text/html": [
       "Find logs at: <code>./wandb/run-20231106_001529-d4qh81br/logs</code>"
      ],
      "text/plain": [
       "<IPython.core.display.HTML object>"
      ]
     },
     "metadata": {},
     "output_type": "display_data"
    },
    {
     "name": "stderr",
     "output_type": "stream",
     "text": [
      "\u001b[34m\u001b[1mwandb\u001b[0m: Agent Starting Run: 7ngkp9iu with config:\n",
      "\u001b[34m\u001b[1mwandb\u001b[0m: \tbatch_size: 128\n",
      "\u001b[34m\u001b[1mwandb\u001b[0m: \tbetas: [0.9, 0.999]\n",
      "\u001b[34m\u001b[1mwandb\u001b[0m: \tcontext_size: 8\n",
      "\u001b[34m\u001b[1mwandb\u001b[0m: \tdropout_proba: 0.5\n",
      "\u001b[34m\u001b[1mwandb\u001b[0m: \tlr: 0.001\n",
      "\u001b[34m\u001b[1mwandb\u001b[0m: \tnum_components: 16\n",
      "\u001b[34m\u001b[1mwandb\u001b[0m: \trnn_type: GRU\n",
      "\u001b[34m\u001b[1mwandb\u001b[0m: \tweight_decay: 0.05\n"
     ]
    },
    {
     "data": {
      "text/html": [
       "Tracking run with wandb version 0.15.12"
      ],
      "text/plain": [
       "<IPython.core.display.HTML object>"
      ]
     },
     "metadata": {},
     "output_type": "display_data"
    },
    {
     "data": {
      "text/html": [
       "Run data is saved locally in <code>/home/zekai/repos/recast/notebooks/Zekai/hyperparameter_sweep/wandb/run-20231106_001609-7ngkp9iu</code>"
      ],
      "text/plain": [
       "<IPython.core.display.HTML object>"
      ]
     },
     "metadata": {},
     "output_type": "display_data"
    },
    {
     "data": {
      "text/html": [
       "Syncing run <strong><a href='https://wandb.ai/zekai-wang/RecurrentTPP%20on%20ANSS%20Nov%205/runs/7ngkp9iu' target=\"_blank\">wandering-sweep-85</a></strong> to <a href='https://wandb.ai/zekai-wang/RecurrentTPP%20on%20ANSS%20Nov%205' target=\"_blank\">Weights & Biases</a> (<a href='https://wandb.me/run' target=\"_blank\">docs</a>)<br/>Sweep page: <a href='https://wandb.ai/zekai-wang/RecurrentTPP%20on%20ANSS%20Nov%205/sweeps/27ca0onv' target=\"_blank\">https://wandb.ai/zekai-wang/RecurrentTPP%20on%20ANSS%20Nov%205/sweeps/27ca0onv</a>"
      ],
      "text/plain": [
       "<IPython.core.display.HTML object>"
      ]
     },
     "metadata": {},
     "output_type": "display_data"
    },
    {
     "data": {
      "text/html": [
       " View project at <a href='https://wandb.ai/zekai-wang/RecurrentTPP%20on%20ANSS%20Nov%205' target=\"_blank\">https://wandb.ai/zekai-wang/RecurrentTPP%20on%20ANSS%20Nov%205</a>"
      ],
      "text/plain": [
       "<IPython.core.display.HTML object>"
      ]
     },
     "metadata": {},
     "output_type": "display_data"
    },
    {
     "data": {
      "text/html": [
       " View sweep at <a href='https://wandb.ai/zekai-wang/RecurrentTPP%20on%20ANSS%20Nov%205/sweeps/27ca0onv' target=\"_blank\">https://wandb.ai/zekai-wang/RecurrentTPP%20on%20ANSS%20Nov%205/sweeps/27ca0onv</a>"
      ],
      "text/plain": [
       "<IPython.core.display.HTML object>"
      ]
     },
     "metadata": {},
     "output_type": "display_data"
    },
    {
     "data": {
      "text/html": [
       " View run at <a href='https://wandb.ai/zekai-wang/RecurrentTPP%20on%20ANSS%20Nov%205/runs/7ngkp9iu' target=\"_blank\">https://wandb.ai/zekai-wang/RecurrentTPP%20on%20ANSS%20Nov%205/runs/7ngkp9iu</a>"
      ],
      "text/plain": [
       "<IPython.core.display.HTML object>"
      ]
     },
     "metadata": {},
     "output_type": "display_data"
    },
    {
     "data": {
      "application/vnd.jupyter.widget-view+json": {
       "model_id": "495d4f26108b4c09940d8da0455eb7af",
       "version_major": 2,
       "version_minor": 0
      },
      "text/plain": [
       "  0%|          | 0/200 [00:00<?, ?it/s]"
      ]
     },
     "metadata": {},
     "output_type": "display_data"
    },
    {
     "data": {
      "text/html": [
       "Waiting for W&B process to finish... <strong style=\"color:green\">(success).</strong>"
      ],
      "text/plain": [
       "<IPython.core.display.HTML object>"
      ]
     },
     "metadata": {},
     "output_type": "display_data"
    },
    {
     "data": {
      "text/html": [
       "<style>\n",
       "    table.wandb td:nth-child(1) { padding: 0 10px; text-align: left ; width: auto;} td:nth-child(2) {text-align: left ; width: 100%}\n",
       "    .wandb-row { display: flex; flex-direction: row; flex-wrap: wrap; justify-content: flex-start; width: 100% }\n",
       "    .wandb-col { display: flex; flex-direction: column; flex-basis: 100%; flex: 1; padding: 10px; }\n",
       "    </style>\n",
       "<div class=\"wandb-row\"><div class=\"wandb-col\"><h3>Run history:</h3><br/><table class=\"wandb\"><tr><td>avg_test_loss</td><td>▁</td></tr></table><br/></div><div class=\"wandb-col\"><h3>Run summary:</h3><br/><table class=\"wandb\"><tr><td>avg_test_loss</td><td>0.21478</td></tr></table><br/></div></div>"
      ],
      "text/plain": [
       "<IPython.core.display.HTML object>"
      ]
     },
     "metadata": {},
     "output_type": "display_data"
    },
    {
     "data": {
      "text/html": [
       " View run <strong style=\"color:#cdcd00\">wandering-sweep-85</strong> at: <a href='https://wandb.ai/zekai-wang/RecurrentTPP%20on%20ANSS%20Nov%205/runs/7ngkp9iu' target=\"_blank\">https://wandb.ai/zekai-wang/RecurrentTPP%20on%20ANSS%20Nov%205/runs/7ngkp9iu</a><br/>Synced 5 W&B file(s), 0 media file(s), 0 artifact file(s) and 0 other file(s)"
      ],
      "text/plain": [
       "<IPython.core.display.HTML object>"
      ]
     },
     "metadata": {},
     "output_type": "display_data"
    },
    {
     "data": {
      "text/html": [
       "Find logs at: <code>./wandb/run-20231106_001609-7ngkp9iu/logs</code>"
      ],
      "text/plain": [
       "<IPython.core.display.HTML object>"
      ]
     },
     "metadata": {},
     "output_type": "display_data"
    },
    {
     "name": "stderr",
     "output_type": "stream",
     "text": [
      "\u001b[34m\u001b[1mwandb\u001b[0m: Agent Starting Run: ljjgo0sr with config:\n",
      "\u001b[34m\u001b[1mwandb\u001b[0m: \tbatch_size: 16\n",
      "\u001b[34m\u001b[1mwandb\u001b[0m: \tbetas: [0.9, 0.999]\n",
      "\u001b[34m\u001b[1mwandb\u001b[0m: \tcontext_size: 128\n",
      "\u001b[34m\u001b[1mwandb\u001b[0m: \tdropout_proba: 0.2\n",
      "\u001b[34m\u001b[1mwandb\u001b[0m: \tlr: 0.02\n",
      "\u001b[34m\u001b[1mwandb\u001b[0m: \tnum_components: 16\n",
      "\u001b[34m\u001b[1mwandb\u001b[0m: \trnn_type: RNN\n",
      "\u001b[34m\u001b[1mwandb\u001b[0m: \tweight_decay: 0.001\n"
     ]
    },
    {
     "data": {
      "text/html": [
       "Tracking run with wandb version 0.15.12"
      ],
      "text/plain": [
       "<IPython.core.display.HTML object>"
      ]
     },
     "metadata": {},
     "output_type": "display_data"
    },
    {
     "data": {
      "text/html": [
       "Run data is saved locally in <code>/home/zekai/repos/recast/notebooks/Zekai/hyperparameter_sweep/wandb/run-20231106_001716-ljjgo0sr</code>"
      ],
      "text/plain": [
       "<IPython.core.display.HTML object>"
      ]
     },
     "metadata": {},
     "output_type": "display_data"
    },
    {
     "data": {
      "text/html": [
       "Syncing run <strong><a href='https://wandb.ai/zekai-wang/RecurrentTPP%20on%20ANSS%20Nov%205/runs/ljjgo0sr' target=\"_blank\">happy-sweep-86</a></strong> to <a href='https://wandb.ai/zekai-wang/RecurrentTPP%20on%20ANSS%20Nov%205' target=\"_blank\">Weights & Biases</a> (<a href='https://wandb.me/run' target=\"_blank\">docs</a>)<br/>Sweep page: <a href='https://wandb.ai/zekai-wang/RecurrentTPP%20on%20ANSS%20Nov%205/sweeps/27ca0onv' target=\"_blank\">https://wandb.ai/zekai-wang/RecurrentTPP%20on%20ANSS%20Nov%205/sweeps/27ca0onv</a>"
      ],
      "text/plain": [
       "<IPython.core.display.HTML object>"
      ]
     },
     "metadata": {},
     "output_type": "display_data"
    },
    {
     "data": {
      "text/html": [
       " View project at <a href='https://wandb.ai/zekai-wang/RecurrentTPP%20on%20ANSS%20Nov%205' target=\"_blank\">https://wandb.ai/zekai-wang/RecurrentTPP%20on%20ANSS%20Nov%205</a>"
      ],
      "text/plain": [
       "<IPython.core.display.HTML object>"
      ]
     },
     "metadata": {},
     "output_type": "display_data"
    },
    {
     "data": {
      "text/html": [
       " View sweep at <a href='https://wandb.ai/zekai-wang/RecurrentTPP%20on%20ANSS%20Nov%205/sweeps/27ca0onv' target=\"_blank\">https://wandb.ai/zekai-wang/RecurrentTPP%20on%20ANSS%20Nov%205/sweeps/27ca0onv</a>"
      ],
      "text/plain": [
       "<IPython.core.display.HTML object>"
      ]
     },
     "metadata": {},
     "output_type": "display_data"
    },
    {
     "data": {
      "text/html": [
       " View run at <a href='https://wandb.ai/zekai-wang/RecurrentTPP%20on%20ANSS%20Nov%205/runs/ljjgo0sr' target=\"_blank\">https://wandb.ai/zekai-wang/RecurrentTPP%20on%20ANSS%20Nov%205/runs/ljjgo0sr</a>"
      ],
      "text/plain": [
       "<IPython.core.display.HTML object>"
      ]
     },
     "metadata": {},
     "output_type": "display_data"
    },
    {
     "data": {
      "application/vnd.jupyter.widget-view+json": {
       "model_id": "5b468b637a1e4c07bca6664748eaae88",
       "version_major": 2,
       "version_minor": 0
      },
      "text/plain": [
       "  0%|          | 0/200 [00:00<?, ?it/s]"
      ]
     },
     "metadata": {},
     "output_type": "display_data"
    },
    {
     "name": "stdout",
     "output_type": "stream",
     "text": [
      "Expected parameter scale (Tensor of shape (16, 1076, 16)) of distribution Weibull(scale: torch.Size([16, 1076, 16]), shape: torch.Size([16, 1076, 16])) to satisfy the constraint GreaterThan(lower_bound=0.0), but found invalid values:\n",
      "tensor([[[0.8850, 0.7245, 1.1577,  ..., 0.7717, 0.3603, 0.6934],\n",
      "         [   nan,    nan,    nan,  ...,    nan,    nan,    nan],\n",
      "         [   nan,    nan,    nan,  ...,    nan,    nan,    nan],\n",
      "         ...,\n",
      "         [   nan,    nan,    nan,  ...,    nan,    nan,    nan],\n",
      "         [   nan,    nan,    nan,  ...,    nan,    nan,    nan],\n",
      "         [   nan,    nan,    nan,  ...,    nan,    nan,    nan]],\n",
      "\n",
      "        [[0.8850, 0.7245, 1.1577,  ..., 0.7717, 0.3603, 0.6934],\n",
      "         [   nan,    nan,    nan,  ...,    nan,    nan,    nan],\n",
      "         [   nan,    nan,    nan,  ...,    nan,    nan,    nan],\n",
      "         ...,\n",
      "         [   nan,    nan,    nan,  ...,    nan,    nan,    nan],\n",
      "         [   nan,    nan,    nan,  ...,    nan,    nan,    nan],\n",
      "         [   nan,    nan,    nan,  ...,    nan,    nan,    nan]],\n",
      "\n",
      "        [[0.8850, 0.7245, 1.1577,  ..., 0.7717, 0.3603, 0.6934],\n",
      "         [   nan,    nan,    nan,  ...,    nan,    nan,    nan],\n",
      "         [   nan,    nan,    nan,  ...,    nan,    nan,    nan],\n",
      "         ...,\n",
      "         [   nan,    nan,    nan,  ...,    nan,    nan,    nan],\n",
      "         [   nan,    nan,    nan,  ...,    nan,    nan,    nan],\n",
      "         [   nan,    nan,    nan,  ...,    nan,    nan,    nan]],\n",
      "\n",
      "        ...,\n",
      "\n",
      "        [[0.8850, 0.7245, 1.1577,  ..., 0.7717, 0.3603, 0.6934],\n",
      "         [   nan,    nan,    nan,  ...,    nan,    nan,    nan],\n",
      "         [   nan,    nan,    nan,  ...,    nan,    nan,    nan],\n",
      "         ...,\n",
      "         [   nan,    nan,    nan,  ...,    nan,    nan,    nan],\n",
      "         [   nan,    nan,    nan,  ...,    nan,    nan,    nan],\n",
      "         [   nan,    nan,    nan,  ...,    nan,    nan,    nan]],\n",
      "\n",
      "        [[0.8850, 0.7245, 1.1577,  ..., 0.7717, 0.3603, 0.6934],\n",
      "         [   nan,    nan,    nan,  ...,    nan,    nan,    nan],\n",
      "         [   nan,    nan,    nan,  ...,    nan,    nan,    nan],\n",
      "         ...,\n",
      "         [   nan,    nan,    nan,  ...,    nan,    nan,    nan],\n",
      "         [   nan,    nan,    nan,  ...,    nan,    nan,    nan],\n",
      "         [   nan,    nan,    nan,  ...,    nan,    nan,    nan]],\n",
      "\n",
      "        [[0.8850, 0.7245, 1.1577,  ..., 0.7717, 0.3603, 0.6934],\n",
      "         [   nan,    nan,    nan,  ...,    nan,    nan,    nan],\n",
      "         [   nan,    nan,    nan,  ...,    nan,    nan,    nan],\n",
      "         ...,\n",
      "         [   nan,    nan,    nan,  ...,    nan,    nan,    nan],\n",
      "         [   nan,    nan,    nan,  ...,    nan,    nan,    nan],\n",
      "         [   nan,    nan,    nan,  ...,    nan,    nan,    nan]]],\n",
      "       device='cuda:0', grad_fn=<SoftplusBackward0>)\n"
     ]
    },
    {
     "data": {
      "text/html": [
       "Waiting for W&B process to finish... <strong style=\"color:green\">(success).</strong>"
      ],
      "text/plain": [
       "<IPython.core.display.HTML object>"
      ]
     },
     "metadata": {},
     "output_type": "display_data"
    },
    {
     "data": {
      "text/html": [
       "<style>\n",
       "    table.wandb td:nth-child(1) { padding: 0 10px; text-align: left ; width: auto;} td:nth-child(2) {text-align: left ; width: 100%}\n",
       "    .wandb-row { display: flex; flex-direction: row; flex-wrap: wrap; justify-content: flex-start; width: 100% }\n",
       "    .wandb-col { display: flex; flex-direction: column; flex-basis: 100%; flex: 1; padding: 10px; }\n",
       "    </style>\n",
       "<div class=\"wandb-row\"><div class=\"wandb-col\"><h3>Run summary:</h3><br/><table class=\"wandb\"><tr><td>avg_test_loss</td><td>nan</td></tr></table><br/></div></div>"
      ],
      "text/plain": [
       "<IPython.core.display.HTML object>"
      ]
     },
     "metadata": {},
     "output_type": "display_data"
    },
    {
     "data": {
      "text/html": [
       " View run <strong style=\"color:#cdcd00\">happy-sweep-86</strong> at: <a href='https://wandb.ai/zekai-wang/RecurrentTPP%20on%20ANSS%20Nov%205/runs/ljjgo0sr' target=\"_blank\">https://wandb.ai/zekai-wang/RecurrentTPP%20on%20ANSS%20Nov%205/runs/ljjgo0sr</a><br/>Synced 6 W&B file(s), 0 media file(s), 0 artifact file(s) and 0 other file(s)"
      ],
      "text/plain": [
       "<IPython.core.display.HTML object>"
      ]
     },
     "metadata": {},
     "output_type": "display_data"
    },
    {
     "data": {
      "text/html": [
       "Find logs at: <code>./wandb/run-20231106_001716-ljjgo0sr/logs</code>"
      ],
      "text/plain": [
       "<IPython.core.display.HTML object>"
      ]
     },
     "metadata": {},
     "output_type": "display_data"
    },
    {
     "name": "stderr",
     "output_type": "stream",
     "text": [
      "\u001b[34m\u001b[1mwandb\u001b[0m: Agent Starting Run: wymuseci with config:\n",
      "\u001b[34m\u001b[1mwandb\u001b[0m: \tbatch_size: 8\n",
      "\u001b[34m\u001b[1mwandb\u001b[0m: \tbetas: [0.9, 0.999]\n",
      "\u001b[34m\u001b[1mwandb\u001b[0m: \tcontext_size: 16\n",
      "\u001b[34m\u001b[1mwandb\u001b[0m: \tdropout_proba: 0.4\n",
      "\u001b[34m\u001b[1mwandb\u001b[0m: \tlr: 0.001\n",
      "\u001b[34m\u001b[1mwandb\u001b[0m: \tnum_components: 16\n",
      "\u001b[34m\u001b[1mwandb\u001b[0m: \trnn_type: RNN\n",
      "\u001b[34m\u001b[1mwandb\u001b[0m: \tweight_decay: 0\n"
     ]
    },
    {
     "data": {
      "text/html": [
       "Tracking run with wandb version 0.15.12"
      ],
      "text/plain": [
       "<IPython.core.display.HTML object>"
      ]
     },
     "metadata": {},
     "output_type": "display_data"
    },
    {
     "data": {
      "text/html": [
       "Run data is saved locally in <code>/home/zekai/repos/recast/notebooks/Zekai/hyperparameter_sweep/wandb/run-20231106_001746-wymuseci</code>"
      ],
      "text/plain": [
       "<IPython.core.display.HTML object>"
      ]
     },
     "metadata": {},
     "output_type": "display_data"
    },
    {
     "data": {
      "text/html": [
       "Syncing run <strong><a href='https://wandb.ai/zekai-wang/RecurrentTPP%20on%20ANSS%20Nov%205/runs/wymuseci' target=\"_blank\">bumbling-sweep-87</a></strong> to <a href='https://wandb.ai/zekai-wang/RecurrentTPP%20on%20ANSS%20Nov%205' target=\"_blank\">Weights & Biases</a> (<a href='https://wandb.me/run' target=\"_blank\">docs</a>)<br/>Sweep page: <a href='https://wandb.ai/zekai-wang/RecurrentTPP%20on%20ANSS%20Nov%205/sweeps/27ca0onv' target=\"_blank\">https://wandb.ai/zekai-wang/RecurrentTPP%20on%20ANSS%20Nov%205/sweeps/27ca0onv</a>"
      ],
      "text/plain": [
       "<IPython.core.display.HTML object>"
      ]
     },
     "metadata": {},
     "output_type": "display_data"
    },
    {
     "data": {
      "text/html": [
       " View project at <a href='https://wandb.ai/zekai-wang/RecurrentTPP%20on%20ANSS%20Nov%205' target=\"_blank\">https://wandb.ai/zekai-wang/RecurrentTPP%20on%20ANSS%20Nov%205</a>"
      ],
      "text/plain": [
       "<IPython.core.display.HTML object>"
      ]
     },
     "metadata": {},
     "output_type": "display_data"
    },
    {
     "data": {
      "text/html": [
       " View sweep at <a href='https://wandb.ai/zekai-wang/RecurrentTPP%20on%20ANSS%20Nov%205/sweeps/27ca0onv' target=\"_blank\">https://wandb.ai/zekai-wang/RecurrentTPP%20on%20ANSS%20Nov%205/sweeps/27ca0onv</a>"
      ],
      "text/plain": [
       "<IPython.core.display.HTML object>"
      ]
     },
     "metadata": {},
     "output_type": "display_data"
    },
    {
     "data": {
      "text/html": [
       " View run at <a href='https://wandb.ai/zekai-wang/RecurrentTPP%20on%20ANSS%20Nov%205/runs/wymuseci' target=\"_blank\">https://wandb.ai/zekai-wang/RecurrentTPP%20on%20ANSS%20Nov%205/runs/wymuseci</a>"
      ],
      "text/plain": [
       "<IPython.core.display.HTML object>"
      ]
     },
     "metadata": {},
     "output_type": "display_data"
    },
    {
     "data": {
      "application/vnd.jupyter.widget-view+json": {
       "model_id": "ad4f766482db460e9a56879299587b64",
       "version_major": 2,
       "version_minor": 0
      },
      "text/plain": [
       "  0%|          | 0/200 [00:00<?, ?it/s]"
      ]
     },
     "metadata": {},
     "output_type": "display_data"
    },
    {
     "data": {
      "text/html": [
       "Waiting for W&B process to finish... <strong style=\"color:green\">(success).</strong>"
      ],
      "text/plain": [
       "<IPython.core.display.HTML object>"
      ]
     },
     "metadata": {},
     "output_type": "display_data"
    },
    {
     "data": {
      "application/vnd.jupyter.widget-view+json": {
       "model_id": "9949497843ce425390b8c77c02dd67c2",
       "version_major": 2,
       "version_minor": 0
      },
      "text/plain": [
       "VBox(children=(Label(value='0.003 MB of 0.003 MB uploaded (0.000 MB deduped)\\r'), FloatProgress(value=1.0, max…"
      ]
     },
     "metadata": {},
     "output_type": "display_data"
    },
    {
     "data": {
      "text/html": [
       "<style>\n",
       "    table.wandb td:nth-child(1) { padding: 0 10px; text-align: left ; width: auto;} td:nth-child(2) {text-align: left ; width: 100%}\n",
       "    .wandb-row { display: flex; flex-direction: row; flex-wrap: wrap; justify-content: flex-start; width: 100% }\n",
       "    .wandb-col { display: flex; flex-direction: column; flex-basis: 100%; flex: 1; padding: 10px; }\n",
       "    </style>\n",
       "<div class=\"wandb-row\"><div class=\"wandb-col\"><h3>Run history:</h3><br/><table class=\"wandb\"><tr><td>avg_test_loss</td><td>▁</td></tr></table><br/></div><div class=\"wandb-col\"><h3>Run summary:</h3><br/><table class=\"wandb\"><tr><td>avg_test_loss</td><td>0.1784</td></tr></table><br/></div></div>"
      ],
      "text/plain": [
       "<IPython.core.display.HTML object>"
      ]
     },
     "metadata": {},
     "output_type": "display_data"
    },
    {
     "data": {
      "text/html": [
       " View run <strong style=\"color:#cdcd00\">bumbling-sweep-87</strong> at: <a href='https://wandb.ai/zekai-wang/RecurrentTPP%20on%20ANSS%20Nov%205/runs/wymuseci' target=\"_blank\">https://wandb.ai/zekai-wang/RecurrentTPP%20on%20ANSS%20Nov%205/runs/wymuseci</a><br/>Synced 5 W&B file(s), 0 media file(s), 0 artifact file(s) and 0 other file(s)"
      ],
      "text/plain": [
       "<IPython.core.display.HTML object>"
      ]
     },
     "metadata": {},
     "output_type": "display_data"
    },
    {
     "data": {
      "text/html": [
       "Find logs at: <code>./wandb/run-20231106_001746-wymuseci/logs</code>"
      ],
      "text/plain": [
       "<IPython.core.display.HTML object>"
      ]
     },
     "metadata": {},
     "output_type": "display_data"
    },
    {
     "name": "stderr",
     "output_type": "stream",
     "text": [
      "\u001b[34m\u001b[1mwandb\u001b[0m: Agent Starting Run: 7w0s7aqd with config:\n",
      "\u001b[34m\u001b[1mwandb\u001b[0m: \tbatch_size: 32\n",
      "\u001b[34m\u001b[1mwandb\u001b[0m: \tbetas: [0.9, 0.999]\n",
      "\u001b[34m\u001b[1mwandb\u001b[0m: \tcontext_size: 128\n",
      "\u001b[34m\u001b[1mwandb\u001b[0m: \tdropout_proba: 0.1\n",
      "\u001b[34m\u001b[1mwandb\u001b[0m: \tlr: 0.02\n",
      "\u001b[34m\u001b[1mwandb\u001b[0m: \tnum_components: 128\n",
      "\u001b[34m\u001b[1mwandb\u001b[0m: \trnn_type: LSTM\n",
      "\u001b[34m\u001b[1mwandb\u001b[0m: \tweight_decay: 0\n"
     ]
    },
    {
     "data": {
      "text/html": [
       "Tracking run with wandb version 0.15.12"
      ],
      "text/plain": [
       "<IPython.core.display.HTML object>"
      ]
     },
     "metadata": {},
     "output_type": "display_data"
    },
    {
     "data": {
      "text/html": [
       "Run data is saved locally in <code>/home/zekai/repos/recast/notebooks/Zekai/hyperparameter_sweep/wandb/run-20231106_001928-7w0s7aqd</code>"
      ],
      "text/plain": [
       "<IPython.core.display.HTML object>"
      ]
     },
     "metadata": {},
     "output_type": "display_data"
    },
    {
     "data": {
      "text/html": [
       "Syncing run <strong><a href='https://wandb.ai/zekai-wang/RecurrentTPP%20on%20ANSS%20Nov%205/runs/7w0s7aqd' target=\"_blank\">true-sweep-88</a></strong> to <a href='https://wandb.ai/zekai-wang/RecurrentTPP%20on%20ANSS%20Nov%205' target=\"_blank\">Weights & Biases</a> (<a href='https://wandb.me/run' target=\"_blank\">docs</a>)<br/>Sweep page: <a href='https://wandb.ai/zekai-wang/RecurrentTPP%20on%20ANSS%20Nov%205/sweeps/27ca0onv' target=\"_blank\">https://wandb.ai/zekai-wang/RecurrentTPP%20on%20ANSS%20Nov%205/sweeps/27ca0onv</a>"
      ],
      "text/plain": [
       "<IPython.core.display.HTML object>"
      ]
     },
     "metadata": {},
     "output_type": "display_data"
    },
    {
     "data": {
      "text/html": [
       " View project at <a href='https://wandb.ai/zekai-wang/RecurrentTPP%20on%20ANSS%20Nov%205' target=\"_blank\">https://wandb.ai/zekai-wang/RecurrentTPP%20on%20ANSS%20Nov%205</a>"
      ],
      "text/plain": [
       "<IPython.core.display.HTML object>"
      ]
     },
     "metadata": {},
     "output_type": "display_data"
    },
    {
     "data": {
      "text/html": [
       " View sweep at <a href='https://wandb.ai/zekai-wang/RecurrentTPP%20on%20ANSS%20Nov%205/sweeps/27ca0onv' target=\"_blank\">https://wandb.ai/zekai-wang/RecurrentTPP%20on%20ANSS%20Nov%205/sweeps/27ca0onv</a>"
      ],
      "text/plain": [
       "<IPython.core.display.HTML object>"
      ]
     },
     "metadata": {},
     "output_type": "display_data"
    },
    {
     "data": {
      "text/html": [
       " View run at <a href='https://wandb.ai/zekai-wang/RecurrentTPP%20on%20ANSS%20Nov%205/runs/7w0s7aqd' target=\"_blank\">https://wandb.ai/zekai-wang/RecurrentTPP%20on%20ANSS%20Nov%205/runs/7w0s7aqd</a>"
      ],
      "text/plain": [
       "<IPython.core.display.HTML object>"
      ]
     },
     "metadata": {},
     "output_type": "display_data"
    },
    {
     "data": {
      "application/vnd.jupyter.widget-view+json": {
       "model_id": "a2612150a1f14ace9df2acddd4e1a08c",
       "version_major": 2,
       "version_minor": 0
      },
      "text/plain": [
       "  0%|          | 0/200 [00:00<?, ?it/s]"
      ]
     },
     "metadata": {},
     "output_type": "display_data"
    },
    {
     "name": "stdout",
     "output_type": "stream",
     "text": [
      "Expected parameter scale (Tensor of shape (32, 2935, 128)) of distribution Weibull(scale: torch.Size([32, 2935, 128]), shape: torch.Size([32, 2935, 128])) to satisfy the constraint GreaterThan(lower_bound=0.0), but found invalid values:\n",
      "tensor([[[0.7005, 2.0533, 0.3462,  ..., 1.6893, 2.1679, 0.4387],\n",
      "         [   nan,    nan,    nan,  ...,    nan,    nan,    nan],\n",
      "         [   nan,    nan,    nan,  ...,    nan,    nan,    nan],\n",
      "         ...,\n",
      "         [   nan,    nan,    nan,  ...,    nan,    nan,    nan],\n",
      "         [   nan,    nan,    nan,  ...,    nan,    nan,    nan],\n",
      "         [   nan,    nan,    nan,  ...,    nan,    nan,    nan]],\n",
      "\n",
      "        [[0.7005, 2.0533, 0.3462,  ..., 1.6893, 2.1679, 0.4387],\n",
      "         [   nan,    nan,    nan,  ...,    nan,    nan,    nan],\n",
      "         [   nan,    nan,    nan,  ...,    nan,    nan,    nan],\n",
      "         ...,\n",
      "         [   nan,    nan,    nan,  ...,    nan,    nan,    nan],\n",
      "         [   nan,    nan,    nan,  ...,    nan,    nan,    nan],\n",
      "         [   nan,    nan,    nan,  ...,    nan,    nan,    nan]],\n",
      "\n",
      "        [[0.7005, 2.0533, 0.3462,  ..., 1.6893, 2.1679, 0.4387],\n",
      "         [   nan,    nan,    nan,  ...,    nan,    nan,    nan],\n",
      "         [   nan,    nan,    nan,  ...,    nan,    nan,    nan],\n",
      "         ...,\n",
      "         [   nan,    nan,    nan,  ...,    nan,    nan,    nan],\n",
      "         [   nan,    nan,    nan,  ...,    nan,    nan,    nan],\n",
      "         [   nan,    nan,    nan,  ...,    nan,    nan,    nan]],\n",
      "\n",
      "        ...,\n",
      "\n",
      "        [[0.7005, 2.0533, 0.3462,  ..., 1.6893, 2.1679, 0.4387],\n",
      "         [   nan,    nan,    nan,  ...,    nan,    nan,    nan],\n",
      "         [   nan,    nan,    nan,  ...,    nan,    nan,    nan],\n",
      "         ...,\n",
      "         [   nan,    nan,    nan,  ...,    nan,    nan,    nan],\n",
      "         [   nan,    nan,    nan,  ...,    nan,    nan,    nan],\n",
      "         [   nan,    nan,    nan,  ...,    nan,    nan,    nan]],\n",
      "\n",
      "        [[0.7005, 2.0533, 0.3462,  ..., 1.6893, 2.1679, 0.4387],\n",
      "         [   nan,    nan,    nan,  ...,    nan,    nan,    nan],\n",
      "         [   nan,    nan,    nan,  ...,    nan,    nan,    nan],\n",
      "         ...,\n",
      "         [   nan,    nan,    nan,  ...,    nan,    nan,    nan],\n",
      "         [   nan,    nan,    nan,  ...,    nan,    nan,    nan],\n",
      "         [   nan,    nan,    nan,  ...,    nan,    nan,    nan]],\n",
      "\n",
      "        [[0.7005, 2.0533, 0.3462,  ..., 1.6893, 2.1679, 0.4387],\n",
      "         [   nan,    nan,    nan,  ...,    nan,    nan,    nan],\n",
      "         [   nan,    nan,    nan,  ...,    nan,    nan,    nan],\n",
      "         ...,\n",
      "         [   nan,    nan,    nan,  ...,    nan,    nan,    nan],\n",
      "         [   nan,    nan,    nan,  ...,    nan,    nan,    nan],\n",
      "         [   nan,    nan,    nan,  ...,    nan,    nan,    nan]]],\n",
      "       device='cuda:0', grad_fn=<SoftplusBackward0>)\n"
     ]
    },
    {
     "data": {
      "text/html": [
       "Waiting for W&B process to finish... <strong style=\"color:green\">(success).</strong>"
      ],
      "text/plain": [
       "<IPython.core.display.HTML object>"
      ]
     },
     "metadata": {},
     "output_type": "display_data"
    },
    {
     "data": {
      "text/html": [
       "<style>\n",
       "    table.wandb td:nth-child(1) { padding: 0 10px; text-align: left ; width: auto;} td:nth-child(2) {text-align: left ; width: 100%}\n",
       "    .wandb-row { display: flex; flex-direction: row; flex-wrap: wrap; justify-content: flex-start; width: 100% }\n",
       "    .wandb-col { display: flex; flex-direction: column; flex-basis: 100%; flex: 1; padding: 10px; }\n",
       "    </style>\n",
       "<div class=\"wandb-row\"><div class=\"wandb-col\"><h3>Run summary:</h3><br/><table class=\"wandb\"><tr><td>avg_test_loss</td><td>nan</td></tr></table><br/></div></div>"
      ],
      "text/plain": [
       "<IPython.core.display.HTML object>"
      ]
     },
     "metadata": {},
     "output_type": "display_data"
    },
    {
     "data": {
      "text/html": [
       " View run <strong style=\"color:#cdcd00\">true-sweep-88</strong> at: <a href='https://wandb.ai/zekai-wang/RecurrentTPP%20on%20ANSS%20Nov%205/runs/7w0s7aqd' target=\"_blank\">https://wandb.ai/zekai-wang/RecurrentTPP%20on%20ANSS%20Nov%205/runs/7w0s7aqd</a><br/>Synced 6 W&B file(s), 0 media file(s), 0 artifact file(s) and 0 other file(s)"
      ],
      "text/plain": [
       "<IPython.core.display.HTML object>"
      ]
     },
     "metadata": {},
     "output_type": "display_data"
    },
    {
     "data": {
      "text/html": [
       "Find logs at: <code>./wandb/run-20231106_001928-7w0s7aqd/logs</code>"
      ],
      "text/plain": [
       "<IPython.core.display.HTML object>"
      ]
     },
     "metadata": {},
     "output_type": "display_data"
    },
    {
     "name": "stderr",
     "output_type": "stream",
     "text": [
      "\u001b[34m\u001b[1mwandb\u001b[0m: Agent Starting Run: qagt2a0r with config:\n",
      "\u001b[34m\u001b[1mwandb\u001b[0m: \tbatch_size: 8\n",
      "\u001b[34m\u001b[1mwandb\u001b[0m: \tbetas: [0.9, 0.999]\n",
      "\u001b[34m\u001b[1mwandb\u001b[0m: \tcontext_size: 32\n",
      "\u001b[34m\u001b[1mwandb\u001b[0m: \tdropout_proba: 0.2\n",
      "\u001b[34m\u001b[1mwandb\u001b[0m: \tlr: 0.002\n",
      "\u001b[34m\u001b[1mwandb\u001b[0m: \tnum_components: 8\n",
      "\u001b[34m\u001b[1mwandb\u001b[0m: \trnn_type: RNN\n",
      "\u001b[34m\u001b[1mwandb\u001b[0m: \tweight_decay: 0.001\n"
     ]
    },
    {
     "data": {
      "text/html": [
       "Tracking run with wandb version 0.15.12"
      ],
      "text/plain": [
       "<IPython.core.display.HTML object>"
      ]
     },
     "metadata": {},
     "output_type": "display_data"
    },
    {
     "data": {
      "text/html": [
       "Run data is saved locally in <code>/home/zekai/repos/recast/notebooks/Zekai/hyperparameter_sweep/wandb/run-20231106_002050-qagt2a0r</code>"
      ],
      "text/plain": [
       "<IPython.core.display.HTML object>"
      ]
     },
     "metadata": {},
     "output_type": "display_data"
    },
    {
     "data": {
      "text/html": [
       "Syncing run <strong><a href='https://wandb.ai/zekai-wang/RecurrentTPP%20on%20ANSS%20Nov%205/runs/qagt2a0r' target=\"_blank\">sweet-sweep-89</a></strong> to <a href='https://wandb.ai/zekai-wang/RecurrentTPP%20on%20ANSS%20Nov%205' target=\"_blank\">Weights & Biases</a> (<a href='https://wandb.me/run' target=\"_blank\">docs</a>)<br/>Sweep page: <a href='https://wandb.ai/zekai-wang/RecurrentTPP%20on%20ANSS%20Nov%205/sweeps/27ca0onv' target=\"_blank\">https://wandb.ai/zekai-wang/RecurrentTPP%20on%20ANSS%20Nov%205/sweeps/27ca0onv</a>"
      ],
      "text/plain": [
       "<IPython.core.display.HTML object>"
      ]
     },
     "metadata": {},
     "output_type": "display_data"
    },
    {
     "data": {
      "text/html": [
       " View project at <a href='https://wandb.ai/zekai-wang/RecurrentTPP%20on%20ANSS%20Nov%205' target=\"_blank\">https://wandb.ai/zekai-wang/RecurrentTPP%20on%20ANSS%20Nov%205</a>"
      ],
      "text/plain": [
       "<IPython.core.display.HTML object>"
      ]
     },
     "metadata": {},
     "output_type": "display_data"
    },
    {
     "data": {
      "text/html": [
       " View sweep at <a href='https://wandb.ai/zekai-wang/RecurrentTPP%20on%20ANSS%20Nov%205/sweeps/27ca0onv' target=\"_blank\">https://wandb.ai/zekai-wang/RecurrentTPP%20on%20ANSS%20Nov%205/sweeps/27ca0onv</a>"
      ],
      "text/plain": [
       "<IPython.core.display.HTML object>"
      ]
     },
     "metadata": {},
     "output_type": "display_data"
    },
    {
     "data": {
      "text/html": [
       " View run at <a href='https://wandb.ai/zekai-wang/RecurrentTPP%20on%20ANSS%20Nov%205/runs/qagt2a0r' target=\"_blank\">https://wandb.ai/zekai-wang/RecurrentTPP%20on%20ANSS%20Nov%205/runs/qagt2a0r</a>"
      ],
      "text/plain": [
       "<IPython.core.display.HTML object>"
      ]
     },
     "metadata": {},
     "output_type": "display_data"
    },
    {
     "data": {
      "application/vnd.jupyter.widget-view+json": {
       "model_id": "88f8a9056fe34167969fefd343fa9e6a",
       "version_major": 2,
       "version_minor": 0
      },
      "text/plain": [
       "  0%|          | 0/200 [00:00<?, ?it/s]"
      ]
     },
     "metadata": {},
     "output_type": "display_data"
    },
    {
     "data": {
      "text/html": [
       "Waiting for W&B process to finish... <strong style=\"color:green\">(success).</strong>"
      ],
      "text/plain": [
       "<IPython.core.display.HTML object>"
      ]
     },
     "metadata": {},
     "output_type": "display_data"
    },
    {
     "data": {
      "text/html": [
       "<style>\n",
       "    table.wandb td:nth-child(1) { padding: 0 10px; text-align: left ; width: auto;} td:nth-child(2) {text-align: left ; width: 100%}\n",
       "    .wandb-row { display: flex; flex-direction: row; flex-wrap: wrap; justify-content: flex-start; width: 100% }\n",
       "    .wandb-col { display: flex; flex-direction: column; flex-basis: 100%; flex: 1; padding: 10px; }\n",
       "    </style>\n",
       "<div class=\"wandb-row\"><div class=\"wandb-col\"><h3>Run history:</h3><br/><table class=\"wandb\"><tr><td>avg_test_loss</td><td>▁</td></tr></table><br/></div><div class=\"wandb-col\"><h3>Run summary:</h3><br/><table class=\"wandb\"><tr><td>avg_test_loss</td><td>0.1675</td></tr></table><br/></div></div>"
      ],
      "text/plain": [
       "<IPython.core.display.HTML object>"
      ]
     },
     "metadata": {},
     "output_type": "display_data"
    },
    {
     "data": {
      "text/html": [
       " View run <strong style=\"color:#cdcd00\">sweet-sweep-89</strong> at: <a href='https://wandb.ai/zekai-wang/RecurrentTPP%20on%20ANSS%20Nov%205/runs/qagt2a0r' target=\"_blank\">https://wandb.ai/zekai-wang/RecurrentTPP%20on%20ANSS%20Nov%205/runs/qagt2a0r</a><br/>Synced 5 W&B file(s), 0 media file(s), 0 artifact file(s) and 0 other file(s)"
      ],
      "text/plain": [
       "<IPython.core.display.HTML object>"
      ]
     },
     "metadata": {},
     "output_type": "display_data"
    },
    {
     "data": {
      "text/html": [
       "Find logs at: <code>./wandb/run-20231106_002050-qagt2a0r/logs</code>"
      ],
      "text/plain": [
       "<IPython.core.display.HTML object>"
      ]
     },
     "metadata": {},
     "output_type": "display_data"
    },
    {
     "name": "stderr",
     "output_type": "stream",
     "text": [
      "\u001b[34m\u001b[1mwandb\u001b[0m: Agent Starting Run: 05a2wrb0 with config:\n",
      "\u001b[34m\u001b[1mwandb\u001b[0m: \tbatch_size: 8\n",
      "\u001b[34m\u001b[1mwandb\u001b[0m: \tbetas: [0.9, 0.999]\n",
      "\u001b[34m\u001b[1mwandb\u001b[0m: \tcontext_size: 128\n",
      "\u001b[34m\u001b[1mwandb\u001b[0m: \tdropout_proba: 0.4\n",
      "\u001b[34m\u001b[1mwandb\u001b[0m: \tlr: 0.005\n",
      "\u001b[34m\u001b[1mwandb\u001b[0m: \tnum_components: 32\n",
      "\u001b[34m\u001b[1mwandb\u001b[0m: \trnn_type: GRU\n",
      "\u001b[34m\u001b[1mwandb\u001b[0m: \tweight_decay: 0.02\n"
     ]
    },
    {
     "data": {
      "text/html": [
       "Tracking run with wandb version 0.15.12"
      ],
      "text/plain": [
       "<IPython.core.display.HTML object>"
      ]
     },
     "metadata": {},
     "output_type": "display_data"
    },
    {
     "data": {
      "text/html": [
       "Run data is saved locally in <code>/home/zekai/repos/recast/notebooks/Zekai/hyperparameter_sweep/wandb/run-20231106_002227-05a2wrb0</code>"
      ],
      "text/plain": [
       "<IPython.core.display.HTML object>"
      ]
     },
     "metadata": {},
     "output_type": "display_data"
    },
    {
     "data": {
      "text/html": [
       "Syncing run <strong><a href='https://wandb.ai/zekai-wang/RecurrentTPP%20on%20ANSS%20Nov%205/runs/05a2wrb0' target=\"_blank\">splendid-sweep-90</a></strong> to <a href='https://wandb.ai/zekai-wang/RecurrentTPP%20on%20ANSS%20Nov%205' target=\"_blank\">Weights & Biases</a> (<a href='https://wandb.me/run' target=\"_blank\">docs</a>)<br/>Sweep page: <a href='https://wandb.ai/zekai-wang/RecurrentTPP%20on%20ANSS%20Nov%205/sweeps/27ca0onv' target=\"_blank\">https://wandb.ai/zekai-wang/RecurrentTPP%20on%20ANSS%20Nov%205/sweeps/27ca0onv</a>"
      ],
      "text/plain": [
       "<IPython.core.display.HTML object>"
      ]
     },
     "metadata": {},
     "output_type": "display_data"
    },
    {
     "data": {
      "text/html": [
       " View project at <a href='https://wandb.ai/zekai-wang/RecurrentTPP%20on%20ANSS%20Nov%205' target=\"_blank\">https://wandb.ai/zekai-wang/RecurrentTPP%20on%20ANSS%20Nov%205</a>"
      ],
      "text/plain": [
       "<IPython.core.display.HTML object>"
      ]
     },
     "metadata": {},
     "output_type": "display_data"
    },
    {
     "data": {
      "text/html": [
       " View sweep at <a href='https://wandb.ai/zekai-wang/RecurrentTPP%20on%20ANSS%20Nov%205/sweeps/27ca0onv' target=\"_blank\">https://wandb.ai/zekai-wang/RecurrentTPP%20on%20ANSS%20Nov%205/sweeps/27ca0onv</a>"
      ],
      "text/plain": [
       "<IPython.core.display.HTML object>"
      ]
     },
     "metadata": {},
     "output_type": "display_data"
    },
    {
     "data": {
      "text/html": [
       " View run at <a href='https://wandb.ai/zekai-wang/RecurrentTPP%20on%20ANSS%20Nov%205/runs/05a2wrb0' target=\"_blank\">https://wandb.ai/zekai-wang/RecurrentTPP%20on%20ANSS%20Nov%205/runs/05a2wrb0</a>"
      ],
      "text/plain": [
       "<IPython.core.display.HTML object>"
      ]
     },
     "metadata": {},
     "output_type": "display_data"
    },
    {
     "data": {
      "application/vnd.jupyter.widget-view+json": {
       "model_id": "21dcf583d3ad4f838944baa33c3d480c",
       "version_major": 2,
       "version_minor": 0
      },
      "text/plain": [
       "  0%|          | 0/200 [00:00<?, ?it/s]"
      ]
     },
     "metadata": {},
     "output_type": "display_data"
    },
    {
     "data": {
      "text/html": [
       "Waiting for W&B process to finish... <strong style=\"color:green\">(success).</strong>"
      ],
      "text/plain": [
       "<IPython.core.display.HTML object>"
      ]
     },
     "metadata": {},
     "output_type": "display_data"
    },
    {
     "data": {
      "text/html": [
       "<style>\n",
       "    table.wandb td:nth-child(1) { padding: 0 10px; text-align: left ; width: auto;} td:nth-child(2) {text-align: left ; width: 100%}\n",
       "    .wandb-row { display: flex; flex-direction: row; flex-wrap: wrap; justify-content: flex-start; width: 100% }\n",
       "    .wandb-col { display: flex; flex-direction: column; flex-basis: 100%; flex: 1; padding: 10px; }\n",
       "    </style>\n",
       "<div class=\"wandb-row\"><div class=\"wandb-col\"><h3>Run history:</h3><br/><table class=\"wandb\"><tr><td>avg_test_loss</td><td>▁</td></tr></table><br/></div><div class=\"wandb-col\"><h3>Run summary:</h3><br/><table class=\"wandb\"><tr><td>avg_test_loss</td><td>0.16737</td></tr></table><br/></div></div>"
      ],
      "text/plain": [
       "<IPython.core.display.HTML object>"
      ]
     },
     "metadata": {},
     "output_type": "display_data"
    },
    {
     "data": {
      "text/html": [
       " View run <strong style=\"color:#cdcd00\">splendid-sweep-90</strong> at: <a href='https://wandb.ai/zekai-wang/RecurrentTPP%20on%20ANSS%20Nov%205/runs/05a2wrb0' target=\"_blank\">https://wandb.ai/zekai-wang/RecurrentTPP%20on%20ANSS%20Nov%205/runs/05a2wrb0</a><br/>Synced 5 W&B file(s), 0 media file(s), 0 artifact file(s) and 0 other file(s)"
      ],
      "text/plain": [
       "<IPython.core.display.HTML object>"
      ]
     },
     "metadata": {},
     "output_type": "display_data"
    },
    {
     "data": {
      "text/html": [
       "Find logs at: <code>./wandb/run-20231106_002227-05a2wrb0/logs</code>"
      ],
      "text/plain": [
       "<IPython.core.display.HTML object>"
      ]
     },
     "metadata": {},
     "output_type": "display_data"
    },
    {
     "name": "stderr",
     "output_type": "stream",
     "text": [
      "\u001b[34m\u001b[1mwandb\u001b[0m: Agent Starting Run: ulynxvxk with config:\n",
      "\u001b[34m\u001b[1mwandb\u001b[0m: \tbatch_size: 8\n",
      "\u001b[34m\u001b[1mwandb\u001b[0m: \tbetas: [0.9, 0.999]\n",
      "\u001b[34m\u001b[1mwandb\u001b[0m: \tcontext_size: 16\n",
      "\u001b[34m\u001b[1mwandb\u001b[0m: \tdropout_proba: 0\n",
      "\u001b[34m\u001b[1mwandb\u001b[0m: \tlr: 0.02\n",
      "\u001b[34m\u001b[1mwandb\u001b[0m: \tnum_components: 8\n",
      "\u001b[34m\u001b[1mwandb\u001b[0m: \trnn_type: RNN\n",
      "\u001b[34m\u001b[1mwandb\u001b[0m: \tweight_decay: 0.001\n"
     ]
    },
    {
     "data": {
      "text/html": [
       "Tracking run with wandb version 0.15.12"
      ],
      "text/plain": [
       "<IPython.core.display.HTML object>"
      ]
     },
     "metadata": {},
     "output_type": "display_data"
    },
    {
     "data": {
      "text/html": [
       "Run data is saved locally in <code>/home/zekai/repos/recast/notebooks/Zekai/hyperparameter_sweep/wandb/run-20231106_002424-ulynxvxk</code>"
      ],
      "text/plain": [
       "<IPython.core.display.HTML object>"
      ]
     },
     "metadata": {},
     "output_type": "display_data"
    },
    {
     "data": {
      "text/html": [
       "Syncing run <strong><a href='https://wandb.ai/zekai-wang/RecurrentTPP%20on%20ANSS%20Nov%205/runs/ulynxvxk' target=\"_blank\">vibrant-sweep-91</a></strong> to <a href='https://wandb.ai/zekai-wang/RecurrentTPP%20on%20ANSS%20Nov%205' target=\"_blank\">Weights & Biases</a> (<a href='https://wandb.me/run' target=\"_blank\">docs</a>)<br/>Sweep page: <a href='https://wandb.ai/zekai-wang/RecurrentTPP%20on%20ANSS%20Nov%205/sweeps/27ca0onv' target=\"_blank\">https://wandb.ai/zekai-wang/RecurrentTPP%20on%20ANSS%20Nov%205/sweeps/27ca0onv</a>"
      ],
      "text/plain": [
       "<IPython.core.display.HTML object>"
      ]
     },
     "metadata": {},
     "output_type": "display_data"
    },
    {
     "data": {
      "text/html": [
       " View project at <a href='https://wandb.ai/zekai-wang/RecurrentTPP%20on%20ANSS%20Nov%205' target=\"_blank\">https://wandb.ai/zekai-wang/RecurrentTPP%20on%20ANSS%20Nov%205</a>"
      ],
      "text/plain": [
       "<IPython.core.display.HTML object>"
      ]
     },
     "metadata": {},
     "output_type": "display_data"
    },
    {
     "data": {
      "text/html": [
       " View sweep at <a href='https://wandb.ai/zekai-wang/RecurrentTPP%20on%20ANSS%20Nov%205/sweeps/27ca0onv' target=\"_blank\">https://wandb.ai/zekai-wang/RecurrentTPP%20on%20ANSS%20Nov%205/sweeps/27ca0onv</a>"
      ],
      "text/plain": [
       "<IPython.core.display.HTML object>"
      ]
     },
     "metadata": {},
     "output_type": "display_data"
    },
    {
     "data": {
      "text/html": [
       " View run at <a href='https://wandb.ai/zekai-wang/RecurrentTPP%20on%20ANSS%20Nov%205/runs/ulynxvxk' target=\"_blank\">https://wandb.ai/zekai-wang/RecurrentTPP%20on%20ANSS%20Nov%205/runs/ulynxvxk</a>"
      ],
      "text/plain": [
       "<IPython.core.display.HTML object>"
      ]
     },
     "metadata": {},
     "output_type": "display_data"
    },
    {
     "data": {
      "application/vnd.jupyter.widget-view+json": {
       "model_id": "c2dcd0dfb1d444d9bf6c9b8908610948",
       "version_major": 2,
       "version_minor": 0
      },
      "text/plain": [
       "  0%|          | 0/200 [00:00<?, ?it/s]"
      ]
     },
     "metadata": {},
     "output_type": "display_data"
    },
    {
     "data": {
      "text/html": [
       "Waiting for W&B process to finish... <strong style=\"color:green\">(success).</strong>"
      ],
      "text/plain": [
       "<IPython.core.display.HTML object>"
      ]
     },
     "metadata": {},
     "output_type": "display_data"
    },
    {
     "data": {
      "text/html": [
       "<style>\n",
       "    table.wandb td:nth-child(1) { padding: 0 10px; text-align: left ; width: auto;} td:nth-child(2) {text-align: left ; width: 100%}\n",
       "    .wandb-row { display: flex; flex-direction: row; flex-wrap: wrap; justify-content: flex-start; width: 100% }\n",
       "    .wandb-col { display: flex; flex-direction: column; flex-basis: 100%; flex: 1; padding: 10px; }\n",
       "    </style>\n",
       "<div class=\"wandb-row\"><div class=\"wandb-col\"><h3>Run history:</h3><br/><table class=\"wandb\"><tr><td>avg_test_loss</td><td>▁</td></tr></table><br/></div><div class=\"wandb-col\"><h3>Run summary:</h3><br/><table class=\"wandb\"><tr><td>avg_test_loss</td><td>0.21121</td></tr></table><br/></div></div>"
      ],
      "text/plain": [
       "<IPython.core.display.HTML object>"
      ]
     },
     "metadata": {},
     "output_type": "display_data"
    },
    {
     "data": {
      "text/html": [
       " View run <strong style=\"color:#cdcd00\">vibrant-sweep-91</strong> at: <a href='https://wandb.ai/zekai-wang/RecurrentTPP%20on%20ANSS%20Nov%205/runs/ulynxvxk' target=\"_blank\">https://wandb.ai/zekai-wang/RecurrentTPP%20on%20ANSS%20Nov%205/runs/ulynxvxk</a><br/>Synced 5 W&B file(s), 0 media file(s), 0 artifact file(s) and 0 other file(s)"
      ],
      "text/plain": [
       "<IPython.core.display.HTML object>"
      ]
     },
     "metadata": {},
     "output_type": "display_data"
    },
    {
     "data": {
      "text/html": [
       "Find logs at: <code>./wandb/run-20231106_002424-ulynxvxk/logs</code>"
      ],
      "text/plain": [
       "<IPython.core.display.HTML object>"
      ]
     },
     "metadata": {},
     "output_type": "display_data"
    },
    {
     "name": "stderr",
     "output_type": "stream",
     "text": [
      "\u001b[34m\u001b[1mwandb\u001b[0m: Agent Starting Run: qai6jklj with config:\n",
      "\u001b[34m\u001b[1mwandb\u001b[0m: \tbatch_size: 128\n",
      "\u001b[34m\u001b[1mwandb\u001b[0m: \tbetas: [0.9, 0.999]\n",
      "\u001b[34m\u001b[1mwandb\u001b[0m: \tcontext_size: 64\n",
      "\u001b[34m\u001b[1mwandb\u001b[0m: \tdropout_proba: 0.1\n",
      "\u001b[34m\u001b[1mwandb\u001b[0m: \tlr: 0.01\n",
      "\u001b[34m\u001b[1mwandb\u001b[0m: \tnum_components: 64\n",
      "\u001b[34m\u001b[1mwandb\u001b[0m: \trnn_type: RNN\n",
      "\u001b[34m\u001b[1mwandb\u001b[0m: \tweight_decay: 0.005\n"
     ]
    },
    {
     "data": {
      "text/html": [
       "Tracking run with wandb version 0.15.12"
      ],
      "text/plain": [
       "<IPython.core.display.HTML object>"
      ]
     },
     "metadata": {},
     "output_type": "display_data"
    },
    {
     "data": {
      "text/html": [
       "Run data is saved locally in <code>/home/zekai/repos/recast/notebooks/Zekai/hyperparameter_sweep/wandb/run-20231106_002601-qai6jklj</code>"
      ],
      "text/plain": [
       "<IPython.core.display.HTML object>"
      ]
     },
     "metadata": {},
     "output_type": "display_data"
    },
    {
     "data": {
      "text/html": [
       "Syncing run <strong><a href='https://wandb.ai/zekai-wang/RecurrentTPP%20on%20ANSS%20Nov%205/runs/qai6jklj' target=\"_blank\">true-sweep-92</a></strong> to <a href='https://wandb.ai/zekai-wang/RecurrentTPP%20on%20ANSS%20Nov%205' target=\"_blank\">Weights & Biases</a> (<a href='https://wandb.me/run' target=\"_blank\">docs</a>)<br/>Sweep page: <a href='https://wandb.ai/zekai-wang/RecurrentTPP%20on%20ANSS%20Nov%205/sweeps/27ca0onv' target=\"_blank\">https://wandb.ai/zekai-wang/RecurrentTPP%20on%20ANSS%20Nov%205/sweeps/27ca0onv</a>"
      ],
      "text/plain": [
       "<IPython.core.display.HTML object>"
      ]
     },
     "metadata": {},
     "output_type": "display_data"
    },
    {
     "data": {
      "text/html": [
       " View project at <a href='https://wandb.ai/zekai-wang/RecurrentTPP%20on%20ANSS%20Nov%205' target=\"_blank\">https://wandb.ai/zekai-wang/RecurrentTPP%20on%20ANSS%20Nov%205</a>"
      ],
      "text/plain": [
       "<IPython.core.display.HTML object>"
      ]
     },
     "metadata": {},
     "output_type": "display_data"
    },
    {
     "data": {
      "text/html": [
       " View sweep at <a href='https://wandb.ai/zekai-wang/RecurrentTPP%20on%20ANSS%20Nov%205/sweeps/27ca0onv' target=\"_blank\">https://wandb.ai/zekai-wang/RecurrentTPP%20on%20ANSS%20Nov%205/sweeps/27ca0onv</a>"
      ],
      "text/plain": [
       "<IPython.core.display.HTML object>"
      ]
     },
     "metadata": {},
     "output_type": "display_data"
    },
    {
     "data": {
      "text/html": [
       " View run at <a href='https://wandb.ai/zekai-wang/RecurrentTPP%20on%20ANSS%20Nov%205/runs/qai6jklj' target=\"_blank\">https://wandb.ai/zekai-wang/RecurrentTPP%20on%20ANSS%20Nov%205/runs/qai6jklj</a>"
      ],
      "text/plain": [
       "<IPython.core.display.HTML object>"
      ]
     },
     "metadata": {},
     "output_type": "display_data"
    },
    {
     "data": {
      "application/vnd.jupyter.widget-view+json": {
       "model_id": "fb5c1d0325954e6db496a82fa612ca29",
       "version_major": 2,
       "version_minor": 0
      },
      "text/plain": [
       "  0%|          | 0/200 [00:00<?, ?it/s]"
      ]
     },
     "metadata": {},
     "output_type": "display_data"
    },
    {
     "data": {
      "text/html": [
       "Waiting for W&B process to finish... <strong style=\"color:green\">(success).</strong>"
      ],
      "text/plain": [
       "<IPython.core.display.HTML object>"
      ]
     },
     "metadata": {},
     "output_type": "display_data"
    },
    {
     "data": {
      "text/html": [
       "<style>\n",
       "    table.wandb td:nth-child(1) { padding: 0 10px; text-align: left ; width: auto;} td:nth-child(2) {text-align: left ; width: 100%}\n",
       "    .wandb-row { display: flex; flex-direction: row; flex-wrap: wrap; justify-content: flex-start; width: 100% }\n",
       "    .wandb-col { display: flex; flex-direction: column; flex-basis: 100%; flex: 1; padding: 10px; }\n",
       "    </style>\n",
       "<div class=\"wandb-row\"><div class=\"wandb-col\"><h3>Run history:</h3><br/><table class=\"wandb\"><tr><td>avg_test_loss</td><td>▁</td></tr></table><br/></div><div class=\"wandb-col\"><h3>Run summary:</h3><br/><table class=\"wandb\"><tr><td>avg_test_loss</td><td>0.18282</td></tr></table><br/></div></div>"
      ],
      "text/plain": [
       "<IPython.core.display.HTML object>"
      ]
     },
     "metadata": {},
     "output_type": "display_data"
    },
    {
     "data": {
      "text/html": [
       " View run <strong style=\"color:#cdcd00\">true-sweep-92</strong> at: <a href='https://wandb.ai/zekai-wang/RecurrentTPP%20on%20ANSS%20Nov%205/runs/qai6jklj' target=\"_blank\">https://wandb.ai/zekai-wang/RecurrentTPP%20on%20ANSS%20Nov%205/runs/qai6jklj</a><br/>Synced 5 W&B file(s), 0 media file(s), 0 artifact file(s) and 0 other file(s)"
      ],
      "text/plain": [
       "<IPython.core.display.HTML object>"
      ]
     },
     "metadata": {},
     "output_type": "display_data"
    },
    {
     "data": {
      "text/html": [
       "Find logs at: <code>./wandb/run-20231106_002601-qai6jklj/logs</code>"
      ],
      "text/plain": [
       "<IPython.core.display.HTML object>"
      ]
     },
     "metadata": {},
     "output_type": "display_data"
    },
    {
     "name": "stderr",
     "output_type": "stream",
     "text": [
      "\u001b[34m\u001b[1mwandb\u001b[0m: Agent Starting Run: fu5mjuao with config:\n",
      "\u001b[34m\u001b[1mwandb\u001b[0m: \tbatch_size: 32\n",
      "\u001b[34m\u001b[1mwandb\u001b[0m: \tbetas: [0.9, 0.999]\n",
      "\u001b[34m\u001b[1mwandb\u001b[0m: \tcontext_size: 32\n",
      "\u001b[34m\u001b[1mwandb\u001b[0m: \tdropout_proba: 0.4\n",
      "\u001b[34m\u001b[1mwandb\u001b[0m: \tlr: 0.002\n",
      "\u001b[34m\u001b[1mwandb\u001b[0m: \tnum_components: 128\n",
      "\u001b[34m\u001b[1mwandb\u001b[0m: \trnn_type: LSTM\n",
      "\u001b[34m\u001b[1mwandb\u001b[0m: \tweight_decay: 0.05\n"
     ]
    },
    {
     "data": {
      "text/html": [
       "Tracking run with wandb version 0.15.12"
      ],
      "text/plain": [
       "<IPython.core.display.HTML object>"
      ]
     },
     "metadata": {},
     "output_type": "display_data"
    },
    {
     "data": {
      "text/html": [
       "Run data is saved locally in <code>/home/zekai/repos/recast/notebooks/Zekai/hyperparameter_sweep/wandb/run-20231106_002722-fu5mjuao</code>"
      ],
      "text/plain": [
       "<IPython.core.display.HTML object>"
      ]
     },
     "metadata": {},
     "output_type": "display_data"
    },
    {
     "data": {
      "text/html": [
       "Syncing run <strong><a href='https://wandb.ai/zekai-wang/RecurrentTPP%20on%20ANSS%20Nov%205/runs/fu5mjuao' target=\"_blank\">hopeful-sweep-93</a></strong> to <a href='https://wandb.ai/zekai-wang/RecurrentTPP%20on%20ANSS%20Nov%205' target=\"_blank\">Weights & Biases</a> (<a href='https://wandb.me/run' target=\"_blank\">docs</a>)<br/>Sweep page: <a href='https://wandb.ai/zekai-wang/RecurrentTPP%20on%20ANSS%20Nov%205/sweeps/27ca0onv' target=\"_blank\">https://wandb.ai/zekai-wang/RecurrentTPP%20on%20ANSS%20Nov%205/sweeps/27ca0onv</a>"
      ],
      "text/plain": [
       "<IPython.core.display.HTML object>"
      ]
     },
     "metadata": {},
     "output_type": "display_data"
    },
    {
     "data": {
      "text/html": [
       " View project at <a href='https://wandb.ai/zekai-wang/RecurrentTPP%20on%20ANSS%20Nov%205' target=\"_blank\">https://wandb.ai/zekai-wang/RecurrentTPP%20on%20ANSS%20Nov%205</a>"
      ],
      "text/plain": [
       "<IPython.core.display.HTML object>"
      ]
     },
     "metadata": {},
     "output_type": "display_data"
    },
    {
     "data": {
      "text/html": [
       " View sweep at <a href='https://wandb.ai/zekai-wang/RecurrentTPP%20on%20ANSS%20Nov%205/sweeps/27ca0onv' target=\"_blank\">https://wandb.ai/zekai-wang/RecurrentTPP%20on%20ANSS%20Nov%205/sweeps/27ca0onv</a>"
      ],
      "text/plain": [
       "<IPython.core.display.HTML object>"
      ]
     },
     "metadata": {},
     "output_type": "display_data"
    },
    {
     "data": {
      "text/html": [
       " View run at <a href='https://wandb.ai/zekai-wang/RecurrentTPP%20on%20ANSS%20Nov%205/runs/fu5mjuao' target=\"_blank\">https://wandb.ai/zekai-wang/RecurrentTPP%20on%20ANSS%20Nov%205/runs/fu5mjuao</a>"
      ],
      "text/plain": [
       "<IPython.core.display.HTML object>"
      ]
     },
     "metadata": {},
     "output_type": "display_data"
    },
    {
     "data": {
      "application/vnd.jupyter.widget-view+json": {
       "model_id": "f07cfd0327b34cfeb7cd4c8a46eaff5a",
       "version_major": 2,
       "version_minor": 0
      },
      "text/plain": [
       "  0%|          | 0/200 [00:00<?, ?it/s]"
      ]
     },
     "metadata": {},
     "output_type": "display_data"
    },
    {
     "data": {
      "text/html": [
       "Waiting for W&B process to finish... <strong style=\"color:green\">(success).</strong>"
      ],
      "text/plain": [
       "<IPython.core.display.HTML object>"
      ]
     },
     "metadata": {},
     "output_type": "display_data"
    },
    {
     "data": {
      "text/html": [
       "<style>\n",
       "    table.wandb td:nth-child(1) { padding: 0 10px; text-align: left ; width: auto;} td:nth-child(2) {text-align: left ; width: 100%}\n",
       "    .wandb-row { display: flex; flex-direction: row; flex-wrap: wrap; justify-content: flex-start; width: 100% }\n",
       "    .wandb-col { display: flex; flex-direction: column; flex-basis: 100%; flex: 1; padding: 10px; }\n",
       "    </style>\n",
       "<div class=\"wandb-row\"><div class=\"wandb-col\"><h3>Run history:</h3><br/><table class=\"wandb\"><tr><td>avg_test_loss</td><td>▁</td></tr></table><br/></div><div class=\"wandb-col\"><h3>Run summary:</h3><br/><table class=\"wandb\"><tr><td>avg_test_loss</td><td>0.16446</td></tr></table><br/></div></div>"
      ],
      "text/plain": [
       "<IPython.core.display.HTML object>"
      ]
     },
     "metadata": {},
     "output_type": "display_data"
    },
    {
     "data": {
      "text/html": [
       " View run <strong style=\"color:#cdcd00\">hopeful-sweep-93</strong> at: <a href='https://wandb.ai/zekai-wang/RecurrentTPP%20on%20ANSS%20Nov%205/runs/fu5mjuao' target=\"_blank\">https://wandb.ai/zekai-wang/RecurrentTPP%20on%20ANSS%20Nov%205/runs/fu5mjuao</a><br/>Synced 5 W&B file(s), 0 media file(s), 0 artifact file(s) and 0 other file(s)"
      ],
      "text/plain": [
       "<IPython.core.display.HTML object>"
      ]
     },
     "metadata": {},
     "output_type": "display_data"
    },
    {
     "data": {
      "text/html": [
       "Find logs at: <code>./wandb/run-20231106_002722-fu5mjuao/logs</code>"
      ],
      "text/plain": [
       "<IPython.core.display.HTML object>"
      ]
     },
     "metadata": {},
     "output_type": "display_data"
    },
    {
     "name": "stderr",
     "output_type": "stream",
     "text": [
      "\u001b[34m\u001b[1mwandb\u001b[0m: Agent Starting Run: e9xa1txo with config:\n",
      "\u001b[34m\u001b[1mwandb\u001b[0m: \tbatch_size: 8\n",
      "\u001b[34m\u001b[1mwandb\u001b[0m: \tbetas: [0.9, 0.999]\n",
      "\u001b[34m\u001b[1mwandb\u001b[0m: \tcontext_size: 32\n",
      "\u001b[34m\u001b[1mwandb\u001b[0m: \tdropout_proba: 0.1\n",
      "\u001b[34m\u001b[1mwandb\u001b[0m: \tlr: 0.02\n",
      "\u001b[34m\u001b[1mwandb\u001b[0m: \tnum_components: 128\n",
      "\u001b[34m\u001b[1mwandb\u001b[0m: \trnn_type: RNN\n",
      "\u001b[34m\u001b[1mwandb\u001b[0m: \tweight_decay: 0\n"
     ]
    },
    {
     "data": {
      "text/html": [
       "Tracking run with wandb version 0.15.12"
      ],
      "text/plain": [
       "<IPython.core.display.HTML object>"
      ]
     },
     "metadata": {},
     "output_type": "display_data"
    },
    {
     "data": {
      "text/html": [
       "Run data is saved locally in <code>/home/zekai/repos/recast/notebooks/Zekai/hyperparameter_sweep/wandb/run-20231106_002854-e9xa1txo</code>"
      ],
      "text/plain": [
       "<IPython.core.display.HTML object>"
      ]
     },
     "metadata": {},
     "output_type": "display_data"
    },
    {
     "data": {
      "text/html": [
       "Syncing run <strong><a href='https://wandb.ai/zekai-wang/RecurrentTPP%20on%20ANSS%20Nov%205/runs/e9xa1txo' target=\"_blank\">smooth-sweep-94</a></strong> to <a href='https://wandb.ai/zekai-wang/RecurrentTPP%20on%20ANSS%20Nov%205' target=\"_blank\">Weights & Biases</a> (<a href='https://wandb.me/run' target=\"_blank\">docs</a>)<br/>Sweep page: <a href='https://wandb.ai/zekai-wang/RecurrentTPP%20on%20ANSS%20Nov%205/sweeps/27ca0onv' target=\"_blank\">https://wandb.ai/zekai-wang/RecurrentTPP%20on%20ANSS%20Nov%205/sweeps/27ca0onv</a>"
      ],
      "text/plain": [
       "<IPython.core.display.HTML object>"
      ]
     },
     "metadata": {},
     "output_type": "display_data"
    },
    {
     "data": {
      "text/html": [
       " View project at <a href='https://wandb.ai/zekai-wang/RecurrentTPP%20on%20ANSS%20Nov%205' target=\"_blank\">https://wandb.ai/zekai-wang/RecurrentTPP%20on%20ANSS%20Nov%205</a>"
      ],
      "text/plain": [
       "<IPython.core.display.HTML object>"
      ]
     },
     "metadata": {},
     "output_type": "display_data"
    },
    {
     "data": {
      "text/html": [
       " View sweep at <a href='https://wandb.ai/zekai-wang/RecurrentTPP%20on%20ANSS%20Nov%205/sweeps/27ca0onv' target=\"_blank\">https://wandb.ai/zekai-wang/RecurrentTPP%20on%20ANSS%20Nov%205/sweeps/27ca0onv</a>"
      ],
      "text/plain": [
       "<IPython.core.display.HTML object>"
      ]
     },
     "metadata": {},
     "output_type": "display_data"
    },
    {
     "data": {
      "text/html": [
       " View run at <a href='https://wandb.ai/zekai-wang/RecurrentTPP%20on%20ANSS%20Nov%205/runs/e9xa1txo' target=\"_blank\">https://wandb.ai/zekai-wang/RecurrentTPP%20on%20ANSS%20Nov%205/runs/e9xa1txo</a>"
      ],
      "text/plain": [
       "<IPython.core.display.HTML object>"
      ]
     },
     "metadata": {},
     "output_type": "display_data"
    },
    {
     "data": {
      "application/vnd.jupyter.widget-view+json": {
       "model_id": "91958bcb12d1457693abf1b34823a3c1",
       "version_major": 2,
       "version_minor": 0
      },
      "text/plain": [
       "  0%|          | 0/200 [00:00<?, ?it/s]"
      ]
     },
     "metadata": {},
     "output_type": "display_data"
    },
    {
     "name": "stdout",
     "output_type": "stream",
     "text": [
      "Expected parameter scale (Tensor of shape (8, 498, 128)) of distribution Weibull(scale: torch.Size([8, 498, 128]), shape: torch.Size([8, 498, 128])) to satisfy the constraint GreaterThan(lower_bound=0.0), but found invalid values:\n",
      "tensor([[[1.0279, 0.5652, 0.6934,  ..., 0.4409, 0.2124, 1.2281],\n",
      "         [   nan,    nan,    nan,  ...,    nan,    nan,    nan],\n",
      "         [   nan,    nan,    nan,  ...,    nan,    nan,    nan],\n",
      "         ...,\n",
      "         [   nan,    nan,    nan,  ...,    nan,    nan,    nan],\n",
      "         [   nan,    nan,    nan,  ...,    nan,    nan,    nan],\n",
      "         [   nan,    nan,    nan,  ...,    nan,    nan,    nan]],\n",
      "\n",
      "        [[1.0279, 0.5652, 0.6934,  ..., 0.4409, 0.2124, 1.2281],\n",
      "         [   nan,    nan,    nan,  ...,    nan,    nan,    nan],\n",
      "         [   nan,    nan,    nan,  ...,    nan,    nan,    nan],\n",
      "         ...,\n",
      "         [   nan,    nan,    nan,  ...,    nan,    nan,    nan],\n",
      "         [   nan,    nan,    nan,  ...,    nan,    nan,    nan],\n",
      "         [   nan,    nan,    nan,  ...,    nan,    nan,    nan]],\n",
      "\n",
      "        [[1.0279, 0.5652, 0.6934,  ..., 0.4409, 0.2124, 1.2281],\n",
      "         [   nan,    nan,    nan,  ...,    nan,    nan,    nan],\n",
      "         [   nan,    nan,    nan,  ...,    nan,    nan,    nan],\n",
      "         ...,\n",
      "         [   nan,    nan,    nan,  ...,    nan,    nan,    nan],\n",
      "         [   nan,    nan,    nan,  ...,    nan,    nan,    nan],\n",
      "         [   nan,    nan,    nan,  ...,    nan,    nan,    nan]],\n",
      "\n",
      "        ...,\n",
      "\n",
      "        [[1.0279, 0.5652, 0.6934,  ..., 0.4409, 0.2124, 1.2281],\n",
      "         [   nan,    nan,    nan,  ...,    nan,    nan,    nan],\n",
      "         [   nan,    nan,    nan,  ...,    nan,    nan,    nan],\n",
      "         ...,\n",
      "         [   nan,    nan,    nan,  ...,    nan,    nan,    nan],\n",
      "         [   nan,    nan,    nan,  ...,    nan,    nan,    nan],\n",
      "         [   nan,    nan,    nan,  ...,    nan,    nan,    nan]],\n",
      "\n",
      "        [[1.0279, 0.5652, 0.6934,  ..., 0.4409, 0.2124, 1.2281],\n",
      "         [   nan,    nan,    nan,  ...,    nan,    nan,    nan],\n",
      "         [   nan,    nan,    nan,  ...,    nan,    nan,    nan],\n",
      "         ...,\n",
      "         [   nan,    nan,    nan,  ...,    nan,    nan,    nan],\n",
      "         [   nan,    nan,    nan,  ...,    nan,    nan,    nan],\n",
      "         [   nan,    nan,    nan,  ...,    nan,    nan,    nan]],\n",
      "\n",
      "        [[1.0279, 0.5652, 0.6934,  ..., 0.4409, 0.2124, 1.2281],\n",
      "         [   nan,    nan,    nan,  ...,    nan,    nan,    nan],\n",
      "         [   nan,    nan,    nan,  ...,    nan,    nan,    nan],\n",
      "         ...,\n",
      "         [   nan,    nan,    nan,  ...,    nan,    nan,    nan],\n",
      "         [   nan,    nan,    nan,  ...,    nan,    nan,    nan],\n",
      "         [   nan,    nan,    nan,  ...,    nan,    nan,    nan]]],\n",
      "       device='cuda:0', grad_fn=<SoftplusBackward0>)\n"
     ]
    },
    {
     "data": {
      "text/html": [
       "Waiting for W&B process to finish... <strong style=\"color:green\">(success).</strong>"
      ],
      "text/plain": [
       "<IPython.core.display.HTML object>"
      ]
     },
     "metadata": {},
     "output_type": "display_data"
    },
    {
     "data": {
      "text/html": [
       "<style>\n",
       "    table.wandb td:nth-child(1) { padding: 0 10px; text-align: left ; width: auto;} td:nth-child(2) {text-align: left ; width: 100%}\n",
       "    .wandb-row { display: flex; flex-direction: row; flex-wrap: wrap; justify-content: flex-start; width: 100% }\n",
       "    .wandb-col { display: flex; flex-direction: column; flex-basis: 100%; flex: 1; padding: 10px; }\n",
       "    </style>\n",
       "<div class=\"wandb-row\"><div class=\"wandb-col\"><h3>Run summary:</h3><br/><table class=\"wandb\"><tr><td>avg_test_loss</td><td>nan</td></tr></table><br/></div></div>"
      ],
      "text/plain": [
       "<IPython.core.display.HTML object>"
      ]
     },
     "metadata": {},
     "output_type": "display_data"
    },
    {
     "data": {
      "text/html": [
       " View run <strong style=\"color:#cdcd00\">smooth-sweep-94</strong> at: <a href='https://wandb.ai/zekai-wang/RecurrentTPP%20on%20ANSS%20Nov%205/runs/e9xa1txo' target=\"_blank\">https://wandb.ai/zekai-wang/RecurrentTPP%20on%20ANSS%20Nov%205/runs/e9xa1txo</a><br/>Synced 6 W&B file(s), 0 media file(s), 0 artifact file(s) and 0 other file(s)"
      ],
      "text/plain": [
       "<IPython.core.display.HTML object>"
      ]
     },
     "metadata": {},
     "output_type": "display_data"
    },
    {
     "data": {
      "text/html": [
       "Find logs at: <code>./wandb/run-20231106_002854-e9xa1txo/logs</code>"
      ],
      "text/plain": [
       "<IPython.core.display.HTML object>"
      ]
     },
     "metadata": {},
     "output_type": "display_data"
    },
    {
     "name": "stderr",
     "output_type": "stream",
     "text": [
      "\u001b[34m\u001b[1mwandb\u001b[0m: Agent Starting Run: 1bb0sd4b with config:\n",
      "\u001b[34m\u001b[1mwandb\u001b[0m: \tbatch_size: 8\n",
      "\u001b[34m\u001b[1mwandb\u001b[0m: \tbetas: [0.9, 0.999]\n",
      "\u001b[34m\u001b[1mwandb\u001b[0m: \tcontext_size: 8\n",
      "\u001b[34m\u001b[1mwandb\u001b[0m: \tdropout_proba: 0.1\n",
      "\u001b[34m\u001b[1mwandb\u001b[0m: \tlr: 0.01\n",
      "\u001b[34m\u001b[1mwandb\u001b[0m: \tnum_components: 8\n",
      "\u001b[34m\u001b[1mwandb\u001b[0m: \trnn_type: RNN\n",
      "\u001b[34m\u001b[1mwandb\u001b[0m: \tweight_decay: 0.002\n"
     ]
    },
    {
     "data": {
      "text/html": [
       "Tracking run with wandb version 0.15.12"
      ],
      "text/plain": [
       "<IPython.core.display.HTML object>"
      ]
     },
     "metadata": {},
     "output_type": "display_data"
    },
    {
     "data": {
      "text/html": [
       "Run data is saved locally in <code>/home/zekai/repos/recast/notebooks/Zekai/hyperparameter_sweep/wandb/run-20231106_002925-1bb0sd4b</code>"
      ],
      "text/plain": [
       "<IPython.core.display.HTML object>"
      ]
     },
     "metadata": {},
     "output_type": "display_data"
    },
    {
     "data": {
      "text/html": [
       "Syncing run <strong><a href='https://wandb.ai/zekai-wang/RecurrentTPP%20on%20ANSS%20Nov%205/runs/1bb0sd4b' target=\"_blank\">fluent-sweep-95</a></strong> to <a href='https://wandb.ai/zekai-wang/RecurrentTPP%20on%20ANSS%20Nov%205' target=\"_blank\">Weights & Biases</a> (<a href='https://wandb.me/run' target=\"_blank\">docs</a>)<br/>Sweep page: <a href='https://wandb.ai/zekai-wang/RecurrentTPP%20on%20ANSS%20Nov%205/sweeps/27ca0onv' target=\"_blank\">https://wandb.ai/zekai-wang/RecurrentTPP%20on%20ANSS%20Nov%205/sweeps/27ca0onv</a>"
      ],
      "text/plain": [
       "<IPython.core.display.HTML object>"
      ]
     },
     "metadata": {},
     "output_type": "display_data"
    },
    {
     "data": {
      "text/html": [
       " View project at <a href='https://wandb.ai/zekai-wang/RecurrentTPP%20on%20ANSS%20Nov%205' target=\"_blank\">https://wandb.ai/zekai-wang/RecurrentTPP%20on%20ANSS%20Nov%205</a>"
      ],
      "text/plain": [
       "<IPython.core.display.HTML object>"
      ]
     },
     "metadata": {},
     "output_type": "display_data"
    },
    {
     "data": {
      "text/html": [
       " View sweep at <a href='https://wandb.ai/zekai-wang/RecurrentTPP%20on%20ANSS%20Nov%205/sweeps/27ca0onv' target=\"_blank\">https://wandb.ai/zekai-wang/RecurrentTPP%20on%20ANSS%20Nov%205/sweeps/27ca0onv</a>"
      ],
      "text/plain": [
       "<IPython.core.display.HTML object>"
      ]
     },
     "metadata": {},
     "output_type": "display_data"
    },
    {
     "data": {
      "text/html": [
       " View run at <a href='https://wandb.ai/zekai-wang/RecurrentTPP%20on%20ANSS%20Nov%205/runs/1bb0sd4b' target=\"_blank\">https://wandb.ai/zekai-wang/RecurrentTPP%20on%20ANSS%20Nov%205/runs/1bb0sd4b</a>"
      ],
      "text/plain": [
       "<IPython.core.display.HTML object>"
      ]
     },
     "metadata": {},
     "output_type": "display_data"
    },
    {
     "data": {
      "application/vnd.jupyter.widget-view+json": {
       "model_id": "b3c3b7539cb04ee7ba416c65371968c4",
       "version_major": 2,
       "version_minor": 0
      },
      "text/plain": [
       "  0%|          | 0/200 [00:00<?, ?it/s]"
      ]
     },
     "metadata": {},
     "output_type": "display_data"
    },
    {
     "data": {
      "text/html": [
       "Waiting for W&B process to finish... <strong style=\"color:green\">(success).</strong>"
      ],
      "text/plain": [
       "<IPython.core.display.HTML object>"
      ]
     },
     "metadata": {},
     "output_type": "display_data"
    },
    {
     "data": {
      "text/html": [
       "<style>\n",
       "    table.wandb td:nth-child(1) { padding: 0 10px; text-align: left ; width: auto;} td:nth-child(2) {text-align: left ; width: 100%}\n",
       "    .wandb-row { display: flex; flex-direction: row; flex-wrap: wrap; justify-content: flex-start; width: 100% }\n",
       "    .wandb-col { display: flex; flex-direction: column; flex-basis: 100%; flex: 1; padding: 10px; }\n",
       "    </style>\n",
       "<div class=\"wandb-row\"><div class=\"wandb-col\"><h3>Run history:</h3><br/><table class=\"wandb\"><tr><td>avg_test_loss</td><td>▁</td></tr></table><br/></div><div class=\"wandb-col\"><h3>Run summary:</h3><br/><table class=\"wandb\"><tr><td>avg_test_loss</td><td>0.18028</td></tr></table><br/></div></div>"
      ],
      "text/plain": [
       "<IPython.core.display.HTML object>"
      ]
     },
     "metadata": {},
     "output_type": "display_data"
    },
    {
     "data": {
      "text/html": [
       " View run <strong style=\"color:#cdcd00\">fluent-sweep-95</strong> at: <a href='https://wandb.ai/zekai-wang/RecurrentTPP%20on%20ANSS%20Nov%205/runs/1bb0sd4b' target=\"_blank\">https://wandb.ai/zekai-wang/RecurrentTPP%20on%20ANSS%20Nov%205/runs/1bb0sd4b</a><br/>Synced 5 W&B file(s), 0 media file(s), 0 artifact file(s) and 0 other file(s)"
      ],
      "text/plain": [
       "<IPython.core.display.HTML object>"
      ]
     },
     "metadata": {},
     "output_type": "display_data"
    },
    {
     "data": {
      "text/html": [
       "Find logs at: <code>./wandb/run-20231106_002925-1bb0sd4b/logs</code>"
      ],
      "text/plain": [
       "<IPython.core.display.HTML object>"
      ]
     },
     "metadata": {},
     "output_type": "display_data"
    },
    {
     "name": "stderr",
     "output_type": "stream",
     "text": [
      "\u001b[34m\u001b[1mwandb\u001b[0m: Agent Starting Run: f66fkv4r with config:\n",
      "\u001b[34m\u001b[1mwandb\u001b[0m: \tbatch_size: 16\n",
      "\u001b[34m\u001b[1mwandb\u001b[0m: \tbetas: [0.9, 0.999]\n",
      "\u001b[34m\u001b[1mwandb\u001b[0m: \tcontext_size: 128\n",
      "\u001b[34m\u001b[1mwandb\u001b[0m: \tdropout_proba: 0.4\n",
      "\u001b[34m\u001b[1mwandb\u001b[0m: \tlr: 0.05\n",
      "\u001b[34m\u001b[1mwandb\u001b[0m: \tnum_components: 8\n",
      "\u001b[34m\u001b[1mwandb\u001b[0m: \trnn_type: GRU\n",
      "\u001b[34m\u001b[1mwandb\u001b[0m: \tweight_decay: 0.02\n"
     ]
    },
    {
     "data": {
      "text/html": [
       "Tracking run with wandb version 0.15.12"
      ],
      "text/plain": [
       "<IPython.core.display.HTML object>"
      ]
     },
     "metadata": {},
     "output_type": "display_data"
    },
    {
     "data": {
      "text/html": [
       "Run data is saved locally in <code>/home/zekai/repos/recast/notebooks/Zekai/hyperparameter_sweep/wandb/run-20231106_003106-f66fkv4r</code>"
      ],
      "text/plain": [
       "<IPython.core.display.HTML object>"
      ]
     },
     "metadata": {},
     "output_type": "display_data"
    },
    {
     "data": {
      "text/html": [
       "Syncing run <strong><a href='https://wandb.ai/zekai-wang/RecurrentTPP%20on%20ANSS%20Nov%205/runs/f66fkv4r' target=\"_blank\">woven-sweep-96</a></strong> to <a href='https://wandb.ai/zekai-wang/RecurrentTPP%20on%20ANSS%20Nov%205' target=\"_blank\">Weights & Biases</a> (<a href='https://wandb.me/run' target=\"_blank\">docs</a>)<br/>Sweep page: <a href='https://wandb.ai/zekai-wang/RecurrentTPP%20on%20ANSS%20Nov%205/sweeps/27ca0onv' target=\"_blank\">https://wandb.ai/zekai-wang/RecurrentTPP%20on%20ANSS%20Nov%205/sweeps/27ca0onv</a>"
      ],
      "text/plain": [
       "<IPython.core.display.HTML object>"
      ]
     },
     "metadata": {},
     "output_type": "display_data"
    },
    {
     "data": {
      "text/html": [
       " View project at <a href='https://wandb.ai/zekai-wang/RecurrentTPP%20on%20ANSS%20Nov%205' target=\"_blank\">https://wandb.ai/zekai-wang/RecurrentTPP%20on%20ANSS%20Nov%205</a>"
      ],
      "text/plain": [
       "<IPython.core.display.HTML object>"
      ]
     },
     "metadata": {},
     "output_type": "display_data"
    },
    {
     "data": {
      "text/html": [
       " View sweep at <a href='https://wandb.ai/zekai-wang/RecurrentTPP%20on%20ANSS%20Nov%205/sweeps/27ca0onv' target=\"_blank\">https://wandb.ai/zekai-wang/RecurrentTPP%20on%20ANSS%20Nov%205/sweeps/27ca0onv</a>"
      ],
      "text/plain": [
       "<IPython.core.display.HTML object>"
      ]
     },
     "metadata": {},
     "output_type": "display_data"
    },
    {
     "data": {
      "text/html": [
       " View run at <a href='https://wandb.ai/zekai-wang/RecurrentTPP%20on%20ANSS%20Nov%205/runs/f66fkv4r' target=\"_blank\">https://wandb.ai/zekai-wang/RecurrentTPP%20on%20ANSS%20Nov%205/runs/f66fkv4r</a>"
      ],
      "text/plain": [
       "<IPython.core.display.HTML object>"
      ]
     },
     "metadata": {},
     "output_type": "display_data"
    },
    {
     "data": {
      "application/vnd.jupyter.widget-view+json": {
       "model_id": "93ccfe80166f4155a1416bd5ac3aabc2",
       "version_major": 2,
       "version_minor": 0
      },
      "text/plain": [
       "  0%|          | 0/200 [00:00<?, ?it/s]"
      ]
     },
     "metadata": {},
     "output_type": "display_data"
    },
    {
     "data": {
      "text/html": [
       "Waiting for W&B process to finish... <strong style=\"color:green\">(success).</strong>"
      ],
      "text/plain": [
       "<IPython.core.display.HTML object>"
      ]
     },
     "metadata": {},
     "output_type": "display_data"
    },
    {
     "data": {
      "application/vnd.jupyter.widget-view+json": {
       "model_id": "bfeb0b1861f248228f6310c142edea28",
       "version_major": 2,
       "version_minor": 0
      },
      "text/plain": [
       "VBox(children=(Label(value='0.003 MB of 0.014 MB uploaded (0.000 MB deduped)\\r'), FloatProgress(value=0.243631…"
      ]
     },
     "metadata": {},
     "output_type": "display_data"
    },
    {
     "data": {
      "text/html": [
       "<style>\n",
       "    table.wandb td:nth-child(1) { padding: 0 10px; text-align: left ; width: auto;} td:nth-child(2) {text-align: left ; width: 100%}\n",
       "    .wandb-row { display: flex; flex-direction: row; flex-wrap: wrap; justify-content: flex-start; width: 100% }\n",
       "    .wandb-col { display: flex; flex-direction: column; flex-basis: 100%; flex: 1; padding: 10px; }\n",
       "    </style>\n",
       "<div class=\"wandb-row\"><div class=\"wandb-col\"><h3>Run history:</h3><br/><table class=\"wandb\"><tr><td>avg_test_loss</td><td>▁</td></tr></table><br/></div><div class=\"wandb-col\"><h3>Run summary:</h3><br/><table class=\"wandb\"><tr><td>avg_test_loss</td><td>0.24103</td></tr></table><br/></div></div>"
      ],
      "text/plain": [
       "<IPython.core.display.HTML object>"
      ]
     },
     "metadata": {},
     "output_type": "display_data"
    },
    {
     "data": {
      "text/html": [
       " View run <strong style=\"color:#cdcd00\">woven-sweep-96</strong> at: <a href='https://wandb.ai/zekai-wang/RecurrentTPP%20on%20ANSS%20Nov%205/runs/f66fkv4r' target=\"_blank\">https://wandb.ai/zekai-wang/RecurrentTPP%20on%20ANSS%20Nov%205/runs/f66fkv4r</a><br/>Synced 5 W&B file(s), 0 media file(s), 0 artifact file(s) and 0 other file(s)"
      ],
      "text/plain": [
       "<IPython.core.display.HTML object>"
      ]
     },
     "metadata": {},
     "output_type": "display_data"
    },
    {
     "data": {
      "text/html": [
       "Find logs at: <code>./wandb/run-20231106_003106-f66fkv4r/logs</code>"
      ],
      "text/plain": [
       "<IPython.core.display.HTML object>"
      ]
     },
     "metadata": {},
     "output_type": "display_data"
    },
    {
     "name": "stderr",
     "output_type": "stream",
     "text": [
      "\u001b[34m\u001b[1mwandb\u001b[0m: Agent Starting Run: azxhywq8 with config:\n",
      "\u001b[34m\u001b[1mwandb\u001b[0m: \tbatch_size: 8\n",
      "\u001b[34m\u001b[1mwandb\u001b[0m: \tbetas: [0.9, 0.999]\n",
      "\u001b[34m\u001b[1mwandb\u001b[0m: \tcontext_size: 8\n",
      "\u001b[34m\u001b[1mwandb\u001b[0m: \tdropout_proba: 0.3\n",
      "\u001b[34m\u001b[1mwandb\u001b[0m: \tlr: 0.005\n",
      "\u001b[34m\u001b[1mwandb\u001b[0m: \tnum_components: 8\n",
      "\u001b[34m\u001b[1mwandb\u001b[0m: \trnn_type: RNN\n",
      "\u001b[34m\u001b[1mwandb\u001b[0m: \tweight_decay: 0.02\n"
     ]
    },
    {
     "data": {
      "text/html": [
       "Tracking run with wandb version 0.15.12"
      ],
      "text/plain": [
       "<IPython.core.display.HTML object>"
      ]
     },
     "metadata": {},
     "output_type": "display_data"
    },
    {
     "data": {
      "text/html": [
       "Run data is saved locally in <code>/home/zekai/repos/recast/notebooks/Zekai/hyperparameter_sweep/wandb/run-20231106_003248-azxhywq8</code>"
      ],
      "text/plain": [
       "<IPython.core.display.HTML object>"
      ]
     },
     "metadata": {},
     "output_type": "display_data"
    },
    {
     "data": {
      "text/html": [
       "Syncing run <strong><a href='https://wandb.ai/zekai-wang/RecurrentTPP%20on%20ANSS%20Nov%205/runs/azxhywq8' target=\"_blank\">restful-sweep-97</a></strong> to <a href='https://wandb.ai/zekai-wang/RecurrentTPP%20on%20ANSS%20Nov%205' target=\"_blank\">Weights & Biases</a> (<a href='https://wandb.me/run' target=\"_blank\">docs</a>)<br/>Sweep page: <a href='https://wandb.ai/zekai-wang/RecurrentTPP%20on%20ANSS%20Nov%205/sweeps/27ca0onv' target=\"_blank\">https://wandb.ai/zekai-wang/RecurrentTPP%20on%20ANSS%20Nov%205/sweeps/27ca0onv</a>"
      ],
      "text/plain": [
       "<IPython.core.display.HTML object>"
      ]
     },
     "metadata": {},
     "output_type": "display_data"
    },
    {
     "data": {
      "text/html": [
       " View project at <a href='https://wandb.ai/zekai-wang/RecurrentTPP%20on%20ANSS%20Nov%205' target=\"_blank\">https://wandb.ai/zekai-wang/RecurrentTPP%20on%20ANSS%20Nov%205</a>"
      ],
      "text/plain": [
       "<IPython.core.display.HTML object>"
      ]
     },
     "metadata": {},
     "output_type": "display_data"
    },
    {
     "data": {
      "text/html": [
       " View sweep at <a href='https://wandb.ai/zekai-wang/RecurrentTPP%20on%20ANSS%20Nov%205/sweeps/27ca0onv' target=\"_blank\">https://wandb.ai/zekai-wang/RecurrentTPP%20on%20ANSS%20Nov%205/sweeps/27ca0onv</a>"
      ],
      "text/plain": [
       "<IPython.core.display.HTML object>"
      ]
     },
     "metadata": {},
     "output_type": "display_data"
    },
    {
     "data": {
      "text/html": [
       " View run at <a href='https://wandb.ai/zekai-wang/RecurrentTPP%20on%20ANSS%20Nov%205/runs/azxhywq8' target=\"_blank\">https://wandb.ai/zekai-wang/RecurrentTPP%20on%20ANSS%20Nov%205/runs/azxhywq8</a>"
      ],
      "text/plain": [
       "<IPython.core.display.HTML object>"
      ]
     },
     "metadata": {},
     "output_type": "display_data"
    },
    {
     "data": {
      "application/vnd.jupyter.widget-view+json": {
       "model_id": "bc4b20b943e64f9fa98fa3a0bc1bf596",
       "version_major": 2,
       "version_minor": 0
      },
      "text/plain": [
       "  0%|          | 0/200 [00:00<?, ?it/s]"
      ]
     },
     "metadata": {},
     "output_type": "display_data"
    },
    {
     "data": {
      "text/html": [
       "Waiting for W&B process to finish... <strong style=\"color:green\">(success).</strong>"
      ],
      "text/plain": [
       "<IPython.core.display.HTML object>"
      ]
     },
     "metadata": {},
     "output_type": "display_data"
    },
    {
     "data": {
      "text/html": [
       "<style>\n",
       "    table.wandb td:nth-child(1) { padding: 0 10px; text-align: left ; width: auto;} td:nth-child(2) {text-align: left ; width: 100%}\n",
       "    .wandb-row { display: flex; flex-direction: row; flex-wrap: wrap; justify-content: flex-start; width: 100% }\n",
       "    .wandb-col { display: flex; flex-direction: column; flex-basis: 100%; flex: 1; padding: 10px; }\n",
       "    </style>\n",
       "<div class=\"wandb-row\"><div class=\"wandb-col\"><h3>Run history:</h3><br/><table class=\"wandb\"><tr><td>avg_test_loss</td><td>▁</td></tr></table><br/></div><div class=\"wandb-col\"><h3>Run summary:</h3><br/><table class=\"wandb\"><tr><td>avg_test_loss</td><td>0.20769</td></tr></table><br/></div></div>"
      ],
      "text/plain": [
       "<IPython.core.display.HTML object>"
      ]
     },
     "metadata": {},
     "output_type": "display_data"
    },
    {
     "data": {
      "text/html": [
       " View run <strong style=\"color:#cdcd00\">restful-sweep-97</strong> at: <a href='https://wandb.ai/zekai-wang/RecurrentTPP%20on%20ANSS%20Nov%205/runs/azxhywq8' target=\"_blank\">https://wandb.ai/zekai-wang/RecurrentTPP%20on%20ANSS%20Nov%205/runs/azxhywq8</a><br/>Synced 5 W&B file(s), 0 media file(s), 0 artifact file(s) and 0 other file(s)"
      ],
      "text/plain": [
       "<IPython.core.display.HTML object>"
      ]
     },
     "metadata": {},
     "output_type": "display_data"
    },
    {
     "data": {
      "text/html": [
       "Find logs at: <code>./wandb/run-20231106_003248-azxhywq8/logs</code>"
      ],
      "text/plain": [
       "<IPython.core.display.HTML object>"
      ]
     },
     "metadata": {},
     "output_type": "display_data"
    },
    {
     "name": "stderr",
     "output_type": "stream",
     "text": [
      "\u001b[34m\u001b[1mwandb\u001b[0m: Agent Starting Run: 2xg0c8ml with config:\n",
      "\u001b[34m\u001b[1mwandb\u001b[0m: \tbatch_size: 32\n",
      "\u001b[34m\u001b[1mwandb\u001b[0m: \tbetas: [0.9, 0.999]\n",
      "\u001b[34m\u001b[1mwandb\u001b[0m: \tcontext_size: 64\n",
      "\u001b[34m\u001b[1mwandb\u001b[0m: \tdropout_proba: 0.1\n",
      "\u001b[34m\u001b[1mwandb\u001b[0m: \tlr: 0.05\n",
      "\u001b[34m\u001b[1mwandb\u001b[0m: \tnum_components: 16\n",
      "\u001b[34m\u001b[1mwandb\u001b[0m: \trnn_type: LSTM\n",
      "\u001b[34m\u001b[1mwandb\u001b[0m: \tweight_decay: 0.002\n"
     ]
    },
    {
     "data": {
      "text/html": [
       "Tracking run with wandb version 0.15.12"
      ],
      "text/plain": [
       "<IPython.core.display.HTML object>"
      ]
     },
     "metadata": {},
     "output_type": "display_data"
    },
    {
     "data": {
      "text/html": [
       "Run data is saved locally in <code>/home/zekai/repos/recast/notebooks/Zekai/hyperparameter_sweep/wandb/run-20231106_003429-2xg0c8ml</code>"
      ],
      "text/plain": [
       "<IPython.core.display.HTML object>"
      ]
     },
     "metadata": {},
     "output_type": "display_data"
    },
    {
     "data": {
      "text/html": [
       "Syncing run <strong><a href='https://wandb.ai/zekai-wang/RecurrentTPP%20on%20ANSS%20Nov%205/runs/2xg0c8ml' target=\"_blank\">rose-sweep-98</a></strong> to <a href='https://wandb.ai/zekai-wang/RecurrentTPP%20on%20ANSS%20Nov%205' target=\"_blank\">Weights & Biases</a> (<a href='https://wandb.me/run' target=\"_blank\">docs</a>)<br/>Sweep page: <a href='https://wandb.ai/zekai-wang/RecurrentTPP%20on%20ANSS%20Nov%205/sweeps/27ca0onv' target=\"_blank\">https://wandb.ai/zekai-wang/RecurrentTPP%20on%20ANSS%20Nov%205/sweeps/27ca0onv</a>"
      ],
      "text/plain": [
       "<IPython.core.display.HTML object>"
      ]
     },
     "metadata": {},
     "output_type": "display_data"
    },
    {
     "data": {
      "text/html": [
       " View project at <a href='https://wandb.ai/zekai-wang/RecurrentTPP%20on%20ANSS%20Nov%205' target=\"_blank\">https://wandb.ai/zekai-wang/RecurrentTPP%20on%20ANSS%20Nov%205</a>"
      ],
      "text/plain": [
       "<IPython.core.display.HTML object>"
      ]
     },
     "metadata": {},
     "output_type": "display_data"
    },
    {
     "data": {
      "text/html": [
       " View sweep at <a href='https://wandb.ai/zekai-wang/RecurrentTPP%20on%20ANSS%20Nov%205/sweeps/27ca0onv' target=\"_blank\">https://wandb.ai/zekai-wang/RecurrentTPP%20on%20ANSS%20Nov%205/sweeps/27ca0onv</a>"
      ],
      "text/plain": [
       "<IPython.core.display.HTML object>"
      ]
     },
     "metadata": {},
     "output_type": "display_data"
    },
    {
     "data": {
      "text/html": [
       " View run at <a href='https://wandb.ai/zekai-wang/RecurrentTPP%20on%20ANSS%20Nov%205/runs/2xg0c8ml' target=\"_blank\">https://wandb.ai/zekai-wang/RecurrentTPP%20on%20ANSS%20Nov%205/runs/2xg0c8ml</a>"
      ],
      "text/plain": [
       "<IPython.core.display.HTML object>"
      ]
     },
     "metadata": {},
     "output_type": "display_data"
    },
    {
     "data": {
      "application/vnd.jupyter.widget-view+json": {
       "model_id": "39147bee4cb846c8b28309f40a06d41d",
       "version_major": 2,
       "version_minor": 0
      },
      "text/plain": [
       "  0%|          | 0/200 [00:00<?, ?it/s]"
      ]
     },
     "metadata": {},
     "output_type": "display_data"
    },
    {
     "data": {
      "text/html": [
       "Waiting for W&B process to finish... <strong style=\"color:green\">(success).</strong>"
      ],
      "text/plain": [
       "<IPython.core.display.HTML object>"
      ]
     },
     "metadata": {},
     "output_type": "display_data"
    },
    {
     "data": {
      "text/html": [
       "<style>\n",
       "    table.wandb td:nth-child(1) { padding: 0 10px; text-align: left ; width: auto;} td:nth-child(2) {text-align: left ; width: 100%}\n",
       "    .wandb-row { display: flex; flex-direction: row; flex-wrap: wrap; justify-content: flex-start; width: 100% }\n",
       "    .wandb-col { display: flex; flex-direction: column; flex-basis: 100%; flex: 1; padding: 10px; }\n",
       "    </style>\n",
       "<div class=\"wandb-row\"><div class=\"wandb-col\"><h3>Run history:</h3><br/><table class=\"wandb\"><tr><td>avg_test_loss</td><td>▁</td></tr></table><br/></div><div class=\"wandb-col\"><h3>Run summary:</h3><br/><table class=\"wandb\"><tr><td>avg_test_loss</td><td>0.177</td></tr></table><br/></div></div>"
      ],
      "text/plain": [
       "<IPython.core.display.HTML object>"
      ]
     },
     "metadata": {},
     "output_type": "display_data"
    },
    {
     "data": {
      "text/html": [
       " View run <strong style=\"color:#cdcd00\">rose-sweep-98</strong> at: <a href='https://wandb.ai/zekai-wang/RecurrentTPP%20on%20ANSS%20Nov%205/runs/2xg0c8ml' target=\"_blank\">https://wandb.ai/zekai-wang/RecurrentTPP%20on%20ANSS%20Nov%205/runs/2xg0c8ml</a><br/>Synced 5 W&B file(s), 0 media file(s), 0 artifact file(s) and 0 other file(s)"
      ],
      "text/plain": [
       "<IPython.core.display.HTML object>"
      ]
     },
     "metadata": {},
     "output_type": "display_data"
    },
    {
     "data": {
      "text/html": [
       "Find logs at: <code>./wandb/run-20231106_003429-2xg0c8ml/logs</code>"
      ],
      "text/plain": [
       "<IPython.core.display.HTML object>"
      ]
     },
     "metadata": {},
     "output_type": "display_data"
    },
    {
     "name": "stderr",
     "output_type": "stream",
     "text": [
      "\u001b[34m\u001b[1mwandb\u001b[0m: Sweep Agent: Waiting for job.\n",
      "\u001b[34m\u001b[1mwandb\u001b[0m: Job received.\n",
      "\u001b[34m\u001b[1mwandb\u001b[0m: Agent Starting Run: cy4hg6ln with config:\n",
      "\u001b[34m\u001b[1mwandb\u001b[0m: \tbatch_size: 8\n",
      "\u001b[34m\u001b[1mwandb\u001b[0m: \tbetas: [0.9, 0.999]\n",
      "\u001b[34m\u001b[1mwandb\u001b[0m: \tcontext_size: 64\n",
      "\u001b[34m\u001b[1mwandb\u001b[0m: \tdropout_proba: 0\n",
      "\u001b[34m\u001b[1mwandb\u001b[0m: \tlr: 0.01\n",
      "\u001b[34m\u001b[1mwandb\u001b[0m: \tnum_components: 64\n",
      "\u001b[34m\u001b[1mwandb\u001b[0m: \trnn_type: RNN\n",
      "\u001b[34m\u001b[1mwandb\u001b[0m: \tweight_decay: 0\n"
     ]
    },
    {
     "data": {
      "text/html": [
       "Tracking run with wandb version 0.15.12"
      ],
      "text/plain": [
       "<IPython.core.display.HTML object>"
      ]
     },
     "metadata": {},
     "output_type": "display_data"
    },
    {
     "data": {
      "text/html": [
       "Run data is saved locally in <code>/home/zekai/repos/recast/notebooks/Zekai/hyperparameter_sweep/wandb/run-20231106_003601-cy4hg6ln</code>"
      ],
      "text/plain": [
       "<IPython.core.display.HTML object>"
      ]
     },
     "metadata": {},
     "output_type": "display_data"
    },
    {
     "data": {
      "text/html": [
       "Syncing run <strong><a href='https://wandb.ai/zekai-wang/RecurrentTPP%20on%20ANSS%20Nov%205/runs/cy4hg6ln' target=\"_blank\">glorious-sweep-99</a></strong> to <a href='https://wandb.ai/zekai-wang/RecurrentTPP%20on%20ANSS%20Nov%205' target=\"_blank\">Weights & Biases</a> (<a href='https://wandb.me/run' target=\"_blank\">docs</a>)<br/>Sweep page: <a href='https://wandb.ai/zekai-wang/RecurrentTPP%20on%20ANSS%20Nov%205/sweeps/27ca0onv' target=\"_blank\">https://wandb.ai/zekai-wang/RecurrentTPP%20on%20ANSS%20Nov%205/sweeps/27ca0onv</a>"
      ],
      "text/plain": [
       "<IPython.core.display.HTML object>"
      ]
     },
     "metadata": {},
     "output_type": "display_data"
    },
    {
     "data": {
      "text/html": [
       " View project at <a href='https://wandb.ai/zekai-wang/RecurrentTPP%20on%20ANSS%20Nov%205' target=\"_blank\">https://wandb.ai/zekai-wang/RecurrentTPP%20on%20ANSS%20Nov%205</a>"
      ],
      "text/plain": [
       "<IPython.core.display.HTML object>"
      ]
     },
     "metadata": {},
     "output_type": "display_data"
    },
    {
     "data": {
      "text/html": [
       " View sweep at <a href='https://wandb.ai/zekai-wang/RecurrentTPP%20on%20ANSS%20Nov%205/sweeps/27ca0onv' target=\"_blank\">https://wandb.ai/zekai-wang/RecurrentTPP%20on%20ANSS%20Nov%205/sweeps/27ca0onv</a>"
      ],
      "text/plain": [
       "<IPython.core.display.HTML object>"
      ]
     },
     "metadata": {},
     "output_type": "display_data"
    },
    {
     "data": {
      "text/html": [
       " View run at <a href='https://wandb.ai/zekai-wang/RecurrentTPP%20on%20ANSS%20Nov%205/runs/cy4hg6ln' target=\"_blank\">https://wandb.ai/zekai-wang/RecurrentTPP%20on%20ANSS%20Nov%205/runs/cy4hg6ln</a>"
      ],
      "text/plain": [
       "<IPython.core.display.HTML object>"
      ]
     },
     "metadata": {},
     "output_type": "display_data"
    },
    {
     "data": {
      "application/vnd.jupyter.widget-view+json": {
       "model_id": "6fee230367664ccaba7c3a6187b00995",
       "version_major": 2,
       "version_minor": 0
      },
      "text/plain": [
       "  0%|          | 0/200 [00:00<?, ?it/s]"
      ]
     },
     "metadata": {},
     "output_type": "display_data"
    },
    {
     "name": "stdout",
     "output_type": "stream",
     "text": [
      "Expected parameter scale (Tensor of shape (8, 857, 64)) of distribution Weibull(scale: torch.Size([8, 857, 64]), shape: torch.Size([8, 857, 64])) to satisfy the constraint GreaterThan(lower_bound=0.0), but found invalid values:\n",
      "tensor([[[0.9195, 0.6618, 0.8896,  ..., 0.3535, 0.2973, 0.6411],\n",
      "         [   nan,    nan,    nan,  ...,    nan,    nan,    nan],\n",
      "         [   nan,    nan,    nan,  ...,    nan,    nan,    nan],\n",
      "         ...,\n",
      "         [   nan,    nan,    nan,  ...,    nan,    nan,    nan],\n",
      "         [   nan,    nan,    nan,  ...,    nan,    nan,    nan],\n",
      "         [   nan,    nan,    nan,  ...,    nan,    nan,    nan]],\n",
      "\n",
      "        [[0.9195, 0.6618, 0.8896,  ..., 0.3535, 0.2973, 0.6411],\n",
      "         [   nan,    nan,    nan,  ...,    nan,    nan,    nan],\n",
      "         [   nan,    nan,    nan,  ...,    nan,    nan,    nan],\n",
      "         ...,\n",
      "         [   nan,    nan,    nan,  ...,    nan,    nan,    nan],\n",
      "         [   nan,    nan,    nan,  ...,    nan,    nan,    nan],\n",
      "         [   nan,    nan,    nan,  ...,    nan,    nan,    nan]],\n",
      "\n",
      "        [[0.9195, 0.6618, 0.8896,  ..., 0.3535, 0.2973, 0.6411],\n",
      "         [   nan,    nan,    nan,  ...,    nan,    nan,    nan],\n",
      "         [   nan,    nan,    nan,  ...,    nan,    nan,    nan],\n",
      "         ...,\n",
      "         [   nan,    nan,    nan,  ...,    nan,    nan,    nan],\n",
      "         [   nan,    nan,    nan,  ...,    nan,    nan,    nan],\n",
      "         [   nan,    nan,    nan,  ...,    nan,    nan,    nan]],\n",
      "\n",
      "        ...,\n",
      "\n",
      "        [[0.9195, 0.6618, 0.8896,  ..., 0.3535, 0.2973, 0.6411],\n",
      "         [   nan,    nan,    nan,  ...,    nan,    nan,    nan],\n",
      "         [   nan,    nan,    nan,  ...,    nan,    nan,    nan],\n",
      "         ...,\n",
      "         [   nan,    nan,    nan,  ...,    nan,    nan,    nan],\n",
      "         [   nan,    nan,    nan,  ...,    nan,    nan,    nan],\n",
      "         [   nan,    nan,    nan,  ...,    nan,    nan,    nan]],\n",
      "\n",
      "        [[0.9195, 0.6618, 0.8896,  ..., 0.3535, 0.2973, 0.6411],\n",
      "         [   nan,    nan,    nan,  ...,    nan,    nan,    nan],\n",
      "         [   nan,    nan,    nan,  ...,    nan,    nan,    nan],\n",
      "         ...,\n",
      "         [   nan,    nan,    nan,  ...,    nan,    nan,    nan],\n",
      "         [   nan,    nan,    nan,  ...,    nan,    nan,    nan],\n",
      "         [   nan,    nan,    nan,  ...,    nan,    nan,    nan]],\n",
      "\n",
      "        [[0.9195, 0.6618, 0.8896,  ..., 0.3535, 0.2973, 0.6411],\n",
      "         [   nan,    nan,    nan,  ...,    nan,    nan,    nan],\n",
      "         [   nan,    nan,    nan,  ...,    nan,    nan,    nan],\n",
      "         ...,\n",
      "         [   nan,    nan,    nan,  ...,    nan,    nan,    nan],\n",
      "         [   nan,    nan,    nan,  ...,    nan,    nan,    nan],\n",
      "         [   nan,    nan,    nan,  ...,    nan,    nan,    nan]]],\n",
      "       device='cuda:0', grad_fn=<SoftplusBackward0>)\n"
     ]
    },
    {
     "data": {
      "text/html": [
       "Waiting for W&B process to finish... <strong style=\"color:green\">(success).</strong>"
      ],
      "text/plain": [
       "<IPython.core.display.HTML object>"
      ]
     },
     "metadata": {},
     "output_type": "display_data"
    },
    {
     "data": {
      "text/html": [
       "<style>\n",
       "    table.wandb td:nth-child(1) { padding: 0 10px; text-align: left ; width: auto;} td:nth-child(2) {text-align: left ; width: 100%}\n",
       "    .wandb-row { display: flex; flex-direction: row; flex-wrap: wrap; justify-content: flex-start; width: 100% }\n",
       "    .wandb-col { display: flex; flex-direction: column; flex-basis: 100%; flex: 1; padding: 10px; }\n",
       "    </style>\n",
       "<div class=\"wandb-row\"><div class=\"wandb-col\"><h3>Run summary:</h3><br/><table class=\"wandb\"><tr><td>avg_test_loss</td><td>nan</td></tr></table><br/></div></div>"
      ],
      "text/plain": [
       "<IPython.core.display.HTML object>"
      ]
     },
     "metadata": {},
     "output_type": "display_data"
    },
    {
     "data": {
      "text/html": [
       " View run <strong style=\"color:#cdcd00\">glorious-sweep-99</strong> at: <a href='https://wandb.ai/zekai-wang/RecurrentTPP%20on%20ANSS%20Nov%205/runs/cy4hg6ln' target=\"_blank\">https://wandb.ai/zekai-wang/RecurrentTPP%20on%20ANSS%20Nov%205/runs/cy4hg6ln</a><br/>Synced 6 W&B file(s), 0 media file(s), 0 artifact file(s) and 0 other file(s)"
      ],
      "text/plain": [
       "<IPython.core.display.HTML object>"
      ]
     },
     "metadata": {},
     "output_type": "display_data"
    },
    {
     "data": {
      "text/html": [
       "Find logs at: <code>./wandb/run-20231106_003601-cy4hg6ln/logs</code>"
      ],
      "text/plain": [
       "<IPython.core.display.HTML object>"
      ]
     },
     "metadata": {},
     "output_type": "display_data"
    },
    {
     "name": "stderr",
     "output_type": "stream",
     "text": [
      "\u001b[34m\u001b[1mwandb\u001b[0m: Agent Starting Run: 7882uf3t with config:\n",
      "\u001b[34m\u001b[1mwandb\u001b[0m: \tbatch_size: 64\n",
      "\u001b[34m\u001b[1mwandb\u001b[0m: \tbetas: [0.9, 0.999]\n",
      "\u001b[34m\u001b[1mwandb\u001b[0m: \tcontext_size: 8\n",
      "\u001b[34m\u001b[1mwandb\u001b[0m: \tdropout_proba: 0.5\n",
      "\u001b[34m\u001b[1mwandb\u001b[0m: \tlr: 0.005\n",
      "\u001b[34m\u001b[1mwandb\u001b[0m: \tnum_components: 8\n",
      "\u001b[34m\u001b[1mwandb\u001b[0m: \trnn_type: LSTM\n",
      "\u001b[34m\u001b[1mwandb\u001b[0m: \tweight_decay: 0.002\n"
     ]
    },
    {
     "data": {
      "text/html": [
       "Tracking run with wandb version 0.15.12"
      ],
      "text/plain": [
       "<IPython.core.display.HTML object>"
      ]
     },
     "metadata": {},
     "output_type": "display_data"
    },
    {
     "data": {
      "text/html": [
       "Run data is saved locally in <code>/home/zekai/repos/recast/notebooks/Zekai/hyperparameter_sweep/wandb/run-20231106_003707-7882uf3t</code>"
      ],
      "text/plain": [
       "<IPython.core.display.HTML object>"
      ]
     },
     "metadata": {},
     "output_type": "display_data"
    },
    {
     "data": {
      "text/html": [
       "Syncing run <strong><a href='https://wandb.ai/zekai-wang/RecurrentTPP%20on%20ANSS%20Nov%205/runs/7882uf3t' target=\"_blank\">autumn-sweep-100</a></strong> to <a href='https://wandb.ai/zekai-wang/RecurrentTPP%20on%20ANSS%20Nov%205' target=\"_blank\">Weights & Biases</a> (<a href='https://wandb.me/run' target=\"_blank\">docs</a>)<br/>Sweep page: <a href='https://wandb.ai/zekai-wang/RecurrentTPP%20on%20ANSS%20Nov%205/sweeps/27ca0onv' target=\"_blank\">https://wandb.ai/zekai-wang/RecurrentTPP%20on%20ANSS%20Nov%205/sweeps/27ca0onv</a>"
      ],
      "text/plain": [
       "<IPython.core.display.HTML object>"
      ]
     },
     "metadata": {},
     "output_type": "display_data"
    },
    {
     "data": {
      "text/html": [
       " View project at <a href='https://wandb.ai/zekai-wang/RecurrentTPP%20on%20ANSS%20Nov%205' target=\"_blank\">https://wandb.ai/zekai-wang/RecurrentTPP%20on%20ANSS%20Nov%205</a>"
      ],
      "text/plain": [
       "<IPython.core.display.HTML object>"
      ]
     },
     "metadata": {},
     "output_type": "display_data"
    },
    {
     "data": {
      "text/html": [
       " View sweep at <a href='https://wandb.ai/zekai-wang/RecurrentTPP%20on%20ANSS%20Nov%205/sweeps/27ca0onv' target=\"_blank\">https://wandb.ai/zekai-wang/RecurrentTPP%20on%20ANSS%20Nov%205/sweeps/27ca0onv</a>"
      ],
      "text/plain": [
       "<IPython.core.display.HTML object>"
      ]
     },
     "metadata": {},
     "output_type": "display_data"
    },
    {
     "data": {
      "text/html": [
       " View run at <a href='https://wandb.ai/zekai-wang/RecurrentTPP%20on%20ANSS%20Nov%205/runs/7882uf3t' target=\"_blank\">https://wandb.ai/zekai-wang/RecurrentTPP%20on%20ANSS%20Nov%205/runs/7882uf3t</a>"
      ],
      "text/plain": [
       "<IPython.core.display.HTML object>"
      ]
     },
     "metadata": {},
     "output_type": "display_data"
    },
    {
     "data": {
      "application/vnd.jupyter.widget-view+json": {
       "model_id": "474f9eda9ac74c55bf3cd80d2070edb6",
       "version_major": 2,
       "version_minor": 0
      },
      "text/plain": [
       "  0%|          | 0/200 [00:00<?, ?it/s]"
      ]
     },
     "metadata": {},
     "output_type": "display_data"
    },
    {
     "data": {
      "text/html": [
       "Waiting for W&B process to finish... <strong style=\"color:green\">(success).</strong>"
      ],
      "text/plain": [
       "<IPython.core.display.HTML object>"
      ]
     },
     "metadata": {},
     "output_type": "display_data"
    },
    {
     "data": {
      "application/vnd.jupyter.widget-view+json": {
       "model_id": "44edcc9adee34fe89b39435c8489a158",
       "version_major": 2,
       "version_minor": 0
      },
      "text/plain": [
       "VBox(children=(Label(value='0.003 MB of 0.014 MB uploaded (0.000 MB deduped)\\r'), FloatProgress(value=0.243681…"
      ]
     },
     "metadata": {},
     "output_type": "display_data"
    },
    {
     "data": {
      "text/html": [
       "<style>\n",
       "    table.wandb td:nth-child(1) { padding: 0 10px; text-align: left ; width: auto;} td:nth-child(2) {text-align: left ; width: 100%}\n",
       "    .wandb-row { display: flex; flex-direction: row; flex-wrap: wrap; justify-content: flex-start; width: 100% }\n",
       "    .wandb-col { display: flex; flex-direction: column; flex-basis: 100%; flex: 1; padding: 10px; }\n",
       "    </style>\n",
       "<div class=\"wandb-row\"><div class=\"wandb-col\"><h3>Run history:</h3><br/><table class=\"wandb\"><tr><td>avg_test_loss</td><td>▁</td></tr></table><br/></div><div class=\"wandb-col\"><h3>Run summary:</h3><br/><table class=\"wandb\"><tr><td>avg_test_loss</td><td>0.19077</td></tr></table><br/></div></div>"
      ],
      "text/plain": [
       "<IPython.core.display.HTML object>"
      ]
     },
     "metadata": {},
     "output_type": "display_data"
    },
    {
     "data": {
      "text/html": [
       " View run <strong style=\"color:#cdcd00\">autumn-sweep-100</strong> at: <a href='https://wandb.ai/zekai-wang/RecurrentTPP%20on%20ANSS%20Nov%205/runs/7882uf3t' target=\"_blank\">https://wandb.ai/zekai-wang/RecurrentTPP%20on%20ANSS%20Nov%205/runs/7882uf3t</a><br/>Synced 5 W&B file(s), 0 media file(s), 0 artifact file(s) and 0 other file(s)"
      ],
      "text/plain": [
       "<IPython.core.display.HTML object>"
      ]
     },
     "metadata": {},
     "output_type": "display_data"
    },
    {
     "data": {
      "text/html": [
       "Find logs at: <code>./wandb/run-20231106_003707-7882uf3t/logs</code>"
      ],
      "text/plain": [
       "<IPython.core.display.HTML object>"
      ]
     },
     "metadata": {},
     "output_type": "display_data"
    }
   ],
   "source": [
    "wandb.agent(sweep_id, function=train, count=100)"
   ]
  }
 ],
 "metadata": {
  "kernelspec": {
   "display_name": "eq",
   "language": "python",
   "name": "python3"
  },
  "language_info": {
   "codemirror_mode": {
    "name": "ipython",
    "version": 3
   },
   "file_extension": ".py",
   "mimetype": "text/x-python",
   "name": "python",
   "nbconvert_exporter": "python",
   "pygments_lexer": "ipython3",
   "version": "3.11.5"
  }
 },
 "nbformat": 4,
 "nbformat_minor": 2
}
