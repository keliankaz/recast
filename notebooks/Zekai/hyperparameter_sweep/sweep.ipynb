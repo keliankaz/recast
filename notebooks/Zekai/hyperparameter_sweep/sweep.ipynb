{
 "cells": [
  {
   "cell_type": "code",
   "execution_count": 10,
   "metadata": {},
   "outputs": [
    {
     "name": "stdout",
     "output_type": "stream",
     "text": [
      "The autoreload extension is already loaded. To reload it, use:\n",
      "  %reload_ext autoreload\n"
     ]
    }
   ],
   "source": [
    "%load_ext autoreload\n",
    "%autoreload 2\n",
    "import torch\n",
    "import eq\n",
    "import wandb\n",
    "from tqdm.notebook import trange\n",
    "import numpy as np\n",
    "import warnings\n",
    "warnings.filterwarnings('ignore')"
   ]
  },
  {
   "cell_type": "code",
   "execution_count": 11,
   "metadata": {},
   "outputs": [
    {
     "name": "stdout",
     "output_type": "stream",
     "text": [
      "Loading existing catalog from /home/zekai/repos/recast/data/ANSS_MultiCatalog.\n"
     ]
    }
   ],
   "source": [
    "device = \"cuda\"\n",
    "catalog = eq.catalogs.ANSS_MultiCatalog(mag_completeness=4.5)"
   ]
  },
  {
   "cell_type": "code",
   "execution_count": 12,
   "metadata": {},
   "outputs": [],
   "source": [
    "def train(config=None):\n",
    "    with wandb.init(config=config):\n",
    "        config = wandb.config\n",
    "        try:\n",
    "            dl_train = catalog.train.get_dataloader(batch_size=config.batch_size)\n",
    "            dl_val = catalog.val.get_dataloader(batch_size=1)\n",
    "            dl_test = catalog.test.get_dataloader(batch_size=1)\n",
    "\n",
    "            model = eq.models.RecurrentTPP(context_size=config.context_size,\n",
    "                                           num_components=config.num_components,\n",
    "                                           rnn_type=config.rnn_type,\n",
    "                                           dropout_proba=config.dropout_proba,\n",
    "                                           learning_rate=config.lr)\n",
    "            model = model.to(device)\n",
    "\n",
    "            epochs = 200\n",
    "            avg_train_loss_list = []\n",
    "            avg_val_loss_list = []\n",
    "\n",
    "            optimizer = torch.optim.AdamW(model.parameters(), \n",
    "                                          lr=config.lr, \n",
    "                                          betas=config.betas, \n",
    "                                          weight_decay=config.weight_decay)\n",
    "            \n",
    "            best_model_path = \"temp_best_model\"\n",
    "            best_val_loss = float('inf')\n",
    "\n",
    "            for epoch in trange(epochs):\n",
    "                running_training_loss = []\n",
    "                model.train()\n",
    "                for i, data in enumerate(dl_train):\n",
    "                    data = data.to(device)\n",
    "                    optimizer.zero_grad()\n",
    "                    nll = model.nll_loss(data).mean()\n",
    "                    nll.backward()\n",
    "                    optimizer.step()\n",
    "                    running_training_loss.append(nll.item())\n",
    "                \n",
    "                model.eval()\n",
    "                with torch.no_grad():\n",
    "                    running_val_loss = []\n",
    "                    for i, data in enumerate(dl_val):\n",
    "                        data = data.to(device)\n",
    "                        nll = model.nll_loss(data).mean()\n",
    "                        running_val_loss.append(nll.item())\n",
    "\n",
    "                avg_val_loss = np.mean(running_val_loss)\n",
    "\n",
    "                avg_train_loss_list.append(np.mean(running_training_loss))\n",
    "                avg_val_loss_list.append(avg_val_loss)\n",
    "\n",
    "                if avg_val_loss < best_val_loss:\n",
    "                    best_val_loss = avg_val_loss\n",
    "                    torch.save(model.state_dict(), best_model_path)\n",
    "\n",
    "            best_model = eq.models.RecurrentTPP(context_size=config.context_size,\n",
    "                                                num_components=config.num_components,\n",
    "                                                rnn_type=config.rnn_type,\n",
    "                                                dropout_proba=config.dropout_proba,\n",
    "                                                learning_rate=config.lr)\n",
    "            best_model.load_state_dict(torch.load(best_model_path))\n",
    "            best_model = best_model.to(device)\n",
    "            best_model.eval()\n",
    "            with torch.no_grad():\n",
    "                running_test_loss = []\n",
    "                for i, data in enumerate(dl_test):\n",
    "                    data = data.to(device)\n",
    "                    nll = best_model.nll_loss(data).mean()\n",
    "                    running_test_loss.append(nll.item())\n",
    "            avg_test_loss = np.mean(running_test_loss)\n",
    "\n",
    "        except Exception as e:\n",
    "            print(e)\n",
    "            avg_test_loss = float(\"nan\")\n",
    "\n",
    "        wandb.log({\"avg_test_loss\": avg_test_loss})\n"
   ]
  },
  {
   "cell_type": "code",
   "execution_count": 13,
   "metadata": {},
   "outputs": [
    {
     "name": "stderr",
     "output_type": "stream",
     "text": [
      "\u001b[34m\u001b[1mwandb\u001b[0m: \u001b[33mWARNING\u001b[0m Calling wandb.login() after wandb.init() has no effect.\n"
     ]
    },
    {
     "data": {
      "text/plain": [
       "True"
      ]
     },
     "execution_count": 13,
     "metadata": {},
     "output_type": "execute_result"
    }
   ],
   "source": [
    "import os\n",
    "os.environ[\"WANDB_NOTEBOOK_NAME\"] = \"sweep.ipynb\"\n",
    "wandb.login()"
   ]
  },
  {
   "cell_type": "code",
   "execution_count": 14,
   "metadata": {},
   "outputs": [],
   "source": [
    "sweep_config = {'method': \"random\"}\n",
    "metric = {\"name\": \"avg_test_loss\",\n",
    "          \"goal\": \"minimize\"}\n",
    "sweep_config[\"metric\"] = metric\n",
    "\n",
    "parameter_dict = {\"context_size\": {'values': [8, 16, 32, 64, 128]},\n",
    "                  \"num_components\": {\"values\": [8, 16, 32, 64, 128]},\n",
    "                  \"rnn_type\": {\"values\": [\"RNN\", \"GRU\", \"LSTM\"]},\n",
    "                  \"dropout_proba\": {\"values\": [0, 0.1, 0.2, 0.3, 0.4, 0.5]},\n",
    "                  \"lr\": {\"values\": [1e-3, 2e-3, 5e-3, 1e-2, 2e-2, 5e-2]},\n",
    "                  \"betas\": {\"value\": (0.9, 0.999)},\n",
    "                  \"weight_decay\": {\"values\": [0, 1e-3, 2e-3, 5e-3, 1e-2, 2e-2, 5e-2]},\n",
    "                  \"batch_size\": {\"values\": [8, 16, 32, 64, 128]}}\n",
    "\n",
    "sweep_config[\"parameters\"] = parameter_dict"
   ]
  },
  {
   "cell_type": "code",
   "execution_count": 15,
   "metadata": {},
   "outputs": [
    {
     "name": "stdout",
     "output_type": "stream",
     "text": [
      "Create sweep with ID: 27ca0onv\n",
      "Sweep URL: https://wandb.ai/zekai-wang/RecurrentTPP%20on%20ANSS%20Nov%205/sweeps/27ca0onv\n"
     ]
    }
   ],
   "source": [
    "sweep_id = wandb.sweep(sweep_config, project=\"RecurrentTPP on ANSS Nov 5\")"
   ]
  },
  {
   "cell_type": "code",
   "execution_count": 16,
   "metadata": {},
   "outputs": [
    {
     "name": "stderr",
     "output_type": "stream",
     "text": [
      "\u001b[34m\u001b[1mwandb\u001b[0m: \u001b[33mWARNING\u001b[0m Calling wandb.login() after wandb.init() has no effect.\n"
     ]
    },
    {
     "name": "stdout",
     "output_type": "stream",
     "text": [
      "<IPython.core.display.HTML object>\n"
     ]
    },
    {
     "name": "stderr",
     "output_type": "stream",
     "text": [
      "wandb: ERROR Dropped streaming file chunk (see wandb/debug-internal.log)\n",
      "wandb: ERROR Dropped streaming file chunk (see wandb/debug-internal.log)\n"
     ]
    },
    {
     "name": "stdout",
     "output_type": "stream",
     "text": [
      "<IPython.core.display.HTML object>\n",
      "<IPython.core.display.HTML object>\n"
     ]
    },
    {
     "name": "stderr",
     "output_type": "stream",
     "text": [
      "\u001b[34m\u001b[1mwandb\u001b[0m: Agent Starting Run: tdq51qjk with config:\n",
      "\u001b[34m\u001b[1mwandb\u001b[0m: \tbatch_size: 128\n",
      "\u001b[34m\u001b[1mwandb\u001b[0m: \tbetas: [0.9, 0.999]\n",
      "\u001b[34m\u001b[1mwandb\u001b[0m: \tcontext_size: 8\n",
      "\u001b[34m\u001b[1mwandb\u001b[0m: \tdropout_proba: 0\n",
      "\u001b[34m\u001b[1mwandb\u001b[0m: \tlr: 0.01\n",
      "\u001b[34m\u001b[1mwandb\u001b[0m: \tnum_components: 128\n",
      "\u001b[34m\u001b[1mwandb\u001b[0m: \trnn_type: GRU\n",
      "\u001b[34m\u001b[1mwandb\u001b[0m: \tweight_decay: 0.05\n"
     ]
    },
    {
     "data": {
      "text/html": [
       "Tracking run with wandb version 0.15.12"
      ],
      "text/plain": [
       "<IPython.core.display.HTML object>"
      ]
     },
     "metadata": {},
     "output_type": "display_data"
    },
    {
     "data": {
      "text/html": [
       "Run data is saved locally in <code>/home/zekai/repos/recast/notebooks/Zekai/hyperparameter_sweep/wandb/run-20231105_221654-tdq51qjk</code>"
      ],
      "text/plain": [
       "<IPython.core.display.HTML object>"
      ]
     },
     "metadata": {},
     "output_type": "display_data"
    },
    {
     "data": {
      "text/html": [
       "Syncing run <strong><a href='https://wandb.ai/zekai-wang/RecurrentTPP%20on%20ANSS%20Nov%205/runs/tdq51qjk' target=\"_blank\">tough-sweep-1</a></strong> to <a href='https://wandb.ai/zekai-wang/RecurrentTPP%20on%20ANSS%20Nov%205' target=\"_blank\">Weights & Biases</a> (<a href='https://wandb.me/run' target=\"_blank\">docs</a>)<br/>Sweep page: <a href='https://wandb.ai/zekai-wang/RecurrentTPP%20on%20ANSS%20Nov%205/sweeps/27ca0onv' target=\"_blank\">https://wandb.ai/zekai-wang/RecurrentTPP%20on%20ANSS%20Nov%205/sweeps/27ca0onv</a>"
      ],
      "text/plain": [
       "<IPython.core.display.HTML object>"
      ]
     },
     "metadata": {},
     "output_type": "display_data"
    },
    {
     "data": {
      "text/html": [
       " View project at <a href='https://wandb.ai/zekai-wang/RecurrentTPP%20on%20ANSS%20Nov%205' target=\"_blank\">https://wandb.ai/zekai-wang/RecurrentTPP%20on%20ANSS%20Nov%205</a>"
      ],
      "text/plain": [
       "<IPython.core.display.HTML object>"
      ]
     },
     "metadata": {},
     "output_type": "display_data"
    },
    {
     "data": {
      "text/html": [
       " View sweep at <a href='https://wandb.ai/zekai-wang/RecurrentTPP%20on%20ANSS%20Nov%205/sweeps/27ca0onv' target=\"_blank\">https://wandb.ai/zekai-wang/RecurrentTPP%20on%20ANSS%20Nov%205/sweeps/27ca0onv</a>"
      ],
      "text/plain": [
       "<IPython.core.display.HTML object>"
      ]
     },
     "metadata": {},
     "output_type": "display_data"
    },
    {
     "data": {
      "text/html": [
       " View run at <a href='https://wandb.ai/zekai-wang/RecurrentTPP%20on%20ANSS%20Nov%205/runs/tdq51qjk' target=\"_blank\">https://wandb.ai/zekai-wang/RecurrentTPP%20on%20ANSS%20Nov%205/runs/tdq51qjk</a>"
      ],
      "text/plain": [
       "<IPython.core.display.HTML object>"
      ]
     },
     "metadata": {},
     "output_type": "display_data"
    },
    {
     "data": {
      "application/vnd.jupyter.widget-view+json": {
       "model_id": "e68200c3f49241b6a2735fd6dffe95d8",
       "version_major": 2,
       "version_minor": 0
      },
      "text/plain": [
       "  0%|          | 0/200 [00:00<?, ?it/s]"
      ]
     },
     "metadata": {},
     "output_type": "display_data"
    },
    {
     "name": "stderr",
     "output_type": "stream",
     "text": [
      "Exception in thread Thread-20 (_run_job):\n",
      "Traceback (most recent call last):\n",
      "  File \"/home/zekai/miniconda3/envs/eq/lib/python3.11/site-packages/wandb/agents/pyagent.py\", line 298, in _run_job\n",
      "    self._function()\n",
      "  File \"/tmp/ipykernel_15643/1366785928.py\", line 2, in train\n",
      "  File \"/home/zekai/miniconda3/envs/eq/lib/python3.11/site-packages/wandb/sdk/wandb_run.py\", line 3120, in __exit__\n",
      "    self._finish(exit_code=exit_code)\n",
      "  File \"/home/zekai/miniconda3/envs/eq/lib/python3.11/site-packages/wandb/sdk/wandb_run.py\", line 1938, in _finish\n",
      "    hook.call()\n",
      "  File \"/home/zekai/miniconda3/envs/eq/lib/python3.11/site-packages/wandb/sdk/wandb_init.py\", line 464, in _jupyter_teardown\n",
      "    ipython.display_pub.publish = ipython.display_pub._orig_publish\n",
      "                                  ^^^^^^^^^^^^^^^^^^^^^^^^^^^^^^^^^\n",
      "AttributeError: 'ZMQDisplayPublisher' object has no attribute '_orig_publish'\n",
      "\n",
      "During handling of the above exception, another exception occurred:\n",
      "\n",
      "Traceback (most recent call last):\n",
      "  File \"/home/zekai/miniconda3/envs/eq/lib/python3.11/threading.py\", line 1038, in _bootstrap_inner\n",
      "    self.run()\n",
      "  File \"/home/zekai/miniconda3/envs/eq/lib/python3.11/threading.py\", line 975, in run\n",
      "    self._target(*self._args, **self._kwargs)\n",
      "  File \"/home/zekai/miniconda3/envs/eq/lib/python3.11/site-packages/wandb/agents/pyagent.py\", line 303, in _run_job\n",
      "    wandb.finish(exit_code=1)\n",
      "  File \"/home/zekai/miniconda3/envs/eq/lib/python3.11/site-packages/wandb/sdk/wandb_run.py\", line 3852, in finish\n",
      "    wandb.run.finish(exit_code=exit_code, quiet=quiet)\n",
      "  File \"/home/zekai/miniconda3/envs/eq/lib/python3.11/site-packages/wandb/sdk/wandb_run.py\", line 419, in wrapper\n",
      "    return func(self, *args, **kwargs)\n",
      "           ^^^^^^^^^^^^^^^^^^^^^^^^^^^\n",
      "  File \"/home/zekai/miniconda3/envs/eq/lib/python3.11/site-packages/wandb/sdk/wandb_run.py\", line 360, in wrapper\n",
      "    return func(self, *args, **kwargs)\n",
      "           ^^^^^^^^^^^^^^^^^^^^^^^^^^^\n",
      "  File \"/home/zekai/miniconda3/envs/eq/lib/python3.11/site-packages/wandb/sdk/wandb_run.py\", line 1925, in finish\n",
      "    return self._finish(exit_code, quiet)\n",
      "           ^^^^^^^^^^^^^^^^^^^^^^^^^^^^^^\n",
      "  File \"/home/zekai/miniconda3/envs/eq/lib/python3.11/site-packages/wandb/sdk/wandb_run.py\", line 1938, in _finish\n",
      "    hook.call()\n",
      "  File \"/home/zekai/miniconda3/envs/eq/lib/python3.11/site-packages/wandb/sdk/wandb_init.py\", line 464, in _jupyter_teardown\n",
      "    ipython.display_pub.publish = ipython.display_pub._orig_publish\n",
      "                                  ^^^^^^^^^^^^^^^^^^^^^^^^^^^^^^^^^\n",
      "AttributeError: 'ZMQDisplayPublisher' object has no attribute '_orig_publish'\n"
     ]
    },
    {
     "name": "stdout",
     "output_type": "stream",
     "text": [
      "<IPython.core.display.HTML object>\n",
      "VBox(children=(Label(value='0.003 MB of 0.003 MB uploaded (0.000 MB deduped)\\r'), FloatProgress(value=1.0, max=1.0)))\n",
      "<IPython.core.display.HTML object>\n",
      "<IPython.core.display.HTML object>\n",
      "<IPython.core.display.HTML object>\n"
     ]
    },
    {
     "name": "stderr",
     "output_type": "stream",
     "text": [
      "\u001b[34m\u001b[1mwandb\u001b[0m: Agent Starting Run: exm3zv6a with config:\n",
      "\u001b[34m\u001b[1mwandb\u001b[0m: \tbatch_size: 128\n",
      "\u001b[34m\u001b[1mwandb\u001b[0m: \tbetas: [0.9, 0.999]\n",
      "\u001b[34m\u001b[1mwandb\u001b[0m: \tcontext_size: 8\n",
      "\u001b[34m\u001b[1mwandb\u001b[0m: \tdropout_proba: 0.1\n",
      "\u001b[34m\u001b[1mwandb\u001b[0m: \tlr: 0.02\n",
      "\u001b[34m\u001b[1mwandb\u001b[0m: \tnum_components: 128\n",
      "\u001b[34m\u001b[1mwandb\u001b[0m: \trnn_type: LSTM\n",
      "\u001b[34m\u001b[1mwandb\u001b[0m: \tweight_decay: 0.02\n"
     ]
    },
    {
     "data": {
      "text/html": [
       "Tracking run with wandb version 0.15.12"
      ],
      "text/plain": [
       "<IPython.core.display.HTML object>"
      ]
     },
     "metadata": {},
     "output_type": "display_data"
    },
    {
     "data": {
      "text/html": [
       "Run data is saved locally in <code>/home/zekai/repos/recast/notebooks/Zekai/hyperparameter_sweep/wandb/run-20231105_221835-exm3zv6a</code>"
      ],
      "text/plain": [
       "<IPython.core.display.HTML object>"
      ]
     },
     "metadata": {},
     "output_type": "display_data"
    },
    {
     "data": {
      "text/html": [
       "Syncing run <strong><a href='https://wandb.ai/zekai-wang/RecurrentTPP%20on%20ANSS%20Nov%205/runs/exm3zv6a' target=\"_blank\">bumbling-sweep-2</a></strong> to <a href='https://wandb.ai/zekai-wang/RecurrentTPP%20on%20ANSS%20Nov%205' target=\"_blank\">Weights & Biases</a> (<a href='https://wandb.me/run' target=\"_blank\">docs</a>)<br/>Sweep page: <a href='https://wandb.ai/zekai-wang/RecurrentTPP%20on%20ANSS%20Nov%205/sweeps/27ca0onv' target=\"_blank\">https://wandb.ai/zekai-wang/RecurrentTPP%20on%20ANSS%20Nov%205/sweeps/27ca0onv</a>"
      ],
      "text/plain": [
       "<IPython.core.display.HTML object>"
      ]
     },
     "metadata": {},
     "output_type": "display_data"
    },
    {
     "data": {
      "text/html": [
       " View project at <a href='https://wandb.ai/zekai-wang/RecurrentTPP%20on%20ANSS%20Nov%205' target=\"_blank\">https://wandb.ai/zekai-wang/RecurrentTPP%20on%20ANSS%20Nov%205</a>"
      ],
      "text/plain": [
       "<IPython.core.display.HTML object>"
      ]
     },
     "metadata": {},
     "output_type": "display_data"
    },
    {
     "data": {
      "text/html": [
       " View sweep at <a href='https://wandb.ai/zekai-wang/RecurrentTPP%20on%20ANSS%20Nov%205/sweeps/27ca0onv' target=\"_blank\">https://wandb.ai/zekai-wang/RecurrentTPP%20on%20ANSS%20Nov%205/sweeps/27ca0onv</a>"
      ],
      "text/plain": [
       "<IPython.core.display.HTML object>"
      ]
     },
     "metadata": {},
     "output_type": "display_data"
    },
    {
     "data": {
      "text/html": [
       " View run at <a href='https://wandb.ai/zekai-wang/RecurrentTPP%20on%20ANSS%20Nov%205/runs/exm3zv6a' target=\"_blank\">https://wandb.ai/zekai-wang/RecurrentTPP%20on%20ANSS%20Nov%205/runs/exm3zv6a</a>"
      ],
      "text/plain": [
       "<IPython.core.display.HTML object>"
      ]
     },
     "metadata": {},
     "output_type": "display_data"
    },
    {
     "data": {
      "application/vnd.jupyter.widget-view+json": {
       "model_id": "6dd064cce5a0466a815dc18ac2f3858f",
       "version_major": 2,
       "version_minor": 0
      },
      "text/plain": [
       "  0%|          | 0/200 [00:00<?, ?it/s]"
      ]
     },
     "metadata": {},
     "output_type": "display_data"
    },
    {
     "name": "stderr",
     "output_type": "stream",
     "text": [
      "Exception in thread Exception in thread ChkStopThr:\n",
      "NetStatThr:\n",
      "Traceback (most recent call last):\n",
      "Exception in thread Traceback (most recent call last):\n",
      "IntMsgThr  File \"/home/zekai/miniconda3/envs/eq/lib/python3.11/threading.py\", line 1038, in _bootstrap_inner\n",
      ":\n",
      "  File \"/home/zekai/miniconda3/envs/eq/lib/python3.11/threading.py\", line 1038, in _bootstrap_inner\n",
      "Traceback (most recent call last):\n",
      "  File \"/home/zekai/miniconda3/envs/eq/lib/python3.11/threading.py\", line 1038, in _bootstrap_inner\n",
      "        self.run()self.run()\n",
      "    \n",
      "self.run()  File \"/home/zekai/miniconda3/envs/eq/lib/python3.11/threading.py\", line 975, in run\n",
      "\n",
      "  File \"/home/zekai/miniconda3/envs/eq/lib/python3.11/threading.py\", line 975, in run\n",
      "  File \"/home/zekai/miniconda3/envs/eq/lib/python3.11/threading.py\", line 975, in run\n",
      "    self._target(*self._args, **self._kwargs)\n",
      "          File \"/home/zekai/miniconda3/envs/eq/lib/python3.11/site-packages/wandb/sdk/wandb_run.py\", line 267, in check_network_status\n",
      "self._target(*self._args, **self._kwargs)self._target(*self._args, **self._kwargs)\n",
      "\n",
      "  File \"/home/zekai/miniconda3/envs/eq/lib/python3.11/site-packages/wandb/sdk/wandb_run.py\", line 285, in check_stop_status\n",
      "  File \"/home/zekai/miniconda3/envs/eq/lib/python3.11/site-packages/wandb/sdk/wandb_run.py\", line 299, in check_internal_messages\n",
      "    self._loop_check_status(\n",
      "  File \"/home/zekai/miniconda3/envs/eq/lib/python3.11/site-packages/wandb/sdk/wandb_run.py\", line 223, in _loop_check_status\n",
      "    self._loop_check_status(\n",
      "  File \"/home/zekai/miniconda3/envs/eq/lib/python3.11/site-packages/wandb/sdk/wandb_run.py\", line 223, in _loop_check_status\n",
      "    local_handle = request()\n",
      "                   ^^^^^^^^^\n",
      "  File \"/home/zekai/miniconda3/envs/eq/lib/python3.11/site-packages/wandb/sdk/interface/interface.py\", line 743, in deliver_internal_messages\n",
      "        local_handle = request()    self._loop_check_status(\n",
      "return self._deliver_internal_messages(internal_message)\n",
      "\n",
      "   File \"/home/zekai/miniconda3/envs/eq/lib/python3.11/site-packages/wandb/sdk/wandb_run.py\", line 223, in _loop_check_status\n",
      "          local_handle = request()  \n",
      "                     ^  ^  ^  ^  ^  ^  ^ ^^ ^^ ^^ ^^ ^^ ^^ ^^^^^^^^^\n",
      "^^^^  File \"/home/zekai/miniconda3/envs/eq/lib/python3.11/site-packages/wandb/sdk/interface/interface.py\", line 735, in deliver_network_status\n",
      "^^^^    ^^return self._deliver_network_status(status)^^\n",
      "^\n",
      "^ ^  File \"/home/zekai/miniconda3/envs/eq/lib/python3.11/site-packages/wandb/sdk/interface/interface.py\", line 727, in deliver_stop_status\n",
      " ^ ^ ^ ^     ^return self._deliver_stop_status(status) ^\n",
      " ^ ^  ^  ^ ^^ ^^ ^^ ^^ ^^ ^^ ^^ ^^ ^^^^^^^^^^^^^^^^^^^\n",
      "^^^^  File \"/home/zekai/miniconda3/envs/eq/lib/python3.11/site-packages/wandb/sdk/interface/interface_shared.py\", line 481, in _deliver_internal_messages\n",
      "^^^^^^^^^^^^^^^^    ^^return self._deliver_record(record)^^\n",
      "^^^^ ^^ ^^ ^^ ^^ ^^ ^^ ^^ ^\n",
      " ^ ^  File \"/home/zekai/miniconda3/envs/eq/lib/python3.11/site-packages/wandb/sdk/interface/interface_shared.py\", line 475, in _deliver_network_status\n",
      " ^^^^^    ^\n",
      "return self._deliver_record(record)^\n",
      "^  File \"/home/zekai/miniconda3/envs/eq/lib/python3.11/site-packages/wandb/sdk/interface/interface_shared.py\", line 459, in _deliver_stop_status\n",
      "^ ^     ^ return self._deliver_record(record)^ \n",
      "^ ^  ^  ^  ^  ^  ^  ^^ ^^ ^^ ^^ ^^ ^^^^^^^^^^^^^^^^^^^^^\n",
      "^^^^  File \"/home/zekai/miniconda3/envs/eq/lib/python3.11/site-packages/wandb/sdk/interface/interface_shared.py\", line 428, in _deliver_record\n",
      "^^^^^^^^    ^^handle = mailbox._deliver_record(record, interface=self)^^\n",
      "^^^^ ^^ ^^ ^^ ^^ ^^ ^^ \n",
      "^ ^   File \"/home/zekai/miniconda3/envs/eq/lib/python3.11/site-packages/wandb/sdk/interface/interface_shared.py\", line 428, in _deliver_record\n",
      "^ ^ ^ \n",
      "     handle = mailbox._deliver_record(record, interface=self)^  File \"/home/zekai/miniconda3/envs/eq/lib/python3.11/site-packages/wandb/sdk/interface/interface_shared.py\", line 428, in _deliver_record\n",
      "\n",
      "^^ ^     ^handle = mailbox._deliver_record(record, interface=self) ^\n",
      " ^ ^  ^  ^  ^  ^  ^  ^  ^  ^ ^^ ^^ ^^ ^^ ^^^^^^^^^^^^^^^^^^^^^^^^^^^^^^^^^^^^^^^^^^^^^^^^^^^^^^^^^^^^^^^^^^^^^^^^^^^^^^^^^^\n",
      "^^^^  File \"/home/zekai/miniconda3/envs/eq/lib/python3.11/site-packages/wandb/sdk/lib/mailbox.py\", line 455, in _deliver_record\n",
      "^^^^^^^^    ^^interface._publish(record)^^\n",
      "^^^^  File \"/home/zekai/miniconda3/envs/eq/lib/python3.11/site-packages/wandb/sdk/interface/interface_sock.py\", line 51, in _publish\n",
      "^^^^^    ^^self._sock_client.send_record_publish(record)^^\n",
      "^^\n",
      "^  File \"/home/zekai/miniconda3/envs/eq/lib/python3.11/site-packages/wandb/sdk/lib/sock_client.py\", line 221, in send_record_publish\n",
      "^  File \"/home/zekai/miniconda3/envs/eq/lib/python3.11/site-packages/wandb/sdk/lib/mailbox.py\", line 455, in _deliver_record\n",
      "^    ^self.send_server_request(server_req)    \n",
      "\n",
      "interface._publish(record)\n",
      "  File \"/home/zekai/miniconda3/envs/eq/lib/python3.11/site-packages/wandb/sdk/lib/mailbox.py\", line 455, in _deliver_record\n",
      "  File \"/home/zekai/miniconda3/envs/eq/lib/python3.11/site-packages/wandb/sdk/lib/sock_client.py\", line 155, in send_server_request\n",
      "  File \"/home/zekai/miniconda3/envs/eq/lib/python3.11/site-packages/wandb/sdk/interface/interface_sock.py\", line 51, in _publish\n",
      "        interface._publish(record)self._send_message(msg)\n",
      "\n",
      "    self._sock_client.send_record_publish(record)  File \"/home/zekai/miniconda3/envs/eq/lib/python3.11/site-packages/wandb/sdk/interface/interface_sock.py\", line 51, in _publish\n",
      "  File \"/home/zekai/miniconda3/envs/eq/lib/python3.11/site-packages/wandb/sdk/lib/sock_client.py\", line 152, in _send_message\n",
      "\n",
      "          File \"/home/zekai/miniconda3/envs/eq/lib/python3.11/site-packages/wandb/sdk/lib/sock_client.py\", line 221, in send_record_publish\n",
      "self._sendall_with_error_handle(header + data)self._sock_client.send_record_publish(record)\n",
      "\n",
      "  File \"/home/zekai/miniconda3/envs/eq/lib/python3.11/site-packages/wandb/sdk/lib/sock_client.py\", line 130, in _sendall_with_error_handle\n",
      "  File \"/home/zekai/miniconda3/envs/eq/lib/python3.11/site-packages/wandb/sdk/lib/sock_client.py\", line 221, in send_record_publish\n",
      "    sent = self._sock.send(data)\n",
      "           ^^^^^^^^^^^^^^^^^^^^^\n",
      "BrokenPipeError: [Errno 32] Broken pipe\n",
      "    self.send_server_request(server_req)\n",
      "  File \"/home/zekai/miniconda3/envs/eq/lib/python3.11/site-packages/wandb/sdk/lib/sock_client.py\", line 155, in send_server_request\n",
      "    self.send_server_request(server_req)\n",
      "  File \"/home/zekai/miniconda3/envs/eq/lib/python3.11/site-packages/wandb/sdk/lib/sock_client.py\", line 155, in send_server_request\n",
      "        self._send_message(msg)self._send_message(msg)\n",
      "\n",
      "  File \"/home/zekai/miniconda3/envs/eq/lib/python3.11/site-packages/wandb/sdk/lib/sock_client.py\", line 152, in _send_message\n",
      "  File \"/home/zekai/miniconda3/envs/eq/lib/python3.11/site-packages/wandb/sdk/lib/sock_client.py\", line 152, in _send_message\n",
      "    self._sendall_with_error_handle(header + data)\n",
      "  File \"/home/zekai/miniconda3/envs/eq/lib/python3.11/site-packages/wandb/sdk/lib/sock_client.py\", line 130, in _sendall_with_error_handle\n",
      "    self._sendall_with_error_handle(header + data)\n",
      "  File \"/home/zekai/miniconda3/envs/eq/lib/python3.11/site-packages/wandb/sdk/lib/sock_client.py\", line 130, in _sendall_with_error_handle\n",
      "    sent = self._sock.send(data)\n",
      "           ^^^^^^^^^^^^^^^^^^^^^\n",
      "BrokenPipeError: [Errno 32] Broken pipe\n",
      "    sent = self._sock.send(data)\n",
      "           ^^^^^^^^^^^^^^^^^^^^^\n",
      "BrokenPipeError: [Errno 32] Broken pipe\n"
     ]
    },
    {
     "data": {
      "text/html": [
       "Waiting for W&B process to finish... <strong style=\"color:green\">(success).</strong>"
      ],
      "text/plain": [
       "<IPython.core.display.HTML object>"
      ]
     },
     "metadata": {},
     "output_type": "display_data"
    },
    {
     "data": {
      "application/vnd.jupyter.widget-view+json": {
       "model_id": "d676626ce5e94a92a880bd76425b1e65",
       "version_major": 2,
       "version_minor": 0
      },
      "text/plain": [
       "VBox(children=(Label(value='0.003 MB of 0.003 MB uploaded (0.000 MB deduped)\\r'), FloatProgress(value=1.0, max…"
      ]
     },
     "metadata": {},
     "output_type": "display_data"
    },
    {
     "data": {
      "text/html": [
       "<style>\n",
       "    table.wandb td:nth-child(1) { padding: 0 10px; text-align: left ; width: auto;} td:nth-child(2) {text-align: left ; width: 100%}\n",
       "    .wandb-row { display: flex; flex-direction: row; flex-wrap: wrap; justify-content: flex-start; width: 100% }\n",
       "    .wandb-col { display: flex; flex-direction: column; flex-basis: 100%; flex: 1; padding: 10px; }\n",
       "    </style>\n",
       "<div class=\"wandb-row\"><div class=\"wandb-col\"><h3>Run history:</h3><br/><table class=\"wandb\"><tr><td>avg_test_loss</td><td>▁</td></tr></table><br/></div><div class=\"wandb-col\"><h3>Run summary:</h3><br/><table class=\"wandb\"><tr><td>avg_test_loss</td><td>0.16265</td></tr></table><br/></div></div>"
      ],
      "text/plain": [
       "<IPython.core.display.HTML object>"
      ]
     },
     "metadata": {},
     "output_type": "display_data"
    },
    {
     "data": {
      "text/html": [
       " View run <strong style=\"color:#cdcd00\">bumbling-sweep-2</strong> at: <a href='https://wandb.ai/zekai-wang/RecurrentTPP%20on%20ANSS%20Nov%205/runs/exm3zv6a' target=\"_blank\">https://wandb.ai/zekai-wang/RecurrentTPP%20on%20ANSS%20Nov%205/runs/exm3zv6a</a><br/>Synced 6 W&B file(s), 0 media file(s), 0 artifact file(s) and 0 other file(s)"
      ],
      "text/plain": [
       "<IPython.core.display.HTML object>"
      ]
     },
     "metadata": {},
     "output_type": "display_data"
    },
    {
     "data": {
      "text/html": [
       "Find logs at: <code>./wandb/run-20231105_221835-exm3zv6a/logs</code>"
      ],
      "text/plain": [
       "<IPython.core.display.HTML object>"
      ]
     },
     "metadata": {},
     "output_type": "display_data"
    },
    {
     "name": "stderr",
     "output_type": "stream",
     "text": [
      "\u001b[34m\u001b[1mwandb\u001b[0m: Agent Starting Run: hqe7mqof with config:\n",
      "\u001b[34m\u001b[1mwandb\u001b[0m: \tbatch_size: 8\n",
      "\u001b[34m\u001b[1mwandb\u001b[0m: \tbetas: [0.9, 0.999]\n",
      "\u001b[34m\u001b[1mwandb\u001b[0m: \tcontext_size: 128\n",
      "\u001b[34m\u001b[1mwandb\u001b[0m: \tdropout_proba: 0.1\n",
      "\u001b[34m\u001b[1mwandb\u001b[0m: \tlr: 0.05\n",
      "\u001b[34m\u001b[1mwandb\u001b[0m: \tnum_components: 32\n",
      "\u001b[34m\u001b[1mwandb\u001b[0m: \trnn_type: RNN\n",
      "\u001b[34m\u001b[1mwandb\u001b[0m: \tweight_decay: 0.001\n"
     ]
    },
    {
     "data": {
      "text/html": [
       "Tracking run with wandb version 0.15.12"
      ],
      "text/plain": [
       "<IPython.core.display.HTML object>"
      ]
     },
     "metadata": {},
     "output_type": "display_data"
    },
    {
     "data": {
      "text/html": [
       "Run data is saved locally in <code>/home/zekai/repos/recast/notebooks/Zekai/hyperparameter_sweep/wandb/run-20231105_222018-hqe7mqof</code>"
      ],
      "text/plain": [
       "<IPython.core.display.HTML object>"
      ]
     },
     "metadata": {},
     "output_type": "display_data"
    },
    {
     "data": {
      "text/html": [
       "Syncing run <strong><a href='https://wandb.ai/zekai-wang/RecurrentTPP%20on%20ANSS%20Nov%205/runs/hqe7mqof' target=\"_blank\">proud-sweep-3</a></strong> to <a href='https://wandb.ai/zekai-wang/RecurrentTPP%20on%20ANSS%20Nov%205' target=\"_blank\">Weights & Biases</a> (<a href='https://wandb.me/run' target=\"_blank\">docs</a>)<br/>Sweep page: <a href='https://wandb.ai/zekai-wang/RecurrentTPP%20on%20ANSS%20Nov%205/sweeps/27ca0onv' target=\"_blank\">https://wandb.ai/zekai-wang/RecurrentTPP%20on%20ANSS%20Nov%205/sweeps/27ca0onv</a>"
      ],
      "text/plain": [
       "<IPython.core.display.HTML object>"
      ]
     },
     "metadata": {},
     "output_type": "display_data"
    },
    {
     "data": {
      "text/html": [
       " View project at <a href='https://wandb.ai/zekai-wang/RecurrentTPP%20on%20ANSS%20Nov%205' target=\"_blank\">https://wandb.ai/zekai-wang/RecurrentTPP%20on%20ANSS%20Nov%205</a>"
      ],
      "text/plain": [
       "<IPython.core.display.HTML object>"
      ]
     },
     "metadata": {},
     "output_type": "display_data"
    },
    {
     "data": {
      "text/html": [
       " View sweep at <a href='https://wandb.ai/zekai-wang/RecurrentTPP%20on%20ANSS%20Nov%205/sweeps/27ca0onv' target=\"_blank\">https://wandb.ai/zekai-wang/RecurrentTPP%20on%20ANSS%20Nov%205/sweeps/27ca0onv</a>"
      ],
      "text/plain": [
       "<IPython.core.display.HTML object>"
      ]
     },
     "metadata": {},
     "output_type": "display_data"
    },
    {
     "data": {
      "text/html": [
       " View run at <a href='https://wandb.ai/zekai-wang/RecurrentTPP%20on%20ANSS%20Nov%205/runs/hqe7mqof' target=\"_blank\">https://wandb.ai/zekai-wang/RecurrentTPP%20on%20ANSS%20Nov%205/runs/hqe7mqof</a>"
      ],
      "text/plain": [
       "<IPython.core.display.HTML object>"
      ]
     },
     "metadata": {},
     "output_type": "display_data"
    },
    {
     "data": {
      "application/vnd.jupyter.widget-view+json": {
       "model_id": "f3d731739b834e8a84d6fadc0b0f4299",
       "version_major": 2,
       "version_minor": 0
      },
      "text/plain": [
       "  0%|          | 0/200 [00:00<?, ?it/s]"
      ]
     },
     "metadata": {},
     "output_type": "display_data"
    },
    {
     "name": "stdout",
     "output_type": "stream",
     "text": [
      "Expected parameter scale (Tensor of shape (8, 462, 32)) of distribution Weibull(scale: torch.Size([8, 462, 32]), shape: torch.Size([8, 462, 32])) to satisfy the constraint GreaterThan(lower_bound=0.0), but found invalid values:\n",
      "tensor([[[   nan, 0.7629, 0.7606,  ..., 0.7818, 0.8243, 0.8388],\n",
      "         [   nan,    nan,    nan,  ...,    nan,    nan,    nan],\n",
      "         [   nan,    nan,    nan,  ...,    nan,    nan,    nan],\n",
      "         ...,\n",
      "         [   nan,    nan,    nan,  ...,    nan,    nan,    nan],\n",
      "         [   nan,    nan,    nan,  ...,    nan,    nan,    nan],\n",
      "         [   nan,    nan,    nan,  ...,    nan,    nan,    nan]],\n",
      "\n",
      "        [[   nan, 0.7629, 0.7606,  ..., 0.7818, 0.8243, 0.8388],\n",
      "         [   nan,    nan,    nan,  ...,    nan,    nan,    nan],\n",
      "         [   nan,    nan,    nan,  ...,    nan,    nan,    nan],\n",
      "         ...,\n",
      "         [   nan,    nan,    nan,  ...,    nan,    nan,    nan],\n",
      "         [   nan,    nan,    nan,  ...,    nan,    nan,    nan],\n",
      "         [   nan,    nan,    nan,  ...,    nan,    nan,    nan]],\n",
      "\n",
      "        [[   nan, 0.7629, 0.7606,  ..., 0.7818, 0.8243, 0.8388],\n",
      "         [   nan,    nan,    nan,  ...,    nan,    nan,    nan],\n",
      "         [   nan,    nan,    nan,  ...,    nan,    nan,    nan],\n",
      "         ...,\n",
      "         [   nan,    nan,    nan,  ...,    nan,    nan,    nan],\n",
      "         [   nan,    nan,    nan,  ...,    nan,    nan,    nan],\n",
      "         [   nan,    nan,    nan,  ...,    nan,    nan,    nan]],\n",
      "\n",
      "        ...,\n",
      "\n",
      "        [[   nan, 0.7629, 0.7606,  ..., 0.7818, 0.8243, 0.8388],\n",
      "         [   nan,    nan,    nan,  ...,    nan,    nan,    nan],\n",
      "         [   nan,    nan,    nan,  ...,    nan,    nan,    nan],\n",
      "         ...,\n",
      "         [   nan,    nan,    nan,  ...,    nan,    nan,    nan],\n",
      "         [   nan,    nan,    nan,  ...,    nan,    nan,    nan],\n",
      "         [   nan,    nan,    nan,  ...,    nan,    nan,    nan]],\n",
      "\n",
      "        [[   nan, 0.7629, 0.7606,  ..., 0.7818, 0.8243, 0.8388],\n",
      "         [   nan,    nan,    nan,  ...,    nan,    nan,    nan],\n",
      "         [   nan,    nan,    nan,  ...,    nan,    nan,    nan],\n",
      "         ...,\n",
      "         [   nan,    nan,    nan,  ...,    nan,    nan,    nan],\n",
      "         [   nan,    nan,    nan,  ...,    nan,    nan,    nan],\n",
      "         [   nan,    nan,    nan,  ...,    nan,    nan,    nan]],\n",
      "\n",
      "        [[   nan, 0.7629, 0.7606,  ..., 0.7818, 0.8243, 0.8388],\n",
      "         [   nan,    nan,    nan,  ...,    nan,    nan,    nan],\n",
      "         [   nan,    nan,    nan,  ...,    nan,    nan,    nan],\n",
      "         ...,\n",
      "         [   nan,    nan,    nan,  ...,    nan,    nan,    nan],\n",
      "         [   nan,    nan,    nan,  ...,    nan,    nan,    nan],\n",
      "         [   nan,    nan,    nan,  ...,    nan,    nan,    nan]]],\n",
      "       device='cuda:0', grad_fn=<SoftplusBackward0>)\n"
     ]
    },
    {
     "data": {
      "text/html": [
       "Waiting for W&B process to finish... <strong style=\"color:green\">(success).</strong>"
      ],
      "text/plain": [
       "<IPython.core.display.HTML object>"
      ]
     },
     "metadata": {},
     "output_type": "display_data"
    },
    {
     "data": {
      "text/html": [
       "<style>\n",
       "    table.wandb td:nth-child(1) { padding: 0 10px; text-align: left ; width: auto;} td:nth-child(2) {text-align: left ; width: 100%}\n",
       "    .wandb-row { display: flex; flex-direction: row; flex-wrap: wrap; justify-content: flex-start; width: 100% }\n",
       "    .wandb-col { display: flex; flex-direction: column; flex-basis: 100%; flex: 1; padding: 10px; }\n",
       "    </style>\n",
       "<div class=\"wandb-row\"><div class=\"wandb-col\"><h3>Run summary:</h3><br/><table class=\"wandb\"><tr><td>avg_test_loss</td><td>nan</td></tr></table><br/></div></div>"
      ],
      "text/plain": [
       "<IPython.core.display.HTML object>"
      ]
     },
     "metadata": {},
     "output_type": "display_data"
    },
    {
     "data": {
      "text/html": [
       " View run <strong style=\"color:#cdcd00\">proud-sweep-3</strong> at: <a href='https://wandb.ai/zekai-wang/RecurrentTPP%20on%20ANSS%20Nov%205/runs/hqe7mqof' target=\"_blank\">https://wandb.ai/zekai-wang/RecurrentTPP%20on%20ANSS%20Nov%205/runs/hqe7mqof</a><br/>Synced 6 W&B file(s), 0 media file(s), 0 artifact file(s) and 0 other file(s)"
      ],
      "text/plain": [
       "<IPython.core.display.HTML object>"
      ]
     },
     "metadata": {},
     "output_type": "display_data"
    },
    {
     "data": {
      "text/html": [
       "Find logs at: <code>./wandb/run-20231105_222018-hqe7mqof/logs</code>"
      ],
      "text/plain": [
       "<IPython.core.display.HTML object>"
      ]
     },
     "metadata": {},
     "output_type": "display_data"
    },
    {
     "name": "stderr",
     "output_type": "stream",
     "text": [
      "\u001b[34m\u001b[1mwandb\u001b[0m: Agent Starting Run: 3f23ig8i with config:\n",
      "\u001b[34m\u001b[1mwandb\u001b[0m: \tbatch_size: 8\n",
      "\u001b[34m\u001b[1mwandb\u001b[0m: \tbetas: [0.9, 0.999]\n",
      "\u001b[34m\u001b[1mwandb\u001b[0m: \tcontext_size: 32\n",
      "\u001b[34m\u001b[1mwandb\u001b[0m: \tdropout_proba: 0.4\n",
      "\u001b[34m\u001b[1mwandb\u001b[0m: \tlr: 0.01\n",
      "\u001b[34m\u001b[1mwandb\u001b[0m: \tnum_components: 64\n",
      "\u001b[34m\u001b[1mwandb\u001b[0m: \trnn_type: GRU\n",
      "\u001b[34m\u001b[1mwandb\u001b[0m: \tweight_decay: 0\n"
     ]
    },
    {
     "data": {
      "text/html": [
       "Tracking run with wandb version 0.15.12"
      ],
      "text/plain": [
       "<IPython.core.display.HTML object>"
      ]
     },
     "metadata": {},
     "output_type": "display_data"
    },
    {
     "data": {
      "text/html": [
       "Run data is saved locally in <code>/home/zekai/repos/recast/notebooks/Zekai/hyperparameter_sweep/wandb/run-20231105_222028-3f23ig8i</code>"
      ],
      "text/plain": [
       "<IPython.core.display.HTML object>"
      ]
     },
     "metadata": {},
     "output_type": "display_data"
    },
    {
     "data": {
      "text/html": [
       "Syncing run <strong><a href='https://wandb.ai/zekai-wang/RecurrentTPP%20on%20ANSS%20Nov%205/runs/3f23ig8i' target=\"_blank\">revived-sweep-4</a></strong> to <a href='https://wandb.ai/zekai-wang/RecurrentTPP%20on%20ANSS%20Nov%205' target=\"_blank\">Weights & Biases</a> (<a href='https://wandb.me/run' target=\"_blank\">docs</a>)<br/>Sweep page: <a href='https://wandb.ai/zekai-wang/RecurrentTPP%20on%20ANSS%20Nov%205/sweeps/27ca0onv' target=\"_blank\">https://wandb.ai/zekai-wang/RecurrentTPP%20on%20ANSS%20Nov%205/sweeps/27ca0onv</a>"
      ],
      "text/plain": [
       "<IPython.core.display.HTML object>"
      ]
     },
     "metadata": {},
     "output_type": "display_data"
    },
    {
     "data": {
      "text/html": [
       " View project at <a href='https://wandb.ai/zekai-wang/RecurrentTPP%20on%20ANSS%20Nov%205' target=\"_blank\">https://wandb.ai/zekai-wang/RecurrentTPP%20on%20ANSS%20Nov%205</a>"
      ],
      "text/plain": [
       "<IPython.core.display.HTML object>"
      ]
     },
     "metadata": {},
     "output_type": "display_data"
    },
    {
     "data": {
      "text/html": [
       " View sweep at <a href='https://wandb.ai/zekai-wang/RecurrentTPP%20on%20ANSS%20Nov%205/sweeps/27ca0onv' target=\"_blank\">https://wandb.ai/zekai-wang/RecurrentTPP%20on%20ANSS%20Nov%205/sweeps/27ca0onv</a>"
      ],
      "text/plain": [
       "<IPython.core.display.HTML object>"
      ]
     },
     "metadata": {},
     "output_type": "display_data"
    },
    {
     "data": {
      "text/html": [
       " View run at <a href='https://wandb.ai/zekai-wang/RecurrentTPP%20on%20ANSS%20Nov%205/runs/3f23ig8i' target=\"_blank\">https://wandb.ai/zekai-wang/RecurrentTPP%20on%20ANSS%20Nov%205/runs/3f23ig8i</a>"
      ],
      "text/plain": [
       "<IPython.core.display.HTML object>"
      ]
     },
     "metadata": {},
     "output_type": "display_data"
    },
    {
     "data": {
      "application/vnd.jupyter.widget-view+json": {
       "model_id": "98b82acb203943d29dfebefffdbedb16",
       "version_major": 2,
       "version_minor": 0
      },
      "text/plain": [
       "  0%|          | 0/200 [00:00<?, ?it/s]"
      ]
     },
     "metadata": {},
     "output_type": "display_data"
    },
    {
     "data": {
      "text/html": [
       "Waiting for W&B process to finish... <strong style=\"color:green\">(success).</strong>"
      ],
      "text/plain": [
       "<IPython.core.display.HTML object>"
      ]
     },
     "metadata": {},
     "output_type": "display_data"
    },
    {
     "data": {
      "text/html": [
       "<style>\n",
       "    table.wandb td:nth-child(1) { padding: 0 10px; text-align: left ; width: auto;} td:nth-child(2) {text-align: left ; width: 100%}\n",
       "    .wandb-row { display: flex; flex-direction: row; flex-wrap: wrap; justify-content: flex-start; width: 100% }\n",
       "    .wandb-col { display: flex; flex-direction: column; flex-basis: 100%; flex: 1; padding: 10px; }\n",
       "    </style>\n",
       "<div class=\"wandb-row\"><div class=\"wandb-col\"><h3>Run history:</h3><br/><table class=\"wandb\"><tr><td>avg_test_loss</td><td>▁</td></tr></table><br/></div><div class=\"wandb-col\"><h3>Run summary:</h3><br/><table class=\"wandb\"><tr><td>avg_test_loss</td><td>0.18022</td></tr></table><br/></div></div>"
      ],
      "text/plain": [
       "<IPython.core.display.HTML object>"
      ]
     },
     "metadata": {},
     "output_type": "display_data"
    },
    {
     "data": {
      "text/html": [
       " View run <strong style=\"color:#cdcd00\">revived-sweep-4</strong> at: <a href='https://wandb.ai/zekai-wang/RecurrentTPP%20on%20ANSS%20Nov%205/runs/3f23ig8i' target=\"_blank\">https://wandb.ai/zekai-wang/RecurrentTPP%20on%20ANSS%20Nov%205/runs/3f23ig8i</a><br/>Synced 5 W&B file(s), 0 media file(s), 0 artifact file(s) and 0 other file(s)"
      ],
      "text/plain": [
       "<IPython.core.display.HTML object>"
      ]
     },
     "metadata": {},
     "output_type": "display_data"
    },
    {
     "data": {
      "text/html": [
       "Find logs at: <code>./wandb/run-20231105_222028-3f23ig8i/logs</code>"
      ],
      "text/plain": [
       "<IPython.core.display.HTML object>"
      ]
     },
     "metadata": {},
     "output_type": "display_data"
    },
    {
     "name": "stderr",
     "output_type": "stream",
     "text": [
      "\u001b[34m\u001b[1mwandb\u001b[0m: Agent Starting Run: mozsxwej with config:\n",
      "\u001b[34m\u001b[1mwandb\u001b[0m: \tbatch_size: 8\n",
      "\u001b[34m\u001b[1mwandb\u001b[0m: \tbetas: [0.9, 0.999]\n",
      "\u001b[34m\u001b[1mwandb\u001b[0m: \tcontext_size: 32\n",
      "\u001b[34m\u001b[1mwandb\u001b[0m: \tdropout_proba: 0.3\n",
      "\u001b[34m\u001b[1mwandb\u001b[0m: \tlr: 0.005\n",
      "\u001b[34m\u001b[1mwandb\u001b[0m: \tnum_components: 32\n",
      "\u001b[34m\u001b[1mwandb\u001b[0m: \trnn_type: RNN\n",
      "\u001b[34m\u001b[1mwandb\u001b[0m: \tweight_decay: 0\n"
     ]
    },
    {
     "data": {
      "text/html": [
       "Tracking run with wandb version 0.15.12"
      ],
      "text/plain": [
       "<IPython.core.display.HTML object>"
      ]
     },
     "metadata": {},
     "output_type": "display_data"
    },
    {
     "data": {
      "text/html": [
       "Run data is saved locally in <code>/home/zekai/repos/recast/notebooks/Zekai/hyperparameter_sweep/wandb/run-20231105_222215-mozsxwej</code>"
      ],
      "text/plain": [
       "<IPython.core.display.HTML object>"
      ]
     },
     "metadata": {},
     "output_type": "display_data"
    },
    {
     "data": {
      "text/html": [
       "Syncing run <strong><a href='https://wandb.ai/zekai-wang/RecurrentTPP%20on%20ANSS%20Nov%205/runs/mozsxwej' target=\"_blank\">volcanic-sweep-5</a></strong> to <a href='https://wandb.ai/zekai-wang/RecurrentTPP%20on%20ANSS%20Nov%205' target=\"_blank\">Weights & Biases</a> (<a href='https://wandb.me/run' target=\"_blank\">docs</a>)<br/>Sweep page: <a href='https://wandb.ai/zekai-wang/RecurrentTPP%20on%20ANSS%20Nov%205/sweeps/27ca0onv' target=\"_blank\">https://wandb.ai/zekai-wang/RecurrentTPP%20on%20ANSS%20Nov%205/sweeps/27ca0onv</a>"
      ],
      "text/plain": [
       "<IPython.core.display.HTML object>"
      ]
     },
     "metadata": {},
     "output_type": "display_data"
    },
    {
     "data": {
      "text/html": [
       " View project at <a href='https://wandb.ai/zekai-wang/RecurrentTPP%20on%20ANSS%20Nov%205' target=\"_blank\">https://wandb.ai/zekai-wang/RecurrentTPP%20on%20ANSS%20Nov%205</a>"
      ],
      "text/plain": [
       "<IPython.core.display.HTML object>"
      ]
     },
     "metadata": {},
     "output_type": "display_data"
    },
    {
     "data": {
      "text/html": [
       " View sweep at <a href='https://wandb.ai/zekai-wang/RecurrentTPP%20on%20ANSS%20Nov%205/sweeps/27ca0onv' target=\"_blank\">https://wandb.ai/zekai-wang/RecurrentTPP%20on%20ANSS%20Nov%205/sweeps/27ca0onv</a>"
      ],
      "text/plain": [
       "<IPython.core.display.HTML object>"
      ]
     },
     "metadata": {},
     "output_type": "display_data"
    },
    {
     "data": {
      "text/html": [
       " View run at <a href='https://wandb.ai/zekai-wang/RecurrentTPP%20on%20ANSS%20Nov%205/runs/mozsxwej' target=\"_blank\">https://wandb.ai/zekai-wang/RecurrentTPP%20on%20ANSS%20Nov%205/runs/mozsxwej</a>"
      ],
      "text/plain": [
       "<IPython.core.display.HTML object>"
      ]
     },
     "metadata": {},
     "output_type": "display_data"
    },
    {
     "data": {
      "application/vnd.jupyter.widget-view+json": {
       "model_id": "00c16be138c34974a76f965b0621b206",
       "version_major": 2,
       "version_minor": 0
      },
      "text/plain": [
       "  0%|          | 0/200 [00:00<?, ?it/s]"
      ]
     },
     "metadata": {},
     "output_type": "display_data"
    },
    {
     "data": {
      "text/html": [
       "Waiting for W&B process to finish... <strong style=\"color:green\">(success).</strong>"
      ],
      "text/plain": [
       "<IPython.core.display.HTML object>"
      ]
     },
     "metadata": {},
     "output_type": "display_data"
    },
    {
     "data": {
      "application/vnd.jupyter.widget-view+json": {
       "model_id": "f42e8f18c67f4e46acc4f5e4ccd5ebbe",
       "version_major": 2,
       "version_minor": 0
      },
      "text/plain": [
       "VBox(children=(Label(value='0.003 MB of 0.019 MB uploaded (0.000 MB deduped)\\r'), FloatProgress(value=0.184864…"
      ]
     },
     "metadata": {},
     "output_type": "display_data"
    },
    {
     "data": {
      "text/html": [
       "<style>\n",
       "    table.wandb td:nth-child(1) { padding: 0 10px; text-align: left ; width: auto;} td:nth-child(2) {text-align: left ; width: 100%}\n",
       "    .wandb-row { display: flex; flex-direction: row; flex-wrap: wrap; justify-content: flex-start; width: 100% }\n",
       "    .wandb-col { display: flex; flex-direction: column; flex-basis: 100%; flex: 1; padding: 10px; }\n",
       "    </style>\n",
       "<div class=\"wandb-row\"><div class=\"wandb-col\"><h3>Run history:</h3><br/><table class=\"wandb\"><tr><td>avg_test_loss</td><td>▁</td></tr></table><br/></div><div class=\"wandb-col\"><h3>Run summary:</h3><br/><table class=\"wandb\"><tr><td>avg_test_loss</td><td>0.17367</td></tr></table><br/></div></div>"
      ],
      "text/plain": [
       "<IPython.core.display.HTML object>"
      ]
     },
     "metadata": {},
     "output_type": "display_data"
    },
    {
     "data": {
      "text/html": [
       " View run <strong style=\"color:#cdcd00\">volcanic-sweep-5</strong> at: <a href='https://wandb.ai/zekai-wang/RecurrentTPP%20on%20ANSS%20Nov%205/runs/mozsxwej' target=\"_blank\">https://wandb.ai/zekai-wang/RecurrentTPP%20on%20ANSS%20Nov%205/runs/mozsxwej</a><br/>Synced 5 W&B file(s), 0 media file(s), 0 artifact file(s) and 0 other file(s)"
      ],
      "text/plain": [
       "<IPython.core.display.HTML object>"
      ]
     },
     "metadata": {},
     "output_type": "display_data"
    },
    {
     "data": {
      "text/html": [
       "Find logs at: <code>./wandb/run-20231105_222215-mozsxwej/logs</code>"
      ],
      "text/plain": [
       "<IPython.core.display.HTML object>"
      ]
     },
     "metadata": {},
     "output_type": "display_data"
    },
    {
     "name": "stderr",
     "output_type": "stream",
     "text": [
      "\u001b[34m\u001b[1mwandb\u001b[0m: Agent Starting Run: u688d0ul with config:\n",
      "\u001b[34m\u001b[1mwandb\u001b[0m: \tbatch_size: 32\n",
      "\u001b[34m\u001b[1mwandb\u001b[0m: \tbetas: [0.9, 0.999]\n",
      "\u001b[34m\u001b[1mwandb\u001b[0m: \tcontext_size: 32\n",
      "\u001b[34m\u001b[1mwandb\u001b[0m: \tdropout_proba: 0\n",
      "\u001b[34m\u001b[1mwandb\u001b[0m: \tlr: 0.01\n",
      "\u001b[34m\u001b[1mwandb\u001b[0m: \tnum_components: 64\n",
      "\u001b[34m\u001b[1mwandb\u001b[0m: \trnn_type: LSTM\n",
      "\u001b[34m\u001b[1mwandb\u001b[0m: \tweight_decay: 0.02\n"
     ]
    },
    {
     "data": {
      "text/html": [
       "Tracking run with wandb version 0.15.12"
      ],
      "text/plain": [
       "<IPython.core.display.HTML object>"
      ]
     },
     "metadata": {},
     "output_type": "display_data"
    },
    {
     "data": {
      "text/html": [
       "Run data is saved locally in <code>/home/zekai/repos/recast/notebooks/Zekai/hyperparameter_sweep/wandb/run-20231105_222403-u688d0ul</code>"
      ],
      "text/plain": [
       "<IPython.core.display.HTML object>"
      ]
     },
     "metadata": {},
     "output_type": "display_data"
    },
    {
     "data": {
      "text/html": [
       "Syncing run <strong><a href='https://wandb.ai/zekai-wang/RecurrentTPP%20on%20ANSS%20Nov%205/runs/u688d0ul' target=\"_blank\">brisk-sweep-6</a></strong> to <a href='https://wandb.ai/zekai-wang/RecurrentTPP%20on%20ANSS%20Nov%205' target=\"_blank\">Weights & Biases</a> (<a href='https://wandb.me/run' target=\"_blank\">docs</a>)<br/>Sweep page: <a href='https://wandb.ai/zekai-wang/RecurrentTPP%20on%20ANSS%20Nov%205/sweeps/27ca0onv' target=\"_blank\">https://wandb.ai/zekai-wang/RecurrentTPP%20on%20ANSS%20Nov%205/sweeps/27ca0onv</a>"
      ],
      "text/plain": [
       "<IPython.core.display.HTML object>"
      ]
     },
     "metadata": {},
     "output_type": "display_data"
    },
    {
     "data": {
      "text/html": [
       " View project at <a href='https://wandb.ai/zekai-wang/RecurrentTPP%20on%20ANSS%20Nov%205' target=\"_blank\">https://wandb.ai/zekai-wang/RecurrentTPP%20on%20ANSS%20Nov%205</a>"
      ],
      "text/plain": [
       "<IPython.core.display.HTML object>"
      ]
     },
     "metadata": {},
     "output_type": "display_data"
    },
    {
     "data": {
      "text/html": [
       " View sweep at <a href='https://wandb.ai/zekai-wang/RecurrentTPP%20on%20ANSS%20Nov%205/sweeps/27ca0onv' target=\"_blank\">https://wandb.ai/zekai-wang/RecurrentTPP%20on%20ANSS%20Nov%205/sweeps/27ca0onv</a>"
      ],
      "text/plain": [
       "<IPython.core.display.HTML object>"
      ]
     },
     "metadata": {},
     "output_type": "display_data"
    },
    {
     "data": {
      "text/html": [
       " View run at <a href='https://wandb.ai/zekai-wang/RecurrentTPP%20on%20ANSS%20Nov%205/runs/u688d0ul' target=\"_blank\">https://wandb.ai/zekai-wang/RecurrentTPP%20on%20ANSS%20Nov%205/runs/u688d0ul</a>"
      ],
      "text/plain": [
       "<IPython.core.display.HTML object>"
      ]
     },
     "metadata": {},
     "output_type": "display_data"
    },
    {
     "data": {
      "application/vnd.jupyter.widget-view+json": {
       "model_id": "28c7cc630bae405a92781a81ddb5fb8d",
       "version_major": 2,
       "version_minor": 0
      },
      "text/plain": [
       "  0%|          | 0/200 [00:00<?, ?it/s]"
      ]
     },
     "metadata": {},
     "output_type": "display_data"
    },
    {
     "data": {
      "text/html": [
       "Waiting for W&B process to finish... <strong style=\"color:green\">(success).</strong>"
      ],
      "text/plain": [
       "<IPython.core.display.HTML object>"
      ]
     },
     "metadata": {},
     "output_type": "display_data"
    },
    {
     "data": {
      "application/vnd.jupyter.widget-view+json": {
       "model_id": "5fd968a79880476ebb71d1b3f9e37950",
       "version_major": 2,
       "version_minor": 0
      },
      "text/plain": [
       "VBox(children=(Label(value='0.003 MB of 0.014 MB uploaded (0.000 MB deduped)\\r'), FloatProgress(value=0.246308…"
      ]
     },
     "metadata": {},
     "output_type": "display_data"
    },
    {
     "data": {
      "text/html": [
       "<style>\n",
       "    table.wandb td:nth-child(1) { padding: 0 10px; text-align: left ; width: auto;} td:nth-child(2) {text-align: left ; width: 100%}\n",
       "    .wandb-row { display: flex; flex-direction: row; flex-wrap: wrap; justify-content: flex-start; width: 100% }\n",
       "    .wandb-col { display: flex; flex-direction: column; flex-basis: 100%; flex: 1; padding: 10px; }\n",
       "    </style>\n",
       "<div class=\"wandb-row\"><div class=\"wandb-col\"><h3>Run history:</h3><br/><table class=\"wandb\"><tr><td>avg_test_loss</td><td>▁</td></tr></table><br/></div><div class=\"wandb-col\"><h3>Run summary:</h3><br/><table class=\"wandb\"><tr><td>avg_test_loss</td><td>0.16217</td></tr></table><br/></div></div>"
      ],
      "text/plain": [
       "<IPython.core.display.HTML object>"
      ]
     },
     "metadata": {},
     "output_type": "display_data"
    },
    {
     "data": {
      "text/html": [
       " View run <strong style=\"color:#cdcd00\">brisk-sweep-6</strong> at: <a href='https://wandb.ai/zekai-wang/RecurrentTPP%20on%20ANSS%20Nov%205/runs/u688d0ul' target=\"_blank\">https://wandb.ai/zekai-wang/RecurrentTPP%20on%20ANSS%20Nov%205/runs/u688d0ul</a><br/>Synced 5 W&B file(s), 0 media file(s), 0 artifact file(s) and 0 other file(s)"
      ],
      "text/plain": [
       "<IPython.core.display.HTML object>"
      ]
     },
     "metadata": {},
     "output_type": "display_data"
    },
    {
     "data": {
      "text/html": [
       "Find logs at: <code>./wandb/run-20231105_222403-u688d0ul/logs</code>"
      ],
      "text/plain": [
       "<IPython.core.display.HTML object>"
      ]
     },
     "metadata": {},
     "output_type": "display_data"
    },
    {
     "name": "stderr",
     "output_type": "stream",
     "text": [
      "\u001b[34m\u001b[1mwandb\u001b[0m: Agent Starting Run: j0h7zq2i with config:\n",
      "\u001b[34m\u001b[1mwandb\u001b[0m: \tbatch_size: 64\n",
      "\u001b[34m\u001b[1mwandb\u001b[0m: \tbetas: [0.9, 0.999]\n",
      "\u001b[34m\u001b[1mwandb\u001b[0m: \tcontext_size: 64\n",
      "\u001b[34m\u001b[1mwandb\u001b[0m: \tdropout_proba: 0.4\n",
      "\u001b[34m\u001b[1mwandb\u001b[0m: \tlr: 0.001\n",
      "\u001b[34m\u001b[1mwandb\u001b[0m: \tnum_components: 16\n",
      "\u001b[34m\u001b[1mwandb\u001b[0m: \trnn_type: RNN\n",
      "\u001b[34m\u001b[1mwandb\u001b[0m: \tweight_decay: 0.001\n"
     ]
    },
    {
     "data": {
      "text/html": [
       "Tracking run with wandb version 0.15.12"
      ],
      "text/plain": [
       "<IPython.core.display.HTML object>"
      ]
     },
     "metadata": {},
     "output_type": "display_data"
    },
    {
     "data": {
      "text/html": [
       "Run data is saved locally in <code>/home/zekai/repos/recast/notebooks/Zekai/hyperparameter_sweep/wandb/run-20231105_222535-j0h7zq2i</code>"
      ],
      "text/plain": [
       "<IPython.core.display.HTML object>"
      ]
     },
     "metadata": {},
     "output_type": "display_data"
    },
    {
     "data": {
      "text/html": [
       "Syncing run <strong><a href='https://wandb.ai/zekai-wang/RecurrentTPP%20on%20ANSS%20Nov%205/runs/j0h7zq2i' target=\"_blank\">eager-sweep-7</a></strong> to <a href='https://wandb.ai/zekai-wang/RecurrentTPP%20on%20ANSS%20Nov%205' target=\"_blank\">Weights & Biases</a> (<a href='https://wandb.me/run' target=\"_blank\">docs</a>)<br/>Sweep page: <a href='https://wandb.ai/zekai-wang/RecurrentTPP%20on%20ANSS%20Nov%205/sweeps/27ca0onv' target=\"_blank\">https://wandb.ai/zekai-wang/RecurrentTPP%20on%20ANSS%20Nov%205/sweeps/27ca0onv</a>"
      ],
      "text/plain": [
       "<IPython.core.display.HTML object>"
      ]
     },
     "metadata": {},
     "output_type": "display_data"
    },
    {
     "data": {
      "text/html": [
       " View project at <a href='https://wandb.ai/zekai-wang/RecurrentTPP%20on%20ANSS%20Nov%205' target=\"_blank\">https://wandb.ai/zekai-wang/RecurrentTPP%20on%20ANSS%20Nov%205</a>"
      ],
      "text/plain": [
       "<IPython.core.display.HTML object>"
      ]
     },
     "metadata": {},
     "output_type": "display_data"
    },
    {
     "data": {
      "text/html": [
       " View sweep at <a href='https://wandb.ai/zekai-wang/RecurrentTPP%20on%20ANSS%20Nov%205/sweeps/27ca0onv' target=\"_blank\">https://wandb.ai/zekai-wang/RecurrentTPP%20on%20ANSS%20Nov%205/sweeps/27ca0onv</a>"
      ],
      "text/plain": [
       "<IPython.core.display.HTML object>"
      ]
     },
     "metadata": {},
     "output_type": "display_data"
    },
    {
     "data": {
      "text/html": [
       " View run at <a href='https://wandb.ai/zekai-wang/RecurrentTPP%20on%20ANSS%20Nov%205/runs/j0h7zq2i' target=\"_blank\">https://wandb.ai/zekai-wang/RecurrentTPP%20on%20ANSS%20Nov%205/runs/j0h7zq2i</a>"
      ],
      "text/plain": [
       "<IPython.core.display.HTML object>"
      ]
     },
     "metadata": {},
     "output_type": "display_data"
    },
    {
     "data": {
      "application/vnd.jupyter.widget-view+json": {
       "model_id": "f52f86dea0494bd59e4de710f15a7416",
       "version_major": 2,
       "version_minor": 0
      },
      "text/plain": [
       "  0%|          | 0/200 [00:00<?, ?it/s]"
      ]
     },
     "metadata": {},
     "output_type": "display_data"
    },
    {
     "data": {
      "text/html": [
       "Waiting for W&B process to finish... <strong style=\"color:green\">(success).</strong>"
      ],
      "text/plain": [
       "<IPython.core.display.HTML object>"
      ]
     },
     "metadata": {},
     "output_type": "display_data"
    },
    {
     "data": {
      "text/html": [
       "<style>\n",
       "    table.wandb td:nth-child(1) { padding: 0 10px; text-align: left ; width: auto;} td:nth-child(2) {text-align: left ; width: 100%}\n",
       "    .wandb-row { display: flex; flex-direction: row; flex-wrap: wrap; justify-content: flex-start; width: 100% }\n",
       "    .wandb-col { display: flex; flex-direction: column; flex-basis: 100%; flex: 1; padding: 10px; }\n",
       "    </style>\n",
       "<div class=\"wandb-row\"><div class=\"wandb-col\"><h3>Run history:</h3><br/><table class=\"wandb\"><tr><td>avg_test_loss</td><td>▁</td></tr></table><br/></div><div class=\"wandb-col\"><h3>Run summary:</h3><br/><table class=\"wandb\"><tr><td>avg_test_loss</td><td>0.17515</td></tr></table><br/></div></div>"
      ],
      "text/plain": [
       "<IPython.core.display.HTML object>"
      ]
     },
     "metadata": {},
     "output_type": "display_data"
    },
    {
     "data": {
      "text/html": [
       " View run <strong style=\"color:#cdcd00\">eager-sweep-7</strong> at: <a href='https://wandb.ai/zekai-wang/RecurrentTPP%20on%20ANSS%20Nov%205/runs/j0h7zq2i' target=\"_blank\">https://wandb.ai/zekai-wang/RecurrentTPP%20on%20ANSS%20Nov%205/runs/j0h7zq2i</a><br/>Synced 5 W&B file(s), 0 media file(s), 0 artifact file(s) and 0 other file(s)"
      ],
      "text/plain": [
       "<IPython.core.display.HTML object>"
      ]
     },
     "metadata": {},
     "output_type": "display_data"
    },
    {
     "data": {
      "text/html": [
       "Find logs at: <code>./wandb/run-20231105_222535-j0h7zq2i/logs</code>"
      ],
      "text/plain": [
       "<IPython.core.display.HTML object>"
      ]
     },
     "metadata": {},
     "output_type": "display_data"
    },
    {
     "name": "stderr",
     "output_type": "stream",
     "text": [
      "\u001b[34m\u001b[1mwandb\u001b[0m: Agent Starting Run: 21wsc8e7 with config:\n",
      "\u001b[34m\u001b[1mwandb\u001b[0m: \tbatch_size: 8\n",
      "\u001b[34m\u001b[1mwandb\u001b[0m: \tbetas: [0.9, 0.999]\n",
      "\u001b[34m\u001b[1mwandb\u001b[0m: \tcontext_size: 16\n",
      "\u001b[34m\u001b[1mwandb\u001b[0m: \tdropout_proba: 0.4\n",
      "\u001b[34m\u001b[1mwandb\u001b[0m: \tlr: 0.05\n",
      "\u001b[34m\u001b[1mwandb\u001b[0m: \tnum_components: 8\n",
      "\u001b[34m\u001b[1mwandb\u001b[0m: \trnn_type: GRU\n",
      "\u001b[34m\u001b[1mwandb\u001b[0m: \tweight_decay: 0.01\n"
     ]
    },
    {
     "data": {
      "text/html": [
       "Tracking run with wandb version 0.15.12"
      ],
      "text/plain": [
       "<IPython.core.display.HTML object>"
      ]
     },
     "metadata": {},
     "output_type": "display_data"
    },
    {
     "data": {
      "text/html": [
       "Run data is saved locally in <code>/home/zekai/repos/recast/notebooks/Zekai/hyperparameter_sweep/wandb/run-20231105_222652-21wsc8e7</code>"
      ],
      "text/plain": [
       "<IPython.core.display.HTML object>"
      ]
     },
     "metadata": {},
     "output_type": "display_data"
    },
    {
     "data": {
      "text/html": [
       "Syncing run <strong><a href='https://wandb.ai/zekai-wang/RecurrentTPP%20on%20ANSS%20Nov%205/runs/21wsc8e7' target=\"_blank\">light-sweep-8</a></strong> to <a href='https://wandb.ai/zekai-wang/RecurrentTPP%20on%20ANSS%20Nov%205' target=\"_blank\">Weights & Biases</a> (<a href='https://wandb.me/run' target=\"_blank\">docs</a>)<br/>Sweep page: <a href='https://wandb.ai/zekai-wang/RecurrentTPP%20on%20ANSS%20Nov%205/sweeps/27ca0onv' target=\"_blank\">https://wandb.ai/zekai-wang/RecurrentTPP%20on%20ANSS%20Nov%205/sweeps/27ca0onv</a>"
      ],
      "text/plain": [
       "<IPython.core.display.HTML object>"
      ]
     },
     "metadata": {},
     "output_type": "display_data"
    },
    {
     "data": {
      "text/html": [
       " View project at <a href='https://wandb.ai/zekai-wang/RecurrentTPP%20on%20ANSS%20Nov%205' target=\"_blank\">https://wandb.ai/zekai-wang/RecurrentTPP%20on%20ANSS%20Nov%205</a>"
      ],
      "text/plain": [
       "<IPython.core.display.HTML object>"
      ]
     },
     "metadata": {},
     "output_type": "display_data"
    },
    {
     "data": {
      "text/html": [
       " View sweep at <a href='https://wandb.ai/zekai-wang/RecurrentTPP%20on%20ANSS%20Nov%205/sweeps/27ca0onv' target=\"_blank\">https://wandb.ai/zekai-wang/RecurrentTPP%20on%20ANSS%20Nov%205/sweeps/27ca0onv</a>"
      ],
      "text/plain": [
       "<IPython.core.display.HTML object>"
      ]
     },
     "metadata": {},
     "output_type": "display_data"
    },
    {
     "data": {
      "text/html": [
       " View run at <a href='https://wandb.ai/zekai-wang/RecurrentTPP%20on%20ANSS%20Nov%205/runs/21wsc8e7' target=\"_blank\">https://wandb.ai/zekai-wang/RecurrentTPP%20on%20ANSS%20Nov%205/runs/21wsc8e7</a>"
      ],
      "text/plain": [
       "<IPython.core.display.HTML object>"
      ]
     },
     "metadata": {},
     "output_type": "display_data"
    },
    {
     "data": {
      "application/vnd.jupyter.widget-view+json": {
       "model_id": "d37ac2a242514173be92120a5357efcc",
       "version_major": 2,
       "version_minor": 0
      },
      "text/plain": [
       "  0%|          | 0/200 [00:00<?, ?it/s]"
      ]
     },
     "metadata": {},
     "output_type": "display_data"
    },
    {
     "name": "stdout",
     "output_type": "stream",
     "text": [
      "Expected parameter scale (Tensor of shape (8, 582, 8)) of distribution Weibull(scale: torch.Size([8, 582, 8]), shape: torch.Size([8, 582, 8])) to satisfy the constraint GreaterThan(lower_bound=0.0), but found invalid values:\n",
      "tensor([[[0.8988, 3.6720, 0.7561,  ..., 1.1632, 8.1114, 2.0297],\n",
      "         [   nan,    nan,    nan,  ...,    nan,    nan,    nan],\n",
      "         [   nan,    nan,    nan,  ...,    nan,    nan,    nan],\n",
      "         ...,\n",
      "         [   nan,    nan,    nan,  ...,    nan,    nan,    nan],\n",
      "         [   nan,    nan,    nan,  ...,    nan,    nan,    nan],\n",
      "         [   nan,    nan,    nan,  ...,    nan,    nan,    nan]],\n",
      "\n",
      "        [[0.8988, 3.6720, 0.7561,  ..., 1.1632, 8.1114, 2.0297],\n",
      "         [   nan,    nan,    nan,  ...,    nan,    nan,    nan],\n",
      "         [   nan,    nan,    nan,  ...,    nan,    nan,    nan],\n",
      "         ...,\n",
      "         [   nan,    nan,    nan,  ...,    nan,    nan,    nan],\n",
      "         [   nan,    nan,    nan,  ...,    nan,    nan,    nan],\n",
      "         [   nan,    nan,    nan,  ...,    nan,    nan,    nan]],\n",
      "\n",
      "        [[0.8988, 3.6720, 0.7561,  ..., 1.1632, 8.1114, 2.0297],\n",
      "         [   nan,    nan,    nan,  ...,    nan,    nan,    nan],\n",
      "         [   nan,    nan,    nan,  ...,    nan,    nan,    nan],\n",
      "         ...,\n",
      "         [   nan,    nan,    nan,  ...,    nan,    nan,    nan],\n",
      "         [   nan,    nan,    nan,  ...,    nan,    nan,    nan],\n",
      "         [   nan,    nan,    nan,  ...,    nan,    nan,    nan]],\n",
      "\n",
      "        ...,\n",
      "\n",
      "        [[0.8988, 3.6720, 0.7561,  ..., 1.1632, 8.1114, 2.0297],\n",
      "         [   nan,    nan,    nan,  ...,    nan,    nan,    nan],\n",
      "         [   nan,    nan,    nan,  ...,    nan,    nan,    nan],\n",
      "         ...,\n",
      "         [   nan,    nan,    nan,  ...,    nan,    nan,    nan],\n",
      "         [   nan,    nan,    nan,  ...,    nan,    nan,    nan],\n",
      "         [   nan,    nan,    nan,  ...,    nan,    nan,    nan]],\n",
      "\n",
      "        [[0.8988, 3.6720, 0.7561,  ..., 1.1632, 8.1114, 2.0297],\n",
      "         [   nan,    nan,    nan,  ...,    nan,    nan,    nan],\n",
      "         [   nan,    nan,    nan,  ...,    nan,    nan,    nan],\n",
      "         ...,\n",
      "         [   nan,    nan,    nan,  ...,    nan,    nan,    nan],\n",
      "         [   nan,    nan,    nan,  ...,    nan,    nan,    nan],\n",
      "         [   nan,    nan,    nan,  ...,    nan,    nan,    nan]],\n",
      "\n",
      "        [[0.8988, 3.6720, 0.7561,  ..., 1.1632, 8.1114, 2.0297],\n",
      "         [   nan,    nan,    nan,  ...,    nan,    nan,    nan],\n",
      "         [   nan,    nan,    nan,  ...,    nan,    nan,    nan],\n",
      "         ...,\n",
      "         [   nan,    nan,    nan,  ...,    nan,    nan,    nan],\n",
      "         [   nan,    nan,    nan,  ...,    nan,    nan,    nan],\n",
      "         [   nan,    nan,    nan,  ...,    nan,    nan,    nan]]],\n",
      "       device='cuda:0', grad_fn=<SoftplusBackward0>)\n"
     ]
    },
    {
     "data": {
      "text/html": [
       "Waiting for W&B process to finish... <strong style=\"color:green\">(success).</strong>"
      ],
      "text/plain": [
       "<IPython.core.display.HTML object>"
      ]
     },
     "metadata": {},
     "output_type": "display_data"
    },
    {
     "data": {
      "text/html": [
       "<style>\n",
       "    table.wandb td:nth-child(1) { padding: 0 10px; text-align: left ; width: auto;} td:nth-child(2) {text-align: left ; width: 100%}\n",
       "    .wandb-row { display: flex; flex-direction: row; flex-wrap: wrap; justify-content: flex-start; width: 100% }\n",
       "    .wandb-col { display: flex; flex-direction: column; flex-basis: 100%; flex: 1; padding: 10px; }\n",
       "    </style>\n",
       "<div class=\"wandb-row\"><div class=\"wandb-col\"><h3>Run summary:</h3><br/><table class=\"wandb\"><tr><td>avg_test_loss</td><td>nan</td></tr></table><br/></div></div>"
      ],
      "text/plain": [
       "<IPython.core.display.HTML object>"
      ]
     },
     "metadata": {},
     "output_type": "display_data"
    },
    {
     "data": {
      "text/html": [
       " View run <strong style=\"color:#cdcd00\">light-sweep-8</strong> at: <a href='https://wandb.ai/zekai-wang/RecurrentTPP%20on%20ANSS%20Nov%205/runs/21wsc8e7' target=\"_blank\">https://wandb.ai/zekai-wang/RecurrentTPP%20on%20ANSS%20Nov%205/runs/21wsc8e7</a><br/>Synced 6 W&B file(s), 0 media file(s), 0 artifact file(s) and 0 other file(s)"
      ],
      "text/plain": [
       "<IPython.core.display.HTML object>"
      ]
     },
     "metadata": {},
     "output_type": "display_data"
    },
    {
     "data": {
      "text/html": [
       "Find logs at: <code>./wandb/run-20231105_222652-21wsc8e7/logs</code>"
      ],
      "text/plain": [
       "<IPython.core.display.HTML object>"
      ]
     },
     "metadata": {},
     "output_type": "display_data"
    },
    {
     "name": "stderr",
     "output_type": "stream",
     "text": [
      "\u001b[34m\u001b[1mwandb\u001b[0m: Agent Starting Run: sw1p9aoi with config:\n",
      "\u001b[34m\u001b[1mwandb\u001b[0m: \tbatch_size: 8\n",
      "\u001b[34m\u001b[1mwandb\u001b[0m: \tbetas: [0.9, 0.999]\n",
      "\u001b[34m\u001b[1mwandb\u001b[0m: \tcontext_size: 128\n",
      "\u001b[34m\u001b[1mwandb\u001b[0m: \tdropout_proba: 0.4\n",
      "\u001b[34m\u001b[1mwandb\u001b[0m: \tlr: 0.05\n",
      "\u001b[34m\u001b[1mwandb\u001b[0m: \tnum_components: 16\n",
      "\u001b[34m\u001b[1mwandb\u001b[0m: \trnn_type: LSTM\n",
      "\u001b[34m\u001b[1mwandb\u001b[0m: \tweight_decay: 0.01\n"
     ]
    },
    {
     "data": {
      "text/html": [
       "Tracking run with wandb version 0.15.12"
      ],
      "text/plain": [
       "<IPython.core.display.HTML object>"
      ]
     },
     "metadata": {},
     "output_type": "display_data"
    },
    {
     "data": {
      "text/html": [
       "Run data is saved locally in <code>/home/zekai/repos/recast/notebooks/Zekai/hyperparameter_sweep/wandb/run-20231105_222728-sw1p9aoi</code>"
      ],
      "text/plain": [
       "<IPython.core.display.HTML object>"
      ]
     },
     "metadata": {},
     "output_type": "display_data"
    },
    {
     "data": {
      "text/html": [
       "Syncing run <strong><a href='https://wandb.ai/zekai-wang/RecurrentTPP%20on%20ANSS%20Nov%205/runs/sw1p9aoi' target=\"_blank\">neat-sweep-9</a></strong> to <a href='https://wandb.ai/zekai-wang/RecurrentTPP%20on%20ANSS%20Nov%205' target=\"_blank\">Weights & Biases</a> (<a href='https://wandb.me/run' target=\"_blank\">docs</a>)<br/>Sweep page: <a href='https://wandb.ai/zekai-wang/RecurrentTPP%20on%20ANSS%20Nov%205/sweeps/27ca0onv' target=\"_blank\">https://wandb.ai/zekai-wang/RecurrentTPP%20on%20ANSS%20Nov%205/sweeps/27ca0onv</a>"
      ],
      "text/plain": [
       "<IPython.core.display.HTML object>"
      ]
     },
     "metadata": {},
     "output_type": "display_data"
    },
    {
     "data": {
      "text/html": [
       " View project at <a href='https://wandb.ai/zekai-wang/RecurrentTPP%20on%20ANSS%20Nov%205' target=\"_blank\">https://wandb.ai/zekai-wang/RecurrentTPP%20on%20ANSS%20Nov%205</a>"
      ],
      "text/plain": [
       "<IPython.core.display.HTML object>"
      ]
     },
     "metadata": {},
     "output_type": "display_data"
    },
    {
     "data": {
      "text/html": [
       " View sweep at <a href='https://wandb.ai/zekai-wang/RecurrentTPP%20on%20ANSS%20Nov%205/sweeps/27ca0onv' target=\"_blank\">https://wandb.ai/zekai-wang/RecurrentTPP%20on%20ANSS%20Nov%205/sweeps/27ca0onv</a>"
      ],
      "text/plain": [
       "<IPython.core.display.HTML object>"
      ]
     },
     "metadata": {},
     "output_type": "display_data"
    },
    {
     "data": {
      "text/html": [
       " View run at <a href='https://wandb.ai/zekai-wang/RecurrentTPP%20on%20ANSS%20Nov%205/runs/sw1p9aoi' target=\"_blank\">https://wandb.ai/zekai-wang/RecurrentTPP%20on%20ANSS%20Nov%205/runs/sw1p9aoi</a>"
      ],
      "text/plain": [
       "<IPython.core.display.HTML object>"
      ]
     },
     "metadata": {},
     "output_type": "display_data"
    },
    {
     "data": {
      "application/vnd.jupyter.widget-view+json": {
       "model_id": "10b32889d7b342ce89f184ae4a4136bb",
       "version_major": 2,
       "version_minor": 0
      },
      "text/plain": [
       "  0%|          | 0/200 [00:00<?, ?it/s]"
      ]
     },
     "metadata": {},
     "output_type": "display_data"
    },
    {
     "name": "stdout",
     "output_type": "stream",
     "text": [
      "Expected parameter scale (Tensor of shape (8, 767, 16)) of distribution Weibull(scale: torch.Size([8, 767, 16]), shape: torch.Size([8, 767, 16])) to satisfy the constraint GreaterThan(lower_bound=0.0), but found invalid values:\n",
      "tensor([[[0.6533, 0.7147, 0.8922,  ..., 0.6525, 0.9216, 0.9456],\n",
      "         [   nan,    nan,    nan,  ...,    nan,    nan,    nan],\n",
      "         [   nan,    nan,    nan,  ...,    nan,    nan,    nan],\n",
      "         ...,\n",
      "         [   nan,    nan,    nan,  ...,    nan,    nan,    nan],\n",
      "         [   nan,    nan,    nan,  ...,    nan,    nan,    nan],\n",
      "         [   nan,    nan,    nan,  ...,    nan,    nan,    nan]],\n",
      "\n",
      "        [[0.6533, 0.7147, 0.8922,  ..., 0.6525, 0.9216, 0.9456],\n",
      "         [   nan,    nan,    nan,  ...,    nan,    nan,    nan],\n",
      "         [   nan,    nan,    nan,  ...,    nan,    nan,    nan],\n",
      "         ...,\n",
      "         [   nan,    nan,    nan,  ...,    nan,    nan,    nan],\n",
      "         [   nan,    nan,    nan,  ...,    nan,    nan,    nan],\n",
      "         [   nan,    nan,    nan,  ...,    nan,    nan,    nan]],\n",
      "\n",
      "        [[0.6533, 0.7147, 0.8922,  ..., 0.6525, 0.9216, 0.9456],\n",
      "         [   nan,    nan,    nan,  ...,    nan,    nan,    nan],\n",
      "         [   nan,    nan,    nan,  ...,    nan,    nan,    nan],\n",
      "         ...,\n",
      "         [   nan,    nan,    nan,  ...,    nan,    nan,    nan],\n",
      "         [   nan,    nan,    nan,  ...,    nan,    nan,    nan],\n",
      "         [   nan,    nan,    nan,  ...,    nan,    nan,    nan]],\n",
      "\n",
      "        ...,\n",
      "\n",
      "        [[0.6533, 0.7147, 0.8922,  ..., 0.6525, 0.9216, 0.9456],\n",
      "         [   nan,    nan,    nan,  ...,    nan,    nan,    nan],\n",
      "         [   nan,    nan,    nan,  ...,    nan,    nan,    nan],\n",
      "         ...,\n",
      "         [   nan,    nan,    nan,  ...,    nan,    nan,    nan],\n",
      "         [   nan,    nan,    nan,  ...,    nan,    nan,    nan],\n",
      "         [   nan,    nan,    nan,  ...,    nan,    nan,    nan]],\n",
      "\n",
      "        [[0.6533, 0.7147, 0.8922,  ..., 0.6525, 0.9216, 0.9456],\n",
      "         [   nan,    nan,    nan,  ...,    nan,    nan,    nan],\n",
      "         [   nan,    nan,    nan,  ...,    nan,    nan,    nan],\n",
      "         ...,\n",
      "         [   nan,    nan,    nan,  ...,    nan,    nan,    nan],\n",
      "         [   nan,    nan,    nan,  ...,    nan,    nan,    nan],\n",
      "         [   nan,    nan,    nan,  ...,    nan,    nan,    nan]],\n",
      "\n",
      "        [[0.6533, 0.7147, 0.8922,  ..., 0.6525, 0.9216, 0.9456],\n",
      "         [   nan,    nan,    nan,  ...,    nan,    nan,    nan],\n",
      "         [   nan,    nan,    nan,  ...,    nan,    nan,    nan],\n",
      "         ...,\n",
      "         [   nan,    nan,    nan,  ...,    nan,    nan,    nan],\n",
      "         [   nan,    nan,    nan,  ...,    nan,    nan,    nan],\n",
      "         [   nan,    nan,    nan,  ...,    nan,    nan,    nan]]],\n",
      "       device='cuda:0', grad_fn=<SoftplusBackward0>)\n"
     ]
    },
    {
     "data": {
      "text/html": [
       "Waiting for W&B process to finish... <strong style=\"color:green\">(success).</strong>"
      ],
      "text/plain": [
       "<IPython.core.display.HTML object>"
      ]
     },
     "metadata": {},
     "output_type": "display_data"
    },
    {
     "data": {
      "text/html": [
       "<style>\n",
       "    table.wandb td:nth-child(1) { padding: 0 10px; text-align: left ; width: auto;} td:nth-child(2) {text-align: left ; width: 100%}\n",
       "    .wandb-row { display: flex; flex-direction: row; flex-wrap: wrap; justify-content: flex-start; width: 100% }\n",
       "    .wandb-col { display: flex; flex-direction: column; flex-basis: 100%; flex: 1; padding: 10px; }\n",
       "    </style>\n",
       "<div class=\"wandb-row\"><div class=\"wandb-col\"><h3>Run summary:</h3><br/><table class=\"wandb\"><tr><td>avg_test_loss</td><td>nan</td></tr></table><br/></div></div>"
      ],
      "text/plain": [
       "<IPython.core.display.HTML object>"
      ]
     },
     "metadata": {},
     "output_type": "display_data"
    },
    {
     "data": {
      "text/html": [
       " View run <strong style=\"color:#cdcd00\">neat-sweep-9</strong> at: <a href='https://wandb.ai/zekai-wang/RecurrentTPP%20on%20ANSS%20Nov%205/runs/sw1p9aoi' target=\"_blank\">https://wandb.ai/zekai-wang/RecurrentTPP%20on%20ANSS%20Nov%205/runs/sw1p9aoi</a><br/>Synced 6 W&B file(s), 0 media file(s), 0 artifact file(s) and 0 other file(s)"
      ],
      "text/plain": [
       "<IPython.core.display.HTML object>"
      ]
     },
     "metadata": {},
     "output_type": "display_data"
    },
    {
     "data": {
      "text/html": [
       "Find logs at: <code>./wandb/run-20231105_222728-sw1p9aoi/logs</code>"
      ],
      "text/plain": [
       "<IPython.core.display.HTML object>"
      ]
     },
     "metadata": {},
     "output_type": "display_data"
    },
    {
     "name": "stderr",
     "output_type": "stream",
     "text": [
      "\u001b[34m\u001b[1mwandb\u001b[0m: Agent Starting Run: e5tlwvam with config:\n",
      "\u001b[34m\u001b[1mwandb\u001b[0m: \tbatch_size: 16\n",
      "\u001b[34m\u001b[1mwandb\u001b[0m: \tbetas: [0.9, 0.999]\n",
      "\u001b[34m\u001b[1mwandb\u001b[0m: \tcontext_size: 128\n",
      "\u001b[34m\u001b[1mwandb\u001b[0m: \tdropout_proba: 0.5\n",
      "\u001b[34m\u001b[1mwandb\u001b[0m: \tlr: 0.005\n",
      "\u001b[34m\u001b[1mwandb\u001b[0m: \tnum_components: 64\n",
      "\u001b[34m\u001b[1mwandb\u001b[0m: \trnn_type: RNN\n",
      "\u001b[34m\u001b[1mwandb\u001b[0m: \tweight_decay: 0.001\n"
     ]
    },
    {
     "data": {
      "text/html": [
       "Tracking run with wandb version 0.15.12"
      ],
      "text/plain": [
       "<IPython.core.display.HTML object>"
      ]
     },
     "metadata": {},
     "output_type": "display_data"
    },
    {
     "data": {
      "text/html": [
       "Run data is saved locally in <code>/home/zekai/repos/recast/notebooks/Zekai/hyperparameter_sweep/wandb/run-20231105_222738-e5tlwvam</code>"
      ],
      "text/plain": [
       "<IPython.core.display.HTML object>"
      ]
     },
     "metadata": {},
     "output_type": "display_data"
    },
    {
     "data": {
      "text/html": [
       "Syncing run <strong><a href='https://wandb.ai/zekai-wang/RecurrentTPP%20on%20ANSS%20Nov%205/runs/e5tlwvam' target=\"_blank\">gallant-sweep-10</a></strong> to <a href='https://wandb.ai/zekai-wang/RecurrentTPP%20on%20ANSS%20Nov%205' target=\"_blank\">Weights & Biases</a> (<a href='https://wandb.me/run' target=\"_blank\">docs</a>)<br/>Sweep page: <a href='https://wandb.ai/zekai-wang/RecurrentTPP%20on%20ANSS%20Nov%205/sweeps/27ca0onv' target=\"_blank\">https://wandb.ai/zekai-wang/RecurrentTPP%20on%20ANSS%20Nov%205/sweeps/27ca0onv</a>"
      ],
      "text/plain": [
       "<IPython.core.display.HTML object>"
      ]
     },
     "metadata": {},
     "output_type": "display_data"
    },
    {
     "data": {
      "text/html": [
       " View project at <a href='https://wandb.ai/zekai-wang/RecurrentTPP%20on%20ANSS%20Nov%205' target=\"_blank\">https://wandb.ai/zekai-wang/RecurrentTPP%20on%20ANSS%20Nov%205</a>"
      ],
      "text/plain": [
       "<IPython.core.display.HTML object>"
      ]
     },
     "metadata": {},
     "output_type": "display_data"
    },
    {
     "data": {
      "text/html": [
       " View sweep at <a href='https://wandb.ai/zekai-wang/RecurrentTPP%20on%20ANSS%20Nov%205/sweeps/27ca0onv' target=\"_blank\">https://wandb.ai/zekai-wang/RecurrentTPP%20on%20ANSS%20Nov%205/sweeps/27ca0onv</a>"
      ],
      "text/plain": [
       "<IPython.core.display.HTML object>"
      ]
     },
     "metadata": {},
     "output_type": "display_data"
    },
    {
     "data": {
      "text/html": [
       " View run at <a href='https://wandb.ai/zekai-wang/RecurrentTPP%20on%20ANSS%20Nov%205/runs/e5tlwvam' target=\"_blank\">https://wandb.ai/zekai-wang/RecurrentTPP%20on%20ANSS%20Nov%205/runs/e5tlwvam</a>"
      ],
      "text/plain": [
       "<IPython.core.display.HTML object>"
      ]
     },
     "metadata": {},
     "output_type": "display_data"
    },
    {
     "data": {
      "application/vnd.jupyter.widget-view+json": {
       "model_id": "c37b6249de3e44f4b1f1597da764aa91",
       "version_major": 2,
       "version_minor": 0
      },
      "text/plain": [
       "  0%|          | 0/200 [00:00<?, ?it/s]"
      ]
     },
     "metadata": {},
     "output_type": "display_data"
    },
    {
     "data": {
      "text/html": [
       "Waiting for W&B process to finish... <strong style=\"color:green\">(success).</strong>"
      ],
      "text/plain": [
       "<IPython.core.display.HTML object>"
      ]
     },
     "metadata": {},
     "output_type": "display_data"
    },
    {
     "data": {
      "application/vnd.jupyter.widget-view+json": {
       "model_id": "3de99a3b5b8a4336906b9cf29f4f6836",
       "version_major": 2,
       "version_minor": 0
      },
      "text/plain": [
       "VBox(children=(Label(value='0.014 MB of 0.019 MB uploaded (0.000 MB deduped)\\r'), FloatProgress(value=0.757529…"
      ]
     },
     "metadata": {},
     "output_type": "display_data"
    },
    {
     "data": {
      "text/html": [
       "<style>\n",
       "    table.wandb td:nth-child(1) { padding: 0 10px; text-align: left ; width: auto;} td:nth-child(2) {text-align: left ; width: 100%}\n",
       "    .wandb-row { display: flex; flex-direction: row; flex-wrap: wrap; justify-content: flex-start; width: 100% }\n",
       "    .wandb-col { display: flex; flex-direction: column; flex-basis: 100%; flex: 1; padding: 10px; }\n",
       "    </style>\n",
       "<div class=\"wandb-row\"><div class=\"wandb-col\"><h3>Run history:</h3><br/><table class=\"wandb\"><tr><td>avg_test_loss</td><td>▁</td></tr></table><br/></div><div class=\"wandb-col\"><h3>Run summary:</h3><br/><table class=\"wandb\"><tr><td>avg_test_loss</td><td>0.18658</td></tr></table><br/></div></div>"
      ],
      "text/plain": [
       "<IPython.core.display.HTML object>"
      ]
     },
     "metadata": {},
     "output_type": "display_data"
    },
    {
     "data": {
      "text/html": [
       " View run <strong style=\"color:#cdcd00\">gallant-sweep-10</strong> at: <a href='https://wandb.ai/zekai-wang/RecurrentTPP%20on%20ANSS%20Nov%205/runs/e5tlwvam' target=\"_blank\">https://wandb.ai/zekai-wang/RecurrentTPP%20on%20ANSS%20Nov%205/runs/e5tlwvam</a><br/>Synced 5 W&B file(s), 0 media file(s), 0 artifact file(s) and 0 other file(s)"
      ],
      "text/plain": [
       "<IPython.core.display.HTML object>"
      ]
     },
     "metadata": {},
     "output_type": "display_data"
    },
    {
     "data": {
      "text/html": [
       "Find logs at: <code>./wandb/run-20231105_222738-e5tlwvam/logs</code>"
      ],
      "text/plain": [
       "<IPython.core.display.HTML object>"
      ]
     },
     "metadata": {},
     "output_type": "display_data"
    },
    {
     "name": "stderr",
     "output_type": "stream",
     "text": [
      "\u001b[34m\u001b[1mwandb\u001b[0m: Agent Starting Run: 3d69ednq with config:\n",
      "\u001b[34m\u001b[1mwandb\u001b[0m: \tbatch_size: 16\n",
      "\u001b[34m\u001b[1mwandb\u001b[0m: \tbetas: [0.9, 0.999]\n",
      "\u001b[34m\u001b[1mwandb\u001b[0m: \tcontext_size: 64\n",
      "\u001b[34m\u001b[1mwandb\u001b[0m: \tdropout_proba: 0.4\n",
      "\u001b[34m\u001b[1mwandb\u001b[0m: \tlr: 0.01\n",
      "\u001b[34m\u001b[1mwandb\u001b[0m: \tnum_components: 16\n",
      "\u001b[34m\u001b[1mwandb\u001b[0m: \trnn_type: LSTM\n",
      "\u001b[34m\u001b[1mwandb\u001b[0m: \tweight_decay: 0.002\n"
     ]
    },
    {
     "data": {
      "text/html": [
       "Tracking run with wandb version 0.15.12"
      ],
      "text/plain": [
       "<IPython.core.display.HTML object>"
      ]
     },
     "metadata": {},
     "output_type": "display_data"
    },
    {
     "data": {
      "text/html": [
       "Run data is saved locally in <code>/home/zekai/repos/recast/notebooks/Zekai/hyperparameter_sweep/wandb/run-20231105_222916-3d69ednq</code>"
      ],
      "text/plain": [
       "<IPython.core.display.HTML object>"
      ]
     },
     "metadata": {},
     "output_type": "display_data"
    },
    {
     "data": {
      "text/html": [
       "Syncing run <strong><a href='https://wandb.ai/zekai-wang/RecurrentTPP%20on%20ANSS%20Nov%205/runs/3d69ednq' target=\"_blank\">azure-sweep-11</a></strong> to <a href='https://wandb.ai/zekai-wang/RecurrentTPP%20on%20ANSS%20Nov%205' target=\"_blank\">Weights & Biases</a> (<a href='https://wandb.me/run' target=\"_blank\">docs</a>)<br/>Sweep page: <a href='https://wandb.ai/zekai-wang/RecurrentTPP%20on%20ANSS%20Nov%205/sweeps/27ca0onv' target=\"_blank\">https://wandb.ai/zekai-wang/RecurrentTPP%20on%20ANSS%20Nov%205/sweeps/27ca0onv</a>"
      ],
      "text/plain": [
       "<IPython.core.display.HTML object>"
      ]
     },
     "metadata": {},
     "output_type": "display_data"
    },
    {
     "data": {
      "text/html": [
       " View project at <a href='https://wandb.ai/zekai-wang/RecurrentTPP%20on%20ANSS%20Nov%205' target=\"_blank\">https://wandb.ai/zekai-wang/RecurrentTPP%20on%20ANSS%20Nov%205</a>"
      ],
      "text/plain": [
       "<IPython.core.display.HTML object>"
      ]
     },
     "metadata": {},
     "output_type": "display_data"
    },
    {
     "data": {
      "text/html": [
       " View sweep at <a href='https://wandb.ai/zekai-wang/RecurrentTPP%20on%20ANSS%20Nov%205/sweeps/27ca0onv' target=\"_blank\">https://wandb.ai/zekai-wang/RecurrentTPP%20on%20ANSS%20Nov%205/sweeps/27ca0onv</a>"
      ],
      "text/plain": [
       "<IPython.core.display.HTML object>"
      ]
     },
     "metadata": {},
     "output_type": "display_data"
    },
    {
     "data": {
      "text/html": [
       " View run at <a href='https://wandb.ai/zekai-wang/RecurrentTPP%20on%20ANSS%20Nov%205/runs/3d69ednq' target=\"_blank\">https://wandb.ai/zekai-wang/RecurrentTPP%20on%20ANSS%20Nov%205/runs/3d69ednq</a>"
      ],
      "text/plain": [
       "<IPython.core.display.HTML object>"
      ]
     },
     "metadata": {},
     "output_type": "display_data"
    },
    {
     "data": {
      "application/vnd.jupyter.widget-view+json": {
       "model_id": "ba1afc930695456d8ebc6e011555627d",
       "version_major": 2,
       "version_minor": 0
      },
      "text/plain": [
       "  0%|          | 0/200 [00:00<?, ?it/s]"
      ]
     },
     "metadata": {},
     "output_type": "display_data"
    },
    {
     "data": {
      "text/html": [
       "Waiting for W&B process to finish... <strong style=\"color:green\">(success).</strong>"
      ],
      "text/plain": [
       "<IPython.core.display.HTML object>"
      ]
     },
     "metadata": {},
     "output_type": "display_data"
    },
    {
     "data": {
      "text/html": [
       "<style>\n",
       "    table.wandb td:nth-child(1) { padding: 0 10px; text-align: left ; width: auto;} td:nth-child(2) {text-align: left ; width: 100%}\n",
       "    .wandb-row { display: flex; flex-direction: row; flex-wrap: wrap; justify-content: flex-start; width: 100% }\n",
       "    .wandb-col { display: flex; flex-direction: column; flex-basis: 100%; flex: 1; padding: 10px; }\n",
       "    </style>\n",
       "<div class=\"wandb-row\"><div class=\"wandb-col\"><h3>Run history:</h3><br/><table class=\"wandb\"><tr><td>avg_test_loss</td><td>▁</td></tr></table><br/></div><div class=\"wandb-col\"><h3>Run summary:</h3><br/><table class=\"wandb\"><tr><td>avg_test_loss</td><td>0.18031</td></tr></table><br/></div></div>"
      ],
      "text/plain": [
       "<IPython.core.display.HTML object>"
      ]
     },
     "metadata": {},
     "output_type": "display_data"
    },
    {
     "data": {
      "text/html": [
       " View run <strong style=\"color:#cdcd00\">azure-sweep-11</strong> at: <a href='https://wandb.ai/zekai-wang/RecurrentTPP%20on%20ANSS%20Nov%205/runs/3d69ednq' target=\"_blank\">https://wandb.ai/zekai-wang/RecurrentTPP%20on%20ANSS%20Nov%205/runs/3d69ednq</a><br/>Synced 5 W&B file(s), 0 media file(s), 0 artifact file(s) and 0 other file(s)"
      ],
      "text/plain": [
       "<IPython.core.display.HTML object>"
      ]
     },
     "metadata": {},
     "output_type": "display_data"
    },
    {
     "data": {
      "text/html": [
       "Find logs at: <code>./wandb/run-20231105_222916-3d69ednq/logs</code>"
      ],
      "text/plain": [
       "<IPython.core.display.HTML object>"
      ]
     },
     "metadata": {},
     "output_type": "display_data"
    },
    {
     "name": "stderr",
     "output_type": "stream",
     "text": [
      "\u001b[34m\u001b[1mwandb\u001b[0m: Agent Starting Run: j9ifcthf with config:\n",
      "\u001b[34m\u001b[1mwandb\u001b[0m: \tbatch_size: 128\n",
      "\u001b[34m\u001b[1mwandb\u001b[0m: \tbetas: [0.9, 0.999]\n",
      "\u001b[34m\u001b[1mwandb\u001b[0m: \tcontext_size: 64\n",
      "\u001b[34m\u001b[1mwandb\u001b[0m: \tdropout_proba: 0.2\n",
      "\u001b[34m\u001b[1mwandb\u001b[0m: \tlr: 0.002\n",
      "\u001b[34m\u001b[1mwandb\u001b[0m: \tnum_components: 16\n",
      "\u001b[34m\u001b[1mwandb\u001b[0m: \trnn_type: GRU\n",
      "\u001b[34m\u001b[1mwandb\u001b[0m: \tweight_decay: 0.05\n"
     ]
    },
    {
     "data": {
      "text/html": [
       "Tracking run with wandb version 0.15.12"
      ],
      "text/plain": [
       "<IPython.core.display.HTML object>"
      ]
     },
     "metadata": {},
     "output_type": "display_data"
    },
    {
     "data": {
      "text/html": [
       "Run data is saved locally in <code>/home/zekai/repos/recast/notebooks/Zekai/hyperparameter_sweep/wandb/run-20231105_223057-j9ifcthf</code>"
      ],
      "text/plain": [
       "<IPython.core.display.HTML object>"
      ]
     },
     "metadata": {},
     "output_type": "display_data"
    },
    {
     "data": {
      "text/html": [
       "Syncing run <strong><a href='https://wandb.ai/zekai-wang/RecurrentTPP%20on%20ANSS%20Nov%205/runs/j9ifcthf' target=\"_blank\">fresh-sweep-12</a></strong> to <a href='https://wandb.ai/zekai-wang/RecurrentTPP%20on%20ANSS%20Nov%205' target=\"_blank\">Weights & Biases</a> (<a href='https://wandb.me/run' target=\"_blank\">docs</a>)<br/>Sweep page: <a href='https://wandb.ai/zekai-wang/RecurrentTPP%20on%20ANSS%20Nov%205/sweeps/27ca0onv' target=\"_blank\">https://wandb.ai/zekai-wang/RecurrentTPP%20on%20ANSS%20Nov%205/sweeps/27ca0onv</a>"
      ],
      "text/plain": [
       "<IPython.core.display.HTML object>"
      ]
     },
     "metadata": {},
     "output_type": "display_data"
    },
    {
     "data": {
      "text/html": [
       " View project at <a href='https://wandb.ai/zekai-wang/RecurrentTPP%20on%20ANSS%20Nov%205' target=\"_blank\">https://wandb.ai/zekai-wang/RecurrentTPP%20on%20ANSS%20Nov%205</a>"
      ],
      "text/plain": [
       "<IPython.core.display.HTML object>"
      ]
     },
     "metadata": {},
     "output_type": "display_data"
    },
    {
     "data": {
      "text/html": [
       " View sweep at <a href='https://wandb.ai/zekai-wang/RecurrentTPP%20on%20ANSS%20Nov%205/sweeps/27ca0onv' target=\"_blank\">https://wandb.ai/zekai-wang/RecurrentTPP%20on%20ANSS%20Nov%205/sweeps/27ca0onv</a>"
      ],
      "text/plain": [
       "<IPython.core.display.HTML object>"
      ]
     },
     "metadata": {},
     "output_type": "display_data"
    },
    {
     "data": {
      "text/html": [
       " View run at <a href='https://wandb.ai/zekai-wang/RecurrentTPP%20on%20ANSS%20Nov%205/runs/j9ifcthf' target=\"_blank\">https://wandb.ai/zekai-wang/RecurrentTPP%20on%20ANSS%20Nov%205/runs/j9ifcthf</a>"
      ],
      "text/plain": [
       "<IPython.core.display.HTML object>"
      ]
     },
     "metadata": {},
     "output_type": "display_data"
    },
    {
     "data": {
      "application/vnd.jupyter.widget-view+json": {
       "model_id": "a9947a2e5f8e4b4080b935397a1e282a",
       "version_major": 2,
       "version_minor": 0
      },
      "text/plain": [
       "  0%|          | 0/200 [00:00<?, ?it/s]"
      ]
     },
     "metadata": {},
     "output_type": "display_data"
    },
    {
     "data": {
      "text/html": [
       "Waiting for W&B process to finish... <strong style=\"color:green\">(success).</strong>"
      ],
      "text/plain": [
       "<IPython.core.display.HTML object>"
      ]
     },
     "metadata": {},
     "output_type": "display_data"
    },
    {
     "data": {
      "text/html": [
       "<style>\n",
       "    table.wandb td:nth-child(1) { padding: 0 10px; text-align: left ; width: auto;} td:nth-child(2) {text-align: left ; width: 100%}\n",
       "    .wandb-row { display: flex; flex-direction: row; flex-wrap: wrap; justify-content: flex-start; width: 100% }\n",
       "    .wandb-col { display: flex; flex-direction: column; flex-basis: 100%; flex: 1; padding: 10px; }\n",
       "    </style>\n",
       "<div class=\"wandb-row\"><div class=\"wandb-col\"><h3>Run history:</h3><br/><table class=\"wandb\"><tr><td>avg_test_loss</td><td>▁</td></tr></table><br/></div><div class=\"wandb-col\"><h3>Run summary:</h3><br/><table class=\"wandb\"><tr><td>avg_test_loss</td><td>0.16392</td></tr></table><br/></div></div>"
      ],
      "text/plain": [
       "<IPython.core.display.HTML object>"
      ]
     },
     "metadata": {},
     "output_type": "display_data"
    },
    {
     "data": {
      "text/html": [
       " View run <strong style=\"color:#cdcd00\">fresh-sweep-12</strong> at: <a href='https://wandb.ai/zekai-wang/RecurrentTPP%20on%20ANSS%20Nov%205/runs/j9ifcthf' target=\"_blank\">https://wandb.ai/zekai-wang/RecurrentTPP%20on%20ANSS%20Nov%205/runs/j9ifcthf</a><br/>Synced 5 W&B file(s), 0 media file(s), 0 artifact file(s) and 0 other file(s)"
      ],
      "text/plain": [
       "<IPython.core.display.HTML object>"
      ]
     },
     "metadata": {},
     "output_type": "display_data"
    },
    {
     "data": {
      "text/html": [
       "Find logs at: <code>./wandb/run-20231105_223057-j9ifcthf/logs</code>"
      ],
      "text/plain": [
       "<IPython.core.display.HTML object>"
      ]
     },
     "metadata": {},
     "output_type": "display_data"
    },
    {
     "name": "stderr",
     "output_type": "stream",
     "text": [
      "\u001b[34m\u001b[1mwandb\u001b[0m: Agent Starting Run: y9wv6zrt with config:\n",
      "\u001b[34m\u001b[1mwandb\u001b[0m: \tbatch_size: 32\n",
      "\u001b[34m\u001b[1mwandb\u001b[0m: \tbetas: [0.9, 0.999]\n",
      "\u001b[34m\u001b[1mwandb\u001b[0m: \tcontext_size: 8\n",
      "\u001b[34m\u001b[1mwandb\u001b[0m: \tdropout_proba: 0.4\n",
      "\u001b[34m\u001b[1mwandb\u001b[0m: \tlr: 0.001\n",
      "\u001b[34m\u001b[1mwandb\u001b[0m: \tnum_components: 64\n",
      "\u001b[34m\u001b[1mwandb\u001b[0m: \trnn_type: RNN\n",
      "\u001b[34m\u001b[1mwandb\u001b[0m: \tweight_decay: 0.002\n"
     ]
    },
    {
     "data": {
      "text/html": [
       "Tracking run with wandb version 0.15.12"
      ],
      "text/plain": [
       "<IPython.core.display.HTML object>"
      ]
     },
     "metadata": {},
     "output_type": "display_data"
    },
    {
     "data": {
      "text/html": [
       "Run data is saved locally in <code>/home/zekai/repos/recast/notebooks/Zekai/hyperparameter_sweep/wandb/run-20231105_223220-y9wv6zrt</code>"
      ],
      "text/plain": [
       "<IPython.core.display.HTML object>"
      ]
     },
     "metadata": {},
     "output_type": "display_data"
    },
    {
     "data": {
      "text/html": [
       "Syncing run <strong><a href='https://wandb.ai/zekai-wang/RecurrentTPP%20on%20ANSS%20Nov%205/runs/y9wv6zrt' target=\"_blank\">dulcet-sweep-13</a></strong> to <a href='https://wandb.ai/zekai-wang/RecurrentTPP%20on%20ANSS%20Nov%205' target=\"_blank\">Weights & Biases</a> (<a href='https://wandb.me/run' target=\"_blank\">docs</a>)<br/>Sweep page: <a href='https://wandb.ai/zekai-wang/RecurrentTPP%20on%20ANSS%20Nov%205/sweeps/27ca0onv' target=\"_blank\">https://wandb.ai/zekai-wang/RecurrentTPP%20on%20ANSS%20Nov%205/sweeps/27ca0onv</a>"
      ],
      "text/plain": [
       "<IPython.core.display.HTML object>"
      ]
     },
     "metadata": {},
     "output_type": "display_data"
    },
    {
     "data": {
      "text/html": [
       " View project at <a href='https://wandb.ai/zekai-wang/RecurrentTPP%20on%20ANSS%20Nov%205' target=\"_blank\">https://wandb.ai/zekai-wang/RecurrentTPP%20on%20ANSS%20Nov%205</a>"
      ],
      "text/plain": [
       "<IPython.core.display.HTML object>"
      ]
     },
     "metadata": {},
     "output_type": "display_data"
    },
    {
     "data": {
      "text/html": [
       " View sweep at <a href='https://wandb.ai/zekai-wang/RecurrentTPP%20on%20ANSS%20Nov%205/sweeps/27ca0onv' target=\"_blank\">https://wandb.ai/zekai-wang/RecurrentTPP%20on%20ANSS%20Nov%205/sweeps/27ca0onv</a>"
      ],
      "text/plain": [
       "<IPython.core.display.HTML object>"
      ]
     },
     "metadata": {},
     "output_type": "display_data"
    },
    {
     "data": {
      "text/html": [
       " View run at <a href='https://wandb.ai/zekai-wang/RecurrentTPP%20on%20ANSS%20Nov%205/runs/y9wv6zrt' target=\"_blank\">https://wandb.ai/zekai-wang/RecurrentTPP%20on%20ANSS%20Nov%205/runs/y9wv6zrt</a>"
      ],
      "text/plain": [
       "<IPython.core.display.HTML object>"
      ]
     },
     "metadata": {},
     "output_type": "display_data"
    },
    {
     "data": {
      "application/vnd.jupyter.widget-view+json": {
       "model_id": "7a5fed2c641d4710995604243fea7f0a",
       "version_major": 2,
       "version_minor": 0
      },
      "text/plain": [
       "  0%|          | 0/200 [00:00<?, ?it/s]"
      ]
     },
     "metadata": {},
     "output_type": "display_data"
    },
    {
     "data": {
      "text/html": [
       "Waiting for W&B process to finish... <strong style=\"color:green\">(success).</strong>"
      ],
      "text/plain": [
       "<IPython.core.display.HTML object>"
      ]
     },
     "metadata": {},
     "output_type": "display_data"
    },
    {
     "data": {
      "text/html": [
       "<style>\n",
       "    table.wandb td:nth-child(1) { padding: 0 10px; text-align: left ; width: auto;} td:nth-child(2) {text-align: left ; width: 100%}\n",
       "    .wandb-row { display: flex; flex-direction: row; flex-wrap: wrap; justify-content: flex-start; width: 100% }\n",
       "    .wandb-col { display: flex; flex-direction: column; flex-basis: 100%; flex: 1; padding: 10px; }\n",
       "    </style>\n",
       "<div class=\"wandb-row\"><div class=\"wandb-col\"><h3>Run history:</h3><br/><table class=\"wandb\"><tr><td>avg_test_loss</td><td>▁</td></tr></table><br/></div><div class=\"wandb-col\"><h3>Run summary:</h3><br/><table class=\"wandb\"><tr><td>avg_test_loss</td><td>0.22648</td></tr></table><br/></div></div>"
      ],
      "text/plain": [
       "<IPython.core.display.HTML object>"
      ]
     },
     "metadata": {},
     "output_type": "display_data"
    },
    {
     "data": {
      "text/html": [
       " View run <strong style=\"color:#cdcd00\">dulcet-sweep-13</strong> at: <a href='https://wandb.ai/zekai-wang/RecurrentTPP%20on%20ANSS%20Nov%205/runs/y9wv6zrt' target=\"_blank\">https://wandb.ai/zekai-wang/RecurrentTPP%20on%20ANSS%20Nov%205/runs/y9wv6zrt</a><br/>Synced 5 W&B file(s), 0 media file(s), 0 artifact file(s) and 0 other file(s)"
      ],
      "text/plain": [
       "<IPython.core.display.HTML object>"
      ]
     },
     "metadata": {},
     "output_type": "display_data"
    },
    {
     "data": {
      "text/html": [
       "Find logs at: <code>./wandb/run-20231105_223220-y9wv6zrt/logs</code>"
      ],
      "text/plain": [
       "<IPython.core.display.HTML object>"
      ]
     },
     "metadata": {},
     "output_type": "display_data"
    },
    {
     "name": "stderr",
     "output_type": "stream",
     "text": [
      "\u001b[34m\u001b[1mwandb\u001b[0m: Agent Starting Run: 257wzujr with config:\n",
      "\u001b[34m\u001b[1mwandb\u001b[0m: \tbatch_size: 128\n",
      "\u001b[34m\u001b[1mwandb\u001b[0m: \tbetas: [0.9, 0.999]\n",
      "\u001b[34m\u001b[1mwandb\u001b[0m: \tcontext_size: 128\n",
      "\u001b[34m\u001b[1mwandb\u001b[0m: \tdropout_proba: 0\n",
      "\u001b[34m\u001b[1mwandb\u001b[0m: \tlr: 0.001\n",
      "\u001b[34m\u001b[1mwandb\u001b[0m: \tnum_components: 32\n",
      "\u001b[34m\u001b[1mwandb\u001b[0m: \trnn_type: LSTM\n",
      "\u001b[34m\u001b[1mwandb\u001b[0m: \tweight_decay: 0.002\n"
     ]
    },
    {
     "data": {
      "text/html": [
       "Tracking run with wandb version 0.15.12"
      ],
      "text/plain": [
       "<IPython.core.display.HTML object>"
      ]
     },
     "metadata": {},
     "output_type": "display_data"
    },
    {
     "data": {
      "text/html": [
       "Run data is saved locally in <code>/home/zekai/repos/recast/notebooks/Zekai/hyperparameter_sweep/wandb/run-20231105_223342-257wzujr</code>"
      ],
      "text/plain": [
       "<IPython.core.display.HTML object>"
      ]
     },
     "metadata": {},
     "output_type": "display_data"
    },
    {
     "data": {
      "text/html": [
       "Syncing run <strong><a href='https://wandb.ai/zekai-wang/RecurrentTPP%20on%20ANSS%20Nov%205/runs/257wzujr' target=\"_blank\">young-sweep-14</a></strong> to <a href='https://wandb.ai/zekai-wang/RecurrentTPP%20on%20ANSS%20Nov%205' target=\"_blank\">Weights & Biases</a> (<a href='https://wandb.me/run' target=\"_blank\">docs</a>)<br/>Sweep page: <a href='https://wandb.ai/zekai-wang/RecurrentTPP%20on%20ANSS%20Nov%205/sweeps/27ca0onv' target=\"_blank\">https://wandb.ai/zekai-wang/RecurrentTPP%20on%20ANSS%20Nov%205/sweeps/27ca0onv</a>"
      ],
      "text/plain": [
       "<IPython.core.display.HTML object>"
      ]
     },
     "metadata": {},
     "output_type": "display_data"
    },
    {
     "data": {
      "text/html": [
       " View project at <a href='https://wandb.ai/zekai-wang/RecurrentTPP%20on%20ANSS%20Nov%205' target=\"_blank\">https://wandb.ai/zekai-wang/RecurrentTPP%20on%20ANSS%20Nov%205</a>"
      ],
      "text/plain": [
       "<IPython.core.display.HTML object>"
      ]
     },
     "metadata": {},
     "output_type": "display_data"
    },
    {
     "data": {
      "text/html": [
       " View sweep at <a href='https://wandb.ai/zekai-wang/RecurrentTPP%20on%20ANSS%20Nov%205/sweeps/27ca0onv' target=\"_blank\">https://wandb.ai/zekai-wang/RecurrentTPP%20on%20ANSS%20Nov%205/sweeps/27ca0onv</a>"
      ],
      "text/plain": [
       "<IPython.core.display.HTML object>"
      ]
     },
     "metadata": {},
     "output_type": "display_data"
    },
    {
     "data": {
      "text/html": [
       " View run at <a href='https://wandb.ai/zekai-wang/RecurrentTPP%20on%20ANSS%20Nov%205/runs/257wzujr' target=\"_blank\">https://wandb.ai/zekai-wang/RecurrentTPP%20on%20ANSS%20Nov%205/runs/257wzujr</a>"
      ],
      "text/plain": [
       "<IPython.core.display.HTML object>"
      ]
     },
     "metadata": {},
     "output_type": "display_data"
    },
    {
     "data": {
      "application/vnd.jupyter.widget-view+json": {
       "model_id": "2ba51a1d77a54a3db4eeb48b1408715c",
       "version_major": 2,
       "version_minor": 0
      },
      "text/plain": [
       "  0%|          | 0/200 [00:00<?, ?it/s]"
      ]
     },
     "metadata": {},
     "output_type": "display_data"
    },
    {
     "data": {
      "text/html": [
       "Waiting for W&B process to finish... <strong style=\"color:green\">(success).</strong>"
      ],
      "text/plain": [
       "<IPython.core.display.HTML object>"
      ]
     },
     "metadata": {},
     "output_type": "display_data"
    },
    {
     "data": {
      "text/html": [
       "<style>\n",
       "    table.wandb td:nth-child(1) { padding: 0 10px; text-align: left ; width: auto;} td:nth-child(2) {text-align: left ; width: 100%}\n",
       "    .wandb-row { display: flex; flex-direction: row; flex-wrap: wrap; justify-content: flex-start; width: 100% }\n",
       "    .wandb-col { display: flex; flex-direction: column; flex-basis: 100%; flex: 1; padding: 10px; }\n",
       "    </style>\n",
       "<div class=\"wandb-row\"><div class=\"wandb-col\"><h3>Run history:</h3><br/><table class=\"wandb\"><tr><td>avg_test_loss</td><td>▁</td></tr></table><br/></div><div class=\"wandb-col\"><h3>Run summary:</h3><br/><table class=\"wandb\"><tr><td>avg_test_loss</td><td>0.17032</td></tr></table><br/></div></div>"
      ],
      "text/plain": [
       "<IPython.core.display.HTML object>"
      ]
     },
     "metadata": {},
     "output_type": "display_data"
    },
    {
     "data": {
      "text/html": [
       " View run <strong style=\"color:#cdcd00\">young-sweep-14</strong> at: <a href='https://wandb.ai/zekai-wang/RecurrentTPP%20on%20ANSS%20Nov%205/runs/257wzujr' target=\"_blank\">https://wandb.ai/zekai-wang/RecurrentTPP%20on%20ANSS%20Nov%205/runs/257wzujr</a><br/>Synced 5 W&B file(s), 0 media file(s), 0 artifact file(s) and 0 other file(s)"
      ],
      "text/plain": [
       "<IPython.core.display.HTML object>"
      ]
     },
     "metadata": {},
     "output_type": "display_data"
    },
    {
     "data": {
      "text/html": [
       "Find logs at: <code>./wandb/run-20231105_223342-257wzujr/logs</code>"
      ],
      "text/plain": [
       "<IPython.core.display.HTML object>"
      ]
     },
     "metadata": {},
     "output_type": "display_data"
    },
    {
     "name": "stderr",
     "output_type": "stream",
     "text": [
      "\u001b[34m\u001b[1mwandb\u001b[0m: Agent Starting Run: 7i8chsrd with config:\n",
      "\u001b[34m\u001b[1mwandb\u001b[0m: \tbatch_size: 128\n",
      "\u001b[34m\u001b[1mwandb\u001b[0m: \tbetas: [0.9, 0.999]\n",
      "\u001b[34m\u001b[1mwandb\u001b[0m: \tcontext_size: 16\n",
      "\u001b[34m\u001b[1mwandb\u001b[0m: \tdropout_proba: 0\n",
      "\u001b[34m\u001b[1mwandb\u001b[0m: \tlr: 0.002\n",
      "\u001b[34m\u001b[1mwandb\u001b[0m: \tnum_components: 16\n",
      "\u001b[34m\u001b[1mwandb\u001b[0m: \trnn_type: GRU\n",
      "\u001b[34m\u001b[1mwandb\u001b[0m: \tweight_decay: 0.005\n"
     ]
    },
    {
     "data": {
      "text/html": [
       "Tracking run with wandb version 0.15.12"
      ],
      "text/plain": [
       "<IPython.core.display.HTML object>"
      ]
     },
     "metadata": {},
     "output_type": "display_data"
    },
    {
     "data": {
      "text/html": [
       "Run data is saved locally in <code>/home/zekai/repos/recast/notebooks/Zekai/hyperparameter_sweep/wandb/run-20231105_223550-7i8chsrd</code>"
      ],
      "text/plain": [
       "<IPython.core.display.HTML object>"
      ]
     },
     "metadata": {},
     "output_type": "display_data"
    },
    {
     "data": {
      "text/html": [
       "Syncing run <strong><a href='https://wandb.ai/zekai-wang/RecurrentTPP%20on%20ANSS%20Nov%205/runs/7i8chsrd' target=\"_blank\">vague-sweep-15</a></strong> to <a href='https://wandb.ai/zekai-wang/RecurrentTPP%20on%20ANSS%20Nov%205' target=\"_blank\">Weights & Biases</a> (<a href='https://wandb.me/run' target=\"_blank\">docs</a>)<br/>Sweep page: <a href='https://wandb.ai/zekai-wang/RecurrentTPP%20on%20ANSS%20Nov%205/sweeps/27ca0onv' target=\"_blank\">https://wandb.ai/zekai-wang/RecurrentTPP%20on%20ANSS%20Nov%205/sweeps/27ca0onv</a>"
      ],
      "text/plain": [
       "<IPython.core.display.HTML object>"
      ]
     },
     "metadata": {},
     "output_type": "display_data"
    },
    {
     "data": {
      "text/html": [
       " View project at <a href='https://wandb.ai/zekai-wang/RecurrentTPP%20on%20ANSS%20Nov%205' target=\"_blank\">https://wandb.ai/zekai-wang/RecurrentTPP%20on%20ANSS%20Nov%205</a>"
      ],
      "text/plain": [
       "<IPython.core.display.HTML object>"
      ]
     },
     "metadata": {},
     "output_type": "display_data"
    },
    {
     "data": {
      "text/html": [
       " View sweep at <a href='https://wandb.ai/zekai-wang/RecurrentTPP%20on%20ANSS%20Nov%205/sweeps/27ca0onv' target=\"_blank\">https://wandb.ai/zekai-wang/RecurrentTPP%20on%20ANSS%20Nov%205/sweeps/27ca0onv</a>"
      ],
      "text/plain": [
       "<IPython.core.display.HTML object>"
      ]
     },
     "metadata": {},
     "output_type": "display_data"
    },
    {
     "data": {
      "text/html": [
       " View run at <a href='https://wandb.ai/zekai-wang/RecurrentTPP%20on%20ANSS%20Nov%205/runs/7i8chsrd' target=\"_blank\">https://wandb.ai/zekai-wang/RecurrentTPP%20on%20ANSS%20Nov%205/runs/7i8chsrd</a>"
      ],
      "text/plain": [
       "<IPython.core.display.HTML object>"
      ]
     },
     "metadata": {},
     "output_type": "display_data"
    },
    {
     "data": {
      "application/vnd.jupyter.widget-view+json": {
       "model_id": "a99ddbe586434b1584f752e6f4148fa5",
       "version_major": 2,
       "version_minor": 0
      },
      "text/plain": [
       "  0%|          | 0/200 [00:00<?, ?it/s]"
      ]
     },
     "metadata": {},
     "output_type": "display_data"
    },
    {
     "data": {
      "text/html": [
       "Waiting for W&B process to finish... <strong style=\"color:green\">(success).</strong>"
      ],
      "text/plain": [
       "<IPython.core.display.HTML object>"
      ]
     },
     "metadata": {},
     "output_type": "display_data"
    },
    {
     "data": {
      "application/vnd.jupyter.widget-view+json": {
       "model_id": "92ac6390653041bc89b7ae409117bb2d",
       "version_major": 2,
       "version_minor": 0
      },
      "text/plain": [
       "VBox(children=(Label(value='0.003 MB of 0.019 MB uploaded (0.000 MB deduped)\\r'), FloatProgress(value=0.184621…"
      ]
     },
     "metadata": {},
     "output_type": "display_data"
    },
    {
     "data": {
      "text/html": [
       "<style>\n",
       "    table.wandb td:nth-child(1) { padding: 0 10px; text-align: left ; width: auto;} td:nth-child(2) {text-align: left ; width: 100%}\n",
       "    .wandb-row { display: flex; flex-direction: row; flex-wrap: wrap; justify-content: flex-start; width: 100% }\n",
       "    .wandb-col { display: flex; flex-direction: column; flex-basis: 100%; flex: 1; padding: 10px; }\n",
       "    </style>\n",
       "<div class=\"wandb-row\"><div class=\"wandb-col\"><h3>Run history:</h3><br/><table class=\"wandb\"><tr><td>avg_test_loss</td><td>▁</td></tr></table><br/></div><div class=\"wandb-col\"><h3>Run summary:</h3><br/><table class=\"wandb\"><tr><td>avg_test_loss</td><td>0.17476</td></tr></table><br/></div></div>"
      ],
      "text/plain": [
       "<IPython.core.display.HTML object>"
      ]
     },
     "metadata": {},
     "output_type": "display_data"
    },
    {
     "data": {
      "text/html": [
       " View run <strong style=\"color:#cdcd00\">vague-sweep-15</strong> at: <a href='https://wandb.ai/zekai-wang/RecurrentTPP%20on%20ANSS%20Nov%205/runs/7i8chsrd' target=\"_blank\">https://wandb.ai/zekai-wang/RecurrentTPP%20on%20ANSS%20Nov%205/runs/7i8chsrd</a><br/>Synced 5 W&B file(s), 0 media file(s), 0 artifact file(s) and 0 other file(s)"
      ],
      "text/plain": [
       "<IPython.core.display.HTML object>"
      ]
     },
     "metadata": {},
     "output_type": "display_data"
    },
    {
     "data": {
      "text/html": [
       "Find logs at: <code>./wandb/run-20231105_223550-7i8chsrd/logs</code>"
      ],
      "text/plain": [
       "<IPython.core.display.HTML object>"
      ]
     },
     "metadata": {},
     "output_type": "display_data"
    },
    {
     "name": "stderr",
     "output_type": "stream",
     "text": [
      "\u001b[34m\u001b[1mwandb\u001b[0m: Sweep Agent: Waiting for job.\n",
      "\u001b[34m\u001b[1mwandb\u001b[0m: Job received.\n",
      "\u001b[34m\u001b[1mwandb\u001b[0m: Agent Starting Run: q18o6yyc with config:\n",
      "\u001b[34m\u001b[1mwandb\u001b[0m: \tbatch_size: 8\n",
      "\u001b[34m\u001b[1mwandb\u001b[0m: \tbetas: [0.9, 0.999]\n",
      "\u001b[34m\u001b[1mwandb\u001b[0m: \tcontext_size: 128\n",
      "\u001b[34m\u001b[1mwandb\u001b[0m: \tdropout_proba: 0.3\n",
      "\u001b[34m\u001b[1mwandb\u001b[0m: \tlr: 0.001\n",
      "\u001b[34m\u001b[1mwandb\u001b[0m: \tnum_components: 8\n",
      "\u001b[34m\u001b[1mwandb\u001b[0m: \trnn_type: LSTM\n",
      "\u001b[34m\u001b[1mwandb\u001b[0m: \tweight_decay: 0.02\n"
     ]
    },
    {
     "data": {
      "text/html": [
       "Tracking run with wandb version 0.15.12"
      ],
      "text/plain": [
       "<IPython.core.display.HTML object>"
      ]
     },
     "metadata": {},
     "output_type": "display_data"
    },
    {
     "data": {
      "text/html": [
       "Run data is saved locally in <code>/home/zekai/repos/recast/notebooks/Zekai/hyperparameter_sweep/wandb/run-20231105_223712-q18o6yyc</code>"
      ],
      "text/plain": [
       "<IPython.core.display.HTML object>"
      ]
     },
     "metadata": {},
     "output_type": "display_data"
    },
    {
     "data": {
      "text/html": [
       "Syncing run <strong><a href='https://wandb.ai/zekai-wang/RecurrentTPP%20on%20ANSS%20Nov%205/runs/q18o6yyc' target=\"_blank\">rich-sweep-16</a></strong> to <a href='https://wandb.ai/zekai-wang/RecurrentTPP%20on%20ANSS%20Nov%205' target=\"_blank\">Weights & Biases</a> (<a href='https://wandb.me/run' target=\"_blank\">docs</a>)<br/>Sweep page: <a href='https://wandb.ai/zekai-wang/RecurrentTPP%20on%20ANSS%20Nov%205/sweeps/27ca0onv' target=\"_blank\">https://wandb.ai/zekai-wang/RecurrentTPP%20on%20ANSS%20Nov%205/sweeps/27ca0onv</a>"
      ],
      "text/plain": [
       "<IPython.core.display.HTML object>"
      ]
     },
     "metadata": {},
     "output_type": "display_data"
    },
    {
     "data": {
      "text/html": [
       " View project at <a href='https://wandb.ai/zekai-wang/RecurrentTPP%20on%20ANSS%20Nov%205' target=\"_blank\">https://wandb.ai/zekai-wang/RecurrentTPP%20on%20ANSS%20Nov%205</a>"
      ],
      "text/plain": [
       "<IPython.core.display.HTML object>"
      ]
     },
     "metadata": {},
     "output_type": "display_data"
    },
    {
     "data": {
      "text/html": [
       " View sweep at <a href='https://wandb.ai/zekai-wang/RecurrentTPP%20on%20ANSS%20Nov%205/sweeps/27ca0onv' target=\"_blank\">https://wandb.ai/zekai-wang/RecurrentTPP%20on%20ANSS%20Nov%205/sweeps/27ca0onv</a>"
      ],
      "text/plain": [
       "<IPython.core.display.HTML object>"
      ]
     },
     "metadata": {},
     "output_type": "display_data"
    },
    {
     "data": {
      "text/html": [
       " View run at <a href='https://wandb.ai/zekai-wang/RecurrentTPP%20on%20ANSS%20Nov%205/runs/q18o6yyc' target=\"_blank\">https://wandb.ai/zekai-wang/RecurrentTPP%20on%20ANSS%20Nov%205/runs/q18o6yyc</a>"
      ],
      "text/plain": [
       "<IPython.core.display.HTML object>"
      ]
     },
     "metadata": {},
     "output_type": "display_data"
    },
    {
     "data": {
      "application/vnd.jupyter.widget-view+json": {
       "model_id": "d96cad8970284525a899d039c3add697",
       "version_major": 2,
       "version_minor": 0
      },
      "text/plain": [
       "  0%|          | 0/200 [00:00<?, ?it/s]"
      ]
     },
     "metadata": {},
     "output_type": "display_data"
    },
    {
     "data": {
      "text/html": [
       "Waiting for W&B process to finish... <strong style=\"color:green\">(success).</strong>"
      ],
      "text/plain": [
       "<IPython.core.display.HTML object>"
      ]
     },
     "metadata": {},
     "output_type": "display_data"
    },
    {
     "data": {
      "text/html": [
       "<style>\n",
       "    table.wandb td:nth-child(1) { padding: 0 10px; text-align: left ; width: auto;} td:nth-child(2) {text-align: left ; width: 100%}\n",
       "    .wandb-row { display: flex; flex-direction: row; flex-wrap: wrap; justify-content: flex-start; width: 100% }\n",
       "    .wandb-col { display: flex; flex-direction: column; flex-basis: 100%; flex: 1; padding: 10px; }\n",
       "    </style>\n",
       "<div class=\"wandb-row\"><div class=\"wandb-col\"><h3>Run history:</h3><br/><table class=\"wandb\"><tr><td>avg_test_loss</td><td>▁</td></tr></table><br/></div><div class=\"wandb-col\"><h3>Run summary:</h3><br/><table class=\"wandb\"><tr><td>avg_test_loss</td><td>0.16572</td></tr></table><br/></div></div>"
      ],
      "text/plain": [
       "<IPython.core.display.HTML object>"
      ]
     },
     "metadata": {},
     "output_type": "display_data"
    },
    {
     "data": {
      "text/html": [
       " View run <strong style=\"color:#cdcd00\">rich-sweep-16</strong> at: <a href='https://wandb.ai/zekai-wang/RecurrentTPP%20on%20ANSS%20Nov%205/runs/q18o6yyc' target=\"_blank\">https://wandb.ai/zekai-wang/RecurrentTPP%20on%20ANSS%20Nov%205/runs/q18o6yyc</a><br/>Synced 5 W&B file(s), 0 media file(s), 0 artifact file(s) and 0 other file(s)"
      ],
      "text/plain": [
       "<IPython.core.display.HTML object>"
      ]
     },
     "metadata": {},
     "output_type": "display_data"
    },
    {
     "data": {
      "text/html": [
       "Find logs at: <code>./wandb/run-20231105_223712-q18o6yyc/logs</code>"
      ],
      "text/plain": [
       "<IPython.core.display.HTML object>"
      ]
     },
     "metadata": {},
     "output_type": "display_data"
    },
    {
     "name": "stderr",
     "output_type": "stream",
     "text": [
      "\u001b[34m\u001b[1mwandb\u001b[0m: Agent Starting Run: e8dapfta with config:\n",
      "\u001b[34m\u001b[1mwandb\u001b[0m: \tbatch_size: 128\n",
      "\u001b[34m\u001b[1mwandb\u001b[0m: \tbetas: [0.9, 0.999]\n",
      "\u001b[34m\u001b[1mwandb\u001b[0m: \tcontext_size: 32\n",
      "\u001b[34m\u001b[1mwandb\u001b[0m: \tdropout_proba: 0.2\n",
      "\u001b[34m\u001b[1mwandb\u001b[0m: \tlr: 0.002\n",
      "\u001b[34m\u001b[1mwandb\u001b[0m: \tnum_components: 32\n",
      "\u001b[34m\u001b[1mwandb\u001b[0m: \trnn_type: RNN\n",
      "\u001b[34m\u001b[1mwandb\u001b[0m: \tweight_decay: 0.001\n"
     ]
    },
    {
     "data": {
      "text/html": [
       "Tracking run with wandb version 0.15.12"
      ],
      "text/plain": [
       "<IPython.core.display.HTML object>"
      ]
     },
     "metadata": {},
     "output_type": "display_data"
    },
    {
     "data": {
      "text/html": [
       "Run data is saved locally in <code>/home/zekai/repos/recast/notebooks/Zekai/hyperparameter_sweep/wandb/run-20231105_224021-e8dapfta</code>"
      ],
      "text/plain": [
       "<IPython.core.display.HTML object>"
      ]
     },
     "metadata": {},
     "output_type": "display_data"
    },
    {
     "data": {
      "text/html": [
       "Syncing run <strong><a href='https://wandb.ai/zekai-wang/RecurrentTPP%20on%20ANSS%20Nov%205/runs/e8dapfta' target=\"_blank\">logical-sweep-17</a></strong> to <a href='https://wandb.ai/zekai-wang/RecurrentTPP%20on%20ANSS%20Nov%205' target=\"_blank\">Weights & Biases</a> (<a href='https://wandb.me/run' target=\"_blank\">docs</a>)<br/>Sweep page: <a href='https://wandb.ai/zekai-wang/RecurrentTPP%20on%20ANSS%20Nov%205/sweeps/27ca0onv' target=\"_blank\">https://wandb.ai/zekai-wang/RecurrentTPP%20on%20ANSS%20Nov%205/sweeps/27ca0onv</a>"
      ],
      "text/plain": [
       "<IPython.core.display.HTML object>"
      ]
     },
     "metadata": {},
     "output_type": "display_data"
    },
    {
     "data": {
      "text/html": [
       " View project at <a href='https://wandb.ai/zekai-wang/RecurrentTPP%20on%20ANSS%20Nov%205' target=\"_blank\">https://wandb.ai/zekai-wang/RecurrentTPP%20on%20ANSS%20Nov%205</a>"
      ],
      "text/plain": [
       "<IPython.core.display.HTML object>"
      ]
     },
     "metadata": {},
     "output_type": "display_data"
    },
    {
     "data": {
      "text/html": [
       " View sweep at <a href='https://wandb.ai/zekai-wang/RecurrentTPP%20on%20ANSS%20Nov%205/sweeps/27ca0onv' target=\"_blank\">https://wandb.ai/zekai-wang/RecurrentTPP%20on%20ANSS%20Nov%205/sweeps/27ca0onv</a>"
      ],
      "text/plain": [
       "<IPython.core.display.HTML object>"
      ]
     },
     "metadata": {},
     "output_type": "display_data"
    },
    {
     "data": {
      "text/html": [
       " View run at <a href='https://wandb.ai/zekai-wang/RecurrentTPP%20on%20ANSS%20Nov%205/runs/e8dapfta' target=\"_blank\">https://wandb.ai/zekai-wang/RecurrentTPP%20on%20ANSS%20Nov%205/runs/e8dapfta</a>"
      ],
      "text/plain": [
       "<IPython.core.display.HTML object>"
      ]
     },
     "metadata": {},
     "output_type": "display_data"
    },
    {
     "data": {
      "application/vnd.jupyter.widget-view+json": {
       "model_id": "09f9153bb7464bc59c78dc8fc89c3459",
       "version_major": 2,
       "version_minor": 0
      },
      "text/plain": [
       "  0%|          | 0/200 [00:00<?, ?it/s]"
      ]
     },
     "metadata": {},
     "output_type": "display_data"
    },
    {
     "data": {
      "text/html": [
       "Waiting for W&B process to finish... <strong style=\"color:green\">(success).</strong>"
      ],
      "text/plain": [
       "<IPython.core.display.HTML object>"
      ]
     },
     "metadata": {},
     "output_type": "display_data"
    },
    {
     "data": {
      "application/vnd.jupyter.widget-view+json": {
       "model_id": "5a3fb09ca96245009cdbae205aa536d7",
       "version_major": 2,
       "version_minor": 0
      },
      "text/plain": [
       "VBox(children=(Label(value='0.003 MB of 0.003 MB uploaded (0.000 MB deduped)\\r'), FloatProgress(value=1.0, max…"
      ]
     },
     "metadata": {},
     "output_type": "display_data"
    },
    {
     "data": {
      "text/html": [
       "<style>\n",
       "    table.wandb td:nth-child(1) { padding: 0 10px; text-align: left ; width: auto;} td:nth-child(2) {text-align: left ; width: 100%}\n",
       "    .wandb-row { display: flex; flex-direction: row; flex-wrap: wrap; justify-content: flex-start; width: 100% }\n",
       "    .wandb-col { display: flex; flex-direction: column; flex-basis: 100%; flex: 1; padding: 10px; }\n",
       "    </style>\n",
       "<div class=\"wandb-row\"><div class=\"wandb-col\"><h3>Run history:</h3><br/><table class=\"wandb\"><tr><td>avg_test_loss</td><td>▁</td></tr></table><br/></div><div class=\"wandb-col\"><h3>Run summary:</h3><br/><table class=\"wandb\"><tr><td>avg_test_loss</td><td>0.17972</td></tr></table><br/></div></div>"
      ],
      "text/plain": [
       "<IPython.core.display.HTML object>"
      ]
     },
     "metadata": {},
     "output_type": "display_data"
    },
    {
     "data": {
      "text/html": [
       " View run <strong style=\"color:#cdcd00\">logical-sweep-17</strong> at: <a href='https://wandb.ai/zekai-wang/RecurrentTPP%20on%20ANSS%20Nov%205/runs/e8dapfta' target=\"_blank\">https://wandb.ai/zekai-wang/RecurrentTPP%20on%20ANSS%20Nov%205/runs/e8dapfta</a><br/>Synced 5 W&B file(s), 0 media file(s), 0 artifact file(s) and 0 other file(s)"
      ],
      "text/plain": [
       "<IPython.core.display.HTML object>"
      ]
     },
     "metadata": {},
     "output_type": "display_data"
    },
    {
     "data": {
      "text/html": [
       "Find logs at: <code>./wandb/run-20231105_224021-e8dapfta/logs</code>"
      ],
      "text/plain": [
       "<IPython.core.display.HTML object>"
      ]
     },
     "metadata": {},
     "output_type": "display_data"
    },
    {
     "name": "stderr",
     "output_type": "stream",
     "text": [
      "\u001b[34m\u001b[1mwandb\u001b[0m: Agent Starting Run: e2f7bwjk with config:\n",
      "\u001b[34m\u001b[1mwandb\u001b[0m: \tbatch_size: 32\n",
      "\u001b[34m\u001b[1mwandb\u001b[0m: \tbetas: [0.9, 0.999]\n",
      "\u001b[34m\u001b[1mwandb\u001b[0m: \tcontext_size: 8\n",
      "\u001b[34m\u001b[1mwandb\u001b[0m: \tdropout_proba: 0.3\n",
      "\u001b[34m\u001b[1mwandb\u001b[0m: \tlr: 0.001\n",
      "\u001b[34m\u001b[1mwandb\u001b[0m: \tnum_components: 32\n",
      "\u001b[34m\u001b[1mwandb\u001b[0m: \trnn_type: GRU\n",
      "\u001b[34m\u001b[1mwandb\u001b[0m: \tweight_decay: 0.01\n"
     ]
    },
    {
     "data": {
      "text/html": [
       "Tracking run with wandb version 0.15.12"
      ],
      "text/plain": [
       "<IPython.core.display.HTML object>"
      ]
     },
     "metadata": {},
     "output_type": "display_data"
    },
    {
     "data": {
      "text/html": [
       "Run data is saved locally in <code>/home/zekai/repos/recast/notebooks/Zekai/hyperparameter_sweep/wandb/run-20231105_224133-e2f7bwjk</code>"
      ],
      "text/plain": [
       "<IPython.core.display.HTML object>"
      ]
     },
     "metadata": {},
     "output_type": "display_data"
    },
    {
     "data": {
      "text/html": [
       "Syncing run <strong><a href='https://wandb.ai/zekai-wang/RecurrentTPP%20on%20ANSS%20Nov%205/runs/e2f7bwjk' target=\"_blank\">good-sweep-18</a></strong> to <a href='https://wandb.ai/zekai-wang/RecurrentTPP%20on%20ANSS%20Nov%205' target=\"_blank\">Weights & Biases</a> (<a href='https://wandb.me/run' target=\"_blank\">docs</a>)<br/>Sweep page: <a href='https://wandb.ai/zekai-wang/RecurrentTPP%20on%20ANSS%20Nov%205/sweeps/27ca0onv' target=\"_blank\">https://wandb.ai/zekai-wang/RecurrentTPP%20on%20ANSS%20Nov%205/sweeps/27ca0onv</a>"
      ],
      "text/plain": [
       "<IPython.core.display.HTML object>"
      ]
     },
     "metadata": {},
     "output_type": "display_data"
    },
    {
     "data": {
      "text/html": [
       " View project at <a href='https://wandb.ai/zekai-wang/RecurrentTPP%20on%20ANSS%20Nov%205' target=\"_blank\">https://wandb.ai/zekai-wang/RecurrentTPP%20on%20ANSS%20Nov%205</a>"
      ],
      "text/plain": [
       "<IPython.core.display.HTML object>"
      ]
     },
     "metadata": {},
     "output_type": "display_data"
    },
    {
     "data": {
      "text/html": [
       " View sweep at <a href='https://wandb.ai/zekai-wang/RecurrentTPP%20on%20ANSS%20Nov%205/sweeps/27ca0onv' target=\"_blank\">https://wandb.ai/zekai-wang/RecurrentTPP%20on%20ANSS%20Nov%205/sweeps/27ca0onv</a>"
      ],
      "text/plain": [
       "<IPython.core.display.HTML object>"
      ]
     },
     "metadata": {},
     "output_type": "display_data"
    },
    {
     "data": {
      "text/html": [
       " View run at <a href='https://wandb.ai/zekai-wang/RecurrentTPP%20on%20ANSS%20Nov%205/runs/e2f7bwjk' target=\"_blank\">https://wandb.ai/zekai-wang/RecurrentTPP%20on%20ANSS%20Nov%205/runs/e2f7bwjk</a>"
      ],
      "text/plain": [
       "<IPython.core.display.HTML object>"
      ]
     },
     "metadata": {},
     "output_type": "display_data"
    },
    {
     "data": {
      "application/vnd.jupyter.widget-view+json": {
       "model_id": "2a63dbef9bcb49c1a8951f90479e80ba",
       "version_major": 2,
       "version_minor": 0
      },
      "text/plain": [
       "  0%|          | 0/200 [00:00<?, ?it/s]"
      ]
     },
     "metadata": {},
     "output_type": "display_data"
    }
   ],
   "source": [
    "wandb.agent(sweep_id, function=train, count=100)"
   ]
  }
 ],
 "metadata": {
  "kernelspec": {
   "display_name": "eq",
   "language": "python",
   "name": "python3"
  },
  "language_info": {
   "codemirror_mode": {
    "name": "ipython",
    "version": 3
   },
   "file_extension": ".py",
   "mimetype": "text/x-python",
   "name": "python",
   "nbconvert_exporter": "python",
   "pygments_lexer": "ipython3",
   "version": "3.11.5"
  }
 },
 "nbformat": 4,
 "nbformat_minor": 2
}
