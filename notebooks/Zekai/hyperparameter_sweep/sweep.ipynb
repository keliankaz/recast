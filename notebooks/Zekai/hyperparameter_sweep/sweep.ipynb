{
 "cells": [
  {
   "cell_type": "code",
   "execution_count": 1,
   "metadata": {},
   "outputs": [],
   "source": [
    "%load_ext autoreload\n",
    "%autoreload 2\n",
    "import pytorch_lightning as pl\n",
    "import pytorch_lightning.callbacks as pl_callbacks\n",
    "import torch\n",
    "import eq\n",
    "import wandb"
   ]
  },
  {
   "cell_type": "code",
   "execution_count": 2,
   "metadata": {},
   "outputs": [
    {
     "name": "stdout",
     "output_type": "stream",
     "text": [
      "/home/zekai/repos/recast/data\n"
     ]
    }
   ],
   "source": [
    "print(eq.data.default_catalogs_dir)"
   ]
  },
  {
   "cell_type": "code",
   "execution_count": 5,
   "metadata": {},
   "outputs": [
    {
     "name": "stdout",
     "output_type": "stream",
     "text": [
      "Generating the catalog...\n",
      "Downloading...\n",
      "train\n"
     ]
    }
   ],
   "source": [
    "catalog = eq.catalogs.ANSS_MultiCatalog(mag_completeness=2.0)"
   ]
  },
  {
   "cell_type": "code",
   "execution_count": 9,
   "metadata": {},
   "outputs": [
    {
     "name": "stdout",
     "output_type": "stream",
     "text": [
      "Train sequence:\n",
      "Sequence(\n",
      "  inter_times: [102],\n",
      "  arrival_times: [101],\n",
      "  t_start: 0.0,\n",
      "  t_end: 365.0,\n",
      "  t_nll_start: 0.0,\n",
      "  mag: [101],\n",
      "  mag_bounds: [2],\n",
      "  mag_nll_bounds: [2]\n",
      ")\n",
      "\n",
      "Validation sequence:\n",
      "Sequence(\n",
      "  inter_times: [89],\n",
      "  arrival_times: [88],\n",
      "  t_start: 0.0,\n",
      "  t_end: 173.745,\n",
      "  t_nll_start: 0.0,\n",
      "  mag: [88],\n",
      "  mag_bounds: [2],\n",
      "  mag_nll_bounds: [2]\n",
      ")\n",
      "\n",
      "Test sequence:\n",
      "Sequence(\n",
      "  inter_times: [168],\n",
      "  arrival_times: [167],\n",
      "  t_start: 0.0,\n",
      "  t_end: 365.0,\n",
      "  t_nll_start: 0.0,\n",
      "  mag: [167],\n",
      "  mag_bounds: [2],\n",
      "  mag_nll_bounds: [2]\n",
      ")\n"
     ]
    }
   ],
   "source": [
    "print(\"Train sequence:\")\n",
    "print(catalog.train[0])\n",
    "print(\"\\nValidation sequence:\")\n",
    "print(catalog.val[0])\n",
    "print(\"\\nTest sequence:\")\n",
    "print(catalog.test[0])"
   ]
  },
  {
   "cell_type": "code",
   "execution_count": null,
   "metadata": {},
   "outputs": [],
   "source": []
  }
 ],
 "metadata": {
  "kernelspec": {
   "display_name": "eq",
   "language": "python",
   "name": "python3"
  },
  "language_info": {
   "codemirror_mode": {
    "name": "ipython",
    "version": 3
   },
   "file_extension": ".py",
   "mimetype": "text/x-python",
   "name": "python",
   "nbconvert_exporter": "python",
   "pygments_lexer": "ipython3",
   "version": "3.11.5"
  }
 },
 "nbformat": 4,
 "nbformat_minor": 2
}
