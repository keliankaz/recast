{
 "cells": [
  {
   "cell_type": "code",
   "execution_count": 13,
   "id": "a0ecf878",
   "metadata": {
    "ExecuteTime": {
     "end_time": "2022-03-02T14:06:00.908323Z",
     "start_time": "2022-03-02T14:05:53.395167Z"
    }
   },
   "outputs": [],
   "source": [
    "import pytorch_lightning as pl\n",
    "import pytorch_lightning.callbacks as pl_callbacks\n",
    "import torch\n",
    "import eq"
   ]
  },
  {
   "cell_type": "markdown",
   "id": "e22a02f4",
   "metadata": {},
   "source": [
    "## Loading the catalog\n",
    "\n",
    "By default, all catalogs are saved to the following directory"
   ]
  },
  {
   "cell_type": "code",
   "execution_count": 14,
   "id": "85e3e706",
   "metadata": {
    "ExecuteTime": {
     "end_time": "2022-03-02T14:06:01.824829Z",
     "start_time": "2022-03-02T14:06:01.819094Z"
    }
   },
   "outputs": [
    {
     "name": "stdout",
     "output_type": "stream",
     "text": [
      "/home/gcl/RB/kdascher/Projects/DS_Discovery/recast/data\n"
     ]
    }
   ],
   "source": [
    "print(eq.data.default_catalogs_dir)"
   ]
  },
  {
   "cell_type": "markdown",
   "id": "681aa098",
   "metadata": {},
   "source": [
    "We load the catalog constructed by White et al. The catalog records earthquakes between `2008-01-01` and `2021-01-01`.\n",
    "The following code automatically downloads and preprocesses the catalog, or loads it from the data directory, if it's already there."
   ]
  },
  {
   "cell_type": "code",
   "execution_count": 15,
   "id": "a984c66a",
   "metadata": {
    "ExecuteTime": {
     "end_time": "2022-03-02T14:06:19.198823Z",
     "start_time": "2022-03-02T14:06:19.128585Z"
    }
   },
   "outputs": [
    {
     "name": "stdout",
     "output_type": "stream",
     "text": [
      "Generating the catalog...\n",
      "Downloading...\n"
     ]
    },
    {
     "ename": "AttributeError",
     "evalue": "'dict' object has no attribute 'mag_completeness'",
     "output_type": "error",
     "traceback": [
      "\u001b[0;31m---------------------------------------------------------------------------\u001b[0m",
      "\u001b[0;31mAttributeError\u001b[0m                            Traceback (most recent call last)",
      "\u001b[1;32m/home/gcl/RB/kdascher/Projects/DS_Discovery/recast/notebooks/1. Training the model.ipynb Cell 5\u001b[0m line \u001b[0;36m1\n\u001b[0;32m----> <a href='vscode-notebook-cell://ssh-remote%2Bsuture.geo.berkeley.edu/home/gcl/RB/kdascher/Projects/DS_Discovery/recast/notebooks/1.%20Training%20the%20model.ipynb#W4sdnNjb2RlLXJlbW90ZQ%3D%3D?line=0'>1</a>\u001b[0m catalog \u001b[39m=\u001b[39m eq\u001b[39m.\u001b[39;49mcatalogs\u001b[39m.\u001b[39;49mWhite()\n",
      "File \u001b[0;32m~/Projects/DS_Discovery/recast/eq/catalogs/white.py:40\u001b[0m, in \u001b[0;36mWhite.__init__\u001b[0;34m(self, root_dir, mag_completeness, train_start_ts, val_start_ts, test_start_ts)\u001b[0m\n\u001b[1;32m     24\u001b[0m \u001b[39mdef\u001b[39;00m \u001b[39m__init__\u001b[39m(\n\u001b[1;32m     25\u001b[0m     \u001b[39mself\u001b[39m,\n\u001b[1;32m     26\u001b[0m     root_dir: Union[\u001b[39mstr\u001b[39m, Path] \u001b[39m=\u001b[39m default_catalogs_dir \u001b[39m/\u001b[39m \u001b[39m\"\u001b[39m\u001b[39mWhite\u001b[39m\u001b[39m\"\u001b[39m,\n\u001b[0;32m   (...)\u001b[0m\n\u001b[1;32m     30\u001b[0m     test_start_ts: pd\u001b[39m.\u001b[39mTimestamp \u001b[39m=\u001b[39m pd\u001b[39m.\u001b[39mTimestamp(\u001b[39m\"\u001b[39m\u001b[39m2017-01-01\u001b[39m\u001b[39m\"\u001b[39m),\n\u001b[1;32m     31\u001b[0m ):\n\u001b[1;32m     32\u001b[0m     metadata \u001b[39m=\u001b[39m {\n\u001b[1;32m     33\u001b[0m         \u001b[39m\"\u001b[39m\u001b[39mname\u001b[39m\u001b[39m\"\u001b[39m: \u001b[39m\"\u001b[39m\u001b[39mWhite\u001b[39m\u001b[39m\"\u001b[39m,\n\u001b[1;32m     34\u001b[0m         \u001b[39m\"\u001b[39m\u001b[39mfreq\u001b[39m\u001b[39m\"\u001b[39m: \u001b[39m\"\u001b[39m\u001b[39m1D\u001b[39m\u001b[39m\"\u001b[39m,\n\u001b[0;32m   (...)\u001b[0m\n\u001b[1;32m     38\u001b[0m         \u001b[39m\"\u001b[39m\u001b[39mend_ts\u001b[39m\u001b[39m\"\u001b[39m: pd\u001b[39m.\u001b[39mTimestamp(\u001b[39m\"\u001b[39m\u001b[39m2021-01-01\u001b[39m\u001b[39m\"\u001b[39m),\n\u001b[1;32m     39\u001b[0m     }\n\u001b[0;32m---> 40\u001b[0m     \u001b[39msuper\u001b[39;49m()\u001b[39m.\u001b[39;49m\u001b[39m__init__\u001b[39;49m(root_dir\u001b[39m=\u001b[39;49mroot_dir, metadata\u001b[39m=\u001b[39;49mmetadata)\n\u001b[1;32m     42\u001b[0m     \u001b[39mself\u001b[39m\u001b[39m.\u001b[39mfull_sequence \u001b[39m=\u001b[39m InMemoryDataset\u001b[39m.\u001b[39mload_from_disk(\n\u001b[1;32m     43\u001b[0m         \u001b[39mself\u001b[39m\u001b[39m.\u001b[39mroot_dir \u001b[39m/\u001b[39m \u001b[39m\"\u001b[39m\u001b[39mfull_sequence.pt\u001b[39m\u001b[39m\"\u001b[39m\n\u001b[1;32m     44\u001b[0m     )[\u001b[39m0\u001b[39m]\n\u001b[1;32m     46\u001b[0m     \u001b[39mself\u001b[39m\u001b[39m.\u001b[39mmetadata[\u001b[39m\"\u001b[39m\u001b[39mtrain_start_ts\u001b[39m\u001b[39m\"\u001b[39m] \u001b[39m=\u001b[39m pd\u001b[39m.\u001b[39mTimestamp(train_start_ts)\n",
      "File \u001b[0;32m~/Projects/DS_Discovery/recast/eq/data/catalog.py:36\u001b[0m, in \u001b[0;36mCatalog.__init__\u001b[0;34m(self, root_dir, metadata)\u001b[0m\n\u001b[1;32m     34\u001b[0m \u001b[39mself\u001b[39m\u001b[39m.\u001b[39mroot_dir\u001b[39m.\u001b[39mmkdir(parents\u001b[39m=\u001b[39m\u001b[39mTrue\u001b[39;00m, exist_ok\u001b[39m=\u001b[39m\u001b[39mTrue\u001b[39;00m)\n\u001b[1;32m     35\u001b[0m torch\u001b[39m.\u001b[39msave(\u001b[39mself\u001b[39m\u001b[39m.\u001b[39mmetadata, \u001b[39mself\u001b[39m\u001b[39m.\u001b[39mroot_dir \u001b[39m/\u001b[39m \u001b[39m\"\u001b[39m\u001b[39mmetadata.pt\u001b[39m\u001b[39m\"\u001b[39m)\n\u001b[0;32m---> 36\u001b[0m \u001b[39mself\u001b[39;49m\u001b[39m.\u001b[39;49mgenerate_catalog()\n\u001b[1;32m     37\u001b[0m \u001b[39mprint\u001b[39m(\u001b[39mf\u001b[39m\u001b[39m\"\u001b[39m\u001b[39mCatalog saved to \u001b[39m\u001b[39m{\u001b[39;00m\u001b[39mself\u001b[39m\u001b[39m.\u001b[39mroot_dir\u001b[39m}\u001b[39;00m\u001b[39m\"\u001b[39m)\n\u001b[1;32m     38\u001b[0m \u001b[39mif\u001b[39;00m \u001b[39mnot\u001b[39;00m \u001b[39mself\u001b[39m\u001b[39m.\u001b[39mall_paths_exist():\n",
      "File \u001b[0;32m~/Projects/DS_Discovery/recast/eq/catalogs/white.py:111\u001b[0m, in \u001b[0;36mWhite.generate_catalog\u001b[0;34m(self)\u001b[0m\n\u001b[1;32m    105\u001b[0m inter_times \u001b[39m=\u001b[39m np\u001b[39m.\u001b[39mdiff(arrival_times, prepend\u001b[39m=\u001b[39m[t_start], append\u001b[39m=\u001b[39m[t_end])\n\u001b[1;32m    106\u001b[0m mag \u001b[39m=\u001b[39m subset_df\u001b[39m.\u001b[39mMl\u001b[39m.\u001b[39mvalues\n\u001b[1;32m    108\u001b[0m seq \u001b[39m=\u001b[39m Sequence(\n\u001b[1;32m    109\u001b[0m     inter_times\u001b[39m=\u001b[39mtorch\u001b[39m.\u001b[39mas_tensor(inter_times, dtype\u001b[39m=\u001b[39mtorch\u001b[39m.\u001b[39mfloat32),\n\u001b[1;32m    110\u001b[0m     t_start\u001b[39m=\u001b[39mt_start,\n\u001b[0;32m--> 111\u001b[0m     mag\u001b[39m=\u001b[39mContinuousMarks(mag,[\u001b[39mself\u001b[39;49m\u001b[39m.\u001b[39;49mmetadata\u001b[39m.\u001b[39;49mmag_completeness,\u001b[39m10\u001b[39m]),\n\u001b[1;32m    112\u001b[0m )\n\u001b[1;32m    113\u001b[0m dataset \u001b[39m=\u001b[39m InMemoryDataset(sequences\u001b[39m=\u001b[39m[seq])\n\u001b[1;32m    115\u001b[0m dataset\u001b[39m.\u001b[39msave_to_disk(\u001b[39mself\u001b[39m\u001b[39m.\u001b[39mroot_dir \u001b[39m/\u001b[39m \u001b[39m\"\u001b[39m\u001b[39mfull_sequence.pt\u001b[39m\u001b[39m\"\u001b[39m)\n",
      "\u001b[0;31mAttributeError\u001b[0m: 'dict' object has no attribute 'mag_completeness'"
     ]
    }
   ],
   "source": [
    "catalog = eq.catalogs.White()"
   ]
  },
  {
   "cell_type": "markdown",
   "id": "0222234e",
   "metadata": {},
   "source": [
    "Other available catalogs:\n",
    "- `eq.catalogs.SCEDC`\n",
    "- `eq.catalogs.QTMSanJacinto`\n",
    "- `eq.catalogs.QTMSaltonSea`"
   ]
  },
  {
   "cell_type": "markdown",
   "id": "0e026ad8",
   "metadata": {},
   "source": [
    "### Representing the data\n",
    "We can represent all data stored in the catalog as an object of type `eq.data.Sequence`."
   ]
  },
  {
   "cell_type": "code",
   "execution_count": null,
   "id": "68813d45",
   "metadata": {
    "ExecuteTime": {
     "end_time": "2022-03-02T14:06:21.121384Z",
     "start_time": "2022-03-02T14:06:21.110542Z"
    }
   },
   "outputs": [
    {
     "data": {
      "text/plain": [
       "Sequence(\n",
       "  inter_times: [134976],\n",
       "  arrival_times: [134975],\n",
       "  t_start: 0.0,\n",
       "  t_end: 4749.0,\n",
       "  t_nll_start: 0.0,\n",
       "  mag: [134975]\n",
       ")"
      ]
     },
     "execution_count": 4,
     "metadata": {},
     "output_type": "execute_result"
    }
   ],
   "source": [
    "catalog.full_sequence"
   ]
  },
  {
   "cell_type": "markdown",
   "id": "21fc9974",
   "metadata": {},
   "source": [
    "An `eq.data.Sequence` object contains the following attributes:\n",
    "- `t_start` and `t_end`: Start and end of the time interval containing the events (in days).\n",
    "- `arrival_times`: Arrival times of each event (in days), shape `[num_events]`\n",
    "- `inter_times`: Inter-event times, shape `[num_events + 1]` since this also includes the last survival time from `arrival_times[-1]` until `t_end`.\n",
    "- `mag`: Magnitude of each earthquake, shape `[num_events]`.\n",
    "- `t_nll_start`: This attributed allows to compute the negative log-likelihood (NLL) only for the observations in the interval `[t_nll_start, t_end]`, while conditioning the model on past events in `[t_start, t_nll_start]`."
   ]
  },
  {
   "cell_type": "code",
   "execution_count": 5,
   "id": "0d22ec63",
   "metadata": {
    "ExecuteTime": {
     "end_time": "2022-03-02T14:06:28.832144Z",
     "start_time": "2022-03-02T14:06:27.141057Z"
    },
    "scrolled": true
   },
   "outputs": [
    {
     "data": {
      "text/plain": [
       "<Axes: xlabel='Time (days)', ylabel='Magnitude'>"
      ]
     },
     "execution_count": 5,
     "metadata": {},
     "output_type": "execute_result"
    },
    {
     "data": {
      "image/png": "[encoded data removed]",
      "text/plain": [
       "<Figure size 900x300 with 1 Axes>"
      ]
     },
     "metadata": {},
     "output_type": "display_data"
    }
   ],
   "source": [
    "eq.visualization.visualize_sequence(catalog.full_sequence)"
   ]
  },
  {
   "cell_type": "markdown",
   "id": "bbc34a83",
   "metadata": {},
   "source": [
    "### Train / val / test split\n",
    "\n",
    "To compare different models, we split the full event sequence into 3 components:\n",
    "- `train`: used for training the models, includes events between `2008-01-01` and `2014-01-01`.\n",
    "- `val`: used for early stopping and hyperparameter selection, includes events between `2014-01-01` and `2017-01-01`.\n",
    "- `test`: used for final evaluation, includes events between `2017-01-01` and `2021-01-01`.\n",
    "\n",
    "We already provided the start of the val and test intervals when loading the catalog, so now the train, val and test sequences are stored in `catalog.train`, `catalog.val` and `catalog.test`, respectively.\n",
    "\n",
    "In our case the catalog consists of a single event sequence but, in principle, there could be multiple event sequences stored in `catalog.train`, `catalog.val` and `catalog.test`."
   ]
  },
  {
   "cell_type": "code",
   "execution_count": 6,
   "id": "1e31c7c0",
   "metadata": {
    "ExecuteTime": {
     "end_time": "2022-03-02T14:06:46.767650Z",
     "start_time": "2022-03-02T14:06:46.757800Z"
    }
   },
   "outputs": [
    {
     "name": "stdout",
     "output_type": "stream",
     "text": [
      "Train sequence:\n",
      "Sequence(\n",
      "  inter_times: [52613],\n",
      "  arrival_times: [52612],\n",
      "  t_start: 0.0,\n",
      "  t_end: 2192.0,\n",
      "  t_nll_start: 366.0,\n",
      "  mag: [52612]\n",
      ")\n",
      "\n",
      "Validation sequence:\n",
      "Sequence(\n",
      "  inter_times: [85663],\n",
      "  arrival_times: [85662],\n",
      "  t_start: 0.0,\n",
      "  t_end: 3288.0,\n",
      "  t_nll_start: 2192.0,\n",
      "  mag: [85662]\n",
      ")\n",
      "\n",
      "Test sequence:\n",
      "Sequence(\n",
      "  inter_times: [134976],\n",
      "  arrival_times: [134975],\n",
      "  t_start: 0.0,\n",
      "  t_end: 4749.0,\n",
      "  t_nll_start: 3288.0,\n",
      "  mag: [134975]\n",
      ")\n"
     ]
    }
   ],
   "source": [
    "print(\"Train sequence:\")\n",
    "print(catalog.train[0])\n",
    "print(\"\\nValidation sequence:\")\n",
    "print(catalog.val[0])\n",
    "print(\"\\nTest sequence:\")\n",
    "print(catalog.test[0])"
   ]
  },
  {
   "cell_type": "markdown",
   "id": "b39a5a2e",
   "metadata": {},
   "source": [
    "Note that, for example, the `test` sequence contains all events in the catalog, including the training set.\n",
    "\n",
    "However, since we specified `t_nll_start`, the model will know to only compute the NLL on the interval `[t_nll_start, t_end]` (shown in orange in the figure below), while also conditioning on the events from `[0, t_nll_start]`."
   ]
  },
  {
   "cell_type": "code",
   "execution_count": 7,
   "id": "3bc0d6f3",
   "metadata": {
    "ExecuteTime": {
     "end_time": "2022-03-02T14:06:57.936071Z",
     "start_time": "2022-03-02T14:06:56.365965Z"
    }
   },
   "outputs": [
    {
     "data": {
      "text/plain": [
       "<Axes: xlabel='Time (days)', ylabel='Magnitude'>"
      ]
     },
     "execution_count": 7,
     "metadata": {},
     "output_type": "execute_result"
    },
    {
     "data": {
      "image/png": "[encoded data removed]",
      "text/plain": [
       "<Figure size 900x300 with 1 Axes>"
      ]
     },
     "metadata": {},
     "output_type": "display_data"
    }
   ],
   "source": [
    "eq.visualization.visualize_sequence(catalog.test[0], show_nll=True)"
   ]
  },
  {
   "cell_type": "markdown",
   "id": "5744df62",
   "metadata": {},
   "source": [
    "## Training the model"
   ]
  },
  {
   "cell_type": "markdown",
   "id": "29f7138f",
   "metadata": {},
   "source": [
    "We will train the model using the high-level API provided by `pytorch_lightning`.\n",
    "\n",
    "For this, we first need to create `torch.utils.data.DataLoader` objects that will feed the data into the model."
   ]
  },
  {
   "cell_type": "code",
   "execution_count": 8,
   "id": "af3e0cc3",
   "metadata": {
    "ExecuteTime": {
     "end_time": "2022-03-02T14:07:20.933718Z",
     "start_time": "2022-03-02T14:07:20.926202Z"
    }
   },
   "outputs": [],
   "source": [
    "dl_train = catalog.train.get_dataloader()\n",
    "dl_val = catalog.val.get_dataloader()\n",
    "dl_test = catalog.test.get_dataloader()"
   ]
  },
  {
   "cell_type": "markdown",
   "id": "fd5e1779",
   "metadata": {},
   "source": [
    "Now, we initialize the model."
   ]
  },
  {
   "cell_type": "code",
   "execution_count": 9,
   "id": "23165294",
   "metadata": {
    "ExecuteTime": {
     "end_time": "2022-03-02T14:07:23.470991Z",
     "start_time": "2022-03-02T14:07:23.429872Z"
    }
   },
   "outputs": [],
   "source": [
    "model = eq.models.RecurrentTPP()"
   ]
  },
  {
   "cell_type": "markdown",
   "id": "c531f9b5",
   "metadata": {},
   "source": [
    "`pytorch_lightning.Trainer` takes care of training the model, early stopping and saving the best weights.\n",
    "\n",
    "In this toy example, we set `max_epochs=200` and `patience=20` to get to the results more quickly.\n",
    "\n",
    "In the experiments in the paper, we trained the models for longer with `max_epochs=1500` and `patience=200`."
   ]
  },
  {
   "cell_type": "code",
   "execution_count": 11,
   "id": "769f98d7",
   "metadata": {
    "ExecuteTime": {
     "end_time": "2022-03-02T14:07:43.077087Z",
     "start_time": "2022-03-02T14:07:43.022854Z"
    }
   },
   "outputs": [
    {
     "name": "stderr",
     "output_type": "stream",
     "text": [
      "GPU available: True (cuda), used: True\n",
      "TPU available: False, using: 0 TPU cores\n",
      "IPU available: False, using: 0 IPUs\n",
      "HPU available: False, using: 0 HPUs\n",
      "/home/gcl/RB/kdascher/yes/envs/DS-discovery/lib/python3.11/site-packages/pytorch_lightning/trainer/connectors/logger_connector/logger_connector.py:67: UserWarning: Starting from v1.9.0, `tensorboardX` has been removed as a dependency of the `pytorch_lightning` package, due to potential conflicts with other packages in the ML ecosystem. For this reason, `logger=True` will use `CSVLogger` as the default logger, unless the `tensorboard` or `tensorboardX` packages are found. Please `pip install lightning[extra]` or one of them to enable TensorBoard support by default\n",
      "  warning_cache.warn(\n"
     ]
    }
   ],
   "source": [
    "# ModelCheckpoints saves the model with the best validation loss\n",
    "checkpoint = pl_callbacks.ModelCheckpoint(monitor=\"val_loss\")\n",
    "\n",
    "# EarlyStopping stops training if the validation loss doesn't improve by more than 1e-3 for 20 epochs\n",
    "early_stopping = pl_callbacks.EarlyStopping(monitor=\"val_loss\", patience=20, min_delta=1e-3)\n",
    "\n",
    "num_gpus = int(torch.cuda.is_available())  # equals to 1 if GPU is available, 0 otherwise\n",
    "trainer = pl.Trainer(max_epochs=200, callbacks=[checkpoint, early_stopping])"
   ]
  },
  {
   "cell_type": "code",
   "execution_count": 12,
   "id": "4a0fbddc",
   "metadata": {
    "ExecuteTime": {
     "end_time": "2022-03-02T14:09:32.883383Z",
     "start_time": "2022-03-02T14:07:44.656872Z"
    }
   },
   "outputs": [
    {
     "name": "stderr",
     "output_type": "stream",
     "text": [
      "Initializing distributed: GLOBAL_RANK: 0, MEMBER: 1/3\n",
      "Initializing distributed: GLOBAL_RANK: 1, MEMBER: 2/3\n",
      "Initializing distributed: GLOBAL_RANK: 2, MEMBER: 3/3\n",
      "----------------------------------------------------------------------------------------------------\n",
      "distributed_backend=nccl\n",
      "All distributed processes registered. Starting with 3 processes\n",
      "----------------------------------------------------------------------------------------------------\n",
      "\n",
      "LOCAL_RANK: 0 - CUDA_VISIBLE_DEVICES: [0,1,2]\n",
      "LOCAL_RANK: 1 - CUDA_VISIBLE_DEVICES: [0,1,2]\n",
      "LOCAL_RANK: 2 - CUDA_VISIBLE_DEVICES: [0,1,2]\n",
      "\n",
      "  | Name          | Type    | Params\n",
      "------------------------------------------\n",
      "0 | hypernet_time | Linear  | 3.2 K \n",
      "1 | hypernet_mag  | Linear  | 33    \n",
      "2 | rnn           | GRU     | 3.5 K \n",
      "3 | dropout       | Dropout | 0     \n",
      "------------------------------------------\n",
      "6.7 K     Trainable params\n",
      "0         Non-trainable params\n",
      "6.7 K     Total params\n",
      "0.027     Total estimated model params size (MB)\n"
     ]
    },
    {
     "data": {
      "application/vnd.jupyter.widget-view+json": {
       "model_id": "632df85ba10847459fc1867b9473ee39",
       "version_major": 2,
       "version_minor": 0
      },
      "text/plain": [
       "Sanity Checking: 0it [00:00, ?it/s]"
      ]
     },
     "metadata": {},
     "output_type": "display_data"
    },
    {
     "name": "stderr",
     "output_type": "stream",
     "text": [
      "/home/gcl/RB/kdascher/yes/envs/DS-discovery/lib/python3.11/site-packages/pytorch_lightning/trainer/connectors/data_connector.py:442: PossibleUserWarning: The dataloader, val_dataloader, does not have many workers which may be a bottleneck. Consider increasing the value of the `num_workers` argument` (try 64 which is the number of cpus on this machine) in the `DataLoader` init to improve performance.\n",
      "  rank_zero_warn(\n"
     ]
    },
    {
     "ename": "ProcessRaisedException",
     "evalue": "\n\n-- Process 2 terminated with the following error:\nTraceback (most recent call last):\n  File \"/home/gcl/RB/kdascher/yes/envs/DS-discovery/lib/python3.11/site-packages/torch/multiprocessing/spawn.py\", line 69, in _wrap\n    fn(i, *args)\n  File \"/home/gcl/RB/kdascher/yes/envs/DS-discovery/lib/python3.11/site-packages/pytorch_lightning/strategies/launchers/multiprocessing.py\", line 153, in _wrapping_function\n    results = function(*args, **kwargs)\n              ^^^^^^^^^^^^^^^^^^^^^^^^^\n  File \"/home/gcl/RB/kdascher/yes/envs/DS-discovery/lib/python3.11/site-packages/pytorch_lightning/trainer/trainer.py\", line 571, in _fit_impl\n    self._run(model, ckpt_path=ckpt_path)\n  File \"/home/gcl/RB/kdascher/yes/envs/DS-discovery/lib/python3.11/site-packages/pytorch_lightning/trainer/trainer.py\", line 980, in _run\n    results = self._run_stage()\n              ^^^^^^^^^^^^^^^^^\n  File \"/home/gcl/RB/kdascher/yes/envs/DS-discovery/lib/python3.11/site-packages/pytorch_lightning/trainer/trainer.py\", line 1021, in _run_stage\n    self._run_sanity_check()\n  File \"/home/gcl/RB/kdascher/yes/envs/DS-discovery/lib/python3.11/site-packages/pytorch_lightning/trainer/trainer.py\", line 1050, in _run_sanity_check\n    val_loop.run()\n  File \"/home/gcl/RB/kdascher/yes/envs/DS-discovery/lib/python3.11/site-packages/pytorch_lightning/loops/utilities.py\", line 181, in _decorator\n    return loop_run(self, *args, **kwargs)\n           ^^^^^^^^^^^^^^^^^^^^^^^^^^^^^^^\n  File \"/home/gcl/RB/kdascher/yes/envs/DS-discovery/lib/python3.11/site-packages/pytorch_lightning/loops/evaluation_loop.py\", line 115, in run\n    self._evaluation_step(batch, batch_idx, dataloader_idx)\n  File \"/home/gcl/RB/kdascher/yes/envs/DS-discovery/lib/python3.11/site-packages/pytorch_lightning/loops/evaluation_loop.py\", line 376, in _evaluation_step\n    output = call._call_strategy_hook(trainer, hook_name, *step_kwargs.values())\n             ^^^^^^^^^^^^^^^^^^^^^^^^^^^^^^^^^^^^^^^^^^^^^^^^^^^^^^^^^^^^^^^^^^^\n  File \"/home/gcl/RB/kdascher/yes/envs/DS-discovery/lib/python3.11/site-packages/pytorch_lightning/trainer/call.py\", line 294, in _call_strategy_hook\n    output = fn(*args, **kwargs)\n             ^^^^^^^^^^^^^^^^^^^\n  File \"/home/gcl/RB/kdascher/yes/envs/DS-discovery/lib/python3.11/site-packages/pytorch_lightning/strategies/ddp.py\", line 338, in validation_step\n    return self.model(*args, **kwargs)\n           ^^^^^^^^^^^^^^^^^^^^^^^^^^^\n  File \"/home/gcl/RB/kdascher/yes/envs/DS-discovery/lib/python3.11/site-packages/torch/nn/modules/module.py\", line 1501, in _call_impl\n    return forward_call(*args, **kwargs)\n           ^^^^^^^^^^^^^^^^^^^^^^^^^^^^^\n  File \"/home/gcl/RB/kdascher/yes/envs/DS-discovery/lib/python3.11/site-packages/torch/nn/parallel/distributed.py\", line 1156, in forward\n    output = self._run_ddp_forward(*inputs, **kwargs)\n             ^^^^^^^^^^^^^^^^^^^^^^^^^^^^^^^^^^^^^^^^\n  File \"/home/gcl/RB/kdascher/yes/envs/DS-discovery/lib/python3.11/site-packages/torch/nn/parallel/distributed.py\", line 1110, in _run_ddp_forward\n    return module_to_run(*inputs[0], **kwargs[0])  # type: ignore[index]\n           ^^^^^^^^^^^^^^^^^^^^^^^^^^^^^^^^^^^^^^\n  File \"/home/gcl/RB/kdascher/yes/envs/DS-discovery/lib/python3.11/site-packages/torch/nn/modules/module.py\", line 1501, in _call_impl\n    return forward_call(*args, **kwargs)\n           ^^^^^^^^^^^^^^^^^^^^^^^^^^^^^\n  File \"/home/gcl/RB/kdascher/yes/envs/DS-discovery/lib/python3.11/site-packages/pytorch_lightning/overrides/base.py\", line 102, in forward\n    return self._forward_module.validation_step(*inputs, **kwargs)\n           ^^^^^^^^^^^^^^^^^^^^^^^^^^^^^^^^^^^^^^^^^^^^^^^^^^^^^^^\n  File \"/home/gcl/RB/kdascher/Projects/DS_Discovery/recast/eq/models/tpp_model.py\", line 89, in validation_step\n    total_loss = self.step(batch, \"val\", no_grad=True)\n                 ^^^^^^^^^^^^^^^^^^^^^^^^^^^^^^^^^^^^^\n  File \"/home/gcl/RB/kdascher/Projects/DS_Discovery/recast/eq/models/tpp_model.py\", line 98, in step\n    loss = self.nll_loss(batch)\n           ^^^^^^^^^^^^^^^^^^^^\n  File \"/home/gcl/RB/kdascher/Projects/DS_Discovery/recast/eq/models/recurrent.py\", line 161, in nll_loss\n    context = self.get_context(batch)  # (B, L, C)\n              ^^^^^^^^^^^^^^^^^^^^^^^\n  File \"/home/gcl/RB/kdascher/Projects/DS_Discovery/recast/eq/models/recurrent.py\", line 115, in get_context\n    feat_list.append(self.encode_magnitude(batch.mag, batch.mag_bounds[:,0]))\n                                                      ^^^^^^^^^^^^^^^^\n  File \"/home/gcl/RB/kdascher/Projects/DS_Discovery/recast/eq/data/dot_dict.py\", line 59, in __getattr__\n    raise AttributeError(\nAttributeError: 'Batch' has no attribute 'mag_bounds'\n",
     "output_type": "error",
     "traceback": [
      "\u001b[0;31m---------------------------------------------------------------------------\u001b[0m",
      "\u001b[0;31mProcessRaisedException\u001b[0m                    Traceback (most recent call last)",
      "\u001b[1;32m/home/gcl/RB/kdascher/Projects/DS_Discovery/recast/notebooks/1. Training the model.ipynb Cell 22\u001b[0m line \u001b[0;36m1\n\u001b[0;32m----> <a href='vscode-notebook-cell://ssh-remote%2Bsuture.geo.berkeley.edu/home/gcl/RB/kdascher/Projects/DS_Discovery/recast/notebooks/1.%20Training%20the%20model.ipynb#X30sdnNjb2RlLXJlbW90ZQ%3D%3D?line=0'>1</a>\u001b[0m trainer\u001b[39m.\u001b[39;49mfit(model, dl_train, dl_val)\n",
      "File \u001b[0;32m~/yes/envs/DS-discovery/lib/python3.11/site-packages/pytorch_lightning/trainer/trainer.py:532\u001b[0m, in \u001b[0;36mTrainer.fit\u001b[0;34m(self, model, train_dataloaders, val_dataloaders, datamodule, ckpt_path)\u001b[0m\n\u001b[1;32m    530\u001b[0m \u001b[39mself\u001b[39m\u001b[39m.\u001b[39mstrategy\u001b[39m.\u001b[39m_lightning_module \u001b[39m=\u001b[39m model\n\u001b[1;32m    531\u001b[0m _verify_strategy_supports_compile(model, \u001b[39mself\u001b[39m\u001b[39m.\u001b[39mstrategy)\n\u001b[0;32m--> 532\u001b[0m call\u001b[39m.\u001b[39;49m_call_and_handle_interrupt(\n\u001b[1;32m    533\u001b[0m     \u001b[39mself\u001b[39;49m, \u001b[39mself\u001b[39;49m\u001b[39m.\u001b[39;49m_fit_impl, model, train_dataloaders, val_dataloaders, datamodule, ckpt_path\n\u001b[1;32m    534\u001b[0m )\n",
      "File \u001b[0;32m~/yes/envs/DS-discovery/lib/python3.11/site-packages/pytorch_lightning/trainer/call.py:42\u001b[0m, in \u001b[0;36m_call_and_handle_interrupt\u001b[0;34m(trainer, trainer_fn, *args, **kwargs)\u001b[0m\n\u001b[1;32m     40\u001b[0m \u001b[39mtry\u001b[39;00m:\n\u001b[1;32m     41\u001b[0m     \u001b[39mif\u001b[39;00m trainer\u001b[39m.\u001b[39mstrategy\u001b[39m.\u001b[39mlauncher \u001b[39mis\u001b[39;00m \u001b[39mnot\u001b[39;00m \u001b[39mNone\u001b[39;00m:\n\u001b[0;32m---> 42\u001b[0m         \u001b[39mreturn\u001b[39;00m trainer\u001b[39m.\u001b[39;49mstrategy\u001b[39m.\u001b[39;49mlauncher\u001b[39m.\u001b[39;49mlaunch(trainer_fn, \u001b[39m*\u001b[39;49margs, trainer\u001b[39m=\u001b[39;49mtrainer, \u001b[39m*\u001b[39;49m\u001b[39m*\u001b[39;49mkwargs)\n\u001b[1;32m     43\u001b[0m     \u001b[39mreturn\u001b[39;00m trainer_fn(\u001b[39m*\u001b[39margs, \u001b[39m*\u001b[39m\u001b[39m*\u001b[39mkwargs)\n\u001b[1;32m     45\u001b[0m \u001b[39mexcept\u001b[39;00m _TunerExitException:\n",
      "File \u001b[0;32m~/yes/envs/DS-discovery/lib/python3.11/site-packages/pytorch_lightning/strategies/launchers/multiprocessing.py:127\u001b[0m, in \u001b[0;36m_MultiProcessingLauncher.launch\u001b[0;34m(self, function, trainer, *args, **kwargs)\u001b[0m\n\u001b[1;32m    119\u001b[0m process_context \u001b[39m=\u001b[39m mp\u001b[39m.\u001b[39mstart_processes(\n\u001b[1;32m    120\u001b[0m     \u001b[39mself\u001b[39m\u001b[39m.\u001b[39m_wrapping_function,\n\u001b[1;32m    121\u001b[0m     args\u001b[39m=\u001b[39mprocess_args,\n\u001b[0;32m   (...)\u001b[0m\n\u001b[1;32m    124\u001b[0m     join\u001b[39m=\u001b[39m\u001b[39mFalse\u001b[39;00m,  \u001b[39m# we will join ourselves to get the process references\u001b[39;00m\n\u001b[1;32m    125\u001b[0m )\n\u001b[1;32m    126\u001b[0m \u001b[39mself\u001b[39m\u001b[39m.\u001b[39mprocs \u001b[39m=\u001b[39m process_context\u001b[39m.\u001b[39mprocesses\n\u001b[0;32m--> 127\u001b[0m \u001b[39mwhile\u001b[39;00m \u001b[39mnot\u001b[39;00m process_context\u001b[39m.\u001b[39;49mjoin():\n\u001b[1;32m    128\u001b[0m     \u001b[39mpass\u001b[39;00m\n\u001b[1;32m    130\u001b[0m worker_output \u001b[39m=\u001b[39m return_queue\u001b[39m.\u001b[39mget()\n",
      "File \u001b[0;32m~/yes/envs/DS-discovery/lib/python3.11/site-packages/torch/multiprocessing/spawn.py:160\u001b[0m, in \u001b[0;36mProcessContext.join\u001b[0;34m(self, timeout)\u001b[0m\n\u001b[1;32m    158\u001b[0m msg \u001b[39m=\u001b[39m \u001b[39m\"\u001b[39m\u001b[39m\\n\u001b[39;00m\u001b[39m\\n\u001b[39;00m\u001b[39m-- Process \u001b[39m\u001b[39m%d\u001b[39;00m\u001b[39m terminated with the following error:\u001b[39m\u001b[39m\\n\u001b[39;00m\u001b[39m\"\u001b[39m \u001b[39m%\u001b[39m error_index\n\u001b[1;32m    159\u001b[0m msg \u001b[39m+\u001b[39m\u001b[39m=\u001b[39m original_trace\n\u001b[0;32m--> 160\u001b[0m \u001b[39mraise\u001b[39;00m ProcessRaisedException(msg, error_index, failed_process\u001b[39m.\u001b[39mpid)\n",
      "\u001b[0;31mProcessRaisedException\u001b[0m: \n\n-- Process 2 terminated with the following error:\nTraceback (most recent call last):\n  File \"/home/gcl/RB/kdascher/yes/envs/DS-discovery/lib/python3.11/site-packages/torch/multiprocessing/spawn.py\", line 69, in _wrap\n    fn(i, *args)\n  File \"/home/gcl/RB/kdascher/yes/envs/DS-discovery/lib/python3.11/site-packages/pytorch_lightning/strategies/launchers/multiprocessing.py\", line 153, in _wrapping_function\n    results = function(*args, **kwargs)\n              ^^^^^^^^^^^^^^^^^^^^^^^^^\n  File \"/home/gcl/RB/kdascher/yes/envs/DS-discovery/lib/python3.11/site-packages/pytorch_lightning/trainer/trainer.py\", line 571, in _fit_impl\n    self._run(model, ckpt_path=ckpt_path)\n  File \"/home/gcl/RB/kdascher/yes/envs/DS-discovery/lib/python3.11/site-packages/pytorch_lightning/trainer/trainer.py\", line 980, in _run\n    results = self._run_stage()\n              ^^^^^^^^^^^^^^^^^\n  File \"/home/gcl/RB/kdascher/yes/envs/DS-discovery/lib/python3.11/site-packages/pytorch_lightning/trainer/trainer.py\", line 1021, in _run_stage\n    self._run_sanity_check()\n  File \"/home/gcl/RB/kdascher/yes/envs/DS-discovery/lib/python3.11/site-packages/pytorch_lightning/trainer/trainer.py\", line 1050, in _run_sanity_check\n    val_loop.run()\n  File \"/home/gcl/RB/kdascher/yes/envs/DS-discovery/lib/python3.11/site-packages/pytorch_lightning/loops/utilities.py\", line 181, in _decorator\n    return loop_run(self, *args, **kwargs)\n           ^^^^^^^^^^^^^^^^^^^^^^^^^^^^^^^\n  File \"/home/gcl/RB/kdascher/yes/envs/DS-discovery/lib/python3.11/site-packages/pytorch_lightning/loops/evaluation_loop.py\", line 115, in run\n    self._evaluation_step(batch, batch_idx, dataloader_idx)\n  File \"/home/gcl/RB/kdascher/yes/envs/DS-discovery/lib/python3.11/site-packages/pytorch_lightning/loops/evaluation_loop.py\", line 376, in _evaluation_step\n    output = call._call_strategy_hook(trainer, hook_name, *step_kwargs.values())\n             ^^^^^^^^^^^^^^^^^^^^^^^^^^^^^^^^^^^^^^^^^^^^^^^^^^^^^^^^^^^^^^^^^^^\n  File \"/home/gcl/RB/kdascher/yes/envs/DS-discovery/lib/python3.11/site-packages/pytorch_lightning/trainer/call.py\", line 294, in _call_strategy_hook\n    output = fn(*args, **kwargs)\n             ^^^^^^^^^^^^^^^^^^^\n  File \"/home/gcl/RB/kdascher/yes/envs/DS-discovery/lib/python3.11/site-packages/pytorch_lightning/strategies/ddp.py\", line 338, in validation_step\n    return self.model(*args, **kwargs)\n           ^^^^^^^^^^^^^^^^^^^^^^^^^^^\n  File \"/home/gcl/RB/kdascher/yes/envs/DS-discovery/lib/python3.11/site-packages/torch/nn/modules/module.py\", line 1501, in _call_impl\n    return forward_call(*args, **kwargs)\n           ^^^^^^^^^^^^^^^^^^^^^^^^^^^^^\n  File \"/home/gcl/RB/kdascher/yes/envs/DS-discovery/lib/python3.11/site-packages/torch/nn/parallel/distributed.py\", line 1156, in forward\n    output = self._run_ddp_forward(*inputs, **kwargs)\n             ^^^^^^^^^^^^^^^^^^^^^^^^^^^^^^^^^^^^^^^^\n  File \"/home/gcl/RB/kdascher/yes/envs/DS-discovery/lib/python3.11/site-packages/torch/nn/parallel/distributed.py\", line 1110, in _run_ddp_forward\n    return module_to_run(*inputs[0], **kwargs[0])  # type: ignore[index]\n           ^^^^^^^^^^^^^^^^^^^^^^^^^^^^^^^^^^^^^^\n  File \"/home/gcl/RB/kdascher/yes/envs/DS-discovery/lib/python3.11/site-packages/torch/nn/modules/module.py\", line 1501, in _call_impl\n    return forward_call(*args, **kwargs)\n           ^^^^^^^^^^^^^^^^^^^^^^^^^^^^^\n  File \"/home/gcl/RB/kdascher/yes/envs/DS-discovery/lib/python3.11/site-packages/pytorch_lightning/overrides/base.py\", line 102, in forward\n    return self._forward_module.validation_step(*inputs, **kwargs)\n           ^^^^^^^^^^^^^^^^^^^^^^^^^^^^^^^^^^^^^^^^^^^^^^^^^^^^^^^\n  File \"/home/gcl/RB/kdascher/Projects/DS_Discovery/recast/eq/models/tpp_model.py\", line 89, in validation_step\n    total_loss = self.step(batch, \"val\", no_grad=True)\n                 ^^^^^^^^^^^^^^^^^^^^^^^^^^^^^^^^^^^^^\n  File \"/home/gcl/RB/kdascher/Projects/DS_Discovery/recast/eq/models/tpp_model.py\", line 98, in step\n    loss = self.nll_loss(batch)\n           ^^^^^^^^^^^^^^^^^^^^\n  File \"/home/gcl/RB/kdascher/Projects/DS_Discovery/recast/eq/models/recurrent.py\", line 161, in nll_loss\n    context = self.get_context(batch)  # (B, L, C)\n              ^^^^^^^^^^^^^^^^^^^^^^^\n  File \"/home/gcl/RB/kdascher/Projects/DS_Discovery/recast/eq/models/recurrent.py\", line 115, in get_context\n    feat_list.append(self.encode_magnitude(batch.mag, batch.mag_bounds[:,0]))\n                                                      ^^^^^^^^^^^^^^^^\n  File \"/home/gcl/RB/kdascher/Projects/DS_Discovery/recast/eq/data/dot_dict.py\", line 59, in __getattr__\n    raise AttributeError(\nAttributeError: 'Batch' has no attribute 'mag_bounds'\n"
     ]
    }
   ],
   "source": [
    "trainer.fit(model, dl_train, dl_val)"
   ]
  },
  {
   "cell_type": "markdown",
   "id": "21596ba6",
   "metadata": {},
   "source": [
    "## Evaluation"
   ]
  },
  {
   "cell_type": "markdown",
   "id": "9674bfc8",
   "metadata": {},
   "source": [
    "Load the model with the best validation loss"
   ]
  },
  {
   "cell_type": "code",
   "execution_count": null,
   "id": "2482d684",
   "metadata": {
    "ExecuteTime": {
     "end_time": "2022-03-02T14:10:11.104334Z",
     "start_time": "2022-03-02T14:10:11.091793Z"
    },
    "scrolled": true
   },
   "outputs": [
    {
     "data": {
      "text/plain": [
       "RecurrentTPP(\n",
       "  (hypernet_time): Linear(in_features=32, out_features=96, bias=True)\n",
       "  (hypernet_mag): Linear(in_features=32, out_features=1, bias=True)\n",
       "  (rnn): GRU(2, 32, batch_first=True)\n",
       "  (dropout): Dropout(p=0.5, inplace=False)\n",
       ")"
      ]
     },
     "execution_count": 12,
     "metadata": {},
     "output_type": "execute_result"
    }
   ],
   "source": [
    "model.load_from_checkpoint(checkpoint.best_model_path)"
   ]
  },
  {
   "cell_type": "markdown",
   "id": "777e851d",
   "metadata": {},
   "source": [
    "After training the model, we compute the loss on the negative log-likelihood (NLL) loss on the test set."
   ]
  },
  {
   "cell_type": "code",
   "execution_count": null,
   "id": "6d9751de",
   "metadata": {
    "ExecuteTime": {
     "end_time": "2022-03-02T14:10:15.487611Z",
     "start_time": "2022-03-02T14:10:14.263614Z"
    }
   },
   "outputs": [
    {
     "name": "stderr",
     "output_type": "stream",
     "text": [
      "LOCAL_RANK: 0 - CUDA_VISIBLE_DEVICES: [3]\n",
      "/nfs/staff-ssd/shchur/miniconda3/envs/eq/lib/python3.9/site-packages/pytorch_lightning/trainer/data_loading.py:132: UserWarning: The dataloader, test_dataloader 0, does not have many workers which may be a bottleneck. Consider increasing the value of the `num_workers` argument` (try 20 which is the number of cpus on this machine) in the `DataLoader` init to improve performance.\n",
      "  rank_zero_warn(\n"
     ]
    },
    {
     "data": {
      "application/vnd.jupyter.widget-view+json": {
       "model_id": "63f4a3b962f44290b8e3dc315abdfaf7",
       "version_major": 2,
       "version_minor": 0
      },
      "text/plain": [
       "Testing: 0it [00:00, ?it/s]"
      ]
     },
     "metadata": {},
     "output_type": "display_data"
    },
    {
     "name": "stdout",
     "output_type": "stream",
     "text": [
      "--------------------------------------------------------------------------------\n",
      "DATALOADER:0 TEST RESULTS\n",
      "{'test_loss': -88.63616943359375}\n",
      "--------------------------------------------------------------------------------\n"
     ]
    },
    {
     "data": {
      "text/plain": [
       "[{'test_loss': -88.63616943359375}]"
      ]
     },
     "execution_count": 13,
     "metadata": {},
     "output_type": "execute_result"
    }
   ],
   "source": [
    "trainer.test(model, dl_test)"
   ]
  },
  {
   "cell_type": "code",
   "execution_count": null,
   "id": "e33b2935",
   "metadata": {},
   "outputs": [],
   "source": []
  }
 ],
 "metadata": {
  "kernelspec": {
   "display_name": "DS-discovery",
   "language": "python",
   "name": "python3"
  },
  "language_info": {
   "codemirror_mode": {
    "name": "ipython",
    "version": 3
   },
   "file_extension": ".py",
   "mimetype": "text/x-python",
   "name": "python",
   "nbconvert_exporter": "python",
   "pygments_lexer": "ipython3",
   "version": "3.11.5"
  },
  "toc": {
   "base_numbering": 1,
   "nav_menu": {},
   "number_sections": true,
   "sideBar": true,
   "skip_h1_title": false,
   "title_cell": "Table of Contents",
   "title_sidebar": "Contents",
   "toc_cell": false,
   "toc_position": {},
   "toc_section_display": true,
   "toc_window_display": false
  }
 },
 "nbformat": 4,
 "nbformat_minor": 5
}
