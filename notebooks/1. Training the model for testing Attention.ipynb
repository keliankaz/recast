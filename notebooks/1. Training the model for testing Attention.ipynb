{
 "cells": [
  {
   "cell_type": "code",
   "execution_count": 1,
   "id": "a0ecf878",
   "metadata": {
    "ExecuteTime": {
     "end_time": "2022-03-02T14:06:00.908323Z",
     "start_time": "2022-03-02T14:05:53.395167Z"
    }
   },
   "outputs": [],
   "source": [
    "import pytorch_lightning as pl\n",
    "import pytorch_lightning.callbacks as pl_callbacks\n",
    "import torch\n",
    "import eq"
   ]
  },
  {
   "cell_type": "markdown",
   "id": "e22a02f4",
   "metadata": {},
   "source": [
    "## Loading the catalog\n",
    "\n",
    "By default, all catalogs are saved to the following directory"
   ]
  },
  {
   "cell_type": "code",
   "execution_count": 2,
   "id": "85e3e706",
   "metadata": {
    "ExecuteTime": {
     "end_time": "2022-03-02T14:06:01.824829Z",
     "start_time": "2022-03-02T14:06:01.819094Z"
    }
   },
   "outputs": [
    {
     "name": "stdout",
     "output_type": "stream",
     "text": [
      "/home/gcl/RA/zekai.wang/recast/data\n"
     ]
    }
   ],
   "source": [
    "print(eq.data.default_catalogs_dir)"
   ]
  },
  {
   "cell_type": "markdown",
   "id": "681aa098",
   "metadata": {},
   "source": [
    "We load the catalog constructed by White et al. The catalog records earthquakes between `2008-01-01` and `2021-01-01`.\n",
    "The following code automatically downloads and preprocesses the catalog, or loads it from the data directory, if it's already there."
   ]
  },
  {
   "cell_type": "code",
   "execution_count": 13,
   "id": "a984c66a",
   "metadata": {
    "ExecuteTime": {
     "end_time": "2022-03-02T14:06:19.198823Z",
     "start_time": "2022-03-02T14:06:19.128585Z"
    }
   },
   "outputs": [
    {
     "name": "stdout",
     "output_type": "stream",
     "text": [
      "Loading existing catalog from /home/gcl/RA/zekai.wang/recast/data/ANSS_MultiCatalog.\n"
     ]
    },
    {
     "name": "stderr",
     "output_type": "stream",
     "text": [
      "/home/gcl/RA/zekai.wang/recast/eq/data/sequence.py:207: UserWarning: Found 1 zero inter-event times in the sequence. This violates fundamental assumptions of TPP models and may lead to incorrect log-likelihood values.\n",
      "  warnings.warn(\n"
     ]
    }
   ],
   "source": [
    "catalog = eq.catalogs.ANSS_MultiCatalog(num_sequences=10000,\n",
    "    t_end_days=4*365,\n",
    "    mag_completeness=4.5,\n",
    "    minimum_mainshock_mag=6.0,)"
   ]
  },
  {
   "cell_type": "markdown",
   "id": "0222234e",
   "metadata": {},
   "source": [
    "Other available catalogs:\n",
    "- `eq.catalogs.SCEDC`\n",
    "- `eq.catalogs.QTMSanJacinto`\n",
    "- `eq.catalogs.QTMSaltonSea`"
   ]
  },
  {
   "cell_type": "markdown",
   "id": "0e026ad8",
   "metadata": {},
   "source": [
    "### Representing the data\n",
    "We can represent all data stored in the catalog as an object of type `eq.data.Sequence`."
   ]
  },
  {
   "cell_type": "code",
   "execution_count": 15,
   "id": "68813d45",
   "metadata": {
    "ExecuteTime": {
     "end_time": "2022-03-02T14:06:21.121384Z",
     "start_time": "2022-03-02T14:06:21.110542Z"
    }
   },
   "outputs": [
    {
     "ename": "AttributeError",
     "evalue": "'ANSS_MultiCatalog' object has no attribute 'full_sequence'",
     "output_type": "error",
     "traceback": [
      "\u001b[0;31m---------------------------------------------------------------------------\u001b[0m",
      "\u001b[0;31mAttributeError\u001b[0m                            Traceback (most recent call last)",
      "\u001b[1;32m/home/gcl/RA/zekai.wang/recast/notebooks/1. Training the model for testing Attention.ipynb Cell 8\u001b[0m line \u001b[0;36m1\n\u001b[0;32m----> <a href='vscode-notebook-cell://ssh-remote%2Bsuture.geo.berkeley.edu/home/gcl/RA/zekai.wang/recast/notebooks/1.%20Training%20the%20model%20for%20testing%20Attention.ipynb#X10sdnNjb2RlLXJlbW90ZQ%3D%3D?line=0'>1</a>\u001b[0m catalog\u001b[39m.\u001b[39mfull_sequence\n",
      "\u001b[0;31mAttributeError\u001b[0m: 'ANSS_MultiCatalog' object has no attribute 'full_sequence'"
     ]
    }
   ],
   "source": [
    "catalog.full_sequence"
   ]
  },
  {
   "cell_type": "markdown",
   "id": "21fc9974",
   "metadata": {},
   "source": [
    "An `eq.data.Sequence` object contains the following attributes:\n",
    "- `t_start` and `t_end`: Start and end of the time interval containing the events (in days).\n",
    "- `arrival_times`: Arrival times of each event (in days), shape `[num_events]`\n",
    "- `inter_times`: Inter-event times, shape `[num_events + 1]` since this also includes the last survival time from `arrival_times[-1]` until `t_end`.\n",
    "- `mag`: Magnitude of each earthquake, shape `[num_events]`.\n",
    "- `t_nll_start`: This attributed allows to compute the negative log-likelihood (NLL) only for the observations in the interval `[t_nll_start, t_end]`, while conditioning the model on past events in `[t_start, t_nll_start]`."
   ]
  },
  {
   "cell_type": "code",
   "execution_count": 16,
   "id": "0d22ec63",
   "metadata": {
    "ExecuteTime": {
     "end_time": "2022-03-02T14:06:28.832144Z",
     "start_time": "2022-03-02T14:06:27.141057Z"
    },
    "scrolled": true
   },
   "outputs": [
    {
     "ename": "AttributeError",
     "evalue": "'ANSS_MultiCatalog' object has no attribute 'full_sequence'",
     "output_type": "error",
     "traceback": [
      "\u001b[0;31m---------------------------------------------------------------------------\u001b[0m",
      "\u001b[0;31mAttributeError\u001b[0m                            Traceback (most recent call last)",
      "\u001b[1;32m/home/gcl/RA/zekai.wang/recast/notebooks/1. Training the model for testing Attention.ipynb Cell 10\u001b[0m line \u001b[0;36m1\n\u001b[0;32m----> <a href='vscode-notebook-cell://ssh-remote%2Bsuture.geo.berkeley.edu/home/gcl/RA/zekai.wang/recast/notebooks/1.%20Training%20the%20model%20for%20testing%20Attention.ipynb#X12sdnNjb2RlLXJlbW90ZQ%3D%3D?line=0'>1</a>\u001b[0m eq\u001b[39m.\u001b[39mvisualization\u001b[39m.\u001b[39mvisualize_sequence(catalog\u001b[39m.\u001b[39mfull_sequence)\n",
      "\u001b[0;31mAttributeError\u001b[0m: 'ANSS_MultiCatalog' object has no attribute 'full_sequence'"
     ]
    }
   ],
   "source": [
    "eq.visualization.visualize_sequence(catalog.full_sequence)"
   ]
  },
  {
   "cell_type": "markdown",
   "id": "bbc34a83",
   "metadata": {},
   "source": [
    "### Train / val / test split\n",
    "\n",
    "To compare different models, we split the full event sequence into 3 components:\n",
    "- `train`: used for training the models, includes events between `2008-01-01` and `2014-01-01`.\n",
    "- `val`: used for early stopping and hyperparameter selection, includes events between `2014-01-01` and `2017-01-01`.\n",
    "- `test`: used for final evaluation, includes events between `2017-01-01` and `2021-01-01`.\n",
    "\n",
    "We already provided the start of the val and test intervals when loading the catalog, so now the train, val and test sequences are stored in `catalog.train`, `catalog.val` and `catalog.test`, respectively.\n",
    "\n",
    "In our case the catalog consists of a single event sequence but, in principle, there could be multiple event sequences stored in `catalog.train`, `catalog.val` and `catalog.test`."
   ]
  },
  {
   "cell_type": "code",
   "execution_count": 17,
   "id": "1e31c7c0",
   "metadata": {
    "ExecuteTime": {
     "end_time": "2022-03-02T14:06:46.767650Z",
     "start_time": "2022-03-02T14:06:46.757800Z"
    }
   },
   "outputs": [
    {
     "name": "stdout",
     "output_type": "stream",
     "text": [
      "Train sequence:\n",
      "Sequence(\n",
      "  inter_times: [2261],\n",
      "  arrival_times: [2260],\n",
      "  t_start: 0.0,\n",
      "  t_end: 1460.0,\n",
      "  t_nll_start: 0.0,\n",
      "  mag: [2260]\n",
      ")\n",
      "\n",
      "Validation sequence:\n",
      "Sequence(\n",
      "  inter_times: [791],\n",
      "  arrival_times: [790],\n",
      "  t_start: 0.0,\n",
      "  t_end: 1460.0,\n",
      "  t_nll_start: 0.0,\n",
      "  mag: [790]\n",
      ")\n",
      "\n",
      "Test sequence:\n",
      "Sequence(\n",
      "  inter_times: [438],\n",
      "  arrival_times: [437],\n",
      "  t_start: 0.0,\n",
      "  t_end: 1460.0,\n",
      "  t_nll_start: 0.0,\n",
      "  mag: [437]\n",
      ")\n"
     ]
    }
   ],
   "source": [
    "print(\"Train sequence:\")\n",
    "print(catalog.train[0])\n",
    "print(\"\\nValidation sequence:\")\n",
    "print(catalog.val[0])\n",
    "print(\"\\nTest sequence:\")\n",
    "print(catalog.test[0])"
   ]
  },
  {
   "cell_type": "markdown",
   "id": "b39a5a2e",
   "metadata": {},
   "source": [
    "Note that, for example, the `test` sequence contains all events in the catalog, including the training set.\n",
    "\n",
    "However, since we specified `t_nll_start`, the model will know to only compute the NLL on the interval `[t_nll_start, t_end]` (shown in orange in the figure below), while also conditioning on the events from `[0, t_nll_start]`."
   ]
  },
  {
   "cell_type": "code",
   "execution_count": 18,
   "id": "3bc0d6f3",
   "metadata": {
    "ExecuteTime": {
     "end_time": "2022-03-02T14:06:57.936071Z",
     "start_time": "2022-03-02T14:06:56.365965Z"
    }
   },
   "outputs": [
    {
     "data": {
      "text/plain": [
       "<Axes: xlabel='Time (days)', ylabel='Magnitude'>"
      ]
     },
     "execution_count": 18,
     "metadata": {},
     "output_type": "execute_result"
    },
    {
     "data": {
      "image/png": "[encoded data removed]",
      "text/plain": [
       "<Figure size 900x300 with 1 Axes>"
      ]
     },
     "metadata": {},
     "output_type": "display_data"
    }
   ],
   "source": [
    "eq.visualization.visualize_sequence(catalog.test[0], show_nll=True)"
   ]
  },
  {
   "cell_type": "markdown",
   "id": "5744df62",
   "metadata": {},
   "source": [
    "## Training the model"
   ]
  },
  {
   "cell_type": "markdown",
   "id": "29f7138f",
   "metadata": {},
   "source": [
    "We will train the model using the high-level API provided by `pytorch_lightning`.\n",
    "\n",
    "For this, we first need to create `torch.utils.data.DataLoader` objects that will feed the data into the model."
   ]
  },
  {
   "cell_type": "code",
   "execution_count": 19,
   "id": "af3e0cc3",
   "metadata": {
    "ExecuteTime": {
     "end_time": "2022-03-02T14:07:20.933718Z",
     "start_time": "2022-03-02T14:07:20.926202Z"
    }
   },
   "outputs": [],
   "source": [
    "dl_train = catalog.train.get_dataloader()\n",
    "dl_val = catalog.val.get_dataloader()\n",
    "dl_test = catalog.test.get_dataloader()"
   ]
  },
  {
   "cell_type": "markdown",
   "id": "fd5e1779",
   "metadata": {},
   "source": [
    "Now, we initialize the model."
   ]
  },
  {
   "cell_type": "code",
   "execution_count": 26,
   "id": "23165294",
   "metadata": {
    "ExecuteTime": {
     "end_time": "2022-03-02T14:07:23.470991Z",
     "start_time": "2022-03-02T14:07:23.429872Z"
    }
   },
   "outputs": [],
   "source": [
    "model = eq.models.RecurrentTPP()"
   ]
  },
  {
   "cell_type": "markdown",
   "id": "c531f9b5",
   "metadata": {},
   "source": [
    "`pytorch_lightning.Trainer` takes care of training the model, early stopping and saving the best weights.\n",
    "\n",
    "In this toy example, we set `max_epochs=200` and `patience=20` to get to the results more quickly.\n",
    "\n",
    "In the experiments in the paper, we trained the models for longer with `max_epochs=1500` and `patience=200`."
   ]
  },
  {
   "cell_type": "code",
   "execution_count": 27,
   "id": "769f98d7",
   "metadata": {
    "ExecuteTime": {
     "end_time": "2022-03-02T14:07:43.077087Z",
     "start_time": "2022-03-02T14:07:43.022854Z"
    }
   },
   "outputs": [
    {
     "name": "stderr",
     "output_type": "stream",
     "text": [
      "GPU available: True (cuda), used: True\n",
      "TPU available: False, using: 0 TPU cores\n",
      "IPU available: False, using: 0 IPUs\n",
      "HPU available: False, using: 0 HPUs\n"
     ]
    }
   ],
   "source": [
    "# ModelCheckpoints saves the model with the best validation loss\n",
    "checkpoint = pl_callbacks.ModelCheckpoint(monitor=\"val_loss\")\n",
    "\n",
    "# EarlyStopping stops training if the validation loss doesn't improve by more than 1e-3 for 20 epochs\n",
    "early_stopping = pl_callbacks.EarlyStopping(monitor=\"val_loss\", patience=20, min_delta=1e-3)\n",
    "\n",
    "# num_gpus = int(torch.cuda.is_available())  # equals to 1 if GPU is available, 0 otherwise\n",
    "trainer = pl.Trainer(accelerator=\"gpu\", devices=1, max_epochs=200, callbacks=[checkpoint, early_stopping])\n",
    "# I think I can train on multiple gpus, but for now I just focus on training on a single gpu\n",
    "# It seems that there is dataracing when I try to use multiple gpus"
   ]
  },
  {
   "cell_type": "code",
   "execution_count": 28,
   "id": "4a0fbddc",
   "metadata": {
    "ExecuteTime": {
     "end_time": "2022-03-02T14:09:32.883383Z",
     "start_time": "2022-03-02T14:07:44.656872Z"
    }
   },
   "outputs": [
    {
     "name": "stderr",
     "output_type": "stream",
     "text": [
      "LOCAL_RANK: 0 - CUDA_VISIBLE_DEVICES: [0,1,2]\n",
      "\n",
      "  | Name          | Type    | Params\n",
      "------------------------------------------\n",
      "0 | hypernet_time | Linear  | 3.2 K \n",
      "1 | hypernet_mag  | Linear  | 33    \n",
      "2 | rnn           | GRU     | 3.5 K \n",
      "3 | dropout       | Dropout | 0     \n",
      "------------------------------------------\n",
      "6.7 K     Trainable params\n",
      "0         Non-trainable params\n",
      "6.7 K     Total params\n",
      "0.027     Total estimated model params size (MB)\n"
     ]
    },
    {
     "data": {
      "application/vnd.jupyter.widget-view+json": {
       "model_id": "19607af4950e4773bf9e05f5d1ccd523",
       "version_major": 2,
       "version_minor": 0
      },
      "text/plain": [
       "Sanity Checking: 0it [00:00, ?it/s]"
      ]
     },
     "metadata": {},
     "output_type": "display_data"
    },
    {
     "name": "stderr",
     "output_type": "stream",
     "text": [
      "/home/gcl/RA/zekai.wang/miniconda3/envs/eq/lib/python3.11/site-packages/pytorch_lightning/trainer/connectors/data_connector.py:442: PossibleUserWarning: The dataloader, val_dataloader, does not have many workers which may be a bottleneck. Consider increasing the value of the `num_workers` argument` (try 64 which is the number of cpus on this machine) in the `DataLoader` init to improve performance.\n",
      "  rank_zero_warn(\n",
      "/home/gcl/RA/zekai.wang/miniconda3/envs/eq/lib/python3.11/site-packages/pytorch_lightning/trainer/connectors/data_connector.py:442: PossibleUserWarning: The dataloader, train_dataloader, does not have many workers which may be a bottleneck. Consider increasing the value of the `num_workers` argument` (try 64 which is the number of cpus on this machine) in the `DataLoader` init to improve performance.\n",
      "  rank_zero_warn(\n"
     ]
    },
    {
     "data": {
      "application/vnd.jupyter.widget-view+json": {
       "model_id": "9dc4944b27f3416fb3f7b4283ad114da",
       "version_major": 2,
       "version_minor": 0
      },
      "text/plain": [
       "Training: 0it [00:00, ?it/s]"
      ]
     },
     "metadata": {},
     "output_type": "display_data"
    },
    {
     "name": "stderr",
     "output_type": "stream",
     "text": [
      "/home/gcl/RA/zekai.wang/miniconda3/envs/eq/lib/python3.11/site-packages/pytorch_lightning/trainer/call.py:53: UserWarning: Detected KeyboardInterrupt, attempting graceful shutdown...\n",
      "  rank_zero_warn(\"Detected KeyboardInterrupt, attempting graceful shutdown...\")\n"
     ]
    }
   ],
   "source": [
    "trainer.fit(model, dl_train, dl_val)"
   ]
  },
  {
   "cell_type": "markdown",
   "id": "21596ba6",
   "metadata": {},
   "source": [
    "## Evaluation"
   ]
  },
  {
   "cell_type": "markdown",
   "id": "9674bfc8",
   "metadata": {},
   "source": [
    "Load the model with the best validation loss"
   ]
  },
  {
   "cell_type": "code",
   "execution_count": null,
   "id": "2482d684",
   "metadata": {
    "ExecuteTime": {
     "end_time": "2022-03-02T14:10:11.104334Z",
     "start_time": "2022-03-02T14:10:11.091793Z"
    },
    "scrolled": true
   },
   "outputs": [],
   "source": [
    "model.load_from_checkpoint(checkpoint.best_model_path)"
   ]
  },
  {
   "cell_type": "markdown",
   "id": "777e851d",
   "metadata": {},
   "source": [
    "After training the model, we compute the loss on the negative log-likelihood (NLL) loss on the test set."
   ]
  },
  {
   "cell_type": "code",
   "execution_count": null,
   "id": "6d9751de",
   "metadata": {
    "ExecuteTime": {
     "end_time": "2022-03-02T14:10:15.487611Z",
     "start_time": "2022-03-02T14:10:14.263614Z"
    }
   },
   "outputs": [],
   "source": [
    "trainer.test(model, dl_test)"
   ]
  },
  {
   "cell_type": "code",
   "execution_count": null,
   "id": "4a2c4785",
   "metadata": {},
   "outputs": [],
   "source": []
  }
 ],
 "metadata": {
  "kernelspec": {
   "display_name": "eq",
   "language": "python",
   "name": "python3"
  },
  "language_info": {
   "codemirror_mode": {
    "name": "ipython",
    "version": 3
   },
   "file_extension": ".py",
   "mimetype": "text/x-python",
   "name": "python",
   "nbconvert_exporter": "python",
   "pygments_lexer": "ipython3",
   "version": "3.11.5"
  },
  "toc": {
   "base_numbering": 1,
   "nav_menu": {},
   "number_sections": true,
   "sideBar": true,
   "skip_h1_title": false,
   "title_cell": "Table of Contents",
   "title_sidebar": "Contents",
   "toc_cell": false,
   "toc_position": {},
   "toc_section_display": true,
   "toc_window_display": false
  }
 },
 "nbformat": 4,
 "nbformat_minor": 5
}
