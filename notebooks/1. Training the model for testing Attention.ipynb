{
 "cells": [
  {
   "cell_type": "code",
   "execution_count": 12,
   "id": "a0ecf878",
   "metadata": {
    "ExecuteTime": {
     "end_time": "2022-03-02T14:06:00.908323Z",
     "start_time": "2022-03-02T14:05:53.395167Z"
    }
   },
   "outputs": [],
   "source": [
    "import pytorch_lightning as pl\n",
    "import pytorch_lightning.callbacks as pl_callbacks\n",
    "import torch\n",
    "import eq"
   ]
  },
  {
   "cell_type": "markdown",
   "id": "e22a02f4",
   "metadata": {},
   "source": [
    "## Loading the catalog\n",
    "\n",
    "By default, all catalogs are saved to the following directory"
   ]
  },
  {
   "cell_type": "code",
   "execution_count": 13,
   "id": "85e3e706",
   "metadata": {
    "ExecuteTime": {
     "end_time": "2022-03-02T14:06:01.824829Z",
     "start_time": "2022-03-02T14:06:01.819094Z"
    }
   },
   "outputs": [
    {
     "name": "stdout",
     "output_type": "stream",
     "text": [
      "/home/gcl/RA/zekai.wang/recast/data\n"
     ]
    }
   ],
   "source": [
    "print(eq.data.default_catalogs_dir)"
   ]
  },
  {
   "cell_type": "markdown",
   "id": "681aa098",
   "metadata": {},
   "source": [
    "We load the catalog constructed by White et al. The catalog records earthquakes between `2008-01-01` and `2021-01-01`.\n",
    "The following code automatically downloads and preprocesses the catalog, or loads it from the data directory, if it's already there."
   ]
  },
  {
   "cell_type": "code",
   "execution_count": 14,
   "id": "a984c66a",
   "metadata": {
    "ExecuteTime": {
     "end_time": "2022-03-02T14:06:19.198823Z",
     "start_time": "2022-03-02T14:06:19.128585Z"
    }
   },
   "outputs": [
    {
     "name": "stdout",
     "output_type": "stream",
     "text": [
      "Loading existing catalog from /home/gcl/RA/zekai.wang/recast/data/White.\n"
     ]
    }
   ],
   "source": [
    "catalog = eq.catalogs.White()"
   ]
  },
  {
   "cell_type": "markdown",
   "id": "0222234e",
   "metadata": {},
   "source": [
    "Other available catalogs:\n",
    "- `eq.catalogs.SCEDC`\n",
    "- `eq.catalogs.QTMSanJacinto`\n",
    "- `eq.catalogs.QTMSaltonSea`"
   ]
  },
  {
   "cell_type": "markdown",
   "id": "0e026ad8",
   "metadata": {},
   "source": [
    "### Representing the data\n",
    "We can represent all data stored in the catalog as an object of type `eq.data.Sequence`."
   ]
  },
  {
   "cell_type": "code",
   "execution_count": 15,
   "id": "68813d45",
   "metadata": {
    "ExecuteTime": {
     "end_time": "2022-03-02T14:06:21.121384Z",
     "start_time": "2022-03-02T14:06:21.110542Z"
    }
   },
   "outputs": [
    {
     "data": {
      "text/plain": [
       "Sequence(\n",
       "  inter_times: [134976],\n",
       "  arrival_times: [134975],\n",
       "  t_start: 0.0,\n",
       "  t_end: 4749.0,\n",
       "  t_nll_start: 0.0,\n",
       "  mag: [134975]\n",
       ")"
      ]
     },
     "execution_count": 15,
     "metadata": {},
     "output_type": "execute_result"
    }
   ],
   "source": [
    "catalog.full_sequence"
   ]
  },
  {
   "cell_type": "markdown",
   "id": "21fc9974",
   "metadata": {},
   "source": [
    "An `eq.data.Sequence` object contains the following attributes:\n",
    "- `t_start` and `t_end`: Start and end of the time interval containing the events (in days).\n",
    "- `arrival_times`: Arrival times of each event (in days), shape `[num_events]`\n",
    "- `inter_times`: Inter-event times, shape `[num_events + 1]` since this also includes the last survival time from `arrival_times[-1]` until `t_end`.\n",
    "- `mag`: Magnitude of each earthquake, shape `[num_events]`.\n",
    "- `t_nll_start`: This attributed allows to compute the negative log-likelihood (NLL) only for the observations in the interval `[t_nll_start, t_end]`, while conditioning the model on past events in `[t_start, t_nll_start]`."
   ]
  },
  {
   "cell_type": "code",
   "execution_count": 16,
   "id": "0d22ec63",
   "metadata": {
    "ExecuteTime": {
     "end_time": "2022-03-02T14:06:28.832144Z",
     "start_time": "2022-03-02T14:06:27.141057Z"
    },
    "scrolled": true
   },
   "outputs": [
    {
     "data": {
      "text/plain": [
       "<Axes: xlabel='Time (days)', ylabel='Magnitude'>"
      ]
     },
     "execution_count": 16,
     "metadata": {},
     "output_type": "execute_result"
    },
    {
     "data": {
      "image/png": "[encoded data removed]",
      "text/plain": [
       "<Figure size 900x300 with 1 Axes>"
      ]
     },
     "metadata": {},
     "output_type": "display_data"
    }
   ],
   "source": [
    "eq.visualization.visualize_sequence(catalog.full_sequence)"
   ]
  },
  {
   "cell_type": "markdown",
   "id": "bbc34a83",
   "metadata": {},
   "source": [
    "### Train / val / test split\n",
    "\n",
    "To compare different models, we split the full event sequence into 3 components:\n",
    "- `train`: used for training the models, includes events between `2008-01-01` and `2014-01-01`.\n",
    "- `val`: used for early stopping and hyperparameter selection, includes events between `2014-01-01` and `2017-01-01`.\n",
    "- `test`: used for final evaluation, includes events between `2017-01-01` and `2021-01-01`.\n",
    "\n",
    "We already provided the start of the val and test intervals when loading the catalog, so now the train, val and test sequences are stored in `catalog.train`, `catalog.val` and `catalog.test`, respectively.\n",
    "\n",
    "In our case the catalog consists of a single event sequence but, in principle, there could be multiple event sequences stored in `catalog.train`, `catalog.val` and `catalog.test`."
   ]
  },
  {
   "cell_type": "code",
   "execution_count": 17,
   "id": "1e31c7c0",
   "metadata": {
    "ExecuteTime": {
     "end_time": "2022-03-02T14:06:46.767650Z",
     "start_time": "2022-03-02T14:06:46.757800Z"
    }
   },
   "outputs": [
    {
     "name": "stdout",
     "output_type": "stream",
     "text": [
      "Train sequence:\n",
      "Sequence(\n",
      "  inter_times: [52613],\n",
      "  arrival_times: [52612],\n",
      "  t_start: 0.0,\n",
      "  t_end: 2192.0,\n",
      "  t_nll_start: 366.0,\n",
      "  mag: [52612]\n",
      ")\n",
      "\n",
      "Validation sequence:\n",
      "Sequence(\n",
      "  inter_times: [85663],\n",
      "  arrival_times: [85662],\n",
      "  t_start: 0.0,\n",
      "  t_end: 3288.0,\n",
      "  t_nll_start: 2192.0,\n",
      "  mag: [85662]\n",
      ")\n",
      "\n",
      "Test sequence:\n",
      "Sequence(\n",
      "  inter_times: [134976],\n",
      "  arrival_times: [134975],\n",
      "  t_start: 0.0,\n",
      "  t_end: 4749.0,\n",
      "  t_nll_start: 3288.0,\n",
      "  mag: [134975]\n",
      ")\n"
     ]
    }
   ],
   "source": [
    "print(\"Train sequence:\")\n",
    "print(catalog.train[0])\n",
    "print(\"\\nValidation sequence:\")\n",
    "print(catalog.val[0])\n",
    "print(\"\\nTest sequence:\")\n",
    "print(catalog.test[0])"
   ]
  },
  {
   "cell_type": "markdown",
   "id": "b39a5a2e",
   "metadata": {},
   "source": [
    "Note that, for example, the `test` sequence contains all events in the catalog, including the training set.\n",
    "\n",
    "However, since we specified `t_nll_start`, the model will know to only compute the NLL on the interval `[t_nll_start, t_end]` (shown in orange in the figure below), while also conditioning on the events from `[0, t_nll_start]`."
   ]
  },
  {
   "cell_type": "code",
   "execution_count": 18,
   "id": "3bc0d6f3",
   "metadata": {
    "ExecuteTime": {
     "end_time": "2022-03-02T14:06:57.936071Z",
     "start_time": "2022-03-02T14:06:56.365965Z"
    }
   },
   "outputs": [
    {
     "data": {
      "text/plain": [
       "<Axes: xlabel='Time (days)', ylabel='Magnitude'>"
      ]
     },
     "execution_count": 18,
     "metadata": {},
     "output_type": "execute_result"
    },
    {
     "data": {
      "image/png": "[encoded data removed]",
      "text/plain": [
       "<Figure size 900x300 with 1 Axes>"
      ]
     },
     "metadata": {},
     "output_type": "display_data"
    }
   ],
   "source": [
    "eq.visualization.visualize_sequence(catalog.test[0], show_nll=True)"
   ]
  },
  {
   "cell_type": "markdown",
   "id": "5744df62",
   "metadata": {},
   "source": [
    "## Training the model"
   ]
  },
  {
   "cell_type": "markdown",
   "id": "29f7138f",
   "metadata": {},
   "source": [
    "We will train the model using the high-level API provided by `pytorch_lightning`.\n",
    "\n",
    "For this, we first need to create `torch.utils.data.DataLoader` objects that will feed the data into the model."
   ]
  },
  {
   "cell_type": "code",
   "execution_count": 19,
   "id": "af3e0cc3",
   "metadata": {
    "ExecuteTime": {
     "end_time": "2022-03-02T14:07:20.933718Z",
     "start_time": "2022-03-02T14:07:20.926202Z"
    }
   },
   "outputs": [],
   "source": [
    "dl_train = catalog.train.get_dataloader()\n",
    "dl_val = catalog.val.get_dataloader()\n",
    "dl_test = catalog.test.get_dataloader()"
   ]
  },
  {
   "cell_type": "markdown",
   "id": "fd5e1779",
   "metadata": {},
   "source": [
    "Now, we initialize the model."
   ]
  },
  {
   "cell_type": "code",
   "execution_count": 20,
   "id": "23165294",
   "metadata": {
    "ExecuteTime": {
     "end_time": "2022-03-02T14:07:23.470991Z",
     "start_time": "2022-03-02T14:07:23.429872Z"
    }
   },
   "outputs": [],
   "source": [
    "model = eq.models.RecurrentTPP_Attention()"
   ]
  },
  {
   "cell_type": "markdown",
   "id": "c531f9b5",
   "metadata": {},
   "source": [
    "`pytorch_lightning.Trainer` takes care of training the model, early stopping and saving the best weights.\n",
    "\n",
    "In this toy example, we set `max_epochs=200` and `patience=20` to get to the results more quickly.\n",
    "\n",
    "In the experiments in the paper, we trained the models for longer with `max_epochs=1500` and `patience=200`."
   ]
  },
  {
   "cell_type": "code",
   "execution_count": 21,
   "id": "769f98d7",
   "metadata": {
    "ExecuteTime": {
     "end_time": "2022-03-02T14:07:43.077087Z",
     "start_time": "2022-03-02T14:07:43.022854Z"
    }
   },
   "outputs": [
    {
     "name": "stderr",
     "output_type": "stream",
     "text": [
      "GPU available: True (cuda), used: True\n",
      "TPU available: False, using: 0 TPU cores\n",
      "IPU available: False, using: 0 IPUs\n",
      "HPU available: False, using: 0 HPUs\n"
     ]
    }
   ],
   "source": [
    "# ModelCheckpoints saves the model with the best validation loss\n",
    "checkpoint = pl_callbacks.ModelCheckpoint(monitor=\"val_loss\")\n",
    "\n",
    "# EarlyStopping stops training if the validation loss doesn't improve by more than 1e-3 for 20 epochs\n",
    "early_stopping = pl_callbacks.EarlyStopping(monitor=\"val_loss\", patience=20, min_delta=1e-3)\n",
    "\n",
    "# num_gpus = int(torch.cuda.is_available())  # equals to 1 if GPU is available, 0 otherwise\n",
    "trainer = pl.Trainer(accelerator=\"gpu\", devices=1, max_epochs=200, callbacks=[checkpoint, early_stopping])\n",
    "# I think I can train on multiple gpus, but for now I just focus on training on a single gpu\n",
    "# It seems that there is dataracing when I try to use multiple gpus"
   ]
  },
  {
   "cell_type": "code",
   "execution_count": 22,
   "id": "4a0fbddc",
   "metadata": {
    "ExecuteTime": {
     "end_time": "2022-03-02T14:09:32.883383Z",
     "start_time": "2022-03-02T14:07:44.656872Z"
    }
   },
   "outputs": [
    {
     "name": "stderr",
     "output_type": "stream",
     "text": [
      "LOCAL_RANK: 0 - CUDA_VISIBLE_DEVICES: [0,1,2]\n",
      "\n",
      "  | Name           | Type               | Params\n",
      "------------------------------------------------------\n",
      "0 | hypernet_time  | Linear             | 3.2 K \n",
      "1 | hypernet_mag   | Linear             | 33    \n",
      "2 | rnn            | GRU                | 3.5 K \n",
      "3 | dropout        | Dropout            | 0     \n",
      "4 | multihead_attn | MultiheadAttention | 4.2 K \n",
      "------------------------------------------------------\n",
      "10.9 K    Trainable params\n",
      "0         Non-trainable params\n",
      "10.9 K    Total params\n",
      "0.044     Total estimated model params size (MB)\n"
     ]
    },
    {
     "data": {
      "application/vnd.jupyter.widget-view+json": {
       "model_id": "3e3cbd8eda8f4e13b957631a3516108b",
       "version_major": 2,
       "version_minor": 0
      },
      "text/plain": [
       "Sanity Checking: 0it [00:00, ?it/s]"
      ]
     },
     "metadata": {},
     "output_type": "display_data"
    },
    {
     "ename": "Exception",
     "evalue": "<class 'tuple'>,2",
     "output_type": "error",
     "traceback": [
      "\u001b[0;31m---------------------------------------------------------------------------\u001b[0m",
      "\u001b[0;31mException\u001b[0m                                 Traceback (most recent call last)",
      "\u001b[1;32m/home/gcl/RA/zekai.wang/recast/notebooks/1. Training the model for testing Attention.ipynb Cell 22\u001b[0m line \u001b[0;36m1\n\u001b[0;32m----> <a href='vscode-notebook-cell://ssh-remote%2Bsuture.geo.berkeley.edu/home/gcl/RA/zekai.wang/recast/notebooks/1.%20Training%20the%20model%20for%20testing%20Attention.ipynb#X30sdnNjb2RlLXJlbW90ZQ%3D%3D?line=0'>1</a>\u001b[0m trainer\u001b[39m.\u001b[39mfit(model, dl_train, dl_val)\n",
      "File \u001b[0;32m~/miniconda3/envs/eq/lib/python3.11/site-packages/pytorch_lightning/trainer/trainer.py:532\u001b[0m, in \u001b[0;36mTrainer.fit\u001b[0;34m(self, model, train_dataloaders, val_dataloaders, datamodule, ckpt_path)\u001b[0m\n\u001b[1;32m    530\u001b[0m \u001b[39mself\u001b[39m\u001b[39m.\u001b[39mstrategy\u001b[39m.\u001b[39m_lightning_module \u001b[39m=\u001b[39m model\n\u001b[1;32m    531\u001b[0m _verify_strategy_supports_compile(model, \u001b[39mself\u001b[39m\u001b[39m.\u001b[39mstrategy)\n\u001b[0;32m--> 532\u001b[0m call\u001b[39m.\u001b[39m_call_and_handle_interrupt(\n\u001b[1;32m    533\u001b[0m     \u001b[39mself\u001b[39m, \u001b[39mself\u001b[39m\u001b[39m.\u001b[39m_fit_impl, model, train_dataloaders, val_dataloaders, datamodule, ckpt_path\n\u001b[1;32m    534\u001b[0m )\n",
      "File \u001b[0;32m~/miniconda3/envs/eq/lib/python3.11/site-packages/pytorch_lightning/trainer/call.py:43\u001b[0m, in \u001b[0;36m_call_and_handle_interrupt\u001b[0;34m(trainer, trainer_fn, *args, **kwargs)\u001b[0m\n\u001b[1;32m     41\u001b[0m     \u001b[39mif\u001b[39;00m trainer\u001b[39m.\u001b[39mstrategy\u001b[39m.\u001b[39mlauncher \u001b[39mis\u001b[39;00m \u001b[39mnot\u001b[39;00m \u001b[39mNone\u001b[39;00m:\n\u001b[1;32m     42\u001b[0m         \u001b[39mreturn\u001b[39;00m trainer\u001b[39m.\u001b[39mstrategy\u001b[39m.\u001b[39mlauncher\u001b[39m.\u001b[39mlaunch(trainer_fn, \u001b[39m*\u001b[39margs, trainer\u001b[39m=\u001b[39mtrainer, \u001b[39m*\u001b[39m\u001b[39m*\u001b[39mkwargs)\n\u001b[0;32m---> 43\u001b[0m     \u001b[39mreturn\u001b[39;00m trainer_fn(\u001b[39m*\u001b[39margs, \u001b[39m*\u001b[39m\u001b[39m*\u001b[39mkwargs)\n\u001b[1;32m     45\u001b[0m \u001b[39mexcept\u001b[39;00m _TunerExitException:\n\u001b[1;32m     46\u001b[0m     _call_teardown_hook(trainer)\n",
      "File \u001b[0;32m~/miniconda3/envs/eq/lib/python3.11/site-packages/pytorch_lightning/trainer/trainer.py:571\u001b[0m, in \u001b[0;36mTrainer._fit_impl\u001b[0;34m(self, model, train_dataloaders, val_dataloaders, datamodule, ckpt_path)\u001b[0m\n\u001b[1;32m    561\u001b[0m \u001b[39mself\u001b[39m\u001b[39m.\u001b[39m_data_connector\u001b[39m.\u001b[39mattach_data(\n\u001b[1;32m    562\u001b[0m     model, train_dataloaders\u001b[39m=\u001b[39mtrain_dataloaders, val_dataloaders\u001b[39m=\u001b[39mval_dataloaders, datamodule\u001b[39m=\u001b[39mdatamodule\n\u001b[1;32m    563\u001b[0m )\n\u001b[1;32m    565\u001b[0m ckpt_path \u001b[39m=\u001b[39m \u001b[39mself\u001b[39m\u001b[39m.\u001b[39m_checkpoint_connector\u001b[39m.\u001b[39m_select_ckpt_path(\n\u001b[1;32m    566\u001b[0m     \u001b[39mself\u001b[39m\u001b[39m.\u001b[39mstate\u001b[39m.\u001b[39mfn,\n\u001b[1;32m    567\u001b[0m     ckpt_path,\n\u001b[1;32m    568\u001b[0m     model_provided\u001b[39m=\u001b[39m\u001b[39mTrue\u001b[39;00m,\n\u001b[1;32m    569\u001b[0m     model_connected\u001b[39m=\u001b[39m\u001b[39mself\u001b[39m\u001b[39m.\u001b[39mlightning_module \u001b[39mis\u001b[39;00m \u001b[39mnot\u001b[39;00m \u001b[39mNone\u001b[39;00m,\n\u001b[1;32m    570\u001b[0m )\n\u001b[0;32m--> 571\u001b[0m \u001b[39mself\u001b[39m\u001b[39m.\u001b[39m_run(model, ckpt_path\u001b[39m=\u001b[39mckpt_path)\n\u001b[1;32m    573\u001b[0m \u001b[39massert\u001b[39;00m \u001b[39mself\u001b[39m\u001b[39m.\u001b[39mstate\u001b[39m.\u001b[39mstopped\n\u001b[1;32m    574\u001b[0m \u001b[39mself\u001b[39m\u001b[39m.\u001b[39mtraining \u001b[39m=\u001b[39m \u001b[39mFalse\u001b[39;00m\n",
      "File \u001b[0;32m~/miniconda3/envs/eq/lib/python3.11/site-packages/pytorch_lightning/trainer/trainer.py:980\u001b[0m, in \u001b[0;36mTrainer._run\u001b[0;34m(self, model, ckpt_path)\u001b[0m\n\u001b[1;32m    975\u001b[0m \u001b[39mself\u001b[39m\u001b[39m.\u001b[39m_signal_connector\u001b[39m.\u001b[39mregister_signal_handlers()\n\u001b[1;32m    977\u001b[0m \u001b[39m# ----------------------------\u001b[39;00m\n\u001b[1;32m    978\u001b[0m \u001b[39m# RUN THE TRAINER\u001b[39;00m\n\u001b[1;32m    979\u001b[0m \u001b[39m# ----------------------------\u001b[39;00m\n\u001b[0;32m--> 980\u001b[0m results \u001b[39m=\u001b[39m \u001b[39mself\u001b[39m\u001b[39m.\u001b[39m_run_stage()\n\u001b[1;32m    982\u001b[0m \u001b[39m# ----------------------------\u001b[39;00m\n\u001b[1;32m    983\u001b[0m \u001b[39m# POST-Training CLEAN UP\u001b[39;00m\n\u001b[1;32m    984\u001b[0m \u001b[39m# ----------------------------\u001b[39;00m\n\u001b[1;32m    985\u001b[0m log\u001b[39m.\u001b[39mdebug(\u001b[39mf\u001b[39m\u001b[39m\"\u001b[39m\u001b[39m{\u001b[39;00m\u001b[39mself\u001b[39m\u001b[39m.\u001b[39m\u001b[39m__class__\u001b[39m\u001b[39m.\u001b[39m\u001b[39m__name__\u001b[39m\u001b[39m}\u001b[39;00m\u001b[39m: trainer tearing down\u001b[39m\u001b[39m\"\u001b[39m)\n",
      "File \u001b[0;32m~/miniconda3/envs/eq/lib/python3.11/site-packages/pytorch_lightning/trainer/trainer.py:1021\u001b[0m, in \u001b[0;36mTrainer._run_stage\u001b[0;34m(self)\u001b[0m\n\u001b[1;32m   1019\u001b[0m \u001b[39mif\u001b[39;00m \u001b[39mself\u001b[39m\u001b[39m.\u001b[39mtraining:\n\u001b[1;32m   1020\u001b[0m     \u001b[39mwith\u001b[39;00m isolate_rng():\n\u001b[0;32m-> 1021\u001b[0m         \u001b[39mself\u001b[39m\u001b[39m.\u001b[39m_run_sanity_check()\n\u001b[1;32m   1022\u001b[0m     \u001b[39mwith\u001b[39;00m torch\u001b[39m.\u001b[39mautograd\u001b[39m.\u001b[39mset_detect_anomaly(\u001b[39mself\u001b[39m\u001b[39m.\u001b[39m_detect_anomaly):\n\u001b[1;32m   1023\u001b[0m         \u001b[39mself\u001b[39m\u001b[39m.\u001b[39mfit_loop\u001b[39m.\u001b[39mrun()\n",
      "File \u001b[0;32m~/miniconda3/envs/eq/lib/python3.11/site-packages/pytorch_lightning/trainer/trainer.py:1050\u001b[0m, in \u001b[0;36mTrainer._run_sanity_check\u001b[0;34m(self)\u001b[0m\n\u001b[1;32m   1047\u001b[0m call\u001b[39m.\u001b[39m_call_callback_hooks(\u001b[39mself\u001b[39m, \u001b[39m\"\u001b[39m\u001b[39mon_sanity_check_start\u001b[39m\u001b[39m\"\u001b[39m)\n\u001b[1;32m   1049\u001b[0m \u001b[39m# run eval step\u001b[39;00m\n\u001b[0;32m-> 1050\u001b[0m val_loop\u001b[39m.\u001b[39mrun()\n\u001b[1;32m   1052\u001b[0m call\u001b[39m.\u001b[39m_call_callback_hooks(\u001b[39mself\u001b[39m, \u001b[39m\"\u001b[39m\u001b[39mon_sanity_check_end\u001b[39m\u001b[39m\"\u001b[39m)\n\u001b[1;32m   1054\u001b[0m \u001b[39m# reset logger connector\u001b[39;00m\n",
      "File \u001b[0;32m~/miniconda3/envs/eq/lib/python3.11/site-packages/pytorch_lightning/loops/utilities.py:181\u001b[0m, in \u001b[0;36m_no_grad_context.<locals>._decorator\u001b[0;34m(self, *args, **kwargs)\u001b[0m\n\u001b[1;32m    179\u001b[0m     context_manager \u001b[39m=\u001b[39m torch\u001b[39m.\u001b[39mno_grad\n\u001b[1;32m    180\u001b[0m \u001b[39mwith\u001b[39;00m context_manager():\n\u001b[0;32m--> 181\u001b[0m     \u001b[39mreturn\u001b[39;00m loop_run(\u001b[39mself\u001b[39m, \u001b[39m*\u001b[39margs, \u001b[39m*\u001b[39m\u001b[39m*\u001b[39mkwargs)\n",
      "File \u001b[0;32m~/miniconda3/envs/eq/lib/python3.11/site-packages/pytorch_lightning/loops/evaluation_loop.py:115\u001b[0m, in \u001b[0;36m_EvaluationLoop.run\u001b[0;34m(self)\u001b[0m\n\u001b[1;32m    113\u001b[0m     previous_dataloader_idx \u001b[39m=\u001b[39m dataloader_idx\n\u001b[1;32m    114\u001b[0m     \u001b[39m# run step hooks\u001b[39;00m\n\u001b[0;32m--> 115\u001b[0m     \u001b[39mself\u001b[39m\u001b[39m.\u001b[39m_evaluation_step(batch, batch_idx, dataloader_idx)\n\u001b[1;32m    116\u001b[0m \u001b[39mexcept\u001b[39;00m \u001b[39mStopIteration\u001b[39;00m:\n\u001b[1;32m    117\u001b[0m     \u001b[39m# this needs to wrap the `*_step` call too (not just `next`) for `dataloader_iter` support\u001b[39;00m\n\u001b[1;32m    118\u001b[0m     \u001b[39mbreak\u001b[39;00m\n",
      "File \u001b[0;32m~/miniconda3/envs/eq/lib/python3.11/site-packages/pytorch_lightning/loops/evaluation_loop.py:376\u001b[0m, in \u001b[0;36m_EvaluationLoop._evaluation_step\u001b[0;34m(self, batch, batch_idx, dataloader_idx)\u001b[0m\n\u001b[1;32m    373\u001b[0m \u001b[39mself\u001b[39m\u001b[39m.\u001b[39mbatch_progress\u001b[39m.\u001b[39mincrement_started()\n\u001b[1;32m    375\u001b[0m hook_name \u001b[39m=\u001b[39m \u001b[39m\"\u001b[39m\u001b[39mtest_step\u001b[39m\u001b[39m\"\u001b[39m \u001b[39mif\u001b[39;00m trainer\u001b[39m.\u001b[39mtesting \u001b[39melse\u001b[39;00m \u001b[39m\"\u001b[39m\u001b[39mvalidation_step\u001b[39m\u001b[39m\"\u001b[39m\n\u001b[0;32m--> 376\u001b[0m output \u001b[39m=\u001b[39m call\u001b[39m.\u001b[39m_call_strategy_hook(trainer, hook_name, \u001b[39m*\u001b[39mstep_kwargs\u001b[39m.\u001b[39mvalues())\n\u001b[1;32m    378\u001b[0m \u001b[39mself\u001b[39m\u001b[39m.\u001b[39mbatch_progress\u001b[39m.\u001b[39mincrement_processed()\n\u001b[1;32m    380\u001b[0m hook_name \u001b[39m=\u001b[39m \u001b[39m\"\u001b[39m\u001b[39mon_test_batch_end\u001b[39m\u001b[39m\"\u001b[39m \u001b[39mif\u001b[39;00m trainer\u001b[39m.\u001b[39mtesting \u001b[39melse\u001b[39;00m \u001b[39m\"\u001b[39m\u001b[39mon_validation_batch_end\u001b[39m\u001b[39m\"\u001b[39m\n",
      "File \u001b[0;32m~/miniconda3/envs/eq/lib/python3.11/site-packages/pytorch_lightning/trainer/call.py:294\u001b[0m, in \u001b[0;36m_call_strategy_hook\u001b[0;34m(trainer, hook_name, *args, **kwargs)\u001b[0m\n\u001b[1;32m    291\u001b[0m     \u001b[39mreturn\u001b[39;00m \u001b[39mNone\u001b[39;00m\n\u001b[1;32m    293\u001b[0m \u001b[39mwith\u001b[39;00m trainer\u001b[39m.\u001b[39mprofiler\u001b[39m.\u001b[39mprofile(\u001b[39mf\u001b[39m\u001b[39m\"\u001b[39m\u001b[39m[Strategy]\u001b[39m\u001b[39m{\u001b[39;00mtrainer\u001b[39m.\u001b[39mstrategy\u001b[39m.\u001b[39m\u001b[39m__class__\u001b[39m\u001b[39m.\u001b[39m\u001b[39m__name__\u001b[39m\u001b[39m}\u001b[39;00m\u001b[39m.\u001b[39m\u001b[39m{\u001b[39;00mhook_name\u001b[39m}\u001b[39;00m\u001b[39m\"\u001b[39m):\n\u001b[0;32m--> 294\u001b[0m     output \u001b[39m=\u001b[39m fn(\u001b[39m*\u001b[39margs, \u001b[39m*\u001b[39m\u001b[39m*\u001b[39mkwargs)\n\u001b[1;32m    296\u001b[0m \u001b[39m# restore current_fx when nested context\u001b[39;00m\n\u001b[1;32m    297\u001b[0m pl_module\u001b[39m.\u001b[39m_current_fx_name \u001b[39m=\u001b[39m prev_fx_name\n",
      "File \u001b[0;32m~/miniconda3/envs/eq/lib/python3.11/site-packages/pytorch_lightning/strategies/strategy.py:393\u001b[0m, in \u001b[0;36mStrategy.validation_step\u001b[0;34m(self, *args, **kwargs)\u001b[0m\n\u001b[1;32m    391\u001b[0m \u001b[39mwith\u001b[39;00m \u001b[39mself\u001b[39m\u001b[39m.\u001b[39mprecision_plugin\u001b[39m.\u001b[39mval_step_context():\n\u001b[1;32m    392\u001b[0m     \u001b[39massert\u001b[39;00m \u001b[39misinstance\u001b[39m(\u001b[39mself\u001b[39m\u001b[39m.\u001b[39mmodel, ValidationStep)\n\u001b[0;32m--> 393\u001b[0m     \u001b[39mreturn\u001b[39;00m \u001b[39mself\u001b[39m\u001b[39m.\u001b[39mmodel\u001b[39m.\u001b[39mvalidation_step(\u001b[39m*\u001b[39margs, \u001b[39m*\u001b[39m\u001b[39m*\u001b[39mkwargs)\n",
      "File \u001b[0;32m~/recast/eq/models/tpp_model.py:89\u001b[0m, in \u001b[0;36mTPPModel.validation_step\u001b[0;34m(self, batch, batch_idx)\u001b[0m\n\u001b[1;32m     88\u001b[0m \u001b[39mdef\u001b[39;00m \u001b[39mvalidation_step\u001b[39m(\u001b[39mself\u001b[39m, batch, batch_idx):\n\u001b[0;32m---> 89\u001b[0m     total_loss \u001b[39m=\u001b[39m \u001b[39mself\u001b[39m\u001b[39m.\u001b[39mstep(batch, \u001b[39m\"\u001b[39m\u001b[39mval\u001b[39m\u001b[39m\"\u001b[39m, no_grad\u001b[39m=\u001b[39m\u001b[39mTrue\u001b[39;00m)\n\u001b[1;32m     90\u001b[0m     \u001b[39mreturn\u001b[39;00m total_loss\n",
      "File \u001b[0;32m~/recast/eq/models/tpp_model.py:98\u001b[0m, in \u001b[0;36mTPPModel.step\u001b[0;34m(self, batch, prefix, no_grad)\u001b[0m\n\u001b[1;32m     96\u001b[0m \u001b[39mdef\u001b[39;00m \u001b[39mstep\u001b[39m(\u001b[39mself\u001b[39m, batch, prefix, no_grad\u001b[39m=\u001b[39m\u001b[39mFalse\u001b[39;00m):\n\u001b[1;32m     97\u001b[0m     \u001b[39mwith\u001b[39;00m torch\u001b[39m.\u001b[39mno_grad() \u001b[39mif\u001b[39;00m no_grad \u001b[39melse\u001b[39;00m nullcontext():\n\u001b[0;32m---> 98\u001b[0m         loss \u001b[39m=\u001b[39m \u001b[39mself\u001b[39m\u001b[39m.\u001b[39mnll_loss(batch)\n\u001b[1;32m    100\u001b[0m     \u001b[39mif\u001b[39;00m \u001b[39mtype\u001b[39m(loss) \u001b[39mis\u001b[39;00m \u001b[39mdict\u001b[39m:\n\u001b[1;32m    101\u001b[0m         \u001b[39mfor\u001b[39;00m k, v \u001b[39min\u001b[39;00m loss\u001b[39m.\u001b[39mitems():\n",
      "File \u001b[0;32m~/recast/eq/models/recurrent_attention.py:170\u001b[0m, in \u001b[0;36mRecurrentTPP_Attention.nll_loss\u001b[0;34m(self, batch)\u001b[0m\n\u001b[1;32m    160\u001b[0m \u001b[39mdef\u001b[39;00m \u001b[39mnll_loss\u001b[39m(\u001b[39mself\u001b[39m, batch: eq\u001b[39m.\u001b[39mdata\u001b[39m.\u001b[39mBatch) \u001b[39m-\u001b[39m\u001b[39m>\u001b[39m torch\u001b[39m.\u001b[39mTensor:\n\u001b[1;32m    161\u001b[0m \u001b[39m    \u001b[39m\u001b[39m\"\"\"\u001b[39;00m\n\u001b[1;32m    162\u001b[0m \u001b[39m    Compute negative log-likelihood (NLL) for a batch of event sequences.\u001b[39;00m\n\u001b[1;32m    163\u001b[0m \n\u001b[0;32m   (...)\u001b[0m\n\u001b[1;32m    168\u001b[0m \u001b[39m        nll: NLL of each sequence, shape (batch_size,)\u001b[39;00m\n\u001b[1;32m    169\u001b[0m \u001b[39m    \"\"\"\u001b[39;00m\n\u001b[0;32m--> 170\u001b[0m     context \u001b[39m=\u001b[39m \u001b[39mself\u001b[39m\u001b[39m.\u001b[39mget_context(batch)  \u001b[39m# (B, L, C)\u001b[39;00m\n\u001b[1;32m    171\u001b[0m     \u001b[39m# Inter-event times\u001b[39;00m\n\u001b[1;32m    172\u001b[0m     inter_time_dist \u001b[39m=\u001b[39m \u001b[39mself\u001b[39m\u001b[39m.\u001b[39mget_inter_time_dist(context)\n",
      "File \u001b[0;32m~/recast/eq/models/recurrent_attention.py:125\u001b[0m, in \u001b[0;36mRecurrentTPP_Attention.get_context\u001b[0;34m(self, batch)\u001b[0m\n\u001b[1;32m    123\u001b[0m \u001b[39m# rnn_output = self.rnn(features)[0][:, :-1, :]\u001b[39;00m\n\u001b[1;32m    124\u001b[0m rnn_output \u001b[39m=\u001b[39m \u001b[39mself\u001b[39m\u001b[39m.\u001b[39mrnn(features) \u001b[39m# check size\u001b[39;00m\n\u001b[0;32m--> 125\u001b[0m \u001b[39mraise\u001b[39;00m \u001b[39mException\u001b[39;00m(\u001b[39mf\u001b[39m\u001b[39m\"\u001b[39m\u001b[39m{\u001b[39;00m\u001b[39mtype\u001b[39m(rnn_output)\u001b[39m}\u001b[39;00m\u001b[39m,\u001b[39m\u001b[39m{\u001b[39;00m\u001b[39mlen\u001b[39m(rnn_output)\u001b[39m}\u001b[39;00m\u001b[39m\"\u001b[39m)\n\u001b[1;32m    126\u001b[0m attention_output \u001b[39m=\u001b[39m \u001b[39mself\u001b[39m\u001b[39m.\u001b[39mmultihead_attn\u001b[39m.\u001b[39mforward(rnn_output, rnn_output, rnn_output) \u001b[39m# should be (B, L, C)\u001b[39;00m\n\u001b[1;32m    127\u001b[0m \u001b[39m# see https://stats.stackexchange.com/questions/421935/what-exactly-are-keys-queries-and-values-in-attention-mechanisms#:~:text=The%20short%20answer%20is%20that,K%2C%20V%20are%20first%20introduced.\u001b[39;00m\n\u001b[1;32m    128\u001b[0m \u001b[39m# for a discussion of where to get Q, K, V values. It is possible that we should fetch V differently!\u001b[39;00m\n",
      "\u001b[0;31mException\u001b[0m: <class 'tuple'>,2"
     ]
    }
   ],
   "source": [
    "trainer.fit(model, dl_train, dl_val)"
   ]
  },
  {
   "cell_type": "markdown",
   "id": "21596ba6",
   "metadata": {},
   "source": [
    "## Evaluation"
   ]
  },
  {
   "cell_type": "markdown",
   "id": "9674bfc8",
   "metadata": {},
   "source": [
    "Load the model with the best validation loss"
   ]
  },
  {
   "cell_type": "code",
   "execution_count": null,
   "id": "2482d684",
   "metadata": {
    "ExecuteTime": {
     "end_time": "2022-03-02T14:10:11.104334Z",
     "start_time": "2022-03-02T14:10:11.091793Z"
    },
    "scrolled": true
   },
   "outputs": [],
   "source": [
    "model.load_from_checkpoint(checkpoint.best_model_path)"
   ]
  },
  {
   "cell_type": "markdown",
   "id": "777e851d",
   "metadata": {},
   "source": [
    "After training the model, we compute the loss on the negative log-likelihood (NLL) loss on the test set."
   ]
  },
  {
   "cell_type": "code",
   "execution_count": null,
   "id": "6d9751de",
   "metadata": {
    "ExecuteTime": {
     "end_time": "2022-03-02T14:10:15.487611Z",
     "start_time": "2022-03-02T14:10:14.263614Z"
    }
   },
   "outputs": [],
   "source": [
    "trainer.test(model, dl_test)"
   ]
  },
  {
   "cell_type": "code",
   "execution_count": null,
   "id": "4a2c4785",
   "metadata": {},
   "outputs": [],
   "source": []
  }
 ],
 "metadata": {
  "kernelspec": {
   "display_name": "eq",
   "language": "python",
   "name": "python3"
  },
  "language_info": {
   "codemirror_mode": {
    "name": "ipython",
    "version": 3
   },
   "file_extension": ".py",
   "mimetype": "text/x-python",
   "name": "python",
   "nbconvert_exporter": "python",
   "pygments_lexer": "ipython3",
   "version": "3.11.5"
  },
  "toc": {
   "base_numbering": 1,
   "nav_menu": {},
   "number_sections": true,
   "sideBar": true,
   "skip_h1_title": false,
   "title_cell": "Table of Contents",
   "title_sidebar": "Contents",
   "toc_cell": false,
   "toc_position": {},
   "toc_section_display": true,
   "toc_window_display": false
  }
 },
 "nbformat": 4,
 "nbformat_minor": 5
}
