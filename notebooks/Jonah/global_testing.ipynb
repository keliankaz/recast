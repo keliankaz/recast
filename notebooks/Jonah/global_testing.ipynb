{
 "cells": [
  {
   "cell_type": "code",
   "execution_count": 4,
   "metadata": {},
   "outputs": [
    {
     "ename": "ModuleNotFoundError",
     "evalue": "No module named 'obspy'",
     "output_type": "error",
     "traceback": [
      "\u001b[0;31m---------------------------------------------------------------------------\u001b[0m",
      "\u001b[0;31mModuleNotFoundError\u001b[0m                       Traceback (most recent call last)",
      "Cell \u001b[0;32mIn[4], line 7\u001b[0m\n\u001b[1;32m      4\u001b[0m \u001b[39mimport\u001b[39;00m \u001b[39mnumpy\u001b[39;00m \u001b[39mas\u001b[39;00m \u001b[39mnp\u001b[39;00m\n\u001b[1;32m      5\u001b[0m \u001b[39mimport\u001b[39;00m \u001b[39mmatplotlib\u001b[39;00m\u001b[39m.\u001b[39;00m\u001b[39mpyplot\u001b[39;00m \u001b[39mas\u001b[39;00m \u001b[39mplt\u001b[39;00m\n\u001b[0;32m----> 7\u001b[0m \u001b[39mimport\u001b[39;00m \u001b[39meq\u001b[39;00m\n",
      "File \u001b[0;32m~/Desktop/RECAST/recast/eq/__init__.py:1\u001b[0m\n\u001b[0;32m----> 1\u001b[0m \u001b[39mfrom\u001b[39;00m \u001b[39m.\u001b[39;00m \u001b[39mimport\u001b[39;00m catalogs, data, distributions, experiment_utils, models, visualization\n",
      "File \u001b[0;32m~/Desktop/RECAST/recast/eq/catalogs/__init__.py:6\u001b[0m\n\u001b[1;32m      4\u001b[0m \u001b[39mfrom\u001b[39;00m \u001b[39m.\u001b[39;00m\u001b[39msynthetic_etas\u001b[39;00m \u001b[39mimport\u001b[39;00m ETAS_MultiCatalog, ETAS_SingleCatalog, ToyETAS\n\u001b[1;32m      5\u001b[0m \u001b[39mfrom\u001b[39;00m \u001b[39m.\u001b[39;00m\u001b[39mwhite\u001b[39;00m \u001b[39mimport\u001b[39;00m White\n\u001b[0;32m----> 6\u001b[0m \u001b[39mfrom\u001b[39;00m \u001b[39m.\u001b[39;00m\u001b[39manss\u001b[39;00m \u001b[39mimport\u001b[39;00m ANSS_MultiCatalog\n",
      "File \u001b[0;32m~/Desktop/RECAST/recast/eq/catalogs/anss.py:7\u001b[0m\n\u001b[1;32m      5\u001b[0m \u001b[39mfrom\u001b[39;00m \u001b[39meq\u001b[39;00m\u001b[39m.\u001b[39;00m\u001b[39mdata\u001b[39;00m \u001b[39mimport\u001b[39;00m Catalog, InMemoryDataset, Sequence, default_catalogs_dir\n\u001b[1;32m      6\u001b[0m \u001b[39mimport\u001b[39;00m \u001b[39mpandas\u001b[39;00m \u001b[39mas\u001b[39;00m \u001b[39mpd\u001b[39;00m\n\u001b[0;32m----> 7\u001b[0m \u001b[39mfrom\u001b[39;00m \u001b[39mobspy\u001b[39;00m\u001b[39m.\u001b[39;00m\u001b[39mclients\u001b[39;00m\u001b[39m.\u001b[39;00m\u001b[39mfdsn\u001b[39;00m \u001b[39mimport\u001b[39;00m Client\n\u001b[1;32m      8\u001b[0m \u001b[39mfrom\u001b[39;00m \u001b[39mobspy\u001b[39;00m \u001b[39mimport\u001b[39;00m UTCDateTime\n\u001b[1;32m      9\u001b[0m \u001b[39mimport\u001b[39;00m \u001b[39mdatetime\u001b[39;00m\n",
      "\u001b[0;31mModuleNotFoundError\u001b[0m: No module named 'obspy'"
     ]
    }
   ],
   "source": [
    "import pytorch_lightning as pl\n",
    "import pytorch_lightning.callbacks as pl_callbacks\n",
    "import torch\n",
    "import numpy as np\n",
    "import matplotlib.pyplot as plt\n",
    "\n",
    "import eq"
   ]
  },
  {
   "cell_type": "code",
   "execution_count": null,
   "metadata": {},
   "outputs": [],
   "source": [
    "# !rm -rf /Users/kdascher/Documents/recast_test/recast/data/ANSS_MultiCatalog\n",
    "catalog = eq.catalogs.ANSS_MultiCatalog(    \n",
    "    num_sequences=1000,\n",
    "    t_end_days=1*365,\n",
    "    mag_completeness=4.5,\n",
    "    minimum_mainshock_mag=6.5,\n",
    ")"
   ]
  },
  {
   "cell_type": "code",
   "execution_count": null,
   "metadata": {},
   "outputs": [],
   "source": [
    "catalog"
   ]
  }
 ],
 "metadata": {
  "kernelspec": {
   "display_name": "eq",
   "language": "python",
   "name": "python3"
  },
  "language_info": {
   "codemirror_mode": {
    "name": "ipython",
    "version": 3
   },
   "file_extension": ".py",
   "mimetype": "text/x-python",
   "name": "python",
   "nbconvert_exporter": "python",
   "pygments_lexer": "ipython3",
   "version": "3.9.17"
  },
  "orig_nbformat": 4
 },
 "nbformat": 4,
 "nbformat_minor": 2
}
