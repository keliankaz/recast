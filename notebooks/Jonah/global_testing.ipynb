{
 "cells": [
  {
   "cell_type": "code",
   "execution_count": 1,
   "metadata": {},
   "outputs": [],
   "source": [
    "import pytorch_lightning as pl\n",
    "import pytorch_lightning.callbacks as pl_callbacks\n",
    "import torch\n",
    "import numpy as np\n",
    "import matplotlib.pyplot as plt\n",
    "\n",
    "import eq"
   ]
  },
  {
   "cell_type": "code",
   "execution_count": 3,
   "metadata": {},
   "outputs": [
    {
     "name": "stdout",
     "output_type": "stream",
     "text": [
      "Loading existing catalog from /Users/jonahkoepke/Desktop/RECAST/recast/data/ANSS_MultiCatalog.\n"
     ]
    }
   ],
   "source": [
    "#!rm -rf /Users/kdascher/Documents/recast_test/recast/data/ANSS_MultiCatalog\n",
    "catalog = eq.catalogs.ANSS_MultiCatalog(    \n",
    "    num_sequences=1000,\n",
    "    t_end_days=1*365,\n",
    "    mag_completeness=4.5,\n",
    "    minimum_mainshock_mag=6.5,\n",
    ")"
   ]
  },
  {
   "cell_type": "code",
   "execution_count": 8,
   "metadata": {},
   "outputs": [
    {
     "name": "stdout",
     "output_type": "stream",
     "text": [
      "Train sequence:\n",
      "Sequence(\n",
      "  inter_times: [453],\n",
      "  arrival_times: [452],\n",
      "  t_start: 0.0,\n",
      "  t_end: 365.0,\n",
      "  t_nll_start: 0.0,\n",
      "  mag: [452]\n",
      ")\n",
      "\n",
      "Validation sequence:\n",
      "Sequence(\n",
      "  inter_times: [34],\n",
      "  arrival_times: [33],\n",
      "  t_start: 0.0,\n",
      "  t_end: 365.0,\n",
      "  t_nll_start: 0.0,\n",
      "  mag: [33]\n",
      ")\n",
      "\n",
      "Test sequence:\n",
      "Sequence(\n",
      "  inter_times: [27],\n",
      "  arrival_times: [26],\n",
      "  t_start: 0.0,\n",
      "  t_end: 365.0,\n",
      "  t_nll_start: 0.0,\n",
      "  mag: [26]\n",
      ")\n"
     ]
    }
   ],
   "source": [
    "print(\"Train sequence:\")\n",
    "print(catalog.train[0])\n",
    "print(\"\\nValidation sequence:\")\n",
    "print(catalog.val[0])\n",
    "print(\"\\nTest sequence:\")\n",
    "print(catalog.test[0])"
   ]
  },
  {
   "cell_type": "code",
   "execution_count": null,
   "metadata": {},
   "outputs": [],
   "source": []
  }
 ],
 "metadata": {
  "kernelspec": {
   "display_name": "eq",
   "language": "python",
   "name": "python3"
  },
  "language_info": {
   "codemirror_mode": {
    "name": "ipython",
    "version": 3
   },
   "file_extension": ".py",
   "mimetype": "text/x-python",
   "name": "python",
   "nbconvert_exporter": "python",
   "pygments_lexer": "ipython3",
   "version": "3.9.17"
  },
  "orig_nbformat": 4
 },
 "nbformat": 4,
 "nbformat_minor": 2
}
