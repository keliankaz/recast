{
 "cells": [
  {
   "cell_type": "code",
   "execution_count": 1,
   "metadata": {},
   "outputs": [],
   "source": [
    "import pytorch_lightning as pl\n",
    "import pytorch_lightning.callbacks as pl_callbacks\n",
    "import torch\n",
    "import numpy as np\n",
    "import matplotlib.pyplot as plt\n",
    "from tqdm import tqdm\n",
    "import eq\n",
    "\n",
    "from eq.catalogs.ANSS_SCEDC_COMBINED import CombinedCatalog\n",
    "\n",
    "from eq.data import Catalog, InMemoryDataset, Sequence, default_catalogs_dir"
   ]
  },
  {
   "cell_type": "code",
   "execution_count": 2,
   "metadata": {},
   "outputs": [
    {
     "name": "stdout",
     "output_type": "stream",
     "text": [
      "Loading existing catalog from /home/gcl/RA/jonahk/recast/data/ANSS_MultiCatalog.\n",
      "Loading existing catalog from /home/gcl/RA/jonahk/recast/data/SCEDC.\n",
      "Loading existing catalog from /home/gcl/RA/jonahk/recast/data/White.\n",
      "Loading existing catalog from /home/gcl/RA/jonahk/recast/data/QTMSaltonSea.\n"
     ]
    },
    {
     "name": "stderr",
     "output_type": "stream",
     "text": [
      "/home/gcl/RA/jonahk/recast/eq/data/sequence.py:213: UserWarning: Found 1 zero inter-event times in the sequence. This violates fundamental assumptions of TPP models and may lead to incorrect log-likelihood values.\n",
      "  warnings.warn(\n"
     ]
    }
   ],
   "source": [
    "catalogs = []\n",
    "anss = eq.catalogs.ANSS_MultiCatalog(    \n",
    "    num_sequences=5,\n",
    "    t_end_days=1*365,\n",
    "    mag_completeness=4.5,\n",
    "    minimum_mainshock_mag=6.0,\n",
    "    include_depth=False\n",
    ")\n",
    "catalogs.append(anss)\n",
    "scedc = eq.catalogs.SCEDC()\n",
    "catalogs.append(scedc)\n",
    "white = eq.catalogs.White()\n",
    "catalogs.append(white)\n",
    "qtm = eq.catalogs.QTMSaltonSea()\n",
    "catalogs.append(qtm)"
   ]
  },
  {
   "cell_type": "code",
   "execution_count": 3,
   "metadata": {},
   "outputs": [
    {
     "data": {
      "text/plain": [
       "'ANSS_MultiCatalog'"
      ]
     },
     "execution_count": 3,
     "metadata": {},
     "output_type": "execute_result"
    }
   ],
   "source": [
    "str(anss.metadata['name'])"
   ]
  },
  {
   "cell_type": "code",
   "execution_count": 4,
   "metadata": {},
   "outputs": [
    {
     "name": "stdout",
     "output_type": "stream",
     "text": [
      "Loading existing catalog from /home/gcl/RA/jonahk/recast/notebooks/Jonah/combined.\n"
     ]
    }
   ],
   "source": [
    "combined_catalog = CombinedCatalog(catalogs)"
   ]
  },
  {
   "cell_type": "code",
   "execution_count": 8,
   "metadata": {},
   "outputs": [
    {
     "data": {
      "text/plain": [
       "[Sequence(\n",
       "   inter_times: [112],\n",
       "   arrival_times: [111],\n",
       "   t_start: 0.0,\n",
       "   t_end: 365.0,\n",
       "   t_nll_start: 0.0,\n",
       "   mag: [111],\n",
       "   mag_bounds: [2],\n",
       "   mag_nll_bounds: [2],\n",
       "   extra_feat: [111]\n",
       " ),\n",
       " Sequence(\n",
       "   inter_times: [90],\n",
       "   arrival_times: [89],\n",
       "   t_start: 0.0,\n",
       "   t_end: 365.0,\n",
       "   t_nll_start: 0.0,\n",
       "   mag: [89],\n",
       "   mag_bounds: [2],\n",
       "   mag_nll_bounds: [2],\n",
       "   extra_feat: [89]\n",
       " ),\n",
       " Sequence(\n",
       "   inter_times: [800],\n",
       "   arrival_times: [799],\n",
       "   t_start: 0.0,\n",
       "   t_end: 365.0,\n",
       "   t_nll_start: 0.0,\n",
       "   mag: [799],\n",
       "   mag_bounds: [2],\n",
       "   mag_nll_bounds: [2],\n",
       "   extra_feat: [799]\n",
       " ),\n",
       " Sequence(\n",
       "   inter_times: [89950],\n",
       "   arrival_times: [89949],\n",
       "   t_start: 0.0,\n",
       "   t_end: 8766.0,\n",
       "   t_nll_start: 1461.0,\n",
       "   mag: [89949],\n",
       "   mag_bounds: [2],\n",
       "   mag_nll_bounds: [2]\n",
       " ),\n",
       " Sequence(\n",
       "   inter_times: [52613],\n",
       "   arrival_times: [52612],\n",
       "   t_start: 0.0,\n",
       "   t_end: 2192.0,\n",
       "   t_nll_start: 366.0,\n",
       "   mag: [52612],\n",
       "   mag_bounds: [2],\n",
       "   mag_nll_bounds: [2]\n",
       " ),\n",
       " Sequence(\n",
       "   inter_times: [37483],\n",
       "   arrival_times: [37482],\n",
       "   t_start: 0.0,\n",
       "   t_end: 2192.0,\n",
       "   t_nll_start: 366.0,\n",
       "   mag: [37482]\n",
       " )]"
      ]
     },
     "execution_count": 8,
     "metadata": {},
     "output_type": "execute_result"
    }
   ],
   "source": [
    "combined_catalog.combined_info['combined_train'].sequences"
   ]
  },
  {
   "cell_type": "code",
   "execution_count": null,
   "metadata": {},
   "outputs": [],
   "source": []
  }
 ],
 "metadata": {
  "kernelspec": {
   "display_name": "DS-discovery",
   "language": "python",
   "name": "python3"
  },
  "language_info": {
   "codemirror_mode": {
    "name": "ipython",
    "version": 3
   },
   "file_extension": ".py",
   "mimetype": "text/x-python",
   "name": "python",
   "nbconvert_exporter": "python",
   "pygments_lexer": "ipython3",
   "version": "3.11.5"
  },
  "orig_nbformat": 4
 },
 "nbformat": 4,
 "nbformat_minor": 2
}
