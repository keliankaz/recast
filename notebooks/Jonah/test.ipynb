{
 "cells": [
  {
   "cell_type": "code",
   "execution_count": 11,
   "metadata": {},
   "outputs": [],
   "source": [
    "import pytorch_lightning as pl\n",
    "import pytorch_lightning.callbacks as pl_callbacks\n",
    "import torch\n",
    "import numpy as np\n",
    "import matplotlib.pyplot as plt\n",
    "from tqdm import tqdm\n",
    "import eq\n",
    "\n",
    "from eq.catalogs.ANSS_SCEDC_COMBINED import CombinedCatalog\n",
    "\n",
    "from eq.data import Catalog, InMemoryDataset, Sequence, default_catalogs_dir"
   ]
  },
  {
   "cell_type": "code",
   "execution_count": 14,
   "metadata": {},
   "outputs": [
    {
     "name": "stdout",
     "output_type": "stream",
     "text": [
      "Loading existing catalog from /home/gcl/RA/jonahk/recast/notebooks/Jonah/combined_catalog.\n",
      "Loading existing catalog from /home/gcl/RA/jonahk/recast/data/SCEDC.\n",
      "Generating the catalog...\n",
      "Downloading...\n",
      "train\n"
     ]
    },
    {
     "name": "stderr",
     "output_type": "stream",
     "text": [
      "100%|██████████| 60/60 [00:00<00:00, 422.19it/s]\n"
     ]
    },
    {
     "name": "stdout",
     "output_type": "stream",
     "text": [
      "val\n"
     ]
    },
    {
     "name": "stderr",
     "output_type": "stream",
     "text": [
      "100%|██████████| 20/20 [00:00<00:00, 439.99it/s]\n"
     ]
    },
    {
     "name": "stdout",
     "output_type": "stream",
     "text": [
      "test\n"
     ]
    },
    {
     "name": "stderr",
     "output_type": "stream",
     "text": [
      "100%|██████████| 20/20 [00:00<00:00, 442.27it/s]\n"
     ]
    },
    {
     "name": "stdout",
     "output_type": "stream",
     "text": [
      "Success!\n",
      "Catalog saved to /home/gcl/RA/jonahk/recast/data/ANSS_MultiCatalog\n"
     ]
    }
   ],
   "source": [
    "combined_catalog = CombinedCatalog(root_dir=\"combined_catalog\")"
   ]
  },
  {
   "cell_type": "code",
   "execution_count": 23,
   "metadata": {},
   "outputs": [
    {
     "data": {
      "text/plain": [
       "tensor([5.8000, 5.0000, 6.0000, 5.0000, 5.1000, 5.4000, 5.5000, 5.1000, 5.0000,\n",
       "        5.1000, 5.1000, 5.3000, 5.3000, 5.0000, 6.1000, 5.3000, 7.3000, 5.5000,\n",
       "        5.2000, 5.0000, 7.7000, 5.8000, 5.8000, 5.4000, 7.5000, 6.6000, 5.1000,\n",
       "        5.1000, 5.3000, 5.0000, 5.4000, 6.6000, 5.5000, 6.3000, 5.2000, 5.0000,\n",
       "        5.1000, 5.0000, 5.3000, 5.1000, 5.3000, 5.0000, 5.2000, 5.2000, 5.0000,\n",
       "        5.0000, 5.0000, 5.0000, 5.0000, 5.2000, 5.3000, 5.1000, 6.2000, 5.2000,\n",
       "        5.0000, 5.1000, 5.8000, 5.2000, 5.3000, 5.1000, 5.0000, 5.8000, 5.3000,\n",
       "        5.5000, 5.2000, 5.6000, 5.2000, 5.9000, 5.1000, 5.6000, 5.1000, 5.0000,\n",
       "        5.1000, 5.0000, 5.7000, 5.0000, 5.3000, 5.0000, 5.0000, 6.5000, 6.5000,\n",
       "        5.8000, 5.0000, 5.2000, 5.4000, 5.5000, 5.0000, 5.0000, 5.5000, 5.0000,\n",
       "        5.6000, 5.8000, 5.0000, 5.2000, 5.0000, 5.0000, 5.3000, 5.1000, 5.0000,\n",
       "        5.0000, 5.1000, 5.5000, 5.1000, 5.7000, 5.3000, 5.1000])"
      ]
     },
     "execution_count": 23,
     "metadata": {},
     "output_type": "execute_result"
    }
   ],
   "source": [
    "combined_catalog.val[4].mag"
   ]
  },
  {
   "cell_type": "code",
   "execution_count": null,
   "metadata": {},
   "outputs": [],
   "source": []
  }
 ],
 "metadata": {
  "kernelspec": {
   "display_name": "DS-discovery",
   "language": "python",
   "name": "python3"
  },
  "language_info": {
   "codemirror_mode": {
    "name": "ipython",
    "version": 3
   },
   "file_extension": ".py",
   "mimetype": "text/x-python",
   "name": "python",
   "nbconvert_exporter": "python",
   "pygments_lexer": "ipython3",
   "version": "3.11.5"
  },
  "orig_nbformat": 4
 },
 "nbformat": 4,
 "nbformat_minor": 2
}
